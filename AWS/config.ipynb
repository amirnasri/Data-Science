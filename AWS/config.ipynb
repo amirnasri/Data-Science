## Configuring AWS:
The username and password that is provided after signing up with AWS is similar to a root user that can access and 
modify anything in the account, e.g., adding resouces, changing billing information. To create regular users with limited access
we need to create Identity and Access Management (IAM) accouts.
