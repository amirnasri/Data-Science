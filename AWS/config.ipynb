{
 "cells": [
  {
   "cell_type": "markdown",
   "metadata": {},
   "source": [
    "## AWS configuration:\n",
    "---\n",
    "The user provided after registering for AWS is similar to root user with unfethered access to all the resouces.\n",
    "IAM is a way to create regular users with limited access.\n",
    "\n",
    "### Creating an IAM user:\n",
    "---\n",
    "With IAM you can create users with access to specific resouces. For example, a user that can create EC2 instances\n",
    "but does have access to S3.\n",
    "\n",
    "To create an IAM user:\n",
    "1. From the dashboard go to Identity & Access Management.\n",
    "2. Create a new user."
   ]
  }
 ],
 "metadata": {
  "kernelspec": {
   "display_name": "Python 2",
   "language": "python",
   "name": "python2"
  },
  "language_info": {
   "codemirror_mode": {
    "name": "ipython",
    "version": 2
   },
   "file_extension": ".py",
   "mimetype": "text/x-python",
   "name": "python",
   "nbconvert_exporter": "python",
   "pygments_lexer": "ipython2",
   "version": "2.7.12"
  }
 },
 "nbformat": 4,
 "nbformat_minor": 2
}
