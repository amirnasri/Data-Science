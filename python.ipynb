{
 "cells": [
  {
   "cell_type": "markdown",
   "metadata": {},
   "source": [
    "### Stacking dataframes on top of one another (similar to vstack):"
   ]
  },
  {
   "cell_type": "code",
   "execution_count": 6,
   "metadata": {
    "collapsed": false
   },
   "outputs": [
    {
     "data": {
      "text/html": [
       "<div>\n",
       "<table border=\"1\" class=\"dataframe\">\n",
       "  <thead>\n",
       "    <tr style=\"text-align: right;\">\n",
       "      <th></th>\n",
       "      <th>0</th>\n",
       "      <th>1</th>\n",
       "      <th>2</th>\n",
       "      <th>3</th>\n",
       "    </tr>\n",
       "  </thead>\n",
       "  <tbody>\n",
       "    <tr>\n",
       "      <th>0</th>\n",
       "      <td>0.527440</td>\n",
       "      <td>0.641283</td>\n",
       "      <td>0.506150</td>\n",
       "      <td>0.489345</td>\n",
       "    </tr>\n",
       "    <tr>\n",
       "      <th>1</th>\n",
       "      <td>0.977062</td>\n",
       "      <td>0.589091</td>\n",
       "      <td>0.752786</td>\n",
       "      <td>0.106942</td>\n",
       "    </tr>\n",
       "    <tr>\n",
       "      <th>2</th>\n",
       "      <td>0.527440</td>\n",
       "      <td>0.641283</td>\n",
       "      <td>0.506150</td>\n",
       "      <td>0.489345</td>\n",
       "    </tr>\n",
       "    <tr>\n",
       "      <th>3</th>\n",
       "      <td>0.977062</td>\n",
       "      <td>0.589091</td>\n",
       "      <td>0.752786</td>\n",
       "      <td>0.106942</td>\n",
       "    </tr>\n",
       "    <tr>\n",
       "      <th>4</th>\n",
       "      <td>0.527440</td>\n",
       "      <td>0.641283</td>\n",
       "      <td>0.506150</td>\n",
       "      <td>0.489345</td>\n",
       "    </tr>\n",
       "    <tr>\n",
       "      <th>5</th>\n",
       "      <td>0.977062</td>\n",
       "      <td>0.589091</td>\n",
       "      <td>0.752786</td>\n",
       "      <td>0.106942</td>\n",
       "    </tr>\n",
       "  </tbody>\n",
       "</table>\n",
       "</div>"
      ],
      "text/plain": [
       "          0         1         2         3\n",
       "0  0.527440  0.641283  0.506150  0.489345\n",
       "1  0.977062  0.589091  0.752786  0.106942\n",
       "2  0.527440  0.641283  0.506150  0.489345\n",
       "3  0.977062  0.589091  0.752786  0.106942\n",
       "4  0.527440  0.641283  0.506150  0.489345\n",
       "5  0.977062  0.589091  0.752786  0.106942"
      ]
     },
     "execution_count": 6,
     "metadata": {},
     "output_type": "execute_result"
    }
   ],
   "source": [
    "import pandas as pd\n",
    "import numpy as np\n",
    "df1 = pd.DataFrame(np.random.rand(2, 4))\n",
    "df = pd.concat([df1, df1, df1], ignore_index=True)\n",
    "df"
   ]
  },
  {
   "cell_type": "markdown",
   "metadata": {},
   "source": [
    "### Stacking dataframes horizontally (similar to hstack):"
   ]
  },
  {
   "cell_type": "code",
   "execution_count": 9,
   "metadata": {
    "collapsed": false
   },
   "outputs": [
    {
     "data": {
      "text/html": [
       "<div>\n",
       "<table border=\"1\" class=\"dataframe\">\n",
       "  <thead>\n",
       "    <tr style=\"text-align: right;\">\n",
       "      <th></th>\n",
       "      <th>0</th>\n",
       "      <th>1</th>\n",
       "      <th>2</th>\n",
       "      <th>3</th>\n",
       "      <th>4</th>\n",
       "      <th>5</th>\n",
       "      <th>6</th>\n",
       "      <th>7</th>\n",
       "      <th>8</th>\n",
       "      <th>9</th>\n",
       "      <th>10</th>\n",
       "      <th>11</th>\n",
       "    </tr>\n",
       "  </thead>\n",
       "  <tbody>\n",
       "    <tr>\n",
       "      <th>0</th>\n",
       "      <td>0.527440</td>\n",
       "      <td>0.641283</td>\n",
       "      <td>0.506150</td>\n",
       "      <td>0.489345</td>\n",
       "      <td>0.527440</td>\n",
       "      <td>0.641283</td>\n",
       "      <td>0.506150</td>\n",
       "      <td>0.489345</td>\n",
       "      <td>0.527440</td>\n",
       "      <td>0.641283</td>\n",
       "      <td>0.506150</td>\n",
       "      <td>0.489345</td>\n",
       "    </tr>\n",
       "    <tr>\n",
       "      <th>1</th>\n",
       "      <td>0.977062</td>\n",
       "      <td>0.589091</td>\n",
       "      <td>0.752786</td>\n",
       "      <td>0.106942</td>\n",
       "      <td>0.977062</td>\n",
       "      <td>0.589091</td>\n",
       "      <td>0.752786</td>\n",
       "      <td>0.106942</td>\n",
       "      <td>0.977062</td>\n",
       "      <td>0.589091</td>\n",
       "      <td>0.752786</td>\n",
       "      <td>0.106942</td>\n",
       "    </tr>\n",
       "  </tbody>\n",
       "</table>\n",
       "</div>"
      ],
      "text/plain": [
       "         0         1         2         3         4         5         6   \\\n",
       "0  0.527440  0.641283  0.506150  0.489345  0.527440  0.641283  0.506150   \n",
       "1  0.977062  0.589091  0.752786  0.106942  0.977062  0.589091  0.752786   \n",
       "\n",
       "         7         8         9         10        11  \n",
       "0  0.489345  0.527440  0.641283  0.506150  0.489345  \n",
       "1  0.106942  0.977062  0.589091  0.752786  0.106942  "
      ]
     },
     "execution_count": 9,
     "metadata": {},
     "output_type": "execute_result"
    }
   ],
   "source": [
    "pd.concat([df1, df1, df1], ignore_index=True, axis = 1)"
   ]
  },
  {
   "cell_type": "markdown",
   "metadata": {},
   "source": [
    "### Applying function to all columns (or rows) of df:"
   ]
  },
  {
   "cell_type": "code",
   "execution_count": 13,
   "metadata": {
    "collapsed": false
   },
   "outputs": [
    {
     "name": "stdout",
     "output_type": "stream",
     "text": [
      "0    4.513507\n",
      "1    3.691123\n",
      "2    3.776808\n",
      "3    1.788861\n",
      "dtype: float64\n",
      "0    2.164219\n",
      "1    2.425881\n",
      "2    2.164219\n",
      "3    2.425881\n",
      "4    2.164219\n",
      "5    2.425881\n",
      "dtype: float64\n"
     ]
    }
   ],
   "source": [
    "print df.apply(lambda x: x.sum(), axis = 0)\n",
    "print df.apply(lambda x: x.sum(), axis = 1)"
   ]
  },
  {
   "cell_type": "markdown",
   "metadata": {},
   "source": [
    "### Dropping all NaN values:"
   ]
  },
  {
   "cell_type": "code",
   "execution_count": 20,
   "metadata": {
    "collapsed": false
   },
   "outputs": [
    {
     "name": "stdout",
     "output_type": "stream",
     "text": [
      "          0         1         2         3\n",
      "0  0.527440  0.641283  0.506150       NaN\n",
      "1  0.977062  0.589091  0.752786  0.106942\n",
      "2  0.527440  0.641283  0.506150  0.489345\n",
      "3  0.977062  0.589091  0.752786  0.106942\n",
      "4  0.527440  0.641283  0.506150  0.489345\n",
      "5  0.977062  0.589091  0.752786  0.106942\n"
     ]
    },
    {
     "data": {
      "text/html": [
       "<div>\n",
       "<table border=\"1\" class=\"dataframe\">\n",
       "  <thead>\n",
       "    <tr style=\"text-align: right;\">\n",
       "      <th></th>\n",
       "      <th>0</th>\n",
       "      <th>1</th>\n",
       "      <th>2</th>\n",
       "      <th>3</th>\n",
       "    </tr>\n",
       "  </thead>\n",
       "  <tbody>\n",
       "    <tr>\n",
       "      <th>1</th>\n",
       "      <td>0.977062</td>\n",
       "      <td>0.589091</td>\n",
       "      <td>0.752786</td>\n",
       "      <td>0.106942</td>\n",
       "    </tr>\n",
       "    <tr>\n",
       "      <th>2</th>\n",
       "      <td>0.527440</td>\n",
       "      <td>0.641283</td>\n",
       "      <td>0.506150</td>\n",
       "      <td>0.489345</td>\n",
       "    </tr>\n",
       "    <tr>\n",
       "      <th>3</th>\n",
       "      <td>0.977062</td>\n",
       "      <td>0.589091</td>\n",
       "      <td>0.752786</td>\n",
       "      <td>0.106942</td>\n",
       "    </tr>\n",
       "    <tr>\n",
       "      <th>4</th>\n",
       "      <td>0.527440</td>\n",
       "      <td>0.641283</td>\n",
       "      <td>0.506150</td>\n",
       "      <td>0.489345</td>\n",
       "    </tr>\n",
       "    <tr>\n",
       "      <th>5</th>\n",
       "      <td>0.977062</td>\n",
       "      <td>0.589091</td>\n",
       "      <td>0.752786</td>\n",
       "      <td>0.106942</td>\n",
       "    </tr>\n",
       "  </tbody>\n",
       "</table>\n",
       "</div>"
      ],
      "text/plain": [
       "          0         1         2         3\n",
       "1  0.977062  0.589091  0.752786  0.106942\n",
       "2  0.527440  0.641283  0.506150  0.489345\n",
       "3  0.977062  0.589091  0.752786  0.106942\n",
       "4  0.527440  0.641283  0.506150  0.489345\n",
       "5  0.977062  0.589091  0.752786  0.106942"
      ]
     },
     "execution_count": 20,
     "metadata": {},
     "output_type": "execute_result"
    }
   ],
   "source": [
    "df.iloc[0, 3] = None\n",
    "df.iloc[0, 3] = None\n",
    "#df.dropna()\n",
    "print df\n",
    "df.dropna()"
   ]
  },
  {
   "cell_type": "code",
   "execution_count": null,
   "metadata": {
    "collapsed": true
   },
   "outputs": [],
   "source": []
  }
 ],
 "metadata": {
  "kernelspec": {
   "display_name": "Python 2",
   "language": "python",
   "name": "python2"
  },
  "language_info": {
   "codemirror_mode": {
    "name": "ipython",
    "version": 2
   },
   "file_extension": ".py",
   "mimetype": "text/x-python",
   "name": "python",
   "nbconvert_exporter": "python",
   "pygments_lexer": "ipython2",
   "version": "2.7.6"
  }
 },
 "nbformat": 4,
 "nbformat_minor": 0
}
