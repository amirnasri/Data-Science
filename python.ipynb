{
 "cells": [
  {
   "cell_type": "markdown",
   "metadata": {},
   "source": [
    "### Stacking dataframes on top of one another (similar to vstack):"
   ]
  },
  {
   "cell_type": "code",
   "execution_count": 6,
   "metadata": {
    "collapsed": false,
    "scrolled": true
   },
   "outputs": [
    {
     "data": {
      "text/html": [
       "<div>\n",
       "<table border=\"1\" class=\"dataframe\">\n",
       "  <thead>\n",
       "    <tr style=\"text-align: right;\">\n",
       "      <th></th>\n",
       "      <th>0</th>\n",
       "      <th>1</th>\n",
       "      <th>2</th>\n",
       "      <th>3</th>\n",
       "    </tr>\n",
       "  </thead>\n",
       "  <tbody>\n",
       "    <tr>\n",
       "      <th>0</th>\n",
       "      <td>0.527440</td>\n",
       "      <td>0.641283</td>\n",
       "      <td>0.506150</td>\n",
       "      <td>0.489345</td>\n",
       "    </tr>\n",
       "    <tr>\n",
       "      <th>1</th>\n",
       "      <td>0.977062</td>\n",
       "      <td>0.589091</td>\n",
       "      <td>0.752786</td>\n",
       "      <td>0.106942</td>\n",
       "    </tr>\n",
       "    <tr>\n",
       "      <th>2</th>\n",
       "      <td>0.527440</td>\n",
       "      <td>0.641283</td>\n",
       "      <td>0.506150</td>\n",
       "      <td>0.489345</td>\n",
       "    </tr>\n",
       "    <tr>\n",
       "      <th>3</th>\n",
       "      <td>0.977062</td>\n",
       "      <td>0.589091</td>\n",
       "      <td>0.752786</td>\n",
       "      <td>0.106942</td>\n",
       "    </tr>\n",
       "    <tr>\n",
       "      <th>4</th>\n",
       "      <td>0.527440</td>\n",
       "      <td>0.641283</td>\n",
       "      <td>0.506150</td>\n",
       "      <td>0.489345</td>\n",
       "    </tr>\n",
       "    <tr>\n",
       "      <th>5</th>\n",
       "      <td>0.977062</td>\n",
       "      <td>0.589091</td>\n",
       "      <td>0.752786</td>\n",
       "      <td>0.106942</td>\n",
       "    </tr>\n",
       "  </tbody>\n",
       "</table>\n",
       "</div>"
      ],
      "text/plain": [
       "          0         1         2         3\n",
       "0  0.527440  0.641283  0.506150  0.489345\n",
       "1  0.977062  0.589091  0.752786  0.106942\n",
       "2  0.527440  0.641283  0.506150  0.489345\n",
       "3  0.977062  0.589091  0.752786  0.106942\n",
       "4  0.527440  0.641283  0.506150  0.489345\n",
       "5  0.977062  0.589091  0.752786  0.106942"
      ]
     },
     "execution_count": 6,
     "metadata": {},
     "output_type": "execute_result"
    }
   ],
   "source": [
    "import pandas as pd\n",
    "import numpy as np\n",
    "df1 = pd.DataFrame(np.random.rand(2, 4))\n",
    "df = pd.concat([df1, df1, df1], ignore_index=True)\n",
    "df"
   ]
  },
  {
   "cell_type": "markdown",
   "metadata": {},
   "source": [
    "### Stacking dataframes horizontally (similar to hstack):"
   ]
  },
  {
   "cell_type": "code",
   "execution_count": 9,
   "metadata": {
    "collapsed": false
   },
   "outputs": [
    {
     "data": {
      "text/html": [
       "<div>\n",
       "<table border=\"1\" class=\"dataframe\">\n",
       "  <thead>\n",
       "    <tr style=\"text-align: right;\">\n",
       "      <th></th>\n",
       "      <th>0</th>\n",
       "      <th>1</th>\n",
       "      <th>2</th>\n",
       "      <th>3</th>\n",
       "      <th>4</th>\n",
       "      <th>5</th>\n",
       "      <th>6</th>\n",
       "      <th>7</th>\n",
       "      <th>8</th>\n",
       "      <th>9</th>\n",
       "      <th>10</th>\n",
       "      <th>11</th>\n",
       "    </tr>\n",
       "  </thead>\n",
       "  <tbody>\n",
       "    <tr>\n",
       "      <th>0</th>\n",
       "      <td>0.527440</td>\n",
       "      <td>0.641283</td>\n",
       "      <td>0.506150</td>\n",
       "      <td>0.489345</td>\n",
       "      <td>0.527440</td>\n",
       "      <td>0.641283</td>\n",
       "      <td>0.506150</td>\n",
       "      <td>0.489345</td>\n",
       "      <td>0.527440</td>\n",
       "      <td>0.641283</td>\n",
       "      <td>0.506150</td>\n",
       "      <td>0.489345</td>\n",
       "    </tr>\n",
       "    <tr>\n",
       "      <th>1</th>\n",
       "      <td>0.977062</td>\n",
       "      <td>0.589091</td>\n",
       "      <td>0.752786</td>\n",
       "      <td>0.106942</td>\n",
       "      <td>0.977062</td>\n",
       "      <td>0.589091</td>\n",
       "      <td>0.752786</td>\n",
       "      <td>0.106942</td>\n",
       "      <td>0.977062</td>\n",
       "      <td>0.589091</td>\n",
       "      <td>0.752786</td>\n",
       "      <td>0.106942</td>\n",
       "    </tr>\n",
       "  </tbody>\n",
       "</table>\n",
       "</div>"
      ],
      "text/plain": [
       "         0         1         2         3         4         5         6   \\\n",
       "0  0.527440  0.641283  0.506150  0.489345  0.527440  0.641283  0.506150   \n",
       "1  0.977062  0.589091  0.752786  0.106942  0.977062  0.589091  0.752786   \n",
       "\n",
       "         7         8         9         10        11  \n",
       "0  0.489345  0.527440  0.641283  0.506150  0.489345  \n",
       "1  0.106942  0.977062  0.589091  0.752786  0.106942  "
      ]
     },
     "execution_count": 9,
     "metadata": {},
     "output_type": "execute_result"
    }
   ],
   "source": [
    "pd.concat([df1, df1, df1], ignore_index=True, axis = 1)"
   ]
  },
  {
   "cell_type": "markdown",
   "metadata": {},
   "source": [
    "### Applying function to all columns (or rows) of df:"
   ]
  },
  {
   "cell_type": "code",
   "execution_count": 13,
   "metadata": {
    "collapsed": false
   },
   "outputs": [
    {
     "name": "stdout",
     "output_type": "stream",
     "text": [
      "0    4.513507\n",
      "1    3.691123\n",
      "2    3.776808\n",
      "3    1.788861\n",
      "dtype: float64\n",
      "0    2.164219\n",
      "1    2.425881\n",
      "2    2.164219\n",
      "3    2.425881\n",
      "4    2.164219\n",
      "5    2.425881\n",
      "dtype: float64\n"
     ]
    }
   ],
   "source": [
    "print df.apply(lambda x: x.sum(), axis = 0)\n",
    "print df.apply(lambda x: x.sum(), axis = 1)"
   ]
  },
  {
   "cell_type": "markdown",
   "metadata": {},
   "source": [
    "### Dropping all NaN values:"
   ]
  },
  {
   "cell_type": "code",
   "execution_count": 24,
   "metadata": {
    "collapsed": false
   },
   "outputs": [
    {
     "name": "stdout",
     "output_type": "stream",
     "text": [
      "          0         1         2         3\n",
      "0  0.527440  0.641283  0.506150       NaN\n",
      "1  0.977062  0.589091  0.752786  0.106942\n",
      "2  0.527440       NaN  0.506150  0.489345\n",
      "3  0.977062  0.589091  0.752786  0.106942\n",
      "4  0.527440  0.641283  0.506150  0.489345\n",
      "5  0.977062  0.589091  0.752786  0.106942\n"
     ]
    },
    {
     "data": {
      "text/html": [
       "<div>\n",
       "<table border=\"1\" class=\"dataframe\">\n",
       "  <thead>\n",
       "    <tr style=\"text-align: right;\">\n",
       "      <th></th>\n",
       "      <th>0</th>\n",
       "      <th>1</th>\n",
       "      <th>2</th>\n",
       "      <th>3</th>\n",
       "    </tr>\n",
       "  </thead>\n",
       "  <tbody>\n",
       "    <tr>\n",
       "      <th>1</th>\n",
       "      <td>0.977062</td>\n",
       "      <td>0.589091</td>\n",
       "      <td>0.752786</td>\n",
       "      <td>0.106942</td>\n",
       "    </tr>\n",
       "    <tr>\n",
       "      <th>3</th>\n",
       "      <td>0.977062</td>\n",
       "      <td>0.589091</td>\n",
       "      <td>0.752786</td>\n",
       "      <td>0.106942</td>\n",
       "    </tr>\n",
       "    <tr>\n",
       "      <th>4</th>\n",
       "      <td>0.527440</td>\n",
       "      <td>0.641283</td>\n",
       "      <td>0.506150</td>\n",
       "      <td>0.489345</td>\n",
       "    </tr>\n",
       "    <tr>\n",
       "      <th>5</th>\n",
       "      <td>0.977062</td>\n",
       "      <td>0.589091</td>\n",
       "      <td>0.752786</td>\n",
       "      <td>0.106942</td>\n",
       "    </tr>\n",
       "  </tbody>\n",
       "</table>\n",
       "</div>"
      ],
      "text/plain": [
       "          0         1         2         3\n",
       "1  0.977062  0.589091  0.752786  0.106942\n",
       "3  0.977062  0.589091  0.752786  0.106942\n",
       "4  0.527440  0.641283  0.506150  0.489345\n",
       "5  0.977062  0.589091  0.752786  0.106942"
      ]
     },
     "execution_count": 24,
     "metadata": {},
     "output_type": "execute_result"
    }
   ],
   "source": [
    "df.iloc[0, 3] = None\n",
    "df.iloc[2, 1] = None\n",
    "#df.dropna()\n",
    "print df\n",
    "df.dropna()"
   ]
  },
  {
   "cell_type": "markdown",
   "metadata": {},
   "source": [
    "### loc and iloc in pandas:\n",
    "When we select some rows from a df (e.g., using a where clause), the index of the rows is preserved in the new df. So for the new df, df.index is not necessarily 0, 1, etc. (They dont even have to be numbers). To work with these indexes, use df.loc. To ignore these indexes and use an integer index from zero, use iloc.  "
   ]
  },
  {
   "cell_type": "code",
   "execution_count": 3,
   "metadata": {
    "collapsed": false
   },
   "outputs": [],
   "source": [
    "f = pd.read_csv('features.csv')"
   ]
  },
  {
   "cell_type": "code",
   "execution_count": 10,
   "metadata": {
    "collapsed": false
   },
   "outputs": [
    {
     "data": {
      "text/html": [
       "<div>\n",
       "<table border=\"1\" class=\"dataframe\">\n",
       "  <thead>\n",
       "    <tr style=\"text-align: right;\">\n",
       "      <th></th>\n",
       "      <th>Store</th>\n",
       "      <th>Date</th>\n",
       "      <th>Temperature</th>\n",
       "      <th>Fuel_Price</th>\n",
       "      <th>MarkDown1</th>\n",
       "      <th>MarkDown2</th>\n",
       "      <th>MarkDown3</th>\n",
       "      <th>MarkDown4</th>\n",
       "      <th>MarkDown5</th>\n",
       "      <th>CPI</th>\n",
       "      <th>Unemployment</th>\n",
       "      <th>IsHoliday</th>\n",
       "    </tr>\n",
       "  </thead>\n",
       "  <tbody>\n",
       "    <tr>\n",
       "      <th>1</th>\n",
       "      <td>1</td>\n",
       "      <td>2010-02-12</td>\n",
       "      <td>38.51</td>\n",
       "      <td>2.548</td>\n",
       "      <td>NaN</td>\n",
       "      <td>NaN</td>\n",
       "      <td>NaN</td>\n",
       "      <td>NaN</td>\n",
       "      <td>NaN</td>\n",
       "      <td>211.242170</td>\n",
       "      <td>8.106</td>\n",
       "      <td>True</td>\n",
       "    </tr>\n",
       "    <tr>\n",
       "      <th>31</th>\n",
       "      <td>1</td>\n",
       "      <td>2010-09-10</td>\n",
       "      <td>78.69</td>\n",
       "      <td>2.565</td>\n",
       "      <td>NaN</td>\n",
       "      <td>NaN</td>\n",
       "      <td>NaN</td>\n",
       "      <td>NaN</td>\n",
       "      <td>NaN</td>\n",
       "      <td>211.495190</td>\n",
       "      <td>7.787</td>\n",
       "      <td>True</td>\n",
       "    </tr>\n",
       "    <tr>\n",
       "      <th>42</th>\n",
       "      <td>1</td>\n",
       "      <td>2010-11-26</td>\n",
       "      <td>64.52</td>\n",
       "      <td>2.735</td>\n",
       "      <td>NaN</td>\n",
       "      <td>NaN</td>\n",
       "      <td>NaN</td>\n",
       "      <td>NaN</td>\n",
       "      <td>NaN</td>\n",
       "      <td>211.748433</td>\n",
       "      <td>7.838</td>\n",
       "      <td>True</td>\n",
       "    </tr>\n",
       "    <tr>\n",
       "      <th>47</th>\n",
       "      <td>1</td>\n",
       "      <td>2010-12-31</td>\n",
       "      <td>48.43</td>\n",
       "      <td>2.943</td>\n",
       "      <td>NaN</td>\n",
       "      <td>NaN</td>\n",
       "      <td>NaN</td>\n",
       "      <td>NaN</td>\n",
       "      <td>NaN</td>\n",
       "      <td>211.404932</td>\n",
       "      <td>7.838</td>\n",
       "      <td>True</td>\n",
       "    </tr>\n",
       "    <tr>\n",
       "      <th>53</th>\n",
       "      <td>1</td>\n",
       "      <td>2011-02-11</td>\n",
       "      <td>36.39</td>\n",
       "      <td>3.022</td>\n",
       "      <td>NaN</td>\n",
       "      <td>NaN</td>\n",
       "      <td>NaN</td>\n",
       "      <td>NaN</td>\n",
       "      <td>NaN</td>\n",
       "      <td>212.936705</td>\n",
       "      <td>7.742</td>\n",
       "      <td>True</td>\n",
       "    </tr>\n",
       "    <tr>\n",
       "      <th>83</th>\n",
       "      <td>1</td>\n",
       "      <td>2011-09-09</td>\n",
       "      <td>76.00</td>\n",
       "      <td>3.546</td>\n",
       "      <td>NaN</td>\n",
       "      <td>NaN</td>\n",
       "      <td>NaN</td>\n",
       "      <td>NaN</td>\n",
       "      <td>NaN</td>\n",
       "      <td>215.861056</td>\n",
       "      <td>7.962</td>\n",
       "      <td>True</td>\n",
       "    </tr>\n",
       "    <tr>\n",
       "      <th>94</th>\n",
       "      <td>1</td>\n",
       "      <td>2011-11-25</td>\n",
       "      <td>60.14</td>\n",
       "      <td>3.236</td>\n",
       "      <td>410.31</td>\n",
       "      <td>98.00</td>\n",
       "      <td>55805.51</td>\n",
       "      <td>8.00</td>\n",
       "      <td>554.92</td>\n",
       "      <td>218.467621</td>\n",
       "      <td>7.866</td>\n",
       "      <td>True</td>\n",
       "    </tr>\n",
       "    <tr>\n",
       "      <th>99</th>\n",
       "      <td>1</td>\n",
       "      <td>2011-12-30</td>\n",
       "      <td>44.55</td>\n",
       "      <td>3.129</td>\n",
       "      <td>5762.10</td>\n",
       "      <td>46011.38</td>\n",
       "      <td>260.36</td>\n",
       "      <td>983.65</td>\n",
       "      <td>4735.78</td>\n",
       "      <td>219.535990</td>\n",
       "      <td>7.866</td>\n",
       "      <td>True</td>\n",
       "    </tr>\n",
       "    <tr>\n",
       "      <th>105</th>\n",
       "      <td>1</td>\n",
       "      <td>2012-02-10</td>\n",
       "      <td>48.02</td>\n",
       "      <td>3.409</td>\n",
       "      <td>13925.06</td>\n",
       "      <td>6927.23</td>\n",
       "      <td>101.64</td>\n",
       "      <td>8471.88</td>\n",
       "      <td>6886.04</td>\n",
       "      <td>220.265178</td>\n",
       "      <td>7.348</td>\n",
       "      <td>True</td>\n",
       "    </tr>\n",
       "    <tr>\n",
       "      <th>135</th>\n",
       "      <td>1</td>\n",
       "      <td>2012-09-07</td>\n",
       "      <td>83.96</td>\n",
       "      <td>3.730</td>\n",
       "      <td>5204.68</td>\n",
       "      <td>35.74</td>\n",
       "      <td>50.94</td>\n",
       "      <td>4120.32</td>\n",
       "      <td>2737.17</td>\n",
       "      <td>222.439015</td>\n",
       "      <td>6.908</td>\n",
       "      <td>True</td>\n",
       "    </tr>\n",
       "  </tbody>\n",
       "</table>\n",
       "</div>"
      ],
      "text/plain": [
       "     Store        Date  Temperature  Fuel_Price  MarkDown1  MarkDown2  \\\n",
       "1        1  2010-02-12        38.51       2.548        NaN        NaN   \n",
       "31       1  2010-09-10        78.69       2.565        NaN        NaN   \n",
       "42       1  2010-11-26        64.52       2.735        NaN        NaN   \n",
       "47       1  2010-12-31        48.43       2.943        NaN        NaN   \n",
       "53       1  2011-02-11        36.39       3.022        NaN        NaN   \n",
       "83       1  2011-09-09        76.00       3.546        NaN        NaN   \n",
       "94       1  2011-11-25        60.14       3.236     410.31      98.00   \n",
       "99       1  2011-12-30        44.55       3.129    5762.10   46011.38   \n",
       "105      1  2012-02-10        48.02       3.409   13925.06    6927.23   \n",
       "135      1  2012-09-07        83.96       3.730    5204.68      35.74   \n",
       "\n",
       "     MarkDown3  MarkDown4  MarkDown5         CPI  Unemployment IsHoliday  \n",
       "1          NaN        NaN        NaN  211.242170         8.106      True  \n",
       "31         NaN        NaN        NaN  211.495190         7.787      True  \n",
       "42         NaN        NaN        NaN  211.748433         7.838      True  \n",
       "47         NaN        NaN        NaN  211.404932         7.838      True  \n",
       "53         NaN        NaN        NaN  212.936705         7.742      True  \n",
       "83         NaN        NaN        NaN  215.861056         7.962      True  \n",
       "94    55805.51       8.00     554.92  218.467621         7.866      True  \n",
       "99      260.36     983.65    4735.78  219.535990         7.866      True  \n",
       "105     101.64    8471.88    6886.04  220.265178         7.348      True  \n",
       "135      50.94    4120.32    2737.17  222.439015         6.908      True  "
      ]
     },
     "execution_count": 10,
     "metadata": {},
     "output_type": "execute_result"
    }
   ],
   "source": [
    "f_holiday = f[f.IsHoliday == True]\n",
    "f_holiday.head(10)"
   ]
  },
  {
   "cell_type": "code",
   "execution_count": 8,
   "metadata": {
    "collapsed": false
   },
   "outputs": [
    {
     "data": {
      "text/plain": [
       "Store                    1\n",
       "Date            2010-02-12\n",
       "Temperature          38.51\n",
       "Fuel_Price           2.548\n",
       "MarkDown1              NaN\n",
       "MarkDown2              NaN\n",
       "MarkDown3              NaN\n",
       "MarkDown4              NaN\n",
       "MarkDown5              NaN\n",
       "CPI                211.242\n",
       "Unemployment         8.106\n",
       "IsHoliday             True\n",
       "Name: 1, dtype: object"
      ]
     },
     "execution_count": 8,
     "metadata": {},
     "output_type": "execute_result"
    }
   ],
   "source": [
    "f_holiday.iloc[0, :]"
   ]
  },
  {
   "cell_type": "code",
   "execution_count": 9,
   "metadata": {
    "collapsed": false
   },
   "outputs": [
    {
     "ename": "KeyError",
     "evalue": "'the label [0] is not in the [index]'",
     "output_type": "error",
     "traceback": [
      "\u001b[0;31m---------------------------------------------------------------------------\u001b[0m",
      "\u001b[0;31mKeyError\u001b[0m                                  Traceback (most recent call last)",
      "\u001b[0;32m<ipython-input-9-e16b3bbc5d85>\u001b[0m in \u001b[0;36m<module>\u001b[0;34m()\u001b[0m\n\u001b[0;32m----> 1\u001b[0;31m \u001b[0mf_holiday\u001b[0m\u001b[0;34m.\u001b[0m\u001b[0mloc\u001b[0m\u001b[0;34m[\u001b[0m\u001b[0;36m0\u001b[0m\u001b[0;34m,\u001b[0m \u001b[0;34m:\u001b[0m\u001b[0;34m]\u001b[0m\u001b[0;34m\u001b[0m\u001b[0m\n\u001b[0m",
      "\u001b[0;32m/usr/local/lib/python2.7/dist-packages/pandas/core/indexing.pyc\u001b[0m in \u001b[0;36m__getitem__\u001b[0;34m(self, key)\u001b[0m\n\u001b[1;32m   1307\u001b[0m \u001b[0;34m\u001b[0m\u001b[0m\n\u001b[1;32m   1308\u001b[0m         \u001b[0;32mif\u001b[0m \u001b[0mtype\u001b[0m\u001b[0;34m(\u001b[0m\u001b[0mkey\u001b[0m\u001b[0;34m)\u001b[0m \u001b[0;32mis\u001b[0m \u001b[0mtuple\u001b[0m\u001b[0;34m:\u001b[0m\u001b[0;34m\u001b[0m\u001b[0m\n\u001b[0;32m-> 1309\u001b[0;31m             \u001b[0;32mreturn\u001b[0m \u001b[0mself\u001b[0m\u001b[0;34m.\u001b[0m\u001b[0m_getitem_tuple\u001b[0m\u001b[0;34m(\u001b[0m\u001b[0mkey\u001b[0m\u001b[0;34m)\u001b[0m\u001b[0;34m\u001b[0m\u001b[0m\n\u001b[0m\u001b[1;32m   1310\u001b[0m         \u001b[0;32melse\u001b[0m\u001b[0;34m:\u001b[0m\u001b[0;34m\u001b[0m\u001b[0m\n\u001b[1;32m   1311\u001b[0m             \u001b[0;32mreturn\u001b[0m \u001b[0mself\u001b[0m\u001b[0;34m.\u001b[0m\u001b[0m_getitem_axis\u001b[0m\u001b[0;34m(\u001b[0m\u001b[0mkey\u001b[0m\u001b[0;34m,\u001b[0m \u001b[0maxis\u001b[0m\u001b[0;34m=\u001b[0m\u001b[0;36m0\u001b[0m\u001b[0;34m)\u001b[0m\u001b[0;34m\u001b[0m\u001b[0m\n",
      "\u001b[0;32m/usr/local/lib/python2.7/dist-packages/pandas/core/indexing.pyc\u001b[0m in \u001b[0;36m_getitem_tuple\u001b[0;34m(self, tup)\u001b[0m\n\u001b[1;32m    793\u001b[0m     \u001b[0;32mdef\u001b[0m \u001b[0m_getitem_tuple\u001b[0m\u001b[0;34m(\u001b[0m\u001b[0mself\u001b[0m\u001b[0;34m,\u001b[0m \u001b[0mtup\u001b[0m\u001b[0;34m)\u001b[0m\u001b[0;34m:\u001b[0m\u001b[0;34m\u001b[0m\u001b[0m\n\u001b[1;32m    794\u001b[0m         \u001b[0;32mtry\u001b[0m\u001b[0;34m:\u001b[0m\u001b[0;34m\u001b[0m\u001b[0m\n\u001b[0;32m--> 795\u001b[0;31m             \u001b[0;32mreturn\u001b[0m \u001b[0mself\u001b[0m\u001b[0;34m.\u001b[0m\u001b[0m_getitem_lowerdim\u001b[0m\u001b[0;34m(\u001b[0m\u001b[0mtup\u001b[0m\u001b[0;34m)\u001b[0m\u001b[0;34m\u001b[0m\u001b[0m\n\u001b[0m\u001b[1;32m    796\u001b[0m         \u001b[0;32mexcept\u001b[0m \u001b[0mIndexingError\u001b[0m\u001b[0;34m:\u001b[0m\u001b[0;34m\u001b[0m\u001b[0m\n\u001b[1;32m    797\u001b[0m             \u001b[0;32mpass\u001b[0m\u001b[0;34m\u001b[0m\u001b[0m\n",
      "\u001b[0;32m/usr/local/lib/python2.7/dist-packages/pandas/core/indexing.pyc\u001b[0m in \u001b[0;36m_getitem_lowerdim\u001b[0;34m(self, tup)\u001b[0m\n\u001b[1;32m    919\u001b[0m         \u001b[0;32mfor\u001b[0m \u001b[0mi\u001b[0m\u001b[0;34m,\u001b[0m \u001b[0mkey\u001b[0m \u001b[0;32min\u001b[0m \u001b[0menumerate\u001b[0m\u001b[0;34m(\u001b[0m\u001b[0mtup\u001b[0m\u001b[0;34m)\u001b[0m\u001b[0;34m:\u001b[0m\u001b[0;34m\u001b[0m\u001b[0m\n\u001b[1;32m    920\u001b[0m             \u001b[0;32mif\u001b[0m \u001b[0mis_label_like\u001b[0m\u001b[0;34m(\u001b[0m\u001b[0mkey\u001b[0m\u001b[0;34m)\u001b[0m \u001b[0;32mor\u001b[0m \u001b[0misinstance\u001b[0m\u001b[0;34m(\u001b[0m\u001b[0mkey\u001b[0m\u001b[0;34m,\u001b[0m \u001b[0mtuple\u001b[0m\u001b[0;34m)\u001b[0m\u001b[0;34m:\u001b[0m\u001b[0;34m\u001b[0m\u001b[0m\n\u001b[0;32m--> 921\u001b[0;31m                 \u001b[0msection\u001b[0m \u001b[0;34m=\u001b[0m \u001b[0mself\u001b[0m\u001b[0;34m.\u001b[0m\u001b[0m_getitem_axis\u001b[0m\u001b[0;34m(\u001b[0m\u001b[0mkey\u001b[0m\u001b[0;34m,\u001b[0m \u001b[0maxis\u001b[0m\u001b[0;34m=\u001b[0m\u001b[0mi\u001b[0m\u001b[0;34m)\u001b[0m\u001b[0;34m\u001b[0m\u001b[0m\n\u001b[0m\u001b[1;32m    922\u001b[0m \u001b[0;34m\u001b[0m\u001b[0m\n\u001b[1;32m    923\u001b[0m                 \u001b[0;31m# we have yielded a scalar ?\u001b[0m\u001b[0;34m\u001b[0m\u001b[0;34m\u001b[0m\u001b[0m\n",
      "\u001b[0;32m/usr/local/lib/python2.7/dist-packages/pandas/core/indexing.pyc\u001b[0m in \u001b[0;36m_getitem_axis\u001b[0;34m(self, key, axis)\u001b[0m\n\u001b[1;32m   1479\u001b[0m \u001b[0;34m\u001b[0m\u001b[0m\n\u001b[1;32m   1480\u001b[0m         \u001b[0;31m# fall thru to straight lookup\u001b[0m\u001b[0;34m\u001b[0m\u001b[0;34m\u001b[0m\u001b[0m\n\u001b[0;32m-> 1481\u001b[0;31m         \u001b[0mself\u001b[0m\u001b[0;34m.\u001b[0m\u001b[0m_has_valid_type\u001b[0m\u001b[0;34m(\u001b[0m\u001b[0mkey\u001b[0m\u001b[0;34m,\u001b[0m \u001b[0maxis\u001b[0m\u001b[0;34m)\u001b[0m\u001b[0;34m\u001b[0m\u001b[0m\n\u001b[0m\u001b[1;32m   1482\u001b[0m         \u001b[0;32mreturn\u001b[0m \u001b[0mself\u001b[0m\u001b[0;34m.\u001b[0m\u001b[0m_get_label\u001b[0m\u001b[0;34m(\u001b[0m\u001b[0mkey\u001b[0m\u001b[0;34m,\u001b[0m \u001b[0maxis\u001b[0m\u001b[0;34m=\u001b[0m\u001b[0maxis\u001b[0m\u001b[0;34m)\u001b[0m\u001b[0;34m\u001b[0m\u001b[0m\n\u001b[1;32m   1483\u001b[0m \u001b[0;34m\u001b[0m\u001b[0m\n",
      "\u001b[0;32m/usr/local/lib/python2.7/dist-packages/pandas/core/indexing.pyc\u001b[0m in \u001b[0;36m_has_valid_type\u001b[0;34m(self, key, axis)\u001b[0m\n\u001b[1;32m   1416\u001b[0m                 \u001b[0;32mraise\u001b[0m\u001b[0;34m\u001b[0m\u001b[0m\n\u001b[1;32m   1417\u001b[0m             \u001b[0;32mexcept\u001b[0m\u001b[0;34m:\u001b[0m\u001b[0;34m\u001b[0m\u001b[0m\n\u001b[0;32m-> 1418\u001b[0;31m                 \u001b[0merror\u001b[0m\u001b[0;34m(\u001b[0m\u001b[0;34m)\u001b[0m\u001b[0;34m\u001b[0m\u001b[0m\n\u001b[0m\u001b[1;32m   1419\u001b[0m \u001b[0;34m\u001b[0m\u001b[0m\n\u001b[1;32m   1420\u001b[0m         \u001b[0;32mreturn\u001b[0m \u001b[0mTrue\u001b[0m\u001b[0;34m\u001b[0m\u001b[0m\n",
      "\u001b[0;32m/usr/local/lib/python2.7/dist-packages/pandas/core/indexing.pyc\u001b[0m in \u001b[0;36merror\u001b[0;34m()\u001b[0m\n\u001b[1;32m   1403\u001b[0m                                     \"key\")\n\u001b[1;32m   1404\u001b[0m                 raise KeyError(\"the label [%s] is not in the [%s]\" %\n\u001b[0;32m-> 1405\u001b[0;31m                                (key, self.obj._get_axis_name(axis)))\n\u001b[0m\u001b[1;32m   1406\u001b[0m \u001b[0;34m\u001b[0m\u001b[0m\n\u001b[1;32m   1407\u001b[0m             \u001b[0;32mtry\u001b[0m\u001b[0;34m:\u001b[0m\u001b[0;34m\u001b[0m\u001b[0m\n",
      "\u001b[0;31mKeyError\u001b[0m: 'the label [0] is not in the [index]'"
     ]
    }
   ],
   "source": [
    "f_holiday.loc[0, :]"
   ]
  },
  {
   "cell_type": "markdown",
   "metadata": {},
   "source": [
    "Empty array of type object:"
   ]
  },
  {
   "cell_type": "code",
   "execution_count": 18,
   "metadata": {
    "collapsed": false
   },
   "outputs": [
    {
     "data": {
      "text/plain": [
       "array([[[None, None, None, None],\n",
       "        [None, None, None, None],\n",
       "        [None, None, None, None]],\n",
       "\n",
       "       [[None, None, None, None],\n",
       "        [None, None, None, None],\n",
       "        [None, None, None, None]]], dtype=object)"
      ]
     },
     "execution_count": 18,
     "metadata": {},
     "output_type": "execute_result"
    }
   ],
   "source": [
    "np.empty((2, 3, 4), dtype = object)"
   ]
  },
  {
   "cell_type": "markdown",
   "metadata": {},
   "source": [
    "## Regular Expressions"
   ]
  },
  {
   "cell_type": "markdown",
   "metadata": {},
   "source": [
    "The re module provides two types of interfaces:\n",
    "* re.compile(pat) which compiles a pattern to an *re* object. Functions like search and match can be then called on the re object\n",
    "* Module level functions such as re.search(pat, str) and re.match(pat, str) which first compile the pat to obtain a re object and then call the above functions on the object\n",
    "    "
   ]
  },
  {
   "cell_type": "code",
   "execution_count": 13,
   "metadata": {
    "collapsed": false
   },
   "outputs": [
    {
     "name": "stdout",
     "output_type": "stream",
     "text": [
      "abbbb\n"
     ]
    }
   ],
   "source": [
    "import re\n",
    "r = re.compile(r'ab*')\n",
    "m = r.search('abbbbccabb')\n",
    "print m.group(0)"
   ]
  },
  {
   "cell_type": "code",
   "execution_count": 56,
   "metadata": {
    "collapsed": false
   },
   "outputs": [
    {
     "name": "stdout",
     "output_type": "stream",
     "text": [
      "abbbb\n"
     ]
    }
   ],
   "source": [
    "m = re.search(r'ab*', 'abbbbccabb')\n",
    "print m.group()"
   ]
  },
  {
   "cell_type": "markdown",
   "metadata": {},
   "source": [
    "The is always a default group which is the whole expression (without curly brackets). This group is given by m.group() or m.group(0).\n",
    "\n",
    "If there are other groups in the reg expression, they are given by m.groups(1), m.groups(2), etc.,\n",
    "and m.groups() or m.groups(0) returns a tuple in the form of (m.group(1), m.group(2), etc).\n",
    "\n",
    "m.group() or m.group(0) return the default group as before.\n",
    "\n",
    "In general since group(0) is not that useful, m.group() and m.groups() give most of the necessary info."
   ]
  },
  {
   "cell_type": "code",
   "execution_count": 16,
   "metadata": {
    "collapsed": false
   },
   "outputs": [
    {
     "name": "stdout",
     "output_type": "stream",
     "text": [
      "abcde\n",
      "abcde\n",
      "bc\n",
      "('bc',)\n",
      "('bc',)\n"
     ]
    }
   ],
   "source": [
    "m = re.search(r'a(bc)de', 'fghabcdehi')\n",
    "print m.group()\n",
    "print m.group(0)\n",
    "print m.group(1)\n",
    "print m.groups()\n",
    "print m.groups(0)\n"
   ]
  },
  {
   "cell_type": "code",
   "execution_count": 44,
   "metadata": {
    "collapsed": false
   },
   "outputs": [
    {
     "data": {
      "text/plain": [
       "('5.',)"
      ]
     },
     "execution_count": 44,
     "metadata": {},
     "output_type": "execute_result"
    }
   ],
   "source": [
    "m = re.search(r'(\\d\\.)+$', 'ffasdfd2.2.3.4.fdagfds2.3.5.')\n",
    "m.groups()"
   ]
  },
  {
   "cell_type": "code",
   "execution_count": 61,
   "metadata": {
    "collapsed": true
   },
   "outputs": [],
   "source": [
    "def grep(pat, l):\n",
    "     import re\n",
    "     r = re.compile(pat)\n",
    "     return filter(lambda i : r.search(i) is not None, l)"
   ]
  },
  {
   "cell_type": "code",
   "execution_count": 59,
   "metadata": {
    "collapsed": false
   },
   "outputs": [
    {
     "data": {
      "text/plain": [
       "['/usr/local/lib/python2.7/dist-packages/pip-6.0.6-py2.7.egg',\n",
       " '/usr/local/lib/python2.7/dist-packages/tweepy-3.1.0-py2.7.egg',\n",
       " '/usr/local/lib/python2.7/dist-packages/six-1.7.3-py2.7.egg',\n",
       " '/usr/local/lib/python2.7/dist-packages/requests_oauthlib-0.4.1-py2.7.egg',\n",
       " '/usr/local/lib/python2.7/dist-packages/requests-2.4.3-py2.7.egg',\n",
       " '/usr/local/lib/python2.7/dist-packages/oauthlib-0.7.2-py2.7.egg',\n",
       " '/usr/local/lib/python2.7/dist-packages/Lasagne-0.1.dev0-py2.7.egg',\n",
       " '/usr/local/lib/python2.7/dist-packages/Theano-0.7.0-py2.7.egg',\n",
       " '/usr/local/lib/python2.7/dist-packages/nolearn-0.6a0.dev0-py2.7.egg',\n",
       " '/usr/local/lib/python2.7/dist-packages/tabulate-0.7.5-py2.7.egg',\n",
       " '/usr/local/lib/python2.7/dist-packages/Django-1.9.dev20150715192252-py2.7.egg',\n",
       " '/usr/local/lib/python2.7/dist-packages/statsmodels-0.8.0rc1-py2.7-linux-x86_64.egg',\n",
       " '/usr/local/lib/python2.7/dist-packages/patsy-0.4.1-py2.7.egg']"
      ]
     },
     "execution_count": 59,
     "metadata": {},
     "output_type": "execute_result"
    }
   ],
   "source": [
    "import sys\n",
    "grep('(\\d\\.){2}', sys.path)"
   ]
  },
  {
   "cell_type": "markdown",
   "metadata": {},
   "source": [
    "**Sequence unpacking:**\n",
    "The statement \"for i in x\" works as follows:\n",
    "\n",
    "Get iterator from x (it = iter(x)). This is GET_ITER opcode.\n",
    "Call next repeatedly on it until we get StopIteration exception (i = next(it)). This is FOR_ITER opcode.\n",
    "\n",
    "If there is sequence unpacking like in \"for i, j in x\", we treat next(it) as a sequence and unpack it \n",
    "into 2 objects since i, j is equivalent to (i, j). So s = next(it), unpack(s)->i, j.\n",
    "\n",
    "Another example: \"for i, (j, k, t) in x\"\n",
    "Here we treat next(it) as seq of 2 objects an unpack them. Then we unpack the second object into 3 object i, k, and t."
   ]
  },
  {
   "cell_type": "code",
   "execution_count": 6,
   "metadata": {
    "collapsed": false
   },
   "outputs": [
    {
     "name": "stdout",
     "output_type": "stream",
     "text": [
      "  2           0 SETUP_LOOP              41 (to 44)\n",
      "              3 LOAD_GLOBAL              0 (x)\n",
      "              6 GET_ITER            \n",
      "        >>    7 FOR_ITER                33 (to 43)\n",
      "             10 UNPACK_SEQUENCE          4\n",
      "             13 STORE_FAST               0 (i)\n",
      "             16 UNPACK_SEQUENCE          3\n",
      "             19 STORE_FAST               1 (k)\n",
      "             22 STORE_FAST               2 (t)\n",
      "             25 STORE_FAST               3 (r)\n",
      "             28 STORE_FAST               4 (j)\n",
      "             31 UNPACK_SEQUENCE          2\n",
      "             34 STORE_FAST               5 (u)\n",
      "             37 STORE_FAST               2 (t)\n",
      "\n",
      "  3          40 JUMP_ABSOLUTE            7\n",
      "        >>   43 POP_BLOCK           \n",
      "        >>   44 LOAD_CONST               0 (None)\n",
      "             47 RETURN_VALUE        \n",
      "None\n"
     ]
    }
   ],
   "source": [
    "def f1():\n",
    "    for i, (k, t, r), (j), (u, t) in x:\n",
    "        pass\n",
    "import dis\n",
    "print dis.dis(f)"
   ]
  },
  {
   "cell_type": "markdown",
   "metadata": {},
   "source": [
    "## Numpy:"
   ]
  },
  {
   "cell_type": "code",
   "execution_count": 3,
   "metadata": {
    "collapsed": false
   },
   "outputs": [
    {
     "data": {
      "text/plain": [
       "array([[ 0.13166059,  0.37771059,  0.20451729,  0.40347615,  0.48344973],\n",
       "       [ 0.89125383,  0.05904047,  0.73347805,  0.00196137,  0.80282951],\n",
       "       [ 0.19040538,  0.27233316,  0.94902031,  0.60226128,  0.43548302],\n",
       "       [ 0.12637652,  0.97853763,  0.48097779,  0.58749681,  0.32132346]])"
      ]
     },
     "execution_count": 3,
     "metadata": {},
     "output_type": "execute_result"
    }
   ],
   "source": [
    "x = np.random.rand(4, 5)\n",
    "x"
   ]
  },
  {
   "cell_type": "code",
   "execution_count": 5,
   "metadata": {
    "collapsed": false
   },
   "outputs": [
    {
     "name": "stdout",
     "output_type": "stream",
     "text": [
      "[ 0.40347615  0.00196137  0.60226128  0.58749681]\n",
      "[ 0.19040538  0.27233316  0.94902031  0.60226128  0.43548302]\n"
     ]
    }
   ],
   "source": [
    "# gives a 1d array\n",
    "print x[:, 3]\n",
    "print x[2, :]"
   ]
  },
  {
   "cell_type": "code",
   "execution_count": 17,
   "metadata": {
    "collapsed": false
   },
   "outputs": [
    {
     "name": "stdout",
     "output_type": "stream",
     "text": [
      "[[ 0.19040538  0.27233316  0.94902031  0.60226128  0.43548302]]\n",
      "[[ 0.60226128]]\n",
      "[]\n"
     ]
    }
   ],
   "source": [
    "# returns a 2d array\n",
    "print x[2:3, :]\n",
    "print x[2:3, 3:4]\n",
    "# empty array\n",
    "print x[2:3, 3:3]"
   ]
  },
  {
   "cell_type": "code",
   "execution_count": 61,
   "metadata": {
    "collapsed": false
   },
   "outputs": [
    {
     "name": "stdout",
     "output_type": "stream",
     "text": [
      "[[ 0.13166059  0.37771059  0.20451729  0.40347615  0.48344973]\n",
      " [ 0.89125383  0.05904047  0.73347805  0.00196137  0.80282951]\n",
      " [ 0.19040538  0.27233316  0.94902031  0.60226128  0.43548302]\n",
      " [ 0.12637652  0.97853763  0.48097779  0.58749681  0.32132346]]\n",
      "\n",
      "[[ 0.13166059  0.37771059  0.20451729  0.40347615  0.48344973]\n",
      " [ 0.19040538  0.27233316  0.94902031  0.60226128  0.43548302]]\n",
      "\n",
      "[[ 0.89125383  0.05904047  0.73347805  0.00196137  0.80282951]\n",
      " [ 0.12637652  0.97853763  0.48097779  0.58749681  0.32132346]]\n",
      "\n",
      "[[ 0.89125383  0.05904047  0.73347805  0.00196137  0.80282951]\n",
      " [ 0.19040538  0.27233316  0.94902031  0.60226128  0.43548302]]\n",
      "[ 0.73347805  0.60226128]\n",
      "\n",
      "[[ 0.13166059  0.37771059  0.20451729  0.40347615  0.48344973]\n",
      " [ 0.89125383  0.05904047  0.73347805  0.00196137  0.80282951]\n",
      " [ 0.89125383  0.05904047  0.73347805  0.00196137  0.80282951]\n",
      " [ 0.13166059  0.37771059  0.20451729  0.40347615  0.48344973]]\n",
      "\n",
      "[[ 0.89125383  0.05904047  0.73347805  0.00196137  0.80282951]\n",
      " [ 0.19040538  0.27233316  0.94902031  0.60226128  0.43548302]]\n",
      "[ 0.73347805  0.60226128]\n"
     ]
    }
   ],
   "source": [
    "print x\n",
    "print \n",
    "print x[0:3:2]\n",
    "print\n",
    "# index can be an iterable\n",
    "print x[[1, 3]]\n",
    "print \n",
    "print x[range(1,3)]\n",
    "# x[(1, 2)] is the same as x[1, 2]\n",
    "print x[[(1, 2), (2, 3)]]\n",
    "print\n",
    "# boolean types are converted to int before using\n",
    "print x[[False, True, True, False]]\n",
    "print \n",
    "# an np.array of dtype=boolean (not necessarily same dimension) is used after applying np.where!\n",
    "print x[np.array([False, True, True])]\n",
    "print x[((1, 2), (2, 3))]\n"
   ]
  },
  {
   "cell_type": "markdown",
   "metadata": {},
   "source": [
    "For the compiler x[a, b, c] and x[(a, b, c)] are equivalent and are both regarded as x[(a, b, c)] and translated to a *tuple* given to a BINARY_SUBSCR opcode.\n",
    "\n",
    "x[((a, b), (c, d))] for example is translated by building tuple (a, b), followed by (c, d) and finally building and passing tuple ((a, b), (c, d)) to the subcription operator.\n",
    "\n",
    "x[[(a, b), (c, d)]] is equivalent to l = [(a, b), (c, d)]; x[l]\n",
    "\n",
    "This means that when the compiler encounters x[expr], it assumes that expr is an expr list or a tuple. In the former case, expr list is converted into a tuple before passing it the operator. \n",
    "\n",
    "Therefore for numpy or any other library, x[a, b] = x[(a, b)], x[(a, b), d] = x[((a, b), d)]. How the tuple passed to the interpreter is interpreted however, is up to the type an how its get_item? is implemented."
   ]
  },
  {
   "cell_type": "markdown",
   "metadata": {},
   "source": [
    "## ssh\n",
    "\n",
    "Popen from subprocess can be used to capture input and output from an ssh login (http://python-for-system-administrators.readthedocs.io/en/latest/ssh.html)"
   ]
  },
  {
   "cell_type": "code",
   "execution_count": null,
   "metadata": {
    "collapsed": true
   },
   "outputs": [],
   "source": [
    "import subprocess\n",
    "import sys\n",
    "\n",
    "HOST=\"www.example.org\"\n",
    "# Ports are handled in ~/.ssh/config since we use OpenSSH\n",
    "COMMAND=\"uname -a\"\n",
    "\n",
    "ssh = subprocess.Popen([\"ssh\", \"%s\" % HOST, COMMAND],\n",
    "                       shell=False,\n",
    "                       stdout=subprocess.PIPE,\n",
    "                       stderr=subprocess.PIPE)\n",
    "result = ssh.stdout.readlines()\n",
    "if result == []:\n",
    "    error = ssh.stderr.readlines()\n",
    "    print >>sys.stderr, \"ERROR: %s\" % error\n",
    "else:\n",
    "    print result"
   ]
  },
  {
   "cell_type": "markdown",
   "metadata": {},
   "source": [
    "In the above solution fcntl can be used to make the stdout file descriptor non-blocking. But for some reason the prompt for password is still printed even though stdout is redirected to a pipe.\n",
    "\n",
    "A better way to communicate with interactive processes is through pexpect (http://stackoverflow.com/questions/15166973/sending-a-password-over-ssh-or-scp-with-subprocess-popen). An even simpler and more specifically adapted solution:"
   ]
  },
  {
   "cell_type": "code",
   "execution_count": null,
   "metadata": {
    "collapsed": true
   },
   "outputs": [],
   "source": [
    "import pxssh\n",
    "import getpass\n",
    "try:\n",
    "    s = pxssh.pxssh()\n",
    "    hostname = raw_input('hostname: ')\n",
    "    username = raw_input('username: ')\n",
    "    password = getpass.getpass('password: ')\n",
    "    s.login(hostname, username, password)\n",
    "    s.sendline('uptime')   # run a command\n",
    "    s.prompt()             # match the prompt\n",
    "    print(s.before)        # print everything before the prompt. \n",
    "    s.logout()\n",
    "except pxssh.ExceptionPxssh as e:\n",
    "    print(\"pxssh failed on login.\")\n",
    "    print(e)"
   ]
  }
 ],
 "metadata": {
  "kernelspec": {
   "display_name": "Python 2",
   "language": "python",
   "name": "python2"
  },
  "language_info": {
   "codemirror_mode": {
    "name": "ipython",
    "version": 2
   },
   "file_extension": ".py",
   "mimetype": "text/x-python",
   "name": "python",
   "nbconvert_exporter": "python",
   "pygments_lexer": "ipython2",
   "version": "2.7.6"
  }
 },
 "nbformat": 4,
 "nbformat_minor": 0
}
