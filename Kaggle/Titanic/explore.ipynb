{
 "cells": [
  {
   "cell_type": "code",
   "execution_count": 84,
   "metadata": {
    "collapsed": true
   },
   "outputs": [],
   "source": [
    "def is_column_equal(c):\n",
    "    c1, c2 = c\n",
    "    if c1.dtype != c2.dtype:\n",
    "        raise TypeError, \"Columns must be of equal type\"\n",
    "    \n",
    "    if c1.dtype == object and c2.dtype == object:\n",
    "        print c1, c2\n",
    "        print (c1==c2).mean()\n",
    "        return np.all(c1 == c2)\n",
    "    else:\n",
    "        nan_ind = np.isnan(c1)\n",
    "        return np.all(nan_ind == np.isnan(c2)) and np.all(c1[~nan_ind] == c2[~nan_ind])"
   ]
  },
  {
   "cell_type": "code",
   "execution_count": 73,
   "metadata": {
    "collapsed": false
   },
   "outputs": [],
   "source": [
    "def is_ndarray_equal(x1, x2):\n",
    "    if x1.shape != x2.shape:\n",
    "        return False\n",
    "    return np.all(map(is_column_equal, zip(x1, x2)))\n",
    "\n",
    "def is_array_equal(x1, x2):\n",
    "    if isinstance(x1, np.ndarray) and isinstance(x2, np.ndarray):\n",
    "        return is_ndarray_equal(x1, x2)\n",
    "    if isinstance(x1, pd.DataFrame) and isinstance(x2, pd.DataFrame) \\\n",
    "        or isinstance(x1, pd.Series) and isinstance(x2, pd.Series):\n",
    "        return is_ndarray_equal(x1.values.T, x2.values.T)\n",
    "        \n",
    "    raise TypeError, \"Expected np.ndarray or pd.DataFrame\"\n",
    "    "
   ]
  },
  {
   "cell_type": "code",
   "execution_count": 78,
   "metadata": {
    "collapsed": true
   },
   "outputs": [],
   "source": [
    "import numpy as np\n",
    "import pandas as pd\n",
    "df = pd.read_csv('train.csv')"
   ]
  },
  {
   "cell_type": "code",
   "execution_count": 111,
   "metadata": {
    "collapsed": false
   },
   "outputs": [
    {
     "name": "stderr",
     "output_type": "stream",
     "text": [
      "/usr/local/lib/python2.7/dist-packages/ipykernel/__main__.py:4: FutureWarning: numpy equal will not check object identity in the future. The comparison did not return the same result as suggested by the identity (`is`)) and will change.\n"
     ]
    },
    {
     "ename": "TypeError",
     "evalue": "ufunc 'isnan' not supported for the input types, and the inputs could not be safely coerced to any supported types according to the casting rule ''safe''",
     "output_type": "error",
     "traceback": [
      "\u001b[0;31m---------------------------------------------------------------------------\u001b[0m",
      "\u001b[0;31mTypeError\u001b[0m                                 Traceback (most recent call last)",
      "\u001b[0;32m<ipython-input-111-80f512a6bdfa>\u001b[0m in \u001b[0;36m<module>\u001b[0;34m()\u001b[0m\n\u001b[1;32m      2\u001b[0m \u001b[0ma\u001b[0m \u001b[0;34m=\u001b[0m \u001b[0mdf\u001b[0m\u001b[0;34m.\u001b[0m\u001b[0mvalues\u001b[0m\u001b[0;34m\u001b[0m\u001b[0m\n\u001b[1;32m      3\u001b[0m \u001b[0mb\u001b[0m \u001b[0;34m=\u001b[0m \u001b[0ma\u001b[0m\u001b[0;34m\u001b[0m\u001b[0m\n\u001b[0;32m----> 4\u001b[0;31m \u001b[0;34m(\u001b[0m\u001b[0;34m(\u001b[0m\u001b[0ma\u001b[0m \u001b[0;34m==\u001b[0m \u001b[0mb\u001b[0m\u001b[0;34m)\u001b[0m \u001b[0;34m|\u001b[0m \u001b[0;34m(\u001b[0m\u001b[0mnumpy\u001b[0m\u001b[0;34m.\u001b[0m\u001b[0misnan\u001b[0m\u001b[0;34m(\u001b[0m\u001b[0ma\u001b[0m\u001b[0;34m)\u001b[0m \u001b[0;34m&\u001b[0m \u001b[0mnumpy\u001b[0m\u001b[0;34m.\u001b[0m\u001b[0misnan\u001b[0m\u001b[0;34m(\u001b[0m\u001b[0mb\u001b[0m\u001b[0;34m)\u001b[0m\u001b[0;34m)\u001b[0m\u001b[0;34m)\u001b[0m\u001b[0;34m.\u001b[0m\u001b[0mall\u001b[0m\u001b[0;34m(\u001b[0m\u001b[0;34m)\u001b[0m\u001b[0;34m\u001b[0m\u001b[0m\n\u001b[0m",
      "\u001b[0;31mTypeError\u001b[0m: ufunc 'isnan' not supported for the input types, and the inputs could not be safely coerced to any supported types according to the casting rule ''safe''"
     ]
    }
   ],
   "source": [
    "import numpy \n",
    "a = df.values\n",
    "b = a\n",
    "((a == b) | (numpy.isnan(a) & numpy.isnan(b))).all()"
   ]
  },
  {
   "cell_type": "code",
   "execution_count": 57,
   "metadata": {
    "collapsed": false
   },
   "outputs": [
    {
     "name": "stdout",
     "output_type": "stream",
     "text": [
      "True\n"
     ]
    },
    {
     "name": "stderr",
     "output_type": "stream",
     "text": [
      "/usr/local/lib/python2.7/dist-packages/ipykernel/__main__.py:2: SettingWithCopyWarning: \n",
      "A value is trying to be set on a copy of a slice from a DataFrame.\n",
      "Try using .loc[row_indexer,col_indexer] = value instead\n",
      "\n",
      "See the caveats in the documentation: http://pandas.pydata.org/pandas-docs/stable/indexing.html#indexing-view-versus-copy\n",
      "  from ipykernel import kernelapp as app\n"
     ]
    }
   ],
   "source": [
    "d = df[['Age', 'Fare']]\n",
    "d[d.Age > 20] = np.nan\n",
    "print is_array_equal(d.values, d.values)\n"
   ]
  },
  {
   "cell_type": "code",
   "execution_count": 153,
   "metadata": {
    "collapsed": false
   },
   "outputs": [
    {
     "ename": "TypeError",
     "evalue": "apply() arg 2 expected sequence, found function",
     "output_type": "error",
     "traceback": [
      "\u001b[0;31m---------------------------------------------------------------------------\u001b[0m",
      "\u001b[0;31mTypeError\u001b[0m                                 Traceback (most recent call last)",
      "\u001b[0;32m<ipython-input-153-4579b4ce9685>\u001b[0m in \u001b[0;36m<module>\u001b[0;34m()\u001b[0m\n\u001b[1;32m      1\u001b[0m \u001b[0ml\u001b[0m \u001b[0;34m=\u001b[0m \u001b[0;34m[\u001b[0m\u001b[0;36m1\u001b[0m\u001b[0;34m,\u001b[0m \u001b[0;36m2\u001b[0m\u001b[0;34m]\u001b[0m\u001b[0;34m\u001b[0m\u001b[0m\n\u001b[0;32m----> 2\u001b[0;31m \u001b[0mapply\u001b[0m\u001b[0;34m(\u001b[0m\u001b[0ml\u001b[0m\u001b[0;34m,\u001b[0m \u001b[0mf\u001b[0m\u001b[0;34m)\u001b[0m\u001b[0;34m\u001b[0m\u001b[0m\n\u001b[0m",
      "\u001b[0;31mTypeError\u001b[0m: apply() arg 2 expected sequence, found function"
     ]
    }
   ],
   "source": [
    "l = [1, 2]\n",
    "apply(l, f)"
   ]
  },
  {
   "cell_type": "code",
   "execution_count": 203,
   "metadata": {
    "collapsed": false
   },
   "outputs": [
    {
     "data": {
      "text/plain": [
       "Index([u'PassengerId', u'Survived', u'Pclass', u'Name', u'Sex', u'Age',\n",
       "       u'SibSp', u'Parch', u'Ticket', u'Fare', u'Cabin', u'Embarked'],\n",
       "      dtype='object')"
      ]
     },
     "execution_count": 203,
     "metadata": {},
     "output_type": "execute_result"
    }
   ],
   "source": [
    "df.columns"
   ]
  },
  {
   "cell_type": "code",
   "execution_count": 279,
   "metadata": {
    "collapsed": false
   },
   "outputs": [
    {
     "name": "stdout",
     "output_type": "stream",
     "text": [
      "fraction of (P(Survived|Ticket) = 0.5)  0.238806\n"
     ]
    },
    {
     "data": {
      "image/png": "[encoded data removed]",
      "text/plain": [
       "<matplotlib.figure.Figure at 0x7f388dbd9810>"
      ]
     },
     "metadata": {},
     "output_type": "display_data"
    }
   ],
   "source": [
    "col = 'Ticket'\n",
    "df1 = df[~pd.isnull(df.Ticket)]\n",
    "cg = df1.groupby(col)\n",
    "x = filter(lambda x:len(x[1]) > 1, list(cg))\n",
    "d = pd.DataFrame(map(lambda x:(x[0], x[1].Survived.mean()), x))\n",
    "print \"fraction of (P(Survived|Ticket) = 0.5)  %f\" %(d.iloc[:, 1] == 0.5).mean()\n",
    "d.index = d.iloc[:, 0].values\n",
    "d = d.drop(0, axis = 1)\n",
    "#print d\n",
    "d.columns = ['p']\n",
    "d.plot(kind='bar')\n",
    "import matplotlib.pyplot as plt\n",
    "plt.show()"
   ]
  },
  {
   "cell_type": "code",
   "execution_count": 211,
   "metadata": {
    "collapsed": false
   },
   "outputs": [
    {
     "data": {
      "image/png": "[encoded data removed]",
      "text/plain": [
       "<matplotlib.figure.Figure at 0x7f388defb190>"
      ]
     },
     "metadata": {},
     "output_type": "display_data"
    }
   ],
   "source": [
    "cg = df.groupby('Cabin')\n",
    "x = filter(lambda x:len(x[1]) > 1, list(cg))\n",
    "d = pd.DataFrame(map(lambda x:(x[0], x[1].Survived.mean()), x))\n",
    "d.columns = ['Cabin', 'p']\n",
    "d.plot(kind='bar')\n",
    "import matplotlib.pyplot as plt\n",
    "plt.show()"
   ]
  },
  {
   "cell_type": "code",
   "execution_count": 208,
   "metadata": {
    "collapsed": true
   },
   "outputs": [],
   "source": [
    "from sklearn.feature_selection import chi2"
   ]
  },
  {
   "cell_type": "code",
   "execution_count": 269,
   "metadata": {
    "collapsed": false
   },
   "outputs": [
    {
     "data": {
      "text/html": [
       "<div>\n",
       "<table border=\"1\" class=\"dataframe\">\n",
       "  <thead>\n",
       "    <tr style=\"text-align: right;\">\n",
       "      <th></th>\n",
       "      <th>PassengerId</th>\n",
       "      <th>Survived</th>\n",
       "      <th>Pclass</th>\n",
       "      <th>Name</th>\n",
       "      <th>Sex</th>\n",
       "      <th>Age</th>\n",
       "      <th>SibSp</th>\n",
       "      <th>Parch</th>\n",
       "      <th>Ticket</th>\n",
       "      <th>Fare</th>\n",
       "      <th>Cabin</th>\n",
       "      <th>Embarked</th>\n",
       "    </tr>\n",
       "  </thead>\n",
       "  <tbody>\n",
       "    <tr>\n",
       "      <th>0</th>\n",
       "      <td>1</td>\n",
       "      <td>0</td>\n",
       "      <td>3</td>\n",
       "      <td>Braund, Mr. Owen Harris</td>\n",
       "      <td>male</td>\n",
       "      <td>22</td>\n",
       "      <td>1</td>\n",
       "      <td>0</td>\n",
       "      <td>A/5 21171</td>\n",
       "      <td>7.2500</td>\n",
       "      <td>NaN</td>\n",
       "      <td>S</td>\n",
       "    </tr>\n",
       "    <tr>\n",
       "      <th>1</th>\n",
       "      <td>2</td>\n",
       "      <td>1</td>\n",
       "      <td>1</td>\n",
       "      <td>Cumings, Mrs. John Bradley (Florence Briggs Th...</td>\n",
       "      <td>female</td>\n",
       "      <td>38</td>\n",
       "      <td>1</td>\n",
       "      <td>0</td>\n",
       "      <td>PC 17599</td>\n",
       "      <td>71.2833</td>\n",
       "      <td>C85</td>\n",
       "      <td>C</td>\n",
       "    </tr>\n",
       "    <tr>\n",
       "      <th>2</th>\n",
       "      <td>3</td>\n",
       "      <td>1</td>\n",
       "      <td>3</td>\n",
       "      <td>Heikkinen, Miss. Laina</td>\n",
       "      <td>female</td>\n",
       "      <td>26</td>\n",
       "      <td>0</td>\n",
       "      <td>0</td>\n",
       "      <td>STON/O2. 3101282</td>\n",
       "      <td>7.9250</td>\n",
       "      <td>NaN</td>\n",
       "      <td>S</td>\n",
       "    </tr>\n",
       "    <tr>\n",
       "      <th>3</th>\n",
       "      <td>4</td>\n",
       "      <td>1</td>\n",
       "      <td>1</td>\n",
       "      <td>Futrelle, Mrs. Jacques Heath (Lily May Peel)</td>\n",
       "      <td>female</td>\n",
       "      <td>35</td>\n",
       "      <td>1</td>\n",
       "      <td>0</td>\n",
       "      <td>113803</td>\n",
       "      <td>53.1000</td>\n",
       "      <td>C123</td>\n",
       "      <td>S</td>\n",
       "    </tr>\n",
       "    <tr>\n",
       "      <th>4</th>\n",
       "      <td>5</td>\n",
       "      <td>0</td>\n",
       "      <td>3</td>\n",
       "      <td>Allen, Mr. William Henry</td>\n",
       "      <td>male</td>\n",
       "      <td>35</td>\n",
       "      <td>0</td>\n",
       "      <td>0</td>\n",
       "      <td>373450</td>\n",
       "      <td>8.0500</td>\n",
       "      <td>NaN</td>\n",
       "      <td>S</td>\n",
       "    </tr>\n",
       "  </tbody>\n",
       "</table>\n",
       "</div>"
      ],
      "text/plain": [
       "   PassengerId  Survived  Pclass  \\\n",
       "0            1         0       3   \n",
       "1            2         1       1   \n",
       "2            3         1       3   \n",
       "3            4         1       1   \n",
       "4            5         0       3   \n",
       "\n",
       "                                                Name     Sex  Age  SibSp  \\\n",
       "0                            Braund, Mr. Owen Harris    male   22      1   \n",
       "1  Cumings, Mrs. John Bradley (Florence Briggs Th...  female   38      1   \n",
       "2                             Heikkinen, Miss. Laina  female   26      0   \n",
       "3       Futrelle, Mrs. Jacques Heath (Lily May Peel)  female   35      1   \n",
       "4                           Allen, Mr. William Henry    male   35      0   \n",
       "\n",
       "   Parch            Ticket     Fare Cabin Embarked  \n",
       "0      0         A/5 21171   7.2500   NaN        S  \n",
       "1      0          PC 17599  71.2833   C85        C  \n",
       "2      0  STON/O2. 3101282   7.9250   NaN        S  \n",
       "3      0            113803  53.1000  C123        S  \n",
       "4      0            373450   8.0500   NaN        S  "
      ]
     },
     "execution_count": 269,
     "metadata": {},
     "output_type": "execute_result"
    }
   ],
   "source": [
    "s = set(v[:, 0])\n",
    "mapping = dict(zip(s, range(len(s))))\n",
    "#map(mapping.get, v[:, 0])\n",
    "df.head()"
   ]
  },
  {
   "cell_type": "code",
   "execution_count": 274,
   "metadata": {
    "collapsed": false
   },
   "outputs": [
    {
     "data": {
      "text/plain": [
       "(array([ 162.16823672]), array([  3.80131642e-37]))"
      ]
     },
     "execution_count": 274,
     "metadata": {},
     "output_type": "execute_result"
    }
   ],
   "source": [
    "col = 'Ticket'\n",
    "v = df[~pd.isnull(df[col])][[col, 'Survived']].values\n",
    "s = set(v[:, 0])\n",
    "mapping = dict(zip(s, range(len(s))))\n",
    "chi2(np.array(map(mapping.get, v[:, 0])).reshape(-1, 1), v[:, 1].astype(int))\n"
   ]
  },
  {
   "cell_type": "code",
   "execution_count": 250,
   "metadata": {
    "collapsed": false
   },
   "outputs": [
    {
     "data": {
      "text/plain": [
       "(array([ 0.08510638,  0.00515464]), array([ 0.77049308,  0.9427644 ]))"
      ]
     },
     "execution_count": 250,
     "metadata": {},
     "output_type": "execute_result"
    }
   ],
   "source": [
    "chi2(np.random.randint(2, size=(204, 2)), v[:, 1].astype(int))"
   ]
  },
  {
   "cell_type": "code",
   "execution_count": 285,
   "metadata": {
    "collapsed": true
   },
   "outputs": [],
   "source": [
    "train = pd.read_csv('train.csv')\n",
    "test = pd.read_csv('test.csv')"
   ]
  },
  {
   "cell_type": "code",
   "execution_count": 286,
   "metadata": {
    "collapsed": false
   },
   "outputs": [
    {
     "data": {
      "text/plain": [
       "PassengerId    891\n",
       "Survived       891\n",
       "Pclass         891\n",
       "Name           891\n",
       "Sex            891\n",
       "Age            714\n",
       "SibSp          891\n",
       "Parch          891\n",
       "Ticket         891\n",
       "Fare           891\n",
       "Cabin          204\n",
       "Embarked       889\n",
       "dtype: int64"
      ]
     },
     "execution_count": 286,
     "metadata": {},
     "output_type": "execute_result"
    }
   ],
   "source": [
    "train.count()"
   ]
  },
  {
   "cell_type": "code",
   "execution_count": 283,
   "metadata": {
    "collapsed": false
   },
   "outputs": [
    {
     "data": {
      "text/plain": [
       "PassengerId    418\n",
       "Pclass         418\n",
       "Name           418\n",
       "Sex            418\n",
       "Age            332\n",
       "SibSp          418\n",
       "Parch          418\n",
       "Ticket         418\n",
       "Fare           417\n",
       "Cabin           91\n",
       "Embarked       418\n",
       "dtype: int64"
      ]
     },
     "execution_count": 283,
     "metadata": {},
     "output_type": "execute_result"
    }
   ],
   "source": [
    "test.count()"
   ]
  },
  {
   "cell_type": "code",
   "execution_count": 309,
   "metadata": {
    "collapsed": false
   },
   "outputs": [
    {
     "name": "stderr",
     "output_type": "stream",
     "text": [
      "/usr/local/lib/python2.7/dist-packages/ipykernel/__main__.py:29: SettingWithCopyWarning: \n",
      "A value is trying to be set on a copy of a slice from a DataFrame\n",
      "\n",
      "See the caveats in the documentation: http://pandas.pydata.org/pandas-docs/stable/indexing.html#indexing-view-versus-copy\n",
      "/usr/local/lib/python2.7/dist-packages/ipykernel/__main__.py:86: SettingWithCopyWarning: \n",
      "A value is trying to be set on a copy of a slice from a DataFrame\n",
      "\n",
      "See the caveats in the documentation: http://pandas.pydata.org/pandas-docs/stable/indexing.html#indexing-view-versus-copy\n",
      "/usr/local/lib/python2.7/dist-packages/ipykernel/__main__.py:30: SettingWithCopyWarning: \n",
      "A value is trying to be set on a copy of a slice from a DataFrame\n",
      "\n",
      "See the caveats in the documentation: http://pandas.pydata.org/pandas-docs/stable/indexing.html#indexing-view-versus-copy\n"
     ]
    },
    {
     "name": "stdout",
     "output_type": "stream",
     "text": [
      "(891, 11) (891,)\n",
      "Fitting 3 folds for each of 6 candidates, totalling 18 fits\n"
     ]
    },
    {
     "name": "stderr",
     "output_type": "stream",
     "text": [
      "/usr/local/lib/python2.7/dist-packages/ipykernel/__main__.py:31: SettingWithCopyWarning: \n",
      "A value is trying to be set on a copy of a slice from a DataFrame\n",
      "\n",
      "See the caveats in the documentation: http://pandas.pydata.org/pandas-docs/stable/indexing.html#indexing-view-versus-copy\n",
      "/usr/local/lib/python2.7/dist-packages/ipykernel/__main__.py:21: SettingWithCopyWarning: \n",
      "A value is trying to be set on a copy of a slice from a DataFrame.\n",
      "Try using .loc[row_indexer,col_indexer] = value instead\n",
      "\n",
      "See the caveats in the documentation: http://pandas.pydata.org/pandas-docs/stable/indexing.html#indexing-view-versus-copy\n"
     ]
    },
    {
     "name": "stdout",
     "output_type": "stream",
     "text": [
      "{'clf__n_estimators': 1} 1.0\n",
      "   mean_fit_time  mean_score_time  mean_test_score  mean_train_score  \\\n",
      "0       0.018782         0.001666         1.000000          1.000000   \n",
      "1       0.010364         0.001618         0.777778          0.888889   \n",
      "2       0.017423         0.004031         0.777778          0.944444   \n",
      "3       0.040560         0.009131         1.000000          1.000000   \n",
      "4       0.057419         0.009978         1.000000          1.000000   \n",
      "5       0.105842         0.019189         0.777778          1.000000   \n",
      "\n",
      "  param_clf__n_estimators                      params  rank_test_score  \\\n",
      "0                       1   {u'clf__n_estimators': 1}                1   \n",
      "1                       2   {u'clf__n_estimators': 2}                4   \n",
      "2                       5   {u'clf__n_estimators': 5}                4   \n",
      "3                      10  {u'clf__n_estimators': 10}                1   \n",
      "4                      20  {u'clf__n_estimators': 20}                1   \n",
      "5                      40  {u'clf__n_estimators': 40}                4   \n",
      "\n",
      "   split0_test_score  split0_train_score  split1_test_score  \\\n",
      "0           1.000000            1.000000           1.000000   \n",
      "1           1.000000            1.000000           0.666667   \n",
      "2           0.333333            0.833333           1.000000   \n",
      "3           1.000000            1.000000           1.000000   \n",
      "4           1.000000            1.000000           1.000000   \n",
      "5           0.666667            1.000000           0.666667   \n",
      "\n",
      "   split1_train_score  split2_test_score  split2_train_score  std_fit_time  \\\n",
      "0            1.000000           1.000000            1.000000      0.007108   \n",
      "1            0.833333           0.666667            0.833333      0.003251   \n",
      "2            1.000000           1.000000            1.000000      0.002165   \n",
      "3            1.000000           1.000000            1.000000      0.002307   \n",
      "4            1.000000           1.000000            1.000000      0.005274   \n",
      "5            1.000000           1.000000            1.000000      0.001110   \n",
      "\n",
      "   std_score_time  std_test_score  std_train_score  \n",
      "0        0.000351        0.000000         0.000000  \n",
      "1        0.000211        0.157135         0.078567  \n",
      "2        0.000446        0.314270         0.078567  \n",
      "3        0.001176        0.000000         0.000000  \n",
      "4        0.000124        0.000000         0.000000  \n",
      "5        0.000088        0.157135         0.000000  \n"
     ]
    },
    {
     "name": "stderr",
     "output_type": "stream",
     "text": [
      "[Parallel(n_jobs=4)]: Done  18 out of  18 | elapsed:    1.1s finished\n"
     ]
    },
    {
     "data": {
      "text/plain": [
       "\"\\nclf.fit(X_train, y_train)\\ndf = clean_data(pd.read_csv('test.csv'))\\n#X_test = df.values\\n\\nsubmit = pd.DataFrame({'PassengerId' : df.PassengerId, 'Survived' : clf.predict(df.values)})\\nsubmit.to_csv('submit.csv',index= False)\\n\""
      ]
     },
     "execution_count": 309,
     "metadata": {},
     "output_type": "execute_result"
    }
   ],
   "source": [
    "import pandas as pd\n",
    "import numpy as np\n",
    "from sklearn.ensemble import RandomForestClassifier\n",
    "from sklearn.cross_validation import train_test_split\n",
    "from sklearn.preprocessing import StandardScaler\n",
    "from sklearn.cross_validation import KFold\n",
    "from sklearn.svm import SVC\n",
    "from sklearn.model_selection import GridSearchCV\n",
    "import numpy as np\n",
    "from sklearn.pipeline import Pipeline\n",
    "from sklearn.linear_model import LogisticRegression\n",
    "from sklearn.preprocessing import OneHotEncoder\n",
    "\n",
    "def one_hot_encoder(df):\n",
    "\tfor col in df.columns:\n",
    "\t\tcol_data = df[col]\n",
    "\t\tif col_data.dtype != object:\n",
    "\t\t\tcontinue\n",
    "\t\tvalues = np.unique(col_data)\n",
    "\t\tfor v in values:\n",
    "\t\t\tdf[col + '_' + str(v)] = (df[col] == v).astype(int)\n",
    "\t\tdel df[col]\n",
    "\n",
    "\n",
    "def clean_data(df):\n",
    "\tcolumns = [c for c in df.columns if c not in ['Name', 'Cabin']]\n",
    "\tdf = df[columns]\n",
    "\t#df.Sex = map(lambda s: 1 if s == 'male' else 0, df.Sex)\n",
    "\tdf.Age[df.Age.isnull()] = df.Age[~df.Age.isnull()].mean()\n",
    "\tdf.Fare[df.Fare.isnull()] = df.Fare[~df.Fare.isnull()].mean()\n",
    "\tdf.Embarked[df.Embarked.isnull()] = 'S'\n",
    "\ts = set(df.Ticket)\n",
    "\tticket_map = dict(zip(s, range(len(s))))\n",
    "\tdf.Ticket = map(ticket_map.get, df.Ticket)\n",
    "\t#Embarked_vals = np.unique(df.Embarked)\n",
    "\t# Sorting values may be better\n",
    "\t#Embarked_map = {i:j for i, j in zip(Embarked_vals, range(len(Embarked_vals)))}\n",
    "\t#df.Embarked = map(lambda k: Embarked_map[k], df.Embarked)\n",
    "\t#pd.to_pickle(df, 'df')\n",
    "\tone_hot_encoder(df)\n",
    "\treturn df\n",
    "\n",
    "def eval_classifier(clf, X, y):\n",
    "\t#X_train, X_test, y_train, y_test = train_test_split(X, y, test_size=.3)\n",
    "\tperm = np.random.permutation(X.shape[0])\n",
    "\tX = X[perm]\n",
    "\ty = y[perm]\n",
    "\tscore = []\n",
    "\tfor train_index, test_index in KFold(n = X.shape[0], n_folds=3):\n",
    "\t\tX_train = X[train_index]\n",
    "\t\ty_train = y[train_index]\n",
    "\t\tX_test = X[test_index]\n",
    "\t\ty_test = y[test_index]\n",
    "\t\tsc = StandardScaler()\n",
    "\t\tsc.fit(X_train)\n",
    "\t\tX_train = sc.transform(X_train)\n",
    "\t\tclf.fit(X_train, y_train)\n",
    "\t\ty_pred = clf.predict(sc.transform(X_test))\n",
    "\t\tscore.append(1 - np.abs(y_pred - y_test).mean())\n",
    "\tprint score\n",
    "\tprint np.mean(score)\n",
    "\n",
    "def scorer(estimator, X, y):\n",
    "\ty_pred = estimator.predict(X)\n",
    "\t#assert sorted(np.unique(y_pred)) == [0, 1], \\\n",
    "\t#\t\"prediction array contains values other than 0 and 1\"\n",
    "\treturn np.mean(y_pred == y)\n",
    "\n",
    "def filter_df(df, items):\n",
    "\tcolumns = []\n",
    "\tfor c in df.columns:\n",
    "\t\tinclude = False\n",
    "\t\tfor i in items:\n",
    "\t\t\tif c.startswith(i):\n",
    "\t\t\t\tinclude = True\n",
    "\t\t\t\tbreak\n",
    "\t\tif include:\n",
    "\t\t\tcolumns.append(c)\n",
    "\treturn df[columns]\n",
    "\n",
    "train_df = pd.read_csv('train.csv')\n",
    "test_df = pd.read_csv('test.csv')\n",
    "m_train, n_train = train_df.shape\n",
    "m_test, n_test = test_df.shape\n",
    "df = pd.concat([train_df, test_df], axis = 0)\n",
    "df = clean_data(df)\n",
    "train_df = df.iloc[:m_train, :]\n",
    "test_df = df.iloc[m_train:, :]\n",
    "X_train = train_df[[c for c in train_df.columns if c not in ['Survived', 'PassengerId']]].values\n",
    "#X_train = filter_df(df, ['Sex', 'Pclass', 'Fare']).values\n",
    "y_train = train_df.Survived.values\n",
    "print X_train.shape, y_train.shape\n",
    "\n",
    "clf = RandomForestClassifier()\n",
    "#clf = SVC(kernel='poly')\n",
    "#clf = LogisticRegression()\n",
    "sc = StandardScaler()\n",
    "pl = Pipeline([('sc', sc), ('clf', clf)])\n",
    "#pl = Pipeline([('clf', clf)])\n",
    "\n",
    "param_grid = {}\n",
    "#param_grid['clf__C'] = np.logspace(-1, 1, 3)\n",
    "#param_grid['clf__gamma'] = range(1, 5)\n",
    "param_grid['clf__n_estimators'] = [1, 2, 5, 10, 20, 40]\n",
    "gs = GridSearchCV(pl, param_grid, scoring=scorer, verbose=True, n_jobs=4, cv = KFold(9))\n",
    "gs.fit(X_train, y_train)\n",
    "#eval_classifier(clf, X_train, y_train)\n",
    "print gs.best_params_, gs.best_score_\n",
    "print pd.DataFrame(gs.cv_results_)\n",
    "\n",
    "'''\n",
    "clf.fit(X_train, y_train)\n",
    "df = clean_data(pd.read_csv('test.csv'))\n",
    "#X_test = df.values\n",
    "\n",
    "submit = pd.DataFrame({'PassengerId' : df.PassengerId, 'Survived' : clf.predict(df.values)})\n",
    "submit.to_csv('submit.csv',index= False)\n",
    "'''\n"
   ]
  },
  {
   "cell_type": "code",
   "execution_count": 317,
   "metadata": {
    "collapsed": false
   },
   "outputs": [
    {
     "data": {
      "text/plain": [
       "[('Fare', 0.0),\n",
       " ('Ticket', 7.8908058171821232e-47),\n",
       " ('Sex_female', 6.2105848997692429e-39),\n",
       " ('Sex_male', 6.0778382635344479e-22),\n",
       " ('Pclass', 2.7537856320284722e-08),\n",
       " ('Age', 5.6643179286705534e-07),\n",
       " ('Embarked_C', 6.0750713088770367e-06),\n",
       " ('Parch', 0.0014847067586887819),\n",
       " ('Embarked_S', 0.019134243680856453),\n",
       " ('PassengerId', 0.068736665058577812),\n",
       " ('SibSp', 0.10809421012689488),\n",
       " ('Embarked_Q', 0.91705196345619489)]"
      ]
     },
     "execution_count": 317,
     "metadata": {},
     "output_type": "execute_result"
    }
   ],
   "source": [
    "cols = [c for c in train_df.columns if c != 'Survived']\n",
    "sorted(zip(cols, chi2(train_df[cols].values, train_df.Survived)[1]), key= lambda x:x[1])"
   ]
  }
 ],
 "metadata": {
  "kernelspec": {
   "display_name": "Python 2",
   "language": "python",
   "name": "python2"
  },
  "language_info": {
   "codemirror_mode": {
    "name": "ipython",
    "version": 2
   },
   "file_extension": ".py",
   "mimetype": "text/x-python",
   "name": "python",
   "nbconvert_exporter": "python",
   "pygments_lexer": "ipython2",
   "version": "2.7.12"
  }
 },
 "nbformat": 4,
 "nbformat_minor": 2
}
