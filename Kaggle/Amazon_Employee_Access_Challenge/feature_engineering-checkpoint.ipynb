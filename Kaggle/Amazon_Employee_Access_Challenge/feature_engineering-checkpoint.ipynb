{
 "cells": [
  {
   "cell_type": "code",
   "execution_count": 1,
   "metadata": {
    "collapsed": true
   },
   "outputs": [],
   "source": [
    "import pandas as pd\n",
    "df = pd.read_csv('train.csv')"
   ]
  },
  {
   "cell_type": "code",
   "execution_count": 2,
   "metadata": {
    "collapsed": false
   },
   "outputs": [
    {
     "data": {
      "text/html": [
       "<div>\n",
       "<table border=\"1\" class=\"dataframe\">\n",
       "  <thead>\n",
       "    <tr style=\"text-align: right;\">\n",
       "      <th></th>\n",
       "      <th>ACTION</th>\n",
       "      <th>RESOURCE</th>\n",
       "      <th>MGR_ID</th>\n",
       "      <th>ROLE_ROLLUP_1</th>\n",
       "      <th>ROLE_ROLLUP_2</th>\n",
       "      <th>ROLE_DEPTNAME</th>\n",
       "      <th>ROLE_TITLE</th>\n",
       "      <th>ROLE_FAMILY_DESC</th>\n",
       "      <th>ROLE_FAMILY</th>\n",
       "      <th>ROLE_CODE</th>\n",
       "    </tr>\n",
       "  </thead>\n",
       "  <tbody>\n",
       "    <tr>\n",
       "      <th>0</th>\n",
       "      <td>1</td>\n",
       "      <td>39353</td>\n",
       "      <td>85475</td>\n",
       "      <td>117961</td>\n",
       "      <td>118300</td>\n",
       "      <td>123472</td>\n",
       "      <td>117905</td>\n",
       "      <td>117906</td>\n",
       "      <td>290919</td>\n",
       "      <td>117908</td>\n",
       "    </tr>\n",
       "    <tr>\n",
       "      <th>1</th>\n",
       "      <td>1</td>\n",
       "      <td>17183</td>\n",
       "      <td>1540</td>\n",
       "      <td>117961</td>\n",
       "      <td>118343</td>\n",
       "      <td>123125</td>\n",
       "      <td>118536</td>\n",
       "      <td>118536</td>\n",
       "      <td>308574</td>\n",
       "      <td>118539</td>\n",
       "    </tr>\n",
       "    <tr>\n",
       "      <th>2</th>\n",
       "      <td>1</td>\n",
       "      <td>36724</td>\n",
       "      <td>14457</td>\n",
       "      <td>118219</td>\n",
       "      <td>118220</td>\n",
       "      <td>117884</td>\n",
       "      <td>117879</td>\n",
       "      <td>267952</td>\n",
       "      <td>19721</td>\n",
       "      <td>117880</td>\n",
       "    </tr>\n",
       "    <tr>\n",
       "      <th>3</th>\n",
       "      <td>1</td>\n",
       "      <td>36135</td>\n",
       "      <td>5396</td>\n",
       "      <td>117961</td>\n",
       "      <td>118343</td>\n",
       "      <td>119993</td>\n",
       "      <td>118321</td>\n",
       "      <td>240983</td>\n",
       "      <td>290919</td>\n",
       "      <td>118322</td>\n",
       "    </tr>\n",
       "    <tr>\n",
       "      <th>4</th>\n",
       "      <td>1</td>\n",
       "      <td>42680</td>\n",
       "      <td>5905</td>\n",
       "      <td>117929</td>\n",
       "      <td>117930</td>\n",
       "      <td>119569</td>\n",
       "      <td>119323</td>\n",
       "      <td>123932</td>\n",
       "      <td>19793</td>\n",
       "      <td>119325</td>\n",
       "    </tr>\n",
       "  </tbody>\n",
       "</table>\n",
       "</div>"
      ],
      "text/plain": [
       "   ACTION  RESOURCE  MGR_ID  ROLE_ROLLUP_1  ROLE_ROLLUP_2  ROLE_DEPTNAME  \\\n",
       "0       1     39353   85475         117961         118300         123472   \n",
       "1       1     17183    1540         117961         118343         123125   \n",
       "2       1     36724   14457         118219         118220         117884   \n",
       "3       1     36135    5396         117961         118343         119993   \n",
       "4       1     42680    5905         117929         117930         119569   \n",
       "\n",
       "   ROLE_TITLE  ROLE_FAMILY_DESC  ROLE_FAMILY  ROLE_CODE  \n",
       "0      117905            117906       290919     117908  \n",
       "1      118536            118536       308574     118539  \n",
       "2      117879            267952        19721     117880  \n",
       "3      118321            240983       290919     118322  \n",
       "4      119323            123932        19793     119325  "
      ]
     },
     "execution_count": 2,
     "metadata": {},
     "output_type": "execute_result"
    }
   ],
   "source": [
    "df.head()"
   ]
  },
  {
   "cell_type": "code",
   "execution_count": 3,
   "metadata": {
    "collapsed": false
   },
   "outputs": [
    {
     "data": {
      "text/html": [
       "<div>\n",
       "<table border=\"1\" class=\"dataframe\">\n",
       "  <thead>\n",
       "    <tr style=\"text-align: right;\">\n",
       "      <th></th>\n",
       "      <th>ACTION</th>\n",
       "      <th>RESOURCE</th>\n",
       "      <th>MGR_ID</th>\n",
       "      <th>ROLE_ROLLUP_1</th>\n",
       "      <th>ROLE_ROLLUP_2</th>\n",
       "      <th>ROLE_DEPTNAME</th>\n",
       "      <th>ROLE_TITLE</th>\n",
       "      <th>ROLE_FAMILY_DESC</th>\n",
       "      <th>ROLE_FAMILY</th>\n",
       "      <th>ROLE_CODE</th>\n",
       "    </tr>\n",
       "  </thead>\n",
       "  <tbody>\n",
       "    <tr>\n",
       "      <th>count</th>\n",
       "      <td>32769.000000</td>\n",
       "      <td>32769.000000</td>\n",
       "      <td>32769.000000</td>\n",
       "      <td>32769.000000</td>\n",
       "      <td>32769.000000</td>\n",
       "      <td>32769.000000</td>\n",
       "      <td>32769.000000</td>\n",
       "      <td>32769.000000</td>\n",
       "      <td>32769.000000</td>\n",
       "      <td>32769.000000</td>\n",
       "    </tr>\n",
       "    <tr>\n",
       "      <th>mean</th>\n",
       "      <td>0.942110</td>\n",
       "      <td>42923.916171</td>\n",
       "      <td>25988.957979</td>\n",
       "      <td>116952.627788</td>\n",
       "      <td>118301.823156</td>\n",
       "      <td>118912.779914</td>\n",
       "      <td>125916.152644</td>\n",
       "      <td>170178.369648</td>\n",
       "      <td>183703.408893</td>\n",
       "      <td>119789.430132</td>\n",
       "    </tr>\n",
       "    <tr>\n",
       "      <th>std</th>\n",
       "      <td>0.233539</td>\n",
       "      <td>34173.892702</td>\n",
       "      <td>35928.031650</td>\n",
       "      <td>10875.563591</td>\n",
       "      <td>4551.588572</td>\n",
       "      <td>18961.322917</td>\n",
       "      <td>31036.465825</td>\n",
       "      <td>69509.462130</td>\n",
       "      <td>100488.407413</td>\n",
       "      <td>5784.275516</td>\n",
       "    </tr>\n",
       "    <tr>\n",
       "      <th>min</th>\n",
       "      <td>0.000000</td>\n",
       "      <td>0.000000</td>\n",
       "      <td>25.000000</td>\n",
       "      <td>4292.000000</td>\n",
       "      <td>23779.000000</td>\n",
       "      <td>4674.000000</td>\n",
       "      <td>117879.000000</td>\n",
       "      <td>4673.000000</td>\n",
       "      <td>3130.000000</td>\n",
       "      <td>117880.000000</td>\n",
       "    </tr>\n",
       "    <tr>\n",
       "      <th>25%</th>\n",
       "      <td>1.000000</td>\n",
       "      <td>20299.000000</td>\n",
       "      <td>4566.000000</td>\n",
       "      <td>117961.000000</td>\n",
       "      <td>118102.000000</td>\n",
       "      <td>118395.000000</td>\n",
       "      <td>118274.000000</td>\n",
       "      <td>117906.000000</td>\n",
       "      <td>118363.000000</td>\n",
       "      <td>118232.000000</td>\n",
       "    </tr>\n",
       "    <tr>\n",
       "      <th>50%</th>\n",
       "      <td>1.000000</td>\n",
       "      <td>35376.000000</td>\n",
       "      <td>13545.000000</td>\n",
       "      <td>117961.000000</td>\n",
       "      <td>118300.000000</td>\n",
       "      <td>118921.000000</td>\n",
       "      <td>118568.000000</td>\n",
       "      <td>128696.000000</td>\n",
       "      <td>119006.000000</td>\n",
       "      <td>118570.000000</td>\n",
       "    </tr>\n",
       "    <tr>\n",
       "      <th>75%</th>\n",
       "      <td>1.000000</td>\n",
       "      <td>74189.000000</td>\n",
       "      <td>42034.000000</td>\n",
       "      <td>117961.000000</td>\n",
       "      <td>118386.000000</td>\n",
       "      <td>120535.000000</td>\n",
       "      <td>120006.000000</td>\n",
       "      <td>235280.000000</td>\n",
       "      <td>290919.000000</td>\n",
       "      <td>119348.000000</td>\n",
       "    </tr>\n",
       "    <tr>\n",
       "      <th>max</th>\n",
       "      <td>1.000000</td>\n",
       "      <td>312153.000000</td>\n",
       "      <td>311696.000000</td>\n",
       "      <td>311178.000000</td>\n",
       "      <td>286791.000000</td>\n",
       "      <td>286792.000000</td>\n",
       "      <td>311867.000000</td>\n",
       "      <td>311867.000000</td>\n",
       "      <td>308574.000000</td>\n",
       "      <td>270691.000000</td>\n",
       "    </tr>\n",
       "  </tbody>\n",
       "</table>\n",
       "</div>"
      ],
      "text/plain": [
       "             ACTION       RESOURCE         MGR_ID  ROLE_ROLLUP_1  \\\n",
       "count  32769.000000   32769.000000   32769.000000   32769.000000   \n",
       "mean       0.942110   42923.916171   25988.957979  116952.627788   \n",
       "std        0.233539   34173.892702   35928.031650   10875.563591   \n",
       "min        0.000000       0.000000      25.000000    4292.000000   \n",
       "25%        1.000000   20299.000000    4566.000000  117961.000000   \n",
       "50%        1.000000   35376.000000   13545.000000  117961.000000   \n",
       "75%        1.000000   74189.000000   42034.000000  117961.000000   \n",
       "max        1.000000  312153.000000  311696.000000  311178.000000   \n",
       "\n",
       "       ROLE_ROLLUP_2  ROLE_DEPTNAME     ROLE_TITLE  ROLE_FAMILY_DESC  \\\n",
       "count   32769.000000   32769.000000   32769.000000      32769.000000   \n",
       "mean   118301.823156  118912.779914  125916.152644     170178.369648   \n",
       "std      4551.588572   18961.322917   31036.465825      69509.462130   \n",
       "min     23779.000000    4674.000000  117879.000000       4673.000000   \n",
       "25%    118102.000000  118395.000000  118274.000000     117906.000000   \n",
       "50%    118300.000000  118921.000000  118568.000000     128696.000000   \n",
       "75%    118386.000000  120535.000000  120006.000000     235280.000000   \n",
       "max    286791.000000  286792.000000  311867.000000     311867.000000   \n",
       "\n",
       "         ROLE_FAMILY      ROLE_CODE  \n",
       "count   32769.000000   32769.000000  \n",
       "mean   183703.408893  119789.430132  \n",
       "std    100488.407413    5784.275516  \n",
       "min      3130.000000  117880.000000  \n",
       "25%    118363.000000  118232.000000  \n",
       "50%    119006.000000  118570.000000  \n",
       "75%    290919.000000  119348.000000  \n",
       "max    308574.000000  270691.000000  "
      ]
     },
     "execution_count": 3,
     "metadata": {},
     "output_type": "execute_result"
    }
   ],
   "source": [
    "df.describe()"
   ]
  },
  {
   "cell_type": "code",
   "execution_count": 21,
   "metadata": {
    "collapsed": false
   },
   "outputs": [
    {
     "name": "stdout",
     "output_type": "stream",
     "text": [
      "ACTION 2\n",
      "RESOURCE 7518\n",
      "MGR_ID 4243\n",
      "ROLE_ROLLUP_1 128\n",
      "ROLE_ROLLUP_2 177\n",
      "ROLE_DEPTNAME 449\n",
      "ROLE_TITLE 343\n",
      "ROLE_FAMILY_DESC 2358\n",
      "ROLE_FAMILY 67\n",
      "ROLE_CODE 343\n"
     ]
    }
   ],
   "source": [
    "for c in df.columns:\n",
    "    print c, len(np.unique(df[c]))"
   ]
  },
  {
   "cell_type": "code",
   "execution_count": 35,
   "metadata": {
    "collapsed": false
   },
   "outputs": [
    {
     "data": {
      "text/plain": [
       "<4x3 sparse matrix of type '<type 'numpy.int64'>'\n",
       "\twith 4 stored elements in Compressed Sparse Row format>"
      ]
     },
     "execution_count": 35,
     "metadata": {},
     "output_type": "execute_result"
    }
   ],
   "source": [
    "import numpy as np\n",
    "from sklearn import preprocessing\n",
    "\n",
    "lb = preprocessing.LabelBinarizer(sparse_output=True)\n",
    "\n",
    "lb.fit(np.array([[0, 1, 1], [1, 0, 0]]))\n",
    "\n",
    "lb.classes_\n",
    "\n",
    "lb.transform([0, 1, 2, 1])\n",
    "\n"
   ]
  },
  {
   "cell_type": "code",
   "execution_count": 28,
   "metadata": {
    "collapsed": false
   },
   "outputs": [
    {
     "data": {
      "text/html": [
       "<div>\n",
       "<table border=\"1\" class=\"dataframe\">\n",
       "  <thead>\n",
       "    <tr style=\"text-align: right;\">\n",
       "      <th></th>\n",
       "      <th>ACTION</th>\n",
       "      <th>RESOURCE</th>\n",
       "      <th>MGR_ID</th>\n",
       "      <th>ROLE_ROLLUP_1</th>\n",
       "      <th>ROLE_ROLLUP_2</th>\n",
       "      <th>ROLE_DEPTNAME</th>\n",
       "      <th>ROLE_TITLE</th>\n",
       "      <th>ROLE_FAMILY_DESC</th>\n",
       "      <th>ROLE_FAMILY</th>\n",
       "      <th>ROLE_CODE</th>\n",
       "    </tr>\n",
       "  </thead>\n",
       "  <tbody>\n",
       "    <tr>\n",
       "      <th>0</th>\n",
       "      <td>1</td>\n",
       "      <td>39353</td>\n",
       "      <td>85475</td>\n",
       "      <td>117961</td>\n",
       "      <td>118300</td>\n",
       "      <td>123472</td>\n",
       "      <td>117905</td>\n",
       "      <td>117906</td>\n",
       "      <td>290919</td>\n",
       "      <td>117908</td>\n",
       "    </tr>\n",
       "    <tr>\n",
       "      <th>1</th>\n",
       "      <td>1</td>\n",
       "      <td>17183</td>\n",
       "      <td>1540</td>\n",
       "      <td>117961</td>\n",
       "      <td>118343</td>\n",
       "      <td>123125</td>\n",
       "      <td>118536</td>\n",
       "      <td>118536</td>\n",
       "      <td>308574</td>\n",
       "      <td>118539</td>\n",
       "    </tr>\n",
       "    <tr>\n",
       "      <th>2</th>\n",
       "      <td>1</td>\n",
       "      <td>36724</td>\n",
       "      <td>14457</td>\n",
       "      <td>118219</td>\n",
       "      <td>118220</td>\n",
       "      <td>117884</td>\n",
       "      <td>117879</td>\n",
       "      <td>267952</td>\n",
       "      <td>19721</td>\n",
       "      <td>117880</td>\n",
       "    </tr>\n",
       "    <tr>\n",
       "      <th>3</th>\n",
       "      <td>1</td>\n",
       "      <td>36135</td>\n",
       "      <td>5396</td>\n",
       "      <td>117961</td>\n",
       "      <td>118343</td>\n",
       "      <td>119993</td>\n",
       "      <td>118321</td>\n",
       "      <td>240983</td>\n",
       "      <td>290919</td>\n",
       "      <td>118322</td>\n",
       "    </tr>\n",
       "    <tr>\n",
       "      <th>4</th>\n",
       "      <td>1</td>\n",
       "      <td>42680</td>\n",
       "      <td>5905</td>\n",
       "      <td>117929</td>\n",
       "      <td>117930</td>\n",
       "      <td>119569</td>\n",
       "      <td>119323</td>\n",
       "      <td>123932</td>\n",
       "      <td>19793</td>\n",
       "      <td>119325</td>\n",
       "    </tr>\n",
       "  </tbody>\n",
       "</table>\n",
       "</div>"
      ],
      "text/plain": [
       "   ACTION  RESOURCE  MGR_ID  ROLE_ROLLUP_1  ROLE_ROLLUP_2  ROLE_DEPTNAME  \\\n",
       "0       1     39353   85475         117961         118300         123472   \n",
       "1       1     17183    1540         117961         118343         123125   \n",
       "2       1     36724   14457         118219         118220         117884   \n",
       "3       1     36135    5396         117961         118343         119993   \n",
       "4       1     42680    5905         117929         117930         119569   \n",
       "\n",
       "   ROLE_TITLE  ROLE_FAMILY_DESC  ROLE_FAMILY  ROLE_CODE  \n",
       "0      117905            117906       290919     117908  \n",
       "1      118536            118536       308574     118539  \n",
       "2      117879            267952        19721     117880  \n",
       "3      118321            240983       290919     118322  \n",
       "4      119323            123932        19793     119325  "
      ]
     },
     "execution_count": 28,
     "metadata": {},
     "output_type": "execute_result"
    }
   ],
   "source": [
    "df.head()\n"
   ]
  },
  {
   "cell_type": "code",
   "execution_count": 30,
   "metadata": {
    "collapsed": false
   },
   "outputs": [
    {
     "data": {
      "text/plain": [
       "(32769, 67)"
      ]
     },
     "execution_count": 30,
     "metadata": {},
     "output_type": "execute_result"
    }
   ],
   "source": [
    "lb.fit_transform(df.ROLE_FAMILY).shapeb"
   ]
  },
  {
   "cell_type": "code",
   "execution_count": 54,
   "metadata": {
    "collapsed": false
   },
   "outputs": [
    {
     "name": "stdout",
     "output_type": "stream",
     "text": [
      "ACTION\n",
      "(32769, 0) (32769, 1)\n",
      "RESOURCE\n",
      "(32769, 0) (32769, 7518)\n",
      "MGR_ID\n",
      "(32769, 0) (32769, 4243)\n",
      "ROLE_ROLLUP_1\n",
      "(32769, 0) (32769, 128)\n",
      "ROLE_ROLLUP_2\n",
      "(32769, 0) (32769, 177)\n",
      "ROLE_DEPTNAME\n",
      "(32769, 0) (32769, 449)\n",
      "ROLE_TITLE\n",
      "(32769, 0) (32769, 343)\n",
      "ROLE_FAMILY_DESC\n",
      "(32769, 0) (32769, 2358)\n",
      "ROLE_FAMILY\n",
      "(32769, 0) (32769, 67)\n",
      "ROLE_CODE\n",
      "(32769, 0) (32769, 343)\n"
     ]
    }
   ],
   "source": [
    "d = {}\n",
    "for c in df.columns:\n",
    "    print c\n",
    "    col_b = lb.fit_transform(df[c])\n",
    "    #col_b = pd.DataFrame(col_b, columns=map(lambda x: c + '_'+str(x), range(col_b.shape[1])))\n",
    "    #\n",
    "    #df1 = pd.concat([df1, col_b], axis=1)\n",
    "    print a1.shape, col_b.shape\n",
    "    d[c] = col_b\n",
    "\n"
   ]
  },
  {
   "cell_type": "code",
   "execution_count": 60,
   "metadata": {
    "collapsed": false
   },
   "outputs": [],
   "source": [
    "d.values()\n",
    "from scipy.sparse import hstack\n",
    "a = hstack(d.values())\n"
   ]
  },
  {
   "cell_type": "code",
   "execution_count": 62,
   "metadata": {
    "collapsed": false
   },
   "outputs": [
    {
     "data": {
      "text/plain": [
       "<32769x15627 sparse matrix of type '<type 'numpy.int64'>'\n",
       "\twith 325793 stored elements in COOrdinate format>"
      ]
     },
     "execution_count": 62,
     "metadata": {},
     "output_type": "execute_result"
    }
   ],
   "source": [
    "a"
   ]
  }
 ],
 "metadata": {
  "kernelspec": {
   "display_name": "Python 2",
   "language": "python",
   "name": "python2"
  },
  "language_info": {
   "codemirror_mode": {
    "name": "ipython",
    "version": 2
   },
   "file_extension": ".py",
   "mimetype": "text/x-python",
   "name": "python",
   "nbconvert_exporter": "python",
   "pygments_lexer": "ipython2",
   "version": "2.7.12"
  }
 },
 "nbformat": 4,
 "nbformat_minor": 1
}
