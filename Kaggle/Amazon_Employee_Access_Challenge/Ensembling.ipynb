{
 "cells": [
  {
   "cell_type": "code",
   "execution_count": 1,
   "metadata": {
    "collapsed": false
   },
   "outputs": [],
   "source": [
    "import pandas as pd\n",
    "import numpy as np\n",
    "from sklearn.preprocessing import OneHotEncoder\n",
    "\n",
    "train = pd.read_csv('train.csv')\n",
    "test = pd.read_csv('test.csv')\n",
    "\n",
    "ohe = OneHotEncoder()\n",
    "X_train = train.iloc[:, 1:]\n",
    "y_train = train.iloc[:, 0]\n",
    "X_test = test.iloc[:, 1:]\n",
    "\n",
    "X_total = pd.concat([X_train, X_test])\n",
    "\n",
    "X_total_ohe = ohe.fit_transform(X_total)\n",
    "\n",
    "n_train = X_train.shape[0]\n",
    "\n",
    "X_train_ohe = X_total_ohe[:n_train,]\n",
    "\n",
    "X_test_ohe = X_total_ohe[n_train:,]\n",
    "\n"
   ]
  },
  {
   "cell_type": "code",
   "execution_count": 4,
   "metadata": {
    "collapsed": true
   },
   "outputs": [],
   "source": [
    "def make_submission_file(y_test_pred, filename=None):\n",
    "    submit_data = pd.DataFrame(columns=['ID', 'ACTION'])\n",
    "    submit_data['ID'] = xrange(1, len(y_test_pred)+1)\n",
    "    submit_data['ACTION'] = y_test_pred\n",
    "    if not filename:\n",
    "        filename = 'submit.csv'\n",
    "    submit_data.to_csv(filename, index=False)"
   ]
  },
  {
   "cell_type": "code",
   "execution_count": 5,
   "metadata": {
    "collapsed": false
   },
   "outputs": [],
   "source": [
    "from sklearn.ensemble import RandomForestClassifier\n",
    "from sklearn.linear_model import LogisticRegression, LinearRegression\n",
    "from sklearn.svm import SVC\n",
    "\n",
    "clf_rf = RandomForestClassifier()\n",
    "clf_logr = LogisticRegression()\n",
    "clf_svm = SVC(probability=True)\n",
    "\n",
    "\n"
   ]
  },
  {
   "cell_type": "code",
   "execution_count": 6,
   "metadata": {
    "collapsed": false
   },
   "outputs": [
    {
     "ename": "ImportError",
     "evalue": "No module named mlxtend.classifier",
     "output_type": "error",
     "traceback": [
      "\u001b[0;31m---------------------------------------------------------------------------\u001b[0m",
      "\u001b[0;31mImportError\u001b[0m                               Traceback (most recent call last)",
      "\u001b[0;32m<ipython-input-6-ab193573196d>\u001b[0m in \u001b[0;36m<module>\u001b[0;34m()\u001b[0m\n\u001b[0;32m----> 1\u001b[0;31m \u001b[0;32mfrom\u001b[0m \u001b[0mmlxtend\u001b[0m\u001b[0;34m.\u001b[0m\u001b[0mclassifier\u001b[0m \u001b[0;32mimport\u001b[0m \u001b[0mStackingClassifier\u001b[0m\u001b[0;34m\u001b[0m\u001b[0m\n\u001b[0m\u001b[1;32m      2\u001b[0m \u001b[0;34m\u001b[0m\u001b[0m\n\u001b[1;32m      3\u001b[0m \u001b[0mlr\u001b[0m \u001b[0;34m=\u001b[0m \u001b[0mLinearRegression\u001b[0m\u001b[0;34m(\u001b[0m\u001b[0;34m)\u001b[0m\u001b[0;34m\u001b[0m\u001b[0m\n\u001b[1;32m      4\u001b[0m clf_stacking = StackingClassifier(classifiers=[clf_rf, clf_logr, clf_svm], \n\u001b[1;32m      5\u001b[0m                           meta_classifier=lr)\n",
      "\u001b[0;31mImportError\u001b[0m: No module named mlxtend.classifier"
     ]
    }
   ],
   "source": [
    "from mlxtend.classifier import StackingClassifier\n",
    "\n",
    "lr = LinearRegression()\n",
    "clf_stacking = StackingClassifier(classifiers=[clf_rf, clf_logr, clf_svm], \n",
    "                          meta_classifier=lr)"
   ]
  },
  {
   "cell_type": "code",
   "execution_count": 7,
   "metadata": {
    "collapsed": false
   },
   "outputs": [
    {
     "ename": "NameError",
     "evalue": "name 'clf_stacking' is not defined",
     "output_type": "error",
     "traceback": [
      "\u001b[0;31m---------------------------------------------------------------------------\u001b[0m",
      "\u001b[0;31mNameError\u001b[0m                                 Traceback (most recent call last)",
      "\u001b[0;32m<ipython-input-7-d0ea0de7ee1e>\u001b[0m in \u001b[0;36m<module>\u001b[0;34m()\u001b[0m\n\u001b[1;32m      8\u001b[0m     \u001b[0;32mreturn\u001b[0m \u001b[0mroc_auc_score\u001b[0m\u001b[0;34m(\u001b[0m\u001b[0my\u001b[0m\u001b[0;34m,\u001b[0m \u001b[0my_pred\u001b[0m\u001b[0;34m)\u001b[0m\u001b[0;34m\u001b[0m\u001b[0m\n\u001b[1;32m      9\u001b[0m \u001b[0;34m\u001b[0m\u001b[0m\n\u001b[0;32m---> 10\u001b[0;31m scores = model_selection.cross_val_score(clf_stacking, X_train_ohe, y_train, \n\u001b[0m\u001b[1;32m     11\u001b[0m                                               cv=3, scoring=scoring)\n\u001b[1;32m     12\u001b[0m \u001b[0mscores\u001b[0m\u001b[0;34m\u001b[0m\u001b[0m\n",
      "\u001b[0;31mNameError\u001b[0m: name 'clf_stacking' is not defined"
     ]
    }
   ],
   "source": [
    "from sklearn import model_selection\n",
    "from sklearn.metrics import roc_auc_score\n",
    "\n",
    "def scoring(estimator, X, y):\n",
    "    #y_pred = estimator.predict_proba(X)\n",
    "    #return roc_auc_score(y, y_pred[:, 1])\n",
    "    y_pred = estimator.predict(X)\n",
    "    return roc_auc_score(y, y_pred)\n",
    "\n",
    "scores = model_selection.cross_val_score(clf_stacking, X_train_ohe, y_train, \n",
    "                                              cv=3, scoring=scoring)\n",
    "scores"
   ]
  },
  {
   "cell_type": "code",
   "execution_count": 5,
   "metadata": {
    "collapsed": false
   },
   "outputs": [],
   "source": [
    "from sklearn.base import BaseEstimator\n",
    "\n",
    "class StackingClassifier1(BaseEstimator):\n",
    "    \n",
    "    def __init__(self, clfs_stage1, clf_stage2):\n",
    "        self.clfs_stage1 = clfs_stage1\n",
    "        self.clf_stage2 = clf_stage2\n",
    "        \n",
    "        \n",
    "    def fit(self, X, y):\n",
    "        X_tr, X_cv, y_tr, y_cv = model_selection.train_test_split(X, y, test_size=0.33)\n",
    "        \n",
    "        pred_stage1 = []\n",
    "        for clf in self.clfs_stage1:\n",
    "            clf.fit(X_tr, y_tr)\n",
    "            pred_stage1.append(clf.predict_proba(X_cv)[:, 1].reshape(-1, 1))\n",
    "        print([i.shape for i in pred_stage1])\n",
    "        pred_stage1_stacked = np.hstack(pred_stage1)\n",
    "        print(pred_stage1_stacked.shape)\n",
    "        print\n",
    "        \n",
    "        self.clf_stage2.fit(pred_stage1_stacked, y_cv)\n",
    "    \n",
    "    \n",
    "    def predict_proba(self, X):\n",
    "        pred_stage1 = []\n",
    "        for clf in self.clfs_stage1:\n",
    "            pred_stage1.append(clf.predict_proba(X)[:, 1].reshape(-1, 1))\n",
    "            \n",
    "        pred_stage1_stacked = np.hstack(pred_stage1)\n",
    "        \n",
    "        clf_stage2 = self.clf_stage2\n",
    "        if hasattr(clf_stage2, 'predict_proba'):\n",
    "            return self.clf_stage2.predict_proba(pred_stage1_stacked)[:, 1]\n",
    "        else:\n",
    "            return self.clf_stage2.predict(pred_stage1_stacked)\n",
    "        \n",
    "    def predict(self, X):\n",
    "        return self.predict_proba(X)\n",
    "    "
   ]
  },
  {
   "cell_type": "code",
   "execution_count": 24,
   "metadata": {
    "collapsed": false
   },
   "outputs": [
    {
     "data": {
      "text/plain": [
       "array([  0.1       ,   0.16681005,   0.27825594,   0.46415888,\n",
       "         0.77426368,   1.29154967,   2.15443469,   3.59381366,\n",
       "         5.9948425 ,  10.        ])"
      ]
     },
     "execution_count": 24,
     "metadata": {},
     "output_type": "execute_result"
    }
   ],
   "source": [
    "\n",
    "np.logspace(-1, 1, 10)"
   ]
  },
  {
   "cell_type": "code",
   "execution_count": 27,
   "metadata": {
    "collapsed": false
   },
   "outputs": [],
   "source": [
    "from sklearn.ensemble import GradientBoostingClassifier, ExtraTreesClassifier\n",
    "from sklearn.linear_model import RidgeCV\n",
    "\n",
    "logr = LogisticRegression(C=3)\n",
    "lr = RidgeCV(alphas=np.logspace(-1, 1, 10), cv=10)\n",
    "clf_etc = ExtraTreesClassifier()\n",
    "clf_gbc = GradientBoostingClassifier()\n",
    "clf_stacking = StackingClassifier1([clf_rf, clf_logr, clf_etc], lr)"
   ]
  },
  {
   "cell_type": "code",
   "execution_count": 28,
   "metadata": {
    "collapsed": false
   },
   "outputs": [
    {
     "name": "stdout",
     "output_type": "stream",
     "text": [
      "[(7210, 1), (7210, 1), (7210, 1)]\n",
      "(7210, 3)\n",
      "\n",
      "[(7210, 1), (7210, 1), (7210, 1)]\n",
      "(7210, 3)\n",
      "\n",
      "[(7210, 1), (7210, 1), (7210, 1)]\n",
      "(7210, 3)\n",
      "\n"
     ]
    },
    {
     "data": {
      "text/plain": [
       "array([ 0.85183368,  0.83133105,  0.84840628])"
      ]
     },
     "execution_count": 28,
     "metadata": {},
     "output_type": "execute_result"
    }
   ],
   "source": [
    "from sklearn import model_selection\n",
    "from sklearn.metrics import roc_auc_score\n",
    "\n",
    "def scoring_roc_auc(estimator, X, y):\n",
    "    #y_pred = estimator.predict_proba(X)\n",
    "    #return roc_auc_score(y, y_pred[:, 1])\n",
    "    y_pred = estimator.predict(X)\n",
    "    return roc_auc_score(y, y_pred)\n",
    "\n",
    "scores = model_selection.cross_val_score(clf_stacking, X_train_ohe, y_train, \n",
    "                                              cv=3, scoring=scoring_roc_auc, n_jobs=4)\n",
    "scores"
   ]
  },
  {
   "cell_type": "code",
   "execution_count": 11,
   "metadata": {
    "collapsed": true
   },
   "outputs": [],
   "source": [
    "model_selection.cross_val_score?"
   ]
  },
  {
   "cell_type": "code",
   "execution_count": 68,
   "metadata": {
    "collapsed": true
   },
   "outputs": [],
   "source": [
    "a1 = np.array(range(5))"
   ]
  },
  {
   "cell_type": "code",
   "execution_count": 78,
   "metadata": {
    "collapsed": false
   },
   "outputs": [
    {
     "data": {
      "text/plain": [
       "array([[0, 0],\n",
       "       [1, 1],\n",
       "       [2, 2],\n",
       "       [3, 3],\n",
       "       [4, 4]])"
      ]
     },
     "execution_count": 78,
     "metadata": {},
     "output_type": "execute_result"
    }
   ],
   "source": [
    "np.hstack([a1.reshape(-1, 1), a1.reshape(-1, 1)])"
   ]
  },
  {
   "cell_type": "code",
   "execution_count": 119,
   "metadata": {
    "collapsed": false
   },
   "outputs": [
    {
     "name": "stdout",
     "output_type": "stream",
     "text": [
      "[(10814, 1), (10814, 1)]\n",
      "(10814, 2)\n",
      "\n"
     ]
    }
   ],
   "source": [
    "clf_stacking.fit(X_train_ohe, y_train)\n",
    "y_test_pred = clf_stacking.predict(X_test_ohe)\n",
    "make_submission_file(y_test_pred)\n"
   ]
  },
  {
   "cell_type": "code",
   "execution_count": 121,
   "metadata": {
    "collapsed": false
   },
   "outputs": [
    {
     "name": "stdout",
     "output_type": "stream",
     "text": [
      "-rw-rw-r-- 1 amir amir 1219868 May 24 18:40 submit.csv\r\n"
     ]
    }
   ],
   "source": [
    "!ls -l submit.csv\n"
   ]
  }
 ],
 "metadata": {
  "kernelspec": {
   "display_name": "Python 2",
   "language": "python",
   "name": "python2"
  },
  "language_info": {
   "codemirror_mode": {
    "name": "ipython",
    "version": 2
   },
   "file_extension": ".py",
   "mimetype": "text/x-python",
   "name": "python",
   "nbconvert_exporter": "python",
   "pygments_lexer": "ipython2",
   "version": "2.7.6"
  }
 },
 "nbformat": 4,
 "nbformat_minor": 2
}
