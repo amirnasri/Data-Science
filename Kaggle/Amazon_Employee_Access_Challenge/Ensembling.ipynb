{
 "cells": [
  {
   "cell_type": "code",
   "execution_count": null,
   "metadata": {
    "collapsed": false
   },
   "outputs": [],
   "source": [
    "import pandas as pd\n",
    "import numpy as np\n",
    "from sklearn.preprocessing import OneHotEncoder\n",
    "\n",
    "train = pd.read_csv('train.csv')\n",
    "test = pd.read_csv('test.csv')\n",
    "\n",
    "ohe = OneHotEncoder()\n",
    "X_train = train.iloc[:, 1:]\n",
    "y_train = train.iloc[:, 0]\n",
    "X_test = test.iloc[:, 1:]\n",
    "\n",
    "X_total = pd.concat([X_train, X_test])\n",
    "\n",
    "X_total_ohe = ohe.fit_transform(X_total)\n",
    "\n",
    "n_train = X_train.shape[0]\n",
    "\n",
    "X_train_ohe = X_total_ohe[:n_train,]\n",
    "\n",
    "X_test_ohe = X_total_ohe[n_train:,]\n",
    "\n"
   ]
  },
  {
   "cell_type": "code",
   "execution_count": 43,
   "metadata": {
    "collapsed": true
   },
   "outputs": [],
   "source": [
    "def make_submission_file(y_test_pred, filename=None):\n",
    "    submit_data = pd.DataFrame(columns=['ID', 'ACTION'])\n",
    "    submit_data['ID'] = xrange(1, len(y_test_pred)+1)\n",
    "    submit_data['ACTION'] = y_test_pred\n",
    "    if not filename:\n",
    "        filename = 'submit.csv'\n",
    "    submit_data.to_csv(filename, index=False)"
   ]
  },
  {
   "cell_type": "code",
   "execution_count": 106,
   "metadata": {
    "collapsed": false
   },
   "outputs": [],
   "source": [
    "from sklearn.ensemble import RandomForestClassifier\n",
    "from sklearn.linear_model import LogisticRegression, LinearRegression\n",
    "from sklearn.svm import SVC\n",
    "\n",
    "clf_rf = RandomForestClassifier()\n",
    "clf_logr = LogisticRegression()\n",
    "clf_svm = SVC(probability=True)\n",
    "\n",
    "\n"
   ]
  },
  {
   "cell_type": "code",
   "execution_count": 101,
   "metadata": {
    "collapsed": false
   },
   "outputs": [],
   "source": [
    "from mlxtend.classifier import StackingClassifier\n",
    "\n",
    "lr = LinearRegression()\n",
    "clf_stacking = StackingClassifier(classifiers=[clf_rf, clf_logr, clf_svm], \n",
    "                          meta_classifier=lr)"
   ]
  },
  {
   "cell_type": "code",
   "execution_count": 46,
   "metadata": {
    "collapsed": false
   },
   "outputs": [
    {
     "data": {
      "text/plain": [
       "array([ 0.69161408,  0.6860398 ,  0.6840908 ])"
      ]
     },
     "execution_count": 46,
     "metadata": {},
     "output_type": "execute_result"
    }
   ],
   "source": [
    "from sklearn import model_selection\n",
    "from sklearn.metrics import roc_auc_score\n",
    "\n",
    "def scoring(estimator, X, y):\n",
    "    #y_pred = estimator.predict_proba(X)\n",
    "    #return roc_auc_score(y, y_pred[:, 1])\n",
    "    y_pred = estimator.predict(X)\n",
    "    return roc_auc_score(y, y_pred)\n",
    "\n",
    "scores = model_selection.cross_val_score(clf_stacking, X_train_ohe, y_train, \n",
    "                                              cv=3, scoring=scoring)\n",
    "scores"
   ]
  },
  {
   "cell_type": "code",
   "execution_count": 114,
   "metadata": {
    "collapsed": false
   },
   "outputs": [],
   "source": [
    "from sklearn.base import BaseEstimator\n",
    "\n",
    "class StackingClassifier1(BaseEstimator):\n",
    "    \n",
    "    def __init__(self, clfs_stage1, clf_stage2):\n",
    "        self.clfs_stage1 = clfs_stage1\n",
    "        self.clf_stage2 = clf_stage2\n",
    "        \n",
    "        \n",
    "    def fit(self, X, y):\n",
    "        X_tr, X_cv, y_tr, y_cv = model_selection.train_test_split(X, y, test_size=0.33)\n",
    "        \n",
    "        pred_stage1 = []\n",
    "        for clf in self.clfs_stage1:\n",
    "            clf.fit(X_tr, y_tr)\n",
    "            pred_stage1.append(clf.predict_proba(X_cv)[:, 1].reshape(-1, 1))\n",
    "        print([i.shape for i in pred_stage1])\n",
    "        pred_stage1_stacked = np.hstack(pred_stage1)\n",
    "        print(pred_stage1_stacked.shape)\n",
    "        print\n",
    "        \n",
    "        self.clf_stage2.fit(pred_stage1_stacked, y_cv)\n",
    "    \n",
    "    \n",
    "    def predict_proba(self, X):\n",
    "        pred_stage1 = []\n",
    "        for clf in self.clfs_stage1:\n",
    "            pred_stage1.append(clf.predict_proba(X)[:, 1].reshape(-1, 1))\n",
    "            \n",
    "        pred_stage1_stacked = np.hstack(pred_stage1)\n",
    "        \n",
    "        clf_stage2 = self.clf_stage2\n",
    "        if hasattr(clf_stage2, 'predict_proba'):\n",
    "            return self.clf_stage2.predict_proba(pred_stage1_stacked)[:, 1]\n",
    "        else:\n",
    "            return self.clf_stage2.predict(pred_stage1_stacked)\n",
    "        \n",
    "    def predict(self, X):\n",
    "        return self.predict_proba(X)\n",
    "    "
   ]
  },
  {
   "cell_type": "code",
   "execution_count": 115,
   "metadata": {
    "collapsed": false
   },
   "outputs": [],
   "source": [
    "logr = LogisticRegression()\n",
    "\n",
    "\n",
    "clf_stacking = StackingClassifier1([clf_rf, clf_logr], logr)"
   ]
  },
  {
   "cell_type": "code",
   "execution_count": 116,
   "metadata": {
    "collapsed": false
   },
   "outputs": [
    {
     "name": "stdout",
     "output_type": "stream",
     "text": [
      "[(7210, 1), (7210, 1)]\n",
      "(7210, 2)\n",
      "\n",
      "[(7210, 1), (7210, 1)]\n",
      "(7210, 2)\n",
      "\n",
      "[(7210, 1), (7210, 1)]\n",
      "(7210, 2)\n",
      "\n"
     ]
    },
    {
     "data": {
      "text/plain": [
       "array([ 0.84918113,  0.8337671 ,  0.84207692])"
      ]
     },
     "execution_count": 116,
     "metadata": {},
     "output_type": "execute_result"
    }
   ],
   "source": [
    "from sklearn import model_selection\n",
    "from sklearn.metrics import roc_auc_score\n",
    "\n",
    "def scoring(estimator, X, y):\n",
    "    #y_pred = estimator.predict_proba(X)\n",
    "    #return roc_auc_score(y, y_pred[:, 1])\n",
    "    y_pred = estimator.predict(X)\n",
    "    return roc_auc_score(y, y_pred)\n",
    "\n",
    "scores = model_selection.cross_val_score(clf_stacking, X_train_ohe, y_train, \n",
    "                                              cv=3, scoring=scoring)\n",
    "scores"
   ]
  },
  {
   "cell_type": "code",
   "execution_count": 68,
   "metadata": {
    "collapsed": true
   },
   "outputs": [],
   "source": [
    "a1 = np.array(range(5))"
   ]
  },
  {
   "cell_type": "code",
   "execution_count": 78,
   "metadata": {
    "collapsed": false
   },
   "outputs": [
    {
     "data": {
      "text/plain": [
       "array([[0, 0],\n",
       "       [1, 1],\n",
       "       [2, 2],\n",
       "       [3, 3],\n",
       "       [4, 4]])"
      ]
     },
     "execution_count": 78,
     "metadata": {},
     "output_type": "execute_result"
    }
   ],
   "source": [
    "np.hstack([a1.reshape(-1, 1), a1.reshape(-1, 1)])"
   ]
  },
  {
   "cell_type": "code",
   "execution_count": 119,
   "metadata": {
    "collapsed": false
   },
   "outputs": [
    {
     "name": "stdout",
     "output_type": "stream",
     "text": [
      "[(10814, 1), (10814, 1)]\n",
      "(10814, 2)\n",
      "\n"
     ]
    }
   ],
   "source": [
    "clf_stacking.fit(X_train_ohe, y_train)\n",
    "y_test_pred = clf_stacking.predict(X_test_ohe)\n",
    "make_submission_file(y_test_pred)\n"
   ]
  },
  {
   "cell_type": "code",
   "execution_count": 121,
   "metadata": {
    "collapsed": false
   },
   "outputs": [
    {
     "name": "stdout",
     "output_type": "stream",
     "text": [
      "-rw-rw-r-- 1 amir amir 1219868 May 24 18:40 submit.csv\r\n"
     ]
    }
   ],
   "source": [
    "!ls -l submit.csv\n"
   ]
  }
 ],
 "metadata": {
  "kernelspec": {
   "display_name": "Python 2",
   "language": "python",
   "name": "python2"
  },
  "language_info": {
   "codemirror_mode": {
    "name": "ipython",
    "version": 2
   },
   "file_extension": ".py",
   "mimetype": "text/x-python",
   "name": "python",
   "nbconvert_exporter": "python",
   "pygments_lexer": "ipython2",
   "version": "2.7.12"
  }
 },
 "nbformat": 4,
 "nbformat_minor": 2
}
