{
 "cells": [
  {
   "cell_type": "code",
   "execution_count": 130,
   "metadata": {
    "collapsed": true
   },
   "outputs": [],
   "source": [
    "import pandas as pd\n",
    "import numpy as np"
   ]
  },
  {
   "cell_type": "code",
   "execution_count": 131,
   "metadata": {
    "collapsed": false
   },
   "outputs": [
    {
     "name": "stdout",
     "output_type": "stream",
     "text": [
      "EDA.ipynb  main.py  ro-2018-05-18.html\ttest.csv  train.csv  Untitled.ipynb\r\n"
     ]
    }
   ],
   "source": [
    "!ls"
   ]
  },
  {
   "cell_type": "code",
   "execution_count": 132,
   "metadata": {
    "collapsed": false
   },
   "outputs": [
    {
     "name": "stdout",
     "output_type": "stream",
     "text": [
      "ACTION,RESOURCE,MGR_ID,ROLE_ROLLUP_1,ROLE_ROLLUP_2,ROLE_DEPTNAME,ROLE_TITLE,ROLE_FAMILY_DESC,ROLE_FAMILY,ROLE_CODE\r\n",
      "1,39353,85475,117961,118300,123472,117905,117906,290919,117908\r\n",
      "1,17183,1540,117961,118343,123125,118536,118536,308574,118539\r\n",
      "1,36724,14457,118219,118220,117884,117879,267952,19721,117880\r\n",
      "1,36135,5396,117961,118343,119993,118321,240983,290919,118322\r\n",
      "1,42680,5905,117929,117930,119569,119323,123932,19793,119325\r\n",
      "0,45333,14561,117951,117952,118008,118568,118568,19721,118570\r\n",
      "1,25993,17227,117961,118343,123476,118980,301534,118295,118982\r\n",
      "1,19666,4209,117961,117969,118910,126820,269034,118638,126822\r\n",
      "1,31246,783,117961,118413,120584,128230,302830,4673,128231\r\n"
     ]
    }
   ],
   "source": [
    "!head -10 train.csv"
   ]
  },
  {
   "cell_type": "code",
   "execution_count": 133,
   "metadata": {
    "collapsed": true
   },
   "outputs": [],
   "source": [
    "train = pd.read_csv('train.csv')"
   ]
  },
  {
   "cell_type": "code",
   "execution_count": 134,
   "metadata": {
    "collapsed": false
   },
   "outputs": [],
   "source": [
    "test = pd.read_csv('test.csv')"
   ]
  },
  {
   "cell_type": "code",
   "execution_count": 8,
   "metadata": {
    "collapsed": false
   },
   "outputs": [
    {
     "data": {
      "text/html": [
       "<div>\n",
       "<table border=\"1\" class=\"dataframe\">\n",
       "  <thead>\n",
       "    <tr style=\"text-align: right;\">\n",
       "      <th></th>\n",
       "      <th>ACTION</th>\n",
       "      <th>RESOURCE</th>\n",
       "      <th>MGR_ID</th>\n",
       "      <th>ROLE_ROLLUP_1</th>\n",
       "      <th>ROLE_ROLLUP_2</th>\n",
       "      <th>ROLE_DEPTNAME</th>\n",
       "      <th>ROLE_TITLE</th>\n",
       "      <th>ROLE_FAMILY_DESC</th>\n",
       "      <th>ROLE_FAMILY</th>\n",
       "      <th>ROLE_CODE</th>\n",
       "    </tr>\n",
       "  </thead>\n",
       "  <tbody>\n",
       "    <tr>\n",
       "      <th>0</th>\n",
       "      <td>1</td>\n",
       "      <td>39353</td>\n",
       "      <td>85475</td>\n",
       "      <td>117961</td>\n",
       "      <td>118300</td>\n",
       "      <td>123472</td>\n",
       "      <td>117905</td>\n",
       "      <td>117906</td>\n",
       "      <td>290919</td>\n",
       "      <td>117908</td>\n",
       "    </tr>\n",
       "    <tr>\n",
       "      <th>1</th>\n",
       "      <td>1</td>\n",
       "      <td>17183</td>\n",
       "      <td>1540</td>\n",
       "      <td>117961</td>\n",
       "      <td>118343</td>\n",
       "      <td>123125</td>\n",
       "      <td>118536</td>\n",
       "      <td>118536</td>\n",
       "      <td>308574</td>\n",
       "      <td>118539</td>\n",
       "    </tr>\n",
       "    <tr>\n",
       "      <th>2</th>\n",
       "      <td>1</td>\n",
       "      <td>36724</td>\n",
       "      <td>14457</td>\n",
       "      <td>118219</td>\n",
       "      <td>118220</td>\n",
       "      <td>117884</td>\n",
       "      <td>117879</td>\n",
       "      <td>267952</td>\n",
       "      <td>19721</td>\n",
       "      <td>117880</td>\n",
       "    </tr>\n",
       "    <tr>\n",
       "      <th>3</th>\n",
       "      <td>1</td>\n",
       "      <td>36135</td>\n",
       "      <td>5396</td>\n",
       "      <td>117961</td>\n",
       "      <td>118343</td>\n",
       "      <td>119993</td>\n",
       "      <td>118321</td>\n",
       "      <td>240983</td>\n",
       "      <td>290919</td>\n",
       "      <td>118322</td>\n",
       "    </tr>\n",
       "    <tr>\n",
       "      <th>4</th>\n",
       "      <td>1</td>\n",
       "      <td>42680</td>\n",
       "      <td>5905</td>\n",
       "      <td>117929</td>\n",
       "      <td>117930</td>\n",
       "      <td>119569</td>\n",
       "      <td>119323</td>\n",
       "      <td>123932</td>\n",
       "      <td>19793</td>\n",
       "      <td>119325</td>\n",
       "    </tr>\n",
       "  </tbody>\n",
       "</table>\n",
       "</div>"
      ],
      "text/plain": [
       "   ACTION  RESOURCE  MGR_ID  ROLE_ROLLUP_1  ROLE_ROLLUP_2  ROLE_DEPTNAME  \\\n",
       "0       1     39353   85475         117961         118300         123472   \n",
       "1       1     17183    1540         117961         118343         123125   \n",
       "2       1     36724   14457         118219         118220         117884   \n",
       "3       1     36135    5396         117961         118343         119993   \n",
       "4       1     42680    5905         117929         117930         119569   \n",
       "\n",
       "   ROLE_TITLE  ROLE_FAMILY_DESC  ROLE_FAMILY  ROLE_CODE  \n",
       "0      117905            117906       290919     117908  \n",
       "1      118536            118536       308574     118539  \n",
       "2      117879            267952        19721     117880  \n",
       "3      118321            240983       290919     118322  \n",
       "4      119323            123932        19793     119325  "
      ]
     },
     "execution_count": 8,
     "metadata": {},
     "output_type": "execute_result"
    }
   ],
   "source": [
    "train.head()"
   ]
  },
  {
   "cell_type": "code",
   "execution_count": 104,
   "metadata": {
    "collapsed": false
   },
   "outputs": [
    {
     "data": {
      "text/html": [
       "<div>\n",
       "<style>\n",
       "    .dataframe thead tr:only-child th {\n",
       "        text-align: right;\n",
       "    }\n",
       "\n",
       "    .dataframe thead th {\n",
       "        text-align: left;\n",
       "    }\n",
       "\n",
       "    .dataframe tbody tr th {\n",
       "        vertical-align: top;\n",
       "    }\n",
       "</style>\n",
       "<table border=\"1\" class=\"dataframe\">\n",
       "  <thead>\n",
       "    <tr style=\"text-align: right;\">\n",
       "      <th></th>\n",
       "      <th>ACTION</th>\n",
       "      <th>RESOURCE</th>\n",
       "      <th>MGR_ID</th>\n",
       "      <th>ROLE_ROLLUP_1</th>\n",
       "      <th>ROLE_ROLLUP_2</th>\n",
       "      <th>ROLE_DEPTNAME</th>\n",
       "      <th>ROLE_TITLE</th>\n",
       "      <th>ROLE_FAMILY_DESC</th>\n",
       "      <th>ROLE_FAMILY</th>\n",
       "      <th>ROLE_CODE</th>\n",
       "    </tr>\n",
       "  </thead>\n",
       "  <tbody>\n",
       "    <tr>\n",
       "      <th>count</th>\n",
       "      <td>32769.000000</td>\n",
       "      <td>32769.000000</td>\n",
       "      <td>32769.000000</td>\n",
       "      <td>32769.000000</td>\n",
       "      <td>32769.000000</td>\n",
       "      <td>32769.000000</td>\n",
       "      <td>32769.000000</td>\n",
       "      <td>32769.000000</td>\n",
       "      <td>32769.000000</td>\n",
       "      <td>32769.000000</td>\n",
       "    </tr>\n",
       "    <tr>\n",
       "      <th>mean</th>\n",
       "      <td>0.942110</td>\n",
       "      <td>42923.916171</td>\n",
       "      <td>25988.957979</td>\n",
       "      <td>116952.627788</td>\n",
       "      <td>118301.823156</td>\n",
       "      <td>118912.779914</td>\n",
       "      <td>125916.152644</td>\n",
       "      <td>170178.369648</td>\n",
       "      <td>183703.408893</td>\n",
       "      <td>119789.430132</td>\n",
       "    </tr>\n",
       "    <tr>\n",
       "      <th>std</th>\n",
       "      <td>0.233539</td>\n",
       "      <td>34173.892702</td>\n",
       "      <td>35928.031650</td>\n",
       "      <td>10875.563591</td>\n",
       "      <td>4551.588572</td>\n",
       "      <td>18961.322917</td>\n",
       "      <td>31036.465825</td>\n",
       "      <td>69509.462130</td>\n",
       "      <td>100488.407413</td>\n",
       "      <td>5784.275516</td>\n",
       "    </tr>\n",
       "    <tr>\n",
       "      <th>min</th>\n",
       "      <td>0.000000</td>\n",
       "      <td>0.000000</td>\n",
       "      <td>25.000000</td>\n",
       "      <td>4292.000000</td>\n",
       "      <td>23779.000000</td>\n",
       "      <td>4674.000000</td>\n",
       "      <td>117879.000000</td>\n",
       "      <td>4673.000000</td>\n",
       "      <td>3130.000000</td>\n",
       "      <td>117880.000000</td>\n",
       "    </tr>\n",
       "    <tr>\n",
       "      <th>25%</th>\n",
       "      <td>1.000000</td>\n",
       "      <td>20299.000000</td>\n",
       "      <td>4566.000000</td>\n",
       "      <td>117961.000000</td>\n",
       "      <td>118102.000000</td>\n",
       "      <td>118395.000000</td>\n",
       "      <td>118274.000000</td>\n",
       "      <td>117906.000000</td>\n",
       "      <td>118363.000000</td>\n",
       "      <td>118232.000000</td>\n",
       "    </tr>\n",
       "    <tr>\n",
       "      <th>50%</th>\n",
       "      <td>1.000000</td>\n",
       "      <td>35376.000000</td>\n",
       "      <td>13545.000000</td>\n",
       "      <td>117961.000000</td>\n",
       "      <td>118300.000000</td>\n",
       "      <td>118921.000000</td>\n",
       "      <td>118568.000000</td>\n",
       "      <td>128696.000000</td>\n",
       "      <td>119006.000000</td>\n",
       "      <td>118570.000000</td>\n",
       "    </tr>\n",
       "    <tr>\n",
       "      <th>75%</th>\n",
       "      <td>1.000000</td>\n",
       "      <td>74189.000000</td>\n",
       "      <td>42034.000000</td>\n",
       "      <td>117961.000000</td>\n",
       "      <td>118386.000000</td>\n",
       "      <td>120535.000000</td>\n",
       "      <td>120006.000000</td>\n",
       "      <td>235280.000000</td>\n",
       "      <td>290919.000000</td>\n",
       "      <td>119348.000000</td>\n",
       "    </tr>\n",
       "    <tr>\n",
       "      <th>max</th>\n",
       "      <td>1.000000</td>\n",
       "      <td>312153.000000</td>\n",
       "      <td>311696.000000</td>\n",
       "      <td>311178.000000</td>\n",
       "      <td>286791.000000</td>\n",
       "      <td>286792.000000</td>\n",
       "      <td>311867.000000</td>\n",
       "      <td>311867.000000</td>\n",
       "      <td>308574.000000</td>\n",
       "      <td>270691.000000</td>\n",
       "    </tr>\n",
       "  </tbody>\n",
       "</table>\n",
       "</div>"
      ],
      "text/plain": [
       "             ACTION       RESOURCE         MGR_ID  ROLE_ROLLUP_1  \\\n",
       "count  32769.000000   32769.000000   32769.000000   32769.000000   \n",
       "mean       0.942110   42923.916171   25988.957979  116952.627788   \n",
       "std        0.233539   34173.892702   35928.031650   10875.563591   \n",
       "min        0.000000       0.000000      25.000000    4292.000000   \n",
       "25%        1.000000   20299.000000    4566.000000  117961.000000   \n",
       "50%        1.000000   35376.000000   13545.000000  117961.000000   \n",
       "75%        1.000000   74189.000000   42034.000000  117961.000000   \n",
       "max        1.000000  312153.000000  311696.000000  311178.000000   \n",
       "\n",
       "       ROLE_ROLLUP_2  ROLE_DEPTNAME     ROLE_TITLE  ROLE_FAMILY_DESC  \\\n",
       "count   32769.000000   32769.000000   32769.000000      32769.000000   \n",
       "mean   118301.823156  118912.779914  125916.152644     170178.369648   \n",
       "std      4551.588572   18961.322917   31036.465825      69509.462130   \n",
       "min     23779.000000    4674.000000  117879.000000       4673.000000   \n",
       "25%    118102.000000  118395.000000  118274.000000     117906.000000   \n",
       "50%    118300.000000  118921.000000  118568.000000     128696.000000   \n",
       "75%    118386.000000  120535.000000  120006.000000     235280.000000   \n",
       "max    286791.000000  286792.000000  311867.000000     311867.000000   \n",
       "\n",
       "         ROLE_FAMILY      ROLE_CODE  \n",
       "count   32769.000000   32769.000000  \n",
       "mean   183703.408893  119789.430132  \n",
       "std    100488.407413    5784.275516  \n",
       "min      3130.000000  117880.000000  \n",
       "25%    118363.000000  118232.000000  \n",
       "50%    119006.000000  118570.000000  \n",
       "75%    290919.000000  119348.000000  \n",
       "max    308574.000000  270691.000000  "
      ]
     },
     "execution_count": 104,
     "metadata": {},
     "output_type": "execute_result"
    }
   ],
   "source": [
    "train.describe()"
   ]
  },
  {
   "cell_type": "code",
   "execution_count": 135,
   "metadata": {
    "collapsed": false
   },
   "outputs": [
    {
     "data": {
      "text/plain": [
       "(32769, 10)"
      ]
     },
     "execution_count": 135,
     "metadata": {},
     "output_type": "execute_result"
    }
   ],
   "source": [
    "train.shape"
   ]
  },
  {
   "cell_type": "code",
   "execution_count": 65,
   "metadata": {
    "collapsed": false
   },
   "outputs": [],
   "source": [
    "def f(x):\n",
    "    return len(np.unique(x))"
   ]
  },
  {
   "cell_type": "code",
   "execution_count": 109,
   "metadata": {
    "collapsed": false
   },
   "outputs": [
    {
     "data": {
      "text/html": [
       "<div>\n",
       "<style>\n",
       "    .dataframe thead tr:only-child th {\n",
       "        text-align: right;\n",
       "    }\n",
       "\n",
       "    .dataframe thead th {\n",
       "        text-align: left;\n",
       "    }\n",
       "\n",
       "    .dataframe tbody tr th {\n",
       "        vertical-align: top;\n",
       "    }\n",
       "</style>\n",
       "<table border=\"1\" class=\"dataframe\">\n",
       "  <thead>\n",
       "    <tr style=\"text-align: right;\">\n",
       "      <th></th>\n",
       "      <th>ACTION</th>\n",
       "      <th>RESOURCE</th>\n",
       "      <th>MGR_ID</th>\n",
       "      <th>ROLE_ROLLUP_1</th>\n",
       "      <th>ROLE_ROLLUP_2</th>\n",
       "      <th>ROLE_DEPTNAME</th>\n",
       "      <th>ROLE_TITLE</th>\n",
       "      <th>ROLE_FAMILY_DESC</th>\n",
       "      <th>ROLE_FAMILY</th>\n",
       "      <th>ROLE_CODE</th>\n",
       "    </tr>\n",
       "  </thead>\n",
       "  <tbody>\n",
       "    <tr>\n",
       "      <th>min</th>\n",
       "      <td>0</td>\n",
       "      <td>0</td>\n",
       "      <td>25</td>\n",
       "      <td>4292</td>\n",
       "      <td>23779</td>\n",
       "      <td>4674</td>\n",
       "      <td>117879</td>\n",
       "      <td>4673</td>\n",
       "      <td>3130</td>\n",
       "      <td>117880</td>\n",
       "    </tr>\n",
       "    <tr>\n",
       "      <th>max</th>\n",
       "      <td>1</td>\n",
       "      <td>312153</td>\n",
       "      <td>311696</td>\n",
       "      <td>311178</td>\n",
       "      <td>286791</td>\n",
       "      <td>286792</td>\n",
       "      <td>311867</td>\n",
       "      <td>311867</td>\n",
       "      <td>308574</td>\n",
       "      <td>270691</td>\n",
       "    </tr>\n",
       "    <tr>\n",
       "      <th>0</th>\n",
       "      <td>2</td>\n",
       "      <td>7518</td>\n",
       "      <td>4243</td>\n",
       "      <td>128</td>\n",
       "      <td>177</td>\n",
       "      <td>449</td>\n",
       "      <td>343</td>\n",
       "      <td>2358</td>\n",
       "      <td>67</td>\n",
       "      <td>343</td>\n",
       "    </tr>\n",
       "  </tbody>\n",
       "</table>\n",
       "</div>"
      ],
      "text/plain": [
       "     ACTION  RESOURCE  MGR_ID  ROLE_ROLLUP_1  ROLE_ROLLUP_2  ROLE_DEPTNAME  \\\n",
       "min       0         0      25           4292          23779           4674   \n",
       "max       1    312153  311696         311178         286791         286792   \n",
       "0         2      7518    4243            128            177            449   \n",
       "\n",
       "     ROLE_TITLE  ROLE_FAMILY_DESC  ROLE_FAMILY  ROLE_CODE  \n",
       "min      117879              4673         3130     117880  \n",
       "max      311867            311867       308574     270691  \n",
       "0           343              2358           67        343  "
      ]
     },
     "execution_count": 109,
     "metadata": {},
     "output_type": "execute_result"
    }
   ],
   "source": [
    "pd.concat([train.agg([min, max]).T, train.agg(f).to_frame()], axis=1).T"
   ]
  },
  {
   "cell_type": "code",
   "execution_count": 9,
   "metadata": {
    "collapsed": true
   },
   "outputs": [],
   "source": [
    "from sklearn.preprocessing import OneHotEncoder"
   ]
  },
  {
   "cell_type": "code",
   "execution_count": 136,
   "metadata": {
    "collapsed": true
   },
   "outputs": [],
   "source": [
    "ohe = OneHotEncoder()\n",
    "X_train = train.iloc[:, 1:]\n",
    "y_train = train.iloc[:, 0]\n",
    "X_test = test.iloc[:, 1:]\n",
    "\n",
    "X_total = pd.concat([X_train, X_test])\n",
    "\n",
    "X_total_ohe = ohe.fit_transform(X_total)\n",
    "\n",
    "n_train = X_train.shape[0]\n",
    "\n",
    "X_train_ohe = X_total_ohe[:n_train,]\n",
    "\n",
    "X_test_ohe = X_total_ohe[n_train:,]\n",
    "\n"
   ]
  },
  {
   "cell_type": "code",
   "execution_count": 81,
   "metadata": {
    "collapsed": true
   },
   "outputs": [],
   "source": [
    "from sklearn.svm import SVC\n",
    "clf = SVC(probability=True)\n",
    "clf.fit(X_train_ohe, y_train)\n",
    "y_test_pred = clf.predict_proba(X_test_ohe)\n"
   ]
  },
  {
   "cell_type": "code",
   "execution_count": 79,
   "metadata": {
    "collapsed": false
   },
   "outputs": [
    {
     "data": {
      "text/plain": [
       "RangeIndex(start=0, stop=58921, step=1)"
      ]
     },
     "execution_count": 79,
     "metadata": {},
     "output_type": "execute_result"
    }
   ],
   "source": [
    "test.index"
   ]
  },
  {
   "cell_type": "code",
   "execution_count": 82,
   "metadata": {
    "collapsed": false
   },
   "outputs": [
    {
     "data": {
      "text/plain": [
       "(58921, 2)"
      ]
     },
     "execution_count": 82,
     "metadata": {},
     "output_type": "execute_result"
    }
   ],
   "source": [
    "y_test_pred.shape"
   ]
  },
  {
   "cell_type": "code",
   "execution_count": 189,
   "metadata": {
    "collapsed": false
   },
   "outputs": [],
   "source": [
    "def make_submission_file(y_test_pred, filename=None):\n",
    "    submit_data = pd.DataFrame(columns=['ID', 'ACTION'])\n",
    "    submit_data['ID'] = xrange(1, len(y_test_pred)+1)\n",
    "    submit_data['ACTION'] = y_test_pred\n",
    "    if not filename:\n",
    "        filename = 'submit.csv'\n",
    "    submit_data.to_csv(filename, index=False)"
   ]
  },
  {
   "cell_type": "code",
   "execution_count": 41,
   "metadata": {
    "collapsed": false
   },
   "outputs": [
    {
     "name": "stdout",
     "output_type": "stream",
     "text": [
      "ID,ACTION\r\n",
      "1,0.0529831286064\r\n",
      "2,0.0404562637596\r\n",
      "3,0.0154604194242\r\n",
      "4,0.0252211356251\r\n",
      "5,1.07708565389e-05\r\n",
      "6,0.0231035286149\r\n",
      "7,0.0319142620812\r\n",
      "8,0.0061057089802\r\n",
      "9,0.0978558668646\r\n"
     ]
    }
   ],
   "source": [
    "!head -10 submit.csv"
   ]
  },
  {
   "cell_type": "markdown",
   "metadata": {},
   "source": [
    "### Cross Validation"
   ]
  },
  {
   "cell_type": "code",
   "execution_count": 138,
   "metadata": {
    "collapsed": true
   },
   "outputs": [],
   "source": [
    "from sklearn.ensemble import RandomForestClassifier"
   ]
  },
  {
   "cell_type": "code",
   "execution_count": 72,
   "metadata": {
    "collapsed": true
   },
   "outputs": [],
   "source": [
    "clf = RandomForestClassifier()"
   ]
  },
  {
   "cell_type": "code",
   "execution_count": 139,
   "metadata": {
    "collapsed": true
   },
   "outputs": [],
   "source": [
    "from sklearn.linear_model import LogisticRegression"
   ]
  },
  {
   "cell_type": "code",
   "execution_count": 76,
   "metadata": {
    "collapsed": true
   },
   "outputs": [],
   "source": [
    "clf = LogisticRegression?"
   ]
  },
  {
   "cell_type": "code",
   "execution_count": null,
   "metadata": {
    "collapsed": true
   },
   "outputs": [],
   "source": [
    "clf = LogisticRegression"
   ]
  },
  {
   "cell_type": "code",
   "execution_count": 69,
   "metadata": {
    "collapsed": false
   },
   "outputs": [
    {
     "name": "stdout",
     "output_type": "stream",
     "text": [
      "[0.86939839137772978]\n",
      "[0.86939839137772978, 0.84322097494659165]\n",
      "[0.86939839137772978, 0.84322097494659165, 0.8538782020082516]\n"
     ]
    }
   ],
   "source": [
    "from sklearn.metrics import roc_auc_score\n",
    "from sklearn.cross_validation import KFold\n",
    "\n",
    "roc_auc_scores = [] \n",
    "for train_ind, cv_ind in KFold(X_train.shape[0]):\n",
    "    X_tr = X_train_ohe[train_ind]\n",
    "    y_tr = y_train[train_ind]\n",
    "    \n",
    "    X_cv = X_train_ohe[cv_ind]\n",
    "    y_cv = y_train[cv_ind]\n",
    "    \n",
    "    clf.fit(X_tr, y_tr)\n",
    "    y_cv_pred = clf.predict_proba(X_cv)\n",
    "    roc_auc_scores.append(roc_auc_score(y_cv, y_cv_pred[:, 1]))\n",
    "    print roc_auc_scores"
   ]
  },
  {
   "cell_type": "markdown",
   "metadata": {},
   "source": [
    "### Learning Curves"
   ]
  },
  {
   "cell_type": "code",
   "execution_count": 140,
   "metadata": {
    "collapsed": false
   },
   "outputs": [
    {
     "data": {
      "text/plain": [
       "(32769, 16961)"
      ]
     },
     "execution_count": 140,
     "metadata": {},
     "output_type": "execute_result"
    }
   ],
   "source": [
    "X_train_ohe.shape"
   ]
  },
  {
   "cell_type": "code",
   "execution_count": 1,
   "metadata": {
    "collapsed": false
   },
   "outputs": [
    {
     "ename": "NameError",
     "evalue": "name 'LogisticRegression' is not defined",
     "output_type": "error",
     "traceback": [
      "\u001b[0;31m---------------------------------------------------------------------------\u001b[0m",
      "\u001b[0;31mNameError\u001b[0m                                 Traceback (most recent call last)",
      "\u001b[0;32m<ipython-input-1-167eecd78ad9>\u001b[0m in \u001b[0;36m<module>\u001b[0;34m()\u001b[0m\n\u001b[1;32m     84\u001b[0m \u001b[0;31m#estimator = SVC(gamma=0.01)\u001b[0m\u001b[0;34m\u001b[0m\u001b[0;34m\u001b[0m\u001b[0m\n\u001b[1;32m     85\u001b[0m \u001b[0;31m#plot_learning_curve(estimator, title, X, y, (0.7, 1.01), cv=cv, n_jobs=4)\u001b[0m\u001b[0;34m\u001b[0m\u001b[0;34m\u001b[0m\u001b[0m\n\u001b[0;32m---> 86\u001b[0;31m \u001b[0mestimator\u001b[0m \u001b[0;34m=\u001b[0m \u001b[0mLogisticRegression\u001b[0m\u001b[0;34m(\u001b[0m\u001b[0mC\u001b[0m\u001b[0;34m=\u001b[0m\u001b[0;36m1\u001b[0m\u001b[0;34m)\u001b[0m\u001b[0;34m\u001b[0m\u001b[0m\n\u001b[0m\u001b[1;32m     87\u001b[0m \u001b[0;34m\u001b[0m\u001b[0m\n\u001b[1;32m     88\u001b[0m \u001b[0;32mdef\u001b[0m \u001b[0mscoring\u001b[0m\u001b[0;34m(\u001b[0m\u001b[0mestimator\u001b[0m\u001b[0;34m,\u001b[0m \u001b[0mX\u001b[0m\u001b[0;34m,\u001b[0m \u001b[0my\u001b[0m\u001b[0;34m)\u001b[0m\u001b[0;34m:\u001b[0m\u001b[0;34m\u001b[0m\u001b[0m\n",
      "\u001b[0;31mNameError\u001b[0m: name 'LogisticRegression' is not defined"
     ]
    }
   ],
   "source": [
    "\n",
    "import numpy as np\n",
    "import matplotlib.pyplot as plt\n",
    "from sklearn.naive_bayes import GaussianNB\n",
    "from sklearn.svm import SVC\n",
    "from sklearn.datasets import load_digits\n",
    "from sklearn.model_selection import learning_curve\n",
    "from sklearn.model_selection import ShuffleSplit\n",
    "\n",
    "\n",
    "def plot_learning_curve(estimator, title, X, y, ylim=None, cv=None, scoring=None,\n",
    "                        n_jobs=1, train_sizes=np.linspace(.1, 1.0, 5)):\n",
    "    \"\"\"\n",
    "    Generate a simple plot of the test and training learning curve.\n",
    "\n",
    "    Parameters\n",
    "    ----------\n",
    "    estimator : object type that implements the \"fit\" and \"predict\" methods\n",
    "        An object of that type which is cloned for each validation.\n",
    "\n",
    "    title : string\n",
    "        Title for the chart.\n",
    "\n",
    "    X : array-like, shape (n_samples, n_features)\n",
    "        Training vector, where n_samples is the number of samples and\n",
    "        n_features is the number of features.\n",
    "\n",
    "    y : array-like, shape (n_samples) or (n_samples, n_features), optional\n",
    "        Target relative to X for classification or regression;\n",
    "        None for unsupervised learning.\n",
    "\n",
    "    ylim : tuple, shape (ymin, ymax), optional\n",
    "        Defines minimum and maximum yvalues plotted.\n",
    "\n",
    "    cv : int, cross-validation generator or an iterable, optional\n",
    "        Determines the cross-validation splitting strategy.\n",
    "        Possible inputs for cv are:\n",
    "          - None, to use the default 3-fold cross-validation,\n",
    "          - integer, to specify the number of folds.\n",
    "          - An object to be used as a cross-validation generator.\n",
    "          - An iterable yielding train/test splits.\n",
    "\n",
    "        For integer/None inputs, if ``y`` is binary or multiclass,\n",
    "        :class:`StratifiedKFold` used. If the estimator is not a classifier\n",
    "        or if ``y`` is neither binary nor multiclass, :class:`KFold` is used.\n",
    "\n",
    "        Refer :ref:`User Guide <cross_validation>` for the various\n",
    "        cross-validators that can be used here.\n",
    "\n",
    "    n_jobs : integer, optional\n",
    "        Number of jobs to run in parallel (default 1).\n",
    "    \"\"\"\n",
    "    plt.figure()\n",
    "    plt.title(title)\n",
    "    if ylim is not None:\n",
    "        plt.ylim(*ylim)\n",
    "    plt.xlabel(\"Training examples\")\n",
    "    plt.ylabel(\"Score\")\n",
    "    train_sizes, train_scores, test_scores = learning_curve(\n",
    "        estimator, X, y, scoring=scoring, cv=cv, n_jobs=n_jobs, train_sizes=train_sizes)\n",
    "    train_scores_mean = np.mean(train_scores, axis=1)\n",
    "    train_scores_std = np.std(train_scores, axis=1)\n",
    "    test_scores_mean = np.mean(test_scores, axis=1)\n",
    "    test_scores_std = np.std(test_scores, axis=1)\n",
    "    plt.grid()\n",
    "\n",
    "    plt.fill_between(train_sizes, train_scores_mean - train_scores_std,\n",
    "                     train_scores_mean + train_scores_std, alpha=0.1,\n",
    "                     color=\"r\")\n",
    "    plt.fill_between(train_sizes, test_scores_mean - test_scores_std,\n",
    "                     test_scores_mean + test_scores_std, alpha=0.1, color=\"g\")\n",
    "    plt.plot(train_sizes, train_scores_mean, 'o-', color=\"r\",\n",
    "             label=\"Training score\")\n",
    "    plt.plot(train_sizes, test_scores_mean, 'o-', color=\"g\",\n",
    "             label=\"Cross-validation score\")\n",
    "\n",
    "    plt.legend(loc=\"best\")\n",
    "    return plt\n",
    "\n",
    "\n",
    "title = \"Learning Curves (SVM, RBF kernel, $\\gamma=0.001$)\"\n",
    "# SVC is more expensive so we do a lower number of CV iterations:\n",
    "cv = ShuffleSplit(n_splits=10, test_size=0.2, random_state=0)\n",
    "#estimator = SVC(gamma=0.01)\n",
    "#plot_learning_curve(estimator, title, X, y, (0.7, 1.01), cv=cv, n_jobs=4)\n",
    "estimator = LogisticRegression(C=1)\n",
    "\n",
    "def scoring(estimator, X, y):\n",
    "    y_pred = estimator.predict_proba(X)\n",
    "    return roc_auc_score(y, y_pred[:, 1])\n",
    "   \n",
    "plot_learning_curve(estimator, title, X_train_ohe, y_train, \n",
    "                    scoring=scoring, n_jobs=4, cv=5)\n",
    "\n",
    "plt.show()"
   ]
  },
  {
   "cell_type": "code",
   "execution_count": 28,
   "metadata": {
    "collapsed": true
   },
   "outputs": [],
   "source": [
    "from hyperopt import hp, tpe\n",
    "from hyperopt.fmin import fmin\n",
    "from sklearn.metrics import mean_squared_error\n",
    "from sklearn.model_selection import train_test_split\n",
    "import xgboost as xgb\n",
    "import pandas as pd\n",
    "import numpy as np\n",
    "import gc"
   ]
  },
  {
   "cell_type": "code",
   "execution_count": 30,
   "metadata": {
    "collapsed": false
   },
   "outputs": [
    {
     "data": {
      "text/plain": [
       "(32769, 16961)"
      ]
     },
     "execution_count": 30,
     "metadata": {},
     "output_type": "execute_result"
    }
   ],
   "source": [
    "X_train_ohe.shape"
   ]
  },
  {
   "cell_type": "code",
   "execution_count": 33,
   "metadata": {
    "collapsed": false
   },
   "outputs": [
    {
     "data": {
      "text/plain": [
       "(32769,)"
      ]
     },
     "execution_count": 33,
     "metadata": {},
     "output_type": "execute_result"
    }
   ],
   "source": [
    "y_train.shape"
   ]
  },
  {
   "cell_type": "code",
   "execution_count": 42,
   "metadata": {
    "collapsed": false
   },
   "outputs": [],
   "source": [
    "from sklearn.cross_validation import train_test_split\n",
    "X_train_xgb, X_cv_xgb, y_train_xgb, y_cv_xgb = train_test_split(X_train_ohe, y_train, test_size=0.33)\n",
    "train_xgb = xgb.DMatrix( X_train_xgb, y_train_xgb )\n",
    "cv_xgb = xgb.DMatrix( X_cv_xgb, y_cv_xgb )\n",
    "#Test = xgb.DMatrix( test[features])"
   ]
  },
  {
   "cell_type": "code",
   "execution_count": 141,
   "metadata": {
    "collapsed": false
   },
   "outputs": [
    {
     "name": "stdout",
     "output_type": "stream",
     "text": [
      "[0]\tTrain-auc:0.540515\tVal-auc:0.526688\n",
      "Multiple eval metrics have been passed: 'Val-auc' will be used for early stopping.\n",
      "\n",
      "Will train until Val-auc hasn't improved in 10 rounds.\n",
      "[24]\tTrain-auc:0.732082\tVal-auc:0.68053\n",
      "[ 0.96280175  0.96280175  0.94146627 ...,  0.96280175  0.96280175\n",
      "  0.96280175]\n",
      "score 0.514 params {'eval_metric': 'auc', 'alpha': '0.007', 'booster': 'gbtree', 'colsample_bytree': '0.654', 'silent': True, 'nthread': 8, 'min_child_weight': 24, 'subsample': '0.510', 'eta': '0.269', 'objective': 'reg:linear', 'max_depth': 3, 'gamma': '0.100', 'lambda': '0.213'}\n",
      "[0]\tTrain-auc:0.616261\tVal-auc:0.597113\n",
      "Multiple eval metrics have been passed: 'Val-auc' will be used for early stopping.\n",
      "\n",
      "Will train until Val-auc hasn't improved in 10 rounds.\n",
      "[24]\tTrain-auc:0.733133\tVal-auc:0.710024\n",
      "[ 0.97754544  0.94048434  0.94472992 ...,  0.97354716  0.95231754\n",
      "  0.98525077]\n",
      "score 0.514 params {'eval_metric': 'auc', 'alpha': '0.256', 'booster': 'gbtree', 'colsample_bytree': '0.510', 'silent': True, 'nthread': 8, 'min_child_weight': 189, 'subsample': '0.821', 'eta': '0.703', 'objective': 'reg:linear', 'max_depth': 8, 'gamma': '0.188', 'lambda': '0.213'}\n",
      "[0]\tTrain-auc:0.62492\tVal-auc:0.609767\n",
      "Multiple eval metrics have been passed: 'Val-auc' will be used for early stopping.\n",
      "\n",
      "Will train until Val-auc hasn't improved in 10 rounds.\n",
      "[24]\tTrain-auc:0.733593\tVal-auc:0.694806\n",
      "[ 0.97960407  0.90348899  0.9581033  ...,  0.97401065  0.9511112   0.9892875 ]\n",
      "score 0.510 params {'eval_metric': 'auc', 'alpha': '0.170', 'booster': 'gbtree', 'colsample_bytree': '0.781', 'silent': True, 'nthread': 8, 'min_child_weight': 169, 'subsample': '0.650', 'eta': '0.855', 'objective': 'reg:linear', 'max_depth': 6, 'gamma': '0.129', 'lambda': '0.192'}\n",
      "{'colsample_bytree': 0.7813452404103349, 'learning_rate': 0.8546734014893486, 'min_child_weight': 169.1972033113578, 'subsample': 0.6504913466226052, 'alpha': 0.1699830132319771, 'max_depth': 6.0, 'gamma': 0.12930614397840928, 'lambda': 0.19215351680360374}\n"
     ]
    }
   ],
   "source": [
    "from sklearn.metrics import roc_auc_score\n",
    "def objective(params):\n",
    "    \n",
    "    params = {\n",
    "        'booster': 'gbtree',\n",
    "        'silent': True,\n",
    "        'nthread': 8,\n",
    "        \n",
    "        'eta': \"{:.3f}\".format(params['eta']),\n",
    "        'gamma': \"{:.3f}\".format(params['gamma']),\n",
    "        'max_depth': int(params['max_depth']),\n",
    "        'min_child_weight': int(params['min_child_weight']),\n",
    "        'subsample': \"{:.3f}\".format(params['subsample']),        \n",
    "        'colsample_bytree': \"{:.3f}\".format(params['colsample_bytree']),\n",
    "        'lambda': \"{:.3f}\".format(params['lambda']),\n",
    "        'alpha': \"{:.3f}\".format(params['alpha']),\n",
    "          \n",
    "        'objective': 'reg:linear',\n",
    "        'eval_metric': 'auc'\n",
    "        \n",
    "    }\n",
    "\n",
    "    watchlist = [(train_xgb, 'Train'), (cv_xgb, 'Val')]\n",
    "    \n",
    "    model = xgb.train(\n",
    "        params,\n",
    "        train_xgb,\n",
    "        25,\n",
    "        evals=watchlist,\n",
    "        early_stopping_rounds=10,\n",
    "        verbose_eval=100 )\n",
    "    \n",
    "    \n",
    "\n",
    "    y_cv_xgb_pred = model.predict(cv_xgb)\n",
    "    #score = np.sqrt( mean_squared_error(val['target'].clip(0, 20), y_pred.clip(0, 20)))\n",
    "    print(y_cv_xgb_pred)\n",
    "    score = roc_auc_score(y_cv, y_cv_xgb_pred)\n",
    "    #score = 1\n",
    "                    \n",
    "    print(\"score {:.3f} params {}\".format(score, params))\n",
    "    return score\n",
    "\n",
    "space = {\n",
    "    'eta': hp.uniform('learning_rate', 0.01, 1.0),\n",
    "    'gamma': hp.uniform('gamma', 0.0, 0.5),'gamma': hp.uniform('gamma', 0.0, 0.3),\n",
    "    'max_depth': hp.quniform('max_depth', 2, 12, 1),\n",
    "    'min_child_weight': hp.uniform('min_child_weight', 1, 200),\n",
    "    'subsample': hp.uniform('subsample', 0.5, 1.0),    \n",
    "    'colsample_bytree': hp.uniform('colsample_bytree', 0.5, 1.0),\n",
    "    'lambda': hp.uniform('lambda', 0.0, 0.3),\n",
    "    'alpha': hp.uniform('alpha', 0.0, 0.3),\n",
    "}\n",
    "\n",
    "best = fmin(fn=objective,\n",
    "            space=space,\n",
    "            algo=tpe.suggest,\n",
    "            max_evals=3)\n",
    "\n",
    "print(best)"
   ]
  },
  {
   "cell_type": "code",
   "execution_count": 146,
   "metadata": {
    "collapsed": false
   },
   "outputs": [],
   "source": [
    "def xgb_cv(X_train, y_train, random_state=0):\n",
    "    eta = 0.3\n",
    "    max_depth= 20 \n",
    "    subsample = 1\n",
    "    colsample_bytree = 1\n",
    "    min_chil_weight=1\n",
    "    lambda_ = 10\n",
    "    #start_time = time.time()\n",
    "\n",
    "    print('XGBoost params. ETA: {}, MAX_DEPTH: {}, SUBSAMPLE: {}, COLSAMPLE_BY_TREE: {}'.format(eta, max_depth, subsample, colsample_bytree))\n",
    "    params = {\n",
    "        \"lambda\": lambda_,\n",
    "        \"objective\": \"binary:logistic\",\n",
    "        \"booster\" : \"gbtree\",\n",
    "        \"eval_metric\": \"auc\",\n",
    "        \"eta\": eta,\n",
    "        \"tree_method\": 'exact',\n",
    "        \"max_depth\": max_depth,\n",
    "        \"subsample\": subsample,\n",
    "        \"colsample_bytree\": colsample_bytree,\n",
    "        \"silent\": 1,\n",
    "        \"min_chil_weight\":min_chil_weight,\n",
    "        \"seed\": random_state,\n",
    "        #\"num_class\" : 22,\n",
    "    }\n",
    "    num_boost_round = 1000\n",
    "    early_stopping_rounds = 20\n",
    "    test_size = 0.1\n",
    "\n",
    "   \n",
    "    \n",
    "    X_train, X_cv, y_train, y_cv = train_test_split(X_train, y_train, test_size=test_size)\n",
    "    \n",
    "    dtrain = xgb.DMatrix(X_train, y_train)\n",
    "    dvalid = xgb.DMatrix(X_cv, y_cv)\n",
    "\n",
    "    watchlist = [(dtrain, 'train'), (dvalid, 'eval')]\n",
    "    gbm = xgb.train(params, dtrain, num_boost_round, evals=watchlist, early_stopping_rounds=early_stopping_rounds, verbose_eval=True)\n",
    "\n",
    "    print(\"Validating...\")\n",
    "    y_cv_pred = gbm.predict(xgb.DMatrix(X_cv), ntree_limit=gbm.best_iteration+1)\n",
    "    \n",
    "    score = roc_auc_score(y_cv, y_cv_pred)\n",
    "    print(\"score: %f\" % score)\n",
    "    \"\"\"\n",
    "    #area under the precision-recall curve\n",
    "    score = average_precision_score(X_valid[target].values, check)\n",
    "    print('area under the precision-recall curve: {:.6f}'.format(score))\n",
    "\n",
    "    \n",
    "    check2=check.round()\n",
    "    score = precision_score(X_valid[target].values, check2)\n",
    "    print('precision score: {:.6f}'.format(score))\n",
    "\n",
    "    score = recall_score(X_valid[target].values, check2)\n",
    "    print('recall score: {:.6f}'.format(score))\n",
    "    \n",
    "    imp = get_importance(gbm, features)\n",
    "    print('Importance array: ', imp)\n",
    "\n",
    "    print(\"Predict test set... \")\n",
    "    test_prediction = gbm.predict(xgb.DMatrix(test[features],missing = -99), ntree_limit=gbm.best_iteration+1)\n",
    "    score = average_precision_score(test[target].values, test_prediction)\n",
    "    \"\"\"\n",
    "    return params\n",
    "    "
   ]
  },
  {
   "cell_type": "code",
   "execution_count": 164,
   "metadata": {
    "collapsed": false
   },
   "outputs": [],
   "source": [
    "from xgboost.sklearn import XGBClassifier\n"
   ]
  },
  {
   "cell_type": "code",
   "execution_count": 179,
   "metadata": {
    "collapsed": false
   },
   "outputs": [
    {
     "data": {
      "text/plain": [
       "\"\\ndef xgb_test(X_train, y_train, X_test, params, random_state=0):\\n    from xgb import XG\\n    num_boost_round = 1000\\n    early_stopping_rounds = 20\\n    test_size = 0.1\\n    dtrain = xgb.DMatrix(X_train, y_train)\\n    #dtest = xgb.DMatrix(X_cv, y_cv)\\n\\n    #watchlist = [(dtrain, 'train'), (dvalid, 'eval')]\\n    watchlist = [(dtrain, 'train'), (dtrain, 'eval')]\\n    gbm = xgb.train(params, dtrain, num_boost_round, early_stopping_rounds=early_stopping_rounds)\\n\\n    y_test_pred = gbm.predict(xgb.DMatrix(X_test), ntree_limit=gbm.best_iteration+1)\\n    \\n    make_submission_file(y_test_pred)\\n\""
      ]
     },
     "execution_count": 179,
     "metadata": {},
     "output_type": "execute_result"
    }
   ],
   "source": [
    "\"\"\"\n",
    "def xgb_test(X_train, y_train, X_test, params, random_state=0):\n",
    "    from xgb import XG\n",
    "    num_boost_round = 1000\n",
    "    early_stopping_rounds = 20\n",
    "    test_size = 0.1\n",
    "    dtrain = xgb.DMatrix(X_train, y_train)\n",
    "    #dtest = xgb.DMatrix(X_cv, y_cv)\n",
    "\n",
    "    #watchlist = [(dtrain, 'train'), (dvalid, 'eval')]\n",
    "    watchlist = [(dtrain, 'train'), (dtrain, 'eval')]\n",
    "    gbm = xgb.train(params, dtrain, num_boost_round, early_stopping_rounds=early_stopping_rounds)\n",
    "\n",
    "    y_test_pred = gbm.predict(xgb.DMatrix(X_test), ntree_limit=gbm.best_iteration+1)\n",
    "    \n",
    "    make_submission_file(y_test_pred)\n",
    "\"\"\" "
   ]
  },
  {
   "cell_type": "code",
   "execution_count": 190,
   "metadata": {
    "collapsed": false
   },
   "outputs": [],
   "source": [
    "import xgboost as xgb\n",
    "def xgb_test(X_train, y_train, X_test, params, random_state=0):\n",
    "    num_boost_round = 1000\n",
    "    early_stopping_rounds = 20\n",
    "    test_size = 0.1\n",
    "    dtrain = xgb.DMatrix(X_train)\n",
    "    \n",
    "    xgb_clf = XGBClassifier(**params)\n",
    "    xgb_clf.fit(X_train, y_train,eval_metric='auc')\n",
    "\n",
    "    y_test_pred = xgb_clf.predict_proba(X_test)[:, 1]\n",
    "    \n",
    "    make_submission_file(y_test_pred)\n",
    "    "
   ]
  },
  {
   "cell_type": "code",
   "execution_count": 149,
   "metadata": {
    "collapsed": false
   },
   "outputs": [
    {
     "name": "stdout",
     "output_type": "stream",
     "text": [
      "XGBoost params. ETA: 0.3, MAX_DEPTH: 20, SUBSAMPLE: 1, COLSAMPLE_BY_TREE: 1\n",
      "[0]\ttrain-auc:0.599338\teval-auc:0.572438\n",
      "Multiple eval metrics have been passed: 'eval-auc' will be used for early stopping.\n",
      "\n",
      "Will train until eval-auc hasn't improved in 20 rounds.\n",
      "[1]\ttrain-auc:0.629334\teval-auc:0.579927\n",
      "[2]\ttrain-auc:0.654401\teval-auc:0.617621\n",
      "[3]\ttrain-auc:0.703778\teval-auc:0.651439\n",
      "[4]\ttrain-auc:0.746956\teval-auc:0.699533\n",
      "[5]\ttrain-auc:0.769911\teval-auc:0.728424\n",
      "[6]\ttrain-auc:0.779138\teval-auc:0.735981\n",
      "[7]\ttrain-auc:0.813302\teval-auc:0.746069\n",
      "[8]\ttrain-auc:0.838319\teval-auc:0.769574\n",
      "[9]\ttrain-auc:0.847216\teval-auc:0.775306\n",
      "[10]\ttrain-auc:0.85147\teval-auc:0.784492\n",
      "[11]\ttrain-auc:0.860639\teval-auc:0.802519\n",
      "[12]\ttrain-auc:0.86414\teval-auc:0.79965\n",
      "[13]\ttrain-auc:0.868579\teval-auc:0.801176\n",
      "[14]\ttrain-auc:0.872111\teval-auc:0.806039\n",
      "[15]\ttrain-auc:0.874298\teval-auc:0.810431\n",
      "[16]\ttrain-auc:0.878275\teval-auc:0.811249\n",
      "[17]\ttrain-auc:0.87945\teval-auc:0.812733\n",
      "[18]\ttrain-auc:0.880757\teval-auc:0.813363\n",
      "[19]\ttrain-auc:0.881223\teval-auc:0.813824\n",
      "[20]\ttrain-auc:0.881948\teval-auc:0.814626\n",
      "[21]\ttrain-auc:0.883053\teval-auc:0.817147\n",
      "[22]\ttrain-auc:0.884225\teval-auc:0.819595\n",
      "[23]\ttrain-auc:0.884805\teval-auc:0.819429\n",
      "[24]\ttrain-auc:0.886449\teval-auc:0.821306\n",
      "[25]\ttrain-auc:0.887641\teval-auc:0.822755\n",
      "[26]\ttrain-auc:0.888633\teval-auc:0.8236\n",
      "[27]\ttrain-auc:0.88957\teval-auc:0.822888\n",
      "[28]\ttrain-auc:0.890039\teval-auc:0.823186\n",
      "[29]\ttrain-auc:0.890767\teval-auc:0.823969\n",
      "[30]\ttrain-auc:0.891266\teval-auc:0.825317\n",
      "[31]\ttrain-auc:0.891865\teval-auc:0.826871\n",
      "[32]\ttrain-auc:0.892635\teval-auc:0.828744\n",
      "[33]\ttrain-auc:0.893467\teval-auc:0.829719\n",
      "[34]\ttrain-auc:0.894187\teval-auc:0.830125\n",
      "[35]\ttrain-auc:0.894858\teval-auc:0.829574\n",
      "[36]\ttrain-auc:0.895498\teval-auc:0.830341\n",
      "[37]\ttrain-auc:0.895841\teval-auc:0.830758\n",
      "[38]\ttrain-auc:0.896443\teval-auc:0.831481\n",
      "[39]\ttrain-auc:0.896921\teval-auc:0.83226\n",
      "[40]\ttrain-auc:0.897543\teval-auc:0.831856\n",
      "[41]\ttrain-auc:0.897821\teval-auc:0.832258\n",
      "[42]\ttrain-auc:0.898209\teval-auc:0.832238\n",
      "[43]\ttrain-auc:0.89871\teval-auc:0.832004\n",
      "[44]\ttrain-auc:0.899513\teval-auc:0.833063\n",
      "[45]\ttrain-auc:0.900042\teval-auc:0.833048\n",
      "[46]\ttrain-auc:0.900507\teval-auc:0.833652\n",
      "[47]\ttrain-auc:0.901347\teval-auc:0.832273\n",
      "[48]\ttrain-auc:0.901639\teval-auc:0.831816\n",
      "[49]\ttrain-auc:0.902049\teval-auc:0.831555\n",
      "[50]\ttrain-auc:0.902349\teval-auc:0.831511\n",
      "[51]\ttrain-auc:0.902871\teval-auc:0.831673\n",
      "[52]\ttrain-auc:0.903164\teval-auc:0.83257\n",
      "[53]\ttrain-auc:0.903472\teval-auc:0.832971\n",
      "[54]\ttrain-auc:0.903919\teval-auc:0.833183\n",
      "[55]\ttrain-auc:0.904129\teval-auc:0.833644\n",
      "[56]\ttrain-auc:0.904424\teval-auc:0.833506\n",
      "[57]\ttrain-auc:0.90488\teval-auc:0.834346\n",
      "[58]\ttrain-auc:0.905164\teval-auc:0.834363\n",
      "[59]\ttrain-auc:0.905509\teval-auc:0.834617\n",
      "[60]\ttrain-auc:0.905745\teval-auc:0.834906\n",
      "[61]\ttrain-auc:0.906043\teval-auc:0.835374\n",
      "[62]\ttrain-auc:0.906147\teval-auc:0.835859\n",
      "[63]\ttrain-auc:0.906318\teval-auc:0.835714\n",
      "[64]\ttrain-auc:0.906581\teval-auc:0.836048\n",
      "[65]\ttrain-auc:0.906886\teval-auc:0.836606\n",
      "[66]\ttrain-auc:0.90723\teval-auc:0.835885\n",
      "[67]\ttrain-auc:0.907306\teval-auc:0.836113\n",
      "[68]\ttrain-auc:0.907629\teval-auc:0.836889\n",
      "[69]\ttrain-auc:0.907777\teval-auc:0.837121\n",
      "[70]\ttrain-auc:0.908305\teval-auc:0.838118\n",
      "[71]\ttrain-auc:0.908593\teval-auc:0.839507\n",
      "[72]\ttrain-auc:0.908978\teval-auc:0.839141\n",
      "[73]\ttrain-auc:0.909513\teval-auc:0.839491\n",
      "[74]\ttrain-auc:0.909763\teval-auc:0.839841\n",
      "[75]\ttrain-auc:0.909953\teval-auc:0.839999\n",
      "[76]\ttrain-auc:0.910089\teval-auc:0.840132\n",
      "[77]\ttrain-auc:0.910352\teval-auc:0.841209\n",
      "[78]\ttrain-auc:0.91065\teval-auc:0.841452\n",
      "[79]\ttrain-auc:0.911006\teval-auc:0.841372\n",
      "[80]\ttrain-auc:0.911229\teval-auc:0.841314\n",
      "[81]\ttrain-auc:0.911492\teval-auc:0.841668\n",
      "[82]\ttrain-auc:0.912172\teval-auc:0.842957\n",
      "[83]\ttrain-auc:0.912388\teval-auc:0.843039\n",
      "[84]\ttrain-auc:0.912791\teval-auc:0.843527\n",
      "[85]\ttrain-auc:0.912991\teval-auc:0.843741\n",
      "[86]\ttrain-auc:0.913101\teval-auc:0.84367\n",
      "[87]\ttrain-auc:0.913275\teval-auc:0.843972\n",
      "[88]\ttrain-auc:0.913803\teval-auc:0.843237\n",
      "[89]\ttrain-auc:0.914422\teval-auc:0.843092\n",
      "[90]\ttrain-auc:0.914544\teval-auc:0.843261\n",
      "[91]\ttrain-auc:0.914712\teval-auc:0.843388\n",
      "[92]\ttrain-auc:0.914933\teval-auc:0.843815\n",
      "[93]\ttrain-auc:0.915088\teval-auc:0.84402\n",
      "[94]\ttrain-auc:0.915192\teval-auc:0.844008\n",
      "[95]\ttrain-auc:0.9154\teval-auc:0.843944\n",
      "[96]\ttrain-auc:0.915614\teval-auc:0.843544\n",
      "[97]\ttrain-auc:0.916246\teval-auc:0.842356\n",
      "[98]\ttrain-auc:0.916415\teval-auc:0.842534\n",
      "[99]\ttrain-auc:0.91658\teval-auc:0.842587\n",
      "[100]\ttrain-auc:0.916705\teval-auc:0.842687\n",
      "[101]\ttrain-auc:0.916869\teval-auc:0.842797\n",
      "[102]\ttrain-auc:0.917007\teval-auc:0.843018\n",
      "[103]\ttrain-auc:0.9171\teval-auc:0.843011\n",
      "[104]\ttrain-auc:0.917211\teval-auc:0.842972\n",
      "[105]\ttrain-auc:0.917899\teval-auc:0.844161\n",
      "[106]\ttrain-auc:0.918094\teval-auc:0.844313\n",
      "[107]\ttrain-auc:0.918242\teval-auc:0.844472\n",
      "[108]\ttrain-auc:0.91848\teval-auc:0.844072\n",
      "[109]\ttrain-auc:0.918692\teval-auc:0.84385\n",
      "[110]\ttrain-auc:0.918803\teval-auc:0.843823\n",
      "[111]\ttrain-auc:0.919052\teval-auc:0.844367\n",
      "[112]\ttrain-auc:0.919464\teval-auc:0.844925\n",
      "[113]\ttrain-auc:0.919903\teval-auc:0.844593\n",
      "[114]\ttrain-auc:0.920052\teval-auc:0.844399\n",
      "[115]\ttrain-auc:0.92019\teval-auc:0.844434\n",
      "[116]\ttrain-auc:0.920421\teval-auc:0.844875\n",
      "[117]\ttrain-auc:0.920816\teval-auc:0.845255\n",
      "[118]\ttrain-auc:0.920961\teval-auc:0.845485\n",
      "[119]\ttrain-auc:0.921068\teval-auc:0.845855\n",
      "[120]\ttrain-auc:0.921451\teval-auc:0.845954\n",
      "[121]\ttrain-auc:0.921535\teval-auc:0.84592\n",
      "[122]\ttrain-auc:0.921808\teval-auc:0.845953\n",
      "[123]\ttrain-auc:0.921859\teval-auc:0.846007\n",
      "[124]\ttrain-auc:0.921937\teval-auc:0.846056\n",
      "[125]\ttrain-auc:0.92205\teval-auc:0.846332\n",
      "[126]\ttrain-auc:0.922206\teval-auc:0.846327\n",
      "[127]\ttrain-auc:0.922352\teval-auc:0.845877\n",
      "[128]\ttrain-auc:0.922541\teval-auc:0.846328\n",
      "[129]\ttrain-auc:0.922756\teval-auc:0.846445\n",
      "[130]\ttrain-auc:0.922818\teval-auc:0.846507\n",
      "[131]\ttrain-auc:0.922906\teval-auc:0.846597\n",
      "[132]\ttrain-auc:0.923033\teval-auc:0.846701\n",
      "[133]\ttrain-auc:0.92314\teval-auc:0.846804\n",
      "[134]\ttrain-auc:0.923278\teval-auc:0.846947\n",
      "[135]\ttrain-auc:0.923349\teval-auc:0.847033\n",
      "[136]\ttrain-auc:0.923424\teval-auc:0.847024\n",
      "[137]\ttrain-auc:0.923515\teval-auc:0.84686\n",
      "[138]\ttrain-auc:0.923625\teval-auc:0.846983\n",
      "[139]\ttrain-auc:0.924112\teval-auc:0.847589\n",
      "[140]\ttrain-auc:0.924369\teval-auc:0.847789\n",
      "[141]\ttrain-auc:0.924422\teval-auc:0.847988\n",
      "[142]\ttrain-auc:0.924578\teval-auc:0.848162\n",
      "[143]\ttrain-auc:0.924662\teval-auc:0.848334\n",
      "[144]\ttrain-auc:0.924753\teval-auc:0.848359\n",
      "[145]\ttrain-auc:0.924851\teval-auc:0.848519\n",
      "[146]\ttrain-auc:0.925158\teval-auc:0.847967\n",
      "[147]\ttrain-auc:0.925239\teval-auc:0.84755\n",
      "[148]\ttrain-auc:0.925577\teval-auc:0.847842\n",
      "[149]\ttrain-auc:0.925798\teval-auc:0.848307\n",
      "[150]\ttrain-auc:0.926075\teval-auc:0.848873\n",
      "[151]\ttrain-auc:0.92618\teval-auc:0.848945\n",
      "[152]\ttrain-auc:0.92625\teval-auc:0.849251\n",
      "[153]\ttrain-auc:0.92638\teval-auc:0.849359\n",
      "[154]\ttrain-auc:0.926495\teval-auc:0.849526\n",
      "[155]\ttrain-auc:0.926762\teval-auc:0.849402\n",
      "[156]\ttrain-auc:0.926882\teval-auc:0.849604\n",
      "[157]\ttrain-auc:0.926939\teval-auc:0.849792\n",
      "[158]\ttrain-auc:0.927066\teval-auc:0.850058\n",
      "[159]\ttrain-auc:0.927326\teval-auc:0.850578\n",
      "[160]\ttrain-auc:0.927436\teval-auc:0.850708\n",
      "[161]\ttrain-auc:0.927537\teval-auc:0.851103\n",
      "[162]\ttrain-auc:0.927838\teval-auc:0.851697\n",
      "[163]\ttrain-auc:0.928158\teval-auc:0.852339\n",
      "[164]\ttrain-auc:0.928449\teval-auc:0.852763\n",
      "[165]\ttrain-auc:0.928518\teval-auc:0.852827\n",
      "[166]\ttrain-auc:0.928657\teval-auc:0.853129\n",
      "[167]\ttrain-auc:0.928708\teval-auc:0.85307\n",
      "[168]\ttrain-auc:0.928748\teval-auc:0.853166\n",
      "[169]\ttrain-auc:0.928841\teval-auc:0.853323\n",
      "[170]\ttrain-auc:0.928956\teval-auc:0.85366\n",
      "[171]\ttrain-auc:0.929023\teval-auc:0.853701\n",
      "[172]\ttrain-auc:0.929159\teval-auc:0.853918\n",
      "[173]\ttrain-auc:0.929208\teval-auc:0.854013\n",
      "[174]\ttrain-auc:0.929278\teval-auc:0.853968\n",
      "[175]\ttrain-auc:0.929394\teval-auc:0.854134\n",
      "[176]\ttrain-auc:0.929484\teval-auc:0.854304\n",
      "[177]\ttrain-auc:0.929499\teval-auc:0.854407\n",
      "[178]\ttrain-auc:0.929667\teval-auc:0.854691\n",
      "[179]\ttrain-auc:0.929773\teval-auc:0.854927\n",
      "[180]\ttrain-auc:0.929856\teval-auc:0.854967\n",
      "[181]\ttrain-auc:0.929908\teval-auc:0.855038\n",
      "[182]\ttrain-auc:0.929976\teval-auc:0.854968\n",
      "[183]\ttrain-auc:0.930105\teval-auc:0.855506\n",
      "[184]\ttrain-auc:0.930206\teval-auc:0.855867\n",
      "[185]\ttrain-auc:0.930222\teval-auc:0.855864\n",
      "[186]\ttrain-auc:0.930304\teval-auc:0.855911\n",
      "[187]\ttrain-auc:0.93049\teval-auc:0.855966\n",
      "[188]\ttrain-auc:0.930646\teval-auc:0.856135\n",
      "[189]\ttrain-auc:0.930693\teval-auc:0.856278\n",
      "[190]\ttrain-auc:0.930819\teval-auc:0.856427\n",
      "[191]\ttrain-auc:0.930943\teval-auc:0.856399\n",
      "[192]\ttrain-auc:0.931029\teval-auc:0.856757\n",
      "[193]\ttrain-auc:0.931096\teval-auc:0.856688\n",
      "[194]\ttrain-auc:0.931213\teval-auc:0.856552\n",
      "[195]\ttrain-auc:0.931333\teval-auc:0.856074\n",
      "[196]\ttrain-auc:0.931402\teval-auc:0.856105\n",
      "[197]\ttrain-auc:0.931475\teval-auc:0.856115\n",
      "[198]\ttrain-auc:0.93152\teval-auc:0.856076\n",
      "[199]\ttrain-auc:0.931823\teval-auc:0.856283\n",
      "[200]\ttrain-auc:0.932098\teval-auc:0.856495\n",
      "[201]\ttrain-auc:0.932257\teval-auc:0.856121\n",
      "[202]\ttrain-auc:0.932299\teval-auc:0.855844\n",
      "[203]\ttrain-auc:0.932431\teval-auc:0.8559\n",
      "[204]\ttrain-auc:0.932629\teval-auc:0.855911\n",
      "[205]\ttrain-auc:0.932705\teval-auc:0.85594\n",
      "[206]\ttrain-auc:0.932805\teval-auc:0.855855\n",
      "[207]\ttrain-auc:0.932888\teval-auc:0.855994\n",
      "[208]\ttrain-auc:0.933069\teval-auc:0.856309\n",
      "[209]\ttrain-auc:0.933157\teval-auc:0.856418\n",
      "[210]\ttrain-auc:0.933201\teval-auc:0.85665\n",
      "[211]\ttrain-auc:0.933257\teval-auc:0.856566\n",
      "[212]\ttrain-auc:0.933334\teval-auc:0.856529\n",
      "Stopping. Best iteration:\n",
      "[192]\ttrain-auc:0.931029\teval-auc:0.856757\n",
      "\n",
      "Validating...\n",
      "score: 0.856757\n"
     ]
    }
   ],
   "source": [
    "params = xgb_cv(X_train_ohe, y_train)"
   ]
  },
  {
   "cell_type": "code",
   "execution_count": 150,
   "metadata": {
    "collapsed": false
   },
   "outputs": [
    {
     "data": {
      "text/plain": [
       "{'booster': 'gbtree',\n",
       " 'colsample_bytree': 1,\n",
       " 'eta': 0.3,\n",
       " 'eval_metric': 'auc',\n",
       " 'lambda': 10,\n",
       " 'max_depth': 20,\n",
       " 'min_chil_weight': 1,\n",
       " 'objective': 'binary:logistic',\n",
       " 'seed': 0,\n",
       " 'silent': 1,\n",
       " 'subsample': 1,\n",
       " 'tree_method': 'exact'}"
      ]
     },
     "execution_count": 150,
     "metadata": {},
     "output_type": "execute_result"
    }
   ],
   "source": [
    "params"
   ]
  },
  {
   "cell_type": "code",
   "execution_count": 191,
   "metadata": {
    "collapsed": false
   },
   "outputs": [],
   "source": [
    "xgb_test(X_train_ohe, y_train, X_test_ohe, params)"
   ]
  },
  {
   "cell_type": "code",
   "execution_count": 192,
   "metadata": {
    "collapsed": false
   },
   "outputs": [
    {
     "name": "stdout",
     "output_type": "stream",
     "text": [
      "ID,ACTION\r\n",
      "1,0.573768019676\r\n",
      "2,0.970520675182\r\n",
      "3,0.974909067154\r\n",
      "4,0.980617165565\r\n",
      "5,0.994414329529\r\n",
      "6,0.977379858494\r\n",
      "7,0.971070706844\r\n",
      "8,0.992024421692\r\n",
      "9,0.691649436951\r\n"
     ]
    }
   ],
   "source": [
    "!head submit.csv"
   ]
  },
  {
   "cell_type": "code",
   "execution_count": 188,
   "metadata": {
    "collapsed": false
   },
   "outputs": [
    {
     "data": {
      "text/html": [
       "<div>\n",
       "<table border=\"1\" class=\"dataframe\">\n",
       "  <thead>\n",
       "    <tr style=\"text-align: right;\">\n",
       "      <th></th>\n",
       "      <th>id</th>\n",
       "      <th>RESOURCE</th>\n",
       "      <th>MGR_ID</th>\n",
       "      <th>ROLE_ROLLUP_1</th>\n",
       "      <th>ROLE_ROLLUP_2</th>\n",
       "      <th>ROLE_DEPTNAME</th>\n",
       "      <th>ROLE_TITLE</th>\n",
       "      <th>ROLE_FAMILY_DESC</th>\n",
       "      <th>ROLE_FAMILY</th>\n",
       "      <th>ROLE_CODE</th>\n",
       "    </tr>\n",
       "  </thead>\n",
       "  <tbody>\n",
       "    <tr>\n",
       "      <th>0</th>\n",
       "      <td>1</td>\n",
       "      <td>78766</td>\n",
       "      <td>72734</td>\n",
       "      <td>118079</td>\n",
       "      <td>118080</td>\n",
       "      <td>117878</td>\n",
       "      <td>117879</td>\n",
       "      <td>118177</td>\n",
       "      <td>19721</td>\n",
       "      <td>117880</td>\n",
       "    </tr>\n",
       "    <tr>\n",
       "      <th>1</th>\n",
       "      <td>2</td>\n",
       "      <td>40644</td>\n",
       "      <td>4378</td>\n",
       "      <td>117961</td>\n",
       "      <td>118327</td>\n",
       "      <td>118507</td>\n",
       "      <td>118863</td>\n",
       "      <td>122008</td>\n",
       "      <td>118398</td>\n",
       "      <td>118865</td>\n",
       "    </tr>\n",
       "    <tr>\n",
       "      <th>2</th>\n",
       "      <td>3</td>\n",
       "      <td>75443</td>\n",
       "      <td>2395</td>\n",
       "      <td>117961</td>\n",
       "      <td>118300</td>\n",
       "      <td>119488</td>\n",
       "      <td>118172</td>\n",
       "      <td>301534</td>\n",
       "      <td>249618</td>\n",
       "      <td>118175</td>\n",
       "    </tr>\n",
       "    <tr>\n",
       "      <th>3</th>\n",
       "      <td>4</td>\n",
       "      <td>43219</td>\n",
       "      <td>19986</td>\n",
       "      <td>117961</td>\n",
       "      <td>118225</td>\n",
       "      <td>118403</td>\n",
       "      <td>120773</td>\n",
       "      <td>136187</td>\n",
       "      <td>118960</td>\n",
       "      <td>120774</td>\n",
       "    </tr>\n",
       "    <tr>\n",
       "      <th>4</th>\n",
       "      <td>5</td>\n",
       "      <td>42093</td>\n",
       "      <td>50015</td>\n",
       "      <td>117961</td>\n",
       "      <td>118343</td>\n",
       "      <td>119598</td>\n",
       "      <td>118422</td>\n",
       "      <td>300136</td>\n",
       "      <td>118424</td>\n",
       "      <td>118425</td>\n",
       "    </tr>\n",
       "  </tbody>\n",
       "</table>\n",
       "</div>"
      ],
      "text/plain": [
       "   id  RESOURCE  MGR_ID  ROLE_ROLLUP_1  ROLE_ROLLUP_2  ROLE_DEPTNAME  \\\n",
       "0   1     78766   72734         118079         118080         117878   \n",
       "1   2     40644    4378         117961         118327         118507   \n",
       "2   3     75443    2395         117961         118300         119488   \n",
       "3   4     43219   19986         117961         118225         118403   \n",
       "4   5     42093   50015         117961         118343         119598   \n",
       "\n",
       "   ROLE_TITLE  ROLE_FAMILY_DESC  ROLE_FAMILY  ROLE_CODE  \n",
       "0      117879            118177        19721     117880  \n",
       "1      118863            122008       118398     118865  \n",
       "2      118172            301534       249618     118175  \n",
       "3      120773            136187       118960     120774  \n",
       "4      118422            300136       118424     118425  "
      ]
     },
     "execution_count": 188,
     "metadata": {},
     "output_type": "execute_result"
    }
   ],
   "source": [
    "test.head()"
   ]
  }
 ],
 "metadata": {
  "kernelspec": {
   "display_name": "Python 2",
   "language": "python",
   "name": "python2"
  },
  "language_info": {
   "codemirror_mode": {
    "name": "ipython",
    "version": 2
   },
   "file_extension": ".py",
   "mimetype": "text/x-python",
   "name": "python",
   "nbconvert_exporter": "python",
   "pygments_lexer": "ipython2",
   "version": "2.7.12"
  }
 },
 "nbformat": 4,
 "nbformat_minor": 1
}
