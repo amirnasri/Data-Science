{
 "cells": [
  {
   "cell_type": "markdown",
   "metadata": {},
   "source": [
    "# Insults  detection in Social Media"
   ]
  },
  {
   "cell_type": "markdown",
   "metadata": {},
   "source": [
    "In this article, we consider the problem of detecting insults in social media comments. This is an important problem from a practical point of views since there are many social media sites such as youtube, yelp, etc, that are interested in detecting and filtering out comments that involve insults especially to other users. We use the data provided in [this](https://www.kaggle.com/c/detecting-insults-in-social-commentary) competition hosted by Kaggle. We follow the same setup and use the same performance criterion as in the competition to be able to compare our results to the winners of the competition."
   ]
  },
  {
   "cell_type": "markdown",
   "metadata": {},
   "source": [
    "## The Data and Problem Setup"
   ]
  },
  {
   "cell_type": "markdown",
   "metadata": {},
   "source": [
    "At this competition, first \"train.csv\" was made available and contestants were ask to submit their preliminary models. Here is a random sample of the train data:"
   ]
  },
  {
   "cell_type": "code",
   "execution_count": 7,
   "metadata": {
    "collapsed": false
   },
   "outputs": [
    {
     "data": {
      "text/html": [
       "<div>\n",
       "<table border=\"1\" class=\"dataframe\">\n",
       "  <thead>\n",
       "    <tr style=\"text-align: right;\">\n",
       "      <th></th>\n",
       "      <th>Insult</th>\n",
       "      <th>Date</th>\n",
       "      <th>Comment</th>\n",
       "    </tr>\n",
       "  </thead>\n",
       "  <tbody>\n",
       "    <tr>\n",
       "      <th>3223</th>\n",
       "      <td>0</td>\n",
       "      <td>20120619233439Z</td>\n",
       "      <td>\"@Lyoness....I was thinking the same thing how can you not know where your money is gonna...$2 millon is a lot of money hands down....I truly believe that k Michelle like others our using their pass and now relationship to get paid she's bitter that Memphiz is with Toya now....why didn't she say anything about all this last year???? When and Toya and Memphiz got married why she waited for a reality show!!!!! Please Help me out because I don't get it!!!!!\"</td>\n",
       "    </tr>\n",
       "    <tr>\n",
       "      <th>1226</th>\n",
       "      <td>0</td>\n",
       "      <td>20120619052850Z</td>\n",
       "      <td>\"courtt239 I'm a cat no shit your dog doesn't like me\"</td>\n",
       "    </tr>\n",
       "    <tr>\n",
       "      <th>2720</th>\n",
       "      <td>0</td>\n",
       "      <td>NaN</td>\n",
       "      <td>\"\\\\xc2\\\\xa0Freedom ain\\\\'t free... suck it up, quit whining, and make the effort to get the free ID...\\\\n\\\\nIf \"people will just not go through it\", then they don\\\\'t want to vote badly enough... We\\\\'re talking minimal standards here--kinda borderline pathetic!\"</td>\n",
       "    </tr>\n",
       "    <tr>\n",
       "      <th>69</th>\n",
       "      <td>0</td>\n",
       "      <td>20120527153941Z</td>\n",
       "      <td>\"you better hope because the Marlins have a history of giving up their superstars\"</td>\n",
       "    </tr>\n",
       "    <tr>\n",
       "      <th>3391</th>\n",
       "      <td>1</td>\n",
       "      <td>20120618194243Z</td>\n",
       "      <td>\"do you have any proof that Romney stole anything? Or are you just a stupid libtard troll?\"</td>\n",
       "    </tr>\n",
       "  </tbody>\n",
       "</table>\n",
       "</div>"
      ],
      "text/plain": [
       "      Insult             Date  \\\n",
       "3223       0  20120619233439Z   \n",
       "1226       0  20120619052850Z   \n",
       "2720       0              NaN   \n",
       "69         0  20120527153941Z   \n",
       "3391       1  20120618194243Z   \n",
       "\n",
       "                                                                                                                                                                                                                                                                                                                                                                                                                                                                          Comment  \n",
       "3223  \"@Lyoness....I was thinking the same thing how can you not know where your money is gonna...$2 millon is a lot of money hands down....I truly believe that k Michelle like others our using their pass and now relationship to get paid she's bitter that Memphiz is with Toya now....why didn't she say anything about all this last year???? When and Toya and Memphiz got married why she waited for a reality show!!!!! Please Help me out because I don't get it!!!!!\"  \n",
       "1226                                                                                                                                                                                                                                                                                                                                                                                                                       \"courtt239 I'm a cat no shit your dog doesn't like me\"  \n",
       "2720                                                                                                                                                                                                      \"\\\\xc2\\\\xa0Freedom ain\\\\'t free... suck it up, quit whining, and make the effort to get the free ID...\\\\n\\\\nIf \"people will just not go through it\", then they don\\\\'t want to vote badly enough... We\\\\'re talking minimal standards here--kinda borderline pathetic!\"  \n",
       "69                                                                                                                                                                                                                                                                                                                                                                                             \"you better hope because the Marlins have a history of giving up their superstars\"  \n",
       "3391                                                                                                                                                                                                                                                                                                                                                                                  \"do you have any proof that Romney stole anything? Or are you just a stupid libtard troll?\"  "
      ]
     },
     "execution_count": 7,
     "metadata": {},
     "output_type": "execute_result"
    }
   ],
   "source": [
    "import pandas as pd\n",
    "pd.set_option('max_colwidth', 1000)\n",
    "train = pd.read_csv(\"data/train.csv\")\n",
    "train.sample(5)"
   ]
  },
  {
   "cell_type": "markdown",
   "metadata": {},
   "source": [
    "The public and private leaderboad evaluation at this first stage was done on a test data set that later was made available as \"test_with_solutions.csv\". The contestants then submitted their final models which were evaluated on a verification set. This set was provided after the competition was disclosed as \"impermium_verification_labels.csv\".\n"
   ]
  },
  {
   "cell_type": "code",
   "execution_count": 2,
   "metadata": {
    "collapsed": false
   },
   "outputs": [],
   "source": [
    "test_with_solutions = pd.read_csv(\"data/test_with_solutions.csv\")\n",
    "verfication_set = pd.read_csv(\"data/impermium_verification_labels.csv\")"
   ]
  },
  {
   "cell_type": "markdown",
   "metadata": {},
   "source": [
    "Since we are interested in building the final model, we need to combine the \"train\" and \"test_with_solutions\" data sets and use that as training data:"
   ]
  },
  {
   "cell_type": "code",
   "execution_count": 3,
   "metadata": {
    "collapsed": false
   },
   "outputs": [],
   "source": [
    "train_total = pd.concat([train, test_with_solutions.iloc[:, :-1]]).reset_index()"
   ]
  },
  {
   "cell_type": "markdown",
   "metadata": {},
   "source": [
    "After building our model we will evaluate the model performance on the \"verification\" data set above which serves as test data. Here is a glimpse of our training data:"
   ]
  },
  {
   "cell_type": "code",
   "execution_count": 19,
   "metadata": {
    "collapsed": false
   },
   "outputs": [
    {
     "data": {
      "text/html": [
       "<div>\n",
       "<style>\n",
       "    .dataframe thead tr:only-child th {\n",
       "        text-align: right;\n",
       "    }\n",
       "\n",
       "    .dataframe thead th {\n",
       "        text-align: left;\n",
       "    }\n",
       "\n",
       "    .dataframe tbody tr th {\n",
       "        vertical-align: top;\n",
       "    }\n",
       "</style>\n",
       "<table border=\"1\" class=\"dataframe\">\n",
       "  <thead>\n",
       "    <tr style=\"text-align: right;\">\n",
       "      <th></th>\n",
       "      <th>index</th>\n",
       "      <th>Insult</th>\n",
       "      <th>Date</th>\n",
       "      <th>Comment</th>\n",
       "    </tr>\n",
       "  </thead>\n",
       "  <tbody>\n",
       "    <tr>\n",
       "      <th>1959</th>\n",
       "      <td>1959</td>\n",
       "      <td>1</td>\n",
       "      <td>20120529105937Z</td>\n",
       "      <td>\"You're analysis is exceptionally American. And by that I mean it's entirely grounded in fact-challenged star-spangled retardation- entirely voluntary in nature.\"</td>\n",
       "    </tr>\n",
       "    <tr>\n",
       "      <th>2450</th>\n",
       "      <td>2450</td>\n",
       "      <td>0</td>\n",
       "      <td>20120530022806Z</td>\n",
       "      <td>\"Again:\\xa0 I wouldn't count on it.\\n\\nAnyone who continues to support the current empty suit is either totally deluded or a_traitor.\"</td>\n",
       "    </tr>\n",
       "    <tr>\n",
       "      <th>5844</th>\n",
       "      <td>1897</td>\n",
       "      <td>1</td>\n",
       "      <td>20120528034620Z</td>\n",
       "      <td>\"FANS ARE SOOOO BLIND DUMB. refs handed game to spurs??? THUNDER MADE two more free throws than the spurs (19 to 17) AND SPURS STILL WON! shut it haters\"</td>\n",
       "    </tr>\n",
       "    <tr>\n",
       "      <th>6376</th>\n",
       "      <td>2429</td>\n",
       "      <td>0</td>\n",
       "      <td>20120528043920Z</td>\n",
       "      <td>\"I don't know what to think about LW1 - it's possible that she's just not a facebook type person.  Maybe she should change her settings so she doesn't get the updates and photos.  That way she can look at their page if she feels like it but she won't be seeing more than she really wants to know. \\n\\nI have to agree though that writing about awesome presents you received or how much you really love, love, love your awesome BF, or telling everyone about your Valentines plans - seems a little like what CH called over sharing.  I guess because it's not the kind of the info that I would think about announcing.  For example, if my husband gives me an awesome gift - I don't rush to the phone to call everyone I know and tell them or even do a mass email to let everyone know.  Same with plans for special occasions.  \\n\\nIf someone asks me - then of course I'll tell them.  But the announcing to the world thing does seem a little over the top when it comes to things like that.  But then, that...</td>\n",
       "    </tr>\n",
       "    <tr>\n",
       "      <th>4214</th>\n",
       "      <td>267</td>\n",
       "      <td>0</td>\n",
       "      <td>20120618211714Z</td>\n",
       "      <td>\"Fucking idiots. They should all be in jail. Make things worse for all of us responsible and respectful cyclists.\"</td>\n",
       "    </tr>\n",
       "    <tr>\n",
       "      <th>3686</th>\n",
       "      <td>3686</td>\n",
       "      <td>0</td>\n",
       "      <td>20120530001221Z</td>\n",
       "      <td>\"What's he going to say? \"Nope sorry. Next question.\". Then they would of criticized him for not answering a simple question. its lose-lose for him.\"</td>\n",
       "    </tr>\n",
       "    <tr>\n",
       "      <th>4211</th>\n",
       "      <td>264</td>\n",
       "      <td>0</td>\n",
       "      <td>NaN</td>\n",
       "      <td>\"He had the potential but blew every one of his chances.\\\\n\\\\n \\\\n\\\\nNot good enough for Arsenal and he'll not be missed.\\\\n\\\\n \\\\n\\\\nI expect him to be at Spurs in 10 years or so.\"</td>\n",
       "    </tr>\n",
       "    <tr>\n",
       "      <th>3483</th>\n",
       "      <td>3483</td>\n",
       "      <td>1</td>\n",
       "      <td>20120609175054Z</td>\n",
       "      <td>\"You really are NOTHING but an animal, aren't you?\\n\\nHave a nice day, I sincerely hope you manage to get some help for your anger issues.\\n\\nYou are OBVIOUSLY DEEPLY DISTURBED and you have my sympathy.\"</td>\n",
       "    </tr>\n",
       "    <tr>\n",
       "      <th>3275</th>\n",
       "      <td>3275</td>\n",
       "      <td>0</td>\n",
       "      <td>20120609182832Z</td>\n",
       "      <td>\"I like politicians who wear their biases on their sleeves *much* better than the slick ones, who say only what the crowd before them wants to hear.\\n\\nLike *both* Presidential nominees this go round, and like Governor McDonnell of Virginia.\\n\\nMcDonnell has his vision set on higher office, and doesn't want to fuck it up right now.\"</td>\n",
       "    </tr>\n",
       "    <tr>\n",
       "      <th>4589</th>\n",
       "      <td>642</td>\n",
       "      <td>0</td>\n",
       "      <td>20120530141243Z</td>\n",
       "      <td>\"One thing that disappointed me about DT last night... since my cable was out I was drawn to the threads and it was disgusting. People on here cussing at brooks, the refs, calling for whole sale changes.\\n\\xa0\\nTo those where in the game thread last night. you should be ashamed. Knee-jerking and lambasting our team for every single thing that didn't go right. Seriously. I expected more from this group.\\n\\xa0\\nyou want to complain? You want to give your advice? Then do that in a constructive manner. The time for debating whole sale changes and coaching extensions and amnestying Perk and what not will come later. But right now lets focus our energy on support OUR TEAM and looking at what they can do to improve.\\n\\xa0\\nTHUNDER UP!\"</td>\n",
       "    </tr>\n",
       "  </tbody>\n",
       "</table>\n",
       "</div>"
      ],
      "text/plain": [
       "      index  Insult             Date  \\\n",
       "1959   1959       1  20120529105937Z   \n",
       "2450   2450       0  20120530022806Z   \n",
       "5844   1897       1  20120528034620Z   \n",
       "6376   2429       0  20120528043920Z   \n",
       "4214    267       0  20120618211714Z   \n",
       "3686   3686       0  20120530001221Z   \n",
       "4211    264       0              NaN   \n",
       "3483   3483       1  20120609175054Z   \n",
       "3275   3275       0  20120609182832Z   \n",
       "4589    642       0  20120530141243Z   \n",
       "\n",
       "                                                                                                                                                                                                                                                                                                                                                                                                                                                                                                                                                                                                                                                                                                                                                                                                                                                                                                                                                                                                                                      Comment  \n",
       "1959                                                                                                                                                                                                                                                                                                                                                                                                                                                                                                                                                                                                                                                                                                                                                                                                                                                                       \"You're analysis is exceptionally American. And by that I mean it's entirely grounded in fact-challenged star-spangled retardation- entirely voluntary in nature.\"  \n",
       "2450                                                                                                                                                                                                                                                                                                                                                                                                                                                                                                                                                                                                                                                                                                                                                                                                                                                                                                   \"Again:\\xa0 I wouldn't count on it.\\n\\nAnyone who continues to support the current empty suit is either totally deluded or a_traitor.\"  \n",
       "5844                                                                                                                                                                                                                                                                                                                                                                                                                                                                                                                                                                                                                                                                                                                                                                                                                                                                                \"FANS ARE SOOOO BLIND DUMB. refs handed game to spurs??? THUNDER MADE two more free throws than the spurs (19 to 17) AND SPURS STILL WON! shut it haters\"  \n",
       "6376  \"I don't know what to think about LW1 - it's possible that she's just not a facebook type person.  Maybe she should change her settings so she doesn't get the updates and photos.  That way she can look at their page if she feels like it but she won't be seeing more than she really wants to know. \\n\\nI have to agree though that writing about awesome presents you received or how much you really love, love, love your awesome BF, or telling everyone about your Valentines plans - seems a little like what CH called over sharing.  I guess because it's not the kind of the info that I would think about announcing.  For example, if my husband gives me an awesome gift - I don't rush to the phone to call everyone I know and tell them or even do a mass email to let everyone know.  Same with plans for special occasions.  \\n\\nIf someone asks me - then of course I'll tell them.  But the announcing to the world thing does seem a little over the top when it comes to things like that.  But then, that...  \n",
       "4214                                                                                                                                                                                                                                                                                                                                                                                                                                                                                                                                                                                                                                                                                                                                                                                                                                                                                                                       \"Fucking idiots. They should all be in jail. Make things worse for all of us responsible and respectful cyclists.\"  \n",
       "3686                                                                                                                                                                                                                                                                                                                                                                                                                                                                                                                                                                                                                                                                                                                                                                                                                                                                                    \"What's he going to say? \"Nope sorry. Next question.\". Then they would of criticized him for not answering a simple question. its lose-lose for him.\"  \n",
       "4211                                                                                                                                                                                                                                                                                                                                                                                                                                                                                                                                                                                                                                                                                                                                                                                                                                                    \"He had the potential but blew every one of his chances.\\\\n\\\\n \\\\n\\\\nNot good enough for Arsenal and he'll not be missed.\\\\n\\\\n \\\\n\\\\nI expect him to be at Spurs in 10 years or so.\"  \n",
       "3483                                                                                                                                                                                                                                                                                                                                                                                                                                                                                                                                                                                                                                                                                                                                                                                                                              \"You really are NOTHING but an animal, aren't you?\\n\\nHave a nice day, I sincerely hope you manage to get some help for your anger issues.\\n\\nYou are OBVIOUSLY DEEPLY DISTURBED and you have my sympathy.\"  \n",
       "3275                                                                                                                                                                                                                                                                                                                                                                                                                                                                                                                                                                                                                                                                                           \"I like politicians who wear their biases on their sleeves *much* better than the slick ones, who say only what the crowd before them wants to hear.\\n\\nLike *both* Presidential nominees this go round, and like Governor McDonnell of Virginia.\\n\\nMcDonnell has his vision set on higher office, and doesn't want to fuck it up right now.\"  \n",
       "4589                                                                                                                                                                                                                                                                       \"One thing that disappointed me about DT last night... since my cable was out I was drawn to the threads and it was disgusting. People on here cussing at brooks, the refs, calling for whole sale changes.\\n\\xa0\\nTo those where in the game thread last night. you should be ashamed. Knee-jerking and lambasting our team for every single thing that didn't go right. Seriously. I expected more from this group.\\n\\xa0\\nyou want to complain? You want to give your advice? Then do that in a constructive manner. The time for debating whole sale changes and coaching extensions and amnestying Perk and what not will come later. But right now lets focus our energy on support OUR TEAM and looking at what they can do to improve.\\n\\xa0\\nTHUNDER UP!\"  "
      ]
     },
     "execution_count": 19,
     "metadata": {},
     "output_type": "execute_result"
    }
   ],
   "source": [
    "train_total.sample(10)"
   ]
  },
  {
   "cell_type": "markdown",
   "metadata": {},
   "source": [
    "As we can see, we are provided with the text of the comments as well the date the comments were posted. Also the Insult column shows whether the comments is an insult. This is what we are required to predict for the test data.\n",
    "\n",
    "We also see that the comments are not cleaned. For example the non-breaking spaces appear as \"\\xa0\" and should be removed. Also there characters like \"\\n\" and \"\\\\n\" which should be replaced by a white space."
   ]
  },
  {
   "cell_type": "markdown",
   "metadata": {},
   "source": [
    "## Text Cleaning"
   ]
  },
  {
   "cell_type": "markdown",
   "metadata": {},
   "source": [
    "We construct a transformer which takes the comments as input and transforms them to cleaned comments:"
   ]
  },
  {
   "cell_type": "code",
   "execution_count": 4,
   "metadata": {
    "collapsed": true
   },
   "outputs": [],
   "source": [
    "import re\n",
    "from scipy import sparse\n",
    "from sklearn.base import BaseEstimator, TransformerMixin\n",
    "from nltk.stem import WordNetLemmatizer\n",
    "wordnet_lemmatizer = WordNetLemmatizer()\n",
    "\n",
    "\n",
    "class Preprocessor(BaseEstimator, TransformerMixin):\n",
    "    def __init__(self):\n",
    "        pass\n",
    "    \n",
    "    def fit(self, X, y=None):\n",
    "        return self\n",
    "        \n",
    "    def transform(self, X):\n",
    "        comments_clean = []\n",
    "        for c in X:\n",
    "            c = c.replace('\\\\\\\\', '\\\\')\n",
    "            c = c.replace('\\\\n', ' ')\n",
    "            c = re.sub(r'http[s]?://[^\\s]*', ' ', c)\n",
    "            c = re.sub(r'\\\\x[0-9a-f]{2}', ' ', c)\n",
    "            c = re.sub(r'\\\\u[0-9a-f]{4}', ' ', c)\n",
    "            c = re.sub(r'[-\"]', '', c)\n",
    "            c = re.sub(r'[:*#%&,.?!\\']', ' ', c)\n",
    "            c = re.sub(r\"(.)\\1{2,}\", '\\g<1>', c)\n",
    "            #c = re.sub(r'@[^ ]*', ' ', c)\n",
    "            #c = re.sub(r'[0-9]+', ' ', c)\n",
    "            c = \" \".join([wordnet_lemmatizer.lemmatize(wordnet_lemmatizer.lemmatize(w, pos='v')).lower() \n",
    "                          for w in c.split()])\n",
    "\n",
    "            #c = \" \".join([w.lower() for w in c.split()])# if 3<=len(w)<=40])\n",
    "            comments_clean.append(c)\n",
    "        return comments_clean\n",
    "    \n",
    "preprocessor = Preprocessor()"
   ]
  },
  {
   "cell_type": "markdown",
   "metadata": {},
   "source": [
    "The transformer above performs the following cleaning operations on the data:\n",
    "* remove double-scape and carriage-return using ```c = c.replace('\\\\\\\\', '\\\\')``` and ```c = c.replace('\\\\n', ' ')``` \n",
    "* remove urls using ```c = re.sub(r'http[s]?://[^\\s]*', ' ', c)```\n",
    "* remove punctuation using ```c = re.sub(r'[:*#%&,.?!\\']', ' ', c)```\n",
    "* remove non-ascii and unicode characters using ```c = re.sub(r'\\\\x[0-9a-f]{2}', ' ', c)``` and ```c = re.sub(r'\\\\u[0-9a-f]{4}', ' ', c)```\n",
    "* replace repeated characters with a single character so that e.g. word \"heeelllll\" will be converted to \"hell\"\n",
    "* replace each word with its lemmatized version and convert all words to lower case\n",
    "             \n",
    "Here we can see the original and cleaned comments side-by-side."
   ]
  },
  {
   "cell_type": "code",
   "execution_count": 38,
   "metadata": {
    "collapsed": false
   },
   "outputs": [
    {
     "data": {
      "text/html": [
       "<div>\n",
       "<table border=\"1\" class=\"dataframe\">\n",
       "  <thead>\n",
       "    <tr style=\"text-align: right;\">\n",
       "      <th></th>\n",
       "      <th>Comment</th>\n",
       "      <th>Comment_clean</th>\n",
       "    </tr>\n",
       "  </thead>\n",
       "  <tbody>\n",
       "    <tr>\n",
       "      <th>6378</th>\n",
       "      <td>\"I wear Gucci, I wear Prada, at the same damn time!\"</td>\n",
       "      <td>i wear gucci i wear prada at the same damn time</td>\n",
       "    </tr>\n",
       "    <tr>\n",
       "      <th>6169</th>\n",
       "      <td>\"The D-Bags are absolutely atrocious from top to bottom - horrific pitching and zero offense.\"</td>\n",
       "      <td>the dbags be absolutely atrocious from top to bottom horrific pitch and zero offense</td>\n",
       "    </tr>\n",
       "    <tr>\n",
       "      <th>6104</th>\n",
       "      <td>\"All of y'all sound like some lil bitches! Yeezy this ...Yeezy that...are they gonna...are they not gonna drop....man shut the fuck already. Every last one of y'all acting like some hypebeats. Pull your skirts down and your pants up and stop wettin yourself for a fuckin pair of shoes!\"</td>\n",
       "      <td>all of y all sound like some lil bitch yeezy this yeezy that be they gonna be they not gonna drop man shut the fuck already every last one of y all act like some hypebeats pull your skirt down and your pant up and stop wettin yourself for a fuckin pair of shoe</td>\n",
       "    </tr>\n",
       "    <tr>\n",
       "      <th>6325</th>\n",
       "      <td>\"LOL...Why are you wasting your time reading the comments?\"</td>\n",
       "      <td>lol why be you waste your time read the comment</td>\n",
       "    </tr>\n",
       "    <tr>\n",
       "      <th>432</th>\n",
       "      <td>\"@daredevil241\\xa0\\xa0@tomislavgrujic\\xa0yea well when you do make sure you punch him with your right hand otherwise it might not be authentic enough for him\"</td>\n",
       "      <td>@daredevil241 @tomislavgrujic yea well when you do make sure you punch him with your right hand otherwise it might not be authentic enough for him</td>\n",
       "    </tr>\n",
       "    <tr>\n",
       "      <th>4119</th>\n",
       "      <td>\"you are a mental midget you can't be\\xa0 a traitor if you aren't a citizen.\"</td>\n",
       "      <td>you be a mental midget you can t be a traitor if you aren t a citizen</td>\n",
       "    </tr>\n",
       "    <tr>\n",
       "      <th>2822</th>\n",
       "      <td>\"you're not stupid, just dumb\"</td>\n",
       "      <td>you re not stupid just dumb</td>\n",
       "    </tr>\n",
       "    <tr>\n",
       "      <th>5952</th>\n",
       "      <td>\"GET YER TOWELS READY, ROENICK'S WARMING UP THE TEAR DUCTS\"</td>\n",
       "      <td>get yer towels ready roenick s warming up the tear ducts</td>\n",
       "    </tr>\n",
       "    <tr>\n",
       "      <th>5224</th>\n",
       "      <td>\"He should be deported immediately, along with any others who would do us harm. And if the ECHR don't like it, tough. And when Britain really was Great, he would have been. But I am fully aware that our government haven't got what it takes to put the safety of the British people above kowtowing to Europe.\"</td>\n",
       "      <td>he should be deport immediately along with any others who would do u harm and if the echr don t like it tough and when britain really be great he would have be but i be fully aware that our government haven t get what it take to put the safety of the british people above kowtow to europe</td>\n",
       "    </tr>\n",
       "    <tr>\n",
       "      <th>352</th>\n",
       "      <td>\"suck a dick pussy ass nigga bitch!!!\"</td>\n",
       "      <td>suck a dick pussy as nigga bitch</td>\n",
       "    </tr>\n",
       "  </tbody>\n",
       "</table>\n",
       "</div>"
      ],
      "text/plain": [
       "                                                                                                                                                                                                                                                                                                                  Comment                                                                                                                                                                                                                                                                                     Comment_clean\n",
       "6378                                                                                                                                                                                                                                                                 \"I wear Gucci, I wear Prada, at the same damn time!\"                                                                                                                                                                                                                                                   i wear gucci i wear prada at the same damn time\n",
       "6169                                                                                                                                                                                                                       \"The D-Bags are absolutely atrocious from top to bottom - horrific pitching and zero offense.\"                                                                                                                                                                                                              the dbags be absolutely atrocious from top to bottom horrific pitch and zero offense\n",
       "6104                       \"All of y'all sound like some lil bitches! Yeezy this ...Yeezy that...are they gonna...are they not gonna drop....man shut the fuck already. Every last one of y'all acting like some hypebeats. Pull your skirts down and your pants up and stop wettin yourself for a fuckin pair of shoes!\"                              all of y all sound like some lil bitch yeezy this yeezy that be they gonna be they not gonna drop man shut the fuck already every last one of y all act like some hypebeats pull your skirt down and your pant up and stop wettin yourself for a fuckin pair of shoe\n",
       "6325                                                                                                                                                                                                                                                          \"LOL...Why are you wasting your time reading the comments?\"                                                                                                                                                                                                                                                   lol why be you waste your time read the comment\n",
       "432                                                                                                                                                        \"@daredevil241\\xa0\\xa0@tomislavgrujic\\xa0yea well when you do make sure you punch him with your right hand otherwise it might not be authentic enough for him\"                                                                                                                                                @daredevil241 @tomislavgrujic yea well when you do make sure you punch him with your right hand otherwise it might not be authentic enough for him\n",
       "4119                                                                                                                                                                                                                                        \"you are a mental midget you can't be\\xa0 a traitor if you aren't a citizen.\"                                                                                                                                                                                                                             you be a mental midget you can t be a traitor if you aren t a citizen\n",
       "2822                                                                                                                                                                                                                                                                                       \"you're not stupid, just dumb\"                                                                                                                                                                                                                                                                       you re not stupid just dumb\n",
       "5952                                                                                                                                                                                                                                                          \"GET YER TOWELS READY, ROENICK'S WARMING UP THE TEAR DUCTS\"                                                                                                                                                                                                                                          get yer towels ready roenick s warming up the tear ducts\n",
       "5224  \"He should be deported immediately, along with any others who would do us harm. And if the ECHR don't like it, tough. And when Britain really was Great, he would have been. But I am fully aware that our government haven't got what it takes to put the safety of the British people above kowtowing to Europe.\"  he should be deport immediately along with any others who would do u harm and if the echr don t like it tough and when britain really be great he would have be but i be fully aware that our government haven t get what it take to put the safety of the british people above kowtow to europe\n",
       "352                                                                                                                                                                                                                                                                                \"suck a dick pussy ass nigga bitch!!!\"                                                                                                                                                                                                                                                                  suck a dick pussy as nigga bitch"
      ]
     },
     "execution_count": 38,
     "metadata": {},
     "output_type": "execute_result"
    }
   ],
   "source": [
    "train_sample = train_total.sample(10)\n",
    "train_sample['Comment_clean'] = preprocessor.fit_transform(train_sample['Comment'])\n",
    "train_sample[['Comment', 'Comment_clean']]"
   ]
  },
  {
   "cell_type": "markdown",
   "metadata": {},
   "source": [
    "## Feature Extraction"
   ]
  },
  {
   "cell_type": "markdown",
   "metadata": {},
   "source": [
    "The most common way to extract feature from text is text vectorization. In this approach, first a bag-of-word representation of the documents is build which contains all the words that appear in any of the documents. Then the number of times each word appears in a document is calculated and is used as a feature vector to represent the document. Optionally, we can divide the word counts by the frequency of each word appearing in all the documents combine. This allows us to reduce the effect of very common words which do not convey much information. A detailed explanation of text vectorization techniques can be found [here](http://scikit-learn.org/stable/modules/feature_extraction.html)."
   ]
  },
  {
   "cell_type": "code",
   "execution_count": 9,
   "metadata": {
    "collapsed": false
   },
   "outputs": [],
   "source": [
    "from sklearn.feature_extraction.text import TfidfVectorizer\n",
    "tfidv_char = TfidfVectorizer(ngram_range=(1, 2), analyzer='char', stop_words='english')\n",
    "tfidv_word = TfidfVectorizer(ngram_range=(1, 2), analyzer='word', stop_words='english')\n"
   ]
  },
  {
   "cell_type": "markdown",
   "metadata": {},
   "source": [
    "In its plain form, text vectorization only considers word frequency and does not take into account the position of words relative to each other. In other words, it does not take into account the text \"context\". To alleviate this problem, as seen above, we can use the ngram_range parameter of the vectorizer. We also note that to extract richer set of features, we have used two vectorizers, one that works of words and one that works on characters.\n",
    "\n",
    "In addition to standard features, we develop the following feature extractor transformer which extract features that are directly related to the problem of insult detection. This transformer extracts the following features:\n",
    "\n",
    "* The count of bad words used the in comment.\n",
    "* The number of positional tags such as verb, noun, adjective, etc, obtained using ntlk.\n",
    "* The number of at mentions in the comment since we are asked to detect insults directed to other members as apposed to public figures like politicians or celebrities."
   ]
  },
  {
   "cell_type": "code",
   "execution_count": 10,
   "metadata": {
    "collapsed": false
   },
   "outputs": [],
   "source": [
    "from nltk import word_tokenize\n",
    "import nltk\n",
    "from scipy import sparse\n",
    "\n",
    "from sklearn.base import BaseEstimator\n",
    "class FeatureExtractor(BaseEstimator):\n",
    "    def __init__(self):\n",
    "        with open('bad_words.txt') as f:\n",
    "            self.badwords = set(w.strip() for w in f.readlines())\n",
    "        \n",
    "    def fit(self, X, y=None):\n",
    "        self.fit_transform(X, y)\n",
    "        return self\n",
    "\n",
    "    def transform(self, X):\n",
    "        return self.fit_transform(X)\n",
    "\n",
    "    def fit_transform(self, X, y=None):\n",
    "\n",
    "        pos_tags = [\"VB\", \"JJ\", \"RB\", \"NN\"]\n",
    "        def pos_tag_count(comment):\n",
    "            pos = nltk.pos_tag(word_tokenize(comment))\n",
    "            d = {}\n",
    "            for tag in pos_tags:\n",
    "                d[tag] = 0\n",
    "            for p in pos:\n",
    "                for tag in pos_tags:\n",
    "                    if p[1].startswith(tag):\n",
    "                        d[tag] += 1\n",
    "            return d.values()\n",
    "    \n",
    "        def bad_word_count(comment):\n",
    "            cnt = 0\n",
    "            for w in comment.split():\n",
    "                if w.strip() in self.badwords:\n",
    "                    cnt += 1\n",
    "            return cnt\n",
    "        \n",
    "        def at_mention_count(comment):\n",
    "            return len(re.findall(r'@[^\\s]+', comment))\n",
    "        \n",
    "        comments_features = []\n",
    "        for c in X:\n",
    "            features = pos_tag_count(c)\n",
    "            features.append(bad_word_count(c))\n",
    "            features.append(at_mention_count(c))\n",
    "            comments_features.append(features)\n",
    "        \n",
    "        return sparse.csr_matrix(comments_features)\n",
    "                    "
   ]
  },
  {
   "cell_type": "markdown",
   "metadata": {},
   "source": [
    "The next step is to combine the extracted features using FeatureUnion and create a pipeline which consists of preprocessing and cleaning, feature extraction, and classification."
   ]
  },
  {
   "cell_type": "code",
   "execution_count": 48,
   "metadata": {
    "collapsed": false
   },
   "outputs": [],
   "source": [
    "from sklearn.linear_model import LogisticRegression\n",
    "from sklearn.pipeline import Pipeline\n",
    "from sklearn.ensemble import RandomForestClassifier\n",
    "from sklearn.pipeline import FeatureUnion\n",
    "\n",
    "tfidv_char = TfidfVectorizer(ngram_range=(1, 10), analyzer='char', stop_words='english', min_df=6)\n",
    "tfidv_word = TfidfVectorizer(ngram_range=(1, 3), analyzer='word', stop_words='english', min_df=2)\n",
    "fe = FeatureExtractor()\n",
    "\n",
    "fu = FeatureUnion([('fe', fe), ('tfidv_char', tfidv_char), ('tfidv_word', tfidv_word)])\n",
    "#clf_rf = RandomForestClassifier()\n",
    "clf_rf = LogisticRegression(C=3)\n",
    "\n",
    "estimators = [('prep', preprocessor), ('fu', fu), ('clf', clf_rf)]\n",
    "pl = Pipeline(estimators)"
   ]
  },
  {
   "cell_type": "markdown",
   "metadata": {},
   "source": [
    "The metric used for the competition is ROC AUC score which can be calculated as follows."
   ]
  },
  {
   "cell_type": "code",
   "execution_count": 12,
   "metadata": {
    "collapsed": true
   },
   "outputs": [],
   "source": [
    "from sklearn.metrics import roc_auc_score\n",
    "\n",
    "def scoring(estimator, X, y):\n",
    "    y_pred = estimator.predict_proba(X)\n",
    "    return roc_auc_score(y, y_pred[:, 1])"
   ]
  },
  {
   "cell_type": "markdown",
   "metadata": {},
   "source": [
    "Using the scoring metric we can calculated the performance our pipeline using cross-validation:"
   ]
  },
  {
   "cell_type": "code",
   "execution_count": 13,
   "metadata": {
    "collapsed": false
   },
   "outputs": [
    {
     "data": {
      "text/plain": [
       "array([ 0.89348157,  0.89643174,  0.90271682])"
      ]
     },
     "execution_count": 13,
     "metadata": {},
     "output_type": "execute_result"
    }
   ],
   "source": [
    "from sklearn.model_selection import cross_val_score\n",
    "\n",
    "cross_val_score(pl, train_total.Comment, train_total.Insult, scoring=scoring)"
   ]
  },
  {
   "cell_type": "markdown",
   "metadata": {},
   "source": [
    "The validation score looks great and have small variations across the cross-validation folds. But we should keep in mind that this is out local validation score and does not necessarily translate directly to leader-board score. Nevertheless, we can use the local score as a proxy for the leader board score and employ it to improve the classification performance. \n",
    "\n",
    "In the following we use grid-search to perform an exhaustive search over a range of parameters for feature extraction and classification steps in out data pipeline. "
   ]
  },
  {
   "cell_type": "code",
   "execution_count": 67,
   "metadata": {
    "collapsed": false
   },
   "outputs": [
    {
     "data": {
      "text/plain": [
       "{'clf__C': 3.1622776601683795,\n",
       " 'fu__tfidv_char__min_df': 4,\n",
       " 'fu__tfidv_char__ngram_range': (1, 3),\n",
       " 'fu__tfidv_char__stop_words': 'english',\n",
       " 'fu__tfidv_word__ngram_range': (1, 2)}"
      ]
     },
     "execution_count": 67,
     "metadata": {},
     "output_type": "execute_result"
    }
   ],
   "source": [
    "from sklearn.model_selection import GridSearchCV\n",
    "import numpy as np\n",
    "\n",
    "param_grid = {'clf__C':np.logspace(-1, 2, 5),\n",
    "              'fu__tfidv_word__ngram_range': [(1, 1), (1, 2)],\n",
    "              'fu__tfidv_char__ngram_range': [(1, 1), (1, 3)],\n",
    "              'fu__tfidv_char__min_df': [1, 2, 4],\n",
    "              'fu__tfidv_char__stop_words': ['english', None],\n",
    "             }\n",
    "gs = GridSearchCV(pl, param_grid, scoring=scoring, n_jobs=2)\n",
    "gs.fit(train_total.Comment, train_total.Insult)\n",
    "\n",
    "gs.best_params_"
   ]
  },
  {
   "cell_type": "code",
   "execution_count": 69,
   "metadata": {
    "collapsed": false
   },
   "outputs": [
    {
     "data": {
      "text/plain": [
       "0.9057639823535467"
      ]
     },
     "execution_count": 69,
     "metadata": {},
     "output_type": "execute_result"
    }
   ],
   "source": [
    "gs.best_score_"
   ]
  },
  {
   "cell_type": "markdown",
   "metadata": {},
   "source": [
    "The fact that we obtain the highest score for the largest values of n_gram parameters suggests that we may be able to gain by increasing this parameter. To explore this we perform the following optimization:"
   ]
  },
  {
   "cell_type": "code",
   "execution_count": 128,
   "metadata": {
    "collapsed": false
   },
   "outputs": [
    {
     "data": {
      "text/plain": [
       "0.90810569784332618"
      ]
     },
     "execution_count": 128,
     "metadata": {},
     "output_type": "execute_result"
    }
   ],
   "source": [
    "from sklearn.model_selection import GridSearchCV\n",
    "import numpy as np\n",
    "\n",
    "param_grid = {'clf__C':np.logspace(0, 1.5, 10),\n",
    "              'fu__tfidv_word__ngram_range': [(1, 3)],\n",
    "              'fu__tfidv_char__ngram_range': [(1, 3), (1, 5), (1, 7), (1, 9)],\n",
    "              'fu__tfidv_char__min_df': [4],\n",
    "              'fu__tfidv_char__stop_words': ['english'],\n",
    "             }\n",
    "gs = GridSearchCV(pl, param_grid, scoring=scoring, n_jobs=4, verbose=10)\n",
    "gs.fit(train_total.Comment, train_total.Insult)\n",
    "\n",
    "gs.best_score_"
   ]
  },
  {
   "cell_type": "code",
   "execution_count": 124,
   "metadata": {
    "collapsed": false
   },
   "outputs": [
    {
     "data": {
      "image/png": "[encoded data removed]",
      "text/plain": [
       "<matplotlib.figure.Figure at 0x7fb967006f10>"
      ]
     },
     "metadata": {},
     "output_type": "display_data"
    }
   ],
   "source": [
    "import matplotlib.pyplot as plt\n",
    "x_data = [3, 5, 7, 9]\n",
    "y_data = gs.cv_results_['mean_test_score'].reshape(10, 4).max(axis=0)\n",
    "plt. plot(x_data, y_data, 'r-o');\n",
    "plt.xlabel('n_grams', fontsize=14)\n",
    "plt.xticks(fontsize=12)\n",
    "plt.ylabel('AUC ROC score', fontsize=14)\n",
    "plt.yticks(fontsize=12)\n",
    "plt.grid(True)\n",
    "plt.show()\n"
   ]
  },
  {
   "cell_type": "markdown",
   "metadata": {},
   "source": [
    "## Test Set Validation"
   ]
  },
  {
   "cell_type": "markdown",
   "metadata": {},
   "source": [
    "We take the model obained using the above optimization as our final model. The next step is to evaluate our model on the test set provided for the competition (called verification set \"impermium_verification_labels.csv\")."
   ]
  },
  {
   "cell_type": "code",
   "execution_count": 138,
   "metadata": {
    "collapsed": false
   },
   "outputs": [
    {
     "data": {
      "text/plain": [
       "0.8191599995509821"
      ]
     },
     "execution_count": 138,
     "metadata": {},
     "output_type": "execute_result"
    }
   ],
   "source": [
    "from sklearn.metrics import roc_auc_score\n",
    "\n",
    "clf = gs.best_estimator_\n",
    "\n",
    "clf.fit(train_total.Comment, train_total.Insult)\n",
    "y_ver_pred = clf.predict_proba(verfication_set.Comment)[:, 1]\n",
    "y_ver = verfication_set.Insult\n",
    "\n",
    "roc_auc_score(y_ver, y_ver_pred)\n"
   ]
  },
  {
   "cell_type": "markdown",
   "metadata": {},
   "source": [
    "Out final score is considerably lower than the local validation score of 0.9081. But if turn to the private leaderboard of the competition, we find that the best score was [0.84248](https://www.kaggle.com/c/detecting-insults-in-social-commentary/leaderboard). This means that we have achieved more than 97% of the winning solution score which is great specially considering that we used logistic regression which is not considered a complex classifier. On the plus side however, logistic regression is very fast and efficient which is advantagous when using the model on real world data to classify comments as they are received."
   ]
  }
 ],
 "metadata": {
  "kernelspec": {
   "display_name": "Python 2",
   "language": "python",
   "name": "python2"
  },
  "language_info": {
   "codemirror_mode": {
    "name": "ipython",
    "version": 2
   },
   "file_extension": ".py",
   "mimetype": "text/x-python",
   "name": "python",
   "nbconvert_exporter": "python",
   "pygments_lexer": "ipython2",
   "version": "2.7.6"
  }
 },
 "nbformat": 4,
 "nbformat_minor": 1
}
