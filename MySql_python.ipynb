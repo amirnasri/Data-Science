{
 "cells": [
  {
   "cell_type": "markdown",
   "metadata": {},
   "source": [
    "## Installation:\n",
    "apt-get install python-dev libmysqlclient-dev\n",
    "\n",
    "pip install MySQL-python\n"
   ]
  },
  {
   "cell_type": "code",
   "execution_count": 3,
   "metadata": {
    "collapsed": false
   },
   "outputs": [
    {
     "data": {
      "text/plain": [
       "(('METRIC_STATS',),\n",
       " ('STATION',),\n",
       " ('STATS',),\n",
       " ('docs',),\n",
       " ('envelope',),\n",
       " ('test_a',),\n",
       " ('test_b',))"
      ]
     },
     "execution_count": 3,
     "metadata": {},
     "output_type": "execute_result"
    }
   ],
   "source": [
    "import MySQLdb\n",
    "db = MySQLdb.connect(\"localhost\",\"root\",\"root\", \"dbo\")\n",
    "cursor= db.cursor()\n",
    "cursor.execute(\"show tables;\")\n",
    "cursor.fetchall()"
   ]
  },
  {
   "cell_type": "code",
   "execution_count": 4,
   "metadata": {
    "collapsed": false
   },
   "outputs": [
    {
     "data": {
      "text/plain": [
       "((13L, 'Phoenix', 'AZ', 33.0, 112.0),\n",
       " (44L, 'Denver', 'CO', 40.0, 105.0),\n",
       " (66L, 'Caribou', 'ME', 47.0, 68.0))"
      ]
     },
     "execution_count": 4,
     "metadata": {},
     "output_type": "execute_result"
    }
   ],
   "source": [
    "cursor.execute(\"select * from STATION;\")\n",
    "cursor.fetchall()"
   ]
  },
  {
   "cell_type": "code",
   "execution_count": 11,
   "metadata": {
    "collapsed": true
   },
   "outputs": [],
   "source": [
    "def query(db, command):\n",
    "    cursor = db.cursor()\n",
    "    cursor.execute(command)\n",
    "    data = cursor.fetchall()\n",
    "    cursor.close()\n",
    "    return data"
   ]
  },
  {
   "cell_type": "code",
   "execution_count": 12,
   "metadata": {
    "collapsed": false
   },
   "outputs": [
    {
     "data": {
      "text/plain": [
       "((13L, 'Phoenix', 'AZ', 33.0, 112.0),\n",
       " (44L, 'Denver', 'CO', 40.0, 105.0),\n",
       " (66L, 'Caribou', 'ME', 47.0, 68.0))"
      ]
     },
     "execution_count": 12,
     "metadata": {},
     "output_type": "execute_result"
    }
   ],
   "source": [
    "query(db, \"select * from STATION;\")"
   ]
  }
 ],
 "metadata": {
  "kernelspec": {
   "display_name": "Python 2",
   "language": "python",
   "name": "python2"
  },
  "language_info": {
   "codemirror_mode": {
    "name": "ipython",
    "version": 2
   },
   "file_extension": ".py",
   "mimetype": "text/x-python",
   "name": "python",
   "nbconvert_exporter": "python",
   "pygments_lexer": "ipython2",
   "version": "2.7.12"
  }
 },
 "nbformat": 4,
 "nbformat_minor": 2
}
