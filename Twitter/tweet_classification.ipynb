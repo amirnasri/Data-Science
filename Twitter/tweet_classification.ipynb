{
 "cells": [
  {
   "cell_type": "code",
   "execution_count": 2,
   "metadata": {
    "collapsed": true
   },
   "outputs": [],
   "source": [
    "import pandas as pd \n",
    "credentials = pd.read_csv('credentials.csv')\n",
    "consumer_key = credentials['consumer_key'][0]\n",
    "consumer_secret = credentials['consumer_secret'][0]\n",
    "access_token = credentials['access_token'][0]\n",
    "access_secret = credentials['access_secret'][0]\n",
    " \n",
    "import tweepy\n",
    "from tweepy import OAuthHandler\n",
    "auth = OAuthHandler(consumer_key, consumer_secret)\n",
    "auth.set_access_token(access_token, access_secret)\n",
    " \n",
    "api = tweepy.API(auth, wait_on_rate_limit=True)\n",
    "\n",
    "import warnings\n",
    "warnings.simplefilter('ignore')"
   ]
  },
  {
   "cell_type": "code",
   "execution_count": 3,
   "metadata": {
    "collapsed": false
   },
   "outputs": [],
   "source": [
    "from pymongo import MongoClient\n",
    "client = MongoClient()\n",
    "news_tweets = client.tweets_db.new_tweets\n"
   ]
  },
  {
   "cell_type": "code",
   "execution_count": 4,
   "metadata": {
    "collapsed": false
   },
   "outputs": [
    {
     "data": {
      "text/plain": [
       "86726"
      ]
     },
     "execution_count": 4,
     "metadata": {},
     "output_type": "execute_result"
    }
   ],
   "source": [
    "news_tweets.count()"
   ]
  },
  {
   "cell_type": "code",
   "execution_count": 5,
   "metadata": {
    "collapsed": false
   },
   "outputs": [],
   "source": [
    "import pandas as pd\n",
    "tweets_df_all = pd.DataFrame([[tw['id'], tw['text'], tw['user']['screen_name']] \n",
    "                           for tw in news_tweets.find()], columns=['id', 'text', 'user'])\n"
   ]
  },
  {
   "cell_type": "code",
   "execution_count": 6,
   "metadata": {
    "collapsed": false
   },
   "outputs": [
    {
     "data": {
      "text/plain": [
       "[u'BBCTech',\n",
       " u'BNNBloomberg',\n",
       " u'CBCHealth',\n",
       " u'CBSHealth',\n",
       " u'ETEconomyNews',\n",
       " u'EverydayHealth',\n",
       " u'FOXSportsNews',\n",
       " u'FinancialTimes',\n",
       " u'ForbesTech',\n",
       " u'FoxNewsTech',\n",
       " u'HTSportsNews',\n",
       " u'HealthHive',\n",
       " u'KHNews',\n",
       " u'NBCNewsHealth',\n",
       " u'NBCNewsTech',\n",
       " u'NPRHealth',\n",
       " u'NewsdaySports',\n",
       " u'ReutersTech',\n",
       " u'SkyNewsWeather',\n",
       " u'SkySportsNews',\n",
       " u'TechCrunch',\n",
       " u'TheWeatherNetUS',\n",
       " u'bbchealth',\n",
       " u'bn9weather',\n",
       " u'breakingbytes',\n",
       " u'ftfinancenews',\n",
       " u'fttechnews',\n",
       " u'technology']"
      ]
     },
     "execution_count": 6,
     "metadata": {},
     "output_type": "execute_result"
    }
   ],
   "source": [
    "import numpy as np\n",
    "np.unique(tweets_df_all.user).tolist()"
   ]
  },
  {
   "cell_type": "code",
   "execution_count": 8,
   "metadata": {
    "collapsed": false
   },
   "outputs": [],
   "source": [
    "#del users_df['cat']"
   ]
  },
  {
   "cell_type": "code",
   "execution_count": 7,
   "metadata": {
    "collapsed": false
   },
   "outputs": [],
   "source": [
    "users_df = pd.DataFrame(np.unique(tweets_df_all.user).tolist(), columns=['user'])"
   ]
  },
  {
   "cell_type": "code",
   "execution_count": 8,
   "metadata": {
    "collapsed": false
   },
   "outputs": [
    {
     "data": {
      "text/plain": [
       "(28, 1)"
      ]
     },
     "execution_count": 8,
     "metadata": {},
     "output_type": "execute_result"
    }
   ],
   "source": [
    "users_df.shape"
   ]
  },
  {
   "cell_type": "code",
   "execution_count": 9,
   "metadata": {
    "collapsed": false
   },
   "outputs": [
    {
     "name": "stdout",
     "output_type": "stream",
     "text": [
      "('Business', ['busi', 'econo', 'finan', 'BNNBloomberg', 'money', 'biz'])\n",
      "\tBNNBloomberg BNNBloomberg\n",
      "\tETEconomyNews econo\n",
      "\tFinancialTimes finan\n",
      "\tftfinancenews finan\n",
      "('Traffic', None)\n",
      "('Tech', ['tech', 'breakingbytes', 'CNET'])\n",
      "\tBBCTech tech\n",
      "\tForbesTech tech\n",
      "\tFoxNewsTech tech\n",
      "\tNBCNewsTech tech\n",
      "\tReutersTech tech\n",
      "\tTechCrunch tech\n",
      "\tbreakingbytes breakingbytes\n",
      "\tfttechnews tech\n",
      "\ttechnology tech\n",
      "('Heath', ['health', 'KHNews'])\n",
      "\tCBCHealth health\n",
      "\tCBSHealth health\n",
      "\tEverydayHealth health\n",
      "\tHealthHive health\n",
      "\tKHNews KHNews\n",
      "\tNBCNewsHealth health\n",
      "\tNPRHealth health\n",
      "\tbbchealth health\n",
      "('Sports', 'sport')\n",
      "\tFOXSportsNews sport\n",
      "\tHTSportsNews sport\n",
      "\tNewsdaySports sport\n",
      "\tSkySportsNews sport\n",
      "('Weather', None)\n",
      "\tSkyNewsWeather Weather\n",
      "\tTheWeatherNetUS Weather\n",
      "\tbn9weather Weather\n",
      "('Ent', ['ent', 'art'])\n",
      "('Politics', ['politic', 'rtetwip', 'realclear', 'PnPCBC'])\n"
     ]
    }
   ],
   "source": [
    "cats = [('Business',  ['busi', 'econo', 'finan', 'BNNBloomberg', 'money', 'biz']),\n",
    "        ('Traffic', None),\n",
    "        ('Tech', ['tech', 'breakingbytes', 'CNET']),\n",
    "        ('Heath', ['health', 'KHNews']),\n",
    "        ('Sports', 'sport'),\n",
    "        ('Weather', None),\n",
    "        ('Ent', ['ent', 'art']),\n",
    "        ('Politics', ['politic', 'rtetwip', 'realclear', 'PnPCBC']),\n",
    "        \n",
    "       ]\n",
    "for cat in cats:\n",
    "    keywords = cat[1]\n",
    "    cat_name = cat[0]\n",
    "    if keywords is None:\n",
    "        keywords = cat_name\n",
    "    if not isinstance(keywords, list):\n",
    "        keywords = [keywords]\n",
    "    print cat\n",
    "    for index, u in zip(users_df.index, users_df.user):\n",
    "        for kw in keywords:\n",
    "            if u.lower().find(kw.lower()) != -1:\n",
    "                print(\"\\t%s %s\"% (u, kw))\n",
    "                users_df.loc[index, 'cat'] = cat_name\n",
    "                break"
   ]
  },
  {
   "cell_type": "code",
   "execution_count": 10,
   "metadata": {
    "collapsed": false
   },
   "outputs": [
    {
     "data": {
      "text/html": [
       "<div>\n",
       "<table border=\"1\" class=\"dataframe\">\n",
       "  <thead>\n",
       "    <tr style=\"text-align: right;\">\n",
       "      <th></th>\n",
       "      <th>user</th>\n",
       "      <th>cat</th>\n",
       "    </tr>\n",
       "  </thead>\n",
       "  <tbody>\n",
       "    <tr>\n",
       "      <th>0</th>\n",
       "      <td>BBCTech</td>\n",
       "      <td>Tech</td>\n",
       "    </tr>\n",
       "    <tr>\n",
       "      <th>1</th>\n",
       "      <td>BNNBloomberg</td>\n",
       "      <td>Business</td>\n",
       "    </tr>\n",
       "    <tr>\n",
       "      <th>2</th>\n",
       "      <td>CBCHealth</td>\n",
       "      <td>Heath</td>\n",
       "    </tr>\n",
       "    <tr>\n",
       "      <th>3</th>\n",
       "      <td>CBSHealth</td>\n",
       "      <td>Heath</td>\n",
       "    </tr>\n",
       "    <tr>\n",
       "      <th>4</th>\n",
       "      <td>ETEconomyNews</td>\n",
       "      <td>Business</td>\n",
       "    </tr>\n",
       "    <tr>\n",
       "      <th>5</th>\n",
       "      <td>EverydayHealth</td>\n",
       "      <td>Heath</td>\n",
       "    </tr>\n",
       "    <tr>\n",
       "      <th>6</th>\n",
       "      <td>FOXSportsNews</td>\n",
       "      <td>Sports</td>\n",
       "    </tr>\n",
       "    <tr>\n",
       "      <th>7</th>\n",
       "      <td>FinancialTimes</td>\n",
       "      <td>Business</td>\n",
       "    </tr>\n",
       "    <tr>\n",
       "      <th>8</th>\n",
       "      <td>ForbesTech</td>\n",
       "      <td>Tech</td>\n",
       "    </tr>\n",
       "    <tr>\n",
       "      <th>9</th>\n",
       "      <td>FoxNewsTech</td>\n",
       "      <td>Tech</td>\n",
       "    </tr>\n",
       "    <tr>\n",
       "      <th>10</th>\n",
       "      <td>HTSportsNews</td>\n",
       "      <td>Sports</td>\n",
       "    </tr>\n",
       "    <tr>\n",
       "      <th>11</th>\n",
       "      <td>HealthHive</td>\n",
       "      <td>Heath</td>\n",
       "    </tr>\n",
       "    <tr>\n",
       "      <th>12</th>\n",
       "      <td>KHNews</td>\n",
       "      <td>Heath</td>\n",
       "    </tr>\n",
       "    <tr>\n",
       "      <th>13</th>\n",
       "      <td>NBCNewsHealth</td>\n",
       "      <td>Heath</td>\n",
       "    </tr>\n",
       "    <tr>\n",
       "      <th>14</th>\n",
       "      <td>NBCNewsTech</td>\n",
       "      <td>Tech</td>\n",
       "    </tr>\n",
       "    <tr>\n",
       "      <th>15</th>\n",
       "      <td>NPRHealth</td>\n",
       "      <td>Heath</td>\n",
       "    </tr>\n",
       "    <tr>\n",
       "      <th>16</th>\n",
       "      <td>NewsdaySports</td>\n",
       "      <td>Sports</td>\n",
       "    </tr>\n",
       "    <tr>\n",
       "      <th>17</th>\n",
       "      <td>ReutersTech</td>\n",
       "      <td>Tech</td>\n",
       "    </tr>\n",
       "    <tr>\n",
       "      <th>18</th>\n",
       "      <td>SkyNewsWeather</td>\n",
       "      <td>Weather</td>\n",
       "    </tr>\n",
       "    <tr>\n",
       "      <th>19</th>\n",
       "      <td>SkySportsNews</td>\n",
       "      <td>Sports</td>\n",
       "    </tr>\n",
       "    <tr>\n",
       "      <th>20</th>\n",
       "      <td>TechCrunch</td>\n",
       "      <td>Tech</td>\n",
       "    </tr>\n",
       "    <tr>\n",
       "      <th>21</th>\n",
       "      <td>TheWeatherNetUS</td>\n",
       "      <td>Weather</td>\n",
       "    </tr>\n",
       "    <tr>\n",
       "      <th>22</th>\n",
       "      <td>bbchealth</td>\n",
       "      <td>Heath</td>\n",
       "    </tr>\n",
       "    <tr>\n",
       "      <th>23</th>\n",
       "      <td>bn9weather</td>\n",
       "      <td>Weather</td>\n",
       "    </tr>\n",
       "    <tr>\n",
       "      <th>24</th>\n",
       "      <td>breakingbytes</td>\n",
       "      <td>Tech</td>\n",
       "    </tr>\n",
       "    <tr>\n",
       "      <th>25</th>\n",
       "      <td>ftfinancenews</td>\n",
       "      <td>Business</td>\n",
       "    </tr>\n",
       "    <tr>\n",
       "      <th>26</th>\n",
       "      <td>fttechnews</td>\n",
       "      <td>Tech</td>\n",
       "    </tr>\n",
       "    <tr>\n",
       "      <th>27</th>\n",
       "      <td>technology</td>\n",
       "      <td>Tech</td>\n",
       "    </tr>\n",
       "  </tbody>\n",
       "</table>\n",
       "</div>"
      ],
      "text/plain": [
       "               user       cat\n",
       "0           BBCTech      Tech\n",
       "1      BNNBloomberg  Business\n",
       "2         CBCHealth     Heath\n",
       "3         CBSHealth     Heath\n",
       "4     ETEconomyNews  Business\n",
       "5    EverydayHealth     Heath\n",
       "6     FOXSportsNews    Sports\n",
       "7    FinancialTimes  Business\n",
       "8        ForbesTech      Tech\n",
       "9       FoxNewsTech      Tech\n",
       "10     HTSportsNews    Sports\n",
       "11       HealthHive     Heath\n",
       "12           KHNews     Heath\n",
       "13    NBCNewsHealth     Heath\n",
       "14      NBCNewsTech      Tech\n",
       "15        NPRHealth     Heath\n",
       "16    NewsdaySports    Sports\n",
       "17      ReutersTech      Tech\n",
       "18   SkyNewsWeather   Weather\n",
       "19    SkySportsNews    Sports\n",
       "20       TechCrunch      Tech\n",
       "21  TheWeatherNetUS   Weather\n",
       "22        bbchealth     Heath\n",
       "23       bn9weather   Weather\n",
       "24    breakingbytes      Tech\n",
       "25    ftfinancenews  Business\n",
       "26       fttechnews      Tech\n",
       "27       technology      Tech"
      ]
     },
     "execution_count": 10,
     "metadata": {},
     "output_type": "execute_result"
    }
   ],
   "source": [
    "users_df"
   ]
  },
  {
   "cell_type": "code",
   "execution_count": 13,
   "metadata": {
    "collapsed": false
   },
   "outputs": [],
   "source": [
    "users_df_fillna = users_df.fillna('Other')"
   ]
  },
  {
   "cell_type": "code",
   "execution_count": 15,
   "metadata": {
    "collapsed": false
   },
   "outputs": [],
   "source": [
    "#users = api.friends('@amnasri2', count=100)\n",
    "#[u.screen_name for u in users]"
   ]
  },
  {
   "cell_type": "code",
   "execution_count": 14,
   "metadata": {
    "collapsed": false
   },
   "outputs": [],
   "source": [
    "users_df_fillna.set_index('user', inplace=True)"
   ]
  },
  {
   "cell_type": "code",
   "execution_count": 15,
   "metadata": {
    "collapsed": false
   },
   "outputs": [
    {
     "data": {
      "text/plain": [
       "0    BNNBloomberg\n",
       "1    BNNBloomberg\n",
       "2    BNNBloomberg\n",
       "3    BNNBloomberg\n",
       "4    BNNBloomberg\n",
       "Name: user, dtype: object"
      ]
     },
     "execution_count": 15,
     "metadata": {},
     "output_type": "execute_result"
    }
   ],
   "source": [
    "tweets_df_all['user'].head()"
   ]
  },
  {
   "cell_type": "code",
   "execution_count": 16,
   "metadata": {
    "collapsed": false
   },
   "outputs": [],
   "source": [
    "tweets_df_all['cat'] = tweets_df_all['user'].map(users_df_fillna['cat'])"
   ]
  },
  {
   "cell_type": "code",
   "execution_count": 17,
   "metadata": {
    "collapsed": true
   },
   "outputs": [],
   "source": [
    "from sklearn.preprocessing import LabelEncoder\n",
    "label_encoder = LabelEncoder()"
   ]
  },
  {
   "cell_type": "code",
   "execution_count": 18,
   "metadata": {
    "collapsed": false
   },
   "outputs": [],
   "source": [
    "remove_cats = ['Business', 'Ent']\n",
    "keep_cats = [cat for cat in tweets_df_all.cat.unique() if cat not in remove_cats]\n"
   ]
  },
  {
   "cell_type": "code",
   "execution_count": 19,
   "metadata": {
    "collapsed": false
   },
   "outputs": [],
   "source": [
    "keep_cats = pd.DataFrame(keep_cats, columns=['cat'])"
   ]
  },
  {
   "cell_type": "code",
   "execution_count": 20,
   "metadata": {
    "collapsed": false
   },
   "outputs": [
    {
     "data": {
      "text/html": [
       "<div>\n",
       "<table border=\"1\" class=\"dataframe\">\n",
       "  <thead>\n",
       "    <tr style=\"text-align: right;\">\n",
       "      <th></th>\n",
       "      <th>cat</th>\n",
       "    </tr>\n",
       "  </thead>\n",
       "  <tbody>\n",
       "    <tr>\n",
       "      <th>0</th>\n",
       "      <td>Weather</td>\n",
       "    </tr>\n",
       "    <tr>\n",
       "      <th>1</th>\n",
       "      <td>Sports</td>\n",
       "    </tr>\n",
       "    <tr>\n",
       "      <th>2</th>\n",
       "      <td>Heath</td>\n",
       "    </tr>\n",
       "    <tr>\n",
       "      <th>3</th>\n",
       "      <td>Tech</td>\n",
       "    </tr>\n",
       "  </tbody>\n",
       "</table>\n",
       "</div>"
      ],
      "text/plain": [
       "       cat\n",
       "0  Weather\n",
       "1   Sports\n",
       "2    Heath\n",
       "3     Tech"
      ]
     },
     "execution_count": 20,
     "metadata": {},
     "output_type": "execute_result"
    }
   ],
   "source": [
    "keep_cats"
   ]
  },
  {
   "cell_type": "code",
   "execution_count": 21,
   "metadata": {
    "collapsed": false
   },
   "outputs": [],
   "source": [
    "tweets_df = pd.merge(tweets_df_all, keep_cats, on=['cat'])"
   ]
  },
  {
   "cell_type": "code",
   "execution_count": 22,
   "metadata": {
    "collapsed": true
   },
   "outputs": [],
   "source": [
    "tweets_df['cat_encoded'] = label_encoder.fit_transform(tweets_df.cat)"
   ]
  },
  {
   "cell_type": "code",
   "execution_count": 31,
   "metadata": {
    "collapsed": false
   },
   "outputs": [
    {
     "data": {
      "text/html": [
       "<div>\n",
       "<table border=\"1\" class=\"dataframe\">\n",
       "  <thead>\n",
       "    <tr style=\"text-align: right;\">\n",
       "      <th></th>\n",
       "      <th>index</th>\n",
       "      <th>id</th>\n",
       "      <th>text</th>\n",
       "      <th>user</th>\n",
       "      <th>cat</th>\n",
       "      <th>cat_encoded</th>\n",
       "    </tr>\n",
       "  </thead>\n",
       "  <tbody>\n",
       "    <tr>\n",
       "      <th>0</th>\n",
       "      <td>59277</td>\n",
       "      <td>1009757146484011008</td>\n",
       "      <td>Lydia now supports Samsung Pay by @romaindille...</td>\n",
       "      <td>TechCrunch</td>\n",
       "      <td>Tech</td>\n",
       "      <td>2</td>\n",
       "    </tr>\n",
       "    <tr>\n",
       "      <th>1</th>\n",
       "      <td>18216</td>\n",
       "      <td>935389724168019968</td>\n",
       "      <td>RT @bmrwoods: Jelena Dokic pops in to discuss ...</td>\n",
       "      <td>FOXSportsNews</td>\n",
       "      <td>Sports</td>\n",
       "      <td>1</td>\n",
       "    </tr>\n",
       "    <tr>\n",
       "      <th>2</th>\n",
       "      <td>56763</td>\n",
       "      <td>904962495365963776</td>\n",
       "      <td>China bans initial coin offerings calling them...</td>\n",
       "      <td>BBCTech</td>\n",
       "      <td>Tech</td>\n",
       "      <td>2</td>\n",
       "    </tr>\n",
       "    <tr>\n",
       "      <th>3</th>\n",
       "      <td>6496</td>\n",
       "      <td>928231249621274624</td>\n",
       "      <td>RT @rkotinsky: Good Morning from Florida - @GM...</td>\n",
       "      <td>bn9weather</td>\n",
       "      <td>Weather</td>\n",
       "      <td>3</td>\n",
       "    </tr>\n",
       "    <tr>\n",
       "      <th>4</th>\n",
       "      <td>14617</td>\n",
       "      <td>992133657157566465</td>\n",
       "      <td>Jason Vargas’ second poor start dooms Mets as ...</td>\n",
       "      <td>NewsdaySports</td>\n",
       "      <td>Sports</td>\n",
       "      <td>1</td>\n",
       "    </tr>\n",
       "  </tbody>\n",
       "</table>\n",
       "</div>"
      ],
      "text/plain": [
       "   index                   id  \\\n",
       "0  59277  1009757146484011008   \n",
       "1  18216   935389724168019968   \n",
       "2  56763   904962495365963776   \n",
       "3   6496   928231249621274624   \n",
       "4  14617   992133657157566465   \n",
       "\n",
       "                                                text           user      cat  \\\n",
       "0  Lydia now supports Samsung Pay by @romaindille...     TechCrunch     Tech   \n",
       "1  RT @bmrwoods: Jelena Dokic pops in to discuss ...  FOXSportsNews   Sports   \n",
       "2  China bans initial coin offerings calling them...        BBCTech     Tech   \n",
       "3  RT @rkotinsky: Good Morning from Florida - @GM...     bn9weather  Weather   \n",
       "4  Jason Vargas’ second poor start dooms Mets as ...  NewsdaySports   Sports   \n",
       "\n",
       "   cat_encoded  \n",
       "0            2  \n",
       "1            1  \n",
       "2            2  \n",
       "3            3  \n",
       "4            1  "
      ]
     },
     "execution_count": 31,
     "metadata": {},
     "output_type": "execute_result"
    }
   ],
   "source": [
    "tweets_df = tweets_df.sample(frac=1)\n",
    "tweets_df.reset_index(inplace=True, drop=True)\n",
    "tweets_df.head()"
   ]
  },
  {
   "cell_type": "code",
   "execution_count": 33,
   "metadata": {
    "collapsed": false
   },
   "outputs": [],
   "source": [
    "import pandas as pd\n",
    "#tweets_df.to_pickle('data/tweets_df.pkl')\n",
    "tweets_df = pd.read_pickle('data/tweets_df.pkl')\n",
    "tweets_df.reset_index(inplace=True, drop=True)\n",
    "tweets_df.head()"
   ]
  },
  {
   "cell_type": "code",
   "execution_count": 81,
   "metadata": {
    "collapsed": false
   },
   "outputs": [],
   "source": [
    "from multiprocessing import Process\n",
    "\n",
    "user_del_list =  [ u'CTVVancouver',\n",
    "                  u'abcnews',\n",
    "                  u'TIME',\n",
    "                  u'TwitterNews',\n",
    "u'NBCNews',\n",
    " u'BBCWorld'\n",
    " u'TIME',\n",
    " u'washingtonpost',\n",
    " u'news_welle',\n",
    " u'CBSNews',\n",
    "]\n",
    "\n",
    "#user_del_list = tweets_df[tweets_df['cat'] == 'Other']['user'].unique().tolist()\n",
    "\n",
    "user_del_list =  [ u'BBCWorld',\n",
    "                 'FortuneMagazine',\n",
    "                 ]\n"
   ]
  },
  {
   "cell_type": "code",
   "execution_count": 82,
   "metadata": {
    "collapsed": false
   },
   "outputs": [],
   "source": [
    "from multiprocessing import Process, Pipe\n",
    "\n",
    "def f(conn):\n",
    "    client = MongoClient()\n",
    "    news_tweets = client.tweets_db.new_tweets\n",
    "    for user in user_del_list:\n",
    "        conn.send([user])\n",
    "        for id in tweets_df[tweets_df['user']==user]['id']:\n",
    "            news_tweets.delete_one({'id':id})\n",
    "    conn.close()\n",
    "\n",
    "parent_conn, child_conn = Pipe()\n",
    "p = Process(target=f, args=(child_conn,))\n",
    "p.start()\n",
    "#p.join()\n",
    "    \n"
   ]
  },
  {
   "cell_type": "code",
   "execution_count": 145,
   "metadata": {
    "collapsed": true
   },
   "outputs": [],
   "source": [
    "p.join()"
   ]
  },
  {
   "cell_type": "code",
   "execution_count": 101,
   "metadata": {
    "collapsed": false
   },
   "outputs": [
    {
     "name": "stdout",
     "output_type": "stream",
     "text": [
      "[u'BBCWorld']\n"
     ]
    }
   ],
   "source": [
    "print parent_conn.recv()\n"
   ]
  },
  {
   "cell_type": "code",
   "execution_count": 163,
   "metadata": {
    "collapsed": true
   },
   "outputs": [],
   "source": [
    "cursor = news_tweets.find().sort([('timestamp', -1)]).limit(20)\n"
   ]
  },
  {
   "cell_type": "code",
   "execution_count": 317,
   "metadata": {
    "collapsed": false
   },
   "outputs": [],
   "source": [
    "import time\n",
    "def collect_tweets(users):\n",
    "    curr_count = news_tweets.count()\n",
    "    now = time.time()\n",
    "    print(\"Started collecting tweets\")\n",
    "    for user in users:\n",
    "        #tweets = api.user_timeline(screen_name = user.screen_name, count=200)\n",
    "        try:\n",
    "            tweets = tweepy.Cursor(api.user_timeline,screen_name=user.screen_name).items()\n",
    "        except:\n",
    "            continue\n",
    "            \n",
    "        for tw in tweets:\n",
    "\n",
    "            if news_tweets.find_one({'id':tw.id}):\n",
    "                break\n",
    "\n",
    "            try:\n",
    "                news_tweets.insert_one(tw._json)\n",
    "            except DuplicateKeyError:\n",
    "                break\n",
    "                \n",
    "    new_count = news_tweets.count()\n",
    "    new_time = time.time() - now\n",
    "    print(\"Collected %d tweets in %.2f seconds\" % (new_count - curr_count, new_time))\n",
    "    "
   ]
  },
  {
   "cell_type": "code",
   "execution_count": 318,
   "metadata": {
    "collapsed": false
   },
   "outputs": [
    {
     "name": "stdout",
     "output_type": "stream",
     "text": [
      "Started collecting tweets\n"
     ]
    }
   ],
   "source": [
    "import threading\n",
    "import time\n",
    "\n",
    "\n",
    "class MyThread(threading.Thread):\n",
    "    def __init__(self, interval, task, args=[], kwargs={}):\n",
    "        super(MyThread, self).__init__()\n",
    "        self.stop_ = False\n",
    "        self.interval = interval\n",
    "        self.args = args\n",
    "        self.kwargs = kwargs\n",
    "        self.task = task\n",
    "        self.start()\n",
    "        \n",
    "    def run(self):\n",
    "        while not self.stop_:\n",
    "            self.task(*self.args, **self.kwargs)\n",
    "            time.sleep(self.interval)\n",
    "            \n",
    "    def stop(self):\n",
    "        self.stop_ = True\n",
    "        \n",
    "mythread = MyThread(15 * 60, collect_tweets, [users])"
   ]
  },
  {
   "cell_type": "code",
   "execution_count": 279,
   "metadata": {
    "collapsed": false
   },
   "outputs": [],
   "source": [
    "mythread.stop()"
   ]
  },
  {
   "cell_type": "code",
   "execution_count": 41,
   "metadata": {
    "collapsed": false
   },
   "outputs": [
    {
     "data": {
      "text/plain": [
       "176239"
      ]
     },
     "execution_count": 41,
     "metadata": {},
     "output_type": "execute_result"
    }
   ],
   "source": [
    "news_tweets.count()"
   ]
  },
  {
   "cell_type": "code",
   "execution_count": 34,
   "metadata": {
    "collapsed": true
   },
   "outputs": [],
   "source": [
    "from scipy import sparse\n",
    "from sklearn.base import BaseEstimator, TransformerMixin\n",
    "import re\n",
    "from nltk.stem import WordNetLemmatizer\n",
    "wordnet_lemmatizer = WordNetLemmatizer()\n",
    "\n",
    "class Preprocessor(BaseEstimator, TransformerMixin):\n",
    "    def __init__(self):\n",
    "        pass\n",
    "    \n",
    "    def fit(self, X, y=None):\n",
    "        return self\n",
    "        \n",
    "    def transform(self, X):\n",
    "        comments_clean = []\n",
    "        for c in X:\n",
    "            c = c.replace('\\\\\\\\', '\\\\')\n",
    "            c = c.replace('\\\\n', ' ')\n",
    "            #c = c.replace('\\'', '')\n",
    "            c = re.sub(r'[-_\"]', '', c)\n",
    "            c = re.sub(r'[*%&,?!;]', ' ', c)\n",
    "            c = re.sub(r\"(.)\\1{2,}\", '\\g<1>', c)\n",
    "            c = re.sub(r'\\.(\\s+|$)', ' ', c)\n",
    "            c = re.sub(r'[^\\x00-\\x7F]+',' ', c)\n",
    "            #c = re.sub(r'@[^ ]*', ' ', c)\n",
    "            #c = re.sub(r'[0-9]+', ' ', c)\n",
    "            c = re.sub(r'https?://[\\w./]+', ' ', c)\n",
    "            c = [wordnet_lemmatizer.lemmatize(wordnet_lemmatizer.lemmatize(w, pos='v')).lower() \n",
    "                          for w in c.split()]\n",
    "            c = \" \".join(w for w in c if len(w) > 2)\n",
    "            #c = \" \".join([w.lower() for w in c.split()])# if 3<=len(w)<=40])\n",
    "            comments_clean.append(c)\n",
    "        return comments_clean\n",
    "\n",
    "prep = Preprocessor()"
   ]
  },
  {
   "cell_type": "code",
   "execution_count": 35,
   "metadata": {
    "collapsed": false
   },
   "outputs": [],
   "source": [
    "tweets_df['text_processed'] = prep.fit_transform(tweets_df['text'])"
   ]
  },
  {
   "cell_type": "code",
   "execution_count": 36,
   "metadata": {
    "collapsed": false
   },
   "outputs": [],
   "source": [
    "import pandas as pd\n",
    "#tweets_df.to_pickle('data/tweets_df1.pkl')\n",
    "tweets_df = pd.read_pickle('data/tweets_df1.pkl')\n",
    "tweets_df.head()"
   ]
  },
  {
   "cell_type": "code",
   "execution_count": 37,
   "metadata": {
    "collapsed": false
   },
   "outputs": [
    {
     "data": {
      "text/plain": [
       "ForbesTech         3595\n",
       "EverydayHealth     3420\n",
       "TechCrunch         3385\n",
       "ReutersTech        3297\n",
       "HTSportsNews       3283\n",
       "NBCNewsHealth      3273\n",
       "FoxNewsTech        3271\n",
       "SkySportsNews      3266\n",
       "bn9weather         3256\n",
       "TheWeatherNetUS    3247\n",
       "technology         3237\n",
       "SkyNewsWeather     3236\n",
       "fttechnews         3233\n",
       "NewsdaySports      3228\n",
       "CBSHealth          3223\n",
       "bbchealth          3223\n",
       "BBCTech            3220\n",
       "NPRHealth          3220\n",
       "CBCHealth          3219\n",
       "NBCNewsTech        3214\n",
       "FOXSportsNews      3202\n",
       "HealthHive         3200\n",
       "breakingbytes      1725\n",
       "KHNews                4\n",
       "Name: user, dtype: int64"
      ]
     },
     "execution_count": 37,
     "metadata": {},
     "output_type": "execute_result"
    }
   ],
   "source": [
    "tweets_df['user'].value_counts()"
   ]
  },
  {
   "cell_type": "code",
   "execution_count": 38,
   "metadata": {
    "collapsed": false
   },
   "outputs": [
    {
     "data": {
      "text/plain": [
       "Tech       28177\n",
       "Heath      22782\n",
       "Sports     12979\n",
       "Weather     9739\n",
       "Name: cat, dtype: int64"
      ]
     },
     "execution_count": 38,
     "metadata": {},
     "output_type": "execute_result"
    }
   ],
   "source": [
    "tweets_df['cat'].value_counts()"
   ]
  },
  {
   "cell_type": "code",
   "execution_count": 48,
   "metadata": {
    "collapsed": false
   },
   "outputs": [
    {
     "data": {
      "text/plain": [
       "'\\n\\nimport gensim\\nfrom gensim.utils import simple_preprocess\\nfrom gensim.parsing.preprocessing import STOPWORDS\\nfrom nltk.stem import WordNetLemmatizer, SnowballStemmer\\nfrom nltk.stem.porter import *\\nimport numpy as np\\nnp.random.seed(2018)\\n\\nstemmer = SnowballStemmer(\\'english\\')\\nlemmatizer = WordNetLemmatizer()\\n\\ndef lemmatize_stemming(text, stem=True):\\n    result = lemmatizer.lemmatize(text, pos=\\'v\\')\\n    if stem:\\n        result = stemmer.stem(result)\\n    return result\\n    \\ndef preprocess(text):\\n    \\n    result = []\\n    for token in gensim.utils.simple_preprocess(text):\\n        if token not in gensim.parsing.preprocessing.STOPWORDS             and len(token) > 3 and len(token) < 40             and token.isalpha:\\n            result.append(lemmatize_stemming(token, stem=False))\\n    return \" \".join(result)\\n\\n\\nfrom sklearn.datasets import fetch_20newsgroups\\n\\n#dataset = fetch_20newsgroups(shuffle=True, random_state=1, remove=(\\'headers\\', \\'footers\\', \\'quotes\\'))\\ndocuments = [preprocess(tw[\\'text\\']) for tw in news_tweets.find()]\\n'"
      ]
     },
     "execution_count": 48,
     "metadata": {},
     "output_type": "execute_result"
    }
   ],
   "source": [
    "\"\"\"\n",
    "\n",
    "import gensim\n",
    "from gensim.utils import simple_preprocess\n",
    "from gensim.parsing.preprocessing import STOPWORDS\n",
    "from nltk.stem import WordNetLemmatizer, SnowballStemmer\n",
    "from nltk.stem.porter import *\n",
    "import numpy as np\n",
    "np.random.seed(2018)\n",
    "\n",
    "stemmer = SnowballStemmer('english')\n",
    "lemmatizer = WordNetLemmatizer()\n",
    "\n",
    "def lemmatize_stemming(text, stem=True):\n",
    "    result = lemmatizer.lemmatize(text, pos='v')\n",
    "    if stem:\n",
    "        result = stemmer.stem(result)\n",
    "    return result\n",
    "    \n",
    "def preprocess(text):\n",
    "    \n",
    "    result = []\n",
    "    for token in gensim.utils.simple_preprocess(text):\n",
    "        if token not in gensim.parsing.preprocessing.STOPWORDS \\\n",
    "            and len(token) > 3 and len(token) < 40 \\\n",
    "            and token.isalpha:\n",
    "            result.append(lemmatize_stemming(token, stem=False))\n",
    "    return \" \".join(result)\n",
    "\n",
    "\n",
    "from sklearn.datasets import fetch_20newsgroups\n",
    "\n",
    "#dataset = fetch_20newsgroups(shuffle=True, random_state=1, remove=('headers', 'footers', 'quotes'))\n",
    "documents = [preprocess(tw['text']) for tw in news_tweets.find()]\n",
    "\"\"\""
   ]
  },
  {
   "cell_type": "code",
   "execution_count": 47,
   "metadata": {
    "collapsed": true
   },
   "outputs": [],
   "source": [
    "from sklearn.feature_extraction.text import TfidfVectorizer, CountVectorizer\n",
    "from sklearn.feature_extraction.text import CountVectorizer\n",
    "from sklearn.feature_extraction.text import TfidfVectorizer\n",
    "import re\n",
    "from nltk.corpus import stopwords\n",
    "from scipy.sparse import hstack\n",
    "from sklearn.linear_model import LogisticRegression\n",
    "\n",
    "tfidf_word_vectorizer = TfidfVectorizer(ngram_range=(1, 3), max_df=0.5, max_features=None,\n",
    "                             min_df=2, stop_words='english', token_pattern=u'((?u)\\\\b\\\\w\\\\w+\\\\b|[#@]\\w+)',\n",
    "                             use_idf=True)\n",
    "\n",
    "tfidf_char_vectorizer = TfidfVectorizer(ngram_range=(1, 7), analyzer='char', max_df=0.5, max_features=None,\n",
    "                             min_df=2, stop_words='english', token_pattern=u'((?u)\\\\b\\\\w\\\\w+\\\\b|[#@]\\w+)',\n",
    "                             use_idf=True)\n",
    "\n",
    "tfidf_word = tfidf_word_vectorizer.fit_transform(tweets_df['text_processed'])\n",
    "tfidf_char = tfidf_char_vectorizer.fit_transform(tweets_df['text_processed'])\n",
    "\n",
    "tfidf_word_char = hstack([tfidf_word, tfidf_char])\n",
    "\n",
    "lr = LogisticRegression()\n",
    "lr.fit(tfidf_word_char, tweets_df['cat_encoded'])"
   ]
  },
  {
   "cell_type": "code",
   "execution_count": 57,
   "metadata": {
    "collapsed": false
   },
   "outputs": [
    {
     "data": {
      "text/plain": [
       "LogisticRegression(C=1.0, class_weight=None, dual=False, fit_intercept=True,\n",
       "          intercept_scaling=1, max_iter=100, multi_class='ovr', n_jobs=1,\n",
       "          penalty='l2', random_state=None, solver='liblinear', tol=0.0001,\n",
       "          verbose=0, warm_start=False)"
      ]
     },
     "execution_count": 57,
     "metadata": {},
     "output_type": "execute_result"
    }
   ],
   "source": [
    "lr = LogisticRegression()\n",
    "lr.fit(tfidf_word_char, tweets_df['cat_encoded'])"
   ]
  },
  {
   "cell_type": "code",
   "execution_count": 54,
   "metadata": {
    "collapsed": false
   },
   "outputs": [
    {
     "name": "stderr",
     "output_type": "stream",
     "text": [
      "/usr/local/lib/python2.7/dist-packages/sklearn/cross_validation.py:41: DeprecationWarning: This module was deprecated in version 0.18 in favor of the model_selection module into which all the refactored classes and functions are moved. Also note that the interface of the new CV iterators are different from that of this module. This module will be removed in 0.20.\n",
      "  \"This module will be removed in 0.20.\", DeprecationWarning)\n"
     ]
    },
    {
     "data": {
      "text/plain": [
       "array([0.93209145, 0.93079236, 0.93269843])"
      ]
     },
     "execution_count": 54,
     "metadata": {},
     "output_type": "execute_result"
    }
   ],
   "source": [
    "from sklearn.model_selection import cross_val_score\n",
    "\n",
    "cross_val_score(lr, tfidf_word_char, tweets_df['cat_encoded'], n_jobs=4)"
   ]
  },
  {
   "cell_type": "code",
   "execution_count": 149,
   "metadata": {
    "collapsed": false
   },
   "outputs": [
    {
     "data": {
      "text/plain": [
       "<136720x283828 sparse matrix of type '<type 'numpy.float64'>'\n",
       "\twith 18309760 stored elements in COOrdinate format>"
      ]
     },
     "execution_count": 149,
     "metadata": {},
     "output_type": "execute_result"
    }
   ],
   "source": [
    "tfidf_word_char"
   ]
  },
  {
   "cell_type": "code",
   "execution_count": 101,
   "metadata": {
    "collapsed": false
   },
   "outputs": [
    {
     "data": {
      "text/plain": [
       "array([0.90593734, 0.90070875, 0.90364486])"
      ]
     },
     "execution_count": 101,
     "metadata": {},
     "output_type": "execute_result"
    }
   ],
   "source": [
    "from sklearn.model_selection import cross_val_score\n",
    "\n",
    "cross_val_score(lr, tfidf, tweets_df['cat_encoded'])"
   ]
  },
  {
   "cell_type": "code",
   "execution_count": 55,
   "metadata": {
    "collapsed": false
   },
   "outputs": [
    {
     "data": {
      "text/plain": [
       "TfidfVectorizer(analyzer=u'word', binary=False, decode_error=u'strict',\n",
       "        dtype=<type 'numpy.int64'>, encoding=u'utf-8', input=u'content',\n",
       "        lowercase=True, max_df=0.5, max_features=None, min_df=2,\n",
       "        ngram_range=(1, 3), norm=u'l2', preprocessor=None, smooth_idf=True,\n",
       "        stop_words='english', strip_accents=None, sublinear_tf=False,\n",
       "        token_pattern=u'((?u)\\\\b\\\\w\\\\w+\\\\b|[#@]\\\\w+)', tokenizer=None,\n",
       "        use_idf=True, vocabulary=None)"
      ]
     },
     "execution_count": 55,
     "metadata": {},
     "output_type": "execute_result"
    }
   ],
   "source": [
    "tfidf_word_vectorizer"
   ]
  },
  {
   "cell_type": "code",
   "execution_count": 102,
   "metadata": {
    "collapsed": true
   },
   "outputs": [],
   "source": [
    "lr.score?"
   ]
  },
  {
   "cell_type": "code",
   "execution_count": 57,
   "metadata": {
    "collapsed": false
   },
   "outputs": [
    {
     "data": {
      "text/plain": [
       "array([1.e-01, 1.e+00, 1.e+01, 1.e+02, 1.e+03])"
      ]
     },
     "execution_count": 57,
     "metadata": {},
     "output_type": "execute_result"
    }
   ],
   "source": [
    "import numpy as np\n",
    "np.logspace(-1, 3, 5)"
   ]
  },
  {
   "cell_type": "code",
   "execution_count": 60,
   "metadata": {
    "collapsed": false
   },
   "outputs": [
    {
     "data": {
      "text/plain": [
       "GridSearchCV(cv=None, error_score='raise',\n",
       "       estimator=LogisticRegression(C=1.0, class_weight=None, dual=False, fit_intercept=True,\n",
       "          intercept_scaling=1, max_iter=100, multi_class='ovr', n_jobs=1,\n",
       "          penalty='l2', random_state=None, solver='liblinear', tol=0.0001,\n",
       "          verbose=0, warm_start=False),\n",
       "       fit_params=None, iid=True, n_jobs=3,\n",
       "       param_grid={'C': array([1.e-01, 1.e+00, 1.e+01, 1.e+02, 1.e+03])},\n",
       "       pre_dispatch='2*n_jobs', refit=True, return_train_score='warn',\n",
       "       scoring=None, verbose=0)"
      ]
     },
     "execution_count": 60,
     "metadata": {},
     "output_type": "execute_result"
    }
   ],
   "source": [
    "from sklearn.model_selection import GridSearchCV\n",
    "gs = GridSearchCV(lr, param_grid={'C': np.logspace(-1, 3, 5)}, return_train_score=True, n_jobs=3)\n",
    "gs.fit(tfidf, tweets_df['cat_encoded'])"
   ]
  },
  {
   "cell_type": "code",
   "execution_count": 61,
   "metadata": {
    "collapsed": false
   },
   "outputs": [
    {
     "name": "stderr",
     "output_type": "stream",
     "text": [
      "/usr/local/lib/python2.7/dist-packages/sklearn/utils/deprecation.py:122: FutureWarning: You are accessing a training score ('mean_train_score'), which will not be available by default any more in 0.21. If you need training scores, please set return_train_score=True\n",
      "  warnings.warn(*warn_args, **warn_kwargs)\n",
      "/usr/local/lib/python2.7/dist-packages/sklearn/utils/deprecation.py:122: FutureWarning: You are accessing a training score ('split0_train_score'), which will not be available by default any more in 0.21. If you need training scores, please set return_train_score=True\n",
      "  warnings.warn(*warn_args, **warn_kwargs)\n",
      "/usr/local/lib/python2.7/dist-packages/sklearn/utils/deprecation.py:122: FutureWarning: You are accessing a training score ('split1_train_score'), which will not be available by default any more in 0.21. If you need training scores, please set return_train_score=True\n",
      "  warnings.warn(*warn_args, **warn_kwargs)\n",
      "/usr/local/lib/python2.7/dist-packages/sklearn/utils/deprecation.py:122: FutureWarning: You are accessing a training score ('split2_train_score'), which will not be available by default any more in 0.21. If you need training scores, please set return_train_score=True\n",
      "  warnings.warn(*warn_args, **warn_kwargs)\n",
      "/usr/local/lib/python2.7/dist-packages/sklearn/utils/deprecation.py:122: FutureWarning: You are accessing a training score ('std_train_score'), which will not be available by default any more in 0.21. If you need training scores, please set return_train_score=True\n",
      "  warnings.warn(*warn_args, **warn_kwargs)\n"
     ]
    },
    {
     "data": {
      "text/plain": [
       "{'mean_fit_time': array([ 6.40758928,  9.18070865, 12.77666863, 23.00750232, 42.54301699]),\n",
       " 'mean_score_time': array([0.02959299, 0.03314765, 0.03409076, 0.03519869, 0.03402336]),\n",
       " 'mean_test_score': array([0.85358397, 0.91446021, 0.93543739, 0.93583967, 0.93421592]),\n",
       " 'mean_train_score': array([0.87329578, 0.95117394, 0.99208967, 0.99712917, 0.99762288]),\n",
       " 'param_C': masked_array(data=[0.1, 1.0, 10.0, 100.0, 1000.0],\n",
       "              mask=[False, False, False, False, False],\n",
       "        fill_value='?',\n",
       "             dtype=object),\n",
       " 'params': [{'C': 0.1}, {'C': 1.0}, {'C': 10.0}, {'C': 100.0}, {'C': 1000.0}],\n",
       " 'rank_test_score': array([5, 4, 2, 1, 3], dtype=int32),\n",
       " 'split0_test_score': array([0.85411181, 0.91583289, 0.93584343, 0.93551431, 0.93378094]),\n",
       " 'split0_train_score': array([0.87321162, 0.95176863, 0.99202361, 0.99697182, 0.99761915]),\n",
       " 'split1_test_score': array([0.85342198, 0.91470827, 0.93570755, 0.93605863, 0.93454458]),\n",
       " 'split1_train_score': array([0.87282083, 0.95105708, 0.99222136, 0.99738883, 0.99771797]),\n",
       " 'split2_test_score': array([0.85321806, 0.91283931, 0.93476114, 0.93594611, 0.93432227]),\n",
       " 'split2_train_score': array([0.8738549 , 0.95069611, 0.99202405, 0.99702685, 0.99753151]),\n",
       " 'std_fit_time': array([0.6017192 , 1.183124  , 0.47869976, 3.46647085, 3.01307736]),\n",
       " 'std_score_time': array([0.0058139 , 0.00135718, 0.00064325, 0.00978553, 0.00782208]),\n",
       " 'std_test_score': array([0.00038243, 0.00123465, 0.00048137, 0.00023462, 0.0003207 ]),\n",
       " 'std_train_score': array([4.26330838e-04, 4.45582064e-04, 9.31152671e-05, 1.84979975e-04,\n",
       "        7.61666667e-05])}"
      ]
     },
     "execution_count": 61,
     "metadata": {},
     "output_type": "execute_result"
    }
   ],
   "source": [
    "gs.cv_results_"
   ]
  },
  {
   "cell_type": "code",
   "execution_count": 62,
   "metadata": {
    "collapsed": false
   },
   "outputs": [
    {
     "data": {
      "text/plain": [
       "0.9358396723229959"
      ]
     },
     "execution_count": 62,
     "metadata": {},
     "output_type": "execute_result"
    }
   ],
   "source": [
    "gs.best_score_"
   ]
  },
  {
   "cell_type": "code",
   "execution_count": 63,
   "metadata": {
    "collapsed": false
   },
   "outputs": [
    {
     "data": {
      "text/plain": [
       "{'C': 100.0}"
      ]
     },
     "execution_count": 63,
     "metadata": {},
     "output_type": "execute_result"
    }
   ],
   "source": [
    "gs.best_params_"
   ]
  },
  {
   "cell_type": "code",
   "execution_count": 214,
   "metadata": {
    "collapsed": false
   },
   "outputs": [
    {
     "data": {
      "text/plain": [
       "array([0.86, 0.87, 0.87])"
      ]
     },
     "execution_count": 214,
     "metadata": {},
     "output_type": "execute_result"
    }
   ],
   "source": [
    "from sklearn.ensemble import RandomForestClassifier\n",
    "rf = RandomForestClassifier()\n",
    "cross_val_score(rf, tfidf, tweets_df['cat_encoded'], n_jobs=3)"
   ]
  },
  {
   "cell_type": "code",
   "execution_count": 60,
   "metadata": {
    "collapsed": false
   },
   "outputs": [],
   "source": [
    "from sklearn.model_selection import train_test_split\n",
    "\n",
    "X_train, X_test, y_train, y_test = train_test_split(\n",
    "    tfidf, tweets_df['cat_encoded'], test_size=0.33, random_state=42)"
   ]
  },
  {
   "cell_type": "code",
   "execution_count": 61,
   "metadata": {
    "collapsed": true
   },
   "outputs": [],
   "source": [
    "lr = LogisticRegression()"
   ]
  },
  {
   "cell_type": "code",
   "execution_count": 236,
   "metadata": {
    "collapsed": true
   },
   "outputs": [],
   "source": [
    "lr = gs.best_estimator_"
   ]
  },
  {
   "cell_type": "code",
   "execution_count": 62,
   "metadata": {
    "collapsed": false
   },
   "outputs": [
    {
     "data": {
      "text/plain": [
       "LogisticRegression(C=1.0, class_weight=None, dual=False, fit_intercept=True,\n",
       "          intercept_scaling=1, max_iter=100, multi_class='ovr', n_jobs=1,\n",
       "          penalty='l2', random_state=None, solver='liblinear', tol=0.0001,\n",
       "          verbose=0, warm_start=False)"
      ]
     },
     "execution_count": 62,
     "metadata": {},
     "output_type": "execute_result"
    }
   ],
   "source": [
    "lr.fit(X_train, y_train)"
   ]
  },
  {
   "cell_type": "code",
   "execution_count": 63,
   "metadata": {
    "collapsed": true
   },
   "outputs": [],
   "source": [
    "y_pred = lr.predict(X_test)"
   ]
  },
  {
   "cell_type": "code",
   "execution_count": 64,
   "metadata": {
    "collapsed": false
   },
   "outputs": [
    {
     "data": {
      "text/plain": [
       "0.09805399175495368"
      ]
     },
     "execution_count": 64,
     "metadata": {},
     "output_type": "execute_result"
    }
   ],
   "source": [
    "(y_pred != y_test).mean()"
   ]
  },
  {
   "cell_type": "code",
   "execution_count": 239,
   "metadata": {
    "collapsed": false
   },
   "outputs": [
    {
     "data": {
      "text/plain": [
       "array(['Heath', 'Politics', 'Sports', 'Tech', 'Traffic', 'Weather'],\n",
       "      dtype=object)"
      ]
     },
     "execution_count": 239,
     "metadata": {},
     "output_type": "execute_result"
    }
   ],
   "source": [
    "label_encoder.classes_"
   ]
  },
  {
   "cell_type": "code",
   "execution_count": 240,
   "metadata": {
    "collapsed": false
   },
   "outputs": [
    {
     "name": "stdout",
     "output_type": "stream",
     "text": [
      "             precision    recall  f1-score   support\n",
      "\n",
      "      Heath       0.91      0.92      0.92     11718\n",
      "   Politics       0.93      0.92      0.92     10378\n",
      "     Sports       0.96      0.94      0.95      7666\n",
      "       Tech       0.89      0.91      0.90     11004\n",
      "    Traffic       0.99      0.93      0.96      1056\n",
      "    Weather       0.97      0.91      0.94      3296\n",
      "\n",
      "avg / total       0.92      0.92      0.92     45118\n",
      "\n"
     ]
    }
   ],
   "source": [
    "from sklearn import metrics\n",
    "print(metrics.classification_report(y_test, y_pred,\n",
    "                                            target_names=label_encoder.classes_))"
   ]
  },
  {
   "cell_type": "code",
   "execution_count": 178,
   "metadata": {
    "collapsed": false
   },
   "outputs": [
    {
     "data": {
      "text/plain": [
       "array([0, 1, 2, 3, 4, 5, 6, 7])"
      ]
     },
     "execution_count": 178,
     "metadata": {},
     "output_type": "execute_result"
    }
   ],
   "source": [
    "np.unique(y_test)"
   ]
  },
  {
   "cell_type": "code",
   "execution_count": 241,
   "metadata": {
    "collapsed": false
   },
   "outputs": [],
   "source": [
    "import matplotlib.pyplot as plt\n",
    "\n",
    "def plot_confusion_matrix(cm, classes,\n",
    "                          normalize=False,\n",
    "                          title='Confusion matrix',\n",
    "                          cmap=plt.cm.Blues):\n",
    "    \"\"\"\n",
    "    This function prints and plots the confusion matrix.\n",
    "    Normalization can be applied by setting `normalize=True`.\n",
    "    \"\"\"\n",
    "    if normalize:\n",
    "        cm = cm.astype('float') / cm.sum(axis=1)[:, np.newaxis]\n",
    "        print(\"Normalized confusion matrix\")\n",
    "    else:\n",
    "        print('Confusion matrix, without normalization')\n",
    "\n",
    "    print(cm)\n",
    "\n",
    "    plt.imshow(cm, interpolation='nearest', cmap=cmap)\n",
    "    plt.title(title)\n",
    "    plt.colorbar()\n",
    "    tick_marks = np.arange(len(classes))\n",
    "    plt.xticks(tick_marks, classes, rotation=45)\n",
    "    plt.yticks(tick_marks, classes)\n",
    "\n",
    "    fmt = '.2f' if normalize else 'd'\n",
    "    thresh = cm.max() / 2.\n",
    "    for i, j in itertools.product(range(cm.shape[0]), range(cm.shape[1])):\n",
    "        plt.text(j, i, format(cm[i, j], fmt),\n",
    "                 horizontalalignment=\"center\",\n",
    "                 color=\"white\" if cm[i, j] > thresh else \"black\")\n",
    "\n",
    "    plt.tight_layout()\n",
    "    plt.ylabel('True label')\n",
    "    plt.xlabel('Predicted label')"
   ]
  },
  {
   "cell_type": "code",
   "execution_count": 242,
   "metadata": {
    "collapsed": false
   },
   "outputs": [
    {
     "name": "stdout",
     "output_type": "stream",
     "text": [
      "Confusion matrix, without normalization\n",
      "[[10815   292    92   486     0    33]\n",
      " [  383  9550    84   356     0     5]\n",
      " [  142    97  7220   190     1    16]\n",
      " [  483   312   116 10053     3    37]\n",
      " [   15    15     7    29   984     6]\n",
      " [   75    42    20   145     2  3012]]\n",
      "Normalized confusion matrix\n",
      "[[9.23e-01 2.49e-02 7.85e-03 4.15e-02 0.00e+00 2.82e-03]\n",
      " [3.69e-02 9.20e-01 8.09e-03 3.43e-02 0.00e+00 4.82e-04]\n",
      " [1.85e-02 1.27e-02 9.42e-01 2.48e-02 1.30e-04 2.09e-03]\n",
      " [4.39e-02 2.84e-02 1.05e-02 9.14e-01 2.73e-04 3.36e-03]\n",
      " [1.42e-02 1.42e-02 6.63e-03 2.75e-02 9.32e-01 5.68e-03]\n",
      " [2.28e-02 1.27e-02 6.07e-03 4.40e-02 6.07e-04 9.14e-01]]\n"
     ]
    },
    {
     "data": {
      "image/png": "[encoded data removed]",
      "text/plain": [
       "<matplotlib.figure.Figure at 0x7f4bc226f0d0>"
      ]
     },
     "metadata": {},
     "output_type": "display_data"
    },
    {
     "data": {
      "image/png": "[encoded data removed]",
      "text/plain": [
       "<matplotlib.figure.Figure at 0x7f4bc28c1d10>"
      ]
     },
     "metadata": {},
     "output_type": "display_data"
    }
   ],
   "source": [
    "import itertools\n",
    "\n",
    "# Compute confusion matrix\n",
    "cnf_matrix = metrics.confusion_matrix(y_test, y_pred)\n",
    "np.set_printoptions(precision=2)\n",
    "\n",
    "class_names = label_encoder.classes_\n",
    "\n",
    "# Plot non-normalized confusion matrix\n",
    "plt.figure()\n",
    "plot_confusion_matrix(cnf_matrix, classes=class_names,\n",
    "                      title='Confusion matrix, without normalization')\n",
    "\n",
    "\n",
    "# Plot normalized confusion matrix\n",
    "plt.figure()\n",
    "plot_confusion_matrix(cnf_matrix, classes=class_names, normalize=True,\n",
    "                      title='Normalized confusion matrix')\n",
    "\n",
    "plt.show()\n"
   ]
  },
  {
   "cell_type": "markdown",
   "metadata": {},
   "source": [
    "## Pipeline"
   ]
  },
  {
   "cell_type": "code",
   "execution_count": 105,
   "metadata": {
    "collapsed": true
   },
   "outputs": [],
   "source": [
    "TfidfVectorizer?"
   ]
  },
  {
   "cell_type": "code",
   "execution_count": 6,
   "metadata": {
    "collapsed": false
   },
   "outputs": [],
   "source": [
    "from sklearn.feature_extraction.text import TfidfVectorizer\n",
    "\n",
    "word_vectorizer = TfidfVectorizer(stop_words='english', \n",
    "                                  token_pattern=u'((?u)\\\\b\\\\w\\\\w+\\\\b|[#@]\\w+)')\n",
    "\n",
    "char_vectorizer = TfidfVectorizer(analyzer='char', min_df=2, max_df=0.7)\n"
   ]
  },
  {
   "cell_type": "code",
   "execution_count": 7,
   "metadata": {
    "collapsed": false
   },
   "outputs": [],
   "source": [
    "from sklearn.pipeline import Pipeline\n",
    "from sklearn.pipeline import FeatureUnion\n",
    "from sklearn.linear_model import LogisticRegression\n",
    "\n",
    "lr = LogisticRegression()\n",
    "vectorizer = FeatureUnion([('tfidf_word', word_vectorizer), ('tfidf_char', char_vectorizer)])\n",
    "estimators = [('vectorizer', vectorizer), ('lr', lr)]\n",
    "pl = Pipeline(estimators)\n",
    "\n",
    "tweet_text = tweets_df['text_processed']\n",
    "tweet_label = tweets_df['cat_encoded']\n"
   ]
  },
  {
   "cell_type": "code",
   "execution_count": 8,
   "metadata": {
    "collapsed": true
   },
   "outputs": [],
   "source": [
    "import numpy as np"
   ]
  },
  {
   "cell_type": "code",
   "execution_count": null,
   "metadata": {
    "collapsed": true
   },
   "outputs": [],
   "source": [
    "param_grid = {\n",
    "    'vectorizer__tfidf_word__ngram_range': [(1, 1), (1, 2)],\n",
    "    'vectorizer__tfidf_char__ngram_range': [(1, 2), (1, 3)],\n",
    "    'vectorizer__tfidf_word__min_df': [1, 2, 5],\n",
    "    'vectorizer__tfidf_word__use_idf': [False, True],\n",
    "    'lr__C': np.logspace(-1, 3, 5),\n",
    "}"
   ]
  },
  {
   "cell_type": "code",
   "execution_count": 12,
   "metadata": {
    "collapsed": false
   },
   "outputs": [],
   "source": [
    "from sklearn.model_selection import GridSearchCV\n",
    "\n",
    "gs = GridSearchCV(pl, param_grid=param_grid, n_jobs=2, verbose=10)"
   ]
  },
  {
   "cell_type": "code",
   "execution_count": 13,
   "metadata": {
    "collapsed": true
   },
   "outputs": [],
   "source": [
    "#import sys\n",
    "#sys.stdout = open(\"gridsearch.log\",\"w\")\n"
   ]
  },
  {
   "cell_type": "code",
   "execution_count": null,
   "metadata": {
    "collapsed": false
   },
   "outputs": [],
   "source": [
    "gs.fit(tweet_text, tweet_label)"
   ]
  },
  {
   "cell_type": "code",
   "execution_count": null,
   "metadata": {
    "collapsed": true
   },
   "outputs": [],
   "source": [
    "gs"
   ]
  },
  {
   "cell_type": "code",
   "execution_count": 50,
   "metadata": {
    "collapsed": false
   },
   "outputs": [
    {
     "data": {
      "text/plain": [
       "0.9311585722644822"
      ]
     },
     "execution_count": 50,
     "metadata": {},
     "output_type": "execute_result"
    }
   ],
   "source": [
    "gs.best_score_"
   ]
  },
  {
   "cell_type": "markdown",
   "metadata": {},
   "source": [
    "## XGboost"
   ]
  },
  {
   "cell_type": "code",
   "execution_count": 34,
   "metadata": {
    "collapsed": false
   },
   "outputs": [
    {
     "data": {
      "text/plain": [
       "XGBClassifier(base_score=0.5, booster='gbtree', colsample_bylevel=1,\n",
       "       colsample_bytree=1, gamma=0, learning_rate=0.05, max_delta_step=0,\n",
       "       max_depth=3, min_child_weight=1, missing=None, n_estimators=300,\n",
       "       n_jobs=4, nthread=None, objective='multi:softprob', random_state=0,\n",
       "       reg_alpha=0, reg_lambda=1, scale_pos_weight=1, seed=None,\n",
       "       silent=True, subsample=1)"
      ]
     },
     "execution_count": 34,
     "metadata": {},
     "output_type": "execute_result"
    }
   ],
   "source": [
    "import xgboost as xgb\n",
    "\n",
    "gbm = xgb.XGBClassifier(max_depth=3, n_estimators=300, learning_rate=0.05, n_jobs=4)\n",
    "gbm.fit(X_train, y_train)\n"
   ]
  },
  {
   "cell_type": "code",
   "execution_count": 35,
   "metadata": {
    "collapsed": false
   },
   "outputs": [
    {
     "name": "stderr",
     "output_type": "stream",
     "text": [
      "/usr/local/lib/python2.7/dist-packages/sklearn/preprocessing/label.py:151: DeprecationWarning: The truth value of an empty array is ambiguous. Returning False, but in future this will result in an error. Use `array.size > 0` to check that an array is not empty.\n",
      "  if diff:\n"
     ]
    }
   ],
   "source": [
    "y_pred = gbm.predict(X_test)"
   ]
  },
  {
   "cell_type": "code",
   "execution_count": 37,
   "metadata": {
    "collapsed": false
   },
   "outputs": [
    {
     "name": "stdout",
     "output_type": "stream",
     "text": [
      "             precision    recall  f1-score   support\n",
      "\n",
      "      Heath       0.87      0.67      0.75     11736\n",
      "   Politics       0.86      0.71      0.78     10329\n",
      "     Sports       0.87      0.66      0.75      7634\n",
      "       Tech       0.54      0.88      0.67     11071\n",
      "    Traffic       0.99      0.81      0.89      1103\n",
      "    Weather       0.95      0.75      0.84      3245\n",
      "\n",
      "avg / total       0.79      0.74      0.75     45118\n",
      "\n"
     ]
    }
   ],
   "source": [
    "from sklearn import metrics\n",
    "print(metrics.classification_report(y_test, y_pred,\n",
    "                                            target_names=label_encoder.classes_))"
   ]
  },
  {
   "cell_type": "code",
   "execution_count": 36,
   "metadata": {
    "collapsed": false
   },
   "outputs": [
    {
     "data": {
      "text/plain": [
       "0.7387960459240215"
      ]
     },
     "execution_count": 36,
     "metadata": {},
     "output_type": "execute_result"
    }
   ],
   "source": [
    "np.mean(y_pred == y_test)"
   ]
  },
  {
   "cell_type": "code",
   "execution_count": 79,
   "metadata": {
    "collapsed": false
   },
   "outputs": [],
   "source": [
    "from sklearn.model_selection import train_test_split\n",
    "\n",
    "X_train, X_val, y_train, y_val = train_test_split(\n",
    "    tfidf[:10000], tweets_df['cat_encoded'][:10000], test_size=0.33, random_state=42)\n"
   ]
  },
  {
   "cell_type": "code",
   "execution_count": 43,
   "metadata": {
    "collapsed": false
   },
   "outputs": [
    {
     "data": {
      "text/plain": [
       "array(['Heath', 'Politics', 'Sports', 'Tech', 'Traffic', 'Weather'],\n",
       "      dtype=object)"
      ]
     },
     "execution_count": 43,
     "metadata": {},
     "output_type": "execute_result"
    }
   ],
   "source": [
    "label_encoder.classes_"
   ]
  },
  {
   "cell_type": "code",
   "execution_count": 44,
   "metadata": {
    "collapsed": false
   },
   "outputs": [
    {
     "data": {
      "text/plain": [
       "array([3, 2, 0, 1, 5, 4])"
      ]
     },
     "execution_count": 44,
     "metadata": {},
     "output_type": "execute_result"
    }
   ],
   "source": [
    "tweets_df.cat_encoded.unique()"
   ]
  },
  {
   "cell_type": "code",
   "execution_count": 45,
   "metadata": {
    "collapsed": false
   },
   "outputs": [
    {
     "data": {
      "text/plain": [
       "6"
      ]
     },
     "execution_count": 45,
     "metadata": {},
     "output_type": "execute_result"
    }
   ],
   "source": [
    "len(label_encoder.classes_)"
   ]
  },
  {
   "cell_type": "code",
   "execution_count": 57,
   "metadata": {
    "collapsed": false
   },
   "outputs": [
    {
     "data": {
      "text/plain": [
       "(670, 10000)"
      ]
     },
     "execution_count": 57,
     "metadata": {},
     "output_type": "execute_result"
    }
   ],
   "source": [
    "X_train.shape"
   ]
  },
  {
   "cell_type": "code",
   "execution_count": 67,
   "metadata": {
    "collapsed": false
   },
   "outputs": [
    {
     "data": {
      "text/plain": [
       "<136720x10000 sparse matrix of type '<type 'numpy.float64'>'\n",
       "\twith 1059030 stored elements in Compressed Sparse Row format>"
      ]
     },
     "execution_count": 67,
     "metadata": {},
     "output_type": "execute_result"
    }
   ],
   "source": [
    "tfidf"
   ]
  },
  {
   "cell_type": "code",
   "execution_count": 72,
   "metadata": {
    "collapsed": false
   },
   "outputs": [],
   "source": [
    "a = hp.quniform('n_estimators', 200, 600, 1)"
   ]
  },
  {
   "cell_type": "code",
   "execution_count": 77,
   "metadata": {
    "collapsed": false
   },
   "outputs": [],
   "source": [
    "hp.quniform?"
   ]
  },
  {
   "cell_type": "code",
   "execution_count": 94,
   "metadata": {
    "collapsed": false
   },
   "outputs": [
    {
     "name": "stdout",
     "output_type": "stream",
     "text": [
      "mean accuracy: 100.00 %\n"
     ]
    }
   ],
   "source": [
    "print(\"mean accuracy: %0.2f %%\" % 100)\n"
   ]
  },
  {
   "cell_type": "code",
   "execution_count": 81,
   "metadata": {
    "collapsed": false
   },
   "outputs": [
    {
     "ename": "ValueError",
     "evalue": "unsupported format character '\\' (0x5c) at index 21",
     "output_type": "error",
     "traceback": [
      "\u001b[0;31m---------------------------------------------------------------------------\u001b[0m",
      "\u001b[0;31mValueError\u001b[0m                                Traceback (most recent call last)",
      "\u001b[0;32m<ipython-input-81-d90807de85d7>\u001b[0m in \u001b[0;36m<module>\u001b[0;34m()\u001b[0m\n\u001b[1;32m     48\u001b[0m                       \u001b[0moptimizer\u001b[0m\u001b[0;34m=\u001b[0m\u001b[0mtpe\u001b[0m\u001b[0;34m.\u001b[0m\u001b[0msuggest\u001b[0m\u001b[0;34m,\u001b[0m\u001b[0;34m\u001b[0m\u001b[0m\n\u001b[1;32m     49\u001b[0m                       \u001b[0mcores\u001b[0m \u001b[0;34m=\u001b[0m \u001b[0mcores\u001b[0m\u001b[0;34m,\u001b[0m\u001b[0;34m\u001b[0m\u001b[0m\n\u001b[0;32m---> 50\u001b[0;31m                       trials = trials)\n\u001b[0m\u001b[1;32m     51\u001b[0m \u001b[0;32mprint\u001b[0m\u001b[0;34m(\u001b[0m\u001b[0;34m\"------------------------------------\"\u001b[0m\u001b[0;34m)\u001b[0m\u001b[0;34m\u001b[0m\u001b[0m\n\u001b[1;32m     52\u001b[0m \u001b[0;32mprint\u001b[0m\u001b[0;34m(\u001b[0m\u001b[0;34m\"The best hyperparameters are: \"\u001b[0m\u001b[0;34m,\u001b[0m \u001b[0;34m\"\\n\"\u001b[0m\u001b[0;34m)\u001b[0m\u001b[0;34m\u001b[0m\u001b[0m\n",
      "\u001b[0;32m<ipython-input-81-d90807de85d7>\u001b[0m in \u001b[0;36moptimize\u001b[0;34m(evals, cores, trials, optimizer, random_state)\u001b[0m\n\u001b[1;32m     37\u001b[0m         \u001b[0;34m'seed'\u001b[0m\u001b[0;34m:\u001b[0m \u001b[0mrandom_state\u001b[0m\u001b[0;34m\u001b[0m\u001b[0m\n\u001b[1;32m     38\u001b[0m     }\n\u001b[0;32m---> 39\u001b[0;31m     \u001b[0mbest\u001b[0m \u001b[0;34m=\u001b[0m \u001b[0mfmin\u001b[0m\u001b[0;34m(\u001b[0m\u001b[0mscore\u001b[0m\u001b[0;34m,\u001b[0m \u001b[0mspace\u001b[0m\u001b[0;34m,\u001b[0m \u001b[0malgo\u001b[0m\u001b[0;34m=\u001b[0m\u001b[0mtpe\u001b[0m\u001b[0;34m.\u001b[0m\u001b[0msuggest\u001b[0m\u001b[0;34m,\u001b[0m \u001b[0mmax_evals\u001b[0m\u001b[0;34m=\u001b[0m\u001b[0mevals\u001b[0m\u001b[0;34m,\u001b[0m \u001b[0mtrials\u001b[0m \u001b[0;34m=\u001b[0m \u001b[0mtrials\u001b[0m\u001b[0;34m)\u001b[0m\u001b[0;34m\u001b[0m\u001b[0m\n\u001b[0m\u001b[1;32m     40\u001b[0m     \u001b[0;32mreturn\u001b[0m \u001b[0mbest\u001b[0m\u001b[0;34m\u001b[0m\u001b[0m\n\u001b[1;32m     41\u001b[0m \u001b[0;34m\u001b[0m\u001b[0m\n",
      "\u001b[0;32m/usr/local/lib/python2.7/dist-packages/hyperopt/fmin.py\u001b[0m in \u001b[0;36mfmin\u001b[0;34m(fn, space, algo, max_evals, trials, rstate, allow_trials_fmin, pass_expr_memo_ctrl, catch_eval_exceptions, verbose, return_argmin)\u001b[0m\n\u001b[1;32m    305\u001b[0m             \u001b[0mverbose\u001b[0m\u001b[0;34m=\u001b[0m\u001b[0mverbose\u001b[0m\u001b[0;34m,\u001b[0m\u001b[0;34m\u001b[0m\u001b[0m\n\u001b[1;32m    306\u001b[0m             \u001b[0mcatch_eval_exceptions\u001b[0m\u001b[0;34m=\u001b[0m\u001b[0mcatch_eval_exceptions\u001b[0m\u001b[0;34m,\u001b[0m\u001b[0;34m\u001b[0m\u001b[0m\n\u001b[0;32m--> 307\u001b[0;31m             \u001b[0mreturn_argmin\u001b[0m\u001b[0;34m=\u001b[0m\u001b[0mreturn_argmin\u001b[0m\u001b[0;34m,\u001b[0m\u001b[0;34m\u001b[0m\u001b[0m\n\u001b[0m\u001b[1;32m    308\u001b[0m         )\n\u001b[1;32m    309\u001b[0m \u001b[0;34m\u001b[0m\u001b[0m\n",
      "\u001b[0;32m/usr/local/lib/python2.7/dist-packages/hyperopt/base.py\u001b[0m in \u001b[0;36mfmin\u001b[0;34m(self, fn, space, algo, max_evals, rstate, verbose, pass_expr_memo_ctrl, catch_eval_exceptions, return_argmin)\u001b[0m\n\u001b[1;32m    633\u001b[0m             \u001b[0mpass_expr_memo_ctrl\u001b[0m\u001b[0;34m=\u001b[0m\u001b[0mpass_expr_memo_ctrl\u001b[0m\u001b[0;34m,\u001b[0m\u001b[0;34m\u001b[0m\u001b[0m\n\u001b[1;32m    634\u001b[0m             \u001b[0mcatch_eval_exceptions\u001b[0m\u001b[0;34m=\u001b[0m\u001b[0mcatch_eval_exceptions\u001b[0m\u001b[0;34m,\u001b[0m\u001b[0;34m\u001b[0m\u001b[0m\n\u001b[0;32m--> 635\u001b[0;31m             return_argmin=return_argmin)\n\u001b[0m\u001b[1;32m    636\u001b[0m \u001b[0;34m\u001b[0m\u001b[0m\n\u001b[1;32m    637\u001b[0m \u001b[0;34m\u001b[0m\u001b[0m\n",
      "\u001b[0;32m/usr/local/lib/python2.7/dist-packages/hyperopt/fmin.py\u001b[0m in \u001b[0;36mfmin\u001b[0;34m(fn, space, algo, max_evals, trials, rstate, allow_trials_fmin, pass_expr_memo_ctrl, catch_eval_exceptions, verbose, return_argmin)\u001b[0m\n\u001b[1;32m    318\u001b[0m                     verbose=verbose)\n\u001b[1;32m    319\u001b[0m     \u001b[0mrval\u001b[0m\u001b[0;34m.\u001b[0m\u001b[0mcatch_eval_exceptions\u001b[0m \u001b[0;34m=\u001b[0m \u001b[0mcatch_eval_exceptions\u001b[0m\u001b[0;34m\u001b[0m\u001b[0m\n\u001b[0;32m--> 320\u001b[0;31m     \u001b[0mrval\u001b[0m\u001b[0;34m.\u001b[0m\u001b[0mexhaust\u001b[0m\u001b[0;34m(\u001b[0m\u001b[0;34m)\u001b[0m\u001b[0;34m\u001b[0m\u001b[0m\n\u001b[0m\u001b[1;32m    321\u001b[0m     \u001b[0;32mif\u001b[0m \u001b[0mreturn_argmin\u001b[0m\u001b[0;34m:\u001b[0m\u001b[0;34m\u001b[0m\u001b[0m\n\u001b[1;32m    322\u001b[0m         \u001b[0;32mreturn\u001b[0m \u001b[0mtrials\u001b[0m\u001b[0;34m.\u001b[0m\u001b[0margmin\u001b[0m\u001b[0;34m\u001b[0m\u001b[0m\n",
      "\u001b[0;32m/usr/local/lib/python2.7/dist-packages/hyperopt/fmin.py\u001b[0m in \u001b[0;36mexhaust\u001b[0;34m(self)\u001b[0m\n\u001b[1;32m    197\u001b[0m     \u001b[0;32mdef\u001b[0m \u001b[0mexhaust\u001b[0m\u001b[0;34m(\u001b[0m\u001b[0mself\u001b[0m\u001b[0;34m)\u001b[0m\u001b[0;34m:\u001b[0m\u001b[0;34m\u001b[0m\u001b[0m\n\u001b[1;32m    198\u001b[0m         \u001b[0mn_done\u001b[0m \u001b[0;34m=\u001b[0m \u001b[0mlen\u001b[0m\u001b[0;34m(\u001b[0m\u001b[0mself\u001b[0m\u001b[0;34m.\u001b[0m\u001b[0mtrials\u001b[0m\u001b[0;34m)\u001b[0m\u001b[0;34m\u001b[0m\u001b[0m\n\u001b[0;32m--> 199\u001b[0;31m         \u001b[0mself\u001b[0m\u001b[0;34m.\u001b[0m\u001b[0mrun\u001b[0m\u001b[0;34m(\u001b[0m\u001b[0mself\u001b[0m\u001b[0;34m.\u001b[0m\u001b[0mmax_evals\u001b[0m \u001b[0;34m-\u001b[0m \u001b[0mn_done\u001b[0m\u001b[0;34m,\u001b[0m \u001b[0mblock_until_done\u001b[0m\u001b[0;34m=\u001b[0m\u001b[0mself\u001b[0m\u001b[0;34m.\u001b[0m\u001b[0masync\u001b[0m\u001b[0;34m)\u001b[0m\u001b[0;34m\u001b[0m\u001b[0m\n\u001b[0m\u001b[1;32m    200\u001b[0m         \u001b[0mself\u001b[0m\u001b[0;34m.\u001b[0m\u001b[0mtrials\u001b[0m\u001b[0;34m.\u001b[0m\u001b[0mrefresh\u001b[0m\u001b[0;34m(\u001b[0m\u001b[0;34m)\u001b[0m\u001b[0;34m\u001b[0m\u001b[0m\n\u001b[1;32m    201\u001b[0m         \u001b[0;32mreturn\u001b[0m \u001b[0mself\u001b[0m\u001b[0;34m\u001b[0m\u001b[0m\n",
      "\u001b[0;32m/usr/local/lib/python2.7/dist-packages/hyperopt/fmin.py\u001b[0m in \u001b[0;36mrun\u001b[0;34m(self, N, block_until_done)\u001b[0m\n\u001b[1;32m    171\u001b[0m             \u001b[0;32melse\u001b[0m\u001b[0;34m:\u001b[0m\u001b[0;34m\u001b[0m\u001b[0m\n\u001b[1;32m    172\u001b[0m                 \u001b[0;31m# -- loop over trials and do the jobs directly\u001b[0m\u001b[0;34m\u001b[0m\u001b[0;34m\u001b[0m\u001b[0m\n\u001b[0;32m--> 173\u001b[0;31m                 \u001b[0mself\u001b[0m\u001b[0;34m.\u001b[0m\u001b[0mserial_evaluate\u001b[0m\u001b[0;34m(\u001b[0m\u001b[0;34m)\u001b[0m\u001b[0;34m\u001b[0m\u001b[0m\n\u001b[0m\u001b[1;32m    174\u001b[0m \u001b[0;34m\u001b[0m\u001b[0m\n\u001b[1;32m    175\u001b[0m             \u001b[0;32mif\u001b[0m \u001b[0mstopped\u001b[0m\u001b[0;34m:\u001b[0m\u001b[0;34m\u001b[0m\u001b[0m\n",
      "\u001b[0;32m/usr/local/lib/python2.7/dist-packages/hyperopt/fmin.py\u001b[0m in \u001b[0;36mserial_evaluate\u001b[0;34m(self, N)\u001b[0m\n\u001b[1;32m     90\u001b[0m                 \u001b[0mctrl\u001b[0m \u001b[0;34m=\u001b[0m \u001b[0mbase\u001b[0m\u001b[0;34m.\u001b[0m\u001b[0mCtrl\u001b[0m\u001b[0;34m(\u001b[0m\u001b[0mself\u001b[0m\u001b[0;34m.\u001b[0m\u001b[0mtrials\u001b[0m\u001b[0;34m,\u001b[0m \u001b[0mcurrent_trial\u001b[0m\u001b[0;34m=\u001b[0m\u001b[0mtrial\u001b[0m\u001b[0;34m)\u001b[0m\u001b[0;34m\u001b[0m\u001b[0m\n\u001b[1;32m     91\u001b[0m                 \u001b[0;32mtry\u001b[0m\u001b[0;34m:\u001b[0m\u001b[0;34m\u001b[0m\u001b[0m\n\u001b[0;32m---> 92\u001b[0;31m                     \u001b[0mresult\u001b[0m \u001b[0;34m=\u001b[0m \u001b[0mself\u001b[0m\u001b[0;34m.\u001b[0m\u001b[0mdomain\u001b[0m\u001b[0;34m.\u001b[0m\u001b[0mevaluate\u001b[0m\u001b[0;34m(\u001b[0m\u001b[0mspec\u001b[0m\u001b[0;34m,\u001b[0m \u001b[0mctrl\u001b[0m\u001b[0;34m)\u001b[0m\u001b[0;34m\u001b[0m\u001b[0m\n\u001b[0m\u001b[1;32m     93\u001b[0m                 \u001b[0;32mexcept\u001b[0m \u001b[0mException\u001b[0m \u001b[0;32mas\u001b[0m \u001b[0me\u001b[0m\u001b[0;34m:\u001b[0m\u001b[0;34m\u001b[0m\u001b[0m\n\u001b[1;32m     94\u001b[0m                     \u001b[0mlogger\u001b[0m\u001b[0;34m.\u001b[0m\u001b[0minfo\u001b[0m\u001b[0;34m(\u001b[0m\u001b[0;34m'job exception: %s'\u001b[0m \u001b[0;34m%\u001b[0m \u001b[0mstr\u001b[0m\u001b[0;34m(\u001b[0m\u001b[0me\u001b[0m\u001b[0;34m)\u001b[0m\u001b[0;34m)\u001b[0m\u001b[0;34m\u001b[0m\u001b[0m\n",
      "\u001b[0;32m/usr/local/lib/python2.7/dist-packages/hyperopt/base.py\u001b[0m in \u001b[0;36mevaluate\u001b[0;34m(self, config, ctrl, attach_attachments)\u001b[0m\n\u001b[1;32m    838\u001b[0m                 \u001b[0mmemo\u001b[0m\u001b[0;34m=\u001b[0m\u001b[0mmemo\u001b[0m\u001b[0;34m,\u001b[0m\u001b[0;34m\u001b[0m\u001b[0m\n\u001b[1;32m    839\u001b[0m                 print_node_on_error=self.rec_eval_print_node_on_error)\n\u001b[0;32m--> 840\u001b[0;31m             \u001b[0mrval\u001b[0m \u001b[0;34m=\u001b[0m \u001b[0mself\u001b[0m\u001b[0;34m.\u001b[0m\u001b[0mfn\u001b[0m\u001b[0;34m(\u001b[0m\u001b[0mpyll_rval\u001b[0m\u001b[0;34m)\u001b[0m\u001b[0;34m\u001b[0m\u001b[0m\n\u001b[0m\u001b[1;32m    841\u001b[0m \u001b[0;34m\u001b[0m\u001b[0m\n\u001b[1;32m    842\u001b[0m         \u001b[0;32mif\u001b[0m \u001b[0misinstance\u001b[0m\u001b[0;34m(\u001b[0m\u001b[0mrval\u001b[0m\u001b[0;34m,\u001b[0m \u001b[0;34m(\u001b[0m\u001b[0mfloat\u001b[0m\u001b[0;34m,\u001b[0m \u001b[0mint\u001b[0m\u001b[0;34m,\u001b[0m \u001b[0mnp\u001b[0m\u001b[0;34m.\u001b[0m\u001b[0mnumber\u001b[0m\u001b[0;34m)\u001b[0m\u001b[0;34m)\u001b[0m\u001b[0;34m:\u001b[0m\u001b[0;34m\u001b[0m\u001b[0m\n",
      "\u001b[0;32m<ipython-input-81-d90807de85d7>\u001b[0m in \u001b[0;36mscore\u001b[0;34m(params)\u001b[0m\n\u001b[1;32m     16\u001b[0m     \u001b[0mpredictions\u001b[0m \u001b[0;34m=\u001b[0m \u001b[0mgbm_model\u001b[0m\u001b[0;34m.\u001b[0m\u001b[0mpredict\u001b[0m\u001b[0;34m(\u001b[0m\u001b[0mdvalid\u001b[0m\u001b[0;34m,\u001b[0m \u001b[0mntree_limit\u001b[0m\u001b[0;34m=\u001b[0m\u001b[0mgbm_model\u001b[0m\u001b[0;34m.\u001b[0m\u001b[0mbest_iteration\u001b[0m\u001b[0;34m)\u001b[0m\u001b[0;34m\u001b[0m\u001b[0m\n\u001b[1;32m     17\u001b[0m     \u001b[0merror\u001b[0m \u001b[0;34m=\u001b[0m \u001b[0;34m(\u001b[0m\u001b[0my_val\u001b[0m \u001b[0;34m!=\u001b[0m \u001b[0mnp\u001b[0m\u001b[0;34m.\u001b[0m\u001b[0marray\u001b[0m\u001b[0;34m(\u001b[0m\u001b[0mpredictions\u001b[0m\u001b[0;34m)\u001b[0m\u001b[0;34m)\u001b[0m\u001b[0;34m.\u001b[0m\u001b[0mmean\u001b[0m\u001b[0;34m(\u001b[0m\u001b[0;34m)\u001b[0m\u001b[0;34m\u001b[0m\u001b[0m\n\u001b[0;32m---> 18\u001b[0;31m     \u001b[0;32mprint\u001b[0m\u001b[0;34m(\u001b[0m\u001b[0;34m\"mean accuracy: *.2f% \\%\"\u001b[0m \u001b[0;34m%\u001b[0m \u001b[0;34m(\u001b[0m\u001b[0;36m1\u001b[0m\u001b[0;34m-\u001b[0m\u001b[0merror\u001b[0m\u001b[0;34m)\u001b[0m \u001b[0;34m*\u001b[0m \u001b[0;36m100\u001b[0m\u001b[0;34m)\u001b[0m\u001b[0;34m\u001b[0m\u001b[0m\n\u001b[0m\u001b[1;32m     19\u001b[0m     \u001b[0;32mreturn\u001b[0m \u001b[0;34m{\u001b[0m\u001b[0;34m'loss'\u001b[0m\u001b[0;34m:\u001b[0m \u001b[0merror\u001b[0m\u001b[0;34m,\u001b[0m \u001b[0;34m'status'\u001b[0m\u001b[0;34m:\u001b[0m \u001b[0mSTATUS_OK\u001b[0m\u001b[0;34m}\u001b[0m\u001b[0;34m\u001b[0m\u001b[0m\n\u001b[1;32m     20\u001b[0m \u001b[0;34m\u001b[0m\u001b[0m\n",
      "\u001b[0;31mValueError\u001b[0m: unsupported format character '\\' (0x5c) at index 21"
     ]
    }
   ],
   "source": [
    "from hyperopt import STATUS_OK, Trials, fmin, hp, tpe\n",
    "import time\n",
    "import xgboost\n",
    "\n",
    "def score(params):\n",
    "    num_round = int(params['n_estimators'])\n",
    "    del params['n_estimators']\n",
    "    dtrain = xgboost.DMatrix(X_train, label=y_train)\n",
    "    dvalid = xgboost.DMatrix(X_val, label=y_val)\n",
    "    watchlist = [(dvalid, 'eval'), (dtrain, 'train')]\n",
    "    gbm_model = xgboost.train(params, \n",
    "                              dtrain, \n",
    "                              num_round,\n",
    "                              evals=watchlist,\n",
    "                              verbose_eval=False)\n",
    "    predictions = gbm_model.predict(dvalid, ntree_limit=gbm_model.best_iteration)\n",
    "    error = (y_val != np.array(predictions)).mean()\n",
    "    #print(\"mean accuracy: %0.2f %%\" % (1-error) * 100)\n",
    "    error_vec.append(error)\n",
    "    return {'loss': error, 'status': STATUS_OK}\n",
    "\n",
    "\n",
    "def optimize(evals, cores, trials, optimizer=tpe.suggest, random_state=0):\n",
    "    space = {\n",
    "        'num_class': len(label_encoder.classes_),\n",
    "        'n_estimators': hp.quniform('n_estimators', 300, 700, 1),\n",
    "        'eta': hp.quniform('eta', 0.025, 0.25, 0.025), \n",
    "        'max_depth':  hp.choice('max_depth', np.arange(5, 20, dtype=int)),\n",
    "        'min_child_weight': hp.quniform('min_child_weight', 1, 10, 1),\n",
    "        'subsample': hp.quniform('subsample', 0.7, 1, 0.05),\n",
    "        'gamma': hp.quniform('gamma', 0.5, 1, 0.05),\n",
    "        'colsample_bytree': hp.quniform('colsample_bytree', 0.7, 1, 0.05),\n",
    "        'alpha' :  hp.quniform('alpha', 0, 10, 1),\n",
    "        'lambda': hp.quniform('lambda', 1, 2, 0.1),\n",
    "        'nthread': cores,\n",
    "        'objective': 'multi:softmax',\n",
    "        'booster': 'gbtree',\n",
    "        'seed': random_state\n",
    "    }\n",
    "    best = fmin(score, space, algo=tpe.suggest, max_evals=evals, trials = trials)\n",
    "    return best\n",
    "    \n",
    "\n",
    "trials = Trials()\n",
    "cores = 4\n",
    "n= 1000\n",
    "error_vec = []\n",
    "start = time.time()\n",
    "best_param = optimize(evals = n,\n",
    "                      optimizer=tpe.suggest,\n",
    "                      cores = cores,\n",
    "                      trials = trials)\n",
    "print(\"------------------------------------\")\n",
    "print(\"The best hyperparameters are: \", \"\\n\")\n",
    "print(best_param)\n",
    "end = time.time()\n",
    "print('Time elapsed to optimize {0} executions: {1}'.format(n,end - start))"
   ]
  },
  {
   "cell_type": "markdown",
   "metadata": {},
   "source": [
    "## Learning curves"
   ]
  },
  {
   "cell_type": "code",
   "execution_count": 59,
   "metadata": {
    "collapsed": false
   },
   "outputs": [
    {
     "data": {
      "image/png": "[encoded data removed]",
      "text/plain": [
       "<matplotlib.figure.Figure at 0x7fcfa8d30d90>"
      ]
     },
     "metadata": {},
     "output_type": "display_data"
    },
    {
     "data": {
      "image/png": "[encoded data removed]",
      "text/plain": [
       "<matplotlib.figure.Figure at 0x7fcfa8113990>"
      ]
     },
     "metadata": {},
     "output_type": "display_data"
    }
   ],
   "source": [
    "\n",
    "import numpy as np\n",
    "import matplotlib.pyplot as plt\n",
    "from sklearn.naive_bayes import GaussianNB\n",
    "from sklearn.svm import SVC\n",
    "from sklearn.datasets import load_digits\n",
    "from sklearn.model_selection import learning_curve\n",
    "from sklearn.model_selection import ShuffleSplit\n",
    "from sklearn.linear_model import LogisticRegression\n",
    "from sklearn.metrics import roc_auc_score\n",
    "\n",
    "def plot_learning_curve(estimator, title, X, y, ylim=None, cv=None, scoring=None,\n",
    "                        n_jobs=1, train_sizes=np.linspace(.1, 1.0, 5)):\n",
    "    \"\"\"\n",
    "    Generate a simple plot of the test and training learning curve.\n",
    "\n",
    "    Parameters\n",
    "    ----------\n",
    "    estimator : object type that implements the \"fit\" and \"predict\" methods\n",
    "        An object of that type which is cloned for each validation.\n",
    "\n",
    "    title : string\n",
    "        Title for the chart.\n",
    "\n",
    "    X : array-like, shape (n_samples, n_features)\n",
    "        Training vector, where n_samples is the number of samples and\n",
    "        n_features is the number of features.\n",
    "\n",
    "    y : array-like, shape (n_samples) or (n_samples, n_features), optional\n",
    "        Target relative to X for classification or regression;\n",
    "        None for unsupervised learning.\n",
    "\n",
    "    ylim : tuple, shape (ymin, ymax), optional\n",
    "        Defines minimum and maximum yvalues plotted.\n",
    "\n",
    "    cv : int, cross-validation generator or an iterable, optional\n",
    "        Determines the cross-validation splitting strategy.\n",
    "        Possible inputs for cv are:\n",
    "          - None, to use the default 3-fold cross-validation,\n",
    "          - integer, to specify the number of folds.\n",
    "          - An object to be used as a cross-validation generator.\n",
    "          - An iterable yielding train/test splits.\n",
    "\n",
    "        For integer/None inputs, if ``y`` is binary or multiclass,\n",
    "        :class:`StratifiedKFold` used. If the estimator is not a classifier\n",
    "        or if ``y`` is neither binary nor multiclass, :class:`KFold` is used.\n",
    "\n",
    "        Refer :ref:`User Guide <cross_validation>` for the various\n",
    "        cross-validators that can be used here.\n",
    "\n",
    "    n_jobs : integer, optional\n",
    "        Number of jobs to run in parallel (default 1).\n",
    "    \"\"\"\n",
    "    plt.figure()\n",
    "    plt.title(title)\n",
    "    if ylim is not None:\n",
    "        plt.ylim(*ylim)\n",
    "    plt.xlabel(\"Training examples\")\n",
    "    plt.ylabel(\"Score\")\n",
    "    train_sizes, train_scores, test_scores = learning_curve(\n",
    "        estimator, X, y, scoring=scoring, cv=cv, n_jobs=n_jobs, train_sizes=train_sizes)\n",
    "    train_scores_mean = np.mean(train_scores, axis=1)\n",
    "    train_scores_std = np.std(train_scores, axis=1)\n",
    "    test_scores_mean = np.mean(test_scores, axis=1)\n",
    "    test_scores_std = np.std(test_scores, axis=1)\n",
    "    plt.grid()\n",
    "\n",
    "    plt.fill_between(train_sizes, train_scores_mean - train_scores_std,\n",
    "                     train_scores_mean + train_scores_std, alpha=0.1,\n",
    "                     color=\"r\")\n",
    "    plt.fill_between(train_sizes, test_scores_mean - test_scores_std,\n",
    "                     test_scores_mean + test_scores_std, alpha=0.1, color=\"g\")\n",
    "    plt.plot(train_sizes, train_scores_mean, 'o-', color=\"r\",\n",
    "             label=\"Training score\")\n",
    "    plt.plot(train_sizes, test_scores_mean, 'o-', color=\"g\",\n",
    "             label=\"Cross-validation score\")\n",
    "\n",
    "    plt.legend(loc=\"best\")\n",
    "    return plt\n",
    "\n",
    "\n",
    "title = \"Learning Curves\"\n",
    "# SVC is more expensive so we do a lower number of CV iterations:\n",
    "#cv = ShuffleSplit(n_splits=10, test_size=0.2, random_state=0)\n",
    "#estimator = SVC(gamma=0.01)\n",
    "#plot_learning_curve(estimator, title, X, y, (0.7, 1.01), cv=cv, n_jobs=4)\n",
    "#estimator = LogisticRegression(C=1)\n",
    "#estimator = gs.best_estimator_\n",
    "#estimator = LogisticRegression(C=3, solver='newton-cg', max_iter=20)# class_weight = 'balanced')\n",
    "estimator = LogisticRegression(C=10)\n",
    "   \n",
    "plot_learning_curve(estimator, title, tfidf, tweets_df['cat_encoded'], n_jobs=4, cv=10)\n",
    "\n",
    "\n",
    "plt.show()"
   ]
  },
  {
   "cell_type": "markdown",
   "metadata": {},
   "source": [
    "## One-vs-all Classification"
   ]
  },
  {
   "cell_type": "code",
   "execution_count": 39,
   "metadata": {
    "collapsed": true
   },
   "outputs": [],
   "source": [
    "tweets_df_sports = tweets_df.copy()"
   ]
  },
  {
   "cell_type": "code",
   "execution_count": 42,
   "metadata": {
    "collapsed": false
   },
   "outputs": [
    {
     "data": {
      "text/plain": [
       "{0: 'Heath', 1: 'Sports', 2: 'Tech', 3: 'Weather'}"
      ]
     },
     "execution_count": 42,
     "metadata": {},
     "output_type": "execute_result"
    }
   ],
   "source": [
    "label_class_map = dict(set(zip(tweets_df['cat_encoded'], tweets_df['cat'])))\n",
    "label_class_map"
   ]
  },
  {
   "cell_type": "code",
   "execution_count": 40,
   "metadata": {
    "collapsed": false
   },
   "outputs": [
    {
     "data": {
      "text/html": [
       "<div>\n",
       "<table border=\"1\" class=\"dataframe\">\n",
       "  <thead>\n",
       "    <tr style=\"text-align: right;\">\n",
       "      <th></th>\n",
       "      <th>index</th>\n",
       "      <th>id</th>\n",
       "      <th>text</th>\n",
       "      <th>user</th>\n",
       "      <th>cat</th>\n",
       "      <th>cat_encoded</th>\n",
       "      <th>text_processed</th>\n",
       "    </tr>\n",
       "  </thead>\n",
       "  <tbody>\n",
       "    <tr>\n",
       "      <th>0</th>\n",
       "      <td>59277</td>\n",
       "      <td>1009757146484011008</td>\n",
       "      <td>Lydia now supports Samsung Pay by @romaindille...</td>\n",
       "      <td>TechCrunch</td>\n",
       "      <td>Tech</td>\n",
       "      <td>2</td>\n",
       "      <td>lydia now support samsung pay @romaindillet</td>\n",
       "    </tr>\n",
       "    <tr>\n",
       "      <th>1</th>\n",
       "      <td>18216</td>\n",
       "      <td>935389724168019968</td>\n",
       "      <td>RT @bmrwoods: Jelena Dokic pops in to discuss ...</td>\n",
       "      <td>FOXSportsNews</td>\n",
       "      <td>Sports</td>\n",
       "      <td>1</td>\n",
       "      <td>@bmrwoods: jelena dokic pop discus reaction he...</td>\n",
       "    </tr>\n",
       "    <tr>\n",
       "      <th>2</th>\n",
       "      <td>56763</td>\n",
       "      <td>904962495365963776</td>\n",
       "      <td>China bans initial coin offerings calling them...</td>\n",
       "      <td>BBCTech</td>\n",
       "      <td>Tech</td>\n",
       "      <td>2</td>\n",
       "      <td>china ban initial coin offer call them 'illega...</td>\n",
       "    </tr>\n",
       "    <tr>\n",
       "      <th>3</th>\n",
       "      <td>6496</td>\n",
       "      <td>928231249621274624</td>\n",
       "      <td>RT @rkotinsky: Good Morning from Florida - @GM...</td>\n",
       "      <td>bn9weather</td>\n",
       "      <td>Weather</td>\n",
       "      <td>3</td>\n",
       "      <td>@rkotinsky: good morning from florida @gma @bn...</td>\n",
       "    </tr>\n",
       "    <tr>\n",
       "      <th>4</th>\n",
       "      <td>14617</td>\n",
       "      <td>992133657157566465</td>\n",
       "      <td>Jason Vargas’ second poor start dooms Mets as ...</td>\n",
       "      <td>NewsdaySports</td>\n",
       "      <td>Sports</td>\n",
       "      <td>1</td>\n",
       "      <td>jason vargas second poor start doom mets brave...</td>\n",
       "    </tr>\n",
       "  </tbody>\n",
       "</table>\n",
       "</div>"
      ],
      "text/plain": [
       "   index                   id  \\\n",
       "0  59277  1009757146484011008   \n",
       "1  18216   935389724168019968   \n",
       "2  56763   904962495365963776   \n",
       "3   6496   928231249621274624   \n",
       "4  14617   992133657157566465   \n",
       "\n",
       "                                                text           user      cat  \\\n",
       "0  Lydia now supports Samsung Pay by @romaindille...     TechCrunch     Tech   \n",
       "1  RT @bmrwoods: Jelena Dokic pops in to discuss ...  FOXSportsNews   Sports   \n",
       "2  China bans initial coin offerings calling them...        BBCTech     Tech   \n",
       "3  RT @rkotinsky: Good Morning from Florida - @GM...     bn9weather  Weather   \n",
       "4  Jason Vargas’ second poor start dooms Mets as ...  NewsdaySports   Sports   \n",
       "\n",
       "   cat_encoded                                     text_processed  \n",
       "0            2        lydia now support samsung pay @romaindillet  \n",
       "1            1  @bmrwoods: jelena dokic pop discus reaction he...  \n",
       "2            2  china ban initial coin offer call them 'illega...  \n",
       "3            3  @rkotinsky: good morning from florida @gma @bn...  \n",
       "4            1  jason vargas second poor start doom mets brave...  "
      ]
     },
     "execution_count": 40,
     "metadata": {},
     "output_type": "execute_result"
    }
   ],
   "source": [
    "tweets_df.head()"
   ]
  },
  {
   "cell_type": "code",
   "execution_count": 43,
   "metadata": {
    "collapsed": false
   },
   "outputs": [],
   "source": [
    "tweets_df_sports['sports'] = (tweets_df['cat_encoded'] == 3).astype(int)"
   ]
  },
  {
   "cell_type": "code",
   "execution_count": 44,
   "metadata": {
    "collapsed": false
   },
   "outputs": [
    {
     "data": {
      "text/html": [
       "<div>\n",
       "<table border=\"1\" class=\"dataframe\">\n",
       "  <thead>\n",
       "    <tr style=\"text-align: right;\">\n",
       "      <th></th>\n",
       "      <th>index</th>\n",
       "      <th>id</th>\n",
       "      <th>text</th>\n",
       "      <th>user</th>\n",
       "      <th>cat</th>\n",
       "      <th>cat_encoded</th>\n",
       "      <th>text_processed</th>\n",
       "      <th>sports</th>\n",
       "    </tr>\n",
       "  </thead>\n",
       "  <tbody>\n",
       "    <tr>\n",
       "      <th>0</th>\n",
       "      <td>59277</td>\n",
       "      <td>1009757146484011008</td>\n",
       "      <td>Lydia now supports Samsung Pay by @romaindille...</td>\n",
       "      <td>TechCrunch</td>\n",
       "      <td>Tech</td>\n",
       "      <td>2</td>\n",
       "      <td>lydia now support samsung pay @romaindillet</td>\n",
       "      <td>0</td>\n",
       "    </tr>\n",
       "    <tr>\n",
       "      <th>1</th>\n",
       "      <td>18216</td>\n",
       "      <td>935389724168019968</td>\n",
       "      <td>RT @bmrwoods: Jelena Dokic pops in to discuss ...</td>\n",
       "      <td>FOXSportsNews</td>\n",
       "      <td>Sports</td>\n",
       "      <td>1</td>\n",
       "      <td>@bmrwoods: jelena dokic pop discus reaction he...</td>\n",
       "      <td>0</td>\n",
       "    </tr>\n",
       "    <tr>\n",
       "      <th>2</th>\n",
       "      <td>56763</td>\n",
       "      <td>904962495365963776</td>\n",
       "      <td>China bans initial coin offerings calling them...</td>\n",
       "      <td>BBCTech</td>\n",
       "      <td>Tech</td>\n",
       "      <td>2</td>\n",
       "      <td>china ban initial coin offer call them 'illega...</td>\n",
       "      <td>0</td>\n",
       "    </tr>\n",
       "    <tr>\n",
       "      <th>3</th>\n",
       "      <td>6496</td>\n",
       "      <td>928231249621274624</td>\n",
       "      <td>RT @rkotinsky: Good Morning from Florida - @GM...</td>\n",
       "      <td>bn9weather</td>\n",
       "      <td>Weather</td>\n",
       "      <td>3</td>\n",
       "      <td>@rkotinsky: good morning from florida @gma @bn...</td>\n",
       "      <td>1</td>\n",
       "    </tr>\n",
       "    <tr>\n",
       "      <th>4</th>\n",
       "      <td>14617</td>\n",
       "      <td>992133657157566465</td>\n",
       "      <td>Jason Vargas’ second poor start dooms Mets as ...</td>\n",
       "      <td>NewsdaySports</td>\n",
       "      <td>Sports</td>\n",
       "      <td>1</td>\n",
       "      <td>jason vargas second poor start doom mets brave...</td>\n",
       "      <td>0</td>\n",
       "    </tr>\n",
       "    <tr>\n",
       "      <th>5</th>\n",
       "      <td>44499</td>\n",
       "      <td>152078454697885696</td>\n",
       "      <td>Memo: Gingrich praised Romney health plan - Ya...</td>\n",
       "      <td>HealthHive</td>\n",
       "      <td>Heath</td>\n",
       "      <td>0</td>\n",
       "      <td>memo: gingrich praise romney health plan yahoo...</td>\n",
       "      <td>0</td>\n",
       "    </tr>\n",
       "    <tr>\n",
       "      <th>6</th>\n",
       "      <td>52016</td>\n",
       "      <td>976854258783047680</td>\n",
       "      <td>UPDATE: S&amp;amp;P 500 information technology ind...</td>\n",
       "      <td>ReutersTech</td>\n",
       "      <td>Tech</td>\n",
       "      <td>2</td>\n",
       "      <td>update: amp 500 information technology index d...</td>\n",
       "      <td>0</td>\n",
       "    </tr>\n",
       "    <tr>\n",
       "      <th>7</th>\n",
       "      <td>34313</td>\n",
       "      <td>872491622541344768</td>\n",
       "      <td>If The Individual Insurance Market Crashes, Ca...</td>\n",
       "      <td>NPRHealth</td>\n",
       "      <td>Heath</td>\n",
       "      <td>0</td>\n",
       "      <td>the individual insurance market crashes can pe...</td>\n",
       "      <td>0</td>\n",
       "    </tr>\n",
       "    <tr>\n",
       "      <th>8</th>\n",
       "      <td>63816</td>\n",
       "      <td>995044289796177921</td>\n",
       "      <td>Boston Dynamics will start selling its dog-lik...</td>\n",
       "      <td>TechCrunch</td>\n",
       "      <td>Tech</td>\n",
       "      <td>2</td>\n",
       "      <td>boston dynamics will start sell doglike spotmi...</td>\n",
       "      <td>0</td>\n",
       "    </tr>\n",
       "    <tr>\n",
       "      <th>9</th>\n",
       "      <td>54735</td>\n",
       "      <td>950121865372229632</td>\n",
       "      <td>CES 2018: Can your saliva affect the way you s...</td>\n",
       "      <td>BBCTech</td>\n",
       "      <td>Tech</td>\n",
       "      <td>2</td>\n",
       "      <td>ces 2018: can your saliva affect the way you shop</td>\n",
       "      <td>0</td>\n",
       "    </tr>\n",
       "    <tr>\n",
       "      <th>10</th>\n",
       "      <td>968</td>\n",
       "      <td>976178801116934149</td>\n",
       "      <td>RT @kellysonnenburg: Wow! Significant hail bei...</td>\n",
       "      <td>TheWeatherNetUS</td>\n",
       "      <td>Weather</td>\n",
       "      <td>3</td>\n",
       "      <td>@kellysonnenburg: wow significant hail produce...</td>\n",
       "      <td>1</td>\n",
       "    </tr>\n",
       "    <tr>\n",
       "      <th>11</th>\n",
       "      <td>23425</td>\n",
       "      <td>964864597634232320</td>\n",
       "      <td>Following the money between patient groups and...</td>\n",
       "      <td>CBCHealth</td>\n",
       "      <td>Heath</td>\n",
       "      <td>0</td>\n",
       "      <td>following the money between patient group and ...</td>\n",
       "      <td>0</td>\n",
       "    </tr>\n",
       "    <tr>\n",
       "      <th>12</th>\n",
       "      <td>47579</td>\n",
       "      <td>1001584135113146368</td>\n",
       "      <td>Tesla in 'Autopilot' mode crashes into parked ...</td>\n",
       "      <td>ReutersTech</td>\n",
       "      <td>Tech</td>\n",
       "      <td>2</td>\n",
       "      <td>tesla 'autopilot' mode crash into park police ...</td>\n",
       "      <td>0</td>\n",
       "    </tr>\n",
       "    <tr>\n",
       "      <th>13</th>\n",
       "      <td>44822</td>\n",
       "      <td>123947188756807680</td>\n",
       "      <td>why is it that hate comes out so easily, yet.....</td>\n",
       "      <td>HealthHive</td>\n",
       "      <td>Heath</td>\n",
       "      <td>0</td>\n",
       "      <td>why that hate come out easily yet.love get tra...</td>\n",
       "      <td>0</td>\n",
       "    </tr>\n",
       "    <tr>\n",
       "      <th>14</th>\n",
       "      <td>24714</td>\n",
       "      <td>865564315021041665</td>\n",
       "      <td>Living with lupus: what it's like having an in...</td>\n",
       "      <td>CBCHealth</td>\n",
       "      <td>Heath</td>\n",
       "      <td>0</td>\n",
       "      <td>living with lupus: what it's like have invisib...</td>\n",
       "      <td>0</td>\n",
       "    </tr>\n",
       "    <tr>\n",
       "      <th>15</th>\n",
       "      <td>21589</td>\n",
       "      <td>979332109994250240</td>\n",
       "      <td>BREAKING: @CricketAus chief executive James Su...</td>\n",
       "      <td>SkySportsNews</td>\n",
       "      <td>Sports</td>\n",
       "      <td>1</td>\n",
       "      <td>breaking: @cricketaus chief executive james su...</td>\n",
       "      <td>0</td>\n",
       "    </tr>\n",
       "    <tr>\n",
       "      <th>16</th>\n",
       "      <td>50371</td>\n",
       "      <td>931177238615207936</td>\n",
       "      <td>Mysterious interstellar visitor gets named via...</td>\n",
       "      <td>FoxNewsTech</td>\n",
       "      <td>Tech</td>\n",
       "      <td>2</td>\n",
       "      <td>mysterious interstellar visitor get name via @...</td>\n",
       "      <td>0</td>\n",
       "    </tr>\n",
       "    <tr>\n",
       "      <th>17</th>\n",
       "      <td>21340</td>\n",
       "      <td>984775517835595776</td>\n",
       "      <td>BREAKING: Premier League clubs vote against in...</td>\n",
       "      <td>SkySportsNews</td>\n",
       "      <td>Sports</td>\n",
       "      <td>1</td>\n",
       "      <td>breaking: premier league club vote against int...</td>\n",
       "      <td>0</td>\n",
       "    </tr>\n",
       "    <tr>\n",
       "      <th>18</th>\n",
       "      <td>28584</td>\n",
       "      <td>723231778358603776</td>\n",
       "      <td>Popular over-the-counter drugs for colds, alle...</td>\n",
       "      <td>CBSHealth</td>\n",
       "      <td>Heath</td>\n",
       "      <td>0</td>\n",
       "      <td>popular overthecounter drug for cold allergy s...</td>\n",
       "      <td>0</td>\n",
       "    </tr>\n",
       "    <tr>\n",
       "      <th>19</th>\n",
       "      <td>22411</td>\n",
       "      <td>964498159773810691</td>\n",
       "      <td>RT @SkyCricket: Ben Stokes has landed in New Z...</td>\n",
       "      <td>SkySportsNews</td>\n",
       "      <td>Sports</td>\n",
       "      <td>1</td>\n",
       "      <td>@skycricket: ben stokes have land new zealand ...</td>\n",
       "      <td>0</td>\n",
       "    </tr>\n",
       "    <tr>\n",
       "      <th>20</th>\n",
       "      <td>312</td>\n",
       "      <td>1010158206381973504</td>\n",
       "      <td>Juli Marquez: #Klystron9 just before 10 a.m. F...</td>\n",
       "      <td>bn9weather</td>\n",
       "      <td>Weather</td>\n",
       "      <td>3</td>\n",
       "      <td>juli marquez: #klystron9 just before a.m frida...</td>\n",
       "      <td>1</td>\n",
       "    </tr>\n",
       "    <tr>\n",
       "      <th>21</th>\n",
       "      <td>31839</td>\n",
       "      <td>959538306588356608</td>\n",
       "      <td>Indiana Adds Work Requirement To Medicaid, Wil...</td>\n",
       "      <td>NPRHealth</td>\n",
       "      <td>Heath</td>\n",
       "      <td>0</td>\n",
       "      <td>indiana adds work requirement medicaid will bl...</td>\n",
       "      <td>0</td>\n",
       "    </tr>\n",
       "    <tr>\n",
       "      <th>22</th>\n",
       "      <td>50802</td>\n",
       "      <td>923186726260150272</td>\n",
       "      <td>Top 25 cities for UFO sightings across the US ...</td>\n",
       "      <td>FoxNewsTech</td>\n",
       "      <td>Tech</td>\n",
       "      <td>2</td>\n",
       "      <td>top city for ufo sight across the #fntech</td>\n",
       "      <td>0</td>\n",
       "    </tr>\n",
       "    <tr>\n",
       "      <th>23</th>\n",
       "      <td>67169</td>\n",
       "      <td>835643697480019969</td>\n",
       "      <td>Security breach allows unchecked passengers on...</td>\n",
       "      <td>NBCNewsTech</td>\n",
       "      <td>Tech</td>\n",
       "      <td>2</td>\n",
       "      <td>security breach allow unchecked passenger flig...</td>\n",
       "      <td>0</td>\n",
       "    </tr>\n",
       "    <tr>\n",
       "      <th>24</th>\n",
       "      <td>50095</td>\n",
       "      <td>986969693541076993</td>\n",
       "      <td>ZTE woes may boost network rivals Ericsson and...</td>\n",
       "      <td>ReutersTech</td>\n",
       "      <td>Tech</td>\n",
       "      <td>2</td>\n",
       "      <td>zte woe may boost network rival ericsson and n...</td>\n",
       "      <td>0</td>\n",
       "    </tr>\n",
       "    <tr>\n",
       "      <th>25</th>\n",
       "      <td>51225</td>\n",
       "      <td>915573453184487424</td>\n",
       "      <td>RT @NASAhistory: #OTD in 1957, Sputnik launche...</td>\n",
       "      <td>FoxNewsTech</td>\n",
       "      <td>Tech</td>\n",
       "      <td>2</td>\n",
       "      <td>@nasahistory: #otd 1957 sputnik launch mark th...</td>\n",
       "      <td>0</td>\n",
       "    </tr>\n",
       "    <tr>\n",
       "      <th>26</th>\n",
       "      <td>62987</td>\n",
       "      <td>997659103475331072</td>\n",
       "      <td>Want to work in robotics? Claire Delaunay, VP ...</td>\n",
       "      <td>TechCrunch</td>\n",
       "      <td>Tech</td>\n",
       "      <td>2</td>\n",
       "      <td>want work robotics claire delaunay engineer nv...</td>\n",
       "      <td>0</td>\n",
       "    </tr>\n",
       "    <tr>\n",
       "      <th>27</th>\n",
       "      <td>31246</td>\n",
       "      <td>987095027812786176</td>\n",
       "      <td>E.Coli Outbreak Linked To Romaine Lettuce Spre...</td>\n",
       "      <td>NPRHealth</td>\n",
       "      <td>Heath</td>\n",
       "      <td>0</td>\n",
       "      <td>e.coli outbreak linked romaine lettuce spreads...</td>\n",
       "      <td>0</td>\n",
       "    </tr>\n",
       "    <tr>\n",
       "      <th>28</th>\n",
       "      <td>63369</td>\n",
       "      <td>996704064015564800</td>\n",
       "      <td>Society needs the Artificial Intelligence Data...</td>\n",
       "      <td>TechCrunch</td>\n",
       "      <td>Tech</td>\n",
       "      <td>2</td>\n",
       "      <td>society need the artificial intelligence data ...</td>\n",
       "      <td>0</td>\n",
       "    </tr>\n",
       "    <tr>\n",
       "      <th>29</th>\n",
       "      <td>36778</td>\n",
       "      <td>791357758951915520</td>\n",
       "      <td>Settlement Deal Reached In 2014 West Virginia ...</td>\n",
       "      <td>NPRHealth</td>\n",
       "      <td>Heath</td>\n",
       "      <td>0</td>\n",
       "      <td>settlement deal reached 2014 west virginia che...</td>\n",
       "      <td>0</td>\n",
       "    </tr>\n",
       "    <tr>\n",
       "      <th>...</th>\n",
       "      <td>...</td>\n",
       "      <td>...</td>\n",
       "      <td>...</td>\n",
       "      <td>...</td>\n",
       "      <td>...</td>\n",
       "      <td>...</td>\n",
       "      <td>...</td>\n",
       "      <td>...</td>\n",
       "    </tr>\n",
       "    <tr>\n",
       "      <th>73647</th>\n",
       "      <td>73105</td>\n",
       "      <td>544932072323031040</td>\n",
       "      <td>Apple halts online sales in Russia due to 'ext...</td>\n",
       "      <td>breakingbytes</td>\n",
       "      <td>Tech</td>\n",
       "      <td>2</td>\n",
       "      <td>apple halt online sale russia due 'extreme flu...</td>\n",
       "      <td>0</td>\n",
       "    </tr>\n",
       "    <tr>\n",
       "      <th>73648</th>\n",
       "      <td>47471</td>\n",
       "      <td>983703649082847233</td>\n",
       "      <td>Hubble Telescope discovers a light-bending 'Ei...</td>\n",
       "      <td>FoxNewsTech</td>\n",
       "      <td>Tech</td>\n",
       "      <td>2</td>\n",
       "      <td>hubble telescope discover lightbending 'einste...</td>\n",
       "      <td>0</td>\n",
       "    </tr>\n",
       "    <tr>\n",
       "      <th>73649</th>\n",
       "      <td>5327</td>\n",
       "      <td>961621884856086534</td>\n",
       "      <td>RT @rkotinsky: A Rift in Time  -  Feb 8th 2018...</td>\n",
       "      <td>bn9weather</td>\n",
       "      <td>Weather</td>\n",
       "      <td>3</td>\n",
       "      <td>@rkotinsky: rift time feb 8th 2018 valrico flo...</td>\n",
       "      <td>1</td>\n",
       "    </tr>\n",
       "    <tr>\n",
       "      <th>73650</th>\n",
       "      <td>34372</td>\n",
       "      <td>870381224270864384</td>\n",
       "      <td>Cracking The Code That Lets The Brain ID Any F...</td>\n",
       "      <td>NPRHealth</td>\n",
       "      <td>Heath</td>\n",
       "      <td>0</td>\n",
       "      <td>cracking the code that lets the brain any face...</td>\n",
       "      <td>0</td>\n",
       "    </tr>\n",
       "    <tr>\n",
       "      <th>73651</th>\n",
       "      <td>56959</td>\n",
       "      <td>978321835665346560</td>\n",
       "      <td>RT @crypto: JUST IN: Twitter joins Facebook an...</td>\n",
       "      <td>technology</td>\n",
       "      <td>Tech</td>\n",
       "      <td>2</td>\n",
       "      <td>@crypto: just in: twitter join facebook and go...</td>\n",
       "      <td>0</td>\n",
       "    </tr>\n",
       "    <tr>\n",
       "      <th>73652</th>\n",
       "      <td>10906</td>\n",
       "      <td>1009110228934148096</td>\n",
       "      <td>RT @htTweets: England 446/3 (45.3 ovs) notch t...</td>\n",
       "      <td>HTSportsNews</td>\n",
       "      <td>Sports</td>\n",
       "      <td>1</td>\n",
       "      <td>@httweets: england 446/3 (45.3 ovs) notch the ...</td>\n",
       "      <td>0</td>\n",
       "    </tr>\n",
       "    <tr>\n",
       "      <th>73653</th>\n",
       "      <td>37274</td>\n",
       "      <td>915262228303147010</td>\n",
       "      <td>Taking the pulse https://t.co/mvLW6tjuFx</td>\n",
       "      <td>bbchealth</td>\n",
       "      <td>Heath</td>\n",
       "      <td>0</td>\n",
       "      <td>taking the pulse</td>\n",
       "      <td>0</td>\n",
       "    </tr>\n",
       "    <tr>\n",
       "      <th>73654</th>\n",
       "      <td>72483</td>\n",
       "      <td>691633182047932416</td>\n",
       "      <td>Shares of Twitter open lower by more than 7.2%...</td>\n",
       "      <td>breakingbytes</td>\n",
       "      <td>Tech</td>\n",
       "      <td>2</td>\n",
       "      <td>shares twitter open lower more than 7.2 after ...</td>\n",
       "      <td>0</td>\n",
       "    </tr>\n",
       "    <tr>\n",
       "      <th>73655</th>\n",
       "      <td>29285</td>\n",
       "      <td>1005965412985704448</td>\n",
       "      <td>Why mental health advocates use the words 'die...</td>\n",
       "      <td>NBCNewsHealth</td>\n",
       "      <td>Heath</td>\n",
       "      <td>0</td>\n",
       "      <td>why mental health advocate use the word 'died ...</td>\n",
       "      <td>0</td>\n",
       "    </tr>\n",
       "    <tr>\n",
       "      <th>73656</th>\n",
       "      <td>62388</td>\n",
       "      <td>953685487709016065</td>\n",
       "      <td>Google launches service to extend reach of mac...</td>\n",
       "      <td>fttechnews</td>\n",
       "      <td>Tech</td>\n",
       "      <td>2</td>\n",
       "      <td>google launch service extend reach machine learn</td>\n",
       "      <td>0</td>\n",
       "    </tr>\n",
       "    <tr>\n",
       "      <th>73657</th>\n",
       "      <td>589</td>\n",
       "      <td>996766556964179973</td>\n",
       "      <td>Fine for most tomorrow, although cloudy at tim...</td>\n",
       "      <td>SkyNewsWeather</td>\n",
       "      <td>Weather</td>\n",
       "      <td>3</td>\n",
       "      <td>fine for most tomorrow although cloudy time es...</td>\n",
       "      <td>1</td>\n",
       "    </tr>\n",
       "    <tr>\n",
       "      <th>73658</th>\n",
       "      <td>59846</td>\n",
       "      <td>990959333994352641</td>\n",
       "      <td>Fitbit shares sprint higher on new Google alli...</td>\n",
       "      <td>fttechnews</td>\n",
       "      <td>Tech</td>\n",
       "      <td>2</td>\n",
       "      <td>fitbit share sprint higher new google alliance</td>\n",
       "      <td>0</td>\n",
       "    </tr>\n",
       "    <tr>\n",
       "      <th>73659</th>\n",
       "      <td>63897</td>\n",
       "      <td>925821370042286080</td>\n",
       "      <td>Facebook warns about security costs even as ea...</td>\n",
       "      <td>fttechnews</td>\n",
       "      <td>Tech</td>\n",
       "      <td>2</td>\n",
       "      <td>facebook warn about security cost even earn to...</td>\n",
       "      <td>0</td>\n",
       "    </tr>\n",
       "    <tr>\n",
       "      <th>73660</th>\n",
       "      <td>35224</td>\n",
       "      <td>975641250010488832</td>\n",
       "      <td>What does the inside of your knee sound like? ...</td>\n",
       "      <td>bbchealth</td>\n",
       "      <td>Heath</td>\n",
       "      <td>0</td>\n",
       "      <td>what the inside your knee sound like</td>\n",
       "      <td>0</td>\n",
       "    </tr>\n",
       "    <tr>\n",
       "      <th>73661</th>\n",
       "      <td>41109</td>\n",
       "      <td>344541182694678528</td>\n",
       "      <td>Mental health care: Steinberg's innovative pla...</td>\n",
       "      <td>HealthHive</td>\n",
       "      <td>Heath</td>\n",
       "      <td>0</td>\n",
       "      <td>mental health care: steinberg's innovative pla...</td>\n",
       "      <td>0</td>\n",
       "    </tr>\n",
       "    <tr>\n",
       "      <th>73662</th>\n",
       "      <td>3714</td>\n",
       "      <td>1007084388373450754</td>\n",
       "      <td>.@mcclureWX: Rain coverage today (Wed, June 13...</td>\n",
       "      <td>bn9weather</td>\n",
       "      <td>Weather</td>\n",
       "      <td>3</td>\n",
       "      <td>.@mcclurewx: rain coverage today (wed june 13)...</td>\n",
       "      <td>1</td>\n",
       "    </tr>\n",
       "    <tr>\n",
       "      <th>73663</th>\n",
       "      <td>828</td>\n",
       "      <td>984497131162660864</td>\n",
       "      <td>Harvey, Irma, Maria and Nate retired as hurric...</td>\n",
       "      <td>TheWeatherNetUS</td>\n",
       "      <td>Weather</td>\n",
       "      <td>3</td>\n",
       "      <td>harvey irma maria and nate retire hurricane na...</td>\n",
       "      <td>1</td>\n",
       "    </tr>\n",
       "    <tr>\n",
       "      <th>73664</th>\n",
       "      <td>3762</td>\n",
       "      <td>1005394274786185216</td>\n",
       "      <td>Josh Linker: Looking at Friday's coverage of r...</td>\n",
       "      <td>bn9weather</td>\n",
       "      <td>Weather</td>\n",
       "      <td>3</td>\n",
       "      <td>josh linker: looking friday's coverage rainfal...</td>\n",
       "      <td>1</td>\n",
       "    </tr>\n",
       "    <tr>\n",
       "      <th>73665</th>\n",
       "      <td>51223</td>\n",
       "      <td>915573505818841089</td>\n",
       "      <td>EU orders Amazon to pay 250 million Euros afte...</td>\n",
       "      <td>FoxNewsTech</td>\n",
       "      <td>Tech</td>\n",
       "      <td>2</td>\n",
       "      <td>order amazon pay 250 million euros after get i...</td>\n",
       "      <td>0</td>\n",
       "    </tr>\n",
       "    <tr>\n",
       "      <th>73666</th>\n",
       "      <td>63615</td>\n",
       "      <td>930158391485501440</td>\n",
       "      <td>Desmond’s planned lottery bid challenges Camel...</td>\n",
       "      <td>fttechnews</td>\n",
       "      <td>Tech</td>\n",
       "      <td>2</td>\n",
       "      <td>desmond plan lottery bid challenge camelot win...</td>\n",
       "      <td>0</td>\n",
       "    </tr>\n",
       "    <tr>\n",
       "      <th>73667</th>\n",
       "      <td>21897</td>\n",
       "      <td>973273319146434562</td>\n",
       "      <td>RT @SkySportsMNF: #MCFC XI to play #SCFC: Eder...</td>\n",
       "      <td>SkySportsNews</td>\n",
       "      <td>Sports</td>\n",
       "      <td>1</td>\n",
       "      <td>@skysportsmnf: #mcfc play #scfc: ederson walke...</td>\n",
       "      <td>0</td>\n",
       "    </tr>\n",
       "    <tr>\n",
       "      <th>73668</th>\n",
       "      <td>20038</td>\n",
       "      <td>1004384132091252746</td>\n",
       "      <td>WATCH:\\n\\n⏰Eight days and counting until the @...</td>\n",
       "      <td>SkySportsNews</td>\n",
       "      <td>Sports</td>\n",
       "      <td>1</td>\n",
       "      <td>watch: eight day and count until the @fifaworl...</td>\n",
       "      <td>0</td>\n",
       "    </tr>\n",
       "    <tr>\n",
       "      <th>73669</th>\n",
       "      <td>35793</td>\n",
       "      <td>958894877932183553</td>\n",
       "      <td>Average age of first stroke in England falls, ...</td>\n",
       "      <td>bbchealth</td>\n",
       "      <td>Heath</td>\n",
       "      <td>0</td>\n",
       "      <td>average age first stroke england fall figure show</td>\n",
       "      <td>0</td>\n",
       "    </tr>\n",
       "    <tr>\n",
       "      <th>73670</th>\n",
       "      <td>43505</td>\n",
       "      <td>252274058706690049</td>\n",
       "      <td>Compare battery health/cycles/age??: Apple Sup...</td>\n",
       "      <td>HealthHive</td>\n",
       "      <td>Heath</td>\n",
       "      <td>0</td>\n",
       "      <td>compare battery health/cycles/age apple suppor...</td>\n",
       "      <td>0</td>\n",
       "    </tr>\n",
       "    <tr>\n",
       "      <th>73671</th>\n",
       "      <td>12694</td>\n",
       "      <td>996947578661945344</td>\n",
       "      <td>.@AntoGriezmann sparkles as @Atleti clinch thi...</td>\n",
       "      <td>HTSportsNews</td>\n",
       "      <td>Sports</td>\n",
       "      <td>1</td>\n",
       "      <td>.@antogriezmann sparkle @atleti clinch third #...</td>\n",
       "      <td>0</td>\n",
       "    </tr>\n",
       "    <tr>\n",
       "      <th>73672</th>\n",
       "      <td>40717</td>\n",
       "      <td>350076483802365953</td>\n",
       "      <td>Type 1 diabetes vaccine shows promise in early...</td>\n",
       "      <td>HealthHive</td>\n",
       "      <td>Heath</td>\n",
       "      <td>0</td>\n",
       "      <td>type diabetes vaccine show promise early study...</td>\n",
       "      <td>0</td>\n",
       "    </tr>\n",
       "    <tr>\n",
       "      <th>73673</th>\n",
       "      <td>55680</td>\n",
       "      <td>927450698425556992</td>\n",
       "      <td>Police investigate 17 child sexting cases a da...</td>\n",
       "      <td>BBCTech</td>\n",
       "      <td>Tech</td>\n",
       "      <td>2</td>\n",
       "      <td>police investigate child sexting case day</td>\n",
       "      <td>0</td>\n",
       "    </tr>\n",
       "    <tr>\n",
       "      <th>73674</th>\n",
       "      <td>69219</td>\n",
       "      <td>1002233734815453184</td>\n",
       "      <td>OnePlus 6 Challenge Leaves iPhone X Outgunned\\...</td>\n",
       "      <td>ForbesTech</td>\n",
       "      <td>Tech</td>\n",
       "      <td>2</td>\n",
       "      <td>oneplus challenge leaves iphone outgunned</td>\n",
       "      <td>0</td>\n",
       "    </tr>\n",
       "    <tr>\n",
       "      <th>73675</th>\n",
       "      <td>72142</td>\n",
       "      <td>760463055360782336</td>\n",
       "      <td>Twitter rolling out Olympic emojis and hashtag...</td>\n",
       "      <td>breakingbytes</td>\n",
       "      <td>Tech</td>\n",
       "      <td>2</td>\n",
       "      <td>twitter roll out olympic emojis and hashtags l...</td>\n",
       "      <td>0</td>\n",
       "    </tr>\n",
       "    <tr>\n",
       "      <th>73676</th>\n",
       "      <td>27486</td>\n",
       "      <td>867132985832820738</td>\n",
       "      <td>The best and worst states for kids' safety in ...</td>\n",
       "      <td>CBSHealth</td>\n",
       "      <td>Heath</td>\n",
       "      <td>0</td>\n",
       "      <td>the best and worst state for kids' safety car ...</td>\n",
       "      <td>0</td>\n",
       "    </tr>\n",
       "  </tbody>\n",
       "</table>\n",
       "<p>73677 rows × 8 columns</p>\n",
       "</div>"
      ],
      "text/plain": [
       "       index                   id  \\\n",
       "0      59277  1009757146484011008   \n",
       "1      18216   935389724168019968   \n",
       "2      56763   904962495365963776   \n",
       "3       6496   928231249621274624   \n",
       "4      14617   992133657157566465   \n",
       "5      44499   152078454697885696   \n",
       "6      52016   976854258783047680   \n",
       "7      34313   872491622541344768   \n",
       "8      63816   995044289796177921   \n",
       "9      54735   950121865372229632   \n",
       "10       968   976178801116934149   \n",
       "11     23425   964864597634232320   \n",
       "12     47579  1001584135113146368   \n",
       "13     44822   123947188756807680   \n",
       "14     24714   865564315021041665   \n",
       "15     21589   979332109994250240   \n",
       "16     50371   931177238615207936   \n",
       "17     21340   984775517835595776   \n",
       "18     28584   723231778358603776   \n",
       "19     22411   964498159773810691   \n",
       "20       312  1010158206381973504   \n",
       "21     31839   959538306588356608   \n",
       "22     50802   923186726260150272   \n",
       "23     67169   835643697480019969   \n",
       "24     50095   986969693541076993   \n",
       "25     51225   915573453184487424   \n",
       "26     62987   997659103475331072   \n",
       "27     31246   987095027812786176   \n",
       "28     63369   996704064015564800   \n",
       "29     36778   791357758951915520   \n",
       "...      ...                  ...   \n",
       "73647  73105   544932072323031040   \n",
       "73648  47471   983703649082847233   \n",
       "73649   5327   961621884856086534   \n",
       "73650  34372   870381224270864384   \n",
       "73651  56959   978321835665346560   \n",
       "73652  10906  1009110228934148096   \n",
       "73653  37274   915262228303147010   \n",
       "73654  72483   691633182047932416   \n",
       "73655  29285  1005965412985704448   \n",
       "73656  62388   953685487709016065   \n",
       "73657    589   996766556964179973   \n",
       "73658  59846   990959333994352641   \n",
       "73659  63897   925821370042286080   \n",
       "73660  35224   975641250010488832   \n",
       "73661  41109   344541182694678528   \n",
       "73662   3714  1007084388373450754   \n",
       "73663    828   984497131162660864   \n",
       "73664   3762  1005394274786185216   \n",
       "73665  51223   915573505818841089   \n",
       "73666  63615   930158391485501440   \n",
       "73667  21897   973273319146434562   \n",
       "73668  20038  1004384132091252746   \n",
       "73669  35793   958894877932183553   \n",
       "73670  43505   252274058706690049   \n",
       "73671  12694   996947578661945344   \n",
       "73672  40717   350076483802365953   \n",
       "73673  55680   927450698425556992   \n",
       "73674  69219  1002233734815453184   \n",
       "73675  72142   760463055360782336   \n",
       "73676  27486   867132985832820738   \n",
       "\n",
       "                                                    text             user  \\\n",
       "0      Lydia now supports Samsung Pay by @romaindille...       TechCrunch   \n",
       "1      RT @bmrwoods: Jelena Dokic pops in to discuss ...    FOXSportsNews   \n",
       "2      China bans initial coin offerings calling them...          BBCTech   \n",
       "3      RT @rkotinsky: Good Morning from Florida - @GM...       bn9weather   \n",
       "4      Jason Vargas’ second poor start dooms Mets as ...    NewsdaySports   \n",
       "5      Memo: Gingrich praised Romney health plan - Ya...       HealthHive   \n",
       "6      UPDATE: S&amp;P 500 information technology ind...      ReutersTech   \n",
       "7      If The Individual Insurance Market Crashes, Ca...        NPRHealth   \n",
       "8      Boston Dynamics will start selling its dog-lik...       TechCrunch   \n",
       "9      CES 2018: Can your saliva affect the way you s...          BBCTech   \n",
       "10     RT @kellysonnenburg: Wow! Significant hail bei...  TheWeatherNetUS   \n",
       "11     Following the money between patient groups and...        CBCHealth   \n",
       "12     Tesla in 'Autopilot' mode crashes into parked ...      ReutersTech   \n",
       "13     why is it that hate comes out so easily, yet.....       HealthHive   \n",
       "14     Living with lupus: what it's like having an in...        CBCHealth   \n",
       "15     BREAKING: @CricketAus chief executive James Su...    SkySportsNews   \n",
       "16     Mysterious interstellar visitor gets named via...      FoxNewsTech   \n",
       "17     BREAKING: Premier League clubs vote against in...    SkySportsNews   \n",
       "18     Popular over-the-counter drugs for colds, alle...        CBSHealth   \n",
       "19     RT @SkyCricket: Ben Stokes has landed in New Z...    SkySportsNews   \n",
       "20     Juli Marquez: #Klystron9 just before 10 a.m. F...       bn9weather   \n",
       "21     Indiana Adds Work Requirement To Medicaid, Wil...        NPRHealth   \n",
       "22     Top 25 cities for UFO sightings across the US ...      FoxNewsTech   \n",
       "23     Security breach allows unchecked passengers on...      NBCNewsTech   \n",
       "24     ZTE woes may boost network rivals Ericsson and...      ReutersTech   \n",
       "25     RT @NASAhistory: #OTD in 1957, Sputnik launche...      FoxNewsTech   \n",
       "26     Want to work in robotics? Claire Delaunay, VP ...       TechCrunch   \n",
       "27     E.Coli Outbreak Linked To Romaine Lettuce Spre...        NPRHealth   \n",
       "28     Society needs the Artificial Intelligence Data...       TechCrunch   \n",
       "29     Settlement Deal Reached In 2014 West Virginia ...        NPRHealth   \n",
       "...                                                  ...              ...   \n",
       "73647  Apple halts online sales in Russia due to 'ext...    breakingbytes   \n",
       "73648  Hubble Telescope discovers a light-bending 'Ei...      FoxNewsTech   \n",
       "73649  RT @rkotinsky: A Rift in Time  -  Feb 8th 2018...       bn9weather   \n",
       "73650  Cracking The Code That Lets The Brain ID Any F...        NPRHealth   \n",
       "73651  RT @crypto: JUST IN: Twitter joins Facebook an...       technology   \n",
       "73652  RT @htTweets: England 446/3 (45.3 ovs) notch t...     HTSportsNews   \n",
       "73653           Taking the pulse https://t.co/mvLW6tjuFx        bbchealth   \n",
       "73654  Shares of Twitter open lower by more than 7.2%...    breakingbytes   \n",
       "73655  Why mental health advocates use the words 'die...    NBCNewsHealth   \n",
       "73656  Google launches service to extend reach of mac...       fttechnews   \n",
       "73657  Fine for most tomorrow, although cloudy at tim...   SkyNewsWeather   \n",
       "73658  Fitbit shares sprint higher on new Google alli...       fttechnews   \n",
       "73659  Facebook warns about security costs even as ea...       fttechnews   \n",
       "73660  What does the inside of your knee sound like? ...        bbchealth   \n",
       "73661  Mental health care: Steinberg's innovative pla...       HealthHive   \n",
       "73662  .@mcclureWX: Rain coverage today (Wed, June 13...       bn9weather   \n",
       "73663  Harvey, Irma, Maria and Nate retired as hurric...  TheWeatherNetUS   \n",
       "73664  Josh Linker: Looking at Friday's coverage of r...       bn9weather   \n",
       "73665  EU orders Amazon to pay 250 million Euros afte...      FoxNewsTech   \n",
       "73666  Desmond’s planned lottery bid challenges Camel...       fttechnews   \n",
       "73667  RT @SkySportsMNF: #MCFC XI to play #SCFC: Eder...    SkySportsNews   \n",
       "73668  WATCH:\\n\\n⏰Eight days and counting until the @...    SkySportsNews   \n",
       "73669  Average age of first stroke in England falls, ...        bbchealth   \n",
       "73670  Compare battery health/cycles/age??: Apple Sup...       HealthHive   \n",
       "73671  .@AntoGriezmann sparkles as @Atleti clinch thi...     HTSportsNews   \n",
       "73672  Type 1 diabetes vaccine shows promise in early...       HealthHive   \n",
       "73673  Police investigate 17 child sexting cases a da...          BBCTech   \n",
       "73674  OnePlus 6 Challenge Leaves iPhone X Outgunned\\...       ForbesTech   \n",
       "73675  Twitter rolling out Olympic emojis and hashtag...    breakingbytes   \n",
       "73676  The best and worst states for kids' safety in ...        CBSHealth   \n",
       "\n",
       "           cat  cat_encoded  \\\n",
       "0         Tech            2   \n",
       "1       Sports            1   \n",
       "2         Tech            2   \n",
       "3      Weather            3   \n",
       "4       Sports            1   \n",
       "5        Heath            0   \n",
       "6         Tech            2   \n",
       "7        Heath            0   \n",
       "8         Tech            2   \n",
       "9         Tech            2   \n",
       "10     Weather            3   \n",
       "11       Heath            0   \n",
       "12        Tech            2   \n",
       "13       Heath            0   \n",
       "14       Heath            0   \n",
       "15      Sports            1   \n",
       "16        Tech            2   \n",
       "17      Sports            1   \n",
       "18       Heath            0   \n",
       "19      Sports            1   \n",
       "20     Weather            3   \n",
       "21       Heath            0   \n",
       "22        Tech            2   \n",
       "23        Tech            2   \n",
       "24        Tech            2   \n",
       "25        Tech            2   \n",
       "26        Tech            2   \n",
       "27       Heath            0   \n",
       "28        Tech            2   \n",
       "29       Heath            0   \n",
       "...        ...          ...   \n",
       "73647     Tech            2   \n",
       "73648     Tech            2   \n",
       "73649  Weather            3   \n",
       "73650    Heath            0   \n",
       "73651     Tech            2   \n",
       "73652   Sports            1   \n",
       "73653    Heath            0   \n",
       "73654     Tech            2   \n",
       "73655    Heath            0   \n",
       "73656     Tech            2   \n",
       "73657  Weather            3   \n",
       "73658     Tech            2   \n",
       "73659     Tech            2   \n",
       "73660    Heath            0   \n",
       "73661    Heath            0   \n",
       "73662  Weather            3   \n",
       "73663  Weather            3   \n",
       "73664  Weather            3   \n",
       "73665     Tech            2   \n",
       "73666     Tech            2   \n",
       "73667   Sports            1   \n",
       "73668   Sports            1   \n",
       "73669    Heath            0   \n",
       "73670    Heath            0   \n",
       "73671   Sports            1   \n",
       "73672    Heath            0   \n",
       "73673     Tech            2   \n",
       "73674     Tech            2   \n",
       "73675     Tech            2   \n",
       "73676    Heath            0   \n",
       "\n",
       "                                          text_processed  sports  \n",
       "0            lydia now support samsung pay @romaindillet       0  \n",
       "1      @bmrwoods: jelena dokic pop discus reaction he...       0  \n",
       "2      china ban initial coin offer call them 'illega...       0  \n",
       "3      @rkotinsky: good morning from florida @gma @bn...       1  \n",
       "4      jason vargas second poor start doom mets brave...       0  \n",
       "5      memo: gingrich praise romney health plan yahoo...       0  \n",
       "6      update: amp 500 information technology index d...       0  \n",
       "7      the individual insurance market crashes can pe...       0  \n",
       "8      boston dynamics will start sell doglike spotmi...       0  \n",
       "9      ces 2018: can your saliva affect the way you shop       0  \n",
       "10     @kellysonnenburg: wow significant hail produce...       1  \n",
       "11     following the money between patient group and ...       0  \n",
       "12     tesla 'autopilot' mode crash into park police ...       0  \n",
       "13     why that hate come out easily yet.love get tra...       0  \n",
       "14     living with lupus: what it's like have invisib...       0  \n",
       "15     breaking: @cricketaus chief executive james su...       0  \n",
       "16     mysterious interstellar visitor get name via @...       0  \n",
       "17     breaking: premier league club vote against int...       0  \n",
       "18     popular overthecounter drug for cold allergy s...       0  \n",
       "19     @skycricket: ben stokes have land new zealand ...       0  \n",
       "20     juli marquez: #klystron9 just before a.m frida...       1  \n",
       "21     indiana adds work requirement medicaid will bl...       0  \n",
       "22             top city for ufo sight across the #fntech       0  \n",
       "23     security breach allow unchecked passenger flig...       0  \n",
       "24     zte woe may boost network rival ericsson and n...       0  \n",
       "25     @nasahistory: #otd 1957 sputnik launch mark th...       0  \n",
       "26     want work robotics claire delaunay engineer nv...       0  \n",
       "27     e.coli outbreak linked romaine lettuce spreads...       0  \n",
       "28     society need the artificial intelligence data ...       0  \n",
       "29     settlement deal reached 2014 west virginia che...       0  \n",
       "...                                                  ...     ...  \n",
       "73647  apple halt online sale russia due 'extreme flu...       0  \n",
       "73648  hubble telescope discover lightbending 'einste...       0  \n",
       "73649  @rkotinsky: rift time feb 8th 2018 valrico flo...       1  \n",
       "73650  cracking the code that lets the brain any face...       0  \n",
       "73651  @crypto: just in: twitter join facebook and go...       0  \n",
       "73652  @httweets: england 446/3 (45.3 ovs) notch the ...       0  \n",
       "73653                                   taking the pulse       0  \n",
       "73654  shares twitter open lower more than 7.2 after ...       0  \n",
       "73655  why mental health advocate use the word 'died ...       0  \n",
       "73656   google launch service extend reach machine learn       0  \n",
       "73657  fine for most tomorrow although cloudy time es...       1  \n",
       "73658     fitbit share sprint higher new google alliance       0  \n",
       "73659  facebook warn about security cost even earn to...       0  \n",
       "73660               what the inside your knee sound like       0  \n",
       "73661  mental health care: steinberg's innovative pla...       0  \n",
       "73662  .@mcclurewx: rain coverage today (wed june 13)...       1  \n",
       "73663  harvey irma maria and nate retire hurricane na...       1  \n",
       "73664  josh linker: looking friday's coverage rainfal...       1  \n",
       "73665  order amazon pay 250 million euros after get i...       0  \n",
       "73666  desmond plan lottery bid challenge camelot win...       0  \n",
       "73667  @skysportsmnf: #mcfc play #scfc: ederson walke...       0  \n",
       "73668  watch: eight day and count until the @fifaworl...       0  \n",
       "73669  average age first stroke england fall figure show       0  \n",
       "73670  compare battery health/cycles/age apple suppor...       0  \n",
       "73671  .@antogriezmann sparkle @atleti clinch third #...       0  \n",
       "73672  type diabetes vaccine show promise early study...       0  \n",
       "73673          police investigate child sexting case day       0  \n",
       "73674          oneplus challenge leaves iphone outgunned       0  \n",
       "73675  twitter roll out olympic emojis and hashtags l...       0  \n",
       "73676  the best and worst state for kids' safety car ...       0  \n",
       "\n",
       "[73677 rows x 8 columns]"
      ]
     },
     "execution_count": 44,
     "metadata": {},
     "output_type": "execute_result"
    }
   ],
   "source": [
    "tweets_df_sports"
   ]
  },
  {
   "cell_type": "code",
   "execution_count": 45,
   "metadata": {
    "collapsed": false
   },
   "outputs": [
    {
     "data": {
      "text/plain": [
       "LogisticRegression(C=1.0, class_weight=None, dual=False, fit_intercept=True,\n",
       "          intercept_scaling=1, max_iter=100, multi_class='ovr', n_jobs=1,\n",
       "          penalty='l2', random_state=None, solver='liblinear', tol=0.0001,\n",
       "          verbose=0, warm_start=False)"
      ]
     },
     "execution_count": 45,
     "metadata": {},
     "output_type": "execute_result"
    }
   ],
   "source": [
    "from sklearn.feature_extraction.text import TfidfVectorizer, CountVectorizer\n",
    "from sklearn.feature_extraction.text import CountVectorizer\n",
    "from sklearn.feature_extraction.text import TfidfVectorizer\n",
    "import re\n",
    "from nltk.corpus import stopwords\n",
    "from scipy.sparse import hstack\n",
    "from sklearn.linear_model import LogisticRegression\n",
    "\n",
    "tfidf_word_vectorizer = TfidfVectorizer(ngram_range=(1, 3), max_df=0.5, max_features=None,\n",
    "                             min_df=2, stop_words='english', token_pattern=u'((?u)\\\\b\\\\w\\\\w+\\\\b|[#@]\\w+)',\n",
    "                             use_idf=True)\n",
    "\n",
    "tfidf_char_vectorizer = TfidfVectorizer(ngram_range=(1, 7), analyzer='char', max_df=0.5, max_features=None,\n",
    "                             min_df=2, stop_words='english', token_pattern=u'((?u)\\\\b\\\\w\\\\w+\\\\b|[#@]\\w+)',\n",
    "                             use_idf=True)\n",
    "\n",
    "tfidf_word = tfidf_word_vectorizer.fit_transform(tweets_df_sports['text_processed'])\n",
    "tfidf_char = tfidf_char_vectorizer.fit_transform(tweets_df_sports['text_processed'])\n",
    "\n",
    "tfidf_word_char = hstack([tfidf_word, tfidf_char])\n",
    "\n",
    "lr = LogisticRegression()\n",
    "lr.fit(tfidf_word_char, tweets_df_sports['sports'])"
   ]
  },
  {
   "cell_type": "code",
   "execution_count": 95,
   "metadata": {
    "collapsed": false
   },
   "outputs": [
    {
     "name": "stdout",
     "output_type": "stream",
     "text": [
      "(u'broken clouds -&gt; clear sky\\ntemperature down 98\\xb0F -&gt; 79\\xb0F\\nhumidity up 20% -&gt; 65%\\nwind 24mph -&gt; 2mph', u'DrexelHeights', 1, 0.97377770311600853, [[[-111.097562, 32.09131], [-111.097562, 32.176145], [-111.006161, 32.176145], [-111.006161, 32.09131]]])\n",
      "(u'current weather in Memphis: broken clouds, 83\\xb0F\\n74% humidity, wind 6mph, pressure 1021mb', u'_MemphisTN', 1, 0.95488262706283933, [[[-90.135782, 34.994192], [-90.135782, 35.272849], [-89.708276, 35.272849], [-89.708276, 34.994192]]])\n",
      "(u'Wind 0.0 mph SSW. Barometer 30.06 in, Steady. Temperature 74.7 \\xb0F. Rain today 0.25 in. Humidity 84%', u'AppaloosaGuy', 1, 0.95529328004259007, [[[-89.57151, 36.497129], [-89.57151, 39.147359], [-81.964971, 39.147359], [-81.964971, 36.497129]]])\n",
      "(u'current weather in Bartlett: broken clouds, 83\\xb0F\\n74% humidity, wind 6mph, pressure 1021mb', u'BartlettTN', 1, 0.96993855418581165, [[[-89.887992, 35.186443], [-89.887992, 35.274531], [-89.741766, 35.274531], [-89.741766, 35.186443]]])\n",
      "(u'Rain https://t.co/YagIwQFsbk #minifigures https://t.co/BE6wSlDxTY', u'LwMinifigures', 1, 0.97634339211082866, [[[-90.050468, 35.143143], [-90.050468, 35.143143], [-90.050468, 35.143143], [-90.050468, 35.143143]]])\n",
      "(u'Yooo fuck Summer weather I need winter weather again ASAP https://t.co/kp5dgAaiOK', u'CZR93', 1, 0.96901832973471791, [[[-122.420497, 37.895308], [-122.420497, 38.002378], [-122.304331, 38.002378], [-122.304331, 37.895308]]])\n",
      "(u'current weather in Battle Creek: clear sky, 81\\xb0F\\n39% humidity, wind 5mph, pressure 1020mb', u'BattleCreekMI', 1, 0.92396109986930108, [[[-85.313052, 42.232049], [-85.313052, 42.384545], [-85.140797, 42.384545], [-85.140797, 42.232049]]])\n",
      "(u'Central Park Vibes. | \\nI will wait for you under the millingtonia tree, where we watch the lilies fall from the sky I will wait for you near the sea shore, where we watch the waves come\\u2026 https://t.co/SBpUL1aUjZ', u'ramontrotman', 1, 0.9307213831653145, [[[-74.026675, 40.683935], [-74.026675, 40.877483], [-73.910408, 40.877483], [-73.910408, 40.683935]]])\n",
      "(u'current weather in Lafayette: clear sky, 83\\xb0F\\n83% humidity, wind 3mph, pressure 1020mb', u'Lafayette', 1, 0.9707429891002366, [[[-86.92488, 40.339754], [-86.92488, 40.474718], [-86.768625, 40.474718], [-86.768625, 40.339754]]])\n",
      "(u\"Day 1 at the beach was a success! We can't wait to see everyone there tomorrow morning! \\n\\n#tkd #beach #DigIt @ Yirrell Beach https://t.co/rHiGvTJ9bw\", u'BostonTKD', 1, 0.92013887569248809, [[[-71.011197, 42.343839], [-71.011197, 42.391664], [-70.952934, 42.391664], [-70.952934, 42.343839]]])\n",
      "done!\n"
     ]
    }
   ],
   "source": [
    "from pymongo import MongoClient\n",
    "import json\n",
    "from tweepy import Stream\n",
    "from tweepy.streaming import StreamListener\n",
    "import numpy as np\n",
    "\n",
    "class MyListener(StreamListener):\n",
    " \n",
    "    def on_data(self, data):\n",
    "        global cnt\n",
    "        try:\n",
    "            tweet = json.loads(data)\n",
    "            tweet_list.append(tweet)\n",
    "            \n",
    "            #tweets_collection.insert_one(tweet)\n",
    "            if 'extended_tweet' in tweet:\n",
    "                text = tweet['extended_tweet']['full_text']\n",
    "            else:\n",
    "                text = tweet['text']\n",
    "                \n",
    "            text_processed = prep.fit_transform([text])\n",
    "            #if len(text_processed[0].split()) < 10:\n",
    "            #    return True\n",
    "            tfidf_word = tfidf_word_vectorizer.transform(text_processed)\n",
    "            tfidf_char = tfidf_char_vectorizer.transform(text_processed)\n",
    "\n",
    "            tfidf_word_char = hstack([tfidf_word, tfidf_char])\n",
    "\n",
    "            y_pred = lr.predict(tfidf_word_char)\n",
    "            y_pred_proba = lr.predict_proba(tfidf_word_char)\n",
    "            if y_pred_proba[0][1] < 0.9:\n",
    "                return True\n",
    "            \n",
    "            coordinates = None\n",
    "            try:\n",
    "                coordinates = tweet['place']['bounding_box'][u'coordinates']\n",
    "            except KeyError:\n",
    "                pass\n",
    "            print(text, tweet['user']['screen_name'], y_pred[0], y_pred_proba[0][1], coordinates)\n",
    "            cnt += 1\n",
    "            if cnt % 1000 == 0:\n",
    "                print(cnt)\n",
    "            if cnt == max_count:\n",
    "                twitter_stream.disconnect()\n",
    "                print(\"done!\")\n",
    "\n",
    "        except BaseException as e:\n",
    "            #print(\"Error on_data: %s\" % str(e))\n",
    "            pass\n",
    "        return True\n",
    " \n",
    "    def on_error(self, status):\n",
    "        print(status)\n",
    "        return True\n",
    "\n",
    "#client = MongoClient()\n",
    "#tweets_collection = client.tweets_db.tweets\n",
    "\n",
    "cnt = 0\n",
    "tweet_list = []\n",
    "max_count = 10\n",
    "twitter_stream = Stream(auth=auth, listener=MyListener())\n",
    "GEOBOX_US_CANADA = [-128.755117, 26.415893, -52.437305, 54.093165]\n",
    "twitter_stream.filter(locations=GEOBOX_US_CANADA, async=True)\n"
   ]
  },
  {
   "cell_type": "code",
   "execution_count": 92,
   "metadata": {
    "collapsed": false
   },
   "outputs": [
    {
     "data": {
      "text/plain": [
       "[[[-81.47749, 28.250764],\n",
       "  [-81.47749, 28.347977],\n",
       "  [-81.327204, 28.347977],\n",
       "  [-81.327204, 28.250764]]]"
      ]
     },
     "execution_count": 92,
     "metadata": {},
     "output_type": "execute_result"
    }
   ],
   "source": [
    "tweet_list[0]['place']['bounding_box'][u'coordinates']"
   ]
  },
  {
   "cell_type": "code",
   "execution_count": 94,
   "metadata": {
    "collapsed": false
   },
   "outputs": [],
   "source": [
    "twitter_stream.disconnect()\n"
   ]
  },
  {
   "cell_type": "code",
   "execution_count": 53,
   "metadata": {
    "collapsed": false
   },
   "outputs": [
    {
     "data": {
      "text/plain": [
       "u'#mothernaturerocks #sunsetyoga #yogaeverydamnday #gratefulandblessed @Hedges9Mile @ Hedges Nine Mile Point Restaura\\u2026 https://t.co/P2LRu38Myb'"
      ]
     },
     "execution_count": 53,
     "metadata": {},
     "output_type": "execute_result"
    }
   ],
   "source": [
    "tweet_list[5]"
   ]
  },
  {
   "cell_type": "markdown",
   "metadata": {},
   "source": [
    "## Tweeter Streaming Prediction"
   ]
  },
  {
   "cell_type": "code",
   "execution_count": 2,
   "metadata": {
    "collapsed": false
   },
   "outputs": [
    {
     "data": {
      "text/plain": [
       "LogisticRegression(C=1.0, class_weight=None, dual=False, fit_intercept=True,\n",
       "          intercept_scaling=1, max_iter=100, multi_class='ovr', n_jobs=1,\n",
       "          penalty='l2', random_state=None, solver='liblinear', tol=0.0001,\n",
       "          verbose=0, warm_start=False)"
      ]
     },
     "execution_count": 2,
     "metadata": {},
     "output_type": "execute_result"
    }
   ],
   "source": [
    "from sklearn.feature_extraction.text import TfidfVectorizer, CountVectorizer\n",
    "from sklearn.feature_extraction.text import CountVectorizer\n",
    "from sklearn.feature_extraction.text import TfidfVectorizer\n",
    "import re\n",
    "from nltk.corpus import stopwords\n",
    "from scipy.sparse import hstack\n",
    "from sklearn.linear_model import LogisticRegression\n",
    "\n",
    "tfidf_word_vectorizer = TfidfVectorizer(ngram_range=(1, 3), max_df=0.5, max_features=None,\n",
    "                             min_df=2, stop_words='english', token_pattern=u'((?u)\\\\b\\\\w\\\\w+\\\\b|[#@]\\w+)',\n",
    "                             use_idf=True)\n",
    "\n",
    "tfidf_char_vectorizer = TfidfVectorizer(ngram_range=(1, 7), analyzer='char', max_df=0.5, max_features=None,\n",
    "                             min_df=2, stop_words='english', token_pattern=u'((?u)\\\\b\\\\w\\\\w+\\\\b|[#@]\\w+)',\n",
    "                             use_idf=True)\n",
    "\n",
    "tfidf_word = tfidf_word_vectorizer.fit_transform(tweets_df['text_processed'])\n",
    "tfidf_char = tfidf_char_vectorizer.fit_transform(tweets_df['text_processed'])\n",
    "\n",
    "tfidf_word_char = hstack([tfidf_word, tfidf_char])\n",
    "\n",
    "lr = LogisticRegression()\n",
    "lr.fit(tfidf_word_char, tweets_df['cat_encoded'])"
   ]
  },
  {
   "cell_type": "code",
   "execution_count": 10,
   "metadata": {
    "collapsed": true
   },
   "outputs": [],
   "source": [
    "import numpy as np"
   ]
  },
  {
   "cell_type": "code",
   "execution_count": 16,
   "metadata": {
    "collapsed": false
   },
   "outputs": [],
   "source": [
    "label_class_map = dict(set(zip(tweets_df['cat_encoded'], tweets_df['cat'])))"
   ]
  },
  {
   "cell_type": "code",
   "execution_count": 29,
   "metadata": {
    "collapsed": false
   },
   "outputs": [
    {
     "data": {
      "text/plain": [
       "array(['Heath', 'Politics', 'Sports', 'Tech', 'Traffic', 'Weather'],\n",
       "      dtype=object)"
      ]
     },
     "execution_count": 29,
     "metadata": {},
     "output_type": "execute_result"
    }
   ],
   "source": [
    "label_encoder.classes_label_class_map = dict(set(zip(tweets_df['cat_encoded'], tweets_df['cat'])))"
   ]
  },
  {
   "cell_type": "code",
   "execution_count": 29,
   "metadata": {
    "collapsed": false
   },
   "outputs": [
    {
     "name": "stdout",
     "output_type": "stream",
     "text": [
      "(u'If someome wants to shoot their shot at meeeee idk what you waiting for got right ahead', 'Sports', array([[0.15415068, 0.24505584, 0.45483231, 0.12380176, 0.0060415 ,\n",
      "        0.01611792]]))\n",
      "(u'@TheAnimatedBat @MrNoFollowers Some people just can\\u2019t be happy. BATMAN: TAS is still one of my favs and I marathon\\u2026 https://t.co/mJJLULhHTZ', 'Heath', array([[0.47137386, 0.10946085, 0.22715388, 0.14675124, 0.00657398,\n",
      "        0.03868618]]))\n",
      "(u'When we gone put a end to all this Satanic 666 goathead upside down cross bullshit \\U0001f644\\U0001f644\\U0001f914', 'Tech', array([[0.2213677 , 0.1209102 , 0.27086112, 0.33332645, 0.01934757,\n",
      "        0.03418697]]))\n",
      "(u'@WendellSherk Self-imposed ignorance flows from the top when you have a, no interest in learning, leader at the top\\u2026 https://t.co/gTGPGPAIzr', 'Heath', array([[0.36081422, 0.31194119, 0.08951875, 0.18512803, 0.01235433,\n",
      "        0.04024349]]))\n",
      "(u'If you want kids, have them.  If you don\\u2019t want kids, don\\u2019t have them.   But, if you have them, PLEASE IGNORE the a\\u2026 https://t.co/tveOm9ErQW', 'Heath', array([[0.60462268, 0.0933905 , 0.16775895, 0.11570533, 0.00787875,\n",
      "        0.0106438 ]]))\n",
      "(u'Me and Evie are with each other literally every single day and starting tomorrow we are only gonna see each other l\\u2026 https://t.co/tZyfSlM1py', 'Sports', array([[0.09693993, 0.19094995, 0.33182818, 0.13907152, 0.0088826 ,\n",
      "        0.23232782]]))\n",
      "(u'Wi-Fi free !!! For our customers ... feel free to join. \\n\\n#wifi #free #freewifi #wimpysdiner #rylander #toronto @ W\\u2026 https://t.co/ggZXvu2Tim', 'Sports', array([[0.02126801, 0.03821087, 0.54441066, 0.30037477, 0.01854345,\n",
      "        0.07719224]]))\n",
      "(u'@ladygaga hey queen, it\\u2019s me again. Please help us tackle #theissueofsexualassault @IUBloomington. You have experie\\u2026 https://t.co/j0EKdKYsHi', 'Heath', array([[0.37756713, 0.1514239 , 0.29771872, 0.13631573, 0.01417041,\n",
      "        0.02280411]]))\n",
      "(u'When you are in an taxi coming home from the airport and they have ALT 92.3 on in the car. \\U0001f44d\\U0001f3fb\\U0001f44d\\U0001f3fb', 'Tech', array([[0.00697688, 0.0270589 , 0.2447594 , 0.66142322, 0.01366695,\n",
      "        0.04611465]]))\n",
      "(u'@OTWOLheart @JaDinePhilly Ang sarap mag cancel ng tfc online di ba? Sa Drama fever ng Korean pag member ka at nagba\\u2026 https://t.co/z56wWIVZNg', 'Politics', array([[0.16642766, 0.35878402, 0.22643044, 0.23359132, 0.00389079,\n",
      "        0.01087577]]))\n",
      "(u\"Gotta start watching Very Cavallari because I've missed watching Jay Cutler frown from a sitting position\", 'Sports', array([[0.01302044, 0.15636566, 0.68252204, 0.12420918, 0.0033321 ,\n",
      "        0.02055058]]))\n",
      "(u'@MiriamLizett And some ppl make impacts on your life. I don\\u2019t litter at all anymore fam lol #Deadass', 'Heath', array([[0.45266236, 0.09091595, 0.18937301, 0.15750156, 0.0074692 ,\n",
      "        0.10207791]]))\n",
      "(u'that very embarrassing thing you can\\u2019t stop thinking about when you\\u2019re trying to sleep was five years ago, feel old yet', 'Heath', array([[0.70396096, 0.14624658, 0.09204095, 0.0483968 , 0.00222203,\n",
      "        0.00713268]]))\n",
      "(u'I Never knew suspected criminals WERE ALLOWED to Preserve Their Own Evidence.   WOW. https://t.co/f9vgudiFZL', 'Tech', array([[0.22122769, 0.23057888, 0.05431712, 0.45689063, 0.00650746,\n",
      "        0.03047822]]))\n",
      "(u\"@suthanintl @garyvee\\n\\U0001f1e8\\U0001f1e6\\nHelp people live better lives! \\U0001f388\\U0001f388\\U0001f388\\U0001f388\\U0001f388\\U0001f388\\U0001f388\\U0001f388\\U0001f388\\U0001f388\\U0001f388\\U0001f388\\U0001f388\\U0001f388\\U0001f388\\nLet's connect everyone in the world to bring\\u2026 https://t.co/4SDV5t9Yn3\", 'Heath', array([[0.38344897, 0.03080482, 0.31144092, 0.26814783, 0.00153193,\n",
      "        0.00462553]]))\n",
      "(u'Fancy your own custom spirit? All you need is an idea, a dream and Matchbook Distilling Company: https://t.co/3oGgn68tMJ via @TastingTable', 'Tech', array([[0.03279602, 0.0567588 , 0.03684191, 0.86665675, 0.00310933,\n",
      "        0.00383719]]))\n",
      "(u'I also work a full time job so there is no way of being online at at 8am if that is when it opens.... so if I loose\\u2026 https://t.co/o1rmaK5SLG', 'Tech', array([[0.15991444, 0.04437033, 0.2113256 , 0.55070968, 0.01965659,\n",
      "        0.01402336]]))\n",
      "(u'I\\u2019m like at the point where I\\u2019ve accepted that I\\u2019m going to be the aunt that never gets married or have kids . Not\\u2026 https://t.co/COdriZFVcP', 'Politics', array([[0.17692493, 0.36962956, 0.34578405, 0.09134927, 0.00409435,\n",
      "        0.01221784]]))\n",
      "(u'Y\\u2019all ever fist pump to a good song when you\\u2019re driving by yourself? No that\\u2019s just me? Oh well \\u270a\\U0001f3fc', 'Heath', array([[0.59914989, 0.04029998, 0.11516067, 0.19018756, 0.0255919 ,\n",
      "        0.02961   ]]))\n",
      "(u'Does @IsaacBonga99 Know How To Dribble The Ball Before Making A Move? I Swear He Gets Called For A Travel Multiple Times A Game \\U0001f926\\U0001f3fd\\u200d\\u2642\\ufe0f', 'Sports', array([[0.07431396, 0.00711889, 0.45056272, 0.44827154, 0.00491777,\n",
      "        0.01481512]]))\n",
      "(u'just saw a Walmart commercial for ordering your groceries online &amp; picking them up without ever having to leave you\\u2026 https://t.co/oETYLzCybx', 'Tech', array([[0.13860758, 0.02666949, 0.04693117, 0.75353254, 0.00927379,\n",
      "        0.02498544]]))\n",
      "(u\"Is there a way for me to more tweet decked tweets? I refuse to believe this content is going viral and/or ya'll are that popular.\", 'Tech', array([[0.11547534, 0.24488392, 0.10394613, 0.50063938, 0.00429286,\n",
      "        0.03076238]]))\n",
      "(u'@JSBMjeanshorts Funny there was a huge statue of Jesus that had a broken finger on the Trail by a Seminary just on\\u2026 https://t.co/2NVqQuacV8', 'Sports', array([[0.02309846, 0.27578811, 0.52604662, 0.1442115 , 0.00626647,\n",
      "        0.02458884]]))\n",
      "(u'i love my sense of style i can care less about what you think tbh', 'Heath', array([[0.71333756, 0.05601453, 0.0433344 , 0.18137431, 0.00230642,\n",
      "        0.00363277]]))\n",
      "(u'Me to a friend tonight about my daughter: \"The fact a 13yr old girl keeps a calendar of Marvel movie dates should be celebrated.\\u201d', 'Heath', array([[0.40109184, 0.30099981, 0.05020351, 0.1830907 , 0.00659568,\n",
      "        0.05801847]]))\n",
      "(u'What will the @NBA do when teams decide to rest their starters against the @warriors? Not hard to imagine the @NBA devolving into a sham', 'Sports', array([[0.01640966, 0.05832453, 0.85083072, 0.06311108, 0.00238854,\n",
      "        0.00893547]]))\n",
      "(u'Always good to run into \\u201cmemories\\u201d... Nice to see you @tycediorio Cheers \\U0001f44a\\U0001f3fc\\U0001f60a\\U0001f44d\\U0001f3fc Ya never know who you may see at a s\\u2026 https://t.co/0FgFig6GJm', 'Sports', array([[0.33731152, 0.03504492, 0.38925924, 0.16582163, 0.00771682,\n",
      "        0.06484587]]))\n",
      "(u'today Irvin decided to drop a ketchup souffl\\xe9 that landed perfectly on the floor causing it to go all over my cloth\\u2026 https://t.co/LgqPNcVhlR', 'Tech', array([[0.20806452, 0.108733  , 0.10551879, 0.45834527, 0.01296489,\n",
      "        0.10637354]]))\n",
      "(u'\\U0001f6a8New\\U0001f6a8\\nBlue &amp; Silver Bracelet \\nPrice : $4\\nContact me to Purchase. @ North West Detroit, Detroit, Michigan https://t.co/GFF6xG0Mxa', 'Tech', array([[0.22033463, 0.22234451, 0.03108934, 0.42401586, 0.02213018,\n",
      "        0.08008547]]))\n",
      "(u'@ATLelise Literally same, like I don\\u2019t know her if her name isn\\u2019t Elise Williams or myself -\\\\', 'Sports', array([[0.13686307, 0.13428408, 0.58570203, 0.11173548, 0.00530746,\n",
      "        0.02610789]]))\n",
      "done!\n"
     ]
    }
   ],
   "source": [
    "from pymongo import MongoClient\n",
    "import json\n",
    "from tweepy import Stream\n",
    "from tweepy.streaming import StreamListener\n",
    "import numpy as np\n",
    "\n",
    "class MyListener(StreamListener):\n",
    " \n",
    "    def on_data(self, data):\n",
    "        global cnt\n",
    "        #try:\n",
    "        tweet = json.loads(data)\n",
    "        #tweets_collection.insert_one(tweet)\n",
    "        text = tweet['text']\n",
    "        text_processed = prep.fit_transform([text])\n",
    "        if len(text_processed[0].split()) < 10:\n",
    "            return True\n",
    "        \n",
    "        tfidf_word = tfidf_word_vectorizer.transform(text_processed)\n",
    "        tfidf_char = tfidf_char_vectorizer.transform(text_processed)\n",
    "\n",
    "        tfidf_word_char = hstack([tfidf_word, tfidf_char])\n",
    "\n",
    "        y_pred = lr.predict(tfidf_word_char)\n",
    "        y_pred_proba = lr.predict_proba(tfidf_word_char)\n",
    "        #if y_pred_proba.max() < 0.9:\n",
    "        #    return True\n",
    "        \n",
    "        print(text, label_class_map[y_pred[0]], y_pred_proba)\n",
    "        cnt += 1\n",
    "        if cnt % 1000 == 0:\n",
    "            print(cnt)\n",
    "        if cnt == max_count:\n",
    "            twitter_stream.disconnect()\n",
    "            print(\"done!\")\n",
    "\n",
    "        #except BaseException as e:\n",
    "        #    print(\"Error on_data: %s\" % str(e))\n",
    "        return True\n",
    " \n",
    "    def on_error(self, status):\n",
    "        print(status)\n",
    "        return True\n",
    "\n",
    "#client = MongoClient()\n",
    "#tweets_collection = client.tweets_db.tweets\n",
    "\n",
    "cnt = 0\n",
    "max_count = 30\n",
    "twitter_stream = Stream(auth=auth, listener=MyListener())\n",
    "GEOBOX_US_CANADA = [-128.755117, 26.415893, -52.437305, 54.093165]\n",
    "twitter_stream.filter(locations=GEOBOX_US_CANADA, async=True)\n"
   ]
  },
  {
   "cell_type": "code",
   "execution_count": 27,
   "metadata": {
    "collapsed": false
   },
   "outputs": [
    {
     "name": "stdout",
     "output_type": "stream",
     "text": [
      "9\n"
     ]
    }
   ],
   "source": [
    "twitter_stream.disconnect()\n"
   ]
  }
 ],
 "metadata": {
  "kernelspec": {
   "display_name": "Python 2",
   "language": "python",
   "name": "python2"
  },
  "language_info": {
   "codemirror_mode": {
    "name": "ipython",
    "version": 2
   },
   "file_extension": ".py",
   "mimetype": "text/x-python",
   "name": "python",
   "nbconvert_exporter": "python",
   "pygments_lexer": "ipython2",
   "version": "2.7.12"
  }
 },
 "nbformat": 4,
 "nbformat_minor": 2
}
