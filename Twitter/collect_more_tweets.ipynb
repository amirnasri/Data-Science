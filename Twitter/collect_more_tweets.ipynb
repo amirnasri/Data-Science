{
 "cells": [
  {
   "cell_type": "code",
   "execution_count": 1,
   "metadata": {
    "collapsed": true
   },
   "outputs": [],
   "source": [
    "import pandas as pd \n",
    "credentials = pd.read_csv('credentials.csv')\n",
    "consumer_key = credentials['consumer_key'][0]\n",
    "consumer_secret = credentials['consumer_secret'][0]\n",
    "access_token = credentials['access_token'][0]\n",
    "access_secret = credentials['access_secret'][0]\n",
    " \n",
    "import tweepy\n",
    "from tweepy import OAuthHandler\n",
    "auth = OAuthHandler(consumer_key, consumer_secret)\n",
    "auth.set_access_token(access_token, access_secret)\n",
    " \n",
    "api = tweepy.API(auth, wait_on_rate_limit=True)\n",
    "\n",
    "import warnings\n",
    "warnings.simplefilter('ignore')"
   ]
  },
  {
   "cell_type": "code",
   "execution_count": 2,
   "metadata": {
    "collapsed": true
   },
   "outputs": [],
   "source": [
    "from pymongo import MongoClient\n",
    "client = MongoClient()\n",
    "news_tweets_extra = client.tweets_db.new_tweets_extra\n",
    "news_tweets = client.tweets_db.new_tweets\n"
   ]
  },
  {
   "cell_type": "code",
   "execution_count": 4,
   "metadata": {
    "collapsed": true
   },
   "outputs": [],
   "source": [
    "news_tweets_extra.drop()"
   ]
  },
  {
   "cell_type": "code",
   "execution_count": 5,
   "metadata": {
    "collapsed": false
   },
   "outputs": [
    {
     "data": {
      "text/plain": [
       "0"
      ]
     },
     "execution_count": 5,
     "metadata": {},
     "output_type": "execute_result"
    }
   ],
   "source": [
    "news_tweets_extra.count()"
   ]
  },
  {
   "cell_type": "code",
   "execution_count": null,
   "metadata": {
    "collapsed": true
   },
   "outputs": [],
   "source": [
    "#users = api.friends('@amnasri2', count=100)\n"
   ]
  },
  {
   "cell_type": "code",
   "execution_count": 6,
   "metadata": {
    "collapsed": true
   },
   "outputs": [],
   "source": [
    "import time\n",
    "def collect_tweets(users):\n",
    "    curr_count = news_tweets_extra.count()\n",
    "    now = time.time()\n",
    "    print(\"Started collecting tweets\")\n",
    "    for user in users:\n",
    "        #tweets = api.user_timeline(screen_name = user.screen_name, count=200)\n",
    "        try:\n",
    "            tweets = tweepy.Cursor(api.user_timeline,screen_name=user.screen_name).items()\n",
    "        except:\n",
    "            continue\n",
    "            \n",
    "        for tw in tweets:\n",
    "\n",
    "            if news_tweets.find_one({'id':tw.id}):\n",
    "                break\n",
    "\n",
    "            try:\n",
    "                news_tweets_extra.insert_one(tw._json)\n",
    "            except DuplicateKeyError:\n",
    "                break\n",
    "                \n",
    "    new_count = news_tweets_extra.count()\n",
    "    new_time = time.time() - now\n",
    "    print(\"Collected %d tweets in %.2f seconds\" % (new_count - curr_count, new_time))\n",
    "    "
   ]
  },
  {
   "cell_type": "code",
   "execution_count": 7,
   "metadata": {
    "collapsed": false
   },
   "outputs": [
    {
     "name": "stdout",
     "output_type": "stream",
     "text": [
      "Started collecting tweets\n"
     ]
    }
   ],
   "source": [
    "import threading\n",
    "import time\n",
    "\n",
    "\n",
    "class MyThread(threading.Thread):\n",
    "    def __init__(self, interval, task, args=[], kwargs={}):\n",
    "        super(MyThread, self).__init__()\n",
    "        self.stop_ = False\n",
    "        self.interval = interval\n",
    "        self.args = args\n",
    "        self.kwargs = kwargs\n",
    "        self.task = task\n",
    "        self.start()\n",
    "        \n",
    "    def run(self):\n",
    "        while not self.stop_:\n",
    "            self.task(*self.args, **self.kwargs)\n",
    "            time.sleep(self.interval)\n",
    "            \n",
    "    def stop(self):\n",
    "        self.stop_ = True\n",
    "        \n",
    "users = api.friends('@amnasri2', count=100)\n",
    "mythread = MyThread(15 * 60, collect_tweets, [users])"
   ]
  },
  {
   "cell_type": "code",
   "execution_count": 164,
   "metadata": {
    "collapsed": false
   },
   "outputs": [
    {
     "data": {
      "text/plain": [
       "53719"
      ]
     },
     "execution_count": 164,
     "metadata": {},
     "output_type": "execute_result"
    }
   ],
   "source": [
    "news_tweets_extra.count()"
   ]
  },
  {
   "cell_type": "code",
   "execution_count": 137,
   "metadata": {
    "collapsed": false
   },
   "outputs": [
    {
     "data": {
      "text/plain": [
       "7682"
      ]
     },
     "execution_count": 137,
     "metadata": {},
     "output_type": "execute_result"
    },
    {
     "name": "stdout",
     "output_type": "stream",
     "text": [
      "Collected 2026 tweets in 324.68 seconds\n",
      "Started collecting tweets\n",
      "Collected 2035 tweets in 315.57 seconds\n"
     ]
    }
   ],
   "source": [
    "news_tweets_extra.count()"
   ]
  },
  {
   "cell_type": "code",
   "execution_count": 38,
   "metadata": {
    "collapsed": true
   },
   "outputs": [],
   "source": [
    "mythread.stop()"
   ]
  }
 ],
 "metadata": {
  "kernelspec": {
   "display_name": "Python 2",
   "language": "python",
   "name": "python2"
  },
  "language_info": {
   "codemirror_mode": {
    "name": "ipython",
    "version": 2
   },
   "file_extension": ".py",
   "mimetype": "text/x-python",
   "name": "python",
   "nbconvert_exporter": "python",
   "pygments_lexer": "ipython2",
   "version": "2.7.6"
  }
 },
 "nbformat": 4,
 "nbformat_minor": 1
}
