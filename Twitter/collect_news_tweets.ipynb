{
 "cells": [
  {
   "cell_type": "code",
   "execution_count": 291,
   "metadata": {
    "collapsed": true
   },
   "outputs": [],
   "source": [
    "import pandas as pd \n",
    "credentials = pd.read_csv('credentials.csv')\n",
    "consumer_key = credentials['consumer_key'][0]\n",
    "consumer_secret = credentials['consumer_secret'][0]\n",
    "access_token = credentials['access_token'][0]\n",
    "access_secret = credentials['access_secret'][0]\n",
    " \n",
    "import tweepy\n",
    "from tweepy import OAuthHandler\n",
    "auth = OAuthHandler(consumer_key, consumer_secret)\n",
    "auth.set_access_token(access_token, access_secret)\n",
    " \n",
    "api = tweepy.API(auth, wait_on_rate_limit=True)\n",
    "\n",
    "import warnings\n",
    "warnings.simplefilter('ignore')"
   ]
  },
  {
   "cell_type": "code",
   "execution_count": 303,
   "metadata": {
    "collapsed": false
   },
   "outputs": [],
   "source": [
    "from pymongo import MongoClient\n",
    "client = MongoClient()\n",
    "news_tweets = client.tweets_db.new_tweets\n",
    "tweets_other = client.tweets_db.tweets_other\n"
   ]
  },
  {
   "cell_type": "code",
   "execution_count": 300,
   "metadata": {
    "collapsed": true
   },
   "outputs": [],
   "source": [
    "id = 1013652236159868930"
   ]
  },
  {
   "cell_type": "code",
   "execution_count": 301,
   "metadata": {
    "collapsed": true
   },
   "outputs": [],
   "source": [
    "    "
   ]
  },
  {
   "cell_type": "code",
   "execution_count": 304,
   "metadata": {
    "collapsed": false
   },
   "outputs": [
    {
     "data": {
      "text/plain": [
       "<pymongo.results.InsertOneResult at 0x7f78d1c9e0e0>"
      ]
     },
     "execution_count": 304,
     "metadata": {},
     "output_type": "execute_result"
    }
   ],
   "source": [
    "tweets_other.insert_one(tw)"
   ]
  },
  {
   "cell_type": "code",
   "execution_count": 306,
   "metadata": {
    "collapsed": true
   },
   "outputs": [],
   "source": [
    "tw = news_tweets.find_one_and_delete({'id':id})\n",
    "    "
   ]
  },
  {
   "cell_type": "code",
   "execution_count": 307,
   "metadata": {
    "collapsed": true
   },
   "outputs": [],
   "source": [
    "tw"
   ]
  },
  {
   "cell_type": "code",
   "execution_count": 309,
   "metadata": {
    "collapsed": false
   },
   "outputs": [
    {
     "data": {
      "text/plain": [
       "3384"
      ]
     },
     "execution_count": 309,
     "metadata": {},
     "output_type": "execute_result"
    }
   ],
   "source": [
    "tweets_other.count()"
   ]
  },
  {
   "cell_type": "code",
   "execution_count": 313,
   "metadata": {
    "collapsed": true
   },
   "outputs": [],
   "source": [
    "user_del_list =  [ \n",
    " u'NBCNews',\n",
    " u'BBCWorld'\n",
    " u'TIME',\n",
    " u'washingtonpost',\n",
    " u'news_welle',\n",
    " u'CBSNews',\n",
    "]"
   ]
  },
  {
   "cell_type": "code",
   "execution_count": 312,
   "metadata": {
    "collapsed": false
   },
   "outputs": [
    {
     "data": {
      "text/plain": [
       "u'NBCNews'"
      ]
     },
     "execution_count": 312,
     "metadata": {},
     "output_type": "execute_result"
    }
   ],
   "source": [
    "user"
   ]
  },
  {
   "cell_type": "code",
   "execution_count": 314,
   "metadata": {
    "collapsed": false
   },
   "outputs": [
    {
     "name": "stdout",
     "output_type": "stream",
     "text": [
      "NBCNews\n",
      "BBCWorldTIME\n",
      "washingtonpost\n",
      "news_welle\n",
      "CBSNews\n"
     ]
    }
   ],
   "source": [
    "for user in user_del_list:\n",
    "    print(user)\n",
    "    for id in tweets_df[tweets_df['user']==user]['id']:\n",
    "        tw = news_tweets.find_one_and_delete({'id':id})\n",
    "        if tw:\n",
    "            tweets_other.insert_one(tw)"
   ]
  },
  {
   "cell_type": "code",
   "execution_count": 293,
   "metadata": {
    "collapsed": false
   },
   "outputs": [
    {
     "data": {
      "text/plain": [
       "156343"
      ]
     },
     "execution_count": 293,
     "metadata": {},
     "output_type": "execute_result"
    }
   ],
   "source": [
    "news_tweets.count()"
   ]
  },
  {
   "cell_type": "code",
   "execution_count": 29,
   "metadata": {
    "collapsed": true
   },
   "outputs": [],
   "source": [
    "tweets = api.user_timeline(screen_name = \"ABCnews\",count=200)"
   ]
  },
  {
   "cell_type": "code",
   "execution_count": 9,
   "metadata": {
    "collapsed": false
   },
   "outputs": [],
   "source": [
    "tw = my_tweets[0]"
   ]
  },
  {
   "cell_type": "code",
   "execution_count": 315,
   "metadata": {
    "collapsed": false
   },
   "outputs": [],
   "source": [
    "users = api.friends('@amnasri2', count=100)"
   ]
  },
  {
   "cell_type": "code",
   "execution_count": 316,
   "metadata": {
    "collapsed": false
   },
   "outputs": [
    {
     "data": {
      "text/plain": [
       "[u'NYTSports',\n",
       " u'nytimesbusiness',\n",
       " u'nytimesarts',\n",
       " u'nytimestech',\n",
       " u'BBCWorldBiz',\n",
       " u'BBCPolitics',\n",
       " u'BBCNewsEnts',\n",
       " u'BBCSport',\n",
       " u'cnnsport',\n",
       " u'politico',\n",
       " u'CNNPolitics',\n",
       " u'business',\n",
       " u'FortuneMagazine',\n",
       " u'CNNMoney',\n",
       " u'CNNent',\n",
       " u'HarvardHealth',\n",
       " u'NYTHealth',\n",
       " u'cnnhealth',\n",
       " u'cnntech',\n",
       " u'CNET',\n",
       " u'rtetwip',\n",
       " u'PnPCBC',\n",
       " u'NewshubPolitics',\n",
       " u'SkyNewsPolitics',\n",
       " u'CBSPolitics',\n",
       " u'RealClearNews',\n",
       " u'foxnewspolitics',\n",
       " u'ABCPolitics',\n",
       " u'CBCHealth',\n",
       " u'CBSHealth',\n",
       " u'KHNews',\n",
       " u'NBCNewsHealth',\n",
       " u'NPRHealth',\n",
       " u'bbchealth',\n",
       " u'EverydayHealth',\n",
       " u'HealthHive',\n",
       " u'CBCEnt',\n",
       " u'breakingbytes',\n",
       " u'FoxNewsTech',\n",
       " u'ReutersTech',\n",
       " u'BBCTech',\n",
       " u'technology',\n",
       " u'TechCrunch',\n",
       " u'fttechnews',\n",
       " u'NBCNewsTech',\n",
       " u'ForbesTech',\n",
       " u'ETEconomyNews',\n",
       " u'ftfinancenews',\n",
       " u'FinancialTimes',\n",
       " u'TheWeatherNetUS',\n",
       " u'bn9weather',\n",
       " u'SkyNewsWeather',\n",
       " u'HTSportsNews',\n",
       " u'NewsdaySports',\n",
       " u'FOXSportsNews',\n",
       " u'SkySportsNews',\n",
       " u'BNNBloomberg',\n",
       " u'AM730Traffic']"
      ]
     },
     "execution_count": 316,
     "metadata": {},
     "output_type": "execute_result"
    }
   ],
   "source": [
    "[u.screen_name for u in users]"
   ]
  },
  {
   "cell_type": "code",
   "execution_count": 82,
   "metadata": {
    "collapsed": false
   },
   "outputs": [
    {
     "data": {
      "text/plain": [
       "52"
      ]
     },
     "execution_count": 82,
     "metadata": {},
     "output_type": "execute_result"
    },
    {
     "name": "stdout",
     "output_type": "stream",
     "text": [
      "Started collecting tweets\n",
      "Collected 19 tweets in 16.13 seconds\n",
      "Started collecting tweets\n",
      "Collected 11 tweets in 15.80 seconds\n",
      "Started collecting tweets\n",
      "Collected 29 tweets in 17.40 seconds\n",
      "Started collecting tweets\n",
      "Collected 18 tweets in 16.19 seconds\n",
      "Started collecting tweets\n",
      "Collected 17 tweets in 16.11 seconds\n"
     ]
    }
   ],
   "source": [
    "len(users)"
   ]
  },
  {
   "cell_type": "code",
   "execution_count": 317,
   "metadata": {
    "collapsed": false
   },
   "outputs": [],
   "source": [
    "import time\n",
    "def collect_tweets(users):\n",
    "    curr_count = news_tweets.count()\n",
    "    now = time.time()\n",
    "    print(\"Started collecting tweets\")\n",
    "    for user in users:\n",
    "        #tweets = api.user_timeline(screen_name = user.screen_name, count=200)\n",
    "        try:\n",
    "            tweets = tweepy.Cursor(api.user_timeline,screen_name=user.screen_name).items()\n",
    "        except:\n",
    "            continue\n",
    "            \n",
    "        for tw in tweets:\n",
    "\n",
    "            if news_tweets.find_one({'id':tw.id}):\n",
    "                break\n",
    "\n",
    "            try:\n",
    "                news_tweets.insert_one(tw._json)\n",
    "            except DuplicateKeyError:\n",
    "                break\n",
    "                \n",
    "    new_count = news_tweets.count()\n",
    "    new_time = time.time() - now\n",
    "    print(\"Collected %d tweets in %.2f seconds\" % (new_count - curr_count, new_time))\n",
    "    "
   ]
  },
  {
   "cell_type": "code",
   "execution_count": 67,
   "metadata": {
    "collapsed": true
   },
   "outputs": [],
   "source": [
    "from threading import Timer\n",
    "\n",
    "class RepeatedTimer(object):\n",
    "    def __init__(self, interval):\n",
    "        self._timer     = None\n",
    "        self.interval   = interval\n",
    "        self.is_running = False\n",
    "        self.start()\n",
    "\n",
    "    def _run(self):\n",
    "        collect_tweets(users)\n",
    "        self.is_running = False\n",
    "        self.start()\n",
    "        \n",
    "\n",
    "    def start(self):\n",
    "        if not self.is_running:\n",
    "            self._timer = Timer(self.interval, self._run)\n",
    "            self._timer.start()\n",
    "            self.is_running = True\n",
    "\n",
    "    def stop(self):\n",
    "        self._timer.cancel()\n",
    "        self.is_running = False"
   ]
  },
  {
   "cell_type": "code",
   "execution_count": 33,
   "metadata": {
    "collapsed": false
   },
   "outputs": [],
   "source": [
    "interval = 15 * 60  # 30 minutes\n",
    "rt = RepeatedTimer(interval)"
   ]
  },
  {
   "cell_type": "code",
   "execution_count": 31,
   "metadata": {
    "collapsed": true
   },
   "outputs": [],
   "source": [
    "rt.stop()"
   ]
  },
  {
   "cell_type": "code",
   "execution_count": 318,
   "metadata": {
    "collapsed": false
   },
   "outputs": [
    {
     "name": "stdout",
     "output_type": "stream",
     "text": [
      "Started collecting tweets\n"
     ]
    }
   ],
   "source": [
    "import threading\n",
    "import time\n",
    "\n",
    "\n",
    "class MyThread(threading.Thread):\n",
    "    def __init__(self, interval, task, args=[], kwargs={}):\n",
    "        super(MyThread, self).__init__()\n",
    "        self.stop_ = False\n",
    "        self.interval = interval\n",
    "        self.args = args\n",
    "        self.kwargs = kwargs\n",
    "        self.task = task\n",
    "        self.start()\n",
    "        \n",
    "    def run(self):\n",
    "        while not self.stop_:\n",
    "            self.task(*self.args, **self.kwargs)\n",
    "            time.sleep(self.interval)\n",
    "            \n",
    "    def stop(self):\n",
    "        self.stop_ = True\n",
    "        \n",
    "mythread = MyThread(15 * 60, collect_tweets, [users])"
   ]
  },
  {
   "cell_type": "code",
   "execution_count": 279,
   "metadata": {
    "collapsed": false
   },
   "outputs": [],
   "source": [
    "mythread.stop()"
   ]
  },
  {
   "cell_type": "code",
   "execution_count": 278,
   "metadata": {
    "collapsed": false
   },
   "outputs": [
    {
     "data": {
      "text/plain": [
       "147423"
      ]
     },
     "execution_count": 278,
     "metadata": {},
     "output_type": "execute_result"
    },
    {
     "name": "stdout",
     "output_type": "stream",
     "text": [
      "Collected 21754 tweets in 1681.22 seconds\n",
      "Started collecting tweets\n",
      "Collected 21 tweets in 19.63 seconds\n",
      "Started collecting tweets\n",
      "Collected 11 tweets in 19.26 seconds\n",
      "Started collecting tweets\n",
      "Collected 13 tweets in 19.47 seconds\n",
      "Started collecting tweets\n",
      "Collected 15 tweets in 19.15 seconds\n",
      "Started collecting tweets\n",
      "Collected 18 tweets in 19.52 seconds\n",
      "Started collecting tweets\n",
      "Collected 9 tweets in 19.60 seconds\n",
      "Started collecting tweets\n",
      "Collected 21 tweets in 20.23 seconds\n",
      "Started collecting tweets\n",
      "Collected 18 tweets in 19.92 seconds\n",
      "Started collecting tweets\n",
      "Collected 11 tweets in 19.22 seconds\n",
      "Started collecting tweets\n",
      "Collected 14 tweets in 19.69 seconds\n"
     ]
    }
   ],
   "source": [
    "news_tweets.count()"
   ]
  },
  {
   "cell_type": "code",
   "execution_count": 89,
   "metadata": {
    "collapsed": false
   },
   "outputs": [],
   "source": [
    "#news_tweets.drop()"
   ]
  },
  {
   "cell_type": "code",
   "execution_count": 2,
   "metadata": {
    "collapsed": true
   },
   "outputs": [],
   "source": [
    "from scipy import sparse\n",
    "from sklearn.base import BaseEstimator, TransformerMixin\n",
    "import re\n",
    "from nltk.stem import WordNetLemmatizer\n",
    "wordnet_lemmatizer = WordNetLemmatizer()\n",
    "\n",
    "class Preprocessor(BaseEstimator, TransformerMixin):\n",
    "    def __init__(self):\n",
    "        pass\n",
    "    \n",
    "    def fit(self, X, y=None):\n",
    "        return self\n",
    "        \n",
    "    def transform(self, X):\n",
    "        comments_clean = []\n",
    "        for c in X:\n",
    "            c = c.replace('\\\\\\\\', '\\\\')\n",
    "            c = c.replace('\\\\n', ' ')\n",
    "            #c = c.replace('\\'', '')\n",
    "            c = re.sub(r'[-_\"]', '', c)\n",
    "            c = re.sub(r'[*%&,?!;]', ' ', c)\n",
    "            c = re.sub(r\"(.)\\1{2,}\", '\\g<1>', c)\n",
    "            c = re.sub(r'\\.(\\s+|$)', ' ', c)\n",
    "            c = re.sub(r'[^\\x00-\\x7F]+',' ', c)\n",
    "            #c = re.sub(r'@[^ ]*', ' ', c)\n",
    "            #c = re.sub(r'[0-9]+', ' ', c)\n",
    "            c = re.sub(r'https?://[\\w./]+', ' ', c)\n",
    "            c = [wordnet_lemmatizer.lemmatize(wordnet_lemmatizer.lemmatize(w, pos='v')).lower() \n",
    "                          for w in c.split()]\n",
    "            c = \" \".join(w for w in c if len(w) > 2)\n",
    "            #c = \" \".join([w.lower() for w in c.split()])# if 3<=len(w)<=40])\n",
    "            comments_clean.append(c)\n",
    "        return comments_clean\n",
    "\n",
    "prep = Preprocessor()"
   ]
  },
  {
   "cell_type": "code",
   "execution_count": 3,
   "metadata": {
    "collapsed": true
   },
   "outputs": [],
   "source": [
    "from sklearn.feature_extraction.text import TfidfVectorizer, CountVectorizer\n",
    "from sklearn.feature_extraction.text import CountVectorizer\n",
    "from sklearn.feature_extraction.text import TfidfVectorizer\n",
    "import re\n",
    "from nltk.corpus import stopwords\n",
    "\n",
    "tfidf_vectorizer = TfidfVectorizer(ngram_range=(1, 2), max_df=0.5, max_features=10000,\n",
    "                             min_df=2, stop_words='english', token_pattern=u'((?u)\\\\b\\\\w\\\\w+\\\\b|[#@]\\w+)',\n",
    "                             use_idf=True)\n",
    "\n",
    "tf_vectorizer = CountVectorizer(ngram_range=(1, 2), max_df=0.5, max_features=10000,\n",
    "                             min_df=2, stop_words='english', token_pattern=u'((?u)\\\\b\\\\w\\\\w+\\\\b|[#@]\\w+)'\n",
    "                             )"
   ]
  },
  {
   "cell_type": "code",
   "execution_count": 281,
   "metadata": {
    "collapsed": false
   },
   "outputs": [],
   "source": [
    "tw = news_tweets.find().next()"
   ]
  },
  {
   "cell_type": "code",
   "execution_count": 283,
   "metadata": {
    "collapsed": false
   },
   "outputs": [
    {
     "data": {
      "text/plain": [
       "u'CBCHealth'"
      ]
     },
     "execution_count": 283,
     "metadata": {},
     "output_type": "execute_result"
    }
   ],
   "source": []
  },
  {
   "cell_type": "code",
   "execution_count": 285,
   "metadata": {
    "collapsed": false
   },
   "outputs": [],
   "source": [
    "tweets_df = pd.DataFrame([[tw['id'], tw['text'], tw['user']['screen_name']] \n",
    "                           for tw in news_tweets.find()], columns=['id', 'text', 'user'])\n"
   ]
  },
  {
   "cell_type": "code",
   "execution_count": 288,
   "metadata": {
    "collapsed": false
   },
   "outputs": [
    {
     "data": {
      "text/plain": [
       "CNN                3384\n",
       "NBCNews            3370\n",
       "washingtonpost     3367\n",
       "abcnews            3356\n",
       "TIME               3342\n",
       "ABC                3339\n",
       "CBSNews            3336\n",
       "HTSportsNews       3305\n",
       "TechCrunch         3290\n",
       "ForbesTech         3287\n",
       "EverydayHealth     3286\n",
       "BBCWorld           3283\n",
       "cbcnewsbc          3283\n",
       "FinancialTimes     3281\n",
       "CTVVancouver       3270\n",
       "GlobalBC           3264\n",
       "FoxNewsTech        3255\n",
       "CBCEnt             3250\n",
       "bn9weather         3249\n",
       "RealClearNews      3248\n",
       "AM730Traffic       3247\n",
       "TheWeatherNetUS    3247\n",
       "BNNBloomberg       3244\n",
       "NewsdaySports      3241\n",
       "SkySportsNews      3241\n",
       "ftfinancenews      3235\n",
       "foxnewspolitics    3235\n",
       "FOXSportsNews      3230\n",
       "fttechnews         3228\n",
       "NewshubPolitics    3228\n",
       "ETEconomyNews      3224\n",
       "CBSPolitics        3224\n",
       "CBSHealth          3223\n",
       "CBCVancouver       3222\n",
       "KHNews             3220\n",
       "bbchealth          3220\n",
       "technology         3220\n",
       "NBCNewsHealth      3218\n",
       "CBCHealth          3217\n",
       "ABCPolitics        3216\n",
       "NPRHealth          3216\n",
       "SkyNewsWeather     3216\n",
       "TwitterNews        3212\n",
       "NBCNewsTech        3209\n",
       "PnPCBC             3201\n",
       "HealthHive         3200\n",
       "rtetwip            1959\n",
       "breakingbytes      1725\n",
       "BBCTech            1365\n",
       "ReutersTech        1004\n",
       "SkyNewsPolitics     403\n",
       "news_welle            8\n",
       "Name: user, dtype: int64"
      ]
     },
     "execution_count": 288,
     "metadata": {},
     "output_type": "execute_result"
    }
   ],
   "source": [
    "tweets_df['user'].value_counts()"
   ]
  },
  {
   "cell_type": "code",
   "execution_count": 290,
   "metadata": {
    "collapsed": false
   },
   "outputs": [
    {
     "data": {
      "text/html": [
       "<div>\n",
       "<style>\n",
       "    .dataframe thead tr:only-child th {\n",
       "        text-align: right;\n",
       "    }\n",
       "\n",
       "    .dataframe thead th {\n",
       "        text-align: left;\n",
       "    }\n",
       "\n",
       "    .dataframe tbody tr th {\n",
       "        vertical-align: top;\n",
       "    }\n",
       "</style>\n",
       "<table border=\"1\" class=\"dataframe\">\n",
       "  <thead>\n",
       "    <tr style=\"text-align: right;\">\n",
       "      <th></th>\n",
       "      <th>id</th>\n",
       "      <th>text</th>\n",
       "      <th>user</th>\n",
       "    </tr>\n",
       "  </thead>\n",
       "  <tbody>\n",
       "    <tr>\n",
       "      <th>34882</th>\n",
       "      <td>1013558464050814981</td>\n",
       "      <td>NHS app: Will it cut down on wasted appointmen...</td>\n",
       "      <td>BBCTech</td>\n",
       "    </tr>\n",
       "    <tr>\n",
       "      <th>34883</th>\n",
       "      <td>1013207549468868613</td>\n",
       "      <td>Hi-tech dreamcatcher defeats sleep amnesia htt...</td>\n",
       "      <td>BBCTech</td>\n",
       "    </tr>\n",
       "    <tr>\n",
       "      <th>34884</th>\n",
       "      <td>1012855093866135553</td>\n",
       "      <td>Fortnite: A fortnight in my 40s in Battle Roya...</td>\n",
       "      <td>BBCTech</td>\n",
       "    </tr>\n",
       "    <tr>\n",
       "      <th>34885</th>\n",
       "      <td>1012850212044451840</td>\n",
       "      <td>AI to help tackle fake news in Mexican electio...</td>\n",
       "      <td>BBCTech</td>\n",
       "    </tr>\n",
       "    <tr>\n",
       "      <th>34886</th>\n",
       "      <td>1012792517169999877</td>\n",
       "      <td>Apple Maps: Grand plan to fix iPhone Maps app ...</td>\n",
       "      <td>BBCTech</td>\n",
       "    </tr>\n",
       "    <tr>\n",
       "      <th>34887</th>\n",
       "      <td>1012724629453058048</td>\n",
       "      <td>Tech Tent: Facebook's drone falls to earth htt...</td>\n",
       "      <td>BBCTech</td>\n",
       "    </tr>\n",
       "    <tr>\n",
       "      <th>34888</th>\n",
       "      <td>1012651242873647104</td>\n",
       "      <td>Legal bid to throw out US sex trafficking law ...</td>\n",
       "      <td>BBCTech</td>\n",
       "    </tr>\n",
       "    <tr>\n",
       "      <th>34889</th>\n",
       "      <td>1012645120611704832</td>\n",
       "      <td>Floating robot Cimon sent to International Spa...</td>\n",
       "      <td>BBCTech</td>\n",
       "    </tr>\n",
       "    <tr>\n",
       "      <th>34890</th>\n",
       "      <td>1012633058229604352</td>\n",
       "      <td>Fake bookings hit Singapore's Ryde Technologie...</td>\n",
       "      <td>BBCTech</td>\n",
       "    </tr>\n",
       "    <tr>\n",
       "      <th>34891</th>\n",
       "      <td>1012632063521054720</td>\n",
       "      <td>RT @matthew_wall: How would you make meetings ...</td>\n",
       "      <td>BBCTech</td>\n",
       "    </tr>\n",
       "    <tr>\n",
       "      <th>34892</th>\n",
       "      <td>1012381369182367744</td>\n",
       "      <td>Pokemon Go: Hiding Pikachu may hold key to AR'...</td>\n",
       "      <td>BBCTech</td>\n",
       "    </tr>\n",
       "    <tr>\n",
       "      <th>34893</th>\n",
       "      <td>1012326820832739328</td>\n",
       "      <td>Facebook and Google use 'dark patterns' around...</td>\n",
       "      <td>BBCTech</td>\n",
       "    </tr>\n",
       "    <tr>\n",
       "      <th>34894</th>\n",
       "      <td>1012301330243866625</td>\n",
       "      <td>'Dancing baby' YouTube copyright case settled ...</td>\n",
       "      <td>BBCTech</td>\n",
       "    </tr>\n",
       "    <tr>\n",
       "      <th>34895</th>\n",
       "      <td>1012297657358979072</td>\n",
       "      <td>Ticketmaster 'warned of hack attack in April b...</td>\n",
       "      <td>BBCTech</td>\n",
       "    </tr>\n",
       "    <tr>\n",
       "      <th>34896</th>\n",
       "      <td>1012294486385463296</td>\n",
       "      <td>New Fortnite practice mode quickly taken offli...</td>\n",
       "      <td>BBCTech</td>\n",
       "    </tr>\n",
       "    <tr>\n",
       "      <th>34897</th>\n",
       "      <td>1012289425068494849</td>\n",
       "      <td>Elon Musk accused of stealing farting unicorn ...</td>\n",
       "      <td>BBCTech</td>\n",
       "    </tr>\n",
       "    <tr>\n",
       "      <th>34898</th>\n",
       "      <td>1012036847781007374</td>\n",
       "      <td>Google Home speakers complain of 'glitch' http...</td>\n",
       "      <td>BBCTech</td>\n",
       "    </tr>\n",
       "    <tr>\n",
       "      <th>34899</th>\n",
       "      <td>1012019965082456064</td>\n",
       "      <td>Ticketmaster admits personal data stolen in ha...</td>\n",
       "      <td>BBCTech</td>\n",
       "    </tr>\n",
       "    <tr>\n",
       "      <th>34900</th>\n",
       "      <td>1011964029055758341</td>\n",
       "      <td>Swann home security camera sends video to wron...</td>\n",
       "      <td>BBCTech</td>\n",
       "    </tr>\n",
       "    <tr>\n",
       "      <th>34901</th>\n",
       "      <td>1011957864833998850</td>\n",
       "      <td>Google's robot caller in first public trial ht...</td>\n",
       "      <td>BBCTech</td>\n",
       "    </tr>\n",
       "    <tr>\n",
       "      <th>34902</th>\n",
       "      <td>1011926374569955328</td>\n",
       "      <td>BBC releases computer history archive https://...</td>\n",
       "      <td>BBCTech</td>\n",
       "    </tr>\n",
       "    <tr>\n",
       "      <th>34903</th>\n",
       "      <td>1011843762153316352</td>\n",
       "      <td>Facebook abandons its Project Aquila flying in...</td>\n",
       "      <td>BBCTech</td>\n",
       "    </tr>\n",
       "    <tr>\n",
       "      <th>34904</th>\n",
       "      <td>1011638858537193473</td>\n",
       "      <td>Scammers abuse multilingual domain names https...</td>\n",
       "      <td>BBCTech</td>\n",
       "    </tr>\n",
       "    <tr>\n",
       "      <th>34905</th>\n",
       "      <td>1011611162709057537</td>\n",
       "      <td>RT @thisisFoxx: Maps can reveal some surprisin...</td>\n",
       "      <td>BBCTech</td>\n",
       "    </tr>\n",
       "    <tr>\n",
       "      <th>34906</th>\n",
       "      <td>1011572009204150278</td>\n",
       "      <td>European readers still blocked from some US ne...</td>\n",
       "      <td>BBCTech</td>\n",
       "    </tr>\n",
       "    <tr>\n",
       "      <th>34907</th>\n",
       "      <td>1011570202172186624</td>\n",
       "      <td>E-sports team banned for using programmable mo...</td>\n",
       "      <td>BBCTech</td>\n",
       "    </tr>\n",
       "    <tr>\n",
       "      <th>34908</th>\n",
       "      <td>1011525753979265025</td>\n",
       "      <td>RT @matthew_wall: One day all homes will have ...</td>\n",
       "      <td>BBCTech</td>\n",
       "    </tr>\n",
       "    <tr>\n",
       "      <th>34909</th>\n",
       "      <td>1011264042403549184</td>\n",
       "      <td>Adobe says it can identify manipulated images ...</td>\n",
       "      <td>BBCTech</td>\n",
       "    </tr>\n",
       "    <tr>\n",
       "      <th>34910</th>\n",
       "      <td>1011227752161271810</td>\n",
       "      <td>Red Hen Yelp listing becomes net battleground ...</td>\n",
       "      <td>BBCTech</td>\n",
       "    </tr>\n",
       "    <tr>\n",
       "      <th>34911</th>\n",
       "      <td>1011204127404290048</td>\n",
       "      <td>Westworld game hit by Bethesda legal claim htt...</td>\n",
       "      <td>BBCTech</td>\n",
       "    </tr>\n",
       "    <tr>\n",
       "      <th>...</th>\n",
       "      <td>...</td>\n",
       "      <td>...</td>\n",
       "      <td>...</td>\n",
       "    </tr>\n",
       "    <tr>\n",
       "      <th>36217</th>\n",
       "      <td>953061323352559616</td>\n",
       "      <td>Panic buying https://t.co/0tNHPeU5U3</td>\n",
       "      <td>BBCTech</td>\n",
       "    </tr>\n",
       "    <tr>\n",
       "      <th>36218</th>\n",
       "      <td>952962127890911232</td>\n",
       "      <td>Hackers steal $400,000 of crypto-currency http...</td>\n",
       "      <td>BBCTech</td>\n",
       "    </tr>\n",
       "    <tr>\n",
       "      <th>36219</th>\n",
       "      <td>952953111366328320</td>\n",
       "      <td>CES 2018: Time machine camera lets you record ...</td>\n",
       "      <td>BBCTech</td>\n",
       "    </tr>\n",
       "    <tr>\n",
       "      <th>36220</th>\n",
       "      <td>952952205828657152</td>\n",
       "      <td>Denmark Facebook sex video: More than 1,000 yo...</td>\n",
       "      <td>BBCTech</td>\n",
       "    </tr>\n",
       "    <tr>\n",
       "      <th>36221</th>\n",
       "      <td>952889264345419776</td>\n",
       "      <td>Malware populates children's apps with porn ad...</td>\n",
       "      <td>BBCTech</td>\n",
       "    </tr>\n",
       "    <tr>\n",
       "      <th>36222</th>\n",
       "      <td>952888440072425474</td>\n",
       "      <td>Ford to boost investment in electric cars by 2...</td>\n",
       "      <td>BBCTech</td>\n",
       "    </tr>\n",
       "    <tr>\n",
       "      <th>36223</th>\n",
       "      <td>952874546427777024</td>\n",
       "      <td>American charged over deadly 'swatting' raid h...</td>\n",
       "      <td>BBCTech</td>\n",
       "    </tr>\n",
       "    <tr>\n",
       "      <th>36224</th>\n",
       "      <td>952822226444865537</td>\n",
       "      <td>Captured paedophile https://t.co/oqXgHtSfEc</td>\n",
       "      <td>BBCTech</td>\n",
       "    </tr>\n",
       "    <tr>\n",
       "      <th>36225</th>\n",
       "      <td>952821333108379651</td>\n",
       "      <td>Thousands struggle to access childcare on glit...</td>\n",
       "      <td>BBCTech</td>\n",
       "    </tr>\n",
       "    <tr>\n",
       "      <th>36226</th>\n",
       "      <td>952821333053857798</td>\n",
       "      <td>Softbank plans $18bn share sale of its mobile ...</td>\n",
       "      <td>BBCTech</td>\n",
       "    </tr>\n",
       "    <tr>\n",
       "      <th>36227</th>\n",
       "      <td>952592378015240193</td>\n",
       "      <td>RT @matthew_wall: Is desalination of sea water...</td>\n",
       "      <td>BBCTech</td>\n",
       "    </tr>\n",
       "    <tr>\n",
       "      <th>36228</th>\n",
       "      <td>952078097305751552</td>\n",
       "      <td>CES 2018: CarWink emojis seek to replace drive...</td>\n",
       "      <td>BBCTech</td>\n",
       "    </tr>\n",
       "    <tr>\n",
       "      <th>36229</th>\n",
       "      <td>952024271655665664</td>\n",
       "      <td>CES 2018: Bringing female equality to WWE's wr...</td>\n",
       "      <td>BBCTech</td>\n",
       "    </tr>\n",
       "    <tr>\n",
       "      <th>36230</th>\n",
       "      <td>952013869639225346</td>\n",
       "      <td>CES 2018: Food store AI sees what you put in b...</td>\n",
       "      <td>BBCTech</td>\n",
       "    </tr>\n",
       "    <tr>\n",
       "      <th>36231</th>\n",
       "      <td>952002397395709952</td>\n",
       "      <td>CES 2018: Wireless recharging while on the mov...</td>\n",
       "      <td>BBCTech</td>\n",
       "    </tr>\n",
       "    <tr>\n",
       "      <th>36232</th>\n",
       "      <td>951999070083715077</td>\n",
       "      <td>CES 2018: Merge Blaster mixes real world with ...</td>\n",
       "      <td>BBCTech</td>\n",
       "    </tr>\n",
       "    <tr>\n",
       "      <th>36233</th>\n",
       "      <td>951854561500778497</td>\n",
       "      <td>Snapchat redesign is a 'flop' with users https...</td>\n",
       "      <td>BBCTech</td>\n",
       "    </tr>\n",
       "    <tr>\n",
       "      <th>36234</th>\n",
       "      <td>951850841941725185</td>\n",
       "      <td>Facebook and Twitter effect on political leade...</td>\n",
       "      <td>BBCTech</td>\n",
       "    </tr>\n",
       "    <tr>\n",
       "      <th>36235</th>\n",
       "      <td>951842319589879809</td>\n",
       "      <td>RT @matthew_wall: As major cities face severe ...</td>\n",
       "      <td>BBCTech</td>\n",
       "    </tr>\n",
       "    <tr>\n",
       "      <th>36236</th>\n",
       "      <td>951815750540345344</td>\n",
       "      <td>China shuts Marriott's website over Tibet and ...</td>\n",
       "      <td>BBCTech</td>\n",
       "    </tr>\n",
       "    <tr>\n",
       "      <th>36237</th>\n",
       "      <td>951802315144683521</td>\n",
       "      <td>Apple health data used in murder trial https:/...</td>\n",
       "      <td>BBCTech</td>\n",
       "    </tr>\n",
       "    <tr>\n",
       "      <th>36238</th>\n",
       "      <td>951791691287101440</td>\n",
       "      <td>Europe puts 1bn euros into supercomputer resea...</td>\n",
       "      <td>BBCTech</td>\n",
       "    </tr>\n",
       "    <tr>\n",
       "      <th>36239</th>\n",
       "      <td>951760607220588545</td>\n",
       "      <td>CES 2018: A look at the show's highlights http...</td>\n",
       "      <td>BBCTech</td>\n",
       "    </tr>\n",
       "    <tr>\n",
       "      <th>36240</th>\n",
       "      <td>951713099870015490</td>\n",
       "      <td>PubG creator says the game is 'not eSports rea...</td>\n",
       "      <td>BBCTech</td>\n",
       "    </tr>\n",
       "    <tr>\n",
       "      <th>36241</th>\n",
       "      <td>951706781738328064</td>\n",
       "      <td>RT @DaveLeeBBC: When you try really hard at a ...</td>\n",
       "      <td>BBCTech</td>\n",
       "    </tr>\n",
       "    <tr>\n",
       "      <th>133027</th>\n",
       "      <td>1013821047714566145</td>\n",
       "      <td>NHS data breach affects 150,000 patients in En...</td>\n",
       "      <td>BBCTech</td>\n",
       "    </tr>\n",
       "    <tr>\n",
       "      <th>133028</th>\n",
       "      <td>1013771642991005697</td>\n",
       "      <td>Dashcam footage submission website goes live h...</td>\n",
       "      <td>BBCTech</td>\n",
       "    </tr>\n",
       "    <tr>\n",
       "      <th>133029</th>\n",
       "      <td>1013759535415222272</td>\n",
       "      <td>Facebook reveals its data-sharing VIPs https:/...</td>\n",
       "      <td>BBCTech</td>\n",
       "    </tr>\n",
       "    <tr>\n",
       "      <th>133868</th>\n",
       "      <td>1013865514945466368</td>\n",
       "      <td>Facebook bug unblocked unwanted users https://...</td>\n",
       "      <td>BBCTech</td>\n",
       "    </tr>\n",
       "    <tr>\n",
       "      <th>133971</th>\n",
       "      <td>1013923335825252352</td>\n",
       "      <td>Jawbone fitness trackers removed from online s...</td>\n",
       "      <td>BBCTech</td>\n",
       "    </tr>\n",
       "  </tbody>\n",
       "</table>\n",
       "<p>1365 rows × 3 columns</p>\n",
       "</div>"
      ],
      "text/plain": [
       "                         id  \\\n",
       "34882   1013558464050814981   \n",
       "34883   1013207549468868613   \n",
       "34884   1012855093866135553   \n",
       "34885   1012850212044451840   \n",
       "34886   1012792517169999877   \n",
       "34887   1012724629453058048   \n",
       "34888   1012651242873647104   \n",
       "34889   1012645120611704832   \n",
       "34890   1012633058229604352   \n",
       "34891   1012632063521054720   \n",
       "34892   1012381369182367744   \n",
       "34893   1012326820832739328   \n",
       "34894   1012301330243866625   \n",
       "34895   1012297657358979072   \n",
       "34896   1012294486385463296   \n",
       "34897   1012289425068494849   \n",
       "34898   1012036847781007374   \n",
       "34899   1012019965082456064   \n",
       "34900   1011964029055758341   \n",
       "34901   1011957864833998850   \n",
       "34902   1011926374569955328   \n",
       "34903   1011843762153316352   \n",
       "34904   1011638858537193473   \n",
       "34905   1011611162709057537   \n",
       "34906   1011572009204150278   \n",
       "34907   1011570202172186624   \n",
       "34908   1011525753979265025   \n",
       "34909   1011264042403549184   \n",
       "34910   1011227752161271810   \n",
       "34911   1011204127404290048   \n",
       "...                     ...   \n",
       "36217    953061323352559616   \n",
       "36218    952962127890911232   \n",
       "36219    952953111366328320   \n",
       "36220    952952205828657152   \n",
       "36221    952889264345419776   \n",
       "36222    952888440072425474   \n",
       "36223    952874546427777024   \n",
       "36224    952822226444865537   \n",
       "36225    952821333108379651   \n",
       "36226    952821333053857798   \n",
       "36227    952592378015240193   \n",
       "36228    952078097305751552   \n",
       "36229    952024271655665664   \n",
       "36230    952013869639225346   \n",
       "36231    952002397395709952   \n",
       "36232    951999070083715077   \n",
       "36233    951854561500778497   \n",
       "36234    951850841941725185   \n",
       "36235    951842319589879809   \n",
       "36236    951815750540345344   \n",
       "36237    951802315144683521   \n",
       "36238    951791691287101440   \n",
       "36239    951760607220588545   \n",
       "36240    951713099870015490   \n",
       "36241    951706781738328064   \n",
       "133027  1013821047714566145   \n",
       "133028  1013771642991005697   \n",
       "133029  1013759535415222272   \n",
       "133868  1013865514945466368   \n",
       "133971  1013923335825252352   \n",
       "\n",
       "                                                     text     user  \n",
       "34882   NHS app: Will it cut down on wasted appointmen...  BBCTech  \n",
       "34883   Hi-tech dreamcatcher defeats sleep amnesia htt...  BBCTech  \n",
       "34884   Fortnite: A fortnight in my 40s in Battle Roya...  BBCTech  \n",
       "34885   AI to help tackle fake news in Mexican electio...  BBCTech  \n",
       "34886   Apple Maps: Grand plan to fix iPhone Maps app ...  BBCTech  \n",
       "34887   Tech Tent: Facebook's drone falls to earth htt...  BBCTech  \n",
       "34888   Legal bid to throw out US sex trafficking law ...  BBCTech  \n",
       "34889   Floating robot Cimon sent to International Spa...  BBCTech  \n",
       "34890   Fake bookings hit Singapore's Ryde Technologie...  BBCTech  \n",
       "34891   RT @matthew_wall: How would you make meetings ...  BBCTech  \n",
       "34892   Pokemon Go: Hiding Pikachu may hold key to AR'...  BBCTech  \n",
       "34893   Facebook and Google use 'dark patterns' around...  BBCTech  \n",
       "34894   'Dancing baby' YouTube copyright case settled ...  BBCTech  \n",
       "34895   Ticketmaster 'warned of hack attack in April b...  BBCTech  \n",
       "34896   New Fortnite practice mode quickly taken offli...  BBCTech  \n",
       "34897   Elon Musk accused of stealing farting unicorn ...  BBCTech  \n",
       "34898   Google Home speakers complain of 'glitch' http...  BBCTech  \n",
       "34899   Ticketmaster admits personal data stolen in ha...  BBCTech  \n",
       "34900   Swann home security camera sends video to wron...  BBCTech  \n",
       "34901   Google's robot caller in first public trial ht...  BBCTech  \n",
       "34902   BBC releases computer history archive https://...  BBCTech  \n",
       "34903   Facebook abandons its Project Aquila flying in...  BBCTech  \n",
       "34904   Scammers abuse multilingual domain names https...  BBCTech  \n",
       "34905   RT @thisisFoxx: Maps can reveal some surprisin...  BBCTech  \n",
       "34906   European readers still blocked from some US ne...  BBCTech  \n",
       "34907   E-sports team banned for using programmable mo...  BBCTech  \n",
       "34908   RT @matthew_wall: One day all homes will have ...  BBCTech  \n",
       "34909   Adobe says it can identify manipulated images ...  BBCTech  \n",
       "34910   Red Hen Yelp listing becomes net battleground ...  BBCTech  \n",
       "34911   Westworld game hit by Bethesda legal claim htt...  BBCTech  \n",
       "...                                                   ...      ...  \n",
       "36217                Panic buying https://t.co/0tNHPeU5U3  BBCTech  \n",
       "36218   Hackers steal $400,000 of crypto-currency http...  BBCTech  \n",
       "36219   CES 2018: Time machine camera lets you record ...  BBCTech  \n",
       "36220   Denmark Facebook sex video: More than 1,000 yo...  BBCTech  \n",
       "36221   Malware populates children's apps with porn ad...  BBCTech  \n",
       "36222   Ford to boost investment in electric cars by 2...  BBCTech  \n",
       "36223   American charged over deadly 'swatting' raid h...  BBCTech  \n",
       "36224         Captured paedophile https://t.co/oqXgHtSfEc  BBCTech  \n",
       "36225   Thousands struggle to access childcare on glit...  BBCTech  \n",
       "36226   Softbank plans $18bn share sale of its mobile ...  BBCTech  \n",
       "36227   RT @matthew_wall: Is desalination of sea water...  BBCTech  \n",
       "36228   CES 2018: CarWink emojis seek to replace drive...  BBCTech  \n",
       "36229   CES 2018: Bringing female equality to WWE's wr...  BBCTech  \n",
       "36230   CES 2018: Food store AI sees what you put in b...  BBCTech  \n",
       "36231   CES 2018: Wireless recharging while on the mov...  BBCTech  \n",
       "36232   CES 2018: Merge Blaster mixes real world with ...  BBCTech  \n",
       "36233   Snapchat redesign is a 'flop' with users https...  BBCTech  \n",
       "36234   Facebook and Twitter effect on political leade...  BBCTech  \n",
       "36235   RT @matthew_wall: As major cities face severe ...  BBCTech  \n",
       "36236   China shuts Marriott's website over Tibet and ...  BBCTech  \n",
       "36237   Apple health data used in murder trial https:/...  BBCTech  \n",
       "36238   Europe puts 1bn euros into supercomputer resea...  BBCTech  \n",
       "36239   CES 2018: A look at the show's highlights http...  BBCTech  \n",
       "36240   PubG creator says the game is 'not eSports rea...  BBCTech  \n",
       "36241   RT @DaveLeeBBC: When you try really hard at a ...  BBCTech  \n",
       "133027  NHS data breach affects 150,000 patients in En...  BBCTech  \n",
       "133028  Dashcam footage submission website goes live h...  BBCTech  \n",
       "133029  Facebook reveals its data-sharing VIPs https:/...  BBCTech  \n",
       "133868  Facebook bug unblocked unwanted users https://...  BBCTech  \n",
       "133971  Jawbone fitness trackers removed from online s...  BBCTech  \n",
       "\n",
       "[1365 rows x 3 columns]"
      ]
     },
     "execution_count": 290,
     "metadata": {},
     "output_type": "execute_result"
    }
   ],
   "source": [
    "tweets_df[tweets_df['user']=='BBCTech']"
   ]
  },
  {
   "cell_type": "code",
   "execution_count": 4,
   "metadata": {
    "collapsed": true
   },
   "outputs": [],
   "source": [
    "import numpy as np"
   ]
  },
  {
   "cell_type": "code",
   "execution_count": 5,
   "metadata": {
    "collapsed": false
   },
   "outputs": [],
   "source": [
    "tweets_id = np.array([tw['id'] for tw in news_tweets.find()])\n",
    "tweets_text = np.array([tw['text'] for tw in news_tweets.find()])\n",
    "tweets_text_processed = prep.fit_transform(tweets_text)\n",
    "#tweets_text_vec = tfidv_vectorizer.fit_transform(text_processed)\n",
    "#tweets_text_count_vec = count_vectorizer.fit_transform(text_processed)"
   ]
  },
  {
   "cell_type": "code",
   "execution_count": 48,
   "metadata": {
    "collapsed": false
   },
   "outputs": [
    {
     "data": {
      "text/plain": [
       "'\\n\\nimport gensim\\nfrom gensim.utils import simple_preprocess\\nfrom gensim.parsing.preprocessing import STOPWORDS\\nfrom nltk.stem import WordNetLemmatizer, SnowballStemmer\\nfrom nltk.stem.porter import *\\nimport numpy as np\\nnp.random.seed(2018)\\n\\nstemmer = SnowballStemmer(\\'english\\')\\nlemmatizer = WordNetLemmatizer()\\n\\ndef lemmatize_stemming(text, stem=True):\\n    result = lemmatizer.lemmatize(text, pos=\\'v\\')\\n    if stem:\\n        result = stemmer.stem(result)\\n    return result\\n    \\ndef preprocess(text):\\n    \\n    result = []\\n    for token in gensim.utils.simple_preprocess(text):\\n        if token not in gensim.parsing.preprocessing.STOPWORDS             and len(token) > 3 and len(token) < 40             and token.isalpha:\\n            result.append(lemmatize_stemming(token, stem=False))\\n    return \" \".join(result)\\n\\n\\nfrom sklearn.datasets import fetch_20newsgroups\\n\\n#dataset = fetch_20newsgroups(shuffle=True, random_state=1, remove=(\\'headers\\', \\'footers\\', \\'quotes\\'))\\ndocuments = [preprocess(tw[\\'text\\']) for tw in news_tweets.find()]\\n'"
      ]
     },
     "execution_count": 48,
     "metadata": {},
     "output_type": "execute_result"
    }
   ],
   "source": [
    "\"\"\"\n",
    "\n",
    "import gensim\n",
    "from gensim.utils import simple_preprocess\n",
    "from gensim.parsing.preprocessing import STOPWORDS\n",
    "from nltk.stem import WordNetLemmatizer, SnowballStemmer\n",
    "from nltk.stem.porter import *\n",
    "import numpy as np\n",
    "np.random.seed(2018)\n",
    "\n",
    "stemmer = SnowballStemmer('english')\n",
    "lemmatizer = WordNetLemmatizer()\n",
    "\n",
    "def lemmatize_stemming(text, stem=True):\n",
    "    result = lemmatizer.lemmatize(text, pos='v')\n",
    "    if stem:\n",
    "        result = stemmer.stem(result)\n",
    "    return result\n",
    "    \n",
    "def preprocess(text):\n",
    "    \n",
    "    result = []\n",
    "    for token in gensim.utils.simple_preprocess(text):\n",
    "        if token not in gensim.parsing.preprocessing.STOPWORDS \\\n",
    "            and len(token) > 3 and len(token) < 40 \\\n",
    "            and token.isalpha:\n",
    "            result.append(lemmatize_stemming(token, stem=False))\n",
    "    return \" \".join(result)\n",
    "\n",
    "\n",
    "from sklearn.datasets import fetch_20newsgroups\n",
    "\n",
    "#dataset = fetch_20newsgroups(shuffle=True, random_state=1, remove=('headers', 'footers', 'quotes'))\n",
    "documents = [preprocess(tw['text']) for tw in news_tweets.find()]\n",
    "\"\"\""
   ]
  },
  {
   "cell_type": "code",
   "execution_count": 37,
   "metadata": {
    "collapsed": false
   },
   "outputs": [
    {
     "name": "stdout",
     "output_type": "stream",
     "text": [
      "Topic 0: 6329 tweets\n",
      "forecast weather weather forecast watch evening weather watch evening evening @skynewsnaz forecast @skynewsnaz latest weather watch latest friday weather watch friday latest friday tuesday weather watch tuesday saturday weather watch saturday thursday weather\n",
      "Topic 1: 15979 tweets\n",
      "china bank trade deal tech canada big company market fund billion share buy war hit raise investment tariff government india\n",
      "Topic 2: 1558 tweets\n",
      "twitter live twitter watch starting miss live @markets twitter miss @markets live starting @markets #cheddarlive miss watch twitter watch @cheddar @cheddar live watch #cheddarlive starting @cheddar tap tap watch tune\n",
      "Topic 3: 2783 tweets\n",
      "health mental mental health insurance health insurance health news public health health care yahoo public @khnews health law law health risk health canada health official women gop kaiser affect\n",
      "Topic 4: 3635 tweets\n",
      "trump president president trump donald donald trump trump say kim kim jong jong administration pres pres trump trump administration immigration meet opinion analysis trump kim policy president donald\n",
      "Topic 5: 4447 tweets\n",
      "amp rain ireland shower england dry scotland clear sunny spell wales tonight mainly cloudy britain ireland amp heavy sunny spell later cloud\n",
      "Topic 6: 3544 tweets\n",
      "new york new york new study city zealand new zealand study york city jersey new jersey announce launch new launch rule research new research unveil new report unveil new\n",
      "Topic 7: 2515 tweets\n",
      "world cup world cup 2018 russia cup 2018 fifa 2018 world mexico fifa world 2026 team fan host soccer biggest germany england cup russia football\n",
      "Topic 8: 3400 tweets\n",
      "say trump say expert police say expert say study say official official say report say doctor doctor say @globalnews science minister science say @richardzussman ceo think source say government\n",
      "Topic 9: 4208 tweets\n",
      "lane right leave right lane crash eastbound rae #bchwy1 leave lane jj stall block westbound hwy #vancouver ave southbound lane jj northbound rlid\n",
      "Topic 10: 1966 tweets\n",
      "know need need know thing know open open bell bell @paulbagnellbnn bell @paulbagnellbnn don know open don want know didn know didn thing know thing need really did know happen\n",
      "Topic 11: 1942 tweets\n",
      "morning juli marquez juli marquez #tampabay good morning cold #flwx good warm shower afternoon picture fog temperature rain sunrise #tampa cool low\n",
      "Topic 12: 2551 tweets\n",
      "#fntech @spacedotcom @spacedotcom #fntech @pcmag @pcmag #fntech @livescience @livescience #fntech @newser @newser #fntech nasa @digitaltrends space @digitaltrends #fntech mars earth planet alien moon discover ancient\n",
      "Topic 13: 2017 tweets\n",
      "make mistake worse make sure easier sure sick feel history decision make big trump make make sick make history make feel difference comeback great money make money\n",
      "Topic 14: 2166 tweets\n",
      "year year ago ago year old old new year flu nearly million 100 time year later year later 100 year sentence season nearly year million year spend record\n",
      "Topic 15: 2296 tweets\n",
      "north korea north korea kim summit jong kim jong korean north korean meet leader singapore south korean leader leader kim south korea historic korea summit trump kim nuclear\n",
      "Topic 16: 1114 tweets\n",
      "today today weather watch today @skyisobel forecast @skyisobel weather weather forecast forecast watch @kirstymccabe latest weather watch latest latest high severe story expect @mikeclay big break\n",
      "Topic 17: 2858 tweets\n",
      "breaking #ssn sign manager contract sky beat confirm deal coach sky sources sources league club test final appoint leave play season\n",
      "Topic 18: 2084 tweets\n",
      "people think kill young people news people young don kill people people eat help people people don people die bad love people live die injure likely people love aren\n",
      "Topic 19: 1683 tweets\n",
      "time time warner warner time year spend long time best time cover long second time second influential just time spend time daylight wait time wait internet travel list\n",
      "Topic 20: 1860 tweets\n",
      "woman men pregnant pregnant woman saudi woman die birth black woman say sex black woman attack drive wonder woman wonder die help woman saudi woman saudi arabia arabia\n",
      "Topic 21: 2319 tweets\n",
      "court supreme supreme court rule ban travel court rule travel ban case justice uphold decision kennedy trump travel law court justice court uphold appeal state nominee\n",
      "Topic 22: 1483 tweets\n",
      "care health care health gop senate care law gop health care reform republican vote reform senate health obama care plan care act @khnews law act cost care home\n",
      "Topic 23: 3805 tweets\n",
      "live watch live @foxsportsnews watch follow join 2018 update coverage tune #worldcup follow live @ipl @ipl 2018 stream #periscope speak @httweets live @foxsportsnews @nerolimfox\n",
      "Topic 24: 2013 tweets\n",
      "day father happy father day start canada day goal goal day day forecast celebrate start day valentine day valentine today @annluu canada just day weekend memorial day tomorrow\n",
      "Topic 25: 1846 tweets\n",
      "help kid help save help people save patient tip help food help help kid tip exercise fight help fight help woman brain help protect learn help prevent pound treat\n",
      "Topic 26: 545 tweets\n",
      "technology bloomberg @technology bloomberg technology @technology live twitter bloomberg watch live twitter twitter technology watch starting @technology live starting watch @technology tap watch tap technology live twitter @technology tune bnn bloomberg\n",
      "Topic 27: 2378 tweets\n",
      "facebook data zuckerberg privacy mark cambridge mark zuckerberg analytica user cambridge analytica google scandal share facebook data facebook google ceo lawmaker facebook live question facebook say\n",
      "Topic 28: 1899 tweets\n",
      "look like look like feel inside looks like look forward looks feel like forward weekend closer look closer really ahead @cbsthismorning @globalnews headline look inside season\n",
      "Topic 29: 3194 tweets\n",
      "child family separate border parent separation policy migrant family separation administration child separate immigrant separate family trump administration migrant child family border reunite separate parent separate child policy separate\n",
      "Topic 30: 1720 tweets\n",
      "week pictures week pictures story week review review vote snow read ahead week ahead expect season best fortnite work week april return 2018 catchup\n",
      "Topic 31: 1746 tweets\n",
      "just page financial just published published page published edition financial times page financial times june think ms international edition times international trump just just day times edition international eastbound just\n",
      "Topic 32: 5570 tweets\n",
      "risk study cancer drug new study heart breast breast cancer increase patient warn death test link disease doctor higher raise study say treatment\n",
      "Topic 33: 1568 tweets\n",
      "house white white house press house press brief press brief sanders sarah vote sarah sanders pres immigration pres trump hold secretary press secretary eagles live white republicans\n",
      "Topic 34: 2104 tweets\n",
      "news good good news bad story fake fake news bad news health news fox conference news conference good morning cbc cbc news news people fox news breaking news sports sports news\n",
      "Topic 35: 2254 tweets\n",
      "win #worldcup title beat prize @abcgrandstand award @httweets goal open watch awards race run australia primary final big #frenchopen series\n",
      "Topic 36: 1006 tweets\n",
      "diane kacmarik diane kacmarik #fl sunday #sunset saturday storm rain #florida county #tampabay thanks friday wind #tampa kacmarik #sunset heavy 30 great\n",
      "Topic 37: 1526 tweets\n",
      "way best way better new way change way better way best simple way deal nordel way build nordel easy way clean wealth #burnaby simple learn canada way way eat\n",
      "Topic 38: 1776 tweets\n",
      "report report say new report share special special report earn fbi news special inspector inspector general general @breakingmoney revenue estimate @abc say report billion profit general report\n",
      "Topic 39: 1708 tweets\n",
      "want don don want want know know think say want want make tell trump want really ask better want lose want help doesn want question don know check just want\n",
      "Topic 40: 2177 tweets\n",
      "game video play video game game thrones thrones player #worldcup youtube nintendo fortnite baseball fan console war game team tonight season mobile final\n",
      "Topic 41: 7216 tweets\n",
      "man police shoot kill death charge vancouver officer arrest suspect home police say dead die police officer school murder attack capital investigate\n",
      "Topic 42: 1281 tweets\n",
      "@bn9weather @barbarabarbnan @barbarabarbnan @bn9weather sunset beach view @bn9 sun @mcclurewx #flwx beautiful sky clouds @bn9 @bn9weather @bn9weather sunset @raeganwolf @raeganwolf @bn9 belleair belleair beach redington\n",
      "Topic 43: 1713 tweets\n",
      "change life change life trick save climate climate change trick change save life habit change way forever lifestyle relay life relay life expectancy expectancy bring major music\n",
      "Topic 44: 1360 tweets\n",
      "work work week medicaid start @khnews don hard say work great really work @khnews morning requirement artist work requirement signal bring transmitter isn create\n",
      "Topic 45: 1755 tweets\n",
      "apple iphone app ios apple watch google #wwdc18 store samsung new iphone apple iphone iphones wwdc launch feature update patent supplier app store music\n",
      "Topic 46: 1467 tweets\n",
      "come come away soon come end come home away vancouver big come day home true end story forward long ll start science warn @foxsportsnews\n",
      "Topic 47: 1489 tweets\n",
      "plan health plan unveil care plan gop say plan announce brexit government unveil plan plan build trump plan fly gop health new plan announce plan investment insurance cut fund\n",
      "Topic 48: 1590 tweets\n",
      "use drug vote use tweet @foxnrl vote drug use marijuana people use opioid trump use teen question ask google data trick treat send use caution\n",
      "Topic 49: 2500 tweets\n",
      "best weight lose loss eat weight loss food lose weight diet diabetes pound diabetes weight food eat best way habit worst follow thing pounds body\n"
     ]
    }
   ],
   "source": [
    "from sklearn.decomposition import NMF, LatentDirichletAllocation\n",
    "\n",
    "def display_topics(model, feature_names, no_top_words):\n",
    "    nmf_lables = nmf.transform(tfidf).argmax(axis=1)\n",
    "\n",
    "    for topic_idx, topic in enumerate(model.components_):\n",
    "        n_tweets = np.sum(nmf_lables == topic_idx)\n",
    "        print \"Topic %d: %d tweets\" % (topic_idx, n_tweets)\n",
    "        print \" \".join([feature_names[i]\n",
    "                        for i in topic.argsort()[:-no_top_words - 1:-1]])\n",
    "        print\n",
    "        \n",
    "\n",
    "no_features = 1000\n",
    "no_topics = 50\n",
    "\n",
    "# Data cleaning\n",
    "\n",
    "\n",
    "\n",
    "# NMF is able to use tf-idf\n",
    "#tfidf_vectorizer = TfidfVectorizer(max_df=0.95, min_df=2, max_features=no_features, stop_words='english')\n",
    "tfidf = tfidf_vectorizer.fit_transform(tweets_text_processed)\n",
    "tfidf_feature_names = tfidf_vectorizer.get_feature_names()\n",
    "\n",
    "# Run NMF\n",
    "nmf = NMF(n_components=no_topics, random_state=1, alpha=.1, l1_ratio=.5, init='nndsvd')\n",
    "nmf.fit(tfidf)\n",
    "\n",
    "\"\"\"\n",
    "# LDA can only use raw term counts for LDA because it is a probabilistic graphical model\n",
    "#tf_vectorizer = CountVectorizer(max_df=0.95, min_df=2, max_features=no_features, stop_words='english')\n",
    "tf = tf_vectorizer.fit_transform(tweets_text_processed)\n",
    "tf_feature_names = tf_vectorizer.get_feature_names()\n",
    "\n",
    "# Run LDA\n",
    "lda = LatentDirichletAllocation(n_topics=no_topics, max_iter=15, learning_method='online', learning_decay=.9, learning_offset=50.,random_state=0)\n",
    "lda.fit(tf)\n",
    "\"\"\"\n",
    "\n",
    "no_top_words = 20\n",
    "display_topics(nmf, tfidf_feature_names, no_top_words)\n",
    "#display_topics(lda, tf_feature_names, no_top_words)"
   ]
  },
  {
   "cell_type": "code",
   "execution_count": 28,
   "metadata": {
    "collapsed": false
   },
   "outputs": [
    {
     "name": "stdout",
     "output_type": "stream",
     "text": [
      "Topic 0: 6329 tweets\n",
      "forecast weather weather forecast watch evening weather watch evening evening @skynewsnaz forecast @skynewsnaz latest weather watch latest friday weather watch friday latest friday tuesday weather watch tuesday saturday weather watch saturday thursday weather\n",
      "\n",
      "Topic 1: 15979 tweets\n",
      "china bank trade deal tech canada big company market fund billion share buy war hit raise investment tariff government india\n",
      "\n",
      "Topic 2: 1558 tweets\n",
      "twitter live twitter watch starting miss live @markets twitter miss @markets live starting @markets #cheddarlive miss watch twitter watch @cheddar @cheddar live watch #cheddarlive starting @cheddar tap tap watch tune\n",
      "\n",
      "Topic 3: 2783 tweets\n",
      "health mental mental health insurance health insurance health news public health health care yahoo public @khnews health law law health risk health canada health official women gop kaiser affect\n",
      "\n",
      "Topic 4: 3635 tweets\n",
      "trump president president trump donald donald trump trump say kim kim jong jong administration pres pres trump trump administration immigration meet opinion analysis trump kim policy president donald\n",
      "\n",
      "Topic 5: 4447 tweets\n",
      "amp rain ireland shower england dry scotland clear sunny spell wales tonight mainly cloudy britain ireland amp heavy sunny spell later cloud\n",
      "\n",
      "Topic 6: 3544 tweets\n",
      "new york new york new study city zealand new zealand study york city jersey new jersey announce launch new launch rule research new research unveil new report unveil new\n",
      "\n",
      "Topic 7: 2515 tweets\n",
      "world cup world cup 2018 russia cup 2018 fifa 2018 world mexico fifa world 2026 team fan host soccer biggest germany england cup russia football\n",
      "\n",
      "Topic 8: 3400 tweets\n",
      "say trump say expert police say expert say study say official official say report say doctor doctor say @globalnews science minister science say @richardzussman ceo think source say government\n",
      "\n",
      "Topic 9: 4208 tweets\n",
      "lane right leave right lane crash eastbound rae #bchwy1 leave lane jj stall block westbound hwy #vancouver ave southbound lane jj northbound rlid\n",
      "\n",
      "Topic 10: 1966 tweets\n",
      "know need need know thing know open open bell bell @paulbagnellbnn bell @paulbagnellbnn don know open don want know didn know didn thing know thing need really did know happen\n",
      "\n",
      "Topic 11: 1942 tweets\n",
      "morning juli marquez juli marquez #tampabay good morning cold #flwx good warm shower afternoon picture fog temperature rain sunrise #tampa cool low\n",
      "\n",
      "Topic 12: 2551 tweets\n",
      "#fntech @spacedotcom @spacedotcom #fntech @pcmag @pcmag #fntech @livescience @livescience #fntech @newser @newser #fntech nasa @digitaltrends space @digitaltrends #fntech mars earth planet alien moon discover ancient\n",
      "\n",
      "Topic 13: 2017 tweets\n",
      "make mistake worse make sure easier sure sick feel history decision make big trump make make sick make history make feel difference comeback great money make money\n",
      "\n",
      "Topic 14: 2166 tweets\n",
      "year year ago ago year old old new year flu nearly million 100 time year later year later 100 year sentence season nearly year million year spend record\n",
      "\n",
      "Topic 15: 2296 tweets\n",
      "north korea north korea kim summit jong kim jong korean north korean meet leader singapore south korean leader leader kim south korea historic korea summit trump kim nuclear\n",
      "\n",
      "Topic 16: 1114 tweets\n",
      "today today weather watch today @skyisobel forecast @skyisobel weather weather forecast forecast watch @kirstymccabe latest weather watch latest latest high severe story expect @mikeclay big break\n",
      "\n",
      "Topic 17: 2858 tweets\n",
      "breaking #ssn sign manager contract sky beat confirm deal coach sky sources sources league club test final appoint leave play season\n",
      "\n",
      "Topic 18: 2084 tweets\n",
      "people think kill young people news people young don kill people people eat help people people don people die bad love people live die injure likely people love aren\n",
      "\n",
      "Topic 19: 1683 tweets\n",
      "time time warner warner time year spend long time best time cover long second time second influential just time spend time daylight wait time wait internet travel list\n",
      "\n",
      "Topic 20: 1860 tweets\n",
      "woman men pregnant pregnant woman saudi woman die birth black woman say sex black woman attack drive wonder woman wonder die help woman saudi woman saudi arabia arabia\n",
      "\n",
      "Topic 21: 2319 tweets\n",
      "court supreme supreme court rule ban travel court rule travel ban case justice uphold decision kennedy trump travel law court justice court uphold appeal state nominee\n",
      "\n",
      "Topic 22: 1483 tweets\n",
      "care health care health gop senate care law gop health care reform republican vote reform senate health obama care plan care act @khnews law act cost care home\n",
      "\n",
      "Topic 23: 3805 tweets\n",
      "live watch live @foxsportsnews watch follow join 2018 update coverage tune #worldcup follow live @ipl @ipl 2018 stream #periscope speak @httweets live @foxsportsnews @nerolimfox\n",
      "\n",
      "Topic 24: 2013 tweets\n",
      "day father happy father day start canada day goal goal day day forecast celebrate start day valentine day valentine today @annluu canada just day weekend memorial day tomorrow\n",
      "\n",
      "Topic 25: 1846 tweets\n",
      "help kid help save help people save patient tip help food help help kid tip exercise fight help fight help woman brain help protect learn help prevent pound treat\n",
      "\n",
      "Topic 26: 545 tweets\n",
      "technology bloomberg @technology bloomberg technology @technology live twitter bloomberg watch live twitter twitter technology watch starting @technology live starting watch @technology tap watch tap technology live twitter @technology tune bnn bloomberg\n",
      "\n",
      "Topic 27: 2378 tweets\n",
      "facebook data zuckerberg privacy mark cambridge mark zuckerberg analytica user cambridge analytica google scandal share facebook data facebook google ceo lawmaker facebook live question facebook say\n",
      "\n",
      "Topic 28: 1899 tweets\n",
      "look like look like feel inside looks like look forward looks feel like forward weekend closer look closer really ahead @cbsthismorning @globalnews headline look inside season\n",
      "\n",
      "Topic 29: 3194 tweets\n",
      "child family separate border parent separation policy migrant family separation administration child separate immigrant separate family trump administration migrant child family border reunite separate parent separate child policy separate\n",
      "\n",
      "Topic 30: 1720 tweets\n",
      "week pictures week pictures story week review review vote snow read ahead week ahead expect season best fortnite work week april return 2018 catchup\n",
      "\n",
      "Topic 31: 1746 tweets\n",
      "just page financial just published published page published edition financial times page financial times june think ms international edition times international trump just just day times edition international eastbound just\n",
      "\n",
      "Topic 32: 5570 tweets\n",
      "risk study cancer drug new study heart breast breast cancer increase patient warn death test link disease doctor higher raise study say treatment\n",
      "\n",
      "Topic 33: 1568 tweets\n",
      "house white white house press house press brief press brief sanders sarah vote sarah sanders pres immigration pres trump hold secretary press secretary eagles live white republicans\n",
      "\n",
      "Topic 34: 2104 tweets\n",
      "news good good news bad story fake fake news bad news health news fox conference news conference good morning cbc cbc news news people fox news breaking news sports sports news\n",
      "\n",
      "Topic 35: 2254 tweets\n",
      "win #worldcup title beat prize @abcgrandstand award @httweets goal open watch awards race run australia primary final big #frenchopen series\n",
      "\n",
      "Topic 36: 1006 tweets\n",
      "diane kacmarik diane kacmarik #fl sunday #sunset saturday storm rain #florida county #tampabay thanks friday wind #tampa kacmarik #sunset heavy 30 great\n",
      "\n",
      "Topic 37: 1526 tweets\n",
      "way best way better new way change way better way best simple way deal nordel way build nordel easy way clean wealth #burnaby simple learn canada way way eat\n",
      "\n",
      "Topic 38: 1776 tweets\n",
      "report report say new report share special special report earn fbi news special inspector inspector general general @breakingmoney revenue estimate @abc say report billion profit general report\n",
      "\n",
      "Topic 39: 1708 tweets\n",
      "want don don want want know know think say want want make tell trump want really ask better want lose want help doesn want question don know check just want\n",
      "\n",
      "Topic 40: 2177 tweets\n",
      "game video play video game game thrones thrones player #worldcup youtube nintendo fortnite baseball fan console war game team tonight season mobile final\n",
      "\n",
      "Topic 41: 7216 tweets\n",
      "man police shoot kill death charge vancouver officer arrest suspect home police say dead die police officer school murder attack capital investigate\n",
      "\n",
      "Topic 42: 1281 tweets\n",
      "@bn9weather @barbarabarbnan @barbarabarbnan @bn9weather sunset beach view @bn9 sun @mcclurewx #flwx beautiful sky clouds @bn9 @bn9weather @bn9weather sunset @raeganwolf @raeganwolf @bn9 belleair belleair beach redington\n",
      "\n",
      "Topic 43: 1713 tweets\n",
      "change life change life trick save climate climate change trick change save life habit change way forever lifestyle relay life relay life expectancy expectancy bring major music\n",
      "\n",
      "Topic 44: 1360 tweets\n",
      "work work week medicaid start @khnews don hard say work great really work @khnews morning requirement artist work requirement signal bring transmitter isn create\n",
      "\n",
      "Topic 45: 1755 tweets\n",
      "apple iphone app ios apple watch google #wwdc18 store samsung new iphone apple iphone iphones wwdc launch feature update patent supplier app store music\n",
      "\n",
      "Topic 46: 1467 tweets\n",
      "come come away soon come end come home away vancouver big come day home true end story forward long ll start science warn @foxsportsnews\n",
      "\n",
      "Topic 47: 1489 tweets\n",
      "plan health plan unveil care plan gop say plan announce brexit government unveil plan plan build trump plan fly gop health new plan announce plan investment insurance cut fund\n",
      "\n",
      "Topic 48: 1590 tweets\n",
      "use drug vote use tweet @foxnrl vote drug use marijuana people use opioid trump use teen question ask google data trick treat send use caution\n",
      "\n",
      "Topic 49: 2500 tweets\n",
      "best weight lose loss eat weight loss food lose weight diet diabetes pound diabetes weight food eat best way habit worst follow thing pounds body\n",
      "\n"
     ]
    }
   ],
   "source": [
    "display_topics(nmf, tfidf_feature_names, no_top_words)\n"
   ]
  },
  {
   "cell_type": "code",
   "execution_count": 32,
   "metadata": {
    "collapsed": false
   },
   "outputs": [
    {
     "name": "stdout",
     "output_type": "stream",
     "text": [
      "Initialization complete\n",
      "Iteration  0, inertia 255495.799\n",
      "Iteration  1, inertia 130696.686\n",
      "Iteration  2, inertia 130388.295\n",
      "Iteration  3, inertia 130259.859\n",
      "Iteration  4, inertia 130109.731\n",
      "Iteration  5, inertia 130080.017\n",
      "Iteration  6, inertia 130055.986\n",
      "Iteration  7, inertia 130032.591\n",
      "Iteration  8, inertia 130014.591\n",
      "Iteration  9, inertia 130010.805\n",
      "Iteration 10, inertia 130010.388\n",
      "Iteration 11, inertia 130010.146\n",
      "Iteration 12, inertia 130009.425\n",
      "Iteration 13, inertia 130008.381\n",
      "Iteration 14, inertia 130008.125\n",
      "Iteration 15, inertia 130008.107\n",
      "Iteration 16, inertia 130008.089\n",
      "Iteration 17, inertia 130008.073\n",
      "Iteration 18, inertia 130008.064\n",
      "Iteration 19, inertia 130008.055\n",
      "Iteration 20, inertia 130008.044\n",
      "Iteration 21, inertia 130008.034\n",
      "Iteration 22, inertia 130008.008\n",
      "Iteration 23, inertia 130007.973\n",
      "Iteration 24, inertia 130007.901\n",
      "Iteration 25, inertia 130007.681\n",
      "Iteration 26, inertia 130007.176\n",
      "Iteration 27, inertia 130006.994\n",
      "Iteration 28, inertia 130006.986\n",
      "Iteration 29, inertia 130006.983\n",
      "Iteration 30, inertia 130006.979\n",
      "Iteration 31, inertia 130006.973\n",
      "Iteration 32, inertia 130006.959\n",
      "Iteration 33, inertia 130006.901\n",
      "Iteration 34, inertia 130006.735\n",
      "Iteration 35, inertia 130006.226\n",
      "Iteration 36, inertia 130005.648\n",
      "Iteration 37, inertia 130005.579\n",
      "Iteration 38, inertia 130005.561\n",
      "Iteration 39, inertia 130005.541\n",
      "Iteration 40, inertia 130005.508\n",
      "Iteration 41, inertia 130005.370\n",
      "Iteration 42, inertia 130004.924\n",
      "Iteration 43, inertia 130004.141\n",
      "Iteration 44, inertia 130004.010\n",
      "Iteration 45, inertia 130004.008\n",
      "Iteration 46, inertia 130004.007\n",
      "Converged at iteration 46: center shift 0.000000e+00 within tolerance 9.932142e-09\n"
     ]
    },
    {
     "data": {
      "text/plain": [
       "KMeans(algorithm='auto', copy_x=True, init='k-means++', max_iter=100,\n",
       "    n_clusters=10, n_init=1, n_jobs=1, precompute_distances='auto',\n",
       "    random_state=None, tol=0.0001, verbose=True)"
      ]
     },
     "execution_count": 32,
     "metadata": {},
     "output_type": "execute_result"
    }
   ],
   "source": [
    "from sklearn.cluster import KMeans\n",
    "km = KMeans(n_clusters=10, init='k-means++', max_iter=100, n_init=1,\n",
    "            verbose=True)\n",
    "km.fit(tfidf)"
   ]
  },
  {
   "cell_type": "code",
   "execution_count": 33,
   "metadata": {
    "collapsed": true
   },
   "outputs": [],
   "source": [
    "clusters = {}\n",
    "tweet_index = np.arange(len(tweets_text))\n",
    "for center in range(km.n_clusters):\n",
    "    clusters[center] = tweet_index[km.labels_ == center]\n",
    "\n",
    "    "
   ]
  },
  {
   "cell_type": "code",
   "execution_count": 42,
   "metadata": {
    "collapsed": false
   },
   "outputs": [
    {
     "name": "stdout",
     "output_type": "stream",
     "text": [
      "make news sources health billion confirm sky big world manager trade win sign #ssn tech company warn deal china breaking\n",
      "\n",
      "treatment skin cancer risk know morning forward help day woman year people say risk breast cancer breast like look like cancer come look\n",
      "\n",
      "friday latest watch friday friday weather watch latest latest weather today forecast @skyisobel @skyisobel watch today today weather forecast @skynewsnaz @skynewsnaz evening watch evening evening weather watch weather forecast weather forecast\n",
      "\n",
      "@mikeclay wind story morning expect warm weather live sunny big juli watch marquez juli marquez high shower rain day amp today\n",
      "\n",
      "tap twitter bloomberg starting @markets bloomberg @technology live bloomberg technology @cheddar live @technology @cheddar miss twitter watch #cheddarlive @markets live twitter miss @markets starting watch live twitter live twitter\n",
      "\n",
      "trump new jersey launch jersey drug announce rule city report year new zealand zealand apple health say study new study new york york new\n",
      "\n",
      "rain use plan need week win know care woman time watch help world people day year make amp live health\n",
      "\n",
      "@tomsguide #fntech @tomsguide @foxbusiness #fntech nasa say iphone apple @digitaltrends #fntech new @digitaltrends facebook @newser @newser #fntech @livescience @livescience #fntech @pcmag #fntech @pcmag @spacedotcom @spacedotcom #fntech #fntech\n",
      "\n",
      "policy meet trump administration korea family trump say summit administration pres trump pres north jong kim jong donald donald trump kim president trump president trump say\n",
      "\n",
      "time new #bchwy1 eastbound just times financial ms trump edition financial times page financial say page right published published page just published leave lane just\n",
      "\n"
     ]
    }
   ],
   "source": [
    "for i in range(km.n_clusters):\n",
    "    print(\" \".join(np.array(tfidf_vectorizer.get_feature_names())[tfidf[clusters[i]].sum(axis=0).argsort().tolist()[0][-20:]]))\n",
    "    print"
   ]
  },
  {
   "cell_type": "code",
   "execution_count": 8,
   "metadata": {
    "collapsed": false
   },
   "outputs": [],
   "source": [
    "import pandas as pd\n",
    "from sklearn.cluster import SpectralClustering\n",
    "sample_tweets = pd.Series(tweets_text_processed).sample(30000)\n",
    "tf = tf_vectorizer.fit_transform(sample_tweets)\n",
    "corr = tf.dot(tf.T)\n"
   ]
  },
  {
   "cell_type": "code",
   "execution_count": null,
   "metadata": {
    "collapsed": false
   },
   "outputs": [
    {
     "name": "stderr",
     "output_type": "stream",
     "text": [
      "/usr/local/lib/python2.7/dist-packages/sklearn/manifold/spectral_embedding_.py:234: UserWarning: Graph is not fully connected, spectral embedding may not work as expected.\n",
      "  warnings.warn(\"Graph is not fully connected, spectral embedding\"\n"
     ]
    }
   ],
   "source": [
    "sc = SpectralClustering(affinity='precomputed')\n",
    "sc.fit(corr)"
   ]
  },
  {
   "cell_type": "code",
   "execution_count": 131,
   "metadata": {
    "collapsed": true
   },
   "outputs": [],
   "source": [
    "metrics.silhouette_score?"
   ]
  },
  {
   "cell_type": "code",
   "execution_count": 36,
   "metadata": {
    "collapsed": false
   },
   "outputs": [
    {
     "data": {
      "text/plain": [
       "-0.0012257220108786726"
      ]
     },
     "execution_count": 36,
     "metadata": {},
     "output_type": "execute_result"
    }
   ],
   "source": [
    "n_tweet = tfidf.shape[0]\n",
    "from sklearn import metrics\n",
    "metrics.silhouette_score(tfidf, np.random.randint(10, size=(n_tweet)), metric='euclidean', sample_size=int(0.15 * tfidf.shape[0]))\n"
   ]
  },
  {
   "cell_type": "code",
   "execution_count": 43,
   "metadata": {
    "collapsed": false
   },
   "outputs": [],
   "source": [
    "import gc"
   ]
  },
  {
   "cell_type": "code",
   "execution_count": 47,
   "metadata": {
    "collapsed": false
   },
   "outputs": [
    {
     "data": {
      "text/plain": [
       "9"
      ]
     },
     "execution_count": 47,
     "metadata": {},
     "output_type": "execute_result"
    }
   ],
   "source": [
    "gc.collect()"
   ]
  },
  {
   "cell_type": "code",
   "execution_count": 46,
   "metadata": {
    "collapsed": false
   },
   "outputs": [
    {
     "data": {
      "text/plain": [
       "1.0071915884758484"
      ]
     },
     "execution_count": 46,
     "metadata": {},
     "output_type": "execute_result"
    }
   ],
   "source": [
    "metrics.calinski_harabaz_score(tfidf.toarray(), np.random.randint(10, size=(n_tweet)))  \n"
   ]
  },
  {
   "cell_type": "code",
   "execution_count": null,
   "metadata": {
    "collapsed": true
   },
   "outputs": [],
   "source": [
    "sample = np."
   ]
  },
  {
   "cell_type": "code",
   "execution_count": 48,
   "metadata": {
    "collapsed": false
   },
   "outputs": [
    {
     "ename": "MemoryError",
     "evalue": "",
     "output_type": "error",
     "traceback": [
      "\u001b[0;31m---------------------------------------------------------------------------\u001b[0m",
      "\u001b[0;31mMemoryError\u001b[0m                               Traceback (most recent call last)",
      "\u001b[0;32m<ipython-input-48-b44921143b6d>\u001b[0m in \u001b[0;36m<module>\u001b[0;34m()\u001b[0m\n\u001b[0;32m----> 1\u001b[0;31m \u001b[0mmetrics\u001b[0m\u001b[0;34m.\u001b[0m\u001b[0mcalinski_harabaz_score\u001b[0m\u001b[0;34m(\u001b[0m\u001b[0mtfidf\u001b[0m\u001b[0;34m.\u001b[0m\u001b[0mtoarray\u001b[0m\u001b[0;34m(\u001b[0m\u001b[0;34m)\u001b[0m\u001b[0;34m,\u001b[0m \u001b[0mnmf_lables\u001b[0m\u001b[0;34m)\u001b[0m\u001b[0;34m\u001b[0m\u001b[0m\n\u001b[0m",
      "\u001b[0;32m/usr/local/lib/python2.7/dist-packages/sklearn/metrics/cluster/unsupervised.pyc\u001b[0m in \u001b[0;36mcalinski_harabaz_score\u001b[0;34m(X, labels)\u001b[0m\n\u001b[1;32m    249\u001b[0m     \u001b[0mmean\u001b[0m \u001b[0;34m=\u001b[0m \u001b[0mnp\u001b[0m\u001b[0;34m.\u001b[0m\u001b[0mmean\u001b[0m\u001b[0;34m(\u001b[0m\u001b[0mX\u001b[0m\u001b[0;34m,\u001b[0m \u001b[0maxis\u001b[0m\u001b[0;34m=\u001b[0m\u001b[0;36m0\u001b[0m\u001b[0;34m)\u001b[0m\u001b[0;34m\u001b[0m\u001b[0m\n\u001b[1;32m    250\u001b[0m     \u001b[0;32mfor\u001b[0m \u001b[0mk\u001b[0m \u001b[0;32min\u001b[0m \u001b[0mrange\u001b[0m\u001b[0;34m(\u001b[0m\u001b[0mn_labels\u001b[0m\u001b[0;34m)\u001b[0m\u001b[0;34m:\u001b[0m\u001b[0;34m\u001b[0m\u001b[0m\n\u001b[0;32m--> 251\u001b[0;31m         \u001b[0mcluster_k\u001b[0m \u001b[0;34m=\u001b[0m \u001b[0mX\u001b[0m\u001b[0;34m[\u001b[0m\u001b[0mlabels\u001b[0m \u001b[0;34m==\u001b[0m \u001b[0mk\u001b[0m\u001b[0;34m]\u001b[0m\u001b[0;34m\u001b[0m\u001b[0m\n\u001b[0m\u001b[1;32m    252\u001b[0m         \u001b[0mmean_k\u001b[0m \u001b[0;34m=\u001b[0m \u001b[0mnp\u001b[0m\u001b[0;34m.\u001b[0m\u001b[0mmean\u001b[0m\u001b[0;34m(\u001b[0m\u001b[0mcluster_k\u001b[0m\u001b[0;34m,\u001b[0m \u001b[0maxis\u001b[0m\u001b[0;34m=\u001b[0m\u001b[0;36m0\u001b[0m\u001b[0;34m)\u001b[0m\u001b[0;34m\u001b[0m\u001b[0m\n\u001b[1;32m    253\u001b[0m         \u001b[0mextra_disp\u001b[0m \u001b[0;34m+=\u001b[0m \u001b[0mlen\u001b[0m\u001b[0;34m(\u001b[0m\u001b[0mcluster_k\u001b[0m\u001b[0;34m)\u001b[0m \u001b[0;34m*\u001b[0m \u001b[0mnp\u001b[0m\u001b[0;34m.\u001b[0m\u001b[0msum\u001b[0m\u001b[0;34m(\u001b[0m\u001b[0;34m(\u001b[0m\u001b[0mmean_k\u001b[0m \u001b[0;34m-\u001b[0m \u001b[0mmean\u001b[0m\u001b[0;34m)\u001b[0m \u001b[0;34m**\u001b[0m \u001b[0;36m2\u001b[0m\u001b[0;34m)\u001b[0m\u001b[0;34m\u001b[0m\u001b[0m\n",
      "\u001b[0;31mMemoryError\u001b[0m: "
     ]
    }
   ],
   "source": [
    "metrics.calinski_harabaz_score(tfidf.toarray(), nmf_lables)"
   ]
  },
  {
   "cell_type": "code",
   "execution_count": 23,
   "metadata": {
    "collapsed": false
   },
   "outputs": [
    {
     "data": {
      "text/plain": [
       "0.0006725186065137529"
      ]
     },
     "execution_count": 23,
     "metadata": {},
     "output_type": "execute_result"
    }
   ],
   "source": [
    "from sklearn import metrics\n",
    "kmeans_lables = km.labels_\n",
    "metrics.silhouette_score(tfidf, kmeans_lables, metric='euclidean', sample_size=int(0.15 * tfidf.shape[0]))\n"
   ]
  },
  {
   "cell_type": "code",
   "execution_count": 19,
   "metadata": {
    "collapsed": false
   },
   "outputs": [
    {
     "data": {
      "text/plain": [
       "-0.019575675851550005"
      ]
     },
     "execution_count": 19,
     "metadata": {},
     "output_type": "execute_result"
    }
   ],
   "source": [
    "from sklearn import metrics\n",
    "nmf_lables = nmf.transform(tfidf).argmax(axis=1)\n",
    "metrics.silhouette_score(tfidf, nmf_lables, metric='euclidean', sample_size=int(0.15 * tfidf.shape[0]))\n"
   ]
  },
  {
   "cell_type": "code",
   "execution_count": 17,
   "metadata": {
    "collapsed": false
   },
   "outputs": [
    {
     "data": {
      "text/plain": [
       "-0.01753037973604478"
      ]
     },
     "execution_count": 17,
     "metadata": {},
     "output_type": "execute_result"
    }
   ],
   "source": [
    "from sklearn import metrics\n",
    "lda_lables = lda.transform(tf).argmax(axis=1)\n",
    "metrics.silhouette_score(tf, lda_lables, metric='euclidean', sample_size=int(0.1 * tf.shape[0]))\n"
   ]
  },
  {
   "cell_type": "code",
   "execution_count": 33,
   "metadata": {
    "collapsed": false
   },
   "outputs": [
    {
     "data": {
      "text/plain": [
       "(50242, 20)"
      ]
     },
     "execution_count": 33,
     "metadata": {},
     "output_type": "execute_result"
    }
   ],
   "source": [
    "tfidf_trans.shape"
   ]
  },
  {
   "cell_type": "code",
   "execution_count": 42,
   "metadata": {
    "collapsed": false
   },
   "outputs": [],
   "source": [
    "documents = np.array(documents)"
   ]
  },
  {
   "cell_type": "code",
   "execution_count": 25,
   "metadata": {
    "collapsed": false
   },
   "outputs": [
    {
     "name": "stdout",
     "output_type": "stream",
     "text": [
      "topic 0:\n",
      "(u'WATCH The Evening Weather Forecast https://t.co/R659lmIqMs', u'watch the evening weather forecast')\n",
      "(u'WATCH Evening Weather Forecast https://t.co/qyavr9egkI', u'watch evening weather forecast')\n",
      "(u'WATCH Evening Weather Forecast https://t.co/5eWQ613btQ', u'watch evening weather forecast')\n",
      "(u'WATCH Evening Weather Forecast https://t.co/u0sDf7aAQg', u'watch evening weather forecast')\n",
      "(u'WATCH Evening Weather Forecast https://t.co/ZiXIBgJeSH', u'watch evening weather forecast')\n",
      "(u'WATCH Evening Weather Forecast https://t.co/goTrF7B19i', u'watch evening weather forecast')\n",
      "(u'WATCH The Evening Weather Forecast https://t.co/7MgmPVGFnu', u'watch the evening weather forecast')\n",
      "(u'WATCH Evening Weather Forecast https://t.co/M41zgdXp69', u'watch evening weather forecast')\n",
      "(u'WATCH The Evening Weather Forecast https://t.co/I9gy54unOI', u'watch the evening weather forecast')\n",
      "(u'WATCH Evening Weather Forecast https://t.co/qSSXq8p46G', u'watch evening weather forecast')\n",
      "\n",
      "\n",
      "topic 1:\n",
      "(u'This is why people are starting to floss their feet: https://t.co/2gJP9zuEgA https://t.co/onABdtZoi1', u'this why people start floss their feet:')\n",
      "(u'This is why people are starting to floss their feet: https://t.co/paKa0h4Ou3 https://t.co/o7NsGryNyL', u'this why people start floss their feet:')\n",
      "(u'This is why people are starting to put deodorant on their feet: https://t.co/6KI02RmwgZ https://t.co/BqrzLHLfSC', u'this why people start put deodorant their feet:')\n",
      "(u'Today is \"Take Your Dog To Work Day.\" But if you worked at these 10 companies, every day would be.\\u2026 https://t.co/Fx46Df4tYa', u'today take your dog work day but you work these company every day would be.')\n",
      "(u'Every day is #Halloween for these eerie insects: https://t.co/X9OtQ6H1NV https://t.co/7d8ldVNfem', u'every day #halloween for these eerie insects:')\n",
      "(u'Will Ferrell: Ten Teams, Nine Positions, One Day http://t.co/A076aVYpGS', u'will ferrell: ten teams nine positions one day')\n",
      "(u'RT @CityofTampa: One day to go!!! #NHLAllStar https://t.co/YDKeDJnS9q', u'@cityoftampa: one day #nhlallstar')\n",
      "(u'\"Now we\\'re coming out into the light of day and just trying to show people just how large a problem it is.\" https://t.co/mNDADhX31n', u\"now we're come out into the light day and just try show people just how large problem\")\n",
      "(u'Good week, bad week: The people in the news https://t.co/xSqe0vwXlo', u'good week bad week: the people the news')\n",
      "(u'RT @Neroli_M_FOX: He\\u2019s on @FOXSportsNews every day of the Test - it\\u2019s what the people want! #MrCricket https://t.co/tJdbpuOFLL', u'@nerolimfox: @foxsportsnews every day the test what the people want #mrcricket')\n",
      "\n",
      "\n",
      "topic 2:\n",
      "(u\"Starting NOW! \\n\\n@markets is LIVE on Twitter with What'd You Miss. Go to \\nhttps://t.co/wg4lVjT1ov to watch.\", u\"starting now @markets live twitter with what'd you miss watch\")\n",
      "(u\"Starting Now!\\n\\n@markets is LIVE on Twitter with What'd You Miss. Go to \\nhttps://t.co/JApQ7VM2xM to watch.\", u\"starting now @markets live twitter with what'd you miss watch\")\n",
      "(u\"Watch tonight's #NJGovDebate live on Twitter at 7pET https://t.co/AeYHugM93D\", u\"watch tonight's #njgovdebate live twitter 7pet\")\n",
      "(u\"Watch LIVE Now!\\n\\n@markets is LIVE on Twitter with What'd You Miss. \\U0001f447\\nhttps://t.co/JApQ7VM2xM\", u\"watch live now @markets live twitter with what'd you miss\")\n",
      "(u\"Watch LIVE Now!\\n\\n@markets is LIVE on Twitter with What'd You Miss. \\u2935\\ufe0f\\nhttps://t.co/JApQ7VM2xM\", u\"watch live now @markets live twitter with what'd you miss\")\n",
      "(u'@circuitbreaker is LIVE on Twitter!\\n\\nWatch #CircuitBreakerLive NOW\\nat https://t.co/omhKU6G0W0. \\u2b07\\ufe0f', u'@circuitbreaker live twitter watch #circuitbreakerlive now')\n",
      "(u'@Circuitbreaker is LIVE on Twitter!\\n\\nWatch it now at https://t.co/omhKU6G0W0. #CircuitBreakerLive', u'@circuitbreaker live twitter watch now #circuitbreakerlive')\n",
      "(u\"'What'd You Miss' is LIVE on Twitter via @markets. Watch now!\\U0001f447 https://t.co/c4mSiakjDM\", u\"'what'd you miss' live twitter via @markets watch now\")\n",
      "(u\"'What'd You Miss' is LIVE on Twitter via @markets. Watch now!\\U0001f447 https://t.co/c4mSia2Ifc\", u\"'what'd you miss' live twitter via @markets watch now\")\n",
      "(u'NOW LIVE:\\n\\n#NJGovDebate is LIVE on Twitter. \\n\\U0001f447 https://t.co/AeYHuh3JVb', u'now live: #njgovdebate live twitter')\n",
      "\n",
      "\n",
      "topic 3:\n",
      "(u'Promotoras Influences Health Consciousness In Hispanic ... http://t.co/n36VTfk', u'promotoras influences health consciousness hispanic')\n",
      "(u'Health http://t.co/LjNGHAlC', u'health')\n",
      "(u'Snacking and Your Health http://t.co/m4nnY9CX', u'snacking and your health')\n",
      "(u'Timothy Caulfield: 9 Health Myths Debunked http://t.co/Q2xko8r1', u'timothy caulfield: health myths debunked')\n",
      "(u'SCROLL FOR YOUR HEALTH - by Tomer Lerner http://t.co/TMQ0cPfWYy', u'scroll for your health tomer lerner')\n",
      "(u'Health http://t.co/K6IGH0SG', u'health')\n",
      "(u'health http://t.co/2IfdtNQb', u'health')\n",
      "(u'Cardinal Health Extends Radiopharmaceutical Manufacturing ... http://t.co/ej6ykAft', u'cardinal health extends radiopharmaceutical manufacturing')\n",
      "(u'Health - Pinterest http://t.co/BYM1vRLT', u'health pinterest')\n",
      "(u'ProMedica Health System http://t.co/GYN3PIkm', u'promedica health system')\n",
      "\n",
      "\n",
      "topic 4:\n",
      "(u'President Trump could invite Kim Jong Un to Mar-a-Lago for follow-up summit: official https://t.co/cQtW76957F', u'president trump could invite kim jong maralago for followup summit: official')\n",
      "(u'President Trump and North Korean leader Kim Jong Un speak, kicking off what Trump says will be a \"terrific\" relatio\\u2026 https://t.co/KJVbnkPR4U', u'president trump and north korean leader kim jong speak kick off what trump say will terrific relatio')\n",
      "(u'President Trump and Kim Jong Un to kick off U.S.-North Korea summit with 1-on-1 meeting https://t.co/SgBOdA8KAs https://t.co/Ka27wwyA2E', u'president trump and kim jong kick off u.s.north korea summit with 1on1 meet')\n",
      "(u'President Trump says he \"trusts\" Kim Jong Un to denuclearize after summit https://t.co/7x0n4pm4nO https://t.co/Kd6V5S8T7J', u'president trump say trust kim jong denuclearize after summit')\n",
      "(u'President Trump and Kim Jong Un each got a win from the summit. But did the world? https://t.co/f4EnfZmmTR', u'president trump and kim jong each get win from the summit but the world')\n",
      "(u'NEW: Joint statement by President Trump and Kim Jong Un: \"President Trump committed to provide security guarantees\\u2026 https://t.co/Sa3UU54zto', u'new: joint statement president trump and kim jong un: president trump commit provide security guarantee')\n",
      "(u'Meet the \"unsung hero\" who interpreted for President Trump during his 1-on-1 with Kim Jong Un https://t.co/PMamSFbnNB', u'meet the unsung hero who interpret for president trump during his 1on1 with kim jong')\n",
      "(u\"Here's the video President Trump showed to Kim Jong Un https://t.co/pZMqEY8S52\", u\"here's the video president trump show kim jong\")\n",
      "(u'President Trump and Kim Jong Un begin the first ever summit between leaders of U.S. and North Korea https://t.co/uDlimH0TXT', u'president trump and kim jong begin the first ever summit between leader u.s and north korea')\n",
      "(u'RT @TelemundoNews: EN VIVO: El presidente Trump anuncia su estrategia hacia Ir\\xe1n (en espa\\xf1ol) https://t.co/0NgtptVoMR', u'@telemundonews: vivo: presidente trump anuncia estrategia hacia (en espa ol)')\n",
      "\n",
      "\n",
      "topic 5:\n",
      "(u\"After today's #bluesky &amp; #sunshine, rain will affect the north &amp; west on Friday. Heavy rain over Ireland &amp; Northern\\u2026 https://t.co/IsmmChU4tF\", u\"after today's #bluesky amp #sunshine rain will affect the north amp west friday heavy rain over ireland amp northern\")\n",
      "(u'Warm, dry &amp; sunny C &amp; SE England. Sunny spells develop across N Scotland, Ireland &amp; N Ireland as cloud &amp; rain edge\\u2026 https://t.co/K81V4zlBac', u'warm dry amp sunny amp england sunny spell develop across scotland ireland amp ireland cloud amp rain edge')\n",
      "(u'Showers Scotland, N Ireland &amp; Ireland, patchy drizzle C England clearing to SE, dry N&amp;W England &amp; Wales. Warm, humi\\u2026 https://t.co/MOnBXCYL72', u'showers scotland ireland amp ireland patchy drizzle england clear dry amp england amp wales warm humi')\n",
      "(u'Rain over Scotland, N Ireland &amp; Ireland into N England &amp; Wales. Dry but cloudy S Britain. Brighter &amp; colder with bl\\u2026 https://t.co/A3aw2NY7G3', u'rain over scotland ireland amp ireland into england amp wales dry but cloudy britain brighter amp colder with')\n",
      "(u'Few showers N&amp;C Britain for a time, then mainly dry, sunny spells, but cloud &amp; rain for NW Scotland, N Ireland &amp; NW\\u2026 https://t.co/hfupQbSlbC', u'few shower amp britain for time then mainly dry sunny spell but cloud amp rain for scotland ireland amp')\n",
      "(u'After a cloudy &amp; wet morning for England &amp; Wales, rain will clear to leave sunshine &amp; showers for the UK &amp; Ireland,\\u2026 https://t.co/RMKHpPFRua', u'after cloudy amp wet morning for england amp wales rain will clear leave sunshine amp shower for the amp ireland')\n",
      "(u'Dry &amp; cloudy S &amp; C Britain overnight. Rain at times N England, Wales, N Ireland &amp; Ireland. Windy in Scotland, clear\\u2026 https://t.co/cGwW1Z0sAo', u'dry amp cloudy amp britain overnight rain time england wales ireland amp ireland windy scotland clear')\n",
      "(u'Mostly dry for England &amp; Wales, with sunny spells &amp; small risk of a shower. Cloudier across Scotland, N Ireland &amp; I\\u2026 https://t.co/LbywN8rbo3', u'mostly dry for england amp wales with sunny spell amp small risk shower cloudier across scotland ireland amp')\n",
      "(u'Cloudy for many with rain moving E across Scotland &amp; N England &amp; later W Wales. Sunny spells N Ireland &amp; Ireland la\\u2026 https://t.co/l0nykmCB2b', u'cloudy for many with rain move across scotland amp england amp later wales sunny spell ireland amp ireland')\n",
      "(u'Cloud &amp; rain will move S across England, Wales &amp; Ireland. Sunny spells &amp; wintry showers for Scotland, N Ireland &amp; N\\u2026 https://t.co/ACvAXYX45I', u'cloud amp rain will move across england wales amp ireland sunny spell amp wintry shower for scotland ireland amp')\n",
      "\n",
      "\n",
      "topic 6:\n",
      "(u'Orphaned Walrus Calf Being Nursed To Health At New York ... http://t.co/rseDSmjc', u'orphaned walrus calf being nursed health new york')\n",
      "(u'\\u2018A superb new summer show\\u2019 https://t.co/MDewZ4878O', u'superb new summer show')\n",
      "(u'.@christyclarkbc takes on new job https://t.co/En7Mv3Rgxs', u'.@christyclarkbc take new job')\n",
      "(u\"RT @CBCEarlyEdition: .@cbcnewsbc's new noon hour radio show, has a new host, a new name, and a new theme. @michelle_eliot #BCToday https://\\u2026\", u\"@cbcearlyedition: .@cbcnewsbc's new noon hour radio show have new host new name and new theme @michelleeliot #bctoday https://\")\n",
      "(u'Refugees in Amsterdam giving lifejackets a new life https://t.co/QhMbNQbAm7', u'refugees amsterdam give lifejackets new life')\n",
      "(u\"New tunnel between New York and New Jersey is all but inevitable, despite Trump's opposition https://t.co/xMwEpLu9zc https://t.co/C8AxIpPdjn\", u\"new tunnel between new york and new jersey all but inevitable despite trump's opposition\")\n",
      "(u'Did you hear? \\n\\n\\u2714\\ufe0f New host\\n\\u2714\\ufe0f New name\\n\\u2714\\ufe0f New format\\n\\U0001f4fb @michelle_eliot is the new host of @bctoday! \\n\\nWeekdays at\\u2026 https://t.co/W2uPsF825v', u'did you hear new host new name new format @michelleeliot the new host @bctoday weekdays')\n",
      "(u'What part of New Brunswick is this? https://t.co/yOMcibfo7b', u'what part new brunswick this')\n",
      "(u'The new nomads https://t.co/yr4eINB2R7', u'the new nomad')\n",
      "(u'CYBG dented by new PPI provisions https://t.co/v2EzCuNDQg', u'cybg dent new ppi provision')\n",
      "\n",
      "\n",
      "topic 7:\n",
      "(u\".@FiveThirtyEight's World Cup predictions are here! https://t.co/Dn5rkCcPuE https://t.co/Vvkh9kjmYh\", u\".@fivethirtyeight's world cup prediction here\")\n",
      "(u\"Fortnite's World Cup to be 'open to all' https://t.co/blV6Lqkp2W\", u\"fortnite's world cup 'open all'\")\n",
      "(u'RT @abcgrandstand: The World Cup is a showcase for the top football talent on the planet. But here is the best XI of World Cup cast-offs \\u2014\\u2026', u'@abcgrandstand: the world cup showcase for the top football talent the planet but here the best world cup castoffs')\n",
      "(u'World Cup Visitors Warned They Could Be Hacked By Russian Government\\nhttps://t.co/gzY9RrNTRK', u'world cup visitors warned they could hacked russian government')\n",
      "(u\"Russia World Cup: Argentina 'flirting manual' panned https://t.co/gaInjl6X9d\", u\"russia world cup: argentina 'flirting manual' pan\")\n",
      "(u\"Creating Cyberpunk 2077's world https://t.co/bNJ0Ih6gHv\", u\"creating cyberpunk 2077's world\")\n",
      "(u'World Cup Climate\\nhttps://t.co/xJTvyxmq61', u'world cup climate')\n",
      "(u'Analysis: How the World Cup reflects the world https://t.co/uuHc4aBPiE', u'analysis: how the world cup reflect the world')\n",
      "(u'Analysis: How the World Cup reflects the world https://t.co/Ld3jTYywNX', u'analysis: how the world cup reflect the world')\n",
      "(u'Opinion: The World Cup shows how Iranians are yearning for normalcy https://t.co/EgXrdn2sk2', u'opinion: the world cup show how iranians yearn for normalcy')\n",
      "\n",
      "\n",
      "topic 8:\n",
      "(u'OB-GYNs Give Women More Say In When They Have Mammograms https://t.co/rJwGlVCu2H', u'obgyns give women more say when they have mammograms')\n",
      "(u\"Bachelor in Paradise contestant says 'I am a victim' https://t.co/Ks3W900Tgj https://t.co/tKQMOEWZRu\", u\"bachelor paradise contestant say victim'\")\n",
      "(u'Over 50,000 votes already... have your say on @GarethBale11 below \\U0001f447 https://t.co/7c34fBmloh', u'over vote already have your say @garethbale11 below')\n",
      "(u'\"The worst thing you say about another is a truth you say about yourself.\" @DeepakChopra @Oprah #lifeclass', u'the worst thing you say about another truth you say about yourself @deepakchopra @oprah #lifeclass')\n",
      "(u'\"I say \\u2018Can you check? I think your machine is not working.\\u2019 Souami said the clerk scanned the ticket and said, \\u201cOh\\u2026 https://t.co/BoYr4sUx3A', u'say can you check think your machine not working. souami say the clerk scan the ticket and say')\n",
      "(u'RT @AlbaneseLaura: Driver originally said Dykstra threatened him with a weapon and said he would kill him, police said, but police say ther\\u2026', u'@albaneselaura: driver originally say dykstra threaten him with weapon and say would kill him police say but police say ther')\n",
      "(u'RT @abcbrisbane: What the law says about grandparents seeing their grandchildren when the parents say no\\n\\nhttps://t.co/wNAX5PNTal https://t\\u2026', u'@abcbrisbane: what the law say about grandparent see their grandchild when the parent say')\n",
      "(u'\"I\\'m finding things that I want to say and I\\'m using origami as a medium to say them,\" https://t.co/reI7LXd71q', u\"i'm find thing that want say and i'm use origami medium say them\")\n",
      "(u'RT @NYRangers: AV said Zibanejad is out for tonight. #NYR', u'@nyrangers: say zibanejad out for tonight #nyr')\n",
      "(u'#MohamedSalah could be out for \\u2018three to four weeks\\u2019, says #LiverpoolFC\\u2009physio\\n\\nhttps://t.co/n6KIvW53xF https://t.co/btWIrEHozt', u'#mohamedsalah could out for three four week say #liverpoolfc physio')\n",
      "\n",
      "\n",
      "topic 9:\n",
      "(u'#Langley - Crash on #BCHWY1 westbound before 208th in the right lane. ^Rae', u'#langley crash #bchwy1 westbound before 208th the right lane ^rae')\n",
      "(u'#Burnaby #Coqutilam - Stall on #BCHWY1 eastbound before North Rd in the right lane. ^Rae', u'#burnaby #coqutilam stall #bchwy1 eastbound before north the right lane ^rae')\n",
      "(u'#CoquitlamBC - Crash on #BCHWY1 eastbound just after Brunette in the right lane ^jj', u'#coquitlambc crash #bchwy1 eastbound just after brunette the right lane ^jj')\n",
      "(u'RT @DriveBC: UPDATE - #BCHwy1 EB Vehicle incident east of #PortMann has the right thru lane and left lane of the 152 exit lanes blocked,  A\\u2026', u'@drivebc: update #bchwy1 vehicle incident east #portmann have the right thru lane and leave lane the 152 exit lane block')\n",
      "(u'RT @DriveBC: #BCHwy1 #PortMannBridge watch for guard rail repair. The left lane of the 152 lanes and the right lane of the through lanes ar\\u2026', u'@drivebc: #bchwy1 #portmannbridge watch for guard rail repair the leave lane the 152 lane and the right lane the through lane')\n",
      "(u'Only the right lane is blocked now. ^Rae https://t.co/j744BBOqSi', u'only the right lane block now ^rae')\n",
      "(u'#AbbotsfordBC - Crash on #BCHWY1 eastbound at Whatcom blocking the right lane ^jj', u'#abbotsfordbc crash #bchwy1 eastbound whatcom block the right lane ^jj')\n",
      "(u'#AbbotsfordBC - Crash on #BCHWY1 eastbound just before Whatcom in the right lane ^jj', u'#abbotsfordbc crash #bchwy1 eastbound just before whatcom the right lane ^jj')\n",
      "(u'#Vancouver - Crash on Oak St. southbound at 70th in the right lane. The eastbound right lane is affected as well ^jj', u'#vancouver crash oak southbound 70th the right lane the eastbound right lane affect well ^jj')\n",
      "(u'#Vancouver - Crash on Georgia westbound at Bute in the right lane. Police car also in the eastbound left lane.\\u2026 https://t.co/V4KlikMGnP', u'#vancouver crash georgia westbound bute the right lane police car also the eastbound leave lane.')\n",
      "\n",
      "\n",
      "topic 10:\n",
      "(u'What you need to know before using aloe vera: https://t.co/MAqMtySL1s https://t.co/ubKS4Zuef6', u'what you need know before use aloe vera:')\n",
      "(u\"Everything You Need To Know About 'Hitman 2'\\nhttps://t.co/hyIKZa6ZQq\", u\"everything you need know about 'hitman\")\n",
      "(u'Here\\u2019s what you need to know https://t.co/RDPZmzytEQ', u'here what you need know')\n",
      "(u'Hantavirus: What you need to know http://t.co/BvydyzzB', u'hantavirus: what you need know')\n",
      "(u'What you need to know.\\nhttps://t.co/86lYzB2OJ5', u'what you need know')\n",
      "(u'What is lupus? What you need to know https://t.co/QhK8WHziqz', u'what lupus what you need know')\n",
      "(u'What is lupus? What you need to know https://t.co/OxVggGB6yo', u'what lupus what you need know')\n",
      "(u'What you need to know about #RightToTry https://t.co/9GxtdjLrdn', u'what you need know about #righttotry')\n",
      "(u'Everything you need to know before getting an IUD https://t.co/eUWYjB0tst', u'everything you need know before get iud')\n",
      "(u'Botulism: What you need to know https://t.co/RrvM7M4W0Z https://t.co/yg4aUsR4VH', u'botulism: what you need know')\n",
      "\n",
      "\n",
      "topic 11:\n",
      "(u'RT @jamesjrogers: Will #CambridgeAnalytica re-emerge as Emerdata? #FNTech https://t.co/qxdy4H4pIJ', u'@jamesjrogers: will #cambridgeanalytica reemerge emerdata #fntech')\n",
      "(u'#AUSA2017 in pictures #FNTech | https://t.co/juQliW4SdL', u'#ausa2017 picture #fntech')\n",
      "(u'Your spam is getting dangerous #FNTech\\n\\nhttps://t.co/gMQzaeWd3u', u'your spam get dangerous #fntech')\n",
      "(u'How long do tardigrades live?  via @SPACEdotcom #FNTech\\nhttps://t.co/lsEKQWPZfE', u'how long tardigrade live via @spacedotcom #fntech')\n",
      "(u'When men almost became extinct via https://t.co/zhNgtEpZUn #FNTech\\n\\nhttps://t.co/6oY7IgEjzg', u'when men almost become extinct via #fntech')\n",
      "(u'Shocker: Is Pluto going to become a planet again? via @SPACEdotcom #FNTech\\nhttps://t.co/0ZUUzipKDx', u'shocker: pluto become planet again via @spacedotcom #fntech')\n",
      "(u'Gigantic dinosaur-eating plane-size reptile discovered in Mongolia #FNTech https://t.co/qeiiIa0UUI', u'gigantic dinosaureating planesize reptile discover mongolia #fntech')\n",
      "(u'What is going on at Area 51?, via @newscomauHQ #FNTech | https://t.co/ptAYLF9Wg3', u'what area via @newscomauhq #fntech')\n",
      "(u'A tarantula and seahorse make up these dazzling nebulas  via @SPACEdotcom #FNTech\\nhttps://t.co/Un9MnAXGwK', u'tarantula and seahorse make these dazzle nebula via @spacedotcom #fntech')\n",
      "(u'How to watch the #supermoon #FNTech https://t.co/BvGqwCf5Kw', u'how watch the #supermoon #fntech')\n",
      "\n",
      "\n",
      "topic 12:\n",
      "(u\"'We made mistakes' - Facebook's Zuckerberg https://t.co/gk0vthDqR2\", u\"'we make mistakes' facebook's zuckerberg\")\n",
      "(u'Is Facebook The Next Amazon?\\nhttps://t.co/GlBZTVQXum', u'facebook the next amazon')\n",
      "(u'Facebook has been too casual about data for too long https://t.co/wfyFdZT3Uh', u'facebook have too casual about data for too long')\n",
      "(u'A way to poke Facebook off its uncontested perch https://t.co/hSjGhuqayR', u'way poke facebook off uncontested perch')\n",
      "(u'Facebook once again finds itself mired in a data crisis https://t.co/gRCHtCSLkY https://t.co/aI9hIaktGC', u'facebook once again find itself mire data crisis')\n",
      "(u'It\\u2019s OK to leave Facebook https://t.co/h0ptW9m8KB https://t.co/cUxVYSnmtj', u'leave facebook')\n",
      "(u'Facebook expels alt-right figurehead https://t.co/DjOkub2x9j', u'facebook expel altright figurehead')\n",
      "(u'Facebook: DC folly https://t.co/W92Xrb1osU', u'facebook: folly')\n",
      "(u'Facebook, meanwhile, is one of the creditors...https://t.co/0bZO4mWLZN', u'facebook meanwhile one the creditors.')\n",
      "(u'Facebook is off over 8% https://t.co/SDQhfiOrQC https://t.co/YWjkN5GIEb', u'facebook off over')\n",
      "\n",
      "\n",
      "topic 13:\n",
      "(u'5 foods that make you tired: https://t.co/wqHtXtXpP4 https://t.co/aOVap9GwIb', u'food that make you tired:')\n",
      "(u\"'We made a decision to make less money to make this happen' https://t.co/LfDtCsmSAn\", u\"'we make decision make money make this happen'\")\n",
      "(u'How do you make it work? \\u2764 https://t.co/jmSKunfCvX', u'how you make work')\n",
      "(u'Olympians in the making! #TessaandScott through the years. \\u26f8\\u2665\\ufe0f\\U0001f3c5\\nhttps://t.co/fy4hbZflHE', u'olympians the make #tessaandscott through the year')\n",
      "(u'This is how KitKats are made https://t.co/4EErNF9ycw https://t.co/asQ1vcNogY', u'this how kitkats make')\n",
      "(u'This is how KitKats are made https://t.co/4EErNERWNW https://t.co/7RQ1knBF7Q', u'this how kitkats make')\n",
      "(u'This is how KitKats are made https://t.co/4EErNERWNW https://t.co/zt1wpnSPil', u'this how kitkats make')\n",
      "(u'Computers are making generalists of us all https://t.co/jXHzONWb7N', u'computers make generalist all')\n",
      "(u'This is how KitKats are made https://t.co/4EErNERWNW https://t.co/CZcaAXVxWi', u'this how kitkats make')\n",
      "(u'This is how KitKats are made https://t.co/4EErNF9ycw https://t.co/tWLOAbBddm', u'this how kitkats make')\n",
      "\n",
      "\n",
      "topic 14:\n",
      "(u'Year in a Word: Fangs https://t.co/GSLygm1kk9', u'year word: fangs')\n",
      "(u\"'Feminism' is Merriam-Webster's word of the year https://t.co/T7sK1rgpRC https://t.co/VK8A47EA4M\", u\"'feminism' merriamwebster's word the year\")\n",
      "(u'RT @cbcradio: A number of awards, including single of the year, pop album of the year and songwriter of the year were handed out at the 201\\u2026', u'@cbcradio: number award include single the year pop album the year and songwriter the year hand out the 201')\n",
      "(u'CM @Dev_Fadnavis assures completion of #Gosikhurd project in 3 years http://t.co/TlZJl9R1Wq http://t.co/rpgErxpKRN', u'@devfadnavis assure completion #gosikhurd project year')\n",
      "(u'50 years ago was \"The Year of the Pitcher.\" Here\\'s that story, via @zogsport7  https://t.co/5bzwhV1mcj https://t.co/v3DtLTkM5P', u\"year ago the year the pitcher here's that story via @zogsport7\")\n",
      "(u'Married for 12 years but the Robinsons have never heard each other https://t.co/DDfBYmRv5D', u'married for year but the robinsons have never hear each other')\n",
      "(u\"Apple TV has grown 50-percent year over year, since last year's introduction of Apple TV 4K https://t.co/2Bm2Kvhh1r #WWDC18\", u\"apple have grow 50percent year over year since last year's introduction apple #wwdc18\")\n",
      "(u\"'For many years in India, there was a fascination with going to the US to get an MBA ... But that has diminished.' https://t.co/5KegJYNQPk\", u\"'for many year india there fascination with the get mba but that have diminished.'\")\n",
      "(u'Olympians in the making! #TessaandScott through the years. \\u26f8\\u2665\\ufe0f\\U0001f3c5\\nhttps://t.co/fy4hbZflHE', u'olympians the make #tessaandscott through the year')\n",
      "(u'70 years since the first LP. https://t.co/tgWzSMbVAy https://t.co/hydbxEE2hU', u'year since the first')\n",
      "\n",
      "\n"
     ]
    }
   ],
   "source": [
    "tfidf = tfidf_vectorizer.fit_transform(tweets_text_processed)\n",
    "tfidf_trans = nmf.transform(tfidf)\n",
    "\n",
    "for topic, top_tweet in enumerate(tfidf_trans.argsort(axis=0)[-10:].T):\n",
    "    print(\"topic %d:\" % topic)\n",
    "    for tw in top_tweet:\n",
    "        print(tweets_text[tw], tweets_text_processed[tw])\n",
    "    print\n",
    "    print\n",
    "    "
   ]
  },
  {
   "cell_type": "code",
   "execution_count": 100,
   "metadata": {
    "collapsed": false
   },
   "outputs": [
    {
     "data": {
      "text/plain": [
       "(1, 10000)"
      ]
     },
     "execution_count": 100,
     "metadata": {},
     "output_type": "execute_result"
    }
   ],
   "source": [
    "nmf.components_.shape"
   ]
  },
  {
   "cell_type": "code",
   "execution_count": 104,
   "metadata": {
    "collapsed": false
   },
   "outputs": [
    {
     "data": {
      "text/plain": [
       "scipy.sparse.csr.csr_matrix"
      ]
     },
     "execution_count": 104,
     "metadata": {},
     "output_type": "execute_result"
    }
   ],
   "source": [
    "type(tfidf)"
   ]
  },
  {
   "cell_type": "code",
   "execution_count": 103,
   "metadata": {
    "collapsed": false
   },
   "outputs": [
    {
     "ename": "ValueError",
     "evalue": "XA must be a 2-dimensional array.",
     "output_type": "error",
     "traceback": [
      "\u001b[0;31m---------------------------------------------------------------------------\u001b[0m",
      "\u001b[0;31mValueError\u001b[0m                                Traceback (most recent call last)",
      "\u001b[0;32m<ipython-input-103-680593df7c3b>\u001b[0m in \u001b[0;36m<module>\u001b[0;34m()\u001b[0m\n\u001b[1;32m      6\u001b[0m     \u001b[0;31m#tfidf_trans = nmf.transform(tfidf).argmax(axis=1)\u001b[0m\u001b[0;34m\u001b[0m\u001b[0;34m\u001b[0m\u001b[0m\n\u001b[1;32m      7\u001b[0m     \u001b[0;31m#centeroids = nmf.components_[tfidf_trans]\u001b[0m\u001b[0;34m\u001b[0m\u001b[0;34m\u001b[0m\u001b[0m\n\u001b[0;32m----> 8\u001b[0;31m     \u001b[0minertia\u001b[0m\u001b[0;34m[\u001b[0m\u001b[0mi\u001b[0m\u001b[0;34m]\u001b[0m \u001b[0;34m=\u001b[0m \u001b[0msum\u001b[0m\u001b[0;34m(\u001b[0m\u001b[0mnp\u001b[0m\u001b[0;34m.\u001b[0m\u001b[0mmin\u001b[0m\u001b[0;34m(\u001b[0m\u001b[0mcdist\u001b[0m\u001b[0;34m(\u001b[0m\u001b[0mnp\u001b[0m\u001b[0;34m.\u001b[0m\u001b[0marray\u001b[0m\u001b[0;34m(\u001b[0m\u001b[0mtfidf\u001b[0m\u001b[0;34m)\u001b[0m\u001b[0;34m,\u001b[0m \u001b[0mnmf\u001b[0m\u001b[0;34m.\u001b[0m\u001b[0mcomponents_\u001b[0m\u001b[0;34m,\u001b[0m \u001b[0;34m'euclidean'\u001b[0m\u001b[0;34m)\u001b[0m\u001b[0;34m,\u001b[0m \u001b[0maxis\u001b[0m\u001b[0;34m=\u001b[0m\u001b[0;36m1\u001b[0m\u001b[0;34m)\u001b[0m\u001b[0;34m)\u001b[0m \u001b[0;34m/\u001b[0m \u001b[0mX\u001b[0m\u001b[0;34m.\u001b[0m\u001b[0mshape\u001b[0m\u001b[0;34m[\u001b[0m\u001b[0;36m0\u001b[0m\u001b[0;34m]\u001b[0m\u001b[0;34m\u001b[0m\u001b[0m\n\u001b[0m",
      "\u001b[0;32m/usr/local/lib/python2.7/dist-packages/scipy/spatial/distance.pyc\u001b[0m in \u001b[0;36mcdist\u001b[0;34m(XA, XB, metric, *args, **kwargs)\u001b[0m\n\u001b[1;32m   2588\u001b[0m \u001b[0;34m\u001b[0m\u001b[0m\n\u001b[1;32m   2589\u001b[0m     \u001b[0;32mif\u001b[0m \u001b[0mlen\u001b[0m\u001b[0;34m(\u001b[0m\u001b[0ms\u001b[0m\u001b[0;34m)\u001b[0m \u001b[0;34m!=\u001b[0m \u001b[0;36m2\u001b[0m\u001b[0;34m:\u001b[0m\u001b[0;34m\u001b[0m\u001b[0m\n\u001b[0;32m-> 2590\u001b[0;31m         \u001b[0;32mraise\u001b[0m \u001b[0mValueError\u001b[0m\u001b[0;34m(\u001b[0m\u001b[0;34m'XA must be a 2-dimensional array.'\u001b[0m\u001b[0;34m)\u001b[0m\u001b[0;34m\u001b[0m\u001b[0m\n\u001b[0m\u001b[1;32m   2591\u001b[0m     \u001b[0;32mif\u001b[0m \u001b[0mlen\u001b[0m\u001b[0;34m(\u001b[0m\u001b[0msB\u001b[0m\u001b[0;34m)\u001b[0m \u001b[0;34m!=\u001b[0m \u001b[0;36m2\u001b[0m\u001b[0;34m:\u001b[0m\u001b[0;34m\u001b[0m\u001b[0m\n\u001b[1;32m   2592\u001b[0m         \u001b[0;32mraise\u001b[0m \u001b[0mValueError\u001b[0m\u001b[0;34m(\u001b[0m\u001b[0;34m'XB must be a 2-dimensional array.'\u001b[0m\u001b[0;34m)\u001b[0m\u001b[0;34m\u001b[0m\u001b[0m\n",
      "\u001b[0;31mValueError\u001b[0m: XA must be a 2-dimensional array."
     ]
    }
   ],
   "source": [
    "from scipy.spatial.distance import cdist\n",
    "n_compnents_list = range(2, 11)\n",
    "inertia = np.zeros(len(n_compnents_list))\n",
    "for i, n_components in enumerate(n_compnents_list):\n",
    "    nmf = NMF(n_components=n_components, random_state=1, alpha=.1, l1_ratio=.5, init='nndsvd').fit(tfidf)\n",
    "    #tfidf_trans = nmf.transform(tfidf).argmax(axis=1)\n",
    "    #centeroids = nmf.components_[tfidf_trans]\n",
    "    inertia[i] = sum(np.min(cdist(np.array(tfidf), nmf.components_, 'euclidean'), axis=1)) / X.shape[0]\n"
   ]
  },
  {
   "cell_type": "code",
   "execution_count": 9,
   "metadata": {
    "collapsed": true
   },
   "outputs": [],
   "source": [
    "import gc"
   ]
  },
  {
   "cell_type": "code",
   "execution_count": 11,
   "metadata": {
    "collapsed": false
   },
   "outputs": [
    {
     "data": {
      "text/plain": [
       "9"
      ]
     },
     "execution_count": 11,
     "metadata": {},
     "output_type": "execute_result"
    }
   ],
   "source": [
    "gc.collect()"
   ]
  },
  {
   "cell_type": "code",
   "execution_count": 18,
   "metadata": {
    "collapsed": false
   },
   "outputs": [
    {
     "data": {
      "text/plain": [
       "12"
      ]
     },
     "execution_count": 18,
     "metadata": {},
     "output_type": "execute_result"
    }
   ],
   "source": [
    "i"
   ]
  },
  {
   "cell_type": "code",
   "execution_count": 21,
   "metadata": {
    "collapsed": false
   },
   "outputs": [
    {
     "name": "stdout",
     "output_type": "stream",
     "text": [
      "106.49422629003186\n",
      "145.90248300604395\n",
      "142.0990577201488\n",
      "134.08227502699341\n",
      "130.1154504484397\n",
      "105.41161167036684\n",
      "94.2708190647544\n",
      "87.5593587479236\n",
      "78.42152612651941\n",
      "78.75663630364899\n",
      "65.38470274979358\n",
      "71.54629034877355\n",
      "65.08328636445574\n",
      "62.37824161130139\n",
      "59.985429827092965\n",
      "58.03311357686433\n",
      "55.87978054163262\n",
      "55.20680949402814\n",
      "53.328683234907075\n",
      "54.30538485367143\n",
      "52.189404424825476\n",
      "52.28693906057919\n",
      "50.260926235932516\n",
      "49.6787383058521\n"
     ]
    }
   ],
   "source": [
    "from sklearn.decomposition import NMF, LatentDirichletAllocation\n",
    "\n",
    "tfidf = tfidf_vectorizer.fit_transform(tweets_text_processed)\n",
    "\n",
    "n_compnents_list = range(1, 5) + range(5, 101, 5)\n",
    "N = 10000\n",
    "inertia = np.zeros(len(n_compnents_list))\n",
    "for i, n_components in enumerate(n_compnents_list):\n",
    "    nmf = NMF(n_components=n_components, random_state=1, alpha=.1, l1_ratio=.5, init='nndsvd').fit(tfidf)\n",
    "    tfidf_trans = nmf.transform(tfidf).argmax(axis=1)\n",
    "    for j in range(tfidf.shape[0]/N+1):\n",
    "        centeroids = nmf.components_[tfidf_trans[j* N : (j+1)*N]]\n",
    "        inertia[i] += np.sum(np.array(tfidf[j* N : (j+1)*N] - centeroids)**2)\n",
    "    inertia[i] /= tfidf.shape[0]\n",
    "    print(inertia[i])\n",
    "    gc.collect()"
   ]
  },
  {
   "cell_type": "code",
   "execution_count": 24,
   "metadata": {
    "collapsed": false
   },
   "outputs": [],
   "source": [
    "import matplotlib.pyplot as plt\n",
    "plt.plot(n_compnents_list, inertia);\n",
    "plt.grid(True)"
   ]
  },
  {
   "cell_type": "code",
   "execution_count": 25,
   "metadata": {
    "collapsed": false
   },
   "outputs": [
    {
     "data": {
      "image/png": "[encoded data removed]",
      "text/plain": [
       "<matplotlib.figure.Figure at 0x7f7646e52e90>"
      ]
     },
     "metadata": {},
     "output_type": "display_data"
    }
   ],
   "source": [
    "plt.show()"
   ]
  },
  {
   "cell_type": "code",
   "execution_count": 66,
   "metadata": {
    "collapsed": false
   },
   "outputs": [],
   "source": [
    "\n",
    "def predict_cluster(tweet_text):\n",
    "    tweets_text_processed = prep.fit_transform(tweet_text)\n",
    "    tfidf = tfidf_vectorizer.transform(tweets_text_processed)\n",
    "    nmf_components = nmf.transform(tfidf)\n",
    "    nmf_lables = nmf_components.argmax(axis=1)\n",
    "    print(nmf_components.sum())\n",
    "    return sorted(nmf_components[0], reverse=True)[:5]\n"
   ]
  },
  {
   "cell_type": "code",
   "execution_count": 39,
   "metadata": {
    "collapsed": false
   },
   "outputs": [
    {
     "data": {
      "text/plain": [
       "array([u\"She's 89, deaf and suffering from dementia. Is the busy care system isolating her further? https://t.co/O49eQt02ZP https://t.co/72SN3it2to\"],\n",
       "      dtype='<U156')"
      ]
     },
     "execution_count": 39,
     "metadata": {},
     "output_type": "execute_result"
    }
   ],
   "source": [
    "tweets_text[0:1]"
   ]
  },
  {
   "cell_type": "code",
   "execution_count": 61,
   "metadata": {
    "collapsed": true
   },
   "outputs": [],
   "source": [
    "text = u'President Trump could invite Kim Jong Un to Mar-a-Lago for follow-up summit: official https://t.co/cQtW76957F'\n"
   ]
  },
  {
   "cell_type": "code",
   "execution_count": 67,
   "metadata": {
    "collapsed": false
   },
   "outputs": [
    {
     "name": "stdout",
     "output_type": "stream",
     "text": [
      "0.08676606370436071\n"
     ]
    },
    {
     "data": {
      "text/plain": [
       "[0.04869959142681163, 0.03803818559604331, 2.8286681505783057e-05, 0.0, 0.0]"
      ]
     },
     "execution_count": 67,
     "metadata": {},
     "output_type": "execute_result"
    }
   ],
   "source": [
    "predict_cluster([text])"
   ]
  },
  {
   "cell_type": "code",
   "execution_count": 60,
   "metadata": {
    "collapsed": false
   },
   "outputs": [
    {
     "name": "stdout",
     "output_type": "stream",
     "text": [
      "(u'@SportsCenter @wojespn Now This is the addition LA needed. A \\u201cproven\\u201d PG who can distribute and drop dimes to James\\u2026 https://t.co/94PtwtpFoA', [0.024657690522807342, 0.00010677272750391116, 0.0, 0.0, 0.0])\n",
      "(u'Nakakakilig yung MarNigo @MissMarisRacal @ImPascualInigo \\U0001f60d\\U0001f60d\\U0001f60d\\U0001f60d #TWBAMariStellar', [0.0, 0.0, 0.0, 0.0, 0.0])\n",
      "(u'\\u201c90210\\u201d \\U0001f31e\\U0001f334 https://t.co/DgooJQ7BRg', [0.0, 0.0, 0.0, 0.0, 0.0])\n",
      "(u'Well other people that weren\\u2019t military children lol', [0.04333330670839242, 0.028974032627738622, 0.0, 0.0, 0.0])\n",
      "(u'Preview of my latest project... I foresee something amazing!! #fixerupper #painted #smalltown #elkriver @ Painted https://t.co/XgEAWNhqMd', [0.0009995732222980332, 0.0009855645179060108, 0.0007012085471454119, 0.0003583227129240908, 0.0])\n",
      "(u'#GOPComplicit \\n#GOPCorruption https://t.co/oKWAaEAjq6', [0.0, 0.0, 0.0, 0.0, 0.0])\n",
      "(u\"If you're looking for work in #Covina, CA, check out this #job: https://t.co/Z7gd9HsE4Q #CustomerService #Hiring #CareerArc\", [0.07872586770323424, 0.05307161669819618, 0.0, 0.0, 0.0])\n",
      "(u'May the Lord of Hosts Bless and rest the soul of Ms. Adele Bloch-Bauer. She is sorely missed. Amen', [0.008186025231376511, 2.8635088005056943e-05, 0.0, 0.0, 0.0])\n",
      "(u'I wanted to change my name to Melissa Gold but since @MrKydc chose Erik, I guess I\\u2019ll be Sloan', [0.04315105488133357, 0.035389740600064314, 0.0, 0.0, 0.0])\n",
      "(u'@Adaripp Ammonium.', [0.0, 0.0, 0.0, 0.0, 0.0])\n",
      "(u'Check out Thompson: Testament Of Freedom; Frostiana by New York Choral Society; Manhattan Chamber Orchestra; Richar\\u2026 https://t.co/Uq6slyDXcv', [0.023320377513651742, 0.0, 0.0, 0.0, 0.0])\n",
      "(u'@CalebJHull  https://t.co/OZ9QHh342Z', [0.0, 0.0, 0.0, 0.0, 0.0])\n",
      "(u'on top \\U0001f91f\\U0001f3fc love u Mexico \\U0001f1f2\\U0001f1fd https://t.co/bLOvhq23EJ', [0.002974077308461794, 0.001851135673808659, 0.0011487181741039383, 0.0008442618236072034, 1.0667159851438238e-05])\n",
      "(u'#Canada &amp; #Mexico unite 4 #trade &amp; #job growth against #InsaneGOP policies #DumpTrump #VoteThemOut2018 #millenials\\u2026 https://t.co/V2WKV1Lbad', [0.047102841098043385, 0.006968338042763116, 0.0009473413257518467, 0.0006570418400953802, 0.0])\n",
      "(u'When I get my hand gun licenses it\\u2019s over with... let a bitch step to me ... I\\u2019ma blow her kneecaps loose, I\\u2019m not even playing either .', [0.005386115903295575, 0.0008386074848746138, 0.0008225262261358397, 0.0008087731621843834, 3.097551873245181e-05])\n",
      "(u'Tengo que advertirte, tienes que saber que igual y no estar\\xe9 al amanecer.', [0.0, 0.0, 0.0, 0.0, 0.0])\n",
      "(u'Life is a trip man', [0.043004540411106955, 0.03564607052815125, 0.0, 0.0, 0.0])\n",
      "(u'Y\\u2019all better start realizing @chacousa are the best shoes out there! https://t.co/99YWpaJkju', [0.023391637638778936, 0.0031589906367311296, 0.00057352041939159, 0.000502218989276183, 0.0004139915035545456])\n",
      "(u\"@SenJeffMerkley @functionalabc Donald Trump bows to Putin &amp; Kim.  Doesn't even act like an American.\", [0.024402690851926014, 0.016554196415070235, 0.015869933126053913, 0.00753192193348739, 7.851632541368914e-05])\n",
      "(u'@LaurenHupe That\\u2019s wild!', [0.0, 0.0, 0.0, 0.0, 0.0])\n",
      "(u'Recording things like this\\U0001f60d\\U0001f60d\\U0001f60d https://t.co/nsmnkgMW73', [0.04402076324971836, 0.005484479791282737, 0.0018938391503182895, 0.0007154564824978292, 0.0004690879217900001])\n",
      "(u'TEST_LAT/LON: 6110df2c-6a22-4a0a-b432-a93a1dc8e01f', [0.0, 0.0, 0.0, 0.0, 0.0])\n",
      "(u\"@Meauxses_ @JAaron225 Thought they didn't like each other?\", [0.02937087112252827, 0.0008689895357797231, 4.73760470029003e-05, 0.0, 0.0])\n",
      "(u'@JohnJHarwood Well Dah!', [0.0, 0.0, 0.0, 0.0, 0.0])\n",
      "(u'ok somebody tell me where to find em \\U0001f62d https://t.co/y6AI0VwRpX', [0.0008484795569073815, 0.0003767517025719596, 0.000307792280547396, 0.00027644730195320493, 0.0])\n",
      "(u'Kyrie play point guard right ? https://t.co/AoU5Xe6nw4', [0.020305161541399067, 0.008730674052261708, 0.0013353048602738726, 0.00028754365934297515, 0.0])\n",
      "(u'The nba is basically just the western conference and the Boston Celtics https://t.co/5MeaTZlVMc', [0.03226372710020322, 0.002184566040876798, 0.0005472674799799083, 0.0, 0.0])\n",
      "(u'X2 fried my brain and broke my neck 5 times', [0.038455671834404154, 0.0009763378289845472, 0.0, 0.0, 0.0])\n",
      "(u'@camthechamp_ Boy tell me about it. Tried to text my dude and tell him I\\u2019m happy for him like hell never mind \\U0001f926\\U0001f3fb\\u200d\\u2640\\ufe0f', [0.016604490513925062, 0.0013280595651928768, 0.0009607808105679149, 0.000611155517528452, 0.00047406478029866786])\n",
      "(u'See our latest #Charleston, SC #job and click to apply: Traveling Pediatric Echo Sonographer -\\u2026 https://t.co/CqNV5H37xd', [0.0006309401748986891, 0.000358070040560818, 0.000295015620213808, 9.586215654112434e-06, 0.0])\n",
      "(u\"@JohnJHarwood Real friends don't shun others because of politics\", [0.00946802953212812, 0.0005055200688371852, 0.0004416299814042926, 0.0001078137606906672, 8.366888255712404e-06])\n",
      "(u'I found $250 in some khaki shorts I hadn\\u2019t worn in over a year a couple months ago like damn when I put this there', [0.029586131417339834, 0.0158612949256162, 0.0, 0.0, 0.0])\n",
      "(u'Proud of my nephew and his work thus far! or DB!\\n@VTOSPORTS #RivalsChallenge #playbookathlete #football #247sports\\u2026 https://t.co/3X5qtJAmQG', [0.06588234199863216, 0.001362710354850845, 0.0, 0.0, 0.0])\n",
      "(u'Put your plane in your ass Americans https://t.co/ztozrOyBdZ', [8.514323754258274e-05, 4.6014577302091795e-05, 0.0, 0.0, 0.0])\n",
      "(u'Nah\\U0001f602 https://t.co/6dZ450ezWb', [0.0, 0.0, 0.0, 0.0, 0.0])\n",
      "(u'happy 16th birthday liv\\U0001f389\\U0001f389 https://t.co/qRIMJd0SUN', [0.0010949380095354564, 0.0003627140532627147, 0.0, 0.0, 0.0])\n",
      "(u'@BoomTownRW @CFB_Hype 2018 rankings..... * this list is correct..... \\U0001f937\\u200d\\u2642\\ufe0f', [0.004899549328102009, 0.0028043509769827336, 0.0013272717544765339, 9.650338583269357e-05, 7.945786741405046e-06])\n",
      "(u'\\u201cTo lead the people, walk behind them\\u201d. Character matters! We need a President! https://t.co/fKhkgPoV2O', [0.03532962632873117, 0.022955306774093777, 0.013842799036960396, 0.0, 0.0])\n",
      "(u\"@ShimmerwindIsle I found it very helpful! For myself, I'm a planner. I research things into the ground before I sta\\u2026 https://t.co/P7f8n1gXq4\", [0.0021307296597716584, 0.000476286203766207, 0.00046242521032338293, 0.00022082630819912893, 0.0])\n",
      "(u'Drop already out fam\\U0001f5a4', [0.0009548827185775618, 0.0, 0.0, 0.0, 0.0])\n",
      "(u'@HoarseWisperer Bless you.', [0.0, 0.0, 0.0, 0.0, 0.0])\n",
      "(u'@Abanoleah haha, bwesit gd yah, kabay indi ko nila pagtawgan hehe', [0.0, 0.0, 0.0, 0.0, 0.0])\n",
      "(u'Interested in a #job in #Portland, OR? This could be a great fit: https://t.co/SHdYbBxlEc #Finance #Hiring #CareerArc', [0.0016427714580381843, 0.0009018816785597434, 0.000416342168560362, 0.00027807663109902876, 0.0002639203734330767])\n",
      "(u'My thang look funny on soft with veins and my balls just dangling..\\U0001f602\\U0001f602', [0.035269631019469824, 0.030657922140981838, 0.0, 0.0, 0.0])\n",
      "(u'@Trolmalpagado @YeraNaVa @T0SCANA_MX @gerryboy10 @bereaguilarv @rogerlozanov @enriquebasa @lbasaguren @marga2712\\u2026 https://t.co/Dev1OyTdCK', [0.0, 0.0, 0.0, 0.0, 0.0])\n",
      "(u'GAAAAH DAYUM https://t.co/GOIjvlYQwg', [0.0, 0.0, 0.0, 0.0, 0.0])\n",
      "(u'@F_Molinari  But you used a  Bettinardi clone of the old technology  asymmetric Ping Anser golf putter., yet you we\\u2026 https://t.co/q7KPmWBD32', [0.043735170628621464, 0.020123309550062675, 0.0008469924438988581, 0.0, 0.0])\n",
      "(u'@CHold @AnferneeSimons When are the roster up grades coming?', [0.052843095824780875, 0.0, 0.0, 0.0, 0.0])\n",
      "(u'13/13 @akinalabi cannot win @APCNigeria primary against Hon AKINTOLA TAIWO even whoever wins APC primary cannot win\\u2026 https://t.co/JS6rvqVrYu', [0.07842314508614032, 0.0, 0.0, 0.0, 0.0])\n",
      "(u'probably NOT a good idea to cross me today LOL', [0.02460180628110389, 0.023230532260602507, 0.002805255438086354, 0.0005418391756218171, 0.0])\n",
      "(u'Thank you God!!!', [0.0, 0.0, 0.0, 0.0, 0.0])\n",
      "(u'Lol this dance kinda fye https://t.co/AhKhK6xzOZ', [0.0, 0.0, 0.0, 0.0, 0.0])\n",
      "(u'@SeanMcElwee NYT on point as usual', [0.0, 0.0, 0.0, 0.0, 0.0])\n",
      "(u'https://t.co/k1ffpYTboQ', [0.0, 0.0, 0.0, 0.0, 0.0])\n",
      "(u'Mason delete this before my girl sees it please I\\u2019m begging u https://t.co/ERXCkUzDDR', [0.0012020716190073108, 4.3940826579088774e-05, 0.0, 0.0, 0.0])\n",
      "(u'Drinking wine with this crazy lady that I love Lol', [0.00029377819098470165, 0.0001897657081389687, 0.0, 0.0, 0.0])\n",
      "(u'Currently we have so many listeners that our little league coverage is the 6th most listened to in the world on Mixlr.', [0.022611804442960553, 0.0021706784671785035, 0.0014793593522806085, 0.00019726349030882244, 0.0])\n",
      "(u'@GloriousAllianc @bergenstables What an awesome gift. Enjoy!', [0.00031083762441567797, 0.00017648812838500392, 0.0, 0.0, 0.0])\n",
      "(u'Rondo throwing oops to bron bron all szn', [0.0, 0.0, 0.0, 0.0, 0.0])\n",
      "(u'Lakers signing everybody this season is not gonna be fair #NBA', [0.009298430749452014, 0.0, 0.0, 0.0, 0.0])\n",
      "(u'\"Be soft.  Do not let the world make you hard.  Do not let pain make you hate.  Do not let the bitterness steal you\\u2026 https://t.co/G2dEFwhn5O', [0.03956438679746946, 0.014884913048448991, 0.00019669000789052522, 0.0001148625531447207, 0.0])\n",
      "(u'@DaNameIsMike Lmao. And how you gone pay him?', [0.007564531739769557, 0.0009371813290135318, 0.0001133202198369461, 0.0, 0.0])\n",
      "(u'Sight https://t.co/k9gRIO23Vu', [0.0, 0.0, 0.0, 0.0, 0.0])\n",
      "(u'God is good https://t.co/sIE20bmFfd', [0.03364228353879179, 0.0029703091681093034, 0.0, 0.0, 0.0])\n",
      "(u'@AynRandPaulRyan Please tell me they\\u2019re paid actors. If not, I\\u2019m furious at Trump et al for deceiving the vulnerable among us.', [0.018577763114586386, 0.002368795273674717, 0.0004011019440374168, 8.835363860325541e-05, 0.0])\n",
      "(u'Don\\u2019t hmu if your not trying to have a love like this \\U0001f496 https://t.co/FzbtuCINpw', [0.02980881306668525, 0.015358935837909541, 0.0029893024746428976, 0.0010271105270472504, 0.0009604751321241818])\n",
      "(u'@Al_Kenley \\U0001f602\\U0001f602\\U0001f602', [0.0, 0.0, 0.0, 0.0, 0.0])\n",
      "(u\"@_HollyCain Sweet, King's Dominion\", [0.00010813715677076453, 0.0, 0.0, 0.0, 0.0])\n",
      "(u'Lakers* Sorry autocorrect https://t.co/pqT065wvwc', [0.0, 0.0, 0.0, 0.0, 0.0])\n",
      "(u'Whenever I need a good laugh I look at this picture of my 6\\'7\" dad \"planking\" back in 2010 https://t.co/BNZrej5dgi', [0.027109883106601663, 0.02065903745136536, 0.016885484978523525, 0.0047769219668719635, 0.0])\n",
      "(u\"@astros_dude @Landan_Kuhlmann I've been tossing around postseason bullpen solutions since May. Did think Keuchel wa\\u2026 https://t.co/3OCpk44FqL\", [0.001184478434054197, 0.0010131219645395854, 0.00042291133836380853, 0.00021346528892521644, 0.00020076534577223107])\n",
      "(u'@vinceja @iamfonda Surprised anyone attended hope they have throw it out', [0.0, 0.0, 0.0, 0.0, 0.0])\n",
      "(u'@rshanea722 Oooh ok', [0.0, 0.0, 0.0, 0.0, 0.0])\n",
      "(u'@funder  https://t.co/G3xVdiP9lw', [0.0, 0.0, 0.0, 0.0, 0.0])\n",
      "(u'@FBrownWilliams 11:15 :)', [1.0725536047855853e-05, 0.0, 0.0, 0.0, 0.0])\n",
      "(u'@FoxNews The plan is so obvious, destroy California because Republicans can\\u2019t win the State. This is an evil desire\\u2026 https://t.co/QiRvLj2qzE', [0.03275756399491832, 0.03121488982883364, 0.0008844592663689285, 0.00041888093343842893, 0.00021177993880390074])\n",
      "(u\"@Envore_ Matchmaking is 100% about the population. I have no idea how to make a matchmaker that isn't, if you do that would be amazing.\", [0.03194884492471162, 0.0003120131255310759, 0.00011744105344056418, 0.0, 0.0])\n",
      "(u'@paigeehelfen you just totally ratted me out on Twitter!! \\U0001f602 #momconfessions https://t.co/4SOypWOZ91', [0.04614322170521817, 0.019955944795928892, 0.004456019251160148, 0.0001416990980533178, 0.0])\n",
      "(u'@a3lupo @Lost_Pause_ It could be like RWBY. Only with Lilly instead.', [0.03573237669763247, 0.0, 0.0, 0.0, 0.0])\n",
      "(u'My boss told me she would make arrangements for me to come back to Fresno if that was what I wanted... but idk anymore.', [0.046147549083031765, 0.04443114862746217, 0.03508087301521453, 0.0, 0.0])\n",
      "(u'I keep me a shooter on deck \\U0001f3b6', [0.0, 0.0, 0.0, 0.0, 0.0])\n",
      "(u'@JonHades Tu as alors tous mes composant r\\xe9unis autour de toi. Avec le temps ca va kem tu vas meme pas comprendre \\U0001f602', [0.0, 0.0, 0.0, 0.0, 0.0])\n",
      "(u'Can we talk about the fact that @shanedawson made a full length documentary in 1 week https://t.co/sYMveFjgwY', [0.04601284790415942, 0.037411863171519344, 0.0010904308325667552, 0.0, 0.0])\n",
      "(u'@EPBryn Not that I can recollect, that\\u2019s why I\\u2019ll never go right down there', [0.05083927660119018, 0.0010609486068598024, 0.00010789072677057647, 0.0, 0.0])\n",
      "(u'He had to give up the RF logo but hey 300 million .... https://t.co/dW0SbK4hDJ', [0.0023876773661228655, 0.00038269518005888404, 0.0, 0.0, 0.0])\n",
      "(u'@thompsonry24 @crownmyswagg @___sexylexy Rondo gone d up cause he\\u2019s not a scorer in any type, he\\u2019s an assist man. I\\u2026 https://t.co/NsPXk2gpOj', [0.027810152328110842, 0.0024795513898631127, 5.010650542765384e-05, 0.0, 0.0])\n",
      "(u'@bshanese_ That\\u2019s desperate. That family gets no play from me. They culture vultures.', [0.025402335035621313, 0.007627532381230557, 0.0012892583123379551, 0.0, 0.0])\n",
      "(u'Boo hoo! https://t.co/qYsPxf32AR', [0.0, 0.0, 0.0, 0.0, 0.0])\n",
      "(u'*I advise against socially risky move*\\n\\n*Person commits socially risky move*\\n\\nI hate high school.', [0.002727833053150806, 0.0001545119984057228, 4.205252280406826e-05, 0.0, 0.0])\n",
      "(u'@allthatyoudream Circus for a Psycho or Rebirthing by Skillet \\U0001f44d', [0.0, 0.0, 0.0, 0.0, 0.0])\n",
      "(u'@BryceHall You should!!\\u2665\\ufe0f\\u2665\\ufe0f', [0.0, 0.0, 0.0, 0.0, 0.0])\n",
      "(u'@KillahToluD Girl, I love for these discussions! I am so ready \\U0001f483\\U0001f3fe\\U0001f483\\U0001f3fe', [0.0012716883441416225, 0.0005221422384771622, 0.0005006183549995174, 0.00015803732714329293, 0.0])\n",
      "(u'@micheleborgesi ILY LEETLE TYSM', [0.0, 0.0, 0.0, 0.0, 0.0])\n",
      "(u'thankful for the people I have in my life \\U0001f497', [0.08120279744481654, 0.06273656544416133, 0.0, 0.0, 0.0])\n",
      "(u'I can brinf you to water but i cant make you drink \\u261d\\U0001f3fd', [0.05360589844598322, 0.0009519456750930421, 0.0008725203599575266, 0.0008324228113514994, 0.0])\n",
      "(u'Your dick trash https://t.co/64ZMU8HKCj', [0.0, 0.0, 0.0, 0.0, 0.0])\n",
      "(u'Carrot Top look alike @michelleisawolf is at it again with her anti Trump crap! Not funny and irrelevant. No talent!', [0.03705770559932287, 0.022151557541965076, 0.0, 0.0, 0.0])\n",
      "(u\"@Stonekettle I am old Vietnam veteran so I'm probably not clear nor accurate. Vote out chicken shit do nothing bigot GOP 2018. Reclaim \\U0001f1fa\\U0001f1f8\", [0.0027165217684928153, 0.0023774748786271616, 0.0021972761536271836, 0.001846031162206251, 0.0013173392669693896])\n",
      "(u'@bacon_texas \\U0001f44dTB', [0.0, 0.0, 0.0, 0.0, 0.0])\n",
      "(u'@soccercanales This was a World Cup knockout game against Brazil, not a late cameo in the group phase. Either the c\\u2026 https://t.co/gYl0Omjxr9', [0.054456703003185634, 0.03204326014257794, 0.0004770695891583329, 0.0, 0.0])\n",
      "done!\n"
     ]
    }
   ],
   "source": [
    "from pymongo import MongoClient\n",
    "import json\n",
    "from tweepy import Stream\n",
    "from tweepy.streaming import StreamListener\n",
    "import numpy as np\n",
    "\n",
    "class MyListener(StreamListener):\n",
    " \n",
    "    def on_data(self, data):\n",
    "        global cnt\n",
    "        try:\n",
    "            tweet = json.loads(data)\n",
    "            #tweets_collection.insert_one(tweet)\n",
    "            text = tweet['text']\n",
    "            print(text, predict_cluster([text]))\n",
    "            cnt += 1\n",
    "            if cnt % 1000 == 0:\n",
    "                print(cnt)\n",
    "            if cnt == max_count:\n",
    "                twitter_stream.disconnect()\n",
    "                print(\"done!\")\n",
    "                \n",
    "        except BaseException as e:\n",
    "            print(\"Error on_data: %s\" % str(e))\n",
    "        return True\n",
    " \n",
    "    def on_error(self, status):\n",
    "        print(status)\n",
    "        return True\n",
    "\n",
    "#client = MongoClient()\n",
    "#tweets_collection = client.tweets_db.tweets\n",
    "\n",
    "cnt = 0\n",
    "max_count = 100\n",
    "twitter_stream = Stream(auth=auth, listener=MyListener())\n",
    "GEOBOX_US_CANADA = [-128.755117, 26.415893, -52.437305, 54.093165]\n",
    "twitter_stream.filter(locations=GEOBOX_US_CANADA, async=True)\n",
    "client.close()"
   ]
  },
  {
   "cell_type": "code",
   "execution_count": 53,
   "metadata": {
    "collapsed": false
   },
   "outputs": [
    {
     "name": "stdout",
     "output_type": "stream",
     "text": [
      "Error on_data: 'inplace' is an invalid keyword argument for this function\n"
     ]
    }
   ],
   "source": [
    "twitter_stream.disconnect()\n"
   ]
  }
 ],
 "metadata": {
  "kernelspec": {
   "display_name": "Python 2",
   "language": "python",
   "name": "python2"
  },
  "language_info": {
   "codemirror_mode": {
    "name": "ipython",
    "version": 2
   },
   "file_extension": ".py",
   "mimetype": "text/x-python",
   "name": "python",
   "nbconvert_exporter": "python",
   "pygments_lexer": "ipython2",
   "version": "2.7.6"
  }
 },
 "nbformat": 4,
 "nbformat_minor": 2
}
