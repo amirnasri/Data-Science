{
 "cells": [
  {
   "cell_type": "markdown",
   "metadata": {},
   "source": [
    "# Twitter Text Classification\n",
    "\n",
    "In this post we tackle the problem of tweet classification. In particular, our goal is to build a model that can classify tweets to different categories such as technology, politics, weather, health, etc. \n",
    "Give the large numer of tweets tweeted each day or even hour, tweet classification can be very useful when our goal is to filter noise and extract information from tweets. For example, in election season, we can filter for tweets that fall in politics category before doing a sentiment analysis on tweets to find which candidates are favored by the population. Or we can extract technology related tweets to find out what is trending in technology. Later in this post, we will obtain tweets that fall in weather category to find out in which parts of the courtry poeple are talking about the weather. \n",
    "\n",
    "\n",
    "The two broad approachs that can be used for this problem are supervised and unsupervised learning. In this post we focus on supervised learning. The unsupervised approach focuses on text clustering and topic modeling and we will explore that later in a separate post.\n",
    "\n",
    "Successful application of supervised learning would require a large enough dataset of labled tweets. We can choose to label the tweets by hand, but that would be a time-consuming and painstaking task. Instead the approach we use here is to collect tweets from well established accounts such as those of new agencies that focus on a particular topic e.g. politics or weather. The drawback of this method is that inevitablly there will be tweets that are miss-labled. For example, a twitter account that tweets about technology may occiationally tweets material about health or politics. We will have to perform a performance evaulation to find out if this approach is paractical."
   ]
  }
 ],
 "metadata": {
  "kernelspec": {
   "display_name": "Python 2",
   "language": "python",
   "name": "python2"
  },
  "language_info": {
   "codemirror_mode": {
    "name": "ipython",
    "version": 2
   },
   "file_extension": ".py",
   "mimetype": "text/x-python",
   "name": "python",
   "nbconvert_exporter": "python",
   "pygments_lexer": "ipython2",
   "version": "2.7.12"
  }
 },
 "nbformat": 4,
 "nbformat_minor": 2
}
