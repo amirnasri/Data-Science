{
 "cells": [
  {
   "cell_type": "markdown",
   "metadata": {},
   "source": [
    "# Twitter Text Classification\n",
    "\n",
    "In this post we tackle the problem of classifying tweets to a set of categories. In particular, our goal is to build a model that can classify tweets to different categories such as technology, politics, weather, health, etc. \n",
    "Given the large numer of tweets tweeted each day or even each hour, tweet classification can be very useful when our goal is to filter noise and extract information from tweets. For example, in election season, we can filter for tweets that fall in politics category before doing a sentiment analysis on tweets to find which candidates are favored by the population. Or we can extract technology related tweets to find out what is trending in technology. Later in this post, we will obtain tweets that fall in weather category to find out in which parts of the courtry poeple are talking about the weather. \n",
    "\n",
    "\n",
    "The two broad approachs that can be used for this problem are supervised and unsupervised learning. In this post we focus on supervised learning. The unsupervised approach focuses on text clustering and topic modeling and we will explore that later in a separate post.\n",
    "\n",
    "Successful application of supervised learning would require a large enough dataset of labled tweets. We can choose to label the tweets by hand, but that would be a time-consuming and painstaking task. Instead the approach we use here is to collect tweets from well established accounts such as those of new agencies that focus on a particular topic e.g. politics or weather. The drawback of this method is that inevitablly there will be tweets that are miss-labled. For example, a twitter account that tweets about technology may occiationally tweets material about health or politics. This could interfer with our classification and decrease the classification accuracy. We will have to perform a performance evaulation to find out if this approach is paractical."
   ]
  },
  {
   "cell_type": "markdown",
   "metadata": {},
   "source": [
    "## Collecting Tweets"
   ]
  },
  {
   "cell_type": "markdown",
   "metadata": {},
   "source": [
    "To start collecting tweets, in addition to a twitter account, we need to create an [app](http://apps.twitter.com)\n",
    "associated with the account. Once we register the app, we obtain the credentials necessary to authorize our application to access twitter as if it was the twitter acount itself. Once we have the credentials, we can use python tweepy library to access our twitter account data. The following code sets up tweepy api assuming the app credentials are in 'credentials.csv' file."
   ]
  },
  {
   "cell_type": "code",
   "execution_count": 16,
   "metadata": {
    "collapsed": true
   },
   "outputs": [],
   "source": [
    "import pandas as pd \n",
    "credentials = pd.read_csv('credentials.csv')\n",
    "consumer_key = credentials['consumer_key'][0]\n",
    "consumer_secret = credentials['consumer_secret'][0]\n",
    "access_token = credentials['access_token'][0]\n",
    "access_secret = credentials['access_secret'][0]\n",
    " \n",
    "import tweepy\n",
    "from tweepy import OAuthHandler\n",
    "auth = OAuthHandler(consumer_key, consumer_secret)\n",
    "auth.set_access_token(access_token, access_secret)\n",
    " \n",
    "api = tweepy.API(auth, wait_on_rate_limit=True)\n",
    "\n",
    "import warnings\n",
    "warnings.simplefilter('ignore')"
   ]
  },
  {
   "cell_type": "markdown",
   "metadata": {},
   "source": [
    "As mentioned before, we are going to follow some well-known twitter accounts to prepare our labeled data. Here are the account we are following:"
   ]
  },
  {
   "cell_type": "code",
   "execution_count": 27,
   "metadata": {
    "collapsed": false
   },
   "outputs": [
    {
     "data": {
      "text/plain": [
       "[u'NYTSports',\n",
       " u'nytimestech',\n",
       " u'BBCPolitics',\n",
       " u'BBCSport',\n",
       " u'cnnsport',\n",
       " u'politico',\n",
       " u'CNNPolitics',\n",
       " u'HarvardHealth',\n",
       " u'NYTHealth',\n",
       " u'cnnhealth',\n",
       " u'cnntech',\n",
       " u'CNET',\n",
       " u'rtetwip',\n",
       " u'PnPCBC',\n",
       " u'NewshubPolitics',\n",
       " u'SkyNewsPolitics',\n",
       " u'CBSPolitics',\n",
       " u'RealClearNews',\n",
       " u'foxnewspolitics',\n",
       " u'ABCPolitics',\n",
       " u'CBCHealth',\n",
       " u'CBSHealth',\n",
       " u'KHNews',\n",
       " u'NBCNewsHealth',\n",
       " u'NPRHealth',\n",
       " u'bbchealth',\n",
       " u'EverydayHealth',\n",
       " u'HealthHive',\n",
       " u'breakingbytes',\n",
       " u'FoxNewsTech',\n",
       " u'ReutersTech',\n",
       " u'BBCTech',\n",
       " u'technology',\n",
       " u'TechCrunch',\n",
       " u'fttechnews',\n",
       " u'NBCNewsTech',\n",
       " u'ForbesTech',\n",
       " u'TheWeatherNetUS',\n",
       " u'bn9weather',\n",
       " u'SkyNewsWeather',\n",
       " u'HTSportsNews',\n",
       " u'NewsdaySports',\n",
       " u'FOXSportsNews',\n",
       " u'SkySportsNews',\n",
       " u'AM730Traffic']"
      ]
     },
     "execution_count": 27,
     "metadata": {},
     "output_type": "execute_result"
    }
   ],
   "source": [
    "users = api.friends('<twitter account>', count=100)\n",
    "[u.screen_name for u in users]"
   ]
  },
  {
   "cell_type": "markdown",
   "metadata": {},
   "source": [
    "As we can see, we are following 45 account that tweet about technology, politics, health, weather, and sport. Next we set up a timer to priodically collect new tweets from these accounts and save them to a MongoDB database. MongoDB provides data persistance and provides an easy way to manager twitter data. In addition, it accepts json data which is very convenient, since we get the tweets from twitter api as json."
   ]
  },
  {
   "cell_type": "code",
   "execution_count": 29,
   "metadata": {
    "collapsed": false
   },
   "outputs": [
    {
     "ename": "NameError",
     "evalue": "global name 'MyThread' is not defined",
     "output_type": "error",
     "traceback": [
      "\u001b[0;31m---------------------------------------------------------------------------\u001b[0m",
      "\u001b[0;31mNameError\u001b[0m                                 Traceback (most recent call last)",
      "\u001b[0;32m<ipython-input-29-eb7ac1cd6c44>\u001b[0m in \u001b[0;36m<module>\u001b[0;34m()\u001b[0m\n\u001b[1;32m     47\u001b[0m         \u001b[0mself\u001b[0m\u001b[0;34m.\u001b[0m\u001b[0mstop_\u001b[0m \u001b[0;34m=\u001b[0m \u001b[0mTrue\u001b[0m\u001b[0;34m\u001b[0m\u001b[0m\n\u001b[1;32m     48\u001b[0m \u001b[0;34m\u001b[0m\u001b[0m\n\u001b[0;32m---> 49\u001b[0;31m \u001b[0mtthread\u001b[0m \u001b[0;34m=\u001b[0m \u001b[0mTimerThread\u001b[0m\u001b[0;34m(\u001b[0m\u001b[0;36m15\u001b[0m \u001b[0;34m*\u001b[0m \u001b[0;36m60\u001b[0m\u001b[0;34m,\u001b[0m \u001b[0mcollect_tweets\u001b[0m\u001b[0;34m,\u001b[0m \u001b[0;34m[\u001b[0m\u001b[0musers\u001b[0m\u001b[0;34m]\u001b[0m\u001b[0;34m)\u001b[0m\u001b[0;34m\u001b[0m\u001b[0m\n\u001b[0m",
      "\u001b[0;32m<ipython-input-29-eb7ac1cd6c44>\u001b[0m in \u001b[0;36m__init__\u001b[0;34m(self, interval, task, args, kwargs)\u001b[0m\n\u001b[1;32m     31\u001b[0m \u001b[0;32mclass\u001b[0m \u001b[0mTimerThread\u001b[0m\u001b[0;34m(\u001b[0m\u001b[0mthreading\u001b[0m\u001b[0;34m.\u001b[0m\u001b[0mThread\u001b[0m\u001b[0;34m)\u001b[0m\u001b[0;34m:\u001b[0m\u001b[0;34m\u001b[0m\u001b[0m\n\u001b[1;32m     32\u001b[0m     \u001b[0;32mdef\u001b[0m \u001b[0m__init__\u001b[0m\u001b[0;34m(\u001b[0m\u001b[0mself\u001b[0m\u001b[0;34m,\u001b[0m \u001b[0minterval\u001b[0m\u001b[0;34m,\u001b[0m \u001b[0mtask\u001b[0m\u001b[0;34m,\u001b[0m \u001b[0margs\u001b[0m\u001b[0;34m=\u001b[0m\u001b[0;34m[\u001b[0m\u001b[0;34m]\u001b[0m\u001b[0;34m,\u001b[0m \u001b[0mkwargs\u001b[0m\u001b[0;34m=\u001b[0m\u001b[0;34m{\u001b[0m\u001b[0;34m}\u001b[0m\u001b[0;34m)\u001b[0m\u001b[0;34m:\u001b[0m\u001b[0;34m\u001b[0m\u001b[0m\n\u001b[0;32m---> 33\u001b[0;31m         \u001b[0msuper\u001b[0m\u001b[0;34m(\u001b[0m\u001b[0mMyThread\u001b[0m\u001b[0;34m,\u001b[0m \u001b[0mself\u001b[0m\u001b[0;34m)\u001b[0m\u001b[0;34m.\u001b[0m\u001b[0m__init__\u001b[0m\u001b[0;34m(\u001b[0m\u001b[0;34m)\u001b[0m\u001b[0;34m\u001b[0m\u001b[0m\n\u001b[0m\u001b[1;32m     34\u001b[0m         \u001b[0mself\u001b[0m\u001b[0;34m.\u001b[0m\u001b[0mstop_\u001b[0m \u001b[0;34m=\u001b[0m \u001b[0mFalse\u001b[0m\u001b[0;34m\u001b[0m\u001b[0m\n\u001b[1;32m     35\u001b[0m         \u001b[0mself\u001b[0m\u001b[0;34m.\u001b[0m\u001b[0minterval\u001b[0m \u001b[0;34m=\u001b[0m \u001b[0minterval\u001b[0m\u001b[0;34m\u001b[0m\u001b[0m\n",
      "\u001b[0;31mNameError\u001b[0m: global name 'MyThread' is not defined"
     ]
    }
   ],
   "source": [
    "import threading\n",
    "import time\n",
    "from pymongo import MongoClient\n",
    "\n",
    "def collect_tweets(users):\n",
    "    curr_count = news_tweets.count()\n",
    "    now = time.time()\n",
    "    print(\"Started collecting tweets\")\n",
    "    for user in users:\n",
    "        try:\n",
    "            tweets = tweepy.Cursor(api.user_timeline,screen_name=user.screen_name).items()\n",
    "        except:\n",
    "            continue\n",
    "            \n",
    "        for tw in tweets:\n",
    "            # See if the tweet already exists in the database\n",
    "            if news_tweets.find_one({'id':tw.id}):\n",
    "                break\n",
    "\n",
    "            try:\n",
    "                news_tweets.insert_one(tw._json)\n",
    "            except DuplicateKeyError:\n",
    "                break\n",
    "                \n",
    "    new_count = news_tweets.count()\n",
    "    new_time = time.time() - now\n",
    "    print(\"Collected %d tweets in %.2f seconds\" % (new_count - curr_count, new_time))\n",
    "\n",
    "    \n",
    "\n",
    "class TimerThread(threading.Thread):\n",
    "    def __init__(self, interval, task, args=[], kwargs={}):\n",
    "        super(TimerThread, self).__init__()\n",
    "        self.stop_ = False\n",
    "        self.interval = interval\n",
    "        self.args = args\n",
    "        self.kwargs = kwargs\n",
    "        self.task = task\n",
    "        self.start()\n",
    "        \n",
    "    def run(self):\n",
    "        while not self.stop_:\n",
    "            self.task(*self.args, **self.kwargs)\n",
    "            time.sleep(self.interval)\n",
    "            \n",
    "    def stop(self):\n",
    "        self.stop_ = True\n",
    "client = MongoClient()\n",
    "news_tweets = client.tweets_db.new_tweets\n",
    "\n",
    "tthread = TimerThread(15 * 60, collect_tweets, [users])"
   ]
  },
  {
   "cell_type": "markdown",
   "metadata": {},
   "source": [
    "In the above code:\n",
    "* We set up a timer thread to wake up every 15 minutes. Once the thread wakes up it goes though the followed accounts and downloads new tweets.\n",
    "\n",
    "* For each new tweet, we check the database to see we have already collected this tweet. We do this we use the 'id' field which is unique for each tweet.\n",
    "\n",
    "* Once we see a duplicate tweets for an acount, it means we have collected all new tweets generated by this account in the past 15 minutes. So we move on to the next account."
   ]
  },
  {
   "cell_type": "markdown",
   "metadata": {},
   "source": [
    "After running the code for a few hour we have collected arount ... tweets:"
   ]
  },
  {
   "cell_type": "code",
   "execution_count": null,
   "metadata": {
    "collapsed": true
   },
   "outputs": [],
   "source": [
    "news_tweets.count()"
   ]
  },
  {
   "cell_type": "markdown",
   "metadata": {},
   "source": []
  },
  {
   "cell_type": "code",
   "execution_count": 104,
   "metadata": {
    "collapsed": true
   },
   "outputs": [],
   "source": [
    "import pandas as pd\n",
    "tweets_df = pd.DataFrame([[tw['id'], tw['text'], tw['user']['screen_name']] \n",
    "                           for tw in news_tweets.find()], columns=['id', 'text', 'user'])\n"
   ]
  },
  {
   "cell_type": "code",
   "execution_count": 106,
   "metadata": {
    "collapsed": false
   },
   "outputs": [
    {
     "name": "stdout",
     "output_type": "stream",
     "text": [
      "('Traffic', None)\n",
      "\tAM730Traffic Traffic\n",
      "('Tech', ['tech', 'breakingbytes', 'CNET'])\n",
      "\tBBCTech tech\n",
      "\tCNET CNET\n",
      "\tForbesTech tech\n",
      "\tFoxNewsTech tech\n",
      "\tNBCNewsTech tech\n",
      "\tReutersTech tech\n",
      "\tTechCrunch tech\n",
      "\tbreakingbytes breakingbytes\n",
      "\tcnntech tech\n",
      "\tfttechnews tech\n",
      "\tnytimestech tech\n",
      "\ttechnology tech\n",
      "('Heath', ['health', 'KHNews'])\n",
      "\tCBCHealth health\n",
      "\tCBSHealth health\n",
      "\tEverydayHealth health\n",
      "\tHarvardHealth health\n",
      "\tHealthHive health\n",
      "\tKHNews KHNews\n",
      "\tNBCNewsHealth health\n",
      "\tNPRHealth health\n",
      "\tNYTHealth health\n",
      "\tbbchealth health\n",
      "\tcnnhealth health\n",
      "('Sports', 'sport')\n",
      "\tBBCSport sport\n",
      "\tFOXSportsNews sport\n",
      "\tHTSportsNews sport\n",
      "\tNYTSports sport\n",
      "\tNewsdaySports sport\n",
      "\tSkySportsNews sport\n",
      "\tcnnsport sport\n",
      "('Weather', None)\n",
      "\tSkyNewsWeather Weather\n",
      "\tTheWeatherNetUS Weather\n",
      "\tbn9weather Weather\n",
      "('Politics', ['politic', 'rtetwip', 'realclear', 'PnPCBC'])\n",
      "\tABCPolitics politic\n",
      "\tBBCPolitics politic\n",
      "\tCBSPolitics politic\n",
      "\tCNNPolitics politic\n",
      "\tNewshubPolitics politic\n",
      "\tPnPCBC PnPCBC\n",
      "\tRealClearNews realclear\n",
      "\tSkyNewsPolitics politic\n",
      "\tfoxnewspolitics politic\n",
      "\tpolitico politic\n",
      "\trtetwip rtetwip\n"
     ]
    }
   ],
   "source": [
    "users_df = pd.DataFrame(np.unique(tweets_df_all.user).tolist(), columns=['user'])\n",
    "\n",
    "cats = [('Traffic', None),\n",
    "        ('Tech', ['tech', 'breakingbytes', 'CNET']),\n",
    "        ('Heath', ['health', 'KHNews']),\n",
    "        ('Sports', 'sport'),\n",
    "        ('Weather', None),\n",
    "        ('Politics', ['politic', 'rtetwip', 'realclear', 'PnPCBC']),\n",
    "       ]\n",
    "for cat in cats:\n",
    "    keywords = cat[1]\n",
    "    cat_name = cat[0]\n",
    "    if keywords is None:\n",
    "        keywords = cat_name\n",
    "    if not isinstance(keywords, list):\n",
    "        keywords = [keywords]\n",
    "    print cat\n",
    "    for index, u in zip(users_df.index, users_df.user):\n",
    "        for kw in keywords:\n",
    "            if u.lower().find(kw.lower()) != -1:\n",
    "                print(\"\\t%s %s\"% (u, kw))\n",
    "                users_df.loc[index, 'cat'] = cat_name\n",
    "                break"
   ]
  },
  {
   "cell_type": "code",
   "execution_count": 108,
   "metadata": {
    "collapsed": true
   },
   "outputs": [],
   "source": [
    "users_df.set_index('user', inplace=True)"
   ]
  },
  {
   "cell_type": "code",
   "execution_count": 111,
   "metadata": {
    "collapsed": false
   },
   "outputs": [],
   "source": [
    "tweets_df['cat'] = tweets_df['user'].map(users_df['cat'])"
   ]
  },
  {
   "cell_type": "code",
   "execution_count": 112,
   "metadata": {
    "collapsed": true
   },
   "outputs": [],
   "source": [
    "from sklearn.preprocessing import LabelEncoder\n",
    "label_encoder = LabelEncoder()\n",
    "\n",
    "tweets_df['cat_encoded'] = label_encoder.fit_transform(tweets_df.cat)"
   ]
  },
  {
   "cell_type": "code",
   "execution_count": 113,
   "metadata": {
    "collapsed": false
   },
   "outputs": [
    {
     "data": {
      "text/html": [
       "<div>\n",
       "<style>\n",
       "    .dataframe thead tr:only-child th {\n",
       "        text-align: right;\n",
       "    }\n",
       "\n",
       "    .dataframe thead th {\n",
       "        text-align: left;\n",
       "    }\n",
       "\n",
       "    .dataframe tbody tr th {\n",
       "        vertical-align: top;\n",
       "    }\n",
       "</style>\n",
       "<table border=\"1\" class=\"dataframe\">\n",
       "  <thead>\n",
       "    <tr style=\"text-align: right;\">\n",
       "      <th></th>\n",
       "      <th>id</th>\n",
       "      <th>text</th>\n",
       "      <th>user</th>\n",
       "      <th>cat</th>\n",
       "      <th>cat_encoded</th>\n",
       "    </tr>\n",
       "  </thead>\n",
       "  <tbody>\n",
       "    <tr>\n",
       "      <th>0</th>\n",
       "      <td>956561372204208129</td>\n",
       "      <td>Head of UK probe into Russia Brexit meddling a...</td>\n",
       "      <td>fttechnews</td>\n",
       "      <td>Tech</td>\n",
       "      <td>3</td>\n",
       "    </tr>\n",
       "    <tr>\n",
       "      <th>1</th>\n",
       "      <td>967204271463849984</td>\n",
       "      <td>Dante Cunningham jokes that he’s one of the ol...</td>\n",
       "      <td>NewsdaySports</td>\n",
       "      <td>Sports</td>\n",
       "      <td>2</td>\n",
       "    </tr>\n",
       "    <tr>\n",
       "      <th>2</th>\n",
       "      <td>532113915774504960</td>\n",
       "      <td>US 'won't stand idle' in charging China over c...</td>\n",
       "      <td>breakingbytes</td>\n",
       "      <td>Tech</td>\n",
       "      <td>3</td>\n",
       "    </tr>\n",
       "    <tr>\n",
       "      <th>3</th>\n",
       "      <td>962793368001507328</td>\n",
       "      <td>Bollywood film 'Pad Man' aims to shatter taboo...</td>\n",
       "      <td>cnnhealth</td>\n",
       "      <td>Heath</td>\n",
       "      <td>0</td>\n",
       "    </tr>\n",
       "    <tr>\n",
       "      <th>4</th>\n",
       "      <td>997582130879217664</td>\n",
       "      <td>Thanks https://t.co/8uPnx735JR</td>\n",
       "      <td>AM730Traffic</td>\n",
       "      <td>Traffic</td>\n",
       "      <td>4</td>\n",
       "    </tr>\n",
       "  </tbody>\n",
       "</table>\n",
       "</div>"
      ],
      "text/plain": [
       "                   id                                               text  \\\n",
       "0  956561372204208129  Head of UK probe into Russia Brexit meddling a...   \n",
       "1  967204271463849984  Dante Cunningham jokes that he’s one of the ol...   \n",
       "2  532113915774504960  US 'won't stand idle' in charging China over c...   \n",
       "3  962793368001507328  Bollywood film 'Pad Man' aims to shatter taboo...   \n",
       "4  997582130879217664                     Thanks https://t.co/8uPnx735JR   \n",
       "\n",
       "            user      cat  cat_encoded  \n",
       "0     fttechnews     Tech            3  \n",
       "1  NewsdaySports   Sports            2  \n",
       "2  breakingbytes     Tech            3  \n",
       "3      cnnhealth    Heath            0  \n",
       "4   AM730Traffic  Traffic            4  "
      ]
     },
     "execution_count": 113,
     "metadata": {},
     "output_type": "execute_result"
    }
   ],
   "source": [
    "tweets_df = tweets_df.sample(frac=1)\n",
    "tweets_df.reset_index(inplace=True, drop=True)\n",
    "tweets_df.head()"
   ]
  },
  {
   "cell_type": "code",
   "execution_count": 114,
   "metadata": {
    "collapsed": false
   },
   "outputs": [
    {
     "data": {
      "text/plain": [
       "Heath       35640\n",
       "Tech        33161\n",
       "Politics    31675\n",
       "Sports      23173\n",
       "Weather      9740\n",
       "Traffic      3331\n",
       "Name: cat, dtype: int64"
      ]
     },
     "execution_count": 114,
     "metadata": {},
     "output_type": "execute_result"
    }
   ],
   "source": [
    "tweets_df['cat'].value_counts()"
   ]
  },
  {
   "cell_type": "code",
   "execution_count": 116,
   "metadata": {
    "collapsed": true
   },
   "outputs": [],
   "source": [
    "from scipy import sparse\n",
    "from sklearn.base import BaseEstimator, TransformerMixin\n",
    "import re\n",
    "from nltk.stem import WordNetLemmatizer\n",
    "wordnet_lemmatizer = WordNetLemmatizer()\n",
    "\n",
    "class Preprocessor(BaseEstimator, TransformerMixin):\n",
    "    def __init__(self):\n",
    "        pass\n",
    "    \n",
    "    def fit(self, X, y=None):\n",
    "        return self\n",
    "        \n",
    "    def transform(self, X):\n",
    "        comments_clean = []\n",
    "        for c in X:\n",
    "            c = c.replace('\\\\\\\\', '\\\\')\n",
    "            c = c.replace('\\\\n', ' ')\n",
    "            #c = c.replace('\\'', '')\n",
    "            c = re.sub(r'[-_\"]', '', c)\n",
    "            c = re.sub(r'[*%&,?!;]', ' ', c)\n",
    "            c = re.sub(r\"(.)\\1{2,}\", '\\g<1>', c)\n",
    "            c = re.sub(r'\\.(\\s+|$)', ' ', c)\n",
    "            c = re.sub(r'[^\\x00-\\x7F]+',' ', c)\n",
    "            #c = re.sub(r'@[^ ]*', ' ', c)\n",
    "            #c = re.sub(r'[0-9]+', ' ', c)\n",
    "            c = re.sub(r'https?://[\\w./]+', ' ', c)\n",
    "            c = [wordnet_lemmatizer.lemmatize(wordnet_lemmatizer.lemmatize(w, pos='v')).lower() \n",
    "                          for w in c.split()]\n",
    "            c = \" \".join(w for w in c if len(w) > 2)\n",
    "            #c = \" \".join([w.lower() for w in c.split()])# if 3<=len(w)<=40])\n",
    "            comments_clean.append(c)\n",
    "        return comments_clean\n",
    "\n",
    "prep = Preprocessor()"
   ]
  },
  {
   "cell_type": "code",
   "execution_count": 117,
   "metadata": {
    "collapsed": true
   },
   "outputs": [],
   "source": [
    "tweets_df['text_processed'] = prep.fit_transform(tweets_df['text'])"
   ]
  },
  {
   "cell_type": "code",
   "execution_count": 118,
   "metadata": {
    "collapsed": false
   },
   "outputs": [
    {
     "data": {
      "text/plain": [
       "LogisticRegression(C=1.0, class_weight=None, dual=False, fit_intercept=True,\n",
       "          intercept_scaling=1, max_iter=100, multi_class='ovr', n_jobs=1,\n",
       "          penalty='l2', random_state=None, solver='liblinear', tol=0.0001,\n",
       "          verbose=0, warm_start=False)"
      ]
     },
     "execution_count": 118,
     "metadata": {},
     "output_type": "execute_result"
    }
   ],
   "source": [
    "from sklearn.feature_extraction.text import TfidfVectorizer, CountVectorizer\n",
    "from sklearn.feature_extraction.text import CountVectorizer\n",
    "from sklearn.feature_extraction.text import TfidfVectorizer\n",
    "import re\n",
    "from nltk.corpus import stopwords\n",
    "from scipy.sparse import hstack\n",
    "from sklearn.linear_model import LogisticRegression\n",
    "\n",
    "tfidf_word_vectorizer = TfidfVectorizer(ngram_range=(1, 3), max_df=0.5, max_features=None,\n",
    "                             min_df=2, stop_words='english', token_pattern=u'((?u)\\\\b\\\\w\\\\w+\\\\b|[#@]\\w+)',\n",
    "                             use_idf=True)\n",
    "\n",
    "tfidf_char_vectorizer = TfidfVectorizer(ngram_range=(1, 7), analyzer='char', max_df=0.5, max_features=None,\n",
    "                             min_df=2, stop_words='english', token_pattern=u'((?u)\\\\b\\\\w\\\\w+\\\\b|[#@]\\w+)',\n",
    "                             use_idf=True)\n",
    "\n",
    "tfidf_word = tfidf_word_vectorizer.fit_transform(tweets_df['text_processed'])\n",
    "tfidf_char = tfidf_char_vectorizer.fit_transform(tweets_df['text_processed'])\n",
    "\n",
    "tfidf_word_char = hstack([tfidf_word, tfidf_char])\n",
    "\n",
    "lr = LogisticRegression()\n",
    "lr.fit(tfidf_word_char, tweets_df['cat_encoded'])"
   ]
  },
  {
   "cell_type": "code",
   "execution_count": 119,
   "metadata": {
    "collapsed": false
   },
   "outputs": [
    {
     "data": {
      "text/plain": [
       "array([0.93369317, 0.93239418, 0.930131  ])"
      ]
     },
     "execution_count": 119,
     "metadata": {},
     "output_type": "execute_result"
    }
   ],
   "source": [
    "from sklearn.model_selection import cross_val_score\n",
    "\n",
    "cross_val_score(lr, tfidf_word_char, tweets_df['cat_encoded'], n_jobs=4)"
   ]
  },
  {
   "cell_type": "code",
   "execution_count": 121,
   "metadata": {
    "collapsed": false
   },
   "outputs": [
    {
     "data": {
      "text/plain": [
       "GridSearchCV(cv=None, error_score='raise',\n",
       "       estimator=LogisticRegression(C=1.0, class_weight=None, dual=False, fit_intercept=True,\n",
       "          intercept_scaling=1, max_iter=100, multi_class='ovr', n_jobs=1,\n",
       "          penalty='l2', random_state=None, solver='liblinear', tol=0.0001,\n",
       "          verbose=0, warm_start=False),\n",
       "       fit_params=None, iid=True, n_jobs=3,\n",
       "       param_grid={'C': array([1.e-01, 1.e+00, 1.e+01, 1.e+02, 1.e+03])},\n",
       "       pre_dispatch='2*n_jobs', refit=True, return_train_score=True,\n",
       "       scoring=None, verbose=0)"
      ]
     },
     "execution_count": 121,
     "metadata": {},
     "output_type": "execute_result"
    }
   ],
   "source": [
    "from sklearn.model_selection import GridSearchCV\n",
    "gs = GridSearchCV(lr, param_grid={'C': np.logspace(-1, 3, 5)}, return_train_score=True, n_jobs=3)\n",
    "gs.fit(tfidf_word_char, tweets_df['cat_encoded'])"
   ]
  },
  {
   "cell_type": "code",
   "execution_count": 122,
   "metadata": {
    "collapsed": false
   },
   "outputs": [
    {
     "data": {
      "text/plain": [
       "{'mean_fit_time': array([139.72419206, 194.19813999, 298.00330329, 442.27312509,\n",
       "        561.86464771]),\n",
       " 'mean_score_time': array([0.7677803 , 0.94715063, 0.62758541, 0.84880129, 0.47971503]),\n",
       " 'mean_test_score': array([0.88970889, 0.93207285, 0.94390726, 0.94490199, 0.94490199]),\n",
       " 'mean_train_score': array([0.90947922, 0.97288984, 0.99743637, 0.99808367, 0.99817876]),\n",
       " 'param_C': masked_array(data=[0.1, 1.0, 10.0, 100.0, 1000.0],\n",
       "              mask=[False, False, False, False, False],\n",
       "        fill_value='?',\n",
       "             dtype=object),\n",
       " 'params': [{'C': 0.1}, {'C': 1.0}, {'C': 10.0}, {'C': 100.0}, {'C': 1000.0}],\n",
       " 'rank_test_score': array([5, 4, 3, 1, 1], dtype=int32),\n",
       " 'split0_test_score': array([0.89125856, 0.93369317, 0.94479551, 0.94488327, 0.9450588 ]),\n",
       " 'split0_train_score': array([0.90909989, 0.97275739, 0.99733389, 0.99768498, 0.99797024]),\n",
       " 'split1_test_score': array([0.88958374, 0.93239418, 0.94476993, 0.94615233, 0.94599873]),\n",
       " 'split1_train_score': array([0.90964047, 0.97263761, 0.99756437, 0.99832139, 0.99832139]),\n",
       " 'split2_test_score': array([0.88828422, 0.930131  , 0.9421562 , 0.94367032, 0.94364837]),\n",
       " 'split2_train_score': array([0.90969731, 0.97327453, 0.99741083, 0.99824463, 0.99824463]),\n",
       " 'std_fit_time': array([ 3.69582922,  7.98473936, 17.95449014, 14.56515338, 23.30754074]),\n",
       " 'std_score_time': array([0.15644136, 0.19396739, 0.00590093, 0.25332626, 0.08298238]),\n",
       " 'std_test_score': array([0.00121749, 0.00147189, 0.00123818, 0.00101335, 0.0009659 ]),\n",
       " 'std_train_score': array([2.69232822e-04, 2.76374298e-04, 9.58114269e-05, 2.83650724e-04,\n",
       "        1.50733623e-04])}"
      ]
     },
     "execution_count": 122,
     "metadata": {},
     "output_type": "execute_result"
    }
   ],
   "source": [
    "gs.cv_results_"
   ]
  },
  {
   "cell_type": "code",
   "execution_count": 123,
   "metadata": {
    "collapsed": false
   },
   "outputs": [
    {
     "data": {
      "text/plain": [
       "{'C': 100.0}"
      ]
     },
     "execution_count": 123,
     "metadata": {},
     "output_type": "execute_result"
    }
   ],
   "source": [
    "gs.best_params_"
   ]
  },
  {
   "cell_type": "code",
   "execution_count": 125,
   "metadata": {
    "collapsed": false
   },
   "outputs": [],
   "source": [
    "from sklearn.model_selection import train_test_split\n",
    "\n",
    "X_train, X_test, y_train, y_test = train_test_split(\n",
    "    tfidf_word_char, tweets_df['cat_encoded'], test_size=0.33, random_state=42)"
   ]
  },
  {
   "cell_type": "code",
   "execution_count": 126,
   "metadata": {
    "collapsed": true
   },
   "outputs": [],
   "source": [
    "clf = gs.best_estimator_\n",
    "clf.fit(X_train, y_train)\n",
    "y_pred = clf.predict(X_test)"
   ]
  },
  {
   "cell_type": "code",
   "execution_count": 127,
   "metadata": {
    "collapsed": false
   },
   "outputs": [
    {
     "data": {
      "text/plain": [
       "array(['Heath', 'Politics', 'Sports', 'Tech', 'Traffic', 'Weather'],\n",
       "      dtype=object)"
      ]
     },
     "execution_count": 127,
     "metadata": {},
     "output_type": "execute_result"
    }
   ],
   "source": [
    "label_encoder.classes_\n"
   ]
  },
  {
   "cell_type": "code",
   "execution_count": 128,
   "metadata": {
    "collapsed": false
   },
   "outputs": [
    {
     "name": "stdout",
     "output_type": "stream",
     "text": [
      "             precision    recall  f1-score   support\n",
      "\n",
      "      Heath       0.93      0.94      0.94     11739\n",
      "   Politics       0.94      0.94      0.94     10324\n",
      "     Sports       0.96      0.97      0.96      7681\n",
      "       Tech       0.93      0.93      0.93     11060\n",
      "    Traffic       1.00      0.96      0.98      1083\n",
      "    Weather       0.98      0.94      0.96      3231\n",
      "\n",
      "avg / total       0.94      0.94      0.94     45118\n",
      "\n"
     ]
    }
   ],
   "source": [
    "from sklearn import metrics\n",
    "print(metrics.classification_report(y_test, y_pred,\n",
    "                                            target_names=label_encoder.classes_))"
   ]
  },
  {
   "cell_type": "code",
   "execution_count": 129,
   "metadata": {
    "collapsed": true
   },
   "outputs": [],
   "source": [
    "import matplotlib.pyplot as plt\n",
    "\n",
    "def plot_confusion_matrix(cm, classes,\n",
    "                          normalize=False,\n",
    "                          title='Confusion matrix',\n",
    "                          cmap=plt.cm.Blues):\n",
    "    \"\"\"\n",
    "    This function prints and plots the confusion matrix.\n",
    "    Normalization can be applied by setting `normalize=True`.\n",
    "    \"\"\"\n",
    "    if normalize:\n",
    "        cm = cm.astype('float') / cm.sum(axis=1)[:, np.newaxis]\n",
    "        print(\"Normalized confusion matrix\")\n",
    "    else:\n",
    "        print('Confusion matrix, without normalization')\n",
    "\n",
    "    print(cm)\n",
    "\n",
    "    plt.imshow(cm, interpolation='nearest', cmap=cmap)\n",
    "    plt.title(title)\n",
    "    plt.colorbar()\n",
    "    tick_marks = np.arange(len(classes))\n",
    "    plt.xticks(tick_marks, classes, rotation=45)\n",
    "    plt.yticks(tick_marks, classes)\n",
    "\n",
    "    fmt = '.2f' if normalize else 'd'\n",
    "    thresh = cm.max() / 2.\n",
    "    for i, j in itertools.product(range(cm.shape[0]), range(cm.shape[1])):\n",
    "        plt.text(j, i, format(cm[i, j], fmt),\n",
    "                 horizontalalignment=\"center\",\n",
    "                 color=\"white\" if cm[i, j] > thresh else \"black\")\n",
    "\n",
    "    plt.tight_layout()\n",
    "    plt.ylabel('True label')\n",
    "    plt.xlabel('Predicted label')"
   ]
  },
  {
   "cell_type": "code",
   "execution_count": 130,
   "metadata": {
    "collapsed": false
   },
   "outputs": [
    {
     "name": "stdout",
     "output_type": "stream",
     "text": [
      "Confusion matrix, without normalization\n",
      "[[11077   267    68   311     0    16]\n",
      " [  282  9709    83   241     0     9]\n",
      " [   66    67  7432   106     0    10]\n",
      " [  370   290   113 10257     0    30]\n",
      " [   12    10    10     4  1041     6]\n",
      " [   61    20    24    94     2  3030]]\n",
      "Normalized confusion matrix\n",
      "[[9.44e-01 2.27e-02 5.79e-03 2.65e-02 0.00e+00 1.36e-03]\n",
      " [2.73e-02 9.40e-01 8.04e-03 2.33e-02 0.00e+00 8.72e-04]\n",
      " [8.59e-03 8.72e-03 9.68e-01 1.38e-02 0.00e+00 1.30e-03]\n",
      " [3.35e-02 2.62e-02 1.02e-02 9.27e-01 0.00e+00 2.71e-03]\n",
      " [1.11e-02 9.23e-03 9.23e-03 3.69e-03 9.61e-01 5.54e-03]\n",
      " [1.89e-02 6.19e-03 7.43e-03 2.91e-02 6.19e-04 9.38e-01]]\n"
     ]
    },
    {
     "data": {
      "image/png": "[encoded data removed]",
      "text/plain": [
       "<matplotlib.figure.Figure at 0x7fc61c678490>"
      ]
     },
     "metadata": {},
     "output_type": "display_data"
    },
    {
     "data": {
      "image/png": "[encoded data removed]",
      "text/plain": [
       "<matplotlib.figure.Figure at 0x7fc61c678750>"
      ]
     },
     "metadata": {},
     "output_type": "display_data"
    }
   ],
   "source": [
    "import itertools\n",
    "\n",
    "# Compute confusion matrix\n",
    "cnf_matrix = metrics.confusion_matrix(y_test, y_pred)\n",
    "np.set_printoptions(precision=2)\n",
    "\n",
    "class_names = label_encoder.classes_\n",
    "\n",
    "# Plot non-normalized confusion matrix\n",
    "plt.figure()\n",
    "plot_confusion_matrix(cnf_matrix, classes=class_names,\n",
    "                      title='Confusion matrix, without normalization')\n",
    "\n",
    "\n",
    "# Plot normalized confusion matrix\n",
    "plt.figure()\n",
    "plot_confusion_matrix(cnf_matrix, classes=class_names, normalize=True,\n",
    "                      title='Normalized confusion matrix')\n",
    "\n",
    "plt.show()\n"
   ]
  },
  {
   "cell_type": "code",
   "execution_count": null,
   "metadata": {
    "collapsed": true
   },
   "outputs": [],
   "source": [
    "\n",
    "\n",
    "\n",
    "\n",
    "\n",
    "\n",
    "\n",
    "\n",
    "\n",
    "\n",
    "\n",
    "\n",
    "\n",
    "\n",
    "\n",
    "\n",
    "\n",
    "\n",
    "\n",
    "\n",
    "\n",
    "\n",
    "\n",
    "\n",
    "\n",
    "\n",
    "\n",
    "\n",
    "\n",
    "\n",
    "\n",
    "\n",
    "\n",
    "\n",
    "\n",
    "\n",
    "\n",
    "\n",
    "a"
   ]
  }
 ],
 "metadata": {
  "kernelspec": {
   "display_name": "Python 2",
   "language": "python",
   "name": "python2"
  },
  "language_info": {
   "codemirror_mode": {
    "name": "ipython",
    "version": 2
   },
   "file_extension": ".py",
   "mimetype": "text/x-python",
   "name": "python",
   "nbconvert_exporter": "python",
   "pygments_lexer": "ipython2",
   "version": "2.7.12"
  }
 },
 "nbformat": 4,
 "nbformat_minor": 2
}
