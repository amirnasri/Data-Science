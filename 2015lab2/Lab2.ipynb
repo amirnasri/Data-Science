{
 "cells": [
  {
   "cell_type": "markdown",
   "metadata": {},
   "source": [
    "# Data Engineering\n",
    "\n",
    "Data Engineering, the process of gathering and preparing data for analysis, is a very big part of Data Science.\n",
    "\n",
    "Datasets might not be formatted in the way you need (e.g. you have categorical features but your algorithm requires numerical features); or you might need to cross-reference some dataset to another that has a different format; or you might be dealing with a dataset that contains missing or invalid data.\n",
    "\n",
    "These are just a few examples of why data retrieval and cleaning are so important."
   ]
  },
  {
   "cell_type": "markdown",
   "metadata": {},
   "source": [
    "## Retrieving data from the web"
   ]
  },
  {
   "cell_type": "markdown",
   "metadata": {},
   "source": [
    "### requests\n",
    "\n",
    "The first task you'll have on HW1 will be to retrieve some data from the Internet. Python has many built-in libraries that were developed over the years to do exactly that (e.g. urllib, urllib2, urllib3).\n",
    "\n",
    "However, these libraries are very low-level and somewhat hard to use. They become especially cumbersome when you need to issue POST requests or authenticate against a web service.\n",
    "\n",
    "Luckly, as with most tasks in Python, someone has developed a library that simplifies these tasks. In reality, the requests made both on this lab and on HW1 are fairly simple, and could easily be done using one of the built-in libraries. However, it is better to get acquainted to `requests` as soon as possible, since you will probably need it in the future."
   ]
  },
  {
   "cell_type": "code",
   "execution_count": 4,
   "metadata": {
    "collapsed": true
   },
   "outputs": [],
   "source": [
    "# You tell Python that you want to use a library with the import statement.\n",
    "import requests"
   ]
  },
  {
   "cell_type": "markdown",
   "metadata": {},
   "source": [
    "Now that the requests library was imported into our namespace, we can use the functions offered by it.\n",
    "\n",
    "In this case we'll use the appropriately named `get` function to issue a *GET* request. This is equivalent to typing a URL into your browser and hitting enter."
   ]
  },
  {
   "cell_type": "code",
   "execution_count": 5,
   "metadata": {
    "collapsed": false
   },
   "outputs": [],
   "source": [
    "# Get the HU Wikipedia page\n",
    "req = requests.get(\"https://en.wikipedia.org/wiki/Harvard_University\")"
   ]
  },
  {
   "cell_type": "markdown",
   "metadata": {},
   "source": [
    "Python is an Object Oriented language, and everything on it is an object. Even built-in functions such as `len` are just syntactic sugar for acting on object properties.\n",
    "\n",
    "We will not dwell too long on OO concepts, but some of Python's idiosyncrasies will be easier to understand if we spend a few minutes on this subject.\n",
    "\n",
    "When you evaluate an object itself, such as the `req` object we created above, Python will automatially call the `__str__()` or `__repr__()` method of that object. The default values for these methods are usually very simple and boring. The `req` object however has a custom implementation that shows the object type (i.e. `Response`) and the HTTP status number (200 means the request was successful)."
   ]
  },
  {
   "cell_type": "code",
   "execution_count": 6,
   "metadata": {
    "collapsed": false
   },
   "outputs": [
    {
     "data": {
      "text/plain": [
       "<Response [200]>"
      ]
     },
     "execution_count": 6,
     "metadata": {},
     "output_type": "execute_result"
    }
   ],
   "source": [
    "req"
   ]
  },
  {
   "cell_type": "markdown",
   "metadata": {},
   "source": [
    "Just to confirm, we will call the `type` function on the object to make sure it agrees with the value above."
   ]
  },
  {
   "cell_type": "code",
   "execution_count": 7,
   "metadata": {
    "collapsed": false
   },
   "outputs": [
    {
     "data": {
      "text/plain": [
       "requests.models.Response"
      ]
     },
     "execution_count": 7,
     "metadata": {},
     "output_type": "execute_result"
    }
   ],
   "source": [
    "type(req)"
   ]
  },
  {
   "cell_type": "markdown",
   "metadata": {},
   "source": [
    "Another very nifty Python function is `dir`. You can use it to list all the properties of an object.\n",
    "\n",
    "By the way, properties starting with a single and double underscores are usually not meant to be called directly."
   ]
  },
  {
   "cell_type": "code",
   "execution_count": 8,
   "metadata": {
    "collapsed": false
   },
   "outputs": [
    {
     "data": {
      "text/plain": [
       "['__attrs__',\n",
       " '__bool__',\n",
       " '__class__',\n",
       " '__delattr__',\n",
       " '__dict__',\n",
       " '__doc__',\n",
       " '__format__',\n",
       " '__getattribute__',\n",
       " '__getstate__',\n",
       " '__hash__',\n",
       " '__init__',\n",
       " '__iter__',\n",
       " '__module__',\n",
       " '__new__',\n",
       " '__nonzero__',\n",
       " '__reduce__',\n",
       " '__reduce_ex__',\n",
       " '__repr__',\n",
       " '__setattr__',\n",
       " '__setstate__',\n",
       " '__sizeof__',\n",
       " '__str__',\n",
       " '__subclasshook__',\n",
       " '__weakref__',\n",
       " '_content',\n",
       " '_content_consumed',\n",
       " 'apparent_encoding',\n",
       " 'close',\n",
       " 'connection',\n",
       " 'content',\n",
       " 'cookies',\n",
       " 'elapsed',\n",
       " 'encoding',\n",
       " 'headers',\n",
       " 'history',\n",
       " 'iter_content',\n",
       " 'iter_lines',\n",
       " 'json',\n",
       " 'links',\n",
       " 'ok',\n",
       " 'raise_for_status',\n",
       " 'raw',\n",
       " 'reason',\n",
       " 'request',\n",
       " 'status_code',\n",
       " 'text',\n",
       " 'url']"
      ]
     },
     "execution_count": 8,
     "metadata": {},
     "output_type": "execute_result"
    }
   ],
   "source": [
    "dir(req)"
   ]
  },
  {
   "cell_type": "markdown",
   "metadata": {},
   "source": [
    "Right now `req` holds a reference to a *Request* object; but we are interested in the text associated with the web page, not the object itself.\n",
    "\n",
    "So the next step is to assign the value of the `text` property of this `Request` object to a variable."
   ]
  },
  {
   "cell_type": "code",
   "execution_count": 9,
   "metadata": {
    "collapsed": false
   },
   "outputs": [
    {
     "data": {
      "text/plain": [
       "u'<!DOCTYPE html>\\n<html class=\"client-nojs\" lang=\"en\" dir=\"ltr\">\\n<head>\\n<meta charset=\"UTF-8\"/>\\n<title>Harvard University - Wikipedia</title>\\n<script>document.documentElement.className = document.documentElement.className.replace( /(^|\\\\s)client-nojs(\\\\s|$)/, \"$1client-js$2\" );</script>\\n<script>(window.RLQ=window.RLQ||[]).push(function(){mw.config.set({\"wgCanonicalNamespace\":\"\",\"wgCanonicalSpecialPageName\":false,\"wgNamespaceNumber\":0,\"wgPageName\":\"Harvard_University\",\"wgTitle\":\"Harvard University\",\"wgCurRevisionId\":746419732,\"wgRevisionId\":746419732,\"wgArticleId\":18426501,\"wgIsArticle\":true,\"wgIsRedirect\":false,\"wgAction\":\"view\",\"wgUserName\":null,\"wgUserGroups\":[\"*\"],\"wgCategories\":[\"Articles containing potentially dated statements from September 2014\",\"All articles containing potentially dated statements\",\"Articles with Wayback Machine links\",\"Wikipedia indefinitely move-protected pages\",\"Use mdy dates from September 2015\",\"Wikipedia pages semi-protected against vandalism\",\"Articles containing Latin-language text\",\"Instances of Infobox university using image size\",\"Wikipedia articles needing clarification from July 2016\",\"Articles containing potentially dated statements from September 2011\",\"Articles containing potentially dated statements from 2012\",\"Wikipedia articles needing clarification from October 2015\",\"Articles to be expanded from September 2013\",\"All articles to be expanded\",\"Articles using small message boxes\",\"Articles containing potentially dated statements from 2013\",\"All articles with unsourced statements\",\"Articles with unsourced statements from November 2015\",\"Coordinates on Wikidata\",\"Wikipedia articles with VIAF identifiers\",\"Wikipedia articles with LCCN identifiers\",\"Wikipedia articles with ISNI identifiers\",\"Wikipedia articles with GND identifiers\",\"Wikipedia articles with BNF identifiers\",\"Wikipedia articles with ULAN identifiers\",\"Wikipedia articles with NLA identifiers\",\"Harvard University\",\"V-12 Navy College Training Program\"],\"wgBreakFrames\":false,\"wgPageContentLanguage\":\"en\",\"wgPageContentModel\":\"wikitext\",\"wgSeparatorTransformTable\":[\"\",\"\"],\"wgDigitTransformTable\":[\"\",\"\"],\"wgDefaultDateFormat\":\"dmy\",\"wgMonthNames\":[\"\",\"January\",\"February\",\"March\",\"April\",\"May\",\"June\",\"July\",\"August\",\"September\",\"October\",\"November\",\"December\"],\"wgMonthNamesShort\":[\"\",\"Jan\",\"Feb\",\"Mar\",\"Apr\",\"May\",\"Jun\",\"Jul\",\"Aug\",\"Sep\",\"Oct\",\"Nov\",\"Dec\"],\"wgRelevantPageName\":\"Harvard_University\",\"wgRelevantArticleId\":18426501,\"wgRequestId\":\"WBHnZwpAMFMAAAToZVsAAAAN\",\"wgIsProbablyEditable\":false,\"wgRestrictionEdit\":[\"autoconfirmed\"],\"wgRestrictionMove\":[\"sysop\"],\"wgWikiEditorEnabledModules\":{\"toolbar\":true,\"dialogs\":true,\"preview\":false,\"publish\":false},\"wgBetaFeaturesFeatures\":[],\"wgMediaViewerOnClick\":true,\"wgMediaViewerEnabledByDefault\":true,\"wgVisualEditor\":{\"pageLanguageCode\":\"en\",\"pageLanguageDir\":\"ltr\",\"usePageImages\":true,\"usePageDescriptions\":true},\"wgPreferredVariant\":\"en\",\"wgMFDisplayWikibaseDescriptions\":{\"search\":true,\"nearby\":true,\"watchlist\":true,\"tagline\":false},\"wgRelatedArticles\":null,\"wgRelatedArticlesUseCirrusSearch\":true,\"wgRelatedArticlesOnlyUseCirrusSearch\":false,\"wgULSCurrentAutonym\":\"English\",\"wgNoticeProject\":\"wikipedia\",\"wgCentralNoticeCookiesToDelete\":[],\"wgCentralNoticeCategoriesUsingLegacy\":[\"Fundraising\",\"fundraising\"],\"wgCategoryTreePageCategoryOptions\":\"{\\\\\"mode\\\\\":0,\\\\\"hideprefix\\\\\":20,\\\\\"showcount\\\\\":true,\\\\\"namespaces\\\\\":false}\",\"wgFlaggedRevsParams\":{\"tags\":{\"status\":{\"levels\":1,\"quality\":2,\"pristine\":3}}},\"wgStableRevisionId\":null,\"wgCoordinates\":{\"lat\":42.374444444444,\"lon\":-71.116944444444},\"wgWikibaseItemId\":\"Q13371\",\"wgCentralAuthMobileDomain\":false,\"wgVisualEditorToolbarScrollOffset\":0,\"wgEditSubmitButtonLabelPublish\":false});mw.loader.state({\"ext.globalCssJs.user.styles\":\"ready\",\"ext.globalCssJs.site.styles\":\"ready\",\"site.styles\":\"ready\",\"noscript\":\"ready\",\"user.styles\":\"ready\",\"user.cssprefs\":\"ready\",\"user\":\"ready\",\"user.options\":\"loading\",\"user.tokens\":\"loading\",\"ext.cite.styles\":\"ready\",\"mediawiki.page.gallery.styles\":\"ready\",\"wikibase.client.init\":\"ready\",\"ext.visualEditor.desktopArticleTarget.noscript\":\"ready\",\"ext.uls.interlanguage\":\"ready\",\"ext.wikimediaBadges\":\"ready\",\"mediawiki.legacy.shared\":\"ready\",\"mediawiki.legacy.commonPrint\":\"ready\",\"mediawiki.sectionAnchor\":\"ready\",\"mediawiki.skinning.interface\":\"ready\",\"skins.vector.styles\":\"ready\",\"ext.globalCssJs.user\":\"ready\",\"ext.globalCssJs.site\":\"ready\"});mw.loader.implement(\"user.options@0j3lz3q\",function($,jQuery,require,module){mw.user.options.set({\"variant\":\"en\"});});mw.loader.implement(\"user.tokens@1dqfd7l\",function ( $, jQuery, require, module ) {\\nmw.user.tokens.set({\"editToken\":\"+\\\\\\\\\",\"patrolToken\":\"+\\\\\\\\\",\"watchToken\":\"+\\\\\\\\\",\"csrfToken\":\"+\\\\\\\\\"});/*@nomin*/;\\n\\n});mw.loader.load([\"mediawiki.page.startup\",\"mediawiki.legacy.wikibits\",\"ext.centralauth.centralautologin\",\"mmv.head\",\"ext.visualEditor.desktopArticleTarget.init\",\"ext.uls.interface\",\"ext.quicksurveys.init\",\"skins.vector.js\"]);});</script>\\n<link rel=\"stylesheet\" href=\"/w/load.php?debug=false&amp;lang=en&amp;modules=ext.cite.styles%7Cext.gadget.ReferenceTooltips%2Cfeatured-articles-links%2Cteahouse%7Cext.uls.interlanguage%7Cext.visualEditor.desktopArticleTarget.noscript%7Cext.wikimediaBadges%7Cmediawiki.legacy.commonPrint%2Cshared%7Cmediawiki.page.gallery.styles%7Cmediawiki.sectionAnchor%7Cmediawiki.skinning.interface%7Cskins.vector.styles%7Cwikibase.client.init&amp;only=styles&amp;skin=vector\"/>\\n<script async=\"\" src=\"/w/load.php?debug=false&amp;lang=en&amp;modules=startup&amp;only=scripts&amp;skin=vector\"></script>\\n<meta name=\"ResourceLoaderDynamicStyles\" content=\"\"/>\\n<link rel=\"stylesheet\" href=\"/w/load.php?debug=false&amp;lang=en&amp;modules=site.styles&amp;only=styles&amp;skin=vector\"/>\\n<meta name=\"generator\" content=\"MediaWiki 1.28.0-wmf.22\"/>\\n<meta name=\"referrer\" content=\"origin-when-cross-origin\"/>\\n<link rel=\"alternate\" href=\"android-app://org.wikipedia/http/en.m.wikipedia.org/wiki/Harvard_University\"/>\\n<link rel=\"apple-touch-icon\" href=\"/static/apple-touch/wikipedia.png\"/>\\n<link rel=\"shortcut icon\" href=\"/static/favicon/wikipedia.ico\"/>\\n<link rel=\"search\" type=\"application/opensearchdescription+xml\" href=\"/w/opensearch_desc.php\" title=\"Wikipedia (en)\"/>\\n<link rel=\"EditURI\" type=\"application/rsd+xml\" href=\"//en.wikipedia.org/w/api.php?action=rsd\"/>\\n<link rel=\"copyright\" href=\"//creativecommons.org/licenses/by-sa/3.0/\"/>\\n<link rel=\"canonical\" href=\"https://en.wikipedia.org/wiki/Harvard_University\"/>\\n<link rel=\"dns-prefetch\" href=\"//login.wikimedia.org\"/>\\n<link rel=\"dns-prefetch\" href=\"//meta.wikimedia.org\" />\\n</head>\\n<body class=\"mediawiki ltr sitedir-ltr mw-hide-empty-elt ns-0 ns-subject page-Harvard_University rootpage-Harvard_University skin-vector action-view feature-footer-v2\">\\t\\t<div id=\"mw-page-base\" class=\"noprint\"></div>\\n\\t\\t<div id=\"mw-head-base\" class=\"noprint\"></div>\\n\\t\\t<div id=\"content\" class=\"mw-body\" role=\"main\">\\n\\t\\t\\t<a id=\"top\"></a>\\n\\n\\t\\t\\t\\t\\t\\t\\t<div id=\"siteNotice\"><!-- CentralNotice --></div>\\n\\t\\t\\t\\t\\t\\t<div class=\"mw-indicators\">\\n<div id=\"mw-indicator-pp-default\" class=\"mw-indicator\"><a href=\"/wiki/Wikipedia:Protection_policy#semi\" title=\"This article is semi-protected due to vandalism\"><img alt=\"Page semi-protected\" src=\"//upload.wikimedia.org/wikipedia/commons/thumb/f/fc/Padlock-silver.svg/20px-Padlock-silver.svg.png\" width=\"20\" height=\"20\" srcset=\"//upload.wikimedia.org/wikipedia/commons/thumb/f/fc/Padlock-silver.svg/30px-Padlock-silver.svg.png 1.5x, //upload.wikimedia.org/wikipedia/commons/thumb/f/fc/Padlock-silver.svg/40px-Padlock-silver.svg.png 2x\" data-file-width=\"128\" data-file-height=\"128\" /></a></div>\\n</div>\\n\\t\\t\\t<h1 id=\"firstHeading\" class=\"firstHeading\" lang=\"en\">Harvard University</h1>\\n\\t\\t\\t\\t\\t\\t\\t\\t\\t<div id=\"bodyContent\" class=\"mw-body-content\">\\n\\t\\t\\t\\t\\t\\t\\t\\t\\t<div id=\"siteSub\">From Wikipedia, the free encyclopedia</div>\\n\\t\\t\\t\\t\\t\\t\\t\\t<div id=\"contentSub\"></div>\\n\\t\\t\\t\\t\\t\\t\\t\\t\\t\\t\\t\\t<div id=\"jump-to-nav\" class=\"mw-jump\">\\n\\t\\t\\t\\t\\tJump to:\\t\\t\\t\\t\\t<a href=\"#mw-head\">navigation</a>, \\t\\t\\t\\t\\t<a href=\"#p-search\">search</a>\\n\\t\\t\\t\\t</div>\\n\\t\\t\\t\\t<div id=\"mw-content-text\" lang=\"en\" dir=\"ltr\" class=\"mw-content-ltr\"><div role=\"note\" class=\"hatnote\">\"Harvard\" redirects here. For other uses, see <a href=\"/wiki/Harvard_(disambiguation)\" class=\"mw-disambig\" title=\"Harvard (disambiguation)\">Harvard (disambiguation)</a>.</div>\\n<table class=\"infobox vcard\" style=\"width:22em\">\\n<caption class=\"fn org\">Harvard University</caption>\\n<tr>\\n<td colspan=\"2\" style=\"text-align:center\"><a href=\"/wiki/File:Harvard_Wreath_Logo_1.svg\" class=\"image\"><img alt=\"Harvard Wreath Logo 1.svg\" src=\"//upload.wikimedia.org/wikipedia/en/thumb/3/3a/Harvard_Wreath_Logo_1.svg/150px-Harvard_Wreath_Logo_1.svg.png\" width=\"150\" height=\"146\" srcset=\"//upload.wikimedia.org/wikipedia/en/thumb/3/3a/Harvard_Wreath_Logo_1.svg/225px-Harvard_Wreath_Logo_1.svg.png 1.5x, //upload.wikimedia.org/wikipedia/en/thumb/3/3a/Harvard_Wreath_Logo_1.svg/300px-Harvard_Wreath_Logo_1.svg.png 2x\" data-file-width=\"193\" data-file-height=\"188\" /></a></td>\\n</tr>\\n<tr>\\n<td colspan=\"2\" class=\"nickname\" style=\"text-align:center\"><a href=\"/wiki/Latin_language\" class=\"mw-redirect\" title=\"Latin language\">Latin</a>: <span lang=\"la\"><i>Universitas Harvardiana</i></span></td>\\n</tr>\\n<tr>\\n<th scope=\"row\" style=\"padding-right:0.65em;\">Motto</th>\\n<td><span><i>Veritas</i><sup id=\"cite_ref-1\" class=\"reference\"><a href=\"#cite_note-1\">[1]</a></sup></span></td>\\n</tr>\\n<tr>\\n<th scope=\"row\" style=\"padding-right:0.65em;\">\\n<div style=\"padding:0.1em 0;line-height:1.2em;\">Motto in&#160;English</div>\\n</th>\\n<td>Truth</td>\\n</tr>\\n<tr>\\n<th scope=\"row\" style=\"padding-right:0.65em;\">Type</th>\\n<td>Private <a href=\"/wiki/Research_university\" class=\"mw-redirect\" title=\"Research university\">research</a></td>\\n</tr>\\n<tr>\\n<th scope=\"row\" style=\"padding-right:0.65em;\">Established</th>\\n<td>1636<span style=\"display:none\">&#160;(<span class=\"bday dtstart published updated\">1636</span>)</span><sup id=\"cite_ref-founding_2-0\" class=\"reference\"><a href=\"#cite_note-founding-2\">[2]</a></sup></td>\\n</tr>\\n<tr>\\n<th scope=\"row\" style=\"padding-right:0.65em;\"><a href=\"/wiki/Financial_endowment\" title=\"Financial endowment\">Endowment</a></th>\\n<td><a href=\"/wiki/Harvard_University_endowment\" title=\"Harvard University endowment\">$37.6 billion</a><sup id=\"cite_ref-HarvardGlance_3-0\" class=\"reference\"><a href=\"#cite_note-HarvardGlance-3\">[3]</a></sup></td>\\n</tr>\\n<tr>\\n<th scope=\"row\" style=\"padding-right:0.65em;\"><a href=\"/wiki/University_president\" class=\"mw-redirect\" title=\"University president\">President</a></th>\\n<td><a href=\"/wiki/Drew_Gilpin_Faust\" title=\"Drew Gilpin Faust\">Drew Gilpin Faust</a></td>\\n</tr>\\n<tr>\\n<th scope=\"row\" style=\"padding-right:0.65em;\">\\n<div style=\"padding:0.1em 0;line-height:1.2em;\">Academic staff</div>\\n</th>\\n<td>4,671<sup id=\"cite_ref-4\" class=\"reference\"><a href=\"#cite_note-4\">[4]</a></sup></td>\\n</tr>\\n<tr>\\n<th scope=\"row\" style=\"padding-right:0.65em;\">Students</th>\\n<td>21,000<sup id=\"cite_ref-Harvard_at_a_Glance_5-0\" class=\"reference\"><a href=\"#cite_note-Harvard_at_a_Glance-5\">[5]</a></sup></td>\\n</tr>\\n<tr>\\n<th scope=\"row\" style=\"padding-right:0.65em;\"><a href=\"/wiki/Undergraduate_education\" title=\"Undergraduate education\">Undergraduates</a></th>\\n<td>6,700<sup id=\"cite_ref-Harvard_at_a_Glance_5-1\" class=\"reference\"><a href=\"#cite_note-Harvard_at_a_Glance-5\">[5]</a></sup></td>\\n</tr>\\n<tr>\\n<th scope=\"row\" style=\"padding-right:0.65em;\"><a href=\"/wiki/Postgraduate_education\" title=\"Postgraduate education\">Postgraduates</a></th>\\n<td>14,500<sup id=\"cite_ref-Harvard_at_a_Glance_5-2\" class=\"reference\"><a href=\"#cite_note-Harvard_at_a_Glance-5\">[5]</a></sup></td>\\n</tr>\\n<tr>\\n<th scope=\"row\" style=\"padding-right:0.65em;\">Location</th>\\n<td class=\"adr\"><span class=\"locality\"><a href=\"/wiki/Cambridge,_Massachusetts\" title=\"Cambridge, Massachusetts\">Cambridge</a></span>, <span class=\"state\"><a href=\"/wiki/Massachusetts\" title=\"Massachusetts\">Massachusetts</a></span>, <span class=\"country-name\">U.S.</span></td>\\n</tr>\\n<tr>\\n<th scope=\"row\" style=\"padding-right:0.65em;\">Campus</th>\\n<td><a href=\"/wiki/Urban_area\" title=\"Urban area\">Urban</a><br />\\n210 acres (85&#160;ha)</td>\\n</tr>\\n<tr>\\n<th scope=\"row\" style=\"padding-right:0.65em;\"><a href=\"/wiki/School_colors\" title=\"School colors\">Colors</a></th>\\n<td><a href=\"/wiki/Crimson\" title=\"Crimson\">Crimson</a><sup id=\"cite_ref-HarvardGlance_3-1\" class=\"reference\"><a href=\"#cite_note-HarvardGlance-3\">[3]</a></sup>&#160;<span style=\"background-color:#A51C30; color:; border:1px solid #000000; text-align:center;\">&#160;&#160;&#160;&#160;</span></td>\\n</tr>\\n<tr>\\n<th scope=\"row\" style=\"padding-right:0.65em;\">Athletics</th>\\n<td><a href=\"/wiki/NCAA_Division_I\" title=\"NCAA Division I\">NCAA Division I</a> \\u2013 <a href=\"/wiki/Ivy_League\" title=\"Ivy League\">Ivy League</a></td>\\n</tr>\\n<tr>\\n<th scope=\"row\" style=\"padding-right:0.65em;\"><a href=\"/wiki/Athletic_nickname\" title=\"Athletic nickname\">Nickname</a></th>\\n<td><a href=\"/wiki/Harvard_Crimson\" title=\"Harvard Crimson\">Harvard Crimson</a></td>\\n</tr>\\n<tr>\\n<th scope=\"row\" style=\"padding-right:0.65em;\">Affiliations</th>\\n<td><a href=\"/wiki/National_Association_of_Independent_Colleges_and_Universities\" title=\"National Association of Independent Colleges and Universities\">NAICU</a><br />\\n<a href=\"/wiki/Association_of_Independent_Colleges_and_Universities_in_Massachusetts\" title=\"Association of Independent Colleges and Universities in Massachusetts\">AICUM</a><br />\\n<a href=\"/wiki/Association_of_American_Universities\" title=\"Association of American Universities\">AAU</a><br />\\n<a href=\"/wiki/Universities_Research_Association\" title=\"Universities Research Association\">URA</a></td>\\n</tr>\\n<tr>\\n<th scope=\"row\" style=\"padding-right:0.65em;\">Website</th>\\n<td><span class=\"url\"><a rel=\"nofollow\" class=\"external text\" href=\"http://www.harvard.edu\">www<wbr />.harvard<wbr />.edu</a></span></td>\\n</tr>\\n<tr>\\n<td colspan=\"2\" style=\"text-align:center\"><a href=\"/wiki/File:Harvard_University_logo.PNG\" class=\"image\"><img alt=\"Harvard University logo.PNG\" src=\"//upload.wikimedia.org/wikipedia/commons/9/91/Harvard_University_logo.PNG\" width=\"228\" height=\"58\" data-file-width=\"228\" data-file-height=\"58\" /></a></td>\\n</tr>\\n</table>\\n<p><b>Harvard University</b> is a private, <a href=\"/wiki/Ivy_League\" title=\"Ivy League\">Ivy League</a> <a href=\"/wiki/Research_university\" class=\"mw-redirect\" title=\"Research university\">research university</a> in <a href=\"/wiki/Cambridge,_Massachusetts\" title=\"Cambridge, Massachusetts\">Cambridge, Massachusetts</a>, established in 1636, whose history, influence, and wealth have made it one of the world\\'s most prestigious universities.<sup id=\"cite_ref-6\" class=\"reference\"><a href=\"#cite_note-6\">[6]</a></sup><sup id=\"cite_ref-7\" class=\"reference\"><a href=\"#cite_note-7\">[7]</a></sup><sup id=\"cite_ref-:0_8-0\" class=\"reference\"><a href=\"#cite_note-:0-8\">[8]</a></sup><sup id=\"cite_ref-9\" class=\"reference\"><a href=\"#cite_note-9\">[9]</a></sup><sup id=\"cite_ref-10\" class=\"reference\"><a href=\"#cite_note-10\">[10]</a></sup><sup id=\"cite_ref-11\" class=\"reference\"><a href=\"#cite_note-11\">[11]</a></sup><sup id=\"cite_ref-12\" class=\"reference\"><a href=\"#cite_note-12\">[12]</a></sup></p>\\n<p>Established originally by the <a href=\"/wiki/Massachusetts_General_Court\" title=\"Massachusetts General Court\">Massachusetts legislature</a> and soon thereafter named for <a href=\"/wiki/John_Harvard_(clergyman)\" title=\"John Harvard (clergyman)\">John Harvard</a> (its first benefactor), Harvard is the <a href=\"/wiki/Colonial_Colleges\" class=\"mw-redirect\" title=\"Colonial Colleges\">United States\\' oldest institution of higher learning</a>,<sup id=\"cite_ref-13\" class=\"reference\"><a href=\"#cite_note-13\">[13]</a></sup> and the <a href=\"/wiki/Harvard_Corporation\" class=\"mw-redirect\" title=\"Harvard Corporation\">Harvard Corporation</a> (formally, the <i>President and Fellows of Harvard College</i>) is its first chartered <a href=\"/wiki/Corporation\" title=\"Corporation\">corporation</a>. Although never formally affiliated with any <a href=\"/wiki/Religious_denomination\" title=\"Religious denomination\">denomination</a>, the early College primarily trained <a href=\"/wiki/Congregational_church\" title=\"Congregational church\">Congregationalist</a> and <a href=\"/wiki/Unitarianism\" title=\"Unitarianism\">Unitarian</a> clergy. Its curriculum and student body were gradually secularized during the 18th century, and by the 19th century Harvard had emerged as the central cultural establishment among <a href=\"/wiki/Boston_Brahmin\" title=\"Boston Brahmin\">Boston elites</a>.<sup id=\"cite_ref-14\" class=\"reference\"><a href=\"#cite_note-14\">[14]</a></sup><sup id=\"cite_ref-15\" class=\"reference\"><a href=\"#cite_note-15\">[15]</a></sup> Following the <a href=\"/wiki/American_Civil_War\" title=\"American Civil War\">American Civil War</a>, President <a href=\"/wiki/Charles_W._Eliot\" class=\"mw-redirect\" title=\"Charles W. Eliot\">Charles W. Eliot</a>\\'s long tenure (1869\\u20131909) transformed the college and affiliated professional schools into a modern <a href=\"/wiki/Research_university\" class=\"mw-redirect\" title=\"Research university\">research university</a>; Harvard was a founding member of the <a href=\"/wiki/Association_of_American_Universities\" title=\"Association of American Universities\">Association of American Universities</a> in 1900.<sup id=\"cite_ref-AAU_16-0\" class=\"reference\"><a href=\"#cite_note-AAU-16\">[16]</a></sup> <a href=\"/wiki/James_Bryant_Conant\" title=\"James Bryant Conant\">James Bryant Conant</a> led the university through the <a href=\"/wiki/Great_Depression\" title=\"Great Depression\">Great Depression</a> and <a href=\"/wiki/World_War_II\" title=\"World War II\">World War II</a> and began to reform the curriculum and liberalize admissions after the war. The undergraduate college became coeducational after its 1977 merger with <a href=\"/wiki/Radcliffe_College\" title=\"Radcliffe College\">Radcliffe College</a>.</p>\\n<p>The University is organized into eleven separate academic units\\u2014ten faculties and the <a href=\"/wiki/Radcliffe_Institute_for_Advanced_Study\" title=\"Radcliffe Institute for Advanced Study\">Radcliffe Institute for Advanced Study</a>\\u2014with campuses throughout the Boston metropolitan area:<sup id=\"cite_ref-17\" class=\"reference\"><a href=\"#cite_note-17\">[17]</a></sup> its 209-acre (85&#160;ha) main campus is centered on <a href=\"/wiki/Harvard_Yard\" title=\"Harvard Yard\">Harvard Yard</a> in Cambridge, approximately 3 miles (5&#160;km) northwest of Boston; the <a href=\"/wiki/Harvard_Business_School\" title=\"Harvard Business School\">business school</a> and athletics facilities, including <a href=\"/wiki/Harvard_Stadium\" title=\"Harvard Stadium\">Harvard Stadium</a>, are located across the <a href=\"/wiki/Charles_River\" title=\"Charles River\">Charles River</a> in the <a href=\"/wiki/Allston\" title=\"Allston\">Allston</a> neighborhood of Boston and the <a href=\"/wiki/Harvard_Medical_School\" title=\"Harvard Medical School\">medical</a>, <a href=\"/wiki/Harvard_School_of_Dental_Medicine\" title=\"Harvard School of Dental Medicine\">dental</a>, and <a href=\"/wiki/Harvard_School_of_Public_Health\" class=\"mw-redirect\" title=\"Harvard School of Public Health\">public health</a> schools are in the <a href=\"/wiki/Longwood_Medical_and_Academic_Area\" title=\"Longwood Medical and Academic Area\">Longwood Medical Area</a>.<sup id=\"cite_ref-Campus_18-0\" class=\"reference\"><a href=\"#cite_note-Campus-18\">[18]</a></sup> Harvard\\'s <a href=\"/wiki/Harvard_University_endowment\" title=\"Harvard University endowment\">$37.6 billion financial endowment</a> is the <a href=\"/wiki/List_of_colleges_and_universities_in_the_United_States_by_endowment\" title=\"List of colleges and universities in the United States by endowment\">largest of any academic institution</a>.<sup id=\"cite_ref-HarvardGlance_3-2\" class=\"reference\"><a href=\"#cite_note-HarvardGlance-3\">[3]</a></sup></p>\\n<p>Harvard is a large, highly residential research university.<sup id=\"cite_ref-Carnegie_19-0\" class=\"reference\"><a href=\"#cite_note-Carnegie-19\">[19]</a></sup> The nominal cost of attendance is high, but the University\\'s large endowment allows it to offer generous financial aid packages.<sup id=\"cite_ref-fa_20-0\" class=\"reference\"><a href=\"#cite_note-fa-20\">[20]</a></sup> It operates several arts, cultural, and scientific museums, alongside the <a href=\"/wiki/Harvard_Library\" title=\"Harvard Library\">Harvard Library</a>, which is the world\\'s largest academic and private library system, comprising 79 individual libraries with over 18 million volumes.<sup id=\"cite_ref-hlar_21-0\" class=\"reference\"><a href=\"#cite_note-hlar-21\">[21]</a></sup><sup id=\"cite_ref-largestlibs_22-0\" class=\"reference\"><a href=\"#cite_note-largestlibs-22\">[22]</a></sup><sup id=\"cite_ref-speaking_23-0\" class=\"reference\"><a href=\"#cite_note-speaking-23\">[23]</a></sup> Harvard\\'s alumni include <a href=\"/wiki/List_of_Presidents_of_the_United_States_by_education\" title=\"List of Presidents of the United States by education\">eight U.S. presidents</a>, several foreign heads of state, 62 living <a href=\"/wiki/Billionaires\" class=\"mw-redirect\" title=\"Billionaires\">billionaires</a>, 335 <a href=\"/wiki/Rhodes_Scholar\" class=\"mw-redirect\" title=\"Rhodes Scholar\">Rhodes Scholars</a>, and 242 <a href=\"/wiki/Marshall_Scholars\" class=\"mw-redirect\" title=\"Marshall Scholars\">Marshall Scholars</a>.<sup id=\"cite_ref-RS_24-0\" class=\"reference\"><a href=\"#cite_note-RS-24\">[24]</a></sup><sup id=\"cite_ref-25\" class=\"reference\"><a href=\"#cite_note-25\">[25]</a></sup><sup id=\"cite_ref-26\" class=\"reference\"><a href=\"#cite_note-26\">[26]</a></sup> To date, <a href=\"/wiki/List_of_Nobel_laureates_by_university_affiliation\" title=\"List of Nobel laureates by university affiliation\">some 150 Nobel laureates</a>, <a href=\"/wiki/List_of_Fields_Medal_winners_by_university_affiliation\" title=\"List of Fields Medal winners by university affiliation\">18 Fields Medalists</a> and <a href=\"/wiki/List_of_Turing_Award_laureates_by_university_affiliation\" title=\"List of Turing Award laureates by university affiliation\">13 Turing Award winners</a> have been affiliated as students, faculty, or staff.<sup id=\"cite_ref-27\" class=\"reference\"><a href=\"#cite_note-27\">[27]</a></sup></p>\\n<p></p>\\n<div id=\"toc\" class=\"toc\">\\n<div id=\"toctitle\">\\n<h2>Contents</h2>\\n</div>\\n<ul>\\n<li class=\"toclevel-1 tocsection-1\"><a href=\"#History\"><span class=\"tocnumber\">1</span> <span class=\"toctext\">History</span></a>\\n<ul>\\n<li class=\"toclevel-2 tocsection-2\"><a href=\"#Colonial\"><span class=\"tocnumber\">1.1</span> <span class=\"toctext\">Colonial</span></a></li>\\n<li class=\"toclevel-2 tocsection-3\"><a href=\"#19th_century\"><span class=\"tocnumber\">1.2</span> <span class=\"toctext\">19th century</span></a></li>\\n<li class=\"toclevel-2 tocsection-4\"><a href=\"#20th_century\"><span class=\"tocnumber\">1.3</span> <span class=\"toctext\">20th century</span></a></li>\\n<li class=\"toclevel-2 tocsection-5\"><a href=\"#21st_century\"><span class=\"tocnumber\">1.4</span> <span class=\"toctext\">21st century</span></a></li>\\n</ul>\\n</li>\\n<li class=\"toclevel-1 tocsection-6\"><a href=\"#Campuses\"><span class=\"tocnumber\">2</span> <span class=\"toctext\">Campuses</span></a>\\n<ul>\\n<li class=\"toclevel-2 tocsection-7\"><a href=\"#Cambridge\"><span class=\"tocnumber\">2.1</span> <span class=\"toctext\">Cambridge</span></a></li>\\n<li class=\"toclevel-2 tocsection-8\"><a href=\"#Allston\"><span class=\"tocnumber\">2.2</span> <span class=\"toctext\">Allston</span></a></li>\\n<li class=\"toclevel-2 tocsection-9\"><a href=\"#Longwood\"><span class=\"tocnumber\">2.3</span> <span class=\"toctext\">Longwood</span></a></li>\\n<li class=\"toclevel-2 tocsection-10\"><a href=\"#Other\"><span class=\"tocnumber\">2.4</span> <span class=\"toctext\">Other</span></a></li>\\n</ul>\\n</li>\\n<li class=\"toclevel-1 tocsection-11\"><a href=\"#Organization_and_administration\"><span class=\"tocnumber\">3</span> <span class=\"toctext\">Organization and administration</span></a>\\n<ul>\\n<li class=\"toclevel-2 tocsection-12\"><a href=\"#Governance\"><span class=\"tocnumber\">3.1</span> <span class=\"toctext\">Governance</span></a></li>\\n<li class=\"toclevel-2 tocsection-13\"><a href=\"#Endowment\"><span class=\"tocnumber\">3.2</span> <span class=\"toctext\">Endowment</span></a>\\n<ul>\\n<li class=\"toclevel-3 tocsection-14\"><a href=\"#Divestment\"><span class=\"tocnumber\">3.2.1</span> <span class=\"toctext\">Divestment</span></a></li>\\n</ul>\\n</li>\\n</ul>\\n</li>\\n<li class=\"toclevel-1 tocsection-15\"><a href=\"#Academics\"><span class=\"tocnumber\">4</span> <span class=\"toctext\">Academics</span></a>\\n<ul>\\n<li class=\"toclevel-2 tocsection-16\"><a href=\"#Admission\"><span class=\"tocnumber\">4.1</span> <span class=\"toctext\">Admission</span></a></li>\\n<li class=\"toclevel-2 tocsection-17\"><a href=\"#Teaching_and_learning\"><span class=\"tocnumber\">4.2</span> <span class=\"toctext\">Teaching and learning</span></a></li>\\n<li class=\"toclevel-2 tocsection-18\"><a href=\"#Research\"><span class=\"tocnumber\">4.3</span> <span class=\"toctext\">Research</span></a></li>\\n<li class=\"toclevel-2 tocsection-19\"><a href=\"#Libraries_and_museums\"><span class=\"tocnumber\">4.4</span> <span class=\"toctext\">Libraries and museums</span></a></li>\\n<li class=\"toclevel-2 tocsection-20\"><a href=\"#University_rankings\"><span class=\"tocnumber\">4.5</span> <span class=\"toctext\">University rankings</span></a></li>\\n</ul>\\n</li>\\n<li class=\"toclevel-1 tocsection-21\"><a href=\"#Student_life\"><span class=\"tocnumber\">5</span> <span class=\"toctext\">Student life</span></a>\\n<ul>\\n<li class=\"toclevel-2 tocsection-22\"><a href=\"#Student_body\"><span class=\"tocnumber\">5.1</span> <span class=\"toctext\">Student body</span></a></li>\\n<li class=\"toclevel-2 tocsection-23\"><a href=\"#Athletics\"><span class=\"tocnumber\">5.2</span> <span class=\"toctext\">Athletics</span></a></li>\\n<li class=\"toclevel-2 tocsection-24\"><a href=\"#Song\"><span class=\"tocnumber\">5.3</span> <span class=\"toctext\">Song</span></a></li>\\n</ul>\\n</li>\\n<li class=\"toclevel-1 tocsection-25\"><a href=\"#Notable_people\"><span class=\"tocnumber\">6</span> <span class=\"toctext\">Notable people</span></a>\\n<ul>\\n<li class=\"toclevel-2 tocsection-26\"><a href=\"#Alumni\"><span class=\"tocnumber\">6.1</span> <span class=\"toctext\">Alumni</span></a></li>\\n<li class=\"toclevel-2 tocsection-27\"><a href=\"#Faculty\"><span class=\"tocnumber\">6.2</span> <span class=\"toctext\">Faculty</span></a></li>\\n</ul>\\n</li>\\n<li class=\"toclevel-1 tocsection-28\"><a href=\"#Literature_and_popular_culture\"><span class=\"tocnumber\">7</span> <span class=\"toctext\">Literature and popular culture</span></a>\\n<ul>\\n<li class=\"toclevel-2 tocsection-29\"><a href=\"#Literature\"><span class=\"tocnumber\">7.1</span> <span class=\"toctext\">Literature</span></a></li>\\n<li class=\"toclevel-2 tocsection-30\"><a href=\"#Film\"><span class=\"tocnumber\">7.2</span> <span class=\"toctext\">Film</span></a></li>\\n</ul>\\n</li>\\n<li class=\"toclevel-1 tocsection-31\"><a href=\"#See_also\"><span class=\"tocnumber\">8</span> <span class=\"toctext\">See also</span></a></li>\\n<li class=\"toclevel-1 tocsection-32\"><a href=\"#References\"><span class=\"tocnumber\">9</span> <span class=\"toctext\">References</span></a>\\n<ul>\\n<li class=\"toclevel-2 tocsection-33\"><a href=\"#Citations\"><span class=\"tocnumber\">9.1</span> <span class=\"toctext\">Citations</span></a></li>\\n<li class=\"toclevel-2 tocsection-34\"><a href=\"#Further_reading\"><span class=\"tocnumber\">9.2</span> <span class=\"toctext\">Further reading</span></a></li>\\n</ul>\\n</li>\\n<li class=\"toclevel-1 tocsection-35\"><a href=\"#External_links\"><span class=\"tocnumber\">10</span> <span class=\"toctext\">External links</span></a></li>\\n</ul>\\n</div>\\n<p></p>\\n<h2><span class=\"mw-headline\" id=\"History\">History</span></h2>\\n<div role=\"note\" class=\"hatnote\">Main article: <a href=\"/wiki/History_of_Harvard_University\" title=\"History of Harvard University\">History of Harvard University</a></div>\\n<h3><span class=\"mw-headline\" id=\"Colonial\">Colonial</span></h3>\\n<div class=\"thumb tright\">\\n<div class=\"thumbinner\" style=\"width:222px;\"><a href=\"/wiki/File:Harvard_College_Seal.png\" class=\"image\"><img alt=\"\" src=\"//upload.wikimedia.org/wikipedia/en/thumb/e/e6/Harvard_College_Seal.png/220px-Harvard_College_Seal.png\" width=\"220\" height=\"218\" class=\"thumbimage\" srcset=\"//upload.wikimedia.org/wikipedia/en/thumb/e/e6/Harvard_College_Seal.png/330px-Harvard_College_Seal.png 1.5x, //upload.wikimedia.org/wikipedia/en/thumb/e/e6/Harvard_College_Seal.png/440px-Harvard_College_Seal.png 2x\" data-file-width=\"1024\" data-file-height=\"1016\" /></a>\\n<div class=\"thumbcaption\">\\n<div class=\"magnify\"><a href=\"/wiki/File:Harvard_College_Seal.png\" class=\"internal\" title=\"Enlarge\"></a></div>\\nThe official seal of the <a href=\"/wiki/Harvard_Corporation\" class=\"mw-redirect\" title=\"Harvard Corporation\">Harvard Corporation</a>. Found on Harvard diplomas, it carries the University\\'s original motto, <i>Christo et Ecclesiae</i> (\"Christ and Church\"), later changed to <i>Veritas</i> (\"Truth\").</div>\\n</div>\\n</div>\\n<div class=\"thumb tright\">\\n<div class=\"thumbinner\" style=\"width:222px;\"><a href=\"/wiki/File:A_Westerly_View_of_the_Colledges_in_Cambridge_New_England_by_Paul_Revere.jpeg\" class=\"image\"><img alt=\"\" src=\"//upload.wikimedia.org/wikipedia/commons/thumb/5/53/A_Westerly_View_of_the_Colledges_in_Cambridge_New_England_by_Paul_Revere.jpeg/220px-A_Westerly_View_of_the_Colledges_in_Cambridge_New_England_by_Paul_Revere.jpeg\" width=\"220\" height=\"154\" class=\"thumbimage\" srcset=\"//upload.wikimedia.org/wikipedia/commons/thumb/5/53/A_Westerly_View_of_the_Colledges_in_Cambridge_New_England_by_Paul_Revere.jpeg/330px-A_Westerly_View_of_the_Colledges_in_Cambridge_New_England_by_Paul_Revere.jpeg 1.5x, //upload.wikimedia.org/wikipedia/commons/thumb/5/53/A_Westerly_View_of_the_Colledges_in_Cambridge_New_England_by_Paul_Revere.jpeg/440px-A_Westerly_View_of_the_Colledges_in_Cambridge_New_England_by_Paul_Revere.jpeg 2x\" data-file-width=\"700\" data-file-height=\"490\" /></a>\\n<div class=\"thumbcaption\">\\n<div class=\"magnify\"><a href=\"/wiki/File:A_Westerly_View_of_the_Colledges_in_Cambridge_New_England_by_Paul_Revere.jpeg\" class=\"internal\" title=\"Enlarge\"></a></div>\\nEngraving of <a href=\"/wiki/Harvard_College\" title=\"Harvard College\">Harvard College</a> by <a href=\"/wiki/Paul_Revere\" title=\"Paul Revere\">Paul Revere</a>, 1767</div>\\n</div>\\n</div>\\n<p>Harvard was formed in 1636 by vote of the Great and General Court of the <a href=\"/wiki/Massachusetts_Bay_Colony\" title=\"Massachusetts Bay Colony\">Massachusetts Bay Colony</a>. It was initially called \"New College\" or \"the college at <a href=\"/wiki/Cambridge,_Massachusetts\" title=\"Cambridge, Massachusetts\">New Towne</a>\". In 1638, the college became home to British North America\\'s first known printing press.<sup id=\"cite_ref-FirstPrintingPress_28-0\" class=\"reference\"><a href=\"#cite_note-FirstPrintingPress-28\">[28]</a></sup><sup id=\"cite_ref-UHullMHSC_29-0\" class=\"reference\"><a href=\"#cite_note-UHullMHSC-29\">[29]</a></sup> In 1639, the college was renamed <i><a href=\"/wiki/Harvard_College\" title=\"Harvard College\">Harvard College</a></i> after deceased clergyman <a href=\"/wiki/John_Harvard_(clergyman)\" title=\"John Harvard (clergyman)\">John Harvard</a>, who was an alumnus of the <a href=\"/wiki/University_of_Cambridge\" title=\"University of Cambridge\">University of Cambridge</a>. He had left the school <a href=\"/wiki/Pound_sign\" title=\"Pound sign\">\\xa3</a>779 and his library of some 400 books.<sup id=\"cite_ref-JH_facts_30-0\" class=\"reference\"><a href=\"#cite_note-JH_facts-30\">[30]</a></sup> The charter creating the <a href=\"/wiki/Harvard_Corporation\" class=\"mw-redirect\" title=\"Harvard Corporation\">Harvard Corporation</a> was granted in 1650.</p>\\n<p>In the early years the College trained many Puritan ministers.<sup id=\"cite_ref-GriggMancall2008_31-0\" class=\"reference\"><a href=\"#cite_note-GriggMancall2008-31\">[31]</a></sup> (A 1643 publication said the school\\'s purpose was \"to advance learning and perpetuate it to posterity, dreading to leave an illiterate ministry to the churches when our present ministers shall lie in the dust\".)<sup id=\"cite_ref-32\" class=\"reference\"><a href=\"#cite_note-32\">[32]</a></sup> It offered a classic curriculum on the English university model\\u2014<wbr />\\u200b\\u200bmany leaders in the colony had attended the <a href=\"/wiki/University_of_Cambridge\" title=\"University of Cambridge\">University of Cambridge</a>\\u2014<wbr />\\u200b\\u200bbut conformed to the tenets of <a href=\"/wiki/Puritanism\" class=\"mw-redirect\" title=\"Puritanism\">Puritanism</a>. It was never affiliated with any particular denomination, but many of its earliest graduates went on to become clergymen in Congregational and Unitarian churches.<sup id=\"cite_ref-33\" class=\"reference\"><a href=\"#cite_note-33\">[33]</a></sup></p>\\n<p>The leading Boston divine <a href=\"/wiki/Increase_Mather\" title=\"Increase Mather\">Increase Mather</a> served as president from 1685 to 1701. In 1708, <a href=\"/wiki/John_Leverett_the_Younger\" title=\"John Leverett the Younger\">John Leverett</a> became the first president who was not also a clergyman, which marked a turning of the college toward intellectual independence from Puritanism.</p>\\n<h3><span class=\"mw-headline\" id=\"19th_century\">19th century</span></h3>\\n<div class=\"thumb tright\">\\n<div class=\"thumbinner\" style=\"width:222px;\"><a href=\"/wiki/File:John_Harvard_statue_at_Harvard_University.jpg\" class=\"image\"><img alt=\"\" src=\"//upload.wikimedia.org/wikipedia/commons/thumb/4/4e/John_Harvard_statue_at_Harvard_University.jpg/220px-John_Harvard_statue_at_Harvard_University.jpg\" width=\"220\" height=\"170\" class=\"thumbimage\" srcset=\"//upload.wikimedia.org/wikipedia/commons/thumb/4/4e/John_Harvard_statue_at_Harvard_University.jpg/330px-John_Harvard_statue_at_Harvard_University.jpg 1.5x, //upload.wikimedia.org/wikipedia/commons/thumb/4/4e/John_Harvard_statue_at_Harvard_University.jpg/440px-John_Harvard_statue_at_Harvard_University.jpg 2x\" data-file-width=\"2377\" data-file-height=\"1835\" /></a>\\n<div class=\"thumbcaption\">\\n<div class=\"magnify\"><a href=\"/wiki/File:John_Harvard_statue_at_Harvard_University.jpg\" class=\"internal\" title=\"Enlarge\"></a></div>\\n<a href=\"/wiki/John_Harvard_statue\" class=\"mw-redirect\" title=\"John Harvard statue\">John Harvard statue</a>, <a href=\"/wiki/Harvard_Yard\" title=\"Harvard Yard\">Harvard Yard</a></div>\\n</div>\\n</div>\\n<p>Throughout the 18th century, <a href=\"/wiki/Age_of_Enlightenment\" title=\"Age of Enlightenment\">Enlightenment</a> ideas of the power of reason and free will became widespread among <a href=\"/wiki/Congregationalist#United_States\" class=\"mw-redirect\" title=\"Congregationalist\">Congregationalist</a> ministers, putting those ministers and their congregations in tension with more traditionalist, <a href=\"/wiki/Calvinist\" class=\"mw-redirect\" title=\"Calvinist\">Calvinist</a> parties.<sup id=\"cite_ref-Dorrien_34-0\" class=\"reference\"><a href=\"#cite_note-Dorrien-34\">[34]</a></sup><sup class=\"reference\" style=\"white-space:nowrap;\">:1\\u20134</sup> When the <a href=\"/wiki/Hollis_Chair_of_Divinity\" title=\"Hollis Chair of Divinity\">Hollis Professor of Divinity</a> David Tappan died in 1803 and the president of Harvard Joseph Willard died a year later, in 1804, a struggle broke out over their replacements. <a href=\"/wiki/Henry_Ware_(Unitarian)\" title=\"Henry Ware (Unitarian)\">Henry Ware</a> was elected to the chair in 1805, and the liberal <a href=\"/wiki/Samuel_Webber\" title=\"Samuel Webber\">Samuel Webber</a> was appointed to the presidency of Harvard two years later, which signaled the changing of the tide from the dominance of traditional ideas at Harvard to the dominance of liberal, <a href=\"/wiki/Arminianism\" title=\"Arminianism\">Arminian</a> ideas (defined by traditionalists as <a href=\"/wiki/Unitarian-Universalism\" class=\"mw-redirect\" title=\"Unitarian-Universalism\">Unitarian</a> ideas).<sup id=\"cite_ref-Dorrien_34-1\" class=\"reference\"><a href=\"#cite_note-Dorrien-34\">[34]</a></sup><sup class=\"reference\" style=\"white-space:nowrap;\">:4\\u20135</sup><sup id=\"cite_ref-35\" class=\"reference\"><a href=\"#cite_note-35\">[35]</a></sup><sup class=\"reference\" style=\"white-space:nowrap;\">:24</sup></p>\\n<p>In 1846, the natural history lectures of <a href=\"/wiki/Louis_Agassiz\" title=\"Louis Agassiz\">Louis Agassiz</a> were acclaimed both in New York and on the campus at Harvard College. Agassiz\\'s approach was distinctly idealist and posited Americans\\' \"participation in the Divine Nature\" and the possibility of understanding \"intellectual existences\". Agassiz\\'s perspective on science combined observation with intuition and the assumption that a person can grasp the \"divine plan\" in all phenomena. When it came to explaining life-forms, Agassiz resorted to matters of shape based on a presumed archetype for his evidence. This dual view of knowledge was in concert with the teachings of <a href=\"/wiki/Common_Sense_Realism\" class=\"mw-redirect\" title=\"Common Sense Realism\">Common Sense Realism</a> derived from Scottish philosophers <a href=\"/wiki/Thomas_Reid\" title=\"Thomas Reid\">Thomas Reid</a> and <a href=\"/wiki/Dugald_Stewart\" title=\"Dugald Stewart\">Dugald Stewart</a>, whose works were part of the Harvard curriculum at the time. The popularity of Agassiz\\'s efforts to \"soar with Plato\" probably also derived from other writings to which Harvard students were exposed, including Platonic treatises by <a href=\"/wiki/Ralph_Cudworth\" title=\"Ralph Cudworth\">Ralph Cudworth</a>, <a href=\"/wiki/John_Norris_(philosopher)\" title=\"John Norris (philosopher)\">John Norris</a> and, in a Romantic vein, <a href=\"/wiki/Samuel_Taylor_Coleridge\" title=\"Samuel Taylor Coleridge\">Samuel Taylor Coleridge</a>. The library records at Harvard reveal that the writings of Plato and his early modern and Romantic followers were almost as regularly read during the 19th century as those of the \"official philosophy\" of the more empirical and more deistic Scottish school.<sup id=\"cite_ref-36\" class=\"reference\"><a href=\"#cite_note-36\">[36]</a></sup></p>\\n<p><a href=\"/wiki/Charles_W._Eliot\" class=\"mw-redirect\" title=\"Charles W. Eliot\">Charles W. Eliot</a>, president 1869\\u20131909, eliminated the favored position of Christianity from the curriculum while opening it to student self-direction. While Eliot was the most crucial figure in the secularization of American higher education, he was motivated not by a desire to secularize education, but by <a href=\"/wiki/Transcendentalism\" title=\"Transcendentalism\">Transcendentalist</a> <a href=\"/wiki/Unitarianism\" title=\"Unitarianism\">Unitarian</a> convictions. Derived from <a href=\"/wiki/William_Ellery_Channing\" title=\"William Ellery Channing\">William Ellery Channing</a> and <a href=\"/wiki/Ralph_Waldo_Emerson\" title=\"Ralph Waldo Emerson\">Ralph Waldo Emerson</a>, these convictions were focused on the dignity and worth of human nature, the right and ability of each person to perceive truth, and the indwelling God in each person.<sup id=\"cite_ref-37\" class=\"reference\"><a href=\"#cite_note-37\">[37]</a></sup></p>\\n<h3><span class=\"mw-headline\" id=\"20th_century\">20th century</span></h3>\\n<div class=\"thumb tright\">\\n<div class=\"thumbinner\" style=\"width:302px;\"><a href=\"/wiki/File:Rummell,_Richard_Harvard_University.jpg\" class=\"image\"><img alt=\"\" src=\"//upload.wikimedia.org/wikipedia/commons/thumb/5/58/Rummell%2C_Richard_Harvard_University.jpg/300px-Rummell%2C_Richard_Harvard_University.jpg\" width=\"300\" height=\"155\" class=\"thumbimage\" srcset=\"//upload.wikimedia.org/wikipedia/commons/thumb/5/58/Rummell%2C_Richard_Harvard_University.jpg/450px-Rummell%2C_Richard_Harvard_University.jpg 1.5x, //upload.wikimedia.org/wikipedia/commons/thumb/5/58/Rummell%2C_Richard_Harvard_University.jpg/600px-Rummell%2C_Richard_Harvard_University.jpg 2x\" data-file-width=\"3164\" data-file-height=\"1637\" /></a>\\n<div class=\"thumbcaption\">\\n<div class=\"magnify\"><a href=\"/wiki/File:Rummell,_Richard_Harvard_University.jpg\" class=\"internal\" title=\"Enlarge\"></a></div>\\nRichard Rummell\\'s 1906 watercolor landscape view, facing northeast.<sup id=\"cite_ref-http:.2F.2Fgrahamarader.blogspot.com.2F2011.2F07.2Ficonic-college-view-harvard-university.html_38-0\" class=\"reference\"><a href=\"#cite_note-http:.2F.2Fgrahamarader.blogspot.com.2F2011.2F07.2Ficonic-college-view-harvard-university.html-38\">[38]</a></sup></div>\\n</div>\\n</div>\\n<div class=\"thumb tright\">\\n<div class=\"thumbinner\" style=\"width:302px;\"><a href=\"/wiki/File:Harvard_square_harvard_yard.JPG\" class=\"image\"><img alt=\"\" src=\"//upload.wikimedia.org/wikipedia/commons/thumb/c/c7/Harvard_square_harvard_yard.JPG/300px-Harvard_square_harvard_yard.JPG\" width=\"300\" height=\"147\" class=\"thumbimage\" srcset=\"//upload.wikimedia.org/wikipedia/commons/thumb/c/c7/Harvard_square_harvard_yard.JPG/450px-Harvard_square_harvard_yard.JPG 1.5x, //upload.wikimedia.org/wikipedia/commons/thumb/c/c7/Harvard_square_harvard_yard.JPG/600px-Harvard_square_harvard_yard.JPG 2x\" data-file-width=\"5015\" data-file-height=\"2454\" /></a>\\n<div class=\"thumbcaption\">\\n<div class=\"magnify\"><a href=\"/wiki/File:Harvard_square_harvard_yard.JPG\" class=\"internal\" title=\"Enlarge\"></a></div>\\n<a href=\"/wiki/Harvard_Yard\" title=\"Harvard Yard\">Harvard Yard</a> as seen from <a href=\"/wiki/Holyoke_Center\" class=\"mw-redirect\" title=\"Holyoke Center\">Holyoke Center</a></div>\\n</div>\\n</div>\\n<p>During the 20th century, Harvard\\'s international reputation grew as a burgeoning endowment and prominent professors expanded the university\\'s scope. Rapid enrollment growth continued as new graduate schools were begun and the undergraduate College expanded. <a href=\"/wiki/Radcliffe_College\" title=\"Radcliffe College\">Radcliffe College</a>, established in 1879 as sister school of Harvard College, became one of the most prominent schools for women in the United States. Harvard became a founding member of the <a href=\"/wiki/Association_of_American_Universities\" title=\"Association of American Universities\">Association of American Universities</a> in 1900.<sup id=\"cite_ref-AAU_16-1\" class=\"reference\"><a href=\"#cite_note-AAU-16\">[16]</a></sup></p>\\n<p>In the early 20th century, the student body was predominately \"old-stock, high-status Protestants, especially Episcopalians, Congregationalists, and Presbyterians\"\\u2014a group later called \"WASPs\" (<a href=\"/wiki/White_Anglo-Saxon_Protestants\" class=\"mw-redirect\" title=\"White Anglo-Saxon Protestants\">White Anglo-Saxon Protestants</a>). By the 1970s it was much more diversified.<sup id=\"cite_ref-39\" class=\"reference\"><a href=\"#cite_note-39\">[39]</a></sup></p>\\n<p><a href=\"/wiki/James_Bryant_Conant\" title=\"James Bryant Conant\">James Bryant Conant</a> (president, 1933\\u20131953) reinvigorated creative scholarship to guarantee its preeminence among research institutions. He saw higher education as a vehicle of opportunity for the talented rather than an entitlement for the wealthy, so Conant devised programs to identify, recruit, and support talented youth. In 1943, he asked the faculty make a definitive statement about what general education ought to be, at the secondary as well as the college level. The resulting <i>Report</i>, published in 1945, was one of the most influential manifestos in the history of American education in the 20th century.<sup id=\"cite_ref-40\" class=\"reference\"><a href=\"#cite_note-40\">[40]</a></sup></p>\\n<p>In 1945\\u20131960 admissions policies were opened up to bring in students from a more diverse applicant pool. No longer drawing mostly from rich alumni of select New England <a href=\"/wiki/University-preparatory_school\" title=\"University-preparatory school\">prep schools</a>, the undergraduate college was now open to striving middle class students from public schools; many more Jews and Catholics were admitted, but few blacks, Hispanics or Asians.<sup id=\"cite_ref-41\" class=\"reference\"><a href=\"#cite_note-41\">[41]</a></sup></p>\\n<p>Harvard graduate schools began admitting women in small numbers in the late 19th century, and during World War II, students at <a href=\"/wiki/Radcliffe_College\" title=\"Radcliffe College\">Radcliffe College</a> (which since 1879 had been paying Harvard professors to repeat their lectures for women students) began attending Harvard classes alongside men,<sup id=\"cite_ref-42\" class=\"reference\"><a href=\"#cite_note-42\">[42]</a></sup> The first class of women was admitted to <a href=\"/wiki/Harvard_Medical_School\" title=\"Harvard Medical School\">Harvard Medical School</a> in 1945.<sup id=\"cite_ref-First_class_of_women_admitted_to_Harvard_Medical_School.2C_1945_43-0\" class=\"reference\"><a href=\"#cite_note-First_class_of_women_admitted_to_Harvard_Medical_School.2C_1945-43\">[43]</a></sup> Since the 1970s Harvard has been responsible for essentially all aspects of admission, instruction, and undergraduate life for women, and Radcliffe was formally merged into Harvard in 1999.<sup id=\"cite_ref-44\" class=\"reference\"><a href=\"#cite_note-44\">[44]</a></sup></p>\\n<h3><span class=\"mw-headline\" id=\"21st_century\">21st century</span></h3>\\n<p><a href=\"/wiki/Drew_Gilpin_Faust\" title=\"Drew Gilpin Faust\">Drew Gilpin Faust</a>, the Dean at Radcliffe, became the first female president of Harvard in 2007.<sup id=\"cite_ref-45\" class=\"reference\"><a href=\"#cite_note-45\">[45]</a></sup><sup id=\"cite_ref-46\" class=\"reference\"><a href=\"#cite_note-46\">[46]</a></sup></p>\\n<h2><span class=\"mw-headline\" id=\"Campuses\">Campuses</span></h2>\\n<h3><span class=\"mw-headline\" id=\"Cambridge\">Cambridge</span></h3>\\n<div class=\"thumb tright\">\\n<div class=\"thumbinner\" style=\"width:162px;\"><a href=\"/wiki/File:USA-Harvard_University.jpg\" class=\"image\"><img alt=\"\" src=\"//upload.wikimedia.org/wikipedia/commons/thumb/2/2f/USA-Harvard_University.jpg/160px-USA-Harvard_University.jpg\" width=\"160\" height=\"240\" class=\"thumbimage\" srcset=\"//upload.wikimedia.org/wikipedia/commons/thumb/2/2f/USA-Harvard_University.jpg/240px-USA-Harvard_University.jpg 1.5x, //upload.wikimedia.org/wikipedia/commons/thumb/2/2f/USA-Harvard_University.jpg/320px-USA-Harvard_University.jpg 2x\" data-file-width=\"3425\" data-file-height=\"5144\" /></a>\\n<div class=\"thumbcaption\">\\n<div class=\"magnify\"><a href=\"/wiki/File:USA-Harvard_University.jpg\" class=\"internal\" title=\"Enlarge\"></a></div>\\nUniversity seal</div>\\n</div>\\n</div>\\n<p>Harvard\\'s 209-acre (85&#160;ha) main campus is centered on <a href=\"/wiki/Harvard_Yard\" title=\"Harvard Yard\">Harvard Yard</a> in Cambridge, about 3 miles (5&#160;km) west-northwest of downtown Boston, and extends into the surrounding <a href=\"/wiki/Harvard_Square\" title=\"Harvard Square\">Harvard Square</a> neighborhood. Harvard Yard itself contains the central administrative offices and <a href=\"/wiki/Harvard_University_Library\" class=\"mw-redirect\" title=\"Harvard University Library\">main libraries of the university</a>, academic buildings including <a href=\"/wiki/Sever_Hall\" title=\"Sever Hall\">Sever Hall</a> and <a href=\"/wiki/University_Hall_(Harvard_University)\" title=\"University Hall (Harvard University)\">University Hall</a>, Memorial Church, and the majority of the <a href=\"/wiki/List_of_Harvard_dormitories\" class=\"mw-redirect\" title=\"List of Harvard dormitories\">freshman dormitories</a>. Sophomore, junior, and senior undergraduates live in twelve <a href=\"/wiki/Harvard_House_system\" class=\"mw-redirect\" title=\"Harvard House system\">residential Houses</a>, nine of which are south of Harvard Yard along or near the <a href=\"/wiki/Charles_River\" title=\"Charles River\">Charles River</a>. The other three are located in a residential neighborhood half a mile northwest of the Yard at the <a href=\"/wiki/Quadrangle_(Harvard)\" title=\"Quadrangle (Harvard)\">Quadrangle</a> (commonly referred to as the Quad), which formerly housed <a href=\"/wiki/Radcliffe_College\" title=\"Radcliffe College\">Radcliffe College</a> students until Radcliffe merged its residential system with Harvard. Each residential house contains rooms for undergraduates, House masters, and resident tutors, as well as a dining hall and library. The facilities were made possible by a gift from <a href=\"/wiki/Yale_University\" title=\"Yale University\">Yale University</a> alumnus <a href=\"/wiki/Edward_Harkness\" title=\"Edward Harkness\">Edward Harkness</a>.<sup id=\"cite_ref-47\" class=\"reference\"><a href=\"#cite_note-47\">[47]</a></sup></p>\\n<p>Radcliffe Yard, formerly the center of the campus of Radcliffe College and now home of the <a href=\"/wiki/Radcliffe_Institute_for_Advanced_Study\" title=\"Radcliffe Institute for Advanced Study\">Radcliffe Institute for Advanced Study at Harvard</a>,<sup id=\"cite_ref-48\" class=\"reference\"><a href=\"#cite_note-48\">[48]</a></sup> is adjacent to the <a href=\"/wiki/Harvard_Graduate_School_of_Education\" title=\"Harvard Graduate School of Education\">Graduate School of Education</a> and the <a href=\"/wiki/Cambridge_Common\" title=\"Cambridge Common\">Cambridge Common</a>.</p>\\n<div class=\"thumb tleft\">\\n<div class=\"thumbinner\" style=\"width:222px;\"><a href=\"/wiki/File:Sanders_theater_2009y.JPG\" class=\"image\"><img alt=\"\" src=\"//upload.wikimedia.org/wikipedia/commons/thumb/1/11/Sanders_theater_2009y.JPG/220px-Sanders_theater_2009y.JPG\" width=\"220\" height=\"143\" class=\"thumbimage\" srcset=\"//upload.wikimedia.org/wikipedia/commons/thumb/1/11/Sanders_theater_2009y.JPG/330px-Sanders_theater_2009y.JPG 1.5x, //upload.wikimedia.org/wikipedia/commons/thumb/1/11/Sanders_theater_2009y.JPG/440px-Sanders_theater_2009y.JPG 2x\" data-file-width=\"3209\" data-file-height=\"2084\" /></a>\\n<div class=\"thumbcaption\">\\n<div class=\"magnify\"><a href=\"/wiki/File:Sanders_theater_2009y.JPG\" class=\"internal\" title=\"Enlarge\"></a></div>\\n<a href=\"/wiki/Memorial_Hall_(Harvard_University)\" title=\"Memorial Hall (Harvard University)\">Memorial Hall</a></div>\\n</div>\\n</div>\\n<div class=\"thumb tright\">\\n<div class=\"thumbinner\" style=\"width:172px;\"><a href=\"/wiki/File:Harvard_memorial_church_winter_2009.JPG\" class=\"image\"><img alt=\"\" src=\"//upload.wikimedia.org/wikipedia/commons/thumb/f/fe/Harvard_memorial_church_winter_2009.JPG/170px-Harvard_memorial_church_winter_2009.JPG\" width=\"170\" height=\"256\" class=\"thumbimage\" srcset=\"//upload.wikimedia.org/wikipedia/commons/thumb/f/fe/Harvard_memorial_church_winter_2009.JPG/255px-Harvard_memorial_church_winter_2009.JPG 1.5x, //upload.wikimedia.org/wikipedia/commons/thumb/f/fe/Harvard_memorial_church_winter_2009.JPG/340px-Harvard_memorial_church_winter_2009.JPG 2x\" data-file-width=\"2848\" data-file-height=\"4288\" /></a>\\n<div class=\"thumbcaption\">\\n<div class=\"magnify\"><a href=\"/wiki/File:Harvard_memorial_church_winter_2009.JPG\" class=\"internal\" title=\"Enlarge\"></a></div>\\nMemorial Church</div>\\n</div>\\n</div>\\n<p>Between 2011 and 2013, Harvard University reported crime statistics for its main Cambridge campus that included 104 forcible sex offenses, 55 robberies, 83 aggravated assaults, 89 burglaries, and 43 cases of motor vehicle theft.<sup id=\"cite_ref-49\" class=\"reference\"><a href=\"#cite_note-49\">[49]</a></sup></p>\\n<p>Harvard also has commercial real estate holdings in Cambridge and Allston, on which it pays property taxes.<sup id=\"cite_ref-50\" class=\"reference\"><a href=\"#cite_note-50\">[50]</a></sup> This includes the Allston <a href=\"/wiki/Doubletree_Hotel\" class=\"mw-redirect\" title=\"Doubletree Hotel\">Doubletree Hotel</a>, The Inn at Harvard, and the Harvard Square Hotel.<sup id=\"cite_ref-51\" class=\"reference\"><a href=\"#cite_note-51\">[51]</a></sup></p>\\n<h3><span class=\"mw-headline\" id=\"Allston\">Allston</span></h3>\\n<div role=\"note\" class=\"hatnote\">Main article: <a href=\"/wiki/Harvard_University%27s_expansion_in_Allston,_Massachusetts\" title=\"Harvard University\\'s expansion in Allston, Massachusetts\">Harvard University\\'s expansion in Allston, Massachusetts</a></div>\\n<p>The Harvard Business School and many of the university\\'s athletics facilities, including <a href=\"/wiki/Harvard_Stadium\" title=\"Harvard Stadium\">Harvard Stadium</a>, are located on a 358-acre (145&#160;ha) campus in <a href=\"/wiki/Allston,_Massachusetts\" class=\"mw-redirect\" title=\"Allston, Massachusetts\">Allston</a>,<sup id=\"cite_ref-52\" class=\"reference\"><a href=\"#cite_note-52\">[52]</a></sup> a Boston neighborhood across the Charles River from the Cambridge campus. The <a href=\"/wiki/John_W._Weeks_Bridge\" title=\"John W. Weeks Bridge\">John W. Weeks Bridge</a>, a pedestrian bridge over the <a href=\"/wiki/Charles_River\" title=\"Charles River\">Charles River</a>, connects the two campuses. Intending a major expansion, Harvard now owns more land in Allston than it does in Cambridge.<sup id=\"cite_ref-53\" class=\"reference\"><a href=\"#cite_note-53\">[53]</a></sup> A ten-year plan<sup id=\"cite_ref-54\" class=\"reference\"><a href=\"#cite_note-54\">[54]</a></sup> calls for 1.4&#160;million square feet (130,000 square meters) of new construction and 500,000 square feet (50,000 square meters) of renovations, including new and renovated buildings at <a href=\"/wiki/Harvard_Business_School\" title=\"Harvard Business School\">Harvard Business School</a>; a hotel and conference center; a multipurpose institutional building; renovations to graduate student housing and to <a href=\"/wiki/Harvard_Stadium\" title=\"Harvard Stadium\">Harvard Stadium</a>; new athletic facilities; new laboratories and classrooms for the <a href=\"/wiki/John_A._Paulson_School_of_Engineering_and_Applied_Sciences\" title=\"John A. Paulson School of Engineering and Applied Sciences\">John A. Paulson School of Engineering and Applied Sciences</a>; expansion of the Harvard Education Portal; and a <a href=\"/wiki/District_heating\" title=\"District heating\">district energy</a> facility.</p>\\n<h3><span class=\"mw-headline\" id=\"Longwood\">Longwood</span></h3>\\n<div role=\"note\" class=\"hatnote\">Main article: <a href=\"/wiki/Longwood_Medical_and_Academic_Area\" title=\"Longwood Medical and Academic Area\">Longwood Medical and Academic Area</a></div>\\n<p>Further south, the <a href=\"/wiki/Harvard_Medical_School\" title=\"Harvard Medical School\">Harvard Medical School</a>, <a href=\"/wiki/Harvard_School_of_Dental_Medicine\" title=\"Harvard School of Dental Medicine\">Harvard School of Dental Medicine</a>, and the <a href=\"/wiki/Harvard_School_of_Public_Health\" class=\"mw-redirect\" title=\"Harvard School of Public Health\">Harvard School of Public Health</a> are located on a 21-acre (8.5&#160;ha) campus in the Longwood Medical and Academic Area about 3.3 miles (5.3&#160;km) south of the Cambridge campus, and the same distance southwest of downtown Boston.<sup id=\"cite_ref-Campus_18-1\" class=\"reference\"><a href=\"#cite_note-Campus-18\">[18]</a></sup> The <a href=\"/wiki/Arnold_Arboretum\" title=\"Arnold Arboretum\">Arnold Arboretum</a>, in the <a href=\"/wiki/Jamaica_Plain,_Massachusetts\" class=\"mw-redirect\" title=\"Jamaica Plain, Massachusetts\">Jamaica Plain</a> neighborhood of Boston, is also owned and operated by Harvard.</p>\\n<h3><span class=\"mw-headline\" id=\"Other\">Other</span></h3>\\n<p>Harvard also owns and operates the <a href=\"/wiki/Dumbarton_Oaks_Research_Library_and_Collection\" class=\"mw-redirect\" title=\"Dumbarton Oaks Research Library and Collection\">Dumbarton Oaks Research Library and Collection</a>, in <a href=\"/wiki/Washington,_D.C.\" title=\"Washington, D.C.\">Washington, D.C.</a>; the <a href=\"/wiki/Harvard_Forest\" title=\"Harvard Forest\">Harvard Forest</a> in <a href=\"/wiki/Petersham,_Massachusetts\" title=\"Petersham, Massachusetts\">Petersham, Massachusetts</a>; the Concord Field Station in <a href=\"/wiki/Estabrook_Woods\" title=\"Estabrook Woods\">Estabrook Woods</a> in <a href=\"/wiki/Concord,_Massachusetts\" title=\"Concord, Massachusetts\">Concord, Massachusetts</a><sup id=\"cite_ref-55\" class=\"reference\"><a href=\"#cite_note-55\">[55]</a></sup> and the <a href=\"/wiki/Villa_I_Tatti\" title=\"Villa I Tatti\">Villa I Tatti</a> research center<sup id=\"cite_ref-56\" class=\"reference\"><a href=\"#cite_note-56\">[56]</a></sup> in <a href=\"/wiki/Florence\" title=\"Florence\">Florence</a>, Italy. Harvard also operates the Harvard Shanghai Center in China.<sup id=\"cite_ref-57\" class=\"reference\"><a href=\"#cite_note-57\">[57]</a></sup></p>\\n<h2><span class=\"mw-headline\" id=\"Organization_and_administration\">Organization and administration</span></h2>\\n<h3><span class=\"mw-headline\" id=\"Governance\">Governance</span></h3>\\n<table class=\"toccolours\" style=\"float:right; margin-left:1em; font-size:90%; line-height:1.4em; width:280px;\">\\n<tr align=\"center\">\\n<td><b>College/school</b></td>\\n<td><b>Year founded</b></td>\\n</tr>\\n<tr align=\"center\">\\n<td><a href=\"/wiki/Harvard_College\" title=\"Harvard College\">Harvard College</a></td>\\n<td>1636</td>\\n</tr>\\n<tr align=\"center\">\\n<td><a href=\"/wiki/Harvard_Medical_School\" title=\"Harvard Medical School\">Medicine</a></td>\\n<td>1782</td>\\n</tr>\\n<tr align=\"center\">\\n<td><a href=\"/wiki/Harvard_Divinity_School\" title=\"Harvard Divinity School\">Divinity</a></td>\\n<td>1816</td>\\n</tr>\\n<tr align=\"center\">\\n<td><a href=\"/wiki/Harvard_Law_School\" title=\"Harvard Law School\">Law</a></td>\\n<td>1817</td>\\n</tr>\\n<tr align=\"center\">\\n<td><a href=\"/wiki/Harvard_School_of_Dental_Medicine\" title=\"Harvard School of Dental Medicine\">Dental Medicine</a></td>\\n<td>1867</td>\\n</tr>\\n<tr align=\"center\">\\n<td><a href=\"/wiki/Harvard_Graduate_School_of_Arts_and_Sciences\" title=\"Harvard Graduate School of Arts and Sciences\">Arts and Sciences</a></td>\\n<td>1872</td>\\n</tr>\\n<tr align=\"center\">\\n<td><a href=\"/wiki/Harvard_Business_School\" title=\"Harvard Business School\">Business</a></td>\\n<td>1908</td>\\n</tr>\\n<tr align=\"center\">\\n<td><a href=\"/wiki/Harvard_Extension_School\" title=\"Harvard Extension School\">Extension</a></td>\\n<td>1910</td>\\n</tr>\\n<tr align=\"center\">\\n<td><a href=\"/wiki/Harvard_Graduate_School_of_Design\" title=\"Harvard Graduate School of Design\">Design</a></td>\\n<td>1914</td>\\n</tr>\\n<tr align=\"center\">\\n<td><a href=\"/wiki/Harvard_Graduate_School_of_Education\" title=\"Harvard Graduate School of Education\">Education</a></td>\\n<td>1920</td>\\n</tr>\\n<tr align=\"center\">\\n<td><a href=\"/wiki/Harvard_T.H._Chan_School_of_Public_Health\" title=\"Harvard T.H. Chan School of Public Health\">Public Health</a></td>\\n<td>1922</td>\\n</tr>\\n<tr align=\"center\">\\n<td><a href=\"/wiki/John_F._Kennedy_School_of_Government\" title=\"John F. Kennedy School of Government\">Government</a></td>\\n<td>1936</td>\\n</tr>\\n<tr align=\"center\">\\n<td><a href=\"/wiki/John_A._Paulson_School_of_Engineering_and_Applied_Sciences\" title=\"John A. Paulson School of Engineering and Applied Sciences\">Engineering and Applied Sciences</a></td>\\n<td>2007</td>\\n</tr>\\n</table>\\n<div class=\"thumb tright\">\\n<div class=\"thumbinner\" style=\"width:222px;\"><a href=\"/wiki/File:Harvard_Medical_School_HDR.jpg\" class=\"image\"><img alt=\"\" src=\"//upload.wikimedia.org/wikipedia/commons/thumb/2/25/Harvard_Medical_School_HDR.jpg/220px-Harvard_Medical_School_HDR.jpg\" width=\"220\" height=\"146\" class=\"thumbimage\" srcset=\"//upload.wikimedia.org/wikipedia/commons/thumb/2/25/Harvard_Medical_School_HDR.jpg/330px-Harvard_Medical_School_HDR.jpg 1.5x, //upload.wikimedia.org/wikipedia/commons/thumb/2/25/Harvard_Medical_School_HDR.jpg/440px-Harvard_Medical_School_HDR.jpg 2x\" data-file-width=\"3869\" data-file-height=\"2569\" /></a>\\n<div class=\"thumbcaption\">\\n<div class=\"magnify\"><a href=\"/wiki/File:Harvard_Medical_School_HDR.jpg\" class=\"internal\" title=\"Enlarge\"></a></div>\\n<a href=\"/wiki/Harvard_Medical_School\" title=\"Harvard Medical School\">Harvard Medical School</a></div>\\n</div>\\n</div>\\n<p>Harvard is governed by a combination of its <a href=\"/wiki/Harvard_Board_of_Overseers\" title=\"Harvard Board of Overseers\">Board of Overseers</a> and the <a href=\"/wiki/President_and_Fellows_of_Harvard_College\" title=\"President and Fellows of Harvard College\">President and Fellows of Harvard College</a> (also known as the Harvard Corporation), which in turn appoints the <a href=\"/wiki/President_of_Harvard_University\" title=\"President of Harvard University\">President of Harvard University</a>.<sup id=\"cite_ref-BethellHunt2009p_58-0\" class=\"reference\"><a href=\"#cite_note-BethellHunt2009p-58\">[58]</a></sup> There are 16,000 staff and faculty,<sup id=\"cite_ref-59\" class=\"reference\"><a href=\"#cite_note-59\">[59]</a></sup> including 2,400 professors, lecturers, and instructors<sup id=\"cite_ref-60\" class=\"reference\"><a href=\"#cite_note-60\">[60]</a></sup> teaching 7,200 <a href=\"/wiki/Undergraduates\" class=\"mw-redirect\" title=\"Undergraduates\">undergraduates</a> and 14,000 <a href=\"/wiki/Graduate_school\" title=\"Graduate school\">graduate</a> students.<sup id=\"cite_ref-61\" class=\"reference\"><a href=\"#cite_note-61\">[61]</a></sup></p>\\n<p>The <a href=\"/wiki/Harvard_Faculty_of_Arts_and_Sciences\" title=\"Harvard Faculty of Arts and Sciences\">Faculty of Arts and Sciences</a> has primary responsibility for instruction in <a href=\"/wiki/Harvard_College\" title=\"Harvard College\">Harvard College</a>, <a href=\"/wiki/Harvard_Graduate_School_of_Arts_and_Sciences\" title=\"Harvard Graduate School of Arts and Sciences\">Graduate School of Arts and Sciences</a>, and the <a href=\"/wiki/Harvard_Division_of_Continuing_Education\" title=\"Harvard Division of Continuing Education\">Harvard Division of Continuing Education</a>, which includes <a href=\"/wiki/Harvard_Summer_School\" title=\"Harvard Summer School\">Harvard Summer School</a> and <a href=\"/wiki/Harvard_Extension_School\" title=\"Harvard Extension School\">Harvard Extension School</a>. There are ten other graduate and professional school faculties, in addition to the <a href=\"/wiki/Radcliffe_Institute_for_Advanced_Study\" title=\"Radcliffe Institute for Advanced Study\">Radcliffe Institute for Advanced Study</a>.<sup class=\"noprint Inline-Template\" style=\"margin-left:0.1em; white-space:nowrap;\">[<i><a href=\"/wiki/Wikipedia:Please_clarify\" title=\"Wikipedia:Please clarify\"><span title=\"The text near this tag may need clarification or removal of jargon. (July 2016)\">clarification needed</span></a></i>]</sup></p>\\n<p>Joint programs with the <a href=\"/wiki/Massachusetts_Institute_of_Technology\" title=\"Massachusetts Institute of Technology\">Massachusetts Institute of Technology</a> include the <a href=\"/wiki/Harvard-MIT_Division_of_Health_Sciences_and_Technology\" class=\"mw-redirect\" title=\"Harvard-MIT Division of Health Sciences and Technology\">Harvard-MIT Division of Health Sciences and Technology</a>, the <a href=\"/wiki/Broad_Institute\" title=\"Broad Institute\">Broad Institute</a>, <a href=\"/wiki/The_Observatory_of_Economic_Complexity\" title=\"The Observatory of Economic Complexity\">The Observatory of Economic Complexity</a>, and <a href=\"/wiki/EdX\" title=\"EdX\">edX</a>.</p>\\n<h3><span class=\"mw-headline\" id=\"Endowment\">Endowment</span></h3>\\n<div role=\"note\" class=\"hatnote\">Main article: <a href=\"/wiki/Harvard_University_endowment\" title=\"Harvard University endowment\">Harvard University endowment</a></div>\\n<p>Harvard has the largest <a href=\"/wiki/List_of_colleges_and_universities_in_the_United_States_by_endowment\" title=\"List of colleges and universities in the United States by endowment\">university endowment</a> in the world. As of September 2011<sup class=\"plainlinks noprint asof-tag update\" style=\"display:none;\"><a class=\"external text\" href=\"//en.wikipedia.org/w/index.php?title=Harvard_University&amp;action=edit\">[update]</a></sup>, it had nearly regained the loss suffered during the 2008 recession. It was worth $32 billion in 2011, up from $28 billion in September 2010<sup id=\"cite_ref-62\" class=\"reference\"><a href=\"#cite_note-62\">[62]</a></sup> and $26 billion in 2009. It suffered about 30% loss in 2008\\u201309.<sup id=\"cite_ref-NACUBO_63-0\" class=\"reference\"><a href=\"#cite_note-NACUBO-63\">[63]</a></sup><sup id=\"cite_ref-64\" class=\"reference\"><a href=\"#cite_note-64\">[64]</a></sup> In December 2008, Harvard announced that its endowment had lost 22% (approximately $8 billion) from July to October 2008, necessitating budget cuts.<sup id=\"cite_ref-65\" class=\"reference\"><a href=\"#cite_note-65\">[65]</a></sup> Later reports<sup id=\"cite_ref-vanity_66-0\" class=\"reference\"><a href=\"#cite_note-vanity-66\">[66]</a></sup> suggest the loss was actually more than double that figure, a reduction of nearly 50% of its endowment in the first four months alone. Forbes in March 2009 estimated the loss to be in the range of $12 billion.<sup id=\"cite_ref-ForbesUndEnd_67-0\" class=\"reference\"><a href=\"#cite_note-ForbesUndEnd-67\">[67]</a></sup> One of the most visible results of Harvard\\'s attempt to re-balance its budget was their halting<sup id=\"cite_ref-vanity_66-1\" class=\"reference\"><a href=\"#cite_note-vanity-66\">[66]</a></sup> of construction of the $1.2 billion Allston Science Complex that had been scheduled to be completed by 2011, resulting in protests from local residents.<sup id=\"cite_ref-68\" class=\"reference\"><a href=\"#cite_note-68\">[68]</a></sup> As of 2012<sup class=\"plainlinks noprint asof-tag update\" style=\"display:none;\"><a class=\"external text\" href=\"//en.wikipedia.org/w/index.php?title=Harvard_University&amp;action=edit\">[update]</a></sup>, Harvard University had a total financial aid reserve of $159 million for students, and a <a href=\"/wiki/Pell_Grant\" title=\"Pell Grant\">Pell Grant</a> reserve of $4.093 million available for disbursement.<sup id=\"cite_ref-69\" class=\"reference\"><a href=\"#cite_note-69\">[69]</a></sup></p>\\n<h4><span class=\"mw-headline\" id=\"Divestment\">Divestment</span></h4>\\n<p>Since the 1970s, several campaigns have sought to <a href=\"/wiki/Divestment\" title=\"Divestment\">divest</a> Harvard\\'s endowment from holdings the campaigns opposed, including investments in <a href=\"/wiki/Apartheid\" title=\"Apartheid\">apartheid</a> <a href=\"/wiki/South_Africa\" title=\"South Africa\">South Africa</a>, the <a href=\"/wiki/Tobacco_industry\" title=\"Tobacco industry\">tobacco industry</a>, <a href=\"/wiki/Sudan\" title=\"Sudan\">Sudan</a> during the <a href=\"/wiki/Darfur_genocide\" class=\"mw-redirect\" title=\"Darfur genocide\">Darfur genocide</a>, and the <a href=\"/wiki/Fossil_fuel\" title=\"Fossil fuel\">fossil fuel</a> industry.<sup id=\"cite_ref-70\" class=\"reference\"><a href=\"#cite_note-70\">[70]</a></sup></p>\\n<p>During the <a href=\"/wiki/Divestment_from_South_Africa\" class=\"mw-redirect\" title=\"Divestment from South Africa\">divestment from South Africa</a> movement in the late 1980s, student activists erected a symbolic \"shantytown\" on Harvard Yard and blockaded a speech given by South African Vice Consul Duke Kent-Brown.<sup id=\"cite_ref-GeorgeKaufman2012_71-0\" class=\"reference\"><a href=\"#cite_note-GeorgeKaufman2012-71\">[71]</a></sup><sup id=\"cite_ref-72\" class=\"reference\"><a href=\"#cite_note-72\">[72]</a></sup> The Harvard Management Company repeatedly refused to divest, stating that \"operating expenses must not be subject to financially unrealistic strictures or carping by the unsophisticated or by special interest groups.\"<sup id=\"cite_ref-Trumpbour1989_73-0\" class=\"reference\"><a href=\"#cite_note-Trumpbour1989-73\">[73]</a></sup> However, the university did eventually reduce its South African holdings by $230 million (out of $400 million) in response to the pressure.<sup id=\"cite_ref-GeorgeKaufman2012_71-1\" class=\"reference\"><a href=\"#cite_note-GeorgeKaufman2012-71\">[71]</a></sup><sup id=\"cite_ref-Waters2009_74-0\" class=\"reference\"><a href=\"#cite_note-Waters2009-74\">[74]</a></sup></p>\\n<h2><span class=\"mw-headline\" id=\"Academics\">Academics</span></h2>\\n<h3><span class=\"mw-headline\" id=\"Admission\">Admission</span></h3>\\n<p>Undergraduate admission to Harvard is characterized by the Carnegie Foundation as \"more selective, lower transfer-in\".<sup id=\"cite_ref-Carnegie_19-1\" class=\"reference\"><a href=\"#cite_note-Carnegie-19\">[19]</a></sup> Harvard College accepted 5.3% of applicants for the class of 2019, a record low and the second lowest acceptance rate among all national universities.<sup id=\"cite_ref-75\" class=\"reference\"><a href=\"#cite_note-75\">[75]</a></sup><sup id=\"cite_ref-76\" class=\"reference\"><a href=\"#cite_note-76\">[76]</a></sup> Harvard College ended its early admissions program in 2007 as the program was believed to disadvantage low-income and under-represented minority applicants applying to selective universities, yet for the class of 2016 an Early Action program was reintroduced.<sup id=\"cite_ref-77\" class=\"reference\"><a href=\"#cite_note-77\">[77]</a></sup></p>\\n<p>The undergraduate admissions office\\'s <a href=\"/wiki/Legacy_preferences\" title=\"Legacy preferences\">preference for children of alumni</a> policies have been the subject of scrutiny and debate as it primarily aids Caucasians and the wealthy and seems to conflict with the concept of meritocratic admissions.<sup id=\"cite_ref-The_Wall_Street_Journal_78-0\" class=\"reference\"><a href=\"#cite_note-The_Wall_Street_Journal-78\">[78]</a></sup><sup id=\"cite_ref-79\" class=\"reference\"><a href=\"#cite_note-79\">[79]</a></sup></p>\\n<h3><span class=\"mw-headline\" id=\"Teaching_and_learning\">Teaching and learning</span></h3>\\n<div class=\"thumb tright\">\\n<div class=\"thumbinner\" style=\"width:222px;\"><a href=\"/wiki/File:Massachusetts_Hall,_Harvard_University.JPG\" class=\"image\"><img alt=\"\" src=\"//upload.wikimedia.org/wikipedia/commons/thumb/5/51/Massachusetts_Hall%2C_Harvard_University.JPG/220px-Massachusetts_Hall%2C_Harvard_University.JPG\" width=\"220\" height=\"165\" class=\"thumbimage\" srcset=\"//upload.wikimedia.org/wikipedia/commons/thumb/5/51/Massachusetts_Hall%2C_Harvard_University.JPG/330px-Massachusetts_Hall%2C_Harvard_University.JPG 1.5x, //upload.wikimedia.org/wikipedia/commons/thumb/5/51/Massachusetts_Hall%2C_Harvard_University.JPG/440px-Massachusetts_Hall%2C_Harvard_University.JPG 2x\" data-file-width=\"2560\" data-file-height=\"1920\" /></a>\\n<div class=\"thumbcaption\">\\n<div class=\"magnify\"><a href=\"/wiki/File:Massachusetts_Hall,_Harvard_University.JPG\" class=\"internal\" title=\"Enlarge\"></a></div>\\n<a href=\"/wiki/Massachusetts_Hall,_Harvard_University\" class=\"mw-redirect\" title=\"Massachusetts Hall, Harvard University\">Massachusetts Hall</a> (1720), Harvard\\'s oldest building.<sup id=\"cite_ref-80\" class=\"reference\"><a href=\"#cite_note-80\">[80]</a></sup></div>\\n</div>\\n</div>\\n<div class=\"thumb tright\">\\n<div class=\"thumbinner\" style=\"width:222px;\"><a href=\"/wiki/File:HarvardYard.jpg\" class=\"image\"><img alt=\"\" src=\"//upload.wikimedia.org/wikipedia/commons/thumb/0/0e/HarvardYard.jpg/220px-HarvardYard.jpg\" width=\"220\" height=\"173\" class=\"thumbimage\" srcset=\"//upload.wikimedia.org/wikipedia/commons/thumb/0/0e/HarvardYard.jpg/330px-HarvardYard.jpg 1.5x, //upload.wikimedia.org/wikipedia/commons/thumb/0/0e/HarvardYard.jpg/440px-HarvardYard.jpg 2x\" data-file-width=\"790\" data-file-height=\"623\" /></a>\\n<div class=\"thumbcaption\">\\n<div class=\"magnify\"><a href=\"/wiki/File:HarvardYard.jpg\" class=\"internal\" title=\"Enlarge\"></a></div>\\n<a href=\"/wiki/Harvard_Yard\" title=\"Harvard Yard\">Harvard Yard</a></div>\\n</div>\\n</div>\\n<p>Harvard is a large, highly residential research university.<sup id=\"cite_ref-Carnegie_19-2\" class=\"reference\"><a href=\"#cite_note-Carnegie-19\">[19]</a></sup> The university has been <a href=\"/wiki/Accreditation\" title=\"Accreditation\">accredited</a> by the <a href=\"/wiki/New_England_Association_of_Schools_and_Colleges\" title=\"New England Association of Schools and Colleges\">New England Association of Schools and Colleges</a> since 1929.<sup id=\"cite_ref-81\" class=\"reference\"><a href=\"#cite_note-81\">[81]</a></sup> The university offers 46 undergraduate concentrations (majors),<sup id=\"cite_ref-82\" class=\"reference\"><a href=\"#cite_note-82\">[82]</a></sup> 134 graduate degrees,<sup id=\"cite_ref-83\" class=\"reference\"><a href=\"#cite_note-83\">[83]</a></sup> and 32 professional degrees.<sup id=\"cite_ref-Degrees_84-0\" class=\"reference\"><a href=\"#cite_note-Degrees-84\">[84]</a></sup> For the 2008\\u20132009 academic year, Harvard granted 1,664 baccalaureate degrees, 400 master\\'s degrees, 512 doctoral degrees, and 4,460 professional degrees.<sup id=\"cite_ref-Degrees_84-1\" class=\"reference\"><a href=\"#cite_note-Degrees-84\">[84]</a></sup></p>\\n<p>The four-year, full-time undergraduate program comprises a minority of enrollments at the university and emphasizes instruction with an \"arts and sciences focus\".<sup id=\"cite_ref-Carnegie_19-3\" class=\"reference\"><a href=\"#cite_note-Carnegie-19\">[19]</a></sup> Between 1978 and 2008, entering students were required to complete a core curriculum of seven classes outside of their concentration.<sup id=\"cite_ref-85\" class=\"reference\"><a href=\"#cite_note-85\">[85]</a></sup> Since 2008, undergraduate students have been required to complete courses in eight General Education categories: Aesthetic and Interpretive Understanding, Culture and Belief, Empirical and Mathematical Reasoning, Ethical Reasoning, Science of Living Systems, Science of the Physical Universe, Societies of the World, and United States in the World.<sup id=\"cite_ref-86\" class=\"reference\"><a href=\"#cite_note-86\">[86]</a></sup> Harvard offers a comprehensive doctoral graduate program and there is a high level of coexistence between graduate and undergraduate degrees.<sup id=\"cite_ref-Carnegie_19-4\" class=\"reference\"><a href=\"#cite_note-Carnegie-19\">[19]</a></sup> <a href=\"/wiki/The_Carnegie_Foundation_for_the_Advancement_of_Teaching\" class=\"mw-redirect\" title=\"The Carnegie Foundation for the Advancement of Teaching\">The Carnegie Foundation for the Advancement of Teaching</a>, <i><a href=\"/wiki/The_New_York_Times\" title=\"The New York Times\">The New York Times</a></i>, and some students have criticized Harvard for its reliance on <a href=\"/wiki/Teaching_assistant\" title=\"Teaching assistant\">teaching fellows</a> for some aspects of undergraduate education; they consider this to adversely affect the quality of education.<sup id=\"cite_ref-87\" class=\"reference\"><a href=\"#cite_note-87\">[87]</a></sup><sup id=\"cite_ref-88\" class=\"reference\"><a href=\"#cite_note-88\">[88]</a></sup></p>\\n<p>Harvard\\'s academic programs operate on a <a href=\"/wiki/Semester#Collegiate_calendars\" class=\"mw-redirect\" title=\"Semester\">semester calendar</a> beginning in early September and ending in mid-May.<sup id=\"cite_ref-89\" class=\"reference\"><a href=\"#cite_note-89\">[89]</a></sup> Undergraduates typically take four half-courses per term and must maintain a four-course rate average to be considered full-time.<sup id=\"cite_ref-90\" class=\"reference\"><a href=\"#cite_note-90\">[90]</a></sup> In many concentrations, students can elect to pursue a basic program or an honors-eligible program requiring a senior thesis and/or advanced course work.<sup id=\"cite_ref-91\" class=\"reference\"><a href=\"#cite_note-91\">[91]</a></sup> Students graduating in the top 4\\u20135% of the class are awarded degrees <i>summa cum laude</i>, students in the next 15% of the class are awarded <i>magna cum laude</i>, and the next 30% of the class are awarded <i>cum laude</i>.<sup id=\"cite_ref-92\" class=\"reference\"><a href=\"#cite_note-92\">[92]</a></sup> Harvard has chapters of academic honor societies such as <a href=\"/wiki/Phi_Beta_Kappa\" class=\"mw-redirect\" title=\"Phi Beta Kappa\">Phi Beta Kappa</a> and various committees and departments also award several hundred named prizes annually.<sup id=\"cite_ref-93\" class=\"reference\"><a href=\"#cite_note-93\">[93]</a></sup> Harvard, along with other universities, has been accused of <a href=\"/wiki/Grade_inflation\" title=\"Grade inflation\">grade inflation</a>,<sup id=\"cite_ref-94\" class=\"reference\"><a href=\"#cite_note-94\">[94]</a></sup> although there is evidence that the quality of the student body and its motivation have also increased.<sup id=\"cite_ref-95\" class=\"reference\"><a href=\"#cite_note-95\">[95]</a></sup> Harvard College reduced the number of students who receive <a href=\"/wiki/Latin_honors\" title=\"Latin honors\">Latin honors</a> from 90% in 2004 to 60% in 2005. Moreover, the honors of \"John Harvard Scholar\" and \"Harvard College Scholar\" will now be given only to the top 5 percent and the next 5 percent of each class.<sup id=\"cite_ref-96\" class=\"reference\"><a href=\"#cite_note-96\">[96]</a></sup><sup id=\"cite_ref-97\" class=\"reference\"><a href=\"#cite_note-97\">[97]</a></sup><sup id=\"cite_ref-98\" class=\"reference\"><a href=\"#cite_note-98\">[98]</a></sup><sup id=\"cite_ref-99\" class=\"reference\"><a href=\"#cite_note-99\">[99]</a></sup></p>\\n<p>University policy is to expel students engaging in <a href=\"/wiki/Academic_dishonesty\" title=\"Academic dishonesty\">academic dishonesty</a> to discourage a \"culture of cheating.\"<sup id=\"cite_ref-Crimson1_100-0\" class=\"reference\"><a href=\"#cite_note-Crimson1-100\">[100]</a></sup><sup id=\"cite_ref-ABCNews_101-0\" class=\"reference\"><a href=\"#cite_note-ABCNews-101\">[101]</a></sup><sup id=\"cite_ref-Crimson2_102-0\" class=\"reference\"><a href=\"#cite_note-Crimson2-102\">[102]</a></sup> In 2012, dozens of students were <a href=\"/wiki/2012_Harvard_cheating_scandal\" title=\"2012 Harvard cheating scandal\">expelled for cheating</a> after an investigation of more than 120 students.<sup id=\"cite_ref-NYTimes1_103-0\" class=\"reference\"><a href=\"#cite_note-NYTimes1-103\">[103]</a></sup> In 2013, there was a report that as many as 42% of incoming freshmen had cheated on homework prior to entering the university,<sup id=\"cite_ref-104\" class=\"reference\"><a href=\"#cite_note-104\">[104]</a></sup> and these incidents have prompted the university to consider adopting an <a href=\"/wiki/Honor_code#Academic_honor_codes\" class=\"mw-redirect\" title=\"Honor code\">honor code</a>.<sup id=\"cite_ref-Crimson2_102-1\" class=\"reference\"><a href=\"#cite_note-Crimson2-102\">[102]</a></sup><sup id=\"cite_ref-105\" class=\"reference\"><a href=\"#cite_note-105\">[105]</a></sup></p>\\n<p>For the 2012\\u201313 school year annual tuition was $38,000, with a total cost of attendance of $57,000.<sup id=\"cite_ref-Costs_and_Tuition_106-0\" class=\"reference\"><a href=\"#cite_note-Costs_and_Tuition-106\">[106]</a></sup> Beginning 2007, families with incomes below $60,000 pay nothing for their children to attend, including room and board. Families with incomes between $60,000 to $80,000 pay only a few thousand dollars per year, and families earning between $120,000 and $180,000 pay no more than 10% of their annual incomes.<sup id=\"cite_ref-fa_20-1\" class=\"reference\"><a href=\"#cite_note-fa-20\">[20]</a></sup> In 2009, Harvard offered grants totaling $414 million across all eleven divisions;<sup class=\"noprint Inline-Template\" style=\"white-space:nowrap;\">[<i><a href=\"/wiki/Wikipedia:Please_clarify\" title=\"Wikipedia:Please clarify\"><span title=\"The text near this tag needs further explanation. (October 2015)\">further explanation needed</span></a></i>]</sup> $340 million came from institutional funds, $35 million from federal support, and $39 million from other outside support. Grants total 88% of Harvard\\'s aid for undergraduate students, with aid also provided by loans (8%) and work-study (4%).<sup id=\"cite_ref-Tuition_107-0\" class=\"reference\"><a href=\"#cite_note-Tuition-107\">[107]</a></sup></p>\\n<h3><span class=\"mw-headline\" id=\"Research\">Research</span></h3>\\n<table class=\"plainlinks metadata ambox mbox-small-left ambox-content\" role=\"presentation\">\\n<tr>\\n<td class=\"mbox-image\"><a href=\"/wiki/File:Wiki_letter_w_cropped.svg\" class=\"image\"><img alt=\"[icon]\" src=\"//upload.wikimedia.org/wikipedia/commons/thumb/1/1c/Wiki_letter_w_cropped.svg/20px-Wiki_letter_w_cropped.svg.png\" width=\"20\" height=\"14\" srcset=\"//upload.wikimedia.org/wikipedia/commons/thumb/1/1c/Wiki_letter_w_cropped.svg/30px-Wiki_letter_w_cropped.svg.png 1.5x, //upload.wikimedia.org/wikipedia/commons/thumb/1/1c/Wiki_letter_w_cropped.svg/40px-Wiki_letter_w_cropped.svg.png 2x\" data-file-width=\"44\" data-file-height=\"31\" /></a></td>\\n<td class=\"mbox-text\"><span class=\"mbox-text-span\"><b>This section needs expansion</b>. <small>You can help by <a class=\"external text\" href=\"//en.wikipedia.org/w/index.php?title=Harvard_University&amp;action=edit&amp;section=\">adding to it</a>.</small> <small><i>(September 2013)</i></small></span></td>\\n</tr>\\n</table>\\n<p>Harvard is a founding member of the <a href=\"/wiki/Association_of_American_Universities\" title=\"Association of American Universities\">Association of American Universities</a><sup id=\"cite_ref-108\" class=\"reference\"><a href=\"#cite_note-108\">[108]</a></sup> and remains a research university with \"very high\" research activity and a \"comprehensive\" doctoral program across the arts, sciences, engineering, and medicine.<sup id=\"cite_ref-Carnegie_19-5\" class=\"reference\"><a href=\"#cite_note-Carnegie-19\">[19]</a></sup> Research and development expenditures in 2011 totaled $649.7 million, 27th among American universities.<sup id=\"cite_ref-109\" class=\"reference\"><a href=\"#cite_note-109\">[109]</a></sup></p>\\n<h3><span class=\"mw-headline\" id=\"Libraries_and_museums\">Libraries and museums</span></h3>\\n<div class=\"thumb tright\">\\n<div class=\"thumbinner\" style=\"width:222px;\"><a href=\"/wiki/File:Widener_Library.jpg\" class=\"image\"><img alt=\"\" src=\"//upload.wikimedia.org/wikipedia/commons/thumb/6/6c/Widener_Library.jpg/220px-Widener_Library.jpg\" width=\"220\" height=\"147\" class=\"thumbimage\" srcset=\"//upload.wikimedia.org/wikipedia/commons/thumb/6/6c/Widener_Library.jpg/330px-Widener_Library.jpg 1.5x, //upload.wikimedia.org/wikipedia/commons/thumb/6/6c/Widener_Library.jpg/440px-Widener_Library.jpg 2x\" data-file-width=\"1500\" data-file-height=\"1002\" /></a>\\n<div class=\"thumbcaption\">\\n<div class=\"magnify\"><a href=\"/wiki/File:Widener_Library.jpg\" class=\"internal\" title=\"Enlarge\"></a></div>\\nWidener Library anchors the Harvard University Library system</div>\\n</div>\\n</div>\\n<p>The <a href=\"/wiki/Harvard_Library\" title=\"Harvard Library\">Harvard University Library</a> System is centered in <a href=\"/wiki/Widener_Library\" title=\"Widener Library\">Widener Library</a> in <a href=\"/wiki/Harvard_Yard\" title=\"Harvard Yard\">Harvard Yard</a> and comprises nearly 80 individual libraries holding over 18 million volumes.<sup id=\"cite_ref-hlar_21-1\" class=\"reference\"><a href=\"#cite_note-hlar-21\">[21]</a></sup><sup id=\"cite_ref-largestlibs_22-1\" class=\"reference\"><a href=\"#cite_note-largestlibs-22\">[22]</a></sup> According to the <a href=\"/wiki/American_Library_Association\" title=\"American Library Association\">American Library Association</a>, this makes it the largest academic library in the United States, and one of the largest in the world.<sup id=\"cite_ref-largestlibs_22-2\" class=\"reference\"><a href=\"#cite_note-largestlibs-22\">[22]</a></sup> Cabot Science Library, Lamont Library, and Widener Library are three of the most popular libraries for undergraduates to use, with easy access and central locations. There are rare books, <a href=\"/wiki/Manuscripts\" class=\"mw-redirect\" title=\"Manuscripts\">manuscripts</a> and other special collections throughout Harvard\\'s libraries;<sup id=\"cite_ref-specialcolls_110-0\" class=\"reference\"><a href=\"#cite_note-specialcolls-110\">[110]</a></sup> Houghton Library, the Arthur and Elizabeth Schlesinger Library on the History of Women in America, and the Harvard University Archives consist principally of rare and unique materials. America\\'s oldest collection of maps, gazetteers, and atlases both old and new is stored in Pusey Library and open to the public. The largest collection of <a href=\"/wiki/East_Asia\" title=\"East Asia\">East-Asian</a> language material outside of East Asia is held in the <a href=\"/wiki/Harvard-Yenching_Library\" class=\"mw-redirect\" title=\"Harvard-Yenching Library\">Harvard-Yenching Library</a>.</p>\\n<div class=\"thumb tleft\">\\n<div class=\"thumbinner\" style=\"width:222px;\"><a href=\"/wiki/File:Henry_Moore_sculpture,_Harvard_University.jpg\" class=\"image\"><img alt=\"\" src=\"//upload.wikimedia.org/wikipedia/commons/thumb/7/75/Henry_Moore_sculpture%2C_Harvard_University.jpg/220px-Henry_Moore_sculpture%2C_Harvard_University.jpg\" width=\"220\" height=\"165\" class=\"thumbimage\" srcset=\"//upload.wikimedia.org/wikipedia/commons/thumb/7/75/Henry_Moore_sculpture%2C_Harvard_University.jpg/330px-Henry_Moore_sculpture%2C_Harvard_University.jpg 1.5x, //upload.wikimedia.org/wikipedia/commons/thumb/7/75/Henry_Moore_sculpture%2C_Harvard_University.jpg/440px-Henry_Moore_sculpture%2C_Harvard_University.jpg 2x\" data-file-width=\"3264\" data-file-height=\"2448\" /></a>\\n<div class=\"thumbcaption\">\\n<div class=\"magnify\"><a href=\"/wiki/File:Henry_Moore_sculpture,_Harvard_University.jpg\" class=\"internal\" title=\"Enlarge\"></a></div>\\n<a href=\"/wiki/Henry_Moore\" title=\"Henry Moore\">Henry Moore</a>\\'s sculpture <i>Large Four Piece Reclining Figure</i>, near Lamont Library</div>\\n</div>\\n</div>\\n<p>Harvard operates several arts, cultural, and scientific museums. The <a href=\"/wiki/Harvard_Art_Museums\" title=\"Harvard Art Museums\">Harvard Art Museums</a> comprises three museums. The <a href=\"/wiki/Arthur_M._Sackler_Museum\" class=\"mw-redirect\" title=\"Arthur M. Sackler Museum\">Arthur M. Sackler Museum</a> includes collections of ancient, Asian, Islamic and later Indian art, the <a href=\"/wiki/Busch-Reisinger_Museum\" class=\"mw-redirect\" title=\"Busch-Reisinger Museum\">Busch-Reisinger Museum</a>, formerly the Germanic Museum, covers central and northern European art, and the <a href=\"/wiki/Fogg_Museum_of_Art\" class=\"mw-redirect\" title=\"Fogg Museum of Art\">Fogg Museum of Art</a>, covers Western art from the Middle Ages to the present emphasizing Italian <a href=\"/wiki/Early_Renaissance_painting\" class=\"mw-redirect\" title=\"Early Renaissance painting\">early Renaissance</a>, British <a href=\"/wiki/Pre-Raphaelite\" class=\"mw-redirect\" title=\"Pre-Raphaelite\">pre-Raphaelite</a>, and 19th-century French art. The <a href=\"/wiki/Harvard_Museum_of_Natural_History\" title=\"Harvard Museum of Natural History\">Harvard Museum of Natural History</a> includes the <a href=\"/wiki/Harvard_Mineralogical_Museum\" title=\"Harvard Mineralogical Museum\">Harvard Mineralogical Museum</a>, <a href=\"/wiki/Harvard_University_Herbaria\" title=\"Harvard University Herbaria\">Harvard University Herbaria</a> featuring the <a href=\"/wiki/Leopold_and_Rudolf_Blaschka\" title=\"Leopold and Rudolf Blaschka\">Blaschka</a> <a href=\"/wiki/Glass_Flowers\" title=\"Glass Flowers\">Glass Flowers</a> exhibit, and the <a href=\"/wiki/Museum_of_Comparative_Zoology\" title=\"Museum of Comparative Zoology\">Museum of Comparative Zoology</a>. Other museums include the <a href=\"/wiki/Carpenter_Center_for_the_Visual_Arts\" title=\"Carpenter Center for the Visual Arts\">Carpenter Center for the Visual Arts</a>, designed by <a href=\"/wiki/Le_Corbusier\" title=\"Le Corbusier\">Le Corbusier</a>, housing the film archive, the <a href=\"/wiki/Peabody_Museum_of_Archaeology_and_Ethnology\" title=\"Peabody Museum of Archaeology and Ethnology\">Peabody Museum of Archaeology and Ethnology</a>, specializing in the cultural history and civilizations of the Western Hemisphere, and the <a href=\"/wiki/Semitic_Museum\" title=\"Semitic Museum\">Semitic Museum</a> featuring artifacts from excavations in the Middle East.</p>\\n<h3><span class=\"mw-headline\" id=\"University_rankings\">University rankings</span></h3>\\n<table class=\"infobox\" style=\"width: 22em\">\\n<tr>\\n<th colspan=\"2\" style=\"text-align: center; font-size: 125%\"><a href=\"/wiki/College_and_university_rankings\" title=\"College and university rankings\">University rankings</a></th>\\n</tr>\\n<tr>\\n<th colspan=\"2\" style=\"background-color: lavender; text-align: center\">National</th>\\n</tr>\\n<tr>\\n<th><i><a href=\"/wiki/Academic_Ranking_of_World_Universities\" title=\"Academic Ranking of World Universities\">ARWU</a></i><sup id=\"cite_ref-Rankings_ARWU_NU_111-0\" class=\"reference\"><a href=\"#cite_note-Rankings_ARWU_NU-111\">[111]</a></sup></th>\\n<td>1</td>\\n</tr>\\n<tr>\\n<th><i><a href=\"/wiki/Forbes_Magazine%27s_List_of_America%27s_Best_Colleges\" title=\"Forbes Magazine\\'s List of America\\'s Best Colleges\">Forbes</a></i><sup id=\"cite_ref-Rankings_Forbes_112-0\" class=\"reference\"><a href=\"#cite_note-Rankings_Forbes-112\">[112]</a></sup></th>\\n<td>4</td>\\n</tr>\\n<tr>\\n<th><i><a href=\"/wiki/U.S._News_%26_World_Report\" title=\"U.S. News &amp; World Report\">U.S. News &amp; World Report</a></i><sup id=\"cite_ref-Rankings_USNWR_NU_113-0\" class=\"reference\"><a href=\"#cite_note-Rankings_USNWR_NU-113\">[113]</a></sup></th>\\n<td>2</td>\\n</tr>\\n<tr>\\n<th><i><a href=\"/wiki/Washington_Monthly\" title=\"Washington Monthly\">Washington Monthly</a></i><sup id=\"cite_ref-Rankings_Wamo_NU_114-0\" class=\"reference\"><a href=\"#cite_note-Rankings_Wamo_NU-114\">[114]</a></sup></th>\\n<td>2</td>\\n</tr>\\n<tr>\\n<th colspan=\"2\" style=\"background-color: lavender; text-align: center\">Global</th>\\n</tr>\\n<tr>\\n<th><i><a href=\"/wiki/Academic_Ranking_of_World_Universities\" title=\"Academic Ranking of World Universities\">ARWU</a></i><sup id=\"cite_ref-Rankings_ARWU_W_115-0\" class=\"reference\"><a href=\"#cite_note-Rankings_ARWU_W-115\">[115]</a></sup></th>\\n<td>1</td>\\n</tr>\\n<tr>\\n<th><i><a href=\"/wiki/QS_World_University_Rankings\" title=\"QS World University Rankings\">QS</a></i><sup id=\"cite_ref-Rankings_QS_W_116-0\" class=\"reference\"><a href=\"#cite_note-Rankings_QS_W-116\">[116]</a></sup></th>\\n<td>3</td>\\n</tr>\\n<tr>\\n<th><i><a href=\"/wiki/Times_Higher_Education_World_University_Rankings\" title=\"Times Higher Education World University Rankings\">Times</a></i><sup id=\"cite_ref-Rankings_THES_W_117-0\" class=\"reference\"><a href=\"#cite_note-Rankings_THES_W-117\">[117]</a></sup></th>\\n<td>6</td>\\n</tr>\\n<tr>\\n<th><i><a href=\"/wiki/U.S._News_%26_World_Report\" title=\"U.S. News &amp; World Report\">U.S. News &amp; World Report</a></i><sup id=\"cite_ref-Rankings_USNWR_W_118-0\" class=\"reference\"><a href=\"#cite_note-Rankings_USNWR_W-118\">[118]</a></sup></th>\\n<td>1</td>\\n</tr>\\n</table>\\n<p>Among overall rankings, both <i>Academic Ranking of World Universities</i> (<i>ARWU</i>) and <i><a href=\"/wiki/World_Reputation_Rankings\" class=\"mw-redirect\" title=\"World Reputation Rankings\">THE World Reputation Rankings</a></i> have consecutively ranked Harvard the best since the time when they were first released.<sup id=\"cite_ref-ARWU_119-0\" class=\"reference\"><a href=\"#cite_note-ARWU-119\">[119]</a></sup><sup id=\"cite_ref-120\" class=\"reference\"><a href=\"#cite_note-120\">[120]</a></sup> When QS and <i><a href=\"/wiki/Times_Higher_Education\" title=\"Times Higher Education\">THE</a></i> were published in partnership as the <i><a href=\"/wiki/THE-QS_World_University_Rankings\" class=\"mw-redirect\" title=\"THE-QS World University Rankings\">THE-QS World University Rankings</a></i> during 2004-2009, Harvard had also held the top spot every year.<sup id=\"cite_ref-121\" class=\"reference\"><a href=\"#cite_note-121\">[121]</a></sup></p>\\n<p>Regarding rankings of specific indicators, Harvard topped both <i>University Ranking by Academic Performance 2015-2016</i> and <a href=\"/wiki/Mines_ParisTech:_Professional_Ranking_of_World_Universities\" title=\"Mines ParisTech: Professional Ranking of World Universities\">Mines ParisTech: Professional Ranking of World Universities</a> (2011), which measured universities\\' numbers of alumni holding CEO positions in <a href=\"/wiki/Fortune_Global_500\" title=\"Fortune Global 500\">Fortune Global 500</a> companies.<sup id=\"cite_ref-122\" class=\"reference\"><a href=\"#cite_note-122\">[122]</a></sup> According to the 2016 poll done by <i><a href=\"/wiki/The_Princeton_Review\" title=\"The Princeton Review\">The Princeton Review</a></i>, Harvard is the second most commonly named \"dream college\" in the United States, both for students and parents.<sup id=\"cite_ref-123\" class=\"reference\"><a href=\"#cite_note-123\">[123]</a></sup> <i>College ROI Report: Best Value Colleges</i> by <a href=\"/wiki/PayScale\" title=\"PayScale\">PayScale</a> puts Harvard 22nd nationwide in the most recent 2016 edition.<sup id=\"cite_ref-124\" class=\"reference\"><a href=\"#cite_note-124\">[124]</a></sup></p>\\n<h2><span class=\"mw-headline\" id=\"Student_life\">Student life</span></h2>\\n<table style=\"text-align:center; float:left; font-size:85%; margin-right:2em;\" class=\"wikitable\">\\n<caption><i>Demographics of student body</i><sup id=\"cite_ref-Head_count_125-0\" class=\"reference\"><a href=\"#cite_note-Head_count-125\">[125]</a></sup><sup id=\"cite_ref-126\" class=\"reference\"><a href=\"#cite_note-126\">[126]</a></sup><sup id=\"cite_ref-127\" class=\"reference\"><a href=\"#cite_note-127\">[127]</a></sup></caption>\\n<tr>\\n<th></th>\\n<th>Undergraduate</th>\\n<th>Graduate<br />\\nand Professional</th>\\n<th>U.S. Census</th>\\n</tr>\\n<tr>\\n<th>Asian/Pacific Islander</th>\\n<td>17%</td>\\n<td>11%</td>\\n<td>5%</td>\\n</tr>\\n<tr>\\n<th>Black/Non-Hispanic</th>\\n<td>6%</td>\\n<td>4%</td>\\n<td>12%</td>\\n</tr>\\n<tr>\\n<th>Hispanics of any race</th>\\n<td>9%</td>\\n<td>5%</td>\\n<td>16%</td>\\n</tr>\\n<tr>\\n<th>White/non-Hispanic</th>\\n<td>46%</td>\\n<td>43%</td>\\n<td>64%</td>\\n</tr>\\n<tr>\\n<th>Mixed Race/Other</th>\\n<td>10%</td>\\n<td>8%</td>\\n<td>9%</td>\\n</tr>\\n<tr>\\n<th>International students</th>\\n<td>11%</td>\\n<td>27%</td>\\n<td>N/A</td>\\n</tr>\\n</table>\\n<h3><span class=\"mw-headline\" id=\"Student_body\">Student body</span></h3>\\n<p>In the last six years, Harvard\\'s student population ranged between 19,000 and 21,000, across all programs.<sup id=\"cite_ref-128\" class=\"reference\"><a href=\"#cite_note-128\">[128]</a></sup> Harvard enrolled 6,655 students in undergraduate programs, 3,738 students in graduate programs, and 10,722 students in professional programs.<sup id=\"cite_ref-Head_count_125-1\" class=\"reference\"><a href=\"#cite_note-Head_count-125\">[125]</a></sup> The undergraduate population is 51% female, the graduate population is 48% female, and the professional population is 49% female.<sup id=\"cite_ref-Head_count_125-2\" class=\"reference\"><a href=\"#cite_note-Head_count-125\">[125]</a></sup></p>\\n<h3><span class=\"mw-headline\" id=\"Athletics\">Athletics</span></h3>\\n<div role=\"note\" class=\"hatnote\">Main article: <a href=\"/wiki/Harvard_Crimson\" title=\"Harvard Crimson\">Harvard Crimson</a></div>\\n<div class=\"thumb tright\">\\n<div class=\"thumbinner\" style=\"width:222px;\"><a href=\"/wiki/File:Harvard_stadium_2009h.JPG\" class=\"image\"><img alt=\"\" src=\"//upload.wikimedia.org/wikipedia/commons/thumb/1/1e/Harvard_stadium_2009h.JPG/220px-Harvard_stadium_2009h.JPG\" width=\"220\" height=\"136\" class=\"thumbimage\" srcset=\"//upload.wikimedia.org/wikipedia/commons/thumb/1/1e/Harvard_stadium_2009h.JPG/330px-Harvard_stadium_2009h.JPG 1.5x, //upload.wikimedia.org/wikipedia/commons/thumb/1/1e/Harvard_stadium_2009h.JPG/440px-Harvard_stadium_2009h.JPG 2x\" data-file-width=\"4752\" data-file-height=\"2946\" /></a>\\n<div class=\"thumbcaption\">\\n<div class=\"magnify\"><a href=\"/wiki/File:Harvard_stadium_2009h.JPG\" class=\"internal\" title=\"Enlarge\"></a></div>\\n<a href=\"/wiki/Harvard_Stadium\" title=\"Harvard Stadium\">Harvard Stadium</a>, home of <a href=\"/wiki/Harvard_Crimson\" title=\"Harvard Crimson\">Harvard Crimson</a> and the <a href=\"/wiki/Boston_Cannons\" title=\"Boston Cannons\">Boston Cannons</a></div>\\n</div>\\n</div>\\n<div class=\"thumb tright\">\\n<div class=\"thumbinner\" style=\"width:222px;\"><a href=\"/wiki/File:Harvard_Rowing_Crew_at_Henley_2004_-2.JPG\" class=\"image\"><img alt=\"\" src=\"//upload.wikimedia.org/wikipedia/commons/thumb/0/0b/Harvard_Rowing_Crew_at_Henley_2004_-2.JPG/220px-Harvard_Rowing_Crew_at_Henley_2004_-2.JPG\" width=\"220\" height=\"147\" class=\"thumbimage\" srcset=\"//upload.wikimedia.org/wikipedia/commons/thumb/0/0b/Harvard_Rowing_Crew_at_Henley_2004_-2.JPG/330px-Harvard_Rowing_Crew_at_Henley_2004_-2.JPG 1.5x, //upload.wikimedia.org/wikipedia/commons/thumb/0/0b/Harvard_Rowing_Crew_at_Henley_2004_-2.JPG/440px-Harvard_Rowing_Crew_at_Henley_2004_-2.JPG 2x\" data-file-width=\"1737\" data-file-height=\"1158\" /></a>\\n<div class=\"thumbcaption\">\\n<div class=\"magnify\"><a href=\"/wiki/File:Harvard_Rowing_Crew_at_Henley_2004_-2.JPG\" class=\"internal\" title=\"Enlarge\"></a></div>\\nHarvard men\\'s eight crew at <a href=\"/wiki/Henley_Royal_Regatta\" title=\"Henley Royal Regatta\">Henley</a>, 2004</div>\\n</div>\\n</div>\\n<div class=\"thumb tright\">\\n<div class=\"thumbinner\" style=\"width:222px;\"><a href=\"/wiki/File:Bright_Hockey_Center,_Harvard.JPG\" class=\"image\"><img alt=\"\" src=\"//upload.wikimedia.org/wikipedia/commons/thumb/7/7a/Bright_Hockey_Center%2C_Harvard.JPG/220px-Bright_Hockey_Center%2C_Harvard.JPG\" width=\"220\" height=\"165\" class=\"thumbimage\" srcset=\"//upload.wikimedia.org/wikipedia/commons/thumb/7/7a/Bright_Hockey_Center%2C_Harvard.JPG/330px-Bright_Hockey_Center%2C_Harvard.JPG 1.5x, //upload.wikimedia.org/wikipedia/commons/thumb/7/7a/Bright_Hockey_Center%2C_Harvard.JPG/440px-Bright_Hockey_Center%2C_Harvard.JPG 2x\" data-file-width=\"1600\" data-file-height=\"1200\" /></a>\\n<div class=\"thumbcaption\">\\n<div class=\"magnify\"><a href=\"/wiki/File:Bright_Hockey_Center,_Harvard.JPG\" class=\"internal\" title=\"Enlarge\"></a></div>\\nThe <a href=\"/wiki/Cornell%E2%80%93Harvard_hockey_rivalry\" title=\"Cornell\\u2013Harvard hockey rivalry\">Cornell\\u2013Harvard hockey rivalry match</a>, 2006</div>\\n</div>\\n</div>\\n<p>The <a href=\"/wiki/Harvard_Crimson\" title=\"Harvard Crimson\">Harvard Crimson</a> competes in 42 intercollegiate sports in the <a href=\"/wiki/National_Collegiate_Athletic_Association\" title=\"National Collegiate Athletic Association\">NCAA</a> <a href=\"/wiki/Division_I_(NCAA)\" class=\"mw-redirect\" title=\"Division I (NCAA)\">Division I</a> <a href=\"/wiki/Ivy_League\" title=\"Ivy League\">Ivy League</a>. Harvard has an intense athletic rivalry with <a href=\"/wiki/Yale_University\" title=\"Yale University\">Yale University</a> culminating in <i><a href=\"/wiki/Harvard%E2%80%93Yale_football_rivalry\" title=\"Harvard\\u2013Yale football rivalry\">The Game</a></i>, although the <a href=\"/wiki/Harvard%E2%80%93Yale_Regatta\" title=\"Harvard\\u2013Yale Regatta\">Harvard\\u2013Yale Regatta</a> predates the football game. This rivalry, though, is put aside every two years when the Harvard and Yale <a href=\"/wiki/Track_and_Field\" class=\"mw-redirect\" title=\"Track and Field\">Track and Field</a> teams come together to compete against a combined <a href=\"/wiki/Oxford_University\" class=\"mw-redirect\" title=\"Oxford University\">Oxford University</a> and <a href=\"/wiki/Cambridge_University\" class=\"mw-redirect\" title=\"Cambridge University\">Cambridge University</a> team, a competition that is the oldest continuous international amateur competition in the world.<sup id=\"cite_ref-129\" class=\"reference\"><a href=\"#cite_note-129\">[129]</a></sup></p>\\n<p>Harvard\\'s athletic rivalry with <a href=\"/wiki/Yale_Bulldogs\" title=\"Yale Bulldogs\">Yale</a> is intense in every sport in which they meet, coming to a climax each fall in the annual <a href=\"/wiki/American_football\" title=\"American football\">football</a> meeting, which dates back to 1875 and is usually called simply \"<a href=\"/wiki/Harvard%E2%80%93Yale_football_rivalry\" title=\"Harvard\\u2013Yale football rivalry\">The Game</a>\". While Harvard\\'s football team is no longer one of the country\\'s best as it often was a century ago during football\\'s early days (it won the <a href=\"/wiki/Rose_Bowl_Game\" title=\"Rose Bowl Game\">Rose Bowl</a> in 1920), both it and Yale have influenced the way the game is played. In 1903, <a href=\"/wiki/Harvard_Stadium\" title=\"Harvard Stadium\">Harvard Stadium</a> introduced a new era into football with the first-ever permanent reinforced concrete stadium of its kind in the country. The stadium\\'s structure actually played a role in the evolution of the college game. Seeking to reduce the alarming number of deaths and serious injuries in the sport, <a href=\"/wiki/Walter_Camp\" title=\"Walter Camp\">Walter Camp</a> (former captain of the Yale football team), suggested widening the field to open up the game. But the stadium was too narrow to accommodate a wider playing surface. So, other steps had to be taken. Camp would instead support revolutionary new rules for the 1906 season. These included legalizing the <a href=\"/wiki/Forward_pass\" title=\"Forward pass\">forward pass</a>, perhaps the most significant rule change in the sport\\'s history.<sup id=\"cite_ref-130\" class=\"reference\"><a href=\"#cite_note-130\">[130]</a></sup><sup id=\"cite_ref-131\" class=\"reference\"><a href=\"#cite_note-131\">[131]</a></sup></p>\\n<p>Harvard has several athletic facilities, such as the <a href=\"/wiki/Lavietes_Pavilion\" title=\"Lavietes Pavilion\">Lavietes Pavilion</a>, a multi-purpose arena and home to the Harvard basketball teams. The Malkin Athletic Center, known as the \"MAC\", serves both as the university\\'s primary recreation facility and as a satellite location for several varsity sports. The five-story building includes two cardio rooms, an <a href=\"/wiki/Olympic-size_swimming_pool\" title=\"Olympic-size swimming pool\">Olympic-size swimming pool</a>, a smaller pool for aquaerobics and other activities, a mezzanine, where all types of classes are held, an indoor cycling studio, three weight rooms, and a three-court gym floor to play basketball. The MAC offers personal trainers and specialty classes. It is home to Harvard volleyball, fencing and wrestling. The offices of several of the school\\'s varsity coaches are also in the MAC.</p>\\n<p><a href=\"/wiki/Weld_Boathouse\" title=\"Weld Boathouse\">Weld Boathouse</a> and Newell Boathouse house the women\\'s and men\\'s rowing teams, respectively. The men\\'s crew also uses the Red Top complex in Ledyard, Connecticut, as their training camp for the annual <a href=\"/wiki/Harvard-Yale_Regatta\" class=\"mw-redirect\" title=\"Harvard-Yale Regatta\">Harvard-Yale Regatta</a>. The Bright Hockey Center hosts the Harvard hockey teams, and the Murr Center serves both as a home for Harvard\\'s squash and tennis teams as well as a strength and conditioning center for all athletic sports.</p>\\n<p>As of 2013<sup class=\"plainlinks noprint asof-tag update\" style=\"display:none;\"><a class=\"external text\" href=\"//en.wikipedia.org/w/index.php?title=Harvard_University&amp;action=edit\">[update]</a></sup>, there were 42 Division I intercollegiate <a href=\"/wiki/Varsity_team\" title=\"Varsity team\">varsity</a> sports teams for women and men at Harvard, more than at any other <a href=\"/wiki/Division_I_(NCAA)\" class=\"mw-redirect\" title=\"Division I (NCAA)\">NCAA Division I</a> college in the country.<sup id=\"cite_ref-132\" class=\"reference\"><a href=\"#cite_note-132\">[132]</a></sup> As with other Ivy League universities, Harvard does not offer <a href=\"/wiki/Athletic_scholarship\" title=\"Athletic scholarship\">athletic scholarships</a>.<sup id=\"cite_ref-133\" class=\"reference\"><a href=\"#cite_note-133\">[133]</a></sup></p>\\n<p>Older than <i>The Game</i> by 23 years, the Harvard-Yale Regatta was the original source of the athletic rivalry between the two schools. It is held annually in June on the <a href=\"/wiki/Thames_River_(Connecticut)\" title=\"Thames River (Connecticut)\">Thames River</a> in eastern Connecticut. The Harvard crew is typically considered to be one of the top teams in the country in <a href=\"/wiki/Rowing_(sport)\" title=\"Rowing (sport)\">rowing</a>. Today, Harvard fields top teams in several other sports, such as the <a href=\"/wiki/Harvard_Crimson_men%27s_ice_hockey\" title=\"Harvard Crimson men\\'s ice hockey\">Harvard Crimson men\\'s ice hockey</a> team (with a strong rivalry against <a href=\"/wiki/Cornell_Big_Red_men%27s_ice_hockey\" title=\"Cornell Big Red men\\'s ice hockey\">Cornell</a>), <a href=\"/wiki/Squash_(sport)\" title=\"Squash (sport)\">squash</a>, and even recently won NCAA titles in Men\\'s and Women\\'s <a href=\"/wiki/Fencing\" title=\"Fencing\">Fencing</a>. Harvard also won the <a href=\"/wiki/Intercollegiate_Sailing_Association_National_Championships\" class=\"mw-redirect\" title=\"Intercollegiate Sailing Association National Championships\">Intercollegiate Sailing Association National Championships</a> in 2003.</p>\\n<p>Harvard\\'s men\\'s ice hockey team won the school\\'s first NCAA Championship in any team sport in 1989. Harvard was also the first Ivy League institution to win a NCAA championship title in a women\\'s sport when its women\\'s lacrosse team won the NCAA Championship in 1990.</p>\\n<p><i><a href=\"/wiki/Harvard_Undergraduate_Television\" title=\"Harvard Undergraduate Television\">Harvard Undergraduate Television</a></i> has footage from historical games and athletic events including the 2005 pep-rally before the Harvard-Yale Game.</p>\\n<p>The school color is <a href=\"/wiki/Crimson\" title=\"Crimson\">crimson</a>, which is also the name of the Harvard sports teams and the daily newspaper, <i><a href=\"/wiki/The_Harvard_Crimson\" title=\"The Harvard Crimson\">The Harvard Crimson</a></i>. The color was unofficially adopted (in preference to <a href=\"/wiki/Magenta\" title=\"Magenta\">magenta</a>) by an 1875 vote of the student body, although the association with some form of red can be traced back to 1858, when <a href=\"/wiki/Charles_William_Eliot\" title=\"Charles William Eliot\">Charles William Eliot</a>, a young graduate student who would later become Harvard\\'s 21st and longest-serving president (1869\\u20131909), bought red bandanas for his crew so they could more easily be distinguished by spectators at a regatta.</p>\\n<h3><span class=\"mw-headline\" id=\"Song\">Song</span></h3>\\n<p>Harvard has several fight songs, the most played of which, especially at football, are \"<a href=\"/wiki/Ten_Thousand_Men_of_Harvard\" title=\"Ten Thousand Men of Harvard\">Ten Thousand Men of Harvard</a>\" and \"<a href=\"/wiki/Harvardiana\" title=\"Harvardiana\">Harvardiana</a>.\" While \"<a href=\"/wiki/Fair_Harvard\" title=\"Fair Harvard\">Fair Harvard</a>\" is actually the <a href=\"/wiki/Alma_mater_(song)\" title=\"Alma mater (song)\">alma mater</a>, \"Ten Thousand Men\" is better known outside the university. The <a href=\"/wiki/Harvard_University_Band\" title=\"Harvard University Band\">Harvard University Band</a> performs these fight songs, and other cheers, at football and hockey games. These were parodied by Harvard alumnus <a href=\"/wiki/Tom_Lehrer\" title=\"Tom Lehrer\">Tom Lehrer</a> in his song \"<a href=\"/wiki/Fight_Fiercely,_Harvard\" title=\"Fight Fiercely, Harvard\">Fight Fiercely, Harvard</a>,\" which he composed while an undergraduate.</p>\\n<h2><span class=\"mw-headline\" id=\"Notable_people\">Notable people</span></h2>\\n<h3><span class=\"mw-headline\" id=\"Alumni\">Alumni</span></h3>\\n<div role=\"note\" class=\"hatnote\">Main articles: <a href=\"/wiki/List_of_Harvard_University_people\" title=\"List of Harvard University people\">List of Harvard University people</a> and <a href=\"/wiki/Notable_non-graduate_alumni_of_Harvard\" class=\"mw-redirect\" title=\"Notable non-graduate alumni of Harvard\">Notable non-graduate alumni of Harvard</a></div>\\n<ul class=\"gallery mw-gallery-traditional center\">\\n<li class=\"gallerybox\" style=\"width: 155px\">\\n<div style=\"width: 155px\">\\n<div class=\"thumb\" style=\"width: 150px;\">\\n<div style=\"margin:15px auto;\"><a href=\"/wiki/File:US_Navy_031029-N-6236G-001_A_painting_of_President_John_Adams_(1735-1826),_2nd_president_of_the_United_States,_by_Asher_B._Durand_(1767-1845)-crop.jpg\" class=\"image\"><img alt=\"\" src=\"//upload.wikimedia.org/wikipedia/commons/thumb/2/25/US_Navy_031029-N-6236G-001_A_painting_of_President_John_Adams_%281735-1826%29%2C_2nd_president_of_the_United_States%2C_by_Asher_B._Durand_%281767-1845%29-crop.jpg/95px-US_Navy_031029-N-6236G-001_A_painting_of_President_John_Adams_%281735-1826%29%2C_2nd_president_of_the_United_States%2C_by_Asher_B._Durand_%281767-1845%29-crop.jpg\" width=\"95\" height=\"120\" srcset=\"//upload.wikimedia.org/wikipedia/commons/thumb/2/25/US_Navy_031029-N-6236G-001_A_painting_of_President_John_Adams_%281735-1826%29%2C_2nd_president_of_the_United_States%2C_by_Asher_B._Durand_%281767-1845%29-crop.jpg/143px-US_Navy_031029-N-6236G-001_A_painting_of_President_John_Adams_%281735-1826%29%2C_2nd_president_of_the_United_States%2C_by_Asher_B._Durand_%281767-1845%29-crop.jpg 1.5x, //upload.wikimedia.org/wikipedia/commons/thumb/2/25/US_Navy_031029-N-6236G-001_A_painting_of_President_John_Adams_%281735-1826%29%2C_2nd_president_of_the_United_States%2C_by_Asher_B._Durand_%281767-1845%29-crop.jpg/191px-US_Navy_031029-N-6236G-001_A_painting_of_President_John_Adams_%281735-1826%29%2C_2nd_president_of_the_United_States%2C_by_Asher_B._Durand_%281767-1845%29-crop.jpg 2x\" data-file-width=\"1585\" data-file-height=\"1993\" /></a></div>\\n</div>\\n<div class=\"gallerytext\">\\n<p>2nd President of the United States <a href=\"/wiki/John_Adams\" title=\"John Adams\">John Adams</a> (AB, 1755; AM, 1758)</p>\\n</div>\\n</div>\\n</li>\\n<li class=\"gallerybox\" style=\"width: 155px\">\\n<div style=\"width: 155px\">\\n<div class=\"thumb\" style=\"width: 150px;\">\\n<div style=\"margin:15px auto;\"><a href=\"/wiki/File:John_Quincy_Adams.jpg\" class=\"image\"><img alt=\"\" src=\"//upload.wikimedia.org/wikipedia/commons/thumb/6/64/John_Quincy_Adams.jpg/98px-John_Quincy_Adams.jpg\" width=\"98\" height=\"120\" srcset=\"//upload.wikimedia.org/wikipedia/commons/thumb/6/64/John_Quincy_Adams.jpg/148px-John_Quincy_Adams.jpg 1.5x, //upload.wikimedia.org/wikipedia/commons/thumb/6/64/John_Quincy_Adams.jpg/197px-John_Quincy_Adams.jpg 2x\" data-file-width=\"233\" data-file-height=\"284\" /></a></div>\\n</div>\\n<div class=\"gallerytext\">\\n<p>6th President of the United States <a href=\"/wiki/John_Quincy_Adams\" title=\"John Quincy Adams\">John Quincy Adams</a> (AB, 1787; AM, 1798)</p>\\n</div>\\n</div>\\n</li>\\n<li class=\"gallerybox\" style=\"width: 155px\">\\n<div style=\"width: 155px\">\\n<div class=\"thumb\" style=\"width: 150px;\">\\n<div style=\"margin:15px auto;\"><a href=\"/wiki/File:President_Rutherford_Hayes_1870_-_1880_Restored.jpg\" class=\"image\"><img alt=\"\" src=\"//upload.wikimedia.org/wikipedia/commons/thumb/5/50/President_Rutherford_Hayes_1870_-_1880_Restored.jpg/99px-President_Rutherford_Hayes_1870_-_1880_Restored.jpg\" width=\"99\" height=\"120\" srcset=\"//upload.wikimedia.org/wikipedia/commons/thumb/5/50/President_Rutherford_Hayes_1870_-_1880_Restored.jpg/148px-President_Rutherford_Hayes_1870_-_1880_Restored.jpg 1.5x, //upload.wikimedia.org/wikipedia/commons/thumb/5/50/President_Rutherford_Hayes_1870_-_1880_Restored.jpg/197px-President_Rutherford_Hayes_1870_-_1880_Restored.jpg 2x\" data-file-width=\"3031\" data-file-height=\"3688\" /></a></div>\\n</div>\\n<div class=\"gallerytext\">\\n<p>19th President of the United States <a href=\"/wiki/Rutherford_B._Hayes\" title=\"Rutherford B. Hayes\">Rutherford B. Hayes</a> (LLB, 1845)</p>\\n</div>\\n</div>\\n</li>\\n<li class=\"gallerybox\" style=\"width: 155px\">\\n<div style=\"width: 155px\">\\n<div class=\"thumb\" style=\"width: 150px;\">\\n<div style=\"margin:15px auto;\"><a href=\"/wiki/File:President_Theodore_Roosevelt,_1904.jpg\" class=\"image\"><img alt=\"\" src=\"//upload.wikimedia.org/wikipedia/commons/thumb/1/19/President_Theodore_Roosevelt%2C_1904.jpg/91px-President_Theodore_Roosevelt%2C_1904.jpg\" width=\"91\" height=\"120\" srcset=\"//upload.wikimedia.org/wikipedia/commons/thumb/1/19/President_Theodore_Roosevelt%2C_1904.jpg/136px-President_Theodore_Roosevelt%2C_1904.jpg 1.5x, //upload.wikimedia.org/wikipedia/commons/thumb/1/19/President_Theodore_Roosevelt%2C_1904.jpg/182px-President_Theodore_Roosevelt%2C_1904.jpg 2x\" data-file-width=\"2842\" data-file-height=\"3751\" /></a></div>\\n</div>\\n<div class=\"gallerytext\">\\n<p>26th President of the United States and Nobel Peace Prize laureate <a href=\"/wiki/Theodore_Roosevelt\" title=\"Theodore Roosevelt\">Theodore Roosevelt</a> (AB, 1880)</p>\\n</div>\\n</div>\\n</li>\\n<li class=\"gallerybox\" style=\"width: 155px\">\\n<div style=\"width: 155px\">\\n<div class=\"thumb\" style=\"width: 150px;\">\\n<div style=\"margin:15px auto;\"><a href=\"/wiki/File:FRoosevelt.png\" class=\"image\"><img alt=\"\" src=\"//upload.wikimedia.org/wikipedia/commons/thumb/6/6e/FRoosevelt.png/96px-FRoosevelt.png\" width=\"96\" height=\"120\" srcset=\"//upload.wikimedia.org/wikipedia/commons/thumb/6/6e/FRoosevelt.png/144px-FRoosevelt.png 1.5x, //upload.wikimedia.org/wikipedia/commons/thumb/6/6e/FRoosevelt.png/193px-FRoosevelt.png 2x\" data-file-width=\"2340\" data-file-height=\"2914\" /></a></div>\\n</div>\\n<div class=\"gallerytext\">\\n<p>32nd President of the United States <a href=\"/wiki/Franklin_D._Roosevelt\" title=\"Franklin D. Roosevelt\">Franklin D. Roosevelt</a> (AB, 1903)</p>\\n</div>\\n</div>\\n</li>\\n<li class=\"gallerybox\" style=\"width: 155px\">\\n<div style=\"width: 155px\">\\n<div class=\"thumb\" style=\"width: 150px;\">\\n<div style=\"margin:15px auto;\"><a href=\"/wiki/File:John_F._Kennedy,_White_House_color_photo_portrait.jpg\" class=\"image\"><img alt=\"\" src=\"//upload.wikimedia.org/wikipedia/commons/thumb/c/c3/John_F._Kennedy%2C_White_House_color_photo_portrait.jpg/92px-John_F._Kennedy%2C_White_House_color_photo_portrait.jpg\" width=\"92\" height=\"120\" srcset=\"//upload.wikimedia.org/wikipedia/commons/thumb/c/c3/John_F._Kennedy%2C_White_House_color_photo_portrait.jpg/139px-John_F._Kennedy%2C_White_House_color_photo_portrait.jpg 1.5x, //upload.wikimedia.org/wikipedia/commons/thumb/c/c3/John_F._Kennedy%2C_White_House_color_photo_portrait.jpg/185px-John_F._Kennedy%2C_White_House_color_photo_portrait.jpg 2x\" data-file-width=\"1419\" data-file-height=\"1840\" /></a></div>\\n</div>\\n<div class=\"gallerytext\">\\n<p>35th President of the United States <a href=\"/wiki/John_F._Kennedy\" title=\"John F. Kennedy\">John F. Kennedy</a> (SB, 1940)</p>\\n</div>\\n</div>\\n</li>\\n<li class=\"gallerybox\" style=\"width: 155px\">\\n<div style=\"width: 155px\">\\n<div class=\"thumb\" style=\"width: 150px;\">\\n<div style=\"margin:15px auto;\"><a href=\"/wiki/File:Ellen_Johnson-Sirleaf,_April_2010.jpg\" class=\"image\"><img alt=\"\" src=\"//upload.wikimedia.org/wikipedia/commons/thumb/4/4e/Ellen_Johnson-Sirleaf%2C_April_2010.jpg/90px-Ellen_Johnson-Sirleaf%2C_April_2010.jpg\" width=\"90\" height=\"120\" srcset=\"//upload.wikimedia.org/wikipedia/commons/thumb/4/4e/Ellen_Johnson-Sirleaf%2C_April_2010.jpg/135px-Ellen_Johnson-Sirleaf%2C_April_2010.jpg 1.5x, //upload.wikimedia.org/wikipedia/commons/thumb/4/4e/Ellen_Johnson-Sirleaf%2C_April_2010.jpg/180px-Ellen_Johnson-Sirleaf%2C_April_2010.jpg 2x\" data-file-width=\"900\" data-file-height=\"1200\" /></a></div>\\n</div>\\n<div class=\"gallerytext\">\\n<p>President of Liberia and Nobel Peace Prize laureate <a href=\"/wiki/Ellen_Johnson_Sirleaf\" title=\"Ellen Johnson Sirleaf\">Ellen Johnson Sirleaf</a> (MPA, 1971)</p>\\n</div>\\n</div>\\n</li>\\n<li class=\"gallerybox\" style=\"width: 155px\">\\n<div style=\"width: 155px\">\\n<div class=\"thumb\" style=\"width: 150px;\">\\n<div style=\"margin:15px auto;\"><a href=\"/wiki/File:George-W-Bush.jpeg\" class=\"image\"><img alt=\"\" src=\"//upload.wikimedia.org/wikipedia/commons/thumb/d/d4/George-W-Bush.jpeg/91px-George-W-Bush.jpeg\" width=\"91\" height=\"120\" srcset=\"//upload.wikimedia.org/wikipedia/commons/thumb/d/d4/George-W-Bush.jpeg/136px-George-W-Bush.jpeg 1.5x, //upload.wikimedia.org/wikipedia/commons/thumb/d/d4/George-W-Bush.jpeg/181px-George-W-Bush.jpeg 2x\" data-file-width=\"2267\" data-file-height=\"3000\" /></a></div>\\n</div>\\n<div class=\"gallerytext\">\\n<p>43rd President of the United States <a href=\"/wiki/George_W._Bush\" title=\"George W. Bush\">George W. Bush</a> (MBA, 1975)</p>\\n</div>\\n</div>\\n</li>\\n<li class=\"gallerybox\" style=\"width: 155px\">\\n<div style=\"width: 155px\">\\n<div class=\"thumb\" style=\"width: 150px;\">\\n<div style=\"margin:15px auto;\"><a href=\"/wiki/File:Bill_Gates_June_2015.jpg\" class=\"image\"><img alt=\"\" src=\"//upload.wikimedia.org/wikipedia/commons/thumb/1/19/Bill_Gates_June_2015.jpg/85px-Bill_Gates_June_2015.jpg\" width=\"85\" height=\"120\" srcset=\"//upload.wikimedia.org/wikipedia/commons/thumb/1/19/Bill_Gates_June_2015.jpg/127px-Bill_Gates_June_2015.jpg 1.5x, //upload.wikimedia.org/wikipedia/commons/thumb/1/19/Bill_Gates_June_2015.jpg/170px-Bill_Gates_June_2015.jpg 2x\" data-file-width=\"996\" data-file-height=\"1408\" /></a></div>\\n</div>\\n<div class=\"gallerytext\">\\n<p>Founder of Microsoft <a href=\"/wiki/Bill_Gates\" title=\"Bill Gates\">Bill Gates</a> (COL, 1977; LLD, 2007)</p>\\n</div>\\n</div>\\n</li>\\n<li class=\"gallerybox\" style=\"width: 155px\">\\n<div style=\"width: 155px\">\\n<div class=\"thumb\" style=\"width: 150px;\">\\n<div style=\"margin:15px auto;\"><a href=\"/wiki/File:Ban_Ki-Moon_Davos_2011_Cropped.jpg\" class=\"image\"><img alt=\"\" src=\"//upload.wikimedia.org/wikipedia/commons/thumb/6/62/Ban_Ki-Moon_Davos_2011_Cropped.jpg/108px-Ban_Ki-Moon_Davos_2011_Cropped.jpg\" width=\"108\" height=\"120\" srcset=\"//upload.wikimedia.org/wikipedia/commons/thumb/6/62/Ban_Ki-Moon_Davos_2011_Cropped.jpg/162px-Ban_Ki-Moon_Davos_2011_Cropped.jpg 1.5x, //upload.wikimedia.org/wikipedia/commons/thumb/6/62/Ban_Ki-Moon_Davos_2011_Cropped.jpg/216px-Ban_Ki-Moon_Davos_2011_Cropped.jpg 2x\" data-file-width=\"2442\" data-file-height=\"2707\" /></a></div>\\n</div>\\n<div class=\"gallerytext\">\\n<p>Secretary-General of the United Nations <a href=\"/wiki/Ban_Ki-moon\" title=\"Ban Ki-moon\">Ban Ki-moon</a> (MPA, 1984)</p>\\n</div>\\n</div>\\n</li>\\n<li class=\"gallerybox\" style=\"width: 155px\">\\n<div style=\"width: 155px\">\\n<div class=\"thumb\" style=\"width: 150px;\">\\n<div style=\"margin:15px auto;\"><a href=\"/wiki/File:Michelle_Obama_2013_official_portrait.jpg\" class=\"image\"><img alt=\"\" src=\"//upload.wikimedia.org/wikipedia/commons/thumb/4/4b/Michelle_Obama_2013_official_portrait.jpg/80px-Michelle_Obama_2013_official_portrait.jpg\" width=\"80\" height=\"120\" srcset=\"//upload.wikimedia.org/wikipedia/commons/thumb/4/4b/Michelle_Obama_2013_official_portrait.jpg/119px-Michelle_Obama_2013_official_portrait.jpg 1.5x, //upload.wikimedia.org/wikipedia/commons/thumb/4/4b/Michelle_Obama_2013_official_portrait.jpg/159px-Michelle_Obama_2013_official_portrait.jpg 2x\" data-file-width=\"2722\" data-file-height=\"4096\" /></a></div>\\n</div>\\n<div class=\"gallerytext\">\\n<p>46th First Lady of the United States <a href=\"/wiki/Michelle_Obama\" title=\"Michelle Obama\">Michelle Obama</a> (JD, 1988)</p>\\n</div>\\n</div>\\n</li>\\n<li class=\"gallerybox\" style=\"width: 155px\">\\n<div style=\"width: 155px\">\\n<div class=\"thumb\" style=\"width: 150px;\">\\n<div style=\"margin:15px auto;\"><a href=\"/wiki/File:Official_portrait_of_Barack_Obama.jpg\" class=\"image\"><img alt=\"\" src=\"//upload.wikimedia.org/wikipedia/commons/thumb/e/e9/Official_portrait_of_Barack_Obama.jpg/88px-Official_portrait_of_Barack_Obama.jpg\" width=\"88\" height=\"120\" srcset=\"//upload.wikimedia.org/wikipedia/commons/thumb/e/e9/Official_portrait_of_Barack_Obama.jpg/132px-Official_portrait_of_Barack_Obama.jpg 1.5x, //upload.wikimedia.org/wikipedia/commons/thumb/e/e9/Official_portrait_of_Barack_Obama.jpg/176px-Official_portrait_of_Barack_Obama.jpg 2x\" data-file-width=\"1916\" data-file-height=\"2608\" /></a></div>\\n</div>\\n<div class=\"gallerytext\">\\n<p>44th President of the United States and Nobel Peace Prize laureate <a href=\"/wiki/Barack_Obama\" title=\"Barack Obama\">Barack Obama</a> (JD, 1991)</p>\\n</div>\\n</div>\\n</li>\\n<li class=\"gallerybox\" style=\"width: 155px\">\\n<div style=\"width: 155px\">\\n<div class=\"thumb\" style=\"width: 150px;\">\\n<div style=\"margin:15px auto;\"><a href=\"/wiki/File:Mark_Zuckerberg_at_the_37th_G8_Summit_in_Deauville_018_v1.jpg\" class=\"image\"><img alt=\"\" src=\"//upload.wikimedia.org/wikipedia/commons/thumb/3/31/Mark_Zuckerberg_at_the_37th_G8_Summit_in_Deauville_018_v1.jpg/80px-Mark_Zuckerberg_at_the_37th_G8_Summit_in_Deauville_018_v1.jpg\" width=\"80\" height=\"120\" srcset=\"//upload.wikimedia.org/wikipedia/commons/thumb/3/31/Mark_Zuckerberg_at_the_37th_G8_Summit_in_Deauville_018_v1.jpg/120px-Mark_Zuckerberg_at_the_37th_G8_Summit_in_Deauville_018_v1.jpg 1.5x, //upload.wikimedia.org/wikipedia/commons/thumb/3/31/Mark_Zuckerberg_at_the_37th_G8_Summit_in_Deauville_018_v1.jpg/160px-Mark_Zuckerberg_at_the_37th_G8_Summit_in_Deauville_018_v1.jpg 2x\" data-file-width=\"1610\" data-file-height=\"2415\" /></a></div>\\n</div>\\n<div class=\"gallerytext\">\\n<p>Co-Founder of Facebook <a href=\"/wiki/Mark_Zuckerberg\" title=\"Mark Zuckerberg\">Mark Zuckerberg</a> (COL, 2006)</p>\\n</div>\\n</div>\\n</li>\\n</ul>\\n<h3><span class=\"mw-headline\" id=\"Faculty\">Faculty</span></h3>\\n<p>Harvard\\'s faculty includes scholars such as biologist <a href=\"/wiki/E._O._Wilson\" title=\"E. O. Wilson\">E. O. Wilson</a>, cognitive scientist <a href=\"/wiki/Steven_Pinker\" title=\"Steven Pinker\">Steven Pinker</a>, physicists <a href=\"/wiki/Lisa_Randall\" title=\"Lisa Randall\">Lisa Randall</a> and <a href=\"/wiki/Roy_Glauber\" class=\"mw-redirect\" title=\"Roy Glauber\">Roy Glauber</a>, chemists <a href=\"/wiki/Elias_Corey\" class=\"mw-redirect\" title=\"Elias Corey\">Elias Corey</a>, <a href=\"/wiki/Dudley_R._Herschbach\" title=\"Dudley R. Herschbach\">Dudley R. Herschbach</a> and <a href=\"/wiki/George_M._Whitesides\" title=\"George M. Whitesides\">George M. Whitesides</a>, computer scientists <a href=\"/wiki/Michael_O._Rabin\" title=\"Michael O. Rabin\">Michael O. Rabin</a> and <a href=\"/wiki/Leslie_Valiant\" title=\"Leslie Valiant\">Leslie Valiant</a>, Shakespeare scholar <a href=\"/wiki/Stephen_Greenblatt\" title=\"Stephen Greenblatt\">Stephen Greenblatt</a>, writer <a href=\"/wiki/Louis_Menand\" title=\"Louis Menand\">Louis Menand</a>, critic <a href=\"/wiki/Helen_Vendler\" title=\"Helen Vendler\">Helen Vendler</a>, historians <a href=\"/wiki/Henry_Louis_Gates,_Jr.\" class=\"mw-redirect\" title=\"Henry Louis Gates, Jr.\">Henry Louis Gates, Jr.</a> and <a href=\"/wiki/Niall_Ferguson\" title=\"Niall Ferguson\">Niall Ferguson</a>, economists <a href=\"/wiki/Amartya_Sen\" title=\"Amartya Sen\">Amartya Sen</a>, <a href=\"/wiki/N._Gregory_Mankiw\" class=\"mw-redirect\" title=\"N. Gregory Mankiw\">N. Gregory Mankiw</a>, <a href=\"/wiki/Robert_Barro\" title=\"Robert Barro\">Robert Barro</a>, <a href=\"/wiki/Stephen_A._Marglin\" class=\"mw-redirect\" title=\"Stephen A. Marglin\">Stephen A. Marglin</a>, <a href=\"/wiki/Don_M._Wilson_III\" title=\"Don M. Wilson III\">Don M. Wilson III</a> and <a href=\"/wiki/Martin_Feldstein\" title=\"Martin Feldstein\">Martin Feldstein</a>, political philosophers <a href=\"/wiki/Harvey_Mansfield\" title=\"Harvey Mansfield\">Harvey Mansfield</a>, <a href=\"/wiki/Shirley_Williams\" title=\"Shirley Williams\">Baroness Shirley Williams</a> and <a href=\"/wiki/Michael_Sandel\" class=\"mw-redirect\" title=\"Michael Sandel\">Michael Sandel</a>, Fields Medalist mathematician <a href=\"/wiki/Shing-Tung_Yau\" title=\"Shing-Tung Yau\">Shing-Tung Yau</a>, political scientists <a href=\"/wiki/Robert_Putnam\" class=\"mw-redirect\" title=\"Robert Putnam\">Robert Putnam</a>, <a href=\"/wiki/Joseph_Nye\" title=\"Joseph Nye\">Joseph Nye</a>, and <a href=\"/wiki/Stanley_Hoffmann\" title=\"Stanley Hoffmann\">Stanley Hoffmann</a>, scholar/composers <a href=\"/wiki/Robert_D._Levin\" title=\"Robert D. Levin\">Robert Levin</a> and <a href=\"/wiki/Bernard_Rands\" title=\"Bernard Rands\">Bernard Rands</a>, astrophysicist <a href=\"/wiki/Alyssa_A._Goodman\" title=\"Alyssa A. Goodman\">Alyssa A. Goodman</a>, and legal scholars <a href=\"/wiki/Alan_Dershowitz\" title=\"Alan Dershowitz\">Alan Dershowitz</a> and <a href=\"/wiki/Lawrence_Lessig\" title=\"Lawrence Lessig\">Lawrence Lessig</a>.</p>\\n<p>Past faculty members include <a href=\"/wiki/Michael_Walzer\" title=\"Michael Walzer\">Michael Walzer</a>, <a href=\"/wiki/Stephan_Thernstrom\" title=\"Stephan Thernstrom\">Stephan Thernstrom</a>, <a href=\"/wiki/Robert_Nozick\" title=\"Robert Nozick\">Robert Nozick</a>, and <a href=\"/wiki/Cornel_West\" title=\"Cornel West\">Cornel West</a>.</p>\\n<h2><span class=\"mw-headline\" id=\"Literature_and_popular_culture\">Literature and popular culture</span></h2>\\n<p>The perception of Harvard as a center of either elite achievement, or elitist privilege, has made it a frequent literary and cinematic backdrop. \"In the grammar of film, Harvard has come to mean both tradition, and a certain amount of stuffiness,\" film critic Paul Sherman has said.<sup id=\"cite_ref-thomas_134-0\" class=\"reference\"><a href=\"#cite_note-thomas-134\">[134]</a></sup></p>\\n<h3><span class=\"mw-headline\" id=\"Literature\">Literature</span></h3>\\n<ul>\\n<li><a href=\"/wiki/William_Faulkner\" title=\"William Faulkner\">William Faulkner</a>\\'s <i><a href=\"/wiki/The_Sound_and_the_Fury\" title=\"The Sound and the Fury\">The Sound and the Fury</a></i> (1929) and <i><a href=\"/wiki/Absalom!_Absalom!\" class=\"mw-redirect\" title=\"Absalom! Absalom!\">Absalom! Absalom!</a></i> (1936) depict Harvard student life.<sup class=\"noprint Inline-Template Template-Fact\" style=\"white-space:nowrap;\">[<i><a href=\"/wiki/Wikipedia:Citation_needed\" title=\"Wikipedia:Citation needed\"><span title=\"This claim needs references to reliable sources. (November 2015)\">citation needed</span></a></i>]</sup></li>\\n<li><i>Of Time and the River</i> (1935), <a href=\"/wiki/Thomas_Wolfe\" title=\"Thomas Wolfe\">Thomas Wolfe</a>\\'s fictionalized autobiography, includes his alter ego\\'s student days at Harvard.<sup class=\"noprint Inline-Template Template-Fact\" style=\"white-space:nowrap;\">[<i><a href=\"/wiki/Wikipedia:Citation_needed\" title=\"Wikipedia:Citation needed\"><span title=\"This claim needs references to reliable sources. (November 2015)\">citation needed</span></a></i>]</sup></li>\\n<li><i><a href=\"/wiki/The_Late_George_Apley\" title=\"The Late George Apley\">The Late George Apley</a></i> (1937; winner of the Pulitzer Prize), by <a href=\"/wiki/John_P._Marquand\" title=\"John P. Marquand\">John P. Marquand</a>, parodies Harvard men at the opening of the 20th century.<sup class=\"noprint Inline-Template Template-Fact\" style=\"white-space:nowrap;\">[<i><a href=\"/wiki/Wikipedia:Citation_needed\" title=\"Wikipedia:Citation needed\"><span title=\"This claim needs references to reliable sources. (November 2015)\">citation needed</span></a></i>]</sup></li>\\n<li><i>The Second Happiest Day</i> (1953), by <a href=\"/wiki/John_P._Marquand,_Jr.\" class=\"mw-redirect\" title=\"John P. Marquand, Jr.\">John P. Marquand, Jr.</a>, depicts the Harvard of the World War II generation.<sup id=\"cite_ref-135\" class=\"reference\"><a href=\"#cite_note-135\">[135]</a></sup><sup id=\"cite_ref-136\" class=\"reference\"><a href=\"#cite_note-136\">[136]</a></sup><sup id=\"cite_ref-137\" class=\"reference\"><a href=\"#cite_note-137\">[137]</a></sup><sup id=\"cite_ref-138\" class=\"reference\"><a href=\"#cite_note-138\">[138]</a></sup><sup id=\"cite_ref-139\" class=\"reference\"><a href=\"#cite_note-139\">[139]</a></sup></li>\\n</ul>\\n<h3><span class=\"mw-headline\" id=\"Film\">Film</span></h3>\\n<p>Since 1970 Harvard\\'s policy has been to permit filming on its property only rarely, so most scenes set at Harvard (especially indoor shots, but excepting aerial footage and shots of public areas such as Harvard Square) are in fact shot elsewhere.<sup id=\"cite_ref-140\" class=\"reference\"><a href=\"#cite_note-140\">[140]</a></sup><sup id=\"cite_ref-141\" class=\"reference\"><a href=\"#cite_note-141\">[141]</a></sup></p>\\n<ul>\\n<li><a href=\"/wiki/Erich_Segal\" title=\"Erich Segal\">Erich Segal</a>\\'s <i><a href=\"/wiki/Love_Story_(1970_film)\" title=\"Love Story (1970 film)\">Love Story</a></i> (1970), which concerns a romance between a wealthy hockey player (<a href=\"/wiki/Ryan_O%27Neal\" title=\"Ryan O\\'Neal\">Ryan O\\'Neal</a>) and a brilliant Radcliffe student of modest means (<a href=\"/wiki/Ali_MacGraw\" title=\"Ali MacGraw\">Ali MacGraw</a>), is screened annually for incoming freshmen.<sup id=\"cite_ref-142\" class=\"reference\"><a href=\"#cite_note-142\">[142]</a></sup><sup id=\"cite_ref-143\" class=\"reference\"><a href=\"#cite_note-143\">[143]</a></sup><sup id=\"cite_ref-144\" class=\"reference\"><a href=\"#cite_note-144\">[144]</a></sup></li>\\n<li><i><a href=\"/wiki/The_Paper_Chase_(film)\" title=\"The Paper Chase (film)\">The Paper Chase</a></i> (1973)<sup id=\"cite_ref-145\" class=\"reference\"><a href=\"#cite_note-145\">[145]</a></sup></li>\\n<li><i><a href=\"/wiki/Prozac_Nation_(film)\" title=\"Prozac Nation (film)\">Prozac Nation</a></i> (2001)</li>\\n<li><i><a href=\"/wiki/Legally_Blonde\" title=\"Legally Blonde\">Legally Blonde</a></i> (2001)</li>\\n<li><i><a href=\"/wiki/Stealing_Harvard\" title=\"Stealing Harvard\">Stealing Harvard</a></i> (2002)</li>\\n<li><i><a href=\"/wiki/The_Social_Network\" title=\"The Social Network\">The Social Network</a></i> (2010)</li>\\n</ul>\\n<h2><span class=\"mw-headline\" id=\"See_also\">See also</span></h2>\\n<div role=\"navigation\" aria-label=\"Portals\" class=\"noprint portal plainlist tright\" style=\"margin:0.5em 0 0.5em 1em;border:solid #aaa 1px\">\\n<ul style=\"display:table;box-sizing:border-box;padding:0.1em;max-width:175px;background:#f9f9f9;font-size:85%;line-height:110%;font-style:italic;font-weight:bold\">\\n<li style=\"display:table-row\"><span style=\"display:table-cell;padding:0.2em;vertical-align:middle;text-align:center\"><img alt=\"\" src=\"//upload.wikimedia.org/wikipedia/commons/thumb/0/08/Flag_of_Boston.svg/32px-Flag_of_Boston.svg.png\" width=\"32\" height=\"22\" class=\"noviewer thumbborder\" srcset=\"//upload.wikimedia.org/wikipedia/commons/thumb/0/08/Flag_of_Boston.svg/48px-Flag_of_Boston.svg.png 1.5x, //upload.wikimedia.org/wikipedia/commons/thumb/0/08/Flag_of_Boston.svg/64px-Flag_of_Boston.svg.png 2x\" data-file-width=\"500\" data-file-height=\"350\" /></span><span style=\"display:table-cell;padding:0.2em 0.2em 0.2em 0.3em;vertical-align:middle\"><a href=\"/wiki/Portal:Boston\" title=\"Portal:Boston\">Boston portal</a></span></li>\\n<li style=\"display:table-row\"><span style=\"display:table-cell;padding:0.2em;vertical-align:middle;text-align:center\"><img alt=\"\" src=\"//upload.wikimedia.org/wikipedia/commons/thumb/5/57/Coat_of_arms_of_Massachusetts.svg/21px-Coat_of_arms_of_Massachusetts.svg.png\" width=\"21\" height=\"28\" class=\"noviewer\" srcset=\"//upload.wikimedia.org/wikipedia/commons/thumb/5/57/Coat_of_arms_of_Massachusetts.svg/31px-Coat_of_arms_of_Massachusetts.svg.png 1.5x, //upload.wikimedia.org/wikipedia/commons/thumb/5/57/Coat_of_arms_of_Massachusetts.svg/42px-Coat_of_arms_of_Massachusetts.svg.png 2x\" data-file-width=\"202\" data-file-height=\"270\" /></span><span style=\"display:table-cell;padding:0.2em 0.2em 0.2em 0.3em;vertical-align:middle\"><a href=\"/wiki/Portal:Massachusetts\" title=\"Portal:Massachusetts\">Massachusetts portal</a></span></li>\\n<li style=\"display:table-row\"><span style=\"display:table-cell;padding:0.2em;vertical-align:middle;text-align:center\"><img alt=\"\" src=\"//upload.wikimedia.org/wikipedia/commons/thumb/0/0b/Platopainting.jpg/23px-Platopainting.jpg\" width=\"23\" height=\"28\" class=\"noviewer\" srcset=\"//upload.wikimedia.org/wikipedia/commons/thumb/0/0b/Platopainting.jpg/34px-Platopainting.jpg 1.5x, //upload.wikimedia.org/wikipedia/commons/thumb/0/0b/Platopainting.jpg/46px-Platopainting.jpg 2x\" data-file-width=\"328\" data-file-height=\"400\" /></span><span style=\"display:table-cell;padding:0.2em 0.2em 0.2em 0.3em;vertical-align:middle\"><a href=\"/wiki/Portal:University\" title=\"Portal:University\">University portal</a></span></li>\\n</ul>\\n</div>\\n<div class=\"div-col columns column-width\" style=\"-moz-column-width: 20em; -webkit-column-width: 20em; column-width: 20em;\">\\n<ul>\\n<li><a href=\"/wiki/2012_Harvard_cheating_scandal\" title=\"2012 Harvard cheating scandal\">2012 Harvard cheating scandal</a></li>\\n<li><a href=\"/wiki/Academic_regalia_of_Harvard_University\" title=\"Academic regalia of Harvard University\">Academic regalia of Harvard University</a></li>\\n<li><a href=\"/wiki/Gore_Hall\" class=\"mw-redirect\" title=\"Gore Hall\">Gore Hall</a></li>\\n<li><a href=\"/wiki/Harvard_College\" title=\"Harvard College\">Harvard College</a></li>\\n<li><a href=\"/wiki/Harvard_University_Police_Department\" title=\"Harvard University Police Department\">Harvard University Police Department</a></li>\\n<li><a href=\"/wiki/Harvard_University_Press\" title=\"Harvard University Press\">Harvard University Press</a></li>\\n<li><a href=\"/wiki/Harvard/MIT_Cooperative_Society\" title=\"Harvard/MIT Cooperative Society\">Harvard/MIT Cooperative Society</a>, campus bookstore</li>\\n<li><a href=\"/wiki/I,_Too,_Am_Harvard\" title=\"I, Too, Am Harvard\">I, Too, Am Harvard</a></li>\\n<li><a href=\"/wiki/List_of_universities_by_number_of_billionaire_alumni\" title=\"List of universities by number of billionaire alumni\">List of universities by number of billionaire alumni</a></li>\\n<li><a href=\"/wiki/Outline_of_Harvard_University\" title=\"Outline of Harvard University\">Outline of Harvard University</a></li>\\n<li><a href=\"/wiki/Secret_Court_of_1920\" title=\"Secret Court of 1920\">Secret Court of 1920</a></li>\\n</ul>\\n</div>\\n<h2><span class=\"mw-headline\" id=\"References\">References</span></h2>\\n<h3><span class=\"mw-headline\" id=\"Citations\">Citations</span></h3>\\n<div class=\"reflist columns references-column-width\" style=\"-moz-column-width: 30em; -webkit-column-width: 30em; column-width: 30em; list-style-type: decimal;\">\\n<ol class=\"references\">\\n<li id=\"cite_note-1\"><span class=\"mw-cite-backlink\"><b><a href=\"#cite_ref-1\">^</a></b></span> <span class=\"reference-text\">Harvard\\'s <i>Veritas</i> appears on the university\\'s arms; <a href=\"/wiki/Heraldry\" title=\"Heraldry\">heraldically</a> speaking, however, a \\'motto\\' is a word or phrase displayed on a scroll in conjunction with a shield of arms. <a rel=\"nofollow\" class=\"external text\" href=\"https://books.google.com/books?id=zkQWZaZqZfUC&amp;pg=PA330&amp;lpg=PA330#v=onepage&amp;q&amp;f=false\">Since 1692</a> University <a href=\"/wiki/Seal_(emblem)\" title=\"Seal (emblem)\">seals</a> have borne <i>Christo et Ecclesiae</i> (for Christ and the Church) in this manner, arguably making that phrase the university\\'s motto in a heraldic sense. This legend is otherwise not in general use today.</span></li>\\n<li id=\"cite_note-founding-2\"><span class=\"mw-cite-backlink\"><b><a href=\"#cite_ref-founding_2-0\">^</a></b></span> <span class=\"reference-text\">An appropriation of \\xa3400 toward a \"school or college\" was voted on October 28, 1636 (OS), at a meeting which convened on September 8 and was adjourned to October 28. Some sources consider October 28, 1636 (OS) (November 7, 1636 NS) to be the date of founding. Harvard\\'s 1936 tercentenary celebration treated September 18 as the founding date, though 1836 bicentennial was celebrated on September 8, 1836. Sources: meeting dates, <cite class=\"citation book\">Quincy, Josiah (1860). <i>History of Harvard University</i>. 117 Washington Street, Boston: Crosby, Nichols, Lee and Co.</cite><span title=\"ctx_ver=Z39.88-2004&amp;rfr_id=info%3Asid%2Fen.wikipedia.org%3AHarvard+University&amp;rft.aufirst=Josiah&amp;rft.aulast=Quincy&amp;rft.btitle=History+of+Harvard+University&amp;rft.date=1860&amp;rft.genre=book&amp;rft.place=117+Washington+Street%2C+Boston&amp;rft.pub=Crosby%2C+Nichols%2C+Lee+and+Co.&amp;rft_val_fmt=info%3Aofi%2Ffmt%3Akev%3Amtx%3Abook\" class=\"Z3988\"><span style=\"display:none;\">&#160;</span></span>, <a rel=\"nofollow\" class=\"external text\" href=\"https://books.google.com/books?vid=OCLC11636583&amp;id=KynqxH_4lGUC&amp;pg=RA1-PA586&amp;lpg=RA1-PA586\">p. 586</a>, \"At a Court holden September 8th, 1636 and continued by adjournment to the 28th of the 8th month (October, 1636)... the Court agreed to give \\xa3400 towards a School or College, whereof \\xa3200 to be paid next year....\" Tercentenary dates: <cite class=\"citation news\"><a rel=\"nofollow\" class=\"external text\" href=\"http://www.time.com/time/magazine/printout/0,8816,756722,00.html\">\"Cambridge Birthday\"</a>. <i>Time</i>. September 28, 1936<span class=\"reference-accessdate\">. Retrieved <span class=\"nowrap\">September 8,</span> 2006</span>.</cite><span title=\"ctx_ver=Z39.88-2004&amp;rfr_id=info%3Asid%2Fen.wikipedia.org%3AHarvard+University&amp;rft.atitle=Cambridge+Birthday&amp;rft.date=1936-09-28&amp;rft.genre=article&amp;rft_id=http%3A%2F%2Fwww.time.com%2Ftime%2Fmagazine%2Fprintout%2F0%2C8816%2C756722%2C00.html&amp;rft.jtitle=Time&amp;rft_val_fmt=info%3Aofi%2Ffmt%3Akev%3Amtx%3Ajournal\" class=\"Z3988\"><span style=\"display:none;\">&#160;</span></span>: \"Harvard claims birth on the day the Massachusetts Great and General Court convened to authorize its founding. This was Sept. 8, 1637 under the Julian calendar. Allowing for the ten-day advance of the Gregorian calendar, Tercentenary officials arrived at Sept. 18 as the date for the third and last big Day of the celebration;\" \"on Oct. 28, 1636 ... \\xa3400 for that \\'school or college\\' [was voted by] the Great and General Court of the <a href=\"/wiki/Massachusetts_Bay_Colony\" title=\"Massachusetts Bay Colony\">Massachusetts Bay Colony</a>.\" Bicentennial date: <cite class=\"citation web\">Marvin Hightower (September 2, 2003). <a rel=\"nofollow\" class=\"external text\" href=\"http://www.news.harvard.edu/gazette/2003/10.02/02-history.html\">\"Harvard Gazette: This Month in Harvard History\"</a>. Harvard University<span class=\"reference-accessdate\">. Retrieved <span class=\"nowrap\">September 15,</span> 2006</span>.</cite><span title=\"ctx_ver=Z39.88-2004&amp;rfr_id=info%3Asid%2Fen.wikipedia.org%3AHarvard+University&amp;rft.au=Marvin+Hightower&amp;rft.btitle=Harvard+Gazette%3A+This+Month+in+Harvard+History&amp;rft.date=2003-09-02&amp;rft.genre=unknown&amp;rft_id=http%3A%2F%2Fwww.news.harvard.edu%2Fgazette%2F2003%2F10.02%2F02-history.html&amp;rft.pub=Harvard+University&amp;rft_val_fmt=info%3Aofi%2Ffmt%3Akev%3Amtx%3Abook\" class=\"Z3988\"><span style=\"display:none;\">&#160;</span></span>, \"Sept. 8, 1836 - Some 1,100 to 1,300 alumni flock to Harvard\\'s Bicentennial, at which a professional choir premieres \"Fair Harvard.\" ... guest speaker Josiah Quincy Jr., Class of 1821, makes a motion, unanimously adopted, \\'that this assembly of the Alumni be adjourned to meet at this place on September 8, 1936.\\'\" Tercentary opening of Quincy\\'s sealed package: <i>The New York Times,</i> September 9, 1936, p. 24, \"Package Sealed in 1836 Opened at Harvard. It Held Letters Written at Bicentenary\": \"September 8th, 1936: As the first formal function in the celebration of Harvard\\'s tercentenary, the Harvard Alumni Association witnessed the opening by President Conant of the \\'mysterious\\' package sealed by President Josiah Quincy at the Harvard bicentennial in 1836.\"</span></li>\\n<li id=\"cite_note-HarvardGlance-3\"><span class=\"mw-cite-backlink\">^ <a href=\"#cite_ref-HarvardGlance_3-0\"><sup><i><b>a</b></i></sup></a> <a href=\"#cite_ref-HarvardGlance_3-1\"><sup><i><b>b</b></i></sup></a> <a href=\"#cite_ref-HarvardGlance_3-2\"><sup><i><b>c</b></i></sup></a></span> <span class=\"reference-text\"><cite class=\"citation web\"><a rel=\"nofollow\" class=\"external text\" href=\"http://www.harvard.edu/about-harvard/harvard-glance\">\"Harvard at a Glance\"</a>. Harvard University<span class=\"reference-accessdate\">. Retrieved <span class=\"nowrap\">November 2,</span> 2015</span>.</cite><span title=\"ctx_ver=Z39.88-2004&amp;rfr_id=info%3Asid%2Fen.wikipedia.org%3AHarvard+University&amp;rft.btitle=Harvard+at+a+Glance&amp;rft.genre=unknown&amp;rft_id=http%3A%2F%2Fwww.harvard.edu%2Fabout-harvard%2Fharvard-glance&amp;rft.pub=Harvard+University&amp;rft_val_fmt=info%3Aofi%2Ffmt%3Akev%3Amtx%3Abook\" class=\"Z3988\"><span style=\"display:none;\">&#160;</span></span></span></li>\\n<li id=\"cite_note-4\"><span class=\"mw-cite-backlink\"><b><a href=\"#cite_ref-4\">^</a></b></span> <span class=\"reference-text\"><cite class=\"citation book\">Office of Institutional Research. (2009). \"Faculty\". <a rel=\"nofollow\" class=\"external text\" href=\"http://www.provost.harvard.edu/institutional_research/Provost_-_09_18-19facuni.pdf\"><i>Harvard University Fact Book</i></a> <span style=\"font-size:85%;\">(PDF)</span>.</cite><span title=\"ctx_ver=Z39.88-2004&amp;rfr_id=info%3Asid%2Fen.wikipedia.org%3AHarvard+University&amp;rft.atitle=Faculty&amp;rft.au=Office+of+Institutional+Research.&amp;rft.btitle=Harvard+University+Fact+Book&amp;rft.date=2009&amp;rft.genre=bookitem&amp;rft_id=http%3A%2F%2Fwww.provost.harvard.edu%2Finstitutional_research%2FProvost_-_09_18-19facuni.pdf&amp;rft_val_fmt=info%3Aofi%2Ffmt%3Akev%3Amtx%3Abook\" class=\"Z3988\"><span style=\"display:none;\">&#160;</span></span> (\"Unduplicated, Paid Instructional Faculty Count: 2,107. Unduplicated instructional faculty count is the most appropriate count for general reporting purposes.\")</span></li>\\n<li id=\"cite_note-Harvard_at_a_Glance-5\"><span class=\"mw-cite-backlink\">^ <a href=\"#cite_ref-Harvard_at_a_Glance_5-0\"><sup><i><b>a</b></i></sup></a> <a href=\"#cite_ref-Harvard_at_a_Glance_5-1\"><sup><i><b>b</b></i></sup></a> <a href=\"#cite_ref-Harvard_at_a_Glance_5-2\"><sup><i><b>c</b></i></sup></a></span> <span class=\"reference-text\">As of 1 September 2014<sup class=\"plainlinks noprint asof-tag update\" style=\"display:none;\"><a class=\"external text\" href=\"//en.wikipedia.org/w/index.php?title=Harvard_University&amp;action=edit\">[update]</a></sup>. <cite class=\"citation web\"><a rel=\"nofollow\" class=\"external text\" href=\"http://www.harvard.edu/harvard-glance\">\"Harvard at a Glance\"</a>. <i>Harvard University</i><span class=\"reference-accessdate\">. Retrieved <span class=\"nowrap\">November 27,</span> 2014</span>.</cite><span title=\"ctx_ver=Z39.88-2004&amp;rfr_id=info%3Asid%2Fen.wikipedia.org%3AHarvard+University&amp;rft.atitle=Harvard+at+a+Glance&amp;rft.genre=unknown&amp;rft_id=http%3A%2F%2Fwww.harvard.edu%2Fharvard-glance&amp;rft.jtitle=Harvard+University&amp;rft_val_fmt=info%3Aofi%2Ffmt%3Akev%3Amtx%3Ajournal\" class=\"Z3988\"><span style=\"display:none;\">&#160;</span></span></span></li>\\n<li id=\"cite_note-6\"><span class=\"mw-cite-backlink\"><b><a href=\"#cite_ref-6\">^</a></b></span> <span class=\"reference-text\"><cite class=\"citation book\">Keller, Morton; Keller, Phyllis (2001). <i>Making Harvard Modern: The Rise of America\\'s University</i>. Oxford University Press. pp.&#160;463\\u2013481. <a href=\"/wiki/International_Standard_Book_Number\" title=\"International Standard Book Number\">ISBN</a>&#160;<a href=\"/wiki/Special:BookSources/0-19-514457-0\" title=\"Special:BookSources/0-19-514457-0\">0-19-514457-0</a>. <q>Harvard\\'s professional schools... won world prestige of a sort rarely seen among social institutions. (...) Harvard\\'s age, wealth, quality, and prestige may well shield it from any conceivable vicissitudes.</q></cite><span title=\"ctx_ver=Z39.88-2004&amp;rfr_id=info%3Asid%2Fen.wikipedia.org%3AHarvard+University&amp;rft.aufirst=Morton&amp;rft.au=Keller%2C+Phyllis&amp;rft.aulast=Keller&amp;rft.btitle=Making+Harvard+Modern%3A+The+Rise+of+America%27s+University&amp;rft.date=2001&amp;rft.genre=book&amp;rft.isbn=0-19-514457-0&amp;rft.pages=463-481&amp;rft.pub=Oxford+University+Press&amp;rft_val_fmt=info%3Aofi%2Ffmt%3Akev%3Amtx%3Abook\" class=\"Z3988\"><span style=\"display:none;\">&#160;</span></span></span></li>\\n<li id=\"cite_note-7\"><span class=\"mw-cite-backlink\"><b><a href=\"#cite_ref-7\">^</a></b></span> <span class=\"reference-text\"><cite class=\"citation book\">Spaulding, Christina (1989). \"Sexual Shakedown\". In Trumpbour, John. <i>How Harvard Rules: Reason in the Service of Empire</i>. South End Press. pp.&#160;326\\u2013336. <a href=\"/wiki/International_Standard_Book_Number\" title=\"International Standard Book Number\">ISBN</a>&#160;<a href=\"/wiki/Special:BookSources/0-89608-284-9\" title=\"Special:BookSources/0-89608-284-9\">0-89608-284-9</a>. <q>... [Harvard\\'s] tremendous institutional power and prestige (...) Within the nation\\'s (arguably) most prestigious institution of higher learning ...</q></cite><span title=\"ctx_ver=Z39.88-2004&amp;rfr_id=info%3Asid%2Fen.wikipedia.org%3AHarvard+University&amp;rft.atitle=Sexual+Shakedown&amp;rft.aufirst=Christina&amp;rft.aulast=Spaulding&amp;rft.btitle=How+Harvard+Rules%3A+Reason+in+the+Service+of+Empire&amp;rft.date=1989&amp;rft.genre=bookitem&amp;rft.isbn=0-89608-284-9&amp;rft.pages=326-336&amp;rft.pub=South+End+Press&amp;rft_val_fmt=info%3Aofi%2Ffmt%3Akev%3Amtx%3Abook\" class=\"Z3988\"><span style=\"display:none;\">&#160;</span></span></span></li>\\n<li id=\"cite_note-:0-8\"><span class=\"mw-cite-backlink\"><b><a href=\"#cite_ref-:0_8-0\">^</a></b></span> <span class=\"reference-text\"><cite class=\"citation web\">David Altaner (March 9, 2011). <a rel=\"nofollow\" class=\"external text\" href=\"http://www.bloomberg.com/news/2011-03-10/harvard-mit-ranked-most-prestigious-universities-study-reports.html\">\"Harvard, MIT Ranked Most Prestigious Universities, Study Reports\"</a>. Bloomberg<span class=\"reference-accessdate\">. Retrieved <span class=\"nowrap\">March 1,</span> 2012</span>.</cite><span title=\"ctx_ver=Z39.88-2004&amp;rfr_id=info%3Asid%2Fen.wikipedia.org%3AHarvard+University&amp;rft.au=David+Altaner&amp;rft.btitle=Harvard%2C+MIT+Ranked+Most+Prestigious+Universities%2C+Study+Reports&amp;rft.date=2011-03-09&amp;rft.genre=unknown&amp;rft_id=http%3A%2F%2Fwww.bloomberg.com%2Fnews%2F2011-03-10%2Fharvard-mit-ranked-most-prestigious-universities-study-reports.html&amp;rft.pub=Bloomberg&amp;rft_val_fmt=info%3Aofi%2Ffmt%3Akev%3Amtx%3Abook\" class=\"Z3988\"><span style=\"display:none;\">&#160;</span></span></span></li>\\n<li id=\"cite_note-9\"><span class=\"mw-cite-backlink\"><b><a href=\"#cite_ref-9\">^</a></b></span> <span class=\"reference-text\"><cite class=\"citation book\"><i>Collier\\'s Encyclopedia</i>. Macmillan Educational Co. 1986. <q>Harvard University, one of the world\\'s most prestigious institutions of higher learning, was founded in Massachusetts in 1636.</q></cite><span title=\"ctx_ver=Z39.88-2004&amp;rfr_id=info%3Asid%2Fen.wikipedia.org%3AHarvard+University&amp;rft.btitle=Collier%27s+Encyclopedia&amp;rft.date=1986&amp;rft.genre=book&amp;rft.pub=Macmillan+Educational+Co.&amp;rft_val_fmt=info%3Aofi%2Ffmt%3Akev%3Amtx%3Abook\" class=\"Z3988\"><span style=\"display:none;\">&#160;</span></span></span></li>\\n<li id=\"cite_note-10\"><span class=\"mw-cite-backlink\"><b><a href=\"#cite_ref-10\">^</a></b></span> <span class=\"reference-text\"><cite class=\"citation web\">Newport, Frank. <a rel=\"nofollow\" class=\"external text\" href=\"http://www.gallup.com/poll/9109/harvard-number-one-university-eyes-public.aspx\">\"Harvard Number One University in Eyes of Public Stanford and Yale in second place\"</a>. Gallup.</cite><span title=\"ctx_ver=Z39.88-2004&amp;rfr_id=info%3Asid%2Fen.wikipedia.org%3AHarvard+University&amp;rft.aufirst=Frank&amp;rft.aulast=Newport&amp;rft.btitle=Harvard+Number+One+University+in+Eyes+of+Public+Stanford+and+Yale+in+second+place&amp;rft.genre=unknown&amp;rft_id=http%3A%2F%2Fwww.gallup.com%2Fpoll%2F9109%2Fharvard-number-one-university-eyes-public.aspx&amp;rft.pub=Gallup&amp;rft_val_fmt=info%3Aofi%2Ffmt%3Akev%3Amtx%3Abook\" class=\"Z3988\"><span style=\"display:none;\">&#160;</span></span></span></li>\\n<li id=\"cite_note-11\"><span class=\"mw-cite-backlink\"><b><a href=\"#cite_ref-11\">^</a></b></span> <span class=\"reference-text\"><cite class=\"citation web\"><a rel=\"nofollow\" class=\"external text\" href=\"http://www.shanghairanking.com/World-University-Rankings/Harvard-University.html\">\"ARWU - Harvard University\"</a>. Shanghai Ranking Consultancy. 2015<span class=\"reference-accessdate\">. Retrieved <span class=\"nowrap\">September 3,</span> 2015</span>.</cite><span title=\"ctx_ver=Z39.88-2004&amp;rfr_id=info%3Asid%2Fen.wikipedia.org%3AHarvard+University&amp;rft.btitle=ARWU+-+Harvard+University&amp;rft.date=2015&amp;rft.genre=unknown&amp;rft_id=http%3A%2F%2Fwww.shanghairanking.com%2FWorld-University-Rankings%2FHarvard-University.html&amp;rft.pub=Shanghai+Ranking+Consultancy&amp;rft_val_fmt=info%3Aofi%2Ffmt%3Akev%3Amtx%3Abook\" class=\"Z3988\"><span style=\"display:none;\">&#160;</span></span></span></li>\\n<li id=\"cite_note-12\"><span class=\"mw-cite-backlink\"><b><a href=\"#cite_ref-12\">^</a></b></span> <span class=\"reference-text\"><cite class=\"citation news\">\"The Week in Review: Harvard Ends Early Admissions and Guess Who Wins\". <i>The New York Times</i>. September 17, 2006. <q>The most prestigious college in the world, of course, is Harvard, and the gap between it and every other university is often underestimated.</q></cite><span title=\"ctx_ver=Z39.88-2004&amp;rfr_id=info%3Asid%2Fen.wikipedia.org%3AHarvard+University&amp;rft.atitle=The+Week+in+Review%3A+Harvard+Ends+Early+Admissions+and+Guess+Who+Wins&amp;rft.date=2006-09-17&amp;rft.genre=article&amp;rft.jtitle=The+New+York+Times&amp;rft_val_fmt=info%3Aofi%2Ffmt%3Akev%3Amtx%3Ajournal\" class=\"Z3988\"><span style=\"display:none;\">&#160;</span></span></span></li>\\n<li id=\"cite_note-13\"><span class=\"mw-cite-backlink\"><b><a href=\"#cite_ref-13\">^</a></b></span> <span class=\"reference-text\"><cite class=\"citation book\">Rudolph, Frederick (1961). <i>The American College and University</i>. University of Georgia Press. p.&#160;3. <a href=\"/wiki/International_Standard_Book_Number\" title=\"International Standard Book Number\">ISBN</a>&#160;<a href=\"/wiki/Special:BookSources/0-8203-1285-1\" title=\"Special:BookSources/0-8203-1285-1\">0-8203-1285-1</a>.</cite><span title=\"ctx_ver=Z39.88-2004&amp;rfr_id=info%3Asid%2Fen.wikipedia.org%3AHarvard+University&amp;rft.aufirst=Frederick&amp;rft.aulast=Rudolph&amp;rft.btitle=The+American+College+and+University&amp;rft.date=1961&amp;rft.genre=book&amp;rft.isbn=0-8203-1285-1&amp;rft.pages=3&amp;rft.pub=University+of+Georgia+Press&amp;rft_val_fmt=info%3Aofi%2Ffmt%3Akev%3Amtx%3Abook\" class=\"Z3988\"><span style=\"display:none;\">&#160;</span></span></span></li>\\n<li id=\"cite_note-14\"><span class=\"mw-cite-backlink\"><b><a href=\"#cite_ref-14\">^</a></b></span> <span class=\"reference-text\"><cite class=\"citation journal\">Story, Ronald (1975). \"Harvard and the Boston Brahmins: A Study in Institutional and Class Development, 1800\\u20131865\". <i>Journal of Social History</i>. <b>8</b> (3): 94\\u2013121. <a href=\"/wiki/Digital_object_identifier\" title=\"Digital object identifier\">doi</a>:<a rel=\"nofollow\" class=\"external text\" href=\"//dx.doi.org/10.1353%2Fjsh%2F8.3.94\">10.1353/jsh/8.3.94</a>.</cite><span title=\"ctx_ver=Z39.88-2004&amp;rfr_id=info%3Asid%2Fen.wikipedia.org%3AHarvard+University&amp;rft.atitle=Harvard+and+the+Boston+Brahmins%3A+A+Study+in+Institutional+and+Class+Development%2C+1800%931865&amp;rft.aufirst=Ronald&amp;rft.aulast=Story&amp;rft.date=1975&amp;rft.genre=article&amp;rft_id=info%3Adoi%2F10.1353%2Fjsh%2F8.3.94&amp;rft.issue=3&amp;rft.jtitle=Journal+of+Social+History&amp;rft.pages=94-121&amp;rft_val_fmt=info%3Aofi%2Ffmt%3Akev%3Amtx%3Ajournal&amp;rft.volume=8\" class=\"Z3988\"><span style=\"display:none;\">&#160;</span></span></span></li>\\n<li id=\"cite_note-15\"><span class=\"mw-cite-backlink\"><b><a href=\"#cite_ref-15\">^</a></b></span> <span class=\"reference-text\"><cite class=\"citation book\">Farrell, Betty G. (1993). <i>Elite Families: Class and Power in Nineteenth-Century Boston</i>. State University of New York Press. <a href=\"/wiki/International_Standard_Book_Number\" title=\"International Standard Book Number\">ISBN</a>&#160;<a href=\"/wiki/Special:BookSources/0-7914-1593-7\" title=\"Special:BookSources/0-7914-1593-7\">0-7914-1593-7</a>.</cite><span title=\"ctx_ver=Z39.88-2004&amp;rfr_id=info%3Asid%2Fen.wikipedia.org%3AHarvard+University&amp;rft.aufirst=Betty+G.&amp;rft.aulast=Farrell&amp;rft.btitle=Elite+Families%3A+Class+and+Power+in+Nineteenth-Century+Boston&amp;rft.date=1993&amp;rft.genre=book&amp;rft.isbn=0-7914-1593-7&amp;rft.pub=State+University+of+New+York+Press&amp;rft_val_fmt=info%3Aofi%2Ffmt%3Akev%3Amtx%3Abook\" class=\"Z3988\"><span style=\"display:none;\">&#160;</span></span></span></li>\\n<li id=\"cite_note-AAU-16\"><span class=\"mw-cite-backlink\">^ <a href=\"#cite_ref-AAU_16-0\"><sup><i><b>a</b></i></sup></a> <a href=\"#cite_ref-AAU_16-1\"><sup><i><b>b</b></i></sup></a></span> <span class=\"reference-text\"><cite class=\"citation web\"><a rel=\"nofollow\" class=\"external text\" href=\"http://www.aau.edu/about/article.aspx?id=5476\">\"Member Institutions and years of Admission\"</a>. Association of American Universities<span class=\"reference-accessdate\">. Retrieved <span class=\"nowrap\">August 28,</span> 2010</span>.</cite><span title=\"ctx_ver=Z39.88-2004&amp;rfr_id=info%3Asid%2Fen.wikipedia.org%3AHarvard+University&amp;rft.btitle=Member+Institutions+and+years+of+Admission&amp;rft.genre=unknown&amp;rft_id=http%3A%2F%2Fwww.aau.edu%2Fabout%2Farticle.aspx%3Fid%3D5476&amp;rft.pub=Association+of+American+Universities&amp;rft_val_fmt=info%3Aofi%2Ffmt%3Akev%3Amtx%3Abook\" class=\"Z3988\"><span style=\"display:none;\">&#160;</span></span></span></li>\\n<li id=\"cite_note-17\"><span class=\"mw-cite-backlink\"><b><a href=\"#cite_ref-17\">^</a></b></span> <span class=\"reference-text\"><cite class=\"citation web\"><a rel=\"nofollow\" class=\"external text\" href=\"http://www.provost.harvard.edu/institutional_research/09_03OrgChtFac.pdf\">\"Faculties and Allied Institutions\"</a> <span style=\"font-size:85%;\">(PDF)</span>. Office of the Provost, Harvard University<span class=\"reference-accessdate\">. Retrieved <span class=\"nowrap\">August 27,</span> 2010</span>.</cite><span title=\"ctx_ver=Z39.88-2004&amp;rfr_id=info%3Asid%2Fen.wikipedia.org%3AHarvard+University&amp;rft.btitle=Faculties+and+Allied+Institutions&amp;rft.genre=unknown&amp;rft_id=http%3A%2F%2Fwww.provost.harvard.edu%2Finstitutional_research%2F09_03OrgChtFac.pdf&amp;rft.pub=Office+of+the+Provost%2C+Harvard+University&amp;rft_val_fmt=info%3Aofi%2Ffmt%3Akev%3Amtx%3Abook\" class=\"Z3988\"><span style=\"display:none;\">&#160;</span></span></span></li>\\n<li id=\"cite_note-Campus-18\"><span class=\"mw-cite-backlink\">^ <a href=\"#cite_ref-Campus_18-0\"><sup><i><b>a</b></i></sup></a> <a href=\"#cite_ref-Campus_18-1\"><sup><i><b>b</b></i></sup></a></span> <span class=\"reference-text\"><cite class=\"citation web\"><a rel=\"nofollow\" class=\"external text\" href=\"http://www.provost.harvard.edu/institutional_research/harvard_fact_book_2012_physical_plant.pdf\">\"Faculties and Allied Institutions\"</a> <span style=\"font-size:85%;\">(PDF)</span>. Office of the Provost, Harvard University. 2012<span class=\"reference-accessdate\">. Retrieved <span class=\"nowrap\">June 15,</span> 2013</span>.</cite><span title=\"ctx_ver=Z39.88-2004&amp;rfr_id=info%3Asid%2Fen.wikipedia.org%3AHarvard+University&amp;rft.btitle=Faculties+and+Allied+Institutions&amp;rft.date=2012&amp;rft.genre=unknown&amp;rft_id=http%3A%2F%2Fwww.provost.harvard.edu%2Finstitutional_research%2Fharvard_fact_book_2012_physical_plant.pdf&amp;rft.pub=Office+of+the+Provost%2C+Harvard+University&amp;rft_val_fmt=info%3Aofi%2Ffmt%3Akev%3Amtx%3Abook\" class=\"Z3988\"><span style=\"display:none;\">&#160;</span></span></span></li>\\n<li id=\"cite_note-Carnegie-19\"><span class=\"mw-cite-backlink\">^ <a href=\"#cite_ref-Carnegie_19-0\"><sup><i><b>a</b></i></sup></a> <a href=\"#cite_ref-Carnegie_19-1\"><sup><i><b>b</b></i></sup></a> <a href=\"#cite_ref-Carnegie_19-2\"><sup><i><b>c</b></i></sup></a> <a href=\"#cite_ref-Carnegie_19-3\"><sup><i><b>d</b></i></sup></a> <a href=\"#cite_ref-Carnegie_19-4\"><sup><i><b>e</b></i></sup></a> <a href=\"#cite_ref-Carnegie_19-5\"><sup><i><b>f</b></i></sup></a></span> <span class=\"reference-text\"><cite class=\"citation web\"><a rel=\"nofollow\" class=\"external text\" href=\"http://classifications.carnegiefoundation.org/lookup_listings/view_institution.php?unit_id=166027\">\"Carnegie Classifications - Harvard University\"</a>. The Carnegie Foundation for the Advancement of Teaching<span class=\"reference-accessdate\">. Retrieved <span class=\"nowrap\">August 28,</span> 2010</span>.</cite><span title=\"ctx_ver=Z39.88-2004&amp;rfr_id=info%3Asid%2Fen.wikipedia.org%3AHarvard+University&amp;rft.btitle=Carnegie+Classifications+-+Harvard+University&amp;rft.genre=unknown&amp;rft_id=http%3A%2F%2Fclassifications.carnegiefoundation.org%2Flookup_listings%2Fview_institution.php%3Funit_id%3D166027&amp;rft.pub=The+Carnegie+Foundation+for+the+Advancement+of+Teaching&amp;rft_val_fmt=info%3Aofi%2Ffmt%3Akev%3Amtx%3Abook\" class=\"Z3988\"><span style=\"display:none;\">&#160;</span></span></span></li>\\n<li id=\"cite_note-fa-20\"><span class=\"mw-cite-backlink\">^ <a href=\"#cite_ref-fa_20-0\"><sup><i><b>a</b></i></sup></a> <a href=\"#cite_ref-fa_20-1\"><sup><i><b>b</b></i></sup></a></span> <span class=\"reference-text\"><cite class=\"citation news\">Rimer, Sara; Finder, Alan (December 10, 2007). <a rel=\"nofollow\" class=\"external text\" href=\"http://www.nytimes.com/2007/12/10/education/10cnd-harvard.html\">\"Harvard Steps Up Financial Aid\"</a>. <i>The New York Times</i>.</cite><span title=\"ctx_ver=Z39.88-2004&amp;rfr_id=info%3Asid%2Fen.wikipedia.org%3AHarvard+University&amp;rft.atitle=Harvard+Steps+Up+Financial+Aid&amp;rft.au=Finder%2C+Alan&amp;rft.aufirst=Sara&amp;rft.aulast=Rimer&amp;rft.date=2007-12-10&amp;rft.genre=article&amp;rft_id=http%3A%2F%2Fwww.nytimes.com%2F2007%2F12%2F10%2Feducation%2F10cnd-harvard.html&amp;rft.jtitle=The+New+York+Times&amp;rft_val_fmt=info%3Aofi%2Ffmt%3Akev%3Amtx%3Ajournal\" class=\"Z3988\"><span style=\"display:none;\">&#160;</span></span></span></li>\\n<li id=\"cite_note-hlar-21\"><span class=\"mw-cite-backlink\">^ <a href=\"#cite_ref-hlar_21-0\"><sup><i><b>a</b></i></sup></a> <a href=\"#cite_ref-hlar_21-1\"><sup><i><b>b</b></i></sup></a></span> <span class=\"reference-text\"><cite class=\"citation web\"><a rel=\"nofollow\" class=\"external text\" href=\"http://library.harvard.edu/annual-report-fy-2013\">\"Harvard Library Annual Report FY 2013\"</a>. Harvard University Library. 2013<span class=\"reference-accessdate\">. Retrieved <span class=\"nowrap\">January 3,</span> 2015</span>.</cite><span title=\"ctx_ver=Z39.88-2004&amp;rfr_id=info%3Asid%2Fen.wikipedia.org%3AHarvard+University&amp;rft.btitle=Harvard+Library+Annual+Report+FY+2013&amp;rft.date=2013&amp;rft.genre=unknown&amp;rft_id=http%3A%2F%2Flibrary.harvard.edu%2Fannual-report-fy-2013&amp;rft.pub=Harvard+University+Library&amp;rft_val_fmt=info%3Aofi%2Ffmt%3Akev%3Amtx%3Abook\" class=\"Z3988\"><span style=\"display:none;\">&#160;</span></span></span></li>\\n<li id=\"cite_note-largestlibs-22\"><span class=\"mw-cite-backlink\">^ <a href=\"#cite_ref-largestlibs_22-0\"><sup><i><b>a</b></i></sup></a> <a href=\"#cite_ref-largestlibs_22-1\"><sup><i><b>b</b></i></sup></a> <a href=\"#cite_ref-largestlibs_22-2\"><sup><i><b>c</b></i></sup></a></span> <span class=\"reference-text\"><cite class=\"citation web\"><a rel=\"nofollow\" class=\"external text\" href=\"http://www.ala.org/ala/professionalresources/libfactsheets/alalibraryfactsheet22.cfm\">\"The Nation\\'s Largest Libraries: A Listing By Volumes Held\"</a>. American Library Association. May 2009<span class=\"reference-accessdate\">. Retrieved <span class=\"nowrap\">August 19,</span> 2009</span>.</cite><span title=\"ctx_ver=Z39.88-2004&amp;rfr_id=info%3Asid%2Fen.wikipedia.org%3AHarvard+University&amp;rft.btitle=The+Nation%27s+Largest+Libraries%3A+A+Listing+By+Volumes+Held&amp;rft.date=2009-05&amp;rft.genre=unknown&amp;rft_id=http%3A%2F%2Fwww.ala.org%2Fala%2Fprofessionalresources%2Flibfactsheets%2Falalibraryfactsheet22.cfm&amp;rft.pub=American+Library+Association&amp;rft_val_fmt=info%3Aofi%2Ffmt%3Akev%3Amtx%3Abook\" class=\"Z3988\"><span style=\"display:none;\">&#160;</span></span></span></li>\\n<li id=\"cite_note-speaking-23\"><span class=\"mw-cite-backlink\"><b><a href=\"#cite_ref-speaking_23-0\">^</a></b></span> <span class=\"reference-text\"><cite class=\"citation news\"><a rel=\"nofollow\" class=\"external text\" href=\"http://www.news.harvard.edu/gazette/1998/02.26/SpeakingVolumes.html\">\"Speaking Volumes\"</a>. <i>Harvard Gazette</i>. The President and Fellows of Harvard College. February 26, 1998.</cite><span title=\"ctx_ver=Z39.88-2004&amp;rfr_id=info%3Asid%2Fen.wikipedia.org%3AHarvard+University&amp;rft.atitle=Speaking+Volumes&amp;rft.date=1998-02-26&amp;rft.genre=article&amp;rft_id=http%3A%2F%2Fwww.news.harvard.edu%2Fgazette%2F1998%2F02.26%2FSpeakingVolumes.html&amp;rft.jtitle=Harvard+Gazette&amp;rft_val_fmt=info%3Aofi%2Ffmt%3Akev%3Amtx%3Ajournal\" class=\"Z3988\"><span style=\"display:none;\">&#160;</span></span></span></li>\\n<li id=\"cite_note-RS-24\"><span class=\"mw-cite-backlink\"><b><a href=\"#cite_ref-RS_24-0\">^</a></b></span> <span class=\"reference-text\"><cite class=\"citation web\"><a rel=\"nofollow\" class=\"external text\" href=\"http://www.rhodesscholar.org/assets/uploads/2013_Insitutions_Winner%20Count_8_8_13.pdf\">\"US Rhodes Scholarship Winners by institution (1904-2013)\"</a> <span style=\"font-size:85%;\">(PDF)</span>. The Rhodes Trust<span class=\"reference-accessdate\">. Retrieved <span class=\"nowrap\">September 9,</span> 2013</span>.</cite><span title=\"ctx_ver=Z39.88-2004&amp;rfr_id=info%3Asid%2Fen.wikipedia.org%3AHarvard+University&amp;rft.btitle=US+Rhodes+Scholarship+Winners+by+institution+%281904-2013%29&amp;rft.genre=unknown&amp;rft_id=http%3A%2F%2Fwww.rhodesscholar.org%2Fassets%2Fuploads%2F2013_Insitutions_Winner%2520Count_8_8_13.pdf&amp;rft.pub=The+Rhodes+Trust&amp;rft_val_fmt=info%3Aofi%2Ffmt%3Akev%3Amtx%3Abook\" class=\"Z3988\"><span style=\"display:none;\">&#160;</span></span></span></li>\\n<li id=\"cite_note-25\"><span class=\"mw-cite-backlink\"><b><a href=\"#cite_ref-25\">^</a></b></span> <span class=\"reference-text\"><cite class=\"citation news\">Janhavi Kumar Sapra (August 11, 2010). <a rel=\"nofollow\" class=\"external text\" href=\"http://www.forbes.com/2010/08/11/harvard-stanford-columbia-business-billionaires-universities.html?boxes=businesschannelsections\">\"Billionaire Universities\"</a>. <i><a href=\"/wiki/Forbes\" title=\"Forbes\">Forbes</a></i><span class=\"reference-accessdate\">. Retrieved <span class=\"nowrap\">August 31,</span> 2010</span>.</cite><span title=\"ctx_ver=Z39.88-2004&amp;rfr_id=info%3Asid%2Fen.wikipedia.org%3AHarvard+University&amp;rft.atitle=Billionaire+Universities&amp;rft.au=Janhavi+Kumar+Sapra&amp;rft.date=2010-08-11&amp;rft.genre=article&amp;rft_id=http%3A%2F%2Fwww.forbes.com%2F2010%2F08%2F11%2Fharvard-stanford-columbia-business-billionaires-universities.html%3Fboxes%3Dbusinesschannelsections&amp;rft.jtitle=Forbes&amp;rft_val_fmt=info%3Aofi%2Ffmt%3Akev%3Amtx%3Ajournal\" class=\"Z3988\"><span style=\"display:none;\">&#160;</span></span></span></li>\\n<li id=\"cite_note-26\"><span class=\"mw-cite-backlink\"><b><a href=\"#cite_ref-26\">^</a></b></span> <span class=\"reference-text\"><a rel=\"nofollow\" class=\"external free\" href=\"http://www.marshallscholarship.org/about/statistics\">http://www.marshallscholarship.org/about/statistics</a></span></li>\\n<li id=\"cite_note-27\"><span class=\"mw-cite-backlink\"><b><a href=\"#cite_ref-27\">^</a></b></span> <span class=\"reference-text\"><cite class=\"citation web\"><a rel=\"nofollow\" class=\"external text\" href=\"http://stats.areppim.com/listes/list_fieldsxmedal.htm\">\"The complete list of Fields Medal winners\"</a>. <i>areppim AG</i>. 2014<span class=\"reference-accessdate\">. Retrieved <span class=\"nowrap\">September 10,</span> 2015</span>.</cite><span title=\"ctx_ver=Z39.88-2004&amp;rfr_id=info%3Asid%2Fen.wikipedia.org%3AHarvard+University&amp;rft.atitle=The+complete+list+of+Fields+Medal+winners&amp;rft.date=2014&amp;rft.genre=unknown&amp;rft_id=http%3A%2F%2Fstats.areppim.com%2Flistes%2Flist_fieldsxmedal.htm&amp;rft.jtitle=areppim+AG&amp;rft_val_fmt=info%3Aofi%2Ffmt%3Akev%3Amtx%3Ajournal\" class=\"Z3988\"><span style=\"display:none;\">&#160;</span></span></span></li>\\n<li id=\"cite_note-FirstPrintingPress-28\"><span class=\"mw-cite-backlink\"><b><a href=\"#cite_ref-FirstPrintingPress_28-0\">^</a></b></span> <span class=\"reference-text\"><cite class=\"citation web\"><a rel=\"nofollow\" class=\"external text\" href=\"http://news.harvard.edu/gazette/story/2012/03/harvard\\u2019s-first-impressions/\">\"The instrument behind New England\\'s first literary flowering\"</a>. Harvard University<span class=\"reference-accessdate\">. Retrieved <span class=\"nowrap\">January 18,</span> 2014</span>.</cite><span title=\"ctx_ver=Z39.88-2004&amp;rfr_id=info%3Asid%2Fen.wikipedia.org%3AHarvard+University&amp;rft.btitle=The+instrument+behind+New+England%99s+first+literary+flowering&amp;rft.genre=unknown&amp;rft_id=http%3A%2F%2Fnews.harvard.edu%2Fgazette%2Fstory%2F2012%2F03%2Fharvard%99s-first-impressions%2F&amp;rft.pub=Harvard+University&amp;rft_val_fmt=info%3Aofi%2Ffmt%3Akev%3Amtx%3Abook\" class=\"Z3988\"><span style=\"display:none;\">&#160;</span></span></span></li>\\n<li id=\"cite_note-UHullMHSC-29\"><span class=\"mw-cite-backlink\"><b><a href=\"#cite_ref-UHullMHSC_29-0\">^</a></b></span> <span class=\"reference-text\"><cite class=\"citation web\"><a rel=\"nofollow\" class=\"external text\" href=\"http://www.hull.ac.uk/mhsc/FarHorizons/Documents/EzekielRogers.pdf\">\"Rowley and Ezekiel Rogers, The First North American Printing Press\"</a> <span style=\"font-size:85%;\">(PDF)</span>. Maritime Historical Studies Centre, University of Hull<span class=\"reference-accessdate\">. Retrieved <span class=\"nowrap\">January 18,</span> 2014</span>.</cite><span title=\"ctx_ver=Z39.88-2004&amp;rfr_id=info%3Asid%2Fen.wikipedia.org%3AHarvard+University&amp;rft.btitle=Rowley+and+Ezekiel+Rogers%2C+The+First+North+American+Printing+Press&amp;rft.genre=unknown&amp;rft_id=http%3A%2F%2Fwww.hull.ac.uk%2Fmhsc%2FFarHorizons%2FDocuments%2FEzekielRogers.pdf&amp;rft.pub=Maritime+Historical+Studies+Centre%2C+University+of+Hull&amp;rft_val_fmt=info%3Aofi%2Ffmt%3Akev%3Amtx%3Abook\" class=\"Z3988\"><span style=\"display:none;\">&#160;</span></span></span></li>\\n<li id=\"cite_note-JH_facts-30\"><span class=\"mw-cite-backlink\"><b><a href=\"#cite_ref-JH_facts_30-0\">^</a></b></span> <span class=\"reference-text\"><cite class=\"citation web\"><a rel=\"nofollow\" class=\"external text\" href=\"http://www.encyclopedia.com/topic/John_Harvard.aspx\">\"John Harvard Facts, Information.\"</a>. The Columbia Encyclopedia, Sixth Edition. 2008<span class=\"reference-accessdate\">. Retrieved <span class=\"nowrap\">July 17,</span> 2009</span>. <q>He bequeathed \\xa3780 (half his estate) and his library of 320 volumes to the new established college at Cambridge, Mass., which was named in his honor.</q></cite><span title=\"ctx_ver=Z39.88-2004&amp;rfr_id=info%3Asid%2Fen.wikipedia.org%3AHarvard+University&amp;rft.btitle=John+Harvard+Facts%2C+Information.&amp;rft.genre=unknown&amp;rft_id=http%3A%2F%2Fwww.encyclopedia.com%2Ftopic%2FJohn_Harvard.aspx&amp;rft.pub=The+Columbia+Encyclopedia%2C+Sixth+Edition.+2008&amp;rft_val_fmt=info%3Aofi%2Ffmt%3Akev%3Amtx%3Abook\" class=\"Z3988\"><span style=\"display:none;\">&#160;</span></span></span></li>\\n<li id=\"cite_note-GriggMancall2008-31\"><span class=\"mw-cite-backlink\"><b><a href=\"#cite_ref-GriggMancall2008_31-0\">^</a></b></span> <span class=\"reference-text\"><cite class=\"citation book\">Grigg, John A.; Mancall, Peter C. (2008). <a rel=\"nofollow\" class=\"external text\" href=\"https://books.google.com/books?id=6REfahE4TkwC&amp;pg=PA47\"><i>British Colonial America: People and Perspectives</i></a>. ABC-CLIO. p.&#160;47. <a href=\"/wiki/International_Standard_Book_Number\" title=\"International Standard Book Number\">ISBN</a>&#160;<a href=\"/wiki/Special:BookSources/978-1-59884-025-4\" title=\"Special:BookSources/978-1-59884-025-4\">978-1-59884-025-4</a>.</cite><span title=\"ctx_ver=Z39.88-2004&amp;rfr_id=info%3Asid%2Fen.wikipedia.org%3AHarvard+University&amp;rft.aufirst=John+A.&amp;rft.aulast=Grigg&amp;rft.au=Mancall%2C+Peter+C.&amp;rft.btitle=British+Colonial+America%3A+People+and+Perspectives&amp;rft.date=2008&amp;rft.genre=book&amp;rft_id=https%3A%2F%2Fbooks.google.com%2Fbooks%3Fid%3D6REfahE4TkwC%26pg%3DPA47&amp;rft.isbn=978-1-59884-025-4&amp;rft.pages=47&amp;rft.pub=ABC-CLIO&amp;rft_val_fmt=info%3Aofi%2Ffmt%3Akev%3Amtx%3Abook\" class=\"Z3988\"><span style=\"display:none;\">&#160;</span></span></span></li>\\n<li id=\"cite_note-32\"><span class=\"mw-cite-backlink\"><b><a href=\"#cite_ref-32\">^</a></b></span> <span class=\"reference-text\"><cite class=\"citation book\">Wright, Louis B. (2002). <i>The Cultural Life of the American Colonies</i>. p.&#160;116. <a href=\"/wiki/International_Standard_Book_Number\" title=\"International Standard Book Number\">ISBN</a>&#160;<a href=\"/wiki/Special:BookSources/978-0-486-42223-7\" title=\"Special:BookSources/978-0-486-42223-7\">978-0-486-42223-7</a>.</cite><span title=\"ctx_ver=Z39.88-2004&amp;rfr_id=info%3Asid%2Fen.wikipedia.org%3AHarvard+University&amp;rft.aufirst=Louis+B.&amp;rft.aulast=Wright&amp;rft.btitle=The+Cultural+Life+of+the+American+Colonies&amp;rft.date=2002&amp;rft.genre=book&amp;rft.isbn=978-0-486-42223-7&amp;rft.pages=116&amp;rft_val_fmt=info%3Aofi%2Ffmt%3Akev%3Amtx%3Abook\" class=\"Z3988\"><span style=\"display:none;\">&#160;</span></span></span></li>\\n<li id=\"cite_note-33\"><span class=\"mw-cite-backlink\"><b><a href=\"#cite_ref-33\">^</a></b></span> <span class=\"reference-text\"><cite class=\"citation web\">Harvard Office of News and Public Affairs (July 26, 2007). <a rel=\"nofollow\" class=\"external text\" href=\"https://web.archive.org/web/20070726133429/http://www.hno.harvard.edu/guide/intro/index.html\">\"Harvard guide intro\"</a>. Harvard University. Archived from <a rel=\"nofollow\" class=\"external text\" href=\"http://www.hno.harvard.edu/guide/intro/index.html\">the original</a> on July 26, 2007<span class=\"reference-accessdate\">. Retrieved <span class=\"nowrap\">August 29,</span> 2010</span>.</cite><span title=\"ctx_ver=Z39.88-2004&amp;rfr_id=info%3Asid%2Fen.wikipedia.org%3AHarvard+University&amp;rft.au=Harvard+Office+of+News+and+Public+Affairs&amp;rft.btitle=Harvard+guide+intro&amp;rft.date=2007-07-26&amp;rft.genre=unknown&amp;rft_id=http%3A%2F%2Fwww.hno.harvard.edu%2Fguide%2Fintro%2Findex.html&amp;rft.pub=Harvard+University&amp;rft_val_fmt=info%3Aofi%2Ffmt%3Akev%3Amtx%3Abook\" class=\"Z3988\"><span style=\"display:none;\">&#160;</span></span></span></li>\\n<li id=\"cite_note-Dorrien-34\"><span class=\"mw-cite-backlink\">^ <a href=\"#cite_ref-Dorrien_34-0\"><sup><i><b>a</b></i></sup></a> <a href=\"#cite_ref-Dorrien_34-1\"><sup><i><b>b</b></i></sup></a></span> <span class=\"reference-text\">Gary J. Dorrien. <a rel=\"nofollow\" class=\"external text\" href=\"https://books.google.com/books?id=L50mveyi6WoC\">The Making of American Liberal Theology: Imagining Progressive Religion, 1805-1900, Volume 1</a>. Westminster John Knox Press, 2001</span></li>\\n<li id=\"cite_note-35\"><span class=\"mw-cite-backlink\"><b><a href=\"#cite_ref-35\">^</a></b></span> <span class=\"reference-text\">Peter S. Field <a rel=\"nofollow\" class=\"external text\" href=\"https://books.google.com/books?id=HXHbEWJacwwC\">Ralph Waldo Emerson: The Making of a Democratic Intellectual</a> Rowman &amp; Littlefield, 2003 <a href=\"/wiki/Special:BookSources/9780847688425\" class=\"internal mw-magiclink-isbn\">ISBN 978-0847688425</a></span></li>\\n<li id=\"cite_note-36\"><span class=\"mw-cite-backlink\"><b><a href=\"#cite_ref-36\">^</a></b></span> <span class=\"reference-text\"><cite class=\"citation journal\">Nartonis, David K. (2005). \"Louis Agassiz and the Platonist Story of Creation at Harvard, 1795\\u20131846\". <i>Journal of the History of Ideas</i>. <b>66</b> (3): 437\\u2013449. <a href=\"/wiki/Digital_object_identifier\" title=\"Digital object identifier\">doi</a>:<a rel=\"nofollow\" class=\"external text\" href=\"//dx.doi.org/10.1353%2Fjhi.2005.0045\">10.1353/jhi.2005.0045</a>. <a href=\"/wiki/JSTOR\" title=\"JSTOR\">JSTOR</a>&#160;<a rel=\"nofollow\" class=\"external text\" href=\"//www.jstor.org/stable/3654189\">3654189</a>.</cite><span title=\"ctx_ver=Z39.88-2004&amp;rfr_id=info%3Asid%2Fen.wikipedia.org%3AHarvard+University&amp;rft.atitle=Louis+Agassiz+and+the+Platonist+Story+of+Creation+at+Harvard%2C+1795%931846&amp;rft.aufirst=David+K.&amp;rft.aulast=Nartonis&amp;rft.date=2005&amp;rft.genre=article&amp;rft_id=%2F%2Fwww.jstor.org%2Fstable%2F3654189&amp;rft_id=info%3Adoi%2F10.1353%2Fjhi.2005.0045&amp;rft.issue=3&amp;rft.jtitle=Journal+of+the+History+of+Ideas&amp;rft.pages=437-449&amp;rft_val_fmt=info%3Aofi%2Ffmt%3Akev%3Amtx%3Ajournal&amp;rft.volume=66\" class=\"Z3988\"><span style=\"display:none;\">&#160;</span></span></span></li>\\n<li id=\"cite_note-37\"><span class=\"mw-cite-backlink\"><b><a href=\"#cite_ref-37\">^</a></b></span> <span class=\"reference-text\"><cite class=\"citation journal\">Shoemaker, Stephen P. (2006\\u20132007). \"The Theological Roots of Charles W. Eliot\\'s Educational Reforms\". <i>Journal of Unitarian Universalist History</i>. <b>31</b>: 30\\u201345.</cite><span title=\"ctx_ver=Z39.88-2004&amp;rfr_id=info%3Asid%2Fen.wikipedia.org%3AHarvard+University&amp;rft.atitle=The+Theological+Roots+of+Charles+W.+Eliot%27s+Educational+Reforms&amp;rft.aufirst=Stephen+P.&amp;rft.aulast=Shoemaker&amp;rft.date=2006%2F2007&amp;rft.genre=article&amp;rft.jtitle=Journal+of+Unitarian+Universalist+History&amp;rft.pages=30-45&amp;rft_val_fmt=info%3Aofi%2Ffmt%3Akev%3Amtx%3Ajournal&amp;rft.volume=31\" class=\"Z3988\"><span style=\"display:none;\">&#160;</span></span></span></li>\\n<li id=\"cite_note-http:.2F.2Fgrahamarader.blogspot.com.2F2011.2F07.2Ficonic-college-view-harvard-university.html-38\"><span class=\"mw-cite-backlink\"><b><a href=\"#cite_ref-http:.2F.2Fgrahamarader.blogspot.com.2F2011.2F07.2Ficonic-college-view-harvard-university.html_38-0\">^</a></b></span> <span class=\"reference-text\"><a rel=\"nofollow\" class=\"external text\" href=\"http://grahamarader.blogspot.com/2011/07/iconic-college-view-harvard-university.html\">\"Arader Galleries Iconic College Views\"</a>, <i>Rummell, Richard</i>, Littig &amp; Co. 1915</span></li>\\n<li id=\"cite_note-39\"><span class=\"mw-cite-backlink\"><b><a href=\"#cite_ref-39\">^</a></b></span> <span class=\"reference-text\"><cite class=\"citation book\">Jerome Karabel (2006). <a rel=\"nofollow\" class=\"external text\" href=\"https://books.google.com/books?id=zwf-Ofc--toC&amp;pg=PA23\"><i>The Chosen: The Hidden History of Admission and Exclusion at Harvard, Yale, and Princeton</i></a>. p.&#160;23.</cite><span title=\"ctx_ver=Z39.88-2004&amp;rfr_id=info%3Asid%2Fen.wikipedia.org%3AHarvard+University&amp;rft.au=Jerome+Karabel&amp;rft.btitle=The+Chosen%3A+The+Hidden+History+of+Admission+and+Exclusion+at+Harvard%2C+Yale%2C+and+Princeton&amp;rft.date=2006&amp;rft.genre=book&amp;rft_id=https%3A%2F%2Fbooks.google.com%2Fbooks%3Fid%3Dzwf-Ofc--toC%26pg%3DPA23&amp;rft.pages=23&amp;rft_val_fmt=info%3Aofi%2Ffmt%3Akev%3Amtx%3Abook\" class=\"Z3988\"><span style=\"display:none;\">&#160;</span></span></span></li>\\n<li id=\"cite_note-40\"><span class=\"mw-cite-backlink\"><b><a href=\"#cite_ref-40\">^</a></b></span> <span class=\"reference-text\">Anita Fay Kravitz, \"The Harvard Report of 1945: An historical ethnography\", Ph.D. dissertation, University of Pennsylvania, 1994, 367 pages; AAT 9427558</span></li>\\n<li id=\"cite_note-41\"><span class=\"mw-cite-backlink\"><b><a href=\"#cite_ref-41\">^</a></b></span> <span class=\"reference-text\">Malka A. Older. (1996). <a rel=\"nofollow\" class=\"external text\" href=\"http://www.thecrimson.com/article.aspx?ref=217911\">Preparatory schools and the admissions process</a>. <a href=\"/wiki/The_Harvard_Crimson\" title=\"The Harvard Crimson\">The Harvard Crimson</a>, January 24, 1996</span></li>\\n<li id=\"cite_note-42\"><span class=\"mw-cite-backlink\"><b><a href=\"#cite_ref-42\">^</a></b></span> <span class=\"reference-text\"><cite class=\"citation book\">Schwager, Sally (2004). \"Taking up the Challenge: The Origins of Radcliffe\". In Laurel Thatcher Ulrich (ed.). <i>Yards and Gates: Gender in Harvard and Radcliffe History</i>. New York: Palgrave Macmillan. p.&#160;115. <a href=\"/wiki/International_Standard_Book_Number\" title=\"International Standard Book Number\">ISBN</a>&#160;<a href=\"/wiki/Special:BookSources/1-4039-6098-4\" title=\"Special:BookSources/1-4039-6098-4\">1-4039-6098-4</a>.</cite><span title=\"ctx_ver=Z39.88-2004&amp;rfr_id=info%3Asid%2Fen.wikipedia.org%3AHarvard+University&amp;rft.atitle=Taking+up+the+Challenge%3A+The+Origins+of+Radcliffe&amp;rft.aufirst=Sally&amp;rft.aulast=Schwager&amp;rft.btitle=Yards+and+Gates%3A+Gender+in+Harvard+and+Radcliffe+History&amp;rft.date=2004&amp;rft.genre=bookitem&amp;rft.isbn=1-4039-6098-4&amp;rft.pages=115&amp;rft.place=New+York&amp;rft.pub=Palgrave+Macmillan&amp;rft_val_fmt=info%3Aofi%2Ffmt%3Akev%3Amtx%3Abook\" class=\"Z3988\"><span style=\"display:none;\">&#160;</span></span></span></li>\\n<li id=\"cite_note-First_class_of_women_admitted_to_Harvard_Medical_School.2C_1945-43\"><span class=\"mw-cite-backlink\"><b><a href=\"#cite_ref-First_class_of_women_admitted_to_Harvard_Medical_School.2C_1945_43-0\">^</a></b></span> <span class=\"reference-text\"><cite class=\"citation report\"><a rel=\"nofollow\" class=\"external text\" href=\"http://repository.countway.harvard.edu/xmlui/handle/10473/1782\">First class of women admitted to Harvard Medical School, 1945</a> (Report). Countway Repository, Harvard University Library<span class=\"reference-accessdate\">. Retrieved <span class=\"nowrap\">May 2,</span> 2016</span>.</cite><span title=\"ctx_ver=Z39.88-2004&amp;rfr_id=info%3Asid%2Fen.wikipedia.org%3AHarvard+University&amp;rft.btitle=First+class+of+women+admitted+to+Harvard+Medical+School%2C+1945&amp;rft.genre=report&amp;rft_id=http%3A%2F%2Frepository.countway.harvard.edu%2Fxmlui%2Fhandle%2F10473%2F1782&amp;rft.pub=Countway+Repository%2C+Harvard+University+Library&amp;rft_val_fmt=info%3Aofi%2Ffmt%3Akev%3Amtx%3Abook\" class=\"Z3988\"><span style=\"display:none;\">&#160;</span></span></span></li>\\n<li id=\"cite_note-44\"><span class=\"mw-cite-backlink\"><b><a href=\"#cite_ref-44\">^</a></b></span> <span class=\"reference-text\"><cite class=\"citation report\"><a rel=\"nofollow\" class=\"external text\" href=\"http://www.thecrimson.com/article/1999/4/21/radcliffe-enters-historic-merger-with-harvard\">Radcliffe Enters Historic Merger With Harvard</a> (Report)<span class=\"reference-accessdate\">. Retrieved <span class=\"nowrap\">May 6,</span> 2016</span>.</cite><span title=\"ctx_ver=Z39.88-2004&amp;rfr_id=info%3Asid%2Fen.wikipedia.org%3AHarvard+University&amp;rft.btitle=Radcliffe+Enters+Historic+Merger+With+Harvard&amp;rft.genre=report&amp;rft_id=http%3A%2F%2Fwww.thecrimson.com%2Farticle%2F1999%2F4%2F21%2Fradcliffe-enters-historic-merger-with-harvard&amp;rft_val_fmt=info%3Aofi%2Ffmt%3Akev%3Amtx%3Abook\" class=\"Z3988\"><span style=\"display:none;\">&#160;</span></span></span></li>\\n<li id=\"cite_note-45\"><span class=\"mw-cite-backlink\"><b><a href=\"#cite_ref-45\">^</a></b></span> <span class=\"reference-text\"><cite class=\"citation journal\">Alan Finder; Patrick D. Healy; Kate Zernicke (February 22, 2006). <a rel=\"nofollow\" class=\"external text\" href=\"http://www.nytimes.com/2006/02/22/education/22harvard.html?pagewanted=all&amp;_r=0\">\"President of Harvard Resigns, Ending Stormy 5-Year Tenure\"</a>. <i>The New York Times</i><span class=\"reference-accessdate\">. Retrieved <span class=\"nowrap\">August 8,</span> 2015</span>.</cite><span title=\"ctx_ver=Z39.88-2004&amp;rfr_id=info%3Asid%2Fen.wikipedia.org%3AHarvard+University&amp;rft.atitle=President+of+Harvard+Resigns%2C+Ending+Stormy+5-Year+Tenure&amp;rft.au=Alan+Finder&amp;rft.au=Kate+Zernicke&amp;rft.au=Patrick+D.+Healy&amp;rft.date=2006-02-22&amp;rft.genre=article&amp;rft_id=http%3A%2F%2Fwww.nytimes.com%2F2006%2F02%2F22%2Feducation%2F22harvard.html%3Fpagewanted%3Dall%26_r%3D0&amp;rft.jtitle=The+New+York+Times&amp;rft_val_fmt=info%3Aofi%2Ffmt%3Akev%3Amtx%3Ajournal\" class=\"Z3988\"><span style=\"display:none;\">&#160;</span></span></span></li>\\n<li id=\"cite_note-46\"><span class=\"mw-cite-backlink\"><b><a href=\"#cite_ref-46\">^</a></b></span> <span class=\"reference-text\"><cite class=\"citation journal\">Associated Press (February 11, 2007). <a rel=\"nofollow\" class=\"external text\" href=\"http://www.nbcnews.com/id/17103390/ns/us_news-education/t/harvard-board-names-first-woman-president/#.VcaMq87ZqS0\">\"Harvard Board Names First Woman President\"</a>. NBC News<span class=\"reference-accessdate\">. Retrieved <span class=\"nowrap\">August 8,</span> 2015</span>.</cite><span title=\"ctx_ver=Z39.88-2004&amp;rfr_id=info%3Asid%2Fen.wikipedia.org%3AHarvard+University&amp;rft.atitle=Harvard+Board+Names+First+Woman+President&amp;rft.au=Associated+Press&amp;rft.date=2007-02-11&amp;rft.genre=article&amp;rft_id=http%3A%2F%2Fwww.nbcnews.com%2Fid%2F17103390%2Fns%2Fus_news-education%2Ft%2Fharvard-board-names-first-woman-president%2F%23.VcaMq87ZqS0&amp;rft_val_fmt=info%3Aofi%2Ffmt%3Akev%3Amtx%3Ajournal\" class=\"Z3988\"><span style=\"display:none;\">&#160;</span></span></span></li>\\n<li id=\"cite_note-47\"><span class=\"mw-cite-backlink\"><b><a href=\"#cite_ref-47\">^</a></b></span> <span class=\"reference-text\"><a rel=\"nofollow\" class=\"external text\" href=\"http://www.exeter.edu./documents/Exeter_Bulletin/FA06_Men_Behind_the_Plan.pdf\">Biography</a> in the <a rel=\"nofollow\" class=\"external text\" href=\"http://www.exeter.edu/news_and_events/news_events_2086.aspx\">Exeter Bulletin</a> <a rel=\"nofollow\" class=\"external text\" href=\"https://web.archive.org/web/20080626162608/http://www.exeter.edu./documents/Exeter_Bulletin/FA06_Men_Behind_the_Plan.pdf\">Archived</a> June 26, 2008, at the <a href=\"/wiki/Wayback_Machine\" title=\"Wayback Machine\">Wayback Machine</a>.<span style=\"padding: 0; font-size: xx-small; color: #000; border: 1px solid #aaa; background-color: #f9f9f9;\">\\u2039The <a href=\"/wiki/Help:Template\" title=\"Help:Template\">template</a> <i><a href=\"/wiki/Template:Wayback\" title=\"Template:Wayback\">Wayback</a></i> is being <a href=\"/wiki/Wikipedia:Templates_for_discussion/Log/2016_October_24#Web_archive_templates\" title=\"Wikipedia:Templates for discussion/Log/2016 October 24\">considered for merging</a>.\\u203a</span>&#160;</span></li>\\n<li id=\"cite_note-48\"><span class=\"mw-cite-backlink\"><b><a href=\"#cite_ref-48\">^</a></b></span> <span class=\"reference-text\"><a rel=\"nofollow\" class=\"external text\" href=\"https://www.radcliffe.harvard.edu/\">Radcliffe Institute for Advanced Study at Harvard</a>. Radcliffe Institute for Advanced Study at Harvard. President and Fellows of Harvard College. 2016. Retrieved October 10, 2016</span></li>\\n<li id=\"cite_note-49\"><span class=\"mw-cite-backlink\"><b><a href=\"#cite_ref-49\">^</a></b></span> <span class=\"reference-text\"><cite class=\"citation web\"><a rel=\"nofollow\" class=\"external text\" href=\"http://www.hupd.harvard.edu/files/hupd/files/playing_it_safe_2014-15_crime_stats_cambridge_0.pdf\">\"Appendix 1 \\u2014 Cambridge Campus Clery Act Criminal Statistics\"</a> <span style=\"font-size:85%;\">(PDF)</span>. <a href=\"/wiki/Harvard_University_Police_Department\" title=\"Harvard University Police Department\">Harvard University Police Department</a><span class=\"reference-accessdate\">. Retrieved <span class=\"nowrap\">August 29,</span> 2015</span>.</cite><span title=\"ctx_ver=Z39.88-2004&amp;rfr_id=info%3Asid%2Fen.wikipedia.org%3AHarvard+University&amp;rft.btitle=Appendix+1+%94+Cambridge+Campus+Clery+Act+Criminal+Statistics&amp;rft.genre=unknown&amp;rft_id=http%3A%2F%2Fwww.hupd.harvard.edu%2Ffiles%2Fhupd%2Ffiles%2Fplaying_it_safe_2014-15_crime_stats_cambridge_0.pdf&amp;rft.pub=Harvard+University+Police+Department&amp;rft_val_fmt=info%3Aofi%2Ffmt%3Akev%3Amtx%3Abook\" class=\"Z3988\"><span style=\"display:none;\">&#160;</span></span></span></li>\\n<li id=\"cite_note-50\"><span class=\"mw-cite-backlink\"><b><a href=\"#cite_ref-50\">^</a></b></span> <span class=\"reference-text\"><a rel=\"nofollow\" class=\"external text\" href=\"http://www.cambridgema.gov/~/media/Files/CDD/Maps/Institutions/cddmap_institutions_ownership.pdf\">Institutional Ownership Map - Cambridge Massachusetts</a></span></li>\\n<li id=\"cite_note-51\"><span class=\"mw-cite-backlink\"><b><a href=\"#cite_ref-51\">^</a></b></span> <span class=\"reference-text\"><a rel=\"nofollow\" class=\"external text\" href=\"http://www.thecrimson.com/article/2005/1/7/harvard-purchases-doubletree-hotel-in-the/\">Harvard Purchases Doubletree Hotel Building</a></span></li>\\n<li id=\"cite_note-52\"><span class=\"mw-cite-backlink\"><b><a href=\"#cite_ref-52\">^</a></b></span> <span class=\"reference-text\"><a rel=\"nofollow\" class=\"external text\" href=\"https://www.bostonglobe.com/business/2016/04/13/harvard-continues-its-march-into-allston-with-science-complex/7EVJQcLlS3XtbzKnGegR9M/story.html\">Harvard continues its march into Allston, with science complex</a> Tim Logan. Boston Globe. April 14, 2016. Retrieved September 30, 2016</span></li>\\n<li id=\"cite_note-53\"><span class=\"mw-cite-backlink\"><b><a href=\"#cite_ref-53\">^</a></b></span> <span class=\"reference-text\"><cite class=\"citation web\"><a rel=\"nofollow\" class=\"external text\" href=\"http://evp.harvard.edu/allston-planning-and-development\">\"Allston Planning and Development / Office of the Executive Vice President\"</a>. Harvard University<span class=\"reference-accessdate\">. Retrieved <span class=\"nowrap\">7 Sep</span> 2016</span>.</cite><span title=\"ctx_ver=Z39.88-2004&amp;rfr_id=info%3Asid%2Fen.wikipedia.org%3AHarvard+University&amp;rft.btitle=Allston+Planning+and+Development+%2F+Office+of+the+Executive+Vice+President&amp;rft.genre=unknown&amp;rft_id=http%3A%2F%2Fevp.harvard.edu%2Fallston-planning-and-development&amp;rft.pub=Harvard+University&amp;rft_val_fmt=info%3Aofi%2Ffmt%3Akev%3Amtx%3Abook\" class=\"Z3988\"><span style=\"display:none;\">&#160;</span></span></span></li>\\n<li id=\"cite_note-54\"><span class=\"mw-cite-backlink\"><b><a href=\"#cite_ref-54\">^</a></b></span> <span class=\"reference-text\"><a rel=\"nofollow\" class=\"external text\" href=\"http://www.reuters.com/article/us-harvard-expansion-idUSN1110846820070112\">Harvard unveils big campus expansion</a> Svea Herbst-Bayliss. Reuters. January 12, 2007. Retrieved September 30, 2016</span></li>\\n<li id=\"cite_note-55\"><span class=\"mw-cite-backlink\"><b><a href=\"#cite_ref-55\">^</a></b></span> <span class=\"reference-text\"><a rel=\"nofollow\" class=\"external free\" href=\"http://www.oeb.harvard.edu/cfs/\">http://www.oeb.harvard.edu/cfs/</a></span></li>\\n<li id=\"cite_note-56\"><span class=\"mw-cite-backlink\"><b><a href=\"#cite_ref-56\">^</a></b></span> <span class=\"reference-text\"><cite class=\"citation web\"><a rel=\"nofollow\" class=\"external text\" href=\"http://www.itatti.it/\">\"Villa I Tatti: The Harvard University Center for Italian Renaissance Studies\"</a>. Itatti.it<span class=\"reference-accessdate\">. Retrieved <span class=\"nowrap\">June 30,</span> 2010</span>.</cite><span title=\"ctx_ver=Z39.88-2004&amp;rfr_id=info%3Asid%2Fen.wikipedia.org%3AHarvard+University&amp;rft.btitle=Villa+I+Tatti%3A+The+Harvard+University+Center+for+Italian+Renaissance+Studies&amp;rft.genre=unknown&amp;rft_id=http%3A%2F%2Fwww.itatti.it%2F&amp;rft.pub=Itatti.it&amp;rft_val_fmt=info%3Aofi%2Ffmt%3Akev%3Amtx%3Abook\" class=\"Z3988\"><span style=\"display:none;\">&#160;</span></span></span></li>\\n<li id=\"cite_note-57\"><span class=\"mw-cite-backlink\"><b><a href=\"#cite_ref-57\">^</a></b></span> <span class=\"reference-text\"><a rel=\"nofollow\" class=\"external free\" href=\"http://shanghaicenter.harvard.edu/\">http://shanghaicenter.harvard.edu/</a></span></li>\\n<li id=\"cite_note-BethellHunt2009p-58\"><span class=\"mw-cite-backlink\"><b><a href=\"#cite_ref-BethellHunt2009p_58-0\">^</a></b></span> <span class=\"reference-text\"><cite class=\"citation book\">Bethell, John T.; Hunt, Richard M.; Shenton, Robert (2009). <a rel=\"nofollow\" class=\"external text\" href=\"https://books.google.com/books?id=WGrBJFRw1GsC&amp;pg=PA166\"><i>Harvard A to Z</i></a>. Harvard University Press. pp.&#160;166\\u2013. <a href=\"/wiki/International_Standard_Book_Number\" title=\"International Standard Book Number\">ISBN</a>&#160;<a href=\"/wiki/Special:BookSources/978-0-674-02089-4\" title=\"Special:BookSources/978-0-674-02089-4\">978-0-674-02089-4</a>.</cite><span title=\"ctx_ver=Z39.88-2004&amp;rfr_id=info%3Asid%2Fen.wikipedia.org%3AHarvard+University&amp;rft.aufirst=John+T.&amp;rft.au=Hunt%2C+Richard+M.&amp;rft.aulast=Bethell&amp;rft.au=Shenton%2C+Robert&amp;rft.btitle=Harvard+A+to+Z&amp;rft.date=2009&amp;rft.genre=book&amp;rft_id=https%3A%2F%2Fbooks.google.com%2Fbooks%3Fid%3DWGrBJFRw1GsC%26pg%3DPA166&amp;rft.isbn=978-0-674-02089-4&amp;rft.pages=166-&amp;rft.pub=Harvard+University+Press&amp;rft_val_fmt=info%3Aofi%2Ffmt%3Akev%3Amtx%3Abook\" class=\"Z3988\"><span style=\"display:none;\">&#160;</span></span></span></li>\\n<li id=\"cite_note-59\"><span class=\"mw-cite-backlink\"><b><a href=\"#cite_ref-59\">^</a></b></span> <span class=\"reference-text\">Burlington Free Press, June 24, 2009, page 11B, \"\"Harvard to cut 275 jobs\" Associated Press</span></li>\\n<li id=\"cite_note-60\"><span class=\"mw-cite-backlink\"><b><a href=\"#cite_ref-60\">^</a></b></span> <span class=\"reference-text\"><cite class=\"citation book\">Office of Institutional Research (2009). <a rel=\"nofollow\" class=\"external text\" href=\"http://www.provost.harvard.edu/institutional_research/Provost_-_Harvard_Fact_Book_2009-10_FINAL_new.pdf\"><i>Harvard University Fact Book 2009\\u20132010</i></a> <span style=\"font-size:85%;\">(PDF)</span>.</cite><span title=\"ctx_ver=Z39.88-2004&amp;rfr_id=info%3Asid%2Fen.wikipedia.org%3AHarvard+University&amp;rft.au=Office+of+Institutional+Research&amp;rft.btitle=Harvard+University+Fact+Book+2009%932010&amp;rft.date=2009&amp;rft.genre=book&amp;rft_id=http%3A%2F%2Fwww.provost.harvard.edu%2Finstitutional_research%2FProvost_-_Harvard_Fact_Book_2009-10_FINAL_new.pdf&amp;rft_val_fmt=info%3Aofi%2Ffmt%3Akev%3Amtx%3Abook\" class=\"Z3988\"><span style=\"display:none;\">&#160;</span></span> (\"Faculty\")</span></li>\\n<li id=\"cite_note-61\"><span class=\"mw-cite-backlink\"><b><a href=\"#cite_ref-61\">^</a></b></span> <span class=\"reference-text\"><cite class=\"citation book\">Harvard University. (2010). <a rel=\"nofollow\" class=\"external text\" href=\"http://cdn.wds.harvard.edu/fad/2010_full_fin_report.pdf\"><i>Financial Report, Fiscal Year 2010</i></a> <span style=\"font-size:85%;\">(PDF)</span>.</cite><span title=\"ctx_ver=Z39.88-2004&amp;rfr_id=info%3Asid%2Fen.wikipedia.org%3AHarvard+University&amp;rft.au=Harvard+University.&amp;rft.btitle=Financial+Report%2C+Fiscal+Year+2010&amp;rft.date=2010&amp;rft.genre=book&amp;rft_id=http%3A%2F%2Fcdn.wds.harvard.edu%2Ffad%2F2010_full_fin_report.pdf&amp;rft_val_fmt=info%3Aofi%2Ffmt%3Akev%3Amtx%3Abook\" class=\"Z3988\"><span style=\"display:none;\">&#160;</span></span> p. 20.</span></li>\\n<li id=\"cite_note-62\"><span class=\"mw-cite-backlink\"><b><a href=\"#cite_ref-62\">^</a></b></span> <span class=\"reference-text\"><cite class=\"citation journal\"><a rel=\"nofollow\" class=\"external text\" href=\"http://harvardmagazine.com/2011/09/harvard-endowment-rises-to-32-billion\">\"Harvard Endowment Rises $4.4 Billion to $32 Billion\"</a>. <i>Harvard Magazine</i>. November\\u2013December. 2011<span class=\"reference-accessdate\">. Retrieved <span class=\"nowrap\">December 13,</span> 2011</span>.</cite><span title=\"ctx_ver=Z39.88-2004&amp;rfr_id=info%3Asid%2Fen.wikipedia.org%3AHarvard+University&amp;rft.atitle=Harvard+Endowment+Rises+%244.4+Billion+to+%2432+Billion&amp;rft.date=2011&amp;rft.genre=article&amp;rft_id=http%3A%2F%2Fharvardmagazine.com%2F2011%2F09%2Fharvard-endowment-rises-to-32-billion&amp;rft.jtitle=Harvard+Magazine&amp;rft_val_fmt=info%3Aofi%2Ffmt%3Akev%3Amtx%3Ajournal&amp;rft.volume=November%93December\" class=\"Z3988\"><span style=\"display:none;\">&#160;</span></span></span></li>\\n<li id=\"cite_note-NACUBO-63\"><span class=\"mw-cite-backlink\"><b><a href=\"#cite_ref-NACUBO_63-0\">^</a></b></span> <span class=\"reference-text\"><cite class=\"citation web\"><a rel=\"nofollow\" class=\"external text\" href=\"http://www.nacubo.org/Documents/Endowment%20Files/2013NCSEEndowmentMarketValuesRevisedJan232014.pdf\">\"U.S. and Canadian Institutions Listed by Fiscal Year 2013 Endowment Market Value and Change in Endowment Market Value from FY 2012 to FY 2013\"</a> <span style=\"font-size:85%;\">(PDF)</span>. National Association of College and University Business Officers and Commonfund Institute<span class=\"reference-accessdate\">. Retrieved <span class=\"nowrap\">January 29,</span> 2014</span>.</cite><span title=\"ctx_ver=Z39.88-2004&amp;rfr_id=info%3Asid%2Fen.wikipedia.org%3AHarvard+University&amp;rft.btitle=U.S.+and+Canadian+Institutions+Listed+by+Fiscal+Year+2013+Endowment+Market+Value+and+Change+in+Endowment+Market+Value+from+FY+2012+to+FY+2013&amp;rft.genre=unknown&amp;rft_id=http%3A%2F%2Fwww.nacubo.org%2FDocuments%2FEndowment%2520Files%2F2013NCSEEndowmentMarketValuesRevisedJan232014.pdf&amp;rft.pub=National+Association+of+College+and+University+Business+Officers+and+Commonfund+Institute&amp;rft_val_fmt=info%3Aofi%2Ffmt%3Akev%3Amtx%3Abook\" class=\"Z3988\"><span style=\"display:none;\">&#160;</span></span></span></li>\\n<li id=\"cite_note-64\"><span class=\"mw-cite-backlink\"><b><a href=\"#cite_ref-64\">^</a></b></span> <span class=\"reference-text\"><cite class=\"citation news\">Beth Healy (January 28, 2010). <a rel=\"nofollow\" class=\"external text\" href=\"http://www.boston.com/business/markets/articles/2010/01/28/harvard_endowment_leads_others_down/\">\"Harvard endowment leads others down\"</a>. <i>The Boston Globe</i><span class=\"reference-accessdate\">. Retrieved <span class=\"nowrap\">September 2,</span> 2010</span>.</cite><span title=\"ctx_ver=Z39.88-2004&amp;rfr_id=info%3Asid%2Fen.wikipedia.org%3AHarvard+University&amp;rft.atitle=Harvard+endowment+leads+others+down&amp;rft.au=Beth+Healy&amp;rft.date=2010-01-28&amp;rft.genre=article&amp;rft_id=http%3A%2F%2Fwww.boston.com%2Fbusiness%2Fmarkets%2Farticles%2F2010%2F01%2F28%2Fharvard_endowment_leads_others_down%2F&amp;rft.jtitle=The+Boston+Globe&amp;rft_val_fmt=info%3Aofi%2Ffmt%3Akev%3Amtx%3Ajournal\" class=\"Z3988\"><span style=\"display:none;\">&#160;</span></span></span></li>\\n<li id=\"cite_note-65\"><span class=\"mw-cite-backlink\"><b><a href=\"#cite_ref-65\">^</a></b></span> <span class=\"reference-text\"><cite class=\"citation news\">Hechinger, John (December 4, 2008). \"Harvard Hit by Loss as Crisis Spreads to Colleges\". <i>Wall Street Journal</i>. p.&#160;A1.</cite><span title=\"ctx_ver=Z39.88-2004&amp;rfr_id=info%3Asid%2Fen.wikipedia.org%3AHarvard+University&amp;rft.atitle=Harvard+Hit+by+Loss+as+Crisis+Spreads+to+Colleges&amp;rft.aufirst=John&amp;rft.aulast=Hechinger&amp;rft.date=2008-12-04&amp;rft.genre=article&amp;rft.jtitle=Wall+Street+Journal&amp;rft.pages=A1&amp;rft_val_fmt=info%3Aofi%2Ffmt%3Akev%3Amtx%3Ajournal\" class=\"Z3988\"><span style=\"display:none;\">&#160;</span></span></span></li>\\n<li id=\"cite_note-vanity-66\"><span class=\"mw-cite-backlink\">^ <a href=\"#cite_ref-vanity_66-0\"><sup><i><b>a</b></i></sup></a> <a href=\"#cite_ref-vanity_66-1\"><sup><i><b>b</b></i></sup></a></span> <span class=\"reference-text\"><cite class=\"citation web\">Munk, Nina (August 2009). <a rel=\"nofollow\" class=\"external text\" href=\"http://www.vanityfair.com/politics/features/2009/08/harvard200908?printable=true&amp;currentPage=all\">\"Nina Munk on Hard Times at Harvard\"</a>. <i>Vanity Fair</i><span class=\"reference-accessdate\">. Retrieved <span class=\"nowrap\">August 29,</span> 2010</span>.</cite><span title=\"ctx_ver=Z39.88-2004&amp;rfr_id=info%3Asid%2Fen.wikipedia.org%3AHarvard+University&amp;rft.atitle=Nina+Munk+on+Hard+Times+at+Harvard&amp;rft.aufirst=Nina&amp;rft.aulast=Munk&amp;rft.date=2009-08&amp;rft.genre=unknown&amp;rft_id=http%3A%2F%2Fwww.vanityfair.com%2Fpolitics%2Ffeatures%2F2009%2F08%2Fharvard200908%3Fprintable%3Dtrue%26currentPage%3Dall&amp;rft.jtitle=Vanity+Fair&amp;rft_val_fmt=info%3Aofi%2Ffmt%3Akev%3Amtx%3Ajournal\" class=\"Z3988\"><span style=\"display:none;\">&#160;</span></span></span></li>\\n<li id=\"cite_note-ForbesUndEnd-67\"><span class=\"mw-cite-backlink\"><b><a href=\"#cite_ref-ForbesUndEnd_67-0\">^</a></b></span> <span class=\"reference-text\"><cite class=\"citation news\">Andrew M. Rosenfield (March 4, 2009). <a rel=\"nofollow\" class=\"external text\" href=\"http://www.forbes.com/2009/03/03/harvard-university-investment-opinions-contributors_endowment_print.html\">\"Understanding Endowments, Part I\"</a>. <i>Forbes</i><span class=\"reference-accessdate\">. Retrieved <span class=\"nowrap\">August 29,</span> 2010</span>.</cite><span title=\"ctx_ver=Z39.88-2004&amp;rfr_id=info%3Asid%2Fen.wikipedia.org%3AHarvard+University&amp;rft.atitle=Understanding+Endowments%2C+Part+I&amp;rft.au=Andrew+M.+Rosenfield&amp;rft.date=2009-03-04&amp;rft.genre=article&amp;rft_id=http%3A%2F%2Fwww.forbes.com%2F2009%2F03%2F03%2Fharvard-university-investment-opinions-contributors_endowment_print.html&amp;rft.jtitle=Forbes&amp;rft_val_fmt=info%3Aofi%2Ffmt%3Akev%3Amtx%3Ajournal\" class=\"Z3988\"><span style=\"display:none;\">&#160;</span></span></span></li>\\n<li id=\"cite_note-68\"><span class=\"mw-cite-backlink\"><b><a href=\"#cite_ref-68\">^</a></b></span> <span class=\"reference-text\"><cite class=\"citation news\">Vidya B. Viswanathan and Peter F. Zhu (March 5, 2009). <a rel=\"nofollow\" class=\"external text\" href=\"http://www.thecrimson.com/article/2009/3/5/residents-protest-vacancies-in-allston-span/\">\"Residents Protest Vacancies in Allston\"</a>. <i>Harvard Crimson</i><span class=\"reference-accessdate\">. Retrieved <span class=\"nowrap\">February 10,</span> 2011</span>.</cite><span title=\"ctx_ver=Z39.88-2004&amp;rfr_id=info%3Asid%2Fen.wikipedia.org%3AHarvard+University&amp;rft.atitle=Residents+Protest+Vacancies+in+Allston&amp;rft.au=Vidya+B.+Viswanathan+and+Peter+F.+Zhu&amp;rft.date=2009-03-05&amp;rft.genre=article&amp;rft_id=http%3A%2F%2Fwww.thecrimson.com%2Farticle%2F2009%2F3%2F5%2Fresidents-protest-vacancies-in-allston-span%2F&amp;rft.jtitle=Harvard+Crimson&amp;rft_val_fmt=info%3Aofi%2Ffmt%3Akev%3Amtx%3Ajournal\" class=\"Z3988\"><span style=\"display:none;\">&#160;</span></span></span></li>\\n<li id=\"cite_note-69\"><span class=\"mw-cite-backlink\"><b><a href=\"#cite_ref-69\">^</a></b></span> <span class=\"reference-text\"><a rel=\"nofollow\" class=\"external text\" href=\"http://www.locatecolleges.com/ma/harvard-university\">Locate Colleges Harvard University</a></span></li>\\n<li id=\"cite_note-70\"><span class=\"mw-cite-backlink\"><b><a href=\"#cite_ref-70\">^</a></b></span> <span class=\"reference-text\"><cite class=\"citation journal\">Alli Welton (November 20, 2012). <a rel=\"nofollow\" class=\"external text\" href=\"http://www.thenation.com/article/harvard-students-vote-72-percent-support-fossil-fuel-divestment/\">\"Harvard Students Vote 72 Percent Support for Fossil Fuel Divestment\"</a>. <i>The Nation</i><span class=\"reference-accessdate\">. Retrieved <span class=\"nowrap\">July 27,</span> 2015</span>.</cite><span title=\"ctx_ver=Z39.88-2004&amp;rfr_id=info%3Asid%2Fen.wikipedia.org%3AHarvard+University&amp;rft.atitle=Harvard+Students+Vote+72+Percent+Support+for+Fossil+Fuel+Divestment&amp;rft.au=Alli+Welton&amp;rft.date=2012-11-20&amp;rft.genre=article&amp;rft_id=http%3A%2F%2Fwww.thenation.com%2Farticle%2Fharvard-students-vote-72-percent-support-fossil-fuel-divestment%2F&amp;rft.jtitle=The+Nation&amp;rft_val_fmt=info%3Aofi%2Ffmt%3Akev%3Amtx%3Ajournal\" class=\"Z3988\"><span style=\"display:none;\">&#160;</span></span></span></li>\\n<li id=\"cite_note-GeorgeKaufman2012-71\"><span class=\"mw-cite-backlink\">^ <a href=\"#cite_ref-GeorgeKaufman2012_71-0\"><sup><i><b>a</b></i></sup></a> <a href=\"#cite_ref-GeorgeKaufman2012_71-1\"><sup><i><b>b</b></i></sup></a></span> <span class=\"reference-text\"><cite class=\"citation journal\">Michael C. George; David W. Kaufman (May 23, 2012). <a rel=\"nofollow\" class=\"external text\" href=\"http://www.thecrimson.com/article/2012/5/23/Protest-Divestment-Apartheid/?page=single\">\"Students Protest Investment in Apartheid South Africa\"</a>. <i>The Harvard Crimson</i><span class=\"reference-accessdate\">. Retrieved <span class=\"nowrap\">July 27,</span> 2015</span>.</cite><span title=\"ctx_ver=Z39.88-2004&amp;rfr_id=info%3Asid%2Fen.wikipedia.org%3AHarvard+University&amp;rft.atitle=Students+Protest+Investment+in+Apartheid+South+Africa&amp;rft.au=David+W.+Kaufman&amp;rft.au=Michael+C.+George&amp;rft.date=2012-05-23&amp;rft.genre=article&amp;rft_id=http%3A%2F%2Fwww.thecrimson.com%2Farticle%2F2012%2F5%2F23%2FProtest-Divestment-Apartheid%2F%3Fpage%3Dsingle&amp;rft.jtitle=The+Harvard+Crimson&amp;rft_val_fmt=info%3Aofi%2Ffmt%3Akev%3Amtx%3Ajournal\" class=\"Z3988\"><span style=\"display:none;\">&#160;</span></span></span></li>\\n<li id=\"cite_note-72\"><span class=\"mw-cite-backlink\"><b><a href=\"#cite_ref-72\">^</a></b></span> <span class=\"reference-text\"><cite class=\"citation journal\">Anjali Cadambi (September 19, 2010). <a rel=\"nofollow\" class=\"external text\" href=\"http://nvdatabase.swarthmore.edu/content/harvard-university-community-campaigns-divestment-apartheid-south-africa-1977-1989\">\"Harvard University community campaigns for divestment from apartheid South Africa, 1977-1989\"</a>. <i>Global Nonviolent Action Database</i><span class=\"reference-accessdate\">. Retrieved <span class=\"nowrap\">July 27,</span> 2015</span>.</cite><span title=\"ctx_ver=Z39.88-2004&amp;rfr_id=info%3Asid%2Fen.wikipedia.org%3AHarvard+University&amp;rft.atitle=Harvard+University+community+campaigns+for+divestment+from+apartheid+South+Africa%2C+1977-1989&amp;rft.au=Anjali+Cadambi&amp;rft.date=2010-09-19&amp;rft.genre=article&amp;rft_id=http%3A%2F%2Fnvdatabase.swarthmore.edu%2Fcontent%2Fharvard-university-community-campaigns-divestment-apartheid-south-africa-1977-1989&amp;rft.jtitle=Global+Nonviolent+Action+Database&amp;rft_val_fmt=info%3Aofi%2Ffmt%3Akev%3Amtx%3Ajournal\" class=\"Z3988\"><span style=\"display:none;\">&#160;</span></span></span></li>\\n<li id=\"cite_note-Trumpbour1989-73\"><span class=\"mw-cite-backlink\"><b><a href=\"#cite_ref-Trumpbour1989_73-0\">^</a></b></span> <span class=\"reference-text\"><cite class=\"citation book\">John Trumpbour (1989). <a rel=\"nofollow\" class=\"external text\" href=\"https://books.google.com/books?id=67_6oDx8GHwC&amp;pg=PA405\"><i>How Harvard Rules: Reason in the Service of Empire</i></a>. South End Press. pp.&#160;402\\u2013418. <a href=\"/wiki/International_Standard_Book_Number\" title=\"International Standard Book Number\">ISBN</a>&#160;<a href=\"/wiki/Special:BookSources/978-0-89608-283-0\" title=\"Special:BookSources/978-0-89608-283-0\">978-0-89608-283-0</a>.</cite><span title=\"ctx_ver=Z39.88-2004&amp;rfr_id=info%3Asid%2Fen.wikipedia.org%3AHarvard+University&amp;rft.au=John+Trumpbour&amp;rft.btitle=How+Harvard+Rules%3A+Reason+in+the+Service+of+Empire&amp;rft.date=1989&amp;rft.genre=book&amp;rft_id=https%3A%2F%2Fbooks.google.com%2Fbooks%3Fid%3D67_6oDx8GHwC%26pg%3DPA405&amp;rft.isbn=978-0-89608-283-0&amp;rft.pages=402-418&amp;rft.pub=South+End+Press&amp;rft_val_fmt=info%3Aofi%2Ffmt%3Akev%3Amtx%3Abook\" class=\"Z3988\"><span style=\"display:none;\">&#160;</span></span></span></li>\\n<li id=\"cite_note-Waters2009-74\"><span class=\"mw-cite-backlink\"><b><a href=\"#cite_ref-Waters2009_74-0\">^</a></b></span> <span class=\"reference-text\"><cite class=\"citation book\">Robert Anthony Waters Jr. (March 20, 2009). <a rel=\"nofollow\" class=\"external text\" href=\"https://books.google.com/books?id=LQzZ0hhvGZAC&amp;pg=PA77\"><i>Historical Dictionary of United States-Africa Relations</i></a>. Scarecrow Press. p.&#160;77. <a href=\"/wiki/International_Standard_Book_Number\" title=\"International Standard Book Number\">ISBN</a>&#160;<a href=\"/wiki/Special:BookSources/978-0-8108-6291-3\" title=\"Special:BookSources/978-0-8108-6291-3\">978-0-8108-6291-3</a>.</cite><span title=\"ctx_ver=Z39.88-2004&amp;rfr_id=info%3Asid%2Fen.wikipedia.org%3AHarvard+University&amp;rft.au=Robert+Anthony+Waters+Jr.&amp;rft.btitle=Historical+Dictionary+of+United+States-Africa+Relations&amp;rft.date=2009-03-20&amp;rft.genre=book&amp;rft_id=https%3A%2F%2Fbooks.google.com%2Fbooks%3Fid%3DLQzZ0hhvGZAC%26pg%3DPA77&amp;rft.isbn=978-0-8108-6291-3&amp;rft.pages=77&amp;rft.pub=Scarecrow+Press&amp;rft_val_fmt=info%3Aofi%2Ffmt%3Akev%3Amtx%3Abook\" class=\"Z3988\"><span style=\"display:none;\">&#160;</span></span></span></li>\\n<li id=\"cite_note-75\"><span class=\"mw-cite-backlink\"><b><a href=\"#cite_ref-75\">^</a></b></span> <span class=\"reference-text\"><cite class=\"citation web\"><a rel=\"nofollow\" class=\"external text\" href=\"http://news.stanford.edu/news/2015/march/new-admits-finaid-032715.html\">\"Stanford offers admission to 2,144 students, expands financial aid program\"</a><span class=\"reference-accessdate\">. Retrieved <span class=\"nowrap\">July 10,</span> 2015</span>.</cite><span title=\"ctx_ver=Z39.88-2004&amp;rfr_id=info%3Asid%2Fen.wikipedia.org%3AHarvard+University&amp;rft.btitle=Stanford+offers+admission+to+2%2C144+students%2C+expands+financial+aid+program&amp;rft.genre=unknown&amp;rft_id=http%3A%2F%2Fnews.stanford.edu%2Fnews%2F2015%2Fmarch%2Fnew-admits-finaid-032715.html&amp;rft_val_fmt=info%3Aofi%2Ffmt%3Akev%3Amtx%3Abook\" class=\"Z3988\"><span style=\"display:none;\">&#160;</span></span></span></li>\\n<li id=\"cite_note-76\"><span class=\"mw-cite-backlink\"><b><a href=\"#cite_ref-76\">^</a></b></span> <span class=\"reference-text\"><cite class=\"citation web\">Yaqhubi, Zohra D. <a rel=\"nofollow\" class=\"external text\" href=\"http://www.thecrimson.com/article/2013/3/28/class-of-2017-admissions/\">\"Harvard College Accepts Record Low of 5.8 Percent to the Class of 2017 | News | The Harvard Crimson\"</a>. Thecrimson.com<span class=\"reference-accessdate\">. Retrieved <span class=\"nowrap\">July 5,</span> 2013</span>.</cite><span title=\"ctx_ver=Z39.88-2004&amp;rfr_id=info%3Asid%2Fen.wikipedia.org%3AHarvard+University&amp;rft.aufirst=Zohra+D.&amp;rft.aulast=Yaqhubi&amp;rft.btitle=Harvard+College+Accepts+Record+Low+of+5.8+Percent+to+the+Class+of+2017+%26%23124%3B+News+%26%23124%3B+The+Harvard+Crimson&amp;rft.genre=unknown&amp;rft_id=http%3A%2F%2Fwww.thecrimson.com%2Farticle%2F2013%2F3%2F28%2Fclass-of-2017-admissions%2F&amp;rft.pub=Thecrimson.com&amp;rft_val_fmt=info%3Aofi%2Ffmt%3Akev%3Amtx%3Abook\" class=\"Z3988\"><span style=\"display:none;\">&#160;</span></span></span></li>\\n<li id=\"cite_note-77\"><span class=\"mw-cite-backlink\"><b><a href=\"#cite_ref-77\">^</a></b></span> <span class=\"reference-text\"><cite class=\"citation news\">Finder, Alan; Arenson, Karen W. (September 12, 2006). <a rel=\"nofollow\" class=\"external text\" href=\"http://www.nytimes.com/2006/09/12/education/12harvard.html\">\"Harvard Ends Early Admission\"</a>. <i><a href=\"/wiki/The_New_York_Times\" title=\"The New York Times\">The New York Times</a></i>.</cite><span title=\"ctx_ver=Z39.88-2004&amp;rfr_id=info%3Asid%2Fen.wikipedia.org%3AHarvard+University&amp;rft.atitle=Harvard+Ends+Early+Admission&amp;rft.au=Arenson%2C+Karen+W.&amp;rft.aufirst=Alan&amp;rft.aulast=Finder&amp;rft.date=2006-09-12&amp;rft.genre=article&amp;rft_id=http%3A%2F%2Fwww.nytimes.com%2F2006%2F09%2F12%2Feducation%2F12harvard.html&amp;rft.jtitle=The+New+York+Times&amp;rft_val_fmt=info%3Aofi%2Ffmt%3Akev%3Amtx%3Ajournal\" class=\"Z3988\"><span style=\"display:none;\">&#160;</span></span></span></li>\\n<li id=\"cite_note-The_Wall_Street_Journal-78\"><span class=\"mw-cite-backlink\"><b><a href=\"#cite_ref-The_Wall_Street_Journal_78-0\">^</a></b></span> <span class=\"reference-text\"><cite class=\"citation news\">Golden, Daniel (January 15, 2003). <a rel=\"nofollow\" class=\"external text\" href=\"http://online.wsj.com/public/resources/documents/golden3.htm\">\"Admissions Preferences Given to Alumni Children Draws Fire\"</a>. <i>The Wall Street Journal</i>.</cite><span title=\"ctx_ver=Z39.88-2004&amp;rfr_id=info%3Asid%2Fen.wikipedia.org%3AHarvard+University&amp;rft.atitle=Admissions+Preferences+Given+to+Alumni+Children+Draws+Fire&amp;rft.aufirst=Daniel&amp;rft.aulast=Golden&amp;rft.date=2003-01-15&amp;rft.genre=article&amp;rft_id=http%3A%2F%2Fonline.wsj.com%2Fpublic%2Fresources%2Fdocuments%2Fgolden3.htm&amp;rft.jtitle=The+Wall+Street+Journal&amp;rft_val_fmt=info%3Aofi%2Ffmt%3Akev%3Amtx%3Ajournal\" class=\"Z3988\"><span style=\"display:none;\">&#160;</span></span></span></li>\\n<li id=\"cite_note-79\"><span class=\"mw-cite-backlink\"><b><a href=\"#cite_ref-79\">^</a></b></span> <span class=\"reference-text\"><cite class=\"citation book\">Golden, Daniel (2006). <i>The Price of Admission: How America\\'s Ruling Class Buys Its Way into Elite Colleges\\u2014and Who Gets Left Outside the Gates</i>. <a href=\"/wiki/International_Standard_Book_Number\" title=\"International Standard Book Number\">ISBN</a>&#160;<a href=\"/wiki/Special:BookSources/1-4000-9796-7\" title=\"Special:BookSources/1-4000-9796-7\">1-4000-9796-7</a>.</cite><span title=\"ctx_ver=Z39.88-2004&amp;rfr_id=info%3Asid%2Fen.wikipedia.org%3AHarvard+University&amp;rft.aufirst=Daniel&amp;rft.aulast=Golden&amp;rft.btitle=The+Price+of+Admission%3A+How+America%27s+Ruling+Class+Buys+Its+Way+into+Elite+Colleges%94and+Who+Gets+Left+Outside+the+Gates&amp;rft.date=2006&amp;rft.genre=book&amp;rft.isbn=1-4000-9796-7&amp;rft_val_fmt=info%3Aofi%2Ffmt%3Akev%3Amtx%3Abook\" class=\"Z3988\"><span style=\"display:none;\">&#160;</span></span></span></li>\\n<li id=\"cite_note-80\"><span class=\"mw-cite-backlink\"><b><a href=\"#cite_ref-80\">^</a></b></span> <span class=\"reference-text\"><cite class=\"citation web\"><a href=\"/wiki/Harvard_College\" title=\"Harvard College\">Harvard College</a>. <a rel=\"nofollow\" class=\"external text\" href=\"http://www.college.harvard.edu/icb/icb.do?keyword=k61161&amp;tabgroupid=icb.tabgroup85886\">\"A Brief History of Harvard College\"</a>. Harvard College<span class=\"reference-accessdate\">. Retrieved <span class=\"nowrap\">July 25,</span> 2011</span>.</cite><span title=\"ctx_ver=Z39.88-2004&amp;rfr_id=info%3Asid%2Fen.wikipedia.org%3AHarvard+University&amp;rft.au=Harvard+College&amp;rft.btitle=A+Brief+History+of+Harvard+College&amp;rft.genre=unknown&amp;rft_id=http%3A%2F%2Fwww.college.harvard.edu%2Ficb%2Ficb.do%3Fkeyword%3Dk61161%26tabgroupid%3Dicb.tabgroup85886&amp;rft.pub=Harvard+College&amp;rft_val_fmt=info%3Aofi%2Ffmt%3Akev%3Amtx%3Abook\" class=\"Z3988\"><span style=\"display:none;\">&#160;</span></span></span></li>\\n<li id=\"cite_note-81\"><span class=\"mw-cite-backlink\"><b><a href=\"#cite_ref-81\">^</a></b></span> <span class=\"reference-text\"><cite class=\"citation web\"><a rel=\"nofollow\" class=\"external text\" href=\"http://cihe.neasc.org/about_our_institutions/roster_of_institutions/\">\"Roster of Institutions\"</a>. Commission on Institutions of Higher Education, New England Association of Schools and Colleges<span class=\"reference-accessdate\">. Retrieved <span class=\"nowrap\">August 28,</span> 2010</span>.</cite><span title=\"ctx_ver=Z39.88-2004&amp;rfr_id=info%3Asid%2Fen.wikipedia.org%3AHarvard+University&amp;rft.btitle=Roster+of+Institutions&amp;rft.genre=unknown&amp;rft_id=http%3A%2F%2Fcihe.neasc.org%2Fabout_our_institutions%2Froster_of_institutions%2F&amp;rft.pub=Commission+on+Institutions+of+Higher+Education%2C+New+England+Association+of+Schools+and+Colleges&amp;rft_val_fmt=info%3Aofi%2Ffmt%3Akev%3Amtx%3Abook\" class=\"Z3988\"><span style=\"display:none;\">&#160;</span></span></span></li>\\n<li id=\"cite_note-82\"><span class=\"mw-cite-backlink\"><b><a href=\"#cite_ref-82\">^</a></b></span> <span class=\"reference-text\"><cite class=\"citation web\"><a rel=\"nofollow\" class=\"external text\" href=\"http://www.handbook.fas.harvard.edu/icb/icb.do?keyword=k69286&amp;tabgroupid=icb.tabgroup106995\">\"Fields of Concentration\"</a>. <i>Handbook for Students</i>. Harvard College<span class=\"reference-accessdate\">. Retrieved <span class=\"nowrap\">August 28,</span> 2010</span>.</cite><span title=\"ctx_ver=Z39.88-2004&amp;rfr_id=info%3Asid%2Fen.wikipedia.org%3AHarvard+University&amp;rft.atitle=Fields+of+Concentration&amp;rft.genre=unknown&amp;rft_id=http%3A%2F%2Fwww.handbook.fas.harvard.edu%2Ficb%2Ficb.do%3Fkeyword%3Dk69286%26tabgroupid%3Dicb.tabgroup106995&amp;rft.jtitle=Handbook+for+Students&amp;rft_val_fmt=info%3Aofi%2Ffmt%3Akev%3Amtx%3Ajournal\" class=\"Z3988\"><span style=\"display:none;\">&#160;</span></span></span></li>\\n<li id=\"cite_note-83\"><span class=\"mw-cite-backlink\"><b><a href=\"#cite_ref-83\">^</a></b></span> <span class=\"reference-text\"><cite class=\"citation web\"><a rel=\"nofollow\" class=\"external text\" href=\"http://www.gsas.harvard.edu/images/stories/pdfs/handbook.pdf\">\"Degree Programs\"</a> <span style=\"font-size:85%;\">(PDF)</span>. <i>Graduate School of Arts and Sciences Handbook</i>. pp.&#160;28\\u201330<span class=\"reference-accessdate\">. Retrieved <span class=\"nowrap\">August 28,</span> 2010</span>.</cite><span title=\"ctx_ver=Z39.88-2004&amp;rfr_id=info%3Asid%2Fen.wikipedia.org%3AHarvard+University&amp;rft.atitle=Degree+Programs&amp;rft.genre=unknown&amp;rft_id=http%3A%2F%2Fwww.gsas.harvard.edu%2Fimages%2Fstories%2Fpdfs%2Fhandbook.pdf&amp;rft.jtitle=Graduate+School+of+Arts+and+Sciences+Handbook&amp;rft.pages=28-30&amp;rft_val_fmt=info%3Aofi%2Ffmt%3Akev%3Amtx%3Ajournal\" class=\"Z3988\"><span style=\"display:none;\">&#160;</span></span></span></li>\\n<li id=\"cite_note-Degrees-84\"><span class=\"mw-cite-backlink\">^ <a href=\"#cite_ref-Degrees_84-0\"><sup><i><b>a</b></i></sup></a> <a href=\"#cite_ref-Degrees_84-1\"><sup><i><b>b</b></i></sup></a></span> <span class=\"reference-text\"><cite class=\"citation web\"><a rel=\"nofollow\" class=\"external text\" href=\"http://www.provost.harvard.edu/institutional_research/Provost_-_FB2009_10_Sec02_Completions.pdf\">\"Degrees Conferred by Program: Academic Year 2008\\u20132009\"</a> <span style=\"font-size:85%;\">(PDF)</span>. Institutional Research, Office of the Provost, Harvard University<span class=\"reference-accessdate\">. Retrieved <span class=\"nowrap\">August 28,</span> 2010</span>.</cite><span title=\"ctx_ver=Z39.88-2004&amp;rfr_id=info%3Asid%2Fen.wikipedia.org%3AHarvard+University&amp;rft.btitle=Degrees+Conferred+by+Program%3A+Academic+Year+2008%932009&amp;rft.genre=unknown&amp;rft_id=http%3A%2F%2Fwww.provost.harvard.edu%2Finstitutional_research%2FProvost_-_FB2009_10_Sec02_Completions.pdf&amp;rft.pub=Institutional+Research%2C+Office+of+the+Provost%2C+Harvard+University&amp;rft_val_fmt=info%3Aofi%2Ffmt%3Akev%3Amtx%3Abook\" class=\"Z3988\"><span style=\"display:none;\">&#160;</span></span></span></li>\\n<li id=\"cite_note-85\"><span class=\"mw-cite-backlink\"><b><a href=\"#cite_ref-85\">^</a></b></span> <span class=\"reference-text\"><cite class=\"citation web\"><a rel=\"nofollow\" class=\"external text\" href=\"http://isites.harvard.edu/icb/icb.do?keyword=k69286&amp;pageid=icb.page343094\">\"Academic Information: The Core Curriculum Requirement\"</a>. <i>Handbook for Students</i>. Harvard College<span class=\"reference-accessdate\">. Retrieved <span class=\"nowrap\">August 28,</span> 2010</span>.</cite><span title=\"ctx_ver=Z39.88-2004&amp;rfr_id=info%3Asid%2Fen.wikipedia.org%3AHarvard+University&amp;rft.atitle=Academic+Information%3A+The+Core+Curriculum+Requirement&amp;rft.genre=unknown&amp;rft_id=http%3A%2F%2Fisites.harvard.edu%2Ficb%2Ficb.do%3Fkeyword%3Dk69286%26pageid%3Dicb.page343094&amp;rft.jtitle=Handbook+for+Students&amp;rft_val_fmt=info%3Aofi%2Ffmt%3Akev%3Amtx%3Ajournal\" class=\"Z3988\"><span style=\"display:none;\">&#160;</span></span></span></li>\\n<li id=\"cite_note-86\"><span class=\"mw-cite-backlink\"><b><a href=\"#cite_ref-86\">^</a></b></span> <span class=\"reference-text\"><cite class=\"citation web\"><a rel=\"nofollow\" class=\"external text\" href=\"http://isites.harvard.edu/icb/icb.do?keyword=k69286&amp;pageid=icb.page343093\">\"Academic Information: Program in General Education Requirement\"</a>. <i>Handbook for Students</i>. Harvard College<span class=\"reference-accessdate\">. Retrieved <span class=\"nowrap\">August 28,</span> 2010</span>.</cite><span title=\"ctx_ver=Z39.88-2004&amp;rfr_id=info%3Asid%2Fen.wikipedia.org%3AHarvard+University&amp;rft.atitle=Academic+Information%3A+Program+in+General+Education+Requirement&amp;rft.genre=unknown&amp;rft_id=http%3A%2F%2Fisites.harvard.edu%2Ficb%2Ficb.do%3Fkeyword%3Dk69286%26pageid%3Dicb.page343093&amp;rft.jtitle=Handbook+for+Students&amp;rft_val_fmt=info%3Aofi%2Ffmt%3Akev%3Amtx%3Ajournal\" class=\"Z3988\"><span style=\"display:none;\">&#160;</span></span></span></li>\\n<li id=\"cite_note-87\"><span class=\"mw-cite-backlink\"><b><a href=\"#cite_ref-87\">^</a></b></span> <span class=\"reference-text\"><cite class=\"citation news\">Hicks, D. L. (September 20, 2002). <a rel=\"nofollow\" class=\"external text\" href=\"http://query.nytimes.com/gst/fullpage.html?res=9803E5D71130F933A1575AC0A9649C8B63\">\"Should Our Colleges Be Ranked?\"</a>. <i>The New York Times</i>.</cite><span title=\"ctx_ver=Z39.88-2004&amp;rfr_id=info%3Asid%2Fen.wikipedia.org%3AHarvard+University&amp;rft.atitle=Should+Our+Colleges+Be+Ranked%3F&amp;rft.aufirst=D.+L.&amp;rft.aulast=Hicks&amp;rft.date=2002-09-20&amp;rft.genre=article&amp;rft_id=http%3A%2F%2Fquery.nytimes.com%2Fgst%2Ffullpage.html%3Fres%3D9803E5D71130F933A1575AC0A9649C8B63&amp;rft.jtitle=The+New+York+Times&amp;rft_val_fmt=info%3Aofi%2Ffmt%3Akev%3Amtx%3Ajournal\" class=\"Z3988\"><span style=\"display:none;\">&#160;</span></span></span></li>\\n<li id=\"cite_note-88\"><span class=\"mw-cite-backlink\"><b><a href=\"#cite_ref-88\">^</a></b></span> <span class=\"reference-text\"><cite class=\"citation web\">Merrow, J. (2004). <a rel=\"nofollow\" class=\"external text\" href=\"http://www.carnegiefoundation.org/perspectives/perspectives2004.June.htm\">\"Grade Inflation: It\\'s Not Just an Issue for the Ivy League\"</a>. <i>Carnegie Perspectives</i>. <a href=\"/wiki/The_Carnegie_Foundation_for_the_Advancement_of_Teaching\" class=\"mw-redirect\" title=\"The Carnegie Foundation for the Advancement of Teaching\">The Carnegie Foundation for the Advancement of Teaching</a>.</cite><span title=\"ctx_ver=Z39.88-2004&amp;rfr_id=info%3Asid%2Fen.wikipedia.org%3AHarvard+University&amp;rft.atitle=Grade+Inflation%3A+It%27s+Not+Just+an+Issue+for+the+Ivy+League&amp;rft.aufirst=J.&amp;rft.aulast=Merrow&amp;rft.date=2004&amp;rft.genre=unknown&amp;rft_id=http%3A%2F%2Fwww.carnegiefoundation.org%2Fperspectives%2Fperspectives2004.June.htm&amp;rft.jtitle=Carnegie+Perspectives&amp;rft_val_fmt=info%3Aofi%2Ffmt%3Akev%3Amtx%3Ajournal\" class=\"Z3988\"><span style=\"display:none;\">&#160;</span></span></span></li>\\n<li id=\"cite_note-89\"><span class=\"mw-cite-backlink\"><b><a href=\"#cite_ref-89\">^</a></b></span> <span class=\"reference-text\"><cite class=\"citation web\"><a rel=\"nofollow\" class=\"external text\" href=\"http://www.registrar.fas.harvard.edu/fasro/common/calendar.jsp?cat=ugrad&amp;subcat=calendar\">\"5 Year Academic Calendar\"</a>. Harvard University<span class=\"reference-accessdate\">. Retrieved <span class=\"nowrap\">August 28,</span> 2010</span>.</cite><span title=\"ctx_ver=Z39.88-2004&amp;rfr_id=info%3Asid%2Fen.wikipedia.org%3AHarvard+University&amp;rft.btitle=5+Year+Academic+Calendar&amp;rft.genre=unknown&amp;rft_id=http%3A%2F%2Fwww.registrar.fas.harvard.edu%2Ffasro%2Fcommon%2Fcalendar.jsp%3Fcat%3Dugrad%26subcat%3Dcalendar&amp;rft.pub=Harvard+University&amp;rft_val_fmt=info%3Aofi%2Ffmt%3Akev%3Amtx%3Abook\" class=\"Z3988\"><span style=\"display:none;\">&#160;</span></span></span></li>\\n<li id=\"cite_note-90\"><span class=\"mw-cite-backlink\"><b><a href=\"#cite_ref-90\">^</a></b></span> <span class=\"reference-text\"><cite class=\"citation web\"><a rel=\"nofollow\" class=\"external text\" href=\"http://isites.harvard.edu/icb/icb.do?keyword=k69286&amp;pageid=icb.page343175\">\"Academic Information: Rate of Work\"</a>. <i>Handbook for Students</i>. Harvard College<span class=\"reference-accessdate\">. Retrieved <span class=\"nowrap\">August 28,</span> 2010</span>.</cite><span title=\"ctx_ver=Z39.88-2004&amp;rfr_id=info%3Asid%2Fen.wikipedia.org%3AHarvard+University&amp;rft.atitle=Academic+Information%3A+Rate+of+Work&amp;rft.genre=unknown&amp;rft_id=http%3A%2F%2Fisites.harvard.edu%2Ficb%2Ficb.do%3Fkeyword%3Dk69286%26pageid%3Dicb.page343175&amp;rft.jtitle=Handbook+for+Students&amp;rft_val_fmt=info%3Aofi%2Ffmt%3Akev%3Amtx%3Ajournal\" class=\"Z3988\"><span style=\"display:none;\">&#160;</span></span></span></li>\\n<li id=\"cite_note-91\"><span class=\"mw-cite-backlink\"><b><a href=\"#cite_ref-91\">^</a></b></span> <span class=\"reference-text\"><cite class=\"citation web\"><a rel=\"nofollow\" class=\"external text\" href=\"http://isites.harvard.edu/icb/icb.do?keyword=k69286&amp;pageid=icb.page343095\">\"Academic Information: The Concentration Requirement\"</a>. <i>Handbook for Students</i>. Harvard College<span class=\"reference-accessdate\">. Retrieved <span class=\"nowrap\">August 28,</span> 2010</span>.</cite><span title=\"ctx_ver=Z39.88-2004&amp;rfr_id=info%3Asid%2Fen.wikipedia.org%3AHarvard+University&amp;rft.atitle=Academic+Information%3A+The+Concentration+Requirement&amp;rft.genre=unknown&amp;rft_id=http%3A%2F%2Fisites.harvard.edu%2Ficb%2Ficb.do%3Fkeyword%3Dk69286%26pageid%3Dicb.page343095&amp;rft.jtitle=Handbook+for+Students&amp;rft_val_fmt=info%3Aofi%2Ffmt%3Akev%3Amtx%3Ajournal\" class=\"Z3988\"><span style=\"display:none;\">&#160;</span></span></span></li>\\n<li id=\"cite_note-92\"><span class=\"mw-cite-backlink\"><b><a href=\"#cite_ref-92\">^</a></b></span> <span class=\"reference-text\"><cite class=\"citation web\"><a rel=\"nofollow\" class=\"external text\" href=\"http://isites.harvard.edu/icb/icb.do?keyword=k69286&amp;pageid=icb.page343182\">\"Academic Information: Requirements for Honors Degrees\"</a>. <i>Handbook for Students</i>. Harvard College<span class=\"reference-accessdate\">. Retrieved <span class=\"nowrap\">August 28,</span> 2010</span>.</cite><span title=\"ctx_ver=Z39.88-2004&amp;rfr_id=info%3Asid%2Fen.wikipedia.org%3AHarvard+University&amp;rft.atitle=Academic+Information%3A+Requirements+for+Honors+Degrees&amp;rft.genre=unknown&amp;rft_id=http%3A%2F%2Fisites.harvard.edu%2Ficb%2Ficb.do%3Fkeyword%3Dk69286%26pageid%3Dicb.page343182&amp;rft.jtitle=Handbook+for+Students&amp;rft_val_fmt=info%3Aofi%2Ffmt%3Akev%3Amtx%3Ajournal\" class=\"Z3988\"><span style=\"display:none;\">&#160;</span></span></span></li>\\n<li id=\"cite_note-93\"><span class=\"mw-cite-backlink\"><b><a href=\"#cite_ref-93\">^</a></b></span> <span class=\"reference-text\"><cite class=\"citation web\"><a rel=\"nofollow\" class=\"external text\" href=\"http://static.fas.harvard.edu/registrar/ugrad_handbook/current/chapter2/prizes.html\">\"Prizes\"</a>. <i>Faculty of Arts &amp; Sciences</i>. Harvard University. 2010.</cite><span title=\"ctx_ver=Z39.88-2004&amp;rfr_id=info%3Asid%2Fen.wikipedia.org%3AHarvard+University&amp;rft.atitle=Prizes&amp;rft.date=2010&amp;rft.genre=unknown&amp;rft_id=http%3A%2F%2Fstatic.fas.harvard.edu%2Fregistrar%2Fugrad_handbook%2Fcurrent%2Fchapter2%2Fprizes.html&amp;rft.jtitle=Faculty+of+Arts+%26+Sciences&amp;rft_val_fmt=info%3Aofi%2Ffmt%3Akev%3Amtx%3Ajournal\" class=\"Z3988\"><span style=\"display:none;\">&#160;</span></span></span></li>\\n<li id=\"cite_note-94\"><span class=\"mw-cite-backlink\"><b><a href=\"#cite_ref-94\">^</a></b></span> <span class=\"reference-text\"><cite class=\"citation news\">Primack, Phil (October 5, 2008). <a rel=\"nofollow\" class=\"external text\" href=\"http://www.boston.com/bostonglobe/magazine/articles/2008/10/05/doesnt_anybody_get_a_c_anymore/\">\"Doesn\\'t Anybody Get a C Anymore?\"</a>. <i>The Boston Globe</i>.</cite><span title=\"ctx_ver=Z39.88-2004&amp;rfr_id=info%3Asid%2Fen.wikipedia.org%3AHarvard+University&amp;rft.atitle=Doesn%27t+Anybody+Get+a+C+Anymore%3F&amp;rft.aufirst=Phil&amp;rft.aulast=Primack&amp;rft.date=2008-10-05&amp;rft.genre=article&amp;rft_id=http%3A%2F%2Fwww.boston.com%2Fbostonglobe%2Fmagazine%2Farticles%2F2008%2F10%2F05%2Fdoesnt_anybody_get_a_c_anymore%2F&amp;rft.jtitle=The+Boston+Globe&amp;rft_val_fmt=info%3Aofi%2Ffmt%3Akev%3Amtx%3Ajournal\" class=\"Z3988\"><span style=\"display:none;\">&#160;</span></span></span></li>\\n<li id=\"cite_note-95\"><span class=\"mw-cite-backlink\"><b><a href=\"#cite_ref-95\">^</a></b></span> <span class=\"reference-text\"><cite class=\"citation news\">Kohn, A (November 8, 2002). <a rel=\"nofollow\" class=\"external text\" href=\"http://www.alfiekohn.org/teaching/gi.htm\">\"The Dangerous Myth of Grade Inflation\"</a>. <i><a href=\"/wiki/The_Chronicle_of_Higher_Education\" title=\"The Chronicle of Higher Education\">The Chronicle of Higher Education</a></i>.</cite><span title=\"ctx_ver=Z39.88-2004&amp;rfr_id=info%3Asid%2Fen.wikipedia.org%3AHarvard+University&amp;rft.atitle=The+Dangerous+Myth+of+Grade+Inflation&amp;rft.aufirst=A&amp;rft.aulast=Kohn&amp;rft.date=2002-11-08&amp;rft.genre=article&amp;rft_id=http%3A%2F%2Fwww.alfiekohn.org%2Fteaching%2Fgi.htm&amp;rft.jtitle=The+Chronicle+of+Higher+Education&amp;rft_val_fmt=info%3Aofi%2Ffmt%3Akev%3Amtx%3Ajournal\" class=\"Z3988\"><span style=\"display:none;\">&#160;</span></span></span></li>\\n<li id=\"cite_note-96\"><span class=\"mw-cite-backlink\"><b><a href=\"#cite_ref-96\">^</a></b></span> <span class=\"reference-text\">No author given. (2003). <a rel=\"nofollow\" class=\"external text\" href=\"http://www.harvardmagazine.com/on-line/0103128.html\">Brevia</a>. <a href=\"/wiki/Harvard_Magazine\" title=\"Harvard Magazine\">Harvard Magazine</a>, January\\u2013February 2003.</span></li>\\n<li id=\"cite_note-97\"><span class=\"mw-cite-backlink\"><b><a href=\"#cite_ref-97\">^</a></b></span> <span class=\"reference-text\">Milzoff, R. M., Paley, A. R., &amp; Reed, B. J. (2001). <a rel=\"nofollow\" class=\"external text\" href=\"https://web.archive.org/web/20050204131059/http://www.thecrimson.com/fmarchives/fm_03_01_2001/article4A.html\">Grade Inflation is Real</a>. <i>Fifteen Minutes</i> March 1, 2001.</span></li>\\n<li id=\"cite_note-98\"><span class=\"mw-cite-backlink\"><b><a href=\"#cite_ref-98\">^</a></b></span> <span class=\"reference-text\">Bombardieri, M. &amp; Schweitzer, S. (2006). \"At Harvard, more concern for top grades.\" <i><a href=\"/wiki/The_Boston_Globe\" title=\"The Boston Globe\">The Boston Globe</a></i>, February 12, 2006. p. B3 (Benedict Gross quotes, 23.7% A/25% A- figures, characterized as an \"all-time high.\").</span></li>\\n<li id=\"cite_note-99\"><span class=\"mw-cite-backlink\"><b><a href=\"#cite_ref-99\">^</a></b></span> <span class=\"reference-text\"><a href=\"/wiki/Associated_Press\" title=\"Associated Press\">Associated Press</a>. (2004). <a rel=\"nofollow\" class=\"external text\" href=\"http://www.usatoday.com/news/education/2004-04-26-princeton-grades_x.htm\">Princeton becomes first to formally combat grade inflation</a>. <a href=\"/wiki/USA_Today\" title=\"USA Today\">USA Today</a>, April 26, 2004.</span></li>\\n<li id=\"cite_note-Crimson1-100\"><span class=\"mw-cite-backlink\"><b><a href=\"#cite_ref-Crimson1_100-0\">^</a></b></span> <span class=\"reference-text\"><cite class=\"citation news\">Davis, Kevin S. (February 15, 1994). <a rel=\"nofollow\" class=\"external text\" href=\"http://www.thecrimson.com/article/1994/2/15/how-does-harvard-define-cheating-pits/\">\"How Does Harvard Define Cheating?\"</a>. The Harvard Crimson,<span class=\"reference-accessdate\">. Retrieved <span class=\"nowrap\">September 15,</span> 2013</span>. <q>...Cheating incidences that appear before the Ad Board almost always result in requirement to withdraw by the student...</q></cite><span title=\"ctx_ver=Z39.88-2004&amp;rfr_id=info%3Asid%2Fen.wikipedia.org%3AHarvard+University&amp;rft.atitle=How+Does+Harvard+Define+Cheating%3F&amp;rft.aufirst=Kevin+S.&amp;rft.aulast=Davis&amp;rft.date=1994-02-15&amp;rft.genre=article&amp;rft_id=http%3A%2F%2Fwww.thecrimson.com%2Farticle%2F1994%2F2%2F15%2Fhow-does-harvard-define-cheating-pits%2F&amp;rft_val_fmt=info%3Aofi%2Ffmt%3Akev%3Amtx%3Ajournal\" class=\"Z3988\"><span style=\"display:none;\">&#160;</span></span></span></li>\\n<li id=\"cite_note-ABCNews-101\"><span class=\"mw-cite-backlink\"><b><a href=\"#cite_ref-ABCNews_101-0\">^</a></b></span> <span class=\"reference-text\"><cite class=\"citation news\">Curry, Coleen (August 31, 2012). <a rel=\"nofollow\" class=\"external text\" href=\"http://abcnews.go.com/US/harvard-cheating-allegation-part-culture-cheating-grad/story?id=17126367\">\"Harvard Students Accused of Cheating on Final Exam Reflects \\'Culture of Cheating,\\' Grad Says\"</a>. ABC News<span class=\"reference-accessdate\">. Retrieved <span class=\"nowrap\">September 15,</span> 2013</span>.</cite><span title=\"ctx_ver=Z39.88-2004&amp;rfr_id=info%3Asid%2Fen.wikipedia.org%3AHarvard+University&amp;rft.atitle=Harvard+Students+Accused+of+Cheating+on+Final+Exam+Reflects+%27Culture+of+Cheating%2C%27+Grad+Says&amp;rft.aufirst=Coleen&amp;rft.aulast=Curry&amp;rft.date=2012-08-31&amp;rft.genre=article&amp;rft_id=http%3A%2F%2Fabcnews.go.com%2FUS%2Fharvard-cheating-allegation-part-culture-cheating-grad%2Fstory%3Fid%3D17126367&amp;rft_val_fmt=info%3Aofi%2Ffmt%3Akev%3Amtx%3Ajournal\" class=\"Z3988\"><span style=\"display:none;\">&#160;</span></span></span></li>\\n<li id=\"cite_note-Crimson2-102\"><span class=\"mw-cite-backlink\">^ <a href=\"#cite_ref-Crimson2_102-0\"><sup><i><b>a</b></i></sup></a> <a href=\"#cite_ref-Crimson2_102-1\"><sup><i><b>b</b></i></sup></a></span> <span class=\"reference-text\"><cite class=\"citation news\">Hu, Melody Y.; Newcomer, Eric P. (March 24, 2010). <a rel=\"nofollow\" class=\"external text\" href=\"http://www.thecrimson.com/article/2010/3/24/honor-code-students-academic/\">\"Administrators Discuss College Honor Code\"</a>. The Harvard Crimson<span class=\"reference-accessdate\">. Retrieved <span class=\"nowrap\">September 15,</span> 2013</span>. <q>\"...one thing remains certain: many College administrators are looking for a way to combat academic dishonesty at Harvard\\u2014which Harris recently called <i>a real problem</i>\"...</q></cite><span title=\"ctx_ver=Z39.88-2004&amp;rfr_id=info%3Asid%2Fen.wikipedia.org%3AHarvard+University&amp;rft.atitle=Administrators+Discuss+College+Honor+Code&amp;rft.aufirst=Melody+Y.&amp;rft.aulast=Hu&amp;rft.au=Newcomer%2C+Eric+P.&amp;rft.date=2010-03-24&amp;rft.genre=article&amp;rft_id=http%3A%2F%2Fwww.thecrimson.com%2Farticle%2F2010%2F3%2F24%2Fhonor-code-students-academic%2F&amp;rft_val_fmt=info%3Aofi%2Ffmt%3Akev%3Amtx%3Ajournal\" class=\"Z3988\"><span style=\"display:none;\">&#160;</span></span></span></li>\\n<li id=\"cite_note-NYTimes1-103\"><span class=\"mw-cite-backlink\"><b><a href=\"#cite_ref-NYTimes1_103-0\">^</a></b></span> <span class=\"reference-text\"><cite class=\"citation news\">Perez-Pena, Richard (February 1, 2013). <a rel=\"nofollow\" class=\"external text\" href=\"http://www.nytimes.com/2013/02/02/education/harvard-forced-dozens-to-leave-in-cheating-scandal.html\">\"Students Disciplined in Harvard Scandal\"</a>. The New York Times<span class=\"reference-accessdate\">. Retrieved <span class=\"nowrap\">September 15,</span> 2013</span>.</cite><span title=\"ctx_ver=Z39.88-2004&amp;rfr_id=info%3Asid%2Fen.wikipedia.org%3AHarvard+University&amp;rft.atitle=Students+Disciplined+in+Harvard+Scandal&amp;rft.aufirst=Richard&amp;rft.aulast=Perez-Pena&amp;rft.date=2013-02-01&amp;rft.genre=article&amp;rft_id=http%3A%2F%2Fwww.nytimes.com%2F2013%2F02%2F02%2Feducation%2Fharvard-forced-dozens-to-leave-in-cheating-scandal.html&amp;rft_val_fmt=info%3Aofi%2Ffmt%3Akev%3Amtx%3Ajournal\" class=\"Z3988\"><span style=\"display:none;\">&#160;</span></span></span></li>\\n<li id=\"cite_note-104\"><span class=\"mw-cite-backlink\"><b><a href=\"#cite_ref-104\">^</a></b></span> <span class=\"reference-text\"><cite class=\"citation news\">Moya-Smith, Simon (September 6, 2013). <a rel=\"nofollow\" class=\"external text\" href=\"http://usnews.nbcnews.com/_news/2013/09/06/20361014-survey-42-percent-of-harvards-incoming-freshman-class-cheated-on-homework\">\"Survey: 42 percent of Harvard\\'s incoming freshman class cheated on homework\"</a>. NBC News<span class=\"reference-accessdate\">. Retrieved <span class=\"nowrap\">September 6,</span> 2013</span>.</cite><span title=\"ctx_ver=Z39.88-2004&amp;rfr_id=info%3Asid%2Fen.wikipedia.org%3AHarvard+University&amp;rft.atitle=Survey%3A+42+percent+of+Harvard%27s+incoming+freshman+class+cheated+on+homework&amp;rft.aufirst=Simon&amp;rft.aulast=Moya-Smith&amp;rft.date=2013-09-06&amp;rft.genre=article&amp;rft_id=http%3A%2F%2Fusnews.nbcnews.com%2F_news%2F2013%2F09%2F06%2F20361014-survey-42-percent-of-harvards-incoming-freshman-class-cheated-on-homework&amp;rft_val_fmt=info%3Aofi%2Ffmt%3Akev%3Amtx%3Ajournal\" class=\"Z3988\"><span style=\"display:none;\">&#160;</span></span></span></li>\\n<li id=\"cite_note-105\"><span class=\"mw-cite-backlink\"><b><a href=\"#cite_ref-105\">^</a></b></span> <span class=\"reference-text\"><cite class=\"citation news\">Harrington, Rebecca (September 14, 2012). <a rel=\"nofollow\" class=\"external text\" href=\"http://www.nytimes.com/2012/09/15/opinion/the-long-legacy-of-cheating-at-harvard.html\">\"Song of the Cheaters\"</a>. The New York Times<span class=\"reference-accessdate\">. Retrieved <span class=\"nowrap\">September 15,</span> 2013</span>. <q>\"...an honor code, a system ... Harvard has long resisted</q></cite><span title=\"ctx_ver=Z39.88-2004&amp;rfr_id=info%3Asid%2Fen.wikipedia.org%3AHarvard+University&amp;rft.atitle=Song+of+the+Cheaters&amp;rft.aufirst=Rebecca&amp;rft.aulast=Harrington&amp;rft.date=2012-09-14&amp;rft.genre=article&amp;rft_id=http%3A%2F%2Fwww.nytimes.com%2F2012%2F09%2F15%2Fopinion%2Fthe-long-legacy-of-cheating-at-harvard.html&amp;rft_val_fmt=info%3Aofi%2Ffmt%3Akev%3Amtx%3Ajournal\" class=\"Z3988\"><span style=\"display:none;\">&#160;</span></span></span></li>\\n<li id=\"cite_note-Costs_and_Tuition-106\"><span class=\"mw-cite-backlink\"><b><a href=\"#cite_ref-Costs_and_Tuition_106-0\">^</a></b></span> <span class=\"reference-text\"><cite class=\"citation web\"><a rel=\"nofollow\" class=\"external text\" href=\"http://www.valuepenguin.com/colleges/massachusetts/harvard-university/tuition\">\"Harvard University Tuition And Costs\"</a><span class=\"reference-accessdate\">. Retrieved <span class=\"nowrap\">November 22,</span> 2013</span>.</cite><span title=\"ctx_ver=Z39.88-2004&amp;rfr_id=info%3Asid%2Fen.wikipedia.org%3AHarvard+University&amp;rft.btitle=Harvard+University+Tuition+And+Costs&amp;rft.genre=unknown&amp;rft_id=http%3A%2F%2Fwww.valuepenguin.com%2Fcolleges%2Fmassachusetts%2Fharvard-university%2Ftuition&amp;rft_val_fmt=info%3Aofi%2Ffmt%3Akev%3Amtx%3Abook\" class=\"Z3988\"><span style=\"display:none;\">&#160;</span></span></span></li>\\n<li id=\"cite_note-Tuition-107\"><span class=\"mw-cite-backlink\"><b><a href=\"#cite_ref-Tuition_107-0\">^</a></b></span> <span class=\"reference-text\"><cite class=\"citation web\"><a rel=\"nofollow\" class=\"external text\" href=\"http://www.provost.harvard.edu/institutional_research/Provost_-_FB2009_10_Sec03_Tuition.pdf\">\"Tuition at Harvard Schools: FY1990 \\u2013 FY2010\"</a> <span style=\"font-size:85%;\">(PDF)</span>. Harvard University<span class=\"reference-accessdate\">. Retrieved <span class=\"nowrap\">August 28,</span> 2010</span>.</cite><span title=\"ctx_ver=Z39.88-2004&amp;rfr_id=info%3Asid%2Fen.wikipedia.org%3AHarvard+University&amp;rft.btitle=Tuition+at+Harvard+Schools%3A+FY1990+%93+FY2010&amp;rft.genre=unknown&amp;rft_id=http%3A%2F%2Fwww.provost.harvard.edu%2Finstitutional_research%2FProvost_-_FB2009_10_Sec03_Tuition.pdf&amp;rft.pub=Harvard+University&amp;rft_val_fmt=info%3Aofi%2Ffmt%3Akev%3Amtx%3Abook\" class=\"Z3988\"><span style=\"display:none;\">&#160;</span></span></span></li>\\n<li id=\"cite_note-108\"><span class=\"mw-cite-backlink\"><b><a href=\"#cite_ref-108\">^</a></b></span> <span class=\"reference-text\"><cite class=\"citation web\"><a rel=\"nofollow\" class=\"external text\" href=\"http://www.aau.edu/about/default.aspx?id=5476\">\"Member Institutions and Years of Admission\"</a>. Association of American Universities<span class=\"reference-accessdate\">. Retrieved <span class=\"nowrap\">September 15,</span> 2013</span>.</cite><span title=\"ctx_ver=Z39.88-2004&amp;rfr_id=info%3Asid%2Fen.wikipedia.org%3AHarvard+University&amp;rft.btitle=Member+Institutions+and+Years+of+Admission&amp;rft.genre=unknown&amp;rft_id=http%3A%2F%2Fwww.aau.edu%2Fabout%2Fdefault.aspx%3Fid%3D5476&amp;rft.pub=Association+of+American+Universities&amp;rft_val_fmt=info%3Aofi%2Ffmt%3Akev%3Amtx%3Abook\" class=\"Z3988\"><span style=\"display:none;\">&#160;</span></span></span></li>\\n<li id=\"cite_note-109\"><span class=\"mw-cite-backlink\"><b><a href=\"#cite_ref-109\">^</a></b></span> <span class=\"reference-text\"><cite class=\"citation web\"><a rel=\"nofollow\" class=\"external text\" href=\"http://www.nsf.gov/statistics/nsf13325/pdf/tab14.pdf\">\"Table 14: Higher education R&amp;D expenditures, ranked by all R&amp;D expenditures, by source of funds: FY 2011\"</a> <span style=\"font-size:85%;\">(PDF)</span>. National Science Foundation. 2011<span class=\"reference-accessdate\">. Retrieved <span class=\"nowrap\">September 15,</span> 2013</span>.</cite><span title=\"ctx_ver=Z39.88-2004&amp;rfr_id=info%3Asid%2Fen.wikipedia.org%3AHarvard+University&amp;rft.btitle=Table+14%3A+Higher+education+R%26D+expenditures%2C+ranked+by+all+R%26D+expenditures%2C+by+source+of+funds%3A+FY+2011&amp;rft.date=2011&amp;rft.genre=unknown&amp;rft_id=http%3A%2F%2Fwww.nsf.gov%2Fstatistics%2Fnsf13325%2Fpdf%2Ftab14.pdf&amp;rft.pub=National+Science+Foundation&amp;rft_val_fmt=info%3Aofi%2Ffmt%3Akev%3Amtx%3Abook\" class=\"Z3988\"><span style=\"display:none;\">&#160;</span></span></span></li>\\n<li id=\"cite_note-specialcolls-110\"><span class=\"mw-cite-backlink\"><b><a href=\"#cite_ref-specialcolls_110-0\">^</a></b></span> <span class=\"reference-text\">See the library portal listing of archives and special collections <a rel=\"nofollow\" class=\"external text\" href=\"http://lib.harvard.edu/archives/index.html\">Harvard Libraries&#160;: Archives and Special Collections Listed Alphabetically by Name</a>.</span></li>\\n<li id=\"cite_note-Rankings_ARWU_NU-111\"><span class=\"mw-cite-backlink\"><b><a href=\"#cite_ref-Rankings_ARWU_NU_111-0\">^</a></b></span> <span class=\"reference-text\"><cite class=\"citation web\"><a rel=\"nofollow\" class=\"external text\" href=\"http://www.shanghairanking.com/World-University-Rankings-2016/USA.html\">\"Academic Ranking of World Universities 2016: USA\"</a>. Shanghai Ranking Consultancy<span class=\"reference-accessdate\">. Retrieved <span class=\"nowrap\">August 16,</span> 2016</span>.</cite><span title=\"ctx_ver=Z39.88-2004&amp;rfr_id=info%3Asid%2Fen.wikipedia.org%3AHarvard+University&amp;rft.btitle=Academic+Ranking+of+World+Universities+2016%3A+USA&amp;rft.genre=unknown&amp;rft_id=http%3A%2F%2Fwww.shanghairanking.com%2FWorld-University-Rankings-2016%2FUSA.html&amp;rft.pub=Shanghai+Ranking+Consultancy&amp;rft_val_fmt=info%3Aofi%2Ffmt%3Akev%3Amtx%3Abook\" class=\"Z3988\"><span style=\"display:none;\">&#160;</span></span></span></li>\\n<li id=\"cite_note-Rankings_Forbes-112\"><span class=\"mw-cite-backlink\"><b><a href=\"#cite_ref-Rankings_Forbes_112-0\">^</a></b></span> <span class=\"reference-text\"><cite class=\"citation web\"><a rel=\"nofollow\" class=\"external text\" href=\"http://www.forbes.com/top-colleges/list/#tab:rank\">\"America\\'s Top Colleges\"</a>. <i>Forbes</i>. July 5, 2016.</cite><span title=\"ctx_ver=Z39.88-2004&amp;rfr_id=info%3Asid%2Fen.wikipedia.org%3AHarvard+University&amp;rft.btitle=America%27s+Top+Colleges&amp;rft.date=2016-07-05&amp;rft.genre=unknown&amp;rft_id=http%3A%2F%2Fwww.forbes.com%2Ftop-colleges%2Flist%2F%23tab%3Arank&amp;rft.pub=%27%27Forbes%27%27&amp;rft_val_fmt=info%3Aofi%2Ffmt%3Akev%3Amtx%3Abook\" class=\"Z3988\"><span style=\"display:none;\">&#160;</span></span></span></li>\\n<li id=\"cite_note-Rankings_USNWR_NU-113\"><span class=\"mw-cite-backlink\"><b><a href=\"#cite_ref-Rankings_USNWR_NU_113-0\">^</a></b></span> <span class=\"reference-text\"><cite class=\"citation web\"><a rel=\"nofollow\" class=\"external text\" href=\"http://colleges.usnews.rankingsandreviews.com/best-colleges/rankings/national-universities\">\"Best Colleges 2017: National Universities Rankings\"</a>. <i>U.S. News &amp; World Report</i>. September 12, 2016.</cite><span title=\"ctx_ver=Z39.88-2004&amp;rfr_id=info%3Asid%2Fen.wikipedia.org%3AHarvard+University&amp;rft.btitle=Best+Colleges+2017%3A+National+Universities+Rankings&amp;rft.date=2016-09-12&amp;rft.genre=unknown&amp;rft_id=http%3A%2F%2Fcolleges.usnews.rankingsandreviews.com%2Fbest-colleges%2Frankings%2Fnational-universities&amp;rft.pub=%27%27U.S.+News+%26+World+Report%27%27&amp;rft_val_fmt=info%3Aofi%2Ffmt%3Akev%3Amtx%3Abook\" class=\"Z3988\"><span style=\"display:none;\">&#160;</span></span></span></li>\\n<li id=\"cite_note-Rankings_Wamo_NU-114\"><span class=\"mw-cite-backlink\"><b><a href=\"#cite_ref-Rankings_Wamo_NU_114-0\">^</a></b></span> <span class=\"reference-text\"><cite class=\"citation web\"><a rel=\"nofollow\" class=\"external text\" href=\"http://washingtonmonthly.com/college_guide?ranking=2016-rankings-national-universities\">\"2016 Rankings - National Universities\"</a>. <i>Washington Monthly</i><span class=\"reference-accessdate\">. Retrieved <span class=\"nowrap\">September 6,</span> 2016</span>.</cite><span title=\"ctx_ver=Z39.88-2004&amp;rfr_id=info%3Asid%2Fen.wikipedia.org%3AHarvard+University&amp;rft.btitle=2016+Rankings+-+National+Universities&amp;rft.genre=unknown&amp;rft_id=http%3A%2F%2Fwashingtonmonthly.com%2Fcollege_guide%3Franking%3D2016-rankings-national-universities&amp;rft.pub=%27%27Washington+Monthly%27%27&amp;rft_val_fmt=info%3Aofi%2Ffmt%3Akev%3Amtx%3Abook\" class=\"Z3988\"><span style=\"display:none;\">&#160;</span></span></span></li>\\n<li id=\"cite_note-Rankings_ARWU_W-115\"><span class=\"mw-cite-backlink\"><b><a href=\"#cite_ref-Rankings_ARWU_W_115-0\">^</a></b></span> <span class=\"reference-text\"><cite class=\"citation web\"><a rel=\"nofollow\" class=\"external text\" href=\"http://www.shanghairanking.com/ARWU2016.html\">\"Academic Ranking of World Universities 2016\"</a>. Shanghai Ranking Consultancy. 2016<span class=\"reference-accessdate\">. Retrieved <span class=\"nowrap\">August 16,</span> 2016</span>.</cite><span title=\"ctx_ver=Z39.88-2004&amp;rfr_id=info%3Asid%2Fen.wikipedia.org%3AHarvard+University&amp;rft.btitle=Academic+Ranking+of+World+Universities+2016&amp;rft.date=2016&amp;rft.genre=unknown&amp;rft_id=http%3A%2F%2Fwww.shanghairanking.com%2FARWU2016.html&amp;rft.pub=Shanghai+Ranking+Consultancy&amp;rft_val_fmt=info%3Aofi%2Ffmt%3Akev%3Amtx%3Abook\" class=\"Z3988\"><span style=\"display:none;\">&#160;</span></span></span></li>\\n<li id=\"cite_note-Rankings_QS_W-116\"><span class=\"mw-cite-backlink\"><b><a href=\"#cite_ref-Rankings_QS_W_116-0\">^</a></b></span> <span class=\"reference-text\"><cite class=\"citation web\"><a rel=\"nofollow\" class=\"external text\" href=\"http://www.topuniversities.com/university-rankings/world-university-rankings/2016\">\"QS World University Rankings\\xae 2016/17\"</a>. Quacquarelli Symonds Limited. 2016<span class=\"reference-accessdate\">. Retrieved <span class=\"nowrap\">September 6,</span> 2016</span>.</cite><span title=\"ctx_ver=Z39.88-2004&amp;rfr_id=info%3Asid%2Fen.wikipedia.org%3AHarvard+University&amp;rft.btitle=QS+World+University+Rankings%AE+2016%2F17&amp;rft.date=2016&amp;rft.genre=unknown&amp;rft_id=http%3A%2F%2Fwww.topuniversities.com%2Funiversity-rankings%2Fworld-university-rankings%2F2016&amp;rft.pub=Quacquarelli+Symonds+Limited&amp;rft_val_fmt=info%3Aofi%2Ffmt%3Akev%3Amtx%3Abook\" class=\"Z3988\"><span style=\"display:none;\">&#160;</span></span></span></li>\\n<li id=\"cite_note-Rankings_THES_W-117\"><span class=\"mw-cite-backlink\"><b><a href=\"#cite_ref-Rankings_THES_W_117-0\">^</a></b></span> <span class=\"reference-text\"><cite class=\"citation web\"><a rel=\"nofollow\" class=\"external text\" href=\"https://www.timeshighereducation.com/world-university-rankings/2017/world-ranking#!/page/0/length/50/sort_by/rank_label/sort_order/asc/cols/rank_only\">\"World University Rankings 2016-17\"</a>. THE Education Ltd<span class=\"reference-accessdate\">. Retrieved <span class=\"nowrap\">September 21,</span> 2016</span>.</cite><span title=\"ctx_ver=Z39.88-2004&amp;rfr_id=info%3Asid%2Fen.wikipedia.org%3AHarvard+University&amp;rft.btitle=World+University+Rankings+2016-17&amp;rft.genre=unknown&amp;rft_id=https%3A%2F%2Fwww.timeshighereducation.com%2Fworld-university-rankings%2F2017%2Fworld-ranking%23%21%2Fpage%2F0%2Flength%2F50%2Fsort_by%2Frank_label%2Fsort_order%2Fasc%2Fcols%2Frank_only&amp;rft.pub=THE+Education+Ltd.&amp;rft_val_fmt=info%3Aofi%2Ffmt%3Akev%3Amtx%3Abook\" class=\"Z3988\"><span style=\"display:none;\">&#160;</span></span></span></li>\\n<li id=\"cite_note-Rankings_USNWR_W-118\"><span class=\"mw-cite-backlink\"><b><a href=\"#cite_ref-Rankings_USNWR_W_118-0\">^</a></b></span> <span class=\"reference-text\"><cite class=\"citation web\"><a rel=\"nofollow\" class=\"external text\" href=\"http://www.usnews.com/education/best-global-universities/rankings\">\"Best Global Universities Rankings: 2017\"</a>. U.S. News &amp; World Report LP<span class=\"reference-accessdate\">. Retrieved <span class=\"nowrap\">October 25,</span> 2016</span>.</cite><span title=\"ctx_ver=Z39.88-2004&amp;rfr_id=info%3Asid%2Fen.wikipedia.org%3AHarvard+University&amp;rft.btitle=Best+Global+Universities+Rankings%3A+2017&amp;rft.genre=unknown&amp;rft_id=http%3A%2F%2Fwww.usnews.com%2Feducation%2Fbest-global-universities%2Frankings&amp;rft.pub=U.S.+News+%26+World+Report+LP&amp;rft_val_fmt=info%3Aofi%2Ffmt%3Akev%3Amtx%3Abook\" class=\"Z3988\"><span style=\"display:none;\">&#160;</span></span></span></li>\\n<li id=\"cite_note-ARWU-119\"><span class=\"mw-cite-backlink\"><b><a href=\"#cite_ref-ARWU_119-0\">^</a></b></span> <span class=\"reference-text\"><cite class=\"citation web\"><a rel=\"nofollow\" class=\"external text\" href=\"http://www.shanghairanking.com/World-University-Rankings/Harvard-University.html\">\"Academic Ranking of World Universities\\u2014\\u2014Harvard University Ranking Profile\"</a>. Shanghai Ranking Consultancy<span class=\"reference-accessdate\">. Retrieved <span class=\"nowrap\">September 7,</span> 2016</span>.</cite><span title=\"ctx_ver=Z39.88-2004&amp;rfr_id=info%3Asid%2Fen.wikipedia.org%3AHarvard+University&amp;rft.btitle=Academic+Ranking+of+World+Universities%94%94Harvard+University+Ranking+Profile&amp;rft.genre=unknown&amp;rft_id=http%3A%2F%2Fwww.shanghairanking.com%2FWorld-University-Rankings%2FHarvard-University.html&amp;rft.pub=Shanghai+Ranking+Consultancy&amp;rft_val_fmt=info%3Aofi%2Ffmt%3Akev%3Amtx%3Abook\" class=\"Z3988\"><span style=\"display:none;\">&#160;</span></span></span></li>\\n<li id=\"cite_note-120\"><span class=\"mw-cite-backlink\"><b><a href=\"#cite_ref-120\">^</a></b></span> <span class=\"reference-text\"><cite class=\"citation web\"><a rel=\"nofollow\" class=\"external text\" href=\"https://www.timeshighereducation.com/world-university-rankings/2016/reputation-ranking#!/page/0/length/25/sort_by/rank_label/sort_order/asc/cols/rank_only\">\"World Reputation Rankings 2016\"</a>. <a href=\"/wiki/Times_Higher_Education\" title=\"Times Higher Education\">Times Higher Education</a>. 2016<span class=\"reference-accessdate\">. Retrieved <span class=\"nowrap\">September 7,</span> 2016</span>.</cite><span title=\"ctx_ver=Z39.88-2004&amp;rfr_id=info%3Asid%2Fen.wikipedia.org%3AHarvard+University&amp;rft.btitle=World+Reputation+Rankings+2016&amp;rft.date=2016&amp;rft.genre=unknown&amp;rft_id=https%3A%2F%2Fwww.timeshighereducation.com%2Fworld-university-rankings%2F2016%2Freputation-ranking%23%21%2Fpage%2F0%2Flength%2F25%2Fsort_by%2Frank_label%2Fsort_order%2Fasc%2Fcols%2Frank_only&amp;rft.pub=Times+Higher+Education&amp;rft_val_fmt=info%3Aofi%2Ffmt%3Akev%3Amtx%3Abook\" class=\"Z3988\"><span style=\"display:none;\">&#160;</span></span></span></li>\\n<li id=\"cite_note-121\"><span class=\"mw-cite-backlink\"><b><a href=\"#cite_ref-121\">^</a></b></span> <span class=\"reference-text\"><cite class=\"citation web\">Ted Nesi (October 9, 2009). <a rel=\"nofollow\" class=\"external text\" href=\"http://www.pbn.com/detail/45410.html\">\"Brown slips in world university rankings\"</a>. <i><a href=\"/wiki/Providence_Business_News\" title=\"Providence Business News\">Providence Business News</a></i><span class=\"reference-accessdate\">. Retrieved <span class=\"nowrap\">August 31,</span> 2010</span>.</cite><span title=\"ctx_ver=Z39.88-2004&amp;rfr_id=info%3Asid%2Fen.wikipedia.org%3AHarvard+University&amp;rft.atitle=Brown+slips+in+world+university+rankings&amp;rft.au=Ted+Nesi&amp;rft.date=2009-10-09&amp;rft.genre=unknown&amp;rft_id=http%3A%2F%2Fwww.pbn.com%2Fdetail%2F45410.html&amp;rft.jtitle=Providence+Business+News&amp;rft_val_fmt=info%3Aofi%2Ffmt%3Akev%3Amtx%3Ajournal\" class=\"Z3988\"><span style=\"display:none;\">&#160;</span></span></span></li>\\n<li id=\"cite_note-122\"><span class=\"mw-cite-backlink\"><b><a href=\"#cite_ref-122\">^</a></b></span> <span class=\"reference-text\"><cite class=\"citation web\"><a rel=\"nofollow\" class=\"external text\" href=\"http://www.urapcenter.org/2015/world.php?q=MS0yNTA=\">\"2015-2016 WORLD RANKING (1-250)\"</a>. University Ranking by Academic Performance (URAP) Research Laboratory. 2015<span class=\"reference-accessdate\">. Retrieved <span class=\"nowrap\">September 7,</span> 2016</span>.</cite><span title=\"ctx_ver=Z39.88-2004&amp;rfr_id=info%3Asid%2Fen.wikipedia.org%3AHarvard+University&amp;rft.btitle=2015-2016+WORLD+RANKING+%281-250%29&amp;rft.date=2015&amp;rft.genre=unknown&amp;rft_id=http%3A%2F%2Fwww.urapcenter.org%2F2015%2Fworld.php%3Fq%3DMS0yNTA%3D&amp;rft.pub=University+Ranking+by+Academic+Performance+%28URAP%29+Research+Laboratory&amp;rft_val_fmt=info%3Aofi%2Ffmt%3Akev%3Amtx%3Abook\" class=\"Z3988\"><span style=\"display:none;\">&#160;</span></span></span></li>\\n<li id=\"cite_note-123\"><span class=\"mw-cite-backlink\"><b><a href=\"#cite_ref-123\">^</a></b></span> <span class=\"reference-text\"><cite class=\"citation news\"><a rel=\"nofollow\" class=\"external text\" href=\"http://www.princetonreview.com/press/college-hopes-worries-press-release\">\"College Hopes &amp; Worries Press Release\"</a>. PR Newswire. 2016<span class=\"reference-accessdate\">. Retrieved <span class=\"nowrap\">September 7,</span> 2016</span>.</cite><span title=\"ctx_ver=Z39.88-2004&amp;rfr_id=info%3Asid%2Fen.wikipedia.org%3AHarvard+University&amp;rft.atitle=College+Hopes+%26+Worries+Press+Release&amp;rft.date=2016&amp;rft.genre=article&amp;rft_id=http%3A%2F%2Fwww.princetonreview.com%2Fpress%2Fcollege-hopes-worries-press-release&amp;rft_val_fmt=info%3Aofi%2Ffmt%3Akev%3Amtx%3Ajournal\" class=\"Z3988\"><span style=\"display:none;\">&#160;</span></span></span></li>\\n<li id=\"cite_note-124\"><span class=\"mw-cite-backlink\"><b><a href=\"#cite_ref-124\">^</a></b></span> <span class=\"reference-text\"><cite class=\"citation web\"><a rel=\"nofollow\" class=\"external text\" href=\"http://www.payscale.com/college-roi\">\"College ROI Report: Best Value Colleges\"</a>. <a href=\"/wiki/PayScale\" title=\"PayScale\">PayScale</a>. 2016<span class=\"reference-accessdate\">. Retrieved <span class=\"nowrap\">September 7,</span> 2016</span>.</cite><span title=\"ctx_ver=Z39.88-2004&amp;rfr_id=info%3Asid%2Fen.wikipedia.org%3AHarvard+University&amp;rft.btitle=College+ROI+Report%3A+Best+Value+Colleges&amp;rft.date=2016&amp;rft.genre=unknown&amp;rft_id=http%3A%2F%2Fwww.payscale.com%2Fcollege-roi&amp;rft_val_fmt=info%3Aofi%2Ffmt%3Akev%3Amtx%3Abook\" class=\"Z3988\"><span style=\"display:none;\">&#160;</span></span></span></li>\\n<li id=\"cite_note-Head_count-125\"><span class=\"mw-cite-backlink\">^ <a href=\"#cite_ref-Head_count_125-0\"><sup><i><b>a</b></i></sup></a> <a href=\"#cite_ref-Head_count_125-1\"><sup><i><b>b</b></i></sup></a> <a href=\"#cite_ref-Head_count_125-2\"><sup><i><b>c</b></i></sup></a></span> <span class=\"reference-text\"><cite class=\"citation web\"><a rel=\"nofollow\" class=\"external text\" href=\"http://www.provost.harvard.edu/institutional_research/harvard_fact_book_2010-11_web.pdf\">\"Degree Student Head Count: Fall 2010\"</a> <span style=\"font-size:85%;\">(PDF)</span>. Harvard University<span class=\"reference-accessdate\">. Retrieved <span class=\"nowrap\">March 11,</span> 2013</span>.</cite><span title=\"ctx_ver=Z39.88-2004&amp;rfr_id=info%3Asid%2Fen.wikipedia.org%3AHarvard+University&amp;rft.btitle=Degree+Student+Head+Count%3A+Fall+2010&amp;rft.genre=unknown&amp;rft_id=http%3A%2F%2Fwww.provost.harvard.edu%2Finstitutional_research%2Fharvard_fact_book_2010-11_web.pdf&amp;rft.pub=Harvard+University&amp;rft_val_fmt=info%3Aofi%2Ffmt%3Akev%3Amtx%3Abook\" class=\"Z3988\"><span style=\"display:none;\">&#160;</span></span></span></li>\\n<li id=\"cite_note-126\"><span class=\"mw-cite-backlink\"><b><a href=\"#cite_ref-126\">^</a></b></span> <span class=\"reference-text\">See <a href=\"/wiki/Demographics_of_the_United_States\" class=\"mw-redirect\" title=\"Demographics of the United States\">Demographics of the United States</a> for references.</span></li>\\n<li id=\"cite_note-127\"><span class=\"mw-cite-backlink\"><b><a href=\"#cite_ref-127\">^</a></b></span> <span class=\"reference-text\"><cite class=\"citation web\"><a rel=\"nofollow\" class=\"external text\" href=\"http://www.provost.harvard.edu/institutional_research/harvard_fact_book_2013_enrollment.pdf\">\"Fall Headcount Enrollment, 2008-2012\"</a> <span style=\"font-size:85%;\">(PDF)</span>. The Office of the Provost<span class=\"reference-accessdate\">. Retrieved <span class=\"nowrap\">December 16,</span> 2013</span>.</cite><span title=\"ctx_ver=Z39.88-2004&amp;rfr_id=info%3Asid%2Fen.wikipedia.org%3AHarvard+University&amp;rft.btitle=Fall+Headcount+Enrollment%2C+2008-2012&amp;rft.genre=unknown&amp;rft_id=http%3A%2F%2Fwww.provost.harvard.edu%2Finstitutional_research%2Fharvard_fact_book_2013_enrollment.pdf&amp;rft.pub=The+Office+of+the+Provost&amp;rft_val_fmt=info%3Aofi%2Ffmt%3Akev%3Amtx%3Abook\" class=\"Z3988\"><span style=\"display:none;\">&#160;</span></span></span></li>\\n<li id=\"cite_note-128\"><span class=\"mw-cite-backlink\"><b><a href=\"#cite_ref-128\">^</a></b></span> <span class=\"reference-text\"><a rel=\"nofollow\" class=\"external free\" href=\"http://www.provost.harvard.edu/institutional_research/Provost_-_Harvard_Fact_Book_2009-10_FINAL_new.pdf\">http://www.provost.harvard.edu/institutional_research/Provost_-_Harvard_Fact_Book_2009-10_FINAL_new.pdf</a></span></li>\\n<li id=\"cite_note-129\"><span class=\"mw-cite-backlink\"><b><a href=\"#cite_ref-129\">^</a></b></span> <span class=\"reference-text\"><cite class=\"citation web\"><a rel=\"nofollow\" class=\"external text\" href=\"http://www.yalebulldogs.com/sports/w-track/recaps/041009aac.html\">\"Yale and Harvard Defeat Oxford/Cambridge Team\"</a>. Yale University Athletics<span class=\"reference-accessdate\">. Retrieved <span class=\"nowrap\">September 13,</span> 2011</span>.</cite><span title=\"ctx_ver=Z39.88-2004&amp;rfr_id=info%3Asid%2Fen.wikipedia.org%3AHarvard+University&amp;rft.btitle=Yale+and+Harvard+Defeat+Oxford%2FCambridge+Team&amp;rft.genre=unknown&amp;rft_id=http%3A%2F%2Fwww.yalebulldogs.com%2Fsports%2Fw-track%2Frecaps%2F041009aac.html&amp;rft.pub=Yale+University+Athletics&amp;rft_val_fmt=info%3Aofi%2Ffmt%3Akev%3Amtx%3Abook\" class=\"Z3988\"><span style=\"display:none;\">&#160;</span></span></span></li>\\n<li id=\"cite_note-130\"><span class=\"mw-cite-backlink\"><b><a href=\"#cite_ref-130\">^</a></b></span> <span class=\"reference-text\"><cite class=\"citation web\"><a rel=\"nofollow\" class=\"external text\" href=\"http://www.newsdial.com/sports/football/football-history.html\">\"History of American Football\"</a>. Newsdial.com<span class=\"reference-accessdate\">. Retrieved <span class=\"nowrap\">August 29,</span> 2010</span>.</cite><span title=\"ctx_ver=Z39.88-2004&amp;rfr_id=info%3Asid%2Fen.wikipedia.org%3AHarvard+University&amp;rft.btitle=History+of+American+Football&amp;rft.genre=unknown&amp;rft_id=http%3A%2F%2Fwww.newsdial.com%2Fsports%2Ffootball%2Ffootball-history.html&amp;rft.pub=Newsdial.com&amp;rft_val_fmt=info%3Aofi%2Ffmt%3Akev%3Amtx%3Abook\" class=\"Z3988\"><span style=\"display:none;\">&#160;</span></span></span></li>\\n<li id=\"cite_note-131\"><span class=\"mw-cite-backlink\"><b><a href=\"#cite_ref-131\">^</a></b></span> <span class=\"reference-text\">Nelson, David M., <i>Anatomy of a Game: Football, the Rules, and the Men Who Made the Game</i>, 1994, pp. 127\\u2013128</span></li>\\n<li id=\"cite_note-132\"><span class=\"mw-cite-backlink\"><b><a href=\"#cite_ref-132\">^</a></b></span> <span class=\"reference-text\"><cite class=\"citation web\"><a rel=\"nofollow\" class=\"external text\" href=\"http://www.gocrimson.com/sports/fh/2012-13/releases/2012080853mnlh\">\"Harvard&#160;: Women\\'s Rugby Becomes 42nd Varsity Sport at Harvard University\"</a>. Gocrimson.com. August 9, 2012<span class=\"reference-accessdate\">. Retrieved <span class=\"nowrap\">July 5,</span> 2013</span>.</cite><span title=\"ctx_ver=Z39.88-2004&amp;rfr_id=info%3Asid%2Fen.wikipedia.org%3AHarvard+University&amp;rft.btitle=Harvard+%3A+Women%99s+Rugby+Becomes+42nd+Varsity+Sport+at+Harvard+University&amp;rft.date=2012-08-09&amp;rft.genre=unknown&amp;rft_id=http%3A%2F%2Fwww.gocrimson.com%2Fsports%2Ffh%2F2012-13%2Freleases%2F2012080853mnlh&amp;rft.pub=Gocrimson.com&amp;rft_val_fmt=info%3Aofi%2Ffmt%3Akev%3Amtx%3Abook\" class=\"Z3988\"><span style=\"display:none;\">&#160;</span></span></span></li>\\n<li id=\"cite_note-133\"><span class=\"mw-cite-backlink\"><b><a href=\"#cite_ref-133\">^</a></b></span> <span class=\"reference-text\"><cite class=\"citation web\"><a rel=\"nofollow\" class=\"external text\" href=\"https://web.archive.org/web/20060902182731/http://www.hno.harvard.edu/guide/students/stu6.html\">\"The Harvard Guide: Financial Aid at Harvard\"</a>. Harvard University. September 2, 2006. Archived from <a rel=\"nofollow\" class=\"external text\" href=\"http://www.hno.harvard.edu/guide/students/stu6.html\">the original</a> on September 2, 2006<span class=\"reference-accessdate\">. Retrieved <span class=\"nowrap\">August 29,</span> 2010</span>.</cite><span title=\"ctx_ver=Z39.88-2004&amp;rfr_id=info%3Asid%2Fen.wikipedia.org%3AHarvard+University&amp;rft.btitle=The+Harvard+Guide%3A+Financial+Aid+at+Harvard&amp;rft.date=2006-09-02&amp;rft.genre=unknown&amp;rft_id=http%3A%2F%2Fwww.hno.harvard.edu%2Fguide%2Fstudents%2Fstu6.html&amp;rft.pub=Harvard+University&amp;rft_val_fmt=info%3Aofi%2Ffmt%3Akev%3Amtx%3Abook\" class=\"Z3988\"><span style=\"display:none;\">&#160;</span></span></span></li>\\n<li id=\"cite_note-thomas-134\"><span class=\"mw-cite-backlink\"><b><a href=\"#cite_ref-thomas_134-0\">^</a></b></span> <span class=\"reference-text\"><cite class=\"citation news\">Thomas, Sarah (September 24, 2010). <a rel=\"nofollow\" class=\"external text\" href=\"http://www.boston.com/yourtown/news/cambridge/2010/09/harvard_at_the_movies_schools.html\">\"<span style=\"padding-left:0.2em;\">\\'</span>Social Network\\' taps other campuses for Harvard role\"</a>. <i>Boston.com</i>. <q>\\u2018In the grammar of film, Harvard has come to mean both tradition, and a certain amount of stuffiness.... Someone from Missouri who has never lived in Boston ... can get this idea that it\\u2019s all trust fund babies and ivy-covered walls.\\u2019</q></cite><span title=\"ctx_ver=Z39.88-2004&amp;rfr_id=info%3Asid%2Fen.wikipedia.org%3AHarvard+University&amp;rft.atitle=%98Social+Network%99+taps+other+campuses+for+Harvard+role&amp;rft.aufirst=Sarah&amp;rft.aulast=Thomas&amp;rft.date=2010-09-24&amp;rft.genre=article&amp;rft_id=http%3A%2F%2Fwww.boston.com%2Fyourtown%2Fnews%2Fcambridge%2F2010%2F09%2Fharvard_at_the_movies_schools.html&amp;rft.jtitle=Boston.com&amp;rft_val_fmt=info%3Aofi%2Ffmt%3Akev%3Amtx%3Ajournal\" class=\"Z3988\"><span style=\"display:none;\">&#160;</span></span></span></li>\\n<li id=\"cite_note-135\"><span class=\"mw-cite-backlink\"><b><a href=\"#cite_ref-135\">^</a></b></span> <span class=\"reference-text\"><cite class=\"citation book\">King, Michael (2002). <i>Wrestling with the Angel</i>. p.&#160;371. <q>...praised as an iconic chronicle of his generation and his WASP-ish class.</q></cite><span title=\"ctx_ver=Z39.88-2004&amp;rfr_id=info%3Asid%2Fen.wikipedia.org%3AHarvard+University&amp;rft.aufirst=Michael&amp;rft.aulast=King&amp;rft.btitle=Wrestling+with+the+Angel&amp;rft.date=2002&amp;rft.genre=book&amp;rft.pages=371&amp;rft_val_fmt=info%3Aofi%2Ffmt%3Akev%3Amtx%3Abook\" class=\"Z3988\"><span style=\"display:none;\">&#160;</span></span></span></li>\\n<li id=\"cite_note-136\"><span class=\"mw-cite-backlink\"><b><a href=\"#cite_ref-136\">^</a></b></span> <span class=\"reference-text\"><cite class=\"citation news\">Halberstam, Michael J. (February 18, 1953). <a rel=\"nofollow\" class=\"external text\" href=\"http://www.thecrimson.com/article/1953/2/18/white-shoe-and-weak-will-pjohn/\">\"White Shoe and Weak Will\"</a>. <i>Harvard Crimson</i>. <q>The book is written slickly, but without distinction.... The book will be quick, enjoyable reading for all Harvard men.</q></cite><span title=\"ctx_ver=Z39.88-2004&amp;rfr_id=info%3Asid%2Fen.wikipedia.org%3AHarvard+University&amp;rft.atitle=White+Shoe+and+Weak+Will&amp;rft.aufirst=Michael+J.&amp;rft.aulast=Halberstam&amp;rft.date=1953-02-18&amp;rft.genre=article&amp;rft_id=http%3A%2F%2Fwww.thecrimson.com%2Farticle%2F1953%2F2%2F18%2Fwhite-shoe-and-weak-will-pjohn%2F&amp;rft.jtitle=Harvard+Crimson&amp;rft_val_fmt=info%3Aofi%2Ffmt%3Akev%3Amtx%3Ajournal\" class=\"Z3988\"><span style=\"display:none;\">&#160;</span></span></span></li>\\n<li id=\"cite_note-137\"><span class=\"mw-cite-backlink\"><b><a href=\"#cite_ref-137\">^</a></b></span> <span class=\"reference-text\"><cite class=\"citation news\"><a href=\"/wiki/Jonathan_Yardley\" title=\"Jonathan Yardley\">Yardley, Jonathan</a> (December 23, 2009). <a rel=\"nofollow\" class=\"external text\" href=\"http://www.washingtonpost.com/wp-dyn/content/article/2009/12/22/AR2009122203456.html\">\"Second Reading\"</a>. <i>The Washington Post</i>. <q>\\u2009\\'...a balanced and impressive novel...\\' [is] a judgment with which I [agree].</q></cite><span title=\"ctx_ver=Z39.88-2004&amp;rfr_id=info%3Asid%2Fen.wikipedia.org%3AHarvard+University&amp;rft.atitle=Second+Reading&amp;rft.aufirst=Jonathan&amp;rft.aulast=Yardley&amp;rft.date=2009-12-23&amp;rft.genre=article&amp;rft_id=http%3A%2F%2Fwww.washingtonpost.com%2Fwp-dyn%2Fcontent%2Farticle%2F2009%2F12%2F22%2FAR2009122203456.html&amp;rft.jtitle=The+Washington+Post&amp;rft_val_fmt=info%3Aofi%2Ffmt%3Akev%3Amtx%3Ajournal\" class=\"Z3988\"><span style=\"display:none;\">&#160;</span></span></span></li>\\n<li id=\"cite_note-138\"><span class=\"mw-cite-backlink\"><b><a href=\"#cite_ref-138\">^</a></b></span> <span class=\"reference-text\"><cite class=\"citation news\">Du Bois, William (February 1, 1953). \"Out of a Jitter-and-Fritter World\". <i>The New York Times</i>. p.&#160;BR5. <q>exhibits Mr. Phillips\\' talent at its finest</q></cite><span title=\"ctx_ver=Z39.88-2004&amp;rfr_id=info%3Asid%2Fen.wikipedia.org%3AHarvard+University&amp;rft.atitle=Out+of+a+Jitter-and-Fritter+World&amp;rft.aufirst=William&amp;rft.aulast=Du+Bois&amp;rft.date=1953-02-01&amp;rft.genre=article&amp;rft.jtitle=The+New+York+Times&amp;rft.pages=BR5&amp;rft_val_fmt=info%3Aofi%2Ffmt%3Akev%3Amtx%3Ajournal\" class=\"Z3988\"><span style=\"display:none;\">&#160;</span></span></span></li>\\n<li id=\"cite_note-139\"><span class=\"mw-cite-backlink\"><b><a href=\"#cite_ref-139\">^</a></b></span> <span class=\"reference-text\"><cite class=\"citation news\">\"John Phillips, The Second Happiest Day\". <i>Southwest Review</i>. <b>38</b>. p.&#160;267. <q>So when the critics say the author of \"The Second Happiest Day\" is a new Fitzgerald, we think they may be right.</q></cite><span title=\"ctx_ver=Z39.88-2004&amp;rfr_id=info%3Asid%2Fen.wikipedia.org%3AHarvard+University&amp;rft.atitle=John+Phillips%2C+The+Second+Happiest+Day&amp;rft.genre=article&amp;rft.jtitle=Southwest+Review&amp;rft.pages=267&amp;rft_val_fmt=info%3Aofi%2Ffmt%3Akev%3Amtx%3Ajournal&amp;rft.volume=38\" class=\"Z3988\"><span style=\"display:none;\">&#160;</span></span></span></li>\\n<li id=\"cite_note-140\"><span class=\"mw-cite-backlink\"><b><a href=\"#cite_ref-140\">^</a></b></span> <span class=\"reference-text\"><cite class=\"citation news\">Schwartz, Nathaniel L. (September 21, 1999). <a rel=\"nofollow\" class=\"external text\" href=\"http://www.thecrimson.harvard.edu/article/1999/9/21/university-hollywood-relationship-not-always-a/\">\"University, Hollywood Relationship Not Always a \\'Love Story<span style=\"padding-right:0.2em;\">\\'</span>\"</a>. Harvard Crimson<span class=\"reference-accessdate\">. Retrieved <span class=\"nowrap\">September 15,</span> 2013</span>.</cite><span title=\"ctx_ver=Z39.88-2004&amp;rfr_id=info%3Asid%2Fen.wikipedia.org%3AHarvard+University&amp;rft.atitle=University%2C+Hollywood+Relationship+Not+Always+a+%27Love+Story%27&amp;rft.aufirst=Nathaniel+L.&amp;rft.aulast=Schwartz&amp;rft.date=1999-09-21&amp;rft.genre=article&amp;rft_id=http%3A%2F%2Fwww.thecrimson.harvard.edu%2Farticle%2F1999%2F9%2F21%2Funiversity-hollywood-relationship-not-always-a%2F&amp;rft_val_fmt=info%3Aofi%2Ffmt%3Akev%3Amtx%3Ajournal\" class=\"Z3988\"><span style=\"display:none;\">&#160;</span></span></span></li>\\n<li id=\"cite_note-141\"><span class=\"mw-cite-backlink\"><b><a href=\"#cite_ref-141\">^</a></b></span> <span class=\"reference-text\"><cite class=\"citation web\">Sarah Thomas (September 24, 2010). <a rel=\"nofollow\" class=\"external text\" href=\"http://www.boston.com/yourtown/news/cambridge/2010/09/harvard_at_the_movies_schools.html\">\"<span style=\"padding-left:0.2em;\">\\'</span>Social Network\\' taps other campuses for Harvard role\"</a>. <i>boston.com</i>.</cite><span title=\"ctx_ver=Z39.88-2004&amp;rfr_id=info%3Asid%2Fen.wikipedia.org%3AHarvard+University&amp;rft.atitle=%27Social+Network%27+taps+other+campuses+for+Harvard+role&amp;rft.au=Sarah+Thomas&amp;rft.date=2010-09-24&amp;rft.genre=unknown&amp;rft_id=http%3A%2F%2Fwww.boston.com%2Fyourtown%2Fnews%2Fcambridge%2F2010%2F09%2Fharvard_at_the_movies_schools.html&amp;rft.jtitle=boston.com&amp;rft_val_fmt=info%3Aofi%2Ffmt%3Akev%3Amtx%3Ajournal\" class=\"Z3988\"><span style=\"display:none;\">&#160;</span></span></span></li>\\n<li id=\"cite_note-142\"><span class=\"mw-cite-backlink\"><b><a href=\"#cite_ref-142\">^</a></b></span> <span class=\"reference-text\"><cite class=\"citation news\"><a rel=\"nofollow\" class=\"external text\" href=\"http://www.thecrimson.com/article/1996/6/3/never-having-to-say-youre-sorry/\">\"Never Having To Say You\\'re Sorry for 25 Years...\"</a>. <i>Harvard Crimson</i>. June 3, 1996<span class=\"reference-accessdate\">. Retrieved <span class=\"nowrap\">September 15,</span> 2013</span>.</cite><span title=\"ctx_ver=Z39.88-2004&amp;rfr_id=info%3Asid%2Fen.wikipedia.org%3AHarvard+University&amp;rft.atitle=Never+Having+To+Say+You%27re+Sorry+for+25+Years...&amp;rft.date=1996-06-03&amp;rft.genre=article&amp;rft_id=http%3A%2F%2Fwww.thecrimson.com%2Farticle%2F1996%2F6%2F3%2Fnever-having-to-say-youre-sorry%2F&amp;rft.jtitle=Harvard+Crimson&amp;rft_val_fmt=info%3Aofi%2Ffmt%3Akev%3Amtx%3Ajournal\" class=\"Z3988\"><span style=\"display:none;\">&#160;</span></span></span></li>\\n<li id=\"cite_note-143\"><span class=\"mw-cite-backlink\"><b><a href=\"#cite_ref-143\">^</a></b></span> <span class=\"reference-text\"><cite class=\"citation news\">Vinciguerra, Thomas (August 20, 2010). <a rel=\"nofollow\" class=\"external text\" href=\"http://www.nytimes.com/2010/08/22/movies/22love.html\">\"The Disease: Fatal. The Treatment: Mockery\"</a>. <i>The New York Times</i>.</cite><span title=\"ctx_ver=Z39.88-2004&amp;rfr_id=info%3Asid%2Fen.wikipedia.org%3AHarvard+University&amp;rft.atitle=The+Disease%3A+Fatal.+The+Treatment%3A+Mockery&amp;rft.aufirst=Thomas&amp;rft.aulast=Vinciguerra&amp;rft.date=2010-08-20&amp;rft.genre=article&amp;rft_id=http%3A%2F%2Fwww.nytimes.com%2F2010%2F08%2F22%2Fmovies%2F22love.html&amp;rft.jtitle=The+New+York+Times&amp;rft_val_fmt=info%3Aofi%2Ffmt%3Akev%3Amtx%3Ajournal\" class=\"Z3988\"><span style=\"display:none;\">&#160;</span></span></span></li>\\n<li id=\"cite_note-144\"><span class=\"mw-cite-backlink\"><b><a href=\"#cite_ref-144\">^</a></b></span> <span class=\"reference-text\"><cite class=\"citation news\">Gewertz, Ken (February 8, 1996). \"A Many-Splendored \\'Love Story\\'. Movie filmed at Harvard 25 years ago helped to define a generation\". <i>Harvard University Gazette</i>.</cite><span title=\"ctx_ver=Z39.88-2004&amp;rfr_id=info%3Asid%2Fen.wikipedia.org%3AHarvard+University&amp;rft.atitle=A+Many-Splendored+%27Love+Story%27.+Movie+filmed+at+Harvard+25+years+ago+helped+to+define+a+generation&amp;rft.aufirst=Ken&amp;rft.aulast=Gewertz&amp;rft.date=1996-02-08&amp;rft.genre=article&amp;rft.jtitle=Harvard+University+Gazette&amp;rft_val_fmt=info%3Aofi%2Ffmt%3Akev%3Amtx%3Ajournal\" class=\"Z3988\"><span style=\"display:none;\">&#160;</span></span></span></li>\\n<li id=\"cite_note-145\"><span class=\"mw-cite-backlink\"><b><a href=\"#cite_ref-145\">^</a></b></span> <span class=\"reference-text\"><cite class=\"citation news\">Walsh, Colleen (October 2, 2012). <a rel=\"nofollow\" class=\"external text\" href=\"http://news.harvard.edu/gazette/story/2012/10/the-paper-chase-at-40/\">\"The Paper Chase at 40\"</a>. <i>Harvard Gazette</i>.</cite><span title=\"ctx_ver=Z39.88-2004&amp;rfr_id=info%3Asid%2Fen.wikipedia.org%3AHarvard+University&amp;rft.atitle=The+Paper+Chase+at+40&amp;rft.aufirst=Colleen&amp;rft.aulast=Walsh&amp;rft.date=2012-10-02&amp;rft.genre=article&amp;rft_id=http%3A%2F%2Fnews.harvard.edu%2Fgazette%2Fstory%2F2012%2F10%2Fthe-paper-chase-at-40%2F&amp;rft.jtitle=Harvard+Gazette&amp;rft_val_fmt=info%3Aofi%2Ffmt%3Akev%3Amtx%3Ajournal\" class=\"Z3988\"><span style=\"display:none;\">&#160;</span></span></span></li>\\n</ol>\\n</div>\\n<h3><span class=\"mw-headline\" id=\"Further_reading\">Further reading</span></h3>\\n<div class=\"refbegin columns references-column-width\" style=\"-moz-column-width: 30em; -webkit-column-width: 30em; column-width: 30em;\">\\n<ul>\\n<li>Abelmann, Walter H., ed. <i>The Harvard-MIT Division of Health Sciences and Technology: The First 25 Years, 1970\\u20131995</i> (2004). 346 pp.</li>\\n<li>Beecher, Henry K. and Altschule, Mark D. <i>Medicine at Harvard: The First 300 Years</i> (1977). 569 pp.</li>\\n<li>Bentinck-Smith, William, ed. <i>The Harvard Book: Selections from Three Centuries</i> (2d ed.1982). 499 pp.</li>\\n<li>Bethell, John T.; Hunt, Richard M.; and Shenton, Robert. <i>Harvard A to Z</i> (2004). 396 pp. <a rel=\"nofollow\" class=\"external text\" href=\"http://www.amazon.com/dp/0674012887\">excerpt and text search</a></li>\\n<li>Bethell, John T. <i>Harvard Observed: An Illustrated History of the University in the Twentieth Century</i>, Harvard University Press, 1998, <a href=\"/wiki/Special:BookSources/0674377338\" class=\"internal mw-magiclink-isbn\">ISBN 0-674-37733-8</a></li>\\n<li>Bunting, Bainbridge. <i>Harvard: An Architectural History</i> (1985). 350 pp.</li>\\n<li>Carpenter, Kenneth E. <i>The First 350 Years of the Harvard University Library: Description of an Exhibition</i> (1986). 216 pp.</li>\\n<li>Cuno, James et al. <i>Harvard\\'s Art Museums: 100 Years of Collecting</i> (1996). 364 pp.</li>\\n<li>Elliott, Clark A. and Rossiter, Margaret W., eds. <i>Science at Harvard University: Historical Perspectives</i> (1992). 380 pp.</li>\\n<li>Hall, Max. <i>Harvard University Press: A History</i> (1986). 257 pp.</li>\\n<li>Hay, Ida. <i>Science in the Pleasure Ground: A History of the Arnold Arboretum</i> (1995). 349 pp.</li>\\n<li>Hoerr, John, <i>We Can\\'t Eat Prestige: The Women Who Organized Harvard;</i> <a href=\"/wiki/Temple_University_Press\" title=\"Temple University Press\">Temple University Press</a>, 1997, <a href=\"/wiki/Special:BookSources/1566395356\" class=\"internal mw-magiclink-isbn\">ISBN 1-56639-535-6</a></li>\\n<li>Howells, Dorothy Elia. <i>A Century to Celebrate: Radcliffe College, 1879\\u20131979</i> (1978). 152 pp.</li>\\n<li>Keller, Morton, and Phyllis Keller. <i>Making Harvard Modern: The Rise of America\\'s University</i> (2001), major history covers 1933 to 2002 <a rel=\"nofollow\" class=\"external text\" href=\"http://www.questia.com/read/106186126?title=Making%20Harvard%20Modern%3a%20%20The%20Rise%20of%20America%27s%20University\">online edition</a></li>\\n<li><a href=\"/wiki/Harry_R._Lewis\" title=\"Harry R. Lewis\">Lewis, Harry R.</a> <i>Excellence Without a Soul: How a Great University Forgot Education</i> (2006) <a href=\"/wiki/Special:BookSources/1586483935\" class=\"internal mw-magiclink-isbn\">ISBN 1-58648-393-5</a></li>\\n<li>Morison, Samuel Eliot. <i>Three Centuries of Harvard, 1636\\u20131936</i> (1986) 512pp; <a rel=\"nofollow\" class=\"external text\" href=\"https://books.google.com/books?id=ZUUf7ssp1u4C&amp;dq=intitle:harvard+inauthor:morison&amp;lr=&amp;as_drrb_is=q&amp;as_minm_is=0&amp;as_miny_is=&amp;as_maxm_is=0&amp;as_maxy_is=&amp;as_brr=0\">excerpt and text search</a></li>\\n<li>Powell, Arthur G. <i>The Uncertain Profession: Harvard and the Search for Educational Authority</i> (1980). 341 pp.</li>\\n<li>Reid, Robert. <i>Year One: An Intimate Look inside Harvard Business School</i> (1994). 331 pp.</li>\\n<li><a href=\"/wiki/Henry_Rosovsky\" title=\"Henry Rosovsky\">Rosovsky, Henry</a>. <i>The University: An Owner\\'s Manual</i> (1991). 312 pp.</li>\\n<li>Rosovsky, Nitza. <i>The Jewish Experience at Harvard and Radcliffe</i> (1986). 108 pp.</li>\\n<li>Seligman, Joel. <i>The High Citadel: The Influence of Harvard Law School</i> (1978). 262 pp.</li>\\n<li>Sollors, Werner; Titcomb, Caldwell; and Underwood, Thomas A., eds. <i>Blacks at Harvard: A Documentary History of African-American Experience at Harvard and Radcliffe</i> (1993). 548 pp.</li>\\n<li><span id=\"Trumpbour\">Trumpbour, John, ed.</span>, <i>How Harvard Rules. Reason in the Service of Empire</i>, Boston: South End Press, 1989, <a href=\"/wiki/Special:BookSources/0896082830\" class=\"internal mw-magiclink-isbn\">ISBN 0-89608-283-0</a></li>\\n<li>Ulrich, Laurel Thatcher, ed., <i><a rel=\"nofollow\" class=\"external text\" href=\"http://nrs.harvard.edu/urn-3:HUL.InstRepos:4662764\">Yards and Gates: Gender in Harvard and Radcliffe History</a></i>, New York: <a href=\"/wiki/Palgrave_Macmillan\" title=\"Palgrave Macmillan\">Palgrave Macmillan</a>, 2004. 337 pp.</li>\\n<li>Winsor, Mary P. <i>Reading the Shape of Nature: Comparative Zoology at the Agassiz Museum</i> (1991). 324 pp.</li>\\n<li>Wright, Conrad Edick. <i>Revolutionary Generation: Harvard Men and the Consequences of Independence</i> (2005). 298 pp.</li>\\n</ul>\\n</div>\\n<h2><span class=\"mw-headline\" id=\"External_links\">External links</span></h2>\\n<table class=\"metadata plainlinks mbox-small\" style=\"padding:0.25em 0.5em 0.5em 0.75em;border:1px solid #aaa;background:#f9f9f9;\">\\n<tr>\\n<td colspan=\"2\" style=\"padding-bottom:0.75em;border-bottom:1px solid #aaa;text-align:center;\">\\n<div style=\"clear:both;\">Find more about<br />\\n<b>Harvard University</b><br />\\nat Wikipedia\\'s <a href=\"/wiki/Wikipedia:Wikimedia_sister_projects\" title=\"Wikipedia:Wikimedia sister projects\">sister projects</a></div>\\n</td>\\n</tr>\\n<tr style=\"height:25px;\">\\n<td><a href=\"https://commons.wikimedia.org/wiki/Category:Harvard_University\" title=\"Search Commons\"><img alt=\"Search Commons\" src=\"//upload.wikimedia.org/wikipedia/en/thumb/4/4a/Commons-logo.svg/18px-Commons-logo.svg.png\" width=\"18\" height=\"25\" srcset=\"//upload.wikimedia.org/wikipedia/en/thumb/4/4a/Commons-logo.svg/28px-Commons-logo.svg.png 1.5x, //upload.wikimedia.org/wikipedia/en/thumb/4/4a/Commons-logo.svg/37px-Commons-logo.svg.png 2x\" data-file-width=\"1024\" data-file-height=\"1376\" /></a></td>\\n<td><a href=\"https://commons.wikimedia.org/wiki/Category:Harvard_University\" class=\"extiw\" title=\"c:Category:Harvard University\">Media</a> from Commons</td>\\n</tr>\\n<tr style=\"height:25px;\">\\n<td><a href=\"https://en.wikisource.org/wiki/Portal:Harvard_University\" title=\"Search Wikisource\"><img alt=\"Search Wikisource\" src=\"//upload.wikimedia.org/wikipedia/commons/thumb/4/4c/Wikisource-logo.svg/24px-Wikisource-logo.svg.png\" width=\"24\" height=\"25\" srcset=\"//upload.wikimedia.org/wikipedia/commons/thumb/4/4c/Wikisource-logo.svg/36px-Wikisource-logo.svg.png 1.5x, //upload.wikimedia.org/wikipedia/commons/thumb/4/4c/Wikisource-logo.svg/48px-Wikisource-logo.svg.png 2x\" data-file-width=\"410\" data-file-height=\"430\" /></a></td>\\n<td><a href=\"https://en.wikisource.org/wiki/Portal:Harvard_University\" class=\"extiw\" title=\"s:Portal:Harvard University\">Texts</a> from Wikisource</td>\\n</tr>\\n<tr style=\"height:25px;\">\\n<td><a href=\"https://www.wikidata.org/wiki/q13371\" title=\"Search Wikidata\"><img alt=\"Search Wikidata\" src=\"//upload.wikimedia.org/wikipedia/commons/thumb/f/ff/Wikidata-logo.svg/25px-Wikidata-logo.svg.png\" width=\"25\" height=\"14\" srcset=\"//upload.wikimedia.org/wikipedia/commons/thumb/f/ff/Wikidata-logo.svg/38px-Wikidata-logo.svg.png 1.5x, //upload.wikimedia.org/wikipedia/commons/thumb/f/ff/Wikidata-logo.svg/50px-Wikidata-logo.svg.png 2x\" data-file-width=\"1050\" data-file-height=\"590\" /></a></td>\\n<td><a href=\"https://www.wikidata.org/wiki/q13371\" class=\"extiw\" title=\"d:q13371\">Data</a> from Wikidata</td>\\n</tr>\\n</table>\\n<ul>\\n<li><span class=\"official-website\"><span class=\"url\"><a rel=\"nofollow\" class=\"external text\" href=\"http://www.harvard.edu/\">Official website</a></span></span></li>\\n<li><a rel=\"nofollow\" class=\"external text\" href=\"http://www.gocrimson.com/\">Harvard Athletics website</a></li>\\n<li><a rel=\"nofollow\" class=\"external text\" href=\"http://nces.ed.gov/collegenavigator/?id=166027\">Harvard University</a> at <a rel=\"nofollow\" class=\"external text\" href=\"http://nces.ed.gov/collegenavigator/\">National Center for Education Statistics: College Navigator</a></li>\\n</ul>\\n<p><span style=\"font-size: small;\"><span id=\"coordinates\"><a href=\"/wiki/Geographic_coordinate_system\" title=\"Geographic coordinate system\">Coordinates</a>: <span class=\"plainlinks nourlexpansion\"><a class=\"external text\" href=\"//tools.wmflabs.org/geohack/geohack.php?pagename=Harvard_University&amp;params=42_22_28_N_71_07_01_W_region:US_type:edu\"><span class=\"geo-default\"><span class=\"geo-dms\" title=\"Maps, aerial photos, and other data for this location\"><span class=\"latitude\">42\\xb022\\u203228\\u2033N</span> <span class=\"longitude\">71\\xb007\\u203201\\u2033W</span></span></span><span class=\"geo-multi-punct\">\\ufeff / \\ufeff</span><span class=\"geo-nondefault\"><span class=\"geo-dec\" title=\"Maps, aerial photos, and other data for this location\">42.37444\\xb0N 71.11694\\xb0W</span><span style=\"display:none\">\\ufeff / <span class=\"geo\">42.37444; -71.11694</span></span></span></a></span></span></span></p>\\n<div role=\"navigation\" class=\"navbox\" aria-labelledby=\"Harvard_University\" style=\"padding:3px\">\\n<table class=\"nowraplinks collapsible collapsed navbox-inner\" style=\"border-spacing:0;background:transparent;color:inherit\">\\n<tr>\\n<th scope=\"col\" class=\"navbox-title\" colspan=\"3\" style=\"background-color:#A51C30;color:white; border:2px solid #1E1E1E;\">\\n<div class=\"plainlinks hlist navbar mini\">\\n<ul>\\n<li class=\"nv-view\"><a href=\"/wiki/Template:Harvard\" title=\"Template:Harvard\"><abbr title=\"View this template\" style=\"background-color:#A51C30;color:white; border:2px solid #1E1E1E;;;background:none transparent;border:none;\">v</abbr></a></li>\\n<li class=\"nv-talk\"><a href=\"/wiki/Template_talk:Harvard\" title=\"Template talk:Harvard\"><abbr title=\"Discuss this template\" style=\"background-color:#A51C30;color:white; border:2px solid #1E1E1E;;;background:none transparent;border:none;\">t</abbr></a></li>\\n<li class=\"nv-edit\"><a class=\"external text\" href=\"//en.wikipedia.org/w/index.php?title=Template:Harvard&amp;action=edit\"><abbr title=\"Edit this template\" style=\"background-color:#A51C30;color:white; border:2px solid #1E1E1E;;;background:none transparent;border:none;\">e</abbr></a></li>\\n</ul>\\n</div>\\n<div id=\"Harvard_University\" style=\"font-size:114%\"><strong class=\"selflink\"><span style=\"color:white\">Harvard University</span></strong></div>\\n</th>\\n</tr>\\n<tr style=\"height:2px\">\\n<td colspan=\"2\"></td>\\n</tr>\\n<tr>\\n<th scope=\"row\" class=\"navbox-group\" style=\"background-color:#A51C30;color:white; border:2px solid #1E1E1E;\"><span class=\"nowrap\">&#160;</span></th>\\n<td class=\"navbox-list navbox-odd hlist\" style=\"text-align:left;border-left-width:2px;border-left-style:solid;width:100%;padding:0px\">\\n<div style=\"padding:0em 0.25em\">\\n<ul>\\n<li><a href=\"/wiki/History_of_Harvard_University\" title=\"History of Harvard University\">History</a></li>\\n<li><a href=\"/wiki/John_Harvard_(clergyman)\" title=\"John Harvard (clergyman)\">John Harvard</a>\\n<ul>\\n<li><a href=\"/wiki/John_Harvard_(statue)\" title=\"John Harvard (statue)\">statue</a></li>\\n</ul>\\n</li>\\n<li><a href=\"/wiki/President_of_Harvard_University\" title=\"President of Harvard University\">President</a> <a href=\"/wiki/Drew_Gilpin_Faust\" title=\"Drew Gilpin Faust\">Drew Gilpin Faust</a></li>\\n<li><a href=\"/wiki/Harvard_Board_of_Overseers\" title=\"Harvard Board of Overseers\">Board of Overseers</a></li>\\n<li><a href=\"/wiki/President_and_Fellows_of_Harvard_College\" title=\"President and Fellows of Harvard College\">President and Fellows of Harvard College</a></li>\\n<li>Provost <a href=\"/w/index.php?title=Alan_M._Garber&amp;action=edit&amp;redlink=1\" class=\"new\" title=\"Alan M. Garber (page does not exist)\">Alan M. Garber</a></li>\\n<li><a href=\"/wiki/Harvard_Library\" title=\"Harvard Library\">The Harvard Library</a></li>\\n</ul>\\n</div>\\n</td>\\n<td class=\"navbox-image\" rowspan=\"27\" style=\"width:0%;padding:0px 0px 0px 2px\">\\n<div><a href=\"/wiki/File:John_Harvard_statue.jpg\" class=\"image\"><img alt=\"John Harvard statue.jpg\" src=\"//upload.wikimedia.org/wikipedia/commons/thumb/4/4e/John_Harvard_statue.jpg/110px-John_Harvard_statue.jpg\" width=\"110\" height=\"123\" srcset=\"//upload.wikimedia.org/wikipedia/commons/thumb/4/4e/John_Harvard_statue.jpg/165px-John_Harvard_statue.jpg 1.5x, //upload.wikimedia.org/wikipedia/commons/thumb/4/4e/John_Harvard_statue.jpg/220px-John_Harvard_statue.jpg 2x\" data-file-width=\"1622\" data-file-height=\"1809\" /></a></div>\\n</td>\\n</tr>\\n<tr style=\"height:2px\">\\n<td colspan=\"2\"></td>\\n</tr>\\n<tr>\\n<th scope=\"row\" class=\"navbox-group\" style=\"background-color:#A51C30;color:white; border:2px solid #1E1E1E;\">Arts and<br />\\nSciences</th>\\n<td class=\"navbox-list navbox-even hlist\" style=\"text-align:left;border-left-width:2px;border-left-style:solid;width:100%;padding:0px\">\\n<div style=\"padding:0em 0.25em\"></div>\\n<table class=\"nowraplinks navbox-subgroup\" style=\"border-spacing:0\">\\n<tr>\\n<th scope=\"row\" class=\"navbox-group\" style=\"background-color:#A51C30;color:white; border:2px solid #1E1E1E;;padding-left:0;padding-right:0;\">\\n<div style=\"padding:0em 0.75em;\"><span class=\"nowrap\">&#160;</span></div>\\n</th>\\n<td class=\"navbox-list navbox-odd\" style=\"text-align:left;border-left-width:2px;border-left-style:solid;width:100%;padding:0px\">\\n<div style=\"padding:0em 0.25em\">\\n<ul>\\n<li><a href=\"/wiki/Harvard_Faculty_of_Arts_and_Sciences\" title=\"Harvard Faculty of Arts and Sciences\">Harvard Faculty of Arts and Sciences</a></li>\\n<li>Dean <a href=\"/wiki/Michael_D._Smith_(computer_scientist)\" title=\"Michael D. Smith (computer scientist)\">Michael D. Smith</a></li>\\n</ul>\\n</div>\\n</td>\\n</tr>\\n<tr style=\"height:2px\">\\n<td colspan=\"2\"></td>\\n</tr>\\n<tr>\\n<th scope=\"row\" class=\"navbox-group\" style=\"background-color:#A51C30;color:white; border:2px solid #1E1E1E;;padding-left:0;padding-right:0;\">\\n<div style=\"padding:0em 0.75em;\">College</div>\\n</th>\\n<td class=\"navbox-list navbox-even\" style=\"text-align:left;border-left-width:2px;border-left-style:solid;width:100%;padding:0px\">\\n<div style=\"padding:0em 0.25em\">\\n<ul>\\n<li><a href=\"/wiki/Harvard_College\" title=\"Harvard College\">Harvard College</a></li>\\n<li>Dean <a href=\"/wiki/Rakesh_Khurana\" title=\"Rakesh Khurana\">Rakesh Khurana</a></li>\\n<li><a href=\"/wiki/Radcliffe_College\" title=\"Radcliffe College\">Radcliffe College</a></li>\\n</ul>\\n<ul>\\n<li><a href=\"/wiki/List_of_Harvard_College_freshman_dormitories\" title=\"List of Harvard College freshman dormitories\">Freshman dormitories</a></li>\\n<li>Upperclass houses\\n<ul>\\n<li><a href=\"/wiki/Adams_House_(Harvard_University)\" class=\"mw-redirect\" title=\"Adams House (Harvard University)\">Adams</a></li>\\n<li><a href=\"/wiki/Cabot_House\" class=\"mw-redirect\" title=\"Cabot House\">Cabot</a></li>\\n<li><a href=\"/wiki/Currier_House_(Harvard_College)\" title=\"Currier House (Harvard College)\">Currier</a></li>\\n<li><a href=\"/wiki/Dudley_House_(Harvard_College)\" class=\"mw-redirect\" title=\"Dudley House (Harvard College)\">Dudley</a></li>\\n<li><a href=\"/wiki/Dunster_House\" class=\"mw-redirect\" title=\"Dunster House\">Dunster</a></li>\\n<li><a href=\"/wiki/Eliot_House\" class=\"mw-redirect\" title=\"Eliot House\">Eliot</a></li>\\n<li><a href=\"/wiki/Kirkland_House,_Harvard_University\" class=\"mw-redirect\" title=\"Kirkland House, Harvard University\">Kirkland</a></li>\\n<li><a href=\"/wiki/Leverett_House\" class=\"mw-redirect\" title=\"Leverett House\">Leverett</a></li>\\n<li><a href=\"/wiki/Lowell_House\" class=\"mw-redirect\" title=\"Lowell House\">Lowell</a></li>\\n<li><a href=\"/wiki/Mather_House_(Harvard_University)\" class=\"mw-redirect\" title=\"Mather House (Harvard University)\">Mather</a></li>\\n<li><a href=\"/wiki/Pforzheimer_House\" class=\"mw-redirect\" title=\"Pforzheimer House\">Pforzheimer</a></li>\\n<li><a href=\"/wiki/Quincy_House_(Harvard)\" class=\"mw-redirect\" title=\"Quincy House (Harvard)\">Quincy</a></li>\\n<li><a href=\"/wiki/Winthrop_House\" class=\"mw-redirect\" title=\"Winthrop House\">Winthrop</a></li>\\n</ul>\\n</li>\\n</ul>\\n<ul>\\n<li><a href=\"/wiki/List_of_Harvard_College_undergraduate_organizations\" title=\"List of Harvard College undergraduate organizations\">Undergraduate organizations</a></li>\\n<li><i><a href=\"/wiki/The_Harvard_Crimson\" title=\"The Harvard Crimson\">The Harvard Crimson</a></i></li>\\n<li><i><a href=\"/wiki/The_Harvard_Lampoon\" title=\"The Harvard Lampoon\">The Harvard Lampoon</a></i></li>\\n<li><i><a href=\"/wiki/The_Harvard_Advocate\" title=\"The Harvard Advocate\">The Harvard Advocate</a></i></li>\\n<li><i><a href=\"/wiki/The_Harvard_Independent\" title=\"The Harvard Independent\">The Harvard Independent</a></i></li>\\n</ul>\\n<ul>\\n<li><b>Athletics</b>: <a href=\"/wiki/Harvard_Crimson\" title=\"Harvard Crimson\">Harvard Crimson</a></li>\\n<li><a href=\"/wiki/Ivy_League\" title=\"Ivy League\">Ivy League</a></li>\\n<li><a href=\"/wiki/Harvard_Stadium\" title=\"Harvard Stadium\">Harvard Stadium</a></li>\\n<li><a href=\"/wiki/Harvard%E2%80%93Yale_football_rivalry\" title=\"Harvard\\u2013Yale football rivalry\">Yale football rivalry</a></li>\\n<li><a href=\"/wiki/Lavietes_Pavilion\" title=\"Lavietes Pavilion\">Lavietes Pavilion</a></li>\\n<li><a href=\"/wiki/Bright_Hockey_Center\" class=\"mw-redirect\" title=\"Bright Hockey Center\">Bright Hockey Center</a></li>\\n<li><a href=\"/wiki/Cornell%E2%80%93Harvard_hockey_rivalry\" title=\"Cornell\\u2013Harvard hockey rivalry\">Cornell hockey rivalry</a></li>\\n<li><a href=\"/wiki/Beanpot_(ice_hockey)\" title=\"Beanpot (ice hockey)\">Beanpot</a></li>\\n<li><a href=\"/wiki/Weld_Boathouse\" title=\"Weld Boathouse\">Weld Boathouse</a></li>\\n<li><a href=\"/wiki/Newell_Boathouse_(Harvard_University)\" class=\"mw-redirect\" title=\"Newell Boathouse (Harvard University)\">Newall Boathouse</a></li>\\n</ul>\\n</div>\\n</td>\\n</tr>\\n<tr style=\"height:2px\">\\n<td colspan=\"2\"></td>\\n</tr>\\n<tr>\\n<th scope=\"row\" class=\"navbox-group\" style=\"background-color:#A51C30;color:white; border:2px solid #1E1E1E;;padding-left:0;padding-right:0;\">\\n<div style=\"padding:0em 0.75em;\">Continuing<br />\\nEducation</div>\\n</th>\\n<td class=\"navbox-list navbox-odd\" style=\"text-align:left;border-left-width:2px;border-left-style:solid;width:100%;padding:0px\">\\n<div style=\"padding:0em 0.25em\">\\n<ul>\\n<li><a href=\"/wiki/Harvard_Division_of_Continuing_Education\" title=\"Harvard Division of Continuing Education\">Division of Continuing Education</a></li>\\n<li>Dean <a href=\"/wiki/Huntington_D._Lambert\" title=\"Huntington D. Lambert\">Huntington D. Lambert</a></li>\\n<li><a href=\"/wiki/Harvard_Extension_School\" title=\"Harvard Extension School\">Extension School</a></li>\\n<li><a href=\"/wiki/Harvard_Summer_School\" title=\"Harvard Summer School\">Summer School</a></li>\\n<li><a href=\"/wiki/History_of_Harvard_Extension_School\" title=\"History of Harvard Extension School\">History of Harvard Extension School</a></li>\\n</ul>\\n</div>\\n</td>\\n</tr>\\n<tr style=\"height:2px\">\\n<td colspan=\"2\"></td>\\n</tr>\\n<tr>\\n<th scope=\"row\" class=\"navbox-group\" style=\"background-color:#A51C30;color:white; border:2px solid #1E1E1E;;padding-left:0;padding-right:0;\">\\n<div style=\"padding:0em 0.75em;\">Eng.<span style=\"white-space:nowrap\">\\u2009</span>&amp;<span style=\"white-space:nowrap\">\\u2009</span>Appl.<br />\\nSciences</div>\\n</th>\\n<td class=\"navbox-list navbox-even\" style=\"text-align:left;border-left-width:2px;border-left-style:solid;width:100%;padding:0px\">\\n<div style=\"padding:0em 0.25em\">\\n<ul>\\n<li><a href=\"/wiki/Harvard_John_A._Paulson_School_of_Engineering_and_Applied_Sciences\" class=\"mw-redirect\" title=\"Harvard John A. Paulson School of Engineering and Applied Sciences\">John A. Paulson School of Engineering and Applied Sciences</a></li>\\n<li>Dean <a href=\"/w/index.php?title=Francis_J._Doyle_III&amp;action=edit&amp;redlink=1\" class=\"new\" title=\"Francis J. Doyle III (page does not exist)\">Francis J. Doyle III</a></li>\\n</ul>\\n</div>\\n</td>\\n</tr>\\n<tr style=\"height:2px\">\\n<td colspan=\"2\"></td>\\n</tr>\\n<tr>\\n<th scope=\"row\" class=\"navbox-group\" style=\"background-color:#A51C30;color:white; border:2px solid #1E1E1E;;padding-left:0;padding-right:0;\">\\n<div style=\"padding:0em 0.75em;\">Graduate<br />\\nSchool</div>\\n</th>\\n<td class=\"navbox-list navbox-odd\" style=\"text-align:left;border-left-width:2px;border-left-style:solid;width:100%;padding:0px\">\\n<div style=\"padding:0em 0.25em\">\\n<ul>\\n<li><a href=\"/wiki/Harvard_Graduate_School_of_Arts_and_Sciences\" title=\"Harvard Graduate School of Arts and Sciences\">Graduate School of Arts and Sciences</a></li>\\n<li>Dean <a href=\"/wiki/Xiao-Li_Meng\" title=\"Xiao-Li Meng\">Xiao-Li Meng</a></li>\\n</ul>\\n</div>\\n</td>\\n</tr>\\n<tr style=\"height:2px\">\\n<td colspan=\"2\"></td>\\n</tr>\\n<tr>\\n<th scope=\"row\" class=\"navbox-group\" style=\"background-color:#A51C30;color:white; border:2px solid #1E1E1E;;padding-left:0;padding-right:0;\">\\n<div style=\"padding:0em 0.75em;\">Libraries</div>\\n</th>\\n<td class=\"navbox-list navbox-even\" style=\"text-align:left;border-left-width:2px;border-left-style:solid;width:100%;padding:0px\">\\n<div style=\"padding:0em 0.25em\">\\n<ul>\\n<li><a href=\"/w/index.php?title=Cabot_Science_Library&amp;action=edit&amp;redlink=1\" class=\"new\" title=\"Cabot Science Library (page does not exist)\">Cabot</a></li>\\n<li><a href=\"/wiki/Harvard%E2%80%93Yenching_Library\" title=\"Harvard\\u2013Yenching Library\">Harvard-Yenching</a></li>\\n<li><a href=\"/wiki/Houghton_Library\" title=\"Houghton Library\">Houghton</a>\\n<ul>\\n<li><i><a href=\"/wiki/Harvard_Review\" title=\"Harvard Review\">Harvard Review</a></i></li>\\n</ul>\\n</li>\\n<li><a href=\"/wiki/Lamont_Library\" title=\"Lamont Library\">Lamont</a></li>\\n<li><a href=\"/w/index.php?title=Pusey_Library&amp;action=edit&amp;redlink=1\" class=\"new\" title=\"Pusey Library (page does not exist)\">Pusey</a></li>\\n<li><a href=\"/wiki/Widener_Library\" title=\"Widener Library\">Widener</a>\\n<ul>\\n<li><a href=\"/wiki/Harry_Widener\" class=\"mw-redirect\" title=\"Harry Widener\">Harry Widener</a></li>\\n<li><a href=\"/wiki/Eleanor_Elkins_Widener\" title=\"Eleanor Elkins Widener\">Eleanor Elkins Widener</a></li>\\n</ul>\\n</li>\\n<li><a href=\"/wiki/Grossman_Library\" title=\"Grossman Library\">Grossman</a></li>\\n</ul>\\n</div>\\n</td>\\n</tr>\\n<tr style=\"height:2px\">\\n<td colspan=\"2\"></td>\\n</tr>\\n<tr>\\n<th scope=\"row\" class=\"navbox-group\" style=\"background-color:#A51C30;color:white; border:2px solid #1E1E1E;;padding-left:0;padding-right:0;\">\\n<div style=\"padding:0em 0.75em;\"><span class=\"nowrap\">&#160;</span></div>\\n</th>\\n<td class=\"navbox-list navbox-odd\" style=\"text-align:left;border-left-width:2px;border-left-style:solid;width:100%;padding:0px\">\\n<div style=\"padding:0em 0.25em\">\\n<ul>\\n<li><a href=\"/wiki/Carpenter_Center_for_the_Visual_Arts\" title=\"Carpenter Center for the Visual Arts\">Carpenter Center for the Visual Arts</a></li>\\n<li><a href=\"/wiki/Center_for_Hellenic_Studies\" title=\"Center for Hellenic Studies\">Center for Hellenic Studies</a></li>\\n<li><a href=\"/w/index.php?title=Charles_Warren_Center_for_Studies_in_American_History&amp;action=edit&amp;redlink=1\" class=\"new\" title=\"Charles Warren Center for Studies in American History (page does not exist)\">Charles Warren Center for Studies in American History</a></li>\\n<li><a href=\"/wiki/Collection_of_Historical_Scientific_Instruments\" class=\"mw-redirect\" title=\"Collection of Historical Scientific Instruments\">Collection of Historical Scientific Instruments</a></li>\\n<li><a href=\"/wiki/Harvard%E2%80%93Smithsonian_Center_for_Astrophysics\" title=\"Harvard\\u2013Smithsonian Center for Astrophysics\">Harvard\\u2013Smithsonian Center for Astrophysics</a></li>\\n<li><a href=\"/w/index.php?title=Institute_for_Quantitative_Social_Science&amp;action=edit&amp;redlink=1\" class=\"new\" title=\"Institute for Quantitative Social Science (page does not exist)\">Institute for Quantitative Social Science</a></li>\\n<li><a href=\"/wiki/Nieman_Foundation_for_Journalism\" title=\"Nieman Foundation for Journalism\">Nieman Foundation for Journalism</a></li>\\n<li><a href=\"/wiki/Harvard_Ukrainian_Research_Institute\" title=\"Harvard Ukrainian Research Institute\">Ukrainian Research Institute</a></li>\\n<li><a href=\"/wiki/Villa_I_Tatti\" title=\"Villa I Tatti\">Villa I Tatti</a></li>\\n<li><a href=\"/wiki/W._E._B._Du_Bois_Institute\" title=\"W. E. B. Du Bois Institute\">W. E. B. Du Bois Institute</a></li>\\n</ul>\\n</div>\\n</td>\\n</tr>\\n</table>\\n</td>\\n</tr>\\n<tr style=\"height:2px\">\\n<td colspan=\"2\"></td>\\n</tr>\\n<tr>\\n<th scope=\"row\" class=\"navbox-group\" style=\"background-color:#A51C30;color:white; border:2px solid #1E1E1E;\">Business</th>\\n<td class=\"navbox-list navbox-odd hlist\" style=\"text-align:left;border-left-width:2px;border-left-style:solid;width:100%;padding:0px\">\\n<div style=\"padding:0em 0.25em\">\\n<ul>\\n<li><a href=\"/wiki/Harvard_Business_School\" title=\"Harvard Business School\">Harvard Business School</a></li>\\n<li>Dean <a href=\"/wiki/Nitin_Nohria\" title=\"Nitin Nohria\">Nitin Nohria</a></li>\\n<li><a href=\"/wiki/Harvard_Business_Publishing\" title=\"Harvard Business Publishing\">Harvard Business Publishing</a>\\n<ul>\\n<li><a href=\"/wiki/Harvard_Business_Press\" class=\"mw-redirect\" title=\"Harvard Business Press\">Harvard Business Press</a></li>\\n<li><i><a href=\"/wiki/Harvard_Business_Review\" title=\"Harvard Business Review\">Harvard Business Review</a></i></li>\\n</ul>\\n</li>\\n</ul>\\n</div>\\n</td>\\n</tr>\\n<tr style=\"height:2px\">\\n<td colspan=\"2\"></td>\\n</tr>\\n<tr>\\n<th scope=\"row\" class=\"navbox-group\" style=\"background-color:#A51C30;color:white; border:2px solid #1E1E1E;\">Design</th>\\n<td class=\"navbox-list navbox-odd hlist\" style=\"text-align:left;border-left-width:2px;border-left-style:solid;width:100%;padding:0px\">\\n<div style=\"padding:0em 0.25em\">\\n<ul>\\n<li><a href=\"/wiki/Harvard_Graduate_School_of_Design\" title=\"Harvard Graduate School of Design\">Harvard Graduate School of Design</a></li>\\n<li>Dean <a href=\"/wiki/Mohsen_Mostafavi\" title=\"Mohsen Mostafavi\">Mohsen Mostafavi</a></li>\\n<li><i><a href=\"/wiki/Harvard_Design_Magazine\" title=\"Harvard Design Magazine\">Harvard Design Magazine</a></i></li>\\n<li><a href=\"/wiki/Joint_Center_for_Housing_Studies\" title=\"Joint Center for Housing Studies\">Joint Center for Housing Studies</a></li>\\n</ul>\\n</div>\\n</td>\\n</tr>\\n<tr style=\"height:2px\">\\n<td colspan=\"2\"></td>\\n</tr>\\n<tr>\\n<th scope=\"row\" class=\"navbox-group\" style=\"background-color:#A51C30;color:white; border:2px solid #1E1E1E;\">Divinity</th>\\n<td class=\"navbox-list navbox-even hlist\" style=\"text-align:left;border-left-width:2px;border-left-style:solid;width:100%;padding:0px\">\\n<div style=\"padding:0em 0.25em\">\\n<ul>\\n<li><a href=\"/wiki/Harvard_Divinity_School\" title=\"Harvard Divinity School\">Harvard Divinity School</a></li>\\n<li>Dean <a href=\"/wiki/David_N._Hempton\" title=\"David N. Hempton\">David N. Hempton</a></li>\\n</ul>\\n</div>\\n</td>\\n</tr>\\n<tr style=\"height:2px\">\\n<td colspan=\"2\"></td>\\n</tr>\\n<tr>\\n<th scope=\"row\" class=\"navbox-group\" style=\"background-color:#A51C30;color:white; border:2px solid #1E1E1E;\">Education</th>\\n<td class=\"navbox-list navbox-odd hlist\" style=\"text-align:left;border-left-width:2px;border-left-style:solid;width:100%;padding:0px\">\\n<div style=\"padding:0em 0.25em\">\\n<ul>\\n<li><a href=\"/wiki/Harvard_Graduate_School_of_Education\" title=\"Harvard Graduate School of Education\">Harvard Graduate School of Education</a></li>\\n</ul>\\n</div>\\n</td>\\n</tr>\\n<tr style=\"height:2px\">\\n<td colspan=\"2\"></td>\\n</tr>\\n<tr>\\n<th scope=\"row\" class=\"navbox-group\" style=\"background-color:#A51C30;color:white; border:2px solid #1E1E1E;\">Government</th>\\n<td class=\"navbox-list navbox-even hlist\" style=\"text-align:left;border-left-width:2px;border-left-style:solid;width:100%;padding:0px\">\\n<div style=\"padding:0em 0.25em\">\\n<ul>\\n<li><a href=\"/wiki/John_F._Kennedy_School_of_Government\" title=\"John F. Kennedy School of Government\">John F. Kennedy School of Government</a></li>\\n<li>Dean <a href=\"/wiki/Douglas_Elmendorf\" title=\"Douglas Elmendorf\">Douglas Elmendorf</a></li>\\n<li><a href=\"/wiki/Harvard_Institute_of_Politics\" title=\"Harvard Institute of Politics\">Institute of Politics</a></li>\\n</ul>\\n</div>\\n</td>\\n</tr>\\n<tr style=\"height:2px\">\\n<td colspan=\"2\"></td>\\n</tr>\\n<tr>\\n<th scope=\"row\" class=\"navbox-group\" style=\"background-color:#A51C30;color:white; border:2px solid #1E1E1E;\">Law</th>\\n<td class=\"navbox-list navbox-odd hlist\" style=\"text-align:left;border-left-width:2px;border-left-style:solid;width:100%;padding:0px\">\\n<div style=\"padding:0em 0.25em\">\\n<ul>\\n<li><a href=\"/wiki/Harvard_Law_School\" title=\"Harvard Law School\">Harvard Law School</a></li>\\n<li>Dean <a href=\"/wiki/Martha_Minow\" title=\"Martha Minow\">Martha Minow</a></li>\\n<li><i><a href=\"/wiki/Harvard_Law_Review\" title=\"Harvard Law Review\">Harvard Law Review</a></i></li>\\n<li><i><a href=\"/wiki/Harvard_Journal_of_Law_%26_Technology\" title=\"Harvard Journal of Law &amp; Technology\">Harvard Journal of Law &amp; Technology</a></i></li>\\n<li><i><a href=\"/wiki/Harvard_Law_Record\" title=\"Harvard Law Record\">Harvard Law Record</a></i></li>\\n<li><i><a href=\"/wiki/Harvard_International_Law_Journal\" title=\"Harvard International Law Journal\">Harvard International Law Journal</a></i></li>\\n<li><i><a href=\"/wiki/Harvard_Civil_Rights-Civil_Liberties_Law_Review\" title=\"Harvard Civil Rights-Civil Liberties Law Review\">Harvard Civil Rights-Civil Liberties Law Review</a></i></li>\\n<li><i><a href=\"/wiki/Harvard_Journal_on_Legislation\" title=\"Harvard Journal on Legislation\">Harvard Journal on Legislation</a></i></li>\\n<li><a href=\"/wiki/Berkman_Center_for_Internet_%26_Society\" class=\"mw-redirect\" title=\"Berkman Center for Internet &amp; Society\">Berkman Center</a></li>\\n</ul>\\n</div>\\n</td>\\n</tr>\\n<tr style=\"height:2px\">\\n<td colspan=\"2\"></td>\\n</tr>\\n<tr>\\n<th scope=\"row\" class=\"navbox-group\" style=\"background-color:#A51C30;color:white; border:2px solid #1E1E1E;\">Medicine</th>\\n<td class=\"navbox-list navbox-even hlist\" style=\"text-align:left;border-left-width:2px;border-left-style:solid;width:100%;padding:0px\">\\n<div style=\"padding:0em 0.25em\"></div>\\n<table class=\"nowraplinks navbox-subgroup\" style=\"border-spacing:0\">\\n<tr>\\n<th scope=\"row\" class=\"navbox-group\" style=\"background-color:#A51C30;color:white; border:2px solid #1E1E1E;;padding-left:0;padding-right:0;\">\\n<div style=\"padding:0em 0.75em;\"><span class=\"nowrap\">&#160;</span></div>\\n</th>\\n<td class=\"navbox-list navbox-odd\" style=\"text-align:left;border-left-width:2px;border-left-style:solid;width:100%;padding:0px\">\\n<div style=\"padding:0em 0.25em\">\\n<ul>\\n<li><a href=\"/wiki/Harvard_Medical_School\" title=\"Harvard Medical School\">Harvard Medical School</a></li>\\n<li>Dean <a href=\"/wiki/Jeffrey_Scott_Flier\" title=\"Jeffrey Scott Flier\">Jeffrey Scott Flier</a></li>\\n<li><a href=\"/wiki/Broad_Institute\" title=\"Broad Institute\">Broad Institute</a></li>\\n<li><a href=\"/wiki/Countway_Library_of_Medicine\" class=\"mw-redirect\" title=\"Countway Library of Medicine\">Countway Library</a></li>\\n<li><a href=\"/wiki/Center_for_the_History_of_Medicine\" class=\"mw-redirect\" title=\"Center for the History of Medicine\">Center for the History of Medicine</a>\\n<ul>\\n<li><a href=\"/wiki/Warren_Anatomical_Museum\" title=\"Warren Anatomical Museum\">Warren Anatomical Museum</a></li>\\n</ul>\\n</li>\\n<li><a href=\"/w/index.php?title=Schepens_Eye_Research_Institute&amp;action=edit&amp;redlink=1\" class=\"new\" title=\"Schepens Eye Research Institute (page does not exist)\">Schepens Eye Research Institute</a></li>\\n</ul>\\n</div>\\n</td>\\n</tr>\\n<tr style=\"height:2px\">\\n<td colspan=\"2\"></td>\\n</tr>\\n<tr>\\n<th scope=\"row\" class=\"navbox-group\" style=\"background-color:#A51C30;color:white; border:2px solid #1E1E1E;;padding-left:0;padding-right:0;\">\\n<div style=\"padding:0em 0.75em;\">Dentistry</div>\\n</th>\\n<td class=\"navbox-list navbox-even\" style=\"text-align:left;border-left-width:2px;border-left-style:solid;width:100%;padding:0px\">\\n<div style=\"padding:0em 0.25em\">\\n<ul>\\n<li><a href=\"/wiki/Harvard_School_of_Dental_Medicine\" title=\"Harvard School of Dental Medicine\">Harvard School of Dental Medicine</a></li>\\n<li>Dean <a href=\"/w/index.php?title=Bruce_Donoff&amp;action=edit&amp;redlink=1\" class=\"new\" title=\"Bruce Donoff (page does not exist)\">Bruce Donoff</a></li>\\n</ul>\\n</div>\\n</td>\\n</tr>\\n</table>\\n</td>\\n</tr>\\n<tr style=\"height:2px\">\\n<td colspan=\"2\"></td>\\n</tr>\\n<tr>\\n<th scope=\"row\" class=\"navbox-group\" style=\"background-color:#A51C30;color:white; border:2px solid #1E1E1E;\">Public health</th>\\n<td class=\"navbox-list navbox-odd hlist\" style=\"text-align:left;border-left-width:2px;border-left-style:solid;width:100%;padding:0px\">\\n<div style=\"padding:0em 0.25em\">\\n<ul>\\n<li><a href=\"/wiki/Harvard_T.H._Chan_School_of_Public_Health\" title=\"Harvard T.H. Chan School of Public Health\">Harvard T.H. Chan School of Public Health</a></li>\\n<li>Dean <a href=\"/wiki/Julio_Frenk\" title=\"Julio Frenk\">Julio Frenk</a></li>\\n</ul>\\n</div>\\n</td>\\n</tr>\\n<tr style=\"height:2px\">\\n<td colspan=\"2\"></td>\\n</tr>\\n<tr>\\n<th scope=\"row\" class=\"navbox-group\" style=\"background-color:#A51C30;color:white; border:2px solid #1E1E1E;\">Museums</th>\\n<td class=\"navbox-list navbox-even hlist\" style=\"text-align:left;border-left-width:2px;border-left-style:solid;width:100%;padding:0px\">\\n<div style=\"padding:0em 0.25em\">\\n<ul>\\n<li><a href=\"/wiki/Harvard_Art_Museums\" title=\"Harvard Art Museums\">Harvard Art Museums</a>\\n<ul>\\n<li><a href=\"/wiki/Arthur_M._Sackler_Museum\" class=\"mw-redirect\" title=\"Arthur M. Sackler Museum\">Arthur M. Sackler</a></li>\\n<li><a href=\"/wiki/Fogg_Museum\" class=\"mw-redirect\" title=\"Fogg Museum\">Fogg Museum</a></li>\\n<li><a href=\"/wiki/Busch%E2%80%93Reisinger_Museum\" class=\"mw-redirect\" title=\"Busch\\u2013Reisinger Museum\">Busch-Reisinger</a></li>\\n</ul>\\n</li>\\n<li><a href=\"/wiki/Harvard_Collection_of_Historical_Scientific_Instruments\" title=\"Harvard Collection of Historical Scientific Instruments\">Harvard Collection of Historical Scientific Instruments</a></li>\\n<li><a href=\"/wiki/Harvard_Museum_of_Natural_History\" title=\"Harvard Museum of Natural History\">Museum of Natural History</a>\\n<ul>\\n<li><a href=\"/wiki/Glass_Flowers\" title=\"Glass Flowers\">Glass Flowers</a></li>\\n<li><a href=\"/wiki/Harvard_Mineralogical_Museum\" title=\"Harvard Mineralogical Museum\">Mineralogical Museum</a></li>\\n<li><a href=\"/wiki/Harvard_University_Herbaria\" title=\"Harvard University Herbaria\">Herbaria</a></li>\\n<li><a href=\"/wiki/Museum_of_Comparative_Zoology\" title=\"Museum of Comparative Zoology\">Comparative Zoology</a></li>\\n</ul>\\n</li>\\n<li><a href=\"/wiki/Peabody_Museum_of_Archaeology_and_Ethnology\" title=\"Peabody Museum of Archaeology and Ethnology\">Peabody Museum of Archaeology and Ethnology</a></li>\\n<li><a href=\"/wiki/Semitic_Museum\" title=\"Semitic Museum\">Semitic Museum</a></li>\\n<li><a href=\"/wiki/General_Artemas_Ward_House\" title=\"General Artemas Ward House\">General Artemas Ward House</a></li>\\n</ul>\\n</div>\\n</td>\\n</tr>\\n<tr style=\"height:2px\">\\n<td colspan=\"2\"></td>\\n</tr>\\n<tr>\\n<th scope=\"row\" class=\"navbox-group\" style=\"background-color:#A51C30;color:white; border:2px solid #1E1E1E;\">Cambridge<br />\\ncampus</th>\\n<td class=\"navbox-list navbox-odd hlist\" style=\"text-align:left;border-left-width:2px;border-left-style:solid;width:100%;padding:0px\">\\n<div style=\"padding:0em 0.25em\">\\n<ul>\\n<li><a href=\"/wiki/Memorial_Hall_(Harvard_University)\" title=\"Memorial Hall (Harvard University)\">Memorial Hall</a></li>\\n<li><a href=\"/wiki/Harvard_Science_Center\" title=\"Harvard Science Center\">Science Center</a></li>\\n<li><a href=\"/wiki/Smith_Campus_Center\" title=\"Smith Campus Center\">Smith Campus Center</a></li>\\n<li><a href=\"/wiki/Peabody_Terrace\" title=\"Peabody Terrace\">Peabody Terrace</a></li>\\n<li><a href=\"/wiki/Harvard_Graduate_Center\" title=\"Harvard Graduate Center\">Harvard Graduate Center</a></li>\\n<li><a href=\"/wiki/Harvard_Hall\" title=\"Harvard Hall\">Harvard Hall</a></li>\\n<li><a href=\"/wiki/University_Hall_(Harvard_University)\" title=\"University Hall (Harvard University)\">University Hall</a></li>\\n<li><a href=\"/wiki/Memorial_Church_of_Harvard_University\" title=\"Memorial Church of Harvard University\">Memorial Church</a>\\n<ul>\\n<li><a href=\"/wiki/Harvard_University_Choir\" title=\"Harvard University Choir\">Choir</a></li>\\n</ul>\\n</li>\\n<li><a href=\"/wiki/Harvard_Yard\" title=\"Harvard Yard\">Harvard Yard</a></li>\\n<li><a href=\"/wiki/Johnston_Gate\" title=\"Johnston Gate\">Johnston Gate</a></li>\\n</ul>\\n</div>\\n</td>\\n</tr>\\n<tr style=\"height:2px\">\\n<td colspan=\"2\"></td>\\n</tr>\\n<tr>\\n<th scope=\"row\" class=\"navbox-group\" style=\"background-color:#A51C30;color:white; border:2px solid #1E1E1E;\">Centers and<br />\\nInstitutes</th>\\n<td class=\"navbox-list navbox-even hlist\" style=\"text-align:left;border-left-width:2px;border-left-style:solid;width:100%;padding:0px\">\\n<div style=\"padding:0em 0.25em\">\\n<ul>\\n<li><a href=\"/wiki/Dumbarton_Oaks\" title=\"Dumbarton Oaks\">Dumbarton Oaks</a></li>\\n<li><a href=\"/wiki/Harvard_Forest\" title=\"Harvard Forest\">Harvard Forest</a></li>\\n<li><a href=\"/wiki/Harvard%E2%80%93MIT_Division_of_Health_Sciences_and_Technology\" class=\"mw-redirect\" title=\"Harvard\\u2013MIT Division of Health Sciences and Technology\">Health Science and Technology</a></li>\\n<li><a href=\"/wiki/Institute_for_Advanced_Theater_Training\" title=\"Institute for Advanced Theater Training\">Institute for Advanced Theater Training</a></li>\\n<li><a href=\"/wiki/Radcliffe_Institute_for_Advanced_Study\" title=\"Radcliffe Institute for Advanced Study\">Radcliffe Institute for Advanced Study</a>\\n<ul>\\n<li><a href=\"/wiki/Schlesinger_Library\" title=\"Schlesinger Library\">Schlesinger Library</a></li>\\n</ul>\\n</li>\\n<li><a href=\"/wiki/Real_Colegio_Complutense\" title=\"Real Colegio Complutense\">Real Colegio Complutense</a></li>\\n<li><a href=\"/wiki/Wyss_Institute_for_Biologically_Inspired_Engineering\" title=\"Wyss Institute for Biologically Inspired Engineering\">Wyss Institute for Biologically Inspired Engineering</a></li>\\n</ul>\\n</div>\\n</td>\\n</tr>\\n<tr style=\"height:2px\">\\n<td colspan=\"2\"></td>\\n</tr>\\n<tr>\\n<th scope=\"row\" class=\"navbox-group\" style=\"background-color:#A51C30;color:white; border:2px solid #1E1E1E;\">Misc.</th>\\n<td class=\"navbox-list navbox-odd hlist\" style=\"text-align:left;border-left-width:2px;border-left-style:solid;width:100%;padding:0px\">\\n<div style=\"padding:0em 0.25em\">\\n<ul>\\n<li><a href=\"/wiki/History_and_traditions_of_Harvard_commencements\" title=\"History and traditions of Harvard commencements\">Commencement traditions</a>\\n<ul>\\n<li><a href=\"/wiki/Academic_regalia_of_Harvard_University\" title=\"Academic regalia of Harvard University\">Academic regalia</a></li>\\n</ul>\\n</li>\\n<li><a href=\"/wiki/Heraldry_of_Harvard_University\" title=\"Heraldry of Harvard University\">Heraldry</a></li>\\n<li><a href=\"/wiki/Harvard_Tercentenary_celebration\" title=\"Harvard Tercentenary celebration\">Tercentenary celebration</a></li>\\n<li><a href=\"/wiki/Harvard_University_Professor\" title=\"Harvard University Professor\">Harvard University Professor</a></li>\\n<li><i><a href=\"/wiki/Harvard_Magazine\" title=\"Harvard Magazine\">Harvard Magazine</a></i></li>\\n<li><i><a href=\"/wiki/Harvard_Gazette\" title=\"Harvard Gazette\">Harvard Gazette</a></i></li>\\n<li><a href=\"/wiki/Harvard_University_Press\" title=\"Harvard University Press\">Harvard University Press</a></li>\\n<li><a href=\"/wiki/Harvard_Society_of_Fellows\" title=\"Harvard Society of Fellows\">Society of Fellows</a></li>\\n</ul>\\n</div>\\n</td>\\n</tr>\\n</table>\\n</div>\\n<div role=\"navigation\" class=\"navbox\" aria-labelledby=\"Links_to_related_articles\" style=\"padding:3px\">\\n<table class=\"nowraplinks collapsible collapsed navbox-inner\" style=\"border-spacing:0;background:transparent;color:inherit\">\\n<tr>\\n<th scope=\"col\" class=\"navbox-title\" colspan=\"2\" style=\"background:#e8e8ff;background-color:#A51C30;color:white; border:2px solid #1E1E1E;\"><span style=\"float:left;width:6em\">&#160;</span>\\n<div id=\"Links_to_related_articles\" style=\"font-size:114%\">Links to related articles</div>\\n</th>\\n</tr>\\n<tr style=\"height:2px\">\\n<td colspan=\"2\"></td>\\n</tr>\\n<tr>\\n<td colspan=\"2\" class=\"navbox-list navbox-odd\" style=\"width:100%;padding:0px;font-size:114%;\">\\n<div style=\"padding:0px;\">\\n<div role=\"navigation\" class=\"navbox\" aria-labelledby=\"Ivy_League\" style=\"padding:3px\">\\n<table class=\"nowraplinks collapsible autocollapse navbox-inner\" style=\"border-spacing:0;background:transparent;color:inherit\">\\n<tr>\\n<th scope=\"col\" class=\"navbox-title\" colspan=\"2\" style=\"background:#115740; color:#FFFFFF\">\\n<div class=\"plainlinks hlist navbar mini\">\\n<ul>\\n<li class=\"nv-view\"><a href=\"/wiki/Template:Ivy_League\" title=\"Template:Ivy League\"><abbr title=\"View this template\" style=\";background:#115740; color:#FFFFFF;background:none transparent;border:none;\">v</abbr></a></li>\\n<li class=\"nv-talk\"><a href=\"/wiki/Template_talk:Ivy_League\" title=\"Template talk:Ivy League\"><abbr title=\"Discuss this template\" style=\";background:#115740; color:#FFFFFF;background:none transparent;border:none;\">t</abbr></a></li>\\n<li class=\"nv-edit\"><a class=\"external text\" href=\"//en.wikipedia.org/w/index.php?title=Template:Ivy_League&amp;action=edit\"><abbr title=\"Edit this template\" style=\";background:#115740; color:#FFFFFF;background:none transparent;border:none;\">e</abbr></a></li>\\n</ul>\\n</div>\\n<div id=\"Ivy_League\" style=\"font-size:114%\"><a href=\"/wiki/Ivy_League\" title=\"Ivy League\"><span style=\"color:#FFFFFF;\">Ivy League</span></a></div>\\n</th>\\n</tr>\\n<tr style=\"height:2px\">\\n<td colspan=\"2\"></td>\\n</tr>\\n<tr>\\n<td colspan=\"2\" class=\"navbox-list navbox-odd hlist\" style=\"width:100%;padding:0px\">\\n<div style=\"padding:0em 0.25em\">\\n<ul>\\n<li><a href=\"/wiki/Brown_University\" title=\"Brown University\">Brown</a> <a href=\"/wiki/Brown_Bears\" title=\"Brown Bears\">Bears</a></li>\\n<li><a href=\"/wiki/Columbia_University\" title=\"Columbia University\">Columbia</a> <a href=\"/wiki/Columbia_Lions\" title=\"Columbia Lions\">Lions</a></li>\\n<li><a href=\"/wiki/Cornell_University\" title=\"Cornell University\">Cornell</a> <a href=\"/wiki/Cornell_Big_Red\" title=\"Cornell Big Red\">Big Red</a></li>\\n<li><a href=\"/wiki/Dartmouth_College\" title=\"Dartmouth College\">Dartmouth</a> <a href=\"/wiki/Dartmouth_Big_Green\" title=\"Dartmouth Big Green\">Big Green</a></li>\\n<li><strong class=\"selflink\">Harvard</strong> <a href=\"/wiki/Harvard_Crimson\" title=\"Harvard Crimson\">Crimson</a></li>\\n<li><a href=\"/wiki/Princeton_University\" title=\"Princeton University\">Princeton</a> <a href=\"/wiki/Princeton_Tigers\" title=\"Princeton Tigers\">Tigers</a></li>\\n<li><a href=\"/wiki/University_of_Pennsylvania\" title=\"University of Pennsylvania\">Penn</a> <a href=\"/wiki/Penn_Quakers\" title=\"Penn Quakers\">Quakers</a></li>\\n<li><a href=\"/wiki/Yale_University\" title=\"Yale University\">Yale</a> <a href=\"/wiki/Yale_Bulldogs\" title=\"Yale Bulldogs\">Bulldogs</a></li>\\n</ul>\\n</div>\\n</td>\\n</tr>\\n</table>\\n</div>\\n<div role=\"navigation\" class=\"navbox\" aria-labelledby=\"Colonial_colleges\" style=\"padding:3px\">\\n<table class=\"nowraplinks collapsible autocollapse navbox-inner\" style=\"border-spacing:0;background:transparent;color:inherit\">\\n<tr>\\n<th scope=\"col\" class=\"navbox-title\" colspan=\"2\">\\n<div class=\"plainlinks hlist navbar mini\">\\n<ul>\\n<li class=\"nv-view\"><a href=\"/wiki/Template:Colonial_Colleges\" title=\"Template:Colonial Colleges\"><abbr title=\"View this template\" style=\";;background:none transparent;border:none;\">v</abbr></a></li>\\n<li class=\"nv-talk\"><a href=\"/wiki/Template_talk:Colonial_Colleges\" title=\"Template talk:Colonial Colleges\"><abbr title=\"Discuss this template\" style=\";;background:none transparent;border:none;\">t</abbr></a></li>\\n<li class=\"nv-edit\"><a class=\"external text\" href=\"//en.wikipedia.org/w/index.php?title=Template:Colonial_Colleges&amp;action=edit\"><abbr title=\"Edit this template\" style=\";;background:none transparent;border:none;\">e</abbr></a></li>\\n</ul>\\n</div>\\n<div id=\"Colonial_colleges\" style=\"font-size:114%\"><a href=\"/wiki/Colonial_colleges\" title=\"Colonial colleges\">Colonial colleges</a></div>\\n</th>\\n</tr>\\n<tr style=\"height:2px\">\\n<td colspan=\"2\"></td>\\n</tr>\\n<tr>\\n<td colspan=\"2\" class=\"navbox-list navbox-odd hlist\" style=\"width:100%;padding:0px;text-align: center;\">\\n<div style=\"padding:0em 0.25em\">\\n<ul>\\n<li><a href=\"/wiki/Brown_University\" title=\"Brown University\">Brown</a></li>\\n<li><a href=\"/wiki/Columbia_University\" title=\"Columbia University\">Columbia</a></li>\\n<li><a href=\"/wiki/Dartmouth_College\" title=\"Dartmouth College\">Dartmouth</a></li>\\n<li><strong class=\"selflink\">Harvard</strong></li>\\n<li><a href=\"/wiki/University_of_Pennsylvania\" title=\"University of Pennsylvania\">Penn</a></li>\\n<li><a href=\"/wiki/Princeton_University\" title=\"Princeton University\">Princeton</a></li>\\n<li><a href=\"/wiki/Rutgers_University\" title=\"Rutgers University\">Rutgers</a></li>\\n<li><a href=\"/wiki/College_of_William_%26_Mary\" title=\"College of William &amp; Mary\">William &amp; Mary</a></li>\\n<li><a href=\"/wiki/Yale_University\" title=\"Yale University\">Yale</a></li>\\n</ul>\\n</div>\\n</td>\\n</tr>\\n</table>\\n</div>\\n<div role=\"navigation\" class=\"navbox\" aria-labelledby=\"Colleges_and_universities_in_metropolitan_Boston\" style=\"padding:3px\">\\n<table class=\"nowraplinks collapsible autocollapse navbox-inner\" style=\"border-spacing:0;background:transparent;color:inherit\">\\n<tr>\\n<th scope=\"col\" class=\"navbox-title\" colspan=\"2\">\\n<div class=\"plainlinks hlist navbar mini\">\\n<ul>\\n<li class=\"nv-view\"><a href=\"/wiki/Template:Colleges_and_universities_in_metropolitan_Boston\" title=\"Template:Colleges and universities in metropolitan Boston\"><abbr title=\"View this template\" style=\";;background:none transparent;border:none;\">v</abbr></a></li>\\n<li class=\"nv-talk\"><a href=\"/wiki/Template_talk:Colleges_and_universities_in_metropolitan_Boston\" title=\"Template talk:Colleges and universities in metropolitan Boston\"><abbr title=\"Discuss this template\" style=\";;background:none transparent;border:none;\">t</abbr></a></li>\\n<li class=\"nv-edit\"><a class=\"external text\" href=\"//en.wikipedia.org/w/index.php?title=Template:Colleges_and_universities_in_metropolitan_Boston&amp;action=edit\"><abbr title=\"Edit this template\" style=\";;background:none transparent;border:none;\">e</abbr></a></li>\\n</ul>\\n</div>\\n<div id=\"Colleges_and_universities_in_metropolitan_Boston\" style=\"font-size:114%\"><a href=\"/wiki/List_of_colleges_and_universities_in_metropolitan_Boston\" title=\"List of colleges and universities in metropolitan Boston\">Colleges and universities in metropolitan Boston</a></div>\\n</th>\\n</tr>\\n<tr style=\"height:2px\">\\n<td colspan=\"2\"></td>\\n</tr>\\n<tr>\\n<td colspan=\"2\" class=\"navbox-list navbox-odd hlist\" style=\"width:100%;padding:0px\">\\n<div style=\"padding:0em 0.25em\">\\n<ul>\\n<li><a href=\"/wiki/Andover_Newton_Theological_School\" title=\"Andover Newton Theological School\">Andover Newton Theological School</a></li>\\n<li><a href=\"/wiki/Bay_State_College\" title=\"Bay State College\">Bay State College</a></li>\\n<li><a href=\"/wiki/Benjamin_Franklin_Institute_of_Technology\" title=\"Benjamin Franklin Institute of Technology\">Benjamin Franklin Institute of Technology</a></li>\\n<li><a href=\"/wiki/Bentley_University\" title=\"Bentley University\">Bentley University</a></li>\\n<li><a href=\"/wiki/Berklee_College_of_Music\" title=\"Berklee College of Music\">Berklee College of Music</a></li>\\n<li><a href=\"/wiki/Boston_Architectural_College\" title=\"Boston Architectural College\">Boston Architectural College</a></li>\\n<li><a href=\"/wiki/Boston_Baptist_College\" title=\"Boston Baptist College\">Boston Baptist College</a></li>\\n<li><a href=\"/wiki/Boston_College\" title=\"Boston College\">Boston College</a></li>\\n<li><a href=\"/wiki/Boston_Conservatory\" title=\"Boston Conservatory\">Boston Conservatory</a></li>\\n<li><a href=\"/wiki/Boston_Graduate_School_of_Psychoanalysis\" title=\"Boston Graduate School of Psychoanalysis\">Boston Graduate School of Psychoanalysis</a></li>\\n<li><a href=\"/wiki/Boston_University\" title=\"Boston University\">Boston University</a></li>\\n<li><a href=\"/wiki/Brandeis_University\" title=\"Brandeis University\">Brandeis University</a></li>\\n<li><a href=\"/wiki/Bunker_Hill_Community_College\" title=\"Bunker Hill Community College\">Bunker Hill Community College</a></li>\\n<li><a href=\"/wiki/Cambridge_College\" title=\"Cambridge College\">Cambridge College</a></li>\\n<li><a href=\"/wiki/Curry_College\" title=\"Curry College\">Curry College</a></li>\\n<li><a href=\"/wiki/Eastern_Nazarene_College\" title=\"Eastern Nazarene College\">Eastern Nazarene College</a></li>\\n<li><a href=\"/wiki/Emerson_College\" title=\"Emerson College\">Emerson College</a></li>\\n<li><a href=\"/wiki/Emmanuel_College_(Massachusetts)\" title=\"Emmanuel College (Massachusetts)\">Emmanuel College</a></li>\\n<li><a href=\"/wiki/Episcopal_Divinity_School\" title=\"Episcopal Divinity School\">Episcopal Divinity School</a></li>\\n<li><a href=\"/wiki/Fisher_College\" title=\"Fisher College\">Fisher College</a></li>\\n<li><strong class=\"selflink\">Harvard University</strong></li>\\n<li><a href=\"/wiki/Hebrew_College\" title=\"Hebrew College\">Hebrew College</a></li>\\n<li><a href=\"/wiki/Hellenic_College_and_Holy_Cross_Greek_Orthodox_School_of_Theology\" class=\"mw-redirect\" title=\"Hellenic College and Holy Cross Greek Orthodox School of Theology\">Hellenic College</a></li>\\n<li><a href=\"/wiki/Hult_International_Business_School\" title=\"Hult International Business School\">Hult International Business School</a></li>\\n<li><a href=\"/wiki/Labour%C3%A9_College\" title=\"Labour\\xe9 College\">Labour\\xe9 College</a></li>\\n<li><a href=\"/wiki/Lasell_College\" title=\"Lasell College\">Lasell College</a></li>\\n<li><a href=\"/wiki/Lesley_University\" title=\"Lesley University\">Lesley University</a></li>\\n<li><a href=\"/wiki/Longy_School_of_Music\" class=\"mw-redirect\" title=\"Longy School of Music\">Longy School of Music</a></li>\\n<li><a href=\"/wiki/Massachusetts_College_of_Art_and_Design\" title=\"Massachusetts College of Art and Design\">Massachusetts College of Art and Design</a></li>\\n<li><a href=\"/wiki/Massachusetts_College_of_Pharmacy_and_Health_Sciences\" class=\"mw-redirect\" title=\"Massachusetts College of Pharmacy and Health Sciences\">Massachusetts College of Pharmacy and Health Sciences</a></li>\\n<li><a href=\"/wiki/Massachusetts_Institute_of_Technology\" title=\"Massachusetts Institute of Technology\">Massachusetts Institute of Technology</a></li>\\n<li><a href=\"/wiki/MGH_Institute_of_Health_Professions\" title=\"MGH Institute of Health Professions\">MGH Institute</a></li>\\n<li><a href=\"/wiki/Mount_Ida_College\" title=\"Mount Ida College\">Mount Ida College</a></li>\\n<li><a href=\"/wiki/Newbury_College_(United_States)\" title=\"Newbury College (United States)\">Newbury College</a></li>\\n<li><a href=\"/wiki/New_England_College_of_Optometry\" title=\"New England College of Optometry\">New England College of Optometry</a></li>\\n<li><a href=\"/wiki/New_England_Conservatory\" class=\"mw-redirect\" title=\"New England Conservatory\">New England Conservatory</a></li>\\n<li><a href=\"/wiki/New_England_Institute_of_Art\" title=\"New England Institute of Art\">New England Institute of Art</a></li>\\n<li><a href=\"/wiki/New_England_School_of_Law\" title=\"New England School of Law\">New England School of Law</a></li>\\n<li><a href=\"/wiki/Northeastern_University\" title=\"Northeastern University\">Northeastern University</a></li>\\n<li><a href=\"/wiki/Pine_Manor_College\" title=\"Pine Manor College\">Pine Manor College</a></li>\\n<li><a href=\"/wiki/Quincy_College\" title=\"Quincy College\">Quincy College</a></li>\\n<li><a href=\"/wiki/Roxbury_Community_College\" title=\"Roxbury Community College\">Roxbury Community College</a></li>\\n<li><a href=\"/wiki/Saint_John%27s_Seminary_(Massachusetts)\" title=\"Saint John\\'s Seminary (Massachusetts)\">St. John\\'s Seminary</a></li>\\n<li><a href=\"/wiki/School_of_the_Museum_of_Fine_Arts,_Boston\" class=\"mw-redirect\" title=\"School of the Museum of Fine Arts, Boston\">School of the Museum of Fine Arts</a></li>\\n<li><a href=\"/wiki/Simmons_College_(Massachusetts)\" class=\"mw-redirect\" title=\"Simmons College (Massachusetts)\">Simmons College</a></li>\\n<li><a href=\"/wiki/Suffolk_University\" title=\"Suffolk University\">Suffolk University</a></li>\\n<li><a href=\"/wiki/Tufts_University\" title=\"Tufts University\">Tufts University</a></li>\\n<li><a href=\"/wiki/University_of_Massachusetts_Boston\" title=\"University of Massachusetts Boston\">University of Massachusetts Boston</a></li>\\n<li><a href=\"/wiki/Urban_College_of_Boston\" title=\"Urban College of Boston\">Urban College of Boston</a></li>\\n<li><a href=\"/wiki/Wentworth_Institute_of_Technology\" title=\"Wentworth Institute of Technology\">Wentworth Institute of Technology</a></li>\\n<li><a href=\"/wiki/Wheelock_College\" title=\"Wheelock College\">Wheelock College</a></li>\\n<li><a href=\"/wiki/William_James_College\" title=\"William James College\">William James College</a></li>\\n</ul>\\n</div>\\n</td>\\n</tr>\\n</table>\\n</div>\\n<div role=\"navigation\" class=\"navbox\" aria-labelledby=\"Association_of_American_Universities\" style=\"padding:3px\">\\n<table class=\"nowraplinks collapsible autocollapse navbox-inner\" style=\"border-spacing:0;background:transparent;color:inherit\">\\n<tr>\\n<th scope=\"col\" class=\"navbox-title\" colspan=\"2\" style=\"color: #ffffff; background-color: #003c7a;\">\\n<div class=\"plainlinks hlist navbar mini\">\\n<ul>\\n<li class=\"nv-view\"><a href=\"/wiki/Template:Association_of_American_Universities\" title=\"Template:Association of American Universities\"><abbr title=\"View this template\" style=\";color: #ffffff; background-color: #003c7a;;background:none transparent;border:none;\">v</abbr></a></li>\\n<li class=\"nv-talk\"><a href=\"/wiki/Template_talk:Association_of_American_Universities\" title=\"Template talk:Association of American Universities\"><abbr title=\"Discuss this template\" style=\";color: #ffffff; background-color: #003c7a;;background:none transparent;border:none;\">t</abbr></a></li>\\n<li class=\"nv-edit\"><a class=\"external text\" href=\"//en.wikipedia.org/w/index.php?title=Template:Association_of_American_Universities&amp;action=edit\"><abbr title=\"Edit this template\" style=\";color: #ffffff; background-color: #003c7a;;background:none transparent;border:none;\">e</abbr></a></li>\\n</ul>\\n</div>\\n<div id=\"Association_of_American_Universities\" style=\"font-size:114%\"><a href=\"/wiki/Association_of_American_Universities\" title=\"Association of American Universities\"><span style=\"color:white;\">Association of American Universities</span></a></div>\\n</th>\\n</tr>\\n<tr style=\"height:2px\">\\n<td colspan=\"2\"></td>\\n</tr>\\n<tr>\\n<th scope=\"row\" class=\"navbox-group\" style=\"color: #ffffff; background-color: #003c7a; text-align: center;\"><a href=\"/wiki/Public_university\" title=\"Public university\"><span style=\"color:white;\">Public</span></a></th>\\n<td class=\"navbox-list navbox-odd hlist\" style=\"text-align:left;border-left-width:2px;border-left-style:solid;width:100%;padding:0px\">\\n<div style=\"padding:0em 0.25em\">\\n<ul>\\n<li><a href=\"/wiki/University_of_Arizona\" title=\"University of Arizona\">Arizona</a></li>\\n<li><a href=\"/wiki/University_of_California\" title=\"University of California\">California</a>\\n<ul>\\n<li><a href=\"/wiki/University_of_California,_Berkeley\" title=\"University of California, Berkeley\">Berkeley</a></li>\\n<li><a href=\"/wiki/University_of_California,_Davis\" title=\"University of California, Davis\">Davis</a></li>\\n<li><a href=\"/wiki/University_of_California,_Irvine\" title=\"University of California, Irvine\">Irvine</a></li>\\n<li><a href=\"/wiki/University_of_California,_Los_Angeles\" title=\"University of California, Los Angeles\">Los Angeles</a></li>\\n<li><a href=\"/wiki/University_of_California,_San_Diego\" title=\"University of California, San Diego\">San Diego</a></li>\\n<li><a href=\"/wiki/University_of_California,_Santa_Barbara\" title=\"University of California, Santa Barbara\">Santa Barbara</a></li>\\n</ul>\\n</li>\\n<li><a href=\"/wiki/University_of_Colorado_Boulder\" title=\"University of Colorado Boulder\">Colorado</a></li>\\n<li><a href=\"/wiki/University_of_Florida\" title=\"University of Florida\">Florida</a></li>\\n<li><a href=\"/wiki/Georgia_Institute_of_Technology\" title=\"Georgia Institute of Technology\">Georgia Tech</a></li>\\n<li><a href=\"/wiki/University_of_Illinois_at_Urbana%E2%80%93Champaign\" title=\"University of Illinois at Urbana\\u2013Champaign\">Illinois</a></li>\\n<li><a href=\"/wiki/Indiana_University_Bloomington\" title=\"Indiana University Bloomington\">Indiana</a></li>\\n<li><a href=\"/wiki/University_of_Iowa\" title=\"University of Iowa\">Iowa</a></li>\\n<li><a href=\"/wiki/Iowa_State_University\" title=\"Iowa State University\">Iowa State</a></li>\\n<li><a href=\"/wiki/University_of_Kansas\" title=\"University of Kansas\">Kansas</a></li>\\n<li><a href=\"/wiki/University_of_Maryland,_College_Park\" title=\"University of Maryland, College Park\">Maryland</a></li>\\n<li><a href=\"/wiki/University_of_Michigan\" title=\"University of Michigan\">Michigan</a></li>\\n<li><a href=\"/wiki/Michigan_State_University\" title=\"Michigan State University\">Michigan State</a></li>\\n<li><a href=\"/wiki/University_of_Minnesota\" title=\"University of Minnesota\">Minnesota</a></li>\\n<li><a href=\"/wiki/University_of_Missouri\" title=\"University of Missouri\">Missouri</a></li>\\n<li><a href=\"/wiki/State_University_of_New_York\" title=\"State University of New York\">SUNY</a>\\n<ul>\\n<li><a href=\"/wiki/University_at_Buffalo\" title=\"University at Buffalo\">Buffalo</a></li>\\n<li><a href=\"/wiki/Stony_Brook_University\" title=\"Stony Brook University\">Stony Brook</a></li>\\n</ul>\\n</li>\\n<li><a href=\"/wiki/University_of_North_Carolina_at_Chapel_Hill\" title=\"University of North Carolina at Chapel Hill\">North Carolina</a></li>\\n<li><a href=\"/wiki/Ohio_State_University\" title=\"Ohio State University\">Ohio State</a></li>\\n<li><a href=\"/wiki/University_of_Oregon\" title=\"University of Oregon\">Oregon</a></li>\\n<li><a href=\"/wiki/Pennsylvania_State_University\" title=\"Pennsylvania State University\">Penn State</a></li>\\n<li><a href=\"/wiki/University_of_Pittsburgh\" title=\"University of Pittsburgh\">Pittsburgh</a></li>\\n<li><a href=\"/wiki/Purdue_University\" title=\"Purdue University\">Purdue</a></li>\\n<li><a href=\"/wiki/Rutgers_University\" title=\"Rutgers University\">Rutgers</a></li>\\n<li><a href=\"/wiki/University_of_Texas_at_Austin\" title=\"University of Texas at Austin\">Texas</a></li>\\n<li><a href=\"/wiki/Texas_A%26M_University\" title=\"Texas A&amp;M University\">Texas A&amp;M</a></li>\\n<li><a href=\"/wiki/University_of_Virginia\" title=\"University of Virginia\">Virginia</a></li>\\n<li><a href=\"/wiki/University_of_Washington\" title=\"University of Washington\">Washington</a></li>\\n<li><a href=\"/wiki/University_of_Wisconsin%E2%80%93Madison\" title=\"University of Wisconsin\\u2013Madison\">Wisconsin</a></li>\\n</ul>\\n</div>\\n</td>\\n</tr>\\n<tr style=\"height:2px\">\\n<td colspan=\"2\"></td>\\n</tr>\\n<tr>\\n<th scope=\"row\" class=\"navbox-group\" style=\"color: #ffffff; background-color: #003c7a; text-align: center;\"><a href=\"/wiki/Private_university\" title=\"Private university\"><span style=\"color:white;\">Private</span></a></th>\\n<td class=\"navbox-list navbox-even hlist\" style=\"text-align:left;border-left-width:2px;border-left-style:solid;width:100%;padding:0px\">\\n<div style=\"padding:0em 0.25em\">\\n<ul>\\n<li><a href=\"/wiki/Boston_University\" title=\"Boston University\">Boston U</a></li>\\n<li><a href=\"/wiki/Brandeis_University\" title=\"Brandeis University\">Brandeis</a></li>\\n<li><a href=\"/wiki/Brown_University\" title=\"Brown University\">Brown</a></li>\\n<li><a href=\"/wiki/California_Institute_of_Technology\" title=\"California Institute of Technology\">Caltech</a></li>\\n<li><a href=\"/wiki/Carnegie_Mellon_University\" title=\"Carnegie Mellon University\">Carnegie Mellon</a></li>\\n<li><a href=\"/wiki/Case_Western_Reserve_University\" title=\"Case Western Reserve University\">Case Western</a></li>\\n<li><a href=\"/wiki/University_of_Chicago\" title=\"University of Chicago\">Chicago</a></li>\\n<li><a href=\"/wiki/Columbia_University\" title=\"Columbia University\">Columbia</a></li>\\n<li><a href=\"/wiki/Cornell_University\" title=\"Cornell University\">Cornell</a></li>\\n<li><a href=\"/wiki/Duke_University\" title=\"Duke University\">Duke</a></li>\\n<li><a href=\"/wiki/Emory_University\" title=\"Emory University\">Emory</a></li>\\n<li><strong class=\"selflink\">Harvard</strong></li>\\n<li><a href=\"/wiki/Johns_Hopkins_University\" title=\"Johns Hopkins University\">Johns Hopkins</a></li>\\n<li><a href=\"/wiki/Massachusetts_Institute_of_Technology\" title=\"Massachusetts Institute of Technology\">MIT</a></li>\\n<li><a href=\"/wiki/Northwestern_University\" title=\"Northwestern University\">Northwestern</a></li>\\n<li><a href=\"/wiki/New_York_University\" title=\"New York University\">NYU</a></li>\\n<li><a href=\"/wiki/University_of_Pennsylvania\" title=\"University of Pennsylvania\">Penn</a></li>\\n<li><a href=\"/wiki/Princeton_University\" title=\"Princeton University\">Princeton</a></li>\\n<li><a href=\"/wiki/Rice_University\" title=\"Rice University\">Rice</a></li>\\n<li><a href=\"/wiki/University_of_Rochester\" title=\"University of Rochester\">Rochester</a></li>\\n<li><a href=\"/wiki/University_of_Southern_California\" title=\"University of Southern California\">USC</a></li>\\n<li><a href=\"/wiki/Stanford_University\" title=\"Stanford University\">Stanford</a></li>\\n<li><a href=\"/wiki/Tulane_University\" title=\"Tulane University\">Tulane</a></li>\\n<li><a href=\"/wiki/Vanderbilt_University\" title=\"Vanderbilt University\">Vanderbilt</a></li>\\n<li><a href=\"/wiki/Washington_University_in_St._Louis\" title=\"Washington University in St. Louis\">Wash U</a></li>\\n<li><a href=\"/wiki/Yale_University\" title=\"Yale University\">Yale</a></li>\\n</ul>\\n</div>\\n</td>\\n</tr>\\n<tr style=\"height:2px\">\\n<td colspan=\"2\"></td>\\n</tr>\\n<tr>\\n<th scope=\"row\" class=\"navbox-group\" style=\"color: #ffffff; background-color: #003c7a; text-align: center;\"><a href=\"/wiki/List_of_universities_in_Canada\" title=\"List of universities in Canada\"><span style=\"color:white;\">Canadian</span></a> (public)</th>\\n<td class=\"navbox-list navbox-odd hlist\" style=\"text-align:left;border-left-width:2px;border-left-style:solid;width:100%;padding:0px\">\\n<div style=\"padding:0em 0.25em\">\\n<ul>\\n<li><a href=\"/wiki/McGill_University\" title=\"McGill University\">McGill</a></li>\\n<li><a href=\"/wiki/University_of_Toronto\" title=\"University of Toronto\">Toronto</a></li>\\n</ul>\\n</div>\\n</td>\\n</tr>\\n</table>\\n</div>\\n<div role=\"navigation\" class=\"navbox\" aria-labelledby=\"Universities_Research_Association\" style=\"vertical-align: middle;;padding:3px\">\\n<table class=\"nowraplinks collapsible autocollapse navbox-inner\" style=\"border-spacing:0;background:transparent;color:inherit\">\\n<tr>\\n<th scope=\"col\" class=\"navbox-title\" colspan=\"2\" style=\"background:#8b0003;color:white\">\\n<div class=\"plainlinks hlist navbar mini\">\\n<ul>\\n<li class=\"nv-view\"><a href=\"/wiki/Template:Universities_Research_Association\" title=\"Template:Universities Research Association\"><abbr title=\"View this template\" style=\";background:#8b0003;color:white;background:none transparent;border:none;\">v</abbr></a></li>\\n<li class=\"nv-talk\"><a href=\"/wiki/Template_talk:Universities_Research_Association\" title=\"Template talk:Universities Research Association\"><abbr title=\"Discuss this template\" style=\";background:#8b0003;color:white;background:none transparent;border:none;\">t</abbr></a></li>\\n<li class=\"nv-edit\"><a class=\"external text\" href=\"//en.wikipedia.org/w/index.php?title=Template:Universities_Research_Association&amp;action=edit\"><abbr title=\"Edit this template\" style=\";background:#8b0003;color:white;background:none transparent;border:none;\">e</abbr></a></li>\\n</ul>\\n</div>\\n<div id=\"Universities_Research_Association\" style=\"font-size:114%\"><a href=\"/wiki/Universities_Research_Association\" title=\"Universities Research Association\"><span style=\"color:white;\">Universities Research Association</span></a></div>\\n</th>\\n</tr>\\n<tr style=\"height:2px\">\\n<td colspan=\"2\"></td>\\n</tr>\\n<tr>\\n<th scope=\"row\" class=\"navbox-group\" style=\"text-align: center;background:#8b0003;color:white\">United States</th>\\n<td class=\"navbox-list navbox-odd hlist\" style=\"text-align:left;border-left-width:2px;border-left-style:solid;width:100%;padding:0px;text-align: left;\">\\n<div style=\"padding:0em 0.25em\">\\n<ul>\\n<li><a href=\"/wiki/University_of_Alabama\" title=\"University of Alabama\">Alabama</a></li>\\n<li><a href=\"/wiki/University_of_Arizona\" title=\"University of Arizona\">Arizona</a></li>\\n<li><a href=\"/wiki/Arizona_State_University\" title=\"Arizona State University\">Arizona State</a></li>\\n<li><a href=\"/wiki/Boston_University\" title=\"Boston University\">Boston</a></li>\\n<li><a href=\"/wiki/Brown_University\" title=\"Brown University\">Brown</a></li>\\n<li><a href=\"/wiki/University_of_California\" title=\"University of California\">California</a>\\n<ul>\\n<li><a href=\"/wiki/University_of_California,_Berkeley\" title=\"University of California, Berkeley\">Berkeley</a></li>\\n<li><a href=\"/wiki/University_of_California,_Davis\" title=\"University of California, Davis\">Davis</a></li>\\n<li><a href=\"/wiki/University_of_California,_Irvine\" title=\"University of California, Irvine\">Irvine</a></li>\\n<li><a href=\"/wiki/University_of_California,_Los_Angeles\" title=\"University of California, Los Angeles\">Los Angeles</a></li>\\n<li><a href=\"/wiki/University_of_California,_Riverside\" title=\"University of California, Riverside\">Riverside</a></li>\\n<li><a href=\"/wiki/University_of_California,_Santa_Barbara\" title=\"University of California, Santa Barbara\">Santa Barbara</a></li>\\n<li><a href=\"/wiki/University_of_California,_San_Diego\" title=\"University of California, San Diego\">San Diego</a></li>\\n</ul>\\n</li>\\n<li><a href=\"/wiki/California_Institute_of_Technology\" title=\"California Institute of Technology\">Caltech</a></li>\\n<li><a href=\"/wiki/Carnegie_Mellon_University\" title=\"Carnegie Mellon University\">Carnegie Mellon</a></li>\\n<li><a href=\"/wiki/Case_Western_Reserve_University\" title=\"Case Western Reserve University\">Case Western Reserve</a></li>\\n<li><a href=\"/wiki/University_of_Chicago\" title=\"University of Chicago\">Chicago</a></li>\\n<li><a href=\"/wiki/University_of_Colorado_Boulder\" title=\"University of Colorado Boulder\">Colorado</a></li>\\n<li><a href=\"/wiki/Columbia_University\" title=\"Columbia University\">Columbia</a></li>\\n<li><a href=\"/wiki/Cornell_University\" title=\"Cornell University\">Cornell</a></li>\\n<li><a href=\"/wiki/Duke_University\" title=\"Duke University\">Duke</a></li>\\n<li><a href=\"/wiki/University_of_Florida\" title=\"University of Florida\">Florida</a></li>\\n<li><a href=\"/wiki/Florida_State_University\" title=\"Florida State University\">Florida State</a></li>\\n<li><strong class=\"selflink\">Harvard</strong></li>\\n<li><a href=\"/wiki/University_of_Houston\" title=\"University of Houston\">Houston</a></li>\\n<li><a href=\"/wiki/Illinois_Institute_of_Technology\" title=\"Illinois Institute of Technology\">IIT</a></li>\\n<li><a href=\"/wiki/University_of_Illinois_system\" title=\"University of Illinois system\">Illinois</a>\\n<ul>\\n<li><a href=\"/wiki/University_of_Illinois_at_Chicago\" title=\"University of Illinois at Chicago\">Chicago</a></li>\\n<li><a href=\"/wiki/University_of_Illinois_at_Urbana%E2%80%93Champaign\" title=\"University of Illinois at Urbana\\u2013Champaign\">Urbana\\u2013Champaign</a></li>\\n</ul>\\n</li>\\n<li><a href=\"/wiki/Indiana_University_Bloomington\" title=\"Indiana University Bloomington\">Indiana</a></li>\\n<li><a href=\"/wiki/University_of_Iowa\" title=\"University of Iowa\">Iowa</a></li>\\n<li><a href=\"/wiki/Iowa_State_University\" title=\"Iowa State University\">Iowa State</a></li>\\n<li><a href=\"/wiki/Johns_Hopkins_University\" title=\"Johns Hopkins University\">Johns Hopkins</a></li>\\n<li><a href=\"/wiki/Louisiana_State_University\" title=\"Louisiana State University\">LSU</a></li>\\n<li><a href=\"/wiki/University_of_Maryland,_College_Park\" title=\"University of Maryland, College Park\">Maryland</a></li>\\n<li><a href=\"/wiki/Massachusetts_Institute_of_Technology\" title=\"Massachusetts Institute of Technology\">MIT</a></li>\\n<li><a href=\"/wiki/University_of_Michigan\" title=\"University of Michigan\">Michigan</a></li>\\n<li><a href=\"/wiki/Michigan_State_University\" title=\"Michigan State University\">Michigan State</a></li>\\n<li><a href=\"/wiki/University_of_Minnesota\" title=\"University of Minnesota\">Minnesota</a></li>\\n<li><a href=\"/wiki/University_of_Nebraska%E2%80%93Lincoln\" title=\"University of Nebraska\\u2013Lincoln\">Nebraska</a></li>\\n<li><a href=\"/wiki/University_of_New_Mexico\" title=\"University of New Mexico\">New Mexico</a></li>\\n<li><a href=\"/wiki/New_Mexico_State_University\" title=\"New Mexico State University\">New Mexico State</a></li>\\n<li><a href=\"/wiki/University_of_North_Carolina_at_Chapel_Hill\" title=\"University of North Carolina at Chapel Hill\">North Carolina</a></li>\\n<li><a href=\"/wiki/University_of_North_Texas\" title=\"University of North Texas\">North Texas</a></li>\\n<li><a href=\"/wiki/Northeastern_University\" title=\"Northeastern University\">Northeastern</a></li>\\n<li><a href=\"/wiki/Northern_Illinois_University\" title=\"Northern Illinois University\">Northern Illinois</a></li>\\n<li><a href=\"/wiki/Northwestern_University\" title=\"Northwestern University\">Northwestern</a></li>\\n<li><a href=\"/wiki/University_of_Notre_Dame\" title=\"University of Notre Dame\">Notre Dame</a></li>\\n<li><a href=\"/wiki/Ohio_State_University\" title=\"Ohio State University\">Ohio State</a></li>\\n<li><a href=\"/wiki/University_of_Oklahoma\" title=\"University of Oklahoma\">Oklahoma</a></li>\\n<li><a href=\"/wiki/University_of_Oregon\" title=\"University of Oregon\">Oregon</a></li>\\n<li><a href=\"/wiki/University_of_Pennsylvania\" title=\"University of Pennsylvania\">Penn</a></li>\\n<li><a href=\"/wiki/Pennsylvania_State_University\" title=\"Pennsylvania State University\">Penn State</a></li>\\n<li><a href=\"/wiki/University_of_Pittsburgh\" title=\"University of Pittsburgh\">Pittsburgh</a></li>\\n<li><a href=\"/wiki/Princeton_University\" title=\"Princeton University\">Princeton</a></li>\\n<li><a href=\"/wiki/Purdue_University\" title=\"Purdue University\">Purdue</a></li>\\n<li><a href=\"/wiki/Rice_University\" title=\"Rice University\">Rice</a></li>\\n<li><a href=\"/wiki/University_of_Rochester\" title=\"University of Rochester\">Rochester</a></li>\\n<li><a href=\"/wiki/Rockefeller_University\" title=\"Rockefeller University\">Rockefeller</a></li>\\n<li><a href=\"/wiki/Rutgers_University\" title=\"Rutgers University\">Rutgers</a></li>\\n<li><a href=\"/wiki/Southern_Methodist_University\" title=\"Southern Methodist University\">SMU</a></li>\\n<li><a href=\"/wiki/University_of_South_Carolina\" title=\"University of South Carolina\">South Carolina</a></li>\\n<li><a href=\"/wiki/SUNY\" class=\"mw-redirect\" title=\"SUNY\">SUNY</a>\\n<ul>\\n<li><a href=\"/wiki/University_at_Buffalo\" title=\"University at Buffalo\">Buffalo</a></li>\\n<li><a href=\"/wiki/Stony_Brook_University\" title=\"Stony Brook University\">Stony Brook</a></li>\\n</ul>\\n</li>\\n<li><a href=\"/wiki/Stanford_University\" title=\"Stanford University\">Stanford</a></li>\\n<li><a href=\"/wiki/Syracuse_University\" title=\"Syracuse University\">Syracuse</a></li>\\n<li><a href=\"/wiki/University_of_Tennessee\" title=\"University of Tennessee\">Tennessee</a></li>\\n<li><a href=\"/wiki/University_of_Texas_system\" class=\"mw-redirect\" title=\"University of Texas system\">Texas</a>\\n<ul>\\n<li><a href=\"/wiki/University_of_Texas_at_Arlington\" title=\"University of Texas at Arlington\">Arlington</a></li>\\n<li><a href=\"/wiki/University_of_Texas_at_Austin\" title=\"University of Texas at Austin\">Austin</a></li>\\n<li><a href=\"/wiki/University_of_Texas_at_Dallas\" title=\"University of Texas at Dallas\">Dallas</a></li>\\n</ul>\\n</li>\\n<li><a href=\"/wiki/Texas_A%26M_University\" title=\"Texas A&amp;M University\">Texas A&amp;M</a></li>\\n<li><a href=\"/wiki/Texas_Tech_University\" title=\"Texas Tech University\">Texas Tech</a></li>\\n<li><a href=\"/wiki/Tufts_University\" title=\"Tufts University\">Tufts</a></li>\\n<li><a href=\"/wiki/Tulane_University\" title=\"Tulane University\">Tulane</a></li>\\n<li><a href=\"/wiki/Vanderbilt_University\" title=\"Vanderbilt University\">Vanderbilt</a></li>\\n<li><a href=\"/wiki/University_of_Virginia\" title=\"University of Virginia\">Virginia</a></li>\\n<li><a href=\"/wiki/Virginia_Tech\" title=\"Virginia Tech\">Virginia Tech</a></li>\\n<li><a href=\"/wiki/University_of_Washington\" title=\"University of Washington\">Washington</a></li>\\n<li><a href=\"/wiki/Washington_University_in_St._Louis\" title=\"Washington University in St. Louis\">Washington University</a></li>\\n<li><a href=\"/wiki/Wayne_State_University\" title=\"Wayne State University\">Wayne State</a></li>\\n<li><a href=\"/wiki/The_College_of_William_%26_Mary\" class=\"mw-redirect\" title=\"The College of William &amp; Mary\">William &amp; Mary</a></li>\\n<li><a href=\"/wiki/University_of_Wisconsin%E2%80%93Madison\" title=\"University of Wisconsin\\u2013Madison\">Wisconsin</a></li>\\n<li><a href=\"/wiki/Yale_University\" title=\"Yale University\">Yale</a></li>\\n</ul>\\n</div>\\n</td>\\n</tr>\\n<tr style=\"height:2px\">\\n<td colspan=\"2\"></td>\\n</tr>\\n<tr>\\n<th scope=\"row\" class=\"navbox-group\" style=\"text-align: center;background:#8b0003;color:white\">International</th>\\n<td class=\"navbox-list navbox-even hlist\" style=\"text-align:left;border-left-width:2px;border-left-style:solid;width:100%;padding:0px;text-align: left;\">\\n<div style=\"padding:0em 0.25em\">\\n<ul>\\n<li><span class=\"flagicon\"><img alt=\"\" src=\"//upload.wikimedia.org/wikipedia/en/thumb/c/cf/Flag_of_Canada.svg/23px-Flag_of_Canada.svg.png\" width=\"23\" height=\"12\" class=\"thumbborder\" srcset=\"//upload.wikimedia.org/wikipedia/en/thumb/c/cf/Flag_of_Canada.svg/35px-Flag_of_Canada.svg.png 1.5x, //upload.wikimedia.org/wikipedia/en/thumb/c/cf/Flag_of_Canada.svg/46px-Flag_of_Canada.svg.png 2x\" data-file-width=\"1000\" data-file-height=\"500\" /></span> <a href=\"/wiki/McGill_University\" title=\"McGill University\">McGill</a></li>\\n<li><span class=\"flagicon\"><img alt=\"\" src=\"//upload.wikimedia.org/wikipedia/en/thumb/c/cf/Flag_of_Canada.svg/23px-Flag_of_Canada.svg.png\" width=\"23\" height=\"12\" class=\"thumbborder\" srcset=\"//upload.wikimedia.org/wikipedia/en/thumb/c/cf/Flag_of_Canada.svg/35px-Flag_of_Canada.svg.png 1.5x, //upload.wikimedia.org/wikipedia/en/thumb/c/cf/Flag_of_Canada.svg/46px-Flag_of_Canada.svg.png 2x\" data-file-width=\"1000\" data-file-height=\"500\" /></span> <a href=\"/wiki/University_of_Toronto\" title=\"University of Toronto\">Toronto</a></li>\\n<li><span class=\"flagicon\"><img alt=\"\" src=\"//upload.wikimedia.org/wikipedia/en/thumb/0/03/Flag_of_Italy.svg/23px-Flag_of_Italy.svg.png\" width=\"23\" height=\"15\" class=\"thumbborder\" srcset=\"//upload.wikimedia.org/wikipedia/en/thumb/0/03/Flag_of_Italy.svg/35px-Flag_of_Italy.svg.png 1.5x, //upload.wikimedia.org/wikipedia/en/thumb/0/03/Flag_of_Italy.svg/45px-Flag_of_Italy.svg.png 2x\" data-file-width=\"1500\" data-file-height=\"1000\" /></span> <a href=\"/wiki/University_of_Pisa\" title=\"University of Pisa\">Pisa</a></li>\\n<li><span class=\"flagicon\"><img alt=\"\" src=\"//upload.wikimedia.org/wikipedia/en/thumb/0/03/Flag_of_Italy.svg/23px-Flag_of_Italy.svg.png\" width=\"23\" height=\"15\" class=\"thumbborder\" srcset=\"//upload.wikimedia.org/wikipedia/en/thumb/0/03/Flag_of_Italy.svg/35px-Flag_of_Italy.svg.png 1.5x, //upload.wikimedia.org/wikipedia/en/thumb/0/03/Flag_of_Italy.svg/45px-Flag_of_Italy.svg.png 2x\" data-file-width=\"1500\" data-file-height=\"1000\" /></span> <a href=\"/wiki/Sapienza_University_of_Rome\" title=\"Sapienza University of Rome\">Sapienza</a></li>\\n<li><span class=\"flagicon\"><img alt=\"\" src=\"//upload.wikimedia.org/wikipedia/en/thumb/9/9e/Flag_of_Japan.svg/23px-Flag_of_Japan.svg.png\" width=\"23\" height=\"15\" class=\"thumbborder\" srcset=\"//upload.wikimedia.org/wikipedia/en/thumb/9/9e/Flag_of_Japan.svg/35px-Flag_of_Japan.svg.png 1.5x, //upload.wikimedia.org/wikipedia/en/thumb/9/9e/Flag_of_Japan.svg/45px-Flag_of_Japan.svg.png 2x\" data-file-width=\"900\" data-file-height=\"600\" /></span> <a href=\"/wiki/Waseda_University\" title=\"Waseda University\">Waseda</a></li>\\n<li><span class=\"flagicon\"><img alt=\"\" src=\"//upload.wikimedia.org/wikipedia/en/thumb/a/ae/Flag_of_the_United_Kingdom.svg/23px-Flag_of_the_United_Kingdom.svg.png\" width=\"23\" height=\"12\" class=\"thumbborder\" srcset=\"//upload.wikimedia.org/wikipedia/en/thumb/a/ae/Flag_of_the_United_Kingdom.svg/35px-Flag_of_the_United_Kingdom.svg.png 1.5x, //upload.wikimedia.org/wikipedia/en/thumb/a/ae/Flag_of_the_United_Kingdom.svg/46px-Flag_of_the_United_Kingdom.svg.png 2x\" data-file-width=\"1200\" data-file-height=\"600\" /></span> <a href=\"/wiki/University_of_Manchester\" title=\"University of Manchester\">Manchester</a></li>\\n<li><span class=\"flagicon\"><img alt=\"\" src=\"//upload.wikimedia.org/wikipedia/en/thumb/a/ae/Flag_of_the_United_Kingdom.svg/23px-Flag_of_the_United_Kingdom.svg.png\" width=\"23\" height=\"12\" class=\"thumbborder\" srcset=\"//upload.wikimedia.org/wikipedia/en/thumb/a/ae/Flag_of_the_United_Kingdom.svg/35px-Flag_of_the_United_Kingdom.svg.png 1.5x, //upload.wikimedia.org/wikipedia/en/thumb/a/ae/Flag_of_the_United_Kingdom.svg/46px-Flag_of_the_United_Kingdom.svg.png 2x\" data-file-width=\"1200\" data-file-height=\"600\" /></span> <a href=\"/wiki/Queen_Mary_University_of_London\" title=\"Queen Mary University of London\">QMUL</a></li>\\n<li><span class=\"flagicon\"><img alt=\"\" src=\"//upload.wikimedia.org/wikipedia/en/thumb/a/ae/Flag_of_the_United_Kingdom.svg/23px-Flag_of_the_United_Kingdom.svg.png\" width=\"23\" height=\"12\" class=\"thumbborder\" srcset=\"//upload.wikimedia.org/wikipedia/en/thumb/a/ae/Flag_of_the_United_Kingdom.svg/35px-Flag_of_the_United_Kingdom.svg.png 1.5x, //upload.wikimedia.org/wikipedia/en/thumb/a/ae/Flag_of_the_United_Kingdom.svg/46px-Flag_of_the_United_Kingdom.svg.png 2x\" data-file-width=\"1200\" data-file-height=\"600\" /></span> <a href=\"/wiki/University_College_London\" title=\"University College London\">UCL</a></li>\\n</ul>\\n</div>\\n</td>\\n</tr>\\n</table>\\n</div>\\n<div role=\"navigation\" class=\"navbox\" aria-labelledby=\"Association_of_Independent_Colleges_and_Universities_in_Massachusetts_.28AICUM.29\" style=\"padding:3px\">\\n<table class=\"nowraplinks collapsible autocollapse navbox-inner\" style=\"border-spacing:0;background:transparent;color:inherit\">\\n<tr>\\n<th scope=\"col\" class=\"navbox-title\" colspan=\"2\" style=\"color: #ffffff; background-color: #3c7a00;\">\\n<div class=\"plainlinks hlist navbar mini\">\\n<ul>\\n<li class=\"nv-view\"><a href=\"/wiki/Template:AICUM\" title=\"Template:AICUM\"><abbr title=\"View this template\" style=\";color: #ffffff; background-color: #3c7a00;;background:none transparent;border:none;\">v</abbr></a></li>\\n<li class=\"nv-talk\"><a href=\"/wiki/Template_talk:AICUM\" title=\"Template talk:AICUM\"><abbr title=\"Discuss this template\" style=\";color: #ffffff; background-color: #3c7a00;;background:none transparent;border:none;\">t</abbr></a></li>\\n<li class=\"nv-edit\"><a class=\"external text\" href=\"//en.wikipedia.org/w/index.php?title=Template:AICUM&amp;action=edit\"><abbr title=\"Edit this template\" style=\";color: #ffffff; background-color: #3c7a00;;background:none transparent;border:none;\">e</abbr></a></li>\\n</ul>\\n</div>\\n<div id=\"Association_of_Independent_Colleges_and_Universities_in_Massachusetts_.28AICUM.29\" style=\"font-size:114%\"><a href=\"/wiki/Association_of_Independent_Colleges_and_Universities_in_Massachusetts\" title=\"Association of Independent Colleges and Universities in Massachusetts\"><span style=\"color:white;\">Association of Independent Colleges and Universities in Massachusetts (AICUM)</span></a></div>\\n</th>\\n</tr>\\n<tr style=\"height:2px\">\\n<td colspan=\"2\"></td>\\n</tr>\\n<tr>\\n<td colspan=\"2\" class=\"navbox-list navbox-odd hlist\" style=\"width:100%;padding:0px\">\\n<div style=\"padding:0em 0.25em\">\\n<ul>\\n<li><a href=\"/wiki/Amherst_College\" title=\"Amherst College\">Amherst</a></li>\\n<li><a href=\"/wiki/Anna_Maria_College\" title=\"Anna Maria College\">Anna Maria</a></li>\\n<li><a href=\"/wiki/Assumption_College\" title=\"Assumption College\">Assumption</a></li>\\n<li><a href=\"/wiki/Babson_College\" title=\"Babson College\">Babson</a></li>\\n<li><a href=\"/wiki/Bay_Path_College\" class=\"mw-redirect\" title=\"Bay Path College\">Bay Path</a></li>\\n<li><a href=\"/wiki/Becker_College\" title=\"Becker College\">Becker</a></li>\\n<li><a href=\"/wiki/Bentley_University\" title=\"Bentley University\">Bentley</a></li>\\n<li><a href=\"/wiki/Berklee_College_of_Music\" title=\"Berklee College of Music\">Berklee</a></li>\\n<li><a href=\"/wiki/Boston_Architectural_College\" title=\"Boston Architectural College\">Boston Architectural</a></li>\\n<li><a href=\"/wiki/Boston_Baptist_College\" title=\"Boston Baptist College\">Boston Baptist</a></li>\\n<li><a href=\"/wiki/Boston_College\" title=\"Boston College\">Boston College</a></li>\\n<li><a href=\"/wiki/Boston_University\" title=\"Boston University\">Boston U</a></li>\\n<li><a href=\"/wiki/Brandeis_University\" title=\"Brandeis University\">Brandeis</a></li>\\n<li><a href=\"/wiki/Cambridge_College\" title=\"Cambridge College\">Cambridge College</a></li>\\n<li><a href=\"/wiki/Clark_University\" title=\"Clark University\">Clark</a></li>\\n<li><a href=\"/wiki/College_of_the_Holy_Cross\" title=\"College of the Holy Cross\">College of the Holy Cross</a></li>\\n<li><a href=\"/wiki/Curry_College\" title=\"Curry College\">Curry</a></li>\\n<li><a href=\"/wiki/Dean_College\" title=\"Dean College\">Dean</a></li>\\n<li><a href=\"/wiki/Eastern_Nazarene_College\" title=\"Eastern Nazarene College\">Eastern Nazarene</a></li>\\n<li><a href=\"/wiki/Elms_College\" title=\"Elms College\">Elms</a></li>\\n<li><a href=\"/wiki/Emerson_College\" title=\"Emerson College\">Emerson</a></li>\\n<li><a href=\"/wiki/Emmanuel_College_(Massachusetts)\" title=\"Emmanuel College (Massachusetts)\">Emmanuel</a></li>\\n<li><a href=\"/wiki/Endicott_College\" title=\"Endicott College\">Endicott</a></li>\\n<li><a href=\"/wiki/Fisher_College\" title=\"Fisher College\">Fisher</a></li>\\n<li><a href=\"/wiki/Gordon_College_(Massachusetts)\" title=\"Gordon College (Massachusetts)\">Gordon</a></li>\\n<li><a href=\"/wiki/Hampshire_College\" title=\"Hampshire College\">Hampshire</a></li>\\n<li><strong class=\"selflink\">Harvard</strong></li>\\n<li><a href=\"/wiki/Hebrew_College\" title=\"Hebrew College\">Hebrew</a></li>\\n<li><a href=\"/wiki/Labour%C3%A9_College\" title=\"Labour\\xe9 College\">Labour\\xe9</a></li>\\n<li><a href=\"/wiki/Lasell_College\" title=\"Lasell College\">Lasell</a></li>\\n<li><a href=\"/wiki/Lesley_University\" title=\"Lesley University\">Lesley</a></li>\\n<li><a href=\"/wiki/Marian_Court_College\" title=\"Marian Court College\">Marian Court</a></li>\\n<li><a href=\"/wiki/Massachusetts_College_of_Pharmacy_and_Health_Sciences\" class=\"mw-redirect\" title=\"Massachusetts College of Pharmacy and Health Sciences\">MCPHS</a></li>\\n<li><a href=\"/wiki/Massachusetts_Institute_of_Technology\" title=\"Massachusetts Institute of Technology\">MIT</a></li>\\n<li><a href=\"/wiki/Merrimack_College\" title=\"Merrimack College\">Merrimack</a></li>\\n<li><a href=\"/wiki/MGH_Institute_of_Health_Professions\" title=\"MGH Institute of Health Professions\">MGH Institute</a></li>\\n<li><a href=\"/wiki/Mount_Holyoke_College\" title=\"Mount Holyoke College\">Mount Holyoke</a></li>\\n<li><a href=\"/wiki/Mount_Ida_College\" title=\"Mount Ida College\">Mount Ida</a></li>\\n<li><a href=\"/wiki/New_England_College_of_Optometry\" title=\"New England College of Optometry\">NECO</a></li>\\n<li><a href=\"/wiki/New_England_Conservatory\" class=\"mw-redirect\" title=\"New England Conservatory\">New England Conservatory</a></li>\\n<li><a href=\"/wiki/Newbury_College_(United_States)\" title=\"Newbury College (United States)\">Newbury</a></li>\\n<li><a href=\"/wiki/Nichols_College\" title=\"Nichols College\">Nichols</a></li>\\n<li><a href=\"/wiki/Northeastern_University\" title=\"Northeastern University\">Northeastern</a></li>\\n<li><a href=\"/wiki/Olin_College_of_Engineering\" class=\"mw-redirect\" title=\"Olin College of Engineering\">Olin</a></li>\\n<li><a href=\"/wiki/Pine_Manor_College\" title=\"Pine Manor College\">Pine Manor</a></li>\\n<li><a href=\"/wiki/Regis_College,_Massachusetts\" class=\"mw-redirect\" title=\"Regis College, Massachusetts\">Regis</a></li>\\n<li><a href=\"/wiki/Simmons_College\" title=\"Simmons College\">Simmons</a></li>\\n<li><a href=\"/wiki/Smith_College\" title=\"Smith College\">Smith</a></li>\\n<li><a href=\"/wiki/Springfield_College_(Massachusetts)\" title=\"Springfield College (Massachusetts)\">Springfield</a></li>\\n<li><a href=\"/wiki/Stonehill_College\" title=\"Stonehill College\">Stonehill</a></li>\\n<li><a href=\"/wiki/Suffolk_University\" title=\"Suffolk University\">Suffolk</a></li>\\n<li><a href=\"/wiki/Tufts_University\" title=\"Tufts University\">Tufts</a></li>\\n<li><a href=\"/wiki/Urban_College_of_Boston\" title=\"Urban College of Boston\">Urban College of Boston</a></li>\\n<li><a href=\"/wiki/Wellesley_College\" title=\"Wellesley College\">Wellesley</a></li>\\n<li><a href=\"/wiki/Wentworth_Institute_of_Technology\" title=\"Wentworth Institute of Technology\">WIT</a></li>\\n<li><a href=\"/wiki/Western_New_England_University\" title=\"Western New England University\">Western New England</a></li>\\n<li><a href=\"/wiki/Wheaton_College_(Massachusetts)\" title=\"Wheaton College (Massachusetts)\">Wheaton</a></li>\\n<li><a href=\"/wiki/Wheelock_College\" title=\"Wheelock College\">Wheelock</a></li>\\n<li><a href=\"/wiki/Williams_College\" title=\"Williams College\">Williams</a></li>\\n<li><a href=\"/wiki/Worcester_Polytechnic_Institute\" title=\"Worcester Polytechnic Institute\">WPI</a></li>\\n</ul>\\n</div>\\n</td>\\n</tr>\\n</table>\\n</div>\\n<div role=\"navigation\" class=\"navbox\" aria-labelledby=\"ECAC_Hockey\" style=\"padding:3px\">\\n<table class=\"nowraplinks hlist collapsible autocollapse navbox-inner\" style=\"border-spacing:0;background:transparent;color:inherit\">\\n<tr>\\n<th scope=\"col\" class=\"navbox-title\" colspan=\"2\">\\n<div class=\"plainlinks hlist navbar mini\">\\n<ul>\\n<li class=\"nv-view\"><a href=\"/wiki/Template:ECAC_Hockey_League\" title=\"Template:ECAC Hockey League\"><abbr title=\"View this template\" style=\";;background:none transparent;border:none;\">v</abbr></a></li>\\n<li class=\"nv-talk\"><a href=\"/wiki/Template_talk:ECAC_Hockey_League\" title=\"Template talk:ECAC Hockey League\"><abbr title=\"Discuss this template\" style=\";;background:none transparent;border:none;\">t</abbr></a></li>\\n<li class=\"nv-edit\"><a class=\"external text\" href=\"//en.wikipedia.org/w/index.php?title=Template:ECAC_Hockey_League&amp;action=edit\"><abbr title=\"Edit this template\" style=\";;background:none transparent;border:none;\">e</abbr></a></li>\\n</ul>\\n</div>\\n<div id=\"ECAC_Hockey\" style=\"font-size:114%\"><a href=\"/wiki/ECAC_Hockey\" title=\"ECAC Hockey\">ECAC Hockey</a></div>\\n</th>\\n</tr>\\n<tr style=\"height:2px\">\\n<td colspan=\"2\"></td>\\n</tr>\\n<tr>\\n<th scope=\"row\" class=\"navbox-group\">Teams</th>\\n<td class=\"navbox-list navbox-odd\" style=\"text-align:left;border-left-width:2px;border-left-style:solid;width:100%;padding:0px\">\\n<div style=\"padding:0em 0.25em\">\\n<ul>\\n<li><b><a href=\"/wiki/Brown_Bears\" title=\"Brown Bears\">Brown Bears</a></b>\\n<ul>\\n<li><a href=\"/wiki/Brown_Bears_men%27s_ice_hockey\" title=\"Brown Bears men\\'s ice hockey\">men</a></li>\\n<li><a href=\"/wiki/Brown_Bears_women%27s_ice_hockey\" title=\"Brown Bears women\\'s ice hockey\">women</a></li>\\n</ul>\\n</li>\\n<li><b><a href=\"/wiki/Clarkson_Golden_Knights\" class=\"mw-redirect\" title=\"Clarkson Golden Knights\">Clarkson Golden Knights</a></b>\\n<ul>\\n<li><a href=\"/wiki/Clarkson_Golden_Knights_men%27s_ice_hockey\" title=\"Clarkson Golden Knights men\\'s ice hockey\">men</a></li>\\n<li><a href=\"/wiki/Clarkson_Golden_Knights_women%27s_ice_hockey\" title=\"Clarkson Golden Knights women\\'s ice hockey\">women</a></li>\\n</ul>\\n</li>\\n<li><b><a href=\"/wiki/Colgate_Raiders\" title=\"Colgate Raiders\">Colgate Raiders</a></b>\\n<ul>\\n<li><a href=\"/wiki/Colgate_Raiders_men%27s_ice_hockey\" title=\"Colgate Raiders men\\'s ice hockey\">men</a></li>\\n<li><a href=\"/wiki/Colgate_Raiders_women%27s_ice_hockey\" title=\"Colgate Raiders women\\'s ice hockey\">women</a></li>\\n</ul>\\n</li>\\n<li><b><a href=\"/wiki/Cornell_Big_Red\" title=\"Cornell Big Red\">Cornell Big Red</a></b>\\n<ul>\\n<li><a href=\"/wiki/Cornell_Big_Red_men%27s_ice_hockey\" title=\"Cornell Big Red men\\'s ice hockey\">men</a></li>\\n<li><a href=\"/wiki/Cornell_Big_Red_women%27s_ice_hockey\" title=\"Cornell Big Red women\\'s ice hockey\">women</a></li>\\n</ul>\\n</li>\\n<li><b><a href=\"/wiki/Dartmouth_Big_Green\" title=\"Dartmouth Big Green\">Dartmouth Big Green</a></b>\\n<ul>\\n<li><a href=\"/wiki/Dartmouth_Big_Green_men%27s_ice_hockey\" title=\"Dartmouth Big Green men\\'s ice hockey\">men</a></li>\\n<li><a href=\"/wiki/Dartmouth_Big_Green_women%27s_ice_hockey\" title=\"Dartmouth Big Green women\\'s ice hockey\">women</a></li>\\n</ul>\\n</li>\\n<li><b><a href=\"/wiki/Harvard_Crimson\" title=\"Harvard Crimson\">Harvard Crimson</a></b>\\n<ul>\\n<li><a href=\"/wiki/Harvard_Crimson_men%27s_ice_hockey\" title=\"Harvard Crimson men\\'s ice hockey\">men</a></li>\\n<li><a href=\"/wiki/Harvard_Crimson_women%27s_ice_hockey\" title=\"Harvard Crimson women\\'s ice hockey\">women</a></li>\\n</ul>\\n</li>\\n<li><b><a href=\"/wiki/Princeton_Tigers\" title=\"Princeton Tigers\">Princeton Tigers</a></b>\\n<ul>\\n<li><a href=\"/wiki/Princeton_Tigers_men%27s_ice_hockey\" title=\"Princeton Tigers men\\'s ice hockey\">men</a></li>\\n<li><a href=\"/wiki/Princeton_Tigers_women%27s_ice_hockey\" title=\"Princeton Tigers women\\'s ice hockey\">women</a></li>\\n</ul>\\n</li>\\n<li><b><a href=\"/wiki/Quinnipiac_Bobcats\" title=\"Quinnipiac Bobcats\">Quinnipiac Bobcats</a></b>\\n<ul>\\n<li><a href=\"/wiki/Quinnipiac_Bobcats_men%27s_ice_hockey\" title=\"Quinnipiac Bobcats men\\'s ice hockey\">men</a></li>\\n<li><a href=\"/wiki/Quinnipiac_Bobcats_women%27s_ice_hockey\" title=\"Quinnipiac Bobcats women\\'s ice hockey\">women</a></li>\\n</ul>\\n</li>\\n<li><b><a href=\"/wiki/Rensselaer_Engineers\" class=\"mw-redirect\" title=\"Rensselaer Engineers\">Rensselaer Engineers</a></b>\\n<ul>\\n<li><a href=\"/wiki/RPI_Engineers_men%27s_ice_hockey\" title=\"RPI Engineers men\\'s ice hockey\">men</a></li>\\n<li><a href=\"/wiki/RPI_Engineers_women%27s_ice_hockey\" title=\"RPI Engineers women\\'s ice hockey\">women</a></li>\\n</ul>\\n</li>\\n<li><b><a href=\"/wiki/St._Lawrence_Saints\" class=\"mw-redirect\" title=\"St. Lawrence Saints\">St. Lawrence Saints</a></b>\\n<ul>\\n<li><a href=\"/wiki/St._Lawrence_Saints_men%27s_ice_hockey\" title=\"St. Lawrence Saints men\\'s ice hockey\">men</a></li>\\n<li><a href=\"/wiki/St._Lawrence_Saints_women%27s_ice_hockey\" title=\"St. Lawrence Saints women\\'s ice hockey\">women</a></li>\\n</ul>\\n</li>\\n<li><b><a href=\"/wiki/Union_Dutchmen\" class=\"mw-redirect\" title=\"Union Dutchmen\">Union Dutchmen</a></b>\\n<ul>\\n<li><a href=\"/wiki/Union_Dutchmen_ice_hockey\" title=\"Union Dutchmen ice hockey\">men</a></li>\\n<li><a href=\"/wiki/Union_Dutchwomen_ice_hockey\" title=\"Union Dutchwomen ice hockey\">women</a></li>\\n</ul>\\n</li>\\n<li><b><a href=\"/wiki/Yale_Bulldogs\" title=\"Yale Bulldogs\">Yale Bulldogs</a></b>\\n<ul>\\n<li><a href=\"/wiki/Yale_Bulldogs_men%27s_ice_hockey\" title=\"Yale Bulldogs men\\'s ice hockey\">men</a></li>\\n<li><a href=\"/wiki/Yale_Bulldogs_women%27s_ice_hockey\" title=\"Yale Bulldogs women\\'s ice hockey\">women</a></li>\\n</ul>\\n</li>\\n</ul>\\n</div>\\n</td>\\n</tr>\\n<tr style=\"height:2px\">\\n<td colspan=\"2\"></td>\\n</tr>\\n<tr>\\n<th scope=\"row\" class=\"navbox-group\">Venues</th>\\n<td class=\"navbox-list navbox-even\" style=\"text-align:left;border-left-width:2px;border-left-style:solid;width:100%;padding:0px\">\\n<div style=\"padding:0em 0.25em\">\\n<ul>\\n<li><a href=\"/wiki/Meehan_Auditorium\" title=\"Meehan Auditorium\">Meehan Auditorium</a> (Brown)</li>\\n<li><a href=\"/wiki/Cheel_Arena\" title=\"Cheel Arena\">Cheel Arena</a> (Clarkson)</li>\\n<li><a href=\"/w/index.php?title=Class_of_1965_Arena&amp;action=edit&amp;redlink=1\" class=\"new\" title=\"Class of 1965 Arena (page does not exist)\">Class of 1965 Arena</a> (Colgate)</li>\\n<li><a href=\"/wiki/Lynah_Rink\" title=\"Lynah Rink\">Lynah Rink</a> (Cornell)</li>\\n<li><a href=\"/wiki/Thompson_Arena\" title=\"Thompson Arena\">Thompson Arena</a> (Dartmouth)</li>\\n<li><a href=\"/wiki/Bright_Hockey_Center\" class=\"mw-redirect\" title=\"Bright Hockey Center\">Bright Hockey Center</a> (Harvard)</li>\\n<li><a href=\"/wiki/Hobey_Baker_Memorial_Rink\" title=\"Hobey Baker Memorial Rink\">Hobey Baker Memorial Rink</a> (Princeton)</li>\\n<li><a href=\"/wiki/TD_Bank_Sports_Center\" title=\"TD Bank Sports Center\">TD Bank Sports Center</a> (Quinnipiac)</li>\\n<li><a href=\"/wiki/Houston_Field_House\" title=\"Houston Field House\">Houston Field House</a> (Rensselaer)</li>\\n<li><a href=\"/wiki/Appleton_Arena\" title=\"Appleton Arena\">Appleton Arena</a> (St. Lawrence)</li>\\n<li><a href=\"/wiki/Achilles_Rink\" title=\"Achilles Rink\">Achilles Rink</a> (Union)</li>\\n<li><a href=\"/wiki/Ingalls_Rink\" title=\"Ingalls Rink\">Ingalls Rink</a> (Yale)</li>\\n<li><a href=\"/wiki/Boardwalk_Hall\" title=\"Boardwalk Hall\">Boardwalk Hall</a> (Men\\'s tournament)</li>\\n</ul>\\n</div>\\n</td>\\n</tr>\\n<tr style=\"height:2px\">\\n<td colspan=\"2\"></td>\\n</tr>\\n<tr>\\n<th scope=\"row\" class=\"navbox-group\">Championships &amp; awards</th>\\n<td class=\"navbox-list navbox-odd\" style=\"text-align:left;border-left-width:2px;border-left-style:solid;width:100%;padding:0px\">\\n<div style=\"padding:0em 0.25em\">\\n<ul>\\n<li><a href=\"/wiki/ECAC_Hockey#Men.27s_ECAC_championship_games\" title=\"ECAC Hockey\">Men\\'s champions</a></li>\\n<li><a href=\"/wiki/ECAC_Hockey#Women.27s_ECAC_championship_games\" title=\"ECAC Hockey\">Women\\'s champions</a></li>\\n<li><a href=\"/wiki/List_of_ECAC_Hockey_Player_of_the_Year\" title=\"List of ECAC Hockey Player of the Year\">Player of the Year</a></li>\\n<li><a href=\"/wiki/List_of_ECAC_Hockey_Rookie_of_the_Year\" title=\"List of ECAC Hockey Rookie of the Year\">Rookie of the Year</a></li>\\n<li><a href=\"/wiki/List_of_ECAC_Hockey_Tim_Taylor_Award\" class=\"mw-redirect\" title=\"List of ECAC Hockey Tim Taylor Award\">Coach of the Year</a></li>\\n<li><a href=\"/wiki/List_of_ECAC_Hockey_Best_Defensive_Defenseman\" title=\"List of ECAC Hockey Best Defensive Defenseman\">Best Defensive Defenseman</a></li>\\n<li><a href=\"/wiki/List_of_ECAC_Hockey_Best_Defensive_Forward\" title=\"List of ECAC Hockey Best Defensive Forward\">Best Defensive Forward</a></li>\\n<li><a href=\"/wiki/List_of_ECAC_Ken_Dryden_Award\" class=\"mw-redirect\" title=\"List of ECAC Ken Dryden Award\">Ken Dryden Award</a></li>\\n<li><a href=\"/wiki/List_of_ECAC_Hockey_Student-Athlete_of_the_Year\" title=\"List of ECAC Hockey Student-Athlete of the Year\">Student-Athlete of the Year</a></li>\\n<li><a href=\"/wiki/List_of_ECAC_Hockey_Most_Outstanding_Player_in_Tournament\" title=\"List of ECAC Hockey Most Outstanding Player in Tournament\">Most Outstanding Player in Tournament</a></li>\\n</ul>\\n</div>\\n</td>\\n</tr>\\n</table>\\n</div>\\n<div role=\"navigation\" class=\"navbox\" aria-labelledby=\"Eastern_Association_of_Rowing_Colleges\" style=\"padding:3px\">\\n<table class=\"nowraplinks collapsible autocollapse navbox-inner\" style=\"border-spacing:0;background:transparent;color:inherit\">\\n<tr>\\n<th scope=\"col\" class=\"navbox-title\" colspan=\"2\" style=\"background:#DAF0FD\">\\n<div class=\"plainlinks hlist navbar mini\">\\n<ul>\\n<li class=\"nv-view\"><a href=\"/wiki/Template:Eastern_Association_of_Rowing_Colleges\" title=\"Template:Eastern Association of Rowing Colleges\"><abbr title=\"View this template\" style=\";background:#DAF0FD;background:none transparent;border:none;\">v</abbr></a></li>\\n<li class=\"nv-talk\"><a href=\"/wiki/Template_talk:Eastern_Association_of_Rowing_Colleges\" title=\"Template talk:Eastern Association of Rowing Colleges\"><abbr title=\"Discuss this template\" style=\";background:#DAF0FD;background:none transparent;border:none;\">t</abbr></a></li>\\n<li class=\"nv-edit\"><a class=\"external text\" href=\"//en.wikipedia.org/w/index.php?title=Template:Eastern_Association_of_Rowing_Colleges&amp;action=edit\"><abbr title=\"Edit this template\" style=\";background:#DAF0FD;background:none transparent;border:none;\">e</abbr></a></li>\\n</ul>\\n</div>\\n<div id=\"Eastern_Association_of_Rowing_Colleges\" style=\"font-size:114%\"><a href=\"/wiki/Eastern_Association_of_Rowing_Colleges\" title=\"Eastern Association of Rowing Colleges\">Eastern Association of Rowing Colleges</a></div>\\n</th>\\n</tr>\\n<tr style=\"height:2px\">\\n<td colspan=\"2\"></td>\\n</tr>\\n<tr>\\n<td colspan=\"2\" class=\"navbox-list navbox-odd hlist\" style=\"width:100%;padding:0px\">\\n<div style=\"padding:0em 0.25em\">\\n<ul>\\n<li><a href=\"/wiki/Boston_University\" title=\"Boston University\">BU</a> <a href=\"/wiki/Boston_University_Terriers\" title=\"Boston University Terriers\">Terriers</a></li>\\n<li><a href=\"/wiki/Brown_University\" title=\"Brown University\">Brown</a> <a href=\"/wiki/Brown_Bears\" title=\"Brown Bears\">Bears</a></li>\\n<li><a href=\"/wiki/Columbia_University\" title=\"Columbia University\">Columbia</a> <a href=\"/wiki/Columbia_Lions\" title=\"Columbia Lions\">Lions</a></li>\\n<li><a href=\"/wiki/Cornell_University\" title=\"Cornell University\">Cornell</a> <a href=\"/wiki/Cornell_Big_Red\" title=\"Cornell Big Red\">Big Red</a></li>\\n<li><a href=\"/wiki/Dartmouth_College\" title=\"Dartmouth College\">Dartmouth</a> <a href=\"/wiki/Dartmouth_Big_Green\" title=\"Dartmouth Big Green\">Big Green</a></li>\\n<li><a href=\"/wiki/Georgetown_University\" title=\"Georgetown University\">Georgetown</a> <a href=\"/wiki/Georgetown_Hoyas\" title=\"Georgetown Hoyas\">Hoyas</a></li>\\n<li><strong class=\"selflink\">Harvard</strong> <a href=\"/wiki/Harvard_Crimson\" title=\"Harvard Crimson\">Crimson</a></li>\\n<li><a href=\"/wiki/College_of_the_Holy_Cross\" title=\"College of the Holy Cross\">Holy Cross</a> <a href=\"/wiki/Holy_Cross_Crusaders\" title=\"Holy Cross Crusaders\">Crusaders</a></li>\\n<li><a href=\"/wiki/Massachusetts_Institute_of_Technology\" title=\"Massachusetts Institute of Technology\">MIT</a> <a href=\"/wiki/Massachusetts_Institute_of_Technology#Athletics\" title=\"Massachusetts Institute of Technology\">Engineers</a></li>\\n<li><a href=\"/wiki/United_States_Naval_Academy\" title=\"United States Naval Academy\">Navy</a> <a href=\"/wiki/Navy_Midshipmen\" title=\"Navy Midshipmen\">Midshipmen</a></li>\\n<li><a href=\"/wiki/Northeastern_University\" title=\"Northeastern University\">Northeastern</a> <a href=\"/wiki/Northeastern_Huskies\" title=\"Northeastern Huskies\">Huskies</a></li>\\n<li><a href=\"/wiki/University_of_Pennsylvania\" title=\"University of Pennsylvania\">Penn</a> <a href=\"/wiki/College_Boat_Club\" title=\"College Boat Club\">Quakers</a></li>\\n<li><a href=\"/wiki/Princeton_University\" title=\"Princeton University\">Princeton</a> <a href=\"/wiki/Princeton_Tigers\" title=\"Princeton Tigers\">Tigers</a></li>\\n<li><a href=\"/wiki/Rutgers_University\" title=\"Rutgers University\">Rutgers</a> <a href=\"/wiki/Rutgers_Scarlet_Knights\" title=\"Rutgers Scarlet Knights\">Scarlet Knights</a></li>\\n<li><a href=\"/wiki/Syracuse_University\" title=\"Syracuse University\">Syracuse</a> <a href=\"/wiki/Syracuse_Orange\" title=\"Syracuse Orange\">Orange</a></li>\\n<li><a href=\"/wiki/University_of_Wisconsin%E2%80%93Madison\" title=\"University of Wisconsin\\u2013Madison\">Wisconsin</a> <a href=\"/wiki/Wisconsin_Badgers\" title=\"Wisconsin Badgers\">Badgers</a></li>\\n<li><a href=\"/wiki/Yale_University\" title=\"Yale University\">Yale</a> <a href=\"/wiki/Yale_Bulldogs\" title=\"Yale Bulldogs\">Bulldogs</a></li>\\n</ul>\\n</div>\\n</td>\\n</tr>\\n</table>\\n</div>\\n<div role=\"navigation\" class=\"navbox\" aria-labelledby=\"Eastern_Intercollegiate_Volleyball_Association\" style=\"padding:3px\">\\n<table class=\"nowraplinks collapsible autocollapse navbox-inner\" style=\"border-spacing:0;background:transparent;color:inherit\">\\n<tr>\\n<th scope=\"col\" class=\"navbox-title\" colspan=\"2\" style=\"background:#004D81; color:#FFFFFF; border: 2px solid #F5443C\">\\n<div class=\"plainlinks hlist navbar mini\">\\n<ul>\\n<li class=\"nv-view\"><a href=\"/wiki/Template:Eastern_Intercollegiate_Volleyball_Association_navbox\" title=\"Template:Eastern Intercollegiate Volleyball Association navbox\"><abbr title=\"View this template\" style=\";background:#004D81; color:#FFFFFF; border: 2px solid #F5443C;background:none transparent;border:none;\">v</abbr></a></li>\\n<li class=\"nv-talk\"><a href=\"/wiki/Template_talk:Eastern_Intercollegiate_Volleyball_Association_navbox\" title=\"Template talk:Eastern Intercollegiate Volleyball Association navbox\"><abbr title=\"Discuss this template\" style=\";background:#004D81; color:#FFFFFF; border: 2px solid #F5443C;background:none transparent;border:none;\">t</abbr></a></li>\\n<li class=\"nv-edit\"><a class=\"external text\" href=\"//en.wikipedia.org/w/index.php?title=Template:Eastern_Intercollegiate_Volleyball_Association_navbox&amp;action=edit\"><abbr title=\"Edit this template\" style=\";background:#004D81; color:#FFFFFF; border: 2px solid #F5443C;background:none transparent;border:none;\">e</abbr></a></li>\\n</ul>\\n</div>\\n<div id=\"Eastern_Intercollegiate_Volleyball_Association\" style=\"font-size:114%\"><a href=\"/wiki/Eastern_Intercollegiate_Volleyball_Association\" title=\"Eastern Intercollegiate Volleyball Association\"><span style=\"color:#FFFFFF;\">Eastern Intercollegiate Volleyball Association</span></a></div>\\n</th>\\n</tr>\\n<tr style=\"height:2px\">\\n<td colspan=\"2\"></td>\\n</tr>\\n<tr>\\n<th scope=\"row\" class=\"navbox-group\" style=\"background:#004D81; color:#FFFFFF; border: 2px solid #F5443C\">Current members</th>\\n<td class=\"navbox-list navbox-odd hlist\" style=\"text-align:left;border-left-width:2px;border-left-style:solid;width:100%;padding:0px\">\\n<div style=\"padding:0em 0.25em\">\\n<ul>\\n<li><a href=\"/wiki/Charleston_Golden_Eagles\" title=\"Charleston Golden Eagles\">Charleston Golden Eagles</a></li>\\n<li><a href=\"/wiki/George_Mason_Patriots\" title=\"George Mason Patriots\">George Mason Patriots</a></li>\\n<li><a href=\"/wiki/Harvard_Crimson\" title=\"Harvard Crimson\">Harvard Crimson</a></li>\\n<li><a href=\"/wiki/NJIT_Highlanders\" title=\"NJIT Highlanders\">NJIT Highlanders</a></li>\\n<li><a href=\"/wiki/Penn_State_Nittany_Lions\" title=\"Penn State Nittany Lions\">Penn State Nittany Lions</a></li>\\n<li><a href=\"/wiki/Princeton_Tigers\" title=\"Princeton Tigers\">Princeton Tigers</a></li>\\n<li><a href=\"/wiki/Sacred_Heart_Pioneers\" title=\"Sacred Heart Pioneers\">Sacred Heart Pioneers</a></li>\\n<li><a href=\"/wiki/Saint_Francis_Red_Flash\" title=\"Saint Francis Red Flash\">Saint Francis Red Flash</a></li>\\n</ul>\\n</div>\\n</td>\\n</tr>\\n<tr style=\"height:2px\">\\n<td colspan=\"2\"></td>\\n</tr>\\n<tr>\\n<th scope=\"row\" class=\"navbox-group\" style=\"background:#004D81; color:#FFFFFF; border: 2px solid #F5443C\">Former members</th>\\n<td class=\"navbox-list navbox-even hlist\" style=\"text-align:left;border-left-width:2px;border-left-style:solid;width:100%;padding:0px\">\\n<div style=\"padding:0em 0.25em\">\\n<ul>\\n<li><a href=\"/wiki/Concordia_College_(New_York)\" title=\"Concordia College (New York)\">Concordia College</a></li>\\n<li><a href=\"/wiki/East_Stroudsburg_University\" class=\"mw-redirect\" title=\"East Stroudsburg University\">East Stroudsburg University</a></li>\\n<li><a href=\"/wiki/Juniata_College\" title=\"Juniata College\">Juniata College</a></li>\\n<li><a href=\"/wiki/New_York_University\" title=\"New York University\">New York University</a></li>\\n<li><a href=\"/wiki/University_of_New_Haven\" title=\"University of New Haven\">University of New Haven</a></li>\\n<li><a href=\"/wiki/Queens_College\" class=\"mw-redirect\" title=\"Queens College\">Queens College</a></li>\\n<li><a href=\"/wiki/Rutgers%E2%80%93Newark\" class=\"mw-redirect\" title=\"Rutgers\\u2013Newark\">Rutgers\\u2013Newark</a></li>\\n<li><a href=\"/wiki/Springfield_College\" class=\"mw-redirect\" title=\"Springfield College\">Springfield College</a></li>\\n<li><a href=\"/wiki/Vassar_College\" title=\"Vassar College\">Vassar College</a></li>\\n<li><a href=\"/wiki/SUNY_New_Paltz\" class=\"mw-redirect\" title=\"SUNY New Paltz\">SUNY New Paltz</a></li>\\n</ul>\\n</div>\\n</td>\\n</tr>\\n</table>\\n</div>\\n<div role=\"navigation\" class=\"navbox\" aria-labelledby=\"23x15px.7Cborder_.7Calt.3DMassachusetts.7Clink.3DMassachusetts_Sports_teams_based_in_Massachusetts\" style=\"padding:3px\">\\n<table class=\"nowraplinks hlist collapsible autocollapse navbox-inner\" style=\"border-spacing:0;background:transparent;color:inherit\">\\n<tr>\\n<th scope=\"col\" class=\"navbox-title\" colspan=\"2\">\\n<div class=\"plainlinks hlist navbar mini\">\\n<ul>\\n<li class=\"nv-view\"><a href=\"/wiki/Template:Massachusetts_Sports\" title=\"Template:Massachusetts Sports\"><abbr title=\"View this template\" style=\";;background:none transparent;border:none;\">v</abbr></a></li>\\n<li class=\"nv-talk\"><a href=\"/wiki/Template_talk:Massachusetts_Sports\" title=\"Template talk:Massachusetts Sports\"><abbr title=\"Discuss this template\" style=\";;background:none transparent;border:none;\">t</abbr></a></li>\\n<li class=\"nv-edit\"><a class=\"external text\" href=\"//en.wikipedia.org/w/index.php?title=Template:Massachusetts_Sports&amp;action=edit\"><abbr title=\"Edit this template\" style=\";;background:none transparent;border:none;\">e</abbr></a></li>\\n</ul>\\n</div>\\n<div id=\"23x15px.7Cborder_.7Calt.3DMassachusetts.7Clink.3DMassachusetts_Sports_teams_based_in_Massachusetts\" style=\"font-size:114%\"><span class=\"flagicon\"><a href=\"/wiki/Massachusetts\" title=\"Massachusetts\"><img alt=\"Massachusetts\" src=\"//upload.wikimedia.org/wikipedia/commons/thumb/f/f2/Flag_of_Massachusetts.svg/23px-Flag_of_Massachusetts.svg.png\" width=\"23\" height=\"14\" class=\"thumbborder\" srcset=\"//upload.wikimedia.org/wikipedia/commons/thumb/f/f2/Flag_of_Massachusetts.svg/35px-Flag_of_Massachusetts.svg.png 1.5x, //upload.wikimedia.org/wikipedia/commons/thumb/f/f2/Flag_of_Massachusetts.svg/46px-Flag_of_Massachusetts.svg.png 2x\" data-file-width=\"1500\" data-file-height=\"900\" /></a></span> <a href=\"/wiki/Sports_in_Massachusetts\" title=\"Sports in Massachusetts\">Sports teams based in Massachusetts</a></div>\\n</th>\\n</tr>\\n<tr style=\"height:2px\">\\n<td colspan=\"2\"></td>\\n</tr>\\n<tr>\\n<th scope=\"row\" class=\"navbox-group\"><a href=\"/wiki/Australian_rules_football\" title=\"Australian rules football\">Australian rules football</a></th>\\n<td class=\"navbox-list navbox-odd\" style=\"text-align:left;border-left-width:2px;border-left-style:solid;width:100%;padding:0px\">\\n<div style=\"padding:0em 0.25em\">\\n<dl>\\n<dt><a href=\"/wiki/United_States_Australian_Football_League\" title=\"United States Australian Football League\">USAFL</a></dt>\\n<dd><a href=\"/wiki/Boston_Demons\" title=\"Boston Demons\">Boston Demons</a></dd>\\n</dl>\\n</div>\\n</td>\\n</tr>\\n<tr style=\"height:2px\">\\n<td colspan=\"2\"></td>\\n</tr>\\n<tr>\\n<th scope=\"row\" class=\"navbox-group\"><a href=\"/wiki/Baseball\" title=\"Baseball\">Baseball</a></th>\\n<td class=\"navbox-list navbox-even\" style=\"text-align:left;border-left-width:2px;border-left-style:solid;width:100%;padding:0px\">\\n<div style=\"padding:0em 0.25em\">\\n<dl>\\n<dt><a href=\"/wiki/Major_League_Baseball\" title=\"Major League Baseball\">MLB</a></dt>\\n<dd><a href=\"/wiki/Boston_Red_Sox\" title=\"Boston Red Sox\">Boston Red Sox</a></dd>\\n<dt><a href=\"/wiki/New_York%E2%80%93Penn_League\" title=\"New York\\u2013Penn League\">NYPL</a></dt>\\n<dd><a href=\"/wiki/Lowell_Spinners\" title=\"Lowell Spinners\">Lowell Spinners</a></dd>\\n<dt><a href=\"/wiki/Cape_Cod_Baseball_League\" title=\"Cape Cod Baseball League\">CCBL</a></dt>\\n<dd><a href=\"/wiki/Bourne_Braves\" title=\"Bourne Braves\">Bourne Braves</a></dd>\\n<dd><a href=\"/wiki/Brewster_Whitecaps\" title=\"Brewster Whitecaps\">Brewster Whitecaps</a></dd>\\n<dd><a href=\"/wiki/Chatham_Anglers\" title=\"Chatham Anglers\">Chatham Anglers</a></dd>\\n<dd><a href=\"/wiki/Cotuit_Kettleers\" title=\"Cotuit Kettleers\">Cotuit Kettleers</a></dd>\\n<dd><a href=\"/wiki/Falmouth_Commodores\" title=\"Falmouth Commodores\">Falmouth Commodores</a></dd>\\n<dd><a href=\"/wiki/Harwich_Mariners\" title=\"Harwich Mariners\">Harwich Mariners</a></dd>\\n<dd><a href=\"/wiki/Hyannis_Harbor_Hawks\" title=\"Hyannis Harbor Hawks\">Hyannis Harbor Hawks</a></dd>\\n<dd><a href=\"/wiki/Orleans_Firebirds\" title=\"Orleans Firebirds\">Orleans Firebirds</a></dd>\\n<dd><a href=\"/wiki/Wareham_Gatemen\" title=\"Wareham Gatemen\">Wareham Gatemen</a></dd>\\n<dd><a href=\"/wiki/Yarmouth%E2%80%93Dennis_Red_Sox\" title=\"Yarmouth\\u2013Dennis Red Sox\">Yarmouth\\u2013Dennis Red Sox</a></dd>\\n<dt><a href=\"/wiki/Futures_Collegiate_Baseball_League\" title=\"Futures Collegiate Baseball League\">FCBL</a></dt>\\n<dd><a href=\"/wiki/Brockton_Rox\" title=\"Brockton Rox\">Brockton Rox</a></dd>\\n<dd><a href=\"/wiki/Martha%27s_Vineyard_Sharks\" title=\"Martha\\'s Vineyard Sharks\">Martha\\'s Vineyard Sharks</a></dd>\\n<dd><a href=\"/wiki/North_Shore_Navigators\" title=\"North Shore Navigators\">North Shore Navigators</a></dd>\\n<dd><a href=\"/wiki/Pittsfield_Suns\" title=\"Pittsfield Suns\">Pittsfield Suns</a></dd>\\n<dd><a href=\"/wiki/Wachusett_Dirt_Dawgs\" title=\"Wachusett Dirt Dawgs\">Wachusett Dirt Dawgs</a></dd>\\n<dd><a href=\"/wiki/Worcester_Bravehearts\" title=\"Worcester Bravehearts\">Worcester Bravehearts</a></dd>\\n<dt><a href=\"/wiki/New_England_Collegiate_Baseball_League\" title=\"New England Collegiate Baseball League\">NECBL</a></dt>\\n<dd><a href=\"/wiki/New_Bedford_Bay_Sox\" title=\"New Bedford Bay Sox\">New Bedford Bay Sox</a></dd>\\n<dd><a href=\"/wiki/North_Adams_SteepleCats\" title=\"North Adams SteepleCats\">North Adams SteepleCats</a></dd>\\n<dd><a href=\"/wiki/Plymouth_Pilgrims_(NECBL)\" title=\"Plymouth Pilgrims (NECBL)\">Plymouth Pilgrims</a></dd>\\n<dd><a href=\"/wiki/Valley_Blue_Sox\" title=\"Valley Blue Sox\">Valley Blue Sox</a></dd>\\n</dl>\\n</div>\\n</td>\\n</tr>\\n<tr style=\"height:2px\">\\n<td colspan=\"2\"></td>\\n</tr>\\n<tr>\\n<th scope=\"row\" class=\"navbox-group\"><a href=\"/wiki/Basketball\" title=\"Basketball\">Basketball</a></th>\\n<td class=\"navbox-list navbox-odd\" style=\"text-align:left;border-left-width:2px;border-left-style:solid;width:100%;padding:0px\">\\n<div style=\"padding:0em 0.25em\">\\n<dl>\\n<dt><a href=\"/wiki/National_Basketball_Association\" title=\"National Basketball Association\">NBA</a></dt>\\n<dd><a href=\"/wiki/Boston_Celtics\" title=\"Boston Celtics\">Boston Celtics</a></dd>\\n</dl>\\n</div>\\n</td>\\n</tr>\\n<tr style=\"height:2px\">\\n<td colspan=\"2\"></td>\\n</tr>\\n<tr>\\n<th scope=\"row\" class=\"navbox-group\"><a href=\"/wiki/American_football\" title=\"American football\">Football</a></th>\\n<td class=\"navbox-list navbox-even\" style=\"text-align:left;border-left-width:2px;border-left-style:solid;width:100%;padding:0px\">\\n<div style=\"padding:0em 0.25em\">\\n<dl>\\n<dt><a href=\"/wiki/National_Football_League\" title=\"National Football League\">NFL</a></dt>\\n<dd><a href=\"/wiki/New_England_Patriots\" title=\"New England Patriots\">New England Patriots</a></dd>\\n<dt><a href=\"/wiki/Women%27s_Football_Alliance\" title=\"Women\\'s Football Alliance\">WFA</a></dt>\\n<dd><a href=\"/wiki/Boston_Renegades\" title=\"Boston Renegades\">Boston Renegades</a></dd>\\n</dl>\\n</div>\\n</td>\\n</tr>\\n<tr style=\"height:2px\">\\n<td colspan=\"2\"></td>\\n</tr>\\n<tr>\\n<th scope=\"row\" class=\"navbox-group\"><a href=\"/wiki/Ice_hockey\" title=\"Ice hockey\">Hockey</a></th>\\n<td class=\"navbox-list navbox-odd\" style=\"text-align:left;border-left-width:2px;border-left-style:solid;width:100%;padding:0px\">\\n<div style=\"padding:0em 0.25em\">\\n<dl>\\n<dt><a href=\"/wiki/National_Hockey_League\" title=\"National Hockey League\">NHL</a></dt>\\n<dd><a href=\"/wiki/Boston_Bruins\" title=\"Boston Bruins\">Boston Bruins</a></dd>\\n<dt><a href=\"/wiki/American_Hockey_League\" title=\"American Hockey League\">AHL</a></dt>\\n<dd><a href=\"/wiki/Springfield_Thunderbirds\" title=\"Springfield Thunderbirds\">Springfield Thunderbirds</a></dd>\\n<dt><a href=\"/wiki/ECHL\" title=\"ECHL\">ECHL</a></dt>\\n<dd><a href=\"/wiki/Worcester_Railers_HC\" title=\"Worcester Railers HC\">Worcester Railers HC</a> <i>(beginning in 2017)</i></dd>\\n<dt><a href=\"/wiki/National_Women%27s_Hockey_League_(2015%E2%80%93)\" title=\"National Women\\'s Hockey League (2015\\u2013)\">NWHL</a></dt>\\n<dd><a href=\"/wiki/Boston_Pride\" title=\"Boston Pride\">Boston Pride</a></dd>\\n<dt><a href=\"/wiki/Canadian_Women%27s_Hockey_League\" title=\"Canadian Women\\'s Hockey League\">CWHL</a></dt>\\n<dd><a href=\"/wiki/Boston_Blades\" title=\"Boston Blades\">Boston Blades</a></dd>\\n</dl>\\n</div>\\n</td>\\n</tr>\\n<tr style=\"height:2px\">\\n<td colspan=\"2\"></td>\\n</tr>\\n<tr>\\n<th scope=\"row\" class=\"navbox-group\"><a href=\"/wiki/Association_football\" title=\"Association football\">Soccer</a></th>\\n<td class=\"navbox-list navbox-even\" style=\"text-align:left;border-left-width:2px;border-left-style:solid;width:100%;padding:0px\">\\n<div style=\"padding:0em 0.25em\">\\n<dl>\\n<dt><a href=\"/wiki/Major_League_Soccer\" title=\"Major League Soccer\">MLS</a></dt>\\n<dd><a href=\"/wiki/New_England_Revolution\" title=\"New England Revolution\">New England Revolution</a></dd>\\n<dt><a href=\"/wiki/National_Women%27s_Soccer_League\" title=\"National Women\\'s Soccer League\">NWSL</a></dt>\\n<dd><a href=\"/wiki/Boston_Breakers\" title=\"Boston Breakers\">Boston Breakers</a></dd>\\n<dt><a href=\"/wiki/Premier_Development_League\" title=\"Premier Development League\">PDL</a></dt>\\n<dd><a href=\"/wiki/Western_Mass_Pioneers\" title=\"Western Mass Pioneers\">Western Mass Pioneers</a></dd>\\n<dt><a href=\"/wiki/National_Premier_Soccer_League\" title=\"National Premier Soccer League\">NPSL</a></dt>\\n<dd><a href=\"/wiki/Mass_United_FC\" title=\"Mass United FC\">Mass United FC</a></dd>\\n<dt><a href=\"/wiki/Women%27s_Premier_Soccer_League\" title=\"Women\\'s Premier Soccer League\">WPSL</a></dt>\\n<dd><a href=\"/wiki/Boston_Aztec_(WPSL)\" title=\"Boston Aztec (WPSL)\">Boston Aztec Women</a></dd>\\n<dd><a href=\"/wiki/New_England_Mutiny\" title=\"New England Mutiny\">New England Mutiny</a></dd>\\n</dl>\\n</div>\\n</td>\\n</tr>\\n<tr style=\"height:2px\">\\n<td colspan=\"2\"></td>\\n</tr>\\n<tr>\\n<th scope=\"row\" class=\"navbox-group\"><a href=\"/wiki/Lacrosse\" title=\"Lacrosse\">Lacrosse</a></th>\\n<td class=\"navbox-list navbox-odd\" style=\"text-align:left;border-left-width:2px;border-left-style:solid;width:100%;padding:0px\">\\n<div style=\"padding:0em 0.25em\">\\n<dl>\\n<dt><a href=\"/wiki/Major_League_Lacrosse\" title=\"Major League Lacrosse\">MLL</a></dt>\\n<dd><a href=\"/wiki/Boston_Cannons\" title=\"Boston Cannons\">Boston Cannons</a></dd>\\n<dt><a href=\"/wiki/United_Women%27s_Lacrosse_League\" title=\"United Women\\'s Lacrosse League\">UWLX</a></dt>\\n<dd><a href=\"/wiki/Boston_Storm_(UWLX)\" title=\"Boston Storm (UWLX)\">Boston Storm</a></dd>\\n</dl>\\n</div>\\n</td>\\n</tr>\\n<tr style=\"height:2px\">\\n<td colspan=\"2\"></td>\\n</tr>\\n<tr>\\n<th scope=\"row\" class=\"navbox-group\"><a href=\"/wiki/Roller_derby\" title=\"Roller derby\">Roller derby</a></th>\\n<td class=\"navbox-list navbox-even\" style=\"text-align:left;border-left-width:2px;border-left-style:solid;width:100%;padding:0px\">\\n<div style=\"padding:0em 0.25em\">\\n<dl>\\n<dt><a href=\"/wiki/Women%27s_Flat_Track_Derby_Association\" title=\"Women\\'s Flat Track Derby Association\">WFTDA</a></dt>\\n<dd><a href=\"/wiki/Boston_Roller_Derby\" title=\"Boston Roller Derby\">Boston Roller Derby</a></dd>\\n<dt><a href=\"/wiki/Men%27s_Roller_Derby_Association\" title=\"Men\\'s Roller Derby Association\">MRDA</a></dt>\\n<dd><a href=\"/wiki/Pioneer_Valley_Roller_Derby\" title=\"Pioneer Valley Roller Derby\">Pioneer Valley Roller Derby</a></dd>\\n</dl>\\n</div>\\n</td>\\n</tr>\\n<tr style=\"height:2px\">\\n<td colspan=\"2\"></td>\\n</tr>\\n<tr>\\n<th scope=\"row\" class=\"navbox-group\"><a href=\"/wiki/Rugby_league\" title=\"Rugby league\">Rugby league</a></th>\\n<td class=\"navbox-list navbox-odd\" style=\"text-align:left;border-left-width:2px;border-left-style:solid;width:100%;padding:0px\">\\n<div style=\"padding:0em 0.25em\">\\n<dl>\\n<dt><a href=\"/wiki/USA_Rugby_League\" title=\"USA Rugby League\">USARL</a></dt>\\n<dd><a href=\"/wiki/Boston_Thirteens\" title=\"Boston Thirteens\">Boston Thirteens</a></dd>\\n<dd><a href=\"/wiki/Oneida_FC\" title=\"Oneida FC\">Oneida FC</a></dd>\\n</dl>\\n</div>\\n</td>\\n</tr>\\n<tr style=\"height:2px\">\\n<td colspan=\"2\"></td>\\n</tr>\\n<tr>\\n<th scope=\"row\" class=\"navbox-group\"><a href=\"/wiki/Rugby_union\" title=\"Rugby union\">Rugby union</a></th>\\n<td class=\"navbox-list navbox-even\" style=\"text-align:left;border-left-width:2px;border-left-style:solid;width:100%;padding:0px\">\\n<div style=\"padding:0em 0.25em\">\\n<dl>\\n<dt><a href=\"/wiki/Rugby_Super_League_(United_States)\" title=\"Rugby Super League (United States)\">RSL</a></dt>\\n<dd><a href=\"/wiki/Boston_RFC\" title=\"Boston RFC\">Boston RFC</a></dd>\\n<dt><a href=\"/wiki/New_England_Rugby_Football_Union\" title=\"New England Rugby Football Union\">NERFU</a></dt>\\n<dd><a href=\"/wiki/Boston_Irish_Wolfhounds\" title=\"Boston Irish Wolfhounds\">Boston Irish Wolfhounds</a></dd>\\n<dd><a href=\"/wiki/Mystic_River_Rugby_Club\" title=\"Mystic River Rugby Club\">Mystic River</a></dd>\\n<dd><a href=\"/wiki/South_Shore_Anchors\" title=\"South Shore Anchors\">South Shore Anchors</a></dd>\\n</dl>\\n</div>\\n</td>\\n</tr>\\n<tr style=\"height:2px\">\\n<td colspan=\"2\"></td>\\n</tr>\\n<tr>\\n<th scope=\"row\" class=\"navbox-group\"><a href=\"/wiki/List_of_college_athletic_programs_in_Massachusetts\" title=\"List of college athletic programs in Massachusetts\">College athletics</a><br />\\n(<a href=\"/wiki/NCAA_Division_I\" title=\"NCAA Division I\">NCAA Division I</a>)</th>\\n<td class=\"navbox-list navbox-even\" style=\"text-align:left;border-left-width:2px;border-left-style:solid;width:100%;padding:0px\">\\n<div style=\"padding:0em 0.25em\">\\n<ul>\\n<li><a href=\"/wiki/American_International_College\" title=\"American International College\">AIC Yellow Jackets</a> <small>(<a href=\"/wiki/College_hockey\" class=\"mw-redirect\" title=\"College hockey\">ice hockey</a>)</small></li>\\n<li><a href=\"/wiki/Bentley_University\" title=\"Bentley University\">Bentley Falcons</a> <small>(<a href=\"/wiki/College_hockey\" class=\"mw-redirect\" title=\"College hockey\">ice hockey</a>)</small></li>\\n<li><a href=\"/wiki/Boston_College_Eagles\" title=\"Boston College Eagles\">Boston College Eagles</a></li>\\n<li><a href=\"/wiki/Boston_University_Terriers\" title=\"Boston University Terriers\">Boston University Terriers</a></li>\\n<li><a href=\"/wiki/Harvard_Crimson\" title=\"Harvard Crimson\">Harvard Crimson</a></li>\\n<li><a href=\"/wiki/Holy_Cross_Crusaders\" title=\"Holy Cross Crusaders\">Holy Cross Crusaders</a></li>\\n<li><a href=\"/wiki/UMass_Minutemen_and_Minutewomen\" title=\"UMass Minutemen and Minutewomen\">UMass Minutemen and Minutewomen</a></li>\\n<li><a href=\"/wiki/UMass_Lowell_River_Hawks\" title=\"UMass Lowell River Hawks\">UMass Lowell River Hawks</a></li>\\n<li><a href=\"/wiki/Merrimack_College\" title=\"Merrimack College\">Merrimack Warriors</a> <small>(<a href=\"/wiki/College_hockey\" class=\"mw-redirect\" title=\"College hockey\">ice hockey</a>)</small></li>\\n<li><a href=\"/wiki/Northeastern_Huskies\" title=\"Northeastern Huskies\">Northeastern Huskies</a></li>\\n</ul>\\n</div>\\n</td>\\n</tr>\\n</table>\\n</div>\\n</div>\\n</td>\\n</tr>\\n</table>\\n</div>\\n<div role=\"navigation\" class=\"navbox\" aria-label=\"Navbox\" style=\"padding:3px\">\\n<table class=\"nowraplinks hlist navbox-inner\" style=\"border-spacing:0;background:transparent;color:inherit\">\\n<tr>\\n<th scope=\"row\" class=\"navbox-group\"><a href=\"/wiki/Help:Authority_control\" title=\"Help:Authority control\">Authority control</a></th>\\n<td class=\"navbox-list navbox-odd\" style=\"text-align:left;border-left-width:2px;border-left-style:solid;width:100%;padding:0px\">\\n<div style=\"padding:0em 0.25em\">\\n<ul>\\n<li><span style=\"white-space:nowrap;\"><a rel=\"nofollow\" class=\"external text\" href=\"//www.worldcat.org/identities/containsVIAFID/124802605\">WorldCat Identities</a></span></li>\\n<li><span style=\"white-space:nowrap;\"><a href=\"/wiki/Virtual_International_Authority_File\" title=\"Virtual International Authority File\">VIAF</a>: <span class=\"uid\"><a rel=\"nofollow\" class=\"external text\" href=\"https://viaf.org/viaf/124802605\">124802605</a></span></span></li>\\n<li><span style=\"white-space:nowrap;\"><a href=\"/wiki/Library_of_Congress_Control_Number\" title=\"Library of Congress Control Number\">LCCN</a>: <span class=\"uid\"><a rel=\"nofollow\" class=\"external text\" href=\"http://id.loc.gov/authorities/names/n78096930\">n78096930</a></span></span></li>\\n<li><span style=\"white-space:nowrap;\"><a href=\"/wiki/International_Standard_Name_Identifier\" title=\"International Standard Name Identifier\">ISNI</a>: <span class=\"uid\"><a rel=\"nofollow\" class=\"external text\" href=\"http://isni.org/isni/0000000121095844\">0000 0001 2109 5844</a></span></span></li>\\n<li><span style=\"white-space:nowrap;\"><a href=\"/wiki/Integrated_Authority_File\" title=\"Integrated Authority File\">GND</a>: <span class=\"uid\"><a rel=\"nofollow\" class=\"external text\" href=\"http://d-nb.info/gnd/2012974-9\">2012974-9</a></span></span></li>\\n<li><span style=\"white-space:nowrap;\"><a href=\"/wiki/Syst%C3%A8me_universitaire_de_documentation\" title=\"Syst\\xe8me universitaire de documentation\">SUDOC</a>: <span class=\"uid\"><a rel=\"nofollow\" class=\"external text\" href=\"http://www.idref.fr/026453169\">026453169</a></span></span></li>\\n<li><span style=\"white-space:nowrap;\"><a href=\"/wiki/Biblioth%C3%A8que_nationale_de_France\" title=\"Biblioth\\xe8que nationale de France\">BNF</a>: <span class=\"uid\"><a rel=\"nofollow\" class=\"external text\" href=\"http://catalogue.bnf.fr/ark:/12148/cb118698578\">cb118698578</a> <a rel=\"nofollow\" class=\"external text\" href=\"http://data.bnf.fr/ark:/12148/cb118698578\">(data)</a></span></span></li>\\n<li><span style=\"white-space:nowrap;\"><a href=\"/wiki/Union_List_of_Artist_Names\" title=\"Union List of Artist Names\">ULAN</a>: <span class=\"uid\"><a rel=\"nofollow\" class=\"external text\" href=\"//www.getty.edu/vow/ULANFullDisplay?find=&amp;role=&amp;nation=&amp;subjectid=500312819\">500312819</a></span></span></li>\\n<li><span style=\"white-space:nowrap;\"><a href=\"/wiki/National_Library_of_Australia\" title=\"National Library of Australia\">NLA</a>: <span class=\"uid\"><a rel=\"nofollow\" class=\"external text\" href=\"//nla.gov.au/anbd.aut-an35176433\">35176433</a></span></span></li>\\n<li><span style=\"white-space:nowrap;\"><a href=\"/wiki/National_Library_of_the_Czech_Republic\" title=\"National Library of the Czech Republic\">NKC</a>: <span class=\"uid\"><a rel=\"nofollow\" class=\"external text\" href=\"http://aleph.nkp.cz/F/?func=find-c&amp;local_base=aut&amp;ccl_term=ica=kn20020322375&amp;CON_LNG=ENG\">kn20020322375</a></span></span></li>\\n</ul>\\n</div>\\n</td>\\n</tr>\\n</table>\\n</div>\\n\\n\\n<!-- Saved in parser cache with key enwiki:pcache:idhash:18426501-0!*!0!!en!4!* and timestamp 20161027113919 and revision id 746419732\\n -->\\n<script>(window.RLQ=window.RLQ||[]).push(function(){mw.log.warn(\"Gadget \\\\\"teahouse\\\\\" styles loaded twice. Migrate to type=general. See \\\\u003Chttps://phabricator.wikimedia.org/T42284\\\\u003E.\");mw.log.warn(\"Gadget \\\\\"ReferenceTooltips\\\\\" styles loaded twice. Migrate to type=general. See \\\\u003Chttps://phabricator.wikimedia.org/T42284\\\\u003E.\");mw.log.warn(\"Gadget \\\\\"featured-articles-links\\\\\" styles loaded twice. Migrate to type=general. See \\\\u003Chttps://phabricator.wikimedia.org/T42284\\\\u003E.\");});</script><noscript><img src=\"//en.wikipedia.org/wiki/Special:CentralAutoLogin/start?type=1x1\" alt=\"\" title=\"\" width=\"1\" height=\"1\" style=\"border: none; position: absolute;\" /></noscript></div>\\t\\t\\t\\t\\t<div class=\"printfooter\">\\n\\t\\t\\t\\t\\t\\tRetrieved from \"<a dir=\"ltr\" href=\"https://en.wikipedia.org/w/index.php?title=Harvard_University&amp;oldid=746419732\">https://en.wikipedia.org/w/index.php?title=Harvard_University&amp;oldid=746419732</a>\"\\t\\t\\t\\t\\t</div>\\n\\t\\t\\t\\t<div id=\"catlinks\" class=\"catlinks\" data-mw=\"interface\"><div id=\"mw-normal-catlinks\" class=\"mw-normal-catlinks\"><a href=\"/wiki/Help:Category\" title=\"Help:Category\">Categories</a>: <ul><li><a href=\"/wiki/Category:Harvard_University\" title=\"Category:Harvard University\">Harvard University</a></li><li><a href=\"/wiki/Category:V-12_Navy_College_Training_Program\" title=\"Category:V-12 Navy College Training Program\">V-12 Navy College Training Program</a></li></ul></div><div id=\"mw-hidden-catlinks\" class=\"mw-hidden-catlinks mw-hidden-cats-hidden\">Hidden categories: <ul><li><a href=\"/wiki/Category:Articles_containing_potentially_dated_statements_from_September_2014\" title=\"Category:Articles containing potentially dated statements from September 2014\">Articles containing potentially dated statements from September 2014</a></li><li><a href=\"/wiki/Category:All_articles_containing_potentially_dated_statements\" title=\"Category:All articles containing potentially dated statements\">All articles containing potentially dated statements</a></li><li><a href=\"/wiki/Category:Articles_with_Wayback_Machine_links\" title=\"Category:Articles with Wayback Machine links\">Articles with Wayback Machine links</a></li><li><a href=\"/wiki/Category:Wikipedia_indefinitely_move-protected_pages\" title=\"Category:Wikipedia indefinitely move-protected pages\">Wikipedia indefinitely move-protected pages</a></li><li><a href=\"/wiki/Category:Use_mdy_dates_from_September_2015\" title=\"Category:Use mdy dates from September 2015\">Use mdy dates from September 2015</a></li><li><a href=\"/wiki/Category:Wikipedia_pages_semi-protected_against_vandalism\" title=\"Category:Wikipedia pages semi-protected against vandalism\">Wikipedia pages semi-protected against vandalism</a></li><li><a href=\"/wiki/Category:Articles_containing_Latin-language_text\" title=\"Category:Articles containing Latin-language text\">Articles containing Latin-language text</a></li><li><a href=\"/wiki/Category:Instances_of_Infobox_university_using_image_size\" title=\"Category:Instances of Infobox university using image size\">Instances of Infobox university using image size</a></li><li><a href=\"/wiki/Category:Wikipedia_articles_needing_clarification_from_July_2016\" title=\"Category:Wikipedia articles needing clarification from July 2016\">Wikipedia articles needing clarification from July 2016</a></li><li><a href=\"/wiki/Category:Articles_containing_potentially_dated_statements_from_September_2011\" title=\"Category:Articles containing potentially dated statements from September 2011\">Articles containing potentially dated statements from September 2011</a></li><li><a href=\"/wiki/Category:Articles_containing_potentially_dated_statements_from_2012\" title=\"Category:Articles containing potentially dated statements from 2012\">Articles containing potentially dated statements from 2012</a></li><li><a href=\"/wiki/Category:Wikipedia_articles_needing_clarification_from_October_2015\" title=\"Category:Wikipedia articles needing clarification from October 2015\">Wikipedia articles needing clarification from October 2015</a></li><li><a href=\"/wiki/Category:Articles_to_be_expanded_from_September_2013\" title=\"Category:Articles to be expanded from September 2013\">Articles to be expanded from September 2013</a></li><li><a href=\"/wiki/Category:All_articles_to_be_expanded\" title=\"Category:All articles to be expanded\">All articles to be expanded</a></li><li><a href=\"/wiki/Category:Articles_using_small_message_boxes\" title=\"Category:Articles using small message boxes\">Articles using small message boxes</a></li><li><a href=\"/wiki/Category:Articles_containing_potentially_dated_statements_from_2013\" title=\"Category:Articles containing potentially dated statements from 2013\">Articles containing potentially dated statements from 2013</a></li><li><a href=\"/wiki/Category:All_articles_with_unsourced_statements\" title=\"Category:All articles with unsourced statements\">All articles with unsourced statements</a></li><li><a href=\"/wiki/Category:Articles_with_unsourced_statements_from_November_2015\" title=\"Category:Articles with unsourced statements from November 2015\">Articles with unsourced statements from November 2015</a></li><li><a href=\"/wiki/Category:Coordinates_on_Wikidata\" title=\"Category:Coordinates on Wikidata\">Coordinates on Wikidata</a></li><li><a href=\"/wiki/Category:Wikipedia_articles_with_VIAF_identifiers\" title=\"Category:Wikipedia articles with VIAF identifiers\">Wikipedia articles with VIAF identifiers</a></li><li><a href=\"/wiki/Category:Wikipedia_articles_with_LCCN_identifiers\" title=\"Category:Wikipedia articles with LCCN identifiers\">Wikipedia articles with LCCN identifiers</a></li><li><a href=\"/wiki/Category:Wikipedia_articles_with_ISNI_identifiers\" title=\"Category:Wikipedia articles with ISNI identifiers\">Wikipedia articles with ISNI identifiers</a></li><li><a href=\"/wiki/Category:Wikipedia_articles_with_GND_identifiers\" title=\"Category:Wikipedia articles with GND identifiers\">Wikipedia articles with GND identifiers</a></li><li><a href=\"/wiki/Category:Wikipedia_articles_with_BNF_identifiers\" title=\"Category:Wikipedia articles with BNF identifiers\">Wikipedia articles with BNF identifiers</a></li><li><a href=\"/wiki/Category:Wikipedia_articles_with_ULAN_identifiers\" title=\"Category:Wikipedia articles with ULAN identifiers\">Wikipedia articles with ULAN identifiers</a></li><li><a href=\"/wiki/Category:Wikipedia_articles_with_NLA_identifiers\" title=\"Category:Wikipedia articles with NLA identifiers\">Wikipedia articles with NLA identifiers</a></li></ul></div></div>\\t\\t\\t\\t<div class=\"visualClear\"></div>\\n\\t\\t\\t\\t\\t\\t\\t</div>\\n\\t\\t</div>\\n\\t\\t<div id=\"mw-navigation\">\\n\\t\\t\\t<h2>Navigation menu</h2>\\n\\n\\t\\t\\t<div id=\"mw-head\">\\n\\t\\t\\t\\t\\t\\t\\t\\t\\t<div id=\"p-personal\" role=\"navigation\" class=\"\" aria-labelledby=\"p-personal-label\">\\n\\t\\t\\t\\t\\t\\t<h3 id=\"p-personal-label\">Personal tools</h3>\\n\\t\\t\\t\\t\\t\\t<ul>\\n\\t\\t\\t\\t\\t\\t\\t<li id=\"pt-anonuserpage\">Not logged in</li><li id=\"pt-anontalk\"><a href=\"/wiki/Special:MyTalk\" title=\"Discussion about edits from this IP address [n]\" accesskey=\"n\">Talk</a></li><li id=\"pt-anoncontribs\"><a href=\"/wiki/Special:MyContributions\" title=\"A list of edits made from this IP address [y]\" accesskey=\"y\">Contributions</a></li><li id=\"pt-createaccount\"><a href=\"/w/index.php?title=Special:CreateAccount&amp;returnto=Harvard+University\" title=\"You are encouraged to create an account and log in; however, it is not mandatory\">Create account</a></li><li id=\"pt-login\"><a href=\"/w/index.php?title=Special:UserLogin&amp;returnto=Harvard+University\" title=\"You\\'re encouraged to log in; however, it\\'s not mandatory. [o]\" accesskey=\"o\">Log in</a></li>\\t\\t\\t\\t\\t\\t</ul>\\n\\t\\t\\t\\t\\t</div>\\n\\t\\t\\t\\t\\t\\t\\t\\t\\t<div id=\"left-navigation\">\\n\\t\\t\\t\\t\\t\\t\\t\\t\\t\\t<div id=\"p-namespaces\" role=\"navigation\" class=\"vectorTabs\" aria-labelledby=\"p-namespaces-label\">\\n\\t\\t\\t\\t\\t\\t<h3 id=\"p-namespaces-label\">Namespaces</h3>\\n\\t\\t\\t\\t\\t\\t<ul>\\n\\t\\t\\t\\t\\t\\t\\t\\t\\t\\t\\t\\t\\t\\t\\t<li  id=\"ca-nstab-main\" class=\"selected\"><span><a href=\"/wiki/Harvard_University\"  title=\"View the content page [c]\" accesskey=\"c\">Article</a></span></li>\\n\\t\\t\\t\\t\\t\\t\\t\\t\\t\\t\\t\\t\\t\\t\\t<li  id=\"ca-talk\"><span><a href=\"/wiki/Talk:Harvard_University\"  title=\"Discussion about the content page [t]\" accesskey=\"t\" rel=\"discussion\">Talk</a></span></li>\\n\\t\\t\\t\\t\\t\\t\\t\\t\\t\\t\\t\\t\\t</ul>\\n\\t\\t\\t\\t\\t</div>\\n\\t\\t\\t\\t\\t\\t\\t\\t\\t\\t<div id=\"p-variants\" role=\"navigation\" class=\"vectorMenu emptyPortlet\" aria-labelledby=\"p-variants-label\">\\n\\t\\t\\t\\t\\t\\t\\t\\t\\t\\t\\t\\t<h3 id=\"p-variants-label\">\\n\\t\\t\\t\\t\\t\\t\\t<span>Variants</span><a href=\"#\"></a>\\n\\t\\t\\t\\t\\t\\t</h3>\\n\\n\\t\\t\\t\\t\\t\\t<div class=\"menu\">\\n\\t\\t\\t\\t\\t\\t\\t<ul>\\n\\t\\t\\t\\t\\t\\t\\t\\t\\t\\t\\t\\t\\t\\t\\t</ul>\\n\\t\\t\\t\\t\\t\\t</div>\\n\\t\\t\\t\\t\\t</div>\\n\\t\\t\\t\\t\\t\\t\\t\\t\\t</div>\\n\\t\\t\\t\\t<div id=\"right-navigation\">\\n\\t\\t\\t\\t\\t\\t\\t\\t\\t\\t<div id=\"p-views\" role=\"navigation\" class=\"vectorTabs\" aria-labelledby=\"p-views-label\">\\n\\t\\t\\t\\t\\t\\t<h3 id=\"p-views-label\">Views</h3>\\n\\t\\t\\t\\t\\t\\t<ul>\\n\\t\\t\\t\\t\\t\\t\\t\\t\\t\\t\\t\\t\\t\\t\\t<li id=\"ca-view\" class=\"selected\"><span><a href=\"/wiki/Harvard_University\" >Read</a></span></li>\\n\\t\\t\\t\\t\\t\\t\\t\\t\\t\\t\\t\\t\\t\\t\\t<li id=\"ca-viewsource\"><span><a href=\"/w/index.php?title=Harvard_University&amp;action=edit\"  title=\"This page is protected.&#10;You can view its source [e]\" accesskey=\"e\">View source</a></span></li>\\n\\t\\t\\t\\t\\t\\t\\t\\t\\t\\t\\t\\t\\t\\t\\t<li id=\"ca-history\" class=\"collapsible\"><span><a href=\"/w/index.php?title=Harvard_University&amp;action=history\"  title=\"Past revisions of this page [h]\" accesskey=\"h\">View history</a></span></li>\\n\\t\\t\\t\\t\\t\\t\\t\\t\\t\\t\\t\\t\\t</ul>\\n\\t\\t\\t\\t\\t</div>\\n\\t\\t\\t\\t\\t\\t\\t\\t\\t\\t<div id=\"p-cactions\" role=\"navigation\" class=\"vectorMenu emptyPortlet\" aria-labelledby=\"p-cactions-label\">\\n\\t\\t\\t\\t\\t\\t<h3 id=\"p-cactions-label\"><span>More</span><a href=\"#\"></a></h3>\\n\\n\\t\\t\\t\\t\\t\\t<div class=\"menu\">\\n\\t\\t\\t\\t\\t\\t\\t<ul>\\n\\t\\t\\t\\t\\t\\t\\t\\t\\t\\t\\t\\t\\t\\t\\t</ul>\\n\\t\\t\\t\\t\\t\\t</div>\\n\\t\\t\\t\\t\\t</div>\\n\\t\\t\\t\\t\\t\\t\\t\\t\\t\\t<div id=\"p-search\" role=\"search\">\\n\\t\\t\\t\\t\\t\\t<h3>\\n\\t\\t\\t\\t\\t\\t\\t<label for=\"searchInput\">Search</label>\\n\\t\\t\\t\\t\\t\\t</h3>\\n\\n\\t\\t\\t\\t\\t\\t<form action=\"/w/index.php\" id=\"searchform\">\\n\\t\\t\\t\\t\\t\\t\\t<div id=\"simpleSearch\">\\n\\t\\t\\t\\t\\t\\t\\t<input type=\"search\" name=\"search\" placeholder=\"Search\" title=\"Search Wikipedia [f]\" accesskey=\"f\" id=\"searchInput\"/><input type=\"hidden\" value=\"Special:Search\" name=\"title\"/><input type=\"submit\" name=\"fulltext\" value=\"Search\" title=\"Search Wikipedia for this text\" id=\"mw-searchButton\" class=\"searchButton mw-fallbackSearchButton\"/><input type=\"submit\" name=\"go\" value=\"Go\" title=\"Go to a page with this exact name if it exists\" id=\"searchButton\" class=\"searchButton\"/>\\t\\t\\t\\t\\t\\t\\t</div>\\n\\t\\t\\t\\t\\t\\t</form>\\n\\t\\t\\t\\t\\t</div>\\n\\t\\t\\t\\t\\t\\t\\t\\t\\t</div>\\n\\t\\t\\t</div>\\n\\t\\t\\t<div id=\"mw-panel\">\\n\\t\\t\\t\\t<div id=\"p-logo\" role=\"banner\"><a class=\"mw-wiki-logo\" href=\"/wiki/Main_Page\"  title=\"Visit the main page\"></a></div>\\n\\t\\t\\t\\t\\t\\t<div class=\"portal\" role=\"navigation\" id=\\'p-navigation\\' aria-labelledby=\\'p-navigation-label\\'>\\n\\t\\t\\t<h3 id=\\'p-navigation-label\\'>Navigation</h3>\\n\\n\\t\\t\\t<div class=\"body\">\\n\\t\\t\\t\\t\\t\\t\\t\\t\\t<ul>\\n\\t\\t\\t\\t\\t\\t<li id=\"n-mainpage-description\"><a href=\"/wiki/Main_Page\" title=\"Visit the main page [z]\" accesskey=\"z\">Main page</a></li><li id=\"n-contents\"><a href=\"/wiki/Portal:Contents\" title=\"Guides to browsing Wikipedia\">Contents</a></li><li id=\"n-featuredcontent\"><a href=\"/wiki/Portal:Featured_content\" title=\"Featured content \\u2013 the best of Wikipedia\">Featured content</a></li><li id=\"n-currentevents\"><a href=\"/wiki/Portal:Current_events\" title=\"Find background information on current events\">Current events</a></li><li id=\"n-randompage\"><a href=\"/wiki/Special:Random\" title=\"Load a random article [x]\" accesskey=\"x\">Random article</a></li><li id=\"n-sitesupport\"><a href=\"https://donate.wikimedia.org/wiki/Special:FundraiserRedirector?utm_source=donate&amp;utm_medium=sidebar&amp;utm_campaign=C13_en.wikipedia.org&amp;uselang=en\" title=\"Support us\">Donate to Wikipedia</a></li><li id=\"n-shoplink\"><a href=\"//shop.wikimedia.org\" title=\"Visit the Wikipedia store\">Wikipedia store</a></li>\\t\\t\\t\\t\\t</ul>\\n\\t\\t\\t\\t\\t\\t\\t</div>\\n\\t\\t</div>\\n\\t\\t\\t<div class=\"portal\" role=\"navigation\" id=\\'p-interaction\\' aria-labelledby=\\'p-interaction-label\\'>\\n\\t\\t\\t<h3 id=\\'p-interaction-label\\'>Interaction</h3>\\n\\n\\t\\t\\t<div class=\"body\">\\n\\t\\t\\t\\t\\t\\t\\t\\t\\t<ul>\\n\\t\\t\\t\\t\\t\\t<li id=\"n-help\"><a href=\"/wiki/Help:Contents\" title=\"Guidance on how to use and edit Wikipedia\">Help</a></li><li id=\"n-aboutsite\"><a href=\"/wiki/Wikipedia:About\" title=\"Find out about Wikipedia\">About Wikipedia</a></li><li id=\"n-portal\"><a href=\"/wiki/Wikipedia:Community_portal\" title=\"About the project, what you can do, where to find things\">Community portal</a></li><li id=\"n-recentchanges\"><a href=\"/wiki/Special:RecentChanges\" title=\"A list of recent changes in the wiki [r]\" accesskey=\"r\">Recent changes</a></li><li id=\"n-contactpage\"><a href=\"//en.wikipedia.org/wiki/Wikipedia:Contact_us\" title=\"How to contact Wikipedia\">Contact page</a></li>\\t\\t\\t\\t\\t</ul>\\n\\t\\t\\t\\t\\t\\t\\t</div>\\n\\t\\t</div>\\n\\t\\t\\t<div class=\"portal\" role=\"navigation\" id=\\'p-tb\\' aria-labelledby=\\'p-tb-label\\'>\\n\\t\\t\\t<h3 id=\\'p-tb-label\\'>Tools</h3>\\n\\n\\t\\t\\t<div class=\"body\">\\n\\t\\t\\t\\t\\t\\t\\t\\t\\t<ul>\\n\\t\\t\\t\\t\\t\\t<li id=\"t-whatlinkshere\"><a href=\"/wiki/Special:WhatLinksHere/Harvard_University\" title=\"List of all English Wikipedia pages containing links to this page [j]\" accesskey=\"j\">What links here</a></li><li id=\"t-recentchangeslinked\"><a href=\"/wiki/Special:RecentChangesLinked/Harvard_University\" rel=\"nofollow\" title=\"Recent changes in pages linked from this page [k]\" accesskey=\"k\">Related changes</a></li><li id=\"t-upload\"><a href=\"/wiki/Wikipedia:File_Upload_Wizard\" title=\"Upload files [u]\" accesskey=\"u\">Upload file</a></li><li id=\"t-specialpages\"><a href=\"/wiki/Special:SpecialPages\" title=\"A list of all special pages [q]\" accesskey=\"q\">Special pages</a></li><li id=\"t-permalink\"><a href=\"/w/index.php?title=Harvard_University&amp;oldid=746419732\" title=\"Permanent link to this revision of the page\">Permanent link</a></li><li id=\"t-info\"><a href=\"/w/index.php?title=Harvard_University&amp;action=info\" title=\"More information about this page\">Page information</a></li><li id=\"t-wikibase\"><a href=\"https://www.wikidata.org/wiki/Q13371\" title=\"Link to connected data repository item [g]\" accesskey=\"g\">Wikidata item</a></li><li id=\"t-cite\"><a href=\"/w/index.php?title=Special:CiteThisPage&amp;page=Harvard_University&amp;id=746419732\" title=\"Information on how to cite this page\">Cite this page</a></li>\\t\\t\\t\\t\\t</ul>\\n\\t\\t\\t\\t\\t\\t\\t</div>\\n\\t\\t</div>\\n\\t\\t\\t<div class=\"portal\" role=\"navigation\" id=\\'p-coll-print_export\\' aria-labelledby=\\'p-coll-print_export-label\\'>\\n\\t\\t\\t<h3 id=\\'p-coll-print_export-label\\'>Print/export</h3>\\n\\n\\t\\t\\t<div class=\"body\">\\n\\t\\t\\t\\t\\t\\t\\t\\t\\t<ul>\\n\\t\\t\\t\\t\\t\\t<li id=\"coll-create_a_book\"><a href=\"/w/index.php?title=Special:Book&amp;bookcmd=book_creator&amp;referer=Harvard+University\">Create a book</a></li><li id=\"coll-download-as-rdf2latex\"><a href=\"/w/index.php?title=Special:Book&amp;bookcmd=render_article&amp;arttitle=Harvard+University&amp;returnto=Harvard+University&amp;oldid=746419732&amp;writer=rdf2latex\">Download as PDF</a></li><li id=\"t-print\"><a href=\"/w/index.php?title=Harvard_University&amp;printable=yes\" title=\"Printable version of this page [p]\" accesskey=\"p\">Printable version</a></li>\\t\\t\\t\\t\\t</ul>\\n\\t\\t\\t\\t\\t\\t\\t</div>\\n\\t\\t</div>\\n\\t\\t\\t<div class=\"portal\" role=\"navigation\" id=\\'p-wikibase-otherprojects\\' aria-labelledby=\\'p-wikibase-otherprojects-label\\'>\\n\\t\\t\\t<h3 id=\\'p-wikibase-otherprojects-label\\'>In other projects</h3>\\n\\n\\t\\t\\t<div class=\"body\">\\n\\t\\t\\t\\t\\t\\t\\t\\t\\t<ul>\\n\\t\\t\\t\\t\\t\\t<li class=\"wb-otherproject-link wb-otherproject-commons\"><a href=\"https://commons.wikimedia.org/wiki/Category:Harvard_University\" hreflang=\"en\">Wikimedia Commons</a></li>\\t\\t\\t\\t\\t</ul>\\n\\t\\t\\t\\t\\t\\t\\t</div>\\n\\t\\t</div>\\n\\t\\t\\t<div class=\"portal\" role=\"navigation\" id=\\'p-lang\\' aria-labelledby=\\'p-lang-label\\'>\\n\\t\\t\\t<h3 id=\\'p-lang-label\\'>Languages</h3>\\n\\n\\t\\t\\t<div class=\"body\">\\n\\t\\t\\t\\t\\t\\t\\t\\t\\t<ul>\\n\\t\\t\\t\\t\\t\\t<li class=\"interlanguage-link interwiki-als\"><a href=\"https://als.wikipedia.org/wiki/Harvard-Universit%C3%A4t\" title=\"Harvard-Universit\\xe4t \\u2013 Alemannisch\" lang=\"als\" hreflang=\"als\" class=\"interlanguage-link-target\">Alemannisch</a></li><li class=\"interlanguage-link interwiki-ar\"><a href=\"https://ar.wikipedia.org/wiki/%D8%AC%D8%A7%D9%85%D8%B9%D8%A9_%D9%87%D8%A7%D8%B1%D9%81%D8%A7%D8%B1%D8%AF\" title=\"\\u062c\\u0627\\u0645\\u0639\\u0629 \\u0647\\u0627\\u0631\\u0641\\u0627\\u0631\\u062f \\u2013 Arabic\" lang=\"ar\" hreflang=\"ar\" class=\"interlanguage-link-target\">\\u0627\\u0644\\u0639\\u0631\\u0628\\u064a\\u0629</a></li><li class=\"interlanguage-link interwiki-ast\"><a href=\"https://ast.wikipedia.org/wiki/Universid%C3%A1_de_Harvard\" title=\"Universid\\xe1 de Harvard \\u2013 Asturian\" lang=\"ast\" hreflang=\"ast\" class=\"interlanguage-link-target\">Asturianu</a></li><li class=\"interlanguage-link interwiki-az\"><a href=\"https://az.wikipedia.org/wiki/Harvard_Universiteti\" title=\"Harvard Universiteti \\u2013 Azerbaijani\" lang=\"az\" hreflang=\"az\" class=\"interlanguage-link-target\">Az\\u0259rbaycanca</a></li><li class=\"interlanguage-link interwiki-azb\"><a href=\"https://azb.wikipedia.org/wiki/%D9%87%D8%A7%D8%B1%D9%88%D8%A7%D8%B1%D8%AF_%D8%A8%DB%8C%D9%84%DB%8C%D9%85%E2%80%8C%DB%8C%D9%88%D8%B1%D8%AF%D9%88\" title=\"\\u0647\\u0627\\u0631\\u0648\\u0627\\u0631\\u062f \\u0628\\u06cc\\u0644\\u06cc\\u0645\\u200c\\u06cc\\u0648\\u0631\\u062f\\u0648 \\u2013 \\u062a\\u06c6\\u0631\\u06a9\\u062c\\u0647\" lang=\"azb\" hreflang=\"azb\" class=\"interlanguage-link-target\">\\u062a\\u06c6\\u0631\\u06a9\\u062c\\u0647</a></li><li class=\"interlanguage-link interwiki-bn\"><a href=\"https://bn.wikipedia.org/wiki/%E0%A6%B9%E0%A6%BE%E0%A6%B0%E0%A7%8D%E0%A6%AD%E0%A6%BE%E0%A6%B0%E0%A7%8D%E0%A6%A1_%E0%A6%AC%E0%A6%BF%E0%A6%B6%E0%A7%8D%E0%A6%AC%E0%A6%AC%E0%A6%BF%E0%A6%A6%E0%A7%8D%E0%A6%AF%E0%A6%BE%E0%A6%B2%E0%A6%AF%E0%A6%BC\" title=\"\\u09b9\\u09be\\u09b0\\u09cd\\u09ad\\u09be\\u09b0\\u09cd\\u09a1 \\u09ac\\u09bf\\u09b6\\u09cd\\u09ac\\u09ac\\u09bf\\u09a6\\u09cd\\u09af\\u09be\\u09b2\\u09af\\u09bc \\u2013 Bengali\" lang=\"bn\" hreflang=\"bn\" class=\"interlanguage-link-target\">\\u09ac\\u09be\\u0982\\u09b2\\u09be</a></li><li class=\"interlanguage-link interwiki-zh-min-nan\"><a href=\"https://zh-min-nan.wikipedia.org/wiki/Harvard_T%C4%81i-ha%CC%8Dk\" title=\"Harvard T\\u0101i-ha\\u030dk \\u2013 Chinese (Min Nan)\" lang=\"zh-min-nan\" hreflang=\"zh-min-nan\" class=\"interlanguage-link-target\">B\\xe2n-l\\xe2m-g\\xfa</a></li><li class=\"interlanguage-link interwiki-ba\"><a href=\"https://ba.wikipedia.org/wiki/%D0%93%D0%B0%D1%80%D0%B2%D0%B0%D1%80%D0%B4_%D1%83%D0%BD%D0%B8%D0%B2%D0%B5%D1%80%D1%81%D0%B8%D1%82%D0%B5%D1%82%D1%8B\" title=\"\\u0413\\u0430\\u0440\\u0432\\u0430\\u0440\\u0434 \\u0443\\u043d\\u0438\\u0432\\u0435\\u0440\\u0441\\u0438\\u0442\\u0435\\u0442\\u044b \\u2013 Bashkir\" lang=\"ba\" hreflang=\"ba\" class=\"interlanguage-link-target\">\\u0411\\u0430\\u0448\\u04a1\\u043e\\u0440\\u0442\\u0441\\u0430</a></li><li class=\"interlanguage-link interwiki-be\"><a href=\"https://be.wikipedia.org/wiki/%D0%93%D0%B0%D1%80%D0%B2%D0%B0%D1%80%D0%B4%D1%81%D0%BA%D1%96_%D1%9E%D0%BD%D1%96%D0%B2%D0%B5%D1%80%D1%81%D1%96%D1%82%D1%8D%D1%82\" title=\"\\u0413\\u0430\\u0440\\u0432\\u0430\\u0440\\u0434\\u0441\\u043a\\u0456 \\u045e\\u043d\\u0456\\u0432\\u0435\\u0440\\u0441\\u0456\\u0442\\u044d\\u0442 \\u2013 Belarusian\" lang=\"be\" hreflang=\"be\" class=\"interlanguage-link-target\">\\u0411\\u0435\\u043b\\u0430\\u0440\\u0443\\u0441\\u043a\\u0430\\u044f</a></li><li class=\"interlanguage-link interwiki-be-x-old\"><a href=\"https://be-x-old.wikipedia.org/wiki/%D0%93%D0%B0%D1%80%D0%B2%D0%B0%D1%80%D0%B4%D0%B7%D0%BA%D1%96_%D1%9E%D0%BD%D1%96%D0%B2%D1%8D%D1%80%D1%81%D1%8B%D1%82%D1%8D%D1%82\" title=\"\\u0413\\u0430\\u0440\\u0432\\u0430\\u0440\\u0434\\u0437\\u043a\\u0456 \\u045e\\u043d\\u0456\\u0432\\u044d\\u0440\\u0441\\u044b\\u0442\\u044d\\u0442 \\u2013 \\u0431\\u0435\\u043b\\u0430\\u0440\\u0443\\u0441\\u043a\\u0430\\u044f (\\u0442\\u0430\\u0440\\u0430\\u0448\\u043a\\u0435\\u0432\\u0456\\u0446\\u0430)\\u200e\" lang=\"be-x-old\" hreflang=\"be-x-old\" class=\"interlanguage-link-target\">\\u0411\\u0435\\u043b\\u0430\\u0440\\u0443\\u0441\\u043a\\u0430\\u044f (\\u0442\\u0430\\u0440\\u0430\\u0448\\u043a\\u0435\\u0432\\u0456\\u0446\\u0430)\\u200e</a></li><li class=\"interlanguage-link interwiki-bg\"><a href=\"https://bg.wikipedia.org/wiki/%D0%A5%D0%B0%D1%80%D0%B2%D0%B0%D1%80%D0%B4%D1%81%D0%BA%D0%B8_%D1%83%D0%BD%D0%B8%D0%B2%D0%B5%D1%80%D1%81%D0%B8%D1%82%D0%B5%D1%82\" title=\"\\u0425\\u0430\\u0440\\u0432\\u0430\\u0440\\u0434\\u0441\\u043a\\u0438 \\u0443\\u043d\\u0438\\u0432\\u0435\\u0440\\u0441\\u0438\\u0442\\u0435\\u0442 \\u2013 Bulgarian\" lang=\"bg\" hreflang=\"bg\" class=\"interlanguage-link-target\">\\u0411\\u044a\\u043b\\u0433\\u0430\\u0440\\u0441\\u043a\\u0438</a></li><li class=\"interlanguage-link interwiki-bs\"><a href=\"https://bs.wikipedia.org/wiki/Univerzitet_Harvard\" title=\"Univerzitet Harvard \\u2013 Bosnian\" lang=\"bs\" hreflang=\"bs\" class=\"interlanguage-link-target\">Bosanski</a></li><li class=\"interlanguage-link interwiki-br\"><a href=\"https://br.wikipedia.org/wiki/Skol-veur_Harvard\" title=\"Skol-veur Harvard \\u2013 Breton\" lang=\"br\" hreflang=\"br\" class=\"interlanguage-link-target\">Brezhoneg</a></li><li class=\"interlanguage-link interwiki-ca\"><a href=\"https://ca.wikipedia.org/wiki/Universitat_Harvard\" title=\"Universitat Harvard \\u2013 Catalan\" lang=\"ca\" hreflang=\"ca\" class=\"interlanguage-link-target\">Catal\\xe0</a></li><li class=\"interlanguage-link interwiki-cv\"><a href=\"https://cv.wikipedia.org/wiki/%D0%A5%D0%B0%D1%80%D0%B2%C4%83%D1%80%D1%82_%D0%A3%D0%BD%D0%B8%D0%B2%D0%B5%D1%80%D1%81%D0%B8%D1%82%D0%B5%D1%87%C4%95\" title=\"\\u0425\\u0430\\u0440\\u0432\\u0103\\u0440\\u0442 \\u0423\\u043d\\u0438\\u0432\\u0435\\u0440\\u0441\\u0438\\u0442\\u0435\\u0447\\u0115 \\u2013 Chuvash\" lang=\"cv\" hreflang=\"cv\" class=\"interlanguage-link-target\">\\u0427\\u04d1\\u0432\\u0430\\u0448\\u043b\\u0430</a></li><li class=\"interlanguage-link interwiki-cs\"><a href=\"https://cs.wikipedia.org/wiki/Harvardova_univerzita\" title=\"Harvardova univerzita \\u2013 Czech\" lang=\"cs\" hreflang=\"cs\" class=\"interlanguage-link-target\">\\u010ce\\u0161tina</a></li><li class=\"interlanguage-link interwiki-cy\"><a href=\"https://cy.wikipedia.org/wiki/Prifysgol_Harvard\" title=\"Prifysgol Harvard \\u2013 Welsh\" lang=\"cy\" hreflang=\"cy\" class=\"interlanguage-link-target\">Cymraeg</a></li><li class=\"interlanguage-link interwiki-da\"><a href=\"https://da.wikipedia.org/wiki/Harvard_University\" title=\"Harvard University \\u2013 Danish\" lang=\"da\" hreflang=\"da\" class=\"interlanguage-link-target\">Dansk</a></li><li class=\"interlanguage-link interwiki-de\"><a href=\"https://de.wikipedia.org/wiki/Harvard_University\" title=\"Harvard University \\u2013 German\" lang=\"de\" hreflang=\"de\" class=\"interlanguage-link-target\">Deutsch</a></li><li class=\"interlanguage-link interwiki-et\"><a href=\"https://et.wikipedia.org/wiki/Harvardi_%C3%BClikool\" title=\"Harvardi \\xfclikool \\u2013 Estonian\" lang=\"et\" hreflang=\"et\" class=\"interlanguage-link-target\">Eesti</a></li><li class=\"interlanguage-link interwiki-el\"><a href=\"https://el.wikipedia.org/wiki/%CE%A0%CE%B1%CE%BD%CE%B5%CF%80%CE%B9%CF%83%CF%84%CE%AE%CE%BC%CE%B9%CE%BF_%CE%A7%CE%AC%CF%81%CE%B2%CE%B1%CF%81%CE%BD%CF%84\" title=\"\\u03a0\\u03b1\\u03bd\\u03b5\\u03c0\\u03b9\\u03c3\\u03c4\\u03ae\\u03bc\\u03b9\\u03bf \\u03a7\\u03ac\\u03c1\\u03b2\\u03b1\\u03c1\\u03bd\\u03c4 \\u2013 Greek\" lang=\"el\" hreflang=\"el\" class=\"interlanguage-link-target\">\\u0395\\u03bb\\u03bb\\u03b7\\u03bd\\u03b9\\u03ba\\u03ac</a></li><li class=\"interlanguage-link interwiki-es\"><a href=\"https://es.wikipedia.org/wiki/Universidad_de_Harvard\" title=\"Universidad de Harvard \\u2013 Spanish\" lang=\"es\" hreflang=\"es\" class=\"interlanguage-link-target\">Espa\\xf1ol</a></li><li class=\"interlanguage-link interwiki-eo\"><a href=\"https://eo.wikipedia.org/wiki/Universitato_Harvard\" title=\"Universitato Harvard \\u2013 Esperanto\" lang=\"eo\" hreflang=\"eo\" class=\"interlanguage-link-target\">Esperanto</a></li><li class=\"interlanguage-link interwiki-eu\"><a href=\"https://eu.wikipedia.org/wiki/Harvard_Unibertsitatea\" title=\"Harvard Unibertsitatea \\u2013 Basque\" lang=\"eu\" hreflang=\"eu\" class=\"interlanguage-link-target\">Euskara</a></li><li class=\"interlanguage-link interwiki-fa\"><a href=\"https://fa.wikipedia.org/wiki/%D8%AF%D8%A7%D9%86%D8%B4%DA%AF%D8%A7%D9%87_%D9%87%D8%A7%D8%B1%D9%88%D8%A7%D8%B1%D8%AF\" title=\"\\u062f\\u0627\\u0646\\u0634\\u06af\\u0627\\u0647 \\u0647\\u0627\\u0631\\u0648\\u0627\\u0631\\u062f \\u2013 Persian\" lang=\"fa\" hreflang=\"fa\" class=\"interlanguage-link-target\">\\u0641\\u0627\\u0631\\u0633\\u06cc</a></li><li class=\"interlanguage-link interwiki-fo\"><a href=\"https://fo.wikipedia.org/wiki/Harvard_University\" title=\"Harvard University \\u2013 Faroese\" lang=\"fo\" hreflang=\"fo\" class=\"interlanguage-link-target\">F\\xf8royskt</a></li><li class=\"interlanguage-link interwiki-fr\"><a href=\"https://fr.wikipedia.org/wiki/Universit%C3%A9_Harvard\" title=\"Universit\\xe9 Harvard \\u2013 French\" lang=\"fr\" hreflang=\"fr\" class=\"interlanguage-link-target\">Fran\\xe7ais</a></li><li class=\"interlanguage-link interwiki-fy\"><a href=\"https://fy.wikipedia.org/wiki/Harvard_University\" title=\"Harvard University \\u2013 Western Frisian\" lang=\"fy\" hreflang=\"fy\" class=\"interlanguage-link-target\">Frysk</a></li><li class=\"interlanguage-link interwiki-ga\"><a href=\"https://ga.wikipedia.org/wiki/Ollscoil_Harvard\" title=\"Ollscoil Harvard \\u2013 Irish\" lang=\"ga\" hreflang=\"ga\" class=\"interlanguage-link-target\">Gaeilge</a></li><li class=\"interlanguage-link interwiki-gd\"><a href=\"https://gd.wikipedia.org/wiki/Oilthigh_Harvard\" title=\"Oilthigh Harvard \\u2013 Scottish Gaelic\" lang=\"gd\" hreflang=\"gd\" class=\"interlanguage-link-target\">G\\xe0idhlig</a></li><li class=\"interlanguage-link interwiki-gl\"><a href=\"https://gl.wikipedia.org/wiki/Universidade_Harvard\" title=\"Universidade Harvard \\u2013 Galician\" lang=\"gl\" hreflang=\"gl\" class=\"interlanguage-link-target\">Galego</a></li><li class=\"interlanguage-link interwiki-hak\"><a href=\"https://hak.wikipedia.org/wiki/Harvard_Thai-ho%CC%8Dk\" title=\"Harvard Thai-ho\\u030dk \\u2013 Hakka Chinese\" lang=\"hak\" hreflang=\"hak\" class=\"interlanguage-link-target\">\\u5ba2\\u5bb6\\u8a9e/Hak-k\\xe2-ng\\xee</a></li><li class=\"interlanguage-link interwiki-ko\"><a href=\"https://ko.wikipedia.org/wiki/%ED%95%98%EB%B2%84%EB%93%9C_%EB%8C%80%ED%95%99%EA%B5%90\" title=\"\\ud558\\ubc84\\ub4dc \\ub300\\ud559\\uad50 \\u2013 Korean\" lang=\"ko\" hreflang=\"ko\" class=\"interlanguage-link-target\">\\ud55c\\uad6d\\uc5b4</a></li><li class=\"interlanguage-link interwiki-hy\"><a href=\"https://hy.wikipedia.org/wiki/%D5%80%D5%A1%D6%80%D5%BE%D5%A1%D6%80%D5%A4%D5%AB_%D5%B0%D5%A1%D5%B4%D5%A1%D5%AC%D5%BD%D5%A1%D6%80%D5%A1%D5%B6\" title=\"\\u0540\\u0561\\u0580\\u057e\\u0561\\u0580\\u0564\\u056b \\u0570\\u0561\\u0574\\u0561\\u056c\\u057d\\u0561\\u0580\\u0561\\u0576 \\u2013 Armenian\" lang=\"hy\" hreflang=\"hy\" class=\"interlanguage-link-target\">\\u0540\\u0561\\u0575\\u0565\\u0580\\u0565\\u0576</a></li><li class=\"interlanguage-link interwiki-hi\"><a href=\"https://hi.wikipedia.org/wiki/%E0%A4%B9%E0%A4%BE%E0%A4%B0%E0%A5%8D%E0%A4%B5%E0%A4%B0%E0%A5%8D%E0%A4%A1_%E0%A4%B5%E0%A4%BF%E0%A4%B6%E0%A5%8D%E0%A4%B5%E0%A4%B5%E0%A4%BF%E0%A4%A6%E0%A5%8D%E0%A4%AF%E0%A4%BE%E0%A4%B2%E0%A4%AF\" title=\"\\u0939\\u093e\\u0930\\u094d\\u0935\\u0930\\u094d\\u0921 \\u0935\\u093f\\u0936\\u094d\\u0935\\u0935\\u093f\\u0926\\u094d\\u092f\\u093e\\u0932\\u092f \\u2013 Hindi\" lang=\"hi\" hreflang=\"hi\" class=\"interlanguage-link-target\">\\u0939\\u093f\\u0928\\u094d\\u0926\\u0940</a></li><li class=\"interlanguage-link interwiki-hr\"><a href=\"https://hr.wikipedia.org/wiki/Harvardovo_sveu%C4%8Dili%C5%A1te\" title=\"Harvardovo sveu\\u010dili\\u0161te \\u2013 Croatian\" lang=\"hr\" hreflang=\"hr\" class=\"interlanguage-link-target\">Hrvatski</a></li><li class=\"interlanguage-link interwiki-id\"><a href=\"https://id.wikipedia.org/wiki/Universitas_Harvard\" title=\"Universitas Harvard \\u2013 Indonesian\" lang=\"id\" hreflang=\"id\" class=\"interlanguage-link-target\">Bahasa Indonesia</a></li><li class=\"interlanguage-link interwiki-is\"><a href=\"https://is.wikipedia.org/wiki/Harvard-h%C3%A1sk%C3%B3li\" title=\"Harvard-h\\xe1sk\\xf3li \\u2013 Icelandic\" lang=\"is\" hreflang=\"is\" class=\"interlanguage-link-target\">\\xcdslenska</a></li><li class=\"interlanguage-link interwiki-it\"><a href=\"https://it.wikipedia.org/wiki/Universit%C3%A0_di_Harvard\" title=\"Universit\\xe0 di Harvard \\u2013 Italian\" lang=\"it\" hreflang=\"it\" class=\"interlanguage-link-target\">Italiano</a></li><li class=\"interlanguage-link interwiki-he\"><a href=\"https://he.wikipedia.org/wiki/%D7%90%D7%95%D7%A0%D7%99%D7%91%D7%A8%D7%A1%D7%99%D7%98%D7%AA_%D7%94%D7%A8%D7%95%D7%95%D7%90%D7%A8%D7%93\" title=\"\\u05d0\\u05d5\\u05e0\\u05d9\\u05d1\\u05e8\\u05e1\\u05d9\\u05d8\\u05ea \\u05d4\\u05e8\\u05d5\\u05d5\\u05d0\\u05e8\\u05d3 \\u2013 Hebrew\" lang=\"he\" hreflang=\"he\" class=\"interlanguage-link-target\">\\u05e2\\u05d1\\u05e8\\u05d9\\u05ea</a></li><li class=\"interlanguage-link interwiki-jv\"><a href=\"https://jv.wikipedia.org/wiki/Universitas_Harvard\" title=\"Universitas Harvard \\u2013 Javanese\" lang=\"jv\" hreflang=\"jv\" class=\"interlanguage-link-target\">Basa Jawa</a></li><li class=\"interlanguage-link interwiki-kn\"><a href=\"https://kn.wikipedia.org/wiki/%E0%B2%B9%E0%B2%BE%E0%B2%B0%E0%B3%8D%E0%B2%B5%E0%B2%B0%E0%B3%8D%E0%B2%A1%E0%B3%8D_%E0%B2%B5%E0%B2%BF%E0%B2%B6%E0%B3%8D%E0%B2%B5%E0%B2%B5%E0%B2%BF%E0%B2%A6%E0%B3%8D%E0%B2%AF%E0%B2%BE%E0%B2%A8%E0%B2%BF%E0%B2%B2%E0%B2%AF\" title=\"\\u0cb9\\u0cbe\\u0cb0\\u0ccd\\u0cb5\\u0cb0\\u0ccd\\u0ca1\\u0ccd \\u0cb5\\u0cbf\\u0cb6\\u0ccd\\u0cb5\\u0cb5\\u0cbf\\u0ca6\\u0ccd\\u0caf\\u0cbe\\u0ca8\\u0cbf\\u0cb2\\u0caf \\u2013 Kannada\" lang=\"kn\" hreflang=\"kn\" class=\"interlanguage-link-target\">\\u0c95\\u0ca8\\u0ccd\\u0ca8\\u0ca1</a></li><li class=\"interlanguage-link interwiki-krc\"><a href=\"https://krc.wikipedia.org/wiki/%D0%93%D0%B0%D1%80%D0%B2%D0%B0%D1%80%D0%B4_%D1%83%D0%BD%D0%B8%D0%B2%D0%B5%D1%80%D1%81%D0%B8%D1%82%D0%B5%D1%82\" title=\"\\u0413\\u0430\\u0440\\u0432\\u0430\\u0440\\u0434 \\u0443\\u043d\\u0438\\u0432\\u0435\\u0440\\u0441\\u0438\\u0442\\u0435\\u0442 \\u2013 Karachay-Balkar\" lang=\"krc\" hreflang=\"krc\" class=\"interlanguage-link-target\">\\u041a\\u044a\\u0430\\u0440\\u0430\\u0447\\u0430\\u0439-\\u043c\\u0430\\u043b\\u043a\\u044a\\u0430\\u0440</a></li><li class=\"interlanguage-link interwiki-ka\"><a href=\"https://ka.wikipedia.org/wiki/%E1%83%B0%E1%83%90%E1%83%A0%E1%83%95%E1%83%90%E1%83%A0%E1%83%93%E1%83%98%E1%83%A1_%E1%83%A3%E1%83%9C%E1%83%98%E1%83%95%E1%83%94%E1%83%A0%E1%83%A1%E1%83%98%E1%83%A2%E1%83%94%E1%83%A2%E1%83%98\" title=\"\\u10f0\\u10d0\\u10e0\\u10d5\\u10d0\\u10e0\\u10d3\\u10d8\\u10e1 \\u10e3\\u10dc\\u10d8\\u10d5\\u10d4\\u10e0\\u10e1\\u10d8\\u10e2\\u10d4\\u10e2\\u10d8 \\u2013 Georgian\" lang=\"ka\" hreflang=\"ka\" class=\"interlanguage-link-target\">\\u10e5\\u10d0\\u10e0\\u10d7\\u10e3\\u10da\\u10d8</a></li><li class=\"interlanguage-link interwiki-csb\"><a href=\"https://csb.wikipedia.org/wiki/%C3%99niwersytet_Harvarda\" title=\"\\xd9niwersytet Harvarda \\u2013 Kashubian\" lang=\"csb\" hreflang=\"csb\" class=\"interlanguage-link-target\">Kasz\\xebbsczi</a></li><li class=\"interlanguage-link interwiki-kk\"><a href=\"https://kk.wikipedia.org/wiki/%D0%93%D0%B0%D1%80%D0%B2%D0%B0%D1%80%D0%B4_%D1%83%D0%BD%D0%B8%D0%B2%D0%B5%D1%80%D1%81%D0%B8%D1%82%D0%B5%D1%82%D1%96\" title=\"\\u0413\\u0430\\u0440\\u0432\\u0430\\u0440\\u0434 \\u0443\\u043d\\u0438\\u0432\\u0435\\u0440\\u0441\\u0438\\u0442\\u0435\\u0442\\u0456 \\u2013 Kazakh\" lang=\"kk\" hreflang=\"kk\" class=\"interlanguage-link-target\">\\u049a\\u0430\\u0437\\u0430\\u049b\\u0448\\u0430</a></li><li class=\"interlanguage-link interwiki-sw\"><a href=\"https://sw.wikipedia.org/wiki/Chuo_Kikuu_cha_Harvard\" title=\"Chuo Kikuu cha Harvard \\u2013 Swahili\" lang=\"sw\" hreflang=\"sw\" class=\"interlanguage-link-target\">Kiswahili</a></li><li class=\"interlanguage-link interwiki-ku\"><a href=\"https://ku.wikipedia.org/wiki/Zan%C3%AEngeha_Harvard%C3%AA\" title=\"Zan\\xeengeha Harvard\\xea \\u2013 Kurdish\" lang=\"ku\" hreflang=\"ku\" class=\"interlanguage-link-target\">Kurd\\xee</a></li><li class=\"interlanguage-link interwiki-la\"><a href=\"https://la.wikipedia.org/wiki/Universitas_Harvardiana\" title=\"Universitas Harvardiana \\u2013 Latin\" lang=\"la\" hreflang=\"la\" class=\"interlanguage-link-target\">Latina</a></li><li class=\"interlanguage-link interwiki-lv\"><a href=\"https://lv.wikipedia.org/wiki/H%C4%81rvarda_Universit%C4%81te\" title=\"H\\u0101rvarda Universit\\u0101te \\u2013 Latvian\" lang=\"lv\" hreflang=\"lv\" class=\"interlanguage-link-target\">Latvie\\u0161u</a></li><li class=\"interlanguage-link interwiki-lb\"><a href=\"https://lb.wikipedia.org/wiki/Harvard_Universit%C3%A9it\" title=\"Harvard Universit\\xe9it \\u2013 Luxembourgish\" lang=\"lb\" hreflang=\"lb\" class=\"interlanguage-link-target\">L\\xebtzebuergesch</a></li><li class=\"interlanguage-link interwiki-lt\"><a href=\"https://lt.wikipedia.org/wiki/Harvardo_universitetas\" title=\"Harvardo universitetas \\u2013 Lithuanian\" lang=\"lt\" hreflang=\"lt\" class=\"interlanguage-link-target\">Lietuvi\\u0173</a></li><li class=\"interlanguage-link interwiki-hu\"><a href=\"https://hu.wikipedia.org/wiki/Harvard_Egyetem\" title=\"Harvard Egyetem \\u2013 Hungarian\" lang=\"hu\" hreflang=\"hu\" class=\"interlanguage-link-target\">Magyar</a></li><li class=\"interlanguage-link interwiki-mk\"><a href=\"https://mk.wikipedia.org/wiki/%D0%A5%D0%B0%D1%80%D0%B2%D0%B0%D1%80%D0%B4\" title=\"\\u0425\\u0430\\u0440\\u0432\\u0430\\u0440\\u0434 \\u2013 Macedonian\" lang=\"mk\" hreflang=\"mk\" class=\"interlanguage-link-target\">\\u041c\\u0430\\u043a\\u0435\\u0434\\u043e\\u043d\\u0441\\u043a\\u0438</a></li><li class=\"interlanguage-link interwiki-ml\"><a href=\"https://ml.wikipedia.org/wiki/%E0%B4%B9%E0%B4%BE%E0%B5%BC%E0%B4%B5%E0%B4%BE%E0%B5%BC%E0%B4%A1%E0%B5%8D_%E0%B4%B8%E0%B5%BC%E0%B4%B5%E0%B4%95%E0%B4%B2%E0%B4%BE%E0%B4%B6%E0%B4%BE%E0%B4%B2\" title=\"\\u0d39\\u0d3e\\u0d7c\\u0d35\\u0d3e\\u0d7c\\u0d21\\u0d4d \\u0d38\\u0d7c\\u0d35\\u0d15\\u0d32\\u0d3e\\u0d36\\u0d3e\\u0d32 \\u2013 Malayalam\" lang=\"ml\" hreflang=\"ml\" class=\"interlanguage-link-target\">\\u0d2e\\u0d32\\u0d2f\\u0d3e\\u0d33\\u0d02</a></li><li class=\"interlanguage-link interwiki-mr\"><a href=\"https://mr.wikipedia.org/wiki/%E0%A4%B9%E0%A4%BE%E0%A4%B0%E0%A5%8D%E0%A4%B5%E0%A4%B0%E0%A5%8D%E0%A4%A1_%E0%A4%B5%E0%A4%BF%E0%A4%A6%E0%A5%8D%E0%A4%AF%E0%A4%BE%E0%A4%AA%E0%A5%80%E0%A4%A0\" title=\"\\u0939\\u093e\\u0930\\u094d\\u0935\\u0930\\u094d\\u0921 \\u0935\\u093f\\u0926\\u094d\\u092f\\u093e\\u092a\\u0940\\u0920 \\u2013 Marathi\" lang=\"mr\" hreflang=\"mr\" class=\"interlanguage-link-target\">\\u092e\\u0930\\u093e\\u0920\\u0940</a></li><li class=\"interlanguage-link interwiki-ms\"><a href=\"https://ms.wikipedia.org/wiki/Universiti_Harvard\" title=\"Universiti Harvard \\u2013 Malay\" lang=\"ms\" hreflang=\"ms\" class=\"interlanguage-link-target\">Bahasa Melayu</a></li><li class=\"interlanguage-link interwiki-my\"><a href=\"https://my.wikipedia.org/wiki/%E1%80%9F%E1%80%AC%E1%80%B8%E1%80%97%E1%80%90%E1%80%BA_%E1%80%90%E1%80%80%E1%80%B9%E1%80%80%E1%80%9E%E1%80%AD%E1%80%AF%E1%80%9C%E1%80%BA\" title=\"\\u101f\\u102c\\u1038\\u1017\\u1010\\u103a \\u1010\\u1000\\u1039\\u1000\\u101e\\u102d\\u102f\\u101c\\u103a \\u2013 Burmese\" lang=\"my\" hreflang=\"my\" class=\"interlanguage-link-target\">\\u1019\\u103c\\u1014\\u103a\\u1019\\u102c\\u1018\\u102c\\u101e\\u102c</a></li><li class=\"interlanguage-link interwiki-nl\"><a href=\"https://nl.wikipedia.org/wiki/Harvard-universiteit\" title=\"Harvard-universiteit \\u2013 Dutch\" lang=\"nl\" hreflang=\"nl\" class=\"interlanguage-link-target\">Nederlands</a></li><li class=\"interlanguage-link interwiki-ja\"><a href=\"https://ja.wikipedia.org/wiki/%E3%83%8F%E3%83%BC%E3%83%90%E3%83%BC%E3%83%89%E5%A4%A7%E5%AD%A6\" title=\"\\u30cf\\u30fc\\u30d0\\u30fc\\u30c9\\u5927\\u5b66 \\u2013 Japanese\" lang=\"ja\" hreflang=\"ja\" class=\"interlanguage-link-target\">\\u65e5\\u672c\\u8a9e</a></li><li class=\"interlanguage-link interwiki-no\"><a href=\"https://no.wikipedia.org/wiki/Harvard_University\" title=\"Harvard University \\u2013 Norwegian\" lang=\"no\" hreflang=\"no\" class=\"interlanguage-link-target\">Norsk bokm\\xe5l</a></li><li class=\"interlanguage-link interwiki-oc\"><a href=\"https://oc.wikipedia.org/wiki/Universitat_Harvard\" title=\"Universitat Harvard \\u2013 Occitan\" lang=\"oc\" hreflang=\"oc\" class=\"interlanguage-link-target\">Occitan</a></li><li class=\"interlanguage-link interwiki-uz\"><a href=\"https://uz.wikipedia.org/wiki/Garvard_universiteti\" title=\"Garvard universiteti \\u2013 Uzbek\" lang=\"uz\" hreflang=\"uz\" class=\"interlanguage-link-target\">O\\u02bbzbekcha/\\u045e\\u0437\\u0431\\u0435\\u043a\\u0447\\u0430</a></li><li class=\"interlanguage-link interwiki-pa\"><a href=\"https://pa.wikipedia.org/wiki/%E0%A8%B9%E0%A8%BE%E0%A8%B0%E0%A8%B5%E0%A8%B0%E0%A8%A1_%E0%A8%AF%E0%A9%82%E0%A8%A8%E0%A9%80%E0%A8%B5%E0%A8%B0%E0%A8%B8%E0%A8%BF%E0%A8%9F%E0%A9%80\" title=\"\\u0a39\\u0a3e\\u0a30\\u0a35\\u0a30\\u0a21 \\u0a2f\\u0a42\\u0a28\\u0a40\\u0a35\\u0a30\\u0a38\\u0a3f\\u0a1f\\u0a40 \\u2013 Punjabi\" lang=\"pa\" hreflang=\"pa\" class=\"interlanguage-link-target\">\\u0a2a\\u0a70\\u0a1c\\u0a3e\\u0a2c\\u0a40</a></li><li class=\"interlanguage-link interwiki-pnb\"><a href=\"https://pnb.wikipedia.org/wiki/%DB%81%D8%A7%D8%B1%D9%88%D8%B1%DA%88_%DB%8C%D9%88%D9%86%DB%8C%D9%88%D8%B1%D8%B3%D9%B9%DB%8C\" title=\"\\u06c1\\u0627\\u0631\\u0648\\u0631\\u0688 \\u06cc\\u0648\\u0646\\u06cc\\u0648\\u0631\\u0633\\u0679\\u06cc \\u2013 Western Punjabi\" lang=\"pnb\" hreflang=\"pnb\" class=\"interlanguage-link-target\">\\u067e\\u0646\\u062c\\u0627\\u0628\\u06cc</a></li><li class=\"interlanguage-link interwiki-pap\"><a href=\"https://pap.wikipedia.org/wiki/Universidat_di_Harvard\" title=\"Universidat di Harvard \\u2013 Papiamento\" lang=\"pap\" hreflang=\"pap\" class=\"interlanguage-link-target\">Papiamentu</a></li><li class=\"interlanguage-link interwiki-km\"><a href=\"https://km.wikipedia.org/wiki/Harvard_University\" title=\"Harvard University \\u2013 Khmer\" lang=\"km\" hreflang=\"km\" class=\"interlanguage-link-target\">\\u1797\\u17b6\\u179f\\u17b6\\u1781\\u17d2\\u1798\\u17c2\\u179a</a></li><li class=\"interlanguage-link interwiki-nds\"><a href=\"https://nds.wikipedia.org/wiki/Harvard_University\" title=\"Harvard University \\u2013 Low German\" lang=\"nds\" hreflang=\"nds\" class=\"interlanguage-link-target\">Plattd\\xfc\\xfctsch</a></li><li class=\"interlanguage-link interwiki-pl\"><a href=\"https://pl.wikipedia.org/wiki/Uniwersytet_Harvarda\" title=\"Uniwersytet Harvarda \\u2013 Polish\" lang=\"pl\" hreflang=\"pl\" class=\"interlanguage-link-target\">Polski</a></li><li class=\"interlanguage-link interwiki-pt\"><a href=\"https://pt.wikipedia.org/wiki/Universidade_Harvard\" title=\"Universidade Harvard \\u2013 Portuguese\" lang=\"pt\" hreflang=\"pt\" class=\"interlanguage-link-target\">Portugu\\xeas</a></li><li class=\"interlanguage-link interwiki-ro\"><a href=\"https://ro.wikipedia.org/wiki/Universitatea_Harvard\" title=\"Universitatea Harvard \\u2013 Romanian\" lang=\"ro\" hreflang=\"ro\" class=\"interlanguage-link-target\">Rom\\xe2n\\u0103</a></li><li class=\"interlanguage-link interwiki-qu\"><a href=\"https://qu.wikipedia.org/wiki/Harvard_Yachay_Suntur\" title=\"Harvard Yachay Suntur \\u2013 Quechua\" lang=\"qu\" hreflang=\"qu\" class=\"interlanguage-link-target\">Runa Simi</a></li><li class=\"interlanguage-link interwiki-ru\"><a href=\"https://ru.wikipedia.org/wiki/%D0%93%D0%B0%D1%80%D0%B2%D0%B0%D1%80%D0%B4%D1%81%D0%BA%D0%B8%D0%B9_%D1%83%D0%BD%D0%B8%D0%B2%D0%B5%D1%80%D1%81%D0%B8%D1%82%D0%B5%D1%82\" title=\"\\u0413\\u0430\\u0440\\u0432\\u0430\\u0440\\u0434\\u0441\\u043a\\u0438\\u0439 \\u0443\\u043d\\u0438\\u0432\\u0435\\u0440\\u0441\\u0438\\u0442\\u0435\\u0442 \\u2013 Russian\" lang=\"ru\" hreflang=\"ru\" class=\"interlanguage-link-target\">\\u0420\\u0443\\u0441\\u0441\\u043a\\u0438\\u0439</a></li><li class=\"interlanguage-link interwiki-sa\"><a href=\"https://sa.wikipedia.org/wiki/%E0%A4%B9%E0%A4%BE%E0%A4%B0%E0%A5%8D%E0%A4%B5%E0%A4%B0%E0%A5%8D%E0%A4%A1%E0%A5%8D_%E0%A4%B5%E0%A4%BF%E0%A4%B6%E0%A5%8D%E0%A4%B5%E0%A4%B5%E0%A4%BF%E0%A4%A6%E0%A5%8D%E0%A4%AF%E0%A4%BE%E0%A4%B2%E0%A4%AF%E0%A4%83\" title=\"\\u0939\\u093e\\u0930\\u094d\\u0935\\u0930\\u094d\\u0921\\u094d \\u0935\\u093f\\u0936\\u094d\\u0935\\u0935\\u093f\\u0926\\u094d\\u092f\\u093e\\u0932\\u092f\\u0903 \\u2013 Sanskrit\" lang=\"sa\" hreflang=\"sa\" class=\"interlanguage-link-target\">\\u0938\\u0902\\u0938\\u094d\\u0915\\u0943\\u0924\\u092e\\u094d</a></li><li class=\"interlanguage-link interwiki-sco\"><a href=\"https://sco.wikipedia.org/wiki/Harvard_Varsity\" title=\"Harvard Varsity \\u2013 Scots\" lang=\"sco\" hreflang=\"sco\" class=\"interlanguage-link-target\">Scots</a></li><li class=\"interlanguage-link interwiki-sq\"><a href=\"https://sq.wikipedia.org/wiki/Harvard_University\" title=\"Harvard University \\u2013 Albanian\" lang=\"sq\" hreflang=\"sq\" class=\"interlanguage-link-target\">Shqip</a></li><li class=\"interlanguage-link interwiki-scn\"><a href=\"https://scn.wikipedia.org/wiki/Univirsitati_di_Harvard\" title=\"Univirsitati di Harvard \\u2013 Sicilian\" lang=\"scn\" hreflang=\"scn\" class=\"interlanguage-link-target\">Sicilianu</a></li><li class=\"interlanguage-link interwiki-simple\"><a href=\"https://simple.wikipedia.org/wiki/Harvard_University\" title=\"Harvard University \\u2013 Simple English\" lang=\"simple\" hreflang=\"simple\" class=\"interlanguage-link-target\">Simple English</a></li><li class=\"interlanguage-link interwiki-sk\"><a href=\"https://sk.wikipedia.org/wiki/Harvard_University\" title=\"Harvard University \\u2013 Slovak\" lang=\"sk\" hreflang=\"sk\" class=\"interlanguage-link-target\">Sloven\\u010dina</a></li><li class=\"interlanguage-link interwiki-sl\"><a href=\"https://sl.wikipedia.org/wiki/Univerza_Harvard\" title=\"Univerza Harvard \\u2013 Slovenian\" lang=\"sl\" hreflang=\"sl\" class=\"interlanguage-link-target\">Sloven\\u0161\\u010dina</a></li><li class=\"interlanguage-link interwiki-ckb\"><a href=\"https://ckb.wikipedia.org/wiki/%D8%B2%D8%A7%D9%86%DA%A9%DB%86%DB%8C_%DA%BE%D8%A7%D8%B1%DA%A4%D8%A7%D8%B1%D8%AF\" title=\"\\u0632\\u0627\\u0646\\u06a9\\u06c6\\u06cc \\u06be\\u0627\\u0631\\u06a4\\u0627\\u0631\\u062f \\u2013 Central Kurdish\" lang=\"ckb\" hreflang=\"ckb\" class=\"interlanguage-link-target\">\\u06a9\\u0648\\u0631\\u062f\\u06cc\\u06cc \\u0646\\u0627\\u0648\\u06d5\\u0646\\u062f\\u06cc</a></li><li class=\"interlanguage-link interwiki-sr\"><a href=\"https://sr.wikipedia.org/wiki/%D0%A3%D0%BD%D0%B8%D0%B2%D0%B5%D1%80%D0%B7%D0%B8%D1%82%D0%B5%D1%82_%D0%A5%D0%B0%D1%80%D0%B2%D0%B0%D1%80%D0%B4\" title=\"\\u0423\\u043d\\u0438\\u0432\\u0435\\u0440\\u0437\\u0438\\u0442\\u0435\\u0442 \\u0425\\u0430\\u0440\\u0432\\u0430\\u0440\\u0434 \\u2013 Serbian\" lang=\"sr\" hreflang=\"sr\" class=\"interlanguage-link-target\">\\u0421\\u0440\\u043f\\u0441\\u043a\\u0438 / srpski</a></li><li class=\"interlanguage-link interwiki-sh\"><a href=\"https://sh.wikipedia.org/wiki/Univerzitet_Harvard\" title=\"Univerzitet Harvard \\u2013 Serbo-Croatian\" lang=\"sh\" hreflang=\"sh\" class=\"interlanguage-link-target\">Srpskohrvatski / \\u0441\\u0440\\u043f\\u0441\\u043a\\u043e\\u0445\\u0440\\u0432\\u0430\\u0442\\u0441\\u043a\\u0438</a></li><li class=\"interlanguage-link interwiki-fi badge-Q17559452 badge-recommendedarticle\" title=\"recommended article\"><a href=\"https://fi.wikipedia.org/wiki/Harvardin_yliopisto\" title=\"Harvardin yliopisto \\u2013 Finnish\" lang=\"fi\" hreflang=\"fi\" class=\"interlanguage-link-target\">Suomi</a></li><li class=\"interlanguage-link interwiki-sv\"><a href=\"https://sv.wikipedia.org/wiki/Harvard_University\" title=\"Harvard University \\u2013 Swedish\" lang=\"sv\" hreflang=\"sv\" class=\"interlanguage-link-target\">Svenska</a></li><li class=\"interlanguage-link interwiki-tl\"><a href=\"https://tl.wikipedia.org/wiki/Unibersidad_ng_Harvard\" title=\"Unibersidad ng Harvard \\u2013 Tagalog\" lang=\"tl\" hreflang=\"tl\" class=\"interlanguage-link-target\">Tagalog</a></li><li class=\"interlanguage-link interwiki-ta\"><a href=\"https://ta.wikipedia.org/wiki/%E0%AE%B9%E0%AE%BE%E0%AE%B0%E0%AF%8D%E0%AE%B5%E0%AE%B0%E0%AF%8D%E0%AE%9F%E0%AF%81_%E0%AE%AA%E0%AE%B2%E0%AF%8D%E0%AE%95%E0%AE%B2%E0%AF%88%E0%AE%95%E0%AF%8D%E0%AE%95%E0%AE%B4%E0%AE%95%E0%AE%AE%E0%AF%8D\" title=\"\\u0bb9\\u0bbe\\u0bb0\\u0bcd\\u0bb5\\u0bb0\\u0bcd\\u0b9f\\u0bc1 \\u0baa\\u0bb2\\u0bcd\\u0b95\\u0bb2\\u0bc8\\u0b95\\u0bcd\\u0b95\\u0bb4\\u0b95\\u0bae\\u0bcd \\u2013 Tamil\" lang=\"ta\" hreflang=\"ta\" class=\"interlanguage-link-target\">\\u0ba4\\u0bae\\u0bbf\\u0bb4\\u0bcd</a></li><li class=\"interlanguage-link interwiki-tt\"><a href=\"https://tt.wikipedia.org/wiki/Harvard_universitet%C4%B1\" title=\"Harvard universitet\\u0131 \\u2013 Tatar\" lang=\"tt\" hreflang=\"tt\" class=\"interlanguage-link-target\">\\u0422\\u0430\\u0442\\u0430\\u0440\\u0447\\u0430/tatar\\xe7a</a></li><li class=\"interlanguage-link interwiki-te\"><a href=\"https://te.wikipedia.org/wiki/%E0%B0%B9%E0%B0%BE%E0%B0%B0%E0%B1%8D%E0%B0%B5%E0%B0%B0%E0%B1%8D%E0%B0%A1%E0%B1%8D_%E0%B0%B5%E0%B0%BF%E0%B0%B6%E0%B1%8D%E0%B0%B5%E0%B0%B5%E0%B0%BF%E0%B0%A6%E0%B1%8D%E0%B0%AF%E0%B0%BE%E0%B0%B2%E0%B0%AF%E0%B0%82\" title=\"\\u0c39\\u0c3e\\u0c30\\u0c4d\\u0c35\\u0c30\\u0c4d\\u0c21\\u0c4d \\u0c35\\u0c3f\\u0c36\\u0c4d\\u0c35\\u0c35\\u0c3f\\u0c26\\u0c4d\\u0c2f\\u0c3e\\u0c32\\u0c2f\\u0c02 \\u2013 Telugu\" lang=\"te\" hreflang=\"te\" class=\"interlanguage-link-target\">\\u0c24\\u0c46\\u0c32\\u0c41\\u0c17\\u0c41</a></li><li class=\"interlanguage-link interwiki-th\"><a href=\"https://th.wikipedia.org/wiki/%E0%B8%A1%E0%B8%AB%E0%B8%B2%E0%B8%A7%E0%B8%B4%E0%B8%97%E0%B8%A2%E0%B8%B2%E0%B8%A5%E0%B8%B1%E0%B8%A2%E0%B8%AE%E0%B8%B2%E0%B8%A3%E0%B9%8C%E0%B8%A7%E0%B8%B2%E0%B8%A3%E0%B9%8C%E0%B8%94\" title=\"\\u0e21\\u0e2b\\u0e32\\u0e27\\u0e34\\u0e17\\u0e22\\u0e32\\u0e25\\u0e31\\u0e22\\u0e2e\\u0e32\\u0e23\\u0e4c\\u0e27\\u0e32\\u0e23\\u0e4c\\u0e14 \\u2013 Thai\" lang=\"th\" hreflang=\"th\" class=\"interlanguage-link-target\">\\u0e44\\u0e17\\u0e22</a></li><li class=\"interlanguage-link interwiki-tr\"><a href=\"https://tr.wikipedia.org/wiki/Harvard_%C3%9Cniversitesi\" title=\"Harvard \\xdcniversitesi \\u2013 Turkish\" lang=\"tr\" hreflang=\"tr\" class=\"interlanguage-link-target\">T\\xfcrk\\xe7e</a></li><li class=\"interlanguage-link interwiki-uk\"><a href=\"https://uk.wikipedia.org/wiki/%D0%93%D0%B0%D1%80%D0%B2%D0%B0%D1%80%D0%B4%D1%81%D1%8C%D0%BA%D0%B8%D0%B9_%D1%83%D0%BD%D1%96%D0%B2%D0%B5%D1%80%D1%81%D0%B8%D1%82%D0%B5%D1%82\" title=\"\\u0413\\u0430\\u0440\\u0432\\u0430\\u0440\\u0434\\u0441\\u044c\\u043a\\u0438\\u0439 \\u0443\\u043d\\u0456\\u0432\\u0435\\u0440\\u0441\\u0438\\u0442\\u0435\\u0442 \\u2013 Ukrainian\" lang=\"uk\" hreflang=\"uk\" class=\"interlanguage-link-target\">\\u0423\\u043a\\u0440\\u0430\\u0457\\u043d\\u0441\\u044c\\u043a\\u0430</a></li><li class=\"interlanguage-link interwiki-ur\"><a href=\"https://ur.wikipedia.org/wiki/%D8%AC%D8%A7%D9%85%D8%B9%DB%81_%DB%81%D8%A7%D8%B1%D9%88%D8%B1%DA%88\" title=\"\\u062c\\u0627\\u0645\\u0639\\u06c1 \\u06c1\\u0627\\u0631\\u0648\\u0631\\u0688 \\u2013 Urdu\" lang=\"ur\" hreflang=\"ur\" class=\"interlanguage-link-target\">\\u0627\\u0631\\u062f\\u0648</a></li><li class=\"interlanguage-link interwiki-ug\"><a href=\"https://ug.wikipedia.org/wiki/%D8%AE%D8%A7%D8%B1%DB%8B%D8%A7%D8%B1%D8%AF_%D8%A6%DB%87%D9%86%D9%89%DB%8B%DB%90%D8%B1%D8%B3%D9%89%D8%AA%DB%90%D8%AA%D9%89\" title=\"\\u062e\\u0627\\u0631\\u06cb\\u0627\\u0631\\u062f \\u0626\\u06c7\\u0646\\u0649\\u06cb\\u06d0\\u0631\\u0633\\u0649\\u062a\\u06d0\\u062a\\u0649 \\u2013 Uyghur\" lang=\"ug\" hreflang=\"ug\" class=\"interlanguage-link-target\">\\u0626\\u06c7\\u064a\\u063a\\u06c7\\u0631\\u0686\\u06d5 / Uyghurche</a></li><li class=\"interlanguage-link interwiki-vi\"><a href=\"https://vi.wikipedia.org/wiki/%C4%90%E1%BA%A1i_h%E1%BB%8Dc_Harvard\" title=\"\\u0110\\u1ea1i h\\u1ecdc Harvard \\u2013 Vietnamese\" lang=\"vi\" hreflang=\"vi\" class=\"interlanguage-link-target\">Ti\\u1ebfng Vi\\u1ec7t</a></li><li class=\"interlanguage-link interwiki-war\"><a href=\"https://war.wikipedia.org/wiki/Unibersidad_Harvard\" title=\"Unibersidad Harvard \\u2013 Waray\" lang=\"war\" hreflang=\"war\" class=\"interlanguage-link-target\">Winaray</a></li><li class=\"interlanguage-link interwiki-wuu\"><a href=\"https://wuu.wikipedia.org/wiki/%E5%93%88%E4%BD%9B%E5%A4%A7%E5%AD%A6\" title=\"\\u54c8\\u4f5b\\u5927\\u5b66 \\u2013 Wu Chinese\" lang=\"wuu\" hreflang=\"wuu\" class=\"interlanguage-link-target\">\\u5434\\u8bed</a></li><li class=\"interlanguage-link interwiki-yi\"><a href=\"https://yi.wikipedia.org/wiki/%D7%94%D7%90%D7%A8%D7%95%D7%95%D7%90%D7%A8%D7%93_%D7%90%D7%95%D7%A0%D7%99%D7%95%D7%95%D7%A2%D7%A8%D7%A1%D7%99%D7%98%D7%A2%D7%98\" title=\"\\u05d4\\u05d0\\u05e8\\u05d5\\u05d5\\u05d0\\u05e8\\u05d3 \\u05d0\\u05d5\\u05e0\\u05d9\\u05d5\\u05d5\\u05e2\\u05e8\\u05e1\\u05d9\\u05d8\\u05e2\\u05d8 \\u2013 Yiddish\" lang=\"yi\" hreflang=\"yi\" class=\"interlanguage-link-target\">\\u05d9\\u05d9\\u05b4\\u05d3\\u05d9\\u05e9</a></li><li class=\"interlanguage-link interwiki-yo\"><a href=\"https://yo.wikipedia.org/wiki/Yunif%C3%A1s%C3%ADt%C3%AC_Harvard\" title=\"Yunif\\xe1s\\xedt\\xec Harvard \\u2013 Yoruba\" lang=\"yo\" hreflang=\"yo\" class=\"interlanguage-link-target\">Yor\\xf9b\\xe1</a></li><li class=\"interlanguage-link interwiki-zh-yue\"><a href=\"https://zh-yue.wikipedia.org/wiki/%E5%93%88%E4%BD%9B%E5%A4%A7%E5%AD%B8\" title=\"\\u54c8\\u4f5b\\u5927\\u5b78 \\u2013 Cantonese\" lang=\"zh-yue\" hreflang=\"zh-yue\" class=\"interlanguage-link-target\">\\u7cb5\\u8a9e</a></li><li class=\"interlanguage-link interwiki-zh\"><a href=\"https://zh.wikipedia.org/wiki/%E5%93%88%E4%BD%9B%E5%A4%A7%E5%AD%A6\" title=\"\\u54c8\\u4f5b\\u5927\\u5b66 \\u2013 Chinese\" lang=\"zh\" hreflang=\"zh\" class=\"interlanguage-link-target\">\\u4e2d\\u6587</a></li><li class=\"uls-p-lang-dummy\"><a href=\"#\"></a></li>\\t\\t\\t\\t\\t</ul>\\n\\t\\t\\t\\t<div class=\\'after-portlet after-portlet-lang\\'><span class=\"wb-langlinks-edit wb-langlinks-link\"><a href=\"https://www.wikidata.org/wiki/Q13371#sitelinks-wikipedia\" title=\"Edit interlanguage links\" class=\"wbc-editpage\">Edit links</a></span></div>\\t\\t\\t</div>\\n\\t\\t</div>\\n\\t\\t\\t\\t</div>\\n\\t\\t</div>\\n\\t\\t<div id=\"footer\" role=\"contentinfo\">\\n\\t\\t\\t\\t\\t\\t\\t<ul id=\"footer-info\">\\n\\t\\t\\t\\t\\t\\t\\t\\t\\t\\t\\t<li id=\"footer-info-lastmod\"> This page was last modified on 27 October 2016, at 08:40.</li>\\n\\t\\t\\t\\t\\t\\t\\t\\t\\t\\t\\t<li id=\"footer-info-copyright\">Text is available under the <a rel=\"license\" href=\"//en.wikipedia.org/wiki/Wikipedia:Text_of_Creative_Commons_Attribution-ShareAlike_3.0_Unported_License\">Creative Commons Attribution-ShareAlike License</a><a rel=\"license\" href=\"//creativecommons.org/licenses/by-sa/3.0/\" style=\"display:none;\"></a>;\\nadditional terms may apply.  By using this site, you agree to the <a href=\"//wikimediafoundation.org/wiki/Terms_of_Use\">Terms of Use</a> and <a href=\"//wikimediafoundation.org/wiki/Privacy_policy\">Privacy Policy</a>. Wikipedia\\xae is a registered trademark of the <a href=\"//www.wikimediafoundation.org/\">Wikimedia Foundation, Inc.</a>, a non-profit organization.</li>\\n\\t\\t\\t\\t\\t\\t\\t\\t\\t</ul>\\n\\t\\t\\t\\t\\t\\t\\t<ul id=\"footer-places\">\\n\\t\\t\\t\\t\\t\\t\\t\\t\\t\\t\\t<li id=\"footer-places-privacy\"><a href=\"https://wikimediafoundation.org/wiki/Privacy_policy\" class=\"extiw\" title=\"wmf:Privacy policy\">Privacy policy</a></li>\\n\\t\\t\\t\\t\\t\\t\\t\\t\\t\\t\\t<li id=\"footer-places-about\"><a href=\"/wiki/Wikipedia:About\" title=\"Wikipedia:About\">About Wikipedia</a></li>\\n\\t\\t\\t\\t\\t\\t\\t\\t\\t\\t\\t<li id=\"footer-places-disclaimer\"><a href=\"/wiki/Wikipedia:General_disclaimer\" title=\"Wikipedia:General disclaimer\">Disclaimers</a></li>\\n\\t\\t\\t\\t\\t\\t\\t\\t\\t\\t\\t<li id=\"footer-places-contact\"><a href=\"//en.wikipedia.org/wiki/Wikipedia:Contact_us\">Contact Wikipedia</a></li>\\n\\t\\t\\t\\t\\t\\t\\t\\t\\t\\t\\t<li id=\"footer-places-developers\"><a href=\"https://www.mediawiki.org/wiki/Special:MyLanguage/How_to_contribute\">Developers</a></li>\\n\\t\\t\\t\\t\\t\\t\\t\\t\\t\\t\\t<li id=\"footer-places-cookiestatement\"><a href=\"https://wikimediafoundation.org/wiki/Cookie_statement\">Cookie statement</a></li>\\n\\t\\t\\t\\t\\t\\t\\t\\t\\t\\t\\t<li id=\"footer-places-mobileview\"><a href=\"//en.m.wikipedia.org/w/index.php?title=Harvard_University&amp;mobileaction=toggle_view_mobile\" class=\"noprint stopMobileRedirectToggle\">Mobile view</a></li>\\n\\t\\t\\t\\t\\t\\t\\t\\t\\t</ul>\\n\\t\\t\\t\\t\\t\\t\\t\\t\\t\\t<ul id=\"footer-icons\" class=\"noprint\">\\n\\t\\t\\t\\t\\t\\t\\t\\t\\t\\t\\t<li id=\"footer-copyrightico\">\\n\\t\\t\\t\\t\\t\\t\\t<a href=\"https://wikimediafoundation.org/\"><img src=\"/static/images/wikimedia-button.png\" srcset=\"/static/images/wikimedia-button-1.5x.png 1.5x, /static/images/wikimedia-button-2x.png 2x\" width=\"88\" height=\"31\" alt=\"Wikimedia Foundation\"/></a>\\t\\t\\t\\t\\t\\t</li>\\n\\t\\t\\t\\t\\t\\t\\t\\t\\t\\t\\t<li id=\"footer-poweredbyico\">\\n\\t\\t\\t\\t\\t\\t\\t<a href=\"//www.mediawiki.org/\"><img src=\"/static/images/poweredby_mediawiki_88x31.png\" alt=\"Powered by MediaWiki\" srcset=\"/static/images/poweredby_mediawiki_132x47.png 1.5x, /static/images/poweredby_mediawiki_176x62.png 2x\" width=\"88\" height=\"31\"/></a>\\t\\t\\t\\t\\t\\t</li>\\n\\t\\t\\t\\t\\t\\t\\t\\t\\t</ul>\\n\\t\\t\\t\\t\\t\\t<div style=\"clear:both\"></div>\\n\\t\\t</div>\\n\\t\\t<script>(window.RLQ=window.RLQ||[]).push(function(){mw.loader.load([\"ext.cite.a11y\",\"mediawiki.toc\",\"mediawiki.action.view.postEdit\",\"site\",\"mediawiki.user\",\"mediawiki.hidpi\",\"mediawiki.page.ready\",\"mediawiki.searchSuggest\",\"ext.gadget.teahouse\",\"ext.gadget.ReferenceTooltips\",\"ext.gadget.watchlist-notice\",\"ext.gadget.DRN-wizard\",\"ext.gadget.charinsert\",\"ext.gadget.refToolbar\",\"ext.gadget.extra-toolbar-buttons\",\"ext.gadget.switcher\",\"ext.gadget.featured-articles-links\",\"mmv.bootstrap.autostart\",\"ext.visualEditor.targetLoader\",\"ext.eventLogging.subscriber\",\"ext.wikimediaEvents\",\"ext.navigationTiming\",\"ext.uls.eventlogger\",\"ext.uls.init\",\"ext.centralNotice.geoIP\",\"ext.centralNotice.startUp\"]);});</script>\\n<script>(window.RLQ=window.RLQ||[]).push(function(){mw.config.set( {\\n    \"wgPageParseReport\": {\\n        \"limitreport\": {\\n            \"cputime\": \"1.340\",\\n            \"walltime\": \"1.564\",\\n            \"ppvisitednodes\": {\\n                \"value\": 10095,\\n                \"limit\": 1000000\\n            },\\n            \"ppgeneratednodes\": {\\n                \"value\": 0,\\n                \"limit\": 1500000\\n            },\\n            \"postexpandincludesize\": {\\n                \"value\": 504648,\\n                \"limit\": 2097152\\n            },\\n            \"templateargumentsize\": {\\n                \"value\": 93938,\\n                \"limit\": 2097152\\n            },\\n            \"expansiondepth\": {\\n                \"value\": 21,\\n                \"limit\": 40\\n            },\\n            \"expensivefunctioncount\": {\\n                \"value\": 15,\\n                \"limit\": 500\\n            },\\n            \"entityaccesscount\": {\\n                \"value\": 1,\\n                \"limit\": 400\\n            },\\n            \"timingprofile\": [\\n                \"100.00% 1282.136      1 -total\",\\n                \" 42.86%  549.559      1 Template:Reflist\",\\n                \" 17.12%  219.495     62 Template:Cite_web\",\\n                \" 10.80%  138.494     13 Template:Navbox\",\\n                \"  9.89%  126.808      1 Template:Infobox_university\",\\n                \"  9.89%  126.740     31 Template:Cite_news\",\\n                \"  8.55%  109.609      1 Template:Infobox\",\\n                \"  5.92%   75.949      1 Template:Navboxes\",\\n                \"  5.20%   66.668     18 Template:Cite_book\",\\n                \"  4.71%   60.434      9 Template:Refn\"\\n            ]\\n        },\\n        \"scribunto\": {\\n            \"limitreport-timeusage\": {\\n                \"value\": \"0.644\",\\n                \"limit\": \"10.000\"\\n            },\\n            \"limitreport-memusage\": {\\n                \"value\": 11119333,\\n                \"limit\": 52428800\\n            }\\n        },\\n        \"cachereport\": {\\n            \"origin\": \"mw1248\",\\n            \"timestamp\": \"20161027113921\",\\n            \"ttl\": 2592000,\\n            \"transientcontent\": false\\n        }\\n    }\\n} );});</script><script>(window.RLQ=window.RLQ||[]).push(function(){mw.config.set({\"wgBackendResponseTime\":1682,\"wgHostname\":\"mw1248\"});});</script>\\n\\t</body>\\n</html>\\n'"
      ]
     },
     "execution_count": 9,
     "metadata": {},
     "output_type": "execute_result"
    }
   ],
   "source": [
    "page = req.text\n",
    "page"
   ]
  },
  {
   "cell_type": "markdown",
   "metadata": {},
   "source": [
    "Great! Now we have the text of the HU Wikipedia page. But this mess of HTML tags would be a pain to parse manually. Which is why we will use another very cool Python library called BeautifulSoup."
   ]
  },
  {
   "cell_type": "markdown",
   "metadata": {},
   "source": [
    "### BeautifulSoup\n",
    "\n",
    "Parsing data would be a breeze if we could always use well formatted data sources, such as CSV, JSON, or XML; but some formats such as HTML are at the same time a very popular and a pain to parse.\n",
    "\n",
    "One of the problems with HTML is that over the years browsers have evolved to be very forgiving of \"malformed\" syntax. Your browser is smart enough to detect some common problems, such as open tags, and correct them on the fly.\n",
    "\n",
    "Unfortunately, we do not have the time or patience to implement all the different corner cases, so we'll let BeautifulSoup do that for us.\n",
    "\n",
    "You'll notice that the `import` statement bellow is different from what we used for `requests`. The _from library import thing_ pattern is useful when you don't want to reference a function byt its full name (like we did with `requests.get`), but you also don't want to import every single thing on that library into your namespace."
   ]
  },
  {
   "cell_type": "code",
   "execution_count": 10,
   "metadata": {
    "collapsed": true
   },
   "outputs": [],
   "source": [
    "from bs4 import BeautifulSoup"
   ]
  },
  {
   "cell_type": "markdown",
   "metadata": {},
   "source": [
    "BeautifulSoup can deal with HTML or XML data, so the next line parser the contents of the `page` variable using its HTML parser, and assigns the result of that to the `soup` variable."
   ]
  },
  {
   "cell_type": "code",
   "execution_count": 11,
   "metadata": {
    "collapsed": false
   },
   "outputs": [],
   "source": [
    "soup = BeautifulSoup(page, 'html.parser')"
   ]
  },
  {
   "cell_type": "code",
   "execution_count": 110,
   "metadata": {
    "collapsed": false
   },
   "outputs": [
    {
     "data": {
      "text/plain": [
       "[<html><head><title>The Dormouse's story</title></head>\\n<body>\\n<p class=\"title\"><b>The Dormouse's story</b></p>\\n<p class=\"story\">Once upon a time there were three little sisters; and their names were\\n<a class=\"sister\" href=\"http://example.com/elsie\" id=\"link1\">Elsie</a>,\\n<a class=\"sister\" href=\"http://example.com/lacie\" id=\"link2\">Lacie</a> and\\n<a class=\"sister\" href=\"http://example.com/tillie\" id=\"link3\">Tillie</a>;\\nand they lived at the bottom of a well.</p>\\n<p class=\"story\">...</p>\\n</body></html>]"
      ]
     },
     "execution_count": 110,
     "metadata": {},
     "output_type": "execute_result"
    }
   ],
   "source": [
    "soup.contents"
   ]
  },
  {
   "cell_type": "code",
   "execution_count": 111,
   "metadata": {
    "collapsed": true
   },
   "outputs": [],
   "source": [
    "html_doc = \"\"\"<html><head><title>The Dormouse's story</title></head>\n",
    "<body>\n",
    "<p class=\"title\"><b>The Dormouse's story</b></p>\n",
    "\n",
    "<p class=\"story\">Once upon a time there were three little sisters; and their names were\n",
    "<a href=\"http://example.com/elsie\" class=\"sister\" id=\"link1\">Elsie</a>,\n",
    "<a href=\"http://example.com/lacie\" class=\"sister\" id=\"link2\">Lacie</a> and\n",
    "<a href=\"http://example.com/tillie\" class=\"sister\" id=\"link3\">Tillie</a>;\n",
    "and they lived at the bottom of a well.</p>\n",
    "\n",
    "<p class=\"story\">...</p>\n",
    "\"\"\""
   ]
  },
  {
   "cell_type": "code",
   "execution_count": 113,
   "metadata": {
    "collapsed": true
   },
   "outputs": [],
   "source": [
    "soup = BeautifulSoup(html_doc, 'html.parser')\n"
   ]
  },
  {
   "cell_type": "code",
   "execution_count": 112,
   "metadata": {
    "collapsed": false
   },
   "outputs": [
    {
     "name": "stdout",
     "output_type": "stream",
     "text": [
      "<html>\n",
      " <head>\n",
      "  <title>\n",
      "   The Dormouse's story\n",
      "  </title>\n",
      " </head>\n",
      " <body>\n",
      "  <p class=\"title\">\n",
      "   <b>\n",
      "    The Dormouse's story\n",
      "   </b>\n",
      "  </p>\n",
      "  <p class=\"story\">\n",
      "   Once upon a time there were three little sisters; and their names were\n",
      "   <a class=\"sister\" href=\"http://example.com/elsie\" id=\"link1\">\n",
      "    Elsie\n",
      "   </a>\n",
      "   ,\n",
      "   <a class=\"sister\" href=\"http://example.com/lacie\" id=\"link2\">\n",
      "    Lacie\n",
      "   </a>\n",
      "   and\n",
      "   <a class=\"sister\" href=\"http://example.com/tillie\" id=\"link3\">\n",
      "    Tillie\n",
      "   </a>\n",
      "   ;\n",
      "and they lived at the bottom of a well.\n",
      "  </p>\n",
      "  <p class=\"story\">\n",
      "   ...\n",
      "  </p>\n",
      " </body>\n",
      "</html>\n"
     ]
    }
   ],
   "source": [
    "print soup.prettify()"
   ]
  },
  {
   "cell_type": "code",
   "execution_count": 114,
   "metadata": {
    "collapsed": false
   },
   "outputs": [
    {
     "data": {
      "text/plain": [
       "[]"
      ]
     },
     "execution_count": 114,
     "metadata": {},
     "output_type": "execute_result"
    }
   ],
   "source": [
    "[a['href'] for a in soup.find_all('a') if 'href' in a]"
   ]
  },
  {
   "cell_type": "code",
   "execution_count": 115,
   "metadata": {
    "collapsed": false
   },
   "outputs": [
    {
     "name": "stdout",
     "output_type": "stream",
     "text": [
      "['can_be_empty_element', 'known_xml', 'next_sibling', 'name', 'parent', 'namespace', 'previous_element', 'preserve_whitespace_tags', 'prefix', 'previous_sibling', 'attrs', 'next_element', 'parser_class', 'hidden', 'contents']\n"
     ]
    }
   ],
   "source": [
    "print soup.find('a').__dict__.keys()"
   ]
  },
  {
   "cell_type": "code",
   "execution_count": 116,
   "metadata": {
    "collapsed": false
   },
   "outputs": [
    {
     "data": {
      "text/plain": [
       "bs4.element.Tag"
      ]
     },
     "execution_count": 116,
     "metadata": {},
     "output_type": "execute_result"
    }
   ],
   "source": [
    "type(soup.body.contents[1])"
   ]
  },
  {
   "cell_type": "code",
   "execution_count": 19,
   "metadata": {
    "collapsed": false
   },
   "outputs": [],
   "source": [
    "s = BeautifulSoup(\"<p>af<a>g<p>pp</p></a></p>\", 'html.parser')"
   ]
  },
  {
   "cell_type": "code",
   "execution_count": 20,
   "metadata": {
    "collapsed": false
   },
   "outputs": [
    {
     "data": {
      "text/plain": [
       "[<p>af<a>g<p>pp</p></a></p>, <p>pp</p>]"
      ]
     },
     "execution_count": 20,
     "metadata": {},
     "output_type": "execute_result"
    }
   ],
   "source": [
    "s.find_all('p')"
   ]
  },
  {
   "cell_type": "markdown",
   "metadata": {},
   "source": [
    "Let's check the string representation of the `soup` object."
   ]
  },
  {
   "cell_type": "code",
   "execution_count": 117,
   "metadata": {
    "collapsed": false
   },
   "outputs": [
    {
     "data": {
      "text/plain": [
       "<html><head><title>The Dormouse's story</title></head>\\n<body>\\n<p class=\"title\"><b>The Dormouse's story</b></p>\\n<p class=\"story\">Once upon a time there were three little sisters; and their names were\\n<a class=\"sister\" href=\"http://example.com/elsie\" id=\"link1\">Elsie</a>,\\n<a class=\"sister\" href=\"http://example.com/lacie\" id=\"link2\">Lacie</a> and\\n<a class=\"sister\" href=\"http://example.com/tillie\" id=\"link3\">Tillie</a>;\\nand they lived at the bottom of a well.</p>\\n<p class=\"story\">...</p>\\n</body></html>"
      ]
     },
     "execution_count": 117,
     "metadata": {},
     "output_type": "execute_result"
    }
   ],
   "source": [
    "soup"
   ]
  },
  {
   "cell_type": "markdown",
   "metadata": {},
   "source": [
    "Doesn't look much different from the `page` object representation. Let's make sure the two are different types."
   ]
  },
  {
   "cell_type": "code",
   "execution_count": 22,
   "metadata": {
    "collapsed": false
   },
   "outputs": [
    {
     "data": {
      "text/plain": [
       "unicode"
      ]
     },
     "execution_count": 22,
     "metadata": {},
     "output_type": "execute_result"
    }
   ],
   "source": [
    "type(page)"
   ]
  },
  {
   "cell_type": "code",
   "execution_count": 23,
   "metadata": {
    "collapsed": false
   },
   "outputs": [
    {
     "data": {
      "text/plain": [
       "bs4.BeautifulSoup"
      ]
     },
     "execution_count": 23,
     "metadata": {},
     "output_type": "execute_result"
    }
   ],
   "source": [
    "type(soup)"
   ]
  },
  {
   "cell_type": "markdown",
   "metadata": {},
   "source": [
    "Looks like they are indeed different.\n",
    "\n",
    "`BeautifulSoup` obkects have a cool little method that allows you to see the HTML content in a nice, indented way."
   ]
  },
  {
   "cell_type": "code",
   "execution_count": 118,
   "metadata": {
    "collapsed": false
   },
   "outputs": [
    {
     "name": "stdout",
     "output_type": "stream",
     "text": [
      "<html>\n",
      " <head>\n",
      "  <title>\n",
      "   The Dormouse's story\n",
      "  </title>\n",
      " </head>\n",
      " <body>\n",
      "  <p class=\"title\">\n",
      "   <b>\n",
      "    The Dormouse's story\n",
      "   </b>\n",
      "  </p>\n",
      "  <p class=\"story\">\n",
      "   Once upon a time there were three little sisters; and their names were\n",
      "   <a class=\"sister\" href=\"http://example.com/elsie\" id=\"link1\">\n",
      "    Elsie\n",
      "   </a>\n",
      "   ,\n",
      "   <a class=\"sister\" href=\"http://example.com/lacie\" id=\"link2\">\n",
      "    Lacie\n",
      "   </a>\n",
      "   and\n",
      "   <a class=\"sister\" href=\"http://example.com/tillie\" id=\"link3\">\n",
      "    Tillie\n",
      "   </a>\n",
      "   ;\n",
      "and they lived at the bottom of a well.\n",
      "  </p>\n",
      "  <p class=\"story\">\n",
      "   ...\n",
      "  </p>\n",
      " </body>\n",
      "</html>\n"
     ]
    }
   ],
   "source": [
    "print soup.prettify()"
   ]
  },
  {
   "cell_type": "markdown",
   "metadata": {},
   "source": [
    "Looks like it's our page!\n",
    "\n",
    "We can now reference elements of the HTML document in different ways. One very convenient way is by using the dot notation, which allows us to access the elements as if they were properties of the object."
   ]
  },
  {
   "cell_type": "code",
   "execution_count": 25,
   "metadata": {
    "collapsed": false
   },
   "outputs": [
    {
     "data": {
      "text/plain": [
       "<title>The Dormouse's story</title>"
      ]
     },
     "execution_count": 25,
     "metadata": {},
     "output_type": "execute_result"
    }
   ],
   "source": [
    "soup.title"
   ]
  },
  {
   "cell_type": "markdown",
   "metadata": {},
   "source": [
    "But we should make it clear that this is again just syntactic sugar. `title` is not a property of the `soup` object and I can prove it:"
   ]
  },
  {
   "cell_type": "code",
   "execution_count": 119,
   "metadata": {
    "collapsed": false
   },
   "outputs": [
    {
     "data": {
      "text/plain": [
       "False"
      ]
     },
     "execution_count": 119,
     "metadata": {},
     "output_type": "execute_result"
    }
   ],
   "source": [
    "\"title\" in dir(soup)"
   ]
  },
  {
   "cell_type": "code",
   "execution_count": 27,
   "metadata": {
    "collapsed": false
   },
   "outputs": [
    {
     "data": {
      "text/plain": [
       "<title>The Dormouse's story</title>"
      ]
     },
     "execution_count": 27,
     "metadata": {},
     "output_type": "execute_result"
    }
   ],
   "source": [
    "soup.title"
   ]
  },
  {
   "cell_type": "code",
   "execution_count": 28,
   "metadata": {
    "collapsed": false
   },
   "outputs": [
    {
     "data": {
      "text/plain": [
       "['_most_recent_element',\n",
       " 'attrs',\n",
       " 'builder',\n",
       " 'can_be_empty_element',\n",
       " 'contains_replacement_characters',\n",
       " 'contents',\n",
       " 'currentTag',\n",
       " 'current_data',\n",
       " 'declared_html_encoding',\n",
       " 'hidden',\n",
       " 'is_xml',\n",
       " 'known_xml',\n",
       " 'markup',\n",
       " 'name',\n",
       " 'namespace',\n",
       " 'next_element',\n",
       " 'next_sibling',\n",
       " 'original_encoding',\n",
       " 'parent',\n",
       " 'parse_only',\n",
       " 'parser_class',\n",
       " 'prefix',\n",
       " 'preserve_whitespace_tag_stack',\n",
       " 'preserve_whitespace_tags',\n",
       " 'previous_element',\n",
       " 'previous_sibling',\n",
       " 'tagStack']"
      ]
     },
     "execution_count": 28,
     "metadata": {},
     "output_type": "execute_result"
    }
   ],
   "source": [
    "sorted(soup.__dict__.keys())"
   ]
  },
  {
   "cell_type": "markdown",
   "metadata": {},
   "source": [
    "This is nice for HTML elements that only appear once per page, such the the `title` tag. But what about elements that can appear multiple times?"
   ]
  },
  {
   "cell_type": "code",
   "execution_count": 120,
   "metadata": {
    "collapsed": false
   },
   "outputs": [
    {
     "data": {
      "text/plain": [
       "<a class=\"sister\" href=\"http://example.com/elsie\" id=\"link1\">Elsie</a>"
      ]
     },
     "execution_count": 120,
     "metadata": {},
     "output_type": "execute_result"
    }
   ],
   "source": [
    "# Be careful with elements that show up multiple times.\n",
    "soup.a"
   ]
  },
  {
   "cell_type": "markdown",
   "metadata": {},
   "source": [
    "That's why it is safer to use the explicit commands behind that syntactic sugar I mentioned. These are `BeautifulSoup.find` for getting single elements, and `BeautifulSoup.find_all` for retrieving multiple elements."
   ]
  },
  {
   "cell_type": "code",
   "execution_count": 108,
   "metadata": {
    "collapsed": false
   },
   "outputs": [
    {
     "data": {
      "text/plain": [
       "<a class=\"sister\" href=\"http://example.com/elsie\" id=\"link1\">Elsie</a>"
      ]
     },
     "execution_count": 108,
     "metadata": {},
     "output_type": "execute_result"
    }
   ],
   "source": [
    "soup.find(\"a\")"
   ]
  },
  {
   "cell_type": "markdown",
   "metadata": {},
   "source": [
    "---"
   ]
  },
  {
   "cell_type": "markdown",
   "metadata": {},
   "source": [
    "If you look at the Wikipedia page on your browser, you'll notice that it has a couple of tables in it. We will be working with the \"Demographics\" table, but first we need to find it.\n",
    "\n",
    "One of the HTML attributes that will be very useful to us is the \"class\" attribute.\n",
    "\n",
    "Getting the class of a single element is easy..."
   ]
  },
  {
   "cell_type": "code",
   "execution_count": 122,
   "metadata": {
    "collapsed": false
   },
   "outputs": [
    {
     "data": {
      "text/plain": [
       "[]"
      ]
     },
     "execution_count": 122,
     "metadata": {},
     "output_type": "execute_result"
    }
   ],
   "source": [
    "soup.find_all('table')"
   ]
  },
  {
   "cell_type": "code",
   "execution_count": 32,
   "metadata": {
    "collapsed": false
   },
   "outputs": [
    {
     "ename": "TypeError",
     "evalue": "'NoneType' object has no attribute '__getitem__'",
     "output_type": "error",
     "traceback": [
      "\u001b[0;31m---------------------------------------------------------------------------\u001b[0m",
      "\u001b[0;31mTypeError\u001b[0m                                 Traceback (most recent call last)",
      "\u001b[0;32m<ipython-input-32-d12abc4f58e1>\u001b[0m in \u001b[0;36m<module>\u001b[0;34m()\u001b[0m\n\u001b[0;32m----> 1\u001b[0;31m \u001b[0msoup\u001b[0m\u001b[0;34m.\u001b[0m\u001b[0mtable\u001b[0m\u001b[0;34m[\u001b[0m\u001b[0;34m\"class\"\u001b[0m\u001b[0;34m]\u001b[0m\u001b[0;34m\u001b[0m\u001b[0m\n\u001b[0m",
      "\u001b[0;31mTypeError\u001b[0m: 'NoneType' object has no attribute '__getitem__'"
     ]
    }
   ],
   "source": [
    "soup.table[\"class\"]"
   ]
  },
  {
   "cell_type": "markdown",
   "metadata": {},
   "source": [
    "---\n",
    "\n",
    "### List Comprehensions\n",
    "\n",
    "Next we will use a list comprehension to see all the tables that have a \"class\" attributes. List comprehensions are a very cool Python feature that allows for a loop iteration and a list creation in a single line."
   ]
  },
  {
   "cell_type": "code",
   "execution_count": 107,
   "metadata": {
    "collapsed": false
   },
   "outputs": [
    {
     "ename": "AttributeError",
     "evalue": "'NoneType' object has no attribute 'get'",
     "output_type": "error",
     "traceback": [
      "\u001b[0;31m---------------------------------------------------------------------------\u001b[0m",
      "\u001b[0;31mAttributeError\u001b[0m                            Traceback (most recent call last)",
      "\u001b[0;32m<ipython-input-107-5d8862d1620b>\u001b[0m in \u001b[0;36m<module>\u001b[0;34m()\u001b[0m\n\u001b[0;32m----> 1\u001b[0;31m \u001b[0;32mprint\u001b[0m \u001b[0msoup\u001b[0m\u001b[0;34m.\u001b[0m\u001b[0mtable\u001b[0m\u001b[0;34m.\u001b[0m\u001b[0mget\u001b[0m\u001b[0;34m(\u001b[0m\u001b[0;34m'class'\u001b[0m\u001b[0;34m)\u001b[0m\u001b[0;34m\u001b[0m\u001b[0m\n\u001b[0m",
      "\u001b[0;31mAttributeError\u001b[0m: 'NoneType' object has no attribute 'get'"
     ]
    }
   ],
   "source": [
    "print soup.table.get('class')"
   ]
  },
  {
   "cell_type": "code",
   "execution_count": 34,
   "metadata": {
    "collapsed": false
   },
   "outputs": [
    {
     "data": {
      "text/plain": [
       "[]"
      ]
     },
     "execution_count": 34,
     "metadata": {},
     "output_type": "execute_result"
    }
   ],
   "source": [
    "[t[\"class\"] for t in soup.find_all(\"table\") if t.get(\"class\") is not None]"
   ]
  },
  {
   "cell_type": "markdown",
   "metadata": {},
   "source": [
    "The list comprehension above is equivalent (but much more concise) to the following construct:"
   ]
  },
  {
   "cell_type": "code",
   "execution_count": 35,
   "metadata": {
    "collapsed": false
   },
   "outputs": [
    {
     "data": {
      "text/plain": [
       "[]"
      ]
     },
     "execution_count": 35,
     "metadata": {},
     "output_type": "execute_result"
    }
   ],
   "source": [
    "my_list = []\n",
    "for t in soup.find_all(\"table\"):\n",
    "    if t.get(\"class\"):\n",
    "        my_list.append(t[\"class\"])\n",
    "my_list"
   ]
  },
  {
   "cell_type": "markdown",
   "metadata": {},
   "source": [
    "As I mentioned, we will be using the Demographics table for this lab. The next cell contains the HTML elements of said table. We will render it in different parts of the notebook to make it easier to follow along the parsing steps."
   ]
  },
  {
   "cell_type": "code",
   "execution_count": 36,
   "metadata": {
    "collapsed": false
   },
   "outputs": [],
   "source": [
    "soup.find(\"table\", \"wikitable\")"
   ]
  },
  {
   "cell_type": "code",
   "execution_count": 37,
   "metadata": {
    "collapsed": false
   },
   "outputs": [],
   "source": [
    "table_html = soup.find(\"table\", \"wikitable\")"
   ]
  },
  {
   "cell_type": "code",
   "execution_count": 38,
   "metadata": {
    "collapsed": false
   },
   "outputs": [
    {
     "data": {
      "text/plain": [
       "'a'"
      ]
     },
     "execution_count": 38,
     "metadata": {},
     "output_type": "execute_result"
    }
   ],
   "source": [
    "\"a\""
   ]
  },
  {
   "cell_type": "code",
   "execution_count": 39,
   "metadata": {
    "collapsed": false
   },
   "outputs": [
    {
     "data": {
      "text/plain": [
       "'None'"
      ]
     },
     "execution_count": 39,
     "metadata": {},
     "output_type": "execute_result"
    }
   ],
   "source": [
    "str(table_html)"
   ]
  },
  {
   "cell_type": "code",
   "execution_count": 40,
   "metadata": {
    "collapsed": false
   },
   "outputs": [
    {
     "ename": "AttributeError",
     "evalue": "'NoneType' object has no attribute 'prettify'",
     "output_type": "error",
     "traceback": [
      "\u001b[0;31m---------------------------------------------------------------------------\u001b[0m",
      "\u001b[0;31mAttributeError\u001b[0m                            Traceback (most recent call last)",
      "\u001b[0;32m<ipython-input-40-db9ed1236532>\u001b[0m in \u001b[0;36m<module>\u001b[0;34m()\u001b[0m\n\u001b[1;32m      1\u001b[0m \u001b[0;32mfrom\u001b[0m \u001b[0mIPython\u001b[0m\u001b[0;34m.\u001b[0m\u001b[0mcore\u001b[0m\u001b[0;34m.\u001b[0m\u001b[0mdisplay\u001b[0m \u001b[0;32mimport\u001b[0m \u001b[0mHTML\u001b[0m\u001b[0;34m\u001b[0m\u001b[0m\n\u001b[1;32m      2\u001b[0m \u001b[0;34m\u001b[0m\u001b[0m\n\u001b[0;32m----> 3\u001b[0;31m \u001b[0mHTML\u001b[0m\u001b[0;34m(\u001b[0m\u001b[0mtable_html\u001b[0m\u001b[0;34m.\u001b[0m\u001b[0mprettify\u001b[0m\u001b[0;34m(\u001b[0m\u001b[0;34m)\u001b[0m\u001b[0;34m)\u001b[0m\u001b[0;34m\u001b[0m\u001b[0m\n\u001b[0m",
      "\u001b[0;31mAttributeError\u001b[0m: 'NoneType' object has no attribute 'prettify'"
     ]
    }
   ],
   "source": [
    "from IPython.core.display import HTML\n",
    "\n",
    "HTML(table_html.prettify())"
   ]
  },
  {
   "cell_type": "markdown",
   "metadata": {},
   "source": [
    "First we'll use a list comprehension to extract the rows (*tr*) elements."
   ]
  },
  {
   "cell_type": "code",
   "execution_count": 41,
   "metadata": {
    "collapsed": false
   },
   "outputs": [
    {
     "ename": "AttributeError",
     "evalue": "'NoneType' object has no attribute 'find_all'",
     "output_type": "error",
     "traceback": [
      "\u001b[0;31m---------------------------------------------------------------------------\u001b[0m",
      "\u001b[0;31mAttributeError\u001b[0m                            Traceback (most recent call last)",
      "\u001b[0;32m<ipython-input-41-382ed080165f>\u001b[0m in \u001b[0;36m<module>\u001b[0;34m()\u001b[0m\n\u001b[0;32m----> 1\u001b[0;31m \u001b[0msoup\u001b[0m\u001b[0;34m.\u001b[0m\u001b[0mfind\u001b[0m\u001b[0;34m(\u001b[0m\u001b[0;34m\"table\"\u001b[0m\u001b[0;34m,\u001b[0m \u001b[0;34m\"wikitable\"\u001b[0m\u001b[0;34m)\u001b[0m\u001b[0;34m.\u001b[0m\u001b[0mfind_all\u001b[0m\u001b[0;34m(\u001b[0m\u001b[0;34m\"tr\"\u001b[0m\u001b[0;34m)\u001b[0m\u001b[0;34m\u001b[0m\u001b[0m\n\u001b[0m",
      "\u001b[0;31mAttributeError\u001b[0m: 'NoneType' object has no attribute 'find_all'"
     ]
    }
   ],
   "source": [
    "soup.find(\"table\", \"wikitable\").find_all(\"tr\")"
   ]
  },
  {
   "cell_type": "code",
   "execution_count": 105,
   "metadata": {
    "collapsed": false,
    "scrolled": true
   },
   "outputs": [
    {
     "ename": "AttributeError",
     "evalue": "'NoneType' object has no attribute 'find_all'",
     "output_type": "error",
     "traceback": [
      "\u001b[0;31m---------------------------------------------------------------------------\u001b[0m",
      "\u001b[0;31mAttributeError\u001b[0m                            Traceback (most recent call last)",
      "\u001b[0;32m<ipython-input-105-84b1dc5f217c>\u001b[0m in \u001b[0;36m<module>\u001b[0;34m()\u001b[0m\n\u001b[0;32m----> 1\u001b[0;31m \u001b[0mrows\u001b[0m \u001b[0;34m=\u001b[0m \u001b[0;34m[\u001b[0m\u001b[0mrow\u001b[0m \u001b[0;32mfor\u001b[0m \u001b[0mrow\u001b[0m \u001b[0;32min\u001b[0m \u001b[0msoup\u001b[0m\u001b[0;34m.\u001b[0m\u001b[0mfind\u001b[0m\u001b[0;34m(\u001b[0m\u001b[0;34m\"table\"\u001b[0m\u001b[0;34m,\u001b[0m \u001b[0;34m\"wikitable\"\u001b[0m\u001b[0;34m)\u001b[0m\u001b[0;34m.\u001b[0m\u001b[0mfind_all\u001b[0m\u001b[0;34m(\u001b[0m\u001b[0;34m\"tr\"\u001b[0m\u001b[0;34m)\u001b[0m\u001b[0;34m]\u001b[0m\u001b[0;34m\u001b[0m\u001b[0m\n\u001b[0m\u001b[1;32m      2\u001b[0m \u001b[0mrows\u001b[0m\u001b[0;34m\u001b[0m\u001b[0m\n",
      "\u001b[0;31mAttributeError\u001b[0m: 'NoneType' object has no attribute 'find_all'"
     ]
    }
   ],
   "source": [
    "rows = [row for row in soup.find(\"table\", \"wikitable\").find_all(\"tr\")]\n",
    "rows"
   ]
  },
  {
   "cell_type": "markdown",
   "metadata": {},
   "source": [
    "---\n",
    "\n",
    "### lambda expressions\n",
    "\n",
    "We will then use a lambda expression to replace new line characters with spaces. Lambda expressions are to functions what list comprehensions are to lists: namely a more concise way to achieve the same thing.\n",
    "\n",
    "In reality, both lambda expressions and list comprehensions are a little different from their function and loop counterparts. But for the purposes of this class we can ignore those differences."
   ]
  },
  {
   "cell_type": "code",
   "execution_count": 43,
   "metadata": {
    "collapsed": true
   },
   "outputs": [],
   "source": [
    "# Lambda expressions return the value of the expression inside it.\n",
    "# In this case, it will return a string with new line characters replaced by spaces.\n",
    "rem_nl = lambda s: s.replace(\"\\n\", \" \")"
   ]
  },
  {
   "cell_type": "markdown",
   "metadata": {},
   "source": [
    "---\n",
    "\n",
    "### Functions\n",
    "\n",
    "Let's expand a little on functions... Python is very flexible when it comes to function declarations. We've seen the lambda expression, and you might already be familiar with the _normal_ function declaration:"
   ]
  },
  {
   "cell_type": "code",
   "execution_count": 44,
   "metadata": {
    "collapsed": false
   },
   "outputs": [
    {
     "data": {
      "text/plain": [
       "8"
      ]
     },
     "execution_count": 44,
     "metadata": {},
     "output_type": "execute_result"
    }
   ],
   "source": [
    "def power(x, y):\n",
    "    return x**y\n",
    "\n",
    "power(2, 3)"
   ]
  },
  {
   "cell_type": "markdown",
   "metadata": {},
   "source": [
    "But Python functions can also have no arguments (if you're old school you might call these `procedures`):"
   ]
  },
  {
   "cell_type": "code",
   "execution_count": 45,
   "metadata": {
    "collapsed": false
   },
   "outputs": [
    {
     "name": "stdout",
     "output_type": "stream",
     "text": [
      "Hello!\n"
     ]
    }
   ],
   "source": [
    "def print_greeting():\n",
    "    print \"Hello!\"\n",
    "    \n",
    "print_greeting()"
   ]
  },
  {
   "cell_type": "markdown",
   "metadata": {},
   "source": [
    "But Python also allows you to have default values for some parameters:"
   ]
  },
  {
   "cell_type": "code",
   "execution_count": 46,
   "metadata": {
    "collapsed": false
   },
   "outputs": [
    {
     "name": "stdout",
     "output_type": "stream",
     "text": [
      "With x and y:  20\n",
      "With x only:  10\n"
     ]
    }
   ],
   "source": [
    "# The function bellow can be called with x and y, in which case it will return x*y;\n",
    "# or it can be called with x only, in which case it will return x*1.\n",
    "def get_multiple(x, y=1):\n",
    "    return x*y\n",
    "\n",
    "print \"With x and y: \", get_multiple(10, 2)\n",
    "print \"With x only: \", get_multiple(10)"
   ]
  },
  {
   "cell_type": "markdown",
   "metadata": {},
   "source": [
    "Default values allow function definitions to be very flexible, and are used extensively on the libraries we'll be using. Also, note that the `x` value must be present, or the call will fail.\n",
    "\n",
    "Things start to get more interesting when we have multiple default values:"
   ]
  },
  {
   "cell_type": "code",
   "execution_count": 47,
   "metadata": {
    "collapsed": true
   },
   "outputs": [],
   "source": [
    "def print_special_greeting(name, leaving=False, condition=\"nice\"):\n",
    "    print \"Hi\", name\n",
    "    print \"How are you doing in this\", condition, \"day?\"\n",
    "    if leaving:\n",
    "        print \"Please come back!\""
   ]
  },
  {
   "cell_type": "markdown",
   "metadata": {},
   "source": [
    "We've seen that this can be called in a couple of different ways:"
   ]
  },
  {
   "cell_type": "code",
   "execution_count": 48,
   "metadata": {
    "collapsed": false
   },
   "outputs": [
    {
     "name": "stdout",
     "output_type": "stream",
     "text": [
      "Hi John\n",
      "How are you doing in this nice day?\n"
     ]
    }
   ],
   "source": [
    "# Use all the default values.\n",
    "print_special_greeting(\"John\")"
   ]
  },
  {
   "cell_type": "code",
   "execution_count": 49,
   "metadata": {
    "collapsed": false
   },
   "outputs": [
    {
     "name": "stdout",
     "output_type": "stream",
     "text": [
      "Hi John\n",
      "How are you doing in this rainy day?\n",
      "Please come back!\n"
     ]
    }
   ],
   "source": [
    "# Specify all values.\n",
    "print_special_greeting(\"John\", True, \"rainy\")"
   ]
  },
  {
   "cell_type": "code",
   "execution_count": 50,
   "metadata": {
    "collapsed": false
   },
   "outputs": [
    {
     "name": "stdout",
     "output_type": "stream",
     "text": [
      "Hi John\n",
      "How are you doing in this nice day?\n",
      "Please come back!\n"
     ]
    }
   ],
   "source": [
    "# Change only the first default value.\n",
    "print_special_greeting(\"John\", True)"
   ]
  },
  {
   "cell_type": "markdown",
   "metadata": {},
   "source": [
    "But what if you wanted to use the first default value but change the second? Named parameters to the rescue!"
   ]
  },
  {
   "cell_type": "code",
   "execution_count": 51,
   "metadata": {
    "collapsed": false
   },
   "outputs": [
    {
     "name": "stdout",
     "output_type": "stream",
     "text": [
      "Hi John\n",
      "How are you doing in this horrible day?\n"
     ]
    }
   ],
   "source": [
    "print_special_greeting(\"John\", condition=\"horrible\")"
   ]
  },
  {
   "cell_type": "markdown",
   "metadata": {},
   "source": [
    "This allows us to only change the default parameters that we want, and keep the rest. The functionality itself is called _named parameters_.\n",
    "\n",
    "There are two more, somewhat advanced, topics we will cover for functions. Arbitrary and keyword arguments allow for even more flexibility.\n",
    "\n",
    "Arbitrary arguments are used when you're not sure how many arguments your function will get (notice the single asterisk before the second argument name):"
   ]
  },
  {
   "cell_type": "code",
   "execution_count": 52,
   "metadata": {
    "collapsed": false
   },
   "outputs": [
    {
     "name": "stdout",
     "output_type": "stream",
     "text": [
      "John has the following siblings:\n",
      "Ashley\n",
      "Lauren\n",
      "Arthur\n",
      "\n",
      "Mike has the following siblings:\n",
      "John\n",
      "\n",
      "Terry has the following siblings:\n",
      "\n"
     ]
    }
   ],
   "source": [
    "def print_siblings(name, *siblings):\n",
    "    print name, \"has the following siblings:\"\n",
    "    for sibling in siblings:\n",
    "        print sibling\n",
    "    print\n",
    "        \n",
    "print_siblings(\"John\", \"Ashley\", \"Lauren\", \"Arthur\")\n",
    "print_siblings(\"Mike\", \"John\")\n",
    "print_siblings(\"Terry\")"
   ]
  },
  {
   "cell_type": "markdown",
   "metadata": {},
   "source": [
    "In the function above, any optional argument will go into a list called `siblings`. We can then process that list to extract the names.\n",
    "\n",
    "Keyword arguments mix the named argument and arbitrary properties (notice the double asterisks before the second argument name):"
   ]
  },
  {
   "cell_type": "code",
   "execution_count": 104,
   "metadata": {
    "collapsed": false
   },
   "outputs": [
    {
     "name": "stdout",
     "output_type": "stream",
     "text": [
      "John has the following siblings:\n",
      "Arthur : brother\n",
      "Lauren : sister\n",
      "Ashley : sister\n",
      "\n"
     ]
    }
   ],
   "source": [
    "def print_brothers_sisters(name, **siblings):\n",
    "    print name, \"has the following siblings:\"\n",
    "    for sibling in siblings:\n",
    "        print sibling, \":\", siblings[sibling]\n",
    "    print\n",
    "    \n",
    "print_brothers_sisters(\"John\", Ashley=\"sister\", Lauren=\"sister\", Arthur=\"brother\")"
   ]
  },
  {
   "cell_type": "markdown",
   "metadata": {},
   "source": [
    "Lastly, when putting all those things together one must follow a certain order:\n",
    "\n",
    "```\n",
    "def my_func(arg1, arg2, opt1=True, opt2=\"CS109\", *args, **kwargs):\n",
    "    ...\n",
    "```\n",
    "\n",
    "That was a lengthy interlude! Now let's get back to data science.\n",
    "\n",
    "---\n",
    "\n",
    "### Splitting the data\n",
    "\n",
    "Next we extract the text value of the columns. If you look at the table above, you'll see that we have three columns and six rows.\n",
    "\n",
    "Here we're taking the first element (Python indexes start at zero), iterating over the *th* elements inside it, and taking the text value of those elements. We should end up with a list of column names.\n",
    "\n",
    "But there is one little caveat: the first column of the table is actually an empty string (look at the cell right above the row names). We could add it to our list and then remove it afterwards; but instead we will use the `if` statement inside the list comprehension to filter that out.\n",
    "\n",
    "You should be familiar with `if` statements. They perform a Boolean test and an action if the test was successful. Python considers most values to be equivalent to True. The exceptions are False, None, 0, \"\" (empty string), []/{}/(,)... (empty containers). Here the `get_text` will return an empty string for the first cell of the table, which means that the test will fail and the value will not be added to the list."
   ]
  },
  {
   "cell_type": "code",
   "execution_count": 54,
   "metadata": {
    "collapsed": false
   },
   "outputs": [
    {
     "ename": "NameError",
     "evalue": "name 'rows' is not defined",
     "output_type": "error",
     "traceback": [
      "\u001b[0;31m---------------------------------------------------------------------------\u001b[0m",
      "\u001b[0;31mNameError\u001b[0m                                 Traceback (most recent call last)",
      "\u001b[0;32m<ipython-input-54-ec8650ff52a1>\u001b[0m in \u001b[0;36m<module>\u001b[0;34m()\u001b[0m\n\u001b[0;32m----> 1\u001b[0;31m \u001b[0mrows\u001b[0m\u001b[0;34m[\u001b[0m\u001b[0;36m0\u001b[0m\u001b[0;34m]\u001b[0m\u001b[0;34m\u001b[0m\u001b[0m\n\u001b[0m",
      "\u001b[0;31mNameError\u001b[0m: name 'rows' is not defined"
     ]
    }
   ],
   "source": [
    "rows[0]"
   ]
  },
  {
   "cell_type": "code",
   "execution_count": 103,
   "metadata": {
    "collapsed": false
   },
   "outputs": [
    {
     "ename": "NameError",
     "evalue": "name 'rows' is not defined",
     "output_type": "error",
     "traceback": [
      "\u001b[0;31m---------------------------------------------------------------------------\u001b[0m",
      "\u001b[0;31mNameError\u001b[0m                                 Traceback (most recent call last)",
      "\u001b[0;32m<ipython-input-103-16f348fdebb3>\u001b[0m in \u001b[0;36m<module>\u001b[0;34m()\u001b[0m\n\u001b[0;32m----> 1\u001b[0;31m \u001b[0mcolumns\u001b[0m \u001b[0;34m=\u001b[0m \u001b[0;34m[\u001b[0m\u001b[0mrem_nl\u001b[0m\u001b[0;34m(\u001b[0m\u001b[0mcol\u001b[0m\u001b[0;34m.\u001b[0m\u001b[0mget_text\u001b[0m\u001b[0;34m(\u001b[0m\u001b[0;34m)\u001b[0m\u001b[0;34m)\u001b[0m \u001b[0;32mfor\u001b[0m \u001b[0mcol\u001b[0m \u001b[0;32min\u001b[0m \u001b[0mrows\u001b[0m\u001b[0;34m[\u001b[0m\u001b[0;36m0\u001b[0m\u001b[0;34m]\u001b[0m\u001b[0;34m.\u001b[0m\u001b[0mfind_all\u001b[0m\u001b[0;34m(\u001b[0m\u001b[0;34m\"th\"\u001b[0m\u001b[0;34m)\u001b[0m \u001b[0;32mif\u001b[0m \u001b[0mcol\u001b[0m\u001b[0;34m.\u001b[0m\u001b[0mget_text\u001b[0m\u001b[0;34m(\u001b[0m\u001b[0;34m)\u001b[0m\u001b[0;34m]\u001b[0m\u001b[0;34m\u001b[0m\u001b[0m\n\u001b[0m\u001b[1;32m      2\u001b[0m \u001b[0mcolumns\u001b[0m\u001b[0;34m\u001b[0m\u001b[0m\n",
      "\u001b[0;31mNameError\u001b[0m: name 'rows' is not defined"
     ]
    }
   ],
   "source": [
    "columns = [rem_nl(col.get_text()) for col in rows[0].find_all(\"th\") if col.get_text()]\n",
    "columns"
   ]
  },
  {
   "cell_type": "markdown",
   "metadata": {},
   "source": [
    "Now let's do the same for the rows. Notice that since we have already parsed the header row, we will continue from the second row. The `[1:]` is a slice notation and in this case it means we want all values starting from the second position."
   ]
  },
  {
   "cell_type": "code",
   "execution_count": 56,
   "metadata": {
    "collapsed": false
   },
   "outputs": [
    {
     "ename": "NameError",
     "evalue": "name 'rows' is not defined",
     "output_type": "error",
     "traceback": [
      "\u001b[0;31m---------------------------------------------------------------------------\u001b[0m",
      "\u001b[0;31mNameError\u001b[0m                                 Traceback (most recent call last)",
      "\u001b[0;32m<ipython-input-56-011a413bb215>\u001b[0m in \u001b[0;36m<module>\u001b[0;34m()\u001b[0m\n\u001b[0;32m----> 1\u001b[0;31m \u001b[0mindexes\u001b[0m \u001b[0;34m=\u001b[0m \u001b[0;34m[\u001b[0m\u001b[0mrow\u001b[0m\u001b[0;34m.\u001b[0m\u001b[0mfind\u001b[0m\u001b[0;34m(\u001b[0m\u001b[0;34m\"th\"\u001b[0m\u001b[0;34m)\u001b[0m\u001b[0;34m.\u001b[0m\u001b[0mget_text\u001b[0m\u001b[0;34m(\u001b[0m\u001b[0;34m)\u001b[0m \u001b[0;32mfor\u001b[0m \u001b[0mrow\u001b[0m \u001b[0;32min\u001b[0m \u001b[0mrows\u001b[0m\u001b[0;34m[\u001b[0m\u001b[0;36m1\u001b[0m\u001b[0;34m:\u001b[0m\u001b[0;34m]\u001b[0m\u001b[0;34m]\u001b[0m\u001b[0;34m\u001b[0m\u001b[0m\n\u001b[0m\u001b[1;32m      2\u001b[0m \u001b[0mindexes\u001b[0m\u001b[0;34m\u001b[0m\u001b[0m\n",
      "\u001b[0;31mNameError\u001b[0m: name 'rows' is not defined"
     ]
    }
   ],
   "source": [
    "indexes = [row.find(\"th\").get_text() for row in rows[1:]]\n",
    "indexes"
   ]
  },
  {
   "cell_type": "code",
   "execution_count": 57,
   "metadata": {
    "collapsed": false
   },
   "outputs": [],
   "source": [
    "soup.find(\"table\", \"wikitable\")"
   ]
  },
  {
   "cell_type": "code",
   "execution_count": 58,
   "metadata": {
    "collapsed": false
   },
   "outputs": [
    {
     "data": {
      "text/plain": [
       "<IPython.core.display.HTML object>"
      ]
     },
     "execution_count": 58,
     "metadata": {},
     "output_type": "execute_result"
    }
   ],
   "source": [
    "# Here's the original HTML table.\n",
    "HTML(table_html)"
   ]
  },
  {
   "cell_type": "markdown",
   "metadata": {},
   "source": [
    "Here we have another lambda expression that transforms the string on the cells to integers. We start by checking if the last character of the string (Python allows for negative indexes) is a percent sign. If that is true, then we convert the characters before the sign to integers. Lastly, if one of the prior checks fails, we return a value of None.\n",
    "\n",
    "This is a very common pattern in Python, and it works for two reasons: Python's `and` and `or` are \"short-circuit\" operators. This means that if the first element of an `and` statement evaluates to False, the second one is never computed (which in this case would be a problem since we can't convert a non-digit string to an integer). The `or` statement works the other way: if the first element evaluates to True, the second is never computed.\n",
    "\n",
    "The second reason this works is because these operators will return the value of the last expression that was evaluated, which is this case will be either the integer value or the value `None`.\n",
    "\n",
    "One last thing to notice: Python slices are open on the upper bound. So the `[:-1]` construct will return all elements of the string, except for the last."
   ]
  },
  {
   "cell_type": "code",
   "execution_count": 59,
   "metadata": {
    "collapsed": true
   },
   "outputs": [],
   "source": [
    "to_num = lambda s: s[-1] == \"%\" and int(s[:-1]) or None"
   ]
  },
  {
   "cell_type": "markdown",
   "metadata": {},
   "source": [
    "Now we use the lambda expression to parse the table values.\n",
    "\n",
    "Notice that we have two `for ... in ...` in this list comprehension. That is perfectly valid and somewhat common. Although there is no real limit to how many iterations you can perform at once, having more than two can be visually unpleasant, at which point regular nested loops might be a better solution."
   ]
  },
  {
   "cell_type": "code",
   "execution_count": 60,
   "metadata": {
    "collapsed": false
   },
   "outputs": [
    {
     "data": {
      "text/html": [
       "<tr>fdafas\n",
       "<th>fdfdfd</th>\n",
       "<th>Undergraduate</th>\n",
       "<th>Graduate<br/>\n",
       "and Professional</th>\n",
       "<th>U.S. Census</th>\n",
       "</tr>"
      ],
      "text/plain": [
       "<IPython.core.display.HTML object>"
      ]
     },
     "execution_count": 60,
     "metadata": {},
     "output_type": "execute_result"
    }
   ],
   "source": [
    "HTML('<tr>fdafas\\n<th>fdfdfd</th>\\n<th>Undergraduate</th>\\n<th>Graduate<br/>\\nand Professional</th>\\n<th>U.S. Census</th>\\n</tr>')"
   ]
  },
  {
   "cell_type": "code",
   "execution_count": 61,
   "metadata": {
    "collapsed": false
   },
   "outputs": [
    {
     "ename": "AttributeError",
     "evalue": "'NoneType' object has no attribute 'tr'",
     "output_type": "error",
     "traceback": [
      "\u001b[0;31m---------------------------------------------------------------------------\u001b[0m",
      "\u001b[0;31mAttributeError\u001b[0m                            Traceback (most recent call last)",
      "\u001b[0;32m<ipython-input-61-5eb71ebb40cf>\u001b[0m in \u001b[0;36m<module>\u001b[0;34m()\u001b[0m\n\u001b[0;32m----> 1\u001b[0;31m \u001b[0msoup\u001b[0m\u001b[0;34m.\u001b[0m\u001b[0mfind\u001b[0m\u001b[0;34m(\u001b[0m\u001b[0;34m\"table\"\u001b[0m\u001b[0;34m,\u001b[0m \u001b[0;34m\"wikitable\"\u001b[0m\u001b[0;34m)\u001b[0m\u001b[0;34m.\u001b[0m\u001b[0mtr\u001b[0m\u001b[0;34m.\u001b[0m\u001b[0mget_text\u001b[0m\u001b[0;34m(\u001b[0m\u001b[0;34m)\u001b[0m\u001b[0;34m\u001b[0m\u001b[0m\n\u001b[0m",
      "\u001b[0;31mAttributeError\u001b[0m: 'NoneType' object has no attribute 'tr'"
     ]
    }
   ],
   "source": [
    "soup.find(\"table\", \"wikitable\").tr.get_text()"
   ]
  },
  {
   "cell_type": "code",
   "execution_count": 62,
   "metadata": {
    "collapsed": false
   },
   "outputs": [
    {
     "ename": "AttributeError",
     "evalue": "'NoneType' object has no attribute 'tr'",
     "output_type": "error",
     "traceback": [
      "\u001b[0;31m---------------------------------------------------------------------------\u001b[0m",
      "\u001b[0;31mAttributeError\u001b[0m                            Traceback (most recent call last)",
      "\u001b[0;32m<ipython-input-62-651fec83e1a9>\u001b[0m in \u001b[0;36m<module>\u001b[0;34m()\u001b[0m\n\u001b[0;32m----> 1\u001b[0;31m \u001b[0mHTML\u001b[0m\u001b[0;34m(\u001b[0m\u001b[0mstr\u001b[0m\u001b[0;34m(\u001b[0m\u001b[0msoup\u001b[0m\u001b[0;34m.\u001b[0m\u001b[0mfind\u001b[0m\u001b[0;34m(\u001b[0m\u001b[0;34m\"table\"\u001b[0m\u001b[0;34m,\u001b[0m \u001b[0;34m\"wikitable\"\u001b[0m\u001b[0;34m)\u001b[0m\u001b[0;34m.\u001b[0m\u001b[0mtr\u001b[0m\u001b[0;34m)\u001b[0m\u001b[0;34m)\u001b[0m\u001b[0;34m\u001b[0m\u001b[0m\n\u001b[0m",
      "\u001b[0;31mAttributeError\u001b[0m: 'NoneType' object has no attribute 'tr'"
     ]
    }
   ],
   "source": [
    "HTML(str(soup.find(\"table\", \"wikitable\").tr))"
   ]
  },
  {
   "cell_type": "code",
   "execution_count": 63,
   "metadata": {
    "collapsed": false
   },
   "outputs": [
    {
     "ename": "NameError",
     "evalue": "name 'rows' is not defined",
     "output_type": "error",
     "traceback": [
      "\u001b[0;31m---------------------------------------------------------------------------\u001b[0m",
      "\u001b[0;31mNameError\u001b[0m                                 Traceback (most recent call last)",
      "\u001b[0;32m<ipython-input-63-4f124be57b55>\u001b[0m in \u001b[0;36m<module>\u001b[0;34m()\u001b[0m\n\u001b[0;32m----> 1\u001b[0;31m \u001b[0mvalues\u001b[0m \u001b[0;34m=\u001b[0m \u001b[0;34m[\u001b[0m\u001b[0mto_num\u001b[0m\u001b[0;34m(\u001b[0m\u001b[0mvalue\u001b[0m\u001b[0;34m.\u001b[0m\u001b[0mget_text\u001b[0m\u001b[0;34m(\u001b[0m\u001b[0;34m)\u001b[0m\u001b[0;34m)\u001b[0m \u001b[0;32mfor\u001b[0m \u001b[0mrow\u001b[0m \u001b[0;32min\u001b[0m \u001b[0mrows\u001b[0m\u001b[0;34m[\u001b[0m\u001b[0;36m1\u001b[0m\u001b[0;34m:\u001b[0m\u001b[0;34m]\u001b[0m \u001b[0;32mfor\u001b[0m \u001b[0mvalue\u001b[0m \u001b[0;32min\u001b[0m \u001b[0mrow\u001b[0m\u001b[0;34m.\u001b[0m\u001b[0mfind_all\u001b[0m\u001b[0;34m(\u001b[0m\u001b[0;34m\"td\"\u001b[0m\u001b[0;34m)\u001b[0m\u001b[0;34m]\u001b[0m\u001b[0;34m\u001b[0m\u001b[0m\n\u001b[0m\u001b[1;32m      2\u001b[0m \u001b[0mvalues\u001b[0m\u001b[0;34m\u001b[0m\u001b[0m\n",
      "\u001b[0;31mNameError\u001b[0m: name 'rows' is not defined"
     ]
    }
   ],
   "source": [
    "values = [to_num(value.get_text()) for row in rows[1:] for value in row.find_all(\"td\")]\n",
    "values"
   ]
  },
  {
   "cell_type": "markdown",
   "metadata": {},
   "source": [
    "The problem with the list above is that the values lost their grouping.\n",
    "\n",
    "The `zip` function is used to combine two sequences element wise. So `zip([1,2,3], [4,5,6])` would return `[(1, 4), (2, 5), (3, 6)]`.\n",
    "\n",
    "This is the first time we see a container bounded by parenthesis. This is a tuple, which you can think of as an immutable list (meaning you can't add, remove, or change elements from it). Otherwise they work just like lists and can be indexed, sliced, etc."
   ]
  },
  {
   "cell_type": "code",
   "execution_count": 64,
   "metadata": {
    "collapsed": false
   },
   "outputs": [
    {
     "ename": "NameError",
     "evalue": "name 'columns' is not defined",
     "output_type": "error",
     "traceback": [
      "\u001b[0;31m---------------------------------------------------------------------------\u001b[0m",
      "\u001b[0;31mNameError\u001b[0m                                 Traceback (most recent call last)",
      "\u001b[0;32m<ipython-input-64-8c96cfab2191>\u001b[0m in \u001b[0;36m<module>\u001b[0;34m()\u001b[0m\n\u001b[0;32m----> 1\u001b[0;31m \u001b[0mstacked_values\u001b[0m \u001b[0;34m=\u001b[0m \u001b[0mzip\u001b[0m\u001b[0;34m(\u001b[0m\u001b[0;34m*\u001b[0m\u001b[0;34m[\u001b[0m\u001b[0mvalues\u001b[0m\u001b[0;34m[\u001b[0m\u001b[0mi\u001b[0m\u001b[0;34m:\u001b[0m\u001b[0;34m:\u001b[0m\u001b[0;36m3\u001b[0m\u001b[0;34m]\u001b[0m \u001b[0;32mfor\u001b[0m \u001b[0mi\u001b[0m \u001b[0;32min\u001b[0m \u001b[0mrange\u001b[0m\u001b[0;34m(\u001b[0m\u001b[0mlen\u001b[0m\u001b[0;34m(\u001b[0m\u001b[0mcolumns\u001b[0m\u001b[0;34m)\u001b[0m\u001b[0;34m)\u001b[0m\u001b[0;34m]\u001b[0m\u001b[0;34m)\u001b[0m\u001b[0;34m\u001b[0m\u001b[0m\n\u001b[0m\u001b[1;32m      2\u001b[0m \u001b[0mstacked_values\u001b[0m\u001b[0;34m\u001b[0m\u001b[0m\n",
      "\u001b[0;31mNameError\u001b[0m: name 'columns' is not defined"
     ]
    }
   ],
   "source": [
    "stacked_values = zip(*[values[i::3] for i in range(len(columns))])\n",
    "stacked_values"
   ]
  },
  {
   "cell_type": "code",
   "execution_count": 65,
   "metadata": {
    "collapsed": false
   },
   "outputs": [
    {
     "data": {
      "text/plain": [
       "<IPython.core.display.HTML object>"
      ]
     },
     "execution_count": 65,
     "metadata": {},
     "output_type": "execute_result"
    }
   ],
   "source": [
    "# Here's the original HTML table.\n",
    "HTML(table_html)"
   ]
  },
  {
   "cell_type": "markdown",
   "metadata": {},
   "source": [
    "---\n",
    "\n",
    "### Exploding parameters\n",
    "\n",
    "The asterisk before the list comprehension is used to _explode_ the list. Take a look at the function calls bellow:"
   ]
  },
  {
   "cell_type": "code",
   "execution_count": 66,
   "metadata": {
    "collapsed": false
   },
   "outputs": [
    {
     "name": "stdout",
     "output_type": "stream",
     "text": [
      "1 2 3\n",
      "[1, 10] [2, 20] [3, 30]\n"
     ]
    }
   ],
   "source": [
    "def print_args(arg1, arg2, arg3):\n",
    "    print arg1, arg2, arg3\n",
    "\n",
    "# Print three numbers.\n",
    "print_args(1, 2, 3)\n",
    "\n",
    "# Print three lists.\n",
    "print_args([1, 10], [2, 20], [3, 30])"
   ]
  },
  {
   "cell_type": "markdown",
   "metadata": {},
   "source": [
    "But sometimes we have a container holding our parameters. Here's the hard way to handle this:"
   ]
  },
  {
   "cell_type": "code",
   "execution_count": 67,
   "metadata": {
    "collapsed": false
   },
   "outputs": [
    {
     "name": "stdout",
     "output_type": "stream",
     "text": [
      "100 200 300\n"
     ]
    }
   ],
   "source": [
    "parameters = [100, 200, 300]\n",
    "\n",
    "p1 = parameters[0]\n",
    "p2 = parameters[1]\n",
    "p3 = parameters[2]\n",
    "\n",
    "print_args(p1, p2, p3)"
   ]
  },
  {
   "cell_type": "markdown",
   "metadata": {},
   "source": [
    "A slightly better way to handle this is to use the unpacking functionality. We can assign values from a container directly to variables using the syntax bellow (note that the container can have more values than there are variables, but not the other way around):"
   ]
  },
  {
   "cell_type": "code",
   "execution_count": 68,
   "metadata": {
    "collapsed": false
   },
   "outputs": [
    {
     "name": "stdout",
     "output_type": "stream",
     "text": [
      "100 200 300\n"
     ]
    }
   ],
   "source": [
    "p4, p5, p6 = parameters\n",
    "\n",
    "print_args(p4, p5, p6)"
   ]
  },
  {
   "cell_type": "markdown",
   "metadata": {},
   "source": [
    "But the best way to handle these situations is to _explode_ the list by placing an asterisk before it:"
   ]
  },
  {
   "cell_type": "code",
   "execution_count": 69,
   "metadata": {
    "collapsed": false
   },
   "outputs": [
    {
     "name": "stdout",
     "output_type": "stream",
     "text": [
      "100 200 300\n"
     ]
    }
   ],
   "source": [
    "print_args(*parameters)"
   ]
  },
  {
   "cell_type": "markdown",
   "metadata": {},
   "source": [
    "Notice that this has the opposite effect of when we used it during the function definition. There the asterisk packed the optional arguments into a list; here it unpacked the list into individual arguments.\n",
    "\n",
    "---\n",
    "\n",
    "### Dictionary comprehension\n",
    "\n",
    "By the way, Python has another _comprehension_ that will be useful in the future: the `dictionary comprehension`. The syntax if very similar to the `list comprehension`, but we use curly instead of square brackets, and we must define both the key and value ofr each iteration.\n",
    "\n",
    "An example is in order:"
   ]
  },
  {
   "cell_type": "code",
   "execution_count": 70,
   "metadata": {
    "collapsed": false
   },
   "outputs": [
    {
     "ename": "NameError",
     "evalue": "name 'indexes' is not defined",
     "output_type": "error",
     "traceback": [
      "\u001b[0;31m---------------------------------------------------------------------------\u001b[0m",
      "\u001b[0;31mNameError\u001b[0m                                 Traceback (most recent call last)",
      "\u001b[0;32m<ipython-input-70-cd8222d44947>\u001b[0m in \u001b[0;36m<module>\u001b[0;34m()\u001b[0m\n\u001b[0;32m----> 1\u001b[0;31m \u001b[0;34m{\u001b[0m\u001b[0mind\u001b[0m\u001b[0;34m:\u001b[0m \u001b[0mvalue\u001b[0m \u001b[0;32mfor\u001b[0m \u001b[0mind\u001b[0m\u001b[0;34m,\u001b[0m \u001b[0mvalue\u001b[0m \u001b[0;32min\u001b[0m \u001b[0mzip\u001b[0m\u001b[0;34m(\u001b[0m\u001b[0mindexes\u001b[0m\u001b[0;34m,\u001b[0m \u001b[0mstacked_values\u001b[0m\u001b[0;34m)\u001b[0m\u001b[0;34m}\u001b[0m\u001b[0;34m\u001b[0m\u001b[0m\n\u001b[0m",
      "\u001b[0;31mNameError\u001b[0m: name 'indexes' is not defined"
     ]
    }
   ],
   "source": [
    "{ind: value for ind, value in zip(indexes, stacked_values)}"
   ]
  },
  {
   "cell_type": "markdown",
   "metadata": {},
   "source": [
    "---\n",
    "\n",
    "## Pandas data structures\n",
    "\n",
    "### DataFrames\n",
    "\n",
    "To recap, we now have three data structures holding our column names, our row (index) names, and our values grouped by index.\n",
    "\n",
    "We will now load this data into a Pandas DataFrame. The loading process is pretty straightforward, and all we need to do is tell Pandas which container goes where."
   ]
  },
  {
   "cell_type": "code",
   "execution_count": 71,
   "metadata": {
    "collapsed": false
   },
   "outputs": [],
   "source": [
    "import pandas as pd"
   ]
  },
  {
   "cell_type": "code",
   "execution_count": 72,
   "metadata": {
    "collapsed": false
   },
   "outputs": [
    {
     "ename": "NameError",
     "evalue": "name 'stacked_values' is not defined",
     "output_type": "error",
     "traceback": [
      "\u001b[0;31m---------------------------------------------------------------------------\u001b[0m",
      "\u001b[0;31mNameError\u001b[0m                                 Traceback (most recent call last)",
      "\u001b[0;32m<ipython-input-72-f2bdf632f892>\u001b[0m in \u001b[0;36m<module>\u001b[0;34m()\u001b[0m\n\u001b[0;32m----> 1\u001b[0;31m \u001b[0mdf\u001b[0m \u001b[0;34m=\u001b[0m \u001b[0mpd\u001b[0m\u001b[0;34m.\u001b[0m\u001b[0mDataFrame\u001b[0m\u001b[0;34m(\u001b[0m\u001b[0mstacked_values\u001b[0m\u001b[0;34m,\u001b[0m \u001b[0mcolumns\u001b[0m\u001b[0;34m=\u001b[0m\u001b[0mcolumns\u001b[0m\u001b[0;34m,\u001b[0m \u001b[0mindex\u001b[0m\u001b[0;34m=\u001b[0m\u001b[0mindexes\u001b[0m\u001b[0;34m)\u001b[0m\u001b[0;34m\u001b[0m\u001b[0m\n\u001b[0m\u001b[1;32m      2\u001b[0m \u001b[0mdf\u001b[0m\u001b[0;34m\u001b[0m\u001b[0m\n",
      "\u001b[0;31mNameError\u001b[0m: name 'stacked_values' is not defined"
     ]
    }
   ],
   "source": [
    "df = pd.DataFrame(stacked_values, columns=columns, index=indexes)\n",
    "df"
   ]
  },
  {
   "cell_type": "code",
   "execution_count": null,
   "metadata": {
    "collapsed": false
   },
   "outputs": [],
   "source": [
    "# Here's the original HTML table.\n",
    "HTML(table_html)"
   ]
  },
  {
   "cell_type": "markdown",
   "metadata": {},
   "source": [
    "---\n",
    "\n",
    "#### Other ways to create the DataFrame\n",
    "\n",
    "That was one of many ways to construct a dataframe. Here is another that uses a list of dictionaries:\n",
    "\n",
    "First we combine the list and dictionary comprehensions to get a list of dictionaries representing each row in the data."
   ]
  },
  {
   "cell_type": "code",
   "execution_count": 73,
   "metadata": {
    "collapsed": false
   },
   "outputs": [
    {
     "ename": "NameError",
     "evalue": "name 'stacked_values' is not defined",
     "output_type": "error",
     "traceback": [
      "\u001b[0;31m---------------------------------------------------------------------------\u001b[0m",
      "\u001b[0;31mNameError\u001b[0m                                 Traceback (most recent call last)",
      "\u001b[0;32m<ipython-input-73-9c5ad1591feb>\u001b[0m in \u001b[0;36m<module>\u001b[0;34m()\u001b[0m\n\u001b[0;32m----> 1\u001b[0;31m \u001b[0mdata_dicts\u001b[0m \u001b[0;34m=\u001b[0m \u001b[0;34m[\u001b[0m\u001b[0;34m{\u001b[0m\u001b[0mcol\u001b[0m\u001b[0;34m:\u001b[0m \u001b[0mval\u001b[0m \u001b[0;32mfor\u001b[0m \u001b[0mcol\u001b[0m\u001b[0;34m,\u001b[0m \u001b[0mval\u001b[0m \u001b[0;32min\u001b[0m \u001b[0mzip\u001b[0m\u001b[0;34m(\u001b[0m\u001b[0mcolumns\u001b[0m\u001b[0;34m,\u001b[0m \u001b[0mcol_values\u001b[0m\u001b[0;34m)\u001b[0m\u001b[0;34m}\u001b[0m \u001b[0;32mfor\u001b[0m \u001b[0mcol_values\u001b[0m \u001b[0;32min\u001b[0m \u001b[0mstacked_values\u001b[0m\u001b[0;34m]\u001b[0m\u001b[0;34m\u001b[0m\u001b[0m\n\u001b[0m\u001b[1;32m      2\u001b[0m \u001b[0mdata_dicts\u001b[0m\u001b[0;34m\u001b[0m\u001b[0m\n",
      "\u001b[0;31mNameError\u001b[0m: name 'stacked_values' is not defined"
     ]
    }
   ],
   "source": [
    "data_dicts = [{col: val for col, val in zip(columns, col_values)} for col_values in stacked_values]\n",
    "data_dicts"
   ]
  },
  {
   "cell_type": "code",
   "execution_count": 74,
   "metadata": {
    "collapsed": false
   },
   "outputs": [
    {
     "ename": "NameError",
     "evalue": "name 'data_dicts' is not defined",
     "output_type": "error",
     "traceback": [
      "\u001b[0;31m---------------------------------------------------------------------------\u001b[0m",
      "\u001b[0;31mNameError\u001b[0m                                 Traceback (most recent call last)",
      "\u001b[0;32m<ipython-input-74-0910f8388de2>\u001b[0m in \u001b[0;36m<module>\u001b[0;34m()\u001b[0m\n\u001b[0;32m----> 1\u001b[0;31m \u001b[0mpd\u001b[0m\u001b[0;34m.\u001b[0m\u001b[0mDataFrame\u001b[0m\u001b[0;34m(\u001b[0m\u001b[0mdata_dicts\u001b[0m\u001b[0;34m,\u001b[0m \u001b[0mindex\u001b[0m\u001b[0;34m=\u001b[0m\u001b[0mindexes\u001b[0m\u001b[0;34m)\u001b[0m\u001b[0;34m\u001b[0m\u001b[0m\n\u001b[0m",
      "\u001b[0;31mNameError\u001b[0m: name 'data_dicts' is not defined"
     ]
    }
   ],
   "source": [
    "pd.DataFrame(data_dicts, index=indexes)"
   ]
  },
  {
   "cell_type": "markdown",
   "metadata": {},
   "source": [
    "And yet another that uses a dictionary of lists:\n",
    "\n",
    "To achieve this we group the values columnwise..."
   ]
  },
  {
   "cell_type": "code",
   "execution_count": 75,
   "metadata": {
    "collapsed": false
   },
   "outputs": [
    {
     "ename": "NameError",
     "evalue": "name 'columns' is not defined",
     "output_type": "error",
     "traceback": [
      "\u001b[0;31m---------------------------------------------------------------------------\u001b[0m",
      "\u001b[0;31mNameError\u001b[0m                                 Traceback (most recent call last)",
      "\u001b[0;32m<ipython-input-75-404b2c13d03a>\u001b[0m in \u001b[0;36m<module>\u001b[0;34m()\u001b[0m\n\u001b[0;32m----> 1\u001b[0;31m \u001b[0mstacked_by_col\u001b[0m \u001b[0;34m=\u001b[0m \u001b[0;34m[\u001b[0m\u001b[0mvalues\u001b[0m\u001b[0;34m[\u001b[0m\u001b[0mi\u001b[0m\u001b[0;34m:\u001b[0m\u001b[0;34m:\u001b[0m\u001b[0;36m3\u001b[0m\u001b[0;34m]\u001b[0m \u001b[0;32mfor\u001b[0m \u001b[0mi\u001b[0m \u001b[0;32min\u001b[0m \u001b[0mrange\u001b[0m\u001b[0;34m(\u001b[0m\u001b[0mlen\u001b[0m\u001b[0;34m(\u001b[0m\u001b[0mcolumns\u001b[0m\u001b[0;34m)\u001b[0m\u001b[0;34m)\u001b[0m\u001b[0;34m]\u001b[0m\u001b[0;34m\u001b[0m\u001b[0m\n\u001b[0m\u001b[1;32m      2\u001b[0m \u001b[0mstacked_by_col\u001b[0m\u001b[0;34m\u001b[0m\u001b[0m\n",
      "\u001b[0;31mNameError\u001b[0m: name 'columns' is not defined"
     ]
    }
   ],
   "source": [
    "stacked_by_col = [values[i::3] for i in range(len(columns))]\n",
    "stacked_by_col"
   ]
  },
  {
   "cell_type": "markdown",
   "metadata": {},
   "source": [
    "and then revert the pattern we used to create a list of dictionaries."
   ]
  },
  {
   "cell_type": "code",
   "execution_count": 102,
   "metadata": {
    "collapsed": false
   },
   "outputs": [
    {
     "ename": "NameError",
     "evalue": "name 'columns' is not defined",
     "output_type": "error",
     "traceback": [
      "\u001b[0;31m---------------------------------------------------------------------------\u001b[0m",
      "\u001b[0;31mNameError\u001b[0m                                 Traceback (most recent call last)",
      "\u001b[0;32m<ipython-input-102-ff041db3888b>\u001b[0m in \u001b[0;36m<module>\u001b[0;34m()\u001b[0m\n\u001b[0;32m----> 1\u001b[0;31m \u001b[0mdata_lists\u001b[0m \u001b[0;34m=\u001b[0m \u001b[0;34m{\u001b[0m\u001b[0mcol\u001b[0m\u001b[0;34m:\u001b[0m \u001b[0mval\u001b[0m \u001b[0;32mfor\u001b[0m \u001b[0mcol\u001b[0m\u001b[0;34m,\u001b[0m \u001b[0mval\u001b[0m \u001b[0;32min\u001b[0m \u001b[0mzip\u001b[0m\u001b[0;34m(\u001b[0m\u001b[0mcolumns\u001b[0m\u001b[0;34m,\u001b[0m \u001b[0mstacked_by_col\u001b[0m\u001b[0;34m)\u001b[0m\u001b[0;34m}\u001b[0m\u001b[0;34m\u001b[0m\u001b[0m\n\u001b[0m\u001b[1;32m      2\u001b[0m \u001b[0mdata_lists\u001b[0m\u001b[0;34m\u001b[0m\u001b[0m\n",
      "\u001b[0;31mNameError\u001b[0m: name 'columns' is not defined"
     ]
    }
   ],
   "source": [
    "data_lists = {col: val for col, val in zip(columns, stacked_by_col)}\n",
    "data_lists"
   ]
  },
  {
   "cell_type": "code",
   "execution_count": 101,
   "metadata": {
    "collapsed": false
   },
   "outputs": [
    {
     "ename": "NameError",
     "evalue": "name 'data_lists' is not defined",
     "output_type": "error",
     "traceback": [
      "\u001b[0;31m---------------------------------------------------------------------------\u001b[0m",
      "\u001b[0;31mNameError\u001b[0m                                 Traceback (most recent call last)",
      "\u001b[0;32m<ipython-input-101-97677a5dc07a>\u001b[0m in \u001b[0;36m<module>\u001b[0;34m()\u001b[0m\n\u001b[0;32m----> 1\u001b[0;31m \u001b[0mpd\u001b[0m\u001b[0;34m.\u001b[0m\u001b[0mDataFrame\u001b[0m\u001b[0;34m(\u001b[0m\u001b[0mdata_lists\u001b[0m\u001b[0;34m,\u001b[0m \u001b[0mindex\u001b[0m\u001b[0;34m=\u001b[0m\u001b[0mindexes\u001b[0m\u001b[0;34m)\u001b[0m\u001b[0;34m\u001b[0m\u001b[0m\n\u001b[0m",
      "\u001b[0;31mNameError\u001b[0m: name 'data_lists' is not defined"
     ]
    }
   ],
   "source": [
    "pd.DataFrame(data_lists, index=indexes)"
   ]
  },
  {
   "cell_type": "markdown",
   "metadata": {},
   "source": [
    "---\n",
    "\n",
    "### DataFrame cleanup\n",
    "\n",
    "Our DataFrame looks nice; but does it have the right data types?"
   ]
  },
  {
   "cell_type": "code",
   "execution_count": 78,
   "metadata": {
    "collapsed": false
   },
   "outputs": [
    {
     "ename": "NameError",
     "evalue": "name 'df' is not defined",
     "output_type": "error",
     "traceback": [
      "\u001b[0;31m---------------------------------------------------------------------------\u001b[0m",
      "\u001b[0;31mNameError\u001b[0m                                 Traceback (most recent call last)",
      "\u001b[0;32m<ipython-input-78-95faa30ac5cd>\u001b[0m in \u001b[0;36m<module>\u001b[0;34m()\u001b[0m\n\u001b[0;32m----> 1\u001b[0;31m \u001b[0mdf\u001b[0m\u001b[0;34m.\u001b[0m\u001b[0mdtypes\u001b[0m\u001b[0;34m\u001b[0m\u001b[0m\n\u001b[0m",
      "\u001b[0;31mNameError\u001b[0m: name 'df' is not defined"
     ]
    }
   ],
   "source": [
    "df.dtypes"
   ]
  },
  {
   "cell_type": "markdown",
   "metadata": {},
   "source": [
    "The `U.S Census` looks a little strange. It should have been evaluated as an integer, but instead it came in as a float. It probably has something to do with the `NaN` value...\n",
    "\n",
    "In fact, missing values can mess up a lot of our calculations, and some function don't work at all when `NaN` are present. So we should probably clean this up.\n",
    "\n",
    "One way to do that is by dropping the rows that have missing values:"
   ]
  },
  {
   "cell_type": "code",
   "execution_count": 79,
   "metadata": {
    "collapsed": false
   },
   "outputs": [
    {
     "ename": "NameError",
     "evalue": "name 'df' is not defined",
     "output_type": "error",
     "traceback": [
      "\u001b[0;31m---------------------------------------------------------------------------\u001b[0m",
      "\u001b[0;31mNameError\u001b[0m                                 Traceback (most recent call last)",
      "\u001b[0;32m<ipython-input-79-6f7575205403>\u001b[0m in \u001b[0;36m<module>\u001b[0;34m()\u001b[0m\n\u001b[0;32m----> 1\u001b[0;31m \u001b[0mdf\u001b[0m\u001b[0;34m.\u001b[0m\u001b[0mdropna\u001b[0m\u001b[0;34m(\u001b[0m\u001b[0;34m)\u001b[0m\u001b[0;34m\u001b[0m\u001b[0m\n\u001b[0m",
      "\u001b[0;31mNameError\u001b[0m: name 'df' is not defined"
     ]
    }
   ],
   "source": [
    "df.dropna()"
   ]
  },
  {
   "cell_type": "markdown",
   "metadata": {},
   "source": [
    "Or the columns that have missing values:"
   ]
  },
  {
   "cell_type": "code",
   "execution_count": 80,
   "metadata": {
    "collapsed": false
   },
   "outputs": [
    {
     "ename": "NameError",
     "evalue": "name 'df' is not defined",
     "output_type": "error",
     "traceback": [
      "\u001b[0;31m---------------------------------------------------------------------------\u001b[0m",
      "\u001b[0;31mNameError\u001b[0m                                 Traceback (most recent call last)",
      "\u001b[0;32m<ipython-input-80-fdb860685ec6>\u001b[0m in \u001b[0;36m<module>\u001b[0;34m()\u001b[0m\n\u001b[0;32m----> 1\u001b[0;31m \u001b[0mdf\u001b[0m\u001b[0;34m.\u001b[0m\u001b[0mdropna\u001b[0m\u001b[0;34m(\u001b[0m\u001b[0maxis\u001b[0m\u001b[0;34m=\u001b[0m\u001b[0;36m1\u001b[0m\u001b[0;34m)\u001b[0m\u001b[0;34m\u001b[0m\u001b[0m\n\u001b[0m",
      "\u001b[0;31mNameError\u001b[0m: name 'df' is not defined"
     ]
    }
   ],
   "source": [
    "df.dropna(axis=1)"
   ]
  },
  {
   "cell_type": "markdown",
   "metadata": {},
   "source": [
    "But we will take a less radical approach and replace the missing value with a zero. In this case this solution makes sense, since 0% value meaningful in this context. We will also transform all the values to integers at the same time."
   ]
  },
  {
   "cell_type": "code",
   "execution_count": 81,
   "metadata": {
    "collapsed": false
   },
   "outputs": [
    {
     "ename": "NameError",
     "evalue": "name 'df1' is not defined",
     "output_type": "error",
     "traceback": [
      "\u001b[0;31m---------------------------------------------------------------------------\u001b[0m",
      "\u001b[0;31mNameError\u001b[0m                                 Traceback (most recent call last)",
      "\u001b[0;32m<ipython-input-81-86a34214171d>\u001b[0m in \u001b[0;36m<module>\u001b[0;34m()\u001b[0m\n\u001b[0;32m----> 1\u001b[0;31m \u001b[0mdf1\u001b[0m\u001b[0;34m[\u001b[0m\u001b[0mdf1\u001b[0m\u001b[0;34m.\u001b[0m\u001b[0misnull\u001b[0m\u001b[0;34m(\u001b[0m\u001b[0;34m)\u001b[0m\u001b[0;34m]\u001b[0m\u001b[0;34m\u001b[0m\u001b[0m\n\u001b[0m",
      "\u001b[0;31mNameError\u001b[0m: name 'df1' is not defined"
     ]
    }
   ],
   "source": [
    "df1[df1.isnull()]"
   ]
  },
  {
   "cell_type": "code",
   "execution_count": 82,
   "metadata": {
    "collapsed": false
   },
   "outputs": [
    {
     "ename": "NameError",
     "evalue": "name 'df' is not defined",
     "output_type": "error",
     "traceback": [
      "\u001b[0;31m---------------------------------------------------------------------------\u001b[0m",
      "\u001b[0;31mNameError\u001b[0m                                 Traceback (most recent call last)",
      "\u001b[0;32m<ipython-input-82-7ed0097d7e9e>\u001b[0m in \u001b[0;36m<module>\u001b[0;34m()\u001b[0m\n\u001b[0;32m----> 1\u001b[0;31m \u001b[0mdf\u001b[0m\u001b[0;34m\u001b[0m\u001b[0m\n\u001b[0m",
      "\u001b[0;31mNameError\u001b[0m: name 'df' is not defined"
     ]
    }
   ],
   "source": [
    "df"
   ]
  },
  {
   "cell_type": "code",
   "execution_count": 100,
   "metadata": {
    "collapsed": false
   },
   "outputs": [
    {
     "ename": "NameError",
     "evalue": "name 'df' is not defined",
     "output_type": "error",
     "traceback": [
      "\u001b[0;31m---------------------------------------------------------------------------\u001b[0m",
      "\u001b[0;31mNameError\u001b[0m                                 Traceback (most recent call last)",
      "\u001b[0;32m<ipython-input-100-c6ea1515e81f>\u001b[0m in \u001b[0;36m<module>\u001b[0;34m()\u001b[0m\n\u001b[0;32m----> 1\u001b[0;31m \u001b[0mdf_clean\u001b[0m \u001b[0;34m=\u001b[0m \u001b[0mdf\u001b[0m\u001b[0;34m.\u001b[0m\u001b[0mfillna\u001b[0m\u001b[0;34m(\u001b[0m\u001b[0;36m0\u001b[0m\u001b[0;34m)\u001b[0m\u001b[0;34m.\u001b[0m\u001b[0mastype\u001b[0m\u001b[0;34m(\u001b[0m\u001b[0mint\u001b[0m\u001b[0;34m)\u001b[0m\u001b[0;34m\u001b[0m\u001b[0m\n\u001b[0m\u001b[1;32m      2\u001b[0m \u001b[0mdf_clean\u001b[0m\u001b[0;34m\u001b[0m\u001b[0m\n",
      "\u001b[0;31mNameError\u001b[0m: name 'df' is not defined"
     ]
    }
   ],
   "source": [
    "df_clean = df.fillna(0).astype(int)\n",
    "df_clean"
   ]
  },
  {
   "cell_type": "code",
   "execution_count": 84,
   "metadata": {
    "collapsed": false
   },
   "outputs": [
    {
     "ename": "NameError",
     "evalue": "name 'df_clean' is not defined",
     "output_type": "error",
     "traceback": [
      "\u001b[0;31m---------------------------------------------------------------------------\u001b[0m",
      "\u001b[0;31mNameError\u001b[0m                                 Traceback (most recent call last)",
      "\u001b[0;32m<ipython-input-84-8588fc6dfd83>\u001b[0m in \u001b[0;36m<module>\u001b[0;34m()\u001b[0m\n\u001b[0;32m----> 1\u001b[0;31m \u001b[0mdf_clean\u001b[0m\u001b[0;34m.\u001b[0m\u001b[0mdtypes\u001b[0m\u001b[0;34m\u001b[0m\u001b[0m\n\u001b[0m",
      "\u001b[0;31mNameError\u001b[0m: name 'df_clean' is not defined"
     ]
    }
   ],
   "source": [
    "df_clean.dtypes"
   ]
  },
  {
   "cell_type": "markdown",
   "metadata": {},
   "source": [
    "Now our table looks good!\n",
    "\n",
    "Let's see some basic statistics about it."
   ]
  },
  {
   "cell_type": "code",
   "execution_count": 85,
   "metadata": {
    "collapsed": false
   },
   "outputs": [
    {
     "ename": "NameError",
     "evalue": "name 'df_clean' is not defined",
     "output_type": "error",
     "traceback": [
      "\u001b[0;31m---------------------------------------------------------------------------\u001b[0m",
      "\u001b[0;31mNameError\u001b[0m                                 Traceback (most recent call last)",
      "\u001b[0;32m<ipython-input-85-99ffce219db4>\u001b[0m in \u001b[0;36m<module>\u001b[0;34m()\u001b[0m\n\u001b[0;32m----> 1\u001b[0;31m \u001b[0mdf_clean\u001b[0m\u001b[0;34m.\u001b[0m\u001b[0mdescribe\u001b[0m\u001b[0;34m(\u001b[0m\u001b[0;34m)\u001b[0m\u001b[0;34m\u001b[0m\u001b[0m\n\u001b[0m",
      "\u001b[0;31mNameError\u001b[0m: name 'df_clean' is not defined"
     ]
    }
   ],
   "source": [
    "df_clean.describe()"
   ]
  },
  {
   "cell_type": "code",
   "execution_count": 86,
   "metadata": {
    "collapsed": false
   },
   "outputs": [],
   "source": [
    "import matplotlib.pyplot as plt"
   ]
  },
  {
   "cell_type": "code",
   "execution_count": 87,
   "metadata": {
    "collapsed": false
   },
   "outputs": [
    {
     "data": {
      "text/plain": [
       "<matplotlib.figure.Figure at 0x7f68f9534490>"
      ]
     },
     "execution_count": 87,
     "metadata": {},
     "output_type": "execute_result"
    }
   ],
   "source": [
    "plt.figure()"
   ]
  },
  {
   "cell_type": "code",
   "execution_count": 99,
   "metadata": {
    "collapsed": false
   },
   "outputs": [
    {
     "ename": "NameError",
     "evalue": "name 'df_clean' is not defined",
     "output_type": "error",
     "traceback": [
      "\u001b[0;31m---------------------------------------------------------------------------\u001b[0m",
      "\u001b[0;31mNameError\u001b[0m                                 Traceback (most recent call last)",
      "\u001b[0;32m<ipython-input-99-b642743c2e41>\u001b[0m in \u001b[0;36m<module>\u001b[0;34m()\u001b[0m\n\u001b[0;32m----> 1\u001b[0;31m \u001b[0mdf_clean\u001b[0m\u001b[0;34m.\u001b[0m\u001b[0mUndergraduate\u001b[0m\u001b[0;34m.\u001b[0m\u001b[0mtolist\u001b[0m\u001b[0;34m(\u001b[0m\u001b[0;34m)\u001b[0m\u001b[0;34m\u001b[0m\u001b[0m\n\u001b[0m",
      "\u001b[0;31mNameError\u001b[0m: name 'df_clean' is not defined"
     ]
    }
   ],
   "source": [
    "df_clean.Undergraduate.tolist()"
   ]
  },
  {
   "cell_type": "code",
   "execution_count": 89,
   "metadata": {
    "collapsed": true
   },
   "outputs": [],
   "source": [
    "import numpy as np\n"
   ]
  },
  {
   "cell_type": "code",
   "execution_count": 90,
   "metadata": {
    "collapsed": false
   },
   "outputs": [
    {
     "data": {
      "text/plain": [
       "(array([ 2.,  2.,  1.,  0.,  0.,  0.,  0.,  0.,  0.,  1.]),\n",
       " array([  6.,  10.,  14.,  18.,  22.,  26.,  30.,  34.,  38.,  42.,  46.]),\n",
       " <a list of 10 Patch objects>)"
      ]
     },
     "execution_count": 90,
     "metadata": {},
     "output_type": "execute_result"
    }
   ],
   "source": [
    "plt.hist([17, 6, 9, 46, 10, 11])"
   ]
  },
  {
   "cell_type": "code",
   "execution_count": 91,
   "metadata": {
    "collapsed": true
   },
   "outputs": [],
   "source": [
    "plt.show()"
   ]
  },
  {
   "cell_type": "markdown",
   "metadata": {},
   "source": [
    "---\n",
    "\n",
    "### NumPy\n",
    "\n",
    "Pandas is awesome, but it is built on top of another library the we will use extensively during the course. NumPy implements new data types and vectorized functions."
   ]
  },
  {
   "cell_type": "code",
   "execution_count": 92,
   "metadata": {
    "collapsed": true
   },
   "outputs": [],
   "source": [
    "import numpy as np"
   ]
  },
  {
   "cell_type": "markdown",
   "metadata": {},
   "source": [
    "The `values` method of the DataFrame will return a two-dimensional `array` with the DataFrame values. The `array` is a NumPy structure that we will be using a lot during this class."
   ]
  },
  {
   "cell_type": "code",
   "execution_count": 98,
   "metadata": {
    "collapsed": false
   },
   "outputs": [
    {
     "ename": "NameError",
     "evalue": "name 'df_clean' is not defined",
     "output_type": "error",
     "traceback": [
      "\u001b[0;31m---------------------------------------------------------------------------\u001b[0m",
      "\u001b[0;31mNameError\u001b[0m                                 Traceback (most recent call last)",
      "\u001b[0;32m<ipython-input-98-835403619729>\u001b[0m in \u001b[0;36m<module>\u001b[0;34m()\u001b[0m\n\u001b[0;32m----> 1\u001b[0;31m \u001b[0mdf_clean\u001b[0m\u001b[0;34m.\u001b[0m\u001b[0mvalues\u001b[0m\u001b[0;34m\u001b[0m\u001b[0m\n\u001b[0m",
      "\u001b[0;31mNameError\u001b[0m: name 'df_clean' is not defined"
     ]
    }
   ],
   "source": [
    "df_clean.values"
   ]
  },
  {
   "cell_type": "markdown",
   "metadata": {},
   "source": [
    "Let's see if this is indeed a NumPy type..."
   ]
  },
  {
   "cell_type": "code",
   "execution_count": 97,
   "metadata": {
    "collapsed": false
   },
   "outputs": [
    {
     "ename": "NameError",
     "evalue": "name 'df_clean' is not defined",
     "output_type": "error",
     "traceback": [
      "\u001b[0;31m---------------------------------------------------------------------------\u001b[0m",
      "\u001b[0;31mNameError\u001b[0m                                 Traceback (most recent call last)",
      "\u001b[0;32m<ipython-input-97-b0b0ed92eb62>\u001b[0m in \u001b[0;36m<module>\u001b[0;34m()\u001b[0m\n\u001b[0;32m----> 1\u001b[0;31m \u001b[0mtype\u001b[0m\u001b[0;34m(\u001b[0m\u001b[0mdf_clean\u001b[0m\u001b[0;34m.\u001b[0m\u001b[0mvalues\u001b[0m\u001b[0;34m)\u001b[0m\u001b[0;34m\u001b[0m\u001b[0m\n\u001b[0m",
      "\u001b[0;31mNameError\u001b[0m: name 'df_clean' is not defined"
     ]
    }
   ],
   "source": [
    "type(df_clean.values)"
   ]
  },
  {
   "cell_type": "markdown",
   "metadata": {},
   "source": [
    "NumPy also offers many functions that can operate directly on the DataFrame."
   ]
  },
  {
   "cell_type": "code",
   "execution_count": null,
   "metadata": {
    "collapsed": false
   },
   "outputs": [],
   "source": [
    "np.mean(df_clean.Undergraduate)"
   ]
  },
  {
   "cell_type": "code",
   "execution_count": null,
   "metadata": {
    "collapsed": false
   },
   "outputs": [],
   "source": [
    "np.std(df_clean)"
   ]
  },
  {
   "cell_type": "markdown",
   "metadata": {},
   "source": [
    "---\n",
    "\n",
    "### DataFrame indexing\n",
    "\n",
    "Having the data on a DataFrame would be useless if we could not access individual cells. There are many ways to index DataFrames, and we will cover the most common bellow.\n",
    "\n",
    "Indexing columns is easy. You can use either the dictionary syntax or the dot syntax. Please note that if the column name contains spaces or other special characters, your only choice will be to use the dictionary syntax."
   ]
  },
  {
   "cell_type": "code",
   "execution_count": null,
   "metadata": {
    "collapsed": false
   },
   "outputs": [],
   "source": [
    "# Dictionary syntax.\n",
    "df_clean[\"Undergraduate\"]"
   ]
  },
  {
   "cell_type": "code",
   "execution_count": null,
   "metadata": {
    "collapsed": false
   },
   "outputs": [],
   "source": [
    "# Dot syntax.\n",
    "df_clean.Undergraduate"
   ]
  },
  {
   "cell_type": "markdown",
   "metadata": {},
   "source": [
    "But what about when you want to get a specific row? DataFrames have three different ways of achieving that.\n",
    "\n",
    "`DataFrame.loc` allows you to reference a row by index name."
   ]
  },
  {
   "cell_type": "code",
   "execution_count": null,
   "metadata": {
    "collapsed": false
   },
   "outputs": [],
   "source": [
    "df_clean.loc[\"Asian/Pacific Islander\"]"
   ]
  },
  {
   "cell_type": "markdown",
   "metadata": {},
   "source": [
    "`DataFrame.iloc` on the other hand uses the row number (starting from zero, of course)."
   ]
  },
  {
   "cell_type": "code",
   "execution_count": null,
   "metadata": {
    "collapsed": false
   },
   "outputs": [],
   "source": [
    "df_clean.iloc[0]"
   ]
  },
  {
   "cell_type": "markdown",
   "metadata": {},
   "source": [
    "A third way to do it is with `DataFrame.ix`. This is a hybrid of the previous two and allows you to access a row by name or number. Please note that `ix` can misbehave sometimes, so the previous two methods should be used whenever possible."
   ]
  },
  {
   "cell_type": "code",
   "execution_count": 96,
   "metadata": {
    "collapsed": false
   },
   "outputs": [
    {
     "ename": "NameError",
     "evalue": "name 'df_clean' is not defined",
     "output_type": "error",
     "traceback": [
      "\u001b[0;31m---------------------------------------------------------------------------\u001b[0m",
      "\u001b[0;31mNameError\u001b[0m                                 Traceback (most recent call last)",
      "\u001b[0;32m<ipython-input-96-f846e02ec23c>\u001b[0m in \u001b[0;36m<module>\u001b[0;34m()\u001b[0m\n\u001b[0;32m----> 1\u001b[0;31m \u001b[0mdf_clean\u001b[0m\u001b[0;34m.\u001b[0m\u001b[0mix\u001b[0m\u001b[0;34m[\u001b[0m\u001b[0;34m\"Asian/Pacific Islander\"\u001b[0m\u001b[0;34m]\u001b[0m\u001b[0;34m\u001b[0m\u001b[0m\n\u001b[0m",
      "\u001b[0;31mNameError\u001b[0m: name 'df_clean' is not defined"
     ]
    }
   ],
   "source": [
    "df_clean.ix[\"Asian/Pacific Islander\"]"
   ]
  },
  {
   "cell_type": "code",
   "execution_count": null,
   "metadata": {
    "collapsed": false
   },
   "outputs": [],
   "source": [
    "df_clean.ix[0]"
   ]
  },
  {
   "cell_type": "markdown",
   "metadata": {},
   "source": [
    "We can also reference individual cells by specifying the desired row and column."
   ]
  },
  {
   "cell_type": "code",
   "execution_count": null,
   "metadata": {
    "collapsed": false
   },
   "outputs": [],
   "source": [
    "df_clean.loc[\"White/non-Hispanic\", \"Graduate and Professional\"]"
   ]
  },
  {
   "cell_type": "code",
   "execution_count": null,
   "metadata": {
    "collapsed": false
   },
   "outputs": [],
   "source": [
    "df_clean.iloc[3, 1]"
   ]
  },
  {
   "cell_type": "code",
   "execution_count": null,
   "metadata": {
    "collapsed": false
   },
   "outputs": [],
   "source": [
    "df_clean.ix[3, \"Graduate and Professional\"]"
   ]
  },
  {
   "cell_type": "markdown",
   "metadata": {},
   "source": [
    "---\n",
    "\n",
    "### Split-Apply-Combine pattern"
   ]
  },
  {
   "cell_type": "code",
   "execution_count": 95,
   "metadata": {
    "collapsed": false
   },
   "outputs": [
    {
     "ename": "NameError",
     "evalue": "name 'df_clean' is not defined",
     "output_type": "error",
     "traceback": [
      "\u001b[0;31m---------------------------------------------------------------------------\u001b[0m",
      "\u001b[0;31mNameError\u001b[0m                                 Traceback (most recent call last)",
      "\u001b[0;32m<ipython-input-95-310f2e5c6dc0>\u001b[0m in \u001b[0;36m<module>\u001b[0;34m()\u001b[0m\n\u001b[1;32m      1\u001b[0m \u001b[0;31m# Ignore this cell for now.\u001b[0m\u001b[0;34m\u001b[0m\u001b[0;34m\u001b[0m\u001b[0m\n\u001b[0;32m----> 2\u001b[0;31m \u001b[0mdf_flat\u001b[0m \u001b[0;34m=\u001b[0m \u001b[0mdf_clean\u001b[0m\u001b[0;34m.\u001b[0m\u001b[0mstack\u001b[0m\u001b[0;34m(\u001b[0m\u001b[0;34m)\u001b[0m\u001b[0;34m.\u001b[0m\u001b[0mreset_index\u001b[0m\u001b[0;34m(\u001b[0m\u001b[0;34m)\u001b[0m\u001b[0;34m\u001b[0m\u001b[0m\n\u001b[0m\u001b[1;32m      3\u001b[0m \u001b[0mdf_flat\u001b[0m\u001b[0;34m.\u001b[0m\u001b[0mcolumns\u001b[0m \u001b[0;34m=\u001b[0m \u001b[0;34m[\u001b[0m\u001b[0;34m\"race\"\u001b[0m\u001b[0;34m,\u001b[0m \u001b[0;34m\"source\"\u001b[0m\u001b[0;34m,\u001b[0m \u001b[0;34m\"percentage\"\u001b[0m\u001b[0;34m]\u001b[0m\u001b[0;34m\u001b[0m\u001b[0m\n\u001b[1;32m      4\u001b[0m \u001b[0mdf_flat\u001b[0m\u001b[0;34m\u001b[0m\u001b[0m\n",
      "\u001b[0;31mNameError\u001b[0m: name 'df_clean' is not defined"
     ]
    }
   ],
   "source": [
    "# Ignore this cell for now.\n",
    "df_flat = df_clean.stack().reset_index()\n",
    "df_flat.columns = [\"race\", \"source\", \"percentage\"]\n",
    "df_flat"
   ]
  },
  {
   "cell_type": "markdown",
   "metadata": {},
   "source": [
    "Another common task will be to group tasks. After flattening the DataFrame into one with numerical indexes and column for each feature, we can access individual groups by using the `groupby` method."
   ]
  },
  {
   "cell_type": "code",
   "execution_count": 94,
   "metadata": {
    "collapsed": false
   },
   "outputs": [
    {
     "ename": "NameError",
     "evalue": "name 'df_flat' is not defined",
     "output_type": "error",
     "traceback": [
      "\u001b[0;31m---------------------------------------------------------------------------\u001b[0m",
      "\u001b[0;31mNameError\u001b[0m                                 Traceback (most recent call last)",
      "\u001b[0;32m<ipython-input-94-e7883396a4cf>\u001b[0m in \u001b[0;36m<module>\u001b[0;34m()\u001b[0m\n\u001b[0;32m----> 1\u001b[0;31m \u001b[0mgrouped\u001b[0m \u001b[0;34m=\u001b[0m \u001b[0mdf_flat\u001b[0m\u001b[0;34m.\u001b[0m\u001b[0mgroupby\u001b[0m\u001b[0;34m(\u001b[0m\u001b[0;34m\"race\"\u001b[0m\u001b[0;34m)\u001b[0m\u001b[0;34m\u001b[0m\u001b[0m\n\u001b[0m\u001b[1;32m      2\u001b[0m \u001b[0mtype\u001b[0m\u001b[0;34m(\u001b[0m\u001b[0mgrouped\u001b[0m\u001b[0;34m.\u001b[0m\u001b[0mgroups\u001b[0m\u001b[0;34m)\u001b[0m\u001b[0;34m\u001b[0m\u001b[0m\n",
      "\u001b[0;31mNameError\u001b[0m: name 'df_flat' is not defined"
     ]
    }
   ],
   "source": [
    "grouped = df_flat.groupby(\"race\")\n",
    "type(grouped.groups)"
   ]
  },
  {
   "cell_type": "markdown",
   "metadata": {},
   "source": [
    "Please note that the resulting object will not be a DataFrame, and you must execute an aggregate function on the groups to bring them back into a DataFrame format."
   ]
  },
  {
   "cell_type": "code",
   "execution_count": null,
   "metadata": {
    "collapsed": false
   },
   "outputs": [],
   "source": [
    "type(grouped)"
   ]
  },
  {
   "cell_type": "code",
   "execution_count": 77,
   "metadata": {
    "collapsed": false
   },
   "outputs": [
    {
     "data": {
      "text/html": [
       "<div>\n",
       "<table border=\"1\" class=\"dataframe\">\n",
       "  <thead>\n",
       "    <tr style=\"text-align: right;\">\n",
       "      <th></th>\n",
       "      <th>percentage</th>\n",
       "    </tr>\n",
       "    <tr>\n",
       "      <th>race</th>\n",
       "      <th></th>\n",
       "    </tr>\n",
       "  </thead>\n",
       "  <tbody>\n",
       "    <tr>\n",
       "      <th>Asian/Pacific Islander</th>\n",
       "      <td>11.000000</td>\n",
       "    </tr>\n",
       "    <tr>\n",
       "      <th>Black/Non-Hispanic</th>\n",
       "      <td>7.333333</td>\n",
       "    </tr>\n",
       "    <tr>\n",
       "      <th>Hispanics of any race</th>\n",
       "      <td>10.000000</td>\n",
       "    </tr>\n",
       "    <tr>\n",
       "      <th>International students</th>\n",
       "      <td>12.666667</td>\n",
       "    </tr>\n",
       "    <tr>\n",
       "      <th>Mixed Race/Other</th>\n",
       "      <td>9.000000</td>\n",
       "    </tr>\n",
       "    <tr>\n",
       "      <th>White/non-Hispanic</th>\n",
       "      <td>51.000000</td>\n",
       "    </tr>\n",
       "  </tbody>\n",
       "</table>\n",
       "</div>"
      ],
      "text/plain": [
       "                        percentage\n",
       "race                              \n",
       "Asian/Pacific Islander   11.000000\n",
       "Black/Non-Hispanic        7.333333\n",
       "Hispanics of any race    10.000000\n",
       "International students   12.666667\n",
       "Mixed Race/Other          9.000000\n",
       "White/non-Hispanic       51.000000"
      ]
     },
     "execution_count": 77,
     "metadata": {},
     "output_type": "execute_result"
    }
   ],
   "source": [
    "mean_percs = grouped.mean()\n",
    "mean_percs"
   ]
  },
  {
   "cell_type": "code",
   "execution_count": 78,
   "metadata": {
    "collapsed": false
   },
   "outputs": [
    {
     "data": {
      "text/plain": [
       "pandas.core.frame.DataFrame"
      ]
     },
     "execution_count": 78,
     "metadata": {},
     "output_type": "execute_result"
    }
   ],
   "source": [
    "type(mean_percs)"
   ]
  },
  {
   "cell_type": "markdown",
   "metadata": {},
   "source": [
    "We can also iterate over the groups using a regular `for` loop."
   ]
  },
  {
   "cell_type": "code",
   "execution_count": 79,
   "metadata": {
    "collapsed": false
   },
   "outputs": [
    {
     "name": "stdout",
     "output_type": "stream",
     "text": [
      "Graduate and Professional\n",
      "                      race                     source  percentage\n",
      "1   Asian/Pacific Islander  Graduate and Professional          11\n",
      "4       Black/Non-Hispanic  Graduate and Professional           4\n",
      "7    Hispanics of any race  Graduate and Professional           5\n",
      "10      White/non-Hispanic  Graduate and Professional          43\n",
      "13        Mixed Race/Other  Graduate and Professional           8\n",
      "16  International students  Graduate and Professional          27\n",
      "U.S. Census\n",
      "                      race       source  percentage\n",
      "2   Asian/Pacific Islander  U.S. Census           5\n",
      "5       Black/Non-Hispanic  U.S. Census          12\n",
      "8    Hispanics of any race  U.S. Census          16\n",
      "11      White/non-Hispanic  U.S. Census          64\n",
      "14        Mixed Race/Other  U.S. Census           9\n",
      "17  International students  U.S. Census           0\n",
      "Undergraduate\n",
      "                      race         source  percentage\n",
      "0   Asian/Pacific Islander  Undergraduate          17\n",
      "3       Black/Non-Hispanic  Undergraduate           6\n",
      "6    Hispanics of any race  Undergraduate           9\n",
      "9       White/non-Hispanic  Undergraduate          46\n",
      "12        Mixed Race/Other  Undergraduate          10\n",
      "15  International students  Undergraduate          11\n"
     ]
    }
   ],
   "source": [
    "for name, group in df_flat.groupby(\"source\", sort=True):\n",
    "    print name\n",
    "    print group"
   ]
  },
  {
   "cell_type": "markdown",
   "metadata": {},
   "source": [
    "---\n",
    "\n",
    "### Simple Plotting\n",
    "\n",
    "DataFrames also have some basic plotting capabilities. We will mostly be using `Matplotlib` for plotting since it allows for much more granular control; but DataFrame plots can be very useful for a quick visualization of the data."
   ]
  },
  {
   "cell_type": "code",
   "execution_count": 80,
   "metadata": {
    "collapsed": true
   },
   "outputs": [],
   "source": [
    "# Here we're just telling the iPython notebook to render the plots on the cells.\n",
    "%matplotlib inline"
   ]
  },
  {
   "cell_type": "code",
   "execution_count": 81,
   "metadata": {
    "collapsed": false
   },
   "outputs": [
    {
     "data": {
      "image/png": "[encoded data removed]",
      "text/plain": [
       "<matplotlib.figure.Figure at 0x105804050>"
      ]
     },
     "metadata": {},
     "output_type": "display_data"
    }
   ],
   "source": [
    "mean_percs.plot(kind=\"bar\");"
   ]
  },
  {
   "cell_type": "markdown",
   "metadata": {},
   "source": [
    "---\n",
    "\n",
    "## Conclusion\n",
    "\n",
    "That's it! It might not look like it but we accomplished a lot. We scraped some data from a website, extracted the parts that we were interested in, and then parsed and cleaned it. We then proceeded to using this data to create a Pandas DataFrame, and use the latter to analyze the data. You should now have the basic knowledge to star working on HW0. Have fun!"
   ]
  },
  {
   "cell_type": "code",
   "execution_count": null,
   "metadata": {
    "collapsed": true
   },
   "outputs": [],
   "source": []
  },
  {
   "cell_type": "markdown",
   "metadata": {},
   "source": [
    "* Questions:\n",
    "    * What is array like in numpy and why iterable does not work\n",
    "    * what is iterable, why error iterating of non-sequence\n",
    "    * does unpacking work with iterable or sequence or ...\n",
    "    * in general how know which one to choose: iterable, seq, container, array-like"
   ]
  }
 ],
 "metadata": {
  "kernelspec": {
   "display_name": "Python 2",
   "language": "python",
   "name": "python2"
  },
  "language_info": {
   "codemirror_mode": {
    "name": "ipython",
    "version": 2
   },
   "file_extension": ".py",
   "mimetype": "text/x-python",
   "name": "python",
   "nbconvert_exporter": "python",
   "pygments_lexer": "ipython2",
   "version": "2.7.6"
  }
 },
 "nbformat": 4,
 "nbformat_minor": 0
}
