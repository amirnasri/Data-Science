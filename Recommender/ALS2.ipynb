{
 "cells": [
  {
   "cell_type": "code",
   "execution_count": 2,
   "metadata": {
    "collapsed": false
   },
   "outputs": [
    {
     "name": "stdout",
     "output_type": "stream",
     "text": [
      "196\t242\t3\t881250949\r\n",
      "186\t302\t3\t891717742\r\n",
      "22\t377\t1\t878887116\r\n",
      "244\t51\t2\t880606923\r\n",
      "166\t346\t1\t886397596\r\n",
      "298\t474\t4\t884182806\r\n",
      "115\t265\t2\t881171488\r\n",
      "253\t465\t5\t891628467\r\n",
      "305\t451\t3\t886324817\r\n",
      "6\t86\t3\t883603013\r\n"
     ]
    }
   ],
   "source": [
    "!head -10 ml-100k/u.data\n"
   ]
  },
  {
   "cell_type": "code",
   "execution_count": 3,
   "metadata": {
    "collapsed": false
   },
   "outputs": [],
   "source": [
    "import pandas as pd\n",
    "#ratings = pd.read_csv('ml-1m/ratings.dat', delimiter=\"::\", engine=\"python\", header=None)\n",
    "ratings = pd.read_csv('ml-100k/u.data', delimiter=\"\\t\", engine=\"python\", header=None)"
   ]
  },
  {
   "cell_type": "code",
   "execution_count": 4,
   "metadata": {
    "collapsed": false
   },
   "outputs": [
    {
     "data": {
      "text/html": [
       "<div>\n",
       "<table border=\"1\" class=\"dataframe\">\n",
       "  <thead>\n",
       "    <tr style=\"text-align: right;\">\n",
       "      <th></th>\n",
       "      <th>UserID</th>\n",
       "      <th>MovieID</th>\n",
       "      <th>Rating</th>\n",
       "      <th>Timestamp</th>\n",
       "    </tr>\n",
       "  </thead>\n",
       "  <tbody>\n",
       "    <tr>\n",
       "      <th>0</th>\n",
       "      <td>196</td>\n",
       "      <td>242</td>\n",
       "      <td>3</td>\n",
       "      <td>881250949</td>\n",
       "    </tr>\n",
       "    <tr>\n",
       "      <th>1</th>\n",
       "      <td>186</td>\n",
       "      <td>302</td>\n",
       "      <td>3</td>\n",
       "      <td>891717742</td>\n",
       "    </tr>\n",
       "    <tr>\n",
       "      <th>2</th>\n",
       "      <td>22</td>\n",
       "      <td>377</td>\n",
       "      <td>1</td>\n",
       "      <td>878887116</td>\n",
       "    </tr>\n",
       "    <tr>\n",
       "      <th>3</th>\n",
       "      <td>244</td>\n",
       "      <td>51</td>\n",
       "      <td>2</td>\n",
       "      <td>880606923</td>\n",
       "    </tr>\n",
       "    <tr>\n",
       "      <th>4</th>\n",
       "      <td>166</td>\n",
       "      <td>346</td>\n",
       "      <td>1</td>\n",
       "      <td>886397596</td>\n",
       "    </tr>\n",
       "  </tbody>\n",
       "</table>\n",
       "</div>"
      ],
      "text/plain": [
       "   UserID  MovieID  Rating  Timestamp\n",
       "0     196      242       3  881250949\n",
       "1     186      302       3  891717742\n",
       "2      22      377       1  878887116\n",
       "3     244       51       2  880606923\n",
       "4     166      346       1  886397596"
      ]
     },
     "execution_count": 4,
     "metadata": {},
     "output_type": "execute_result"
    }
   ],
   "source": [
    "ratings.columns = [\"UserID::MovieID::Rating::Timestamp\".split(\"::\")]\n",
    "#ratings = ratings.iloc[:1000, :]\n",
    "ratings.head()\n"
   ]
  },
  {
   "cell_type": "code",
   "execution_count": 5,
   "metadata": {
    "collapsed": false
   },
   "outputs": [
    {
     "data": {
      "text/plain": [
       "UserID       0\n",
       "MovieID      0\n",
       "Rating       0\n",
       "Timestamp    0\n",
       "dtype: int64"
      ]
     },
     "execution_count": 5,
     "metadata": {},
     "output_type": "execute_result"
    }
   ],
   "source": [
    "ratings.isnull().sum()"
   ]
  },
  {
   "cell_type": "code",
   "execution_count": 6,
   "metadata": {
    "collapsed": false
   },
   "outputs": [
    {
     "data": {
      "text/plain": [
       "array([1, 2, 3, 4, 5])"
      ]
     },
     "execution_count": 6,
     "metadata": {},
     "output_type": "execute_result"
    }
   ],
   "source": [
    "import numpy as np\n",
    "np.unique(ratings['Rating'])"
   ]
  },
  {
   "cell_type": "markdown",
   "metadata": {},
   "source": [
    "* Do we have any duplicate ratings, i.e., a (userid, movieid) combination that is repeated more than once?"
   ]
  },
  {
   "cell_type": "code",
   "execution_count": 7,
   "metadata": {
    "collapsed": false
   },
   "outputs": [],
   "source": [
    "user_movie_pairs = zip(ratings['UserID'].values, ratings['MovieID'].values)"
   ]
  },
  {
   "cell_type": "code",
   "execution_count": 8,
   "metadata": {
    "collapsed": false
   },
   "outputs": [
    {
     "name": "stdout",
     "output_type": "stream",
     "text": [
      "100000 100000\n"
     ]
    }
   ],
   "source": [
    "print len(user_movie_pairs), len(set(user_movie_pairs))"
   ]
  },
  {
   "cell_type": "code",
   "execution_count": 9,
   "metadata": {
    "collapsed": false
   },
   "outputs": [
    {
     "name": "stdout",
     "output_type": "stream",
     "text": [
      "count    100000.00000\n",
      "mean        462.48475\n",
      "std         266.61442\n",
      "min           1.00000\n",
      "25%         254.00000\n",
      "50%         447.00000\n",
      "75%         682.00000\n",
      "max         943.00000\n",
      "Name: UserID, dtype: float64\n",
      "number of users: 943\n",
      "\n",
      "True\n"
     ]
    }
   ],
   "source": [
    "print ratings['UserID'].describe()\n",
    "n_user = len(ratings['UserID'].unique())\n",
    "print \"number of users: %s\\n\" % n_user\n",
    "print set(ratings['UserID'].unique()) == set(range(1, n_user + 1))\n",
    "# User ids are range(1, 6041), i.e., are all values between 1 and 6040\n",
    "# We can use a simple mapping: user_index=UserID-1\n"
   ]
  },
  {
   "cell_type": "code",
   "execution_count": 10,
   "metadata": {
    "collapsed": false
   },
   "outputs": [
    {
     "name": "stdout",
     "output_type": "stream",
     "text": [
      "943 users\r\n",
      "1682 items\r\n",
      "100000 ratings\r\n"
     ]
    }
   ],
   "source": [
    "!cat ml-100k/u.info"
   ]
  },
  {
   "cell_type": "code",
   "execution_count": 11,
   "metadata": {
    "collapsed": false
   },
   "outputs": [
    {
     "name": "stdout",
     "output_type": "stream",
     "text": [
      "1|Toy Story (1995)|01-Jan-1995||http://us.imdb.com/M/title-exact?Toy%20Story%20(1995)|0|0|0|1|1|1|0|0|0|0|0|0|0|0|0|0|0|0|0\r\n",
      "2|GoldenEye (1995)|01-Jan-1995||http://us.imdb.com/M/title-exact?GoldenEye%20(1995)|0|1|1|0|0|0|0|0|0|0|0|0|0|0|0|0|1|0|0\r\n",
      "3|Four Rooms (1995)|01-Jan-1995||http://us.imdb.com/M/title-exact?Four%20Rooms%20(1995)|0|0|0|0|0|0|0|0|0|0|0|0|0|0|0|0|1|0|0\r\n",
      "4|Get Shorty (1995)|01-Jan-1995||http://us.imdb.com/M/title-exact?Get%20Shorty%20(1995)|0|1|0|0|0|1|0|0|1|0|0|0|0|0|0|0|0|0|0\r\n",
      "5|Copycat (1995)|01-Jan-1995||http://us.imdb.com/M/title-exact?Copycat%20(1995)|0|0|0|0|0|0|1|0|1|0|0|0|0|0|0|0|1|0|0\r\n",
      "6|Shanghai Triad (Yao a yao yao dao waipo qiao) (1995)|01-Jan-1995||http://us.imdb.com/Title?Yao+a+yao+yao+dao+waipo+qiao+(1995)|0|0|0|0|0|0|0|0|1|0|0|0|0|0|0|0|0|0|0\r\n",
      "7|Twelve Monkeys (1995)|01-Jan-1995||http://us.imdb.com/M/title-exact?Twelve%20Monkeys%20(1995)|0|0|0|0|0|0|0|0|1|0|0|0|0|0|0|1|0|0|0\r\n",
      "8|Babe (1995)|01-Jan-1995||http://us.imdb.com/M/title-exact?Babe%20(1995)|0|0|0|0|1|1|0|0|1|0|0|0|0|0|0|0|0|0|0\r\n",
      "9|Dead Man Walking (1995)|01-Jan-1995||http://us.imdb.com/M/title-exact?Dead%20Man%20Walking%20(1995)|0|0|0|0|0|0|0|0|1|0|0|0|0|0|0|0|0|0|0\r\n",
      "10|Richard III (1995)|22-Jan-1996||http://us.imdb.com/M/title-exact?Richard%20III%20(1995)|0|0|0|0|0|0|0|0|1|0|0|0|0|0|0|0|0|1|0\r\n"
     ]
    }
   ],
   "source": [
    "#!head ml-1m/movies.dat\n",
    "!head ml-100k/u.item"
   ]
  },
  {
   "cell_type": "code",
   "execution_count": 12,
   "metadata": {
    "collapsed": false
   },
   "outputs": [
    {
     "name": "stdout",
     "output_type": "stream",
     "text": [
      "The following movie id's are missing from movie table\n",
      "[]\n",
      "\n",
      "number of unique movies: 1682\n",
      "\n",
      "[]\n",
      "1682\n"
     ]
    }
   ],
   "source": [
    "#movies = pd.read_csv('ml-1m/movies.dat', delimiter='::', engine='python', header=None)\n",
    "movies = pd.read_csv('ml-100k/u.item', delimiter='|', engine='python', header=None)\n",
    "#movies.columns = 'MovieID::Title::Genres'.split('::')\n",
    "columns = ' MovieID | movie title | release date | video release date |' \\\n",
    "              'IMDb URL | unknown | Action | Adventure | Animation |'\\\n",
    "              'Children | Comedy | Crime | Documentary | Drama | Fantasy |'\\\n",
    "              'Film-Noir | Horror | Musical | Mystery | Romance | Sci-Fi |'\\\n",
    "              'Thriller | War | Western'.split('|')\n",
    "\n",
    "movies.columns = [\"-\".join(i.strip().split()) for i in columns]                \n",
    "movies.head()\n",
    "\n",
    "print \"The following movie id's are missing from movie table\"\n",
    "print sorted(set(range(1, movies.MovieID.max())) - set(movies.MovieID))\n",
    "print \"\\nnumber of unique movies: %s\\n\" %  len(set(movies.MovieID))\n",
    "\n",
    "mi = ratings['MovieID'].unique()\n",
    "mi.sort()\n",
    "print sorted(set(movies.MovieID) - set(mi))\n",
    "print len(mi)\n",
    "# movie id have some missing values in addition to the missing values above\n",
    "# , i.e., there are movies that are not rated by any user.\n",
    "\n",
    "#movie_index_to_ID = dict(zip(range(movies.MovieID.unique().shape[0]), movies.MovieID))\n",
    "movie_index_to_ID = dict(zip(range(len(mi)), mi))\n",
    "#movie_ID_to_index = dict(zip(movies.MovieID, range(movies.MovieID.unique().shape[0])))\n",
    "movie_ID_to_index = {k: v for v, k in movie_index_to_ID.iteritems()}\n"
   ]
  },
  {
   "cell_type": "code",
   "execution_count": 13,
   "metadata": {
    "collapsed": false
   },
   "outputs": [
    {
     "ename": "NameError",
     "evalue": "name 'pp_sim' is not defined",
     "output_type": "error",
     "traceback": [
      "\u001b[0;31m---------------------------------------------------------------------------\u001b[0m",
      "\u001b[0;31mNameError\u001b[0m                                 Traceback (most recent call last)",
      "\u001b[0;32m<ipython-input-13-488491cb8115>\u001b[0m in \u001b[0;36m<module>\u001b[0;34m()\u001b[0m\n\u001b[0;32m----> 1\u001b[0;31m \u001b[0mpp_sim\u001b[0m\u001b[0;34m.\u001b[0m\u001b[0mshape\u001b[0m\u001b[0;34m\u001b[0m\u001b[0m\n\u001b[0m",
      "\u001b[0;31mNameError\u001b[0m: name 'pp_sim' is not defined"
     ]
    }
   ],
   "source": [
    "pp_sim.shape"
   ]
  },
  {
   "cell_type": "code",
   "execution_count": 14,
   "metadata": {
    "collapsed": false
   },
   "outputs": [
    {
     "data": {
      "text/plain": [
       "True"
      ]
     },
     "execution_count": 14,
     "metadata": {},
     "output_type": "execute_result"
    }
   ],
   "source": [
    "len(movies.MovieID) == len(movies.MovieID.unique())"
   ]
  },
  {
   "cell_type": "code",
   "execution_count": 15,
   "metadata": {
    "collapsed": false
   },
   "outputs": [],
   "source": [
    "from scipy.sparse import csr_matrix\n",
    "row = ratings['MovieID'].values\n",
    "col = ratings['UserID'].values\n",
    "data = ratings['Rating'].values\n",
    "ratings_matrix = csr_matrix((data, (row, col)))\n",
    "\n"
   ]
  },
  {
   "cell_type": "code",
   "execution_count": 16,
   "metadata": {
    "collapsed": false
   },
   "outputs": [
    {
     "data": {
      "text/plain": [
       "(1683, 944)"
      ]
     },
     "execution_count": 16,
     "metadata": {},
     "output_type": "execute_result"
    }
   ],
   "source": [
    "ratings_matrix.shape"
   ]
  },
  {
   "cell_type": "code",
   "execution_count": 17,
   "metadata": {
    "collapsed": false
   },
   "outputs": [
    {
     "ename": "NameError",
     "evalue": "name 'X' is not defined",
     "output_type": "error",
     "traceback": [
      "\u001b[0;31m---------------------------------------------------------------------------\u001b[0m",
      "\u001b[0;31mNameError\u001b[0m                                 Traceback (most recent call last)",
      "\u001b[0;32m<ipython-input-17-333db2ee496f>\u001b[0m in \u001b[0;36m<module>\u001b[0;34m()\u001b[0m\n\u001b[1;32m      2\u001b[0m     \u001b[0;34m\"\"\"Trace of np.dot(X, Y.T).\"\"\"\u001b[0m\u001b[0;34m\u001b[0m\u001b[0m\n\u001b[1;32m      3\u001b[0m     \u001b[0;32mreturn\u001b[0m \u001b[0mnp\u001b[0m\u001b[0;34m.\u001b[0m\u001b[0mdot\u001b[0m\u001b[0;34m(\u001b[0m\u001b[0mX\u001b[0m\u001b[0;34m.\u001b[0m\u001b[0mravel\u001b[0m\u001b[0;34m(\u001b[0m\u001b[0;34m)\u001b[0m\u001b[0;34m,\u001b[0m \u001b[0mY\u001b[0m\u001b[0;34m.\u001b[0m\u001b[0mravel\u001b[0m\u001b[0;34m(\u001b[0m\u001b[0;34m)\u001b[0m\u001b[0;34m)\u001b[0m\u001b[0;34m\u001b[0m\u001b[0m\n\u001b[0;32m----> 4\u001b[0;31m \u001b[0mnorm_X\u001b[0m \u001b[0;34m=\u001b[0m \u001b[0mnp\u001b[0m\u001b[0;34m.\u001b[0m\u001b[0mdot\u001b[0m\u001b[0;34m(\u001b[0m\u001b[0mX\u001b[0m\u001b[0;34m.\u001b[0m\u001b[0mdata\u001b[0m\u001b[0;34m,\u001b[0m \u001b[0mX\u001b[0m\u001b[0;34m.\u001b[0m\u001b[0mdata\u001b[0m\u001b[0;34m)\u001b[0m\u001b[0;34m\u001b[0m\u001b[0m\n\u001b[0m\u001b[1;32m      5\u001b[0m \u001b[0mnorm_WH\u001b[0m \u001b[0;34m=\u001b[0m \u001b[0mtrace_dot\u001b[0m\u001b[0;34m(\u001b[0m\u001b[0mnp\u001b[0m\u001b[0;34m.\u001b[0m\u001b[0mdot\u001b[0m\u001b[0;34m(\u001b[0m\u001b[0mnp\u001b[0m\u001b[0;34m.\u001b[0m\u001b[0mdot\u001b[0m\u001b[0;34m(\u001b[0m\u001b[0mW\u001b[0m\u001b[0;34m.\u001b[0m\u001b[0mT\u001b[0m\u001b[0;34m,\u001b[0m \u001b[0mW\u001b[0m\u001b[0;34m)\u001b[0m\u001b[0;34m,\u001b[0m \u001b[0mH\u001b[0m\u001b[0;34m)\u001b[0m\u001b[0;34m,\u001b[0m \u001b[0mH\u001b[0m\u001b[0;34m)\u001b[0m\u001b[0;34m\u001b[0m\u001b[0m\n\u001b[1;32m      6\u001b[0m \u001b[0mcross_prod\u001b[0m \u001b[0;34m=\u001b[0m \u001b[0mtrace_dot\u001b[0m\u001b[0;34m(\u001b[0m\u001b[0;34m(\u001b[0m\u001b[0mX\u001b[0m \u001b[0;34m*\u001b[0m \u001b[0mH\u001b[0m\u001b[0;34m.\u001b[0m\u001b[0mT\u001b[0m\u001b[0;34m)\u001b[0m\u001b[0;34m,\u001b[0m \u001b[0mW\u001b[0m\u001b[0;34m)\u001b[0m\u001b[0;34m\u001b[0m\u001b[0m\n",
      "\u001b[0;31mNameError\u001b[0m: name 'X' is not defined"
     ]
    }
   ],
   "source": [
    "def trace_dot(X, Y):\n",
    "    \"\"\"Trace of np.dot(X, Y.T).\"\"\"\n",
    "    return np.dot(X.ravel(), Y.ravel())\n",
    "norm_X = np.dot(X.data, X.data)\n",
    "norm_WH = trace_dot(np.dot(np.dot(W.T, W), H), H)\n",
    "cross_prod = trace_dot((X * H.T), W)\n",
    "error = np.sqrt(norm_X + norm_WH - 2. * cross_prod)"
   ]
  },
  {
   "cell_type": "code",
   "execution_count": 18,
   "metadata": {
    "collapsed": false
   },
   "outputs": [
    {
     "ename": "NameError",
     "evalue": "name 'error' is not defined",
     "output_type": "error",
     "traceback": [
      "\u001b[0;31m---------------------------------------------------------------------------\u001b[0m",
      "\u001b[0;31mNameError\u001b[0m                                 Traceback (most recent call last)",
      "\u001b[0;32m<ipython-input-18-681b54f1e651>\u001b[0m in \u001b[0;36m<module>\u001b[0;34m()\u001b[0m\n\u001b[0;32m----> 1\u001b[0;31m \u001b[0merror\u001b[0m\u001b[0;34m/\u001b[0m\u001b[0mX\u001b[0m\u001b[0;34m.\u001b[0m\u001b[0mshape\u001b[0m\u001b[0;34m[\u001b[0m\u001b[0;36m0\u001b[0m\u001b[0;34m]\u001b[0m\u001b[0;34m/\u001b[0m\u001b[0mX\u001b[0m\u001b[0;34m.\u001b[0m\u001b[0mshape\u001b[0m\u001b[0;34m[\u001b[0m\u001b[0;36m1\u001b[0m\u001b[0;34m]\u001b[0m\u001b[0;34m\u001b[0m\u001b[0m\n\u001b[0m",
      "\u001b[0;31mNameError\u001b[0m: name 'error' is not defined"
     ]
    }
   ],
   "source": [
    "error/X.shape[0]/X.shape[1]"
   ]
  },
  {
   "cell_type": "code",
   "execution_count": 19,
   "metadata": {
    "collapsed": false
   },
   "outputs": [],
   "source": [
    "from pyspark import SparkConf, SparkContext\n",
    "from pyspark.sql import SparkSession\n",
    "\n",
    "spark = SparkSession \\\n",
    "    .builder \\\n",
    "    .appName(\"Python Spark SQL basic example\") \\\n",
    "    .config(\"spark.some.config.option\", \"some-value\") \\\n",
    "    .getOrCreate()\n",
    "\n",
    "sc = spark.sparkContext\n",
    "sc.setLogLevel(\"WARN\")\n"
   ]
  },
  {
   "cell_type": "code",
   "execution_count": 20,
   "metadata": {
    "collapsed": false
   },
   "outputs": [],
   "source": [
    "from pyspark.sql.functions import rand\n",
    "\n",
    "def kfold_cv_generator(dataset, n_folds=3, seed = None):\n",
    "    if not seed:\n",
    "        seed = 0\n",
    "    h = 1.0 / n_folds\n",
    "    randCol = \"cv_rand\"\n",
    "    df = dataset.select(\"*\", rand(seed).alias(randCol)).cache()\n",
    "    for i in range(n_folds):\n",
    "        validateLB = i * h\n",
    "        validateUB = (i + 1) * h\n",
    "        condition = (df[randCol] >= validateLB) & (df[randCol] < validateUB)\n",
    "        validation = df.filter(condition)\n",
    "        train = df.filter(~condition)\n",
    "        yield train.drop(randCol), validation.drop(randCol)"
   ]
  },
  {
   "cell_type": "code",
   "execution_count": 21,
   "metadata": {
    "collapsed": false
   },
   "outputs": [],
   "source": [
    "#ratings_sp = spark.createDataFrame(ratings)"
   ]
  },
  {
   "cell_type": "code",
   "execution_count": 22,
   "metadata": {
    "collapsed": false
   },
   "outputs": [
    {
     "data": {
      "text/plain": [
       "Index([u'UserID', u'MovieID', u'Rating', u'Timestamp'], dtype='object')"
      ]
     },
     "execution_count": 22,
     "metadata": {},
     "output_type": "execute_result"
    }
   ],
   "source": [
    "ratings.columns"
   ]
  },
  {
   "cell_type": "code",
   "execution_count": 23,
   "metadata": {
    "collapsed": false
   },
   "outputs": [],
   "source": [
    "import os\n",
    "#TODO: Should use broadcast for movie_ID_to_index?\n",
    "def parse_data(line):\n",
    "    fields = line.split(\"\\t\")\n",
    "    user_id = int(fields[0])\n",
    "    movie_id = int(fields[1])\n",
    "    rating = float(fields[2])\n",
    "    ts = fields[3]\n",
    "    return movie_ID_to_index_bc.value[movie_id], user_id - 1, rating, ts\n",
    "    \n",
    "movie_ID_to_index_bc = sc.broadcast(movie_ID_to_index)\n",
    "#u_data_file = os.path.join(\"ml-1m\", \"ratings.dat\")\n",
    "u_data_file = os.path.join(\"ml-100k\", \"u.data\")\n",
    "ratings_rdd = sc.textFile(u_data_file).map(parse_data)#.cache().filter(lambda x: x is not None)"
   ]
  },
  {
   "cell_type": "code",
   "execution_count": 24,
   "metadata": {
    "collapsed": false
   },
   "outputs": [
    {
     "data": {
      "text/html": [
       "<div>\n",
       "<table border=\"1\" class=\"dataframe\">\n",
       "  <thead>\n",
       "    <tr style=\"text-align: right;\">\n",
       "      <th></th>\n",
       "      <th>0</th>\n",
       "      <th>1</th>\n",
       "      <th>2</th>\n",
       "    </tr>\n",
       "  </thead>\n",
       "  <tbody>\n",
       "    <tr>\n",
       "      <th>count</th>\n",
       "      <td>100000.000000</td>\n",
       "      <td>100000.00000</td>\n",
       "      <td>100000.000000</td>\n",
       "    </tr>\n",
       "    <tr>\n",
       "      <th>mean</th>\n",
       "      <td>424.530130</td>\n",
       "      <td>461.48475</td>\n",
       "      <td>3.529860</td>\n",
       "    </tr>\n",
       "    <tr>\n",
       "      <th>std</th>\n",
       "      <td>330.798356</td>\n",
       "      <td>266.61442</td>\n",
       "      <td>1.125674</td>\n",
       "    </tr>\n",
       "    <tr>\n",
       "      <th>min</th>\n",
       "      <td>0.000000</td>\n",
       "      <td>0.00000</td>\n",
       "      <td>1.000000</td>\n",
       "    </tr>\n",
       "    <tr>\n",
       "      <th>25%</th>\n",
       "      <td>174.000000</td>\n",
       "      <td>253.00000</td>\n",
       "      <td>3.000000</td>\n",
       "    </tr>\n",
       "    <tr>\n",
       "      <th>50%</th>\n",
       "      <td>321.000000</td>\n",
       "      <td>446.00000</td>\n",
       "      <td>4.000000</td>\n",
       "    </tr>\n",
       "    <tr>\n",
       "      <th>75%</th>\n",
       "      <td>630.000000</td>\n",
       "      <td>681.00000</td>\n",
       "      <td>4.000000</td>\n",
       "    </tr>\n",
       "    <tr>\n",
       "      <th>max</th>\n",
       "      <td>1681.000000</td>\n",
       "      <td>942.00000</td>\n",
       "      <td>5.000000</td>\n",
       "    </tr>\n",
       "  </tbody>\n",
       "</table>\n",
       "</div>"
      ],
      "text/plain": [
       "                   0             1              2\n",
       "count  100000.000000  100000.00000  100000.000000\n",
       "mean      424.530130     461.48475       3.529860\n",
       "std       330.798356     266.61442       1.125674\n",
       "min         0.000000       0.00000       1.000000\n",
       "25%       174.000000     253.00000       3.000000\n",
       "50%       321.000000     446.00000       4.000000\n",
       "75%       630.000000     681.00000       4.000000\n",
       "max      1681.000000     942.00000       5.000000"
      ]
     },
     "execution_count": 24,
     "metadata": {},
     "output_type": "execute_result"
    }
   ],
   "source": [
    "x = ratings_rdd.collect()\n",
    "pd.DataFrame(x).describe()"
   ]
  },
  {
   "cell_type": "markdown",
   "metadata": {
    "collapsed": true
   },
   "source": [
    "number of unique movies: 3883\n",
    "number of users: 6040"
   ]
  },
  {
   "cell_type": "code",
   "execution_count": 25,
   "metadata": {
    "collapsed": false
   },
   "outputs": [
    {
     "ename": "NameError",
     "evalue": "name 'ratings_sp' is not defined",
     "output_type": "error",
     "traceback": [
      "\u001b[0;31m---------------------------------------------------------------------------\u001b[0m",
      "\u001b[0;31mNameError\u001b[0m                                 Traceback (most recent call last)",
      "\u001b[0;32m<ipython-input-25-63a5697c3ceb>\u001b[0m in \u001b[0;36m<module>\u001b[0;34m()\u001b[0m\n\u001b[0;32m----> 1\u001b[0;31m \u001b[0mratings_sp\u001b[0m\u001b[0;34m.\u001b[0m\u001b[0mselect\u001b[0m\u001b[0;34m(\u001b[0m\u001b[0;34m[\u001b[0m\u001b[0;34m'UserID'\u001b[0m\u001b[0;34m,\u001b[0m \u001b[0;34m'MovieID'\u001b[0m\u001b[0;34m,\u001b[0m \u001b[0;34m'Rating'\u001b[0m\u001b[0;34m]\u001b[0m\u001b[0;34m)\u001b[0m\u001b[0;34m\u001b[0m\u001b[0m\n\u001b[0m",
      "\u001b[0;31mNameError\u001b[0m: name 'ratings_sp' is not defined"
     ]
    }
   ],
   "source": [
    "ratings_sp.select(['UserID', 'MovieID', 'Rating'])"
   ]
  },
  {
   "cell_type": "code",
   "execution_count": 26,
   "metadata": {
    "collapsed": false
   },
   "outputs": [
    {
     "data": {
      "text/plain": [
       "['UserID', 'MovieID', 'Rating', 'Timestamp']"
      ]
     },
     "execution_count": 26,
     "metadata": {},
     "output_type": "execute_result"
    }
   ],
   "source": [
    "ratings_columns = \"UserID::MovieID::Rating::Timestamp\".split(\"::\")\n",
    "ratings_sp = spark.createDataFrame(ratings_rdd, schema=ratings_columns)\n",
    "ratings_sp.columns"
   ]
  },
  {
   "cell_type": "code",
   "execution_count": 89,
   "metadata": {
    "collapsed": false
   },
   "outputs": [
    {
     "name": "stdout",
     "output_type": "stream",
     "text": [
      "[array([1, 1, 1, 6, 6, 6, 1, 1, 1, 6, 6, 6, 1, 1, 1, 6, 6, 6, 1, 1, 1, 6, 6,\n",
      "       6]), array([ 3.1,  3.1,  3.1,  3.1,  3.1,  3.1,  3.2,  3.2,  3.2,  3.2,  3.2,\n",
      "        3.2,  3.3,  3.3,  3.3,  3.3,  3.3,  3.3,  3.5,  3.5,  3.5,  3.5,\n",
      "        3.5,  3.5]), array([ 2.2,  2.5,  2.7,  2.2,  2.5,  2.7,  2.2,  2.5,  2.7,  2.2,  2.5,\n",
      "        2.7,  2.2,  2.5,  2.7,  2.2,  2.5,  2.7,  2.2,  2.5,  2.7,  2.2,\n",
      "        2.5,  2.7])]\n"
     ]
    },
    {
     "data": {
      "text/plain": [
       "[(1, 3.1000000000000001, 2.2000000000000002),\n",
       " (1, 3.1000000000000001, 2.5),\n",
       " (1, 3.1000000000000001, 2.7000000000000002),\n",
       " (6, 3.1000000000000001, 2.2000000000000002),\n",
       " (6, 3.1000000000000001, 2.5),\n",
       " (6, 3.1000000000000001, 2.7000000000000002),\n",
       " (1, 3.2000000000000002, 2.2000000000000002),\n",
       " (1, 3.2000000000000002, 2.5),\n",
       " (1, 3.2000000000000002, 2.7000000000000002),\n",
       " (6, 3.2000000000000002, 2.2000000000000002),\n",
       " (6, 3.2000000000000002, 2.5),\n",
       " (6, 3.2000000000000002, 2.7000000000000002),\n",
       " (1, 3.2999999999999998, 2.2000000000000002),\n",
       " (1, 3.2999999999999998, 2.5),\n",
       " (1, 3.2999999999999998, 2.7000000000000002),\n",
       " (6, 3.2999999999999998, 2.2000000000000002),\n",
       " (6, 3.2999999999999998, 2.5),\n",
       " (6, 3.2999999999999998, 2.7000000000000002),\n",
       " (1, 3.5, 2.2000000000000002),\n",
       " (1, 3.5, 2.5),\n",
       " (1, 3.5, 2.7000000000000002),\n",
       " (6, 3.5, 2.2000000000000002),\n",
       " (6, 3.5, 2.5),\n",
       " (6, 3.5, 2.7000000000000002)]"
      ]
     },
     "execution_count": 89,
     "metadata": {},
     "output_type": "execute_result"
    }
   ],
   "source": [
    "#param_map = {'rank': [1, 2, 4, 10, 20], 'lambda_': np.linspace(-3, 3, 5)}\n",
    "param_map = {'a':[1, 6], 'b': [2.2, 2.5, 2.7], 'c':[3.1, 3.2, 3.3, 3.5]}\n",
    "\n",
    "param_map.items()\n",
    "value_grid = np.meshgrid(*param_map.values(), indexing='xy')\n",
    "index_grid = np.meshgrid(*[range(len(i)) for i in param_map.values()], indexing='ij')\n",
    "index_grids = []\n",
    "for a in index_grid:\n",
    "    index_grids.append(a.reshape(-1, ))\n",
    "\n",
    "value_grids = []\n",
    "for a in value_grid:\n",
    "    value_grids.append(a.reshape(-1, ))\n",
    "\n",
    "#index_grids = np.vstack(index_grids).T \n",
    "#value_grids = np.vstack(value_grids).T\n",
    "print value_grids\n",
    "zip(*value_grids)\n"
   ]
  },
  {
   "cell_type": "code",
   "execution_count": 148,
   "metadata": {
    "collapsed": false
   },
   "outputs": [
    {
     "data": {
      "text/plain": [
       "[array([[  1.00000000e-03,   3.16227766e-02,   1.00000000e+00,\n",
       "           3.16227766e+01,   1.00000000e+03],\n",
       "        [  1.00000000e-03,   3.16227766e-02,   1.00000000e+00,\n",
       "           3.16227766e+01,   1.00000000e+03],\n",
       "        [  1.00000000e-03,   3.16227766e-02,   1.00000000e+00,\n",
       "           3.16227766e+01,   1.00000000e+03],\n",
       "        [  1.00000000e-03,   3.16227766e-02,   1.00000000e+00,\n",
       "           3.16227766e+01,   1.00000000e+03],\n",
       "        [  1.00000000e-03,   3.16227766e-02,   1.00000000e+00,\n",
       "           3.16227766e+01,   1.00000000e+03]]), array([[ 1,  1,  1,  1,  1],\n",
       "        [ 2,  2,  2,  2,  2],\n",
       "        [ 4,  4,  4,  4,  4],\n",
       "        [10, 10, 10, 10, 10],\n",
       "        [20, 20, 20, 20, 20]])]"
      ]
     },
     "execution_count": 148,
     "metadata": {},
     "output_type": "execute_result"
    }
   ],
   "source": [
    "value_grid"
   ]
  },
  {
   "cell_type": "code",
   "execution_count": 159,
   "metadata": {
    "collapsed": false
   },
   "outputs": [],
   "source": [
    "from mpl_toolkits.mplot3d import Axes3D\n",
    "import matplotlib.pyplot as plt\n",
    "from matplotlib import cm\n",
    "from matplotlib.ticker import LinearLocator, FormatStrFormatter\n",
    "import numpy as np\n",
    "\n",
    "\n",
    "fig = plt.figure()\n",
    "ax = fig.gca(projection='3d')\n",
    "\n",
    "# Make data.\n",
    "\n",
    "# Plot the surface.\n",
    "args = list(value_grid)\n",
    "args.append(MSE_grid_)\n",
    "surf = ax.plot_surface(*args, cmap=cm.coolwarm,\n",
    "                       linewidth=0, antialiased=False)\n",
    "\n",
    "# Customize the z axis.\n",
    "#ax.set_zlim(-1.01, 1.01)\n",
    "#ax.zaxis.set_major_locator(LinearLocator(10))\n",
    "#ax.zaxis.set_major_formatter(FormatStrFormatter('%.02f'))\n",
    "ax.set_xlabel('x')\n",
    "ax.set_ylabel('y')\n",
    "#ax.set_xscale('log')\n",
    "\n",
    "# Add a color bar which maps values to colors.\n",
    "#fig.colorbar(surf, shrink=0.5, aspect=5)\n",
    "\n",
    "plt.show()"
   ]
  },
  {
   "cell_type": "code",
   "execution_count": 111,
   "metadata": {
    "collapsed": false,
    "scrolled": true
   },
   "outputs": [
    {
     "data": {
      "text/plain": [
       "array([[ 0.94931574,  0.95086059,  1.37509381,  3.70666256,  3.70666256],\n",
       "       [ 0.9701203 ,  0.93727665,  1.37509371,  3.70666256,  3.70666256],\n",
       "       [ 1.07397648,  0.96540934,  1.37509363,  3.70666256,  3.70666256],\n",
       "       [ 1.42892786,  1.02818472,  1.37509395,  3.70666256,  3.70666256],\n",
       "       [ 1.61278906,  1.06256944,  1.37509377,  3.70666256,  3.70666256]])"
      ]
     },
     "execution_count": 111,
     "metadata": {},
     "output_type": "execute_result"
    }
   ],
   "source": [
    "MSE_grid_"
   ]
  },
  {
   "cell_type": "code",
   "execution_count": null,
   "metadata": {
    "collapsed": true
   },
   "outputs": [],
   "source": [
    "MSE_grid_ = np.reshape(MSE_grid, value_grid[0].shape)\n",
    "\n",
    "\n",
    "from mpl_toolkits.mplot3d import Axes3D\n",
    "import matplotlib.pyplot as plt\n",
    "from matplotlib import cm\n",
    "from matplotlib.ticker import LinearLocator, FormatStrFormatter\n",
    "import numpy as np\n",
    "\n",
    "\n",
    "fig = plt.figure()\n",
    "ax = fig.gca(projection='3d')\n",
    "\n",
    "# Make data.\n",
    "\n",
    "# Plot the surface.\n",
    "args = list(value_grid)\n",
    "args.append(MSE_grid_)\n",
    "surf = ax.plot_surface(*args, cmap=cm.coolwarm,\n",
    "                       linewidth=0, antialiased=False)\n",
    "ax.set_xlabel('x')\n",
    "ax.set_ylabel('y')\n",
    "#ax.set_xscale('log')\n",
    "\n",
    "# Add a color bar which maps values to colors.\n",
    "#fig.colorbar(surf, shrink=0.5, aspect=5)\n",
    "\n",
    "plt.show()"
   ]
  },
  {
   "cell_type": "code",
   "execution_count": 160,
   "metadata": {
    "collapsed": false
   },
   "outputs": [
    {
     "name": "stdout",
     "output_type": "stream",
     "text": [
      "{'lambda_': 0.001, 'rank': 1}\n",
      "Mean Squared Error = [ 0.95699108  0.          0.        ]\n",
      "{'lambda_': 0.001, 'rank': 1}\n",
      "Mean Squared Error = [ 0.95699108  0.94576478  0.        ]\n",
      "{'lambda_': 0.001, 'rank': 1}\n",
      "Mean Squared Error = [ 0.95699108  0.94576478  0.94519205]\n",
      " MSE grid= [ 0.94931597  0.          0.          0.          0.          0.          0.\n",
      "  0.          0.          0.          0.          0.          0.          0.\n",
      "  0.          0.          0.          0.          0.          0.          0.\n",
      "  0.          0.          0.          0.          0.          0.          0.\n",
      "  0.          0.          0.          0.          0.          0.          0.\n",
      "  0.          0.          0.          0.          0.          0.          0.\n",
      "  0.          0.          0.          0.          0.          0.          0.\n",
      "  0.          0.          0.          0.          0.          0.          0.\n",
      "  0.          0.          0.          0.        ]\n",
      "{'lambda_': 0.0031622776601683794, 'rank': 1}\n",
      "Mean Squared Error = [ 0.95685972  0.          0.        ]\n",
      "{'lambda_': 0.0031622776601683794, 'rank': 1}\n",
      "Mean Squared Error = [ 0.95685972  0.94584165  0.        ]\n",
      "{'lambda_': 0.0031622776601683794, 'rank': 1}\n",
      "Mean Squared Error = [ 0.95685972  0.94584165  0.94523875]\n",
      " MSE grid= [ 0.94931597  0.94931337  0.          0.          0.          0.          0.\n",
      "  0.          0.          0.          0.          0.          0.          0.\n",
      "  0.          0.          0.          0.          0.          0.          0.\n",
      "  0.          0.          0.          0.          0.          0.          0.\n",
      "  0.          0.          0.          0.          0.          0.          0.\n",
      "  0.          0.          0.          0.          0.          0.          0.\n",
      "  0.          0.          0.          0.          0.          0.          0.\n",
      "  0.          0.          0.          0.          0.          0.          0.\n",
      "  0.          0.          0.          0.        ]\n",
      "{'lambda_': 0.01, 'rank': 1}\n",
      "Mean Squared Error = [ 0.95673478  0.          0.        ]\n",
      "{'lambda_': 0.01, 'rank': 1}\n",
      "Mean Squared Error = [ 0.95673478  0.94652599  0.        ]\n",
      "{'lambda_': 0.01, 'rank': 1}\n",
      "Mean Squared Error = [ 0.95673478  0.94652599  0.94572218]\n",
      " MSE grid= [ 0.94931597  0.94931337  0.94966099  0.          0.          0.          0.\n",
      "  0.          0.          0.          0.          0.          0.          0.\n",
      "  0.          0.          0.          0.          0.          0.          0.\n",
      "  0.          0.          0.          0.          0.          0.          0.\n",
      "  0.          0.          0.          0.          0.          0.          0.\n",
      "  0.          0.          0.          0.          0.          0.          0.\n",
      "  0.          0.          0.          0.          0.          0.          0.\n",
      "  0.          0.          0.          0.          0.          0.          0.\n",
      "  0.          0.          0.          0.        ]\n",
      "{'lambda_': 0.031622776601683791, 'rank': 1}\n",
      "Mean Squared Error = [ 0.95909691  0.          0.        ]\n",
      "{'lambda_': 0.031622776601683791, 'rank': 1}\n",
      "Mean Squared Error = [ 0.95909691  0.9472942   0.        ]\n",
      "{'lambda_': 0.031622776601683791, 'rank': 1}\n",
      "Mean Squared Error = [ 0.95909691  0.9472942   0.94728502]\n",
      " MSE grid= [ 0.94931597  0.94931337  0.94966099  0.95122537  0.          0.          0.\n",
      "  0.          0.          0.          0.          0.          0.          0.\n",
      "  0.          0.          0.          0.          0.          0.          0.\n",
      "  0.          0.          0.          0.          0.          0.          0.\n",
      "  0.          0.          0.          0.          0.          0.          0.\n",
      "  0.          0.          0.          0.          0.          0.          0.\n",
      "  0.          0.          0.          0.          0.          0.          0.\n",
      "  0.          0.          0.          0.          0.          0.          0.\n",
      "  0.          0.          0.          0.        ]\n",
      "{'lambda_': 0.10000000000000001, 'rank': 1}\n",
      "Mean Squared Error = [ 0.9610794  0.         0.       ]\n",
      "{'lambda_': 0.10000000000000001, 'rank': 1}\n",
      "Mean Squared Error = [ 0.9610794  0.9525421  0.       ]\n",
      "{'lambda_': 0.10000000000000001, 'rank': 1}\n",
      "Mean Squared Error = [ 0.9610794   0.9525421   0.95272274]\n",
      " MSE grid= [ 0.94931597  0.94931337  0.94966099  0.95122537  0.95544808  0.          0.\n",
      "  0.          0.          0.          0.          0.          0.          0.\n",
      "  0.          0.          0.          0.          0.          0.          0.\n",
      "  0.          0.          0.          0.          0.          0.          0.\n",
      "  0.          0.          0.          0.          0.          0.          0.\n",
      "  0.          0.          0.          0.          0.          0.          0.\n",
      "  0.          0.          0.          0.          0.          0.          0.\n",
      "  0.          0.          0.          0.          0.          0.          0.\n",
      "  0.          0.          0.          0.        ]\n",
      "{'lambda_': 0.31622776601683794, 'rank': 1}\n",
      "Mean Squared Error = [ 0.99962895  0.          0.        ]\n",
      "{'lambda_': 0.31622776601683794, 'rank': 1}\n",
      "Mean Squared Error = [ 0.99962895  0.99545181  0.        ]\n",
      "{'lambda_': 0.31622776601683794, 'rank': 1}\n",
      "Mean Squared Error = [ 0.99962895  0.99545181  0.99525568]\n",
      " MSE grid= [ 0.94931597  0.94931337  0.94966099  0.95122537  0.95544808  0.99677881\n",
      "  0.          0.          0.          0.          0.          0.          0.\n",
      "  0.          0.          0.          0.          0.          0.          0.\n",
      "  0.          0.          0.          0.          0.          0.          0.\n",
      "  0.          0.          0.          0.          0.          0.          0.\n",
      "  0.          0.          0.          0.          0.          0.          0.\n",
      "  0.          0.          0.          0.          0.          0.          0.\n",
      "  0.          0.          0.          0.          0.          0.          0.\n",
      "  0.          0.          0.          0.          0.        ]\n",
      "{'lambda_': 1.0, 'rank': 1}\n",
      "Mean Squared Error = [ 1.37004033  0.          0.        ]\n",
      "{'lambda_': 1.0, 'rank': 1}\n",
      "Mean Squared Error = [ 1.37004033  1.37850456  0.        ]\n",
      "{'lambda_': 1.0, 'rank': 1}\n",
      "Mean Squared Error = [ 1.37004033  1.37850456  1.37673502]\n",
      " MSE grid= [ 0.94931597  0.94931337  0.94966099  0.95122537  0.95544808  0.99677881\n",
      "  1.3750933   0.          0.          0.          0.          0.          0.\n",
      "  0.          0.          0.          0.          0.          0.          0.\n",
      "  0.          0.          0.          0.          0.          0.          0.\n",
      "  0.          0.          0.          0.          0.          0.          0.\n",
      "  0.          0.          0.          0.          0.          0.          0.\n",
      "  0.          0.          0.          0.          0.          0.          0.\n",
      "  0.          0.          0.          0.          0.          0.          0.\n",
      "  0.          0.          0.          0.          0.        ]\n",
      "{'lambda_': 3.1622776601683795, 'rank': 1}\n",
      "Mean Squared Error = [ 3.50823272  0.          0.        ]\n",
      "{'lambda_': 3.1622776601683795, 'rank': 1}\n",
      "Mean Squared Error = [ 3.50823272  3.39256751  0.        ]\n",
      "{'lambda_': 3.1622776601683795, 'rank': 1}\n",
      "Mean Squared Error = [ 3.50823272  3.39256751  3.52195938]\n",
      " MSE grid= [ 0.94931597  0.94931337  0.94966099  0.95122537  0.95544808  0.99677881\n",
      "  1.3750933   3.4742532   0.          0.          0.          0.          0.\n",
      "  0.          0.          0.          0.          0.          0.          0.\n",
      "  0.          0.          0.          0.          0.          0.          0.\n",
      "  0.          0.          0.          0.          0.          0.          0.\n",
      "  0.          0.          0.          0.          0.          0.          0.\n",
      "  0.          0.          0.          0.          0.          0.          0.\n",
      "  0.          0.          0.          0.          0.          0.          0.\n",
      "  0.          0.          0.          0.          0.        ]\n",
      "{'lambda_': 10.0, 'rank': 1}\n",
      "Mean Squared Error = [ 3.70363873  0.          0.        ]\n",
      "{'lambda_': 10.0, 'rank': 1}\n",
      "Mean Squared Error = [ 3.70363873  3.7098984   0.        ]\n",
      "{'lambda_': 10.0, 'rank': 1}\n",
      "Mean Squared Error = [ 3.70363873  3.7098984   3.70645054]\n",
      " MSE grid= [ 0.94931597  0.94931337  0.94966099  0.95122537  0.95544808  0.99677881\n",
      "  1.3750933   3.4742532   3.70666256  0.          0.          0.          0.\n",
      "  0.          0.          0.          0.          0.          0.          0.\n",
      "  0.          0.          0.          0.          0.          0.          0.\n",
      "  0.          0.          0.          0.          0.          0.          0.\n",
      "  0.          0.          0.          0.          0.          0.          0.\n",
      "  0.          0.          0.          0.          0.          0.          0.\n",
      "  0.          0.          0.          0.          0.          0.          0.\n",
      "  0.          0.          0.          0.          0.        ]\n",
      "{'lambda_': 31.622776601683793, 'rank': 1}\n",
      "Mean Squared Error = [ 3.70363873  0.          0.        ]\n",
      "{'lambda_': 31.622776601683793, 'rank': 1}\n",
      "Mean Squared Error = [ 3.70363873  3.7098984   0.        ]\n",
      "{'lambda_': 31.622776601683793, 'rank': 1}\n",
      "Mean Squared Error = [ 3.70363873  3.7098984   3.70645054]\n",
      " MSE grid= [ 0.94931597  0.94931337  0.94966099  0.95122537  0.95544808  0.99677881\n",
      "  1.3750933   3.4742532   3.70666256  3.70666256  0.          0.          0.\n",
      "  0.          0.          0.          0.          0.          0.          0.\n",
      "  0.          0.          0.          0.          0.          0.          0.\n",
      "  0.          0.          0.          0.          0.          0.          0.\n",
      "  0.          0.          0.          0.          0.          0.          0.\n",
      "  0.          0.          0.          0.          0.          0.          0.\n",
      "  0.          0.          0.          0.          0.          0.          0.\n",
      "  0.          0.          0.          0.          0.        ]\n",
      "{'lambda_': 0.001, 'rank': 2}\n",
      "Mean Squared Error = [ 0.98293965  0.          0.        ]\n",
      "{'lambda_': 0.001, 'rank': 2}\n",
      "Mean Squared Error = [ 0.98293965  0.98158412  0.        ]\n",
      "{'lambda_': 0.001, 'rank': 2}\n",
      "Mean Squared Error = [ 0.98293965  0.98158412  0.98228237]\n",
      " MSE grid= [ 0.94931597  0.94931337  0.94966099  0.95122537  0.95544808  0.99677881\n",
      "  1.3750933   3.4742532   3.70666256  3.70666256  0.98226871  0.          0.\n",
      "  0.          0.          0.          0.          0.          0.          0.\n",
      "  0.          0.          0.          0.          0.          0.          0.\n",
      "  0.          0.          0.          0.          0.          0.          0.\n",
      "  0.          0.          0.          0.          0.          0.          0.\n",
      "  0.          0.          0.          0.          0.          0.          0.\n",
      "  0.          0.          0.          0.          0.          0.          0.\n",
      "  0.          0.          0.          0.          0.        ]\n",
      "{'lambda_': 0.0031622776601683794, 'rank': 2}\n",
      "Mean Squared Error = [ 0.96911507  0.          0.        ]\n",
      "{'lambda_': 0.0031622776601683794, 'rank': 2}\n",
      "Mean Squared Error = [ 0.96911507  0.9490494   0.        ]\n",
      "{'lambda_': 0.0031622776601683794, 'rank': 2}\n",
      "Mean Squared Error = [ 0.96911507  0.9490494   0.96464354]\n",
      " MSE grid= [ 0.94931597  0.94931337  0.94966099  0.95122537  0.95544808  0.99677881\n",
      "  1.3750933   3.4742532   3.70666256  3.70666256  0.98226871  0.960936    0.\n",
      "  0.          0.          0.          0.          0.          0.          0.\n",
      "  0.          0.          0.          0.          0.          0.          0.\n",
      "  0.          0.          0.          0.          0.          0.          0.\n",
      "  0.          0.          0.          0.          0.          0.          0.\n",
      "  0.          0.          0.          0.          0.          0.          0.\n",
      "  0.          0.          0.          0.          0.          0.          0.\n",
      "  0.          0.          0.          0.          0.        ]\n",
      "{'lambda_': 0.01, 'rank': 2}\n",
      "Mean Squared Error = [ 0.95286709  0.          0.        ]\n",
      "{'lambda_': 0.01, 'rank': 2}\n",
      "Mean Squared Error = [ 0.95286709  0.95480513  0.        ]\n",
      "{'lambda_': 0.01, 'rank': 2}\n",
      "Mean Squared Error = [ 0.95286709  0.95480513  0.93988383]\n",
      " MSE grid= [ 0.94931597  0.94931337  0.94966099  0.95122537  0.95544808  0.99677881\n",
      "  1.3750933   3.4742532   3.70666256  3.70666256  0.98226871  0.960936\n",
      "  0.94918535  0.          0.          0.          0.          0.          0.\n",
      "  0.          0.          0.          0.          0.          0.          0.\n",
      "  0.          0.          0.          0.          0.          0.          0.\n",
      "  0.          0.          0.          0.          0.          0.          0.\n",
      "  0.          0.          0.          0.          0.          0.          0.\n",
      "  0.          0.          0.          0.          0.          0.          0.\n",
      "  0.          0.          0.          0.          0.          0.        ]\n",
      "{'lambda_': 0.031622776601683791, 'rank': 2}\n",
      "Mean Squared Error = [ 0.94762442  0.          0.        ]\n",
      "{'lambda_': 0.031622776601683791, 'rank': 2}\n",
      "Mean Squared Error = [ 0.94762442  0.93171769  0.        ]\n",
      "{'lambda_': 0.031622776601683791, 'rank': 2}\n",
      "Mean Squared Error = [ 0.94762442  0.93171769  0.93225805]\n",
      " MSE grid= [ 0.94931597  0.94931337  0.94966099  0.95122537  0.95544808  0.99677881\n",
      "  1.3750933   3.4742532   3.70666256  3.70666256  0.98226871  0.960936\n",
      "  0.94918535  0.93720005  0.          0.          0.          0.          0.\n",
      "  0.          0.          0.          0.          0.          0.          0.\n",
      "  0.          0.          0.          0.          0.          0.          0.\n",
      "  0.          0.          0.          0.          0.          0.          0.\n",
      "  0.          0.          0.          0.          0.          0.          0.\n",
      "  0.          0.          0.          0.          0.          0.          0.\n",
      "  0.          0.          0.          0.          0.          0.        ]\n",
      "{'lambda_': 0.10000000000000001, 'rank': 2}\n",
      "Mean Squared Error = [ 0.9392815  0.         0.       ]\n",
      "{'lambda_': 0.10000000000000001, 'rank': 2}\n",
      "Mean Squared Error = [ 0.9392815   0.93312233  0.        ]\n",
      "{'lambda_': 0.10000000000000001, 'rank': 2}\n",
      "Mean Squared Error = [ 0.9392815   0.93312233  0.93428163]\n",
      " MSE grid= [ 0.94931597  0.94931337  0.94966099  0.95122537  0.95544808  0.99677881\n",
      "  1.3750933   3.4742532   3.70666256  3.70666256  0.98226871  0.960936\n",
      "  0.94918535  0.93720005  0.93556182  0.          0.          0.          0.\n",
      "  0.          0.          0.          0.          0.          0.          0.\n",
      "  0.          0.          0.          0.          0.          0.          0.\n",
      "  0.          0.          0.          0.          0.          0.          0.\n",
      "  0.          0.          0.          0.          0.          0.          0.\n",
      "  0.          0.          0.          0.          0.          0.          0.\n",
      "  0.          0.          0.          0.          0.          0.        ]\n",
      "{'lambda_': 0.31622776601683794, 'rank': 2}\n",
      "Mean Squared Error = [ 0.99090651  0.          0.        ]\n",
      "{'lambda_': 0.31622776601683794, 'rank': 2}\n",
      "Mean Squared Error = [ 0.99090651  0.99217053  0.        ]\n",
      "{'lambda_': 0.31622776601683794, 'rank': 2}\n",
      "Mean Squared Error = [ 0.99090651  0.99217053  0.98716239]\n",
      " MSE grid= [ 0.94931597  0.94931337  0.94966099  0.95122537  0.95544808  0.99677881\n",
      "  1.3750933   3.4742532   3.70666256  3.70666256  0.98226871  0.960936\n",
      "  0.94918535  0.93720005  0.93556182  0.99007981  0.          0.          0.\n",
      "  0.          0.          0.          0.          0.          0.          0.\n",
      "  0.          0.          0.          0.          0.          0.          0.\n",
      "  0.          0.          0.          0.          0.          0.          0.\n",
      "  0.          0.          0.          0.          0.          0.          0.\n",
      "  0.          0.          0.          0.          0.          0.          0.\n",
      "  0.          0.          0.          0.          0.          0.        ]\n",
      "{'lambda_': 1.0, 'rank': 2}\n",
      "Mean Squared Error = [ 1.37004188  0.          0.        ]\n",
      "{'lambda_': 1.0, 'rank': 2}\n",
      "Mean Squared Error = [ 1.37004188  1.37850299  0.        ]\n",
      "{'lambda_': 1.0, 'rank': 2}\n",
      "Mean Squared Error = [ 1.37004188  1.37850299  1.37673516]\n",
      " MSE grid= [ 0.94931597  0.94931337  0.94966099  0.95122537  0.95544808  0.99677881\n",
      "  1.3750933   3.4742532   3.70666256  3.70666256  0.98226871  0.960936\n",
      "  0.94918535  0.93720005  0.93556182  0.99007981  1.37509334  0.          0.\n",
      "  0.          0.          0.          0.          0.          0.          0.\n",
      "  0.          0.          0.          0.          0.          0.          0.\n",
      "  0.          0.          0.          0.          0.          0.          0.\n",
      "  0.          0.          0.          0.          0.          0.          0.\n",
      "  0.          0.          0.          0.          0.          0.          0.\n",
      "  0.          0.          0.          0.          0.          0.        ]\n",
      "{'lambda_': 3.1622776601683795, 'rank': 2}\n",
      "Mean Squared Error = [ 3.50846368  0.          0.        ]\n",
      "{'lambda_': 3.1622776601683795, 'rank': 2}\n",
      "Mean Squared Error = [ 3.50846368  3.68736317  0.        ]\n",
      "{'lambda_': 3.1622776601683795, 'rank': 2}\n",
      "Mean Squared Error = [ 3.50846368  3.68736317  3.67324839]\n",
      " MSE grid= [ 0.94931597  0.94931337  0.94966099  0.95122537  0.95544808  0.99677881\n",
      "  1.3750933   3.4742532   3.70666256  3.70666256  0.98226871  0.960936\n",
      "  0.94918535  0.93720005  0.93556182  0.99007981  1.37509334  3.62302508\n",
      "  0.          0.          0.          0.          0.          0.          0.\n",
      "  0.          0.          0.          0.          0.          0.          0.\n",
      "  0.          0.          0.          0.          0.          0.          0.\n",
      "  0.          0.          0.          0.          0.          0.          0.\n",
      "  0.          0.          0.          0.          0.          0.          0.\n",
      "  0.          0.          0.          0.          0.          0.          0.        ]\n",
      "{'lambda_': 10.0, 'rank': 2}\n",
      "Mean Squared Error = [ 3.70363873  0.          0.        ]\n",
      "{'lambda_': 10.0, 'rank': 2}\n",
      "Mean Squared Error = [ 3.70363873  3.7098984   0.        ]\n",
      "{'lambda_': 10.0, 'rank': 2}\n",
      "Mean Squared Error = [ 3.70363873  3.7098984   3.70645054]\n",
      " MSE grid= [ 0.94931597  0.94931337  0.94966099  0.95122537  0.95544808  0.99677881\n",
      "  1.3750933   3.4742532   3.70666256  3.70666256  0.98226871  0.960936\n",
      "  0.94918535  0.93720005  0.93556182  0.99007981  1.37509334  3.62302508\n",
      "  3.70666256  0.          0.          0.          0.          0.          0.\n",
      "  0.          0.          0.          0.          0.          0.          0.\n",
      "  0.          0.          0.          0.          0.          0.          0.\n",
      "  0.          0.          0.          0.          0.          0.          0.\n",
      "  0.          0.          0.          0.          0.          0.          0.\n",
      "  0.          0.          0.          0.          0.          0.          0.        ]\n",
      "{'lambda_': 31.622776601683793, 'rank': 2}\n",
      "Mean Squared Error = [ 3.70363873  0.          0.        ]\n",
      "{'lambda_': 31.622776601683793, 'rank': 2}\n",
      "Mean Squared Error = [ 3.70363873  3.7098984   0.        ]\n",
      "{'lambda_': 31.622776601683793, 'rank': 2}\n",
      "Mean Squared Error = [ 3.70363873  3.7098984   3.70645054]\n",
      " MSE grid= [ 0.94931597  0.94931337  0.94966099  0.95122537  0.95544808  0.99677881\n",
      "  1.3750933   3.4742532   3.70666256  3.70666256  0.98226871  0.960936\n",
      "  0.94918535  0.93720005  0.93556182  0.99007981  1.37509334  3.62302508\n",
      "  3.70666256  3.70666256  0.          0.          0.          0.          0.\n",
      "  0.          0.          0.          0.          0.          0.          0.\n",
      "  0.          0.          0.          0.          0.          0.          0.\n",
      "  0.          0.          0.          0.          0.          0.          0.\n",
      "  0.          0.          0.          0.          0.          0.          0.\n",
      "  0.          0.          0.          0.          0.          0.          0.        ]\n",
      "{'lambda_': 0.001, 'rank': 4}\n",
      "Mean Squared Error = [ 1.18443835  0.          0.        ]\n",
      "{'lambda_': 0.001, 'rank': 4}\n",
      "Mean Squared Error = [ 1.18443835  1.09244404  0.        ]\n",
      "{'lambda_': 0.001, 'rank': 4}\n",
      "Mean Squared Error = [ 1.18443835  1.09244404  1.09208717]\n",
      " MSE grid= [ 0.94931597  0.94931337  0.94966099  0.95122537  0.95544808  0.99677881\n",
      "  1.3750933   3.4742532   3.70666256  3.70666256  0.98226871  0.960936\n",
      "  0.94918535  0.93720005  0.93556182  0.99007981  1.37509334  3.62302508\n",
      "  3.70666256  3.70666256  1.12298985  0.          0.          0.          0.\n",
      "  0.          0.          0.          0.          0.          0.          0.\n",
      "  0.          0.          0.          0.          0.          0.          0.\n",
      "  0.          0.          0.          0.          0.          0.          0.\n",
      "  0.          0.          0.          0.          0.          0.          0.\n",
      "  0.          0.          0.          0.          0.          0.          0.        ]\n",
      "{'lambda_': 0.0031622776601683794, 'rank': 4}\n",
      "Mean Squared Error = [ 1.07648137  0.          0.        ]\n",
      "{'lambda_': 0.0031622776601683794, 'rank': 4}\n",
      "Mean Squared Error = [ 1.07648137  1.04798068  0.        ]\n",
      "{'lambda_': 0.0031622776601683794, 'rank': 4}\n",
      "Mean Squared Error = [ 1.07648137  1.04798068  1.04397587]\n",
      " MSE grid= [ 0.94931597  0.94931337  0.94966099  0.95122537  0.95544808  0.99677881\n",
      "  1.3750933   3.4742532   3.70666256  3.70666256  0.98226871  0.960936\n",
      "  0.94918535  0.93720005  0.93556182  0.99007981  1.37509334  3.62302508\n",
      "  3.70666256  3.70666256  1.12298985  1.05614597  0.          0.          0.\n",
      "  0.          0.          0.          0.          0.          0.          0.\n",
      "  0.          0.          0.          0.          0.          0.          0.\n",
      "  0.          0.          0.          0.          0.          0.          0.\n",
      "  0.          0.          0.          0.          0.          0.          0.\n",
      "  0.          0.          0.          0.          0.          0.          0.        ]\n",
      "{'lambda_': 0.01, 'rank': 4}\n",
      "Mean Squared Error = [ 1.01275758  0.          0.        ]\n",
      "{'lambda_': 0.01, 'rank': 4}\n",
      "Mean Squared Error = [ 1.01275758  0.98789507  0.        ]\n",
      "{'lambda_': 0.01, 'rank': 4}\n",
      "Mean Squared Error = [ 1.01275758  0.98789507  0.99316438]\n",
      " MSE grid= [ 0.94931597  0.94931337  0.94966099  0.95122537  0.95544808  0.99677881\n",
      "  1.3750933   3.4742532   3.70666256  3.70666256  0.98226871  0.960936\n",
      "  0.94918535  0.93720005  0.93556182  0.99007981  1.37509334  3.62302508\n",
      "  3.70666256  3.70666256  1.12298985  1.05614597  0.99793901  0.          0.\n",
      "  0.          0.          0.          0.          0.          0.          0.\n",
      "  0.          0.          0.          0.          0.          0.          0.\n",
      "  0.          0.          0.          0.          0.          0.          0.\n",
      "  0.          0.          0.          0.          0.          0.          0.\n",
      "  0.          0.          0.          0.          0.          0.          0.        ]\n",
      "{'lambda_': 0.031622776601683791, 'rank': 4}\n",
      "Mean Squared Error = [ 0.96694487  0.          0.        ]\n",
      "{'lambda_': 0.031622776601683791, 'rank': 4}\n",
      "Mean Squared Error = [ 0.96694487  0.96063783  0.        ]\n",
      "{'lambda_': 0.031622776601683791, 'rank': 4}\n",
      "Mean Squared Error = [ 0.96694487  0.96063783  0.95226863]\n",
      " MSE grid= [ 0.94931597  0.94931337  0.94966099  0.95122537  0.95544808  0.99677881\n",
      "  1.3750933   3.4742532   3.70666256  3.70666256  0.98226871  0.960936\n",
      "  0.94918535  0.93720005  0.93556182  0.99007981  1.37509334  3.62302508\n",
      "  3.70666256  3.70666256  1.12298985  1.05614597  0.99793901  0.95995044\n",
      "  0.          0.          0.          0.          0.          0.          0.\n",
      "  0.          0.          0.          0.          0.          0.          0.\n",
      "  0.          0.          0.          0.          0.          0.          0.\n",
      "  0.          0.          0.          0.          0.          0.          0.\n",
      "  0.          0.          0.          0.          0.          0.          0.\n",
      "  0.        ]\n",
      "{'lambda_': 0.10000000000000001, 'rank': 4}\n",
      "Mean Squared Error = [ 0.93717427  0.          0.        ]\n",
      "{'lambda_': 0.10000000000000001, 'rank': 4}\n",
      "Mean Squared Error = [ 0.93717427  0.93279145  0.        ]\n",
      "{'lambda_': 0.10000000000000001, 'rank': 4}\n",
      "Mean Squared Error = [ 0.93717427  0.93279145  0.92966226]\n",
      " MSE grid= [ 0.94931597  0.94931337  0.94966099  0.95122537  0.95544808  0.99677881\n",
      "  1.3750933   3.4742532   3.70666256  3.70666256  0.98226871  0.960936\n",
      "  0.94918535  0.93720005  0.93556182  0.99007981  1.37509334  3.62302508\n",
      "  3.70666256  3.70666256  1.12298985  1.05614597  0.99793901  0.95995044\n",
      "  0.93320933  0.          0.          0.          0.          0.          0.\n",
      "  0.          0.          0.          0.          0.          0.          0.\n",
      "  0.          0.          0.          0.          0.          0.          0.\n",
      "  0.          0.          0.          0.          0.          0.          0.\n",
      "  0.          0.          0.          0.          0.          0.          0.\n",
      "  0.        ]\n",
      "{'lambda_': 0.31622776601683794, 'rank': 4}\n",
      "Mean Squared Error = [ 0.99136148  0.          0.        ]\n",
      "{'lambda_': 0.31622776601683794, 'rank': 4}\n",
      "Mean Squared Error = [ 0.99136148  0.99030904  0.        ]\n",
      "{'lambda_': 0.31622776601683794, 'rank': 4}\n",
      "Mean Squared Error = [ 0.99136148  0.99030904  0.99046744]\n",
      " MSE grid= [ 0.94931597  0.94931337  0.94966099  0.95122537  0.95544808  0.99677881\n",
      "  1.3750933   3.4742532   3.70666256  3.70666256  0.98226871  0.960936\n",
      "  0.94918535  0.93720005  0.93556182  0.99007981  1.37509334  3.62302508\n",
      "  3.70666256  3.70666256  1.12298985  1.05614597  0.99793901  0.95995044\n",
      "  0.93320933  0.99071266  0.          0.          0.          0.          0.\n",
      "  0.          0.          0.          0.          0.          0.          0.\n",
      "  0.          0.          0.          0.          0.          0.          0.\n",
      "  0.          0.          0.          0.          0.          0.          0.\n",
      "  0.          0.          0.          0.          0.          0.          0.\n",
      "  0.        ]\n",
      "{'lambda_': 1.0, 'rank': 4}\n",
      "Mean Squared Error = [ 1.37004187  0.          0.        ]\n",
      "{'lambda_': 1.0, 'rank': 4}\n",
      "Mean Squared Error = [ 1.37004187  1.37850382  0.        ]\n",
      "{'lambda_': 1.0, 'rank': 4}\n",
      "Mean Squared Error = [ 1.37004187  1.37850382  1.37673591]\n",
      " MSE grid= [ 0.94931597  0.94931337  0.94966099  0.95122537  0.95544808  0.99677881\n",
      "  1.3750933   3.4742532   3.70666256  3.70666256  0.98226871  0.960936\n",
      "  0.94918535  0.93720005  0.93556182  0.99007981  1.37509334  3.62302508\n",
      "  3.70666256  3.70666256  1.12298985  1.05614597  0.99793901  0.95995044\n",
      "  0.93320933  0.99071266  1.37509387  0.          0.          0.          0.\n",
      "  0.          0.          0.          0.          0.          0.          0.\n",
      "  0.          0.          0.          0.          0.          0.          0.\n",
      "  0.          0.          0.          0.          0.          0.          0.\n",
      "  0.          0.          0.          0.          0.          0.          0.\n",
      "  0.        ]\n",
      "{'lambda_': 3.1622776601683795, 'rank': 4}\n",
      "Mean Squared Error = [ 3.54847281  0.          0.        ]\n",
      "{'lambda_': 3.1622776601683795, 'rank': 4}\n",
      "Mean Squared Error = [ 3.54847281  3.48723605  0.        ]\n",
      "{'lambda_': 3.1622776601683795, 'rank': 4}\n",
      "Mean Squared Error = [ 3.54847281  3.48723605  3.52930551]\n",
      " MSE grid= [ 0.94931597  0.94931337  0.94966099  0.95122537  0.95544808  0.99677881\n",
      "  1.3750933   3.4742532   3.70666256  3.70666256  0.98226871  0.960936\n",
      "  0.94918535  0.93720005  0.93556182  0.99007981  1.37509334  3.62302508\n",
      "  3.70666256  3.70666256  1.12298985  1.05614597  0.99793901  0.95995044\n",
      "  0.93320933  0.99071266  1.37509387  3.52167146  0.          0.          0.\n",
      "  0.          0.          0.          0.          0.          0.          0.\n",
      "  0.          0.          0.          0.          0.          0.          0.\n",
      "  0.          0.          0.          0.          0.          0.          0.\n",
      "  0.          0.          0.          0.          0.          0.          0.\n",
      "  0.        ]\n",
      "{'lambda_': 10.0, 'rank': 4}\n",
      "Mean Squared Error = [ 3.70363873  0.          0.        ]\n",
      "{'lambda_': 10.0, 'rank': 4}\n",
      "Mean Squared Error = [ 3.70363873  3.7098984   0.        ]\n",
      "{'lambda_': 10.0, 'rank': 4}\n",
      "Mean Squared Error = [ 3.70363873  3.7098984   3.70645054]\n",
      " MSE grid= [ 0.94931597  0.94931337  0.94966099  0.95122537  0.95544808  0.99677881\n",
      "  1.3750933   3.4742532   3.70666256  3.70666256  0.98226871  0.960936\n",
      "  0.94918535  0.93720005  0.93556182  0.99007981  1.37509334  3.62302508\n",
      "  3.70666256  3.70666256  1.12298985  1.05614597  0.99793901  0.95995044\n",
      "  0.93320933  0.99071266  1.37509387  3.52167146  3.70666256  0.          0.\n",
      "  0.          0.          0.          0.          0.          0.          0.\n",
      "  0.          0.          0.          0.          0.          0.          0.\n",
      "  0.          0.          0.          0.          0.          0.          0.\n",
      "  0.          0.          0.          0.          0.          0.          0.\n",
      "  0.        ]\n",
      "{'lambda_': 31.622776601683793, 'rank': 4}\n",
      "Mean Squared Error = [ 3.70363873  0.          0.        ]\n",
      "{'lambda_': 31.622776601683793, 'rank': 4}\n",
      "Mean Squared Error = [ 3.70363873  3.7098984   0.        ]\n",
      "{'lambda_': 31.622776601683793, 'rank': 4}\n",
      "Mean Squared Error = [ 3.70363873  3.7098984   3.70645054]\n",
      " MSE grid= [ 0.94931597  0.94931337  0.94966099  0.95122537  0.95544808  0.99677881\n",
      "  1.3750933   3.4742532   3.70666256  3.70666256  0.98226871  0.960936\n",
      "  0.94918535  0.93720005  0.93556182  0.99007981  1.37509334  3.62302508\n",
      "  3.70666256  3.70666256  1.12298985  1.05614597  0.99793901  0.95995044\n",
      "  0.93320933  0.99071266  1.37509387  3.52167146  3.70666256  3.70666256\n",
      "  0.          0.          0.          0.          0.          0.          0.\n",
      "  0.          0.          0.          0.          0.          0.          0.\n",
      "  0.          0.          0.          0.          0.          0.          0.\n",
      "  0.          0.          0.          0.          0.          0.          0.\n",
      "  0.          0.        ]\n",
      "{'lambda_': 0.001, 'rank': 5}\n",
      "Mean Squared Error = [ 1.15686512  0.          0.        ]\n",
      "{'lambda_': 0.001, 'rank': 5}\n",
      "Mean Squared Error = [ 1.15686512  1.17066876  0.        ]\n",
      "{'lambda_': 0.001, 'rank': 5}\n",
      "Mean Squared Error = [ 1.15686512  1.17066876  1.13783299]\n",
      " MSE grid= [ 0.94931597  0.94931337  0.94966099  0.95122537  0.95544808  0.99677881\n",
      "  1.3750933   3.4742532   3.70666256  3.70666256  0.98226871  0.960936\n",
      "  0.94918535  0.93720005  0.93556182  0.99007981  1.37509334  3.62302508\n",
      "  3.70666256  3.70666256  1.12298985  1.05614597  0.99793901  0.95995044\n",
      "  0.93320933  0.99071266  1.37509387  3.52167146  3.70666256  3.70666256\n",
      "  1.15512229  0.          0.          0.          0.          0.          0.\n",
      "  0.          0.          0.          0.          0.          0.          0.\n",
      "  0.          0.          0.          0.          0.          0.          0.\n",
      "  0.          0.          0.          0.          0.          0.          0.\n",
      "  0.          0.        ]\n",
      "{'lambda_': 0.0031622776601683794, 'rank': 5}\n",
      "Mean Squared Error = [ 1.10007618  0.          0.        ]\n",
      "{'lambda_': 0.0031622776601683794, 'rank': 5}\n",
      "Mean Squared Error = [ 1.10007618  1.07548583  0.        ]\n",
      "{'lambda_': 0.0031622776601683794, 'rank': 5}\n",
      "Mean Squared Error = [ 1.10007618  1.07548583  1.07439374]\n",
      " MSE grid= [ 0.94931597  0.94931337  0.94966099  0.95122537  0.95544808  0.99677881\n",
      "  1.3750933   3.4742532   3.70666256  3.70666256  0.98226871  0.960936\n",
      "  0.94918535  0.93720005  0.93556182  0.99007981  1.37509334  3.62302508\n",
      "  3.70666256  3.70666256  1.12298985  1.05614597  0.99793901  0.95995044\n",
      "  0.93320933  0.99071266  1.37509387  3.52167146  3.70666256  3.70666256\n",
      "  1.15512229  1.08331858  0.          0.          0.          0.          0.\n",
      "  0.          0.          0.          0.          0.          0.          0.\n",
      "  0.          0.          0.          0.          0.          0.          0.\n",
      "  0.          0.          0.          0.          0.          0.          0.\n",
      "  0.          0.        ]\n",
      "{'lambda_': 0.01, 'rank': 5}\n",
      "Mean Squared Error = [ 1.0431722  0.         0.       ]\n",
      "{'lambda_': 0.01, 'rank': 5}\n",
      "Mean Squared Error = [ 1.0431722   1.03374615  0.        ]\n",
      "{'lambda_': 0.01, 'rank': 5}\n",
      "Mean Squared Error = [ 1.0431722   1.03374615  1.02816764]\n",
      " MSE grid= [ 0.94931597  0.94931337  0.94966099  0.95122537  0.95544808  0.99677881\n",
      "  1.3750933   3.4742532   3.70666256  3.70666256  0.98226871  0.960936\n",
      "  0.94918535  0.93720005  0.93556182  0.99007981  1.37509334  3.62302508\n",
      "  3.70666256  3.70666256  1.12298985  1.05614597  0.99793901  0.95995044\n",
      "  0.93320933  0.99071266  1.37509387  3.52167146  3.70666256  3.70666256\n",
      "  1.15512229  1.08331858  1.03502866  0.          0.          0.          0.\n",
      "  0.          0.          0.          0.          0.          0.          0.\n",
      "  0.          0.          0.          0.          0.          0.          0.\n",
      "  0.          0.          0.          0.          0.          0.          0.\n",
      "  0.          0.        ]\n",
      "{'lambda_': 0.031622776601683791, 'rank': 5}\n",
      "Mean Squared Error = [ 0.99381614  0.          0.        ]\n",
      "{'lambda_': 0.031622776601683791, 'rank': 5}\n",
      "Mean Squared Error = [ 0.99381614  0.9779496   0.        ]\n",
      "{'lambda_': 0.031622776601683791, 'rank': 5}\n",
      "Mean Squared Error = [ 0.99381614  0.9779496   0.96743181]\n",
      " MSE grid= [ 0.94931597  0.94931337  0.94966099  0.95122537  0.95544808  0.99677881\n",
      "  1.3750933   3.4742532   3.70666256  3.70666256  0.98226871  0.960936\n",
      "  0.94918535  0.93720005  0.93556182  0.99007981  1.37509334  3.62302508\n",
      "  3.70666256  3.70666256  1.12298985  1.05614597  0.99793901  0.95995044\n",
      "  0.93320933  0.99071266  1.37509387  3.52167146  3.70666256  3.70666256\n",
      "  1.15512229  1.08331858  1.03502866  0.97973252  0.          0.          0.\n",
      "  0.          0.          0.          0.          0.          0.          0.\n",
      "  0.          0.          0.          0.          0.          0.          0.\n",
      "  0.          0.          0.          0.          0.          0.          0.\n",
      "  0.          0.        ]\n",
      "{'lambda_': 0.10000000000000001, 'rank': 5}\n",
      "Mean Squared Error = [ 0.94667152  0.          0.        ]\n",
      "{'lambda_': 0.10000000000000001, 'rank': 5}\n",
      "Mean Squared Error = [ 0.94667152  0.93209301  0.        ]\n",
      "{'lambda_': 0.10000000000000001, 'rank': 5}\n",
      "Mean Squared Error = [ 0.94667152  0.93209301  0.936538  ]\n",
      " MSE grid= [ 0.94931597  0.94931337  0.94966099  0.95122537  0.95544808  0.99677881\n",
      "  1.3750933   3.4742532   3.70666256  3.70666256  0.98226871  0.960936\n",
      "  0.94918535  0.93720005  0.93556182  0.99007981  1.37509334  3.62302508\n",
      "  3.70666256  3.70666256  1.12298985  1.05614597  0.99793901  0.95995044\n",
      "  0.93320933  0.99071266  1.37509387  3.52167146  3.70666256  3.70666256\n",
      "  1.15512229  1.08331858  1.03502866  0.97973252  0.93843418  0.          0.\n",
      "  0.          0.          0.          0.          0.          0.          0.\n",
      "  0.          0.          0.          0.          0.          0.          0.\n",
      "  0.          0.          0.          0.          0.          0.          0.\n",
      "  0.          0.        ]\n",
      "{'lambda_': 0.31622776601683794, 'rank': 5}\n",
      "Mean Squared Error = [ 0.99303796  0.          0.        ]\n",
      "{'lambda_': 0.31622776601683794, 'rank': 5}\n",
      "Mean Squared Error = [ 0.99303796  0.98901187  0.        ]\n",
      "{'lambda_': 0.31622776601683794, 'rank': 5}\n",
      "Mean Squared Error = [ 0.99303796  0.98901187  0.98883142]\n",
      " MSE grid= [ 0.94931597  0.94931337  0.94966099  0.95122537  0.95544808  0.99677881\n",
      "  1.3750933   3.4742532   3.70666256  3.70666256  0.98226871  0.960936\n",
      "  0.94918535  0.93720005  0.93556182  0.99007981  1.37509334  3.62302508\n",
      "  3.70666256  3.70666256  1.12298985  1.05614597  0.99793901  0.95995044\n",
      "  0.93320933  0.99071266  1.37509387  3.52167146  3.70666256  3.70666256\n",
      "  1.15512229  1.08331858  1.03502866  0.97973252  0.93843418  0.99029375\n",
      "  0.          0.          0.          0.          0.          0.          0.\n",
      "  0.          0.          0.          0.          0.          0.          0.\n",
      "  0.          0.          0.          0.          0.          0.          0.\n",
      "  0.          0.          0.        ]\n",
      "{'lambda_': 1.0, 'rank': 5}\n",
      "Mean Squared Error = [ 1.37004166  0.          0.        ]\n",
      "{'lambda_': 1.0, 'rank': 5}\n",
      "Mean Squared Error = [ 1.37004166  1.37850395  0.        ]\n",
      "{'lambda_': 1.0, 'rank': 5}\n",
      "Mean Squared Error = [ 1.37004166  1.37850395  1.37673605]\n",
      " MSE grid= [ 0.94931597  0.94931337  0.94966099  0.95122537  0.95544808  0.99677881\n",
      "  1.3750933   3.4742532   3.70666256  3.70666256  0.98226871  0.960936\n",
      "  0.94918535  0.93720005  0.93556182  0.99007981  1.37509334  3.62302508\n",
      "  3.70666256  3.70666256  1.12298985  1.05614597  0.99793901  0.95995044\n",
      "  0.93320933  0.99071266  1.37509387  3.52167146  3.70666256  3.70666256\n",
      "  1.15512229  1.08331858  1.03502866  0.97973252  0.93843418  0.99029375\n",
      "  1.37509389  0.          0.          0.          0.          0.          0.\n",
      "  0.          0.          0.          0.          0.          0.          0.\n",
      "  0.          0.          0.          0.          0.          0.          0.\n",
      "  0.          0.          0.        ]\n",
      "{'lambda_': 3.1622776601683795, 'rank': 5}\n",
      "Mean Squared Error = [ 3.55700751  0.          0.        ]\n",
      "{'lambda_': 3.1622776601683795, 'rank': 5}\n",
      "Mean Squared Error = [ 3.55700751  3.59316111  0.        ]\n",
      "{'lambda_': 3.1622776601683795, 'rank': 5}\n",
      "Mean Squared Error = [ 3.55700751  3.59316111  3.5260919 ]\n",
      " MSE grid= [ 0.94931597  0.94931337  0.94966099  0.95122537  0.95544808  0.99677881\n",
      "  1.3750933   3.4742532   3.70666256  3.70666256  0.98226871  0.960936\n",
      "  0.94918535  0.93720005  0.93556182  0.99007981  1.37509334  3.62302508\n",
      "  3.70666256  3.70666256  1.12298985  1.05614597  0.99793901  0.95995044\n",
      "  0.93320933  0.99071266  1.37509387  3.52167146  3.70666256  3.70666256\n",
      "  1.15512229  1.08331858  1.03502866  0.97973252  0.93843418  0.99029375\n",
      "  1.37509389  3.5587535   0.          0.          0.          0.          0.\n",
      "  0.          0.          0.          0.          0.          0.          0.\n",
      "  0.          0.          0.          0.          0.          0.          0.\n",
      "  0.          0.          0.        ]\n",
      "{'lambda_': 10.0, 'rank': 5}\n",
      "Mean Squared Error = [ 3.70363873  0.          0.        ]\n",
      "{'lambda_': 10.0, 'rank': 5}\n",
      "Mean Squared Error = [ 3.70363873  3.7098984   0.        ]\n",
      "{'lambda_': 10.0, 'rank': 5}\n",
      "Mean Squared Error = [ 3.70363873  3.7098984   3.70645054]\n",
      " MSE grid= [ 0.94931597  0.94931337  0.94966099  0.95122537  0.95544808  0.99677881\n",
      "  1.3750933   3.4742532   3.70666256  3.70666256  0.98226871  0.960936\n",
      "  0.94918535  0.93720005  0.93556182  0.99007981  1.37509334  3.62302508\n",
      "  3.70666256  3.70666256  1.12298985  1.05614597  0.99793901  0.95995044\n",
      "  0.93320933  0.99071266  1.37509387  3.52167146  3.70666256  3.70666256\n",
      "  1.15512229  1.08331858  1.03502866  0.97973252  0.93843418  0.99029375\n",
      "  1.37509389  3.5587535   3.70666256  0.          0.          0.          0.\n",
      "  0.          0.          0.          0.          0.          0.          0.\n",
      "  0.          0.          0.          0.          0.          0.          0.\n",
      "  0.          0.          0.        ]\n",
      "{'lambda_': 31.622776601683793, 'rank': 5}\n",
      "Mean Squared Error = [ 3.70363873  0.          0.        ]\n",
      "{'lambda_': 31.622776601683793, 'rank': 5}\n",
      "Mean Squared Error = [ 3.70363873  3.7098984   0.        ]\n",
      "{'lambda_': 31.622776601683793, 'rank': 5}\n",
      "Mean Squared Error = [ 3.70363873  3.7098984   3.70645054]\n",
      " MSE grid= [ 0.94931597  0.94931337  0.94966099  0.95122537  0.95544808  0.99677881\n",
      "  1.3750933   3.4742532   3.70666256  3.70666256  0.98226871  0.960936\n",
      "  0.94918535  0.93720005  0.93556182  0.99007981  1.37509334  3.62302508\n",
      "  3.70666256  3.70666256  1.12298985  1.05614597  0.99793901  0.95995044\n",
      "  0.93320933  0.99071266  1.37509387  3.52167146  3.70666256  3.70666256\n",
      "  1.15512229  1.08331858  1.03502866  0.97973252  0.93843418  0.99029375\n",
      "  1.37509389  3.5587535   3.70666256  3.70666256  0.          0.          0.\n",
      "  0.          0.          0.          0.          0.          0.          0.\n",
      "  0.          0.          0.          0.          0.          0.          0.\n",
      "  0.          0.          0.        ]\n",
      "{'lambda_': 0.001, 'rank': 10}\n",
      "Mean Squared Error = [ 1.40817363  0.          0.        ]\n",
      "{'lambda_': 0.001, 'rank': 10}\n",
      "Mean Squared Error = [ 1.40817363  1.44951515  0.        ]\n",
      "{'lambda_': 0.001, 'rank': 10}\n",
      "Mean Squared Error = [ 1.40817363  1.44951515  1.37485276]\n",
      " MSE grid= [ 0.94931597  0.94931337  0.94966099  0.95122537  0.95544808  0.99677881\n",
      "  1.3750933   3.4742532   3.70666256  3.70666256  0.98226871  0.960936\n",
      "  0.94918535  0.93720005  0.93556182  0.99007981  1.37509334  3.62302508\n",
      "  3.70666256  3.70666256  1.12298985  1.05614597  0.99793901  0.95995044\n",
      "  0.93320933  0.99071266  1.37509387  3.52167146  3.70666256  3.70666256\n",
      "  1.15512229  1.08331858  1.03502866  0.97973252  0.93843418  0.99029375\n",
      "  1.37509389  3.5587535   3.70666256  3.70666256  1.41084718  0.          0.\n",
      "  0.          0.          0.          0.          0.          0.          0.\n",
      "  0.          0.          0.          0.          0.          0.          0.\n",
      "  0.          0.          0.        ]\n",
      "{'lambda_': 0.0031622776601683794, 'rank': 10}\n",
      "Mean Squared Error = [ 1.27250282  0.          0.        ]\n",
      "{'lambda_': 0.0031622776601683794, 'rank': 10}\n",
      "Mean Squared Error = [ 1.27250282  1.26470461  0.        ]\n",
      "{'lambda_': 0.0031622776601683794, 'rank': 10}\n",
      "Mean Squared Error = [ 1.27250282  1.26470461  1.26288089]\n",
      " MSE grid= [ 0.94931597  0.94931337  0.94966099  0.95122537  0.95544808  0.99677881\n",
      "  1.3750933   3.4742532   3.70666256  3.70666256  0.98226871  0.960936\n",
      "  0.94918535  0.93720005  0.93556182  0.99007981  1.37509334  3.62302508\n",
      "  3.70666256  3.70666256  1.12298985  1.05614597  0.99793901  0.95995044\n",
      "  0.93320933  0.99071266  1.37509387  3.52167146  3.70666256  3.70666256\n",
      "  1.15512229  1.08331858  1.03502866  0.97973252  0.93843418  0.99029375\n",
      "  1.37509389  3.5587535   3.70666256  3.70666256  1.41084718  1.26669611\n",
      "  0.          0.          0.          0.          0.          0.          0.\n",
      "  0.          0.          0.          0.          0.          0.          0.\n",
      "  0.          0.          0.          0.        ]\n",
      "{'lambda_': 0.01, 'rank': 10}\n",
      "Mean Squared Error = [ 1.14578097  0.          0.        ]\n",
      "{'lambda_': 0.01, 'rank': 10}\n",
      "Mean Squared Error = [ 1.14578097  1.13310321  0.        ]\n",
      "{'lambda_': 0.01, 'rank': 10}\n",
      "Mean Squared Error = [ 1.14578097  1.13310321  1.11645262]\n",
      " MSE grid= [ 0.94931597  0.94931337  0.94966099  0.95122537  0.95544808  0.99677881\n",
      "  1.3750933   3.4742532   3.70666256  3.70666256  0.98226871  0.960936\n",
      "  0.94918535  0.93720005  0.93556182  0.99007981  1.37509334  3.62302508\n",
      "  3.70666256  3.70666256  1.12298985  1.05614597  0.99793901  0.95995044\n",
      "  0.93320933  0.99071266  1.37509387  3.52167146  3.70666256  3.70666256\n",
      "  1.15512229  1.08331858  1.03502866  0.97973252  0.93843418  0.99029375\n",
      "  1.37509389  3.5587535   3.70666256  3.70666256  1.41084718  1.26669611\n",
      "  1.13177893  0.          0.          0.          0.          0.          0.\n",
      "  0.          0.          0.          0.          0.          0.          0.\n",
      "  0.          0.          0.          0.        ]\n",
      "{'lambda_': 0.031622776601683791, 'rank': 10}\n",
      "Mean Squared Error = [ 1.03407775  0.          0.        ]\n",
      "{'lambda_': 0.031622776601683791, 'rank': 10}\n",
      "Mean Squared Error = [ 1.03407775  1.02889353  0.        ]\n",
      "{'lambda_': 0.031622776601683791, 'rank': 10}\n",
      "Mean Squared Error = [ 1.03407775  1.02889353  1.02244392]\n",
      " MSE grid= [ 0.94931597  0.94931337  0.94966099  0.95122537  0.95544808  0.99677881\n",
      "  1.3750933   3.4742532   3.70666256  3.70666256  0.98226871  0.960936\n",
      "  0.94918535  0.93720005  0.93556182  0.99007981  1.37509334  3.62302508\n",
      "  3.70666256  3.70666256  1.12298985  1.05614597  0.99793901  0.95995044\n",
      "  0.93320933  0.99071266  1.37509387  3.52167146  3.70666256  3.70666256\n",
      "  1.15512229  1.08331858  1.03502866  0.97973252  0.93843418  0.99029375\n",
      "  1.37509389  3.5587535   3.70666256  3.70666256  1.41084718  1.26669611\n",
      "  1.13177893  1.02847173  0.          0.          0.          0.          0.\n",
      "  0.          0.          0.          0.          0.          0.          0.\n",
      "  0.          0.          0.          0.        ]\n",
      "{'lambda_': 0.10000000000000001, 'rank': 10}\n",
      "Mean Squared Error = [ 0.94528364  0.          0.        ]\n",
      "{'lambda_': 0.10000000000000001, 'rank': 10}\n",
      "Mean Squared Error = [ 0.94528364  0.93919103  0.        ]\n",
      "{'lambda_': 0.10000000000000001, 'rank': 10}\n",
      "Mean Squared Error = [ 0.94528364  0.93919103  0.9395851 ]\n",
      " MSE grid= [ 0.94931597  0.94931337  0.94966099  0.95122537  0.95544808  0.99677881\n",
      "  1.3750933   3.4742532   3.70666256  3.70666256  0.98226871  0.960936\n",
      "  0.94918535  0.93720005  0.93556182  0.99007981  1.37509334  3.62302508\n",
      "  3.70666256  3.70666256  1.12298985  1.05614597  0.99793901  0.95995044\n",
      "  0.93320933  0.99071266  1.37509387  3.52167146  3.70666256  3.70666256\n",
      "  1.15512229  1.08331858  1.03502866  0.97973252  0.93843418  0.99029375\n",
      "  1.37509389  3.5587535   3.70666256  3.70666256  1.41084718  1.26669611\n",
      "  1.13177893  1.02847173  0.94135326  0.          0.          0.          0.\n",
      "  0.          0.          0.          0.          0.          0.          0.\n",
      "  0.          0.          0.          0.        ]\n",
      "{'lambda_': 0.31622776601683794, 'rank': 10}\n",
      "Mean Squared Error = [ 0.99403509  0.          0.        ]\n",
      "{'lambda_': 0.31622776601683794, 'rank': 10}\n",
      "Mean Squared Error = [ 0.99403509  0.99008841  0.        ]\n",
      "{'lambda_': 0.31622776601683794, 'rank': 10}\n",
      "Mean Squared Error = [ 0.99403509  0.99008841  0.98920779]\n",
      " MSE grid= [ 0.94931597  0.94931337  0.94966099  0.95122537  0.95544808  0.99677881\n",
      "  1.3750933   3.4742532   3.70666256  3.70666256  0.98226871  0.960936\n",
      "  0.94918535  0.93720005  0.93556182  0.99007981  1.37509334  3.62302508\n",
      "  3.70666256  3.70666256  1.12298985  1.05614597  0.99793901  0.95995044\n",
      "  0.93320933  0.99071266  1.37509387  3.52167146  3.70666256  3.70666256\n",
      "  1.15512229  1.08331858  1.03502866  0.97973252  0.93843418  0.99029375\n",
      "  1.37509389  3.5587535   3.70666256  3.70666256  1.41084718  1.26669611\n",
      "  1.13177893  1.02847173  0.94135326  0.99111043  0.          0.          0.\n",
      "  0.          0.          0.          0.          0.          0.          0.\n",
      "  0.          0.          0.          0.        ]\n",
      "{'lambda_': 1.0, 'rank': 10}\n",
      "Mean Squared Error = [ 1.3700417  0.         0.       ]\n",
      "{'lambda_': 1.0, 'rank': 10}\n",
      "Mean Squared Error = [ 1.3700417   1.37850359  0.        ]\n",
      "{'lambda_': 1.0, 'rank': 10}\n",
      "Mean Squared Error = [ 1.3700417   1.37850359  1.37673639]\n",
      " MSE grid= [ 0.94931597  0.94931337  0.94966099  0.95122537  0.95544808  0.99677881\n",
      "  1.3750933   3.4742532   3.70666256  3.70666256  0.98226871  0.960936\n",
      "  0.94918535  0.93720005  0.93556182  0.99007981  1.37509334  3.62302508\n",
      "  3.70666256  3.70666256  1.12298985  1.05614597  0.99793901  0.95995044\n",
      "  0.93320933  0.99071266  1.37509387  3.52167146  3.70666256  3.70666256\n",
      "  1.15512229  1.08331858  1.03502866  0.97973252  0.93843418  0.99029375\n",
      "  1.37509389  3.5587535   3.70666256  3.70666256  1.41084718  1.26669611\n",
      "  1.13177893  1.02847173  0.94135326  0.99111043  1.37509389  0.          0.\n",
      "  0.          0.          0.          0.          0.          0.          0.\n",
      "  0.          0.          0.          0.        ]\n",
      "{'lambda_': 3.1622776601683795, 'rank': 10}\n",
      "Mean Squared Error = [ 3.55472895  0.          0.        ]\n",
      "{'lambda_': 3.1622776601683795, 'rank': 10}\n",
      "Mean Squared Error = [ 3.55472895  3.43651022  0.        ]\n",
      "{'lambda_': 3.1622776601683795, 'rank': 10}\n",
      "Mean Squared Error = [ 3.55472895  3.43651022  3.53932092]\n",
      " MSE grid= [ 0.94931597  0.94931337  0.94966099  0.95122537  0.95544808  0.99677881\n",
      "  1.3750933   3.4742532   3.70666256  3.70666256  0.98226871  0.960936\n",
      "  0.94918535  0.93720005  0.93556182  0.99007981  1.37509334  3.62302508\n",
      "  3.70666256  3.70666256  1.12298985  1.05614597  0.99793901  0.95995044\n",
      "  0.93320933  0.99071266  1.37509387  3.52167146  3.70666256  3.70666256\n",
      "  1.15512229  1.08331858  1.03502866  0.97973252  0.93843418  0.99029375\n",
      "  1.37509389  3.5587535   3.70666256  3.70666256  1.41084718  1.26669611\n",
      "  1.13177893  1.02847173  0.94135326  0.99111043  1.37509389  3.5101867   0.\n",
      "  0.          0.          0.          0.          0.          0.          0.\n",
      "  0.          0.          0.          0.        ]\n",
      "{'lambda_': 10.0, 'rank': 10}\n",
      "Mean Squared Error = [ 3.70363873  0.          0.        ]\n",
      "{'lambda_': 10.0, 'rank': 10}\n",
      "Mean Squared Error = [ 3.70363873  3.7098984   0.        ]\n",
      "{'lambda_': 10.0, 'rank': 10}\n",
      "Mean Squared Error = [ 3.70363873  3.7098984   3.70645054]\n",
      " MSE grid= [ 0.94931597  0.94931337  0.94966099  0.95122537  0.95544808  0.99677881\n",
      "  1.3750933   3.4742532   3.70666256  3.70666256  0.98226871  0.960936\n",
      "  0.94918535  0.93720005  0.93556182  0.99007981  1.37509334  3.62302508\n",
      "  3.70666256  3.70666256  1.12298985  1.05614597  0.99793901  0.95995044\n",
      "  0.93320933  0.99071266  1.37509387  3.52167146  3.70666256  3.70666256\n",
      "  1.15512229  1.08331858  1.03502866  0.97973252  0.93843418  0.99029375\n",
      "  1.37509389  3.5587535   3.70666256  3.70666256  1.41084718  1.26669611\n",
      "  1.13177893  1.02847173  0.94135326  0.99111043  1.37509389  3.5101867\n",
      "  3.70666256  0.          0.          0.          0.          0.          0.\n",
      "  0.          0.          0.          0.          0.        ]\n",
      "{'lambda_': 31.622776601683793, 'rank': 10}\n",
      "Mean Squared Error = [ 3.70363873  0.          0.        ]\n",
      "{'lambda_': 31.622776601683793, 'rank': 10}\n",
      "Mean Squared Error = [ 3.70363873  3.7098984   0.        ]\n",
      "{'lambda_': 31.622776601683793, 'rank': 10}\n",
      "Mean Squared Error = [ 3.70363873  3.7098984   3.70645054]\n",
      " MSE grid= [ 0.94931597  0.94931337  0.94966099  0.95122537  0.95544808  0.99677881\n",
      "  1.3750933   3.4742532   3.70666256  3.70666256  0.98226871  0.960936\n",
      "  0.94918535  0.93720005  0.93556182  0.99007981  1.37509334  3.62302508\n",
      "  3.70666256  3.70666256  1.12298985  1.05614597  0.99793901  0.95995044\n",
      "  0.93320933  0.99071266  1.37509387  3.52167146  3.70666256  3.70666256\n",
      "  1.15512229  1.08331858  1.03502866  0.97973252  0.93843418  0.99029375\n",
      "  1.37509389  3.5587535   3.70666256  3.70666256  1.41084718  1.26669611\n",
      "  1.13177893  1.02847173  0.94135326  0.99111043  1.37509389  3.5101867\n",
      "  3.70666256  3.70666256  0.          0.          0.          0.          0.\n",
      "  0.          0.          0.          0.          0.        ]\n",
      "{'lambda_': 0.001, 'rank': 20}\n",
      "Mean Squared Error = [ 1.62768128  0.          0.        ]\n",
      "{'lambda_': 0.001, 'rank': 20}\n",
      "Mean Squared Error = [ 1.62768128  1.60866453  0.        ]\n",
      "{'lambda_': 0.001, 'rank': 20}\n",
      "Mean Squared Error = [ 1.62768128  1.60866453  1.61150697]\n",
      " MSE grid= [ 0.94931597  0.94931337  0.94966099  0.95122537  0.95544808  0.99677881\n",
      "  1.3750933   3.4742532   3.70666256  3.70666256  0.98226871  0.960936\n",
      "  0.94918535  0.93720005  0.93556182  0.99007981  1.37509334  3.62302508\n",
      "  3.70666256  3.70666256  1.12298985  1.05614597  0.99793901  0.95995044\n",
      "  0.93320933  0.99071266  1.37509387  3.52167146  3.70666256  3.70666256\n",
      "  1.15512229  1.08331858  1.03502866  0.97973252  0.93843418  0.99029375\n",
      "  1.37509389  3.5587535   3.70666256  3.70666256  1.41084718  1.26669611\n",
      "  1.13177893  1.02847173  0.94135326  0.99111043  1.37509389  3.5101867\n",
      "  3.70666256  3.70666256  1.61595093  0.          0.          0.          0.\n",
      "  0.          0.          0.          0.          0.        ]\n",
      "{'lambda_': 0.0031622776601683794, 'rank': 20}\n",
      "Mean Squared Error = [ 1.40937303  0.          0.        ]\n",
      "{'lambda_': 0.0031622776601683794, 'rank': 20}\n",
      "Mean Squared Error = [ 1.40937303  1.41223384  0.        ]\n",
      "{'lambda_': 0.0031622776601683794, 'rank': 20}\n",
      "Mean Squared Error = [ 1.40937303  1.41223384  1.42188275]\n",
      " MSE grid= [ 0.94931597  0.94931337  0.94966099  0.95122537  0.95544808  0.99677881\n",
      "  1.3750933   3.4742532   3.70666256  3.70666256  0.98226871  0.960936\n",
      "  0.94918535  0.93720005  0.93556182  0.99007981  1.37509334  3.62302508\n",
      "  3.70666256  3.70666256  1.12298985  1.05614597  0.99793901  0.95995044\n",
      "  0.93320933  0.99071266  1.37509387  3.52167146  3.70666256  3.70666256\n",
      "  1.15512229  1.08331858  1.03502866  0.97973252  0.93843418  0.99029375\n",
      "  1.37509389  3.5587535   3.70666256  3.70666256  1.41084718  1.26669611\n",
      "  1.13177893  1.02847173  0.94135326  0.99111043  1.37509389  3.5101867\n",
      "  3.70666256  3.70666256  1.61595093  1.41449654  0.          0.          0.\n",
      "  0.          0.          0.          0.          0.        ]\n",
      "{'lambda_': 0.01, 'rank': 20}\n",
      "Mean Squared Error = [ 1.23141175  0.          0.        ]\n",
      "{'lambda_': 0.01, 'rank': 20}\n",
      "Mean Squared Error = [ 1.23141175  1.23478391  0.        ]\n",
      "{'lambda_': 0.01, 'rank': 20}\n",
      "Mean Squared Error = [ 1.23141175  1.23478391  1.22677352]\n",
      " MSE grid= [ 0.94931597  0.94931337  0.94966099  0.95122537  0.95544808  0.99677881\n",
      "  1.3750933   3.4742532   3.70666256  3.70666256  0.98226871  0.960936\n",
      "  0.94918535  0.93720005  0.93556182  0.99007981  1.37509334  3.62302508\n",
      "  3.70666256  3.70666256  1.12298985  1.05614597  0.99793901  0.95995044\n",
      "  0.93320933  0.99071266  1.37509387  3.52167146  3.70666256  3.70666256\n",
      "  1.15512229  1.08331858  1.03502866  0.97973252  0.93843418  0.99029375\n",
      "  1.37509389  3.5587535   3.70666256  3.70666256  1.41084718  1.26669611\n",
      "  1.13177893  1.02847173  0.94135326  0.99111043  1.37509389  3.5101867\n",
      "  3.70666256  3.70666256  1.61595093  1.41449654  1.23098973  0.          0.\n",
      "  0.          0.          0.          0.          0.        ]\n",
      "{'lambda_': 0.031622776601683791, 'rank': 20}\n",
      "Mean Squared Error = [ 1.06150294  0.          0.        ]\n",
      "{'lambda_': 0.031622776601683791, 'rank': 20}\n",
      "Mean Squared Error = [ 1.06150294  1.06264798  0.        ]\n",
      "{'lambda_': 0.031622776601683791, 'rank': 20}\n",
      "Mean Squared Error = [ 1.06150294  1.06264798  1.05708906]\n",
      " MSE grid= [ 0.94931597  0.94931337  0.94966099  0.95122537  0.95544808  0.99677881\n",
      "  1.3750933   3.4742532   3.70666256  3.70666256  0.98226871  0.960936\n",
      "  0.94918535  0.93720005  0.93556182  0.99007981  1.37509334  3.62302508\n",
      "  3.70666256  3.70666256  1.12298985  1.05614597  0.99793901  0.95995044\n",
      "  0.93320933  0.99071266  1.37509387  3.52167146  3.70666256  3.70666256\n",
      "  1.15512229  1.08331858  1.03502866  0.97973252  0.93843418  0.99029375\n",
      "  1.37509389  3.5587535   3.70666256  3.70666256  1.41084718  1.26669611\n",
      "  1.13177893  1.02847173  0.94135326  0.99111043  1.37509389  3.5101867\n",
      "  3.70666256  3.70666256  1.61595093  1.41449654  1.23098973  1.06041333\n",
      "  0.          0.          0.          0.          0.          0.        ]\n",
      "{'lambda_': 0.10000000000000001, 'rank': 20}\n",
      "Mean Squared Error = [ 0.94257056  0.          0.        ]\n",
      "{'lambda_': 0.10000000000000001, 'rank': 20}\n",
      "Mean Squared Error = [ 0.94257056  0.93947908  0.        ]\n",
      "{'lambda_': 0.10000000000000001, 'rank': 20}\n",
      "Mean Squared Error = [ 0.94257056  0.93947908  0.93813533]\n",
      " MSE grid= [ 0.94931597  0.94931337  0.94966099  0.95122537  0.95544808  0.99677881\n",
      "  1.3750933   3.4742532   3.70666256  3.70666256  0.98226871  0.960936\n",
      "  0.94918535  0.93720005  0.93556182  0.99007981  1.37509334  3.62302508\n",
      "  3.70666256  3.70666256  1.12298985  1.05614597  0.99793901  0.95995044\n",
      "  0.93320933  0.99071266  1.37509387  3.52167146  3.70666256  3.70666256\n",
      "  1.15512229  1.08331858  1.03502866  0.97973252  0.93843418  0.99029375\n",
      "  1.37509389  3.5587535   3.70666256  3.70666256  1.41084718  1.26669611\n",
      "  1.13177893  1.02847173  0.94135326  0.99111043  1.37509389  3.5101867\n",
      "  3.70666256  3.70666256  1.61595093  1.41449654  1.23098973  1.06041333\n",
      "  0.94006166  0.          0.          0.          0.          0.        ]\n",
      "{'lambda_': 0.31622776601683794, 'rank': 20}\n",
      "Mean Squared Error = [ 0.9940201  0.         0.       ]\n",
      "{'lambda_': 0.31622776601683794, 'rank': 20}\n",
      "Mean Squared Error = [ 0.9940201   0.99034616  0.        ]\n",
      "{'lambda_': 0.31622776601683794, 'rank': 20}\n",
      "Mean Squared Error = [ 0.9940201   0.99034616  0.98943676]\n",
      " MSE grid= [ 0.94931597  0.94931337  0.94966099  0.95122537  0.95544808  0.99677881\n",
      "  1.3750933   3.4742532   3.70666256  3.70666256  0.98226871  0.960936\n",
      "  0.94918535  0.93720005  0.93556182  0.99007981  1.37509334  3.62302508\n",
      "  3.70666256  3.70666256  1.12298985  1.05614597  0.99793901  0.95995044\n",
      "  0.93320933  0.99071266  1.37509387  3.52167146  3.70666256  3.70666256\n",
      "  1.15512229  1.08331858  1.03502866  0.97973252  0.93843418  0.99029375\n",
      "  1.37509389  3.5587535   3.70666256  3.70666256  1.41084718  1.26669611\n",
      "  1.13177893  1.02847173  0.94135326  0.99111043  1.37509389  3.5101867\n",
      "  3.70666256  3.70666256  1.61595093  1.41449654  1.23098973  1.06041333\n",
      "  0.94006166  0.99126767  0.          0.          0.          0.        ]\n",
      "{'lambda_': 1.0, 'rank': 20}\n",
      "Mean Squared Error = [ 1.3700417  0.         0.       ]\n",
      "{'lambda_': 1.0, 'rank': 20}\n",
      "Mean Squared Error = [ 1.3700417   1.37850363  0.        ]\n",
      "{'lambda_': 1.0, 'rank': 20}\n",
      "Mean Squared Error = [ 1.3700417   1.37850363  1.3767363 ]\n",
      " MSE grid= [ 0.94931597  0.94931337  0.94966099  0.95122537  0.95544808  0.99677881\n",
      "  1.3750933   3.4742532   3.70666256  3.70666256  0.98226871  0.960936\n",
      "  0.94918535  0.93720005  0.93556182  0.99007981  1.37509334  3.62302508\n",
      "  3.70666256  3.70666256  1.12298985  1.05614597  0.99793901  0.95995044\n",
      "  0.93320933  0.99071266  1.37509387  3.52167146  3.70666256  3.70666256\n",
      "  1.15512229  1.08331858  1.03502866  0.97973252  0.93843418  0.99029375\n",
      "  1.37509389  3.5587535   3.70666256  3.70666256  1.41084718  1.26669611\n",
      "  1.13177893  1.02847173  0.94135326  0.99111043  1.37509389  3.5101867\n",
      "  3.70666256  3.70666256  1.61595093  1.41449654  1.23098973  1.06041333\n",
      "  0.94006166  0.99126767  1.37509388  0.          0.          0.        ]\n",
      "{'lambda_': 3.1622776601683795, 'rank': 20}\n",
      "Mean Squared Error = [ 3.49268018  0.          0.        ]\n",
      "{'lambda_': 3.1622776601683795, 'rank': 20}\n",
      "Mean Squared Error = [ 3.49268018  3.50183378  0.        ]\n",
      "{'lambda_': 3.1622776601683795, 'rank': 20}\n",
      "Mean Squared Error = [ 3.49268018  3.50183378  3.49987247]\n",
      " MSE grid= [ 0.94931597  0.94931337  0.94966099  0.95122537  0.95544808  0.99677881\n",
      "  1.3750933   3.4742532   3.70666256  3.70666256  0.98226871  0.960936\n",
      "  0.94918535  0.93720005  0.93556182  0.99007981  1.37509334  3.62302508\n",
      "  3.70666256  3.70666256  1.12298985  1.05614597  0.99793901  0.95995044\n",
      "  0.93320933  0.99071266  1.37509387  3.52167146  3.70666256  3.70666256\n",
      "  1.15512229  1.08331858  1.03502866  0.97973252  0.93843418  0.99029375\n",
      "  1.37509389  3.5587535   3.70666256  3.70666256  1.41084718  1.26669611\n",
      "  1.13177893  1.02847173  0.94135326  0.99111043  1.37509389  3.5101867\n",
      "  3.70666256  3.70666256  1.61595093  1.41449654  1.23098973  1.06041333\n",
      "  0.94006166  0.99126767  1.37509388  3.49812881  0.          0.        ]\n",
      "{'lambda_': 10.0, 'rank': 20}\n",
      "Mean Squared Error = [ 3.70363873  0.          0.        ]\n",
      "{'lambda_': 10.0, 'rank': 20}\n",
      "Mean Squared Error = [ 3.70363873  3.7098984   0.        ]\n",
      "{'lambda_': 10.0, 'rank': 20}\n",
      "Mean Squared Error = [ 3.70363873  3.7098984   3.70645054]\n",
      " MSE grid= [ 0.94931597  0.94931337  0.94966099  0.95122537  0.95544808  0.99677881\n",
      "  1.3750933   3.4742532   3.70666256  3.70666256  0.98226871  0.960936\n",
      "  0.94918535  0.93720005  0.93556182  0.99007981  1.37509334  3.62302508\n",
      "  3.70666256  3.70666256  1.12298985  1.05614597  0.99793901  0.95995044\n",
      "  0.93320933  0.99071266  1.37509387  3.52167146  3.70666256  3.70666256\n",
      "  1.15512229  1.08331858  1.03502866  0.97973252  0.93843418  0.99029375\n",
      "  1.37509389  3.5587535   3.70666256  3.70666256  1.41084718  1.26669611\n",
      "  1.13177893  1.02847173  0.94135326  0.99111043  1.37509389  3.5101867\n",
      "  3.70666256  3.70666256  1.61595093  1.41449654  1.23098973  1.06041333\n",
      "  0.94006166  0.99126767  1.37509388  3.49812881  3.70666256  0.        ]\n",
      "{'lambda_': 31.622776601683793, 'rank': 20}\n",
      "Mean Squared Error = [ 3.70363873  0.          0.        ]\n",
      "{'lambda_': 31.622776601683793, 'rank': 20}\n",
      "Mean Squared Error = [ 3.70363873  3.7098984   0.        ]\n",
      "{'lambda_': 31.622776601683793, 'rank': 20}\n",
      "Mean Squared Error = [ 3.70363873  3.7098984   3.70645054]\n",
      " MSE grid= [ 0.94931597  0.94931337  0.94966099  0.95122537  0.95544808  0.99677881\n",
      "  1.3750933   3.4742532   3.70666256  3.70666256  0.98226871  0.960936\n",
      "  0.94918535  0.93720005  0.93556182  0.99007981  1.37509334  3.62302508\n",
      "  3.70666256  3.70666256  1.12298985  1.05614597  0.99793901  0.95995044\n",
      "  0.93320933  0.99071266  1.37509387  3.52167146  3.70666256  3.70666256\n",
      "  1.15512229  1.08331858  1.03502866  0.97973252  0.93843418  0.99029375\n",
      "  1.37509389  3.5587535   3.70666256  3.70666256  1.41084718  1.26669611\n",
      "  1.13177893  1.02847173  0.94135326  0.99111043  1.37509389  3.5101867\n",
      "  3.70666256  3.70666256  1.61595093  1.41449654  1.23098973  1.06041333\n",
      "  0.94006166  0.99126767  1.37509388  3.49812881  3.70666256  3.70666256]\n"
     ]
    },
    {
     "ename": "TypeError",
     "evalue": "only length-1 arrays can be converted to Python scalars",
     "output_type": "error",
     "traceback": [
      "\u001b[0;31m---------------------------------------------------------------------------\u001b[0m",
      "\u001b[0;31mTypeError\u001b[0m                                 Traceback (most recent call last)",
      "\u001b[0;32m<ipython-input-160-fe873a67ab75>\u001b[0m in \u001b[0;36m<module>\u001b[0;34m()\u001b[0m\n\u001b[1;32m     42\u001b[0m \u001b[0mbest_params_index\u001b[0m \u001b[0;34m=\u001b[0m \u001b[0mnp\u001b[0m\u001b[0;34m.\u001b[0m\u001b[0margmin\u001b[0m\u001b[0;34m(\u001b[0m\u001b[0mMSE_grid\u001b[0m\u001b[0;34m)\u001b[0m\u001b[0;34m\u001b[0m\u001b[0m\n\u001b[1;32m     43\u001b[0m \u001b[0mbest_params\u001b[0m \u001b[0;34m=\u001b[0m \u001b[0mdict\u001b[0m\u001b[0;34m(\u001b[0m\u001b[0mzip\u001b[0m\u001b[0;34m(\u001b[0m\u001b[0mparam_map\u001b[0m\u001b[0;34m.\u001b[0m\u001b[0mkeys\u001b[0m\u001b[0;34m(\u001b[0m\u001b[0;34m)\u001b[0m\u001b[0;34m,\u001b[0m \u001b[0mvalue_grids\u001b[0m\u001b[0;34m[\u001b[0m\u001b[0mbest_params_index\u001b[0m\u001b[0;34m]\u001b[0m\u001b[0;34m)\u001b[0m\u001b[0;34m)\u001b[0m\u001b[0;34m\u001b[0m\u001b[0m\n\u001b[0;32m---> 44\u001b[0;31m \u001b[0mMSE_grid_\u001b[0m \u001b[0;34m=\u001b[0m \u001b[0mnp\u001b[0m\u001b[0;34m.\u001b[0m\u001b[0mreshape\u001b[0m\u001b[0;34m(\u001b[0m\u001b[0mMSE_grid\u001b[0m\u001b[0;34m,\u001b[0m \u001b[0mvalue_grid\u001b[0m\u001b[0;34m[\u001b[0m\u001b[0;36m0\u001b[0m\u001b[0;34m]\u001b[0m\u001b[0;34m)\u001b[0m\u001b[0;34m\u001b[0m\u001b[0m\n\u001b[0m\u001b[1;32m     45\u001b[0m \u001b[0;34m\u001b[0m\u001b[0m\n\u001b[1;32m     46\u001b[0m \u001b[0;34m\u001b[0m\u001b[0m\n",
      "\u001b[0;32m/usr/lib/python2.7/dist-packages/numpy/core/fromnumeric.pyc\u001b[0m in \u001b[0;36mreshape\u001b[0;34m(a, newshape, order)\u001b[0m\n\u001b[1;32m    216\u001b[0m     \u001b[0;32mexcept\u001b[0m \u001b[0mAttributeError\u001b[0m\u001b[0;34m:\u001b[0m\u001b[0;34m\u001b[0m\u001b[0m\n\u001b[1;32m    217\u001b[0m         \u001b[0;32mreturn\u001b[0m \u001b[0m_wrapit\u001b[0m\u001b[0;34m(\u001b[0m\u001b[0ma\u001b[0m\u001b[0;34m,\u001b[0m \u001b[0;34m'reshape'\u001b[0m\u001b[0;34m,\u001b[0m \u001b[0mnewshape\u001b[0m\u001b[0;34m,\u001b[0m \u001b[0morder\u001b[0m\u001b[0;34m=\u001b[0m\u001b[0morder\u001b[0m\u001b[0;34m)\u001b[0m\u001b[0;34m\u001b[0m\u001b[0m\n\u001b[0;32m--> 218\u001b[0;31m     \u001b[0;32mreturn\u001b[0m \u001b[0mreshape\u001b[0m\u001b[0;34m(\u001b[0m\u001b[0mnewshape\u001b[0m\u001b[0;34m,\u001b[0m \u001b[0morder\u001b[0m\u001b[0;34m=\u001b[0m\u001b[0morder\u001b[0m\u001b[0;34m)\u001b[0m\u001b[0;34m\u001b[0m\u001b[0m\n\u001b[0m\u001b[1;32m    219\u001b[0m \u001b[0;34m\u001b[0m\u001b[0m\n\u001b[1;32m    220\u001b[0m \u001b[0;34m\u001b[0m\u001b[0m\n",
      "\u001b[0;31mTypeError\u001b[0m: only length-1 arrays can be converted to Python scalars"
     ]
    }
   ],
   "source": [
    "import numpy as np\n",
    "import os\n",
    "from pyspark.mllib.recommendation import ALS, MatrixFactorizationModel, Rating\n",
    "\n",
    "param_map = {'rank': [1, 2, 4, 5, 10, 20], 'lambda_': np.logspace(-3, 1.5, 10)}\n",
    "\n",
    "value_grid = np.meshgrid(*param_map.values(), indexing='xy')\n",
    "index_grid = np.meshgrid(*[range(len(i)) for i in param_map.values()], indexing='ij')\n",
    "index_grids = []\n",
    "for a in index_grid:\n",
    "    index_grids.append(a.reshape(-1, ))\n",
    "\n",
    "value_grids = []\n",
    "for a in value_grid:\n",
    "    value_grids.append(a.reshape(-1, ))\n",
    "\n",
    "#index_grids = np.vstack(index_grids).T \n",
    "#value_grids = np.vstack(value_grids).T\n",
    "index_grids = zip(*index_grids) \n",
    "value_grids = zip(*value_grids)\n",
    "\n",
    "n_folds = 3\n",
    "MSE_grid = np.zeros(len(value_grids))\n",
    "for i, vg in enumerate(value_grids):\n",
    "    kwargs = dict(zip(param_map.keys(), vg))\n",
    "    MSE = np.zeros(n_folds)\n",
    "    for j, (ratings_train, ratings_test) in enumerate(kfold_cv_generator(ratings_sp, n_folds)):\n",
    "        \n",
    "        print kwargs\n",
    "        model = ALS.train(ratings_train.select(['UserID', 'MovieID', 'Rating']), iterations = 10, **kwargs)\n",
    "\n",
    "        test_data = ratings_test.rdd.map(lambda r: (r[0], r[1]))\n",
    "        predictions = model.predictAll(test_data).map(lambda r: ((r[0], r[1]), r[2]))\n",
    "        p = predictions.collect()\n",
    "        ratesAndPreds = ratings_test.rdd.map(lambda r: ((r[0], r[1]), r[2])).join(predictions)\n",
    "        MSE[j] = (ratesAndPreds.map(lambda r: (r[1][0] - r[1][1])**2).mean())**.5\n",
    "\n",
    "        print(\"Mean Squared Error = \" + str(MSE))\n",
    "    MSE_grid[i] = np.mean(MSE)\n",
    "    print(\" MSE grid= \" + str(MSE_grid))\n",
    "    \n",
    "best_params_index = np.argmin(MSE_grid)\n",
    "best_params = dict(zip(param_map.keys(), value_grids[best_params_index]))\n",
    "MSE_grid_ = np.reshape(MSE_grid, value_grid[0].shape)\n",
    "\n",
    "\n",
    "from mpl_toolkits.mplot3d import Axes3D\n",
    "import matplotlib.pyplot as plt\n",
    "from matplotlib import cm\n",
    "from matplotlib.ticker import LinearLocator, FormatStrFormatter\n",
    "import numpy as np\n",
    "\n",
    "\n",
    "fig = plt.figure()\n",
    "ax = fig.gca(projection='3d')\n",
    "\n",
    "# Make data.\n",
    "\n",
    "# Plot the surface.\n",
    "args = list(value_grid)\n",
    "args.append(MSE_grid_)\n",
    "surf = ax.plot_surface(*args, cmap=cm.coolwarm,\n",
    "                       linewidth=0, antialiased=False)\n",
    "ax.set_xlabel('x')\n",
    "ax.set_ylabel('y')\n",
    "#ax.set_xscale('log')\n",
    "\n",
    "# Add a color bar which maps values to colors.\n",
    "#fig.colorbar(surf, shrink=0.5, aspect=5)\n",
    "\n",
    "plt.show()"
   ]
  },
  {
   "cell_type": "code",
   "execution_count": 100,
   "metadata": {
    "collapsed": false
   },
   "outputs": [
    {
     "data": {
      "text/plain": [
       "{'lambda_': 0.031622776601683791, 'rank': 2}"
      ]
     },
     "execution_count": 100,
     "metadata": {},
     "output_type": "execute_result"
    }
   ],
   "source": [
    "best_params = dict(zip(param_map.keys(), value_grids[best_params_index]))\n",
    "best_params"
   ]
  },
  {
   "cell_type": "code",
   "execution_count": 97,
   "metadata": {
    "collapsed": false
   },
   "outputs": [
    {
     "data": {
      "text/plain": [
       "['lambda_', 'rank']"
      ]
     },
     "execution_count": 97,
     "metadata": {},
     "output_type": "execute_result"
    }
   ],
   "source": [
    "value_grids[best_params_index]\n",
    "param_map.keys()"
   ]
  },
  {
   "cell_type": "code",
   "execution_count": null,
   "metadata": {
    "collapsed": true
   },
   "outputs": [],
   "source": [
    "param_map = {'rank': [1, 2, 4, 10, 20], 'lambda_': np.linspace(-3, 3, 5)}\n",
    "\n",
    "def find_best_params(data_set, n_folds, param_map):\n",
    "    "
   ]
  },
  {
   "cell_type": "code",
   "execution_count": 36,
   "metadata": {
    "collapsed": false
   },
   "outputs": [
    {
     "name": "stdout",
     "output_type": "stream",
     "text": [
      "89918\n",
      "Mean Squared Error = [ 0.94863231  0.          0.          0.          0.          0.          0.\n",
      "  0.          0.          0.        ]\n",
      "90035\n",
      "Mean Squared Error = [ 0.94863231  0.93820052  0.          0.          0.          0.          0.\n",
      "  0.          0.          0.        ]\n",
      "90011\n",
      "Mean Squared Error = [ 0.94863231  0.93820052  0.94313064  0.          0.          0.          0.\n",
      "  0.          0.          0.        ]\n",
      "89995\n"
     ]
    },
    {
     "ename": "KeyboardInterrupt",
     "evalue": "",
     "output_type": "error",
     "traceback": [
      "\u001b[0;31m---------------------------------------------------------------------------\u001b[0m",
      "\u001b[0;31mKeyboardInterrupt\u001b[0m                         Traceback (most recent call last)",
      "\u001b[0;32m<ipython-input-36-127f42dd47c6>\u001b[0m in \u001b[0;36m<module>\u001b[0;34m()\u001b[0m\n\u001b[1;32m     18\u001b[0m     \u001b[0;32mprint\u001b[0m \u001b[0mratings_train\u001b[0m\u001b[0;34m.\u001b[0m\u001b[0mcount\u001b[0m\u001b[0;34m(\u001b[0m\u001b[0;34m)\u001b[0m\u001b[0;34m\u001b[0m\u001b[0m\n\u001b[1;32m     19\u001b[0m     \u001b[0;31m# TODO: Remove timestamp column from the begining\u001b[0m\u001b[0;34m\u001b[0m\u001b[0;34m\u001b[0m\u001b[0m\n\u001b[0;32m---> 20\u001b[0;31m     \u001b[0mmodel\u001b[0m \u001b[0;34m=\u001b[0m \u001b[0mALS\u001b[0m\u001b[0;34m.\u001b[0m\u001b[0mtrain\u001b[0m\u001b[0;34m(\u001b[0m\u001b[0mratings_train\u001b[0m\u001b[0;34m.\u001b[0m\u001b[0mselect\u001b[0m\u001b[0;34m(\u001b[0m\u001b[0;34m[\u001b[0m\u001b[0;34m'UserID'\u001b[0m\u001b[0;34m,\u001b[0m \u001b[0;34m'MovieID'\u001b[0m\u001b[0;34m,\u001b[0m \u001b[0;34m'Rating'\u001b[0m\u001b[0;34m]\u001b[0m\u001b[0;34m)\u001b[0m\u001b[0;34m,\u001b[0m\u001b[0mrank\u001b[0m \u001b[0;34m=\u001b[0m \u001b[0;36m10\u001b[0m\u001b[0;34m,\u001b[0m \u001b[0mlambda_\u001b[0m \u001b[0;34m=\u001b[0m \u001b[0;36m.2\u001b[0m\u001b[0;34m,\u001b[0m \u001b[0miterations\u001b[0m \u001b[0;34m=\u001b[0m \u001b[0;36m10\u001b[0m\u001b[0;34m)\u001b[0m\u001b[0;34m\u001b[0m\u001b[0m\n\u001b[0m\u001b[1;32m     21\u001b[0m \u001b[0;34m\u001b[0m\u001b[0m\n\u001b[1;32m     22\u001b[0m     \u001b[0mtest_data\u001b[0m \u001b[0;34m=\u001b[0m \u001b[0mratings_test\u001b[0m\u001b[0;34m.\u001b[0m\u001b[0mrdd\u001b[0m\u001b[0;34m.\u001b[0m\u001b[0mmap\u001b[0m\u001b[0;34m(\u001b[0m\u001b[0;32mlambda\u001b[0m \u001b[0mr\u001b[0m\u001b[0;34m:\u001b[0m \u001b[0;34m(\u001b[0m\u001b[0mr\u001b[0m\u001b[0;34m[\u001b[0m\u001b[0;36m0\u001b[0m\u001b[0;34m]\u001b[0m\u001b[0;34m,\u001b[0m \u001b[0mr\u001b[0m\u001b[0;34m[\u001b[0m\u001b[0;36m1\u001b[0m\u001b[0;34m]\u001b[0m\u001b[0;34m)\u001b[0m\u001b[0;34m)\u001b[0m\u001b[0;34m\u001b[0m\u001b[0m\n",
      "\u001b[0;32m/home/amir/git/ds/Recommender/pyspark/mllib/recommendation.pyc\u001b[0m in \u001b[0;36mtrain\u001b[0;34m(cls, ratings, rank, iterations, lambda_, blocks, nonnegative, seed)\u001b[0m\n\u001b[1;32m    270\u001b[0m           \u001b[0;34m(\u001b[0m\u001b[0mdefault\u001b[0m\u001b[0;34m:\u001b[0m \u001b[0mNone\u001b[0m\u001b[0;34m)\u001b[0m\u001b[0;34m\u001b[0m\u001b[0m\n\u001b[1;32m    271\u001b[0m         \"\"\"\n\u001b[0;32m--> 272\u001b[0;31m         model = callMLlibFunc(\"trainALSModel\", cls._prepare(ratings), rank, iterations,\n\u001b[0m\u001b[1;32m    273\u001b[0m                               lambda_, blocks, nonnegative, seed)\n\u001b[1;32m    274\u001b[0m         \u001b[0;32mreturn\u001b[0m \u001b[0mMatrixFactorizationModel\u001b[0m\u001b[0;34m(\u001b[0m\u001b[0mmodel\u001b[0m\u001b[0;34m)\u001b[0m\u001b[0;34m\u001b[0m\u001b[0m\n",
      "\u001b[0;32m/home/amir/git/ds/Recommender/pyspark/mllib/recommendation.pyc\u001b[0m in \u001b[0;36m_prepare\u001b[0;34m(cls, ratings)\u001b[0m\n\u001b[1;32m    227\u001b[0m             raise TypeError(\"Ratings should be represented by either an RDD or a DataFrame, \"\n\u001b[1;32m    228\u001b[0m                             \"but got %s.\" % type(ratings))\n\u001b[0;32m--> 229\u001b[0;31m         \u001b[0mfirst\u001b[0m \u001b[0;34m=\u001b[0m \u001b[0mratings\u001b[0m\u001b[0;34m.\u001b[0m\u001b[0mfirst\u001b[0m\u001b[0;34m(\u001b[0m\u001b[0;34m)\u001b[0m\u001b[0;34m\u001b[0m\u001b[0m\n\u001b[0m\u001b[1;32m    230\u001b[0m         \u001b[0;32mif\u001b[0m \u001b[0misinstance\u001b[0m\u001b[0;34m(\u001b[0m\u001b[0mfirst\u001b[0m\u001b[0;34m,\u001b[0m \u001b[0mRating\u001b[0m\u001b[0;34m)\u001b[0m\u001b[0;34m:\u001b[0m\u001b[0;34m\u001b[0m\u001b[0m\n\u001b[1;32m    231\u001b[0m             \u001b[0;32mpass\u001b[0m\u001b[0;34m\u001b[0m\u001b[0m\n",
      "\u001b[0;32m/home/amir/git/ds/Recommender/pyspark/rdd.pyc\u001b[0m in \u001b[0;36mfirst\u001b[0;34m(self)\u001b[0m\n\u001b[1;32m   1359\u001b[0m         \u001b[0mValueError\u001b[0m\u001b[0;34m:\u001b[0m \u001b[0mRDD\u001b[0m \u001b[0;32mis\u001b[0m \u001b[0mempty\u001b[0m\u001b[0;34m\u001b[0m\u001b[0m\n\u001b[1;32m   1360\u001b[0m         \"\"\"\n\u001b[0;32m-> 1361\u001b[0;31m         \u001b[0mrs\u001b[0m \u001b[0;34m=\u001b[0m \u001b[0mself\u001b[0m\u001b[0;34m.\u001b[0m\u001b[0mtake\u001b[0m\u001b[0;34m(\u001b[0m\u001b[0;36m1\u001b[0m\u001b[0;34m)\u001b[0m\u001b[0;34m\u001b[0m\u001b[0m\n\u001b[0m\u001b[1;32m   1362\u001b[0m         \u001b[0;32mif\u001b[0m \u001b[0mrs\u001b[0m\u001b[0;34m:\u001b[0m\u001b[0;34m\u001b[0m\u001b[0m\n\u001b[1;32m   1363\u001b[0m             \u001b[0;32mreturn\u001b[0m \u001b[0mrs\u001b[0m\u001b[0;34m[\u001b[0m\u001b[0;36m0\u001b[0m\u001b[0;34m]\u001b[0m\u001b[0;34m\u001b[0m\u001b[0m\n",
      "\u001b[0;32m/home/amir/git/ds/Recommender/pyspark/rdd.pyc\u001b[0m in \u001b[0;36mtake\u001b[0;34m(self, num)\u001b[0m\n\u001b[1;32m   1341\u001b[0m \u001b[0;34m\u001b[0m\u001b[0m\n\u001b[1;32m   1342\u001b[0m             \u001b[0mp\u001b[0m \u001b[0;34m=\u001b[0m \u001b[0mrange\u001b[0m\u001b[0;34m(\u001b[0m\u001b[0mpartsScanned\u001b[0m\u001b[0;34m,\u001b[0m \u001b[0mmin\u001b[0m\u001b[0;34m(\u001b[0m\u001b[0mpartsScanned\u001b[0m \u001b[0;34m+\u001b[0m \u001b[0mnumPartsToTry\u001b[0m\u001b[0;34m,\u001b[0m \u001b[0mtotalParts\u001b[0m\u001b[0;34m)\u001b[0m\u001b[0;34m)\u001b[0m\u001b[0;34m\u001b[0m\u001b[0m\n\u001b[0;32m-> 1343\u001b[0;31m             \u001b[0mres\u001b[0m \u001b[0;34m=\u001b[0m \u001b[0mself\u001b[0m\u001b[0;34m.\u001b[0m\u001b[0mcontext\u001b[0m\u001b[0;34m.\u001b[0m\u001b[0mrunJob\u001b[0m\u001b[0;34m(\u001b[0m\u001b[0mself\u001b[0m\u001b[0;34m,\u001b[0m \u001b[0mtakeUpToNumLeft\u001b[0m\u001b[0;34m,\u001b[0m \u001b[0mp\u001b[0m\u001b[0;34m)\u001b[0m\u001b[0;34m\u001b[0m\u001b[0m\n\u001b[0m\u001b[1;32m   1344\u001b[0m \u001b[0;34m\u001b[0m\u001b[0m\n\u001b[1;32m   1345\u001b[0m             \u001b[0mitems\u001b[0m \u001b[0;34m+=\u001b[0m \u001b[0mres\u001b[0m\u001b[0;34m\u001b[0m\u001b[0m\n",
      "\u001b[0;32m/home/amir/git/ds/Recommender/pyspark/context.pyc\u001b[0m in \u001b[0;36mrunJob\u001b[0;34m(self, rdd, partitionFunc, partitions, allowLocal)\u001b[0m\n\u001b[1;32m    963\u001b[0m         \u001b[0;31m# SparkContext#runJob.\u001b[0m\u001b[0;34m\u001b[0m\u001b[0;34m\u001b[0m\u001b[0m\n\u001b[1;32m    964\u001b[0m         \u001b[0mmappedRDD\u001b[0m \u001b[0;34m=\u001b[0m \u001b[0mrdd\u001b[0m\u001b[0;34m.\u001b[0m\u001b[0mmapPartitions\u001b[0m\u001b[0;34m(\u001b[0m\u001b[0mpartitionFunc\u001b[0m\u001b[0;34m)\u001b[0m\u001b[0;34m\u001b[0m\u001b[0m\n\u001b[0;32m--> 965\u001b[0;31m         \u001b[0mport\u001b[0m \u001b[0;34m=\u001b[0m \u001b[0mself\u001b[0m\u001b[0;34m.\u001b[0m\u001b[0m_jvm\u001b[0m\u001b[0;34m.\u001b[0m\u001b[0mPythonRDD\u001b[0m\u001b[0;34m.\u001b[0m\u001b[0mrunJob\u001b[0m\u001b[0;34m(\u001b[0m\u001b[0mself\u001b[0m\u001b[0;34m.\u001b[0m\u001b[0m_jsc\u001b[0m\u001b[0;34m.\u001b[0m\u001b[0msc\u001b[0m\u001b[0;34m(\u001b[0m\u001b[0;34m)\u001b[0m\u001b[0;34m,\u001b[0m \u001b[0mmappedRDD\u001b[0m\u001b[0;34m.\u001b[0m\u001b[0m_jrdd\u001b[0m\u001b[0;34m,\u001b[0m \u001b[0mpartitions\u001b[0m\u001b[0;34m)\u001b[0m\u001b[0;34m\u001b[0m\u001b[0m\n\u001b[0m\u001b[1;32m    966\u001b[0m         \u001b[0;32mreturn\u001b[0m \u001b[0mlist\u001b[0m\u001b[0;34m(\u001b[0m\u001b[0m_load_from_socket\u001b[0m\u001b[0;34m(\u001b[0m\u001b[0mport\u001b[0m\u001b[0;34m,\u001b[0m \u001b[0mmappedRDD\u001b[0m\u001b[0;34m.\u001b[0m\u001b[0m_jrdd_deserializer\u001b[0m\u001b[0;34m)\u001b[0m\u001b[0;34m)\u001b[0m\u001b[0;34m\u001b[0m\u001b[0m\n\u001b[1;32m    967\u001b[0m \u001b[0;34m\u001b[0m\u001b[0m\n",
      "\u001b[0;32m/usr/local/spark/python/lib/py4j-0.10.4-src.zip/py4j/java_gateway.py\u001b[0m in \u001b[0;36m__call__\u001b[0;34m(self, *args)\u001b[0m\n\u001b[1;32m   1129\u001b[0m             \u001b[0mproto\u001b[0m\u001b[0;34m.\u001b[0m\u001b[0mEND_COMMAND_PART\u001b[0m\u001b[0;34m\u001b[0m\u001b[0m\n\u001b[1;32m   1130\u001b[0m \u001b[0;34m\u001b[0m\u001b[0m\n\u001b[0;32m-> 1131\u001b[0;31m         \u001b[0manswer\u001b[0m \u001b[0;34m=\u001b[0m \u001b[0mself\u001b[0m\u001b[0;34m.\u001b[0m\u001b[0mgateway_client\u001b[0m\u001b[0;34m.\u001b[0m\u001b[0msend_command\u001b[0m\u001b[0;34m(\u001b[0m\u001b[0mcommand\u001b[0m\u001b[0;34m)\u001b[0m\u001b[0;34m\u001b[0m\u001b[0m\n\u001b[0m\u001b[1;32m   1132\u001b[0m         return_value = get_return_value(\n\u001b[1;32m   1133\u001b[0m             answer, self.gateway_client, self.target_id, self.name)\n",
      "\u001b[0;32m/usr/local/spark/python/lib/py4j-0.10.4-src.zip/py4j/java_gateway.py\u001b[0m in \u001b[0;36msend_command\u001b[0;34m(self, command, retry, binary)\u001b[0m\n\u001b[1;32m    881\u001b[0m         \u001b[0mconnection\u001b[0m \u001b[0;34m=\u001b[0m \u001b[0mself\u001b[0m\u001b[0;34m.\u001b[0m\u001b[0m_get_connection\u001b[0m\u001b[0;34m(\u001b[0m\u001b[0;34m)\u001b[0m\u001b[0;34m\u001b[0m\u001b[0m\n\u001b[1;32m    882\u001b[0m         \u001b[0;32mtry\u001b[0m\u001b[0;34m:\u001b[0m\u001b[0;34m\u001b[0m\u001b[0m\n\u001b[0;32m--> 883\u001b[0;31m             \u001b[0mresponse\u001b[0m \u001b[0;34m=\u001b[0m \u001b[0mconnection\u001b[0m\u001b[0;34m.\u001b[0m\u001b[0msend_command\u001b[0m\u001b[0;34m(\u001b[0m\u001b[0mcommand\u001b[0m\u001b[0;34m)\u001b[0m\u001b[0;34m\u001b[0m\u001b[0m\n\u001b[0m\u001b[1;32m    884\u001b[0m             \u001b[0;32mif\u001b[0m \u001b[0mbinary\u001b[0m\u001b[0;34m:\u001b[0m\u001b[0;34m\u001b[0m\u001b[0m\n\u001b[1;32m    885\u001b[0m                 \u001b[0;32mreturn\u001b[0m \u001b[0mresponse\u001b[0m\u001b[0;34m,\u001b[0m \u001b[0mself\u001b[0m\u001b[0;34m.\u001b[0m\u001b[0m_create_connection_guard\u001b[0m\u001b[0;34m(\u001b[0m\u001b[0mconnection\u001b[0m\u001b[0;34m)\u001b[0m\u001b[0;34m\u001b[0m\u001b[0m\n",
      "\u001b[0;32m/usr/local/spark/python/lib/py4j-0.10.4-src.zip/py4j/java_gateway.py\u001b[0m in \u001b[0;36msend_command\u001b[0;34m(self, command)\u001b[0m\n\u001b[1;32m   1026\u001b[0m \u001b[0;34m\u001b[0m\u001b[0m\n\u001b[1;32m   1027\u001b[0m         \u001b[0;32mtry\u001b[0m\u001b[0;34m:\u001b[0m\u001b[0;34m\u001b[0m\u001b[0m\n\u001b[0;32m-> 1028\u001b[0;31m             \u001b[0manswer\u001b[0m \u001b[0;34m=\u001b[0m \u001b[0msmart_decode\u001b[0m\u001b[0;34m(\u001b[0m\u001b[0mself\u001b[0m\u001b[0;34m.\u001b[0m\u001b[0mstream\u001b[0m\u001b[0;34m.\u001b[0m\u001b[0mreadline\u001b[0m\u001b[0;34m(\u001b[0m\u001b[0;34m)\u001b[0m\u001b[0;34m[\u001b[0m\u001b[0;34m:\u001b[0m\u001b[0;34m-\u001b[0m\u001b[0;36m1\u001b[0m\u001b[0;34m]\u001b[0m\u001b[0;34m)\u001b[0m\u001b[0;34m\u001b[0m\u001b[0m\n\u001b[0m\u001b[1;32m   1029\u001b[0m             \u001b[0mlogger\u001b[0m\u001b[0;34m.\u001b[0m\u001b[0mdebug\u001b[0m\u001b[0;34m(\u001b[0m\u001b[0;34m\"Answer received: {0}\"\u001b[0m\u001b[0;34m.\u001b[0m\u001b[0mformat\u001b[0m\u001b[0;34m(\u001b[0m\u001b[0manswer\u001b[0m\u001b[0;34m)\u001b[0m\u001b[0;34m)\u001b[0m\u001b[0;34m\u001b[0m\u001b[0m\n\u001b[1;32m   1030\u001b[0m             \u001b[0;32mif\u001b[0m \u001b[0manswer\u001b[0m\u001b[0;34m.\u001b[0m\u001b[0mstartswith\u001b[0m\u001b[0;34m(\u001b[0m\u001b[0mproto\u001b[0m\u001b[0;34m.\u001b[0m\u001b[0mRETURN_MESSAGE\u001b[0m\u001b[0;34m)\u001b[0m\u001b[0;34m:\u001b[0m\u001b[0;34m\u001b[0m\u001b[0m\n",
      "\u001b[0;32m/usr/lib/python2.7/socket.pyc\u001b[0m in \u001b[0;36mreadline\u001b[0;34m(self, size)\u001b[0m\n\u001b[1;32m    445\u001b[0m             \u001b[0;32mwhile\u001b[0m \u001b[0mTrue\u001b[0m\u001b[0;34m:\u001b[0m\u001b[0;34m\u001b[0m\u001b[0m\n\u001b[1;32m    446\u001b[0m                 \u001b[0;32mtry\u001b[0m\u001b[0;34m:\u001b[0m\u001b[0;34m\u001b[0m\u001b[0m\n\u001b[0;32m--> 447\u001b[0;31m                     \u001b[0mdata\u001b[0m \u001b[0;34m=\u001b[0m \u001b[0mself\u001b[0m\u001b[0;34m.\u001b[0m\u001b[0m_sock\u001b[0m\u001b[0;34m.\u001b[0m\u001b[0mrecv\u001b[0m\u001b[0;34m(\u001b[0m\u001b[0mself\u001b[0m\u001b[0;34m.\u001b[0m\u001b[0m_rbufsize\u001b[0m\u001b[0;34m)\u001b[0m\u001b[0;34m\u001b[0m\u001b[0m\n\u001b[0m\u001b[1;32m    448\u001b[0m                 \u001b[0;32mexcept\u001b[0m \u001b[0merror\u001b[0m\u001b[0;34m,\u001b[0m \u001b[0me\u001b[0m\u001b[0;34m:\u001b[0m\u001b[0;34m\u001b[0m\u001b[0m\n\u001b[1;32m    449\u001b[0m                     \u001b[0;32mif\u001b[0m \u001b[0me\u001b[0m\u001b[0;34m.\u001b[0m\u001b[0margs\u001b[0m\u001b[0;34m[\u001b[0m\u001b[0;36m0\u001b[0m\u001b[0;34m]\u001b[0m \u001b[0;34m==\u001b[0m \u001b[0mEINTR\u001b[0m\u001b[0;34m:\u001b[0m\u001b[0;34m\u001b[0m\u001b[0m\n",
      "\u001b[0;31mKeyboardInterrupt\u001b[0m: "
     ]
    }
   ],
   "source": [
    "import numpy as np\n",
    "import os\n",
    "from pyspark.mllib.recommendation import ALS, MatrixFactorizationModel, Rating\n",
    "\n",
    "#u_data_file = os.path.join(\"ml-1m\", \"ratings.dat\")\n",
    "#ratings = sc.textFile(u_data_file).map(parse_data).cache()#.filter(lambda x: x is not None)\n",
    "\n",
    "#ratings_train = ratings.filter(lambda x: x[3] < 8).map(lambda x: x[:-1])\n",
    "#ratings_test = ratings.filter(lambda x: x[3] >= 8).map(lambda x: x[:-1])\n",
    "\n",
    "#print(\"number of train points: %d\" % ratings_train.count())\n",
    "#print(\"number of test points: %d\" % ratings_test.count())\n",
    "\n",
    "n_folds = 10\n",
    "MSE = np.zeros(n_folds)\n",
    "for i, (ratings_train, ratings_test) in enumerate(kfold_cv_generator(ratings_sp, n_folds)):\n",
    "    \n",
    "    print ratings_train.count()\n",
    "    # TODO: Remove timestamp column from the begining\n",
    "    model = ALS.train(ratings_train.select(['UserID', 'MovieID', 'Rating']),rank = 10, lambda_ = .2, iterations = 10)\n",
    "\n",
    "    test_data = ratings_test.rdd.map(lambda r: (r[0], r[1]))\n",
    "    predictions = model.predictAll(test_data).map(lambda r: ((r[0], r[1]), r[2]))\n",
    "    p = predictions.collect()\n",
    "    ratesAndPreds = ratings_test.rdd.map(lambda r: ((r[0], r[1]), r[2])).join(predictions)\n",
    "    MSE[i] = (ratesAndPreds.map(lambda r: (r[1][0] - r[1][1])**2).mean())**.5\n",
    "\n",
    "    print(\"Mean Squared Error = \" + str(MSE))\n"
   ]
  },
  {
   "cell_type": "code",
   "execution_count": 34,
   "metadata": {
    "collapsed": false
   },
   "outputs": [],
   "source": [
    "model = ALS.train(ratings_sp.select(['UserID', 'MovieID', 'Rating']), rank = 10, iterations = 20)"
   ]
  },
  {
   "cell_type": "code",
   "execution_count": 35,
   "metadata": {
    "collapsed": false
   },
   "outputs": [],
   "source": [
    "pf = model.productFeatures()\n",
    "pf_coordinate = pf.map(lambda r: (r[0],  zip(range(len(r[1])), r[1]))).map(lambda r: r[0])"
   ]
  },
  {
   "cell_type": "code",
   "execution_count": 36,
   "metadata": {
    "collapsed": false
   },
   "outputs": [],
   "source": [
    "uf = model.userFeatures().collect()"
   ]
  },
  {
   "cell_type": "code",
   "execution_count": 37,
   "metadata": {
    "collapsed": true
   },
   "outputs": [],
   "source": [
    "from matplotlib import pyplot as plt"
   ]
  },
  {
   "cell_type": "code",
   "execution_count": 38,
   "metadata": {
    "collapsed": false
   },
   "outputs": [
    {
     "ename": "SyntaxError",
     "evalue": "invalid syntax (<ipython-input-38-79f290f9d2d1>, line 2)",
     "output_type": "error",
     "traceback": [
      "\u001b[0;36m  File \u001b[0;32m\"<ipython-input-38-79f290f9d2d1>\"\u001b[0;36m, line \u001b[0;32m2\u001b[0m\n\u001b[0;31m    [movie_index for movie_index_to_ID[movie_index]\u001b[0m\n\u001b[0m                                                   ^\u001b[0m\n\u001b[0;31mSyntaxError\u001b[0m\u001b[0;31m:\u001b[0m invalid syntax\n"
     ]
    }
   ],
   "source": [
    "movie_index_list = [i[1] for i in model.recommendProducts(0, 10)]\n",
    "[movie_index for movie_index_to_ID[movie_index]"
   ]
  },
  {
   "cell_type": "markdown",
   "metadata": {},
   "source": [
    "### Row-style to coordinate conversion:"
   ]
  },
  {
   "cell_type": "code",
   "execution_count": 39,
   "metadata": {
    "collapsed": false
   },
   "outputs": [],
   "source": [
    "\"\"\"\n",
    "m = [\n",
    "(0, (v00, v01, v02))\n",
    "(2, (v20, v21, v22))\n",
    "(5, (v50, v51, v52))\n",
    "]\n",
    "\n",
    "=>\n",
    "\n",
    "[\n",
    "(0, [(0, v00), (1, v01), (2, v02)])\n",
    "(2, [(0, v20), (1, v21), (2, v22)])\n",
    "(5, [(0, v50), (1, v51), (2, v52)])\n",
    "]\n",
    "\n",
    "=>\n",
    "\n",
    "[\n",
    "(0, 0, v00), (0, 1, v01), (0, 2, v02), \n",
    "(2, 0, v20), (2, 1, v21), (2, 2, v22), \n",
    "\n",
    "]\n",
    "\"\"\"\n",
    "def row_style_to_coordinate(m):\n",
    "    x = m.map(lambda r: (r[0], zip(range(len(r[1])), r[1])))\n",
    "    return x.flatMap(lambda r: [(r[0], i[0], i[1]) for i in r[1]])"
   ]
  },
  {
   "cell_type": "code",
   "execution_count": 40,
   "metadata": {
    "collapsed": true
   },
   "outputs": [],
   "source": [
    "def coordinate_to_sparse(m):\n",
    "    row, col, data = np.array(m).T\n",
    "    return csr_matrix((data, (row, col)))\n"
   ]
  },
  {
   "cell_type": "code",
   "execution_count": 41,
   "metadata": {
    "collapsed": false
   },
   "outputs": [
    {
     "name": "stdout",
     "output_type": "stream",
     "text": [
      "(943, 10)\n",
      "(1682, 10)\n"
     ]
    }
   ],
   "source": [
    "pf_rdd = model.productFeatures()\n",
    "uf_rdd = model.userFeatures()\n",
    "user_features = row_style_to_coordinate(pf_rdd)\n",
    "product_features = row_style_to_coordinate(uf_rdd)\n",
    "print coordinate_to_sparse(user_features.collect()).todense().shape\n",
    "print coordinate_to_sparse(product_features.collect()).todense().shape"
   ]
  },
  {
   "cell_type": "code",
   "execution_count": 42,
   "metadata": {
    "collapsed": false
   },
   "outputs": [],
   "source": [
    "pf_sparse = coordinate_to_sparse(product_features.collect())"
   ]
  },
  {
   "cell_type": "code",
   "execution_count": 43,
   "metadata": {
    "collapsed": false
   },
   "outputs": [],
   "source": [
    "pf = np.array(pf_sparse.todense())"
   ]
  },
  {
   "cell_type": "code",
   "execution_count": 44,
   "metadata": {
    "collapsed": true
   },
   "outputs": [],
   "source": [
    "def array_norm(a):\n",
    "    return ((a**2).dot(np.ones((a.shape[1], 1))))**0.5"
   ]
  },
  {
   "cell_type": "code",
   "execution_count": 45,
   "metadata": {
    "collapsed": false
   },
   "outputs": [
    {
     "data": {
      "text/plain": [
       "(1682, 10)"
      ]
     },
     "execution_count": 45,
     "metadata": {},
     "output_type": "execute_result"
    }
   ],
   "source": [
    "pf.shape"
   ]
  },
  {
   "cell_type": "code",
   "execution_count": 46,
   "metadata": {
    "collapsed": false
   },
   "outputs": [],
   "source": [
    "from sklearn.preprocessing import normalize\n",
    "pf_norm = normalize(pf, axis=1)"
   ]
  },
  {
   "cell_type": "code",
   "execution_count": 47,
   "metadata": {
    "collapsed": false
   },
   "outputs": [],
   "source": [
    "pf_norm = pf/((pf**2).dot(np.ones((pf_sparse.shape[1], 1))))**0.5"
   ]
  },
  {
   "cell_type": "code",
   "execution_count": 48,
   "metadata": {
    "collapsed": false
   },
   "outputs": [
    {
     "data": {
      "text/plain": [
       "array([[ 1.],\n",
       "       [ 1.],\n",
       "       [ 1.],\n",
       "       ..., \n",
       "       [ 1.],\n",
       "       [ 1.],\n",
       "       [ 1.]])"
      ]
     },
     "execution_count": 48,
     "metadata": {},
     "output_type": "execute_result"
    }
   ],
   "source": [
    "array_norm(pf_norm)"
   ]
  },
  {
   "cell_type": "code",
   "execution_count": 49,
   "metadata": {
    "collapsed": false
   },
   "outputs": [],
   "source": [
    "pp_sim = np.dot(pf_norm, pf_norm.T)"
   ]
  },
  {
   "cell_type": "code",
   "execution_count": 50,
   "metadata": {
    "collapsed": false
   },
   "outputs": [
    {
     "data": {
      "text/plain": [
       "(array([[ 1.        ,  0.91312586,  0.38234589, ...,  0.60753014,\n",
       "          0.86640718,  0.7694975 ],\n",
       "        [ 0.91312586,  1.        ,  0.46959098, ...,  0.4061653 ,\n",
       "          0.65946043,  0.62129672],\n",
       "        [ 0.38234589,  0.46959098,  1.        , ...,  0.4069768 ,\n",
       "          0.34864356,  0.55575903],\n",
       "        ..., \n",
       "        [ 0.60753014,  0.4061653 ,  0.4069768 , ...,  1.        ,\n",
       "          0.60386915,  0.81192854],\n",
       "        [ 0.86640718,  0.65946043,  0.34864356, ...,  0.60386915,\n",
       "          1.        ,  0.73170757],\n",
       "        [ 0.7694975 ,  0.62129672,  0.55575903, ...,  0.81192854,\n",
       "          0.73170757,  1.        ]]),\n",
       " {0: 1,\n",
       "  1: 2,\n",
       "  2: 3,\n",
       "  3: 4,\n",
       "  4: 5,\n",
       "  5: 6,\n",
       "  6: 7,\n",
       "  7: 8,\n",
       "  8: 9,\n",
       "  9: 10,\n",
       "  10: 11,\n",
       "  11: 12,\n",
       "  12: 13,\n",
       "  13: 14,\n",
       "  14: 15,\n",
       "  15: 16,\n",
       "  16: 17,\n",
       "  17: 18,\n",
       "  18: 19,\n",
       "  19: 20,\n",
       "  20: 21,\n",
       "  21: 22,\n",
       "  22: 23,\n",
       "  23: 24,\n",
       "  24: 25,\n",
       "  25: 26,\n",
       "  26: 27,\n",
       "  27: 28,\n",
       "  28: 29,\n",
       "  29: 30,\n",
       "  30: 31,\n",
       "  31: 32,\n",
       "  32: 33,\n",
       "  33: 34,\n",
       "  34: 35,\n",
       "  35: 36,\n",
       "  36: 37,\n",
       "  37: 38,\n",
       "  38: 39,\n",
       "  39: 40,\n",
       "  40: 41,\n",
       "  41: 42,\n",
       "  42: 43,\n",
       "  43: 44,\n",
       "  44: 45,\n",
       "  45: 46,\n",
       "  46: 47,\n",
       "  47: 48,\n",
       "  48: 49,\n",
       "  49: 50,\n",
       "  50: 51,\n",
       "  51: 52,\n",
       "  52: 53,\n",
       "  53: 54,\n",
       "  54: 55,\n",
       "  55: 56,\n",
       "  56: 57,\n",
       "  57: 58,\n",
       "  58: 59,\n",
       "  59: 60,\n",
       "  60: 61,\n",
       "  61: 62,\n",
       "  62: 63,\n",
       "  63: 64,\n",
       "  64: 65,\n",
       "  65: 66,\n",
       "  66: 67,\n",
       "  67: 68,\n",
       "  68: 69,\n",
       "  69: 70,\n",
       "  70: 71,\n",
       "  71: 72,\n",
       "  72: 73,\n",
       "  73: 74,\n",
       "  74: 75,\n",
       "  75: 76,\n",
       "  76: 77,\n",
       "  77: 78,\n",
       "  78: 79,\n",
       "  79: 80,\n",
       "  80: 81,\n",
       "  81: 82,\n",
       "  82: 83,\n",
       "  83: 84,\n",
       "  84: 85,\n",
       "  85: 86,\n",
       "  86: 87,\n",
       "  87: 88,\n",
       "  88: 89,\n",
       "  89: 90,\n",
       "  90: 91,\n",
       "  91: 92,\n",
       "  92: 93,\n",
       "  93: 94,\n",
       "  94: 95,\n",
       "  95: 96,\n",
       "  96: 97,\n",
       "  97: 98,\n",
       "  98: 99,\n",
       "  99: 100,\n",
       "  100: 101,\n",
       "  101: 102,\n",
       "  102: 103,\n",
       "  103: 104,\n",
       "  104: 105,\n",
       "  105: 106,\n",
       "  106: 107,\n",
       "  107: 108,\n",
       "  108: 109,\n",
       "  109: 110,\n",
       "  110: 111,\n",
       "  111: 112,\n",
       "  112: 113,\n",
       "  113: 114,\n",
       "  114: 115,\n",
       "  115: 116,\n",
       "  116: 117,\n",
       "  117: 118,\n",
       "  118: 119,\n",
       "  119: 120,\n",
       "  120: 121,\n",
       "  121: 122,\n",
       "  122: 123,\n",
       "  123: 124,\n",
       "  124: 125,\n",
       "  125: 126,\n",
       "  126: 127,\n",
       "  127: 128,\n",
       "  128: 129,\n",
       "  129: 130,\n",
       "  130: 131,\n",
       "  131: 132,\n",
       "  132: 133,\n",
       "  133: 134,\n",
       "  134: 135,\n",
       "  135: 136,\n",
       "  136: 137,\n",
       "  137: 138,\n",
       "  138: 139,\n",
       "  139: 140,\n",
       "  140: 141,\n",
       "  141: 142,\n",
       "  142: 143,\n",
       "  143: 144,\n",
       "  144: 145,\n",
       "  145: 146,\n",
       "  146: 147,\n",
       "  147: 148,\n",
       "  148: 149,\n",
       "  149: 150,\n",
       "  150: 151,\n",
       "  151: 152,\n",
       "  152: 153,\n",
       "  153: 154,\n",
       "  154: 155,\n",
       "  155: 156,\n",
       "  156: 157,\n",
       "  157: 158,\n",
       "  158: 159,\n",
       "  159: 160,\n",
       "  160: 161,\n",
       "  161: 162,\n",
       "  162: 163,\n",
       "  163: 164,\n",
       "  164: 165,\n",
       "  165: 166,\n",
       "  166: 167,\n",
       "  167: 168,\n",
       "  168: 169,\n",
       "  169: 170,\n",
       "  170: 171,\n",
       "  171: 172,\n",
       "  172: 173,\n",
       "  173: 174,\n",
       "  174: 175,\n",
       "  175: 176,\n",
       "  176: 177,\n",
       "  177: 178,\n",
       "  178: 179,\n",
       "  179: 180,\n",
       "  180: 181,\n",
       "  181: 182,\n",
       "  182: 183,\n",
       "  183: 184,\n",
       "  184: 185,\n",
       "  185: 186,\n",
       "  186: 187,\n",
       "  187: 188,\n",
       "  188: 189,\n",
       "  189: 190,\n",
       "  190: 191,\n",
       "  191: 192,\n",
       "  192: 193,\n",
       "  193: 194,\n",
       "  194: 195,\n",
       "  195: 196,\n",
       "  196: 197,\n",
       "  197: 198,\n",
       "  198: 199,\n",
       "  199: 200,\n",
       "  200: 201,\n",
       "  201: 202,\n",
       "  202: 203,\n",
       "  203: 204,\n",
       "  204: 205,\n",
       "  205: 206,\n",
       "  206: 207,\n",
       "  207: 208,\n",
       "  208: 209,\n",
       "  209: 210,\n",
       "  210: 211,\n",
       "  211: 212,\n",
       "  212: 213,\n",
       "  213: 214,\n",
       "  214: 215,\n",
       "  215: 216,\n",
       "  216: 217,\n",
       "  217: 218,\n",
       "  218: 219,\n",
       "  219: 220,\n",
       "  220: 221,\n",
       "  221: 222,\n",
       "  222: 223,\n",
       "  223: 224,\n",
       "  224: 225,\n",
       "  225: 226,\n",
       "  226: 227,\n",
       "  227: 228,\n",
       "  228: 229,\n",
       "  229: 230,\n",
       "  230: 231,\n",
       "  231: 232,\n",
       "  232: 233,\n",
       "  233: 234,\n",
       "  234: 235,\n",
       "  235: 236,\n",
       "  236: 237,\n",
       "  237: 238,\n",
       "  238: 239,\n",
       "  239: 240,\n",
       "  240: 241,\n",
       "  241: 242,\n",
       "  242: 243,\n",
       "  243: 244,\n",
       "  244: 245,\n",
       "  245: 246,\n",
       "  246: 247,\n",
       "  247: 248,\n",
       "  248: 249,\n",
       "  249: 250,\n",
       "  250: 251,\n",
       "  251: 252,\n",
       "  252: 253,\n",
       "  253: 254,\n",
       "  254: 255,\n",
       "  255: 256,\n",
       "  256: 257,\n",
       "  257: 258,\n",
       "  258: 259,\n",
       "  259: 260,\n",
       "  260: 261,\n",
       "  261: 262,\n",
       "  262: 263,\n",
       "  263: 264,\n",
       "  264: 265,\n",
       "  265: 266,\n",
       "  266: 267,\n",
       "  267: 268,\n",
       "  268: 269,\n",
       "  269: 270,\n",
       "  270: 271,\n",
       "  271: 272,\n",
       "  272: 273,\n",
       "  273: 274,\n",
       "  274: 275,\n",
       "  275: 276,\n",
       "  276: 277,\n",
       "  277: 278,\n",
       "  278: 279,\n",
       "  279: 280,\n",
       "  280: 281,\n",
       "  281: 282,\n",
       "  282: 283,\n",
       "  283: 284,\n",
       "  284: 285,\n",
       "  285: 286,\n",
       "  286: 287,\n",
       "  287: 288,\n",
       "  288: 289,\n",
       "  289: 290,\n",
       "  290: 291,\n",
       "  291: 292,\n",
       "  292: 293,\n",
       "  293: 294,\n",
       "  294: 295,\n",
       "  295: 296,\n",
       "  296: 297,\n",
       "  297: 298,\n",
       "  298: 299,\n",
       "  299: 300,\n",
       "  300: 301,\n",
       "  301: 302,\n",
       "  302: 303,\n",
       "  303: 304,\n",
       "  304: 305,\n",
       "  305: 306,\n",
       "  306: 307,\n",
       "  307: 308,\n",
       "  308: 309,\n",
       "  309: 310,\n",
       "  310: 311,\n",
       "  311: 312,\n",
       "  312: 313,\n",
       "  313: 314,\n",
       "  314: 315,\n",
       "  315: 316,\n",
       "  316: 317,\n",
       "  317: 318,\n",
       "  318: 319,\n",
       "  319: 320,\n",
       "  320: 321,\n",
       "  321: 322,\n",
       "  322: 323,\n",
       "  323: 324,\n",
       "  324: 325,\n",
       "  325: 326,\n",
       "  326: 327,\n",
       "  327: 328,\n",
       "  328: 329,\n",
       "  329: 330,\n",
       "  330: 331,\n",
       "  331: 332,\n",
       "  332: 333,\n",
       "  333: 334,\n",
       "  334: 335,\n",
       "  335: 336,\n",
       "  336: 337,\n",
       "  337: 338,\n",
       "  338: 339,\n",
       "  339: 340,\n",
       "  340: 341,\n",
       "  341: 342,\n",
       "  342: 343,\n",
       "  343: 344,\n",
       "  344: 345,\n",
       "  345: 346,\n",
       "  346: 347,\n",
       "  347: 348,\n",
       "  348: 349,\n",
       "  349: 350,\n",
       "  350: 351,\n",
       "  351: 352,\n",
       "  352: 353,\n",
       "  353: 354,\n",
       "  354: 355,\n",
       "  355: 356,\n",
       "  356: 357,\n",
       "  357: 358,\n",
       "  358: 359,\n",
       "  359: 360,\n",
       "  360: 361,\n",
       "  361: 362,\n",
       "  362: 363,\n",
       "  363: 364,\n",
       "  364: 365,\n",
       "  365: 366,\n",
       "  366: 367,\n",
       "  367: 368,\n",
       "  368: 369,\n",
       "  369: 370,\n",
       "  370: 371,\n",
       "  371: 372,\n",
       "  372: 373,\n",
       "  373: 374,\n",
       "  374: 375,\n",
       "  375: 376,\n",
       "  376: 377,\n",
       "  377: 378,\n",
       "  378: 379,\n",
       "  379: 380,\n",
       "  380: 381,\n",
       "  381: 382,\n",
       "  382: 383,\n",
       "  383: 384,\n",
       "  384: 385,\n",
       "  385: 386,\n",
       "  386: 387,\n",
       "  387: 388,\n",
       "  388: 389,\n",
       "  389: 390,\n",
       "  390: 391,\n",
       "  391: 392,\n",
       "  392: 393,\n",
       "  393: 394,\n",
       "  394: 395,\n",
       "  395: 396,\n",
       "  396: 397,\n",
       "  397: 398,\n",
       "  398: 399,\n",
       "  399: 400,\n",
       "  400: 401,\n",
       "  401: 402,\n",
       "  402: 403,\n",
       "  403: 404,\n",
       "  404: 405,\n",
       "  405: 406,\n",
       "  406: 407,\n",
       "  407: 408,\n",
       "  408: 409,\n",
       "  409: 410,\n",
       "  410: 411,\n",
       "  411: 412,\n",
       "  412: 413,\n",
       "  413: 414,\n",
       "  414: 415,\n",
       "  415: 416,\n",
       "  416: 417,\n",
       "  417: 418,\n",
       "  418: 419,\n",
       "  419: 420,\n",
       "  420: 421,\n",
       "  421: 422,\n",
       "  422: 423,\n",
       "  423: 424,\n",
       "  424: 425,\n",
       "  425: 426,\n",
       "  426: 427,\n",
       "  427: 428,\n",
       "  428: 429,\n",
       "  429: 430,\n",
       "  430: 431,\n",
       "  431: 432,\n",
       "  432: 433,\n",
       "  433: 434,\n",
       "  434: 435,\n",
       "  435: 436,\n",
       "  436: 437,\n",
       "  437: 438,\n",
       "  438: 439,\n",
       "  439: 440,\n",
       "  440: 441,\n",
       "  441: 442,\n",
       "  442: 443,\n",
       "  443: 444,\n",
       "  444: 445,\n",
       "  445: 446,\n",
       "  446: 447,\n",
       "  447: 448,\n",
       "  448: 449,\n",
       "  449: 450,\n",
       "  450: 451,\n",
       "  451: 452,\n",
       "  452: 453,\n",
       "  453: 454,\n",
       "  454: 455,\n",
       "  455: 456,\n",
       "  456: 457,\n",
       "  457: 458,\n",
       "  458: 459,\n",
       "  459: 460,\n",
       "  460: 461,\n",
       "  461: 462,\n",
       "  462: 463,\n",
       "  463: 464,\n",
       "  464: 465,\n",
       "  465: 466,\n",
       "  466: 467,\n",
       "  467: 468,\n",
       "  468: 469,\n",
       "  469: 470,\n",
       "  470: 471,\n",
       "  471: 472,\n",
       "  472: 473,\n",
       "  473: 474,\n",
       "  474: 475,\n",
       "  475: 476,\n",
       "  476: 477,\n",
       "  477: 478,\n",
       "  478: 479,\n",
       "  479: 480,\n",
       "  480: 481,\n",
       "  481: 482,\n",
       "  482: 483,\n",
       "  483: 484,\n",
       "  484: 485,\n",
       "  485: 486,\n",
       "  486: 487,\n",
       "  487: 488,\n",
       "  488: 489,\n",
       "  489: 490,\n",
       "  490: 491,\n",
       "  491: 492,\n",
       "  492: 493,\n",
       "  493: 494,\n",
       "  494: 495,\n",
       "  495: 496,\n",
       "  496: 497,\n",
       "  497: 498,\n",
       "  498: 499,\n",
       "  499: 500,\n",
       "  500: 501,\n",
       "  501: 502,\n",
       "  502: 503,\n",
       "  503: 504,\n",
       "  504: 505,\n",
       "  505: 506,\n",
       "  506: 507,\n",
       "  507: 508,\n",
       "  508: 509,\n",
       "  509: 510,\n",
       "  510: 511,\n",
       "  511: 512,\n",
       "  512: 513,\n",
       "  513: 514,\n",
       "  514: 515,\n",
       "  515: 516,\n",
       "  516: 517,\n",
       "  517: 518,\n",
       "  518: 519,\n",
       "  519: 520,\n",
       "  520: 521,\n",
       "  521: 522,\n",
       "  522: 523,\n",
       "  523: 524,\n",
       "  524: 525,\n",
       "  525: 526,\n",
       "  526: 527,\n",
       "  527: 528,\n",
       "  528: 529,\n",
       "  529: 530,\n",
       "  530: 531,\n",
       "  531: 532,\n",
       "  532: 533,\n",
       "  533: 534,\n",
       "  534: 535,\n",
       "  535: 536,\n",
       "  536: 537,\n",
       "  537: 538,\n",
       "  538: 539,\n",
       "  539: 540,\n",
       "  540: 541,\n",
       "  541: 542,\n",
       "  542: 543,\n",
       "  543: 544,\n",
       "  544: 545,\n",
       "  545: 546,\n",
       "  546: 547,\n",
       "  547: 548,\n",
       "  548: 549,\n",
       "  549: 550,\n",
       "  550: 551,\n",
       "  551: 552,\n",
       "  552: 553,\n",
       "  553: 554,\n",
       "  554: 555,\n",
       "  555: 556,\n",
       "  556: 557,\n",
       "  557: 558,\n",
       "  558: 559,\n",
       "  559: 560,\n",
       "  560: 561,\n",
       "  561: 562,\n",
       "  562: 563,\n",
       "  563: 564,\n",
       "  564: 565,\n",
       "  565: 566,\n",
       "  566: 567,\n",
       "  567: 568,\n",
       "  568: 569,\n",
       "  569: 570,\n",
       "  570: 571,\n",
       "  571: 572,\n",
       "  572: 573,\n",
       "  573: 574,\n",
       "  574: 575,\n",
       "  575: 576,\n",
       "  576: 577,\n",
       "  577: 578,\n",
       "  578: 579,\n",
       "  579: 580,\n",
       "  580: 581,\n",
       "  581: 582,\n",
       "  582: 583,\n",
       "  583: 584,\n",
       "  584: 585,\n",
       "  585: 586,\n",
       "  586: 587,\n",
       "  587: 588,\n",
       "  588: 589,\n",
       "  589: 590,\n",
       "  590: 591,\n",
       "  591: 592,\n",
       "  592: 593,\n",
       "  593: 594,\n",
       "  594: 595,\n",
       "  595: 596,\n",
       "  596: 597,\n",
       "  597: 598,\n",
       "  598: 599,\n",
       "  599: 600,\n",
       "  600: 601,\n",
       "  601: 602,\n",
       "  602: 603,\n",
       "  603: 604,\n",
       "  604: 605,\n",
       "  605: 606,\n",
       "  606: 607,\n",
       "  607: 608,\n",
       "  608: 609,\n",
       "  609: 610,\n",
       "  610: 611,\n",
       "  611: 612,\n",
       "  612: 613,\n",
       "  613: 614,\n",
       "  614: 615,\n",
       "  615: 616,\n",
       "  616: 617,\n",
       "  617: 618,\n",
       "  618: 619,\n",
       "  619: 620,\n",
       "  620: 621,\n",
       "  621: 622,\n",
       "  622: 623,\n",
       "  623: 624,\n",
       "  624: 625,\n",
       "  625: 626,\n",
       "  626: 627,\n",
       "  627: 628,\n",
       "  628: 629,\n",
       "  629: 630,\n",
       "  630: 631,\n",
       "  631: 632,\n",
       "  632: 633,\n",
       "  633: 634,\n",
       "  634: 635,\n",
       "  635: 636,\n",
       "  636: 637,\n",
       "  637: 638,\n",
       "  638: 639,\n",
       "  639: 640,\n",
       "  640: 641,\n",
       "  641: 642,\n",
       "  642: 643,\n",
       "  643: 644,\n",
       "  644: 645,\n",
       "  645: 646,\n",
       "  646: 647,\n",
       "  647: 648,\n",
       "  648: 649,\n",
       "  649: 650,\n",
       "  650: 651,\n",
       "  651: 652,\n",
       "  652: 653,\n",
       "  653: 654,\n",
       "  654: 655,\n",
       "  655: 656,\n",
       "  656: 657,\n",
       "  657: 658,\n",
       "  658: 659,\n",
       "  659: 660,\n",
       "  660: 661,\n",
       "  661: 662,\n",
       "  662: 663,\n",
       "  663: 664,\n",
       "  664: 665,\n",
       "  665: 666,\n",
       "  666: 667,\n",
       "  667: 668,\n",
       "  668: 669,\n",
       "  669: 670,\n",
       "  670: 671,\n",
       "  671: 672,\n",
       "  672: 673,\n",
       "  673: 674,\n",
       "  674: 675,\n",
       "  675: 676,\n",
       "  676: 677,\n",
       "  677: 678,\n",
       "  678: 679,\n",
       "  679: 680,\n",
       "  680: 681,\n",
       "  681: 682,\n",
       "  682: 683,\n",
       "  683: 684,\n",
       "  684: 685,\n",
       "  685: 686,\n",
       "  686: 687,\n",
       "  687: 688,\n",
       "  688: 689,\n",
       "  689: 690,\n",
       "  690: 691,\n",
       "  691: 692,\n",
       "  692: 693,\n",
       "  693: 694,\n",
       "  694: 695,\n",
       "  695: 696,\n",
       "  696: 697,\n",
       "  697: 698,\n",
       "  698: 699,\n",
       "  699: 700,\n",
       "  700: 701,\n",
       "  701: 702,\n",
       "  702: 703,\n",
       "  703: 704,\n",
       "  704: 705,\n",
       "  705: 706,\n",
       "  706: 707,\n",
       "  707: 708,\n",
       "  708: 709,\n",
       "  709: 710,\n",
       "  710: 711,\n",
       "  711: 712,\n",
       "  712: 713,\n",
       "  713: 714,\n",
       "  714: 715,\n",
       "  715: 716,\n",
       "  716: 717,\n",
       "  717: 718,\n",
       "  718: 719,\n",
       "  719: 720,\n",
       "  720: 721,\n",
       "  721: 722,\n",
       "  722: 723,\n",
       "  723: 724,\n",
       "  724: 725,\n",
       "  725: 726,\n",
       "  726: 727,\n",
       "  727: 728,\n",
       "  728: 729,\n",
       "  729: 730,\n",
       "  730: 731,\n",
       "  731: 732,\n",
       "  732: 733,\n",
       "  733: 734,\n",
       "  734: 735,\n",
       "  735: 736,\n",
       "  736: 737,\n",
       "  737: 738,\n",
       "  738: 739,\n",
       "  739: 740,\n",
       "  740: 741,\n",
       "  741: 742,\n",
       "  742: 743,\n",
       "  743: 744,\n",
       "  744: 745,\n",
       "  745: 746,\n",
       "  746: 747,\n",
       "  747: 748,\n",
       "  748: 749,\n",
       "  749: 750,\n",
       "  750: 751,\n",
       "  751: 752,\n",
       "  752: 753,\n",
       "  753: 754,\n",
       "  754: 755,\n",
       "  755: 756,\n",
       "  756: 757,\n",
       "  757: 758,\n",
       "  758: 759,\n",
       "  759: 760,\n",
       "  760: 761,\n",
       "  761: 762,\n",
       "  762: 763,\n",
       "  763: 764,\n",
       "  764: 765,\n",
       "  765: 766,\n",
       "  766: 767,\n",
       "  767: 768,\n",
       "  768: 769,\n",
       "  769: 770,\n",
       "  770: 771,\n",
       "  771: 772,\n",
       "  772: 773,\n",
       "  773: 774,\n",
       "  774: 775,\n",
       "  775: 776,\n",
       "  776: 777,\n",
       "  777: 778,\n",
       "  778: 779,\n",
       "  779: 780,\n",
       "  780: 781,\n",
       "  781: 782,\n",
       "  782: 783,\n",
       "  783: 784,\n",
       "  784: 785,\n",
       "  785: 786,\n",
       "  786: 787,\n",
       "  787: 788,\n",
       "  788: 789,\n",
       "  789: 790,\n",
       "  790: 791,\n",
       "  791: 792,\n",
       "  792: 793,\n",
       "  793: 794,\n",
       "  794: 795,\n",
       "  795: 796,\n",
       "  796: 797,\n",
       "  797: 798,\n",
       "  798: 799,\n",
       "  799: 800,\n",
       "  800: 801,\n",
       "  801: 802,\n",
       "  802: 803,\n",
       "  803: 804,\n",
       "  804: 805,\n",
       "  805: 806,\n",
       "  806: 807,\n",
       "  807: 808,\n",
       "  808: 809,\n",
       "  809: 810,\n",
       "  810: 811,\n",
       "  811: 812,\n",
       "  812: 813,\n",
       "  813: 814,\n",
       "  814: 815,\n",
       "  815: 816,\n",
       "  816: 817,\n",
       "  817: 818,\n",
       "  818: 819,\n",
       "  819: 820,\n",
       "  820: 821,\n",
       "  821: 822,\n",
       "  822: 823,\n",
       "  823: 824,\n",
       "  824: 825,\n",
       "  825: 826,\n",
       "  826: 827,\n",
       "  827: 828,\n",
       "  828: 829,\n",
       "  829: 830,\n",
       "  830: 831,\n",
       "  831: 832,\n",
       "  832: 833,\n",
       "  833: 834,\n",
       "  834: 835,\n",
       "  835: 836,\n",
       "  836: 837,\n",
       "  837: 838,\n",
       "  838: 839,\n",
       "  839: 840,\n",
       "  840: 841,\n",
       "  841: 842,\n",
       "  842: 843,\n",
       "  843: 844,\n",
       "  844: 845,\n",
       "  845: 846,\n",
       "  846: 847,\n",
       "  847: 848,\n",
       "  848: 849,\n",
       "  849: 850,\n",
       "  850: 851,\n",
       "  851: 852,\n",
       "  852: 853,\n",
       "  853: 854,\n",
       "  854: 855,\n",
       "  855: 856,\n",
       "  856: 857,\n",
       "  857: 858,\n",
       "  858: 859,\n",
       "  859: 860,\n",
       "  860: 861,\n",
       "  861: 862,\n",
       "  862: 863,\n",
       "  863: 864,\n",
       "  864: 865,\n",
       "  865: 866,\n",
       "  866: 867,\n",
       "  867: 868,\n",
       "  868: 869,\n",
       "  869: 870,\n",
       "  870: 871,\n",
       "  871: 872,\n",
       "  872: 873,\n",
       "  873: 874,\n",
       "  874: 875,\n",
       "  875: 876,\n",
       "  876: 877,\n",
       "  877: 878,\n",
       "  878: 879,\n",
       "  879: 880,\n",
       "  880: 881,\n",
       "  881: 882,\n",
       "  882: 883,\n",
       "  883: 884,\n",
       "  884: 885,\n",
       "  885: 886,\n",
       "  886: 887,\n",
       "  887: 888,\n",
       "  888: 889,\n",
       "  889: 890,\n",
       "  890: 891,\n",
       "  891: 892,\n",
       "  892: 893,\n",
       "  893: 894,\n",
       "  894: 895,\n",
       "  895: 896,\n",
       "  896: 897,\n",
       "  897: 898,\n",
       "  898: 899,\n",
       "  899: 900,\n",
       "  900: 901,\n",
       "  901: 902,\n",
       "  902: 903,\n",
       "  903: 904,\n",
       "  904: 905,\n",
       "  905: 906,\n",
       "  906: 907,\n",
       "  907: 908,\n",
       "  908: 909,\n",
       "  909: 910,\n",
       "  910: 911,\n",
       "  911: 912,\n",
       "  912: 913,\n",
       "  913: 914,\n",
       "  914: 915,\n",
       "  915: 916,\n",
       "  916: 917,\n",
       "  917: 918,\n",
       "  918: 919,\n",
       "  919: 920,\n",
       "  920: 921,\n",
       "  921: 922,\n",
       "  922: 923,\n",
       "  923: 924,\n",
       "  924: 925,\n",
       "  925: 926,\n",
       "  926: 927,\n",
       "  927: 928,\n",
       "  928: 929,\n",
       "  929: 930,\n",
       "  930: 931,\n",
       "  931: 932,\n",
       "  932: 933,\n",
       "  933: 934,\n",
       "  934: 935,\n",
       "  935: 936,\n",
       "  936: 937,\n",
       "  937: 938,\n",
       "  938: 939,\n",
       "  939: 940,\n",
       "  940: 941,\n",
       "  941: 942,\n",
       "  942: 943,\n",
       "  943: 944,\n",
       "  944: 945,\n",
       "  945: 946,\n",
       "  946: 947,\n",
       "  947: 948,\n",
       "  948: 949,\n",
       "  949: 950,\n",
       "  950: 951,\n",
       "  951: 952,\n",
       "  952: 953,\n",
       "  953: 954,\n",
       "  954: 955,\n",
       "  955: 956,\n",
       "  956: 957,\n",
       "  957: 958,\n",
       "  958: 959,\n",
       "  959: 960,\n",
       "  960: 961,\n",
       "  961: 962,\n",
       "  962: 963,\n",
       "  963: 964,\n",
       "  964: 965,\n",
       "  965: 966,\n",
       "  966: 967,\n",
       "  967: 968,\n",
       "  968: 969,\n",
       "  969: 970,\n",
       "  970: 971,\n",
       "  971: 972,\n",
       "  972: 973,\n",
       "  973: 974,\n",
       "  974: 975,\n",
       "  975: 976,\n",
       "  976: 977,\n",
       "  977: 978,\n",
       "  978: 979,\n",
       "  979: 980,\n",
       "  980: 981,\n",
       "  981: 982,\n",
       "  982: 983,\n",
       "  983: 984,\n",
       "  984: 985,\n",
       "  985: 986,\n",
       "  986: 987,\n",
       "  987: 988,\n",
       "  988: 989,\n",
       "  989: 990,\n",
       "  990: 991,\n",
       "  991: 992,\n",
       "  992: 993,\n",
       "  993: 994,\n",
       "  994: 995,\n",
       "  995: 996,\n",
       "  996: 997,\n",
       "  997: 998,\n",
       "  998: 999,\n",
       "  999: 1000,\n",
       "  ...},\n",
       "       MovieID                                        movie-title release-date  \\\n",
       " 0           1                                   Toy Story (1995)  01-Jan-1995   \n",
       " 1           2                                   GoldenEye (1995)  01-Jan-1995   \n",
       " 2           3                                  Four Rooms (1995)  01-Jan-1995   \n",
       " 3           4                                  Get Shorty (1995)  01-Jan-1995   \n",
       " 4           5                                     Copycat (1995)  01-Jan-1995   \n",
       " 5           6  Shanghai Triad (Yao a yao yao dao waipo qiao) ...  01-Jan-1995   \n",
       " 6           7                              Twelve Monkeys (1995)  01-Jan-1995   \n",
       " 7           8                                        Babe (1995)  01-Jan-1995   \n",
       " 8           9                            Dead Man Walking (1995)  01-Jan-1995   \n",
       " 9          10                                 Richard III (1995)  22-Jan-1996   \n",
       " 10         11                               Seven (Se7en) (1995)  01-Jan-1995   \n",
       " 11         12                         Usual Suspects, The (1995)  14-Aug-1995   \n",
       " 12         13                            Mighty Aphrodite (1995)  30-Oct-1995   \n",
       " 13         14                                 Postino, Il (1994)  01-Jan-1994   \n",
       " 14         15                          Mr. Holland's Opus (1995)  29-Jan-1996   \n",
       " 15         16                 French Twist (Gazon maudit) (1995)  01-Jan-1995   \n",
       " 16         17                         From Dusk Till Dawn (1996)  05-Feb-1996   \n",
       " 17         18                          White Balloon, The (1995)  01-Jan-1995   \n",
       " 18         19                              Antonia's Line (1995)  01-Jan-1995   \n",
       " 19         20                          Angels and Insects (1995)  01-Jan-1995   \n",
       " 20         21                      Muppet Treasure Island (1996)  16-Feb-1996   \n",
       " 21         22                                  Braveheart (1995)  16-Feb-1996   \n",
       " 22         23                                 Taxi Driver (1976)  16-Feb-1996   \n",
       " 23         24                         Rumble in the Bronx (1995)  23-Feb-1996   \n",
       " 24         25                               Birdcage, The (1996)  08-Mar-1996   \n",
       " 25         26                      Brothers McMullen, The (1995)  01-Jan-1995   \n",
       " 26         27                                    Bad Boys (1995)  01-Jan-1995   \n",
       " 27         28                                   Apollo 13 (1995)  01-Jan-1995   \n",
       " 28         29                              Batman Forever (1995)  01-Jan-1995   \n",
       " 29         30                               Belle de jour (1967)  01-Jan-1967   \n",
       " ...       ...                                                ...          ...   \n",
       " 1652     1653  Entertaining Angels: The Dorothy Day Story (1996)  27-Sep-1996   \n",
       " 1653     1654                       Chairman of the Board (1998)  01-Jan-1998   \n",
       " 1654     1655                                  Favor, The (1994)  01-Jan-1994   \n",
       " 1655     1656                                 Little City (1998)  20-Feb-1998   \n",
       " 1656     1657                                      Target (1995)  28-Feb-1996   \n",
       " 1657     1658                      Substance of Fire, The (1996)  06-Dec-1996   \n",
       " 1658     1659                    Getting Away With Murder (1996)  12-Apr-1996   \n",
       " 1659     1660                                 Small Faces (1995)  09-Aug-1996   \n",
       " 1660     1661                                New Age, The (1994)  01-Jan-1994   \n",
       " 1661     1662                                 Rough Magic (1995)  30-May-1997   \n",
       " 1662     1663                            Nothing Personal (1995)  30-Apr-1997   \n",
       " 1663     1664                     8 Heads in a Duffel Bag (1997)  18-Apr-1997   \n",
       " 1664     1665                           Brother's Kiss, A (1997)  25-Apr-1997   \n",
       " 1665     1666                                        Ripe (1996)  02-May-1997   \n",
       " 1666     1667                              Next Step, The (1995)  13-Jun-1997   \n",
       " 1667     1668                          Wedding Bell Blues (1996)  13-Jun-1997   \n",
       " 1668     1669                           MURDER and murder (1996)  20-Jun-1997   \n",
       " 1669     1670                                     Tainted (1998)  01-Feb-1998   \n",
       " 1670     1671                          Further Gesture, A (1996)  20-Feb-1998   \n",
       " 1671     1672                                        Kika (1993)  01-Jan-1993   \n",
       " 1672     1673                                      Mirage (1995)  01-Jan-1995   \n",
       " 1673     1674                                  Mamma Roma (1962)  01-Jan-1962   \n",
       " 1674     1675                              Sunchaser, The (1996)  25-Oct-1996   \n",
       " 1675     1676                            War at Home, The (1996)  01-Jan-1996   \n",
       " 1676     1677                               Sweet Nothing (1995)  20-Sep-1996   \n",
       " 1677     1678                                  Mat' i syn (1997)  06-Feb-1998   \n",
       " 1678     1679                                   B. Monkey (1998)  06-Feb-1998   \n",
       " 1679     1680                               Sliding Doors (1998)  01-Jan-1998   \n",
       " 1680     1681                                You So Crazy (1994)  01-Jan-1994   \n",
       " 1681     1682          Scream of Stone (Schrei aus Stein) (1991)  08-Mar-1996   \n",
       " \n",
       "       video-release-date                                           IMDb-URL  \\\n",
       " 0                    NaN  http://us.imdb.com/M/title-exact?Toy%20Story%2...   \n",
       " 1                    NaN  http://us.imdb.com/M/title-exact?GoldenEye%20(...   \n",
       " 2                    NaN  http://us.imdb.com/M/title-exact?Four%20Rooms%...   \n",
       " 3                    NaN  http://us.imdb.com/M/title-exact?Get%20Shorty%...   \n",
       " 4                    NaN  http://us.imdb.com/M/title-exact?Copycat%20(1995)   \n",
       " 5                    NaN  http://us.imdb.com/Title?Yao+a+yao+yao+dao+wai...   \n",
       " 6                    NaN  http://us.imdb.com/M/title-exact?Twelve%20Monk...   \n",
       " 7                    NaN     http://us.imdb.com/M/title-exact?Babe%20(1995)   \n",
       " 8                    NaN  http://us.imdb.com/M/title-exact?Dead%20Man%20...   \n",
       " 9                    NaN  http://us.imdb.com/M/title-exact?Richard%20III...   \n",
       " 10                   NaN    http://us.imdb.com/M/title-exact?Se7en%20(1995)   \n",
       " 11                   NaN  http://us.imdb.com/M/title-exact?Usual%20Suspe...   \n",
       " 12                   NaN  http://us.imdb.com/M/title-exact?Mighty%20Aphr...   \n",
       " 13                   NaN  http://us.imdb.com/M/title-exact?Postino,%20Il...   \n",
       " 14                   NaN  http://us.imdb.com/M/title-exact?Mr.%20Holland...   \n",
       " 15                   NaN  http://us.imdb.com/M/title-exact?Gazon%20maudi...   \n",
       " 16                   NaN  http://us.imdb.com/M/title-exact?From%20Dusk%2...   \n",
       " 17                   NaN  http://us.imdb.com/M/title-exact?Badkonake%20S...   \n",
       " 18                   NaN  http://us.imdb.com/M/title-exact?Antonia%20(1995)   \n",
       " 19                   NaN  http://us.imdb.com/M/title-exact?Angels%20and%...   \n",
       " 20                   NaN  http://us.imdb.com/M/title-exact?Muppet%20Trea...   \n",
       " 21                   NaN  http://us.imdb.com/M/title-exact?Braveheart%20...   \n",
       " 22                   NaN  http://us.imdb.com/M/title-exact?Taxi%20Driver...   \n",
       " 23                   NaN  http://us.imdb.com/M/title-exact?Hong%20Faan%2...   \n",
       " 24                   NaN  http://us.imdb.com/M/title-exact?Birdcage,%20T...   \n",
       " 25                   NaN  http://us.imdb.com/M/title-exact?Brothers%20Mc...   \n",
       " 26                   NaN  http://us.imdb.com/M/title-exact?Bad%20Boys%20...   \n",
       " 27                   NaN  http://us.imdb.com/M/title-exact?Apollo%2013%2...   \n",
       " 28                   NaN  http://us.imdb.com/M/title-exact?Batman%20Fore...   \n",
       " 29                   NaN  http://us.imdb.com/M/title-exact?Belle%20de%20...   \n",
       " ...                  ...                                                ...   \n",
       " 1652                 NaN  http://us.imdb.com/M/title-exact?Entertaining%...   \n",
       " 1653                 NaN  http://us.imdb.com/Title?Chairman+of+the+Board...   \n",
       " 1654                 NaN  http://us.imdb.com/M/title-exact?Favor,%20The%...   \n",
       " 1655                 NaN  http://us.imdb.com/M/title-exact?Little+City+(...   \n",
       " 1656                 NaN   http://us.imdb.com/M/title-exact?Target%20(1995)   \n",
       " 1657                 NaN  http://us.imdb.com/M/title-exact?Substance%20o...   \n",
       " 1658                 NaN  http://us.imdb.com/Title?Getting+Away+With+Mur...   \n",
       " 1659                 NaN  http://us.imdb.com/M/title-exact?Small%20Faces...   \n",
       " 1660                 NaN  http://us.imdb.com/M/title-exact?New%20Age,%20...   \n",
       " 1661                 NaN  http://us.imdb.com/M/title-exact?Rough%20Magic...   \n",
       " 1662                 NaN  http://us.imdb.com/M/title-exact?Nothing%20Per...   \n",
       " 1663                 NaN  http://us.imdb.com/Title?8+Heads+in+a+Duffel+B...   \n",
       " 1664                 NaN  http://us.imdb.com/M/title-exact?Brother%27s%2...   \n",
       " 1665                 NaN  http://us.imdb.com/M/title-exact?Ripe%20%28199...   \n",
       " 1666                 NaN  http://us.imdb.com/M/title-exact?Next%20Step%2...   \n",
       " 1667                 NaN  http://us.imdb.com/M/title-exact?Wedding%20Bel...   \n",
       " 1668                 NaN  http://us.imdb.com/M/title-exact?MURDER+and+mu...   \n",
       " 1669                 NaN    http://us.imdb.com/M/title-exact?Tainted+(1998)   \n",
       " 1670                 NaN  http://us.imdb.com/M/title-exact?Further+Gestu...   \n",
       " 1671                 NaN     http://us.imdb.com/M/title-exact?Kika%20(1993)   \n",
       " 1672                 NaN   http://us.imdb.com/M/title-exact?Mirage%20(1995)   \n",
       " 1673                 NaN  http://us.imdb.com/M/title-exact?Mamma%20Roma%...   \n",
       " 1674                 NaN  http://us.imdb.com/M/title-exact?Sunchaser,%20...   \n",
       " 1675                 NaN  http://us.imdb.com/M/title-exact?War%20at%20Ho...   \n",
       " 1676                 NaN  http://us.imdb.com/M/title-exact?Sweet%20Nothi...   \n",
       " 1677                 NaN  http://us.imdb.com/M/title-exact?Mat%27+i+syn+...   \n",
       " 1678                 NaN  http://us.imdb.com/M/title-exact?B%2E+Monkey+(...   \n",
       " 1679                 NaN      http://us.imdb.com/Title?Sliding+Doors+(1998)   \n",
       " 1680                 NaN  http://us.imdb.com/M/title-exact?You%20So%20Cr...   \n",
       " 1681                 NaN  http://us.imdb.com/M/title-exact?Schrei%20aus%...   \n",
       " \n",
       "       unknown  Action  Adventure  Animation  Children   ...     Fantasy  \\\n",
       " 0           0       0          0          1         1   ...           0   \n",
       " 1           0       1          1          0         0   ...           0   \n",
       " 2           0       0          0          0         0   ...           0   \n",
       " 3           0       1          0          0         0   ...           0   \n",
       " 4           0       0          0          0         0   ...           0   \n",
       " 5           0       0          0          0         0   ...           0   \n",
       " 6           0       0          0          0         0   ...           0   \n",
       " 7           0       0          0          0         1   ...           0   \n",
       " 8           0       0          0          0         0   ...           0   \n",
       " 9           0       0          0          0         0   ...           0   \n",
       " 10          0       0          0          0         0   ...           0   \n",
       " 11          0       0          0          0         0   ...           0   \n",
       " 12          0       0          0          0         0   ...           0   \n",
       " 13          0       0          0          0         0   ...           0   \n",
       " 14          0       0          0          0         0   ...           0   \n",
       " 15          0       0          0          0         0   ...           0   \n",
       " 16          0       1          0          0         0   ...           0   \n",
       " 17          0       0          0          0         0   ...           0   \n",
       " 18          0       0          0          0         0   ...           0   \n",
       " 19          0       0          0          0         0   ...           0   \n",
       " 20          0       1          1          0         0   ...           0   \n",
       " 21          0       1          0          0         0   ...           0   \n",
       " 22          0       0          0          0         0   ...           0   \n",
       " 23          0       1          1          0         0   ...           0   \n",
       " 24          0       0          0          0         0   ...           0   \n",
       " 25          0       0          0          0         0   ...           0   \n",
       " 26          0       1          0          0         0   ...           0   \n",
       " 27          0       1          0          0         0   ...           0   \n",
       " 28          0       1          1          0         0   ...           0   \n",
       " 29          0       0          0          0         0   ...           0   \n",
       " ...       ...     ...        ...        ...       ...   ...         ...   \n",
       " 1652        0       0          0          0         0   ...           0   \n",
       " 1653        0       0          0          0         0   ...           0   \n",
       " 1654        0       0          0          0         0   ...           0   \n",
       " 1655        0       0          0          0         0   ...           0   \n",
       " 1656        0       1          0          0         0   ...           0   \n",
       " 1657        0       0          0          0         0   ...           0   \n",
       " 1658        0       0          0          0         0   ...           0   \n",
       " 1659        0       0          0          0         0   ...           0   \n",
       " 1660        0       0          0          0         0   ...           0   \n",
       " 1661        0       0          0          0         0   ...           0   \n",
       " 1662        0       0          0          0         0   ...           0   \n",
       " 1663        0       0          0          0         0   ...           0   \n",
       " 1664        0       0          0          0         0   ...           0   \n",
       " 1665        0       0          0          0         0   ...           0   \n",
       " 1666        0       0          0          0         0   ...           0   \n",
       " 1667        0       0          0          0         0   ...           0   \n",
       " 1668        0       0          0          0         0   ...           0   \n",
       " 1669        0       0          0          0         0   ...           0   \n",
       " 1670        0       0          0          0         0   ...           0   \n",
       " 1671        0       0          0          0         0   ...           0   \n",
       " 1672        0       1          0          0         0   ...           0   \n",
       " 1673        0       0          0          0         0   ...           0   \n",
       " 1674        0       0          0          0         0   ...           0   \n",
       " 1675        0       0          0          0         0   ...           0   \n",
       " 1676        0       0          0          0         0   ...           0   \n",
       " 1677        0       0          0          0         0   ...           0   \n",
       " 1678        0       0          0          0         0   ...           0   \n",
       " 1679        0       0          0          0         0   ...           0   \n",
       " 1680        0       0          0          0         0   ...           0   \n",
       " 1681        0       0          0          0         0   ...           0   \n",
       " \n",
       "       Film-Noir  Horror  Musical  Mystery  Romance  Sci-Fi  Thriller  War  \\\n",
       " 0             0       0        0        0        0       0         0    0   \n",
       " 1             0       0        0        0        0       0         1    0   \n",
       " 2             0       0        0        0        0       0         1    0   \n",
       " 3             0       0        0        0        0       0         0    0   \n",
       " 4             0       0        0        0        0       0         1    0   \n",
       " 5             0       0        0        0        0       0         0    0   \n",
       " 6             0       0        0        0        0       1         0    0   \n",
       " 7             0       0        0        0        0       0         0    0   \n",
       " 8             0       0        0        0        0       0         0    0   \n",
       " 9             0       0        0        0        0       0         0    1   \n",
       " 10            0       0        0        0        0       0         1    0   \n",
       " 11            0       0        0        0        0       0         1    0   \n",
       " 12            0       0        0        0        0       0         0    0   \n",
       " 13            0       0        0        0        1       0         0    0   \n",
       " 14            0       0        0        0        0       0         0    0   \n",
       " 15            0       0        0        0        1       0         0    0   \n",
       " 16            0       1        0        0        0       0         1    0   \n",
       " 17            0       0        0        0        0       0         0    0   \n",
       " 18            0       0        0        0        0       0         0    0   \n",
       " 19            0       0        0        0        1       0         0    0   \n",
       " 20            0       0        1        0        0       0         1    0   \n",
       " 21            0       0        0        0        0       0         0    1   \n",
       " 22            0       0        0        0        0       0         1    0   \n",
       " 23            0       0        0        0        0       0         0    0   \n",
       " 24            0       0        0        0        0       0         0    0   \n",
       " 25            0       0        0        0        0       0         0    0   \n",
       " 26            0       0        0        0        0       0         0    0   \n",
       " 27            0       0        0        0        0       0         1    0   \n",
       " 28            0       0        0        0        0       0         0    0   \n",
       " 29            0       0        0        0        0       0         0    0   \n",
       " ...         ...     ...      ...      ...      ...     ...       ...  ...   \n",
       " 1652          0       0        0        0        0       0         0    0   \n",
       " 1653          0       0        0        0        0       0         0    0   \n",
       " 1654          0       0        0        0        1       0         0    0   \n",
       " 1655          0       0        0        0        1       0         0    0   \n",
       " 1656          0       0        0        0        0       0         0    0   \n",
       " 1657          0       0        0        0        0       0         0    0   \n",
       " 1658          0       0        0        0        0       0         0    0   \n",
       " 1659          0       0        0        0        0       0         0    0   \n",
       " 1660          0       0        0        0        0       0         0    0   \n",
       " 1661          0       0        0        0        1       0         0    0   \n",
       " 1662          0       0        0        0        0       0         0    1   \n",
       " 1663          0       0        0        0        0       0         0    0   \n",
       " 1664          0       0        0        0        0       0         0    0   \n",
       " 1665          0       0        0        0        0       0         0    0   \n",
       " 1666          0       0        0        0        0       0         0    0   \n",
       " 1667          0       0        0        0        0       0         0    0   \n",
       " 1668          0       0        0        1        0       0         0    0   \n",
       " 1669          0       0        0        0        0       0         1    0   \n",
       " 1670          0       0        0        0        0       0         0    0   \n",
       " 1671          0       0        0        0        0       0         0    0   \n",
       " 1672          0       0        0        0        0       0         1    0   \n",
       " 1673          0       0        0        0        0       0         0    0   \n",
       " 1674          0       0        0        0        0       0         0    0   \n",
       " 1675          0       0        0        0        0       0         0    0   \n",
       " 1676          0       0        0        0        0       0         0    0   \n",
       " 1677          0       0        0        0        0       0         0    0   \n",
       " 1678          0       0        0        0        1       0         1    0   \n",
       " 1679          0       0        0        0        1       0         0    0   \n",
       " 1680          0       0        0        0        0       0         0    0   \n",
       " 1681          0       0        0        0        0       0         0    0   \n",
       " \n",
       "       Western  \n",
       " 0           0  \n",
       " 1           0  \n",
       " 2           0  \n",
       " 3           0  \n",
       " 4           0  \n",
       " 5           0  \n",
       " 6           0  \n",
       " 7           0  \n",
       " 8           0  \n",
       " 9           0  \n",
       " 10          0  \n",
       " 11          0  \n",
       " 12          0  \n",
       " 13          0  \n",
       " 14          0  \n",
       " 15          0  \n",
       " 16          0  \n",
       " 17          0  \n",
       " 18          0  \n",
       " 19          0  \n",
       " 20          0  \n",
       " 21          0  \n",
       " 22          0  \n",
       " 23          0  \n",
       " 24          0  \n",
       " 25          0  \n",
       " 26          0  \n",
       " 27          0  \n",
       " 28          0  \n",
       " 29          0  \n",
       " ...       ...  \n",
       " 1652        0  \n",
       " 1653        0  \n",
       " 1654        0  \n",
       " 1655        0  \n",
       " 1656        0  \n",
       " 1657        0  \n",
       " 1658        0  \n",
       " 1659        0  \n",
       " 1660        0  \n",
       " 1661        0  \n",
       " 1662        0  \n",
       " 1663        0  \n",
       " 1664        0  \n",
       " 1665        0  \n",
       " 1666        0  \n",
       " 1667        0  \n",
       " 1668        0  \n",
       " 1669        0  \n",
       " 1670        0  \n",
       " 1671        0  \n",
       " 1672        0  \n",
       " 1673        0  \n",
       " 1674        0  \n",
       " 1675        0  \n",
       " 1676        0  \n",
       " 1677        0  \n",
       " 1678        0  \n",
       " 1679        0  \n",
       " 1680        0  \n",
       " 1681        0  \n",
       " \n",
       " [1682 rows x 24 columns])"
      ]
     },
     "execution_count": 50,
     "metadata": {},
     "output_type": "execute_result"
    }
   ],
   "source": [
    "pp_sim, movie_index_to_ID, movies"
   ]
  },
  {
   "cell_type": "code",
   "execution_count": 51,
   "metadata": {
    "collapsed": true
   },
   "outputs": [],
   "source": [
    "np.save('movie_index_to_ID', movie_index_to_ID)"
   ]
  },
  {
   "cell_type": "code",
   "execution_count": 57,
   "metadata": {
    "collapsed": true
   },
   "outputs": [],
   "source": [
    "movies.to_pickle('movies_df.pkl')"
   ]
  },
  {
   "cell_type": "code",
   "execution_count": 62,
   "metadata": {
    "collapsed": false
   },
   "outputs": [],
   "source": [
    "def save_obj(obj, name ):\n",
    "    with open(name + '.pkl', 'wb') as f:\n",
    "        pickle.dump(obj, f, pickle.HIGHEST_PROTOCOL)"
   ]
  },
  {
   "cell_type": "code",
   "execution_count": 63,
   "metadata": {
    "collapsed": true
   },
   "outputs": [],
   "source": [
    "save_obj(movie_index_to_ID, 'movie_index_to_ID')"
   ]
  },
  {
   "cell_type": "code",
   "execution_count": 58,
   "metadata": {
    "collapsed": true
   },
   "outputs": [],
   "source": [
    "!cp movies_df.pkl web/django_proj/data/"
   ]
  },
  {
   "cell_type": "code",
   "execution_count": 118,
   "metadata": {
    "collapsed": false
   },
   "outputs": [
    {
     "data": {
      "text/plain": [
       "array([1335, 1597,  986, ...,  203,   94,    0])"
      ]
     },
     "execution_count": 118,
     "metadata": {},
     "output_type": "execute_result"
    }
   ],
   "source": [
    "np.argsort(pp_sim[0, :])"
   ]
  },
  {
   "cell_type": "code",
   "execution_count": 43,
   "metadata": {
    "collapsed": false
   },
   "outputs": [],
   "source": [
    "recom_movie_index = np.argsort(pp_sim[0, :])[::-1][:10]"
   ]
  },
  {
   "cell_type": "code",
   "execution_count": 44,
   "metadata": {
    "collapsed": false
   },
   "outputs": [
    {
     "data": {
      "text/plain": [
       "array([  0,  94, 193, 209, 417,  27,  70, 658,  63,  98])"
      ]
     },
     "execution_count": 44,
     "metadata": {},
     "output_type": "execute_result"
    }
   ],
   "source": [
    "recom_movie_index"
   ]
  },
  {
   "cell_type": "code",
   "execution_count": 150,
   "metadata": {
    "collapsed": false
   },
   "outputs": [
    {
     "data": {
      "text/plain": [
       "array([  0,  94, 203, 209, 676, 598, 710, 193, 434, 658])"
      ]
     },
     "execution_count": 150,
     "metadata": {},
     "output_type": "execute_result"
    }
   ],
   "source": [
    "recom_movie_index"
   ]
  },
  {
   "cell_type": "code",
   "execution_count": 45,
   "metadata": {
    "collapsed": false
   },
   "outputs": [
    {
     "data": {
      "text/html": [
       "<div>\n",
       "<table border=\"1\" class=\"dataframe\">\n",
       "  <thead>\n",
       "    <tr style=\"text-align: right;\">\n",
       "      <th></th>\n",
       "      <th>MovieID</th>\n",
       "      <th>movie-title</th>\n",
       "      <th>release-date</th>\n",
       "      <th>video-release-date</th>\n",
       "      <th>IMDb-URL</th>\n",
       "      <th>unknown</th>\n",
       "      <th>Action</th>\n",
       "      <th>Adventure</th>\n",
       "      <th>Animation</th>\n",
       "      <th>Children</th>\n",
       "      <th>...</th>\n",
       "      <th>Fantasy</th>\n",
       "      <th>Film-Noir</th>\n",
       "      <th>Horror</th>\n",
       "      <th>Musical</th>\n",
       "      <th>Mystery</th>\n",
       "      <th>Romance</th>\n",
       "      <th>Sci-Fi</th>\n",
       "      <th>Thriller</th>\n",
       "      <th>War</th>\n",
       "      <th>Western</th>\n",
       "    </tr>\n",
       "  </thead>\n",
       "  <tbody>\n",
       "    <tr>\n",
       "      <th>83</th>\n",
       "      <td>84</td>\n",
       "      <td>Robert A. Heinlein's The Puppet Masters (1994)</td>\n",
       "      <td>01-Jan-1994</td>\n",
       "      <td>NaN</td>\n",
       "      <td>http://us.imdb.com/M/title-exact?Robert%20A.%2...</td>\n",
       "      <td>0</td>\n",
       "      <td>0</td>\n",
       "      <td>0</td>\n",
       "      <td>0</td>\n",
       "      <td>0</td>\n",
       "      <td>...</td>\n",
       "      <td>0</td>\n",
       "      <td>0</td>\n",
       "      <td>1</td>\n",
       "      <td>0</td>\n",
       "      <td>0</td>\n",
       "      <td>0</td>\n",
       "      <td>1</td>\n",
       "      <td>0</td>\n",
       "      <td>0</td>\n",
       "      <td>0</td>\n",
       "    </tr>\n",
       "    <tr>\n",
       "      <th>100</th>\n",
       "      <td>101</td>\n",
       "      <td>Heavy Metal (1981)</td>\n",
       "      <td>08-Mar-1981</td>\n",
       "      <td>NaN</td>\n",
       "      <td>http://us.imdb.com/M/title-exact?Heavy%20Metal...</td>\n",
       "      <td>0</td>\n",
       "      <td>1</td>\n",
       "      <td>1</td>\n",
       "      <td>1</td>\n",
       "      <td>0</td>\n",
       "      <td>...</td>\n",
       "      <td>0</td>\n",
       "      <td>0</td>\n",
       "      <td>1</td>\n",
       "      <td>0</td>\n",
       "      <td>0</td>\n",
       "      <td>0</td>\n",
       "      <td>1</td>\n",
       "      <td>0</td>\n",
       "      <td>0</td>\n",
       "      <td>0</td>\n",
       "    </tr>\n",
       "    <tr>\n",
       "      <th>182</th>\n",
       "      <td>183</td>\n",
       "      <td>Alien (1979)</td>\n",
       "      <td>01-Jan-1979</td>\n",
       "      <td>NaN</td>\n",
       "      <td>http://us.imdb.com/M/title-exact?Alien%20(1979)</td>\n",
       "      <td>0</td>\n",
       "      <td>1</td>\n",
       "      <td>0</td>\n",
       "      <td>0</td>\n",
       "      <td>0</td>\n",
       "      <td>...</td>\n",
       "      <td>0</td>\n",
       "      <td>0</td>\n",
       "      <td>1</td>\n",
       "      <td>0</td>\n",
       "      <td>0</td>\n",
       "      <td>0</td>\n",
       "      <td>1</td>\n",
       "      <td>1</td>\n",
       "      <td>0</td>\n",
       "      <td>0</td>\n",
       "    </tr>\n",
       "    <tr>\n",
       "      <th>183</th>\n",
       "      <td>184</td>\n",
       "      <td>Army of Darkness (1993)</td>\n",
       "      <td>01-Jan-1993</td>\n",
       "      <td>NaN</td>\n",
       "      <td>http://us.imdb.com/M/title-exact?Army%20of%20D...</td>\n",
       "      <td>0</td>\n",
       "      <td>1</td>\n",
       "      <td>1</td>\n",
       "      <td>0</td>\n",
       "      <td>0</td>\n",
       "      <td>...</td>\n",
       "      <td>0</td>\n",
       "      <td>0</td>\n",
       "      <td>1</td>\n",
       "      <td>0</td>\n",
       "      <td>0</td>\n",
       "      <td>0</td>\n",
       "      <td>1</td>\n",
       "      <td>0</td>\n",
       "      <td>0</td>\n",
       "      <td>0</td>\n",
       "    </tr>\n",
       "    <tr>\n",
       "      <th>342</th>\n",
       "      <td>343</td>\n",
       "      <td>Alien: Resurrection (1997)</td>\n",
       "      <td>01-Jan-1997</td>\n",
       "      <td>NaN</td>\n",
       "      <td>http://us.imdb.com/M/title-exact?Alien%3A+Resu...</td>\n",
       "      <td>0</td>\n",
       "      <td>1</td>\n",
       "      <td>0</td>\n",
       "      <td>0</td>\n",
       "      <td>0</td>\n",
       "      <td>...</td>\n",
       "      <td>0</td>\n",
       "      <td>0</td>\n",
       "      <td>1</td>\n",
       "      <td>0</td>\n",
       "      <td>0</td>\n",
       "      <td>0</td>\n",
       "      <td>1</td>\n",
       "      <td>0</td>\n",
       "      <td>0</td>\n",
       "      <td>0</td>\n",
       "    </tr>\n",
       "  </tbody>\n",
       "</table>\n",
       "<p>5 rows × 24 columns</p>\n",
       "</div>"
      ],
      "text/plain": [
       "     MovieID                                     movie-title release-date  \\\n",
       "83        84  Robert A. Heinlein's The Puppet Masters (1994)  01-Jan-1994   \n",
       "100      101                              Heavy Metal (1981)  08-Mar-1981   \n",
       "182      183                                    Alien (1979)  01-Jan-1979   \n",
       "183      184                         Army of Darkness (1993)  01-Jan-1993   \n",
       "342      343                      Alien: Resurrection (1997)  01-Jan-1997   \n",
       "\n",
       "     video-release-date                                           IMDb-URL  \\\n",
       "83                  NaN  http://us.imdb.com/M/title-exact?Robert%20A.%2...   \n",
       "100                 NaN  http://us.imdb.com/M/title-exact?Heavy%20Metal...   \n",
       "182                 NaN    http://us.imdb.com/M/title-exact?Alien%20(1979)   \n",
       "183                 NaN  http://us.imdb.com/M/title-exact?Army%20of%20D...   \n",
       "342                 NaN  http://us.imdb.com/M/title-exact?Alien%3A+Resu...   \n",
       "\n",
       "     unknown  Action  Adventure  Animation  Children   ...     Fantasy  \\\n",
       "83         0       0          0          0         0   ...           0   \n",
       "100        0       1          1          1         0   ...           0   \n",
       "182        0       1          0          0         0   ...           0   \n",
       "183        0       1          1          0         0   ...           0   \n",
       "342        0       1          0          0         0   ...           0   \n",
       "\n",
       "     Film-Noir  Horror  Musical  Mystery  Romance  Sci-Fi  Thriller  War  \\\n",
       "83           0       1        0        0        0       1         0    0   \n",
       "100          0       1        0        0        0       1         0    0   \n",
       "182          0       1        0        0        0       1         1    0   \n",
       "183          0       1        0        0        0       1         0    0   \n",
       "342          0       1        0        0        0       1         0    0   \n",
       "\n",
       "     Western  \n",
       "83         0  \n",
       "100        0  \n",
       "182        0  \n",
       "183        0  \n",
       "342        0  \n",
       "\n",
       "[5 rows x 24 columns]"
      ]
     },
     "execution_count": 45,
     "metadata": {},
     "output_type": "execute_result"
    }
   ],
   "source": [
    "movies[(movies.Horror == 1) & (movies['Sci-Fi'] == 1)].head()"
   ]
  },
  {
   "cell_type": "code",
   "execution_count": 46,
   "metadata": {
    "collapsed": false
   },
   "outputs": [
    {
     "data": {
      "text/plain": [
       "0.80193257728903866"
      ]
     },
     "execution_count": 46,
     "metadata": {},
     "output_type": "execute_result"
    }
   ],
   "source": [
    "pp_sim[182, 0]"
   ]
  },
  {
   "cell_type": "code",
   "execution_count": 97,
   "metadata": {
    "collapsed": false
   },
   "outputs": [
    {
     "data": {
      "text/plain": [
       "'http://us.imdb.com/M/title-exact?Toy%20Story%20(1995)'"
      ]
     },
     "execution_count": 97,
     "metadata": {},
     "output_type": "execute_result"
    }
   ],
   "source": [
    "movies.loc[0, 'IMDb-URL']"
   ]
  },
  {
   "cell_type": "code",
   "execution_count": 47,
   "metadata": {
    "collapsed": false
   },
   "outputs": [
    {
     "data": {
      "text/html": [
       "<div>\n",
       "<table border=\"1\" class=\"dataframe\">\n",
       "  <thead>\n",
       "    <tr style=\"text-align: right;\">\n",
       "      <th></th>\n",
       "      <th>MovieID</th>\n",
       "      <th>movie-title</th>\n",
       "      <th>release-date</th>\n",
       "      <th>video-release-date</th>\n",
       "      <th>IMDb-URL</th>\n",
       "      <th>unknown</th>\n",
       "      <th>Action</th>\n",
       "      <th>Adventure</th>\n",
       "      <th>Animation</th>\n",
       "      <th>Children</th>\n",
       "      <th>...</th>\n",
       "      <th>Fantasy</th>\n",
       "      <th>Film-Noir</th>\n",
       "      <th>Horror</th>\n",
       "      <th>Musical</th>\n",
       "      <th>Mystery</th>\n",
       "      <th>Romance</th>\n",
       "      <th>Sci-Fi</th>\n",
       "      <th>Thriller</th>\n",
       "      <th>War</th>\n",
       "      <th>Western</th>\n",
       "    </tr>\n",
       "  </thead>\n",
       "  <tbody>\n",
       "    <tr>\n",
       "      <th>0</th>\n",
       "      <td>1</td>\n",
       "      <td>Toy Story (1995)</td>\n",
       "      <td>01-Jan-1995</td>\n",
       "      <td>NaN</td>\n",
       "      <td>http://us.imdb.com/M/title-exact?Toy%20Story%2...</td>\n",
       "      <td>0</td>\n",
       "      <td>0</td>\n",
       "      <td>0</td>\n",
       "      <td>1</td>\n",
       "      <td>1</td>\n",
       "      <td>...</td>\n",
       "      <td>0</td>\n",
       "      <td>0</td>\n",
       "      <td>0</td>\n",
       "      <td>0</td>\n",
       "      <td>0</td>\n",
       "      <td>0</td>\n",
       "      <td>0</td>\n",
       "      <td>0</td>\n",
       "      <td>0</td>\n",
       "      <td>0</td>\n",
       "    </tr>\n",
       "    <tr>\n",
       "      <th>1</th>\n",
       "      <td>2</td>\n",
       "      <td>GoldenEye (1995)</td>\n",
       "      <td>01-Jan-1995</td>\n",
       "      <td>NaN</td>\n",
       "      <td>http://us.imdb.com/M/title-exact?GoldenEye%20(...</td>\n",
       "      <td>0</td>\n",
       "      <td>1</td>\n",
       "      <td>1</td>\n",
       "      <td>0</td>\n",
       "      <td>0</td>\n",
       "      <td>...</td>\n",
       "      <td>0</td>\n",
       "      <td>0</td>\n",
       "      <td>0</td>\n",
       "      <td>0</td>\n",
       "      <td>0</td>\n",
       "      <td>0</td>\n",
       "      <td>0</td>\n",
       "      <td>1</td>\n",
       "      <td>0</td>\n",
       "      <td>0</td>\n",
       "    </tr>\n",
       "    <tr>\n",
       "      <th>2</th>\n",
       "      <td>3</td>\n",
       "      <td>Four Rooms (1995)</td>\n",
       "      <td>01-Jan-1995</td>\n",
       "      <td>NaN</td>\n",
       "      <td>http://us.imdb.com/M/title-exact?Four%20Rooms%...</td>\n",
       "      <td>0</td>\n",
       "      <td>0</td>\n",
       "      <td>0</td>\n",
       "      <td>0</td>\n",
       "      <td>0</td>\n",
       "      <td>...</td>\n",
       "      <td>0</td>\n",
       "      <td>0</td>\n",
       "      <td>0</td>\n",
       "      <td>0</td>\n",
       "      <td>0</td>\n",
       "      <td>0</td>\n",
       "      <td>0</td>\n",
       "      <td>1</td>\n",
       "      <td>0</td>\n",
       "      <td>0</td>\n",
       "    </tr>\n",
       "    <tr>\n",
       "      <th>3</th>\n",
       "      <td>4</td>\n",
       "      <td>Get Shorty (1995)</td>\n",
       "      <td>01-Jan-1995</td>\n",
       "      <td>NaN</td>\n",
       "      <td>http://us.imdb.com/M/title-exact?Get%20Shorty%...</td>\n",
       "      <td>0</td>\n",
       "      <td>1</td>\n",
       "      <td>0</td>\n",
       "      <td>0</td>\n",
       "      <td>0</td>\n",
       "      <td>...</td>\n",
       "      <td>0</td>\n",
       "      <td>0</td>\n",
       "      <td>0</td>\n",
       "      <td>0</td>\n",
       "      <td>0</td>\n",
       "      <td>0</td>\n",
       "      <td>0</td>\n",
       "      <td>0</td>\n",
       "      <td>0</td>\n",
       "      <td>0</td>\n",
       "    </tr>\n",
       "    <tr>\n",
       "      <th>4</th>\n",
       "      <td>5</td>\n",
       "      <td>Copycat (1995)</td>\n",
       "      <td>01-Jan-1995</td>\n",
       "      <td>NaN</td>\n",
       "      <td>http://us.imdb.com/M/title-exact?Copycat%20(1995)</td>\n",
       "      <td>0</td>\n",
       "      <td>0</td>\n",
       "      <td>0</td>\n",
       "      <td>0</td>\n",
       "      <td>0</td>\n",
       "      <td>...</td>\n",
       "      <td>0</td>\n",
       "      <td>0</td>\n",
       "      <td>0</td>\n",
       "      <td>0</td>\n",
       "      <td>0</td>\n",
       "      <td>0</td>\n",
       "      <td>0</td>\n",
       "      <td>1</td>\n",
       "      <td>0</td>\n",
       "      <td>0</td>\n",
       "    </tr>\n",
       "  </tbody>\n",
       "</table>\n",
       "<p>5 rows × 24 columns</p>\n",
       "</div>"
      ],
      "text/plain": [
       "   MovieID        movie-title release-date  video-release-date  \\\n",
       "0        1   Toy Story (1995)  01-Jan-1995                 NaN   \n",
       "1        2   GoldenEye (1995)  01-Jan-1995                 NaN   \n",
       "2        3  Four Rooms (1995)  01-Jan-1995                 NaN   \n",
       "3        4  Get Shorty (1995)  01-Jan-1995                 NaN   \n",
       "4        5     Copycat (1995)  01-Jan-1995                 NaN   \n",
       "\n",
       "                                            IMDb-URL  unknown  Action  \\\n",
       "0  http://us.imdb.com/M/title-exact?Toy%20Story%2...        0       0   \n",
       "1  http://us.imdb.com/M/title-exact?GoldenEye%20(...        0       1   \n",
       "2  http://us.imdb.com/M/title-exact?Four%20Rooms%...        0       0   \n",
       "3  http://us.imdb.com/M/title-exact?Get%20Shorty%...        0       1   \n",
       "4  http://us.imdb.com/M/title-exact?Copycat%20(1995)        0       0   \n",
       "\n",
       "   Adventure  Animation  Children   ...     Fantasy  Film-Noir  Horror  \\\n",
       "0          0          1         1   ...           0          0       0   \n",
       "1          1          0         0   ...           0          0       0   \n",
       "2          0          0         0   ...           0          0       0   \n",
       "3          0          0         0   ...           0          0       0   \n",
       "4          0          0         0   ...           0          0       0   \n",
       "\n",
       "   Musical  Mystery  Romance  Sci-Fi  Thriller  War  Western  \n",
       "0        0        0        0       0         0    0        0  \n",
       "1        0        0        0       0         1    0        0  \n",
       "2        0        0        0       0         1    0        0  \n",
       "3        0        0        0       0         0    0        0  \n",
       "4        0        0        0       0         1    0        0  \n",
       "\n",
       "[5 rows x 24 columns]"
      ]
     },
     "execution_count": 47,
     "metadata": {},
     "output_type": "execute_result"
    }
   ],
   "source": [
    "movies.head()"
   ]
  },
  {
   "cell_type": "code",
   "execution_count": 48,
   "metadata": {
    "collapsed": false
   },
   "outputs": [
    {
     "data": {
      "text/plain": [
       "['Toy Story (1995)',\n",
       " 'Aladdin (1992)',\n",
       " 'Sting, The (1973)',\n",
       " 'Indiana Jones and the Last Crusade (1989)',\n",
       " 'Cinderella (1950)',\n",
       " 'Apollo 13 (1995)',\n",
       " 'Lion King, The (1994)',\n",
       " 'Arsenic and Old Lace (1944)',\n",
       " 'Shawshank Redemption, The (1994)',\n",
       " 'Snow White and the Seven Dwarfs (1937)']"
      ]
     },
     "execution_count": 48,
     "metadata": {},
     "output_type": "execute_result"
    }
   ],
   "source": [
    "[movies[movies.MovieID == movie_index_to_ID[i]]['movie-title'].tolist()[0] for i in recom_movie_index]"
   ]
  },
  {
   "cell_type": "code",
   "execution_count": 152,
   "metadata": {
    "collapsed": false
   },
   "outputs": [
    {
     "data": {
      "text/plain": [
       "array([  0,  94, 203, 209, 676, 598, 710, 193, 434, 658])"
      ]
     },
     "execution_count": 152,
     "metadata": {},
     "output_type": "execute_result"
    }
   ],
   "source": [
    "recom_movie_index"
   ]
  },
  {
   "cell_type": "code",
   "execution_count": 231,
   "metadata": {
    "collapsed": false
   },
   "outputs": [
    {
     "data": {
      "text/plain": [
       "array([1642, 1462, 1119, 1153, 1285])"
      ]
     },
     "execution_count": 231,
     "metadata": {},
     "output_type": "execute_result"
    }
   ],
   "source": [
    "recom_movie_index"
   ]
  },
  {
   "cell_type": "code",
   "execution_count": 42,
   "metadata": {
    "collapsed": false
   },
   "outputs": [],
   "source": [
    "#help(pd.DataFrame({'MovieID':[movie_index_to_ID[i] for i in recom_movie_index]}).join)"
   ]
  },
  {
   "cell_type": "code",
   "execution_count": 43,
   "metadata": {
    "collapsed": false
   },
   "outputs": [
    {
     "data": {
      "text/plain": [
       "<bound method DataFrame.join of    MovieID\n",
       "0      718\n",
       "1      361\n",
       "2     1643\n",
       "3     1375\n",
       "4     1218>"
      ]
     },
     "execution_count": 43,
     "metadata": {},
     "output_type": "execute_result"
    }
   ],
   "source": [
    "(pd.DataFrame({'MovieID':[movie_index_to_ID[i] for i in recom_movie_index]})).join"
   ]
  },
  {
   "cell_type": "code",
   "execution_count": 50,
   "metadata": {
    "collapsed": false
   },
   "outputs": [
    {
     "data": {
      "text/html": [
       "<div>\n",
       "<table border=\"1\" class=\"dataframe\">\n",
       "  <thead>\n",
       "    <tr style=\"text-align: right;\">\n",
       "      <th></th>\n",
       "      <th>MovieID</th>\n",
       "      <th>movie-title</th>\n",
       "      <th>release-date</th>\n",
       "      <th>video-release-date</th>\n",
       "      <th>IMDb-URL</th>\n",
       "      <th>unknown</th>\n",
       "      <th>Action</th>\n",
       "      <th>Adventure</th>\n",
       "      <th>Animation</th>\n",
       "      <th>Children</th>\n",
       "      <th>...</th>\n",
       "      <th>Fantasy</th>\n",
       "      <th>Film-Noir</th>\n",
       "      <th>Horror</th>\n",
       "      <th>Musical</th>\n",
       "      <th>Mystery</th>\n",
       "      <th>Romance</th>\n",
       "      <th>Sci-Fi</th>\n",
       "      <th>Thriller</th>\n",
       "      <th>War</th>\n",
       "      <th>Western</th>\n",
       "    </tr>\n",
       "  </thead>\n",
       "  <tbody>\n",
       "    <tr>\n",
       "      <th>0</th>\n",
       "      <td>1</td>\n",
       "      <td>Toy Story (1995)</td>\n",
       "      <td>01-Jan-1995</td>\n",
       "      <td>NaN</td>\n",
       "      <td>http://us.imdb.com/M/title-exact?Toy%20Story%2...</td>\n",
       "      <td>0</td>\n",
       "      <td>0</td>\n",
       "      <td>0</td>\n",
       "      <td>1</td>\n",
       "      <td>1</td>\n",
       "      <td>...</td>\n",
       "      <td>0</td>\n",
       "      <td>0</td>\n",
       "      <td>0</td>\n",
       "      <td>0</td>\n",
       "      <td>0</td>\n",
       "      <td>0</td>\n",
       "      <td>0</td>\n",
       "      <td>0</td>\n",
       "      <td>0</td>\n",
       "      <td>0</td>\n",
       "    </tr>\n",
       "    <tr>\n",
       "      <th>1</th>\n",
       "      <td>95</td>\n",
       "      <td>Aladdin (1992)</td>\n",
       "      <td>01-Jan-1992</td>\n",
       "      <td>NaN</td>\n",
       "      <td>http://us.imdb.com/M/title-exact?Aladdin%20(1992)</td>\n",
       "      <td>0</td>\n",
       "      <td>0</td>\n",
       "      <td>0</td>\n",
       "      <td>1</td>\n",
       "      <td>1</td>\n",
       "      <td>...</td>\n",
       "      <td>0</td>\n",
       "      <td>0</td>\n",
       "      <td>0</td>\n",
       "      <td>1</td>\n",
       "      <td>0</td>\n",
       "      <td>0</td>\n",
       "      <td>0</td>\n",
       "      <td>0</td>\n",
       "      <td>0</td>\n",
       "      <td>0</td>\n",
       "    </tr>\n",
       "    <tr>\n",
       "      <th>2</th>\n",
       "      <td>194</td>\n",
       "      <td>Sting, The (1973)</td>\n",
       "      <td>01-Jan-1973</td>\n",
       "      <td>NaN</td>\n",
       "      <td>http://us.imdb.com/M/title-exact?Sting,%20The%...</td>\n",
       "      <td>0</td>\n",
       "      <td>0</td>\n",
       "      <td>0</td>\n",
       "      <td>0</td>\n",
       "      <td>0</td>\n",
       "      <td>...</td>\n",
       "      <td>0</td>\n",
       "      <td>0</td>\n",
       "      <td>0</td>\n",
       "      <td>0</td>\n",
       "      <td>0</td>\n",
       "      <td>0</td>\n",
       "      <td>0</td>\n",
       "      <td>0</td>\n",
       "      <td>0</td>\n",
       "      <td>0</td>\n",
       "    </tr>\n",
       "    <tr>\n",
       "      <th>3</th>\n",
       "      <td>210</td>\n",
       "      <td>Indiana Jones and the Last Crusade (1989)</td>\n",
       "      <td>01-Jan-1989</td>\n",
       "      <td>NaN</td>\n",
       "      <td>http://us.imdb.com/M/title-exact?Indiana%20Jon...</td>\n",
       "      <td>0</td>\n",
       "      <td>1</td>\n",
       "      <td>1</td>\n",
       "      <td>0</td>\n",
       "      <td>0</td>\n",
       "      <td>...</td>\n",
       "      <td>0</td>\n",
       "      <td>0</td>\n",
       "      <td>0</td>\n",
       "      <td>0</td>\n",
       "      <td>0</td>\n",
       "      <td>0</td>\n",
       "      <td>0</td>\n",
       "      <td>0</td>\n",
       "      <td>0</td>\n",
       "      <td>0</td>\n",
       "    </tr>\n",
       "    <tr>\n",
       "      <th>4</th>\n",
       "      <td>418</td>\n",
       "      <td>Cinderella (1950)</td>\n",
       "      <td>01-Jan-1950</td>\n",
       "      <td>NaN</td>\n",
       "      <td>http://us.imdb.com/M/title-exact?Cinderella%20...</td>\n",
       "      <td>0</td>\n",
       "      <td>0</td>\n",
       "      <td>0</td>\n",
       "      <td>1</td>\n",
       "      <td>1</td>\n",
       "      <td>...</td>\n",
       "      <td>0</td>\n",
       "      <td>0</td>\n",
       "      <td>0</td>\n",
       "      <td>1</td>\n",
       "      <td>0</td>\n",
       "      <td>0</td>\n",
       "      <td>0</td>\n",
       "      <td>0</td>\n",
       "      <td>0</td>\n",
       "      <td>0</td>\n",
       "    </tr>\n",
       "    <tr>\n",
       "      <th>5</th>\n",
       "      <td>28</td>\n",
       "      <td>Apollo 13 (1995)</td>\n",
       "      <td>01-Jan-1995</td>\n",
       "      <td>NaN</td>\n",
       "      <td>http://us.imdb.com/M/title-exact?Apollo%2013%2...</td>\n",
       "      <td>0</td>\n",
       "      <td>1</td>\n",
       "      <td>0</td>\n",
       "      <td>0</td>\n",
       "      <td>0</td>\n",
       "      <td>...</td>\n",
       "      <td>0</td>\n",
       "      <td>0</td>\n",
       "      <td>0</td>\n",
       "      <td>0</td>\n",
       "      <td>0</td>\n",
       "      <td>0</td>\n",
       "      <td>0</td>\n",
       "      <td>1</td>\n",
       "      <td>0</td>\n",
       "      <td>0</td>\n",
       "    </tr>\n",
       "    <tr>\n",
       "      <th>6</th>\n",
       "      <td>71</td>\n",
       "      <td>Lion King, The (1994)</td>\n",
       "      <td>01-Jan-1994</td>\n",
       "      <td>NaN</td>\n",
       "      <td>http://us.imdb.com/M/title-exact?Lion%20King,%...</td>\n",
       "      <td>0</td>\n",
       "      <td>0</td>\n",
       "      <td>0</td>\n",
       "      <td>1</td>\n",
       "      <td>1</td>\n",
       "      <td>...</td>\n",
       "      <td>0</td>\n",
       "      <td>0</td>\n",
       "      <td>0</td>\n",
       "      <td>1</td>\n",
       "      <td>0</td>\n",
       "      <td>0</td>\n",
       "      <td>0</td>\n",
       "      <td>0</td>\n",
       "      <td>0</td>\n",
       "      <td>0</td>\n",
       "    </tr>\n",
       "    <tr>\n",
       "      <th>7</th>\n",
       "      <td>659</td>\n",
       "      <td>Arsenic and Old Lace (1944)</td>\n",
       "      <td>01-Jan-1944</td>\n",
       "      <td>NaN</td>\n",
       "      <td>http://us.imdb.com/M/title-exact?Arsenic%20and...</td>\n",
       "      <td>0</td>\n",
       "      <td>0</td>\n",
       "      <td>0</td>\n",
       "      <td>0</td>\n",
       "      <td>0</td>\n",
       "      <td>...</td>\n",
       "      <td>0</td>\n",
       "      <td>0</td>\n",
       "      <td>0</td>\n",
       "      <td>0</td>\n",
       "      <td>1</td>\n",
       "      <td>0</td>\n",
       "      <td>0</td>\n",
       "      <td>1</td>\n",
       "      <td>0</td>\n",
       "      <td>0</td>\n",
       "    </tr>\n",
       "    <tr>\n",
       "      <th>8</th>\n",
       "      <td>64</td>\n",
       "      <td>Shawshank Redemption, The (1994)</td>\n",
       "      <td>01-Jan-1994</td>\n",
       "      <td>NaN</td>\n",
       "      <td>http://us.imdb.com/M/title-exact?Shawshank%20R...</td>\n",
       "      <td>0</td>\n",
       "      <td>0</td>\n",
       "      <td>0</td>\n",
       "      <td>0</td>\n",
       "      <td>0</td>\n",
       "      <td>...</td>\n",
       "      <td>0</td>\n",
       "      <td>0</td>\n",
       "      <td>0</td>\n",
       "      <td>0</td>\n",
       "      <td>0</td>\n",
       "      <td>0</td>\n",
       "      <td>0</td>\n",
       "      <td>0</td>\n",
       "      <td>0</td>\n",
       "      <td>0</td>\n",
       "    </tr>\n",
       "    <tr>\n",
       "      <th>9</th>\n",
       "      <td>99</td>\n",
       "      <td>Snow White and the Seven Dwarfs (1937)</td>\n",
       "      <td>01-Jan-1937</td>\n",
       "      <td>NaN</td>\n",
       "      <td>http://us.imdb.com/M/title-exact?Snow%20White%...</td>\n",
       "      <td>0</td>\n",
       "      <td>0</td>\n",
       "      <td>0</td>\n",
       "      <td>1</td>\n",
       "      <td>1</td>\n",
       "      <td>...</td>\n",
       "      <td>0</td>\n",
       "      <td>0</td>\n",
       "      <td>0</td>\n",
       "      <td>1</td>\n",
       "      <td>0</td>\n",
       "      <td>0</td>\n",
       "      <td>0</td>\n",
       "      <td>0</td>\n",
       "      <td>0</td>\n",
       "      <td>0</td>\n",
       "    </tr>\n",
       "  </tbody>\n",
       "</table>\n",
       "<p>10 rows × 24 columns</p>\n",
       "</div>"
      ],
      "text/plain": [
       "   MovieID                                movie-title release-date  \\\n",
       "0        1                           Toy Story (1995)  01-Jan-1995   \n",
       "1       95                             Aladdin (1992)  01-Jan-1992   \n",
       "2      194                          Sting, The (1973)  01-Jan-1973   \n",
       "3      210  Indiana Jones and the Last Crusade (1989)  01-Jan-1989   \n",
       "4      418                          Cinderella (1950)  01-Jan-1950   \n",
       "5       28                           Apollo 13 (1995)  01-Jan-1995   \n",
       "6       71                      Lion King, The (1994)  01-Jan-1994   \n",
       "7      659                Arsenic and Old Lace (1944)  01-Jan-1944   \n",
       "8       64           Shawshank Redemption, The (1994)  01-Jan-1994   \n",
       "9       99     Snow White and the Seven Dwarfs (1937)  01-Jan-1937   \n",
       "\n",
       "   video-release-date                                           IMDb-URL  \\\n",
       "0                 NaN  http://us.imdb.com/M/title-exact?Toy%20Story%2...   \n",
       "1                 NaN  http://us.imdb.com/M/title-exact?Aladdin%20(1992)   \n",
       "2                 NaN  http://us.imdb.com/M/title-exact?Sting,%20The%...   \n",
       "3                 NaN  http://us.imdb.com/M/title-exact?Indiana%20Jon...   \n",
       "4                 NaN  http://us.imdb.com/M/title-exact?Cinderella%20...   \n",
       "5                 NaN  http://us.imdb.com/M/title-exact?Apollo%2013%2...   \n",
       "6                 NaN  http://us.imdb.com/M/title-exact?Lion%20King,%...   \n",
       "7                 NaN  http://us.imdb.com/M/title-exact?Arsenic%20and...   \n",
       "8                 NaN  http://us.imdb.com/M/title-exact?Shawshank%20R...   \n",
       "9                 NaN  http://us.imdb.com/M/title-exact?Snow%20White%...   \n",
       "\n",
       "   unknown  Action  Adventure  Animation  Children   ...     Fantasy  \\\n",
       "0        0       0          0          1         1   ...           0   \n",
       "1        0       0          0          1         1   ...           0   \n",
       "2        0       0          0          0         0   ...           0   \n",
       "3        0       1          1          0         0   ...           0   \n",
       "4        0       0          0          1         1   ...           0   \n",
       "5        0       1          0          0         0   ...           0   \n",
       "6        0       0          0          1         1   ...           0   \n",
       "7        0       0          0          0         0   ...           0   \n",
       "8        0       0          0          0         0   ...           0   \n",
       "9        0       0          0          1         1   ...           0   \n",
       "\n",
       "   Film-Noir  Horror  Musical  Mystery  Romance  Sci-Fi  Thriller  War  \\\n",
       "0          0       0        0        0        0       0         0    0   \n",
       "1          0       0        1        0        0       0         0    0   \n",
       "2          0       0        0        0        0       0         0    0   \n",
       "3          0       0        0        0        0       0         0    0   \n",
       "4          0       0        1        0        0       0         0    0   \n",
       "5          0       0        0        0        0       0         1    0   \n",
       "6          0       0        1        0        0       0         0    0   \n",
       "7          0       0        0        1        0       0         1    0   \n",
       "8          0       0        0        0        0       0         0    0   \n",
       "9          0       0        1        0        0       0         0    0   \n",
       "\n",
       "   Western  \n",
       "0        0  \n",
       "1        0  \n",
       "2        0  \n",
       "3        0  \n",
       "4        0  \n",
       "5        0  \n",
       "6        0  \n",
       "7        0  \n",
       "8        0  \n",
       "9        0  \n",
       "\n",
       "[10 rows x 24 columns]"
      ]
     },
     "execution_count": 50,
     "metadata": {},
     "output_type": "execute_result"
    }
   ],
   "source": [
    "pd.merge(pd.DataFrame({'MovieID':[movie_index_to_ID[i] for i in recom_movie_index]}), movies, how='inner', on='MovieID', suffixes=('_x', '_y'))"
   ]
  },
  {
   "cell_type": "code",
   "execution_count": 46,
   "metadata": {
    "collapsed": false
   },
   "outputs": [
    {
     "data": {
      "text/plain": [
       "<bound method DataFrame.join of    MovieID\n",
       "0      718\n",
       "1      361\n",
       "2     1643\n",
       "3     1375\n",
       "4     1218>"
      ]
     },
     "execution_count": 46,
     "metadata": {},
     "output_type": "execute_result"
    }
   ],
   "source": [
    "pd.DataFrame({'MovieID':[movie_index_to_ID[i] for i in recom_movie_index]}).join"
   ]
  },
  {
   "cell_type": "code",
   "execution_count": 154,
   "metadata": {
    "collapsed": false
   },
   "outputs": [
    {
     "data": {
      "text/plain": [
       "['GoldenEye (1995)',\n",
       " 'Terminator 2: Judgment Day (1991)',\n",
       " 'Patton (1970)',\n",
       " 'M*A*S*H (1970)',\n",
       " 'Volcano (1997)',\n",
       " \"Daniel Defoe's Robinson Crusoe (1996)\",\n",
       " 'Tin Men (1987)',\n",
       " 'Terminator, The (1984)',\n",
       " 'American Werewolf in London, An (1981)',\n",
       " 'Fried Green Tomatoes (1991)']"
      ]
     },
     "execution_count": 154,
     "metadata": {},
     "output_type": "execute_result"
    }
   ],
   "source": [
    "[movies['movie-title'].loc[movie_index_to_ID[i]] for i in recom_movie_index]"
   ]
  },
  {
   "cell_type": "code",
   "execution_count": 156,
   "metadata": {
    "collapsed": false
   },
   "outputs": [
    {
     "data": {
      "text/html": [
       "<div>\n",
       "<table border=\"1\" class=\"dataframe\">\n",
       "  <thead>\n",
       "    <tr style=\"text-align: right;\">\n",
       "      <th></th>\n",
       "      <th>MovieID</th>\n",
       "      <th>movie-title</th>\n",
       "      <th>release-date</th>\n",
       "      <th>video-release-date</th>\n",
       "      <th>IMDb-URL</th>\n",
       "      <th>unknown</th>\n",
       "      <th>Action</th>\n",
       "      <th>Adventure</th>\n",
       "      <th>Animation</th>\n",
       "      <th>Children</th>\n",
       "      <th>...</th>\n",
       "      <th>Fantasy</th>\n",
       "      <th>Film-Noir</th>\n",
       "      <th>Horror</th>\n",
       "      <th>Musical</th>\n",
       "      <th>Mystery</th>\n",
       "      <th>Romance</th>\n",
       "      <th>Sci-Fi</th>\n",
       "      <th>Thriller</th>\n",
       "      <th>War</th>\n",
       "      <th>Western</th>\n",
       "    </tr>\n",
       "  </thead>\n",
       "  <tbody>\n",
       "    <tr>\n",
       "      <th>0</th>\n",
       "      <td>1</td>\n",
       "      <td>Toy Story (1995)</td>\n",
       "      <td>01-Jan-1995</td>\n",
       "      <td>NaN</td>\n",
       "      <td>http://us.imdb.com/M/title-exact?Toy%20Story%2...</td>\n",
       "      <td>0</td>\n",
       "      <td>0</td>\n",
       "      <td>0</td>\n",
       "      <td>1</td>\n",
       "      <td>1</td>\n",
       "      <td>...</td>\n",
       "      <td>0</td>\n",
       "      <td>0</td>\n",
       "      <td>0</td>\n",
       "      <td>0</td>\n",
       "      <td>0</td>\n",
       "      <td>0</td>\n",
       "      <td>0</td>\n",
       "      <td>0</td>\n",
       "      <td>0</td>\n",
       "      <td>0</td>\n",
       "    </tr>\n",
       "    <tr>\n",
       "      <th>94</th>\n",
       "      <td>95</td>\n",
       "      <td>Aladdin (1992)</td>\n",
       "      <td>01-Jan-1992</td>\n",
       "      <td>NaN</td>\n",
       "      <td>http://us.imdb.com/M/title-exact?Aladdin%20(1992)</td>\n",
       "      <td>0</td>\n",
       "      <td>0</td>\n",
       "      <td>0</td>\n",
       "      <td>1</td>\n",
       "      <td>1</td>\n",
       "      <td>...</td>\n",
       "      <td>0</td>\n",
       "      <td>0</td>\n",
       "      <td>0</td>\n",
       "      <td>1</td>\n",
       "      <td>0</td>\n",
       "      <td>0</td>\n",
       "      <td>0</td>\n",
       "      <td>0</td>\n",
       "      <td>0</td>\n",
       "      <td>0</td>\n",
       "    </tr>\n",
       "    <tr>\n",
       "      <th>203</th>\n",
       "      <td>204</td>\n",
       "      <td>Back to the Future (1985)</td>\n",
       "      <td>01-Jan-1985</td>\n",
       "      <td>NaN</td>\n",
       "      <td>http://us.imdb.com/M/title-exact?Back%20to%20t...</td>\n",
       "      <td>0</td>\n",
       "      <td>0</td>\n",
       "      <td>0</td>\n",
       "      <td>0</td>\n",
       "      <td>0</td>\n",
       "      <td>...</td>\n",
       "      <td>0</td>\n",
       "      <td>0</td>\n",
       "      <td>0</td>\n",
       "      <td>0</td>\n",
       "      <td>0</td>\n",
       "      <td>0</td>\n",
       "      <td>1</td>\n",
       "      <td>0</td>\n",
       "      <td>0</td>\n",
       "      <td>0</td>\n",
       "    </tr>\n",
       "    <tr>\n",
       "      <th>209</th>\n",
       "      <td>210</td>\n",
       "      <td>Indiana Jones and the Last Crusade (1989)</td>\n",
       "      <td>01-Jan-1989</td>\n",
       "      <td>NaN</td>\n",
       "      <td>http://us.imdb.com/M/title-exact?Indiana%20Jon...</td>\n",
       "      <td>0</td>\n",
       "      <td>1</td>\n",
       "      <td>1</td>\n",
       "      <td>0</td>\n",
       "      <td>0</td>\n",
       "      <td>...</td>\n",
       "      <td>0</td>\n",
       "      <td>0</td>\n",
       "      <td>0</td>\n",
       "      <td>0</td>\n",
       "      <td>0</td>\n",
       "      <td>0</td>\n",
       "      <td>0</td>\n",
       "      <td>0</td>\n",
       "      <td>0</td>\n",
       "      <td>0</td>\n",
       "    </tr>\n",
       "    <tr>\n",
       "      <th>676</th>\n",
       "      <td>677</td>\n",
       "      <td>Fire on the Mountain (1996)</td>\n",
       "      <td>24-Jan-1997</td>\n",
       "      <td>NaN</td>\n",
       "      <td>http://us.imdb.com/M/title-exact?Fire%20on%20t...</td>\n",
       "      <td>0</td>\n",
       "      <td>0</td>\n",
       "      <td>0</td>\n",
       "      <td>0</td>\n",
       "      <td>0</td>\n",
       "      <td>...</td>\n",
       "      <td>0</td>\n",
       "      <td>0</td>\n",
       "      <td>0</td>\n",
       "      <td>0</td>\n",
       "      <td>0</td>\n",
       "      <td>0</td>\n",
       "      <td>0</td>\n",
       "      <td>0</td>\n",
       "      <td>0</td>\n",
       "      <td>0</td>\n",
       "    </tr>\n",
       "    <tr>\n",
       "      <th>598</th>\n",
       "      <td>599</td>\n",
       "      <td>Police Story 4: Project S (Chao ji ji hua) (1993)</td>\n",
       "      <td>16-Aug-1996</td>\n",
       "      <td>NaN</td>\n",
       "      <td>http://us.imdb.com/M/title-exact?Project%20S%2...</td>\n",
       "      <td>0</td>\n",
       "      <td>1</td>\n",
       "      <td>0</td>\n",
       "      <td>0</td>\n",
       "      <td>0</td>\n",
       "      <td>...</td>\n",
       "      <td>0</td>\n",
       "      <td>0</td>\n",
       "      <td>0</td>\n",
       "      <td>0</td>\n",
       "      <td>0</td>\n",
       "      <td>0</td>\n",
       "      <td>0</td>\n",
       "      <td>0</td>\n",
       "      <td>0</td>\n",
       "      <td>0</td>\n",
       "    </tr>\n",
       "    <tr>\n",
       "      <th>710</th>\n",
       "      <td>711</td>\n",
       "      <td>Substance of Fire, The (1996)</td>\n",
       "      <td>06-Dec-1996</td>\n",
       "      <td>NaN</td>\n",
       "      <td>http://us.imdb.com/M/title-exact?Substance%20o...</td>\n",
       "      <td>0</td>\n",
       "      <td>0</td>\n",
       "      <td>0</td>\n",
       "      <td>0</td>\n",
       "      <td>0</td>\n",
       "      <td>...</td>\n",
       "      <td>0</td>\n",
       "      <td>0</td>\n",
       "      <td>0</td>\n",
       "      <td>0</td>\n",
       "      <td>0</td>\n",
       "      <td>0</td>\n",
       "      <td>0</td>\n",
       "      <td>0</td>\n",
       "      <td>0</td>\n",
       "      <td>0</td>\n",
       "    </tr>\n",
       "    <tr>\n",
       "      <th>193</th>\n",
       "      <td>194</td>\n",
       "      <td>Sting, The (1973)</td>\n",
       "      <td>01-Jan-1973</td>\n",
       "      <td>NaN</td>\n",
       "      <td>http://us.imdb.com/M/title-exact?Sting,%20The%...</td>\n",
       "      <td>0</td>\n",
       "      <td>0</td>\n",
       "      <td>0</td>\n",
       "      <td>0</td>\n",
       "      <td>0</td>\n",
       "      <td>...</td>\n",
       "      <td>0</td>\n",
       "      <td>0</td>\n",
       "      <td>0</td>\n",
       "      <td>0</td>\n",
       "      <td>0</td>\n",
       "      <td>0</td>\n",
       "      <td>0</td>\n",
       "      <td>0</td>\n",
       "      <td>0</td>\n",
       "      <td>0</td>\n",
       "    </tr>\n",
       "    <tr>\n",
       "      <th>434</th>\n",
       "      <td>435</td>\n",
       "      <td>Butch Cassidy and the Sundance Kid (1969)</td>\n",
       "      <td>01-Jan-1969</td>\n",
       "      <td>NaN</td>\n",
       "      <td>http://us.imdb.com/M/title-exact?Butch%20Cassi...</td>\n",
       "      <td>0</td>\n",
       "      <td>1</td>\n",
       "      <td>0</td>\n",
       "      <td>0</td>\n",
       "      <td>0</td>\n",
       "      <td>...</td>\n",
       "      <td>0</td>\n",
       "      <td>0</td>\n",
       "      <td>0</td>\n",
       "      <td>0</td>\n",
       "      <td>0</td>\n",
       "      <td>0</td>\n",
       "      <td>0</td>\n",
       "      <td>0</td>\n",
       "      <td>0</td>\n",
       "      <td>1</td>\n",
       "    </tr>\n",
       "    <tr>\n",
       "      <th>658</th>\n",
       "      <td>659</td>\n",
       "      <td>Arsenic and Old Lace (1944)</td>\n",
       "      <td>01-Jan-1944</td>\n",
       "      <td>NaN</td>\n",
       "      <td>http://us.imdb.com/M/title-exact?Arsenic%20and...</td>\n",
       "      <td>0</td>\n",
       "      <td>0</td>\n",
       "      <td>0</td>\n",
       "      <td>0</td>\n",
       "      <td>0</td>\n",
       "      <td>...</td>\n",
       "      <td>0</td>\n",
       "      <td>0</td>\n",
       "      <td>0</td>\n",
       "      <td>0</td>\n",
       "      <td>1</td>\n",
       "      <td>0</td>\n",
       "      <td>0</td>\n",
       "      <td>1</td>\n",
       "      <td>0</td>\n",
       "      <td>0</td>\n",
       "    </tr>\n",
       "  </tbody>\n",
       "</table>\n",
       "<p>10 rows × 24 columns</p>\n",
       "</div>"
      ],
      "text/plain": [
       "     MovieID                                        movie-title release-date  \\\n",
       "0          1                                   Toy Story (1995)  01-Jan-1995   \n",
       "94        95                                     Aladdin (1992)  01-Jan-1992   \n",
       "203      204                          Back to the Future (1985)  01-Jan-1985   \n",
       "209      210          Indiana Jones and the Last Crusade (1989)  01-Jan-1989   \n",
       "676      677                        Fire on the Mountain (1996)  24-Jan-1997   \n",
       "598      599  Police Story 4: Project S (Chao ji ji hua) (1993)  16-Aug-1996   \n",
       "710      711                      Substance of Fire, The (1996)  06-Dec-1996   \n",
       "193      194                                  Sting, The (1973)  01-Jan-1973   \n",
       "434      435          Butch Cassidy and the Sundance Kid (1969)  01-Jan-1969   \n",
       "658      659                        Arsenic and Old Lace (1944)  01-Jan-1944   \n",
       "\n",
       "     video-release-date                                           IMDb-URL  \\\n",
       "0                   NaN  http://us.imdb.com/M/title-exact?Toy%20Story%2...   \n",
       "94                  NaN  http://us.imdb.com/M/title-exact?Aladdin%20(1992)   \n",
       "203                 NaN  http://us.imdb.com/M/title-exact?Back%20to%20t...   \n",
       "209                 NaN  http://us.imdb.com/M/title-exact?Indiana%20Jon...   \n",
       "676                 NaN  http://us.imdb.com/M/title-exact?Fire%20on%20t...   \n",
       "598                 NaN  http://us.imdb.com/M/title-exact?Project%20S%2...   \n",
       "710                 NaN  http://us.imdb.com/M/title-exact?Substance%20o...   \n",
       "193                 NaN  http://us.imdb.com/M/title-exact?Sting,%20The%...   \n",
       "434                 NaN  http://us.imdb.com/M/title-exact?Butch%20Cassi...   \n",
       "658                 NaN  http://us.imdb.com/M/title-exact?Arsenic%20and...   \n",
       "\n",
       "     unknown  Action  Adventure  Animation  Children   ...     Fantasy  \\\n",
       "0          0       0          0          1         1   ...           0   \n",
       "94         0       0          0          1         1   ...           0   \n",
       "203        0       0          0          0         0   ...           0   \n",
       "209        0       1          1          0         0   ...           0   \n",
       "676        0       0          0          0         0   ...           0   \n",
       "598        0       1          0          0         0   ...           0   \n",
       "710        0       0          0          0         0   ...           0   \n",
       "193        0       0          0          0         0   ...           0   \n",
       "434        0       1          0          0         0   ...           0   \n",
       "658        0       0          0          0         0   ...           0   \n",
       "\n",
       "     Film-Noir  Horror  Musical  Mystery  Romance  Sci-Fi  Thriller  War  \\\n",
       "0            0       0        0        0        0       0         0    0   \n",
       "94           0       0        1        0        0       0         0    0   \n",
       "203          0       0        0        0        0       1         0    0   \n",
       "209          0       0        0        0        0       0         0    0   \n",
       "676          0       0        0        0        0       0         0    0   \n",
       "598          0       0        0        0        0       0         0    0   \n",
       "710          0       0        0        0        0       0         0    0   \n",
       "193          0       0        0        0        0       0         0    0   \n",
       "434          0       0        0        0        0       0         0    0   \n",
       "658          0       0        0        1        0       0         1    0   \n",
       "\n",
       "     Western  \n",
       "0          0  \n",
       "94         0  \n",
       "203        0  \n",
       "209        0  \n",
       "676        0  \n",
       "598        0  \n",
       "710        0  \n",
       "193        0  \n",
       "434        1  \n",
       "658        0  \n",
       "\n",
       "[10 rows x 24 columns]"
      ]
     },
     "execution_count": 156,
     "metadata": {},
     "output_type": "execute_result"
    }
   ],
   "source": [
    "movies.loc[recom_movie_index]"
   ]
  },
  {
   "cell_type": "code",
   "execution_count": 51,
   "metadata": {
    "collapsed": false
   },
   "outputs": [],
   "source": [
    "np.save('pp_sim', pp_sim)"
   ]
  },
  {
   "cell_type": "code",
   "execution_count": 52,
   "metadata": {
    "collapsed": false
   },
   "outputs": [
    {
     "name": "stdout",
     "output_type": "stream",
     "text": [
      "-rw-r--r-- 1 amir amir 22M Jun 20 22:57 pp_sim.npy\r\n"
     ]
    }
   ],
   "source": [
    "!ls -lh pp_sim.npy"
   ]
  },
  {
   "cell_type": "code",
   "execution_count": 53,
   "metadata": {
    "collapsed": false
   },
   "outputs": [
    {
     "data": {
      "text/plain": [
       "array([[ 1.        ,  0.85107265,  0.54099519, ...,  0.49139953,\n",
       "         0.88329808,  0.76449662],\n",
       "       [ 0.85107265,  1.        ,  0.53455897, ...,  0.54254158,\n",
       "         0.72213454,  0.6871966 ],\n",
       "       [ 0.54099519,  0.53455897,  1.        , ...,  0.83634423,\n",
       "         0.40177111,  0.65079745],\n",
       "       ..., \n",
       "       [ 0.49139953,  0.54254158,  0.83634423, ...,  1.        ,\n",
       "         0.38850745,  0.71621046],\n",
       "       [ 0.88329808,  0.72213454,  0.40177111, ...,  0.38850745,\n",
       "         1.        ,  0.73907372],\n",
       "       [ 0.76449662,  0.6871966 ,  0.65079745, ...,  0.71621046,\n",
       "         0.73907372,  1.        ]])"
      ]
     },
     "execution_count": 53,
     "metadata": {},
     "output_type": "execute_result"
    }
   ],
   "source": [
    "np.load('pp_sim.npy')"
   ]
  },
  {
   "cell_type": "code",
   "execution_count": 190,
   "metadata": {
    "collapsed": true
   },
   "outputs": [],
   "source": [
    "def get_movie_image(url):\n",
    "    return Image(url=get_poster(url, base_url, api_key))"
   ]
  },
  {
   "cell_type": "code",
   "execution_count": 59,
   "metadata": {
    "collapsed": false
   },
   "outputs": [
    {
     "data": {
      "text/plain": [
       "u'http://image.tmdb.org/t/p/w185/1oqfg2IBGNFAFylDK56NXo558y2.jpg'"
      ]
     },
     "execution_count": 59,
     "metadata": {},
     "output_type": "execute_result"
    }
   ],
   "source": [
    "get_poster(movie_list[1], base_url, api_key)"
   ]
  },
  {
   "cell_type": "code",
   "execution_count": 276,
   "metadata": {
    "collapsed": false
   },
   "outputs": [],
   "source": [
    "s = ''\n",
    "for url in movie_list:\n",
    "    s += '<img src=\"%s\" >' % get_poster_imdb(url)"
   ]
  },
  {
   "cell_type": "code",
   "execution_count": 277,
   "metadata": {
    "collapsed": false
   },
   "outputs": [
    {
     "data": {
      "text/plain": [
       "'<img src=\"https://images-na.ssl-images-amazon.com/images/M/MV5BMDU2ZWJlMjktMTRhMy00ZTA5LWEzNDgtYmNmZTEwZTViZWJkXkEyXkFqcGdeQXVyNDQ2OTk4MzI@._V1_SY500_SX335_AL_.jpg\" ><img src=\"https://images-na.ssl-images-amazon.com/images/M/MV5BNTI4ODQ1MzAzNV5BMl5BanBnXkFtZTgwMzU4NzMxMDE@._V1_SY250_CR0,0,187,250_AL_.jpg\" ><img src=\"https://images-na.ssl-images-amazon.com/images/M/MV5BZmU0M2Y1OGUtZjIxNi00ZjBkLTg1MjgtOWIyNThiZWIwYjRiXkEyXkFqcGdeQXVyMTQxNzMzNDI@._V1_SY500_CR0,0,321,500_AL_.jpg\" ><img src=\"https://images-na.ssl-images-amazon.com/images/M/MV5BMjNkMzc2N2QtNjVlNS00ZTk5LTg0MTgtODY2MDAwNTMwZjBjXkEyXkFqcGdeQXVyNDk3NzU2MTQ@._V1_SY500_CR0,0,339,500_AL_.jpg\" ><img src=\"https://images-na.ssl-images-amazon.com/images/M/MV5BMTI1OTk5MjQyM15BMl5BanBnXkFtZTcwOTM5NzEyMQ@@._V1_SX165_CR0,0,165,237_AL_.jpg\" ><img src=\"\" ><img src=\"\" ><img src=\"\" ><img src=\"https://images-na.ssl-images-amazon.com/images/M/MV5BMTkyMTM2NDk5Nl5BMl5BanBnXkFtZTgwNzY1NzEyMDE@._V1_SY500_CR0,0,337,500_AL_.jpg\" ><img src=\"https://images-na.ssl-images-amazon.com/images/M/MV5BZDVlNTBjMjctNjAzNS00ZGJhLTg2NzMtNzIwYTIzYTBiMDkyXkEyXkFqcGdeQXVyNTA4NzY1MzY@._V1_SY500_CR0,0,332,500_AL_.jpg\" >'"
      ]
     },
     "execution_count": 277,
     "metadata": {},
     "output_type": "execute_result"
    }
   ],
   "source": [
    "s"
   ]
  },
  {
   "cell_type": "code",
   "execution_count": 160,
   "metadata": {
    "collapsed": false
   },
   "outputs": [
    {
     "data": {
      "text/plain": [
       "u'<img src=\"http://image.tmdb.org/t/p/w185/uMZqKhT4YA6mqo2yczoznv7IDmv.jpg\" ><img src=\"http://image.tmdb.org/t/p/w185/qsHpmqekgeQKMKL8PWnFsrXTXGs.jpg\" ><img src=\"http://image.tmdb.org/t/p/w185/pTpxQB1N0waaSc3OSn0e9oc8kx9.jpg\" ><img src=\"http://image.tmdb.org/t/p/w185/g8qWglC2XXCIN8P51eCljFvCNNJ.jpg\" ><img src=\"\" ><img src=\"http://image.tmdb.org/t/p/w185/7pgS6qYWtSiJpEJW3YQJqD6EVRG.jpg\" ><img src=\"http://image.tmdb.org/t/p/w185/uXMTgqPIJwLnzcDdIvvD5OUqX8x.jpg\" ><img src=\"http://image.tmdb.org/t/p/w185/mQaM8fDQdFWwCTFp0TZG8fChlZ5.jpg\" ><img src=\"http://image.tmdb.org/t/p/w185/jQH0mTzQ1gQ56H8a0z52WreiEok.jpg\" ><img src=\"http://image.tmdb.org/t/p/w185/jfNhx7ATKNvblvbb7wsfm4YpPaR.jpg\" >'"
      ]
     },
     "execution_count": 160,
     "metadata": {},
     "output_type": "execute_result"
    }
   ],
   "source": [
    "s"
   ]
  },
  {
   "cell_type": "markdown",
   "metadata": {},
   "source": [
    "<img src=\"http://image.tmdb.org/t/p/w185/uMZqKhT4YA6mqo2yczoznv7IDmv.jpg\" ><img src=\"http://image.tmdb.org/t/p/w185/qsHpmqekgeQKMKL8PWnFsrXTXGs.jpg\" ><img src=\"http://image.tmdb.org/t/p/w185/pTpxQB1N0waaSc3OSn0e9oc8kx9.jpg\" ><img src=\"http://image.tmdb.org/t/p/w185/g8qWglC2XXCIN8P51eCljFvCNNJ.jpg\" ><img src=\"\" ><img src=\"http://image.tmdb.org/t/p/w185/7pgS6qYWtSiJpEJW3YQJqD6EVRG.jpg\" ><img src=\"http://image.tmdb.org/t/p/w185/uXMTgqPIJwLnzcDdIvvD5OUqX8x.jpg\" ><img src=\"http://image.tmdb.org/t/p/w185/mQaM8fDQdFWwCTFp0TZG8fChlZ5.jpg\" ><img src=\"http://image.tmdb.org/t/p/w185/jQH0mTzQ1gQ56H8a0z52WreiEok.jpg\" ><img src=\"http://image.tmdb.org/t/p/w185/jfNhx7ATKNvblvbb7wsfm4YpPaR.jpg\" >'\n",
    "\n",
    "\n",
    "'<img src=\"https://images-na.ssl-images-amazon.com/images/M/MV5BMDU2ZWJlMjktMTRhMy00ZTA5LWEzNDgtYmNmZTEwZTViZWJkXkEyXkFqcGdeQXVyNDQ2OTk4MzI@._V1_SY500_SX335_AL_.jpg\" ><img src=\"https://images-na.ssl-images-amazon.com/images/M/MV5BNTI4ODQ1MzAzNV5BMl5BanBnXkFtZTgwMzU4NzMxMDE@._V1_SY250_CR0,0,187,250_AL_.jpg\" ><img src=\"https://images-na.ssl-images-amazon.com/images/M/MV5BZmU0M2Y1OGUtZjIxNi00ZjBkLTg1MjgtOWIyNThiZWIwYjRiXkEyXkFqcGdeQXVyMTQxNzMzNDI@._V1_SY500_CR0,0,321,500_AL_.jpg\" ><img src=\"https://images-na.ssl-images-amazon.com/images/M/MV5BMjNkMzc2N2QtNjVlNS00ZTk5LTg0MTgtODY2MDAwNTMwZjBjXkEyXkFqcGdeQXVyNDk3NzU2MTQ@._V1_SY500_CR0,0,339,500_AL_.jpg\" ><img src=\"https://images-na.ssl-images-amazon.com/images/M/MV5BMTI1OTk5MjQyM15BMl5BanBnXkFtZTcwOTM5NzEyMQ@@._V1_SX165_CR0,0,165,237_AL_.jpg\" ><img src=\"\" ><img src=\"\" ><img src=\"\" ><img src=\"https://images-na.ssl-images-amazon.com/images/M/MV5BMTkyMTM2NDk5Nl5BMl5BanBnXkFtZTgwNzY1NzEyMDE@._V1_SY500_CR0,0,337,500_AL_.jpg\" ><img src=\"https://images-na.ssl-images-amazon.com/images/M/MV5BZDVlNTBjMjctNjAzNS00ZGJhLTg2NzMtNzIwYTIzYTBiMDkyXkEyXkFqcGdeQXVyNTA4NzY1MzY@._V1_SY500_CR0,0,332,500_AL_.jpg\" >'\n"
   ]
  },
  {
   "cell_type": "markdown",
   "metadata": {},
   "source": [
    "### Get Movie Posters"
   ]
  },
  {
   "cell_type": "code",
   "execution_count": 56,
   "metadata": {
    "collapsed": false
   },
   "outputs": [],
   "source": [
    "import requests\n",
    "resp = requests.get('http://www.imdb.com/title/tt0114709/?ref_=nv_sr_1')\n",
    "from bs4 import BeautifulSoup\n",
    "bs = BeautifulSoup(resp.content, \"lxml\")"
   ]
  },
  {
   "cell_type": "code",
   "execution_count": 57,
   "metadata": {
    "collapsed": false
   },
   "outputs": [
    {
     "ename": "NameError",
     "evalue": "name 'url' is not defined",
     "output_type": "error",
     "traceback": [
      "\u001b[0;31m---------------------------------------------------------------------------\u001b[0m",
      "\u001b[0;31mNameError\u001b[0m                                 Traceback (most recent call last)",
      "\u001b[0;32m<ipython-input-57-20be803fa762>\u001b[0m in \u001b[0;36m<module>\u001b[0;34m()\u001b[0m\n\u001b[0;32m----> 1\u001b[0;31m \u001b[0murl\u001b[0m\u001b[0;34m\u001b[0m\u001b[0m\n\u001b[0m",
      "\u001b[0;31mNameError\u001b[0m: name 'url' is not defined"
     ]
    }
   ],
   "source": [
    "url"
   ]
  },
  {
   "cell_type": "code",
   "execution_count": 58,
   "metadata": {
    "collapsed": false
   },
   "outputs": [],
   "source": [
    "base_url = 'http://www.imdb.com/'\n",
    "url = base_url + bs.find(\"div\", class_=\"poster\").a['href']\n",
    "resp = requests.get(url)\n",
    "bs = BeautifulSoup(resp.content, 'lxml')\n"
   ]
  },
  {
   "cell_type": "code",
   "execution_count": 59,
   "metadata": {
    "collapsed": false
   },
   "outputs": [],
   "source": [
    "#<div class=\"pswp__zoom-wrap\" style=\"transform: translate3d(727px, 0px, 0px) scale(1);\"><img class=\"pswp__img pswp__img--placeholder\" src=\"https://images-na.ssl-images-amazon.com/images/M/MV5BMDU2ZWJlMjktMTRhMy00ZTA5LWEzNDgtYmNmZTEwZTViZWJkXkEyXkFqcGdeQXVyNDQ2OTk4MzI@._V1_SY500_SX335_AL_.jpg\" style=\"width: 594px; height: 887px; display: none;\"><img class=\"pswp__img\" src=\"https://images-na.ssl-images-amazon.com/images/M/MV5BMDU2ZWJlMjktMTRhMy00ZTA5LWEzNDgtYmNmZTEwZTViZWJkXkEyXkFqcGdeQXVyNDQ2OTk4MzI@._V1_SY1000_SX670_AL_.jpg\" style=\"display: block; width: 291px; height: 435px;\"></div>\n",
    "image_url = bs.find('meta', itemprop='image')['content']"
   ]
  },
  {
   "cell_type": "code",
   "execution_count": 62,
   "metadata": {
    "collapsed": true
   },
   "outputs": [],
   "source": [
    "def get_poster_imdb(url):\n",
    "    try:\n",
    "        resp = requests.get(url)\n",
    "        bs = BeautifulSoup(resp.content, \"lxml\")\n",
    "        base_url = 'http://www.imdb.com/'\n",
    "        url = base_url + bs.find(\"div\", class_=\"poster\").a['href']\n",
    "        resp = requests.get(url)\n",
    "        bs = BeautifulSoup(resp.content, 'lxml')\n",
    "        return bs.find('meta', itemprop='image')['content']\n",
    "    except:\n",
    "        return \"\""
   ]
  },
  {
   "cell_type": "code",
   "execution_count": 63,
   "metadata": {
    "collapsed": false
   },
   "outputs": [
    {
     "ename": "NameError",
     "evalue": "name 'Image' is not defined",
     "output_type": "error",
     "traceback": [
      "\u001b[0;31m---------------------------------------------------------------------------\u001b[0m",
      "\u001b[0;31mNameError\u001b[0m                                 Traceback (most recent call last)",
      "\u001b[0;32m<ipython-input-63-5be491bb4b93>\u001b[0m in \u001b[0;36m<module>\u001b[0;34m()\u001b[0m\n\u001b[0;32m----> 1\u001b[0;31m \u001b[0mImage\u001b[0m\u001b[0;34m(\u001b[0m\u001b[0murl\u001b[0m\u001b[0;34m=\u001b[0m\u001b[0mimage_url\u001b[0m\u001b[0;34m)\u001b[0m\u001b[0;34m\u001b[0m\u001b[0m\n\u001b[0m",
      "\u001b[0;31mNameError\u001b[0m: name 'Image' is not defined"
     ]
    }
   ],
   "source": [
    "Image(url=image_url)"
   ]
  },
  {
   "cell_type": "code",
   "execution_count": 111,
   "metadata": {
    "collapsed": false
   },
   "outputs": [],
   "source": [
    "a = movies.iloc[5, :]['movie-title']\n",
    "search_url = 'http://www.imdb.com/xml/find?json=1&nr=1&tt=on&q=%s' % urllib.quote_plus(a)\n",
    "res = requests.get(search_url)"
   ]
  },
  {
   "cell_type": "code",
   "execution_count": 112,
   "metadata": {
    "collapsed": false
   },
   "outputs": [
    {
     "data": {
      "text/plain": [
       "'Shanghai Triad (Yao a yao yao dao waipo qiao) (1995)'"
      ]
     },
     "execution_count": 112,
     "metadata": {},
     "output_type": "execute_result"
    }
   ],
   "source": [
    "a"
   ]
  },
  {
   "cell_type": "code",
   "execution_count": 113,
   "metadata": {
    "collapsed": false
   },
   "outputs": [
    {
     "data": {
      "text/plain": [
       "'Shanghai+Triad+%28Yao+a+yao+yao+dao+waipo+qiao%29+%281995%29'"
      ]
     },
     "execution_count": 113,
     "metadata": {},
     "output_type": "execute_result"
    }
   ],
   "source": [
    "import urllib\n",
    "urllib.quote_plus(a)"
   ]
  },
  {
   "cell_type": "code",
   "execution_count": 114,
   "metadata": {
    "collapsed": true
   },
   "outputs": [],
   "source": [
    "search_url = 'http://www.imdb.com/xml/find?json=1&nr=1&tt=on&q=%s' % urllib.quote_plus(a)\n",
    "res = requests.get(search_url)"
   ]
  },
  {
   "cell_type": "code",
   "execution_count": 116,
   "metadata": {
    "collapsed": false
   },
   "outputs": [
    {
     "data": {
      "text/plain": [
       "'http://www.imdb.com/xml/find?json=1&nr=1&tt=on&q=Shanghai+Triad+%28Yao+a+yao+yao+dao+waipo+qiao%29+%281995%29'"
      ]
     },
     "execution_count": 116,
     "metadata": {},
     "output_type": "execute_result"
    }
   ],
   "source": [
    "search_url"
   ]
  },
  {
   "cell_type": "code",
   "execution_count": 102,
   "metadata": {
    "collapsed": false
   },
   "outputs": [],
   "source": [
    "import json\n",
    "res_json = json.loads(res.content)"
   ]
  },
  {
   "cell_type": "code",
   "execution_count": 117,
   "metadata": {
    "collapsed": false
   },
   "outputs": [
    {
     "data": {
      "text/plain": [
       "[u'title_substring', u'title_popular', u'title_exact']"
      ]
     },
     "execution_count": 117,
     "metadata": {},
     "output_type": "execute_result"
    }
   ],
   "source": [
    "res_json.keys()"
   ]
  },
  {
   "cell_type": "code",
   "execution_count": 106,
   "metadata": {
    "collapsed": false
   },
   "outputs": [
    {
     "data": {
      "text/plain": [
       "u'tt2236686'"
      ]
     },
     "execution_count": 106,
     "metadata": {},
     "output_type": "execute_result"
    }
   ],
   "source": [
    "res_json['title_exact'][0]['id']"
   ]
  },
  {
   "cell_type": "code",
   "execution_count": 64,
   "metadata": {
    "collapsed": false
   },
   "outputs": [
    {
     "name": "stdout",
     "output_type": "stream",
     "text": [
      "tt0114709\n"
     ]
    }
   ],
   "source": [
    "\n",
    "import requests\n",
    "import json\n",
    "\n",
    "response = requests.get('http://us.imdb.com/M/title-exact?Toy%20Story%20(1995)')\n",
    "print response.url.split('/')[-2]"
   ]
  },
  {
   "cell_type": "code",
   "execution_count": 65,
   "metadata": {
    "collapsed": false
   },
   "outputs": [],
   "source": [
    "\n",
    "# Build function to query themoviedb.org's API\n",
    "\n",
    "# Get base url filepath structure. w185 corresponds to size of movie poster.\n",
    "api_key = '2554c0fd4b04956e926253a3337c3252'\n",
    "headers = {'Accept': 'application/json'}\n",
    "payload = {'api_key': api_key} \n",
    "response = requests.get(\"http://api.themoviedb.org/3/configuration\",\\\n",
    "                        params=payload,\\\n",
    "                        headers=headers)\n",
    "response = json.loads(response.text)\n",
    "base_url = response['images']['base_url'] + 'w185'\n",
    "\n",
    "def get_poster(imdb_url, base_url, api_key):\n",
    "    # Get IMDB movie ID\n",
    "    response = requests.get(imdb_url)\n",
    "    movie_id = response.url.split('/')[-2]\n",
    "    \n",
    "    # Query themoviedb.org API for movie poster path.\n",
    "    movie_url = 'http://api.themoviedb.org/3/movie/{:}/images'.format(movie_id)\n",
    "    headers = {'Accept': 'application/json'}\n",
    "    payload = {'api_key': api_key} \n",
    "    response = requests.get(movie_url, params=payload, headers=headers)\n",
    "    try:\n",
    "        file_path = json.loads(response.text)['posters'][0]['file_path']\n",
    "    except:\n",
    "        # IMDB movie ID is sometimes no good. Need to get correct one.\n",
    "        movie_title = imdb_url.split('?')[-1].split('(')[0]\n",
    "        payload['query'] = movie_title\n",
    "        response = requests.get('http://api.themoviedb.org/3/search/movie',\\\n",
    "                                params=payload,\\\n",
    "                                headers=headers)\n",
    "        try:\n",
    "            movie_id = json.loads(response.text)['results'][0]['id']\n",
    "            payload.pop('query', None)\n",
    "            movie_url = 'http://api.themoviedb.org/3/movie/{:}/images'\\\n",
    "                        .format(movie_id)\n",
    "            response = requests.get(movie_url, params=payload, headers=headers)\n",
    "            file_path = json.loads(response.text)['posters'][0]['file_path']\n",
    "        except:\n",
    "            # Sometimes the url just doesn't work.\n",
    "            # Return '' so that it does not mess up Image()\n",
    "            return ''\n",
    "        \n",
    "    return base_url + file_path\n",
    "\n"
   ]
  },
  {
   "cell_type": "code",
   "execution_count": 66,
   "metadata": {
    "collapsed": false
   },
   "outputs": [
    {
     "ename": "NameError",
     "evalue": "name 'toy_story' is not defined",
     "output_type": "error",
     "traceback": [
      "\u001b[0;31m---------------------------------------------------------------------------\u001b[0m",
      "\u001b[0;31mNameError\u001b[0m                                 Traceback (most recent call last)",
      "\u001b[0;32m<ipython-input-66-1c1d209ca943>\u001b[0m in \u001b[0;36m<module>\u001b[0;34m()\u001b[0m\n\u001b[0;32m----> 1\u001b[0;31m \u001b[0mget_poster\u001b[0m\u001b[0;34m(\u001b[0m\u001b[0mtoy_story\u001b[0m\u001b[0;34m,\u001b[0m \u001b[0mbase_url\u001b[0m\u001b[0;34m,\u001b[0m \u001b[0mapi_key\u001b[0m\u001b[0;34m)\u001b[0m\u001b[0;34m\u001b[0m\u001b[0m\n\u001b[0m",
      "\u001b[0;31mNameError\u001b[0m: name 'toy_story' is not defined"
     ]
    }
   ],
   "source": [
    "get_poster(toy_story, base_url, api_key)"
   ]
  },
  {
   "cell_type": "code",
   "execution_count": 57,
   "metadata": {
    "collapsed": false
   },
   "outputs": [
    {
     "data": {
      "text/html": [
       "<img src=\"http://image.tmdb.org/t/p/w185/uMZqKhT4YA6mqo2yczoznv7IDmv.jpg\"/>"
      ],
      "text/plain": [
       "<IPython.core.display.Image object>"
      ]
     },
     "execution_count": 57,
     "metadata": {},
     "output_type": "execute_result"
    }
   ],
   "source": [
    "from IPython.display import Image\n",
    "from IPython.display import display\n",
    "\n",
    "toy_story = 'http://us.imdb.com/M/title-exact?Toy%20Story%20(1995)'\n",
    "Image(url=get_poster(toy_story, base_url, api_key))"
   ]
  },
  {
   "cell_type": "markdown",
   "metadata": {},
   "source": [
    "<img src=\"http://image.tmdb.org/t/p/w185/uMZqKhT4YA6mqo2yczoznv7IDmv.jpg\">"
   ]
  },
  {
   "cell_type": "code",
   "execution_count": 162,
   "metadata": {
    "collapsed": false
   },
   "outputs": [
    {
     "ename": "KeyboardInterrupt",
     "evalue": "",
     "output_type": "error",
     "traceback": [
      "\u001b[0;31m---------------------------------------------------------------------------\u001b[0m",
      "\u001b[0;31mKeyboardInterrupt\u001b[0m                         Traceback (most recent call last)",
      "\u001b[0;32m<ipython-input-162-7ad6b1b55df6>\u001b[0m in \u001b[0;36m<module>\u001b[0;34m()\u001b[0m\n\u001b[1;32m      1\u001b[0m \u001b[0mproduct_features_T\u001b[0m \u001b[0;34m=\u001b[0m \u001b[0mproduct_features\u001b[0m\u001b[0;34m.\u001b[0m\u001b[0mmap\u001b[0m\u001b[0;34m(\u001b[0m\u001b[0;32mlambda\u001b[0m \u001b[0mr\u001b[0m\u001b[0;34m:\u001b[0m \u001b[0;34m(\u001b[0m\u001b[0mr\u001b[0m\u001b[0;34m[\u001b[0m\u001b[0;36m1\u001b[0m\u001b[0;34m]\u001b[0m\u001b[0;34m,\u001b[0m \u001b[0mr\u001b[0m\u001b[0;34m[\u001b[0m\u001b[0;36m0\u001b[0m\u001b[0;34m]\u001b[0m\u001b[0;34m,\u001b[0m \u001b[0mr\u001b[0m\u001b[0;34m[\u001b[0m\u001b[0;36m2\u001b[0m\u001b[0;34m]\u001b[0m\u001b[0;34m)\u001b[0m\u001b[0;34m)\u001b[0m\u001b[0;34m\u001b[0m\u001b[0m\n\u001b[1;32m      2\u001b[0m \u001b[0mpp_sim_rdd\u001b[0m \u001b[0;34m=\u001b[0m \u001b[0mmatrix_multiply\u001b[0m\u001b[0;34m(\u001b[0m\u001b[0mproduct_features\u001b[0m\u001b[0;34m,\u001b[0m \u001b[0mproduct_features_T\u001b[0m\u001b[0;34m)\u001b[0m\u001b[0;34m\u001b[0m\u001b[0m\n\u001b[0;32m----> 3\u001b[0;31m \u001b[0mpp_sim\u001b[0m \u001b[0;34m=\u001b[0m \u001b[0mpp_sim_rdd\u001b[0m\u001b[0;34m.\u001b[0m\u001b[0mcollect\u001b[0m\u001b[0;34m(\u001b[0m\u001b[0;34m)\u001b[0m\u001b[0;34m\u001b[0m\u001b[0m\n\u001b[0m",
      "\u001b[0;32m/home/amir/git/ds/Recommender/pyspark/rdd.pyc\u001b[0m in \u001b[0;36mcollect\u001b[0;34m(self)\u001b[0m\n\u001b[1;32m    807\u001b[0m         \"\"\"\n\u001b[1;32m    808\u001b[0m         \u001b[0;32mwith\u001b[0m \u001b[0mSCCallSiteSync\u001b[0m\u001b[0;34m(\u001b[0m\u001b[0mself\u001b[0m\u001b[0;34m.\u001b[0m\u001b[0mcontext\u001b[0m\u001b[0;34m)\u001b[0m \u001b[0;32mas\u001b[0m \u001b[0mcss\u001b[0m\u001b[0;34m:\u001b[0m\u001b[0;34m\u001b[0m\u001b[0m\n\u001b[0;32m--> 809\u001b[0;31m             \u001b[0mport\u001b[0m \u001b[0;34m=\u001b[0m \u001b[0mself\u001b[0m\u001b[0;34m.\u001b[0m\u001b[0mctx\u001b[0m\u001b[0;34m.\u001b[0m\u001b[0m_jvm\u001b[0m\u001b[0;34m.\u001b[0m\u001b[0mPythonRDD\u001b[0m\u001b[0;34m.\u001b[0m\u001b[0mcollectAndServe\u001b[0m\u001b[0;34m(\u001b[0m\u001b[0mself\u001b[0m\u001b[0;34m.\u001b[0m\u001b[0m_jrdd\u001b[0m\u001b[0;34m.\u001b[0m\u001b[0mrdd\u001b[0m\u001b[0;34m(\u001b[0m\u001b[0;34m)\u001b[0m\u001b[0;34m)\u001b[0m\u001b[0;34m\u001b[0m\u001b[0m\n\u001b[0m\u001b[1;32m    810\u001b[0m         \u001b[0;32mreturn\u001b[0m \u001b[0mlist\u001b[0m\u001b[0;34m(\u001b[0m\u001b[0m_load_from_socket\u001b[0m\u001b[0;34m(\u001b[0m\u001b[0mport\u001b[0m\u001b[0;34m,\u001b[0m \u001b[0mself\u001b[0m\u001b[0;34m.\u001b[0m\u001b[0m_jrdd_deserializer\u001b[0m\u001b[0;34m)\u001b[0m\u001b[0;34m)\u001b[0m\u001b[0;34m\u001b[0m\u001b[0m\n\u001b[1;32m    811\u001b[0m \u001b[0;34m\u001b[0m\u001b[0m\n",
      "\u001b[0;32m/usr/local/lib/python2.7/dist-packages/py4j/java_gateway.pyc\u001b[0m in \u001b[0;36m__call__\u001b[0;34m(self, *args)\u001b[0m\n\u001b[1;32m   1129\u001b[0m             \u001b[0mproto\u001b[0m\u001b[0;34m.\u001b[0m\u001b[0mEND_COMMAND_PART\u001b[0m\u001b[0;34m\u001b[0m\u001b[0m\n\u001b[1;32m   1130\u001b[0m \u001b[0;34m\u001b[0m\u001b[0m\n\u001b[0;32m-> 1131\u001b[0;31m         \u001b[0manswer\u001b[0m \u001b[0;34m=\u001b[0m \u001b[0mself\u001b[0m\u001b[0;34m.\u001b[0m\u001b[0mgateway_client\u001b[0m\u001b[0;34m.\u001b[0m\u001b[0msend_command\u001b[0m\u001b[0;34m(\u001b[0m\u001b[0mcommand\u001b[0m\u001b[0;34m)\u001b[0m\u001b[0;34m\u001b[0m\u001b[0m\n\u001b[0m\u001b[1;32m   1132\u001b[0m         return_value = get_return_value(\n\u001b[1;32m   1133\u001b[0m             answer, self.gateway_client, self.target_id, self.name)\n",
      "\u001b[0;32m/usr/local/lib/python2.7/dist-packages/py4j/java_gateway.pyc\u001b[0m in \u001b[0;36msend_command\u001b[0;34m(self, command, retry, binary)\u001b[0m\n\u001b[1;32m    881\u001b[0m         \u001b[0mconnection\u001b[0m \u001b[0;34m=\u001b[0m \u001b[0mself\u001b[0m\u001b[0;34m.\u001b[0m\u001b[0m_get_connection\u001b[0m\u001b[0;34m(\u001b[0m\u001b[0;34m)\u001b[0m\u001b[0;34m\u001b[0m\u001b[0m\n\u001b[1;32m    882\u001b[0m         \u001b[0;32mtry\u001b[0m\u001b[0;34m:\u001b[0m\u001b[0;34m\u001b[0m\u001b[0m\n\u001b[0;32m--> 883\u001b[0;31m             \u001b[0mresponse\u001b[0m \u001b[0;34m=\u001b[0m \u001b[0mconnection\u001b[0m\u001b[0;34m.\u001b[0m\u001b[0msend_command\u001b[0m\u001b[0;34m(\u001b[0m\u001b[0mcommand\u001b[0m\u001b[0;34m)\u001b[0m\u001b[0;34m\u001b[0m\u001b[0m\n\u001b[0m\u001b[1;32m    884\u001b[0m             \u001b[0;32mif\u001b[0m \u001b[0mbinary\u001b[0m\u001b[0;34m:\u001b[0m\u001b[0;34m\u001b[0m\u001b[0m\n\u001b[1;32m    885\u001b[0m                 \u001b[0;32mreturn\u001b[0m \u001b[0mresponse\u001b[0m\u001b[0;34m,\u001b[0m \u001b[0mself\u001b[0m\u001b[0;34m.\u001b[0m\u001b[0m_create_connection_guard\u001b[0m\u001b[0;34m(\u001b[0m\u001b[0mconnection\u001b[0m\u001b[0;34m)\u001b[0m\u001b[0;34m\u001b[0m\u001b[0m\n",
      "\u001b[0;32m/usr/local/lib/python2.7/dist-packages/py4j/java_gateway.pyc\u001b[0m in \u001b[0;36msend_command\u001b[0;34m(self, command)\u001b[0m\n\u001b[1;32m   1026\u001b[0m \u001b[0;34m\u001b[0m\u001b[0m\n\u001b[1;32m   1027\u001b[0m         \u001b[0;32mtry\u001b[0m\u001b[0;34m:\u001b[0m\u001b[0;34m\u001b[0m\u001b[0m\n\u001b[0;32m-> 1028\u001b[0;31m             \u001b[0manswer\u001b[0m \u001b[0;34m=\u001b[0m \u001b[0msmart_decode\u001b[0m\u001b[0;34m(\u001b[0m\u001b[0mself\u001b[0m\u001b[0;34m.\u001b[0m\u001b[0mstream\u001b[0m\u001b[0;34m.\u001b[0m\u001b[0mreadline\u001b[0m\u001b[0;34m(\u001b[0m\u001b[0;34m)\u001b[0m\u001b[0;34m[\u001b[0m\u001b[0;34m:\u001b[0m\u001b[0;34m-\u001b[0m\u001b[0;36m1\u001b[0m\u001b[0;34m]\u001b[0m\u001b[0;34m)\u001b[0m\u001b[0;34m\u001b[0m\u001b[0m\n\u001b[0m\u001b[1;32m   1029\u001b[0m             \u001b[0mlogger\u001b[0m\u001b[0;34m.\u001b[0m\u001b[0mdebug\u001b[0m\u001b[0;34m(\u001b[0m\u001b[0;34m\"Answer received: {0}\"\u001b[0m\u001b[0;34m.\u001b[0m\u001b[0mformat\u001b[0m\u001b[0;34m(\u001b[0m\u001b[0manswer\u001b[0m\u001b[0;34m)\u001b[0m\u001b[0;34m)\u001b[0m\u001b[0;34m\u001b[0m\u001b[0m\n\u001b[1;32m   1030\u001b[0m             \u001b[0;32mif\u001b[0m \u001b[0manswer\u001b[0m\u001b[0;34m.\u001b[0m\u001b[0mstartswith\u001b[0m\u001b[0;34m(\u001b[0m\u001b[0mproto\u001b[0m\u001b[0;34m.\u001b[0m\u001b[0mRETURN_MESSAGE\u001b[0m\u001b[0;34m)\u001b[0m\u001b[0;34m:\u001b[0m\u001b[0;34m\u001b[0m\u001b[0m\n",
      "\u001b[0;32m/usr/lib/python2.7/socket.pyc\u001b[0m in \u001b[0;36mreadline\u001b[0;34m(self, size)\u001b[0m\n\u001b[1;32m    445\u001b[0m             \u001b[0;32mwhile\u001b[0m \u001b[0mTrue\u001b[0m\u001b[0;34m:\u001b[0m\u001b[0;34m\u001b[0m\u001b[0m\n\u001b[1;32m    446\u001b[0m                 \u001b[0;32mtry\u001b[0m\u001b[0;34m:\u001b[0m\u001b[0;34m\u001b[0m\u001b[0m\n\u001b[0;32m--> 447\u001b[0;31m                     \u001b[0mdata\u001b[0m \u001b[0;34m=\u001b[0m \u001b[0mself\u001b[0m\u001b[0;34m.\u001b[0m\u001b[0m_sock\u001b[0m\u001b[0;34m.\u001b[0m\u001b[0mrecv\u001b[0m\u001b[0;34m(\u001b[0m\u001b[0mself\u001b[0m\u001b[0;34m.\u001b[0m\u001b[0m_rbufsize\u001b[0m\u001b[0;34m)\u001b[0m\u001b[0;34m\u001b[0m\u001b[0m\n\u001b[0m\u001b[1;32m    448\u001b[0m                 \u001b[0;32mexcept\u001b[0m \u001b[0merror\u001b[0m\u001b[0;34m,\u001b[0m \u001b[0me\u001b[0m\u001b[0;34m:\u001b[0m\u001b[0;34m\u001b[0m\u001b[0m\n\u001b[1;32m    449\u001b[0m                     \u001b[0;32mif\u001b[0m \u001b[0me\u001b[0m\u001b[0;34m.\u001b[0m\u001b[0margs\u001b[0m\u001b[0;34m[\u001b[0m\u001b[0;36m0\u001b[0m\u001b[0;34m]\u001b[0m \u001b[0;34m==\u001b[0m \u001b[0mEINTR\u001b[0m\u001b[0;34m:\u001b[0m\u001b[0;34m\u001b[0m\u001b[0m\n",
      "\u001b[0;31mKeyboardInterrupt\u001b[0m: "
     ]
    }
   ],
   "source": [
    "product_features_T = product_features.map(lambda r: (r[1], r[0], r[2]))\n",
    "pp_sim_rdd = matrix_multiply(product_features, product_features_T)\n",
    "pp_sim = pp_sim_rdd.collect()"
   ]
  },
  {
   "cell_type": "code",
   "execution_count": 1,
   "metadata": {
    "collapsed": false
   },
   "outputs": [],
   "source": [
    "def matrix_multiply(x, y):\n",
    "    def left_mapper(r):\n",
    "        i, j, v = r\n",
    "        return j, (i, v)\n",
    "    def right_mapper(r):\n",
    "        j, k, w = r\n",
    "        return j, (k, w)\n",
    "    def product_mapper(r):\n",
    "        _, ((i, v), (k, w)) = r\n",
    "        return (i, k), v * w\n",
    "    \n",
    "    x = x.map(left_mapper)\n",
    "    y = y.map(right_mapper)\n",
    "    \n",
    "    return x.join(y).map(product_mapper).reduceByKey(lambda x, y: x + y).map(lambda r: r[0][0], r[0][1], r[1])"
   ]
  },
  {
   "cell_type": "code",
   "execution_count": 21,
   "metadata": {
    "collapsed": true
   },
   "outputs": [],
   "source": [
    "l = [(0, 0, 3.0), (2, 0, -5.0), (3, 2, 1.0),\n",
    "   (4, 1, 6.0), (6, 2, 2.0), (8, 1, 4.0)]\n",
    "row = [i[0] for i in l]\n",
    "col = [i[1] for i in l]\n",
    "data = [i[2] for i in l]\n",
    "\n",
    "row, col, data = np.array(l).T\n",
    "from scipy.sparse import csr_matrix\n",
    "m1 = csr_matrix((data, (row, col)))\n"
   ]
  },
  {
   "cell_type": "code",
   "execution_count": 22,
   "metadata": {
    "collapsed": false
   },
   "outputs": [
    {
     "data": {
      "text/plain": [
       "matrix([[ 3.,  0.,  0.],\n",
       "        [ 0.,  0.,  0.],\n",
       "        [-5.,  0.,  0.],\n",
       "        [ 0.,  0.,  1.],\n",
       "        [ 0.,  6.,  0.],\n",
       "        [ 0.,  0.,  0.],\n",
       "        [ 0.,  0.,  2.],\n",
       "        [ 0.,  0.,  0.],\n",
       "        [ 0.,  4.,  0.]])"
      ]
     },
     "execution_count": 22,
     "metadata": {},
     "output_type": "execute_result"
    }
   ],
   "source": [
    "m1.todense()"
   ]
  },
  {
   "cell_type": "code",
   "execution_count": 13,
   "metadata": {
    "collapsed": false
   },
   "outputs": [
    {
     "data": {
      "text/plain": [
       "<3x9 sparse matrix of type '<type 'numpy.float64'>'\n",
       "\twith 6 stored elements in Compressed Sparse Column format>"
      ]
     },
     "execution_count": 13,
     "metadata": {},
     "output_type": "execute_result"
    }
   ],
   "source": [
    "m1.T"
   ]
  },
  {
   "cell_type": "code",
   "execution_count": 20,
   "metadata": {
    "collapsed": false
   },
   "outputs": [
    {
     "data": {
      "text/plain": [
       "matrix([[  9.,   0., -15.,   0.,   0.,   0.,   0.,   0.,   0.],\n",
       "        [  0.,   0.,   0.,   0.,   0.,   0.,   0.,   0.,   0.],\n",
       "        [-15.,   0.,  25.,   0.,   0.,   0.,   0.,   0.,   0.],\n",
       "        [  0.,   0.,   0.,   1.,   0.,   0.,   2.,   0.,   0.],\n",
       "        [  0.,   0.,   0.,   0.,  36.,   0.,   0.,   0.,  24.],\n",
       "        [  0.,   0.,   0.,   0.,   0.,   0.,   0.,   0.,   0.],\n",
       "        [  0.,   0.,   0.,   2.,   0.,   0.,   4.,   0.,   0.],\n",
       "        [  0.,   0.,   0.,   0.,   0.,   0.,   0.,   0.,   0.],\n",
       "        [  0.,   0.,   0.,   0.,  24.,   0.,   0.,   0.,  16.]])"
      ]
     },
     "execution_count": 20,
     "metadata": {},
     "output_type": "execute_result"
    }
   ],
   "source": [
    "import numpy as np\n",
    "np.dot(m1.todense(), m1.todense().T)"
   ]
  },
  {
   "cell_type": "code",
   "execution_count": 4,
   "metadata": {
    "collapsed": false
   },
   "outputs": [],
   "source": [
    "mat = sc.parallelize([\n",
    "   (0, 0, 3.0), (2, 0, -5.0), (3, 2, 1.0),\n",
    "   (4, 1, 6.0), (6, 2, 2.0), (8, 1, 4.0)]\n",
    ")"
   ]
  },
  {
   "cell_type": "code",
   "execution_count": 17,
   "metadata": {
    "collapsed": false
   },
   "outputs": [],
   "source": [
    "mat_t = sc.parallelize([(j, i, v) for i, j, v in l])"
   ]
  },
  {
   "cell_type": "code",
   "execution_count": 26,
   "metadata": {
    "collapsed": false
   },
   "outputs": [
    {
     "data": {
      "text/plain": [
       "[((2, 0), -15.0),\n",
       " ((6, 3), 2.0),\n",
       " ((0, 0), 9.0),\n",
       " ((4, 4), 36.0),\n",
       " ((8, 8), 16.0),\n",
       " ((0, 2), -15.0),\n",
       " ((3, 3), 1.0),\n",
       " ((4, 8), 24.0),\n",
       " ((8, 4), 24.0),\n",
       " ((6, 6), 4.0),\n",
       " ((2, 2), 25.0),\n",
       " ((3, 6), 2.0)]"
      ]
     },
     "execution_count": 26,
     "metadata": {},
     "output_type": "execute_result"
    }
   ],
   "source": [
    "matrix_multiply(mat, mat_t).collect()"
   ]
  },
  {
   "cell_type": "code",
   "execution_count": null,
   "metadata": {
    "collapsed": true
   },
   "outputs": [],
   "source": [
    "number of unique movies: 3883\n",
    "number of users: 6040"
   ]
  },
  {
   "cell_type": "code",
   "execution_count": 68,
   "metadata": {
    "collapsed": false
   },
   "outputs": [
    {
     "data": {
      "text/plain": [
       "True"
      ]
     },
     "execution_count": 68,
     "metadata": {},
     "output_type": "execute_result"
    }
   ],
   "source": [
    "set(x) == set(range(6040))"
   ]
  },
  {
   "cell_type": "code",
   "execution_count": 69,
   "metadata": {
    "collapsed": false
   },
   "outputs": [
    {
     "data": {
      "text/plain": [
       "True"
      ]
     },
     "execution_count": 69,
     "metadata": {},
     "output_type": "execute_result"
    }
   ],
   "source": [
    "set(y) == set(range(3706))"
   ]
  },
  {
   "cell_type": "code",
   "execution_count": 66,
   "metadata": {
    "collapsed": false
   },
   "outputs": [],
   "source": [
    "x = [i[0] for i in pf]"
   ]
  },
  {
   "cell_type": "code",
   "execution_count": 67,
   "metadata": {
    "collapsed": true
   },
   "outputs": [],
   "source": [
    "y = [i[0] for i in uf]"
   ]
  },
  {
   "cell_type": "code",
   "execution_count": null,
   "metadata": {
    "collapsed": false
   },
   "outputs": [],
   "source": [
    "pd.DataFrame(x).describe()"
   ]
  },
  {
   "cell_type": "code",
   "execution_count": null,
   "metadata": {
    "collapsed": false
   },
   "outputs": [],
   "source": [
    "max(sorted(y))"
   ]
  },
  {
   "cell_type": "code",
   "execution_count": null,
   "metadata": {
    "collapsed": false
   },
   "outputs": [],
   "source": [
    "pd.DataFrame(y).describe()"
   ]
  },
  {
   "cell_type": "code",
   "execution_count": null,
   "metadata": {
    "collapsed": true
   },
   "outputs": [],
   "source": [
    "plt.plot(sorted(x), '.')\n",
    "plt.show()"
   ]
  },
  {
   "cell_type": "code",
   "execution_count": null,
   "metadata": {
    "collapsed": false
   },
   "outputs": [],
   "source": [
    "dir(model)"
   ]
  },
  {
   "cell_type": "code",
   "execution_count": null,
   "metadata": {
    "collapsed": false
   },
   "outputs": [],
   "source": [
    "np.mean([i[1] for i in p])"
   ]
  },
  {
   "cell_type": "code",
   "execution_count": null,
   "metadata": {
    "collapsed": false
   },
   "outputs": [],
   "source": [
    "from pyspark.ml.tuning import CrossValidator\n",
    "from pyspark.ml import Pipeline\n",
    "from pyspark.ml.classification import LogisticRegression\n",
    "from pyspark.ml.evaluation import BinaryClassificationEvaluator\n",
    "from pyspark.ml.feature import HashingTF, Tokenizer\n",
    "from pyspark.ml.tuning import CrossValidator, ParamGridBuilder\n",
    "\n",
    "\n",
    "\n",
    "lr = LogisticRegression(maxIter=10)\n",
    "\n",
    "paramGrid = ParamGridBuilder() \\\n",
    "    .addGrid(lr.regParam, np.logspace(-2, 2, 5)) \\\n",
    "    .build()\n",
    "\n",
    "cnt = 0\n",
    "\n",
    "class Evaluator:\n",
    "    def evaluate(self, dataset):\n",
    "        global cnt\n",
    "        cnt += 1\n",
    "        print dataset.count()\n",
    "        print cnt\n",
    "        #print dataset['features'].collect()\n",
    "        #print dataset['label']\n",
    "        print\n",
    "        return 1\n",
    "    \n",
    "crossval = CrossValidator(estimator=lr,\n",
    "                          estimatorParamMaps=paramGrid,\n",
    "                          #evaluator=BinaryClassificationEvaluator(),\n",
    "                          evaluator=Evaluator(),\n",
    "                          numFolds=3)  # use 3+ folds in practice\n",
    "\n",
    "# Run cross-validation, and choose the best set of parameters.\n",
    "cvModel = crossval.fit(training)\n",
    "\n"
   ]
  },
  {
   "cell_type": "code",
   "execution_count": null,
   "metadata": {
    "collapsed": false
   },
   "outputs": [],
   "source": [
    "import os\n",
    "spark_home = os.environ['SPARK_HOME']\n",
    "training = spark.read.format(\"libsvm\").load(os.path.join(spark_home, \"data/mllib/sample_libsvm_data.txt\"))\n"
   ]
  },
  {
   "cell_type": "code",
   "execution_count": null,
   "metadata": {
    "collapsed": false
   },
   "outputs": [],
   "source": [
    "training"
   ]
  }
 ],
 "metadata": {
  "kernelspec": {
   "display_name": "Python 2",
   "language": "python",
   "name": "python2"
  },
  "language_info": {
   "codemirror_mode": {
    "name": "ipython",
    "version": 2
   },
   "file_extension": ".py",
   "mimetype": "text/x-python",
   "name": "python",
   "nbconvert_exporter": "python",
   "pygments_lexer": "ipython2",
   "version": "2.7.6"
  }
 },
 "nbformat": 4,
 "nbformat_minor": 2
}
